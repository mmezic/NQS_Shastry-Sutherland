{
 "cells": [
  {
   "cell_type": "markdown",
   "metadata": {},
   "source": [
    "# Exploring two dimer toy model with (symmetric) RBM"
   ]
  },
  {
   "cell_type": "code",
   "execution_count": 2,
   "metadata": {},
   "outputs": [
    {
     "name": "stdout",
     "output_type": "stream",
     "text": [
      "NetKet version: 3.3.1\n",
      "NumPy version: 1.20.3\n"
     ]
    }
   ],
   "source": [
    "import netket as nk\n",
    "import numpy as np\n",
    "import time\n",
    "import json\n",
    "import plotly.graph_objects as go\n",
    "import matplotlib.pyplot as plt\n",
    "import jax\n",
    "import flax\n",
    "import optax\n",
    "import pprint\n",
    "print(\"NetKet version: {}\".format(nk.__version__))\n",
    "print(\"NumPy version: {}\".format(np.__version__))"
   ]
  },
  {
   "cell_type": "markdown",
   "metadata": {},
   "source": [
    "Setup relevant parameters"
   ]
  },
  {
   "cell_type": "code",
   "execution_count": 3,
   "metadata": {},
   "outputs": [],
   "source": [
    "\"\"\"lattice\"\"\"\n",
    "SITES    = 4             # 4, 8, 16, 20 ... number of vertices in a tile determines the tile shape \n",
    "JEXCH1   = .1            # nn interaction\n",
    "JEXCH2   = 1            # nnn interaction\n",
    "#USE_MSR  = True        # should we use a Marshall sign rule?\n",
    "\"\"\"machine learning\"\"\"\n",
    "MACHINE = \"RBM\"\n",
    "TOTAL_SZ = None            # 0, None ... restriction of Hilbert space\n",
    "DTYPE = np.complex128      #np.float64 #double #np.complex128   # type of weights in neural network\n",
    "SAMPLER = 'exact'       # 'local' = MetropolisLocal, 'exchange' = MetropolisExchange\n",
    "ALPHA = 16               # N_hidden / N_visible\n",
    "ETA   = .005             # learning rate (0.01 usually works)\n",
    "SAMPLES = 1000\n",
    "NUM_ITER = 500\n",
    "num_layers = 2 #2          # number of layers in G-CNN\n",
    "feature_dims = (8,4) #(8,4) #(8,8,8,8) # dimensions of layers in G-CNN\n",
    "\n",
    "OUT_NAME = \"SS-RBM_ops\"+str(SITES)+\"j1=\"+str(JEXCH1) # output file name"
   ]
  },
  {
   "cell_type": "markdown",
   "metadata": {},
   "source": [
    "Lattice and hamiltonian definition: &nbsp; &nbsp; &nbsp; &nbsp; &nbsp; &nbsp; &nbsp; &nbsp; &nbsp; $ H = J_{1} \\sum\\limits_{\\langle i,j \\rangle}^{L} \\vec{\\sigma}_{i} \\cdot \\vec{\\sigma}_{j} + J_{2} \\sum\\limits_{\\langle\\langle i,j \\rangle\\rangle_{SS}}^{L}  \\vec{\\sigma}_{i} \\cdot \\vec{\\sigma}_{j}\\,, $"
   ]
  },
  {
   "cell_type": "code",
   "execution_count": 4,
   "metadata": {},
   "outputs": [],
   "source": [
    "# Define custom graph\n",
    "# edge_colors = []\n",
    "\n",
    "# edge_colors.append([0,1,1])\n",
    "# edge_colors.append([2,3,1])\n",
    "# # # SS 2x2 lattice:\n",
    "# edge_colors.append([1,2,1])\n",
    "# edge_colors.append([0,3,1])\n",
    "# edge_colors.append([0,2,2])\n",
    "# edge_colors.append([1,3,2])\n",
    "# # double bonds\n",
    "# edge_colors.append([0,1,1])\n",
    "# edge_colors.append([2,3,1])\n",
    "# edge_colors.append([1,2,1])\n",
    "# edge_colors.append([0,3,1])\n",
    "\n",
    "# 3-chain:\n",
    "# edge_colors.append([0,1,1])\n",
    "# edge_colors.append([1,2,1])\n",
    "# edge_colors.append([2,0,1])\n",
    "\n",
    "from lattice_and_ops import Lattice\n",
    "lattice = Lattice(SITES)\n",
    "\n",
    "# Define custom graph\n",
    "edge_colors = []\n",
    "for node in range(SITES):\n",
    "    edge_colors.append([node,lattice.rt(node), 1]) #horizontal connections\n",
    "    edge_colors.append([node,lattice.bot(node), 1]) #vertical connections\n",
    "    row, column = lattice.position(node)\n",
    "    if column%2 == 0:\n",
    "        if row%2 == 0:\n",
    "            edge_colors.append([node,lattice.lrt(node),2])\n",
    "        else:\n",
    "            edge_colors.append([node,lattice.llft(node),2])\n",
    "\n",
    "# Define the netket graph object\n",
    "g = nk.graph.Graph(edges=edge_colors) #,n_nodes=3)\n",
    "N = g.n_nodes\n",
    "\n",
    "hilbert = nk.hilbert.Spin(s=.5, N=g.n_nodes, total_sz=TOTAL_SZ)\n",
    "\n",
    "\n",
    "#Sigma^z*Sigma^z interactions\n",
    "sigmaz = [[1, 0], [0, -1]]\n",
    "mszsz = (np.kron(sigmaz, sigmaz)) #=sz*sz\n",
    "#Exchange interactions\n",
    "exchange = np.asarray([[0, 0, 0, 0], [0, 0, 2, 0], [0, 2, 0, 0], [0, 0, 0, 0]]) #=sx*sx+sy*sy = 1/2*(sp*sm+sm*sp)\n",
    "full_spin = mszsz+exchange # = S*S = sx*sx + sy*sy + sz*sz\n",
    "bond_color = [1, 2, 1, 2]"
   ]
  },
  {
   "cell_type": "code",
   "execution_count": 62,
   "metadata": {},
   "outputs": [],
   "source": [
    "# translations = []\n",
    "# for perm in g.automorphisms():\n",
    "#     aperm = np.asarray(perm)\n",
    "#     if True:\n",
    "#     # if (aperm[0],aperm[1]) in ((0,1),(1,0),(2,3),(3,2)): # translations for 2*2 SS model\n",
    "#     # if (aperm[2],aperm[0]) in ((2,0),(3,0),(0,1),(1,2)):#,(2,3,1)): # N = 16, two dimmers with just translation\n",
    "#     # if (aperm[0],aperm[1],aperm[3]) in ((0,1,3),(3,2,0),(2,3,1),(1,0,2)): # N = 16, two dimmers plus second translation option\n",
    "#         translations.append(nk.utils.group._permutation_group.Permutation(aperm))\n",
    "# # print(translations)\n",
    "# translation_group = nk.utils.group._permutation_group.PermutationGroup(translations,degree=N)\n",
    "# # characters = np.array([1,-1,-1,1,1,-1,-1,1],dtype=complex) # in case of just two dimers"
   ]
  },
  {
   "cell_type": "code",
   "execution_count": 5,
   "metadata": {},
   "outputs": [
    {
     "name": "stdout",
     "output_type": "stream",
     "text": [
      "There are 8 full symmetries:\n",
      "Permutation([0, 1, 2, 3]) 1\n",
      "Permutation([0, 2, 1, 3]) -1\n",
      "Permutation([1, 0, 3, 2]) 1\n",
      "Permutation([1, 3, 0, 2]) -1\n",
      "Permutation([2, 0, 3, 1]) -1\n",
      "Permutation([2, 3, 0, 1]) 1\n",
      "Permutation([3, 1, 2, 0]) -1\n",
      "Permutation([3, 2, 1, 0]) 1\n",
      "[ 1.+0.j -1.+0.j  1.+0.j -1.+0.j -1.+0.j  1.+0.j -1.+0.j  1.+0.j]\n",
      "[ 1.+0.j -1.+0.j  1.+0.j -1.+0.j -1.+0.j  1.+0.j -1.+0.j  1.+0.j]\n"
     ]
    }
   ],
   "source": [
    "\n",
    "print(\"There are\", len(g.automorphisms()), \"full symmetries:\")\n",
    "if JEXCH1 < 0.5:\n",
    "    characters = []\n",
    "    from lattice_and_ops import permutation_sign\n",
    "    for perm in g.automorphisms():\n",
    "        print(perm, permutation_sign(np.asarray(perm)))\n",
    "        characters.append(permutation_sign(np.asarray(perm)))\n",
    "    characters_dimer = np.asarray(characters,dtype=complex) #np.array([1,-1,1,-1,-1,1,-1,1], dtype=complex) # 2*2 SS model\n",
    "    characters_dimer_msr = characters_dimer\n",
    "else:\n",
    "    characters_dimer = np.ones((len(g.automorphisms()),), dtype=complex)\n",
    "    characters_dimer_msr = characters_dimer\n",
    "print(characters_dimer)\n",
    "print(characters_dimer_msr)\n",
    "# print(\"There are\", len(translation_group),\"restricted symmetries:\")\n",
    "# print(translation_group)"
   ]
  },
  {
   "cell_type": "code",
   "execution_count": 6,
   "metadata": {},
   "outputs": [
    {
     "name": "stdout",
     "output_type": "stream",
     "text": [
      "PermutationGroup(elems=[Permutation([0, 1, 2, 3]), Permutation([1, 0, 3, 2]), Permutation([2, 3, 0, 1]), Permutation([3, 2, 1, 0])], degree=4)\n",
      "8\n",
      "Permutation([0, 1, 2, 3])\n",
      "Permutation([0, 2, 1, 3])\n",
      "Permutation([1, 0, 3, 2])\n",
      "Permutation([1, 3, 0, 2])\n",
      "Permutation([2, 0, 3, 1])\n",
      "Permutation([2, 3, 0, 1])\n",
      "Permutation([3, 1, 2, 0])\n",
      "Permutation([3, 2, 1, 0])\n"
     ]
    }
   ],
   "source": [
    "translations = []\n",
    "for perm in g.automorphisms():\n",
    "    aperm = np.asarray(perm)\n",
    "    if (aperm[0],aperm[1]) in ((0,1),(1,0),(2,3),(3,2)):\n",
    "    # if (aperm[0],aperm[1],aperm[3]) in ((0,1,3),):#(2,3,1),(8,9,11),(10,11,9)): # N = 16\n",
    "    # if (aperm[0],aperm[1],aperm[2],aperm[3]) in ((4,7,6,5),): # N = 8\n",
    "        translations.append(nk.utils.group._permutation_group.Permutation(aperm))\n",
    "# print(translations)\n",
    "translation_group = nk.utils.group._permutation_group.PermutationGroup(translations,degree=SITES)\n",
    "print(translation_group)\n",
    "print(len(g.automorphisms()))\n",
    "for perm in g.automorphisms():\n",
    "    print(perm)"
   ]
  },
  {
   "cell_type": "markdown",
   "metadata": {},
   "source": [
    "## Hamoltonian"
   ]
  },
  {
   "cell_type": "code",
   "execution_count": 7,
   "metadata": {},
   "outputs": [],
   "source": [
    "from lattice_and_ops import HamOps\n",
    "ho = HamOps()\n",
    "ha = nk.operator.GraphOperator(hilbert, graph=g, bond_ops=ho.bond_operator(JEXCH1,JEXCH2, use_MSR=False), bond_ops_colors=ho.bond_color)\n",
    "ha_MSR = nk.operator.GraphOperator(hilbert, graph=g, bond_ops=ho.bond_operator(JEXCH1,JEXCH2, use_MSR=True), bond_ops_colors=ho.bond_color)\n"
   ]
  },
  {
   "cell_type": "code",
   "execution_count": 66,
   "metadata": {},
   "outputs": [],
   "source": [
    "# # Quick different definition using Hypercube & Heisenberg\n",
    "# L = 4\n",
    "# g = nk.graph.Hypercube(length=L, n_dim=2, pbc=True)\n",
    "# hilbert = nk.hilbert.Spin(s=0.5, total_sz=TOTAL_SZ, N=g.n_nodes)\n",
    "# ha = nk.operator.Heisenberg(hilbert=hilbert, graph=g, sign_rule=False)\n",
    "# ha_MSR = nk.operator.Heisenberg(hilbert=hilbert, graph=g, sign_rule=True) "
   ]
  },
  {
   "cell_type": "markdown",
   "metadata": {},
   "source": [
    "## Exact diagonalization"
   ]
  },
  {
   "cell_type": "code",
   "execution_count": 8,
   "metadata": {},
   "outputs": [
    {
     "name": "stdout",
     "output_type": "stream",
     "text": [
      "Ground state energy: -6.000000000000002 \n",
      "It took  2.97 s = 0.05 min\n"
     ]
    }
   ],
   "source": [
    "if g.n_nodes < 20:\n",
    "    start = time.time()\n",
    "    if g.n_nodes < 15:\n",
    "        evals, eigvects = nk.exact.full_ed(ha, compute_eigenvectors=True)\n",
    "    else:\n",
    "        evals, eigvects = nk.exact.lanczos_ed(ha, k=3, compute_eigenvectors=True)\n",
    "    end = time.time()\n",
    "    diag_time = end - start\n",
    "    print(\"Ground state energy:\",evals[0], \"\\nIt took \", round(diag_time,2), \"s =\", round((diag_time)/60,2),\"min\")\n",
    "else:\n",
    "    print(\"System is too large for exact diagonalization. Setting exact_ground_energy = 0 (which is wrong)\")\n",
    "    evals = [0,0,0]\n",
    "    eigvects = None \n",
    "exact_ground_energy = evals[0]\n",
    "# -36.2460684609957 "
   ]
  },
  {
   "cell_type": "code",
   "execution_count": 68,
   "metadata": {},
   "outputs": [
    {
     "name": "stdout",
     "output_type": "stream",
     "text": [
      "[-6.  -2.  -2.  -2.  -2.  -2.  -2.   0.4  1.2  1.2  1.2  2.8  2.8  2.8\n",
      "  2.8  2.8]\n"
     ]
    }
   ],
   "source": [
    "print(evals)\n",
    "# print([eigvects[i,0] if np.abs(eigvects[i,0]) > 0.001 else 0 for i in range(len(eigvects[:,0]))])"
   ]
  },
  {
   "cell_type": "code",
   "execution_count": 69,
   "metadata": {},
   "outputs": [],
   "source": [
    "from scipy.sparse.linalg import eigsh"
   ]
  },
  {
   "cell_type": "code",
   "execution_count": 70,
   "metadata": {},
   "outputs": [],
   "source": [
    "evals, eigvects = eigsh(ha_MSR.to_sparse())"
   ]
  },
  {
   "cell_type": "code",
   "execution_count": 71,
   "metadata": {},
   "outputs": [
    {
     "data": {
      "text/plain": [
       "array([False, False, False,  True, False,  True, False, False, False,\n",
       "       False,  True, False,  True, False, False, False])"
      ]
     },
     "execution_count": 71,
     "metadata": {},
     "output_type": "execute_result"
    }
   ],
   "source": [
    "(eigvects[:,0] > 0.00001) + (eigvects[:,0] < -0.00001)"
   ]
  },
  {
   "cell_type": "code",
   "execution_count": 72,
   "metadata": {},
   "outputs": [
    {
     "name": "stdout",
     "output_type": "stream",
     "text": [
      "3 0.5000000000000002\n",
      "5 -0.5\n",
      "10 -0.5\n",
      "12 0.4999999999999999\n"
     ]
    }
   ],
   "source": [
    "arr = (eigvects[:,0] > 0.00001) + (eigvects[:,0] < -0.00001)\n",
    "for i,j in enumerate(arr):\n",
    "    if j:\n",
    "        print(i,eigvects[i,0])"
   ]
  },
  {
   "cell_type": "markdown",
   "metadata": {},
   "source": [
    "## RBM\n",
    "```"
   ]
  },
  {
   "cell_type": "code",
   "execution_count": 21,
   "metadata": {},
   "outputs": [],
   "source": [
    "if MACHINE == \"ModPhase\":\n",
    "    # A linear schedule varies the learning rate from 0 to 0.01 across 600 steps.\n",
    "    modulus_schedule=optax.linear_schedule(0,0.01,NUM_ITER)\n",
    "    modulus_schedule_MSR=optax.linear_schedule(0,0.01,NUM_ITER)\n",
    "\n",
    "    # The phase starts with a larger learning rate and then is decreased.\n",
    "    phase_schedule=optax.linear_schedule(0.05,0.01,NUM_ITER)\n",
    "    phase_schedule_MSR=optax.linear_schedule(0.05,0.01,NUM_ITER)\n",
    "\n",
    "    # Combine the linear schedule with SGD\n",
    "    optm=optax.sgd(modulus_schedule)\n",
    "    optp=optax.sgd(phase_schedule)\n",
    "    optm_MSR=optax.sgd(modulus_schedule_MSR)\n",
    "    optp_MSR=optax.sgd(phase_schedule_MSR)\n",
    "\n",
    "    # The multi-transform optimizer uses different optimisers for different parts of the\n",
    "    # parameters.\n",
    "    optimizer = optax.multi_transform({'o1': optm, 'o2': optp}, flax.core.freeze({\"Dense_0\":\"o1\", \"Dense_1\":\"o2\"}))\n",
    "    optimizer_MSR = optax.multi_transform({'o1': optm_MSR, 'o2': optp_MSR}, flax.core.freeze({\"Dense_0\":\"o1\", \"Dense_1\":\"o2\"}))\n",
    "else:\n",
    "    optimizer = nk.optimizer.Sgd(learning_rate=ETA)\n",
    "    optimizer_MSR = nk.optimizer.Sgd(learning_rate=ETA)"
   ]
  },
  {
   "cell_type": "code",
   "execution_count": 22,
   "metadata": {},
   "outputs": [],
   "source": [
    "#GCNN\n",
    "#definice modelu, sampleru atd.\n",
    "\n",
    "#Feature dimensions of hidden layers, from first to last\n",
    "#feature_dims = (8,8,8,8)\n",
    "\n",
    "#Number of layers\n",
    "#num_layers = 4\n",
    "\n",
    "#Define the GCNN\n",
    "# machine = nk.models.GCNN(symmetries = g.automorphisms(), layers = num_layers, features = feature_dims)\n",
    "# machine_MSR = nk.models.GCNN(symmetries = g.automorphisms(), layers = num_layers, features = feature_dims)"
   ]
  },
  {
   "cell_type": "code",
   "execution_count": 23,
   "metadata": {},
   "outputs": [],
   "source": [
    "#definice modelu, sampleru atd.\n",
    "if MACHINE == \"RBM\":\n",
    "    machine =     nk.models.RBM(dtype=DTYPE, alpha=ALPHA)#, use_visible_bias=False) \n",
    "    machine_MSR = nk.models.RBM(dtype=DTYPE, alpha=ALPHA)#, use_visible_bias=False)\n",
    "elif MACHINE == \"RBMModPhase\":\n",
    "    machine = nk.models.RBMModPhase(alpha=ALPHA, use_hidden_bias=True, dtype=DTYPE)\n",
    "    machine_MSR = nk.models.RBMModPhase(alpha=ALPHA, use_hidden_bias=True, dtype=DTYPE)\n",
    "elif MACHINE == \"GCNN\":\n",
    "    machine     = nk.models.GCNN(symmetries=g.automorphisms(), dtype=DTYPE, layers=num_layers, features=feature_dims, characters=characters_dimer)\n",
    "    machine_MSR = nk.models.GCNN(symmetries=g.automorphisms(), dtype=DTYPE, layers=num_layers, features=feature_dims, characters=characters_dimer_msr)\n",
    "elif MACHINE == \"RBMSymm\":\n",
    "    machine =     nk.models.RBMSymm(g.automorphisms(), dtype=DTYPE, alpha=ALPHA)#, use_visible_bias=False) \n",
    "    machine_MSR = nk.models.RBMSymm(g.automorphisms(), dtype=DTYPE, alpha=ALPHA)#, use_visible_bias=False)\n",
    "elif MACHINE == \"RBMSymm_transl\":\n",
    "    machine =     nk.models.RBMSymm(translation_group, dtype=DTYPE, alpha=ALPHA)#, use_visible_bias=False) \n",
    "    machine_MSR = nk.models.RBMSymm(translation_group, dtype=DTYPE, alpha=ALPHA)#, use_visible_bias=False)\n",
    "else:\n",
    "    raise Exception(str(\"undefined MACHINE: \")+str(MACHINE))\n",
    "\n",
    "# Meropolis Exchange Sampling\n",
    "if SAMPLER == 'local':\n",
    "    sampler = nk.sampler.MetropolisLocal(hilbert=hilbert)\n",
    "    sampler_MSR = nk.sampler.MetropolisLocal(hilbert=hilbert)\n",
    "elif SAMPLER == 'exact':\n",
    "    sampler = nk.sampler.ExactSampler(hilbert=hilbert)\n",
    "    sampler_MSR = nk.sampler.ExactSampler(hilbert=hilbert)\n",
    "else:\n",
    "    sampler = nk.sampler.MetropolisExchange(hilbert=hilbert, graph=g)\n",
    "    sampler_MSR = nk.sampler.MetropolisExchange(hilbert=hilbert, graph=g)\n",
    "    if SAMPLER != 'exchange':\n",
    "        print(\"Warning! Undefined fq.SAMPLER:\", SAMPLER, \", dafaulting to MetropolisExchange fq.SAMPLER\")\n",
    "\n",
    "\n",
    "# Stochastic Reconfiguration\n",
    "sr  = nk.optimizer.SR(diag_shift=0.01)\n",
    "sr_MSR  = nk.optimizer.SR(diag_shift=0.01)\n",
    "\n",
    "# The variational state (former name: nk.variational.MCState)\n",
    "vss = nk.vqs.MCState(sampler, machine, n_samples=SAMPLES)\n",
    "vs_MSR  = nk.vqs.MCState(sampler_MSR, machine_MSR, n_samples=SAMPLES)\n",
    "vss.init_parameters(jax.nn.initializers.normal(stddev=0.001))\n",
    "vs_MSR.init_parameters(jax.nn.initializers.normal(stddev=0.001))\n",
    "\n",
    "\n",
    "gs_normal = nk.VMC(hamiltonian=ha ,optimizer=optimizer,preconditioner=sr,variational_state=vss)               # 0 ... symmetric\n",
    "gs_MSR = nk.VMC(hamiltonian=ha_MSR ,optimizer=optimizer_MSR,preconditioner=sr_MSR,variational_state=vs_MSR)   # 1 ... symmetric+MSR"
   ]
  },
  {
   "cell_type": "code",
   "execution_count": 24,
   "metadata": {},
   "outputs": [
    {
     "data": {
      "text/plain": [
       "324"
      ]
     },
     "execution_count": 24,
     "metadata": {},
     "output_type": "execute_result"
    }
   ],
   "source": [
    "vss.n_parameters"
   ]
  },
  {
   "cell_type": "markdown",
   "metadata": {},
   "source": [
    "# Calculation"
   ]
  },
  {
   "cell_type": "code",
   "execution_count": 25,
   "metadata": {},
   "outputs": [
    {
     "name": "stdout",
     "output_type": "stream",
     "text": [
      "J_1 = 0.1\n",
      "Expected exact energy: -6.000000000000002\n"
     ]
    },
    {
     "name": "stderr",
     "output_type": "stream",
     "text": [
      "  0%|          | 0/150 [00:00<?, ?it/s]"
     ]
    },
    {
     "name": "stdout",
     "output_type": "stream",
     "text": [
      "x=Traced<ShapedArray(complex128[64])>with<DynamicJaxprTrace(level=0/1)>  target=Traced<ShapedArray(complex128[64])>with<DynamicJaxprTrace(level=0/1)>\n",
      "x=Traced<ShapedArray(complex128[4,64])>with<DynamicJaxprTrace(level=0/1)>  target=Traced<ShapedArray(complex128[4,64])>with<DynamicJaxprTrace(level=0/1)>\n",
      "x=Traced<ShapedArray(complex128[4])>with<DynamicJaxprTrace(level=0/1)>  target=Traced<ShapedArray(complex128[4])>with<DynamicJaxprTrace(level=0/1)>\n",
      "x=Traced<ShapedArray(complex128[64])>with<DynamicJaxprTrace(level=1/2)>  target=Traced<ShapedArray(complex128[64])>with<DynamicJaxprTrace(level=1/2)>\n",
      "x=Traced<ShapedArray(complex128[4,64])>with<DynamicJaxprTrace(level=1/2)>  target=Traced<ShapedArray(complex128[4,64])>with<DynamicJaxprTrace(level=1/2)>\n",
      "x=Traced<ShapedArray(complex128[4])>with<DynamicJaxprTrace(level=1/2)>  target=Traced<ShapedArray(complex128[4])>with<DynamicJaxprTrace(level=1/2)>\n",
      "x=Traced<ShapedArray(complex128[64])>with<DynamicJaxprTrace(level=1/2)>  target=Traced<ShapedArray(complex128[64])>with<DynamicJaxprTrace(level=1/2)>\n",
      "x=Traced<ShapedArray(complex128[4,64])>with<DynamicJaxprTrace(level=1/2)>  target=Traced<ShapedArray(complex128[4,64])>with<DynamicJaxprTrace(level=1/2)>\n",
      "x=Traced<ShapedArray(complex128[4])>with<DynamicJaxprTrace(level=1/2)>  target=Traced<ShapedArray(complex128[4])>with<DynamicJaxprTrace(level=1/2)>\n",
      "x=Traced<ShapedArray(complex128[64])>with<DynamicJaxprTrace(level=2/2)>  target=Traced<ShapedArray(complex128[64])>with<DynamicJaxprTrace(level=2/2)>\n",
      "x=Traced<ShapedArray(complex128[4,64])>with<DynamicJaxprTrace(level=2/2)>  target=Traced<ShapedArray(complex128[4,64])>with<DynamicJaxprTrace(level=2/2)>\n",
      "x=Traced<ShapedArray(complex128[4])>with<DynamicJaxprTrace(level=2/2)>  target=Traced<ShapedArray(complex128[4])>with<DynamicJaxprTrace(level=2/2)>\n",
      "x=Traced<ShapedArray(complex128[64]):JaxprTrace(level=1/2)>  target=Traced<ShapedArray(complex128[64]):JaxprTrace(level=1/2)>\n",
      "x=Traced<ShapedArray(complex128[4,64]):JaxprTrace(level=1/2)>  target=Traced<ShapedArray(complex128[4,64]):JaxprTrace(level=1/2)>\n",
      "x=Traced<ShapedArray(complex128[4]):JaxprTrace(level=1/2)>  target=Traced<ShapedArray(complex128[4]):JaxprTrace(level=1/2)>\n"
     ]
    },
    {
     "name": "stderr",
     "output_type": "stream",
     "text": [
      "100%|██████████| 150/150 [00:08<00:00, 17.50it/s, Energy=2.7958+0.0003j ± 0.0057 [σ²=0.0324, R̂=0.9991]]   \n"
     ]
    },
    {
     "name": "stdout",
     "output_type": "stream",
     "text": [
      "The type 0 of RBM calculation took 0.27701428333918254 min\n"
     ]
    },
    {
     "name": "stderr",
     "output_type": "stream",
     "text": [
      "100%|██████████| 150/150 [00:09<00:00, 15.79it/s, Energy=0.678-0.000j ± 0.013 [σ²=0.183, R̂=0.9976]]"
     ]
    },
    {
     "name": "stdout",
     "output_type": "stream",
     "text": [
      "The type 1 of RBM calculation took 0.15933237075805665 min\n"
     ]
    },
    {
     "name": "stderr",
     "output_type": "stream",
     "text": [
      "\n"
     ]
    }
   ],
   "source": [
    "no_of_runs = 2 #2 ... bude se pocitat i druhý způsob (za použití MSR)\n",
    "use_MSR = 0 # in case of one run\n",
    "# NUM_ITER = 20*3\n",
    "print(\"J_1 =\", JEXCH1)\n",
    "if exact_ground_energy != 0:\n",
    "    print(\"Expected exact energy:\", exact_ground_energy)\n",
    "for i,gs in enumerate([gs_normal,gs_MSR][use_MSR:use_MSR+no_of_runs]):\n",
    "    start = time.time()\n",
    "    gs.run(out=OUT_NAME+str(i), n_iter=int(NUM_ITER))#, obs={'symmetry':P(0,1)})\n",
    "    end = time.time()\n",
    "    print(\"The type {} of RBM calculation took {} min\".format(i, (end-start)/60))\n"
   ]
  },
  {
   "cell_type": "code",
   "execution_count": null,
   "metadata": {},
   "outputs": [
    {
     "name": "stdout",
     "output_type": "stream",
     "text": [
      "Trained RBM without MSR:\n",
      "m_d^2 = -0.2590+0.0001j ± 0.0043 [σ²=0.0187, R̂=0.9976]\n",
      "m_p = 0.000-0.003j ± 0.043 [σ²=1.893, R̂=1.0012]\n",
      "m_s^2 = 1.0154+0.0012j ± 0.0095 [σ²=0.0904, R̂=0.9970]\n",
      "m_s^2 = 0.1438+0.0006j ± 0.0031 [σ²=0.0099, R̂=0.9986] <--- no MSR!!\n",
      "Trained RBM with MSR:\n",
      "m_d^2 = -3.333e-01+1.774e-08j ± 1.142e-08 [σ²=1.315e-13, R̂=1.0001]\n",
      "m_p = -0.042+0.000j ± 0.046 [σ²=2.090, R̂=0.9978]\n",
      "m_s^2 = 1.1278-0.0000j ± 0.0038 [σ²=0.0147, R̂=1.0045]\n",
      "m_s^2 = 1.250e-01+7.959e-11j ± 9.731e-09 [σ²=9.545e-14, R̂=0.9989] <--- no MSR!!\n"
     ]
    }
   ],
   "source": [
    "from lattice_and_ops import Operators, Lattice\n",
    "ops = Operators(lattice,hilbert,mszsz,exchange)\n",
    "for i,gs in enumerate([gs_normal,gs_MSR][use_MSR:use_MSR+no_of_runs]):\n",
    "    print(\"Trained RBM with MSR:\" if i else \"Trained RBM without MSR:\")\n",
    "    print(\"m_d^2 =\", gs.estimate(ops.m_dimer_op))\n",
    "    print(\"m_p =\", gs.estimate(ops.m_plaquette_op_MSR))\n",
    "    print(\"m_s^2 =\", gs.estimate(ops.m_s2_op_MSR))\n",
    "    print(\"m_s^2 =\", gs.estimate(ops.m_s2_op), \"<--- no MSR!!\")"
   ]
  },
  {
   "cell_type": "code",
   "execution_count": null,
   "metadata": {},
   "outputs": [
    {
     "name": "stdout",
     "output_type": "stream",
     "text": [
      "2.000e+00+0.000e+00j ± nan [σ²=0.000e+00]\n"
     ]
    }
   ],
   "source": [
    "print(gs_normal.estimate(2*nk.operator.LocalOperator(hilbert,operators=[[1,0],[0,1]],acting_on=[0])))"
   ]
  },
  {
   "cell_type": "markdown",
   "metadata": {},
   "source": [
    "## Energy"
   ]
  },
  {
   "cell_type": "code",
   "execution_count": 19,
   "metadata": {},
   "outputs": [
    {
     "name": "stdout",
     "output_type": "stream",
     "text": [
      "[False False False False False  True False False False False False  True\n",
      " False False False  True False False False False False  True False False\n",
      " False False False False False  True False  True False False  True  True\n",
      " False  True False False  True  True  True  True  True False False  True\n",
      "  True  True  True  True  True  True  True  True  True  True  True  True\n",
      "  True  True  True  True  True  True  True False  True  True  True  True\n",
      "  True  True  True  True False False  True  True  True  True  True  True\n",
      "  True  True  True  True False  True  True  True  True False  True  True\n",
      "  True  True  True  True  True  True  True  True  True  True  True  True\n",
      "  True  True  True  True  True  True  True  True  True  True  True  True\n",
      "  True  True  True  True  True  True  True  True  True  True  True  True\n",
      "  True  True  True  True  True  True  True  True  True  True  True  True\n",
      "  True  True  True  True  True  True]\n"
     ]
    }
   ],
   "source": [
    "threshold_energy = 0.995*exact_ground_energy\n",
    "data = []\n",
    "for i in range(no_of_runs):\n",
    "    data.append(json.load(open(OUT_NAME+str(i)+\".log\")))\n",
    "if type(data[0][\"Energy\"][\"Mean\"]) == dict: #DTYPE in (np.complex128, np.complex64):#, np.float64):# and False:\n",
    "    energy_convergence = [data[i][\"Energy\"][\"Mean\"][\"real\"] for i in range(no_of_runs)]\n",
    "else:\n",
    "    energy_convergence = [data[i][\"Energy\"][\"Mean\"] for i in range(no_of_runs)]\n",
    "\n",
    "print(np.array(energy_convergence[0]) < threshold_energy)"
   ]
  },
  {
   "cell_type": "code",
   "execution_count": 80,
   "metadata": {},
   "outputs": [],
   "source": [
    "# exact energy line\n",
    "figure = go.Figure(\n",
    "    data=[go.Scatter(x=(0,NUM_ITER),y=(exact_ground_energy,exact_ground_energy),mode=\"lines\",line=go.scatter.Line(color=\"#000000\",width=1), name=\"exact energy\"),go.Scatter(x=(0,NUM_ITER),y=(.995*exact_ground_energy,.995*exact_ground_energy),mode=\"lines\",line=go.scatter.Line(color=\"#000000\",width=1), name=\"99.5 % of exact energy\")], \n",
    "    layout=go.Layout(template=\"simple_white\",\n",
    "        xaxis=dict(title=\"Iteration\", mirror=True, showline=True),\n",
    "        yaxis=dict(title=\"Energy\", mirror=True, showline=True),\n",
    "        title=(\"<b>\"+\"S-S\"+\" model </b>, L=\"+str(SITES)+\", J2 =\"+str(JEXCH2)+ \", J1 =\"+str(JEXCH1)+\" , η=\"+str(ETA)+\", α=\"+str(ALPHA)+\", samples=\"+str(SAMPLES))))"
   ]
  },
  {
   "cell_type": "code",
   "execution_count": 85,
   "metadata": {},
   "outputs": [
    {
     "data": {
      "application/vnd.plotly.v1+json": {
       "config": {
        "plotlyServerURL": "https://plot.ly"
       },
       "data": [
        {
         "line": {
          "color": "#000000",
          "width": 1
         },
         "mode": "lines",
         "name": "exact energy",
         "type": "scatter",
         "x": [
          0,
          150
         ],
         "y": [
          -6.000000000000002,
          -6.000000000000002
         ]
        },
        {
         "line": {
          "color": "#000000",
          "width": 1
         },
         "mode": "lines",
         "name": "99.5 % of exact energy",
         "type": "scatter",
         "x": [
          0,
          150
         ],
         "y": [
          -5.9700000000000015,
          -5.9700000000000015
         ]
        },
        {
         "name": "normal basis",
         "type": "scatter",
         "x": [
          0,
          1,
          2,
          3,
          4,
          5,
          6,
          7,
          8,
          9,
          10,
          11,
          12,
          13,
          14,
          15,
          16,
          17,
          18,
          19,
          20,
          21,
          22,
          23,
          24,
          25,
          26,
          27,
          28,
          29,
          30,
          31,
          32,
          33,
          34,
          35,
          36,
          37,
          38,
          39,
          40,
          41,
          42,
          43,
          44,
          45,
          46,
          47,
          48,
          49,
          50,
          51,
          52,
          53,
          54,
          55,
          56,
          57,
          58,
          59,
          60,
          61,
          62,
          63,
          64,
          65,
          66,
          67,
          68,
          69,
          70,
          71,
          72,
          73,
          74,
          75,
          76,
          77,
          78,
          79,
          80,
          81,
          82,
          83,
          84,
          85,
          86,
          87,
          88,
          89,
          90,
          91,
          92,
          93,
          94,
          95,
          96,
          97,
          98,
          99,
          100,
          101,
          102,
          103,
          104,
          105,
          106,
          107,
          108,
          109,
          110,
          111,
          112,
          113,
          114,
          115,
          116,
          117,
          118,
          119,
          120,
          121,
          122,
          123,
          124,
          125,
          126,
          127,
          128,
          129,
          130,
          131,
          132,
          133,
          134,
          135,
          136,
          137,
          138,
          139,
          140,
          141,
          142,
          143,
          144,
          145,
          146,
          147,
          148,
          149
         ],
         "y": [
          2.8000003096156174,
          2.800008578478273,
          2.8000133761891215,
          2.799979270819193,
          2.79985317715928,
          2.800089981285633,
          2.8001449672387313,
          2.799918173270285,
          2.8001596652928575,
          2.7999213170384,
          2.8000760926074784,
          2.8001287735761156,
          2.7999025158370174,
          2.799733657202537,
          2.800189713576288,
          2.800013308814374,
          2.7998716095207907,
          2.7999508594331433,
          2.799971323087277,
          2.8001069910956926,
          2.799950164740497,
          2.799969234753563,
          2.800037866751812,
          2.8000701566208885,
          2.8000767277795116,
          2.7999164433430614,
          2.800123806246068,
          2.8001936148486766,
          2.8005179428983027,
          2.7999101367010537,
          2.7998951688776885,
          2.8001425656794647,
          2.800171292512437,
          2.799934944584139,
          2.8001763281541274,
          2.8001000225454225,
          2.7998375834092424,
          2.8001522778529226,
          2.799969376763989,
          2.799955138116049,
          2.799999359587934,
          2.7999992874339066,
          2.8001627559967606,
          2.7998594828783108,
          2.799902373923676,
          2.799974418601653,
          2.800227434157593,
          2.800004921560751,
          2.7997701944763023,
          2.7997042968815102,
          2.8000380055866656,
          2.7995794693233504,
          2.7998676937790177,
          2.799856421857547,
          2.7996035395992425,
          2.800448508889194,
          2.7999382649708644,
          2.7997064994337575,
          2.8001856074420775,
          2.7999095160159424,
          2.8002971001755155,
          2.8009108824350486,
          2.800498134404813,
          2.800552064369692,
          2.7997334612916926,
          2.7996727290225794,
          2.800022197185345,
          2.7995919478100917,
          2.80037274707667,
          2.79873002431393,
          2.7994271301228113,
          2.8000831690357906,
          2.800313861362726,
          2.8000412273091038,
          2.7995610708326106,
          2.800045249244803,
          2.7997186041162654,
          2.799734038850026,
          2.8008489238343293,
          2.800171852616364,
          2.800302383440469,
          2.8006923384747417,
          2.7998288700347005,
          2.799649224970236,
          2.7998007645455596,
          2.799560779905161,
          2.799034883261485,
          2.800736142401292,
          2.800525676822044,
          2.800338225769111,
          2.7993470887512926,
          2.7989975665898394,
          2.799247138555131,
          2.8000759193744695,
          2.800466721600675,
          2.7984927405602504,
          2.79892506896383,
          2.799776584982957,
          2.802130209874871,
          2.8014285270847505,
          2.799775511060305,
          2.8008792625634684,
          2.8005558103858244,
          2.799628555271964,
          2.801326349730013,
          2.7992132356838724,
          2.8004884120561586,
          2.799479920930488,
          2.8017471108877605,
          2.801538703286544,
          2.802562133744858,
          2.8024255600081633,
          2.799871209913357,
          2.7999936782881085,
          2.7986899430372048,
          2.7991524734709317,
          2.7993644649225193,
          2.7995608075045864,
          2.79853499156403,
          2.7985224161936504,
          2.797215662875753,
          2.8011533232540975,
          2.7992932466642526,
          2.798330343054669,
          2.79790049674379,
          2.7978743060769387,
          2.798427781005218,
          2.795756326596211,
          2.7984351170193618,
          2.7992384797524763,
          2.799372554928095,
          2.7994433414648934,
          2.7968377772648663,
          2.7995027254570313,
          2.7956819003570548,
          2.801369283877461,
          2.7982945676952555,
          2.799381075375164,
          2.7954100463571936,
          2.79746308609429,
          2.7924035217866425,
          2.7995646437292447,
          2.7935418008379993,
          2.802862365462861,
          2.796579188306395,
          2.7989359572258308,
          2.7942374494158537,
          2.7933734062603817,
          2.80089535293828,
          2.7961808610973002
         ]
        },
        {
         "name": "MSR basis",
         "type": "scatter",
         "x": [
          0,
          1,
          2,
          3,
          4,
          5,
          6,
          7,
          8,
          9,
          10,
          11,
          12,
          13,
          14,
          15,
          16,
          17,
          18,
          19,
          20,
          21,
          22,
          23,
          24,
          25,
          26,
          27,
          28,
          29,
          30,
          31,
          32,
          33,
          34,
          35,
          36,
          37,
          38,
          39,
          40,
          41,
          42,
          43,
          44,
          45,
          46,
          47,
          48,
          49,
          50,
          51,
          52,
          53,
          54,
          55,
          56,
          57,
          58,
          59,
          60,
          61,
          62,
          63,
          64,
          65,
          66,
          67,
          68,
          69,
          70,
          71,
          72,
          73,
          74,
          75,
          76,
          77,
          78,
          79,
          80,
          81,
          82,
          83,
          84,
          85,
          86,
          87,
          88,
          89,
          90,
          91,
          92,
          93,
          94,
          95,
          96,
          97,
          98,
          99,
          100,
          101,
          102,
          103,
          104,
          105,
          106,
          107,
          108,
          109,
          110,
          111,
          112,
          113,
          114,
          115,
          116,
          117,
          118,
          119,
          120,
          121,
          122,
          123,
          124,
          125,
          126,
          127,
          128,
          129,
          130,
          131,
          132,
          133,
          134,
          135,
          136,
          137,
          138,
          139,
          140,
          141,
          142,
          143,
          144,
          145,
          146,
          147,
          148,
          149
         ],
         "y": [
          1.184097556173086,
          1.2285063679037078,
          1.201689392153193,
          1.2222939920233942,
          1.176156901985744,
          1.1713844733277627,
          1.2269906325767226,
          1.1888948222140423,
          1.192019782486162,
          1.1541611147770363,
          1.2154125234295146,
          1.206230895664637,
          1.1347970064633066,
          1.1780513779632176,
          1.1688008078804681,
          1.189261247920423,
          1.1903352453673615,
          1.198561623732003,
          1.157841177067993,
          1.129279616144182,
          1.1127442910813017,
          1.1092841763639845,
          1.1454428485888104,
          1.1451085616883854,
          1.1148520946541405,
          1.144461358475318,
          1.1483222145723937,
          1.069177232812186,
          1.1029352898452065,
          1.121288751261735,
          1.1183137513121648,
          1.065951223949054,
          1.0633021618546292,
          1.0720609891171275,
          1.0592684834123507,
          1.0608863142641152,
          1.0283402145744347,
          1.0627139828636156,
          1.0814521767879188,
          1.0016608013525914,
          1.0575034496959603,
          1.0250154468708166,
          1.0372821956023455,
          1.010773259025317,
          1.018725231921484,
          0.9998401078458055,
          1.0027784953287209,
          1.0003640040039814,
          0.9950662631747718,
          1.0314272553667387,
          0.9762016801553647,
          0.9775461322370637,
          0.9696269193428827,
          0.970527907736345,
          0.987863102563821,
          0.9416448145332771,
          0.948275729219721,
          0.9837107357650031,
          0.9807708370039943,
          0.9352931591319458,
          0.9916364730660724,
          0.9340320886101697,
          0.9469747053668356,
          0.9367883268571164,
          0.9300767968057321,
          0.9231495717148585,
          0.9379614940840985,
          0.9332113968274669,
          0.9249551395320645,
          0.8730293917973081,
          0.9238796520904404,
          0.9507277467593518,
          0.8986926371275308,
          0.892653478503255,
          0.9238996698906431,
          0.9109061591502053,
          0.9220917588475807,
          0.9108140969601045,
          0.9024283475471612,
          0.8401797367794201,
          0.8712919709722527,
          0.8846259514176924,
          0.8683218492494686,
          0.8529320745242207,
          0.8562101963007216,
          0.862881635807184,
          0.8438494133280992,
          0.8423925750484603,
          0.8880350229354592,
          0.8210571310654091,
          0.8146517966698846,
          0.8520026627376115,
          0.8162958888746485,
          0.8728849520748201,
          0.8303566081151108,
          0.8413396090362755,
          0.8195466679255967,
          0.8246050204398125,
          0.8274647225119979,
          0.7998395111778114,
          0.7902685985784532,
          0.8037427770125644,
          0.813677058684906,
          0.7745319650117851,
          0.8088267690318564,
          0.7785717958763806,
          0.7874896664979629,
          0.7780080395737056,
          0.7954235441036639,
          0.7701338229251297,
          0.8015912802549278,
          0.7762720403074544,
          0.76780310328714,
          0.7933750654929781,
          0.7550632359448715,
          0.7756667062675597,
          0.7723024294999918,
          0.7921275810053717,
          0.7625179165543222,
          0.7398832808017678,
          0.7884425769851227,
          0.8082404658229363,
          0.7825817066415037,
          0.7942552734487008,
          0.7541459528794603,
          0.7470919383474384,
          0.7596435356929246,
          0.7448747972376392,
          0.7408157263133933,
          0.74526646901241,
          0.71356095586167,
          0.7367187710875696,
          0.7275530169297407,
          0.7150726567665661,
          0.7282490999191957,
          0.7279206084032672,
          0.74314376534034,
          0.7325016628195525,
          0.7450778137446196,
          0.7320650974018126,
          0.7072139888784348,
          0.7358312812923326,
          0.7317948520573749,
          0.7177679669021771,
          0.7121295233483126,
          0.7152220905536218,
          0.7123518223484029,
          0.7183996124154292,
          0.7013522838659273,
          0.7313670237134376
         ]
        },
        {
         "name": "normal basis",
         "type": "scatter",
         "x": [
          150,
          151,
          152,
          153,
          154,
          155,
          156,
          157,
          158,
          159,
          160,
          161,
          162,
          163,
          164,
          165,
          166,
          167,
          168,
          169,
          170,
          171,
          172,
          173,
          174,
          175,
          176,
          177,
          178,
          179,
          180,
          181,
          182,
          183,
          184,
          185,
          186,
          187,
          188,
          189,
          190,
          191,
          192,
          193,
          194,
          195,
          196,
          197,
          198,
          199,
          200,
          201,
          202,
          203,
          204,
          205,
          206,
          207,
          208,
          209,
          210,
          211,
          212,
          213,
          214,
          215,
          216,
          217,
          218,
          219,
          220,
          221,
          222,
          223,
          224,
          225,
          226,
          227,
          228,
          229,
          230,
          231,
          232,
          233,
          234,
          235,
          236,
          237,
          238,
          239,
          240,
          241,
          242,
          243,
          244,
          245,
          246,
          247,
          248,
          249,
          250,
          251,
          252,
          253,
          254,
          255,
          256,
          257,
          258,
          259,
          260,
          261,
          262,
          263,
          264,
          265,
          266,
          267,
          268,
          269,
          270,
          271,
          272,
          273,
          274,
          275,
          276,
          277,
          278,
          279,
          280,
          281,
          282,
          283,
          284,
          285,
          286,
          287,
          288,
          289,
          290,
          291,
          292,
          293,
          294,
          295,
          296,
          297,
          298,
          299
         ],
         "y": [
          2.8021594321257677,
          2.794372764123084,
          2.7925016243004985,
          2.794172342566409,
          2.7970082360857718,
          2.79977018398379,
          2.791537921662564,
          2.7917507201687526,
          2.7983509730595055,
          2.802839098081632,
          2.797333445774952,
          2.7966614335742177,
          2.7956853721177373,
          2.7884294746258473,
          2.793997752722158,
          2.7913299402892955,
          2.7940094342232027,
          2.7890214197195404,
          2.789473698138332,
          2.7936443285266277,
          2.795142434337577,
          2.7814670692493557,
          2.7812702976487604,
          2.785966345285159,
          2.779705279039441,
          2.772915246855419,
          2.7897839512178524,
          2.790935540353714,
          2.781692366687888,
          2.7806502718575197,
          2.7869193766425373,
          2.7892763244266483,
          2.7852550076447624,
          2.786391581471877,
          2.78684637082638,
          2.7735066271097186,
          2.79152594514501,
          2.7754873083755203,
          2.767465044225817,
          2.772137601434468,
          2.7753041327564754,
          2.779346252321224,
          2.7563731001336933,
          2.7788590783816787,
          2.76682324475682,
          2.76576881458559,
          2.7749479148686302,
          2.775235991164923,
          2.7725985441847887,
          2.772826592964265,
          2.772501686104858,
          2.7644574237986883,
          2.7618623844526056,
          2.7706917999832132,
          2.772960342862072,
          2.7582476747237443,
          2.741724102046022,
          2.749282165500474,
          2.743973406561131,
          2.73432421225606,
          2.752032543692241,
          2.743305995765878,
          2.727726818417249,
          2.738842276580706,
          2.7446222882432454,
          2.7366874228040547,
          2.7258261206763614,
          2.737970283858453,
          2.7114037538529523,
          2.724220720032001,
          2.7069432961451065,
          2.7366439743870408,
          2.7105008242820268,
          2.6798589095496257,
          2.6865604965349306,
          2.701357218655204,
          2.6955798376775957,
          2.677719980903195,
          2.675950884103723,
          2.687234405035764,
          2.6727440893257537,
          2.667157088317523,
          2.652606688238412,
          2.6403574008837136,
          2.629658640780953,
          2.632031513264568,
          2.651719714084933,
          2.616821305190327,
          2.611840250141083,
          2.6304794406653875,
          2.6053321566940695,
          2.5490425132506602,
          2.5543194457136935,
          2.59804583730662,
          2.504000129470362,
          2.5573545176476715,
          2.4869205503144562,
          2.5122741627563774,
          2.4294705787099167,
          2.4381114240843136,
          2.44036075210161,
          2.4376902480745413,
          2.403086637101917,
          2.3594240653135725,
          2.377732821230622,
          2.3655838953257127,
          2.3585673592514915,
          2.3567967224221635,
          2.2570138001015714,
          2.289658916278053,
          2.2967186824776684,
          2.298185899930095,
          2.2284790337000047,
          2.249175960745971,
          2.189452059549294,
          2.182492192958942,
          2.1608180782242643,
          2.0623812425106918,
          2.0679632701919544,
          2.0031559201180764,
          1.9788828147188244,
          1.9198370866705248,
          1.9453534138154056,
          1.9543670238867674,
          1.9095281556785144,
          1.8744152253607245,
          1.8174467605515507,
          1.8333219629855364,
          1.7011654791827369,
          1.6423041695169172,
          1.630219234899699,
          1.6380792215853832,
          1.5014141807628896,
          1.5097231414189667,
          1.433303451448221,
          1.4068382654595604,
          1.410038294050409,
          1.335863696360541,
          1.252290724184105,
          1.2538286234112879,
          1.162483932878816,
          1.0702958506711095,
          1.0532642618943022,
          0.9194322197105449,
          0.9147915984398189,
          0.8386585660397773,
          0.7961143977301477,
          0.6799723885100889,
          0.6970133993337081,
          0.5288657575114714
         ]
        },
        {
         "name": "MSR basis",
         "type": "scatter",
         "x": [
          150,
          151,
          152,
          153,
          154,
          155,
          156,
          157,
          158,
          159,
          160,
          161,
          162,
          163,
          164,
          165,
          166,
          167,
          168,
          169,
          170,
          171,
          172,
          173,
          174,
          175,
          176,
          177,
          178,
          179,
          180,
          181,
          182,
          183,
          184,
          185,
          186,
          187,
          188,
          189,
          190,
          191,
          192,
          193,
          194,
          195,
          196,
          197,
          198,
          199,
          200,
          201,
          202,
          203,
          204,
          205,
          206,
          207,
          208,
          209,
          210,
          211,
          212,
          213,
          214,
          215,
          216,
          217,
          218,
          219,
          220,
          221,
          222,
          223,
          224,
          225,
          226,
          227,
          228,
          229,
          230,
          231,
          232,
          233,
          234,
          235,
          236,
          237,
          238,
          239,
          240,
          241,
          242,
          243,
          244,
          245,
          246,
          247,
          248,
          249,
          250,
          251,
          252,
          253,
          254,
          255,
          256,
          257,
          258,
          259,
          260,
          261,
          262,
          263,
          264,
          265,
          266,
          267,
          268,
          269,
          270,
          271,
          272,
          273,
          274,
          275,
          276,
          277,
          278,
          279,
          280,
          281,
          282,
          283,
          284,
          285,
          286,
          287,
          288,
          289,
          290,
          291,
          292,
          293,
          294,
          295,
          296,
          297,
          298,
          299
         ],
         "y": [
          0.7009606479113976,
          0.6787227511198263,
          0.6672567733132369,
          0.6970933276254778,
          0.6886178019722724,
          0.6977096803855941,
          0.6920828093388016,
          0.6848579689056841,
          0.6779636568616424,
          0.6845064902394259,
          0.6759646240329275,
          0.6839298049790375,
          0.6906257149414705,
          0.6611829922881856,
          0.6430524491198624,
          0.6854387740283318,
          0.6525969888505173,
          0.6711590998805629,
          0.6658379831341091,
          0.670052663636846,
          0.6977584340593871,
          0.6726564284671422,
          0.6606721279563081,
          0.6576691838158552,
          0.6526630739586297,
          0.6659990293525525,
          0.6575380568908651,
          0.6501581235077237,
          0.6630335757871236,
          0.653840000109971,
          0.6477074207884134,
          0.6591499792501655,
          0.6569218634275588,
          0.6530297698881529,
          0.6359735703448807,
          0.6346511404420083,
          0.6694442093868707,
          0.6458664010407387,
          0.642683628090071,
          0.6339896390610228,
          0.631396428122664,
          0.6276141402993332,
          0.6344745027053272,
          0.6391306376968459,
          0.6371515498692226,
          0.6329480114892819,
          0.6430163273964892,
          0.6297991432047709,
          0.6178378903899834,
          0.6334430837378873,
          0.619925362215662,
          0.6229580686596004,
          0.6230196051481793,
          0.6374766363219759,
          0.6413412128424368,
          0.6129921045885367,
          0.6152077121623164,
          0.6171630096158202,
          0.6120923072538553,
          0.6063254794652704,
          0.6115441669503392,
          0.6354448737483466,
          0.5995195639326366,
          0.6128524178523979,
          0.6026998575566145,
          0.6131521158171299,
          0.5994128598330047,
          0.6117886706159441,
          0.6022503865038772,
          0.6172229121564701,
          0.5717973386629576,
          0.6143637160961717,
          0.5855192651514515,
          0.5821988048750834,
          0.6017687684786976,
          0.5983770994036479,
          0.585589178927854,
          0.5823046763375008,
          0.5918296480244769,
          0.6054910685917423,
          0.5772232469792493,
          0.5682112707960557,
          0.5699876026861364,
          0.5600423334300121,
          0.571633014710896,
          0.5665258284330534,
          0.5650419115745005,
          0.5682315899570476,
          0.5727237690271069,
          0.5693041185185926,
          0.5723327913797364,
          0.5634137142511514,
          0.5884798928774156,
          0.5707258341501689,
          0.565100324698417,
          0.5719212081360228,
          0.5666048691247069,
          0.5907490035493514,
          0.5803443082754706,
          0.5680976775936017,
          0.5654818094293074,
          0.5676616159858054,
          0.5612807622617361,
          0.5509584085148655,
          0.5295048652684624,
          0.5551791585262461,
          0.531559719998306,
          0.5515714338098167,
          0.544424426102373,
          0.528786987495296,
          0.5400582779259858,
          0.5639577254410747,
          0.5215160339862343,
          0.5410955391955156,
          0.5326675331072368,
          0.542899185755336,
          0.5418245404325505,
          0.5415579924293789,
          0.5289424280192242,
          0.5316831067997789,
          0.5260181783059682,
          0.540067472799411,
          0.5147725483352912,
          0.5318343630824464,
          0.5341632125368188,
          0.5078260904990538,
          0.5137755567509995,
          0.5216998195571937,
          0.5320428985071332,
          0.5068087137472168,
          0.5199307269031253,
          0.5321702131460396,
          0.5053346984689668,
          0.533850927850498,
          0.5071973434669259,
          0.5123960285966297,
          0.5064336575041365,
          0.5421644714787539,
          0.5190939928904477,
          0.5000652070746082,
          0.5179920643636877,
          0.5028032559804252,
          0.4943191968709396,
          0.5099630006244845,
          0.5023156508912411,
          0.4957142979547173,
          0.5168631978593324,
          0.49449641110635845,
          0.4919002483654489,
          0.4886952956600406
         ]
        },
        {
         "name": "normal basis",
         "type": "scatter",
         "x": [
          300,
          301,
          302,
          303,
          304,
          305,
          306,
          307,
          308,
          309,
          310,
          311,
          312,
          313,
          314,
          315,
          316,
          317,
          318,
          319,
          320,
          321,
          322,
          323,
          324,
          325,
          326,
          327,
          328,
          329,
          330,
          331,
          332,
          333,
          334,
          335,
          336,
          337,
          338,
          339,
          340,
          341,
          342,
          343,
          344,
          345,
          346,
          347,
          348,
          349,
          350,
          351,
          352,
          353,
          354,
          355,
          356,
          357,
          358,
          359,
          360,
          361,
          362,
          363,
          364,
          365,
          366,
          367,
          368,
          369,
          370,
          371,
          372,
          373,
          374,
          375,
          376,
          377,
          378,
          379,
          380,
          381,
          382,
          383,
          384,
          385,
          386,
          387,
          388,
          389,
          390,
          391,
          392,
          393,
          394,
          395,
          396,
          397,
          398,
          399,
          400,
          401,
          402,
          403,
          404,
          405,
          406,
          407,
          408,
          409,
          410,
          411,
          412,
          413,
          414,
          415,
          416,
          417,
          418,
          419,
          420,
          421,
          422,
          423,
          424,
          425,
          426,
          427,
          428,
          429,
          430,
          431,
          432,
          433,
          434,
          435,
          436,
          437,
          438,
          439,
          440,
          441,
          442,
          443,
          444,
          445,
          446,
          447,
          448,
          449
         ],
         "y": [
          0.5660751729880773,
          0.492422977046198,
          0.34634795696429144,
          0.29068950516419173,
          0.18978868974330798,
          0.1287044446716207,
          0.09974064068722872,
          -0.007270846037253041,
          -0.0932296337520383,
          -0.09071841626115629,
          -0.3786765799359618,
          -0.2251884537432398,
          -0.3581714364705777,
          -0.48753595154231044,
          -0.5565976709848607,
          -0.6546696047920844,
          -0.7083144043535641,
          -0.758012910282256,
          -0.8832536404045991,
          -0.9571914652745478,
          -1.0805481972838298,
          -1.178930706075263,
          -1.3258881260255173,
          -1.267718727342676,
          -1.3739570197826045,
          -1.5074360022112954,
          -1.5904927688218593,
          -1.61483096173909,
          -1.7246221441139795,
          -1.7977539680344536,
          -1.974378067868263,
          -2.01667918175633,
          -1.9491694648303557,
          -2.1036559772026533,
          -2.172446530034469,
          -2.2306480719592554,
          -2.400359643334408,
          -2.5024684973406215,
          -2.562199786175045,
          -2.465514829365171,
          -2.6784849078799375,
          -2.7050332810041615,
          -2.8870671019398473,
          -2.8981805292763783,
          -2.9468539723321667,
          -3.250558205986785,
          -2.975603254144252,
          -3.1865230295714775,
          -3.264457414238893,
          -3.351279746647108,
          -3.264785841184482,
          -3.3443203672360946,
          -3.7565552840719065,
          -3.5131388135375037,
          -3.6748095389447006,
          -3.7224015308980163,
          -3.7887529014180252,
          -3.786700616903554,
          -3.8400416686666716,
          -4.146339135046419,
          -4.058271938227039,
          -4.0446670435755365,
          -4.392167669686188,
          -4.099336398234098,
          -4.153302785135599,
          -4.367656854889993,
          -4.334105709500983,
          -4.359515598699831,
          -4.373276734610113,
          -4.585664253013384,
          -4.498070329032834,
          -4.6202494772645775,
          -4.766745293452068,
          -4.5794936513053255,
          -4.619738447002654,
          -4.820073142826362,
          -4.776647919152846,
          -4.875171650983452,
          -4.917010517923912,
          -4.830088223813939,
          -4.827775865458374,
          -4.742270668345316,
          -4.972426191223356,
          -5.017687804993219,
          -4.913646178647434,
          -5.132785391744599,
          -5.162271093815586,
          -5.149126569475804,
          -5.209085993439689,
          -5.2392353165598635,
          -5.257274671438537,
          -5.365643926720289,
          -5.250468322845625,
          -5.228966795314135,
          -5.1559306377783205,
          -5.404471177470362,
          -5.534546013765508,
          -5.494973804832207,
          -5.575755235837869,
          -5.410825421012924,
          -5.547725636398485,
          -5.504246729903685,
          -5.544645330762177,
          -5.60035691901065,
          -5.60383289234489,
          -5.573647822705327,
          -5.552761397852402,
          -5.637881131661375,
          -5.673583215354716,
          -5.641385894743337,
          -5.683053862347156,
          -5.6658206008011245,
          -5.57761906395065,
          -5.676787058925162,
          -5.680903319112868,
          -5.633762152004237,
          -5.79187046671964,
          -5.710612511868191,
          -5.7112220981769815,
          -5.7779886011374275,
          -5.671322492007037,
          -5.733977778289161,
          -5.711569408010887,
          -5.803693837378966,
          -5.834095629004051,
          -5.759087088244557,
          -5.851531958766439,
          -5.855915343509378,
          -5.870060254502369,
          -5.828121789132017,
          -5.847411676825509,
          -5.8048449456586075,
          -5.826213661470679,
          -5.8388789489550055,
          -5.820299466024295,
          -5.81542967563333,
          -5.794303095422533,
          -5.858434385195003,
          -5.885731514432956,
          -5.898917648486909,
          -5.899890527925444,
          -5.896547008617165,
          -5.84243590242589,
          -5.855326232580956,
          -5.950478055085506,
          -5.876336625569143,
          -5.928327185844396,
          -5.9111527858768875,
          -5.839116057419641,
          -5.847195564130229
         ]
        },
        {
         "name": "MSR basis",
         "type": "scatter",
         "x": [
          300,
          301,
          302,
          303,
          304,
          305,
          306,
          307,
          308,
          309,
          310,
          311,
          312,
          313,
          314,
          315,
          316,
          317,
          318,
          319,
          320,
          321,
          322,
          323,
          324,
          325,
          326,
          327,
          328,
          329,
          330,
          331,
          332,
          333,
          334,
          335,
          336,
          337,
          338,
          339,
          340,
          341,
          342,
          343,
          344,
          345,
          346,
          347,
          348,
          349,
          350,
          351,
          352,
          353,
          354,
          355,
          356,
          357,
          358,
          359,
          360,
          361,
          362,
          363,
          364,
          365,
          366,
          367,
          368,
          369,
          370,
          371,
          372,
          373,
          374,
          375,
          376,
          377,
          378,
          379,
          380,
          381,
          382,
          383,
          384,
          385,
          386,
          387,
          388,
          389,
          390,
          391,
          392,
          393,
          394,
          395,
          396,
          397,
          398,
          399,
          400,
          401,
          402,
          403,
          404,
          405,
          406,
          407,
          408,
          409,
          410,
          411,
          412,
          413,
          414,
          415,
          416,
          417,
          418,
          419,
          420,
          421,
          422,
          423,
          424,
          425,
          426,
          427,
          428,
          429,
          430,
          431,
          432,
          433,
          434,
          435,
          436,
          437,
          438,
          439,
          440,
          441,
          442,
          443,
          444,
          445,
          446,
          447,
          448,
          449
         ],
         "y": [
          0.5143254349109382,
          0.4925386812525683,
          0.4808899584115285,
          0.49906221915471044,
          0.49384854453888366,
          0.47225558458186634,
          0.49236628438333324,
          0.4928865825032192,
          0.48079641935327455,
          0.4857907681925668,
          0.4873040478863225,
          0.4810925520745817,
          0.4853716583943818,
          0.48845316860619986,
          0.49511648598713287,
          0.4598529595141088,
          0.48395969236584707,
          0.48135524693675313,
          0.46942205456915553,
          0.4756447771364273,
          0.4616639189088864,
          0.46578950530532065,
          0.4655843910207239,
          0.4577565549480963,
          0.4772041171464619,
          0.4589852434809391,
          0.46951060366082814,
          0.4595472187532208,
          0.4531952452193627,
          0.4495490488451252,
          0.45104220268924905,
          0.44919040271671623,
          0.4407186214288134,
          0.4387463419888456,
          0.45532610359863945,
          0.4409232244816184,
          0.45191049885893647,
          0.44328799424449566,
          0.4669387785968568,
          0.42631100346199946,
          0.45497147595237,
          0.45288564938236237,
          0.4387294738360419,
          0.40364062549442287,
          0.422010981937629,
          0.4129087598236191,
          0.41027254364784654,
          0.41777101623053786,
          0.4293616950982904,
          0.423459606389744,
          0.41822895010163685,
          0.43273592149841883,
          0.39186823777822727,
          0.4345754129091155,
          0.3928146713219752,
          0.3916241511721352,
          0.3902372646489091,
          0.3784195764627623,
          0.36424151701761087,
          0.39306298343370943,
          0.3955841001110564,
          0.39359221722789206,
          0.38772229395212005,
          0.4162955918257496,
          0.369870513173049,
          0.358814991734217,
          0.3748389519693393,
          0.38305227570346534,
          0.3749319738243932,
          0.39582358190774847,
          0.36897458857450727,
          0.3707700221299027,
          0.3390911511870146,
          0.3364322593374784,
          0.33121719766192925,
          0.33508295415044687,
          0.32608843798923237,
          0.32500787720863283,
          0.34074209876500255,
          0.3404646254621896,
          0.27968386485910546,
          0.3489758293532966,
          0.30010316571783363,
          0.31678810107684613,
          0.3042987681133802,
          0.29742223646582344,
          0.2821615511442365,
          0.29992573695868174,
          0.31125343527462035,
          0.280358055620573,
          0.28000740210150143,
          0.2538902796133782,
          0.289164777240594,
          0.25010423837574824,
          0.23700703438510534,
          0.2943435658141878,
          0.2736720128930297,
          0.27245457166057574,
          0.25593751990106617,
          0.22225425049905334,
          0.22932054495310267,
          0.2002167633089522,
          0.2608729139941352,
          0.1871695090214781,
          0.19561655472743417,
          0.16579788171284307,
          0.17890422894975558,
          0.18939339666843782,
          0.1745433505275046,
          0.18692093874697097,
          0.16521432629279784,
          0.1114734108225867,
          0.13242708313463025,
          0.11739271928422186,
          0.1288325891309554,
          0.1509097468455859,
          0.07091792826183123,
          0.057183236633763575,
          0.15938157364568561,
          0.08055477574121737,
          0.038172861078131615,
          0.05583429352196024,
          0.11597374596336532,
          0.040007830078935346,
          0.034614963096336014,
          -0.0976509368197906,
          0.12082486007444866,
          0.0022613594394845,
          0.028095414387497113,
          -0.014409943665563267,
          -0.04770484397649086,
          -0.0262963620421888,
          -0.05737179188423948,
          -0.23698857680601415,
          -0.1328704911293559,
          -0.029822512578363422,
          -0.02789460684868597,
          -0.09681368629375332,
          -0.0006197444347341398,
          -0.09201226440179462,
          -0.11391369826245386,
          -0.09960078295572194,
          -0.2205482913602043,
          -0.19524228341306304,
          -0.2864822057520356,
          -0.24161660106482571,
          -0.09556233879094533,
          -0.29928939567647916,
          -0.27705299433891784,
          -0.44078230118781986
         ]
        }
       ],
       "layout": {
        "template": {
         "data": {
          "bar": [
           {
            "error_x": {
             "color": "rgb(36,36,36)"
            },
            "error_y": {
             "color": "rgb(36,36,36)"
            },
            "marker": {
             "line": {
              "color": "white",
              "width": 0.5
             },
             "pattern": {
              "fillmode": "overlay",
              "size": 10,
              "solidity": 0.2
             }
            },
            "type": "bar"
           }
          ],
          "barpolar": [
           {
            "marker": {
             "line": {
              "color": "white",
              "width": 0.5
             },
             "pattern": {
              "fillmode": "overlay",
              "size": 10,
              "solidity": 0.2
             }
            },
            "type": "barpolar"
           }
          ],
          "carpet": [
           {
            "aaxis": {
             "endlinecolor": "rgb(36,36,36)",
             "gridcolor": "white",
             "linecolor": "white",
             "minorgridcolor": "white",
             "startlinecolor": "rgb(36,36,36)"
            },
            "baxis": {
             "endlinecolor": "rgb(36,36,36)",
             "gridcolor": "white",
             "linecolor": "white",
             "minorgridcolor": "white",
             "startlinecolor": "rgb(36,36,36)"
            },
            "type": "carpet"
           }
          ],
          "choropleth": [
           {
            "colorbar": {
             "outlinewidth": 1,
             "tickcolor": "rgb(36,36,36)",
             "ticks": "outside"
            },
            "type": "choropleth"
           }
          ],
          "contour": [
           {
            "colorbar": {
             "outlinewidth": 1,
             "tickcolor": "rgb(36,36,36)",
             "ticks": "outside"
            },
            "colorscale": [
             [
              0,
              "#440154"
             ],
             [
              0.1111111111111111,
              "#482878"
             ],
             [
              0.2222222222222222,
              "#3e4989"
             ],
             [
              0.3333333333333333,
              "#31688e"
             ],
             [
              0.4444444444444444,
              "#26828e"
             ],
             [
              0.5555555555555556,
              "#1f9e89"
             ],
             [
              0.6666666666666666,
              "#35b779"
             ],
             [
              0.7777777777777778,
              "#6ece58"
             ],
             [
              0.8888888888888888,
              "#b5de2b"
             ],
             [
              1,
              "#fde725"
             ]
            ],
            "type": "contour"
           }
          ],
          "contourcarpet": [
           {
            "colorbar": {
             "outlinewidth": 1,
             "tickcolor": "rgb(36,36,36)",
             "ticks": "outside"
            },
            "type": "contourcarpet"
           }
          ],
          "heatmap": [
           {
            "colorbar": {
             "outlinewidth": 1,
             "tickcolor": "rgb(36,36,36)",
             "ticks": "outside"
            },
            "colorscale": [
             [
              0,
              "#440154"
             ],
             [
              0.1111111111111111,
              "#482878"
             ],
             [
              0.2222222222222222,
              "#3e4989"
             ],
             [
              0.3333333333333333,
              "#31688e"
             ],
             [
              0.4444444444444444,
              "#26828e"
             ],
             [
              0.5555555555555556,
              "#1f9e89"
             ],
             [
              0.6666666666666666,
              "#35b779"
             ],
             [
              0.7777777777777778,
              "#6ece58"
             ],
             [
              0.8888888888888888,
              "#b5de2b"
             ],
             [
              1,
              "#fde725"
             ]
            ],
            "type": "heatmap"
           }
          ],
          "heatmapgl": [
           {
            "colorbar": {
             "outlinewidth": 1,
             "tickcolor": "rgb(36,36,36)",
             "ticks": "outside"
            },
            "colorscale": [
             [
              0,
              "#440154"
             ],
             [
              0.1111111111111111,
              "#482878"
             ],
             [
              0.2222222222222222,
              "#3e4989"
             ],
             [
              0.3333333333333333,
              "#31688e"
             ],
             [
              0.4444444444444444,
              "#26828e"
             ],
             [
              0.5555555555555556,
              "#1f9e89"
             ],
             [
              0.6666666666666666,
              "#35b779"
             ],
             [
              0.7777777777777778,
              "#6ece58"
             ],
             [
              0.8888888888888888,
              "#b5de2b"
             ],
             [
              1,
              "#fde725"
             ]
            ],
            "type": "heatmapgl"
           }
          ],
          "histogram": [
           {
            "marker": {
             "line": {
              "color": "white",
              "width": 0.6
             }
            },
            "type": "histogram"
           }
          ],
          "histogram2d": [
           {
            "colorbar": {
             "outlinewidth": 1,
             "tickcolor": "rgb(36,36,36)",
             "ticks": "outside"
            },
            "colorscale": [
             [
              0,
              "#440154"
             ],
             [
              0.1111111111111111,
              "#482878"
             ],
             [
              0.2222222222222222,
              "#3e4989"
             ],
             [
              0.3333333333333333,
              "#31688e"
             ],
             [
              0.4444444444444444,
              "#26828e"
             ],
             [
              0.5555555555555556,
              "#1f9e89"
             ],
             [
              0.6666666666666666,
              "#35b779"
             ],
             [
              0.7777777777777778,
              "#6ece58"
             ],
             [
              0.8888888888888888,
              "#b5de2b"
             ],
             [
              1,
              "#fde725"
             ]
            ],
            "type": "histogram2d"
           }
          ],
          "histogram2dcontour": [
           {
            "colorbar": {
             "outlinewidth": 1,
             "tickcolor": "rgb(36,36,36)",
             "ticks": "outside"
            },
            "colorscale": [
             [
              0,
              "#440154"
             ],
             [
              0.1111111111111111,
              "#482878"
             ],
             [
              0.2222222222222222,
              "#3e4989"
             ],
             [
              0.3333333333333333,
              "#31688e"
             ],
             [
              0.4444444444444444,
              "#26828e"
             ],
             [
              0.5555555555555556,
              "#1f9e89"
             ],
             [
              0.6666666666666666,
              "#35b779"
             ],
             [
              0.7777777777777778,
              "#6ece58"
             ],
             [
              0.8888888888888888,
              "#b5de2b"
             ],
             [
              1,
              "#fde725"
             ]
            ],
            "type": "histogram2dcontour"
           }
          ],
          "mesh3d": [
           {
            "colorbar": {
             "outlinewidth": 1,
             "tickcolor": "rgb(36,36,36)",
             "ticks": "outside"
            },
            "type": "mesh3d"
           }
          ],
          "parcoords": [
           {
            "line": {
             "colorbar": {
              "outlinewidth": 1,
              "tickcolor": "rgb(36,36,36)",
              "ticks": "outside"
             }
            },
            "type": "parcoords"
           }
          ],
          "pie": [
           {
            "automargin": true,
            "type": "pie"
           }
          ],
          "scatter": [
           {
            "marker": {
             "colorbar": {
              "outlinewidth": 1,
              "tickcolor": "rgb(36,36,36)",
              "ticks": "outside"
             }
            },
            "type": "scatter"
           }
          ],
          "scatter3d": [
           {
            "line": {
             "colorbar": {
              "outlinewidth": 1,
              "tickcolor": "rgb(36,36,36)",
              "ticks": "outside"
             }
            },
            "marker": {
             "colorbar": {
              "outlinewidth": 1,
              "tickcolor": "rgb(36,36,36)",
              "ticks": "outside"
             }
            },
            "type": "scatter3d"
           }
          ],
          "scattercarpet": [
           {
            "marker": {
             "colorbar": {
              "outlinewidth": 1,
              "tickcolor": "rgb(36,36,36)",
              "ticks": "outside"
             }
            },
            "type": "scattercarpet"
           }
          ],
          "scattergeo": [
           {
            "marker": {
             "colorbar": {
              "outlinewidth": 1,
              "tickcolor": "rgb(36,36,36)",
              "ticks": "outside"
             }
            },
            "type": "scattergeo"
           }
          ],
          "scattergl": [
           {
            "marker": {
             "colorbar": {
              "outlinewidth": 1,
              "tickcolor": "rgb(36,36,36)",
              "ticks": "outside"
             }
            },
            "type": "scattergl"
           }
          ],
          "scattermapbox": [
           {
            "marker": {
             "colorbar": {
              "outlinewidth": 1,
              "tickcolor": "rgb(36,36,36)",
              "ticks": "outside"
             }
            },
            "type": "scattermapbox"
           }
          ],
          "scatterpolar": [
           {
            "marker": {
             "colorbar": {
              "outlinewidth": 1,
              "tickcolor": "rgb(36,36,36)",
              "ticks": "outside"
             }
            },
            "type": "scatterpolar"
           }
          ],
          "scatterpolargl": [
           {
            "marker": {
             "colorbar": {
              "outlinewidth": 1,
              "tickcolor": "rgb(36,36,36)",
              "ticks": "outside"
             }
            },
            "type": "scatterpolargl"
           }
          ],
          "scatterternary": [
           {
            "marker": {
             "colorbar": {
              "outlinewidth": 1,
              "tickcolor": "rgb(36,36,36)",
              "ticks": "outside"
             }
            },
            "type": "scatterternary"
           }
          ],
          "surface": [
           {
            "colorbar": {
             "outlinewidth": 1,
             "tickcolor": "rgb(36,36,36)",
             "ticks": "outside"
            },
            "colorscale": [
             [
              0,
              "#440154"
             ],
             [
              0.1111111111111111,
              "#482878"
             ],
             [
              0.2222222222222222,
              "#3e4989"
             ],
             [
              0.3333333333333333,
              "#31688e"
             ],
             [
              0.4444444444444444,
              "#26828e"
             ],
             [
              0.5555555555555556,
              "#1f9e89"
             ],
             [
              0.6666666666666666,
              "#35b779"
             ],
             [
              0.7777777777777778,
              "#6ece58"
             ],
             [
              0.8888888888888888,
              "#b5de2b"
             ],
             [
              1,
              "#fde725"
             ]
            ],
            "type": "surface"
           }
          ],
          "table": [
           {
            "cells": {
             "fill": {
              "color": "rgb(237,237,237)"
             },
             "line": {
              "color": "white"
             }
            },
            "header": {
             "fill": {
              "color": "rgb(217,217,217)"
             },
             "line": {
              "color": "white"
             }
            },
            "type": "table"
           }
          ]
         },
         "layout": {
          "annotationdefaults": {
           "arrowhead": 0,
           "arrowwidth": 1
          },
          "autotypenumbers": "strict",
          "coloraxis": {
           "colorbar": {
            "outlinewidth": 1,
            "tickcolor": "rgb(36,36,36)",
            "ticks": "outside"
           }
          },
          "colorscale": {
           "diverging": [
            [
             0,
             "rgb(103,0,31)"
            ],
            [
             0.1,
             "rgb(178,24,43)"
            ],
            [
             0.2,
             "rgb(214,96,77)"
            ],
            [
             0.3,
             "rgb(244,165,130)"
            ],
            [
             0.4,
             "rgb(253,219,199)"
            ],
            [
             0.5,
             "rgb(247,247,247)"
            ],
            [
             0.6,
             "rgb(209,229,240)"
            ],
            [
             0.7,
             "rgb(146,197,222)"
            ],
            [
             0.8,
             "rgb(67,147,195)"
            ],
            [
             0.9,
             "rgb(33,102,172)"
            ],
            [
             1,
             "rgb(5,48,97)"
            ]
           ],
           "sequential": [
            [
             0,
             "#440154"
            ],
            [
             0.1111111111111111,
             "#482878"
            ],
            [
             0.2222222222222222,
             "#3e4989"
            ],
            [
             0.3333333333333333,
             "#31688e"
            ],
            [
             0.4444444444444444,
             "#26828e"
            ],
            [
             0.5555555555555556,
             "#1f9e89"
            ],
            [
             0.6666666666666666,
             "#35b779"
            ],
            [
             0.7777777777777778,
             "#6ece58"
            ],
            [
             0.8888888888888888,
             "#b5de2b"
            ],
            [
             1,
             "#fde725"
            ]
           ],
           "sequentialminus": [
            [
             0,
             "#440154"
            ],
            [
             0.1111111111111111,
             "#482878"
            ],
            [
             0.2222222222222222,
             "#3e4989"
            ],
            [
             0.3333333333333333,
             "#31688e"
            ],
            [
             0.4444444444444444,
             "#26828e"
            ],
            [
             0.5555555555555556,
             "#1f9e89"
            ],
            [
             0.6666666666666666,
             "#35b779"
            ],
            [
             0.7777777777777778,
             "#6ece58"
            ],
            [
             0.8888888888888888,
             "#b5de2b"
            ],
            [
             1,
             "#fde725"
            ]
           ]
          },
          "colorway": [
           "#1F77B4",
           "#FF7F0E",
           "#2CA02C",
           "#D62728",
           "#9467BD",
           "#8C564B",
           "#E377C2",
           "#7F7F7F",
           "#BCBD22",
           "#17BECF"
          ],
          "font": {
           "color": "rgb(36,36,36)"
          },
          "geo": {
           "bgcolor": "white",
           "lakecolor": "white",
           "landcolor": "white",
           "showlakes": true,
           "showland": true,
           "subunitcolor": "white"
          },
          "hoverlabel": {
           "align": "left"
          },
          "hovermode": "closest",
          "mapbox": {
           "style": "light"
          },
          "paper_bgcolor": "white",
          "plot_bgcolor": "white",
          "polar": {
           "angularaxis": {
            "gridcolor": "rgb(232,232,232)",
            "linecolor": "rgb(36,36,36)",
            "showgrid": false,
            "showline": true,
            "ticks": "outside"
           },
           "bgcolor": "white",
           "radialaxis": {
            "gridcolor": "rgb(232,232,232)",
            "linecolor": "rgb(36,36,36)",
            "showgrid": false,
            "showline": true,
            "ticks": "outside"
           }
          },
          "scene": {
           "xaxis": {
            "backgroundcolor": "white",
            "gridcolor": "rgb(232,232,232)",
            "gridwidth": 2,
            "linecolor": "rgb(36,36,36)",
            "showbackground": true,
            "showgrid": false,
            "showline": true,
            "ticks": "outside",
            "zeroline": false,
            "zerolinecolor": "rgb(36,36,36)"
           },
           "yaxis": {
            "backgroundcolor": "white",
            "gridcolor": "rgb(232,232,232)",
            "gridwidth": 2,
            "linecolor": "rgb(36,36,36)",
            "showbackground": true,
            "showgrid": false,
            "showline": true,
            "ticks": "outside",
            "zeroline": false,
            "zerolinecolor": "rgb(36,36,36)"
           },
           "zaxis": {
            "backgroundcolor": "white",
            "gridcolor": "rgb(232,232,232)",
            "gridwidth": 2,
            "linecolor": "rgb(36,36,36)",
            "showbackground": true,
            "showgrid": false,
            "showline": true,
            "ticks": "outside",
            "zeroline": false,
            "zerolinecolor": "rgb(36,36,36)"
           }
          },
          "shapedefaults": {
           "fillcolor": "black",
           "line": {
            "width": 0
           },
           "opacity": 0.3
          },
          "ternary": {
           "aaxis": {
            "gridcolor": "rgb(232,232,232)",
            "linecolor": "rgb(36,36,36)",
            "showgrid": false,
            "showline": true,
            "ticks": "outside"
           },
           "baxis": {
            "gridcolor": "rgb(232,232,232)",
            "linecolor": "rgb(36,36,36)",
            "showgrid": false,
            "showline": true,
            "ticks": "outside"
           },
           "bgcolor": "white",
           "caxis": {
            "gridcolor": "rgb(232,232,232)",
            "linecolor": "rgb(36,36,36)",
            "showgrid": false,
            "showline": true,
            "ticks": "outside"
           }
          },
          "title": {
           "x": 0.05
          },
          "xaxis": {
           "automargin": true,
           "gridcolor": "rgb(232,232,232)",
           "linecolor": "rgb(36,36,36)",
           "showgrid": false,
           "showline": true,
           "ticks": "outside",
           "title": {
            "standoff": 15
           },
           "zeroline": false,
           "zerolinecolor": "rgb(36,36,36)"
          },
          "yaxis": {
           "automargin": true,
           "gridcolor": "rgb(232,232,232)",
           "linecolor": "rgb(36,36,36)",
           "showgrid": false,
           "showline": true,
           "ticks": "outside",
           "title": {
            "standoff": 15
           },
           "zeroline": false,
           "zerolinecolor": "rgb(36,36,36)"
          }
         }
        },
        "title": {
         "text": "<b>S-S model </b>, L=4, J2 =1, J1 =0.1 , η=0.005, α=16, samples=1000"
        },
        "xaxis": {
         "mirror": true,
         "showline": true,
         "title": {
          "text": "Iteration"
         }
        },
        "yaxis": {
         "mirror": true,
         "showline": true,
         "title": {
          "text": "Energy"
         }
        }
       }
      },
      "text/html": [
       "<div>                            <div id=\"36017f18-429e-4384-a9f8-339b7d4e924e\" class=\"plotly-graph-div\" style=\"height:525px; width:100%;\"></div>            <script type=\"text/javascript\">                require([\"plotly\"], function(Plotly) {                    window.PLOTLYENV=window.PLOTLYENV || {};                                    if (document.getElementById(\"36017f18-429e-4384-a9f8-339b7d4e924e\")) {                    Plotly.newPlot(                        \"36017f18-429e-4384-a9f8-339b7d4e924e\",                        [{\"line\":{\"color\":\"#000000\",\"width\":1},\"mode\":\"lines\",\"name\":\"exact energy\",\"type\":\"scatter\",\"x\":[0,150],\"y\":[-6.000000000000002,-6.000000000000002]},{\"line\":{\"color\":\"#000000\",\"width\":1},\"mode\":\"lines\",\"name\":\"99.5 % of exact energy\",\"type\":\"scatter\",\"x\":[0,150],\"y\":[-5.9700000000000015,-5.9700000000000015]},{\"name\":\"normal basis\",\"type\":\"scatter\",\"x\":[0,1,2,3,4,5,6,7,8,9,10,11,12,13,14,15,16,17,18,19,20,21,22,23,24,25,26,27,28,29,30,31,32,33,34,35,36,37,38,39,40,41,42,43,44,45,46,47,48,49,50,51,52,53,54,55,56,57,58,59,60,61,62,63,64,65,66,67,68,69,70,71,72,73,74,75,76,77,78,79,80,81,82,83,84,85,86,87,88,89,90,91,92,93,94,95,96,97,98,99,100,101,102,103,104,105,106,107,108,109,110,111,112,113,114,115,116,117,118,119,120,121,122,123,124,125,126,127,128,129,130,131,132,133,134,135,136,137,138,139,140,141,142,143,144,145,146,147,148,149],\"y\":[2.8000003096156174,2.800008578478273,2.8000133761891215,2.799979270819193,2.79985317715928,2.800089981285633,2.8001449672387313,2.799918173270285,2.8001596652928575,2.7999213170384,2.8000760926074784,2.8001287735761156,2.7999025158370174,2.799733657202537,2.800189713576288,2.800013308814374,2.7998716095207907,2.7999508594331433,2.799971323087277,2.8001069910956926,2.799950164740497,2.799969234753563,2.800037866751812,2.8000701566208885,2.8000767277795116,2.7999164433430614,2.800123806246068,2.8001936148486766,2.8005179428983027,2.7999101367010537,2.7998951688776885,2.8001425656794647,2.800171292512437,2.799934944584139,2.8001763281541274,2.8001000225454225,2.7998375834092424,2.8001522778529226,2.799969376763989,2.799955138116049,2.799999359587934,2.7999992874339066,2.8001627559967606,2.7998594828783108,2.799902373923676,2.799974418601653,2.800227434157593,2.800004921560751,2.7997701944763023,2.7997042968815102,2.8000380055866656,2.7995794693233504,2.7998676937790177,2.799856421857547,2.7996035395992425,2.800448508889194,2.7999382649708644,2.7997064994337575,2.8001856074420775,2.7999095160159424,2.8002971001755155,2.8009108824350486,2.800498134404813,2.800552064369692,2.7997334612916926,2.7996727290225794,2.800022197185345,2.7995919478100917,2.80037274707667,2.79873002431393,2.7994271301228113,2.8000831690357906,2.800313861362726,2.8000412273091038,2.7995610708326106,2.800045249244803,2.7997186041162654,2.799734038850026,2.8008489238343293,2.800171852616364,2.800302383440469,2.8006923384747417,2.7998288700347005,2.799649224970236,2.7998007645455596,2.799560779905161,2.799034883261485,2.800736142401292,2.800525676822044,2.800338225769111,2.7993470887512926,2.7989975665898394,2.799247138555131,2.8000759193744695,2.800466721600675,2.7984927405602504,2.79892506896383,2.799776584982957,2.802130209874871,2.8014285270847505,2.799775511060305,2.8008792625634684,2.8005558103858244,2.799628555271964,2.801326349730013,2.7992132356838724,2.8004884120561586,2.799479920930488,2.8017471108877605,2.801538703286544,2.802562133744858,2.8024255600081633,2.799871209913357,2.7999936782881085,2.7986899430372048,2.7991524734709317,2.7993644649225193,2.7995608075045864,2.79853499156403,2.7985224161936504,2.797215662875753,2.8011533232540975,2.7992932466642526,2.798330343054669,2.79790049674379,2.7978743060769387,2.798427781005218,2.795756326596211,2.7984351170193618,2.7992384797524763,2.799372554928095,2.7994433414648934,2.7968377772648663,2.7995027254570313,2.7956819003570548,2.801369283877461,2.7982945676952555,2.799381075375164,2.7954100463571936,2.79746308609429,2.7924035217866425,2.7995646437292447,2.7935418008379993,2.802862365462861,2.796579188306395,2.7989359572258308,2.7942374494158537,2.7933734062603817,2.80089535293828,2.7961808610973002]},{\"name\":\"MSR basis\",\"type\":\"scatter\",\"x\":[0,1,2,3,4,5,6,7,8,9,10,11,12,13,14,15,16,17,18,19,20,21,22,23,24,25,26,27,28,29,30,31,32,33,34,35,36,37,38,39,40,41,42,43,44,45,46,47,48,49,50,51,52,53,54,55,56,57,58,59,60,61,62,63,64,65,66,67,68,69,70,71,72,73,74,75,76,77,78,79,80,81,82,83,84,85,86,87,88,89,90,91,92,93,94,95,96,97,98,99,100,101,102,103,104,105,106,107,108,109,110,111,112,113,114,115,116,117,118,119,120,121,122,123,124,125,126,127,128,129,130,131,132,133,134,135,136,137,138,139,140,141,142,143,144,145,146,147,148,149],\"y\":[1.184097556173086,1.2285063679037078,1.201689392153193,1.2222939920233942,1.176156901985744,1.1713844733277627,1.2269906325767226,1.1888948222140423,1.192019782486162,1.1541611147770363,1.2154125234295146,1.206230895664637,1.1347970064633066,1.1780513779632176,1.1688008078804681,1.189261247920423,1.1903352453673615,1.198561623732003,1.157841177067993,1.129279616144182,1.1127442910813017,1.1092841763639845,1.1454428485888104,1.1451085616883854,1.1148520946541405,1.144461358475318,1.1483222145723937,1.069177232812186,1.1029352898452065,1.121288751261735,1.1183137513121648,1.065951223949054,1.0633021618546292,1.0720609891171275,1.0592684834123507,1.0608863142641152,1.0283402145744347,1.0627139828636156,1.0814521767879188,1.0016608013525914,1.0575034496959603,1.0250154468708166,1.0372821956023455,1.010773259025317,1.018725231921484,0.9998401078458055,1.0027784953287209,1.0003640040039814,0.9950662631747718,1.0314272553667387,0.9762016801553647,0.9775461322370637,0.9696269193428827,0.970527907736345,0.987863102563821,0.9416448145332771,0.948275729219721,0.9837107357650031,0.9807708370039943,0.9352931591319458,0.9916364730660724,0.9340320886101697,0.9469747053668356,0.9367883268571164,0.9300767968057321,0.9231495717148585,0.9379614940840985,0.9332113968274669,0.9249551395320645,0.8730293917973081,0.9238796520904404,0.9507277467593518,0.8986926371275308,0.892653478503255,0.9238996698906431,0.9109061591502053,0.9220917588475807,0.9108140969601045,0.9024283475471612,0.8401797367794201,0.8712919709722527,0.8846259514176924,0.8683218492494686,0.8529320745242207,0.8562101963007216,0.862881635807184,0.8438494133280992,0.8423925750484603,0.8880350229354592,0.8210571310654091,0.8146517966698846,0.8520026627376115,0.8162958888746485,0.8728849520748201,0.8303566081151108,0.8413396090362755,0.8195466679255967,0.8246050204398125,0.8274647225119979,0.7998395111778114,0.7902685985784532,0.8037427770125644,0.813677058684906,0.7745319650117851,0.8088267690318564,0.7785717958763806,0.7874896664979629,0.7780080395737056,0.7954235441036639,0.7701338229251297,0.8015912802549278,0.7762720403074544,0.76780310328714,0.7933750654929781,0.7550632359448715,0.7756667062675597,0.7723024294999918,0.7921275810053717,0.7625179165543222,0.7398832808017678,0.7884425769851227,0.8082404658229363,0.7825817066415037,0.7942552734487008,0.7541459528794603,0.7470919383474384,0.7596435356929246,0.7448747972376392,0.7408157263133933,0.74526646901241,0.71356095586167,0.7367187710875696,0.7275530169297407,0.7150726567665661,0.7282490999191957,0.7279206084032672,0.74314376534034,0.7325016628195525,0.7450778137446196,0.7320650974018126,0.7072139888784348,0.7358312812923326,0.7317948520573749,0.7177679669021771,0.7121295233483126,0.7152220905536218,0.7123518223484029,0.7183996124154292,0.7013522838659273,0.7313670237134376]},{\"name\":\"normal basis\",\"type\":\"scatter\",\"x\":[150,151,152,153,154,155,156,157,158,159,160,161,162,163,164,165,166,167,168,169,170,171,172,173,174,175,176,177,178,179,180,181,182,183,184,185,186,187,188,189,190,191,192,193,194,195,196,197,198,199,200,201,202,203,204,205,206,207,208,209,210,211,212,213,214,215,216,217,218,219,220,221,222,223,224,225,226,227,228,229,230,231,232,233,234,235,236,237,238,239,240,241,242,243,244,245,246,247,248,249,250,251,252,253,254,255,256,257,258,259,260,261,262,263,264,265,266,267,268,269,270,271,272,273,274,275,276,277,278,279,280,281,282,283,284,285,286,287,288,289,290,291,292,293,294,295,296,297,298,299],\"y\":[2.8021594321257677,2.794372764123084,2.7925016243004985,2.794172342566409,2.7970082360857718,2.79977018398379,2.791537921662564,2.7917507201687526,2.7983509730595055,2.802839098081632,2.797333445774952,2.7966614335742177,2.7956853721177373,2.7884294746258473,2.793997752722158,2.7913299402892955,2.7940094342232027,2.7890214197195404,2.789473698138332,2.7936443285266277,2.795142434337577,2.7814670692493557,2.7812702976487604,2.785966345285159,2.779705279039441,2.772915246855419,2.7897839512178524,2.790935540353714,2.781692366687888,2.7806502718575197,2.7869193766425373,2.7892763244266483,2.7852550076447624,2.786391581471877,2.78684637082638,2.7735066271097186,2.79152594514501,2.7754873083755203,2.767465044225817,2.772137601434468,2.7753041327564754,2.779346252321224,2.7563731001336933,2.7788590783816787,2.76682324475682,2.76576881458559,2.7749479148686302,2.775235991164923,2.7725985441847887,2.772826592964265,2.772501686104858,2.7644574237986883,2.7618623844526056,2.7706917999832132,2.772960342862072,2.7582476747237443,2.741724102046022,2.749282165500474,2.743973406561131,2.73432421225606,2.752032543692241,2.743305995765878,2.727726818417249,2.738842276580706,2.7446222882432454,2.7366874228040547,2.7258261206763614,2.737970283858453,2.7114037538529523,2.724220720032001,2.7069432961451065,2.7366439743870408,2.7105008242820268,2.6798589095496257,2.6865604965349306,2.701357218655204,2.6955798376775957,2.677719980903195,2.675950884103723,2.687234405035764,2.6727440893257537,2.667157088317523,2.652606688238412,2.6403574008837136,2.629658640780953,2.632031513264568,2.651719714084933,2.616821305190327,2.611840250141083,2.6304794406653875,2.6053321566940695,2.5490425132506602,2.5543194457136935,2.59804583730662,2.504000129470362,2.5573545176476715,2.4869205503144562,2.5122741627563774,2.4294705787099167,2.4381114240843136,2.44036075210161,2.4376902480745413,2.403086637101917,2.3594240653135725,2.377732821230622,2.3655838953257127,2.3585673592514915,2.3567967224221635,2.2570138001015714,2.289658916278053,2.2967186824776684,2.298185899930095,2.2284790337000047,2.249175960745971,2.189452059549294,2.182492192958942,2.1608180782242643,2.0623812425106918,2.0679632701919544,2.0031559201180764,1.9788828147188244,1.9198370866705248,1.9453534138154056,1.9543670238867674,1.9095281556785144,1.8744152253607245,1.8174467605515507,1.8333219629855364,1.7011654791827369,1.6423041695169172,1.630219234899699,1.6380792215853832,1.5014141807628896,1.5097231414189667,1.433303451448221,1.4068382654595604,1.410038294050409,1.335863696360541,1.252290724184105,1.2538286234112879,1.162483932878816,1.0702958506711095,1.0532642618943022,0.9194322197105449,0.9147915984398189,0.8386585660397773,0.7961143977301477,0.6799723885100889,0.6970133993337081,0.5288657575114714]},{\"name\":\"MSR basis\",\"type\":\"scatter\",\"x\":[150,151,152,153,154,155,156,157,158,159,160,161,162,163,164,165,166,167,168,169,170,171,172,173,174,175,176,177,178,179,180,181,182,183,184,185,186,187,188,189,190,191,192,193,194,195,196,197,198,199,200,201,202,203,204,205,206,207,208,209,210,211,212,213,214,215,216,217,218,219,220,221,222,223,224,225,226,227,228,229,230,231,232,233,234,235,236,237,238,239,240,241,242,243,244,245,246,247,248,249,250,251,252,253,254,255,256,257,258,259,260,261,262,263,264,265,266,267,268,269,270,271,272,273,274,275,276,277,278,279,280,281,282,283,284,285,286,287,288,289,290,291,292,293,294,295,296,297,298,299],\"y\":[0.7009606479113976,0.6787227511198263,0.6672567733132369,0.6970933276254778,0.6886178019722724,0.6977096803855941,0.6920828093388016,0.6848579689056841,0.6779636568616424,0.6845064902394259,0.6759646240329275,0.6839298049790375,0.6906257149414705,0.6611829922881856,0.6430524491198624,0.6854387740283318,0.6525969888505173,0.6711590998805629,0.6658379831341091,0.670052663636846,0.6977584340593871,0.6726564284671422,0.6606721279563081,0.6576691838158552,0.6526630739586297,0.6659990293525525,0.6575380568908651,0.6501581235077237,0.6630335757871236,0.653840000109971,0.6477074207884134,0.6591499792501655,0.6569218634275588,0.6530297698881529,0.6359735703448807,0.6346511404420083,0.6694442093868707,0.6458664010407387,0.642683628090071,0.6339896390610228,0.631396428122664,0.6276141402993332,0.6344745027053272,0.6391306376968459,0.6371515498692226,0.6329480114892819,0.6430163273964892,0.6297991432047709,0.6178378903899834,0.6334430837378873,0.619925362215662,0.6229580686596004,0.6230196051481793,0.6374766363219759,0.6413412128424368,0.6129921045885367,0.6152077121623164,0.6171630096158202,0.6120923072538553,0.6063254794652704,0.6115441669503392,0.6354448737483466,0.5995195639326366,0.6128524178523979,0.6026998575566145,0.6131521158171299,0.5994128598330047,0.6117886706159441,0.6022503865038772,0.6172229121564701,0.5717973386629576,0.6143637160961717,0.5855192651514515,0.5821988048750834,0.6017687684786976,0.5983770994036479,0.585589178927854,0.5823046763375008,0.5918296480244769,0.6054910685917423,0.5772232469792493,0.5682112707960557,0.5699876026861364,0.5600423334300121,0.571633014710896,0.5665258284330534,0.5650419115745005,0.5682315899570476,0.5727237690271069,0.5693041185185926,0.5723327913797364,0.5634137142511514,0.5884798928774156,0.5707258341501689,0.565100324698417,0.5719212081360228,0.5666048691247069,0.5907490035493514,0.5803443082754706,0.5680976775936017,0.5654818094293074,0.5676616159858054,0.5612807622617361,0.5509584085148655,0.5295048652684624,0.5551791585262461,0.531559719998306,0.5515714338098167,0.544424426102373,0.528786987495296,0.5400582779259858,0.5639577254410747,0.5215160339862343,0.5410955391955156,0.5326675331072368,0.542899185755336,0.5418245404325505,0.5415579924293789,0.5289424280192242,0.5316831067997789,0.5260181783059682,0.540067472799411,0.5147725483352912,0.5318343630824464,0.5341632125368188,0.5078260904990538,0.5137755567509995,0.5216998195571937,0.5320428985071332,0.5068087137472168,0.5199307269031253,0.5321702131460396,0.5053346984689668,0.533850927850498,0.5071973434669259,0.5123960285966297,0.5064336575041365,0.5421644714787539,0.5190939928904477,0.5000652070746082,0.5179920643636877,0.5028032559804252,0.4943191968709396,0.5099630006244845,0.5023156508912411,0.4957142979547173,0.5168631978593324,0.49449641110635845,0.4919002483654489,0.4886952956600406]},{\"name\":\"normal basis\",\"type\":\"scatter\",\"x\":[300,301,302,303,304,305,306,307,308,309,310,311,312,313,314,315,316,317,318,319,320,321,322,323,324,325,326,327,328,329,330,331,332,333,334,335,336,337,338,339,340,341,342,343,344,345,346,347,348,349,350,351,352,353,354,355,356,357,358,359,360,361,362,363,364,365,366,367,368,369,370,371,372,373,374,375,376,377,378,379,380,381,382,383,384,385,386,387,388,389,390,391,392,393,394,395,396,397,398,399,400,401,402,403,404,405,406,407,408,409,410,411,412,413,414,415,416,417,418,419,420,421,422,423,424,425,426,427,428,429,430,431,432,433,434,435,436,437,438,439,440,441,442,443,444,445,446,447,448,449],\"y\":[0.5660751729880773,0.492422977046198,0.34634795696429144,0.29068950516419173,0.18978868974330798,0.1287044446716207,0.09974064068722872,-0.007270846037253041,-0.0932296337520383,-0.09071841626115629,-0.3786765799359618,-0.2251884537432398,-0.3581714364705777,-0.48753595154231044,-0.5565976709848607,-0.6546696047920844,-0.7083144043535641,-0.758012910282256,-0.8832536404045991,-0.9571914652745478,-1.0805481972838298,-1.178930706075263,-1.3258881260255173,-1.267718727342676,-1.3739570197826045,-1.5074360022112954,-1.5904927688218593,-1.61483096173909,-1.7246221441139795,-1.7977539680344536,-1.974378067868263,-2.01667918175633,-1.9491694648303557,-2.1036559772026533,-2.172446530034469,-2.2306480719592554,-2.400359643334408,-2.5024684973406215,-2.562199786175045,-2.465514829365171,-2.6784849078799375,-2.7050332810041615,-2.8870671019398473,-2.8981805292763783,-2.9468539723321667,-3.250558205986785,-2.975603254144252,-3.1865230295714775,-3.264457414238893,-3.351279746647108,-3.264785841184482,-3.3443203672360946,-3.7565552840719065,-3.5131388135375037,-3.6748095389447006,-3.7224015308980163,-3.7887529014180252,-3.786700616903554,-3.8400416686666716,-4.146339135046419,-4.058271938227039,-4.0446670435755365,-4.392167669686188,-4.099336398234098,-4.153302785135599,-4.367656854889993,-4.334105709500983,-4.359515598699831,-4.373276734610113,-4.585664253013384,-4.498070329032834,-4.6202494772645775,-4.766745293452068,-4.5794936513053255,-4.619738447002654,-4.820073142826362,-4.776647919152846,-4.875171650983452,-4.917010517923912,-4.830088223813939,-4.827775865458374,-4.742270668345316,-4.972426191223356,-5.017687804993219,-4.913646178647434,-5.132785391744599,-5.162271093815586,-5.149126569475804,-5.209085993439689,-5.2392353165598635,-5.257274671438537,-5.365643926720289,-5.250468322845625,-5.228966795314135,-5.1559306377783205,-5.404471177470362,-5.534546013765508,-5.494973804832207,-5.575755235837869,-5.410825421012924,-5.547725636398485,-5.504246729903685,-5.544645330762177,-5.60035691901065,-5.60383289234489,-5.573647822705327,-5.552761397852402,-5.637881131661375,-5.673583215354716,-5.641385894743337,-5.683053862347156,-5.6658206008011245,-5.57761906395065,-5.676787058925162,-5.680903319112868,-5.633762152004237,-5.79187046671964,-5.710612511868191,-5.7112220981769815,-5.7779886011374275,-5.671322492007037,-5.733977778289161,-5.711569408010887,-5.803693837378966,-5.834095629004051,-5.759087088244557,-5.851531958766439,-5.855915343509378,-5.870060254502369,-5.828121789132017,-5.847411676825509,-5.8048449456586075,-5.826213661470679,-5.8388789489550055,-5.820299466024295,-5.81542967563333,-5.794303095422533,-5.858434385195003,-5.885731514432956,-5.898917648486909,-5.899890527925444,-5.896547008617165,-5.84243590242589,-5.855326232580956,-5.950478055085506,-5.876336625569143,-5.928327185844396,-5.9111527858768875,-5.839116057419641,-5.847195564130229]},{\"name\":\"MSR basis\",\"type\":\"scatter\",\"x\":[300,301,302,303,304,305,306,307,308,309,310,311,312,313,314,315,316,317,318,319,320,321,322,323,324,325,326,327,328,329,330,331,332,333,334,335,336,337,338,339,340,341,342,343,344,345,346,347,348,349,350,351,352,353,354,355,356,357,358,359,360,361,362,363,364,365,366,367,368,369,370,371,372,373,374,375,376,377,378,379,380,381,382,383,384,385,386,387,388,389,390,391,392,393,394,395,396,397,398,399,400,401,402,403,404,405,406,407,408,409,410,411,412,413,414,415,416,417,418,419,420,421,422,423,424,425,426,427,428,429,430,431,432,433,434,435,436,437,438,439,440,441,442,443,444,445,446,447,448,449],\"y\":[0.5143254349109382,0.4925386812525683,0.4808899584115285,0.49906221915471044,0.49384854453888366,0.47225558458186634,0.49236628438333324,0.4928865825032192,0.48079641935327455,0.4857907681925668,0.4873040478863225,0.4810925520745817,0.4853716583943818,0.48845316860619986,0.49511648598713287,0.4598529595141088,0.48395969236584707,0.48135524693675313,0.46942205456915553,0.4756447771364273,0.4616639189088864,0.46578950530532065,0.4655843910207239,0.4577565549480963,0.4772041171464619,0.4589852434809391,0.46951060366082814,0.4595472187532208,0.4531952452193627,0.4495490488451252,0.45104220268924905,0.44919040271671623,0.4407186214288134,0.4387463419888456,0.45532610359863945,0.4409232244816184,0.45191049885893647,0.44328799424449566,0.4669387785968568,0.42631100346199946,0.45497147595237,0.45288564938236237,0.4387294738360419,0.40364062549442287,0.422010981937629,0.4129087598236191,0.41027254364784654,0.41777101623053786,0.4293616950982904,0.423459606389744,0.41822895010163685,0.43273592149841883,0.39186823777822727,0.4345754129091155,0.3928146713219752,0.3916241511721352,0.3902372646489091,0.3784195764627623,0.36424151701761087,0.39306298343370943,0.3955841001110564,0.39359221722789206,0.38772229395212005,0.4162955918257496,0.369870513173049,0.358814991734217,0.3748389519693393,0.38305227570346534,0.3749319738243932,0.39582358190774847,0.36897458857450727,0.3707700221299027,0.3390911511870146,0.3364322593374784,0.33121719766192925,0.33508295415044687,0.32608843798923237,0.32500787720863283,0.34074209876500255,0.3404646254621896,0.27968386485910546,0.3489758293532966,0.30010316571783363,0.31678810107684613,0.3042987681133802,0.29742223646582344,0.2821615511442365,0.29992573695868174,0.31125343527462035,0.280358055620573,0.28000740210150143,0.2538902796133782,0.289164777240594,0.25010423837574824,0.23700703438510534,0.2943435658141878,0.2736720128930297,0.27245457166057574,0.25593751990106617,0.22225425049905334,0.22932054495310267,0.2002167633089522,0.2608729139941352,0.1871695090214781,0.19561655472743417,0.16579788171284307,0.17890422894975558,0.18939339666843782,0.1745433505275046,0.18692093874697097,0.16521432629279784,0.1114734108225867,0.13242708313463025,0.11739271928422186,0.1288325891309554,0.1509097468455859,0.07091792826183123,0.057183236633763575,0.15938157364568561,0.08055477574121737,0.038172861078131615,0.05583429352196024,0.11597374596336532,0.040007830078935346,0.034614963096336014,-0.0976509368197906,0.12082486007444866,0.0022613594394845,0.028095414387497113,-0.014409943665563267,-0.04770484397649086,-0.0262963620421888,-0.05737179188423948,-0.23698857680601415,-0.1328704911293559,-0.029822512578363422,-0.02789460684868597,-0.09681368629375332,-0.0006197444347341398,-0.09201226440179462,-0.11391369826245386,-0.09960078295572194,-0.2205482913602043,-0.19524228341306304,-0.2864822057520356,-0.24161660106482571,-0.09556233879094533,-0.29928939567647916,-0.27705299433891784,-0.44078230118781986]}],                        {\"template\":{\"data\":{\"bar\":[{\"error_x\":{\"color\":\"rgb(36,36,36)\"},\"error_y\":{\"color\":\"rgb(36,36,36)\"},\"marker\":{\"line\":{\"color\":\"white\",\"width\":0.5},\"pattern\":{\"fillmode\":\"overlay\",\"size\":10,\"solidity\":0.2}},\"type\":\"bar\"}],\"barpolar\":[{\"marker\":{\"line\":{\"color\":\"white\",\"width\":0.5},\"pattern\":{\"fillmode\":\"overlay\",\"size\":10,\"solidity\":0.2}},\"type\":\"barpolar\"}],\"carpet\":[{\"aaxis\":{\"endlinecolor\":\"rgb(36,36,36)\",\"gridcolor\":\"white\",\"linecolor\":\"white\",\"minorgridcolor\":\"white\",\"startlinecolor\":\"rgb(36,36,36)\"},\"baxis\":{\"endlinecolor\":\"rgb(36,36,36)\",\"gridcolor\":\"white\",\"linecolor\":\"white\",\"minorgridcolor\":\"white\",\"startlinecolor\":\"rgb(36,36,36)\"},\"type\":\"carpet\"}],\"choropleth\":[{\"colorbar\":{\"outlinewidth\":1,\"tickcolor\":\"rgb(36,36,36)\",\"ticks\":\"outside\"},\"type\":\"choropleth\"}],\"contour\":[{\"colorbar\":{\"outlinewidth\":1,\"tickcolor\":\"rgb(36,36,36)\",\"ticks\":\"outside\"},\"colorscale\":[[0.0,\"#440154\"],[0.1111111111111111,\"#482878\"],[0.2222222222222222,\"#3e4989\"],[0.3333333333333333,\"#31688e\"],[0.4444444444444444,\"#26828e\"],[0.5555555555555556,\"#1f9e89\"],[0.6666666666666666,\"#35b779\"],[0.7777777777777778,\"#6ece58\"],[0.8888888888888888,\"#b5de2b\"],[1.0,\"#fde725\"]],\"type\":\"contour\"}],\"contourcarpet\":[{\"colorbar\":{\"outlinewidth\":1,\"tickcolor\":\"rgb(36,36,36)\",\"ticks\":\"outside\"},\"type\":\"contourcarpet\"}],\"heatmap\":[{\"colorbar\":{\"outlinewidth\":1,\"tickcolor\":\"rgb(36,36,36)\",\"ticks\":\"outside\"},\"colorscale\":[[0.0,\"#440154\"],[0.1111111111111111,\"#482878\"],[0.2222222222222222,\"#3e4989\"],[0.3333333333333333,\"#31688e\"],[0.4444444444444444,\"#26828e\"],[0.5555555555555556,\"#1f9e89\"],[0.6666666666666666,\"#35b779\"],[0.7777777777777778,\"#6ece58\"],[0.8888888888888888,\"#b5de2b\"],[1.0,\"#fde725\"]],\"type\":\"heatmap\"}],\"heatmapgl\":[{\"colorbar\":{\"outlinewidth\":1,\"tickcolor\":\"rgb(36,36,36)\",\"ticks\":\"outside\"},\"colorscale\":[[0.0,\"#440154\"],[0.1111111111111111,\"#482878\"],[0.2222222222222222,\"#3e4989\"],[0.3333333333333333,\"#31688e\"],[0.4444444444444444,\"#26828e\"],[0.5555555555555556,\"#1f9e89\"],[0.6666666666666666,\"#35b779\"],[0.7777777777777778,\"#6ece58\"],[0.8888888888888888,\"#b5de2b\"],[1.0,\"#fde725\"]],\"type\":\"heatmapgl\"}],\"histogram\":[{\"marker\":{\"line\":{\"color\":\"white\",\"width\":0.6}},\"type\":\"histogram\"}],\"histogram2d\":[{\"colorbar\":{\"outlinewidth\":1,\"tickcolor\":\"rgb(36,36,36)\",\"ticks\":\"outside\"},\"colorscale\":[[0.0,\"#440154\"],[0.1111111111111111,\"#482878\"],[0.2222222222222222,\"#3e4989\"],[0.3333333333333333,\"#31688e\"],[0.4444444444444444,\"#26828e\"],[0.5555555555555556,\"#1f9e89\"],[0.6666666666666666,\"#35b779\"],[0.7777777777777778,\"#6ece58\"],[0.8888888888888888,\"#b5de2b\"],[1.0,\"#fde725\"]],\"type\":\"histogram2d\"}],\"histogram2dcontour\":[{\"colorbar\":{\"outlinewidth\":1,\"tickcolor\":\"rgb(36,36,36)\",\"ticks\":\"outside\"},\"colorscale\":[[0.0,\"#440154\"],[0.1111111111111111,\"#482878\"],[0.2222222222222222,\"#3e4989\"],[0.3333333333333333,\"#31688e\"],[0.4444444444444444,\"#26828e\"],[0.5555555555555556,\"#1f9e89\"],[0.6666666666666666,\"#35b779\"],[0.7777777777777778,\"#6ece58\"],[0.8888888888888888,\"#b5de2b\"],[1.0,\"#fde725\"]],\"type\":\"histogram2dcontour\"}],\"mesh3d\":[{\"colorbar\":{\"outlinewidth\":1,\"tickcolor\":\"rgb(36,36,36)\",\"ticks\":\"outside\"},\"type\":\"mesh3d\"}],\"parcoords\":[{\"line\":{\"colorbar\":{\"outlinewidth\":1,\"tickcolor\":\"rgb(36,36,36)\",\"ticks\":\"outside\"}},\"type\":\"parcoords\"}],\"pie\":[{\"automargin\":true,\"type\":\"pie\"}],\"scatter\":[{\"marker\":{\"colorbar\":{\"outlinewidth\":1,\"tickcolor\":\"rgb(36,36,36)\",\"ticks\":\"outside\"}},\"type\":\"scatter\"}],\"scatter3d\":[{\"line\":{\"colorbar\":{\"outlinewidth\":1,\"tickcolor\":\"rgb(36,36,36)\",\"ticks\":\"outside\"}},\"marker\":{\"colorbar\":{\"outlinewidth\":1,\"tickcolor\":\"rgb(36,36,36)\",\"ticks\":\"outside\"}},\"type\":\"scatter3d\"}],\"scattercarpet\":[{\"marker\":{\"colorbar\":{\"outlinewidth\":1,\"tickcolor\":\"rgb(36,36,36)\",\"ticks\":\"outside\"}},\"type\":\"scattercarpet\"}],\"scattergeo\":[{\"marker\":{\"colorbar\":{\"outlinewidth\":1,\"tickcolor\":\"rgb(36,36,36)\",\"ticks\":\"outside\"}},\"type\":\"scattergeo\"}],\"scattergl\":[{\"marker\":{\"colorbar\":{\"outlinewidth\":1,\"tickcolor\":\"rgb(36,36,36)\",\"ticks\":\"outside\"}},\"type\":\"scattergl\"}],\"scattermapbox\":[{\"marker\":{\"colorbar\":{\"outlinewidth\":1,\"tickcolor\":\"rgb(36,36,36)\",\"ticks\":\"outside\"}},\"type\":\"scattermapbox\"}],\"scatterpolar\":[{\"marker\":{\"colorbar\":{\"outlinewidth\":1,\"tickcolor\":\"rgb(36,36,36)\",\"ticks\":\"outside\"}},\"type\":\"scatterpolar\"}],\"scatterpolargl\":[{\"marker\":{\"colorbar\":{\"outlinewidth\":1,\"tickcolor\":\"rgb(36,36,36)\",\"ticks\":\"outside\"}},\"type\":\"scatterpolargl\"}],\"scatterternary\":[{\"marker\":{\"colorbar\":{\"outlinewidth\":1,\"tickcolor\":\"rgb(36,36,36)\",\"ticks\":\"outside\"}},\"type\":\"scatterternary\"}],\"surface\":[{\"colorbar\":{\"outlinewidth\":1,\"tickcolor\":\"rgb(36,36,36)\",\"ticks\":\"outside\"},\"colorscale\":[[0.0,\"#440154\"],[0.1111111111111111,\"#482878\"],[0.2222222222222222,\"#3e4989\"],[0.3333333333333333,\"#31688e\"],[0.4444444444444444,\"#26828e\"],[0.5555555555555556,\"#1f9e89\"],[0.6666666666666666,\"#35b779\"],[0.7777777777777778,\"#6ece58\"],[0.8888888888888888,\"#b5de2b\"],[1.0,\"#fde725\"]],\"type\":\"surface\"}],\"table\":[{\"cells\":{\"fill\":{\"color\":\"rgb(237,237,237)\"},\"line\":{\"color\":\"white\"}},\"header\":{\"fill\":{\"color\":\"rgb(217,217,217)\"},\"line\":{\"color\":\"white\"}},\"type\":\"table\"}]},\"layout\":{\"annotationdefaults\":{\"arrowhead\":0,\"arrowwidth\":1},\"autotypenumbers\":\"strict\",\"coloraxis\":{\"colorbar\":{\"outlinewidth\":1,\"tickcolor\":\"rgb(36,36,36)\",\"ticks\":\"outside\"}},\"colorscale\":{\"diverging\":[[0.0,\"rgb(103,0,31)\"],[0.1,\"rgb(178,24,43)\"],[0.2,\"rgb(214,96,77)\"],[0.3,\"rgb(244,165,130)\"],[0.4,\"rgb(253,219,199)\"],[0.5,\"rgb(247,247,247)\"],[0.6,\"rgb(209,229,240)\"],[0.7,\"rgb(146,197,222)\"],[0.8,\"rgb(67,147,195)\"],[0.9,\"rgb(33,102,172)\"],[1.0,\"rgb(5,48,97)\"]],\"sequential\":[[0.0,\"#440154\"],[0.1111111111111111,\"#482878\"],[0.2222222222222222,\"#3e4989\"],[0.3333333333333333,\"#31688e\"],[0.4444444444444444,\"#26828e\"],[0.5555555555555556,\"#1f9e89\"],[0.6666666666666666,\"#35b779\"],[0.7777777777777778,\"#6ece58\"],[0.8888888888888888,\"#b5de2b\"],[1.0,\"#fde725\"]],\"sequentialminus\":[[0.0,\"#440154\"],[0.1111111111111111,\"#482878\"],[0.2222222222222222,\"#3e4989\"],[0.3333333333333333,\"#31688e\"],[0.4444444444444444,\"#26828e\"],[0.5555555555555556,\"#1f9e89\"],[0.6666666666666666,\"#35b779\"],[0.7777777777777778,\"#6ece58\"],[0.8888888888888888,\"#b5de2b\"],[1.0,\"#fde725\"]]},\"colorway\":[\"#1F77B4\",\"#FF7F0E\",\"#2CA02C\",\"#D62728\",\"#9467BD\",\"#8C564B\",\"#E377C2\",\"#7F7F7F\",\"#BCBD22\",\"#17BECF\"],\"font\":{\"color\":\"rgb(36,36,36)\"},\"geo\":{\"bgcolor\":\"white\",\"lakecolor\":\"white\",\"landcolor\":\"white\",\"showlakes\":true,\"showland\":true,\"subunitcolor\":\"white\"},\"hoverlabel\":{\"align\":\"left\"},\"hovermode\":\"closest\",\"mapbox\":{\"style\":\"light\"},\"paper_bgcolor\":\"white\",\"plot_bgcolor\":\"white\",\"polar\":{\"angularaxis\":{\"gridcolor\":\"rgb(232,232,232)\",\"linecolor\":\"rgb(36,36,36)\",\"showgrid\":false,\"showline\":true,\"ticks\":\"outside\"},\"bgcolor\":\"white\",\"radialaxis\":{\"gridcolor\":\"rgb(232,232,232)\",\"linecolor\":\"rgb(36,36,36)\",\"showgrid\":false,\"showline\":true,\"ticks\":\"outside\"}},\"scene\":{\"xaxis\":{\"backgroundcolor\":\"white\",\"gridcolor\":\"rgb(232,232,232)\",\"gridwidth\":2,\"linecolor\":\"rgb(36,36,36)\",\"showbackground\":true,\"showgrid\":false,\"showline\":true,\"ticks\":\"outside\",\"zeroline\":false,\"zerolinecolor\":\"rgb(36,36,36)\"},\"yaxis\":{\"backgroundcolor\":\"white\",\"gridcolor\":\"rgb(232,232,232)\",\"gridwidth\":2,\"linecolor\":\"rgb(36,36,36)\",\"showbackground\":true,\"showgrid\":false,\"showline\":true,\"ticks\":\"outside\",\"zeroline\":false,\"zerolinecolor\":\"rgb(36,36,36)\"},\"zaxis\":{\"backgroundcolor\":\"white\",\"gridcolor\":\"rgb(232,232,232)\",\"gridwidth\":2,\"linecolor\":\"rgb(36,36,36)\",\"showbackground\":true,\"showgrid\":false,\"showline\":true,\"ticks\":\"outside\",\"zeroline\":false,\"zerolinecolor\":\"rgb(36,36,36)\"}},\"shapedefaults\":{\"fillcolor\":\"black\",\"line\":{\"width\":0},\"opacity\":0.3},\"ternary\":{\"aaxis\":{\"gridcolor\":\"rgb(232,232,232)\",\"linecolor\":\"rgb(36,36,36)\",\"showgrid\":false,\"showline\":true,\"ticks\":\"outside\"},\"baxis\":{\"gridcolor\":\"rgb(232,232,232)\",\"linecolor\":\"rgb(36,36,36)\",\"showgrid\":false,\"showline\":true,\"ticks\":\"outside\"},\"bgcolor\":\"white\",\"caxis\":{\"gridcolor\":\"rgb(232,232,232)\",\"linecolor\":\"rgb(36,36,36)\",\"showgrid\":false,\"showline\":true,\"ticks\":\"outside\"}},\"title\":{\"x\":0.05},\"xaxis\":{\"automargin\":true,\"gridcolor\":\"rgb(232,232,232)\",\"linecolor\":\"rgb(36,36,36)\",\"showgrid\":false,\"showline\":true,\"ticks\":\"outside\",\"title\":{\"standoff\":15},\"zeroline\":false,\"zerolinecolor\":\"rgb(36,36,36)\"},\"yaxis\":{\"automargin\":true,\"gridcolor\":\"rgb(232,232,232)\",\"linecolor\":\"rgb(36,36,36)\",\"showgrid\":false,\"showline\":true,\"ticks\":\"outside\",\"title\":{\"standoff\":15},\"zeroline\":false,\"zerolinecolor\":\"rgb(36,36,36)\"}}},\"title\":{\"text\":\"<b>S-S model </b>, L=4, J2 =1, J1 =0.1 , η=0.005, α=16, samples=1000\"},\"xaxis\":{\"mirror\":true,\"showline\":true,\"title\":{\"text\":\"Iteration\"}},\"yaxis\":{\"mirror\":true,\"showline\":true,\"title\":{\"text\":\"Energy\"}}},                        {\"responsive\": true}                    ).then(function(){\n",
       "                            \n",
       "var gd = document.getElementById('36017f18-429e-4384-a9f8-339b7d4e924e');\n",
       "var x = new MutationObserver(function (mutations, observer) {{\n",
       "        var display = window.getComputedStyle(gd).display;\n",
       "        if (!display || display === 'none') {{\n",
       "            console.log([gd, 'removed!']);\n",
       "            Plotly.purge(gd);\n",
       "            observer.disconnect();\n",
       "        }}\n",
       "}});\n",
       "\n",
       "// Listen for the removal of the full notebook cells\n",
       "var notebookContainer = gd.closest('#notebook-container');\n",
       "if (notebookContainer) {{\n",
       "    x.observe(notebookContainer, {childList: true});\n",
       "}}\n",
       "\n",
       "// Listen for the clearing of the current output cell\n",
       "var outputEl = gd.closest('.output');\n",
       "if (outputEl) {{\n",
       "    x.observe(outputEl, {childList: true});\n",
       "}}\n",
       "\n",
       "                        })                };                });            </script>        </div>"
      ]
     },
     "metadata": {},
     "output_type": "display_data"
    }
   ],
   "source": [
    "# import the data from log file\n",
    "OUT_NAME_suffixless=OUT_NAME\n",
    "data = []\n",
    "for i in range(no_of_runs):\n",
    "    data.append(json.load(open(OUT_NAME_suffixless+str(i)+\".log\")))\n",
    "names = [\"normal basis\",\"MSR basis\"]\n",
    "if type(data[0][\"Energy\"][\"Mean\"]) == dict: #DTYPE in (np.complex128, np.complex64):#, np.float64):# and False:\n",
    "    energy_convergence = [data[i][\"Energy\"][\"Mean\"][\"real\"] for i in range(no_of_runs)]\n",
    "    # symmetry = [data[i][\"symmetry\"][\"Mean\"][\"real\"] for i in range(no_of_runs-use_MSR)]\n",
    "else:\n",
    "    energy_convergence = [data[i][\"Energy\"][\"Mean\"] for i in range(no_of_runs)]\n",
    "    # symmetry = [data[i][\"symmetry\"][\"Mean\"] for i in range(no_of_runs-use_MSR)]\n",
    "for i in range(no_of_runs):\n",
    "    figure.add_trace(go.Scatter(\n",
    "        x=data[i][\"Energy\"][\"iters\"], y=energy_convergence[i],\n",
    "        name=names[i]\n",
    "    ))\n",
    "    # figure.add_trace(go.Scatter(\n",
    "    #     x=data[i][\"Energy\"][\"iters\"], y=symmetry[i],\n",
    "    #     name=names[i]+\"_swap\"\n",
    "    # ))\n",
    "\n",
    "#figure.add_hline(y=exact_gs_energy)\n",
    "figure.update_layout(xaxis_title=\"Iteration\",yaxis_title=\"Energy\")\n",
    "figure.show()"
   ]
  },
  {
   "cell_type": "markdown",
   "metadata": {},
   "source": [
    "# Calculating symmetrizations"
   ]
  }
 ],
 "metadata": {
  "interpreter": {
   "hash": "31f2aee4e71d21fbe5cf8b01ff0e069b9275f58929596ceb00d14d90e3e16cd6"
  },
  "kernelspec": {
   "display_name": "Python 3.8.10 64-bit",
   "name": "python3"
  },
  "language_info": {
   "codemirror_mode": {
    "name": "ipython",
    "version": 3
   },
   "file_extension": ".py",
   "mimetype": "text/x-python",
   "name": "python",
   "nbconvert_exporter": "python",
   "pygments_lexer": "ipython3",
   "version": "3.8.10"
  },
  "metadata": {
   "interpreter": {
    "hash": "916dbcbb3f70747c44a77c7bcd40155683ae19c65e1c03b4aa3499c5328201f1"
   }
  }
 },
 "nbformat": 4,
 "nbformat_minor": 4
}
