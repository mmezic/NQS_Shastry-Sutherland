{
 "cells": [
  {
   "cell_type": "markdown",
   "metadata": {},
   "source": [
    "# Exploring Shastry-Sutterland model with RBM variational wave function and other models"
   ]
  },
  {
   "cell_type": "code",
   "execution_count": 151,
   "metadata": {},
   "outputs": [
    {
     "name": "stdout",
     "output_type": "stream",
     "text": [
      "Python version: 3.8.10 (default, Nov 26 2021, 20:14:08) \n",
      "[GCC 9.3.0]\n",
      "NetKet version: 3.3.3\n",
      "NumPy version: 1.20.3\n"
     ]
    }
   ],
   "source": [
    "import netket as nk\n",
    "import numpy as np\n",
    "import time\n",
    "import json\n",
    "import plotly.graph_objects as go\n",
    "import matplotlib.pyplot as plt\n",
    "import jax\n",
    "import flax\n",
    "import optax\n",
    "from sys import version as pyvers\n",
    "\n",
    "print(\"Python version: {}\".format(pyvers))\n",
    "print(\"NetKet version: {}\".format(nk.__version__))\n",
    "print(\"NumPy version: {}\".format(np.__version__))"
   ]
  },
  {
   "cell_type": "markdown",
   "metadata": {},
   "source": [
    "### Setup relevant parameters and settings of the simulation "
   ]
  },
  {
   "cell_type": "code",
   "execution_count": 152,
   "metadata": {},
   "outputs": [],
   "source": [
    "\"\"\"lattice\"\"\"\n",
    "SITES    = 16             # 4, 8, 16, 20 ... number of vertices in a tile determines the tile shape \n",
    "JEXCH1   = .9            # nn interaction\n",
    "JEXCH2   = 1             # nnn interaction\n",
    "H_Z      = 0             # magnetic field\n",
    "USE_PBC = True\n",
    "TOTAL_SZ = None          # 0, None ... restriction of Hilbert space\n",
    "#USE_MSR = True          # Should we use a Marshall sign rule? In this notebook, we use both.\n",
    "\n",
    "\"\"\"machine learning\"\"\"\n",
    "MACHINE  = \"Jastrow\"         # RBM, RBMSymm, RBMSymm_transl, RBMModPhase, GCNN, Jastrow, myRBM\n",
    "DTYPE    = np.complex128 # data-type of weights in neural network\n",
    "ALPHA    = 8            # N_hidden / N_visible\n",
    "ETA      = .01          # learning rate (0.01 usually works)\n",
    "SAMPLER  = 'exact'       # 'local' = MetropolisLocal, 'exchange' = MetropolisExchange\n",
    "SAMPLES  = 1000          # number of Monte Carlo samples\n",
    "NUM_ITER = 300           # number of convergence iterations\n",
    "N_LAYERS = 2 #2             # number of layers (in case of G-CNN)\n",
    "FEATURES = (16,16) #16 #(8,4)         # dimensions of layers (in case of G-CNN)\n",
    "\n",
    "OUT_NAME = \"SS_\"+str(SITES)+\"j1=\"+str(JEXCH1) # output file name"
   ]
  },
  {
   "cell_type": "markdown",
   "metadata": {},
   "source": [
    "### Lattice definition\n",
    "Basic structure of tiled lattices is implemented in `lattice_and_ops.py` file. Class `Lattice` implements relative positional functions, \n",
    "- e.g. *`rt(node)` returns the index of the right neighbour of a site with index `node`*\n",
    "\n",
    "The `for` loop constructs full Shastry-Sutherland lattice with PBC using these auxiliary positional functions."
   ]
  },
  {
   "cell_type": "code",
   "execution_count": 153,
   "metadata": {},
   "outputs": [],
   "source": [
    "from lattice_and_ops import Lattice\n",
    "lattice = Lattice(SITES)\n",
    "\n",
    "if not USE_PBC and SITES != 16:\n",
    "    raise Exception(\"Non-PBC are implemented only for 4x4 lattice!!!\")\n",
    "\n",
    "# Construction of custom graph according to tiled lattice structure defined in the Lattice class.\n",
    "edge_colors = []\n",
    "for node in range(SITES):\n",
    "    if USE_PBC or not node in [3,7,11,15]:\n",
    "        edge_colors.append([node,lattice.rt(node), 1])  # horizontal connections\n",
    "    if USE_PBC or not node in [12,13,14,15]:\n",
    "        edge_colors.append([node,lattice.bot(node), 1]) # vertical connections\n",
    "    row, column = lattice.position(node)\n",
    "    \n",
    "    SS_color = 3 if not USE_PBC and node in [3,7,4,12,13,14,15] else 2\n",
    "    if column%2 == 0:\n",
    "        if row%2 == 0:\n",
    "            edge_colors.append([node,lattice.lrt(node),SS_color]) # diagonal bond\n",
    "        else:\n",
    "            edge_colors.append([node,lattice.llft(node),SS_color]) # diagonal bond\n",
    "\n",
    "g = nk.graph.Graph(edges=edge_colors) #,n_nodes=3)\n",
    "N = g.n_nodes\n",
    "\n",
    "hilbert = nk.hilbert.Spin(s=.5, N=g.n_nodes, total_sz=TOTAL_SZ)"
   ]
  },
  {
   "cell_type": "markdown",
   "metadata": {},
   "source": [
    "### Characters of the symmetries\n",
    "In case of G-CNN, we need to specify the characters of the symmetry transformations.\n",
    "- DS phase anti-symmetric wrt permutations with negative sign and symmetric wer permutaions with postive sign\n",
    "- AF phase is always symmetric for all permutations  "
   ]
  },
  {
   "cell_type": "code",
   "execution_count": 154,
   "metadata": {},
   "outputs": [
    {
     "name": "stdout",
     "output_type": "stream",
     "text": [
      "There are 64 full symmetries.\n"
     ]
    }
   ],
   "source": [
    "\n",
    "print(\"There are\", len(g.automorphisms()), \"full symmetries.\")\n",
    "# deciding point between DS and AF phase is set to 0.5\n",
    "if JEXCH1 < 0.5:\n",
    "    # DS phase is partly anti-symmetric\n",
    "    characters = []\n",
    "    from lattice_and_ops import permutation_sign\n",
    "    for perm in g.automorphisms():\n",
    "        # print(perm, \"with sign\", permutation_sign(np.asarray(perm)))\n",
    "        characters.append(permutation_sign(np.asarray(perm)))\n",
    "    characters_dimer_1 = np.asarray(characters,dtype=complex)\n",
    "    characters_dimer_2 = characters_dimer_1\n",
    "else:\n",
    "    # AF phase if fully symmetric\n",
    "    characters_dimer_1 = np.ones((len(g.automorphisms()),), dtype=complex)\n",
    "    characters_dimer_2 = characters_dimer_1"
   ]
  },
  {
   "cell_type": "markdown",
   "metadata": {},
   "source": [
    "### Translations\n",
    "\n",
    "If we want to include only translations, we have to exclude some symmetries from `g.automorphisms()`.\n",
    "\n",
    "\n",
    "⚠️ TODO ⚠️ <span style=\"color:red\"> This part is not fully automated yet. Translations are currently picked by hand from the group of all automorphisms. </span>"
   ]
  },
  {
   "cell_type": "code",
   "execution_count": 155,
   "metadata": {},
   "outputs": [
    {
     "name": "stdout",
     "output_type": "stream",
     "text": [
      "Out of 64 permutations, 4 translations were picked.\n"
     ]
    }
   ],
   "source": [
    "if MACHINE == \"RBMSymm_transl\" and not (N in [4,16]):\n",
    "    raise NotImplementedError(\"Extraction of translations from the group of automorphisms is not implemented yet.\")\n",
    "translations = []\n",
    "for perm in g.automorphisms():\n",
    "    aperm = np.asarray(perm)\n",
    "    if N == 4:\n",
    "        if (aperm[0],aperm[1]) in ((0,1),(1,0),(2,3),(3,2)): # N = 4\n",
    "            translations.append(nk.utils.group._permutation_group.Permutation(aperm))\n",
    "    if N == 16:\n",
    "        if (aperm[0],aperm[1],aperm[3]) in ((0,1,3),(2,3,1),(8,9,11),(10,11,9)): # N = 16\n",
    "    # if (aperm[0],aperm[1],aperm[2],aperm[3]) in ((4,7,6,5),): # N = 8\n",
    "    # if (aperm[2],aperm[0]) in ((2,0),(3,0),(0,1),(1,2)):#,(2,3,1)): # N = 16, two dimers with just translation\n",
    "    # if (aperm[0],aperm[1],aperm[3]) in ((0,1,3),(3,2,0),(2,3,1),(1,0,2)): # N = 16, two dimers plus second translation option\n",
    "            translations.append(nk.utils.group._permutation_group.Permutation(aperm))\n",
    "translation_group = nk.utils.group._permutation_group.PermutationGroup(translations,degree=SITES)\n",
    "print(\"Out of\", len(g.automorphisms()), \"permutations,\",len(translation_group), \"translations were picked.\")"
   ]
  },
  {
   "cell_type": "markdown",
   "metadata": {},
   "source": [
    "## Hamoltonian definition\n",
    "$$ H = J_{1} \\sum\\limits_{\\langle i,j \\rangle}^{L} \\vec{\\sigma}_{i} \\cdot \\vec{\\sigma}_{j} + J_{2} \\sum\\limits_{\\langle\\langle i,j \\rangle\\rangle_{SS}}^{L}  \\vec{\\sigma}_{i} \\cdot \\vec{\\sigma}_{j} + 2h\\sum\\limits_{i} \\sigma^z_{i}\\,. $$\n",
    "\n",
    "Axiliary constant operators used to define hamiltonian are loaded from the external file, they are pre-defined in the `HamOps` class."
   ]
  },
  {
   "cell_type": "code",
   "execution_count": 156,
   "metadata": {},
   "outputs": [],
   "source": [
    "from lattice_and_ops import HamOps\n",
    "ho = HamOps()\n",
    "# H_Z = .5\n",
    "ha_1 = nk.operator.GraphOperator(hilbert, graph=g, bond_ops=ho.bond_operator(JEXCH1,JEXCH2, h_z=H_Z, use_MSR=False), bond_ops_colors=ho.bond_color)\n",
    "ha_2 = nk.operator.GraphOperator(hilbert, graph=g, bond_ops=ho.bond_operator(JEXCH1,JEXCH2, h_z=H_Z, use_MSR=True), bond_ops_colors=ho.bond_color)\n"
   ]
  },
  {
   "cell_type": "markdown",
   "metadata": {},
   "source": [
    "### Magnetization operator definition\n",
    "$$ \\hat{m}_z := \\sum\\limits_i \\sigma_i^z $$"
   ]
  },
  {
   "cell_type": "code",
   "execution_count": 157,
   "metadata": {},
   "outputs": [],
   "source": [
    "m_z = sum(nk.operator.spin.sigmaz(hilbert, i) for i in range(hilbert.size))\n",
    "from lattice_and_ops import Operators, Lattice\n",
    "ops = Operators(lattice,hilbert,ho.mszsz,ho.exchange)"
   ]
  },
  {
   "cell_type": "code",
   "execution_count": 158,
   "metadata": {},
   "outputs": [
    {
     "name": "stdout",
     "output_type": "stream",
     "text": [
      "#N = 16\n",
      "# J1     J2      H_Z            m_z            ground          1.excited          2.excited\n",
      "ED took -0.024506799379984536 min.\n",
      "0.900   1.000  0.0000000000   0.0000000000   -34.0819077860   -31.7606912678   -31.7606912678\n"
     ]
    }
   ],
   "source": [
    "if not False: # exact diagonalization scan\n",
    "    # H_Z = 0\n",
    "    print(\"#N =\", N)\n",
    "    print(\"# J1     J2      H_Z            m_z            ground          1.excited          2.excited\")\n",
    "    for H_Z in np.arange(0,0.03,step=0.1):\n",
    "        ha = nk.operator.GraphOperator(hilbert, graph=g, bond_ops=ho.bond_operator(JEXCH1,JEXCH2, h_z=H_Z, use_MSR=True), bond_ops_colors=ho.bond_color)\n",
    "        start = time.time()\n",
    "        evals, eigvects = nk.exact.lanczos_ed(ha, k=3, compute_eigenvectors=True)\n",
    "        ground_state = eigvects.T[0]\n",
    "        end = time.time()\n",
    "        magnetization_z = ground_state.transpose()@(m_z@ground_state)\n",
    "        # m_DS = ground_state.transpose()@(ops.m_dimer_op@ground_state)\n",
    "        # m_PS = ground_state.transpose()@(ops.m_plaquette_op@ground_state)\n",
    "        # m_AF = ground_state.transpose()@(ops.m_s2_op_MSR@ground_state)\n",
    "        print(\"ED took\", (start-end)/60, \"min.\")\n",
    "        # print(np.round(np.array(ground_state),5))\n",
    "        # print(ha.to_dense())\n",
    "        print(\"%.3f   %.3f  %2.10f   %2.10f   %2.10f   %14.10f   %14.10f\" % (JEXCH1, JEXCH2, H_Z, magnetization_z, evals[0], evals[1], evals[2]))"
   ]
  },
  {
   "cell_type": "code",
   "execution_count": 159,
   "metadata": {},
   "outputs": [],
   "source": [
    "# m_AF = ops.m_sSquared_slow(ground_state)"
   ]
  },
  {
   "cell_type": "code",
   "execution_count": 160,
   "metadata": {},
   "outputs": [
    {
     "data": {
      "text/plain": [
       "1.9287061048011513e-29"
      ]
     },
     "execution_count": 160,
     "metadata": {},
     "output_type": "execute_result"
    }
   ],
   "source": [
    "evals, eigvects = nk.exact.lanczos_ed(ha_1, k=3, compute_eigenvectors=True)\n",
    "ground_state = eigvects.T[0]\n",
    "ground_state.transpose()@(m_z@ground_state)"
   ]
  },
  {
   "cell_type": "markdown",
   "metadata": {},
   "source": [
    "## Exact diagonalization"
   ]
  },
  {
   "cell_type": "code",
   "execution_count": 161,
   "metadata": {},
   "outputs": [
    {
     "name": "stdout",
     "output_type": "stream",
     "text": [
      "Ground state energy: -34.08190778603115 \n",
      "It took  1.38 s = 0.02 min\n"
     ]
    }
   ],
   "source": [
    "if g.n_nodes < 20:\n",
    "    start = time.time()\n",
    "    if g.n_nodes < 15:\n",
    "        evals, eigvects = nk.exact.full_ed(ha_1, compute_eigenvectors=True)\n",
    "    else:\n",
    "        evals, eigvects = nk.exact.lanczos_ed(ha_1, k=3, compute_eigenvectors=True)\n",
    "    end = time.time()\n",
    "    diag_time = end - start\n",
    "    print(\"Ground state energy:\",evals[0], \"\\nIt took \", round(diag_time,2), \"s =\", round((diag_time)/60,2),\"min\")\n",
    "else:\n",
    "    print(\"System is too large for exact diagonalization. Setting exact_ground_energy = 0 (which is wrong)\")\n",
    "    evals = [0,0,0]\n",
    "    eigvects = None \n",
    "exact_ground_energy = evals[0]"
   ]
  },
  {
   "cell_type": "markdown",
   "metadata": {},
   "source": [
    "# Machine learning starts here"
   ]
  },
  {
   "cell_type": "markdown",
   "metadata": {},
   "source": [
    "## Machine definition and other auxiliary `netket` objects\n",
    "We define two sets of these objects, usually: \n",
    "- variables ending with ...`_1` belongs to the choice of standard basis,\n",
    "- variables ending with ...`_2` belongs to the choice of MSR basis.\n",
    "\n",
    "But they can be used in a different way when we need to compare two different models."
   ]
  },
  {
   "cell_type": "code",
   "execution_count": 162,
   "metadata": {},
   "outputs": [
    {
     "ename": "TypeError",
     "evalue": "__init__() got an unexpected keyword argument 'dtyoe'",
     "output_type": "error",
     "traceback": [
      "\u001b[0;31m---------------------------------------------------------------------------\u001b[0m",
      "\u001b[0;31mTypeError\u001b[0m                                 Traceback (most recent call last)",
      "\u001b[0;32m/tmp/ipykernel_271/3454608313.py\u001b[0m in \u001b[0;36m<module>\u001b[0;34m\u001b[0m\n\u001b[1;32m     22\u001b[0m     \u001b[0;31m# machine_1 = Jastrow()\u001b[0m\u001b[0;34m\u001b[0m\u001b[0;34m\u001b[0m\u001b[0;34m\u001b[0m\u001b[0m\n\u001b[1;32m     23\u001b[0m     \u001b[0;31m# machine_2 = Jastrow()¸\u001b[0m\u001b[0;34m\u001b[0m\u001b[0;34m\u001b[0m\u001b[0;34m\u001b[0m\u001b[0m\n\u001b[0;32m---> 24\u001b[0;31m     \u001b[0mmachine_1\u001b[0m \u001b[0;34m=\u001b[0m \u001b[0mnk\u001b[0m\u001b[0;34m.\u001b[0m\u001b[0mmodels\u001b[0m\u001b[0;34m.\u001b[0m\u001b[0mJastrow\u001b[0m\u001b[0;34m(\u001b[0m\u001b[0mdtyoe\u001b[0m\u001b[0;34m=\u001b[0m\u001b[0mDTYPE\u001b[0m\u001b[0;34m)\u001b[0m\u001b[0;34m\u001b[0m\u001b[0;34m\u001b[0m\u001b[0m\n\u001b[0m\u001b[1;32m     25\u001b[0m     \u001b[0mmachine_2\u001b[0m \u001b[0;34m=\u001b[0m \u001b[0mnk\u001b[0m\u001b[0;34m.\u001b[0m\u001b[0mmodels\u001b[0m\u001b[0;34m.\u001b[0m\u001b[0mJastrow\u001b[0m\u001b[0;34m(\u001b[0m\u001b[0mdtyoe\u001b[0m\u001b[0;34m=\u001b[0m\u001b[0mDTYPE\u001b[0m\u001b[0;34m)\u001b[0m\u001b[0;34m\u001b[0m\u001b[0;34m\u001b[0m\u001b[0m\n\u001b[1;32m     26\u001b[0m \u001b[0;32melif\u001b[0m \u001b[0mMACHINE\u001b[0m \u001b[0;34m==\u001b[0m \u001b[0;34m\"RBMModPhase\"\u001b[0m\u001b[0;34m:\u001b[0m\u001b[0;34m\u001b[0m\u001b[0;34m\u001b[0m\u001b[0m\n",
      "\u001b[0;31mTypeError\u001b[0m: __init__() got an unexpected keyword argument 'dtyoe'"
     ]
    }
   ],
   "source": [
    "# Selection of machine type\n",
    "if MACHINE == \"RBM\":\n",
    "    machine_1 = nk.models.RBM(dtype=DTYPE, alpha=ALPHA)#, use_visible_bias=False) \n",
    "    machine_2 = nk.models.RBM(dtype=DTYPE, alpha=ALPHA)#, use_visible_bias=False)\n",
    "elif MACHINE == \"RBMSymm\":\n",
    "    machine_1 = nk.models.RBMSymm(g.automorphisms(), dtype=DTYPE, alpha=ALPHA)#, use_visible_bias=False) \n",
    "    machine_2 = nk.models.RBMSymm(g.automorphisms(), dtype=DTYPE, alpha=ALPHA)#, use_visible_bias=False)\n",
    "elif MACHINE == \"RBMSymm_transl\":\n",
    "    machine_1 = nk.models.RBMSymm(translation_group, dtype=DTYPE, alpha=ALPHA)#, use_visible_bias=False) \n",
    "    machine_2 = nk.models.RBMSymm(translation_group, dtype=DTYPE, alpha=ALPHA)#, use_visible_bias=False)\n",
    "elif MACHINE == \"GCNN\":\n",
    "    machine_1 = nk.models.GCNN(symmetries=g.automorphisms(), dtype=DTYPE, \n",
    "        layers=N_LAYERS, features=FEATURES, characters=characters_dimer_1)#, output_activation=log_cosh)\n",
    "    machine_2 = nk.models.GCNN(symmetries=g.automorphisms(), dtype=DTYPE, \n",
    "        layers=N_LAYERS, features=FEATURES, characters=characters_dimer_2)#, output_activation=log_cosh)\n",
    "elif MACHINE == \"myRBM\":\n",
    "    from GCNN_Nomura import GCNN_my\n",
    "    machine_1 = GCNN_my(symmetries=g.automorphisms(), dtype=DTYPE, layers=1, features=ALPHA, characters=characters_dimer_1, output_activation=nk.nn.log_cosh, use_bias=True, use_visible_bias=True)\n",
    "    machine_2 = GCNN_my(symmetries=g.automorphisms(), dtype=DTYPE, layers=1, features=ALPHA, characters=characters_dimer_2, output_activation=nk.nn.log_cosh, use_bias=True, use_visible_bias=False)\n",
    "elif MACHINE == \"Jastrow\":\n",
    "    from lattice_and_ops import Jastrow\n",
    "    # machine_1 = Jastrow()\n",
    "    # machine_2 = Jastrow()¸\n",
    "    machine_1 = nk.models.Jastrow(dtype=DTYPE)\n",
    "    machine_2 = nk.models.Jastrow(dtype=DTYPE)\n",
    "elif MACHINE == \"RBMModPhase\":\n",
    "    machine_1 = nk.models.RBMModPhase(alpha=ALPHA, use_hidden_bias=True, dtype=np.float64)\n",
    "    machine_2 = nk.models.RBMModPhase(alpha=ALPHA, use_hidden_bias=True, dtype=np.float64)\n",
    "\n",
    "    # A linear schedule varies the learning rate from 0 to 0.01 across 600 steps.\n",
    "    modulus_schedule_1=optax.linear_schedule(0,0.01,NUM_ITER)\n",
    "    modulus_schedule_2=optax.linear_schedule(0,0.01,NUM_ITER)\n",
    "    # The phase starts with a larger learning rate and then is decreased.\n",
    "    phase_schedule_1=optax.linear_schedule(0.05,0.01,NUM_ITER)\n",
    "    phase_schedule_2=optax.linear_schedule(0.05,0.01,NUM_ITER)\n",
    "    # Combine the linear schedule with SGD\n",
    "    optm_1=optax.sgd(modulus_schedule_1)\n",
    "    optp_1=optax.sgd(phase_schedule_1)\n",
    "    optm_2=optax.sgd(modulus_schedule_2)\n",
    "    optp_2=optax.sgd(phase_schedule_2)\n",
    "    # The multi-transform optimizer uses different optimisers for different parts of the parameters.\n",
    "    optimizer_1 = optax.multi_transform({'o1': optm_1, 'o2': optp_1}, flax.core.freeze({\"Dense_0\":\"o1\", \"Dense_1\":\"o2\"}))\n",
    "    optimizer_2 = optax.multi_transform({'o1': optm_2, 'o2': optp_2}, flax.core.freeze({\"Dense_0\":\"o1\", \"Dense_1\":\"o2\"}))\n",
    "else:\n",
    "    raise Exception(str(\"undefined MACHINE: \")+str(MACHINE))\n",
    "\n",
    "# Selection of sampler type\n",
    "if SAMPLER == 'local':\n",
    "    sampler_1 = nk.sampler.MetropolisLocal(hilbert=hilbert)\n",
    "    sampler_2 = nk.sampler.MetropolisLocal(hilbert=hilbert)\n",
    "elif SAMPLER == 'exact':\n",
    "    sampler_1 = nk.sampler.ExactSampler(hilbert=hilbert)\n",
    "    sampler_2 = nk.sampler.ExactSampler(hilbert=hilbert)\n",
    "else:\n",
    "    sampler_1 = nk.sampler.MetropolisExchange(hilbert=hilbert, graph=g)\n",
    "    sampler_2 = nk.sampler.MetropolisExchange(hilbert=hilbert, graph=g)\n",
    "    if SAMPLER != 'exchange':\n",
    "        print(\"Warning! Undefined fq.SAMPLER:\", SAMPLER, \", dafaulting to MetropolisExchange fq.SAMPLER\")\n",
    "\n",
    "if MACHINE != \"RBMModPhase\":\n",
    "    optimizer_1 = nk.optimizer.Sgd(learning_rate=ETA)\n",
    "    optimizer_2 = nk.optimizer.Sgd(learning_rate=ETA)\n",
    "\n",
    "# Stochastic Reconfiguration as a preconditioner\n",
    "sr_1  = nk.optimizer.SR(diag_shift=0.01)\n",
    "sr_2  = nk.optimizer.SR(diag_shift=0.01)\n",
    "\n",
    "# The variational state (former name: nk.variational.MCState)\n",
    "vs_1 = nk.vqs.MCState(sampler_1 , machine_1 , n_samples=SAMPLES)\n",
    "vs_2 = nk.vqs.MCState(sampler_2 , machine_2 , n_samples=SAMPLES)\n",
    "vs_1.init_parameters(jax.nn.initializers.normal(stddev=0.01))\n",
    "vs_2.init_parameters(jax.nn.initializers.normal(stddev=0.01))\n",
    "\n",
    "\n",
    "gs_1 = nk.VMC(hamiltonian=ha_1 ,optimizer=optimizer_1 ,preconditioner=sr_1 ,variational_state=vs_1)\n",
    "gs_2 = nk.VMC(hamiltonian=ha_2 ,optimizer=optimizer_2 ,preconditioner=sr_2 ,variational_state=vs_2) "
   ]
  },
  {
   "cell_type": "code",
   "execution_count": null,
   "metadata": {},
   "outputs": [],
   "source": [
    "if False:\n",
    "    ETA2 = 0.001\n",
    "    optimizer_1 = nk.optimizer.Sgd(learning_rate=ETA2)\n",
    "    optimizer_2 = nk.optimizer.Sgd(learning_rate=ETA2)\n",
    "    # vs_1 = nk.vqs.MCState(sampler_1 , machine_1 , n_samples=SAMPLES*3)\n",
    "    # vs_2 = nk.vqs.MCState(sampler_2 , machine_2 , n_samples=SAMPLES*3)\n",
    "    gs_1 = nk.VMC(hamiltonian=ha_1 ,optimizer=optimizer_1,preconditioner=sr_1,variational_state=vs_1)   # 0 ... symmetric\n",
    "    gs_2 = nk.VMC(hamiltonian=ha_2 ,optimizer=optimizer_2,preconditioner=sr_2,variational_state=vs_2)   # 1 ... symmetric+MSR"
   ]
  },
  {
   "cell_type": "code",
   "execution_count": null,
   "metadata": {},
   "outputs": [
    {
     "name": "stdout",
     "output_type": "stream",
     "text": [
      "272 272\n"
     ]
    }
   ],
   "source": [
    "print(vs_1.n_parameters, vs_2.n_parameters)"
   ]
  },
  {
   "cell_type": "markdown",
   "metadata": {},
   "source": [
    "# Calculation\n",
    "We let the calculation run for `NUM_ITERS` iterations for both cases _1 and _2 (without MSR and with MSR). If only one case is desired, set the variable `no_of_runs` to 1."
   ]
  },
  {
   "cell_type": "code",
   "execution_count": null,
   "metadata": {},
   "outputs": [
    {
     "name": "stdout",
     "output_type": "stream",
     "text": [
      "J_1 = 0.9 ; H_Z = 0.0; Expected exact energy: -34.08190778603128\n"
     ]
    },
    {
     "name": "stderr",
     "output_type": "stream",
     "text": [
      "100%|██████████| 500/500 [00:33<00:00, 14.85it/s, Energy=-26.59+0.09j ± 0.15 [σ²=27.40]]     \n"
     ]
    },
    {
     "name": "stdout",
     "output_type": "stream",
     "text": [
      "The calculation for Jastrow of type 1 took 0.566972303390503 min\n"
     ]
    },
    {
     "name": "stderr",
     "output_type": "stream",
     "text": [
      "100%|██████████| 500/500 [00:34<00:00, 14.32it/s, Energy=-33.35+0.00j ± 0.12 [σ²=9.60]]     "
     ]
    },
    {
     "name": "stdout",
     "output_type": "stream",
     "text": [
      "The calculation for Jastrow of type 2 took 0.5880043188730876 min\n"
     ]
    },
    {
     "name": "stderr",
     "output_type": "stream",
     "text": [
      "\n"
     ]
    }
   ],
   "source": [
    "runs = [1,1]\n",
    "no_of_runs = np.sum(runs) # 1 - one run for variables with ..._1;  2 - both runs for variables ..._1 and ..._2\n",
    "run_only_2 = (runs[1]==1 and runs[0]==0) # in case of no_of_runs=1\n",
    "NUM_ITER = 500#3000\n",
    "print(\"J_1 =\", JEXCH1,\"; H_Z =\",H_Z, end=\"; \")\n",
    "if exact_ground_energy != 0:\n",
    "    print(\"Expected exact energy:\", exact_ground_energy)\n",
    "for i,gs in enumerate([gs_1,gs_2][run_only_2:run_only_2+no_of_runs]):\n",
    "    start = time.time()\n",
    "    gs.run(out=OUT_NAME+str(i), n_iter=int(NUM_ITER))#, obs={'symmetry':P(0,1)})\n",
    "    end = time.time()\n",
    "    print(\"The calculation for {} of type {} took {} min\".format(MACHINE, i+1, (end-start)/60))\n"
   ]
  },
  {
   "cell_type": "code",
   "execution_count": null,
   "metadata": {},
   "outputs": [
    {
     "name": "stdout",
     "output_type": "stream",
     "text": [
      "Trained RBM without MSR:\n",
      "Energy = -26.59+0.09j ± 0.15 [σ²=27.40]\n",
      "m_z = 0.0020+0.0000j ± 0.0045 [σ²=0.0200]\n",
      "Trained RBM with MSR:\n",
      "Energy = -33.35+0.00j ± 0.12 [σ²=9.60]\n",
      "m_z = 0.0000+0.0000j ± 0.0095 [σ²=0.0880]\n"
     ]
    }
   ],
   "source": [
    "for i,gs in enumerate([gs_1,gs_2][run_only_2:run_only_2+no_of_runs]):\n",
    "    print(\"Trained RBM with MSR:\" if (i+run_only_2) else \"Trained RBM without MSR:\")\n",
    "    print(\"Energy =\", gs.energy)\n",
    "    print(\"m_z =\", gs.estimate(m_z))"
   ]
  },
  {
   "cell_type": "markdown",
   "metadata": {},
   "source": [
    "## Energy Convergence Plotting\n",
    "In case that the machine did not converge, we can re-run the previous cell and than skip the next cell. This way, the replotting just appends the new results and does not erase the previoius results. "
   ]
  },
  {
   "cell_type": "code",
   "execution_count": null,
   "metadata": {},
   "outputs": [],
   "source": [
    "# Exact Energy Line\n",
    "no_of_all_iters = NUM_ITER\n",
    "figure = go.Figure(\n",
    "    data=[\n",
    "        go.Scatter(\n",
    "            x=(0,no_of_all_iters),\n",
    "            y=(exact_ground_energy,exact_ground_energy),\n",
    "            mode=\"lines\",line=go.scatter.Line(color=\"#000000\",width=1), name=\"exact energy\")],\n",
    "    layout=go.Layout(\n",
    "        template=\"simple_white\",\n",
    "        xaxis=dict(title=\"Iteration\", mirror=True, showline=True),\n",
    "        yaxis=dict(title=\"Energy\", mirror=True, showline=True),\n",
    "        title=(\"<b>\"+\"S-S\"+\" model </b>, N=\"+str(SITES)+\", J2 =\"+str(JEXCH2)+ \", J1 =\"+str(JEXCH1)+\" , η=\"+str(ETA)+\", α=\"+str(ALPHA)+\", samples=\"+str(SAMPLES)))\n",
    "    ).add_hline(y=exact_ground_energy, opacity=1, line_width=1)\n"
   ]
  },
  {
   "cell_type": "code",
   "execution_count": null,
   "metadata": {},
   "outputs": [
    {
     "data": {
      "application/vnd.plotly.v1+json": {
       "config": {
        "plotlyServerURL": "https://plot.ly"
       },
       "data": [
        {
         "line": {
          "color": "#000000",
          "width": 1
         },
         "mode": "lines",
         "name": "exact energy",
         "type": "scatter",
         "x": [
          0,
          500
         ],
         "y": [
          -34.08190778603128,
          -34.08190778603128
         ]
        },
        {
         "name": "normal",
         "type": "scatter",
         "x": [
          0,
          1,
          2,
          3,
          4,
          5,
          6,
          7,
          8,
          9,
          10,
          11,
          12,
          13,
          14,
          15,
          16,
          17,
          18,
          19,
          20,
          21,
          22,
          23,
          24,
          25,
          26,
          27,
          28,
          29,
          30,
          31,
          32,
          33,
          34,
          35,
          36,
          37,
          38,
          39,
          40,
          41,
          42,
          43,
          44,
          45,
          46,
          47,
          48,
          49,
          50,
          51,
          52,
          53,
          54,
          55,
          56,
          57,
          58,
          59,
          60,
          61,
          62,
          63,
          64,
          65,
          66,
          67,
          68,
          69,
          70,
          71,
          72,
          73,
          74,
          75,
          76,
          77,
          78,
          79,
          80,
          81,
          82,
          83,
          84,
          85,
          86,
          87,
          88,
          89,
          90,
          91,
          92,
          93,
          94,
          95,
          96,
          97,
          98,
          99,
          100,
          101,
          102,
          103,
          104,
          105,
          106,
          107,
          108,
          109,
          110,
          111,
          112,
          113,
          114,
          115,
          116,
          117,
          118,
          119,
          120,
          121,
          122,
          123,
          124,
          125,
          126,
          127,
          128,
          129,
          130,
          131,
          132,
          133,
          134,
          135,
          136,
          137,
          138,
          139,
          140,
          141,
          142,
          143,
          144,
          145,
          146,
          147,
          148,
          149,
          150,
          151,
          152,
          153,
          154,
          155,
          156,
          157,
          158,
          159,
          160,
          161,
          162,
          163,
          164,
          165,
          166,
          167,
          168,
          169,
          170,
          171,
          172,
          173,
          174,
          175,
          176,
          177,
          178,
          179,
          180,
          181,
          182,
          183,
          184,
          185,
          186,
          187,
          188,
          189,
          190,
          191,
          192,
          193,
          194,
          195,
          196,
          197,
          198,
          199,
          200,
          201,
          202,
          203,
          204,
          205,
          206,
          207,
          208,
          209,
          210,
          211,
          212,
          213,
          214,
          215,
          216,
          217,
          218,
          219,
          220,
          221,
          222,
          223,
          224,
          225,
          226,
          227,
          228,
          229,
          230,
          231,
          232,
          233,
          234,
          235,
          236,
          237,
          238,
          239,
          240,
          241,
          242,
          243,
          244,
          245,
          246,
          247,
          248,
          249,
          250,
          251,
          252,
          253,
          254,
          255,
          256,
          257,
          258,
          259,
          260,
          261,
          262,
          263,
          264,
          265,
          266,
          267,
          268,
          269,
          270,
          271,
          272,
          273,
          274,
          275,
          276,
          277,
          278,
          279,
          280,
          281,
          282,
          283,
          284,
          285,
          286,
          287,
          288,
          289,
          290,
          291,
          292,
          293,
          294,
          295,
          296,
          297,
          298,
          299,
          300,
          301,
          302,
          303,
          304,
          305,
          306,
          307,
          308,
          309,
          310,
          311,
          312,
          313,
          314,
          315,
          316,
          317,
          318,
          319,
          320,
          321,
          322,
          323,
          324,
          325,
          326,
          327,
          328,
          329,
          330,
          331,
          332,
          333,
          334,
          335,
          336,
          337,
          338,
          339,
          340,
          341,
          342,
          343,
          344,
          345,
          346,
          347,
          348,
          349,
          350,
          351,
          352,
          353,
          354,
          355,
          356,
          357,
          358,
          359,
          360,
          361,
          362,
          363,
          364,
          365,
          366,
          367,
          368,
          369,
          370,
          371,
          372,
          373,
          374,
          375,
          376,
          377,
          378,
          379,
          380,
          381,
          382,
          383,
          384,
          385,
          386,
          387,
          388,
          389,
          390,
          391,
          392,
          393,
          394,
          395,
          396,
          397,
          398,
          399,
          400,
          401,
          402,
          403,
          404,
          405,
          406,
          407,
          408,
          409,
          410,
          411,
          412,
          413,
          414,
          415,
          416,
          417,
          418,
          419,
          420,
          421,
          422,
          423,
          424,
          425,
          426,
          427,
          428,
          429,
          430,
          431,
          432,
          433,
          434,
          435,
          436,
          437,
          438,
          439,
          440,
          441,
          442,
          443,
          444,
          445,
          446,
          447,
          448,
          449,
          450,
          451,
          452,
          453,
          454,
          455,
          456,
          457,
          458,
          459,
          460,
          461,
          462,
          463,
          464,
          465,
          466,
          467,
          468,
          469,
          470,
          471,
          472,
          473,
          474,
          475,
          476,
          477,
          478,
          479,
          480,
          481,
          482,
          483,
          484,
          485,
          486,
          487,
          488,
          489,
          490,
          491,
          492,
          493,
          494,
          495,
          496,
          497,
          498,
          499
         ],
         "y": [
          36.473902655260204,
          36.28366425378264,
          36.01954466136274,
          35.78715822786085,
          35.13024942722349,
          34.550574828638304,
          33.576198664176786,
          32.42508717400488,
          30.36624346571029,
          28.059979185378914,
          24.64149288530399,
          20.931711864589598,
          16.493996886024448,
          12.253980968785363,
          8.422132797464918,
          4.060112484062641,
          1.2467539124284204,
          -1.73644563876832,
          -2.9965411963977724,
          -5.064350841794032,
          -6.531638238150529,
          -7.969838199913465,
          -8.353379691160502,
          -9.279376775698656,
          -9.83589332808244,
          -10.503588569525357,
          -11.007292169906487,
          -11.555186416103984,
          -11.861485481498999,
          -12.119634649114527,
          -12.359213530355163,
          -12.657265887312118,
          -12.866284737814459,
          -12.998164608944462,
          -13.618685156281867,
          -13.91737585042512,
          -14.18705468598676,
          -14.118427370588252,
          -14.685291726379676,
          -14.803643812858136,
          -14.869480189335672,
          -15.48624809610108,
          -15.59507997887387,
          -15.883825469916712,
          -16.28010216328922,
          -16.21632641807542,
          -16.16561046932533,
          -17.295777879156436,
          -16.892509950793883,
          -17.678769214813837,
          -17.826043918551722,
          -18.43809919911613,
          -18.68313843529239,
          -19.03515603801324,
          -18.858974057081397,
          -19.613035319352917,
          -20.02847458909757,
          -20.364347656205968,
          -20.29240850967505,
          -20.60719351334486,
          -21.131820310484706,
          -21.336882183187978,
          -21.408698553034053,
          -21.299214357906262,
          -22.00232148675822,
          -22.560119232427844,
          -22.296359056823245,
          -22.83904883472461,
          -22.59001188142338,
          -22.958554900091304,
          -23.24987780412266,
          -23.160801508020306,
          -22.983983403788034,
          -23.708334609578486,
          -23.622805565143924,
          -23.84084934922185,
          -24.217412614012062,
          -23.915542918546226,
          -24.211348408969716,
          -24.513310870547812,
          -24.379393290875903,
          -24.31602154428505,
          -24.754157331338032,
          -24.464115819475406,
          -24.66381331344178,
          -24.575412750771086,
          -24.674144296405533,
          -24.96182564718135,
          -24.692421170557843,
          -24.734158327997488,
          -24.78957804355408,
          -24.831471554418567,
          -24.96461971521761,
          -24.997981602001047,
          -24.994077222417012,
          -25.06176785750463,
          -24.949149845218038,
          -25.246622583571163,
          -25.00195660005332,
          -25.073205193436124,
          -25.043998827696075,
          -25.322093867590784,
          -25.274132163721873,
          -25.194518361663775,
          -25.16934493196793,
          -25.168137582388262,
          -25.223496922530806,
          -25.154930879956577,
          -25.203733476751992,
          -25.31157957489974,
          -25.36632431360296,
          -25.39877558445551,
          -25.284075734884944,
          -25.374230106917906,
          -25.3736633987437,
          -25.500518874531615,
          -25.371923412322577,
          -25.53029902701082,
          -25.353643396090938,
          -25.310692304473598,
          -25.302862537101284,
          -25.40017074374727,
          -25.307335354301088,
          -25.405483927257617,
          -25.37615175799795,
          -25.47550746757719,
          -25.480917590939054,
          -25.377653922704354,
          -25.50274172597004,
          -25.367100620657904,
          -25.477435881790537,
          -25.511059855692125,
          -25.542360377157962,
          -25.541609536968462,
          -25.537439999272465,
          -25.481123909224728,
          -25.699308871148133,
          -25.5685094831312,
          -25.605585472668135,
          -25.66777715827128,
          -25.601698352256587,
          -25.73557624582205,
          -25.568782406719503,
          -25.562271908165968,
          -25.69100703283656,
          -25.605415402935616,
          -25.69050742493168,
          -25.505240516647966,
          -25.63036899948193,
          -25.666931178520617,
          -25.58350515424356,
          -25.791322589330537,
          -25.72233753790535,
          -25.569993674624012,
          -25.692675341048417,
          -25.812688740922034,
          -25.709988395763723,
          -25.700614633850595,
          -25.885285547075924,
          -25.866141814261944,
          -25.66960798661083,
          -25.784256599201676,
          -25.761922492679624,
          -25.877406474339285,
          -25.87967361602824,
          -25.786825857160434,
          -25.721170177943023,
          -25.852822131412207,
          -25.757641668471997,
          -25.781619051755197,
          -25.84583964708509,
          -25.845435927876924,
          -25.90413814344684,
          -25.908291733217904,
          -25.93026799808545,
          -26.02142933537889,
          -25.95705946565933,
          -25.90431318662431,
          -25.904359316247028,
          -25.903455073944478,
          -25.966885474131217,
          -26.302966524029042,
          -26.127394461188434,
          -25.992404001292257,
          -25.861266517544124,
          -26.094266993383737,
          -26.112836580711935,
          -26.17933570893959,
          -26.16785542041066,
          -26.161060266693916,
          -26.18536548876914,
          -26.11047771152879,
          -26.184581049270673,
          -26.201986598351564,
          -26.218919662044275,
          -26.098477289384363,
          -26.25262108767092,
          -26.246957808840175,
          -26.18698587459379,
          -26.182271891861586,
          -26.256138302557936,
          -26.339253206710442,
          -26.283977425149192,
          -26.292763430020372,
          -26.234369712509935,
          -26.300205225885307,
          -26.344198302303017,
          -26.412288079590216,
          -26.348525508283846,
          -26.152872698215585,
          -26.303685877779937,
          -26.349396317632316,
          -26.337161274836117,
          -26.325000195168183,
          -26.282446263885788,
          -26.230316886752167,
          -26.29288123889488,
          -26.31730828476067,
          -26.326842053013404,
          -26.484133544702694,
          -26.42238227403706,
          -26.433816708122563,
          -26.349297733275073,
          -26.344068075636613,
          -26.351716153323643,
          -26.42564625712074,
          -26.3780479051584,
          -26.371240904725898,
          -26.386086018323066,
          -26.398884533685262,
          -26.40893837339096,
          -26.28762115377864,
          -25.48231567261613,
          -25.937883045646565,
          -26.054596270953294,
          -26.05950052185842,
          -26.297635730290292,
          -26.046376229579735,
          -26.264321209945056,
          -26.27592594920819,
          -26.404491483158974,
          -26.34069718637359,
          -26.476391128764053,
          -26.285837875053584,
          -26.28487855104504,
          -26.25557553183945,
          -26.335468323235084,
          -26.410394707374696,
          -26.387657747627397,
          -26.323924467422213,
          -26.36037409211472,
          -26.31131248879919,
          -26.40378897943898,
          -26.41396356174408,
          -26.37884252873589,
          -26.406442756784156,
          -26.25118618651294,
          -26.3057582551393,
          -26.48871038122178,
          -26.407801890304654,
          -26.523509286860683,
          -26.389132162409368,
          -26.457829689670397,
          -26.44943905985061,
          -26.47699081015855,
          -26.314935845472167,
          -26.453065142771592,
          -26.434379037322003,
          -26.489347534171966,
          -26.42891316984134,
          -26.371808655620285,
          -26.380281390632064,
          -26.486521255531073,
          -26.422747928362742,
          -26.39194708660937,
          -26.387830253056812,
          -26.475598192124192,
          -27.056123256966316,
          -25.983048136639848,
          -26.339638992928233,
          -26.27974323299381,
          -26.38949065139262,
          -26.354662398882038,
          -26.335336551862596,
          -26.41514843242909,
          -26.469286782809892,
          -26.4526872227081,
          -26.425889032923553,
          -26.43429239006394,
          -26.500638183610786,
          -26.430773255087058,
          -26.41430675239948,
          -26.459423587209873,
          -26.301520278204052,
          -26.427417599433465,
          -26.383719489604314,
          -26.366882446364112,
          -26.42302306585241,
          -26.42529919770529,
          -26.267218366422792,
          -26.53509402987724,
          -26.315500111141894,
          -26.533881542189818,
          -26.383147471825467,
          -26.436098058087833,
          -26.340104857358487,
          -26.412924934668446,
          -26.49498809640112,
          -26.413653408216494,
          -26.469406665949208,
          -26.456132898231466,
          -26.499774264918482,
          -26.402869644157125,
          -26.49177893438019,
          -26.371101819030308,
          -26.50639449245827,
          -26.48649507791857,
          -26.437893914479325,
          -26.417945942131112,
          -26.416142921351764,
          -26.538813242869075,
          -26.442677822555563,
          -26.44768957607524,
          -26.3347331627089,
          -26.438525503336262,
          -26.45678508904147,
          -26.40320882468529,
          -26.43753008676664,
          -26.4048497320189,
          -26.477442678696345,
          -26.505007642142306,
          -26.428022223930398,
          -26.48153970761955,
          -26.506099262496246,
          -26.519743213519007,
          -26.427615269716462,
          -26.394195398991602,
          -26.44175747648714,
          -26.47572379514431,
          -26.40329980406804,
          -26.470612816007662,
          -26.408271510874137,
          -26.55983979913881,
          -26.52725877523421,
          -26.45380402696023,
          -26.53559973141682,
          -26.49676998426892,
          -26.422521141452528,
          -26.455963112500672,
          -26.44723498499158,
          -26.488031735837403,
          -26.432509567925838,
          -26.42309510667701,
          -26.500058857746577,
          -26.398316150607886,
          -26.564324759069642,
          -26.53012922532295,
          -26.46175111356344,
          -26.507135671261402,
          -26.57850240710389,
          -26.4618852088985,
          -26.508092821965267,
          -26.4295263452203,
          -26.473889242930056,
          -26.500204663782938,
          -26.52365960293804,
          -26.46237506784409,
          -26.50222964583123,
          -26.709398508873125,
          -26.473654337953253,
          -26.38338926584556,
          -26.39565854211025,
          -26.41531946482072,
          -26.482083650727592,
          -26.59160051548385,
          -26.542569512962334,
          -26.48541524208664,
          -26.459571684602142,
          -26.432728555427392,
          -26.329989100614075,
          -26.61121947660705,
          -26.425131146664754,
          -26.526402211011423,
          -26.46897248131174,
          -26.493954692890267,
          -26.447568792773644,
          -26.464296147114414,
          -26.523885053218446,
          -26.406333761199086,
          -26.400667898119718,
          -26.464996825914813,
          -26.455583439468995,
          -26.608425429963834,
          -26.48887419712161,
          -26.37763186390239,
          -26.37366834796759,
          -26.436587244013865,
          -26.42412421835074,
          -26.392510932643507,
          -26.437431884536114,
          -26.510919298611626,
          -26.483499130637167,
          -26.331676284270173,
          -26.383307949049936,
          -26.547836815737742,
          -26.64502973008745,
          -26.457131495516194,
          -26.48478309373319,
          -26.452777028001215,
          -26.463449227563068,
          -26.550614464889584,
          -26.475845178546933,
          -26.291311706804343,
          -26.389064383027595,
          -26.374933909292064,
          -26.440925569219427,
          -26.455648572140717,
          -26.539732154118973,
          -26.379692413037336,
          -26.44569771078025,
          -26.58850304211128,
          -26.47323795532147,
          -26.49514211272316,
          -26.51740666049394,
          -26.51356442742188,
          -26.453472238561023,
          -26.457301156049944,
          -26.5538170146079,
          -26.503358189143018,
          -26.508290548633262,
          -26.500844158494225,
          -26.366341222545387,
          -26.40157447855866,
          -26.266007911535564,
          -26.4611999801762,
          -26.506165272076487,
          -26.50145030546448,
          -26.57823285715456,
          -26.480957111723836,
          -26.43133243026778,
          -26.368328959426233,
          -26.47613839723698,
          -26.51473830909411,
          -26.542291668979555,
          -26.482907505062112,
          -26.472963020928947,
          -26.31170575775703,
          -26.38082993648058,
          -26.4197612247082,
          -26.423986176427547,
          -26.407933179309726,
          -26.47679378815493,
          -26.407913526576174,
          -26.456400309914585,
          -26.45562119937527,
          -26.44988707477466,
          -26.524530014818243,
          -26.451208896680036,
          -26.424343524733906,
          -26.328959280526316,
          -26.501207239124614,
          -26.526949400175948,
          -26.473269419197692,
          -26.522892361513463,
          -26.548995754498254,
          -26.37191972642613,
          -26.47599210582332,
          -26.341307481415242,
          -26.477990501205415,
          -26.43556672873043,
          -26.52261443978496,
          -26.50522711220696,
          -26.450614822250007,
          -26.496776296765418,
          -26.482347551362224,
          -26.491862053369843,
          -26.491212373419266,
          -26.475030801235377,
          -26.503174429544323,
          -26.489929395574013,
          -26.502187587292557,
          -26.456245064880655,
          -26.512162080688423,
          -26.492258081532775,
          -26.573646180745197,
          -26.481328162212936,
          -26.455055670387246,
          -26.460806736319924,
          -26.507094538097785,
          -26.538937733681625,
          -26.495366888127815,
          -26.506807743674667,
          -26.55079047261012,
          -26.528851706989744,
          -26.48131286056027,
          -26.414773967693353,
          -26.421088984292364,
          -26.494283159949997,
          -26.459197856251006,
          -26.58906088497009
         ]
        },
        {
         "name": "MSR",
         "type": "scatter",
         "x": [
          0,
          1,
          2,
          3,
          4,
          5,
          6,
          7,
          8,
          9,
          10,
          11,
          12,
          13,
          14,
          15,
          16,
          17,
          18,
          19,
          20,
          21,
          22,
          23,
          24,
          25,
          26,
          27,
          28,
          29,
          30,
          31,
          32,
          33,
          34,
          35,
          36,
          37,
          38,
          39,
          40,
          41,
          42,
          43,
          44,
          45,
          46,
          47,
          48,
          49,
          50,
          51,
          52,
          53,
          54,
          55,
          56,
          57,
          58,
          59,
          60,
          61,
          62,
          63,
          64,
          65,
          66,
          67,
          68,
          69,
          70,
          71,
          72,
          73,
          74,
          75,
          76,
          77,
          78,
          79,
          80,
          81,
          82,
          83,
          84,
          85,
          86,
          87,
          88,
          89,
          90,
          91,
          92,
          93,
          94,
          95,
          96,
          97,
          98,
          99,
          100,
          101,
          102,
          103,
          104,
          105,
          106,
          107,
          108,
          109,
          110,
          111,
          112,
          113,
          114,
          115,
          116,
          117,
          118,
          119,
          120,
          121,
          122,
          123,
          124,
          125,
          126,
          127,
          128,
          129,
          130,
          131,
          132,
          133,
          134,
          135,
          136,
          137,
          138,
          139,
          140,
          141,
          142,
          143,
          144,
          145,
          146,
          147,
          148,
          149,
          150,
          151,
          152,
          153,
          154,
          155,
          156,
          157,
          158,
          159,
          160,
          161,
          162,
          163,
          164,
          165,
          166,
          167,
          168,
          169,
          170,
          171,
          172,
          173,
          174,
          175,
          176,
          177,
          178,
          179,
          180,
          181,
          182,
          183,
          184,
          185,
          186,
          187,
          188,
          189,
          190,
          191,
          192,
          193,
          194,
          195,
          196,
          197,
          198,
          199,
          200,
          201,
          202,
          203,
          204,
          205,
          206,
          207,
          208,
          209,
          210,
          211,
          212,
          213,
          214,
          215,
          216,
          217,
          218,
          219,
          220,
          221,
          222,
          223,
          224,
          225,
          226,
          227,
          228,
          229,
          230,
          231,
          232,
          233,
          234,
          235,
          236,
          237,
          238,
          239,
          240,
          241,
          242,
          243,
          244,
          245,
          246,
          247,
          248,
          249,
          250,
          251,
          252,
          253,
          254,
          255,
          256,
          257,
          258,
          259,
          260,
          261,
          262,
          263,
          264,
          265,
          266,
          267,
          268,
          269,
          270,
          271,
          272,
          273,
          274,
          275,
          276,
          277,
          278,
          279,
          280,
          281,
          282,
          283,
          284,
          285,
          286,
          287,
          288,
          289,
          290,
          291,
          292,
          293,
          294,
          295,
          296,
          297,
          298,
          299,
          300,
          301,
          302,
          303,
          304,
          305,
          306,
          307,
          308,
          309,
          310,
          311,
          312,
          313,
          314,
          315,
          316,
          317,
          318,
          319,
          320,
          321,
          322,
          323,
          324,
          325,
          326,
          327,
          328,
          329,
          330,
          331,
          332,
          333,
          334,
          335,
          336,
          337,
          338,
          339,
          340,
          341,
          342,
          343,
          344,
          345,
          346,
          347,
          348,
          349,
          350,
          351,
          352,
          353,
          354,
          355,
          356,
          357,
          358,
          359,
          360,
          361,
          362,
          363,
          364,
          365,
          366,
          367,
          368,
          369,
          370,
          371,
          372,
          373,
          374,
          375,
          376,
          377,
          378,
          379,
          380,
          381,
          382,
          383,
          384,
          385,
          386,
          387,
          388,
          389,
          390,
          391,
          392,
          393,
          394,
          395,
          396,
          397,
          398,
          399,
          400,
          401,
          402,
          403,
          404,
          405,
          406,
          407,
          408,
          409,
          410,
          411,
          412,
          413,
          414,
          415,
          416,
          417,
          418,
          419,
          420,
          421,
          422,
          423,
          424,
          425,
          426,
          427,
          428,
          429,
          430,
          431,
          432,
          433,
          434,
          435,
          436,
          437,
          438,
          439,
          440,
          441,
          442,
          443,
          444,
          445,
          446,
          447,
          448,
          449,
          450,
          451,
          452,
          453,
          454,
          455,
          456,
          457,
          458,
          459,
          460,
          461,
          462,
          463,
          464,
          465,
          466,
          467,
          468,
          469,
          470,
          471,
          472,
          473,
          474,
          475,
          476,
          477,
          478,
          479,
          480,
          481,
          482,
          483,
          484,
          485,
          486,
          487,
          488,
          489,
          490,
          491,
          492,
          493,
          494,
          495,
          496,
          497,
          498,
          499
         ],
         "y": [
          -20.691589778131405,
          -23.39205486759328,
          -24.41032010407611,
          -25.67755315802132,
          -26.604142317465385,
          -27.833425721062667,
          -28.592789299454413,
          -29.039599150970275,
          -29.665309052049203,
          -30.01473936756658,
          -30.296234104471807,
          -30.490525324168303,
          -30.856653051963733,
          -30.76319300900945,
          -31.080117397573165,
          -31.220161858208158,
          -31.264309910526638,
          -31.701774590240305,
          -31.772321563194815,
          -31.746138969687006,
          -31.71286833007149,
          -31.804846593393318,
          -32.02310439768165,
          -32.08406835892638,
          -31.95682402728292,
          -32.14859071969268,
          -32.26762808811148,
          -32.20744496911022,
          -32.27440577877211,
          -32.403423537312364,
          -32.25875951896852,
          -32.42867246159952,
          -32.35454638568265,
          -32.32156790432651,
          -32.42845591127855,
          -32.3867402129797,
          -32.471934587568725,
          -32.51720052550775,
          -32.46166864451198,
          -32.62749750463893,
          -32.46426627885507,
          -32.64238792654409,
          -32.58417213019793,
          -32.661550679386494,
          -32.52609564170074,
          -32.557372703785056,
          -32.72349349674613,
          -32.774107116690125,
          -32.52191943577704,
          -32.62247006075553,
          -32.61281465560344,
          -32.76728655357324,
          -32.79551991018077,
          -32.63906270426018,
          -32.707152733303225,
          -32.71688110775699,
          -32.68229690809631,
          -32.65914554972295,
          -32.70107756069178,
          -32.88333672830866,
          -32.68126027122067,
          -32.82250280960825,
          -32.87728935418985,
          -32.77731998137231,
          -32.850622402534064,
          -32.72224233150463,
          -32.86179080375744,
          -32.86190644112106,
          -32.9379051446574,
          -32.99553067720329,
          -33.00589275752398,
          -32.69669351755046,
          -32.72015686489854,
          -32.98315092436341,
          -32.8951451543897,
          -32.99671916910088,
          -32.90692240503215,
          -33.061974530293504,
          -32.861390633153164,
          -33.01629628183433,
          -32.9985547787595,
          -32.98060931286321,
          -32.88699547402511,
          -33.14223605926237,
          -32.8789027931032,
          -32.899039887574546,
          -32.97132255102029,
          -32.94118077077585,
          -33.06079477238572,
          -32.991475643550956,
          -33.24853231521483,
          -33.03831464533192,
          -33.01791223163223,
          -33.17307859263043,
          -33.0051296183743,
          -33.040749867927744,
          -33.01830021331022,
          -32.989201368505036,
          -33.237879336752016,
          -32.989930484648674,
          -33.18539307988694,
          -32.920641905383995,
          -33.18570045426575,
          -33.26790749183213,
          -33.061113114382124,
          -33.265358031079245,
          -33.157243670343775,
          -33.10472653463044,
          -33.22074391281448,
          -33.05376995653571,
          -33.198713219619535,
          -33.08619245922218,
          -33.11264279804142,
          -33.07140571607449,
          -33.07173204971636,
          -33.0842893638292,
          -33.19432616285172,
          -33.148201034552066,
          -32.92332756811982,
          -33.180321824831644,
          -33.124595594683825,
          -33.04789798546824,
          -33.148131409228355,
          -33.235532051771706,
          -33.21832299709941,
          -33.13861954341187,
          -32.98735430127017,
          -33.04219413273383,
          -33.093842149542304,
          -33.35247252409974,
          -33.18380718937669,
          -33.16788289339584,
          -33.23456067638482,
          -33.16895882748293,
          -33.02795774620865,
          -33.13270485073289,
          -33.30236340320014,
          -33.18535724168171,
          -33.147543004912905,
          -33.12723850407888,
          -33.166247274455934,
          -33.21538746465963,
          -33.19904583137152,
          -33.195610938998186,
          -33.2197078572105,
          -33.14364698699006,
          -33.245233062840704,
          -33.3048051286001,
          -33.21866194936582,
          -33.17440482734433,
          -33.008527528948306,
          -33.0514097184245,
          -33.05120035839467,
          -33.08977426344779,
          -33.23948622765821,
          -33.26478274315826,
          -33.1743270678845,
          -33.40444309056765,
          -33.33610550907817,
          -33.36470814673325,
          -33.35875733683788,
          -33.05227767125028,
          -32.97208459881494,
          -33.117550099220814,
          -33.31241798047173,
          -33.224080909741836,
          -33.20064516844887,
          -33.291070184404624,
          -33.261152852506505,
          -33.09907086804727,
          -33.183565568729115,
          -33.33268559088165,
          -33.28235820040338,
          -33.26680003052087,
          -33.524651743917026,
          -33.0700541228621,
          -33.21218977347889,
          -33.30643360189513,
          -33.302260272265855,
          -33.28570447115581,
          -33.25211051981256,
          -33.201438039891734,
          -33.36411521775648,
          -33.35232572808802,
          -33.324077783234216,
          -33.325328511205136,
          -33.347376311439824,
          -33.30527018381588,
          -33.20120597726054,
          -33.384087603873475,
          -33.35047787343337,
          -33.297681461135795,
          -33.23844207670863,
          -33.2144648636815,
          -33.37926022664885,
          -33.37436608324488,
          -33.45382774409111,
          -33.160038136421356,
          -33.26452307981897,
          -33.285129307240524,
          -33.09693720497289,
          -33.16709284524761,
          -33.1102435194857,
          -33.340326973865686,
          -33.148971311272405,
          -33.38158864759881,
          -33.245275528506305,
          -33.39388787135891,
          -33.21149485652574,
          -33.2588983785679,
          -33.471503829898154,
          -33.416881751638094,
          -33.3125927903118,
          -33.43409203312091,
          -33.15165618179172,
          -33.33652727179125,
          -33.36138194904286,
          -33.19288060698462,
          -33.285439190680236,
          -33.214309264350426,
          -33.31113026370644,
          -33.457124302528314,
          -33.25112105945741,
          -33.276189502352075,
          -33.32508517373579,
          -33.247733657727615,
          -33.26844896542948,
          -33.22097199960078,
          -33.415932092687555,
          -33.1577742253566,
          -33.17108034318192,
          -33.24966266106033,
          -33.22317173091768,
          -33.27712830907781,
          -33.26242078643213,
          -33.421737995530016,
          -33.25384477220891,
          -33.139673661435666,
          -33.18798065076774,
          -33.37590659314135,
          -33.23684335461313,
          -33.46007600382703,
          -33.421031948147764,
          -33.18989051034863,
          -33.21981584924142,
          -33.144071442375584,
          -33.31804284333794,
          -33.30752934557464,
          -33.32909366302771,
          -33.09667599254295,
          -33.420423796435344,
          -33.38177872723066,
          -33.27306052032409,
          -33.369823252523986,
          -33.24886113586689,
          -33.42437356111119,
          -33.483862503336844,
          -33.183961165141284,
          -33.29578920366975,
          -33.41864440574372,
          -33.29483541251169,
          -33.22584715885538,
          -33.36009740558522,
          -33.16638384595417,
          -33.30316406268851,
          -33.27509481698448,
          -33.2744028402267,
          -33.3073998161491,
          -33.35364157644187,
          -33.44029761847241,
          -33.300553118874966,
          -33.40651617251801,
          -33.36191782345655,
          -33.156218695670994,
          -33.195110887570834,
          -33.27126735013432,
          -33.21174656005034,
          -33.1399294371819,
          -33.329167108059934,
          -33.34315381499229,
          -33.25195133943348,
          -33.182298884668114,
          -33.30852472797106,
          -33.30787975317304,
          -33.33070541593375,
          -33.13345669749433,
          -33.38631594723987,
          -33.30655412290436,
          -33.3636573510397,
          -33.313771956028894,
          -33.54334721912132,
          -33.31154269897731,
          -33.41471376004758,
          -33.35084725263416,
          -33.254258857868706,
          -33.34976625010671,
          -33.40195905619126,
          -33.22046794976597,
          -33.36343269269745,
          -33.235659114060866,
          -33.25330990024541,
          -33.23517975876137,
          -33.26042274177728,
          -33.36307391633799,
          -33.36869747357207,
          -33.25549689313925,
          -33.51601673165683,
          -33.450549852983244,
          -33.12114446218819,
          -33.35664575730669,
          -33.240542077923514,
          -33.289633969398594,
          -33.37040652418082,
          -33.29811471705097,
          -33.46371468798789,
          -33.10068619618162,
          -33.403125269216225,
          -33.233253980340365,
          -33.419764890023025,
          -33.30575342463126,
          -33.193114313235306,
          -33.16321792311376,
          -33.381972167981246,
          -33.38677660125885,
          -33.27480733790059,
          -33.326734935504184,
          -33.47920604445056,
          -33.366814380975065,
          -33.338180272053144,
          -33.25866032759685,
          -33.295247884657975,
          -33.13051624111185,
          -33.40641543750801,
          -33.40817461607394,
          -33.32448393623237,
          -33.34896972104301,
          -33.27404228203507,
          -33.555004214995925,
          -33.40263449798648,
          -33.27631454640951,
          -33.32892927541608,
          -33.425255995928296,
          -33.307543900479246,
          -33.29057820797865,
          -33.33380145210684,
          -33.38659705443644,
          -33.27810105226521,
          -33.279694223000924,
          -33.425248374507426,
          -33.37263508200011,
          -33.195600878761056,
          -33.16727720993708,
          -33.506214391067566,
          -33.34872738409921,
          -33.373437143035886,
          -33.29026756039372,
          -33.12092606665997,
          -33.582272225855064,
          -33.367605315298796,
          -33.548326440643706,
          -33.22279820845232,
          -33.31963195513578,
          -33.36970156357604,
          -33.26923160272498,
          -33.31951800946033,
          -33.32017988109148,
          -33.249902696378314,
          -33.289555658689125,
          -33.26253851364557,
          -33.350519181842074,
          -33.428883094373845,
          -33.2249196233557,
          -33.33314588188719,
          -33.24883500390191,
          -33.25810761235127,
          -33.420778457700564,
          -33.35034056824005,
          -33.31130548768678,
          -33.21578643146406,
          -33.32532478763713,
          -33.13057156531472,
          -33.36007968547115,
          -33.311040321190134,
          -33.34019717186045,
          -33.23968613175776,
          -33.295023325113334,
          -33.437469058326144,
          -33.50191840004077,
          -33.383405256043055,
          -33.27366016495381,
          -33.323673731323055,
          -33.17696037074459,
          -33.259012025947925,
          -33.1820646854271,
          -33.5260163095292,
          -33.413634089205104,
          -33.43762988983004,
          -33.360857254901696,
          -33.40892148497731,
          -33.402546890928875,
          -33.36189531276172,
          -33.307604900347876,
          -33.32526811297445,
          -33.36296914043809,
          -33.47153445758579,
          -33.02924018062584,
          -33.26632468215682,
          -33.30574578506701,
          -33.21314312408115,
          -33.33563298611968,
          -33.398631015944844,
          -33.36672417843176,
          -33.342941649040775,
          -33.344652209628926,
          -33.25281620700186,
          -33.53917115286491,
          -33.37335686447568,
          -33.45235698810594,
          -33.36294847300061,
          -33.51237209312989,
          -33.30947283184845,
          -33.54174042005033,
          -33.29971281281367,
          -33.254230753017566,
          -33.372937357941076,
          -33.28818134560004,
          -33.304447296702506,
          -33.43161580641624,
          -33.290418350196475,
          -33.3049291812313,
          -33.3407763935209,
          -33.23840580407022,
          -33.390847777717354,
          -33.44094158633672,
          -33.33324618632864,
          -33.23495244804691,
          -33.39986363497468,
          -33.22752118932227,
          -33.38095196819854,
          -33.36271420937778,
          -33.301837498240495,
          -33.40658564476829,
          -33.22983829121898,
          -33.36603136365741,
          -33.23286143659704,
          -33.37182758628778,
          -33.333645860303506,
          -33.266074448398435,
          -33.26849385813136,
          -33.45481530423148,
          -33.236842042310904,
          -33.38414944871881,
          -33.28337806221498,
          -33.25856884933618,
          -33.444656128250124,
          -33.491209514140714,
          -33.325837447012695,
          -33.250473603446544,
          -33.272780211111545,
          -33.328729453811164,
          -33.41589574046262,
          -33.14714824161999,
          -33.30163547187863,
          -33.2312798286832,
          -33.3723913196685,
          -33.30574672902504,
          -33.31666386295406,
          -33.24269115390383,
          -33.348769287561346,
          -33.33618597325274,
          -33.32566150308683,
          -33.380163413691946,
          -33.51722396022957,
          -33.42143237162207,
          -33.368427291288896,
          -33.354083939074435,
          -33.2847376068557,
          -33.24234173605017,
          -33.237510665434904,
          -33.348535135368195,
          -33.28826199558182,
          -33.269624884360255,
          -33.35493705314677,
          -33.26067135580869,
          -33.23360889865269,
          -33.337390477151075,
          -33.17344202668207,
          -33.57664626056691,
          -33.35581030107089,
          -33.305007808674624,
          -33.31549233308923,
          -33.296157246279925,
          -33.516820210084575,
          -33.558220092259575,
          -33.24806643211737,
          -33.164186945279795,
          -33.436469719604226,
          -33.32050514661456,
          -33.37918645878924,
          -33.34532755970699
         ]
        }
       ],
       "layout": {
        "shapes": [
         {
          "line": {
           "width": 1
          },
          "opacity": 1,
          "type": "line",
          "x0": 0,
          "x1": 1,
          "xref": "x domain",
          "y0": -34.08190778603128,
          "y1": -34.08190778603128,
          "yref": "y"
         }
        ],
        "template": {
         "data": {
          "bar": [
           {
            "error_x": {
             "color": "rgb(36,36,36)"
            },
            "error_y": {
             "color": "rgb(36,36,36)"
            },
            "marker": {
             "line": {
              "color": "white",
              "width": 0.5
             },
             "pattern": {
              "fillmode": "overlay",
              "size": 10,
              "solidity": 0.2
             }
            },
            "type": "bar"
           }
          ],
          "barpolar": [
           {
            "marker": {
             "line": {
              "color": "white",
              "width": 0.5
             },
             "pattern": {
              "fillmode": "overlay",
              "size": 10,
              "solidity": 0.2
             }
            },
            "type": "barpolar"
           }
          ],
          "carpet": [
           {
            "aaxis": {
             "endlinecolor": "rgb(36,36,36)",
             "gridcolor": "white",
             "linecolor": "white",
             "minorgridcolor": "white",
             "startlinecolor": "rgb(36,36,36)"
            },
            "baxis": {
             "endlinecolor": "rgb(36,36,36)",
             "gridcolor": "white",
             "linecolor": "white",
             "minorgridcolor": "white",
             "startlinecolor": "rgb(36,36,36)"
            },
            "type": "carpet"
           }
          ],
          "choropleth": [
           {
            "colorbar": {
             "outlinewidth": 1,
             "tickcolor": "rgb(36,36,36)",
             "ticks": "outside"
            },
            "type": "choropleth"
           }
          ],
          "contour": [
           {
            "colorbar": {
             "outlinewidth": 1,
             "tickcolor": "rgb(36,36,36)",
             "ticks": "outside"
            },
            "colorscale": [
             [
              0,
              "#440154"
             ],
             [
              0.1111111111111111,
              "#482878"
             ],
             [
              0.2222222222222222,
              "#3e4989"
             ],
             [
              0.3333333333333333,
              "#31688e"
             ],
             [
              0.4444444444444444,
              "#26828e"
             ],
             [
              0.5555555555555556,
              "#1f9e89"
             ],
             [
              0.6666666666666666,
              "#35b779"
             ],
             [
              0.7777777777777778,
              "#6ece58"
             ],
             [
              0.8888888888888888,
              "#b5de2b"
             ],
             [
              1,
              "#fde725"
             ]
            ],
            "type": "contour"
           }
          ],
          "contourcarpet": [
           {
            "colorbar": {
             "outlinewidth": 1,
             "tickcolor": "rgb(36,36,36)",
             "ticks": "outside"
            },
            "type": "contourcarpet"
           }
          ],
          "heatmap": [
           {
            "colorbar": {
             "outlinewidth": 1,
             "tickcolor": "rgb(36,36,36)",
             "ticks": "outside"
            },
            "colorscale": [
             [
              0,
              "#440154"
             ],
             [
              0.1111111111111111,
              "#482878"
             ],
             [
              0.2222222222222222,
              "#3e4989"
             ],
             [
              0.3333333333333333,
              "#31688e"
             ],
             [
              0.4444444444444444,
              "#26828e"
             ],
             [
              0.5555555555555556,
              "#1f9e89"
             ],
             [
              0.6666666666666666,
              "#35b779"
             ],
             [
              0.7777777777777778,
              "#6ece58"
             ],
             [
              0.8888888888888888,
              "#b5de2b"
             ],
             [
              1,
              "#fde725"
             ]
            ],
            "type": "heatmap"
           }
          ],
          "heatmapgl": [
           {
            "colorbar": {
             "outlinewidth": 1,
             "tickcolor": "rgb(36,36,36)",
             "ticks": "outside"
            },
            "colorscale": [
             [
              0,
              "#440154"
             ],
             [
              0.1111111111111111,
              "#482878"
             ],
             [
              0.2222222222222222,
              "#3e4989"
             ],
             [
              0.3333333333333333,
              "#31688e"
             ],
             [
              0.4444444444444444,
              "#26828e"
             ],
             [
              0.5555555555555556,
              "#1f9e89"
             ],
             [
              0.6666666666666666,
              "#35b779"
             ],
             [
              0.7777777777777778,
              "#6ece58"
             ],
             [
              0.8888888888888888,
              "#b5de2b"
             ],
             [
              1,
              "#fde725"
             ]
            ],
            "type": "heatmapgl"
           }
          ],
          "histogram": [
           {
            "marker": {
             "line": {
              "color": "white",
              "width": 0.6
             }
            },
            "type": "histogram"
           }
          ],
          "histogram2d": [
           {
            "colorbar": {
             "outlinewidth": 1,
             "tickcolor": "rgb(36,36,36)",
             "ticks": "outside"
            },
            "colorscale": [
             [
              0,
              "#440154"
             ],
             [
              0.1111111111111111,
              "#482878"
             ],
             [
              0.2222222222222222,
              "#3e4989"
             ],
             [
              0.3333333333333333,
              "#31688e"
             ],
             [
              0.4444444444444444,
              "#26828e"
             ],
             [
              0.5555555555555556,
              "#1f9e89"
             ],
             [
              0.6666666666666666,
              "#35b779"
             ],
             [
              0.7777777777777778,
              "#6ece58"
             ],
             [
              0.8888888888888888,
              "#b5de2b"
             ],
             [
              1,
              "#fde725"
             ]
            ],
            "type": "histogram2d"
           }
          ],
          "histogram2dcontour": [
           {
            "colorbar": {
             "outlinewidth": 1,
             "tickcolor": "rgb(36,36,36)",
             "ticks": "outside"
            },
            "colorscale": [
             [
              0,
              "#440154"
             ],
             [
              0.1111111111111111,
              "#482878"
             ],
             [
              0.2222222222222222,
              "#3e4989"
             ],
             [
              0.3333333333333333,
              "#31688e"
             ],
             [
              0.4444444444444444,
              "#26828e"
             ],
             [
              0.5555555555555556,
              "#1f9e89"
             ],
             [
              0.6666666666666666,
              "#35b779"
             ],
             [
              0.7777777777777778,
              "#6ece58"
             ],
             [
              0.8888888888888888,
              "#b5de2b"
             ],
             [
              1,
              "#fde725"
             ]
            ],
            "type": "histogram2dcontour"
           }
          ],
          "mesh3d": [
           {
            "colorbar": {
             "outlinewidth": 1,
             "tickcolor": "rgb(36,36,36)",
             "ticks": "outside"
            },
            "type": "mesh3d"
           }
          ],
          "parcoords": [
           {
            "line": {
             "colorbar": {
              "outlinewidth": 1,
              "tickcolor": "rgb(36,36,36)",
              "ticks": "outside"
             }
            },
            "type": "parcoords"
           }
          ],
          "pie": [
           {
            "automargin": true,
            "type": "pie"
           }
          ],
          "scatter": [
           {
            "marker": {
             "colorbar": {
              "outlinewidth": 1,
              "tickcolor": "rgb(36,36,36)",
              "ticks": "outside"
             }
            },
            "type": "scatter"
           }
          ],
          "scatter3d": [
           {
            "line": {
             "colorbar": {
              "outlinewidth": 1,
              "tickcolor": "rgb(36,36,36)",
              "ticks": "outside"
             }
            },
            "marker": {
             "colorbar": {
              "outlinewidth": 1,
              "tickcolor": "rgb(36,36,36)",
              "ticks": "outside"
             }
            },
            "type": "scatter3d"
           }
          ],
          "scattercarpet": [
           {
            "marker": {
             "colorbar": {
              "outlinewidth": 1,
              "tickcolor": "rgb(36,36,36)",
              "ticks": "outside"
             }
            },
            "type": "scattercarpet"
           }
          ],
          "scattergeo": [
           {
            "marker": {
             "colorbar": {
              "outlinewidth": 1,
              "tickcolor": "rgb(36,36,36)",
              "ticks": "outside"
             }
            },
            "type": "scattergeo"
           }
          ],
          "scattergl": [
           {
            "marker": {
             "colorbar": {
              "outlinewidth": 1,
              "tickcolor": "rgb(36,36,36)",
              "ticks": "outside"
             }
            },
            "type": "scattergl"
           }
          ],
          "scattermapbox": [
           {
            "marker": {
             "colorbar": {
              "outlinewidth": 1,
              "tickcolor": "rgb(36,36,36)",
              "ticks": "outside"
             }
            },
            "type": "scattermapbox"
           }
          ],
          "scatterpolar": [
           {
            "marker": {
             "colorbar": {
              "outlinewidth": 1,
              "tickcolor": "rgb(36,36,36)",
              "ticks": "outside"
             }
            },
            "type": "scatterpolar"
           }
          ],
          "scatterpolargl": [
           {
            "marker": {
             "colorbar": {
              "outlinewidth": 1,
              "tickcolor": "rgb(36,36,36)",
              "ticks": "outside"
             }
            },
            "type": "scatterpolargl"
           }
          ],
          "scatterternary": [
           {
            "marker": {
             "colorbar": {
              "outlinewidth": 1,
              "tickcolor": "rgb(36,36,36)",
              "ticks": "outside"
             }
            },
            "type": "scatterternary"
           }
          ],
          "surface": [
           {
            "colorbar": {
             "outlinewidth": 1,
             "tickcolor": "rgb(36,36,36)",
             "ticks": "outside"
            },
            "colorscale": [
             [
              0,
              "#440154"
             ],
             [
              0.1111111111111111,
              "#482878"
             ],
             [
              0.2222222222222222,
              "#3e4989"
             ],
             [
              0.3333333333333333,
              "#31688e"
             ],
             [
              0.4444444444444444,
              "#26828e"
             ],
             [
              0.5555555555555556,
              "#1f9e89"
             ],
             [
              0.6666666666666666,
              "#35b779"
             ],
             [
              0.7777777777777778,
              "#6ece58"
             ],
             [
              0.8888888888888888,
              "#b5de2b"
             ],
             [
              1,
              "#fde725"
             ]
            ],
            "type": "surface"
           }
          ],
          "table": [
           {
            "cells": {
             "fill": {
              "color": "rgb(237,237,237)"
             },
             "line": {
              "color": "white"
             }
            },
            "header": {
             "fill": {
              "color": "rgb(217,217,217)"
             },
             "line": {
              "color": "white"
             }
            },
            "type": "table"
           }
          ]
         },
         "layout": {
          "annotationdefaults": {
           "arrowhead": 0,
           "arrowwidth": 1
          },
          "autotypenumbers": "strict",
          "coloraxis": {
           "colorbar": {
            "outlinewidth": 1,
            "tickcolor": "rgb(36,36,36)",
            "ticks": "outside"
           }
          },
          "colorscale": {
           "diverging": [
            [
             0,
             "rgb(103,0,31)"
            ],
            [
             0.1,
             "rgb(178,24,43)"
            ],
            [
             0.2,
             "rgb(214,96,77)"
            ],
            [
             0.3,
             "rgb(244,165,130)"
            ],
            [
             0.4,
             "rgb(253,219,199)"
            ],
            [
             0.5,
             "rgb(247,247,247)"
            ],
            [
             0.6,
             "rgb(209,229,240)"
            ],
            [
             0.7,
             "rgb(146,197,222)"
            ],
            [
             0.8,
             "rgb(67,147,195)"
            ],
            [
             0.9,
             "rgb(33,102,172)"
            ],
            [
             1,
             "rgb(5,48,97)"
            ]
           ],
           "sequential": [
            [
             0,
             "#440154"
            ],
            [
             0.1111111111111111,
             "#482878"
            ],
            [
             0.2222222222222222,
             "#3e4989"
            ],
            [
             0.3333333333333333,
             "#31688e"
            ],
            [
             0.4444444444444444,
             "#26828e"
            ],
            [
             0.5555555555555556,
             "#1f9e89"
            ],
            [
             0.6666666666666666,
             "#35b779"
            ],
            [
             0.7777777777777778,
             "#6ece58"
            ],
            [
             0.8888888888888888,
             "#b5de2b"
            ],
            [
             1,
             "#fde725"
            ]
           ],
           "sequentialminus": [
            [
             0,
             "#440154"
            ],
            [
             0.1111111111111111,
             "#482878"
            ],
            [
             0.2222222222222222,
             "#3e4989"
            ],
            [
             0.3333333333333333,
             "#31688e"
            ],
            [
             0.4444444444444444,
             "#26828e"
            ],
            [
             0.5555555555555556,
             "#1f9e89"
            ],
            [
             0.6666666666666666,
             "#35b779"
            ],
            [
             0.7777777777777778,
             "#6ece58"
            ],
            [
             0.8888888888888888,
             "#b5de2b"
            ],
            [
             1,
             "#fde725"
            ]
           ]
          },
          "colorway": [
           "#1F77B4",
           "#FF7F0E",
           "#2CA02C",
           "#D62728",
           "#9467BD",
           "#8C564B",
           "#E377C2",
           "#7F7F7F",
           "#BCBD22",
           "#17BECF"
          ],
          "font": {
           "color": "rgb(36,36,36)"
          },
          "geo": {
           "bgcolor": "white",
           "lakecolor": "white",
           "landcolor": "white",
           "showlakes": true,
           "showland": true,
           "subunitcolor": "white"
          },
          "hoverlabel": {
           "align": "left"
          },
          "hovermode": "closest",
          "mapbox": {
           "style": "light"
          },
          "paper_bgcolor": "white",
          "plot_bgcolor": "white",
          "polar": {
           "angularaxis": {
            "gridcolor": "rgb(232,232,232)",
            "linecolor": "rgb(36,36,36)",
            "showgrid": false,
            "showline": true,
            "ticks": "outside"
           },
           "bgcolor": "white",
           "radialaxis": {
            "gridcolor": "rgb(232,232,232)",
            "linecolor": "rgb(36,36,36)",
            "showgrid": false,
            "showline": true,
            "ticks": "outside"
           }
          },
          "scene": {
           "xaxis": {
            "backgroundcolor": "white",
            "gridcolor": "rgb(232,232,232)",
            "gridwidth": 2,
            "linecolor": "rgb(36,36,36)",
            "showbackground": true,
            "showgrid": false,
            "showline": true,
            "ticks": "outside",
            "zeroline": false,
            "zerolinecolor": "rgb(36,36,36)"
           },
           "yaxis": {
            "backgroundcolor": "white",
            "gridcolor": "rgb(232,232,232)",
            "gridwidth": 2,
            "linecolor": "rgb(36,36,36)",
            "showbackground": true,
            "showgrid": false,
            "showline": true,
            "ticks": "outside",
            "zeroline": false,
            "zerolinecolor": "rgb(36,36,36)"
           },
           "zaxis": {
            "backgroundcolor": "white",
            "gridcolor": "rgb(232,232,232)",
            "gridwidth": 2,
            "linecolor": "rgb(36,36,36)",
            "showbackground": true,
            "showgrid": false,
            "showline": true,
            "ticks": "outside",
            "zeroline": false,
            "zerolinecolor": "rgb(36,36,36)"
           }
          },
          "shapedefaults": {
           "fillcolor": "black",
           "line": {
            "width": 0
           },
           "opacity": 0.3
          },
          "ternary": {
           "aaxis": {
            "gridcolor": "rgb(232,232,232)",
            "linecolor": "rgb(36,36,36)",
            "showgrid": false,
            "showline": true,
            "ticks": "outside"
           },
           "baxis": {
            "gridcolor": "rgb(232,232,232)",
            "linecolor": "rgb(36,36,36)",
            "showgrid": false,
            "showline": true,
            "ticks": "outside"
           },
           "bgcolor": "white",
           "caxis": {
            "gridcolor": "rgb(232,232,232)",
            "linecolor": "rgb(36,36,36)",
            "showgrid": false,
            "showline": true,
            "ticks": "outside"
           }
          },
          "title": {
           "x": 0.05
          },
          "xaxis": {
           "automargin": true,
           "gridcolor": "rgb(232,232,232)",
           "linecolor": "rgb(36,36,36)",
           "showgrid": false,
           "showline": true,
           "ticks": "outside",
           "title": {
            "standoff": 15
           },
           "zeroline": false,
           "zerolinecolor": "rgb(36,36,36)"
          },
          "yaxis": {
           "automargin": true,
           "gridcolor": "rgb(232,232,232)",
           "linecolor": "rgb(36,36,36)",
           "showgrid": false,
           "showline": true,
           "ticks": "outside",
           "title": {
            "standoff": 15
           },
           "zeroline": false,
           "zerolinecolor": "rgb(36,36,36)"
          }
         }
        },
        "title": {
         "text": "<b>S-S model </b>, N=16, J2 =1, J1 =0.9 , η=0.01, α=8, samples=1000"
        },
        "xaxis": {
         "mirror": true,
         "showline": true,
         "title": {
          "text": "Iteration"
         }
        },
        "yaxis": {
         "mirror": true,
         "showline": true,
         "title": {
          "text": "Energy"
         }
        }
       }
      },
      "text/html": [
       "<div>                            <div id=\"b025f309-e673-4afb-b1cb-44e1c20fb41b\" class=\"plotly-graph-div\" style=\"height:525px; width:100%;\"></div>            <script type=\"text/javascript\">                require([\"plotly\"], function(Plotly) {                    window.PLOTLYENV=window.PLOTLYENV || {};                                    if (document.getElementById(\"b025f309-e673-4afb-b1cb-44e1c20fb41b\")) {                    Plotly.newPlot(                        \"b025f309-e673-4afb-b1cb-44e1c20fb41b\",                        [{\"line\":{\"color\":\"#000000\",\"width\":1},\"mode\":\"lines\",\"name\":\"exact energy\",\"type\":\"scatter\",\"x\":[0,500],\"y\":[-34.08190778603128,-34.08190778603128]},{\"name\":\"normal\",\"type\":\"scatter\",\"x\":[0,1,2,3,4,5,6,7,8,9,10,11,12,13,14,15,16,17,18,19,20,21,22,23,24,25,26,27,28,29,30,31,32,33,34,35,36,37,38,39,40,41,42,43,44,45,46,47,48,49,50,51,52,53,54,55,56,57,58,59,60,61,62,63,64,65,66,67,68,69,70,71,72,73,74,75,76,77,78,79,80,81,82,83,84,85,86,87,88,89,90,91,92,93,94,95,96,97,98,99,100,101,102,103,104,105,106,107,108,109,110,111,112,113,114,115,116,117,118,119,120,121,122,123,124,125,126,127,128,129,130,131,132,133,134,135,136,137,138,139,140,141,142,143,144,145,146,147,148,149,150,151,152,153,154,155,156,157,158,159,160,161,162,163,164,165,166,167,168,169,170,171,172,173,174,175,176,177,178,179,180,181,182,183,184,185,186,187,188,189,190,191,192,193,194,195,196,197,198,199,200,201,202,203,204,205,206,207,208,209,210,211,212,213,214,215,216,217,218,219,220,221,222,223,224,225,226,227,228,229,230,231,232,233,234,235,236,237,238,239,240,241,242,243,244,245,246,247,248,249,250,251,252,253,254,255,256,257,258,259,260,261,262,263,264,265,266,267,268,269,270,271,272,273,274,275,276,277,278,279,280,281,282,283,284,285,286,287,288,289,290,291,292,293,294,295,296,297,298,299,300,301,302,303,304,305,306,307,308,309,310,311,312,313,314,315,316,317,318,319,320,321,322,323,324,325,326,327,328,329,330,331,332,333,334,335,336,337,338,339,340,341,342,343,344,345,346,347,348,349,350,351,352,353,354,355,356,357,358,359,360,361,362,363,364,365,366,367,368,369,370,371,372,373,374,375,376,377,378,379,380,381,382,383,384,385,386,387,388,389,390,391,392,393,394,395,396,397,398,399,400,401,402,403,404,405,406,407,408,409,410,411,412,413,414,415,416,417,418,419,420,421,422,423,424,425,426,427,428,429,430,431,432,433,434,435,436,437,438,439,440,441,442,443,444,445,446,447,448,449,450,451,452,453,454,455,456,457,458,459,460,461,462,463,464,465,466,467,468,469,470,471,472,473,474,475,476,477,478,479,480,481,482,483,484,485,486,487,488,489,490,491,492,493,494,495,496,497,498,499],\"y\":[36.473902655260204,36.28366425378264,36.01954466136274,35.78715822786085,35.13024942722349,34.550574828638304,33.576198664176786,32.42508717400488,30.36624346571029,28.059979185378914,24.64149288530399,20.931711864589598,16.493996886024448,12.253980968785363,8.422132797464918,4.060112484062641,1.2467539124284204,-1.73644563876832,-2.9965411963977724,-5.064350841794032,-6.531638238150529,-7.969838199913465,-8.353379691160502,-9.279376775698656,-9.83589332808244,-10.503588569525357,-11.007292169906487,-11.555186416103984,-11.861485481498999,-12.119634649114527,-12.359213530355163,-12.657265887312118,-12.866284737814459,-12.998164608944462,-13.618685156281867,-13.91737585042512,-14.18705468598676,-14.118427370588252,-14.685291726379676,-14.803643812858136,-14.869480189335672,-15.48624809610108,-15.59507997887387,-15.883825469916712,-16.28010216328922,-16.21632641807542,-16.16561046932533,-17.295777879156436,-16.892509950793883,-17.678769214813837,-17.826043918551722,-18.43809919911613,-18.68313843529239,-19.03515603801324,-18.858974057081397,-19.613035319352917,-20.02847458909757,-20.364347656205968,-20.29240850967505,-20.60719351334486,-21.131820310484706,-21.336882183187978,-21.408698553034053,-21.299214357906262,-22.00232148675822,-22.560119232427844,-22.296359056823245,-22.83904883472461,-22.59001188142338,-22.958554900091304,-23.24987780412266,-23.160801508020306,-22.983983403788034,-23.708334609578486,-23.622805565143924,-23.84084934922185,-24.217412614012062,-23.915542918546226,-24.211348408969716,-24.513310870547812,-24.379393290875903,-24.31602154428505,-24.754157331338032,-24.464115819475406,-24.66381331344178,-24.575412750771086,-24.674144296405533,-24.96182564718135,-24.692421170557843,-24.734158327997488,-24.78957804355408,-24.831471554418567,-24.96461971521761,-24.997981602001047,-24.994077222417012,-25.06176785750463,-24.949149845218038,-25.246622583571163,-25.00195660005332,-25.073205193436124,-25.043998827696075,-25.322093867590784,-25.274132163721873,-25.194518361663775,-25.16934493196793,-25.168137582388262,-25.223496922530806,-25.154930879956577,-25.203733476751992,-25.31157957489974,-25.36632431360296,-25.39877558445551,-25.284075734884944,-25.374230106917906,-25.3736633987437,-25.500518874531615,-25.371923412322577,-25.53029902701082,-25.353643396090938,-25.310692304473598,-25.302862537101284,-25.40017074374727,-25.307335354301088,-25.405483927257617,-25.37615175799795,-25.47550746757719,-25.480917590939054,-25.377653922704354,-25.50274172597004,-25.367100620657904,-25.477435881790537,-25.511059855692125,-25.542360377157962,-25.541609536968462,-25.537439999272465,-25.481123909224728,-25.699308871148133,-25.5685094831312,-25.605585472668135,-25.66777715827128,-25.601698352256587,-25.73557624582205,-25.568782406719503,-25.562271908165968,-25.69100703283656,-25.605415402935616,-25.69050742493168,-25.505240516647966,-25.63036899948193,-25.666931178520617,-25.58350515424356,-25.791322589330537,-25.72233753790535,-25.569993674624012,-25.692675341048417,-25.812688740922034,-25.709988395763723,-25.700614633850595,-25.885285547075924,-25.866141814261944,-25.66960798661083,-25.784256599201676,-25.761922492679624,-25.877406474339285,-25.87967361602824,-25.786825857160434,-25.721170177943023,-25.852822131412207,-25.757641668471997,-25.781619051755197,-25.84583964708509,-25.845435927876924,-25.90413814344684,-25.908291733217904,-25.93026799808545,-26.02142933537889,-25.95705946565933,-25.90431318662431,-25.904359316247028,-25.903455073944478,-25.966885474131217,-26.302966524029042,-26.127394461188434,-25.992404001292257,-25.861266517544124,-26.094266993383737,-26.112836580711935,-26.17933570893959,-26.16785542041066,-26.161060266693916,-26.18536548876914,-26.11047771152879,-26.184581049270673,-26.201986598351564,-26.218919662044275,-26.098477289384363,-26.25262108767092,-26.246957808840175,-26.18698587459379,-26.182271891861586,-26.256138302557936,-26.339253206710442,-26.283977425149192,-26.292763430020372,-26.234369712509935,-26.300205225885307,-26.344198302303017,-26.412288079590216,-26.348525508283846,-26.152872698215585,-26.303685877779937,-26.349396317632316,-26.337161274836117,-26.325000195168183,-26.282446263885788,-26.230316886752167,-26.29288123889488,-26.31730828476067,-26.326842053013404,-26.484133544702694,-26.42238227403706,-26.433816708122563,-26.349297733275073,-26.344068075636613,-26.351716153323643,-26.42564625712074,-26.3780479051584,-26.371240904725898,-26.386086018323066,-26.398884533685262,-26.40893837339096,-26.28762115377864,-25.48231567261613,-25.937883045646565,-26.054596270953294,-26.05950052185842,-26.297635730290292,-26.046376229579735,-26.264321209945056,-26.27592594920819,-26.404491483158974,-26.34069718637359,-26.476391128764053,-26.285837875053584,-26.28487855104504,-26.25557553183945,-26.335468323235084,-26.410394707374696,-26.387657747627397,-26.323924467422213,-26.36037409211472,-26.31131248879919,-26.40378897943898,-26.41396356174408,-26.37884252873589,-26.406442756784156,-26.25118618651294,-26.3057582551393,-26.48871038122178,-26.407801890304654,-26.523509286860683,-26.389132162409368,-26.457829689670397,-26.44943905985061,-26.47699081015855,-26.314935845472167,-26.453065142771592,-26.434379037322003,-26.489347534171966,-26.42891316984134,-26.371808655620285,-26.380281390632064,-26.486521255531073,-26.422747928362742,-26.39194708660937,-26.387830253056812,-26.475598192124192,-27.056123256966316,-25.983048136639848,-26.339638992928233,-26.27974323299381,-26.38949065139262,-26.354662398882038,-26.335336551862596,-26.41514843242909,-26.469286782809892,-26.4526872227081,-26.425889032923553,-26.43429239006394,-26.500638183610786,-26.430773255087058,-26.41430675239948,-26.459423587209873,-26.301520278204052,-26.427417599433465,-26.383719489604314,-26.366882446364112,-26.42302306585241,-26.42529919770529,-26.267218366422792,-26.53509402987724,-26.315500111141894,-26.533881542189818,-26.383147471825467,-26.436098058087833,-26.340104857358487,-26.412924934668446,-26.49498809640112,-26.413653408216494,-26.469406665949208,-26.456132898231466,-26.499774264918482,-26.402869644157125,-26.49177893438019,-26.371101819030308,-26.50639449245827,-26.48649507791857,-26.437893914479325,-26.417945942131112,-26.416142921351764,-26.538813242869075,-26.442677822555563,-26.44768957607524,-26.3347331627089,-26.438525503336262,-26.45678508904147,-26.40320882468529,-26.43753008676664,-26.4048497320189,-26.477442678696345,-26.505007642142306,-26.428022223930398,-26.48153970761955,-26.506099262496246,-26.519743213519007,-26.427615269716462,-26.394195398991602,-26.44175747648714,-26.47572379514431,-26.40329980406804,-26.470612816007662,-26.408271510874137,-26.55983979913881,-26.52725877523421,-26.45380402696023,-26.53559973141682,-26.49676998426892,-26.422521141452528,-26.455963112500672,-26.44723498499158,-26.488031735837403,-26.432509567925838,-26.42309510667701,-26.500058857746577,-26.398316150607886,-26.564324759069642,-26.53012922532295,-26.46175111356344,-26.507135671261402,-26.57850240710389,-26.4618852088985,-26.508092821965267,-26.4295263452203,-26.473889242930056,-26.500204663782938,-26.52365960293804,-26.46237506784409,-26.50222964583123,-26.709398508873125,-26.473654337953253,-26.38338926584556,-26.39565854211025,-26.41531946482072,-26.482083650727592,-26.59160051548385,-26.542569512962334,-26.48541524208664,-26.459571684602142,-26.432728555427392,-26.329989100614075,-26.61121947660705,-26.425131146664754,-26.526402211011423,-26.46897248131174,-26.493954692890267,-26.447568792773644,-26.464296147114414,-26.523885053218446,-26.406333761199086,-26.400667898119718,-26.464996825914813,-26.455583439468995,-26.608425429963834,-26.48887419712161,-26.37763186390239,-26.37366834796759,-26.436587244013865,-26.42412421835074,-26.392510932643507,-26.437431884536114,-26.510919298611626,-26.483499130637167,-26.331676284270173,-26.383307949049936,-26.547836815737742,-26.64502973008745,-26.457131495516194,-26.48478309373319,-26.452777028001215,-26.463449227563068,-26.550614464889584,-26.475845178546933,-26.291311706804343,-26.389064383027595,-26.374933909292064,-26.440925569219427,-26.455648572140717,-26.539732154118973,-26.379692413037336,-26.44569771078025,-26.58850304211128,-26.47323795532147,-26.49514211272316,-26.51740666049394,-26.51356442742188,-26.453472238561023,-26.457301156049944,-26.5538170146079,-26.503358189143018,-26.508290548633262,-26.500844158494225,-26.366341222545387,-26.40157447855866,-26.266007911535564,-26.4611999801762,-26.506165272076487,-26.50145030546448,-26.57823285715456,-26.480957111723836,-26.43133243026778,-26.368328959426233,-26.47613839723698,-26.51473830909411,-26.542291668979555,-26.482907505062112,-26.472963020928947,-26.31170575775703,-26.38082993648058,-26.4197612247082,-26.423986176427547,-26.407933179309726,-26.47679378815493,-26.407913526576174,-26.456400309914585,-26.45562119937527,-26.44988707477466,-26.524530014818243,-26.451208896680036,-26.424343524733906,-26.328959280526316,-26.501207239124614,-26.526949400175948,-26.473269419197692,-26.522892361513463,-26.548995754498254,-26.37191972642613,-26.47599210582332,-26.341307481415242,-26.477990501205415,-26.43556672873043,-26.52261443978496,-26.50522711220696,-26.450614822250007,-26.496776296765418,-26.482347551362224,-26.491862053369843,-26.491212373419266,-26.475030801235377,-26.503174429544323,-26.489929395574013,-26.502187587292557,-26.456245064880655,-26.512162080688423,-26.492258081532775,-26.573646180745197,-26.481328162212936,-26.455055670387246,-26.460806736319924,-26.507094538097785,-26.538937733681625,-26.495366888127815,-26.506807743674667,-26.55079047261012,-26.528851706989744,-26.48131286056027,-26.414773967693353,-26.421088984292364,-26.494283159949997,-26.459197856251006,-26.58906088497009]},{\"name\":\"MSR\",\"type\":\"scatter\",\"x\":[0,1,2,3,4,5,6,7,8,9,10,11,12,13,14,15,16,17,18,19,20,21,22,23,24,25,26,27,28,29,30,31,32,33,34,35,36,37,38,39,40,41,42,43,44,45,46,47,48,49,50,51,52,53,54,55,56,57,58,59,60,61,62,63,64,65,66,67,68,69,70,71,72,73,74,75,76,77,78,79,80,81,82,83,84,85,86,87,88,89,90,91,92,93,94,95,96,97,98,99,100,101,102,103,104,105,106,107,108,109,110,111,112,113,114,115,116,117,118,119,120,121,122,123,124,125,126,127,128,129,130,131,132,133,134,135,136,137,138,139,140,141,142,143,144,145,146,147,148,149,150,151,152,153,154,155,156,157,158,159,160,161,162,163,164,165,166,167,168,169,170,171,172,173,174,175,176,177,178,179,180,181,182,183,184,185,186,187,188,189,190,191,192,193,194,195,196,197,198,199,200,201,202,203,204,205,206,207,208,209,210,211,212,213,214,215,216,217,218,219,220,221,222,223,224,225,226,227,228,229,230,231,232,233,234,235,236,237,238,239,240,241,242,243,244,245,246,247,248,249,250,251,252,253,254,255,256,257,258,259,260,261,262,263,264,265,266,267,268,269,270,271,272,273,274,275,276,277,278,279,280,281,282,283,284,285,286,287,288,289,290,291,292,293,294,295,296,297,298,299,300,301,302,303,304,305,306,307,308,309,310,311,312,313,314,315,316,317,318,319,320,321,322,323,324,325,326,327,328,329,330,331,332,333,334,335,336,337,338,339,340,341,342,343,344,345,346,347,348,349,350,351,352,353,354,355,356,357,358,359,360,361,362,363,364,365,366,367,368,369,370,371,372,373,374,375,376,377,378,379,380,381,382,383,384,385,386,387,388,389,390,391,392,393,394,395,396,397,398,399,400,401,402,403,404,405,406,407,408,409,410,411,412,413,414,415,416,417,418,419,420,421,422,423,424,425,426,427,428,429,430,431,432,433,434,435,436,437,438,439,440,441,442,443,444,445,446,447,448,449,450,451,452,453,454,455,456,457,458,459,460,461,462,463,464,465,466,467,468,469,470,471,472,473,474,475,476,477,478,479,480,481,482,483,484,485,486,487,488,489,490,491,492,493,494,495,496,497,498,499],\"y\":[-20.691589778131405,-23.39205486759328,-24.41032010407611,-25.67755315802132,-26.604142317465385,-27.833425721062667,-28.592789299454413,-29.039599150970275,-29.665309052049203,-30.01473936756658,-30.296234104471807,-30.490525324168303,-30.856653051963733,-30.76319300900945,-31.080117397573165,-31.220161858208158,-31.264309910526638,-31.701774590240305,-31.772321563194815,-31.746138969687006,-31.71286833007149,-31.804846593393318,-32.02310439768165,-32.08406835892638,-31.95682402728292,-32.14859071969268,-32.26762808811148,-32.20744496911022,-32.27440577877211,-32.403423537312364,-32.25875951896852,-32.42867246159952,-32.35454638568265,-32.32156790432651,-32.42845591127855,-32.3867402129797,-32.471934587568725,-32.51720052550775,-32.46166864451198,-32.62749750463893,-32.46426627885507,-32.64238792654409,-32.58417213019793,-32.661550679386494,-32.52609564170074,-32.557372703785056,-32.72349349674613,-32.774107116690125,-32.52191943577704,-32.62247006075553,-32.61281465560344,-32.76728655357324,-32.79551991018077,-32.63906270426018,-32.707152733303225,-32.71688110775699,-32.68229690809631,-32.65914554972295,-32.70107756069178,-32.88333672830866,-32.68126027122067,-32.82250280960825,-32.87728935418985,-32.77731998137231,-32.850622402534064,-32.72224233150463,-32.86179080375744,-32.86190644112106,-32.9379051446574,-32.99553067720329,-33.00589275752398,-32.69669351755046,-32.72015686489854,-32.98315092436341,-32.8951451543897,-32.99671916910088,-32.90692240503215,-33.061974530293504,-32.861390633153164,-33.01629628183433,-32.9985547787595,-32.98060931286321,-32.88699547402511,-33.14223605926237,-32.8789027931032,-32.899039887574546,-32.97132255102029,-32.94118077077585,-33.06079477238572,-32.991475643550956,-33.24853231521483,-33.03831464533192,-33.01791223163223,-33.17307859263043,-33.0051296183743,-33.040749867927744,-33.01830021331022,-32.989201368505036,-33.237879336752016,-32.989930484648674,-33.18539307988694,-32.920641905383995,-33.18570045426575,-33.26790749183213,-33.061113114382124,-33.265358031079245,-33.157243670343775,-33.10472653463044,-33.22074391281448,-33.05376995653571,-33.198713219619535,-33.08619245922218,-33.11264279804142,-33.07140571607449,-33.07173204971636,-33.0842893638292,-33.19432616285172,-33.148201034552066,-32.92332756811982,-33.180321824831644,-33.124595594683825,-33.04789798546824,-33.148131409228355,-33.235532051771706,-33.21832299709941,-33.13861954341187,-32.98735430127017,-33.04219413273383,-33.093842149542304,-33.35247252409974,-33.18380718937669,-33.16788289339584,-33.23456067638482,-33.16895882748293,-33.02795774620865,-33.13270485073289,-33.30236340320014,-33.18535724168171,-33.147543004912905,-33.12723850407888,-33.166247274455934,-33.21538746465963,-33.19904583137152,-33.195610938998186,-33.2197078572105,-33.14364698699006,-33.245233062840704,-33.3048051286001,-33.21866194936582,-33.17440482734433,-33.008527528948306,-33.0514097184245,-33.05120035839467,-33.08977426344779,-33.23948622765821,-33.26478274315826,-33.1743270678845,-33.40444309056765,-33.33610550907817,-33.36470814673325,-33.35875733683788,-33.05227767125028,-32.97208459881494,-33.117550099220814,-33.31241798047173,-33.224080909741836,-33.20064516844887,-33.291070184404624,-33.261152852506505,-33.09907086804727,-33.183565568729115,-33.33268559088165,-33.28235820040338,-33.26680003052087,-33.524651743917026,-33.0700541228621,-33.21218977347889,-33.30643360189513,-33.302260272265855,-33.28570447115581,-33.25211051981256,-33.201438039891734,-33.36411521775648,-33.35232572808802,-33.324077783234216,-33.325328511205136,-33.347376311439824,-33.30527018381588,-33.20120597726054,-33.384087603873475,-33.35047787343337,-33.297681461135795,-33.23844207670863,-33.2144648636815,-33.37926022664885,-33.37436608324488,-33.45382774409111,-33.160038136421356,-33.26452307981897,-33.285129307240524,-33.09693720497289,-33.16709284524761,-33.1102435194857,-33.340326973865686,-33.148971311272405,-33.38158864759881,-33.245275528506305,-33.39388787135891,-33.21149485652574,-33.2588983785679,-33.471503829898154,-33.416881751638094,-33.3125927903118,-33.43409203312091,-33.15165618179172,-33.33652727179125,-33.36138194904286,-33.19288060698462,-33.285439190680236,-33.214309264350426,-33.31113026370644,-33.457124302528314,-33.25112105945741,-33.276189502352075,-33.32508517373579,-33.247733657727615,-33.26844896542948,-33.22097199960078,-33.415932092687555,-33.1577742253566,-33.17108034318192,-33.24966266106033,-33.22317173091768,-33.27712830907781,-33.26242078643213,-33.421737995530016,-33.25384477220891,-33.139673661435666,-33.18798065076774,-33.37590659314135,-33.23684335461313,-33.46007600382703,-33.421031948147764,-33.18989051034863,-33.21981584924142,-33.144071442375584,-33.31804284333794,-33.30752934557464,-33.32909366302771,-33.09667599254295,-33.420423796435344,-33.38177872723066,-33.27306052032409,-33.369823252523986,-33.24886113586689,-33.42437356111119,-33.483862503336844,-33.183961165141284,-33.29578920366975,-33.41864440574372,-33.29483541251169,-33.22584715885538,-33.36009740558522,-33.16638384595417,-33.30316406268851,-33.27509481698448,-33.2744028402267,-33.3073998161491,-33.35364157644187,-33.44029761847241,-33.300553118874966,-33.40651617251801,-33.36191782345655,-33.156218695670994,-33.195110887570834,-33.27126735013432,-33.21174656005034,-33.1399294371819,-33.329167108059934,-33.34315381499229,-33.25195133943348,-33.182298884668114,-33.30852472797106,-33.30787975317304,-33.33070541593375,-33.13345669749433,-33.38631594723987,-33.30655412290436,-33.3636573510397,-33.313771956028894,-33.54334721912132,-33.31154269897731,-33.41471376004758,-33.35084725263416,-33.254258857868706,-33.34976625010671,-33.40195905619126,-33.22046794976597,-33.36343269269745,-33.235659114060866,-33.25330990024541,-33.23517975876137,-33.26042274177728,-33.36307391633799,-33.36869747357207,-33.25549689313925,-33.51601673165683,-33.450549852983244,-33.12114446218819,-33.35664575730669,-33.240542077923514,-33.289633969398594,-33.37040652418082,-33.29811471705097,-33.46371468798789,-33.10068619618162,-33.403125269216225,-33.233253980340365,-33.419764890023025,-33.30575342463126,-33.193114313235306,-33.16321792311376,-33.381972167981246,-33.38677660125885,-33.27480733790059,-33.326734935504184,-33.47920604445056,-33.366814380975065,-33.338180272053144,-33.25866032759685,-33.295247884657975,-33.13051624111185,-33.40641543750801,-33.40817461607394,-33.32448393623237,-33.34896972104301,-33.27404228203507,-33.555004214995925,-33.40263449798648,-33.27631454640951,-33.32892927541608,-33.425255995928296,-33.307543900479246,-33.29057820797865,-33.33380145210684,-33.38659705443644,-33.27810105226521,-33.279694223000924,-33.425248374507426,-33.37263508200011,-33.195600878761056,-33.16727720993708,-33.506214391067566,-33.34872738409921,-33.373437143035886,-33.29026756039372,-33.12092606665997,-33.582272225855064,-33.367605315298796,-33.548326440643706,-33.22279820845232,-33.31963195513578,-33.36970156357604,-33.26923160272498,-33.31951800946033,-33.32017988109148,-33.249902696378314,-33.289555658689125,-33.26253851364557,-33.350519181842074,-33.428883094373845,-33.2249196233557,-33.33314588188719,-33.24883500390191,-33.25810761235127,-33.420778457700564,-33.35034056824005,-33.31130548768678,-33.21578643146406,-33.32532478763713,-33.13057156531472,-33.36007968547115,-33.311040321190134,-33.34019717186045,-33.23968613175776,-33.295023325113334,-33.437469058326144,-33.50191840004077,-33.383405256043055,-33.27366016495381,-33.323673731323055,-33.17696037074459,-33.259012025947925,-33.1820646854271,-33.5260163095292,-33.413634089205104,-33.43762988983004,-33.360857254901696,-33.40892148497731,-33.402546890928875,-33.36189531276172,-33.307604900347876,-33.32526811297445,-33.36296914043809,-33.47153445758579,-33.02924018062584,-33.26632468215682,-33.30574578506701,-33.21314312408115,-33.33563298611968,-33.398631015944844,-33.36672417843176,-33.342941649040775,-33.344652209628926,-33.25281620700186,-33.53917115286491,-33.37335686447568,-33.45235698810594,-33.36294847300061,-33.51237209312989,-33.30947283184845,-33.54174042005033,-33.29971281281367,-33.254230753017566,-33.372937357941076,-33.28818134560004,-33.304447296702506,-33.43161580641624,-33.290418350196475,-33.3049291812313,-33.3407763935209,-33.23840580407022,-33.390847777717354,-33.44094158633672,-33.33324618632864,-33.23495244804691,-33.39986363497468,-33.22752118932227,-33.38095196819854,-33.36271420937778,-33.301837498240495,-33.40658564476829,-33.22983829121898,-33.36603136365741,-33.23286143659704,-33.37182758628778,-33.333645860303506,-33.266074448398435,-33.26849385813136,-33.45481530423148,-33.236842042310904,-33.38414944871881,-33.28337806221498,-33.25856884933618,-33.444656128250124,-33.491209514140714,-33.325837447012695,-33.250473603446544,-33.272780211111545,-33.328729453811164,-33.41589574046262,-33.14714824161999,-33.30163547187863,-33.2312798286832,-33.3723913196685,-33.30574672902504,-33.31666386295406,-33.24269115390383,-33.348769287561346,-33.33618597325274,-33.32566150308683,-33.380163413691946,-33.51722396022957,-33.42143237162207,-33.368427291288896,-33.354083939074435,-33.2847376068557,-33.24234173605017,-33.237510665434904,-33.348535135368195,-33.28826199558182,-33.269624884360255,-33.35493705314677,-33.26067135580869,-33.23360889865269,-33.337390477151075,-33.17344202668207,-33.57664626056691,-33.35581030107089,-33.305007808674624,-33.31549233308923,-33.296157246279925,-33.516820210084575,-33.558220092259575,-33.24806643211737,-33.164186945279795,-33.436469719604226,-33.32050514661456,-33.37918645878924,-33.34532755970699]}],                        {\"shapes\":[{\"line\":{\"width\":1},\"opacity\":1,\"type\":\"line\",\"x0\":0,\"x1\":1,\"xref\":\"x domain\",\"y0\":-34.08190778603128,\"y1\":-34.08190778603128,\"yref\":\"y\"}],\"template\":{\"data\":{\"bar\":[{\"error_x\":{\"color\":\"rgb(36,36,36)\"},\"error_y\":{\"color\":\"rgb(36,36,36)\"},\"marker\":{\"line\":{\"color\":\"white\",\"width\":0.5},\"pattern\":{\"fillmode\":\"overlay\",\"size\":10,\"solidity\":0.2}},\"type\":\"bar\"}],\"barpolar\":[{\"marker\":{\"line\":{\"color\":\"white\",\"width\":0.5},\"pattern\":{\"fillmode\":\"overlay\",\"size\":10,\"solidity\":0.2}},\"type\":\"barpolar\"}],\"carpet\":[{\"aaxis\":{\"endlinecolor\":\"rgb(36,36,36)\",\"gridcolor\":\"white\",\"linecolor\":\"white\",\"minorgridcolor\":\"white\",\"startlinecolor\":\"rgb(36,36,36)\"},\"baxis\":{\"endlinecolor\":\"rgb(36,36,36)\",\"gridcolor\":\"white\",\"linecolor\":\"white\",\"minorgridcolor\":\"white\",\"startlinecolor\":\"rgb(36,36,36)\"},\"type\":\"carpet\"}],\"choropleth\":[{\"colorbar\":{\"outlinewidth\":1,\"tickcolor\":\"rgb(36,36,36)\",\"ticks\":\"outside\"},\"type\":\"choropleth\"}],\"contour\":[{\"colorbar\":{\"outlinewidth\":1,\"tickcolor\":\"rgb(36,36,36)\",\"ticks\":\"outside\"},\"colorscale\":[[0.0,\"#440154\"],[0.1111111111111111,\"#482878\"],[0.2222222222222222,\"#3e4989\"],[0.3333333333333333,\"#31688e\"],[0.4444444444444444,\"#26828e\"],[0.5555555555555556,\"#1f9e89\"],[0.6666666666666666,\"#35b779\"],[0.7777777777777778,\"#6ece58\"],[0.8888888888888888,\"#b5de2b\"],[1.0,\"#fde725\"]],\"type\":\"contour\"}],\"contourcarpet\":[{\"colorbar\":{\"outlinewidth\":1,\"tickcolor\":\"rgb(36,36,36)\",\"ticks\":\"outside\"},\"type\":\"contourcarpet\"}],\"heatmap\":[{\"colorbar\":{\"outlinewidth\":1,\"tickcolor\":\"rgb(36,36,36)\",\"ticks\":\"outside\"},\"colorscale\":[[0.0,\"#440154\"],[0.1111111111111111,\"#482878\"],[0.2222222222222222,\"#3e4989\"],[0.3333333333333333,\"#31688e\"],[0.4444444444444444,\"#26828e\"],[0.5555555555555556,\"#1f9e89\"],[0.6666666666666666,\"#35b779\"],[0.7777777777777778,\"#6ece58\"],[0.8888888888888888,\"#b5de2b\"],[1.0,\"#fde725\"]],\"type\":\"heatmap\"}],\"heatmapgl\":[{\"colorbar\":{\"outlinewidth\":1,\"tickcolor\":\"rgb(36,36,36)\",\"ticks\":\"outside\"},\"colorscale\":[[0.0,\"#440154\"],[0.1111111111111111,\"#482878\"],[0.2222222222222222,\"#3e4989\"],[0.3333333333333333,\"#31688e\"],[0.4444444444444444,\"#26828e\"],[0.5555555555555556,\"#1f9e89\"],[0.6666666666666666,\"#35b779\"],[0.7777777777777778,\"#6ece58\"],[0.8888888888888888,\"#b5de2b\"],[1.0,\"#fde725\"]],\"type\":\"heatmapgl\"}],\"histogram\":[{\"marker\":{\"line\":{\"color\":\"white\",\"width\":0.6}},\"type\":\"histogram\"}],\"histogram2d\":[{\"colorbar\":{\"outlinewidth\":1,\"tickcolor\":\"rgb(36,36,36)\",\"ticks\":\"outside\"},\"colorscale\":[[0.0,\"#440154\"],[0.1111111111111111,\"#482878\"],[0.2222222222222222,\"#3e4989\"],[0.3333333333333333,\"#31688e\"],[0.4444444444444444,\"#26828e\"],[0.5555555555555556,\"#1f9e89\"],[0.6666666666666666,\"#35b779\"],[0.7777777777777778,\"#6ece58\"],[0.8888888888888888,\"#b5de2b\"],[1.0,\"#fde725\"]],\"type\":\"histogram2d\"}],\"histogram2dcontour\":[{\"colorbar\":{\"outlinewidth\":1,\"tickcolor\":\"rgb(36,36,36)\",\"ticks\":\"outside\"},\"colorscale\":[[0.0,\"#440154\"],[0.1111111111111111,\"#482878\"],[0.2222222222222222,\"#3e4989\"],[0.3333333333333333,\"#31688e\"],[0.4444444444444444,\"#26828e\"],[0.5555555555555556,\"#1f9e89\"],[0.6666666666666666,\"#35b779\"],[0.7777777777777778,\"#6ece58\"],[0.8888888888888888,\"#b5de2b\"],[1.0,\"#fde725\"]],\"type\":\"histogram2dcontour\"}],\"mesh3d\":[{\"colorbar\":{\"outlinewidth\":1,\"tickcolor\":\"rgb(36,36,36)\",\"ticks\":\"outside\"},\"type\":\"mesh3d\"}],\"parcoords\":[{\"line\":{\"colorbar\":{\"outlinewidth\":1,\"tickcolor\":\"rgb(36,36,36)\",\"ticks\":\"outside\"}},\"type\":\"parcoords\"}],\"pie\":[{\"automargin\":true,\"type\":\"pie\"}],\"scatter\":[{\"marker\":{\"colorbar\":{\"outlinewidth\":1,\"tickcolor\":\"rgb(36,36,36)\",\"ticks\":\"outside\"}},\"type\":\"scatter\"}],\"scatter3d\":[{\"line\":{\"colorbar\":{\"outlinewidth\":1,\"tickcolor\":\"rgb(36,36,36)\",\"ticks\":\"outside\"}},\"marker\":{\"colorbar\":{\"outlinewidth\":1,\"tickcolor\":\"rgb(36,36,36)\",\"ticks\":\"outside\"}},\"type\":\"scatter3d\"}],\"scattercarpet\":[{\"marker\":{\"colorbar\":{\"outlinewidth\":1,\"tickcolor\":\"rgb(36,36,36)\",\"ticks\":\"outside\"}},\"type\":\"scattercarpet\"}],\"scattergeo\":[{\"marker\":{\"colorbar\":{\"outlinewidth\":1,\"tickcolor\":\"rgb(36,36,36)\",\"ticks\":\"outside\"}},\"type\":\"scattergeo\"}],\"scattergl\":[{\"marker\":{\"colorbar\":{\"outlinewidth\":1,\"tickcolor\":\"rgb(36,36,36)\",\"ticks\":\"outside\"}},\"type\":\"scattergl\"}],\"scattermapbox\":[{\"marker\":{\"colorbar\":{\"outlinewidth\":1,\"tickcolor\":\"rgb(36,36,36)\",\"ticks\":\"outside\"}},\"type\":\"scattermapbox\"}],\"scatterpolar\":[{\"marker\":{\"colorbar\":{\"outlinewidth\":1,\"tickcolor\":\"rgb(36,36,36)\",\"ticks\":\"outside\"}},\"type\":\"scatterpolar\"}],\"scatterpolargl\":[{\"marker\":{\"colorbar\":{\"outlinewidth\":1,\"tickcolor\":\"rgb(36,36,36)\",\"ticks\":\"outside\"}},\"type\":\"scatterpolargl\"}],\"scatterternary\":[{\"marker\":{\"colorbar\":{\"outlinewidth\":1,\"tickcolor\":\"rgb(36,36,36)\",\"ticks\":\"outside\"}},\"type\":\"scatterternary\"}],\"surface\":[{\"colorbar\":{\"outlinewidth\":1,\"tickcolor\":\"rgb(36,36,36)\",\"ticks\":\"outside\"},\"colorscale\":[[0.0,\"#440154\"],[0.1111111111111111,\"#482878\"],[0.2222222222222222,\"#3e4989\"],[0.3333333333333333,\"#31688e\"],[0.4444444444444444,\"#26828e\"],[0.5555555555555556,\"#1f9e89\"],[0.6666666666666666,\"#35b779\"],[0.7777777777777778,\"#6ece58\"],[0.8888888888888888,\"#b5de2b\"],[1.0,\"#fde725\"]],\"type\":\"surface\"}],\"table\":[{\"cells\":{\"fill\":{\"color\":\"rgb(237,237,237)\"},\"line\":{\"color\":\"white\"}},\"header\":{\"fill\":{\"color\":\"rgb(217,217,217)\"},\"line\":{\"color\":\"white\"}},\"type\":\"table\"}]},\"layout\":{\"annotationdefaults\":{\"arrowhead\":0,\"arrowwidth\":1},\"autotypenumbers\":\"strict\",\"coloraxis\":{\"colorbar\":{\"outlinewidth\":1,\"tickcolor\":\"rgb(36,36,36)\",\"ticks\":\"outside\"}},\"colorscale\":{\"diverging\":[[0.0,\"rgb(103,0,31)\"],[0.1,\"rgb(178,24,43)\"],[0.2,\"rgb(214,96,77)\"],[0.3,\"rgb(244,165,130)\"],[0.4,\"rgb(253,219,199)\"],[0.5,\"rgb(247,247,247)\"],[0.6,\"rgb(209,229,240)\"],[0.7,\"rgb(146,197,222)\"],[0.8,\"rgb(67,147,195)\"],[0.9,\"rgb(33,102,172)\"],[1.0,\"rgb(5,48,97)\"]],\"sequential\":[[0.0,\"#440154\"],[0.1111111111111111,\"#482878\"],[0.2222222222222222,\"#3e4989\"],[0.3333333333333333,\"#31688e\"],[0.4444444444444444,\"#26828e\"],[0.5555555555555556,\"#1f9e89\"],[0.6666666666666666,\"#35b779\"],[0.7777777777777778,\"#6ece58\"],[0.8888888888888888,\"#b5de2b\"],[1.0,\"#fde725\"]],\"sequentialminus\":[[0.0,\"#440154\"],[0.1111111111111111,\"#482878\"],[0.2222222222222222,\"#3e4989\"],[0.3333333333333333,\"#31688e\"],[0.4444444444444444,\"#26828e\"],[0.5555555555555556,\"#1f9e89\"],[0.6666666666666666,\"#35b779\"],[0.7777777777777778,\"#6ece58\"],[0.8888888888888888,\"#b5de2b\"],[1.0,\"#fde725\"]]},\"colorway\":[\"#1F77B4\",\"#FF7F0E\",\"#2CA02C\",\"#D62728\",\"#9467BD\",\"#8C564B\",\"#E377C2\",\"#7F7F7F\",\"#BCBD22\",\"#17BECF\"],\"font\":{\"color\":\"rgb(36,36,36)\"},\"geo\":{\"bgcolor\":\"white\",\"lakecolor\":\"white\",\"landcolor\":\"white\",\"showlakes\":true,\"showland\":true,\"subunitcolor\":\"white\"},\"hoverlabel\":{\"align\":\"left\"},\"hovermode\":\"closest\",\"mapbox\":{\"style\":\"light\"},\"paper_bgcolor\":\"white\",\"plot_bgcolor\":\"white\",\"polar\":{\"angularaxis\":{\"gridcolor\":\"rgb(232,232,232)\",\"linecolor\":\"rgb(36,36,36)\",\"showgrid\":false,\"showline\":true,\"ticks\":\"outside\"},\"bgcolor\":\"white\",\"radialaxis\":{\"gridcolor\":\"rgb(232,232,232)\",\"linecolor\":\"rgb(36,36,36)\",\"showgrid\":false,\"showline\":true,\"ticks\":\"outside\"}},\"scene\":{\"xaxis\":{\"backgroundcolor\":\"white\",\"gridcolor\":\"rgb(232,232,232)\",\"gridwidth\":2,\"linecolor\":\"rgb(36,36,36)\",\"showbackground\":true,\"showgrid\":false,\"showline\":true,\"ticks\":\"outside\",\"zeroline\":false,\"zerolinecolor\":\"rgb(36,36,36)\"},\"yaxis\":{\"backgroundcolor\":\"white\",\"gridcolor\":\"rgb(232,232,232)\",\"gridwidth\":2,\"linecolor\":\"rgb(36,36,36)\",\"showbackground\":true,\"showgrid\":false,\"showline\":true,\"ticks\":\"outside\",\"zeroline\":false,\"zerolinecolor\":\"rgb(36,36,36)\"},\"zaxis\":{\"backgroundcolor\":\"white\",\"gridcolor\":\"rgb(232,232,232)\",\"gridwidth\":2,\"linecolor\":\"rgb(36,36,36)\",\"showbackground\":true,\"showgrid\":false,\"showline\":true,\"ticks\":\"outside\",\"zeroline\":false,\"zerolinecolor\":\"rgb(36,36,36)\"}},\"shapedefaults\":{\"fillcolor\":\"black\",\"line\":{\"width\":0},\"opacity\":0.3},\"ternary\":{\"aaxis\":{\"gridcolor\":\"rgb(232,232,232)\",\"linecolor\":\"rgb(36,36,36)\",\"showgrid\":false,\"showline\":true,\"ticks\":\"outside\"},\"baxis\":{\"gridcolor\":\"rgb(232,232,232)\",\"linecolor\":\"rgb(36,36,36)\",\"showgrid\":false,\"showline\":true,\"ticks\":\"outside\"},\"bgcolor\":\"white\",\"caxis\":{\"gridcolor\":\"rgb(232,232,232)\",\"linecolor\":\"rgb(36,36,36)\",\"showgrid\":false,\"showline\":true,\"ticks\":\"outside\"}},\"title\":{\"x\":0.05},\"xaxis\":{\"automargin\":true,\"gridcolor\":\"rgb(232,232,232)\",\"linecolor\":\"rgb(36,36,36)\",\"showgrid\":false,\"showline\":true,\"ticks\":\"outside\",\"title\":{\"standoff\":15},\"zeroline\":false,\"zerolinecolor\":\"rgb(36,36,36)\"},\"yaxis\":{\"automargin\":true,\"gridcolor\":\"rgb(232,232,232)\",\"linecolor\":\"rgb(36,36,36)\",\"showgrid\":false,\"showline\":true,\"ticks\":\"outside\",\"title\":{\"standoff\":15},\"zeroline\":false,\"zerolinecolor\":\"rgb(36,36,36)\"}}},\"title\":{\"text\":\"<b>S-S model </b>, N=16, J2 =1, J1 =0.9 , η=0.01, α=8, samples=1000\"},\"xaxis\":{\"mirror\":true,\"showline\":true,\"title\":{\"text\":\"Iteration\"}},\"yaxis\":{\"mirror\":true,\"showline\":true,\"title\":{\"text\":\"Energy\"}}},                        {\"responsive\": true}                    ).then(function(){\n",
       "                            \n",
       "var gd = document.getElementById('b025f309-e673-4afb-b1cb-44e1c20fb41b');\n",
       "var x = new MutationObserver(function (mutations, observer) {{\n",
       "        var display = window.getComputedStyle(gd).display;\n",
       "        if (!display || display === 'none') {{\n",
       "            console.log([gd, 'removed!']);\n",
       "            Plotly.purge(gd);\n",
       "            observer.disconnect();\n",
       "        }}\n",
       "}});\n",
       "\n",
       "// Listen for the removal of the full notebook cells\n",
       "var notebookContainer = gd.closest('#notebook-container');\n",
       "if (notebookContainer) {{\n",
       "    x.observe(notebookContainer, {childList: true});\n",
       "}}\n",
       "\n",
       "// Listen for the clearing of the current output cell\n",
       "var outputEl = gd.closest('.output');\n",
       "if (outputEl) {{\n",
       "    x.observe(outputEl, {childList: true});\n",
       "}}\n",
       "\n",
       "                        })                };                });            </script>        </div>"
      ]
     },
     "metadata": {},
     "output_type": "display_data"
    }
   ],
   "source": [
    "# import the data from log file\n",
    "OUT_NAME_suffixless=OUT_NAME\n",
    "data = []\n",
    "names = [\"normal\",\"MSR\"]\n",
    "for i in range(no_of_runs):\n",
    "    data.append(json.load(open(OUT_NAME_suffixless+str(i)+\".log\")))\n",
    "if type(data[0][\"Energy\"][\"Mean\"]) == dict: #DTYPE in (np.complex128, np.complex64):#, np.float64):# and False:\n",
    "    energy_convergence = [data[i][\"Energy\"][\"Mean\"][\"real\"] for i in range(no_of_runs)]\n",
    "    # symmetry = [data[i][\"symmetry\"][\"Mean\"][\"real\"] for i in range(no_of_runs-run_only_2)]\n",
    "else:\n",
    "    energy_convergence = [data[i][\"Energy\"][\"Mean\"] for i in range(no_of_runs)]\n",
    "    # symmetry = [data[i][\"symmetry\"][\"Mean\"] for i in range(no_of_runs-run_only_2)]\n",
    "for i in range(no_of_runs):\n",
    "    figure.add_trace(go.Scatter(\n",
    "        x=data[i][\"Energy\"][\"iters\"], y=energy_convergence[i],\n",
    "        name=names[i],# mode='markers'\n",
    "    ))\n",
    "    # figure.add_trace(go.Scatter(\n",
    "    #     x=data[i][\"Energy\"][\"iters\"], y=symmetry[i],\n",
    "    #     name=names[i]+\"_swap\"\n",
    "    # ))\n",
    "\n",
    "figure.update_layout(xaxis_title=\"Iteration\",yaxis_title=\"Energy\")\n",
    "figure.show()"
   ]
  },
  {
   "cell_type": "markdown",
   "metadata": {},
   "source": [
    "## Assessment of the other simulation results"
   ]
  },
  {
   "cell_type": "code",
   "execution_count": null,
   "metadata": {},
   "outputs": [
    {
     "name": "stdout",
     "output_type": "stream",
     "text": [
      "[-1, -1]\n"
     ]
    }
   ],
   "source": [
    "# Calculation of how long it took to reach 99.5% of exact energy. The first value under 0.5% deviation counts as a converged state.\n",
    "no_of_runs = 2\n",
    "threshold_energy = 0.995*exact_ground_energy\n",
    "data = []\n",
    "for i in range(no_of_runs):\n",
    "    data.append(json.load(open(OUT_NAME+str(i)+\".log\")))\n",
    "if type(data[0][\"Energy\"][\"Mean\"]) == dict:\n",
    "    energy_convergence = [data[i][\"Energy\"][\"Mean\"][\"real\"] for i in range(no_of_runs)]\n",
    "else:\n",
    "    energy_convergence = [data[i][\"Energy\"][\"Mean\"] for i in range(no_of_runs)]\n",
    "steps_until_convergence = [next((i for i,v in enumerate(energy_convergence[j]) if v < threshold_energy), -1) for j in range(no_of_runs)]\n",
    "print(steps_until_convergence)"
   ]
  },
  {
   "cell_type": "code",
   "execution_count": null,
   "metadata": {},
   "outputs": [
    {
     "name": "stdout",
     "output_type": "stream",
     "text": [
      "Trained RBM without MSR:\n",
      "m_d^2 = -0.2468+0.0002j ± 0.0036 [σ²=0.0134]\n",
      "m_p(MSR) = -0.035-0.000j ± 0.010 [σ²=0.066]\n",
      "m_s^2 = 1.0072-0.0001j ± 0.0069 [σ²=0.0505]\n",
      "m_s^2(MSR) = 0.8023-0.0001j ± 0.0092 [σ²=0.0962]\n",
      "Trained RBM with MSR:\n",
      "m_d^2 = -0.2546-0.0000j ± 0.0026 [σ²=0.0099]\n",
      "m_p(MSR) = 0.048-0.000j ± 0.041 [σ²=1.770]\n",
      "m_s^2 = 0.2937-0.0000j ± 0.0075 [σ²=0.0895]\n",
      "m_s^2(MSR) = 1.0157+0.0000j ± 0.0068 [σ²=0.0804]\n"
     ]
    }
   ],
   "source": [
    "# Evaluation of order parameters.\n",
    "from lattice_and_ops import Operators, Lattice\n",
    "ops = Operators(lattice,hilbert,ho.mszsz,ho.exchange)\n",
    "for i,gs in enumerate([gs_1,gs_2][run_only_2:run_only_2+no_of_runs]):\n",
    "    print(\"Trained RBM with MSR:\" if (i+run_only_2) else \"Trained RBM without MSR:\")\n",
    "    print(\"m_d^2 =\", gs.estimate(ops.m_dimer_op))\n",
    "    print(\"m_p(MSR) =\", gs.estimate(ops.m_plaquette_op_MSR))\n",
    "    print(\"m_s^2 =\", gs.estimate(ops.m_s2_op))\n",
    "    print(\"m_s^2(MSR) =\", gs.estimate(ops.m_s2_op_MSR))"
   ]
  },
  {
   "cell_type": "markdown",
   "metadata": {},
   "source": [
    "## Standardised logging"
   ]
  },
  {
   "cell_type": "code",
   "execution_count": null,
   "metadata": {},
   "outputs": [
    {
     "name": "stdout",
     "output_type": "stream",
     "text": [
      " 0.900  -26.58906 27.39718   -26.58906 27.39718   -0.0071  0.0872  -0.2468  0.0134   1.0072  0.0505   -0.0354  0.0663  -0.2468  0.0134   0.8023  0.0962   -34.08191  1000   500 -1, -1\n"
     ]
    }
   ],
   "source": [
    "from lattice_and_ops import log_results\n",
    "log_results(JEXCH1,gs_1,gs_1,ops,SAMPLES,NUM_ITER,exact_ground_energy,steps_until_convergence,filename=\"temp.txt\")"
   ]
  },
  {
   "cell_type": "markdown",
   "metadata": {},
   "source": [
    "### Print final results"
   ]
  },
  {
   "cell_type": "code",
   "execution_count": null,
   "metadata": {},
   "outputs": [
    {
     "ename": "TypeError",
     "evalue": "log_results() missing 1 required positional argument: 'steps_until_convergence'",
     "output_type": "error",
     "traceback": [
      "\u001b[0;31m---------------------------------------------------------------------------\u001b[0m",
      "\u001b[0;31mTypeError\u001b[0m                                 Traceback (most recent call last)",
      "\u001b[0;32m/tmp/ipykernel_271/2261589024.py\u001b[0m in \u001b[0;36m<module>\u001b[0;34m\u001b[0m\n\u001b[1;32m      1\u001b[0m \u001b[0;32mfrom\u001b[0m \u001b[0mlattice_and_ops\u001b[0m \u001b[0;32mimport\u001b[0m \u001b[0mlog_results\u001b[0m\u001b[0;34m\u001b[0m\u001b[0;34m\u001b[0m\u001b[0m\n\u001b[0;32m----> 2\u001b[0;31m \u001b[0mlog_results\u001b[0m\u001b[0;34m(\u001b[0m\u001b[0mJEXCH1\u001b[0m\u001b[0;34m,\u001b[0m\u001b[0mgs_1\u001b[0m\u001b[0;34m,\u001b[0m\u001b[0mgs_2\u001b[0m\u001b[0;34m,\u001b[0m\u001b[0mops\u001b[0m\u001b[0;34m,\u001b[0m\u001b[0mSAMPLES\u001b[0m\u001b[0;34m,\u001b[0m\u001b[0mNUM_ITER\u001b[0m\u001b[0;34m,\u001b[0m\u001b[0msteps_until_convergence\u001b[0m\u001b[0;34m)\u001b[0m\u001b[0;34m\u001b[0m\u001b[0;34m\u001b[0m\u001b[0m\n\u001b[0m",
      "\u001b[0;31mTypeError\u001b[0m: log_results() missing 1 required positional argument: 'steps_until_convergence'"
     ]
    }
   ],
   "source": [
    "from lattice_and_ops import log_results\n",
    "log_results(JEXCH1,gs_1,gs_2,ops,SAMPLES,NUM_ITER,steps_until_convergence)"
   ]
  },
  {
   "cell_type": "code",
   "execution_count": null,
   "metadata": {},
   "outputs": [
    {
     "name": "stdout",
     "output_type": "stream",
     "text": [
      " 0.400  -15.74737  0.46486   0.4879  0.0093   0.0233  0.4016   0.1384  0.0085   1000   400\n"
     ]
    }
   ],
   "source": [
    "print(\"{:6.3f} {:10.5f} {:8.5f}  {:7.4f} {:7.4f}  {:7.4f} {:7.4f}  {:7.4f} {:7.4f}  {:5.0f} {:5.0f}\".format(JEXCH1, \n",
    "    gs_1.energy.mean.real,                          gs_1.energy.variance,\n",
    "    gs_1.estimate(ops.m_dimer_op).mean.real,        gs_1.estimate(ops.m_dimer_op).variance,\n",
    "    gs_1.estimate(ops.m_plaquette_op).mean.real,    gs_1.estimate(ops.m_plaquette_op).variance,\n",
    "    gs_1.estimate(ops.m_s2_op).mean.real,           gs_1.estimate(ops.m_s2_op).variance, \n",
    "    SAMPLES, NUM_ITER, steps_until_convergence[0], sep='    '))"
   ]
  },
  {
   "cell_type": "code",
   "execution_count": null,
   "metadata": {},
   "outputs": [
    {
     "name": "stdout",
     "output_type": "stream",
     "text": [
      "asd\n"
     ]
    }
   ],
   "source": [
    "print(\"asd\",file=None)"
   ]
  },
  {
   "cell_type": "code",
   "execution_count": null,
   "metadata": {},
   "outputs": [
    {
     "name": "stdout",
     "output_type": "stream",
     "text": [
      "  0.46486\n"
     ]
    }
   ],
   "source": [
    "print(\"{:9.5f}\".format(gs_1.energy.variance))"
   ]
  },
  {
   "cell_type": "code",
   "execution_count": null,
   "metadata": {},
   "outputs": [
    {
     "data": {
      "text/plain": [
       "{'Mean': (-15.747368841964612-0.003949807027622352j),\n",
       " 'Variance': 0.46486127291880336,\n",
       " 'Sigma': 0.02484698569889124,\n",
       " 'R_hat': nan,\n",
       " 'TauCorr': 0.16403971925269567}"
      ]
     },
     "execution_count": 211,
     "metadata": {},
     "output_type": "execute_result"
    }
   ],
   "source": [
    "gs_1.energy.to_dict()"
   ]
  }
 ],
 "metadata": {
  "interpreter": {
   "hash": "31f2aee4e71d21fbe5cf8b01ff0e069b9275f58929596ceb00d14d90e3e16cd6"
  },
  "kernelspec": {
   "display_name": "Python 3.8.10 64-bit",
   "name": "python3"
  },
  "language_info": {
   "codemirror_mode": {
    "name": "ipython",
    "version": 3
   },
   "file_extension": ".py",
   "mimetype": "text/x-python",
   "name": "python",
   "nbconvert_exporter": "python",
   "pygments_lexer": "ipython3",
   "version": "3.8.10"
  },
  "metadata": {
   "interpreter": {
    "hash": "916dbcbb3f70747c44a77c7bcd40155683ae19c65e1c03b4aa3499c5328201f1"
   }
  }
 },
 "nbformat": 4,
 "nbformat_minor": 4
}
