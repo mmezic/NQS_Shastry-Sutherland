{
 "cells": [
  {
   "cell_type": "markdown",
   "metadata": {},
   "source": [
    "# Exploring Shastry-Sutterland model with RBM variational wave function and other models"
   ]
  },
  {
   "cell_type": "code",
   "execution_count": 77,
   "metadata": {},
   "outputs": [
    {
     "name": "stdout",
     "output_type": "stream",
     "text": [
      "Python version: 3.8.10 (default, Nov 26 2021, 20:14:08) \n",
      "[GCC 9.3.0]\n",
      "NetKet version: 3.3.3\n",
      "NumPy version: 1.20.3\n"
     ]
    }
   ],
   "source": [
    "import netket as nk\n",
    "import numpy as np\n",
    "import time\n",
    "import json\n",
    "import plotly.graph_objects as go\n",
    "import matplotlib.pyplot as plt\n",
    "import jax\n",
    "import flax\n",
    "import optax\n",
    "from sys import version as pyvers\n",
    "\n",
    "print(\"Python version: {}\".format(pyvers))\n",
    "print(\"NetKet version: {}\".format(nk.__version__))\n",
    "print(\"NumPy version: {}\".format(np.__version__))"
   ]
  },
  {
   "cell_type": "markdown",
   "metadata": {},
   "source": [
    "### Setup relevant parameters and settings of the simulation "
   ]
  },
  {
   "cell_type": "code",
   "execution_count": 100,
   "metadata": {},
   "outputs": [],
   "source": [
    "\"\"\"lattice\"\"\"\n",
    "SITES    = 20             # 4, 8, 16, 20 ... number of vertices in a tile determines the tile shape \n",
    "JEXCH1   = .9            # nn interaction\n",
    "JEXCH2   = 1             # nnn interaction\n",
    "H_Z      = 0             # magnetic field\n",
    "USE_PBC = True\n",
    "TOTAL_SZ = None          # 0, None ... restriction of Hilbert space\n",
    "#USE_MSR = True          # Should we use a Marshall sign rule? In this notebook, we use both.\n",
    "\n",
    "\"\"\"machine learning\"\"\"\n",
    "MACHINE  = \"RBM\"         # RBM, RBMSymm, RBMSymm_transl, RBMModPhase, GCNN, Jastrow, myRBM\n",
    "DTYPE    = np.complex128 # data-type of weights in neural network\n",
    "ALPHA    = 8            # N_hidden / N_visible\n",
    "ETA      = .01          # learning rate (0.01 usually works)\n",
    "SAMPLER  = 'exact'       # 'local' = MetropolisLocal, 'exchange' = MetropolisExchange\n",
    "SAMPLES  = 3000          # number of Monte Carlo samples\n",
    "NUM_ITER = 1000           # number of convergence iterations\n",
    "N_LAYERS = 2 #2             # number of layers (in case of G-CNN)\n",
    "FEATURES = (16,16) #16 #(8,4)         # dimensions of layers (in case of G-CNN)\n",
    "\n",
    "OUT_NAME = \"SS_\"+str(SITES)+\"j1=\"+str(JEXCH1) # output file name"
   ]
  },
  {
   "cell_type": "markdown",
   "metadata": {},
   "source": [
    "### Lattice definition\n",
    "Basic structure of tiled lattices is implemented in `lattice_and_ops.py` file. Class `Lattice` implements relative positional functions, \n",
    "- e.g. *`rt(node)` returns the index of the right neighbour of a site with index `node`*\n",
    "\n",
    "The `for` loop constructs full Shastry-Sutherland lattice with PBC using these auxiliary positional functions."
   ]
  },
  {
   "cell_type": "code",
   "execution_count": 101,
   "metadata": {},
   "outputs": [],
   "source": [
    "from lattice_and_ops import Lattice\n",
    "lattice = Lattice(SITES)\n",
    "\n",
    "if not USE_PBC and SITES != 16:\n",
    "    raise Exception(\"Non-PBC are implemented only for 4x4 lattice!!!\")\n",
    "\n",
    "# Construction of custom graph according to tiled lattice structure defined in the Lattice class.\n",
    "edge_colors = []\n",
    "for node in range(SITES):\n",
    "    if USE_PBC or not node in [3,7,11,15]:\n",
    "        edge_colors.append([node,lattice.rt(node), 1])  # horizontal connections\n",
    "    if USE_PBC or not node in [12,13,14,15]:\n",
    "        edge_colors.append([node,lattice.bot(node), 1]) # vertical connections\n",
    "    row, column = lattice.position(node)\n",
    "    \n",
    "    SS_color = 3 if not USE_PBC and node in [3,7,4,12,13,14,15] else 2\n",
    "    if column%2 == 0:\n",
    "        if row%2 == 0:\n",
    "            edge_colors.append([node,lattice.lrt(node),SS_color]) # diagonal bond\n",
    "        else:\n",
    "            edge_colors.append([node,lattice.llft(node),SS_color]) # diagonal bond\n",
    "\n",
    "g = nk.graph.Graph(edges=edge_colors) #,n_nodes=3)\n",
    "N = g.n_nodes\n",
    "\n",
    "hilbert = nk.hilbert.Spin(s=.5, N=g.n_nodes, total_sz=TOTAL_SZ)"
   ]
  },
  {
   "cell_type": "markdown",
   "metadata": {},
   "source": [
    "### Characters of the symmetries\n",
    "In case of G-CNN, we need to specify the characters of the symmetry transformations.\n",
    "- DS phase anti-symmetric wrt permutations with negative sign and symmetric wer permutaions with postive sign\n",
    "- AF phase is always symmetric for all permutations  "
   ]
  },
  {
   "cell_type": "code",
   "execution_count": 80,
   "metadata": {},
   "outputs": [
    {
     "name": "stdout",
     "output_type": "stream",
     "text": [
      "There are 64 full symmetries.\n"
     ]
    }
   ],
   "source": [
    "\n",
    "print(\"There are\", len(g.automorphisms()), \"full symmetries.\")\n",
    "# deciding point between DS and AF phase is set to 0.5\n",
    "if JEXCH1 < 0.5:\n",
    "    # DS phase is partly anti-symmetric\n",
    "    characters = []\n",
    "    from lattice_and_ops import permutation_sign\n",
    "    for perm in g.automorphisms():\n",
    "        # print(perm, \"with sign\", permutation_sign(np.asarray(perm)))\n",
    "        characters.append(permutation_sign(np.asarray(perm)))\n",
    "    characters_dimer_1 = np.asarray(characters,dtype=complex)\n",
    "    characters_dimer_2 = characters_dimer_1\n",
    "else:\n",
    "    # AF phase if fully symmetric\n",
    "    characters_dimer_1 = np.ones((len(g.automorphisms()),), dtype=complex)\n",
    "    characters_dimer_2 = characters_dimer_1"
   ]
  },
  {
   "cell_type": "markdown",
   "metadata": {},
   "source": [
    "### Translations\n",
    "\n",
    "If we want to include only translations, we have to exclude some symmetries from `g.automorphisms()`.\n",
    "\n",
    "\n",
    "⚠️ TODO ⚠️ <span style=\"color:red\"> This part is not fully automated yet. Translations are currently picked by hand from the group of all automorphisms. </span>"
   ]
  },
  {
   "cell_type": "code",
   "execution_count": 81,
   "metadata": {},
   "outputs": [
    {
     "name": "stdout",
     "output_type": "stream",
     "text": [
      "Out of 64 permutations, 4 translations were picked.\n"
     ]
    }
   ],
   "source": [
    "if MACHINE == \"RBMSymm_transl\" and not (N in [4,16]):\n",
    "    raise NotImplementedError(\"Extraction of translations from the group of automorphisms is not implemented yet.\")\n",
    "translations = []\n",
    "for perm in g.automorphisms():\n",
    "    aperm = np.asarray(perm)\n",
    "    if N == 4:\n",
    "        if (aperm[0],aperm[1]) in ((0,1),(1,0),(2,3),(3,2)): # N = 4\n",
    "            translations.append(nk.utils.group._permutation_group.Permutation(aperm))\n",
    "    if N == 16:\n",
    "        if (aperm[0],aperm[1],aperm[3]) in ((0,1,3),(2,3,1),(8,9,11),(10,11,9)): # N = 16\n",
    "    # if (aperm[0],aperm[1],aperm[2],aperm[3]) in ((4,7,6,5),): # N = 8\n",
    "    # if (aperm[2],aperm[0]) in ((2,0),(3,0),(0,1),(1,2)):#,(2,3,1)): # N = 16, two dimers with just translation\n",
    "    # if (aperm[0],aperm[1],aperm[3]) in ((0,1,3),(3,2,0),(2,3,1),(1,0,2)): # N = 16, two dimers plus second translation option\n",
    "            translations.append(nk.utils.group._permutation_group.Permutation(aperm))\n",
    "translation_group = nk.utils.group._permutation_group.PermutationGroup(translations,degree=SITES)\n",
    "print(\"Out of\", len(g.automorphisms()), \"permutations,\",len(translation_group), \"translations were picked.\")"
   ]
  },
  {
   "cell_type": "markdown",
   "metadata": {},
   "source": [
    "## Hamoltonian definition\n",
    "$$ H = J_{1} \\sum\\limits_{\\langle i,j \\rangle}^{L} \\vec{\\sigma}_{i} \\cdot \\vec{\\sigma}_{j} + J_{2} \\sum\\limits_{\\langle\\langle i,j \\rangle\\rangle_{SS}}^{L}  \\vec{\\sigma}_{i} \\cdot \\vec{\\sigma}_{j} + 2h\\sum\\limits_{i} \\sigma^z_{i}\\,. $$\n",
    "\n",
    "Axiliary constant operators used to define hamiltonian are loaded from the external file, they are pre-defined in the `HamOps` class."
   ]
  },
  {
   "cell_type": "code",
   "execution_count": 102,
   "metadata": {},
   "outputs": [],
   "source": [
    "from lattice_and_ops import HamOps\n",
    "ho = HamOps()\n",
    "# H_Z = .5\n",
    "ha_1 = nk.operator.GraphOperator(hilbert, graph=g, bond_ops=ho.bond_operator(JEXCH1,JEXCH2, h_z=H_Z, use_MSR=False), bond_ops_colors=ho.bond_color)\n",
    "ha_2 = nk.operator.GraphOperator(hilbert, graph=g, bond_ops=ho.bond_operator(JEXCH1,JEXCH2, h_z=H_Z, use_MSR=True), bond_ops_colors=ho.bond_color)\n"
   ]
  },
  {
   "cell_type": "markdown",
   "metadata": {},
   "source": [
    "### Magnetization operator definition\n",
    "$$ \\hat{m}_z := \\sum\\limits_i \\sigma_i^z $$"
   ]
  },
  {
   "cell_type": "code",
   "execution_count": 105,
   "metadata": {},
   "outputs": [],
   "source": [
    "m_z = sum(nk.operator.spin.sigmaz(hilbert, i) for i in range(hilbert.size))\n",
    "from lattice_and_ops import Operators, Lattice\n",
    "ops = Operators(lattice,hilbert,ho.mszsz,ho.exchange)"
   ]
  },
  {
   "cell_type": "code",
   "execution_count": 106,
   "metadata": {},
   "outputs": [
    {
     "name": "stdout",
     "output_type": "stream",
     "text": [
      "#N = 20\n",
      "# J1     J2      H_Z            m_z            ground          1.excited          2.excited\n",
      "ED took -0.9655422528584798 min.\n",
      "0.900   1.000  0.0000000000   -0.0000000000   -41.6638083404   -39.9074186089   -39.9074186089\n"
     ]
    }
   ],
   "source": [
    "if not False: # exact diagonalization scan\n",
    "    # H_Z = 0\n",
    "    print(\"#N =\", N)\n",
    "    print(\"# J1     J2      H_Z            m_z            ground          1.excited          2.excited\")\n",
    "    for H_Z in np.arange(0,0.03,step=0.1):\n",
    "        ha = nk.operator.GraphOperator(hilbert, graph=g, bond_ops=ho.bond_operator(JEXCH1,JEXCH2, h_z=H_Z, use_MSR=True), bond_ops_colors=ho.bond_color)\n",
    "        start = time.time()\n",
    "        evals, eigvects = nk.exact.lanczos_ed(ha, k=3, compute_eigenvectors=True)\n",
    "        ground_state = eigvects.T[0]\n",
    "        end = time.time()\n",
    "        magnetization_z = ground_state.transpose()@(m_z@ground_state)\n",
    "        # m_DS = ground_state.transpose()@(ops.m_dimer_op@ground_state)\n",
    "        # m_PS = ground_state.transpose()@(ops.m_plaquette_op@ground_state)\n",
    "        # m_AF = ground_state.transpose()@(ops.m_s2_op_MSR@ground_state)\n",
    "        print(\"ED took\", (start-end)/60, \"min.\")\n",
    "        # print(np.round(np.array(ground_state),5))\n",
    "        # print(ha.to_dense())\n",
    "        print(\"%.3f   %.3f  %2.10f   %2.10f   %2.10f   %14.10f   %14.10f\" % (JEXCH1, JEXCH2, H_Z, magnetization_z, evals[0], evals[1], evals[2]))"
   ]
  },
  {
   "cell_type": "code",
   "execution_count": 85,
   "metadata": {},
   "outputs": [],
   "source": [
    "# m_AF = ops.m_sSquared_slow(ground_state)"
   ]
  },
  {
   "cell_type": "code",
   "execution_count": 86,
   "metadata": {},
   "outputs": [
    {
     "data": {
      "text/plain": [
       "1.944001926098088e-29"
      ]
     },
     "execution_count": 86,
     "metadata": {},
     "output_type": "execute_result"
    }
   ],
   "source": [
    "evals, eigvects = nk.exact.lanczos_ed(ha_1, k=3, compute_eigenvectors=True)\n",
    "ground_state = eigvects.T[0]\n",
    "ground_state.transpose()@(m_z@ground_state)"
   ]
  },
  {
   "cell_type": "markdown",
   "metadata": {},
   "source": [
    "## Exact diagonalization"
   ]
  },
  {
   "cell_type": "code",
   "execution_count": 87,
   "metadata": {},
   "outputs": [
    {
     "name": "stdout",
     "output_type": "stream",
     "text": [
      "Ground state energy: -34.08190778603123 \n",
      "It took  1.66 s = 0.03 min\n"
     ]
    }
   ],
   "source": [
    "if g.n_nodes < 20:\n",
    "    start = time.time()\n",
    "    if g.n_nodes < 15:\n",
    "        evals, eigvects = nk.exact.full_ed(ha_1, compute_eigenvectors=True)\n",
    "    else:\n",
    "        evals, eigvects = nk.exact.lanczos_ed(ha_1, k=3, compute_eigenvectors=True)\n",
    "    end = time.time()\n",
    "    diag_time = end - start\n",
    "    print(\"Ground state energy:\",evals[0], \"\\nIt took \", round(diag_time,2), \"s =\", round((diag_time)/60,2),\"min\")\n",
    "else:\n",
    "    print(\"System is too large for exact diagonalization. Setting exact_ground_energy = 0 (which is wrong)\")\n",
    "    evals = [0,0,0]\n",
    "    eigvects = None \n",
    "exact_ground_energy = evals[0]"
   ]
  },
  {
   "cell_type": "markdown",
   "metadata": {},
   "source": [
    "# Machine learning starts here"
   ]
  },
  {
   "cell_type": "markdown",
   "metadata": {},
   "source": [
    "## Machine definition and other auxiliary `netket` objects\n",
    "We define two sets of these objects, usually: \n",
    "- variables ending with ...`_1` belongs to the choice of standard basis,\n",
    "- variables ending with ...`_2` belongs to the choice of MSR basis.\n",
    "\n",
    "But they can be used in a different way when we need to compare two different models."
   ]
  },
  {
   "cell_type": "code",
   "execution_count": 88,
   "metadata": {},
   "outputs": [],
   "source": [
    "# Selection of machine type\n",
    "if MACHINE == \"RBM\":\n",
    "    machine_1 = nk.models.RBM(dtype=DTYPE, alpha=ALPHA)#, use_visible_bias=False) \n",
    "    machine_2 = nk.models.RBM(dtype=DTYPE, alpha=ALPHA)#, use_visible_bias=False)\n",
    "elif MACHINE == \"RBMSymm\":\n",
    "    machine_1 = nk.models.RBMSymm(g.automorphisms(), dtype=DTYPE, alpha=ALPHA)#, use_visible_bias=False) \n",
    "    machine_2 = nk.models.RBMSymm(g.automorphisms(), dtype=DTYPE, alpha=ALPHA)#, use_visible_bias=False)\n",
    "elif MACHINE == \"RBMSymm_transl\":\n",
    "    machine_1 = nk.models.RBMSymm(translation_group, dtype=DTYPE, alpha=ALPHA)#, use_visible_bias=False) \n",
    "    machine_2 = nk.models.RBMSymm(translation_group, dtype=DTYPE, alpha=ALPHA)#, use_visible_bias=False)\n",
    "elif MACHINE == \"GCNN\":\n",
    "    machine_1 = nk.models.GCNN(symmetries=g.automorphisms(), dtype=DTYPE, \n",
    "        layers=N_LAYERS, features=FEATURES, characters=characters_dimer_1)#, output_activation=log_cosh)\n",
    "    machine_2 = nk.models.GCNN(symmetries=g.automorphisms(), dtype=DTYPE, \n",
    "        layers=N_LAYERS, features=FEATURES, characters=characters_dimer_2)#, output_activation=log_cosh)\n",
    "elif MACHINE == \"myRBM\":\n",
    "    from GCNN_Nomura import GCNN_my\n",
    "    machine_1 = GCNN_my(symmetries=g.automorphisms(), dtype=DTYPE, layers=1, features=ALPHA, characters=characters_dimer_1, output_activation=nk.nn.log_cosh, use_bias=True, use_visible_bias=True)\n",
    "    machine_2 = GCNN_my(symmetries=g.automorphisms(), dtype=DTYPE, layers=1, features=ALPHA, characters=characters_dimer_2, output_activation=nk.nn.log_cosh, use_bias=True, use_visible_bias=False)\n",
    "elif MACHINE == \"Jastrow\":\n",
    "    from lattice_and_ops import Jastrow\n",
    "    machine_1 = Jastrow()\n",
    "    machine_2 = Jastrow()\n",
    "elif MACHINE == \"RBMModPhase\":\n",
    "    machine_1 = nk.models.RBMModPhase(alpha=ALPHA, use_hidden_bias=True, dtype=np.float64)\n",
    "    machine_2 = nk.models.RBMModPhase(alpha=ALPHA, use_hidden_bias=True, dtype=np.float64)\n",
    "\n",
    "    # A linear schedule varies the learning rate from 0 to 0.01 across 600 steps.\n",
    "    modulus_schedule_1=optax.linear_schedule(0,0.01,NUM_ITER)\n",
    "    modulus_schedule_2=optax.linear_schedule(0,0.01,NUM_ITER)\n",
    "    # The phase starts with a larger learning rate and then is decreased.\n",
    "    phase_schedule_1=optax.linear_schedule(0.05,0.01,NUM_ITER)\n",
    "    phase_schedule_2=optax.linear_schedule(0.05,0.01,NUM_ITER)\n",
    "    # Combine the linear schedule with SGD\n",
    "    optm_1=optax.sgd(modulus_schedule_1)\n",
    "    optp_1=optax.sgd(phase_schedule_1)\n",
    "    optm_2=optax.sgd(modulus_schedule_2)\n",
    "    optp_2=optax.sgd(phase_schedule_2)\n",
    "    # The multi-transform optimizer uses different optimisers for different parts of the parameters.\n",
    "    optimizer_1 = optax.multi_transform({'o1': optm_1, 'o2': optp_1}, flax.core.freeze({\"Dense_0\":\"o1\", \"Dense_1\":\"o2\"}))\n",
    "    optimizer_2 = optax.multi_transform({'o1': optm_2, 'o2': optp_2}, flax.core.freeze({\"Dense_0\":\"o1\", \"Dense_1\":\"o2\"}))\n",
    "else:\n",
    "    raise Exception(str(\"undefined MACHINE: \")+str(MACHINE))\n",
    "\n",
    "# Selection of sampler type\n",
    "if SAMPLER == 'local':\n",
    "    sampler_1 = nk.sampler.MetropolisLocal(hilbert=hilbert)\n",
    "    sampler_2 = nk.sampler.MetropolisLocal(hilbert=hilbert)\n",
    "elif SAMPLER == 'exact':\n",
    "    sampler_1 = nk.sampler.ExactSampler(hilbert=hilbert)\n",
    "    sampler_2 = nk.sampler.ExactSampler(hilbert=hilbert)\n",
    "else:\n",
    "    sampler_1 = nk.sampler.MetropolisExchange(hilbert=hilbert, graph=g)\n",
    "    sampler_2 = nk.sampler.MetropolisExchange(hilbert=hilbert, graph=g)\n",
    "    if SAMPLER != 'exchange':\n",
    "        print(\"Warning! Undefined fq.SAMPLER:\", SAMPLER, \", dafaulting to MetropolisExchange fq.SAMPLER\")\n",
    "\n",
    "if MACHINE != \"RBMModPhase\":\n",
    "    optimizer_1 = nk.optimizer.Sgd(learning_rate=ETA)\n",
    "    optimizer_2 = nk.optimizer.Sgd(learning_rate=ETA)\n",
    "\n",
    "# Stochastic Reconfiguration as a preconditioner\n",
    "sr_1  = nk.optimizer.SR(diag_shift=0.01)\n",
    "sr_2  = nk.optimizer.SR(diag_shift=0.01)\n",
    "\n",
    "# The variational state (former name: nk.variational.MCState)\n",
    "vs_1 = nk.vqs.MCState(sampler_1 , machine_1 , n_samples=SAMPLES)\n",
    "vs_2 = nk.vqs.MCState(sampler_2 , machine_2 , n_samples=SAMPLES)\n",
    "vs_1.init_parameters(jax.nn.initializers.normal(stddev=0.01))\n",
    "vs_2.init_parameters(jax.nn.initializers.normal(stddev=0.01))\n",
    "\n",
    "\n",
    "gs_1 = nk.VMC(hamiltonian=ha_1 ,optimizer=optimizer_1 ,preconditioner=sr_1 ,variational_state=vs_1)\n",
    "gs_2 = nk.VMC(hamiltonian=ha_2 ,optimizer=optimizer_2 ,preconditioner=sr_2 ,variational_state=vs_2) "
   ]
  },
  {
   "cell_type": "code",
   "execution_count": 89,
   "metadata": {},
   "outputs": [],
   "source": [
    "if False:\n",
    "    ETA2 = 0.001\n",
    "    optimizer_1 = nk.optimizer.Sgd(learning_rate=ETA2)\n",
    "    optimizer_2 = nk.optimizer.Sgd(learning_rate=ETA2)\n",
    "    # vs_1 = nk.vqs.MCState(sampler_1 , machine_1 , n_samples=SAMPLES*3)\n",
    "    # vs_2 = nk.vqs.MCState(sampler_2 , machine_2 , n_samples=SAMPLES*3)\n",
    "    gs_1 = nk.VMC(hamiltonian=ha_1 ,optimizer=optimizer_1,preconditioner=sr_1,variational_state=vs_1)   # 0 ... symmetric\n",
    "    gs_2 = nk.VMC(hamiltonian=ha_2 ,optimizer=optimizer_2,preconditioner=sr_2,variational_state=vs_2)   # 1 ... symmetric+MSR"
   ]
  },
  {
   "cell_type": "code",
   "execution_count": 90,
   "metadata": {},
   "outputs": [
    {
     "name": "stdout",
     "output_type": "stream",
     "text": [
      "2192 2192\n"
     ]
    }
   ],
   "source": [
    "print(vs_1.n_parameters, vs_2.n_parameters)"
   ]
  },
  {
   "cell_type": "markdown",
   "metadata": {},
   "source": [
    "# Calculation\n",
    "We let the calculation run for `NUM_ITERS` iterations for both cases _1 and _2 (without MSR and with MSR). If only one case is desired, set the variable `no_of_runs` to 1."
   ]
  },
  {
   "cell_type": "code",
   "execution_count": 91,
   "metadata": {},
   "outputs": [
    {
     "name": "stdout",
     "output_type": "stream",
     "text": [
      "J_1 = 0.9 ; H_Z = 0; Expected exact energy: -34.08190778603123\n"
     ]
    },
    {
     "name": "stderr",
     "output_type": "stream",
     "text": [
      "100%|██████████| 500/500 [13:57<00:00,  1.68s/it, Energy=-34.040-0.006j ± 0.029 [σ²=1.817]] \n"
     ]
    },
    {
     "name": "stdout",
     "output_type": "stream",
     "text": [
      "The calculation for RBM of type 1 took 14.058418341477712 min\n"
     ]
    },
    {
     "name": "stderr",
     "output_type": "stream",
     "text": [
      "100%|██████████| 500/500 [12:00<00:00,  1.44s/it, Energy=-33.995+0.011j ± 0.023 [σ²=1.776]] "
     ]
    },
    {
     "name": "stdout",
     "output_type": "stream",
     "text": [
      "The calculation for RBM of type 2 took 12.026180692513783 min\n"
     ]
    },
    {
     "name": "stderr",
     "output_type": "stream",
     "text": [
      "\n"
     ]
    }
   ],
   "source": [
    "runs = [1,1]\n",
    "no_of_runs = np.sum(runs) # 1 - one run for variables with ..._1;  2 - both runs for variables ..._1 and ..._2\n",
    "run_only_2 = (runs[1]==1 and runs[0]==0) # in case of no_of_runs=1\n",
    "NUM_ITER = 500#3000\n",
    "print(\"J_1 =\", JEXCH1,\"; H_Z =\",H_Z, end=\"; \")\n",
    "if exact_ground_energy != 0:\n",
    "    print(\"Expected exact energy:\", exact_ground_energy)\n",
    "for i,gs in enumerate([gs_1,gs_2][run_only_2:run_only_2+no_of_runs]):\n",
    "    start = time.time()\n",
    "    gs.run(out=OUT_NAME+str(i), n_iter=int(NUM_ITER))#, obs={'symmetry':P(0,1)})\n",
    "    end = time.time()\n",
    "    print(\"The calculation for {} of type {} took {} min\".format(MACHINE, i+1, (end-start)/60))\n"
   ]
  },
  {
   "cell_type": "code",
   "execution_count": 92,
   "metadata": {},
   "outputs": [
    {
     "name": "stdout",
     "output_type": "stream",
     "text": [
      "Trained RBM without MSR:\n",
      "Energy = -34.040-0.006j ± 0.029 [σ²=1.817]\n",
      "m_z = -0.0007+0.0000j ± 0.0012 [σ²=0.0040]\n",
      "Trained RBM with MSR:\n",
      "Energy = -33.995+0.011j ± 0.023 [σ²=1.776]\n",
      "m_z = 0.000e+00+0.000e+00j ± nan [σ²=0.000e+00]\n"
     ]
    }
   ],
   "source": [
    "for i,gs in enumerate([gs_1,gs_2][run_only_2:run_only_2+no_of_runs]):\n",
    "    print(\"Trained RBM with MSR:\" if (i+run_only_2) else \"Trained RBM without MSR:\")\n",
    "    print(\"Energy =\", gs.energy)\n",
    "    print(\"m_z =\", gs.estimate(m_z))"
   ]
  },
  {
   "cell_type": "markdown",
   "metadata": {},
   "source": [
    "## Energy Convergence Plotting\n",
    "In case that the machine did not converge, we can re-run the previous cell and than skip the next cell. This way, the replotting just appends the new results and does not erase the previoius results. "
   ]
  },
  {
   "cell_type": "code",
   "execution_count": 93,
   "metadata": {},
   "outputs": [],
   "source": [
    "# Exact Energy Line\n",
    "no_of_all_iters = NUM_ITER\n",
    "figure = go.Figure(\n",
    "    data=[\n",
    "        go.Scatter(\n",
    "            x=(0,no_of_all_iters),\n",
    "            y=(exact_ground_energy,exact_ground_energy),\n",
    "            mode=\"lines\",line=go.scatter.Line(color=\"#000000\",width=1), name=\"exact energy\")],\n",
    "    layout=go.Layout(\n",
    "        template=\"simple_white\",\n",
    "        xaxis=dict(title=\"Iteration\", mirror=True, showline=True),\n",
    "        yaxis=dict(title=\"Energy\", mirror=True, showline=True),\n",
    "        title=(\"<b>\"+\"S-S\"+\" model </b>, N=\"+str(SITES)+\", J2 =\"+str(JEXCH2)+ \", J1 =\"+str(JEXCH1)+\" , η=\"+str(ETA)+\", α=\"+str(ALPHA)+\", samples=\"+str(SAMPLES)))\n",
    "    ).add_hline(y=exact_ground_energy, opacity=1, line_width=1)\n"
   ]
  },
  {
   "cell_type": "code",
   "execution_count": 94,
   "metadata": {},
   "outputs": [
    {
     "data": {
      "application/vnd.plotly.v1+json": {
       "config": {
        "plotlyServerURL": "https://plot.ly"
       },
       "data": [
        {
         "line": {
          "color": "#000000",
          "width": 1
         },
         "mode": "lines",
         "name": "exact energy",
         "type": "scatter",
         "x": [
          0,
          500
         ],
         "y": [
          -34.08190778603123,
          -34.08190778603123
         ]
        },
        {
         "name": "normal",
         "type": "scatter",
         "x": [
          0,
          1,
          2,
          3,
          4,
          5,
          6,
          7,
          8,
          9,
          10,
          11,
          12,
          13,
          14,
          15,
          16,
          17,
          18,
          19,
          20,
          21,
          22,
          23,
          24,
          25,
          26,
          27,
          28,
          29,
          30,
          31,
          32,
          33,
          34,
          35,
          36,
          37,
          38,
          39,
          40,
          41,
          42,
          43,
          44,
          45,
          46,
          47,
          48,
          49,
          50,
          51,
          52,
          53,
          54,
          55,
          56,
          57,
          58,
          59,
          60,
          61,
          62,
          63,
          64,
          65,
          66,
          67,
          68,
          69,
          70,
          71,
          72,
          73,
          74,
          75,
          76,
          77,
          78,
          79,
          80,
          81,
          82,
          83,
          84,
          85,
          86,
          87,
          88,
          89,
          90,
          91,
          92,
          93,
          94,
          95,
          96,
          97,
          98,
          99,
          100,
          101,
          102,
          103,
          104,
          105,
          106,
          107,
          108,
          109,
          110,
          111,
          112,
          113,
          114,
          115,
          116,
          117,
          118,
          119,
          120,
          121,
          122,
          123,
          124,
          125,
          126,
          127,
          128,
          129,
          130,
          131,
          132,
          133,
          134,
          135,
          136,
          137,
          138,
          139,
          140,
          141,
          142,
          143,
          144,
          145,
          146,
          147,
          148,
          149,
          150,
          151,
          152,
          153,
          154,
          155,
          156,
          157,
          158,
          159,
          160,
          161,
          162,
          163,
          164,
          165,
          166,
          167,
          168,
          169,
          170,
          171,
          172,
          173,
          174,
          175,
          176,
          177,
          178,
          179,
          180,
          181,
          182,
          183,
          184,
          185,
          186,
          187,
          188,
          189,
          190,
          191,
          192,
          193,
          194,
          195,
          196,
          197,
          198,
          199,
          200,
          201,
          202,
          203,
          204,
          205,
          206,
          207,
          208,
          209,
          210,
          211,
          212,
          213,
          214,
          215,
          216,
          217,
          218,
          219,
          220,
          221,
          222,
          223,
          224,
          225,
          226,
          227,
          228,
          229,
          230,
          231,
          232,
          233,
          234,
          235,
          236,
          237,
          238,
          239,
          240,
          241,
          242,
          243,
          244,
          245,
          246,
          247,
          248,
          249,
          250,
          251,
          252,
          253,
          254,
          255,
          256,
          257,
          258,
          259,
          260,
          261,
          262,
          263,
          264,
          265,
          266,
          267,
          268,
          269,
          270,
          271,
          272,
          273,
          274,
          275,
          276,
          277,
          278,
          279,
          280,
          281,
          282,
          283,
          284,
          285,
          286,
          287,
          288,
          289,
          290,
          291,
          292,
          293,
          294,
          295,
          296,
          297,
          298,
          299,
          300,
          301,
          302,
          303,
          304,
          305,
          306,
          307,
          308,
          309,
          310,
          311,
          312,
          313,
          314,
          315,
          316,
          317,
          318,
          319,
          320,
          321,
          322,
          323,
          324,
          325,
          326,
          327,
          328,
          329,
          330,
          331,
          332,
          333,
          334,
          335,
          336,
          337,
          338,
          339,
          340,
          341,
          342,
          343,
          344,
          345,
          346,
          347,
          348,
          349,
          350,
          351,
          352,
          353,
          354,
          355,
          356,
          357,
          358,
          359,
          360,
          361,
          362,
          363,
          364,
          365,
          366,
          367,
          368,
          369,
          370,
          371,
          372,
          373,
          374,
          375,
          376,
          377,
          378,
          379,
          380,
          381,
          382,
          383,
          384,
          385,
          386,
          387,
          388,
          389,
          390,
          391,
          392,
          393,
          394,
          395,
          396,
          397,
          398,
          399,
          400,
          401,
          402,
          403,
          404,
          405,
          406,
          407,
          408,
          409,
          410,
          411,
          412,
          413,
          414,
          415,
          416,
          417,
          418,
          419,
          420,
          421,
          422,
          423,
          424,
          425,
          426,
          427,
          428,
          429,
          430,
          431,
          432,
          433,
          434,
          435,
          436,
          437,
          438,
          439,
          440,
          441,
          442,
          443,
          444,
          445,
          446,
          447,
          448,
          449,
          450,
          451,
          452,
          453,
          454,
          455,
          456,
          457,
          458,
          459,
          460,
          461,
          462,
          463,
          464,
          465,
          466,
          467,
          468,
          469,
          470,
          471,
          472,
          473,
          474,
          475,
          476,
          477,
          478,
          479,
          480,
          481,
          482,
          483,
          484,
          485,
          486,
          487,
          488,
          489,
          490,
          491,
          492,
          493,
          494,
          495,
          496,
          497,
          498,
          499
         ],
         "y": [
          36.78484951471004,
          36.777119305495,
          36.77112092449032,
          36.76484130705364,
          36.75002559283396,
          36.749136654766374,
          36.743096194073665,
          36.69836202408595,
          36.66581044733796,
          36.65368647308329,
          36.56751029387341,
          36.53779300528562,
          36.440760166863576,
          36.35895810400046,
          36.19155258717302,
          35.81724044307241,
          35.533670096502625,
          35.01752808001217,
          34.28002098211609,
          33.24057132108659,
          31.710030446037464,
          29.52032268066351,
          26.902027628066566,
          22.322158911183443,
          18.17799203419762,
          12.935938384478856,
          8.108579711405326,
          3.7640021190681816,
          0.2887362192092053,
          -2.51039936738835,
          -4.8087950273813265,
          -6.622733225001479,
          -8.068885750163295,
          -9.09887562163281,
          -10.378200217994847,
          -11.24746160117122,
          -12.036791713440714,
          -12.615853100433439,
          -13.329632875122542,
          -13.990562391837326,
          -14.49665199944003,
          -15.294219992902306,
          -15.931660971988057,
          -16.120639012376532,
          -16.70502746610505,
          -17.146250088640787,
          -17.435529230831733,
          -17.638059719464707,
          -18.089028992381298,
          -18.594204092769996,
          -18.86895684097992,
          -19.314334454021342,
          -19.556015946311085,
          -19.881131170137596,
          -20.473529387900875,
          -20.55135803203215,
          -20.900716323628238,
          -21.24176604875139,
          -21.60272947784037,
          -21.75704072508308,
          -22.23683525351828,
          -22.62481310629991,
          -22.769332895877476,
          -23.05322279682339,
          -23.24430415373684,
          -23.709822888928617,
          -23.800470339987008,
          -24.215866422457694,
          -24.365054308241678,
          -25.03293490551451,
          -24.96002140581797,
          -25.156705478875026,
          -25.564629827800925,
          -25.740972499228242,
          -26.055783503976432,
          -26.190956339508595,
          -26.365182110809666,
          -26.67839494893571,
          -27.14414015060205,
          -27.114976544882776,
          -27.387943610595606,
          -27.587368781854064,
          -27.6843596323603,
          -27.855618657940948,
          -28.083678755371505,
          -28.268278217790687,
          -28.380526582299584,
          -28.56814517313098,
          -28.67900282190181,
          -28.85124068079905,
          -28.99262844436881,
          -28.990798123795276,
          -29.243536126924347,
          -29.465636559174783,
          -29.460922488607892,
          -29.62080036690946,
          -29.650214793973095,
          -29.736753381444238,
          -29.794906157046086,
          -29.919322834291084,
          -30.037801144850608,
          -30.151677179113534,
          -30.36060489117334,
          -30.32788262998444,
          -30.47255232731529,
          -30.626091506572113,
          -30.56680644623899,
          -30.65682624356503,
          -30.761289301594456,
          -30.834869817104792,
          -30.81113525699752,
          -31.007656447296302,
          -31.00334777109512,
          -31.077249572780623,
          -31.21928347149772,
          -31.335361328554473,
          -31.19885560965364,
          -31.2812932999185,
          -31.545603995437705,
          -31.477196896471934,
          -31.661227515731916,
          -31.591048812610353,
          -31.745290399084414,
          -31.74312519605481,
          -31.75106015413167,
          -31.802001462790837,
          -31.97007967925272,
          -32.07549042619587,
          -32.198574172270966,
          -32.21390778732738,
          -32.244097354010705,
          -32.35179166294995,
          -32.398458245753204,
          -32.46809816146106,
          -32.48931796416425,
          -32.63330246182878,
          -32.65387520074055,
          -32.60869340867993,
          -32.78532055825075,
          -32.754679248259144,
          -32.75388386213787,
          -32.79955340781491,
          -32.91493756821898,
          -32.86763721257404,
          -32.84739640258886,
          -33.073771501892196,
          -32.97236549172988,
          -33.00364694906115,
          -33.10215358564237,
          -33.151576354993985,
          -33.10583700440894,
          -33.22958073533287,
          -33.29257169956632,
          -33.09354162945216,
          -33.22757186352263,
          -33.2578624008875,
          -33.27555620037095,
          -33.33142859506306,
          -33.311900771719266,
          -33.3204108351789,
          -33.371016346803295,
          -33.385835243885886,
          -33.44106828110846,
          -33.40118184388645,
          -33.31837558495843,
          -33.50954453503468,
          -33.55125061508918,
          -33.42223948505518,
          -33.45868256649334,
          -33.51355358580495,
          -33.465258742784414,
          -33.56724810822294,
          -33.56444706860183,
          -33.50248920384892,
          -33.5715234700804,
          -33.585369936362596,
          -33.58641807500129,
          -33.635430287421435,
          -33.599270621399825,
          -33.571350661720565,
          -33.639636945571404,
          -33.56969256361086,
          -33.61677169171373,
          -33.66475876487155,
          -33.697672401647715,
          -33.685461926175975,
          -33.717147886173926,
          -33.6799196023729,
          -33.672029122234235,
          -33.71355386412467,
          -33.708411319095276,
          -33.69413820797922,
          -33.737896211941326,
          -33.69537880429771,
          -33.68838229032681,
          -33.72964561496456,
          -33.67267669321417,
          -33.71906996946803,
          -33.76173099266011,
          -33.71219225286799,
          -33.73754384310739,
          -33.73286767993056,
          -33.66813818196507,
          -33.77897135194635,
          -33.826057766997174,
          -33.72331704323701,
          -33.72734751639825,
          -33.71991689286937,
          -33.67016944761088,
          -33.744883371418496,
          -33.78898156351429,
          -33.781137050290845,
          -33.734950238863036,
          -33.76734472418232,
          -33.83929175090749,
          -33.81721293284448,
          -33.81147589307633,
          -33.823381736750996,
          -33.72670975527775,
          -33.80651344777628,
          -33.780837728107564,
          -33.812508227818604,
          -33.78328877420498,
          -33.796844939341234,
          -33.84584703794886,
          -33.831075121251786,
          -33.77488313195628,
          -33.84713152189677,
          -33.85258794384464,
          -33.85267430248168,
          -33.8317264601624,
          -33.79193501970707,
          -33.82525584407173,
          -33.89310445229987,
          -33.81033128518488,
          -33.87344788158794,
          -33.845294394432074,
          -33.84075269049702,
          -33.88162389792321,
          -33.85775836415249,
          -33.82754877014727,
          -33.88338830195283,
          -33.83704175173379,
          -33.846983127532425,
          -33.85587813957666,
          -33.908654223833366,
          -33.82781781631649,
          -33.84127102644836,
          -33.822406933534815,
          -33.859782612705494,
          -33.86842254898661,
          -33.83889311702798,
          -33.869185825869145,
          -33.921574434438746,
          -33.880724724481674,
          -33.90221261492437,
          -33.91053315049839,
          -33.89603352813614,
          -33.87277727754729,
          -33.863365965046164,
          -33.91508443269534,
          -33.853462531964624,
          -33.904165468536284,
          -33.88497543617381,
          -33.876052118311,
          -33.907004384927355,
          -33.96042217412696,
          -33.92374753359706,
          -33.89398151285329,
          -33.88239219942527,
          -33.89905067922688,
          -33.92210968364362,
          -33.923333869251074,
          -33.89604960857701,
          -33.9183266877761,
          -33.91051396096382,
          -33.854623564068646,
          -33.92436328886849,
          -33.90815080502126,
          -33.9727741555025,
          -33.910130863359925,
          -33.91685726150034,
          -33.92996019841529,
          -33.983628290331815,
          -33.915222704959206,
          -33.8902592412002,
          -33.89967163479511,
          -33.95633505428822,
          -33.89408555993176,
          -33.925548166520876,
          -33.9279082643938,
          -33.918062020301655,
          -33.951167989631536,
          -33.91604627179591,
          -33.88930639684367,
          -33.91606512560529,
          -33.96682029571492,
          -33.935005966866484,
          -33.93160479008509,
          -33.95503443505517,
          -33.936948444680255,
          -33.921410455855465,
          -33.942543512234955,
          -33.93838798879889,
          -33.93646549640392,
          -33.9437287430354,
          -33.95098547340196,
          -33.953922869168174,
          -33.97089483093689,
          -33.929353517118834,
          -33.98598458263021,
          -33.98492157065888,
          -33.91234960499984,
          -33.95623030666051,
          -33.90878655048474,
          -33.98984260150305,
          -33.97563588740834,
          -33.95247800649904,
          -33.98295502278493,
          -33.96340487211751,
          -33.97356991607554,
          -33.99725563297825,
          -33.978241614170365,
          -33.98321898821354,
          -33.939293331000165,
          -33.97013759514398,
          -33.952483879517104,
          -33.93167411105013,
          -33.94960240998253,
          -33.9777207776582,
          -33.973034128394104,
          -33.934463212772435,
          -33.9420614918998,
          -33.87852008514533,
          -33.95587195071147,
          -33.973852239282536,
          -33.99105553117621,
          -33.98751788125459,
          -33.95248407936579,
          -33.97786386117904,
          -33.95610465099585,
          -33.98116952648799,
          -33.95336326837399,
          -33.92977752749807,
          -33.99011662531729,
          -33.94832566961836,
          -33.99001020043398,
          -33.97419671380725,
          -33.949130119991274,
          -34.02735152763648,
          -33.91153116147967,
          -33.97519337455594,
          -33.970733652123755,
          -33.95206815574248,
          -33.97133696663113,
          -34.012837121158505,
          -33.969928610902485,
          -33.9952209442049,
          -33.92375658339721,
          -33.96330514937187,
          -33.995939467759364,
          -33.95525048735613,
          -33.97125581346191,
          -33.9644043250575,
          -33.94984578881037,
          -33.98443271000596,
          -33.96186255175582,
          -33.960609920607276,
          -33.999106454823306,
          -33.96424753788604,
          -33.95442263454493,
          -34.001050058657135,
          -33.97647955849367,
          -33.97218164721916,
          -33.97650694376054,
          -34.002128242274345,
          -33.97022077067138,
          -33.99266756518622,
          -33.98947998302269,
          -33.96616403962648,
          -33.992921291340295,
          -33.959968438967564,
          -33.96782190301883,
          -33.95965938217236,
          -34.00313899306811,
          -33.983444431437434,
          -33.98753016098247,
          -33.98088513718855,
          -33.95828228892076,
          -33.985980035906,
          -33.99555887339973,
          -34.033473179994054,
          -33.94288578455214,
          -33.95346394154692,
          -34.007435271238236,
          -33.999179063515186,
          -34.026297081339486,
          -33.96900306638349,
          -33.98207351055295,
          -33.98530566923135,
          -33.99701521406713,
          -33.989423311359495,
          -33.996731691007255,
          -33.96879004383143,
          -33.97103257467186,
          -34.02329223123801,
          -33.974500901509465,
          -34.01967821890269,
          -33.96291054247859,
          -33.95474850869381,
          -33.98035793121584,
          -33.99072568211129,
          -33.98974929925938,
          -33.977038214858794,
          -33.97345107966451,
          -33.99793868213935,
          -33.966413364673194,
          -33.96316876663022,
          -33.99604341282839,
          -33.994975254363474,
          -33.98075478243354,
          -33.98131665911808,
          -33.992612760920025,
          -33.993760962179735,
          -34.01834166887625,
          -34.010369096895516,
          -33.979402503413944,
          -34.00736203578381,
          -34.020053793924326,
          -34.00626742607691,
          -34.024395753583356,
          -34.019828481849565,
          -33.984592290948434,
          -34.0040884536057,
          -33.97856861411324,
          -33.9522982139448,
          -33.99654574957031,
          -34.00565303553039,
          -33.98712651797244,
          -34.03551522312218,
          -33.98796047941662,
          -33.98983311332991,
          -34.00404675060747,
          -34.01449715391058,
          -33.98544233451578,
          -33.978951853419154,
          -34.01306767524036,
          -34.00220816890991,
          -33.96569345129181,
          -33.97872702962643,
          -33.97842336939039,
          -33.914523433234365,
          -33.98638300597557,
          -34.03426848222057,
          -33.994509329725105,
          -33.98098728861136,
          -33.93831565084821,
          -33.97856100749561,
          -33.97483116707935,
          -33.96339991031967,
          -34.02500034945303,
          -33.98330112333032,
          -33.973320345184995,
          -34.01219500152622,
          -34.004114057591536,
          -33.97643023628593,
          -34.00019445328927,
          -34.00768002468135,
          -34.022049833054574,
          -33.987346103442086,
          -34.03704215627564,
          -33.993745233998325,
          -33.975057420189415,
          -34.00189746773803,
          -33.97383627173086,
          -34.000714881796405,
          -34.0005126031325,
          -34.00867598662335,
          -34.01841510055098,
          -34.00769484644901,
          -33.98273879611783,
          -33.98536829550223,
          -34.00299906618822,
          -34.03645487492173,
          -33.99275038308915,
          -34.00000377560469,
          -33.98422696400196,
          -34.00797990157916,
          -34.044665288817164,
          -34.000898035406095,
          -33.96996785475603,
          -33.96714662355289,
          -33.939817638614194,
          -34.015753171490296,
          -34.011512684355345,
          -33.98487771593452,
          -34.032768156222616,
          -34.01299945535453,
          -33.995602050805466,
          -34.04016746563428
         ]
        },
        {
         "name": "MSR",
         "type": "scatter",
         "x": [
          0,
          1,
          2,
          3,
          4,
          5,
          6,
          7,
          8,
          9,
          10,
          11,
          12,
          13,
          14,
          15,
          16,
          17,
          18,
          19,
          20,
          21,
          22,
          23,
          24,
          25,
          26,
          27,
          28,
          29,
          30,
          31,
          32,
          33,
          34,
          35,
          36,
          37,
          38,
          39,
          40,
          41,
          42,
          43,
          44,
          45,
          46,
          47,
          48,
          49,
          50,
          51,
          52,
          53,
          54,
          55,
          56,
          57,
          58,
          59,
          60,
          61,
          62,
          63,
          64,
          65,
          66,
          67,
          68,
          69,
          70,
          71,
          72,
          73,
          74,
          75,
          76,
          77,
          78,
          79,
          80,
          81,
          82,
          83,
          84,
          85,
          86,
          87,
          88,
          89,
          90,
          91,
          92,
          93,
          94,
          95,
          96,
          97,
          98,
          99,
          100,
          101,
          102,
          103,
          104,
          105,
          106,
          107,
          108,
          109,
          110,
          111,
          112,
          113,
          114,
          115,
          116,
          117,
          118,
          119,
          120,
          121,
          122,
          123,
          124,
          125,
          126,
          127,
          128,
          129,
          130,
          131,
          132,
          133,
          134,
          135,
          136,
          137,
          138,
          139,
          140,
          141,
          142,
          143,
          144,
          145,
          146,
          147,
          148,
          149,
          150,
          151,
          152,
          153,
          154,
          155,
          156,
          157,
          158,
          159,
          160,
          161,
          162,
          163,
          164,
          165,
          166,
          167,
          168,
          169,
          170,
          171,
          172,
          173,
          174,
          175,
          176,
          177,
          178,
          179,
          180,
          181,
          182,
          183,
          184,
          185,
          186,
          187,
          188,
          189,
          190,
          191,
          192,
          193,
          194,
          195,
          196,
          197,
          198,
          199,
          200,
          201,
          202,
          203,
          204,
          205,
          206,
          207,
          208,
          209,
          210,
          211,
          212,
          213,
          214,
          215,
          216,
          217,
          218,
          219,
          220,
          221,
          222,
          223,
          224,
          225,
          226,
          227,
          228,
          229,
          230,
          231,
          232,
          233,
          234,
          235,
          236,
          237,
          238,
          239,
          240,
          241,
          242,
          243,
          244,
          245,
          246,
          247,
          248,
          249,
          250,
          251,
          252,
          253,
          254,
          255,
          256,
          257,
          258,
          259,
          260,
          261,
          262,
          263,
          264,
          265,
          266,
          267,
          268,
          269,
          270,
          271,
          272,
          273,
          274,
          275,
          276,
          277,
          278,
          279,
          280,
          281,
          282,
          283,
          284,
          285,
          286,
          287,
          288,
          289,
          290,
          291,
          292,
          293,
          294,
          295,
          296,
          297,
          298,
          299,
          300,
          301,
          302,
          303,
          304,
          305,
          306,
          307,
          308,
          309,
          310,
          311,
          312,
          313,
          314,
          315,
          316,
          317,
          318,
          319,
          320,
          321,
          322,
          323,
          324,
          325,
          326,
          327,
          328,
          329,
          330,
          331,
          332,
          333,
          334,
          335,
          336,
          337,
          338,
          339,
          340,
          341,
          342,
          343,
          344,
          345,
          346,
          347,
          348,
          349,
          350,
          351,
          352,
          353,
          354,
          355,
          356,
          357,
          358,
          359,
          360,
          361,
          362,
          363,
          364,
          365,
          366,
          367,
          368,
          369,
          370,
          371,
          372,
          373,
          374,
          375,
          376,
          377,
          378,
          379,
          380,
          381,
          382,
          383,
          384,
          385,
          386,
          387,
          388,
          389,
          390,
          391,
          392,
          393,
          394,
          395,
          396,
          397,
          398,
          399,
          400,
          401,
          402,
          403,
          404,
          405,
          406,
          407,
          408,
          409,
          410,
          411,
          412,
          413,
          414,
          415,
          416,
          417,
          418,
          419,
          420,
          421,
          422,
          423,
          424,
          425,
          426,
          427,
          428,
          429,
          430,
          431,
          432,
          433,
          434,
          435,
          436,
          437,
          438,
          439,
          440,
          441,
          442,
          443,
          444,
          445,
          446,
          447,
          448,
          449,
          450,
          451,
          452,
          453,
          454,
          455,
          456,
          457,
          458,
          459,
          460,
          461,
          462,
          463,
          464,
          465,
          466,
          467,
          468,
          469,
          470,
          471,
          472,
          473,
          474,
          475,
          476,
          477,
          478,
          479,
          480,
          481,
          482,
          483,
          484,
          485,
          486,
          487,
          488,
          489,
          490,
          491,
          492,
          493,
          494,
          495,
          496,
          497,
          498,
          499
         ],
         "y": [
          -20.662111642190943,
          -22.558079054671232,
          -24.07126539075706,
          -25.48362931013825,
          -26.73447092481551,
          -27.683860099022503,
          -28.33131678827461,
          -28.947781286467073,
          -29.3839647116741,
          -29.822990894967617,
          -30.320946859030965,
          -30.473224716580404,
          -30.724072766045325,
          -31.03449786355266,
          -31.330820155353635,
          -31.223040041977015,
          -31.432018023831922,
          -31.42384244910108,
          -31.631310099666074,
          -31.789098857080976,
          -31.726653628090435,
          -31.847171300010444,
          -31.903882104259797,
          -31.995551804972187,
          -32.1195818203706,
          -32.165304072201785,
          -32.169042583891226,
          -32.22327231293896,
          -32.313161045333985,
          -32.37818624183082,
          -32.28602395703779,
          -32.3211009941252,
          -32.41604683779059,
          -32.4294547034035,
          -32.3676720081509,
          -32.47496344626209,
          -32.540910185162616,
          -32.50982033660289,
          -32.503998138087354,
          -32.46445356701708,
          -32.58006184961313,
          -32.58834878253986,
          -32.61286164314324,
          -32.655163692042215,
          -32.715649363555585,
          -32.68372625973088,
          -32.76051197492485,
          -32.67025107476199,
          -32.69556092400487,
          -32.74743756053057,
          -32.85237127690912,
          -32.81543682039237,
          -32.86307380720937,
          -32.73395525628861,
          -32.79018076832332,
          -32.893271739371535,
          -32.869588589880486,
          -32.821805415149235,
          -32.970605561332924,
          -32.84710020822742,
          -32.97521095949815,
          -32.9368511660022,
          -32.8603115868678,
          -32.8980082276007,
          -32.99962881261766,
          -32.89324911150378,
          -33.022396525846894,
          -32.968059864323415,
          -32.987537209163435,
          -33.006556458487694,
          -32.96521772494206,
          -33.020882281662416,
          -33.109742662825525,
          -33.02024893250433,
          -33.050449029921666,
          -33.12290532181981,
          -33.120963364155386,
          -33.06289925288321,
          -33.05002123272031,
          -33.02726082555246,
          -33.10385250898418,
          -33.14910087903159,
          -33.18189366246604,
          -33.113602204532825,
          -33.18588098571516,
          -33.23576874126867,
          -33.096895689433374,
          -33.24297940612891,
          -33.18460931992188,
          -33.25549880249606,
          -33.22455909395047,
          -33.36632331637137,
          -33.2595293470911,
          -33.14439439931278,
          -33.345612917407024,
          -33.25564294459964,
          -33.29650626099872,
          -33.24322437204767,
          -33.27093287685052,
          -33.3429451303791,
          -33.321349652191145,
          -33.35214531179927,
          -33.36821539974242,
          -33.340854034314496,
          -33.37749109638324,
          -33.29875112846774,
          -33.29017094632464,
          -33.416207989454335,
          -33.34344613561292,
          -33.3661240419063,
          -33.363438103438945,
          -33.3843566669664,
          -33.3833711320416,
          -33.30347663474421,
          -33.43530464802732,
          -33.496206532641246,
          -33.40057949294614,
          -33.34441378871222,
          -33.33392008090603,
          -33.446647139948524,
          -33.40501514991796,
          -33.53629185022966,
          -33.42300019683853,
          -33.55994826207575,
          -33.47642515761677,
          -33.43531202248945,
          -33.55490077048596,
          -33.42630467222799,
          -33.45646728606022,
          -33.41680801337412,
          -33.53586681339289,
          -33.495454255936956,
          -33.53202342617207,
          -33.53939653235226,
          -33.50409852408914,
          -33.58121183596979,
          -33.46168110494628,
          -33.53228766111197,
          -33.4580329704582,
          -33.556233161563924,
          -33.523857727377376,
          -33.45862192218972,
          -33.58019841481259,
          -33.377232077431565,
          -33.56455813044859,
          -33.55513204174074,
          -33.54832077566753,
          -33.582840815370986,
          -33.57866359484924,
          -33.56806219124391,
          -33.5826563038975,
          -33.52289332716003,
          -33.614131659341936,
          -33.61760418875048,
          -33.604476749259476,
          -33.489495960449325,
          -33.618080421009985,
          -33.53908594700773,
          -33.507641973312154,
          -33.60591096844938,
          -33.589290458614876,
          -33.57237297409313,
          -33.6516674260985,
          -33.63355662681764,
          -33.60306435337952,
          -33.64867087478232,
          -33.632690084259565,
          -33.70992330717721,
          -33.64273216292019,
          -33.56389527858394,
          -33.60370306274159,
          -33.555658128154136,
          -33.642880808096095,
          -33.62800311493051,
          -33.743617113232126,
          -33.62507297751162,
          -33.58463527675518,
          -33.56911416852678,
          -33.61616267314157,
          -33.635847851873734,
          -33.61005781692789,
          -33.61892494657723,
          -33.57457489778026,
          -33.646250245120974,
          -33.69705063968729,
          -33.605022752098385,
          -33.667684983454315,
          -33.630135913346905,
          -33.60182082440958,
          -33.74826298522707,
          -33.56004540081543,
          -33.69634748487756,
          -33.593731777311994,
          -33.618898611515206,
          -33.560295935380765,
          -33.74632605919814,
          -33.565755720540935,
          -33.67516815329233,
          -33.6428607596569,
          -33.660365717244936,
          -33.58365264084731,
          -33.647685929138504,
          -33.673573591458364,
          -33.650030850684786,
          -33.656508755325035,
          -33.668453516738545,
          -33.65551479088635,
          -33.63812412520975,
          -33.62937017720603,
          -33.63801371774063,
          -33.64842067757566,
          -33.626668032238435,
          -33.70423699128326,
          -33.675623115644925,
          -33.74311572072551,
          -33.67579906909826,
          -33.66331535310691,
          -33.62056648018601,
          -33.67529333008609,
          -33.70437591541491,
          -33.722364987585074,
          -33.72617516378781,
          -33.754326846970336,
          -33.6905864294795,
          -33.77778459702987,
          -33.692348998587164,
          -33.68558671309725,
          -33.65543085819589,
          -33.7283278496334,
          -33.68772681851606,
          -33.75577580798077,
          -33.665286971358356,
          -33.609159246667325,
          -33.68755237184163,
          -33.73211337113783,
          -33.7657869549172,
          -33.7291627893117,
          -33.71279678220485,
          -33.698164563337016,
          -33.79494802142223,
          -33.77083576051006,
          -33.7687393881552,
          -33.777243383600336,
          -33.73022669310256,
          -33.72190685294148,
          -33.76312649430658,
          -33.74551807454246,
          -33.71160034922002,
          -33.754279389722115,
          -33.721041395628475,
          -33.71200459258044,
          -33.768537129448184,
          -33.67936229285835,
          -33.770287947423135,
          -33.806410973032925,
          -33.75919046210423,
          -33.76875004003003,
          -33.756979273873796,
          -33.79921354576979,
          -33.81089677943243,
          -33.81613203162771,
          -33.74317427386503,
          -33.77843088373641,
          -33.71766789437944,
          -33.80056529689094,
          -33.749116434921696,
          -33.776340707781536,
          -33.78737083875258,
          -33.815006858223036,
          -33.83526661983899,
          -33.799724447718454,
          -33.81999383901889,
          -33.77549659535332,
          -33.86677923197694,
          -33.75624659565298,
          -33.77921388129846,
          -33.84408649765277,
          -33.8279065098766,
          -33.833046015158466,
          -33.76059646056618,
          -33.76926159160837,
          -33.80618747221456,
          -33.78138538821658,
          -33.83371541228011,
          -33.829028083238796,
          -33.80686789825772,
          -33.79388292956418,
          -33.82561673171159,
          -33.80843181100515,
          -33.84987617918187,
          -33.80287059630709,
          -33.86046368985237,
          -33.8346760803334,
          -33.788978903467175,
          -33.82031307042802,
          -33.859584539650704,
          -33.79404863705407,
          -33.807692087716774,
          -33.80852714282183,
          -33.82813702808536,
          -33.82100911103947,
          -33.82279868016922,
          -33.861267198311786,
          -33.827309701241106,
          -33.81985348178775,
          -33.81827954400714,
          -33.85448338191612,
          -33.82153308207464,
          -33.75744149721733,
          -33.82660944142004,
          -33.82718093509531,
          -33.78693372037006,
          -33.848222212544655,
          -33.83716866797612,
          -33.85295146841424,
          -33.8605982006318,
          -33.805419116252345,
          -33.90058028749491,
          -33.82778979443611,
          -33.86745544019725,
          -33.83583595356714,
          -33.88005692492985,
          -33.82348559700266,
          -33.89773112173567,
          -33.818575310506986,
          -33.825935064016996,
          -33.850379670601306,
          -33.83868124285096,
          -33.871928703784185,
          -33.834855622199164,
          -33.87181066959329,
          -33.88560045400679,
          -33.88244819354435,
          -33.92147756149418,
          -33.88917250578581,
          -33.89582607567962,
          -33.850789142473666,
          -33.87993425031656,
          -33.8814405417363,
          -33.924838579819955,
          -33.91952599932403,
          -33.88129237009668,
          -33.87072252114509,
          -33.83097182611065,
          -33.91190432268845,
          -33.86289386230199,
          -33.845699493264284,
          -33.86751722919403,
          -33.841558172453055,
          -33.877003286315784,
          -33.90271015193989,
          -33.920016210188656,
          -33.853701222005036,
          -33.878479410221296,
          -33.86692060171782,
          -33.916468681704565,
          -33.92665574248087,
          -33.89099258335253,
          -33.905939741468806,
          -33.911340891244826,
          -33.862332361842775,
          -33.93054720237525,
          -33.84950404415404,
          -33.89505144203642,
          -33.88278579741229,
          -33.9307836643259,
          -33.92581266578535,
          -33.92198895983058,
          -33.89281067723907,
          -33.88074112294615,
          -33.96379063027501,
          -33.84871619971059,
          -33.919818374828786,
          -33.89521908485325,
          -33.89508392794946,
          -33.92236634019768,
          -33.927419680895596,
          -33.873401945027155,
          -33.90728618444319,
          -33.88678087522254,
          -33.889440981749345,
          -33.87386441736034,
          -33.93472847123584,
          -33.91630380787555,
          -33.88882662243899,
          -33.913880468373435,
          -33.89321131211937,
          -33.900285658594335,
          -33.91128237228012,
          -33.94922448702933,
          -33.93608205692751,
          -33.944214861015205,
          -33.935588778205826,
          -33.91092746603467,
          -33.97869149942093,
          -33.926923293509354,
          -33.945453931750514,
          -33.92162517334225,
          -33.93994895293362,
          -33.94762517355439,
          -33.9300749586087,
          -33.96175220693968,
          -33.92992968113507,
          -33.904600716904824,
          -33.855196193836086,
          -33.92236315889292,
          -33.92875848457606,
          -33.92661726422071,
          -33.93913909577125,
          -33.969034816401305,
          -33.90097451096729,
          -33.91505656816951,
          -33.933633208040604,
          -33.92622930839809,
          -33.944478989181555,
          -33.9568615471512,
          -33.95461733278424,
          -33.954096231123145,
          -33.9152500325456,
          -33.92836098244236,
          -33.961864453798896,
          -33.926335311781855,
          -33.93935291430223,
          -33.89652026259812,
          -33.965302152407325,
          -33.91544210759009,
          -33.95029937329273,
          -33.93531716651215,
          -33.95678369361302,
          -33.920480902969985,
          -33.923882720364624,
          -33.93967821451248,
          -33.92640285831255,
          -33.97957123444292,
          -33.977772106408324,
          -33.9696709320862,
          -33.92966717209999,
          -33.93404612002946,
          -33.94342077593662,
          -33.94514865176253,
          -33.95342429322383,
          -33.95056635400269,
          -33.98093747500647,
          -33.95832615859505,
          -33.974412141244656,
          -33.92917254033131,
          -33.93731929442353,
          -33.97356753715348,
          -33.945025877656825,
          -33.92237506424164,
          -33.95005643557548,
          -33.997598169506816,
          -33.90693163785879,
          -33.913598750799125,
          -33.91014930599486,
          -33.96354859249575,
          -33.89593614422239,
          -33.98589107044979,
          -33.92365246814803,
          -33.94128403533093,
          -33.955562106843864,
          -33.900958279480534,
          -33.95314108026694,
          -33.95978580737299,
          -33.95243366778192,
          -33.929650817058636,
          -33.926164065015186,
          -33.97061880997747,
          -33.93816266077071,
          -33.93685434365794,
          -33.95232640410388,
          -33.95036105185056,
          -33.98007549706995,
          -33.93177098454084,
          -33.972277143259284,
          -33.94134512052231,
          -33.96673739878608,
          -33.937932391323145,
          -33.93933324009861,
          -33.95668795283095,
          -33.930893360112066,
          -33.96350702186589,
          -33.912151751586364,
          -33.967426366473916,
          -33.94750843970595,
          -33.96373346273603,
          -33.96919037410522,
          -33.977983945627386,
          -33.971465749910976,
          -33.943773768293624,
          -33.969273590625484,
          -33.985681137109154,
          -34.000399747497354,
          -33.96398918152057,
          -33.96796097390561,
          -33.96919825390097,
          -33.99598641465563,
          -33.91202532064377,
          -33.93686808684861,
          -33.99467394815427
         ]
        }
       ],
       "layout": {
        "shapes": [
         {
          "line": {
           "width": 1
          },
          "opacity": 1,
          "type": "line",
          "x0": 0,
          "x1": 1,
          "xref": "x domain",
          "y0": -34.08190778603123,
          "y1": -34.08190778603123,
          "yref": "y"
         }
        ],
        "template": {
         "data": {
          "bar": [
           {
            "error_x": {
             "color": "rgb(36,36,36)"
            },
            "error_y": {
             "color": "rgb(36,36,36)"
            },
            "marker": {
             "line": {
              "color": "white",
              "width": 0.5
             },
             "pattern": {
              "fillmode": "overlay",
              "size": 10,
              "solidity": 0.2
             }
            },
            "type": "bar"
           }
          ],
          "barpolar": [
           {
            "marker": {
             "line": {
              "color": "white",
              "width": 0.5
             },
             "pattern": {
              "fillmode": "overlay",
              "size": 10,
              "solidity": 0.2
             }
            },
            "type": "barpolar"
           }
          ],
          "carpet": [
           {
            "aaxis": {
             "endlinecolor": "rgb(36,36,36)",
             "gridcolor": "white",
             "linecolor": "white",
             "minorgridcolor": "white",
             "startlinecolor": "rgb(36,36,36)"
            },
            "baxis": {
             "endlinecolor": "rgb(36,36,36)",
             "gridcolor": "white",
             "linecolor": "white",
             "minorgridcolor": "white",
             "startlinecolor": "rgb(36,36,36)"
            },
            "type": "carpet"
           }
          ],
          "choropleth": [
           {
            "colorbar": {
             "outlinewidth": 1,
             "tickcolor": "rgb(36,36,36)",
             "ticks": "outside"
            },
            "type": "choropleth"
           }
          ],
          "contour": [
           {
            "colorbar": {
             "outlinewidth": 1,
             "tickcolor": "rgb(36,36,36)",
             "ticks": "outside"
            },
            "colorscale": [
             [
              0,
              "#440154"
             ],
             [
              0.1111111111111111,
              "#482878"
             ],
             [
              0.2222222222222222,
              "#3e4989"
             ],
             [
              0.3333333333333333,
              "#31688e"
             ],
             [
              0.4444444444444444,
              "#26828e"
             ],
             [
              0.5555555555555556,
              "#1f9e89"
             ],
             [
              0.6666666666666666,
              "#35b779"
             ],
             [
              0.7777777777777778,
              "#6ece58"
             ],
             [
              0.8888888888888888,
              "#b5de2b"
             ],
             [
              1,
              "#fde725"
             ]
            ],
            "type": "contour"
           }
          ],
          "contourcarpet": [
           {
            "colorbar": {
             "outlinewidth": 1,
             "tickcolor": "rgb(36,36,36)",
             "ticks": "outside"
            },
            "type": "contourcarpet"
           }
          ],
          "heatmap": [
           {
            "colorbar": {
             "outlinewidth": 1,
             "tickcolor": "rgb(36,36,36)",
             "ticks": "outside"
            },
            "colorscale": [
             [
              0,
              "#440154"
             ],
             [
              0.1111111111111111,
              "#482878"
             ],
             [
              0.2222222222222222,
              "#3e4989"
             ],
             [
              0.3333333333333333,
              "#31688e"
             ],
             [
              0.4444444444444444,
              "#26828e"
             ],
             [
              0.5555555555555556,
              "#1f9e89"
             ],
             [
              0.6666666666666666,
              "#35b779"
             ],
             [
              0.7777777777777778,
              "#6ece58"
             ],
             [
              0.8888888888888888,
              "#b5de2b"
             ],
             [
              1,
              "#fde725"
             ]
            ],
            "type": "heatmap"
           }
          ],
          "heatmapgl": [
           {
            "colorbar": {
             "outlinewidth": 1,
             "tickcolor": "rgb(36,36,36)",
             "ticks": "outside"
            },
            "colorscale": [
             [
              0,
              "#440154"
             ],
             [
              0.1111111111111111,
              "#482878"
             ],
             [
              0.2222222222222222,
              "#3e4989"
             ],
             [
              0.3333333333333333,
              "#31688e"
             ],
             [
              0.4444444444444444,
              "#26828e"
             ],
             [
              0.5555555555555556,
              "#1f9e89"
             ],
             [
              0.6666666666666666,
              "#35b779"
             ],
             [
              0.7777777777777778,
              "#6ece58"
             ],
             [
              0.8888888888888888,
              "#b5de2b"
             ],
             [
              1,
              "#fde725"
             ]
            ],
            "type": "heatmapgl"
           }
          ],
          "histogram": [
           {
            "marker": {
             "line": {
              "color": "white",
              "width": 0.6
             }
            },
            "type": "histogram"
           }
          ],
          "histogram2d": [
           {
            "colorbar": {
             "outlinewidth": 1,
             "tickcolor": "rgb(36,36,36)",
             "ticks": "outside"
            },
            "colorscale": [
             [
              0,
              "#440154"
             ],
             [
              0.1111111111111111,
              "#482878"
             ],
             [
              0.2222222222222222,
              "#3e4989"
             ],
             [
              0.3333333333333333,
              "#31688e"
             ],
             [
              0.4444444444444444,
              "#26828e"
             ],
             [
              0.5555555555555556,
              "#1f9e89"
             ],
             [
              0.6666666666666666,
              "#35b779"
             ],
             [
              0.7777777777777778,
              "#6ece58"
             ],
             [
              0.8888888888888888,
              "#b5de2b"
             ],
             [
              1,
              "#fde725"
             ]
            ],
            "type": "histogram2d"
           }
          ],
          "histogram2dcontour": [
           {
            "colorbar": {
             "outlinewidth": 1,
             "tickcolor": "rgb(36,36,36)",
             "ticks": "outside"
            },
            "colorscale": [
             [
              0,
              "#440154"
             ],
             [
              0.1111111111111111,
              "#482878"
             ],
             [
              0.2222222222222222,
              "#3e4989"
             ],
             [
              0.3333333333333333,
              "#31688e"
             ],
             [
              0.4444444444444444,
              "#26828e"
             ],
             [
              0.5555555555555556,
              "#1f9e89"
             ],
             [
              0.6666666666666666,
              "#35b779"
             ],
             [
              0.7777777777777778,
              "#6ece58"
             ],
             [
              0.8888888888888888,
              "#b5de2b"
             ],
             [
              1,
              "#fde725"
             ]
            ],
            "type": "histogram2dcontour"
           }
          ],
          "mesh3d": [
           {
            "colorbar": {
             "outlinewidth": 1,
             "tickcolor": "rgb(36,36,36)",
             "ticks": "outside"
            },
            "type": "mesh3d"
           }
          ],
          "parcoords": [
           {
            "line": {
             "colorbar": {
              "outlinewidth": 1,
              "tickcolor": "rgb(36,36,36)",
              "ticks": "outside"
             }
            },
            "type": "parcoords"
           }
          ],
          "pie": [
           {
            "automargin": true,
            "type": "pie"
           }
          ],
          "scatter": [
           {
            "marker": {
             "colorbar": {
              "outlinewidth": 1,
              "tickcolor": "rgb(36,36,36)",
              "ticks": "outside"
             }
            },
            "type": "scatter"
           }
          ],
          "scatter3d": [
           {
            "line": {
             "colorbar": {
              "outlinewidth": 1,
              "tickcolor": "rgb(36,36,36)",
              "ticks": "outside"
             }
            },
            "marker": {
             "colorbar": {
              "outlinewidth": 1,
              "tickcolor": "rgb(36,36,36)",
              "ticks": "outside"
             }
            },
            "type": "scatter3d"
           }
          ],
          "scattercarpet": [
           {
            "marker": {
             "colorbar": {
              "outlinewidth": 1,
              "tickcolor": "rgb(36,36,36)",
              "ticks": "outside"
             }
            },
            "type": "scattercarpet"
           }
          ],
          "scattergeo": [
           {
            "marker": {
             "colorbar": {
              "outlinewidth": 1,
              "tickcolor": "rgb(36,36,36)",
              "ticks": "outside"
             }
            },
            "type": "scattergeo"
           }
          ],
          "scattergl": [
           {
            "marker": {
             "colorbar": {
              "outlinewidth": 1,
              "tickcolor": "rgb(36,36,36)",
              "ticks": "outside"
             }
            },
            "type": "scattergl"
           }
          ],
          "scattermapbox": [
           {
            "marker": {
             "colorbar": {
              "outlinewidth": 1,
              "tickcolor": "rgb(36,36,36)",
              "ticks": "outside"
             }
            },
            "type": "scattermapbox"
           }
          ],
          "scatterpolar": [
           {
            "marker": {
             "colorbar": {
              "outlinewidth": 1,
              "tickcolor": "rgb(36,36,36)",
              "ticks": "outside"
             }
            },
            "type": "scatterpolar"
           }
          ],
          "scatterpolargl": [
           {
            "marker": {
             "colorbar": {
              "outlinewidth": 1,
              "tickcolor": "rgb(36,36,36)",
              "ticks": "outside"
             }
            },
            "type": "scatterpolargl"
           }
          ],
          "scatterternary": [
           {
            "marker": {
             "colorbar": {
              "outlinewidth": 1,
              "tickcolor": "rgb(36,36,36)",
              "ticks": "outside"
             }
            },
            "type": "scatterternary"
           }
          ],
          "surface": [
           {
            "colorbar": {
             "outlinewidth": 1,
             "tickcolor": "rgb(36,36,36)",
             "ticks": "outside"
            },
            "colorscale": [
             [
              0,
              "#440154"
             ],
             [
              0.1111111111111111,
              "#482878"
             ],
             [
              0.2222222222222222,
              "#3e4989"
             ],
             [
              0.3333333333333333,
              "#31688e"
             ],
             [
              0.4444444444444444,
              "#26828e"
             ],
             [
              0.5555555555555556,
              "#1f9e89"
             ],
             [
              0.6666666666666666,
              "#35b779"
             ],
             [
              0.7777777777777778,
              "#6ece58"
             ],
             [
              0.8888888888888888,
              "#b5de2b"
             ],
             [
              1,
              "#fde725"
             ]
            ],
            "type": "surface"
           }
          ],
          "table": [
           {
            "cells": {
             "fill": {
              "color": "rgb(237,237,237)"
             },
             "line": {
              "color": "white"
             }
            },
            "header": {
             "fill": {
              "color": "rgb(217,217,217)"
             },
             "line": {
              "color": "white"
             }
            },
            "type": "table"
           }
          ]
         },
         "layout": {
          "annotationdefaults": {
           "arrowhead": 0,
           "arrowwidth": 1
          },
          "autotypenumbers": "strict",
          "coloraxis": {
           "colorbar": {
            "outlinewidth": 1,
            "tickcolor": "rgb(36,36,36)",
            "ticks": "outside"
           }
          },
          "colorscale": {
           "diverging": [
            [
             0,
             "rgb(103,0,31)"
            ],
            [
             0.1,
             "rgb(178,24,43)"
            ],
            [
             0.2,
             "rgb(214,96,77)"
            ],
            [
             0.3,
             "rgb(244,165,130)"
            ],
            [
             0.4,
             "rgb(253,219,199)"
            ],
            [
             0.5,
             "rgb(247,247,247)"
            ],
            [
             0.6,
             "rgb(209,229,240)"
            ],
            [
             0.7,
             "rgb(146,197,222)"
            ],
            [
             0.8,
             "rgb(67,147,195)"
            ],
            [
             0.9,
             "rgb(33,102,172)"
            ],
            [
             1,
             "rgb(5,48,97)"
            ]
           ],
           "sequential": [
            [
             0,
             "#440154"
            ],
            [
             0.1111111111111111,
             "#482878"
            ],
            [
             0.2222222222222222,
             "#3e4989"
            ],
            [
             0.3333333333333333,
             "#31688e"
            ],
            [
             0.4444444444444444,
             "#26828e"
            ],
            [
             0.5555555555555556,
             "#1f9e89"
            ],
            [
             0.6666666666666666,
             "#35b779"
            ],
            [
             0.7777777777777778,
             "#6ece58"
            ],
            [
             0.8888888888888888,
             "#b5de2b"
            ],
            [
             1,
             "#fde725"
            ]
           ],
           "sequentialminus": [
            [
             0,
             "#440154"
            ],
            [
             0.1111111111111111,
             "#482878"
            ],
            [
             0.2222222222222222,
             "#3e4989"
            ],
            [
             0.3333333333333333,
             "#31688e"
            ],
            [
             0.4444444444444444,
             "#26828e"
            ],
            [
             0.5555555555555556,
             "#1f9e89"
            ],
            [
             0.6666666666666666,
             "#35b779"
            ],
            [
             0.7777777777777778,
             "#6ece58"
            ],
            [
             0.8888888888888888,
             "#b5de2b"
            ],
            [
             1,
             "#fde725"
            ]
           ]
          },
          "colorway": [
           "#1F77B4",
           "#FF7F0E",
           "#2CA02C",
           "#D62728",
           "#9467BD",
           "#8C564B",
           "#E377C2",
           "#7F7F7F",
           "#BCBD22",
           "#17BECF"
          ],
          "font": {
           "color": "rgb(36,36,36)"
          },
          "geo": {
           "bgcolor": "white",
           "lakecolor": "white",
           "landcolor": "white",
           "showlakes": true,
           "showland": true,
           "subunitcolor": "white"
          },
          "hoverlabel": {
           "align": "left"
          },
          "hovermode": "closest",
          "mapbox": {
           "style": "light"
          },
          "paper_bgcolor": "white",
          "plot_bgcolor": "white",
          "polar": {
           "angularaxis": {
            "gridcolor": "rgb(232,232,232)",
            "linecolor": "rgb(36,36,36)",
            "showgrid": false,
            "showline": true,
            "ticks": "outside"
           },
           "bgcolor": "white",
           "radialaxis": {
            "gridcolor": "rgb(232,232,232)",
            "linecolor": "rgb(36,36,36)",
            "showgrid": false,
            "showline": true,
            "ticks": "outside"
           }
          },
          "scene": {
           "xaxis": {
            "backgroundcolor": "white",
            "gridcolor": "rgb(232,232,232)",
            "gridwidth": 2,
            "linecolor": "rgb(36,36,36)",
            "showbackground": true,
            "showgrid": false,
            "showline": true,
            "ticks": "outside",
            "zeroline": false,
            "zerolinecolor": "rgb(36,36,36)"
           },
           "yaxis": {
            "backgroundcolor": "white",
            "gridcolor": "rgb(232,232,232)",
            "gridwidth": 2,
            "linecolor": "rgb(36,36,36)",
            "showbackground": true,
            "showgrid": false,
            "showline": true,
            "ticks": "outside",
            "zeroline": false,
            "zerolinecolor": "rgb(36,36,36)"
           },
           "zaxis": {
            "backgroundcolor": "white",
            "gridcolor": "rgb(232,232,232)",
            "gridwidth": 2,
            "linecolor": "rgb(36,36,36)",
            "showbackground": true,
            "showgrid": false,
            "showline": true,
            "ticks": "outside",
            "zeroline": false,
            "zerolinecolor": "rgb(36,36,36)"
           }
          },
          "shapedefaults": {
           "fillcolor": "black",
           "line": {
            "width": 0
           },
           "opacity": 0.3
          },
          "ternary": {
           "aaxis": {
            "gridcolor": "rgb(232,232,232)",
            "linecolor": "rgb(36,36,36)",
            "showgrid": false,
            "showline": true,
            "ticks": "outside"
           },
           "baxis": {
            "gridcolor": "rgb(232,232,232)",
            "linecolor": "rgb(36,36,36)",
            "showgrid": false,
            "showline": true,
            "ticks": "outside"
           },
           "bgcolor": "white",
           "caxis": {
            "gridcolor": "rgb(232,232,232)",
            "linecolor": "rgb(36,36,36)",
            "showgrid": false,
            "showline": true,
            "ticks": "outside"
           }
          },
          "title": {
           "x": 0.05
          },
          "xaxis": {
           "automargin": true,
           "gridcolor": "rgb(232,232,232)",
           "linecolor": "rgb(36,36,36)",
           "showgrid": false,
           "showline": true,
           "ticks": "outside",
           "title": {
            "standoff": 15
           },
           "zeroline": false,
           "zerolinecolor": "rgb(36,36,36)"
          },
          "yaxis": {
           "automargin": true,
           "gridcolor": "rgb(232,232,232)",
           "linecolor": "rgb(36,36,36)",
           "showgrid": false,
           "showline": true,
           "ticks": "outside",
           "title": {
            "standoff": 15
           },
           "zeroline": false,
           "zerolinecolor": "rgb(36,36,36)"
          }
         }
        },
        "title": {
         "text": "<b>S-S model </b>, N=16, J2 =1, J1 =0.9 , η=0.01, α=8, samples=3000"
        },
        "xaxis": {
         "mirror": true,
         "showline": true,
         "title": {
          "text": "Iteration"
         }
        },
        "yaxis": {
         "mirror": true,
         "showline": true,
         "title": {
          "text": "Energy"
         }
        }
       }
      },
      "text/html": [
       "<div>                            <div id=\"af64fe35-24d7-44fe-9d7f-7c40afed86cc\" class=\"plotly-graph-div\" style=\"height:525px; width:100%;\"></div>            <script type=\"text/javascript\">                require([\"plotly\"], function(Plotly) {                    window.PLOTLYENV=window.PLOTLYENV || {};                                    if (document.getElementById(\"af64fe35-24d7-44fe-9d7f-7c40afed86cc\")) {                    Plotly.newPlot(                        \"af64fe35-24d7-44fe-9d7f-7c40afed86cc\",                        [{\"line\":{\"color\":\"#000000\",\"width\":1},\"mode\":\"lines\",\"name\":\"exact energy\",\"type\":\"scatter\",\"x\":[0,500],\"y\":[-34.08190778603123,-34.08190778603123]},{\"name\":\"normal\",\"type\":\"scatter\",\"x\":[0,1,2,3,4,5,6,7,8,9,10,11,12,13,14,15,16,17,18,19,20,21,22,23,24,25,26,27,28,29,30,31,32,33,34,35,36,37,38,39,40,41,42,43,44,45,46,47,48,49,50,51,52,53,54,55,56,57,58,59,60,61,62,63,64,65,66,67,68,69,70,71,72,73,74,75,76,77,78,79,80,81,82,83,84,85,86,87,88,89,90,91,92,93,94,95,96,97,98,99,100,101,102,103,104,105,106,107,108,109,110,111,112,113,114,115,116,117,118,119,120,121,122,123,124,125,126,127,128,129,130,131,132,133,134,135,136,137,138,139,140,141,142,143,144,145,146,147,148,149,150,151,152,153,154,155,156,157,158,159,160,161,162,163,164,165,166,167,168,169,170,171,172,173,174,175,176,177,178,179,180,181,182,183,184,185,186,187,188,189,190,191,192,193,194,195,196,197,198,199,200,201,202,203,204,205,206,207,208,209,210,211,212,213,214,215,216,217,218,219,220,221,222,223,224,225,226,227,228,229,230,231,232,233,234,235,236,237,238,239,240,241,242,243,244,245,246,247,248,249,250,251,252,253,254,255,256,257,258,259,260,261,262,263,264,265,266,267,268,269,270,271,272,273,274,275,276,277,278,279,280,281,282,283,284,285,286,287,288,289,290,291,292,293,294,295,296,297,298,299,300,301,302,303,304,305,306,307,308,309,310,311,312,313,314,315,316,317,318,319,320,321,322,323,324,325,326,327,328,329,330,331,332,333,334,335,336,337,338,339,340,341,342,343,344,345,346,347,348,349,350,351,352,353,354,355,356,357,358,359,360,361,362,363,364,365,366,367,368,369,370,371,372,373,374,375,376,377,378,379,380,381,382,383,384,385,386,387,388,389,390,391,392,393,394,395,396,397,398,399,400,401,402,403,404,405,406,407,408,409,410,411,412,413,414,415,416,417,418,419,420,421,422,423,424,425,426,427,428,429,430,431,432,433,434,435,436,437,438,439,440,441,442,443,444,445,446,447,448,449,450,451,452,453,454,455,456,457,458,459,460,461,462,463,464,465,466,467,468,469,470,471,472,473,474,475,476,477,478,479,480,481,482,483,484,485,486,487,488,489,490,491,492,493,494,495,496,497,498,499],\"y\":[36.78484951471004,36.777119305495,36.77112092449032,36.76484130705364,36.75002559283396,36.749136654766374,36.743096194073665,36.69836202408595,36.66581044733796,36.65368647308329,36.56751029387341,36.53779300528562,36.440760166863576,36.35895810400046,36.19155258717302,35.81724044307241,35.533670096502625,35.01752808001217,34.28002098211609,33.24057132108659,31.710030446037464,29.52032268066351,26.902027628066566,22.322158911183443,18.17799203419762,12.935938384478856,8.108579711405326,3.7640021190681816,0.2887362192092053,-2.51039936738835,-4.8087950273813265,-6.622733225001479,-8.068885750163295,-9.09887562163281,-10.378200217994847,-11.24746160117122,-12.036791713440714,-12.615853100433439,-13.329632875122542,-13.990562391837326,-14.49665199944003,-15.294219992902306,-15.931660971988057,-16.120639012376532,-16.70502746610505,-17.146250088640787,-17.435529230831733,-17.638059719464707,-18.089028992381298,-18.594204092769996,-18.86895684097992,-19.314334454021342,-19.556015946311085,-19.881131170137596,-20.473529387900875,-20.55135803203215,-20.900716323628238,-21.24176604875139,-21.60272947784037,-21.75704072508308,-22.23683525351828,-22.62481310629991,-22.769332895877476,-23.05322279682339,-23.24430415373684,-23.709822888928617,-23.800470339987008,-24.215866422457694,-24.365054308241678,-25.03293490551451,-24.96002140581797,-25.156705478875026,-25.564629827800925,-25.740972499228242,-26.055783503976432,-26.190956339508595,-26.365182110809666,-26.67839494893571,-27.14414015060205,-27.114976544882776,-27.387943610595606,-27.587368781854064,-27.6843596323603,-27.855618657940948,-28.083678755371505,-28.268278217790687,-28.380526582299584,-28.56814517313098,-28.67900282190181,-28.85124068079905,-28.99262844436881,-28.990798123795276,-29.243536126924347,-29.465636559174783,-29.460922488607892,-29.62080036690946,-29.650214793973095,-29.736753381444238,-29.794906157046086,-29.919322834291084,-30.037801144850608,-30.151677179113534,-30.36060489117334,-30.32788262998444,-30.47255232731529,-30.626091506572113,-30.56680644623899,-30.65682624356503,-30.761289301594456,-30.834869817104792,-30.81113525699752,-31.007656447296302,-31.00334777109512,-31.077249572780623,-31.21928347149772,-31.335361328554473,-31.19885560965364,-31.2812932999185,-31.545603995437705,-31.477196896471934,-31.661227515731916,-31.591048812610353,-31.745290399084414,-31.74312519605481,-31.75106015413167,-31.802001462790837,-31.97007967925272,-32.07549042619587,-32.198574172270966,-32.21390778732738,-32.244097354010705,-32.35179166294995,-32.398458245753204,-32.46809816146106,-32.48931796416425,-32.63330246182878,-32.65387520074055,-32.60869340867993,-32.78532055825075,-32.754679248259144,-32.75388386213787,-32.79955340781491,-32.91493756821898,-32.86763721257404,-32.84739640258886,-33.073771501892196,-32.97236549172988,-33.00364694906115,-33.10215358564237,-33.151576354993985,-33.10583700440894,-33.22958073533287,-33.29257169956632,-33.09354162945216,-33.22757186352263,-33.2578624008875,-33.27555620037095,-33.33142859506306,-33.311900771719266,-33.3204108351789,-33.371016346803295,-33.385835243885886,-33.44106828110846,-33.40118184388645,-33.31837558495843,-33.50954453503468,-33.55125061508918,-33.42223948505518,-33.45868256649334,-33.51355358580495,-33.465258742784414,-33.56724810822294,-33.56444706860183,-33.50248920384892,-33.5715234700804,-33.585369936362596,-33.58641807500129,-33.635430287421435,-33.599270621399825,-33.571350661720565,-33.639636945571404,-33.56969256361086,-33.61677169171373,-33.66475876487155,-33.697672401647715,-33.685461926175975,-33.717147886173926,-33.6799196023729,-33.672029122234235,-33.71355386412467,-33.708411319095276,-33.69413820797922,-33.737896211941326,-33.69537880429771,-33.68838229032681,-33.72964561496456,-33.67267669321417,-33.71906996946803,-33.76173099266011,-33.71219225286799,-33.73754384310739,-33.73286767993056,-33.66813818196507,-33.77897135194635,-33.826057766997174,-33.72331704323701,-33.72734751639825,-33.71991689286937,-33.67016944761088,-33.744883371418496,-33.78898156351429,-33.781137050290845,-33.734950238863036,-33.76734472418232,-33.83929175090749,-33.81721293284448,-33.81147589307633,-33.823381736750996,-33.72670975527775,-33.80651344777628,-33.780837728107564,-33.812508227818604,-33.78328877420498,-33.796844939341234,-33.84584703794886,-33.831075121251786,-33.77488313195628,-33.84713152189677,-33.85258794384464,-33.85267430248168,-33.8317264601624,-33.79193501970707,-33.82525584407173,-33.89310445229987,-33.81033128518488,-33.87344788158794,-33.845294394432074,-33.84075269049702,-33.88162389792321,-33.85775836415249,-33.82754877014727,-33.88338830195283,-33.83704175173379,-33.846983127532425,-33.85587813957666,-33.908654223833366,-33.82781781631649,-33.84127102644836,-33.822406933534815,-33.859782612705494,-33.86842254898661,-33.83889311702798,-33.869185825869145,-33.921574434438746,-33.880724724481674,-33.90221261492437,-33.91053315049839,-33.89603352813614,-33.87277727754729,-33.863365965046164,-33.91508443269534,-33.853462531964624,-33.904165468536284,-33.88497543617381,-33.876052118311,-33.907004384927355,-33.96042217412696,-33.92374753359706,-33.89398151285329,-33.88239219942527,-33.89905067922688,-33.92210968364362,-33.923333869251074,-33.89604960857701,-33.9183266877761,-33.91051396096382,-33.854623564068646,-33.92436328886849,-33.90815080502126,-33.9727741555025,-33.910130863359925,-33.91685726150034,-33.92996019841529,-33.983628290331815,-33.915222704959206,-33.8902592412002,-33.89967163479511,-33.95633505428822,-33.89408555993176,-33.925548166520876,-33.9279082643938,-33.918062020301655,-33.951167989631536,-33.91604627179591,-33.88930639684367,-33.91606512560529,-33.96682029571492,-33.935005966866484,-33.93160479008509,-33.95503443505517,-33.936948444680255,-33.921410455855465,-33.942543512234955,-33.93838798879889,-33.93646549640392,-33.9437287430354,-33.95098547340196,-33.953922869168174,-33.97089483093689,-33.929353517118834,-33.98598458263021,-33.98492157065888,-33.91234960499984,-33.95623030666051,-33.90878655048474,-33.98984260150305,-33.97563588740834,-33.95247800649904,-33.98295502278493,-33.96340487211751,-33.97356991607554,-33.99725563297825,-33.978241614170365,-33.98321898821354,-33.939293331000165,-33.97013759514398,-33.952483879517104,-33.93167411105013,-33.94960240998253,-33.9777207776582,-33.973034128394104,-33.934463212772435,-33.9420614918998,-33.87852008514533,-33.95587195071147,-33.973852239282536,-33.99105553117621,-33.98751788125459,-33.95248407936579,-33.97786386117904,-33.95610465099585,-33.98116952648799,-33.95336326837399,-33.92977752749807,-33.99011662531729,-33.94832566961836,-33.99001020043398,-33.97419671380725,-33.949130119991274,-34.02735152763648,-33.91153116147967,-33.97519337455594,-33.970733652123755,-33.95206815574248,-33.97133696663113,-34.012837121158505,-33.969928610902485,-33.9952209442049,-33.92375658339721,-33.96330514937187,-33.995939467759364,-33.95525048735613,-33.97125581346191,-33.9644043250575,-33.94984578881037,-33.98443271000596,-33.96186255175582,-33.960609920607276,-33.999106454823306,-33.96424753788604,-33.95442263454493,-34.001050058657135,-33.97647955849367,-33.97218164721916,-33.97650694376054,-34.002128242274345,-33.97022077067138,-33.99266756518622,-33.98947998302269,-33.96616403962648,-33.992921291340295,-33.959968438967564,-33.96782190301883,-33.95965938217236,-34.00313899306811,-33.983444431437434,-33.98753016098247,-33.98088513718855,-33.95828228892076,-33.985980035906,-33.99555887339973,-34.033473179994054,-33.94288578455214,-33.95346394154692,-34.007435271238236,-33.999179063515186,-34.026297081339486,-33.96900306638349,-33.98207351055295,-33.98530566923135,-33.99701521406713,-33.989423311359495,-33.996731691007255,-33.96879004383143,-33.97103257467186,-34.02329223123801,-33.974500901509465,-34.01967821890269,-33.96291054247859,-33.95474850869381,-33.98035793121584,-33.99072568211129,-33.98974929925938,-33.977038214858794,-33.97345107966451,-33.99793868213935,-33.966413364673194,-33.96316876663022,-33.99604341282839,-33.994975254363474,-33.98075478243354,-33.98131665911808,-33.992612760920025,-33.993760962179735,-34.01834166887625,-34.010369096895516,-33.979402503413944,-34.00736203578381,-34.020053793924326,-34.00626742607691,-34.024395753583356,-34.019828481849565,-33.984592290948434,-34.0040884536057,-33.97856861411324,-33.9522982139448,-33.99654574957031,-34.00565303553039,-33.98712651797244,-34.03551522312218,-33.98796047941662,-33.98983311332991,-34.00404675060747,-34.01449715391058,-33.98544233451578,-33.978951853419154,-34.01306767524036,-34.00220816890991,-33.96569345129181,-33.97872702962643,-33.97842336939039,-33.914523433234365,-33.98638300597557,-34.03426848222057,-33.994509329725105,-33.98098728861136,-33.93831565084821,-33.97856100749561,-33.97483116707935,-33.96339991031967,-34.02500034945303,-33.98330112333032,-33.973320345184995,-34.01219500152622,-34.004114057591536,-33.97643023628593,-34.00019445328927,-34.00768002468135,-34.022049833054574,-33.987346103442086,-34.03704215627564,-33.993745233998325,-33.975057420189415,-34.00189746773803,-33.97383627173086,-34.000714881796405,-34.0005126031325,-34.00867598662335,-34.01841510055098,-34.00769484644901,-33.98273879611783,-33.98536829550223,-34.00299906618822,-34.03645487492173,-33.99275038308915,-34.00000377560469,-33.98422696400196,-34.00797990157916,-34.044665288817164,-34.000898035406095,-33.96996785475603,-33.96714662355289,-33.939817638614194,-34.015753171490296,-34.011512684355345,-33.98487771593452,-34.032768156222616,-34.01299945535453,-33.995602050805466,-34.04016746563428]},{\"name\":\"MSR\",\"type\":\"scatter\",\"x\":[0,1,2,3,4,5,6,7,8,9,10,11,12,13,14,15,16,17,18,19,20,21,22,23,24,25,26,27,28,29,30,31,32,33,34,35,36,37,38,39,40,41,42,43,44,45,46,47,48,49,50,51,52,53,54,55,56,57,58,59,60,61,62,63,64,65,66,67,68,69,70,71,72,73,74,75,76,77,78,79,80,81,82,83,84,85,86,87,88,89,90,91,92,93,94,95,96,97,98,99,100,101,102,103,104,105,106,107,108,109,110,111,112,113,114,115,116,117,118,119,120,121,122,123,124,125,126,127,128,129,130,131,132,133,134,135,136,137,138,139,140,141,142,143,144,145,146,147,148,149,150,151,152,153,154,155,156,157,158,159,160,161,162,163,164,165,166,167,168,169,170,171,172,173,174,175,176,177,178,179,180,181,182,183,184,185,186,187,188,189,190,191,192,193,194,195,196,197,198,199,200,201,202,203,204,205,206,207,208,209,210,211,212,213,214,215,216,217,218,219,220,221,222,223,224,225,226,227,228,229,230,231,232,233,234,235,236,237,238,239,240,241,242,243,244,245,246,247,248,249,250,251,252,253,254,255,256,257,258,259,260,261,262,263,264,265,266,267,268,269,270,271,272,273,274,275,276,277,278,279,280,281,282,283,284,285,286,287,288,289,290,291,292,293,294,295,296,297,298,299,300,301,302,303,304,305,306,307,308,309,310,311,312,313,314,315,316,317,318,319,320,321,322,323,324,325,326,327,328,329,330,331,332,333,334,335,336,337,338,339,340,341,342,343,344,345,346,347,348,349,350,351,352,353,354,355,356,357,358,359,360,361,362,363,364,365,366,367,368,369,370,371,372,373,374,375,376,377,378,379,380,381,382,383,384,385,386,387,388,389,390,391,392,393,394,395,396,397,398,399,400,401,402,403,404,405,406,407,408,409,410,411,412,413,414,415,416,417,418,419,420,421,422,423,424,425,426,427,428,429,430,431,432,433,434,435,436,437,438,439,440,441,442,443,444,445,446,447,448,449,450,451,452,453,454,455,456,457,458,459,460,461,462,463,464,465,466,467,468,469,470,471,472,473,474,475,476,477,478,479,480,481,482,483,484,485,486,487,488,489,490,491,492,493,494,495,496,497,498,499],\"y\":[-20.662111642190943,-22.558079054671232,-24.07126539075706,-25.48362931013825,-26.73447092481551,-27.683860099022503,-28.33131678827461,-28.947781286467073,-29.3839647116741,-29.822990894967617,-30.320946859030965,-30.473224716580404,-30.724072766045325,-31.03449786355266,-31.330820155353635,-31.223040041977015,-31.432018023831922,-31.42384244910108,-31.631310099666074,-31.789098857080976,-31.726653628090435,-31.847171300010444,-31.903882104259797,-31.995551804972187,-32.1195818203706,-32.165304072201785,-32.169042583891226,-32.22327231293896,-32.313161045333985,-32.37818624183082,-32.28602395703779,-32.3211009941252,-32.41604683779059,-32.4294547034035,-32.3676720081509,-32.47496344626209,-32.540910185162616,-32.50982033660289,-32.503998138087354,-32.46445356701708,-32.58006184961313,-32.58834878253986,-32.61286164314324,-32.655163692042215,-32.715649363555585,-32.68372625973088,-32.76051197492485,-32.67025107476199,-32.69556092400487,-32.74743756053057,-32.85237127690912,-32.81543682039237,-32.86307380720937,-32.73395525628861,-32.79018076832332,-32.893271739371535,-32.869588589880486,-32.821805415149235,-32.970605561332924,-32.84710020822742,-32.97521095949815,-32.9368511660022,-32.8603115868678,-32.8980082276007,-32.99962881261766,-32.89324911150378,-33.022396525846894,-32.968059864323415,-32.987537209163435,-33.006556458487694,-32.96521772494206,-33.020882281662416,-33.109742662825525,-33.02024893250433,-33.050449029921666,-33.12290532181981,-33.120963364155386,-33.06289925288321,-33.05002123272031,-33.02726082555246,-33.10385250898418,-33.14910087903159,-33.18189366246604,-33.113602204532825,-33.18588098571516,-33.23576874126867,-33.096895689433374,-33.24297940612891,-33.18460931992188,-33.25549880249606,-33.22455909395047,-33.36632331637137,-33.2595293470911,-33.14439439931278,-33.345612917407024,-33.25564294459964,-33.29650626099872,-33.24322437204767,-33.27093287685052,-33.3429451303791,-33.321349652191145,-33.35214531179927,-33.36821539974242,-33.340854034314496,-33.37749109638324,-33.29875112846774,-33.29017094632464,-33.416207989454335,-33.34344613561292,-33.3661240419063,-33.363438103438945,-33.3843566669664,-33.3833711320416,-33.30347663474421,-33.43530464802732,-33.496206532641246,-33.40057949294614,-33.34441378871222,-33.33392008090603,-33.446647139948524,-33.40501514991796,-33.53629185022966,-33.42300019683853,-33.55994826207575,-33.47642515761677,-33.43531202248945,-33.55490077048596,-33.42630467222799,-33.45646728606022,-33.41680801337412,-33.53586681339289,-33.495454255936956,-33.53202342617207,-33.53939653235226,-33.50409852408914,-33.58121183596979,-33.46168110494628,-33.53228766111197,-33.4580329704582,-33.556233161563924,-33.523857727377376,-33.45862192218972,-33.58019841481259,-33.377232077431565,-33.56455813044859,-33.55513204174074,-33.54832077566753,-33.582840815370986,-33.57866359484924,-33.56806219124391,-33.5826563038975,-33.52289332716003,-33.614131659341936,-33.61760418875048,-33.604476749259476,-33.489495960449325,-33.618080421009985,-33.53908594700773,-33.507641973312154,-33.60591096844938,-33.589290458614876,-33.57237297409313,-33.6516674260985,-33.63355662681764,-33.60306435337952,-33.64867087478232,-33.632690084259565,-33.70992330717721,-33.64273216292019,-33.56389527858394,-33.60370306274159,-33.555658128154136,-33.642880808096095,-33.62800311493051,-33.743617113232126,-33.62507297751162,-33.58463527675518,-33.56911416852678,-33.61616267314157,-33.635847851873734,-33.61005781692789,-33.61892494657723,-33.57457489778026,-33.646250245120974,-33.69705063968729,-33.605022752098385,-33.667684983454315,-33.630135913346905,-33.60182082440958,-33.74826298522707,-33.56004540081543,-33.69634748487756,-33.593731777311994,-33.618898611515206,-33.560295935380765,-33.74632605919814,-33.565755720540935,-33.67516815329233,-33.6428607596569,-33.660365717244936,-33.58365264084731,-33.647685929138504,-33.673573591458364,-33.650030850684786,-33.656508755325035,-33.668453516738545,-33.65551479088635,-33.63812412520975,-33.62937017720603,-33.63801371774063,-33.64842067757566,-33.626668032238435,-33.70423699128326,-33.675623115644925,-33.74311572072551,-33.67579906909826,-33.66331535310691,-33.62056648018601,-33.67529333008609,-33.70437591541491,-33.722364987585074,-33.72617516378781,-33.754326846970336,-33.6905864294795,-33.77778459702987,-33.692348998587164,-33.68558671309725,-33.65543085819589,-33.7283278496334,-33.68772681851606,-33.75577580798077,-33.665286971358356,-33.609159246667325,-33.68755237184163,-33.73211337113783,-33.7657869549172,-33.7291627893117,-33.71279678220485,-33.698164563337016,-33.79494802142223,-33.77083576051006,-33.7687393881552,-33.777243383600336,-33.73022669310256,-33.72190685294148,-33.76312649430658,-33.74551807454246,-33.71160034922002,-33.754279389722115,-33.721041395628475,-33.71200459258044,-33.768537129448184,-33.67936229285835,-33.770287947423135,-33.806410973032925,-33.75919046210423,-33.76875004003003,-33.756979273873796,-33.79921354576979,-33.81089677943243,-33.81613203162771,-33.74317427386503,-33.77843088373641,-33.71766789437944,-33.80056529689094,-33.749116434921696,-33.776340707781536,-33.78737083875258,-33.815006858223036,-33.83526661983899,-33.799724447718454,-33.81999383901889,-33.77549659535332,-33.86677923197694,-33.75624659565298,-33.77921388129846,-33.84408649765277,-33.8279065098766,-33.833046015158466,-33.76059646056618,-33.76926159160837,-33.80618747221456,-33.78138538821658,-33.83371541228011,-33.829028083238796,-33.80686789825772,-33.79388292956418,-33.82561673171159,-33.80843181100515,-33.84987617918187,-33.80287059630709,-33.86046368985237,-33.8346760803334,-33.788978903467175,-33.82031307042802,-33.859584539650704,-33.79404863705407,-33.807692087716774,-33.80852714282183,-33.82813702808536,-33.82100911103947,-33.82279868016922,-33.861267198311786,-33.827309701241106,-33.81985348178775,-33.81827954400714,-33.85448338191612,-33.82153308207464,-33.75744149721733,-33.82660944142004,-33.82718093509531,-33.78693372037006,-33.848222212544655,-33.83716866797612,-33.85295146841424,-33.8605982006318,-33.805419116252345,-33.90058028749491,-33.82778979443611,-33.86745544019725,-33.83583595356714,-33.88005692492985,-33.82348559700266,-33.89773112173567,-33.818575310506986,-33.825935064016996,-33.850379670601306,-33.83868124285096,-33.871928703784185,-33.834855622199164,-33.87181066959329,-33.88560045400679,-33.88244819354435,-33.92147756149418,-33.88917250578581,-33.89582607567962,-33.850789142473666,-33.87993425031656,-33.8814405417363,-33.924838579819955,-33.91952599932403,-33.88129237009668,-33.87072252114509,-33.83097182611065,-33.91190432268845,-33.86289386230199,-33.845699493264284,-33.86751722919403,-33.841558172453055,-33.877003286315784,-33.90271015193989,-33.920016210188656,-33.853701222005036,-33.878479410221296,-33.86692060171782,-33.916468681704565,-33.92665574248087,-33.89099258335253,-33.905939741468806,-33.911340891244826,-33.862332361842775,-33.93054720237525,-33.84950404415404,-33.89505144203642,-33.88278579741229,-33.9307836643259,-33.92581266578535,-33.92198895983058,-33.89281067723907,-33.88074112294615,-33.96379063027501,-33.84871619971059,-33.919818374828786,-33.89521908485325,-33.89508392794946,-33.92236634019768,-33.927419680895596,-33.873401945027155,-33.90728618444319,-33.88678087522254,-33.889440981749345,-33.87386441736034,-33.93472847123584,-33.91630380787555,-33.88882662243899,-33.913880468373435,-33.89321131211937,-33.900285658594335,-33.91128237228012,-33.94922448702933,-33.93608205692751,-33.944214861015205,-33.935588778205826,-33.91092746603467,-33.97869149942093,-33.926923293509354,-33.945453931750514,-33.92162517334225,-33.93994895293362,-33.94762517355439,-33.9300749586087,-33.96175220693968,-33.92992968113507,-33.904600716904824,-33.855196193836086,-33.92236315889292,-33.92875848457606,-33.92661726422071,-33.93913909577125,-33.969034816401305,-33.90097451096729,-33.91505656816951,-33.933633208040604,-33.92622930839809,-33.944478989181555,-33.9568615471512,-33.95461733278424,-33.954096231123145,-33.9152500325456,-33.92836098244236,-33.961864453798896,-33.926335311781855,-33.93935291430223,-33.89652026259812,-33.965302152407325,-33.91544210759009,-33.95029937329273,-33.93531716651215,-33.95678369361302,-33.920480902969985,-33.923882720364624,-33.93967821451248,-33.92640285831255,-33.97957123444292,-33.977772106408324,-33.9696709320862,-33.92966717209999,-33.93404612002946,-33.94342077593662,-33.94514865176253,-33.95342429322383,-33.95056635400269,-33.98093747500647,-33.95832615859505,-33.974412141244656,-33.92917254033131,-33.93731929442353,-33.97356753715348,-33.945025877656825,-33.92237506424164,-33.95005643557548,-33.997598169506816,-33.90693163785879,-33.913598750799125,-33.91014930599486,-33.96354859249575,-33.89593614422239,-33.98589107044979,-33.92365246814803,-33.94128403533093,-33.955562106843864,-33.900958279480534,-33.95314108026694,-33.95978580737299,-33.95243366778192,-33.929650817058636,-33.926164065015186,-33.97061880997747,-33.93816266077071,-33.93685434365794,-33.95232640410388,-33.95036105185056,-33.98007549706995,-33.93177098454084,-33.972277143259284,-33.94134512052231,-33.96673739878608,-33.937932391323145,-33.93933324009861,-33.95668795283095,-33.930893360112066,-33.96350702186589,-33.912151751586364,-33.967426366473916,-33.94750843970595,-33.96373346273603,-33.96919037410522,-33.977983945627386,-33.971465749910976,-33.943773768293624,-33.969273590625484,-33.985681137109154,-34.000399747497354,-33.96398918152057,-33.96796097390561,-33.96919825390097,-33.99598641465563,-33.91202532064377,-33.93686808684861,-33.99467394815427]}],                        {\"shapes\":[{\"line\":{\"width\":1},\"opacity\":1,\"type\":\"line\",\"x0\":0,\"x1\":1,\"xref\":\"x domain\",\"y0\":-34.08190778603123,\"y1\":-34.08190778603123,\"yref\":\"y\"}],\"template\":{\"data\":{\"bar\":[{\"error_x\":{\"color\":\"rgb(36,36,36)\"},\"error_y\":{\"color\":\"rgb(36,36,36)\"},\"marker\":{\"line\":{\"color\":\"white\",\"width\":0.5},\"pattern\":{\"fillmode\":\"overlay\",\"size\":10,\"solidity\":0.2}},\"type\":\"bar\"}],\"barpolar\":[{\"marker\":{\"line\":{\"color\":\"white\",\"width\":0.5},\"pattern\":{\"fillmode\":\"overlay\",\"size\":10,\"solidity\":0.2}},\"type\":\"barpolar\"}],\"carpet\":[{\"aaxis\":{\"endlinecolor\":\"rgb(36,36,36)\",\"gridcolor\":\"white\",\"linecolor\":\"white\",\"minorgridcolor\":\"white\",\"startlinecolor\":\"rgb(36,36,36)\"},\"baxis\":{\"endlinecolor\":\"rgb(36,36,36)\",\"gridcolor\":\"white\",\"linecolor\":\"white\",\"minorgridcolor\":\"white\",\"startlinecolor\":\"rgb(36,36,36)\"},\"type\":\"carpet\"}],\"choropleth\":[{\"colorbar\":{\"outlinewidth\":1,\"tickcolor\":\"rgb(36,36,36)\",\"ticks\":\"outside\"},\"type\":\"choropleth\"}],\"contour\":[{\"colorbar\":{\"outlinewidth\":1,\"tickcolor\":\"rgb(36,36,36)\",\"ticks\":\"outside\"},\"colorscale\":[[0.0,\"#440154\"],[0.1111111111111111,\"#482878\"],[0.2222222222222222,\"#3e4989\"],[0.3333333333333333,\"#31688e\"],[0.4444444444444444,\"#26828e\"],[0.5555555555555556,\"#1f9e89\"],[0.6666666666666666,\"#35b779\"],[0.7777777777777778,\"#6ece58\"],[0.8888888888888888,\"#b5de2b\"],[1.0,\"#fde725\"]],\"type\":\"contour\"}],\"contourcarpet\":[{\"colorbar\":{\"outlinewidth\":1,\"tickcolor\":\"rgb(36,36,36)\",\"ticks\":\"outside\"},\"type\":\"contourcarpet\"}],\"heatmap\":[{\"colorbar\":{\"outlinewidth\":1,\"tickcolor\":\"rgb(36,36,36)\",\"ticks\":\"outside\"},\"colorscale\":[[0.0,\"#440154\"],[0.1111111111111111,\"#482878\"],[0.2222222222222222,\"#3e4989\"],[0.3333333333333333,\"#31688e\"],[0.4444444444444444,\"#26828e\"],[0.5555555555555556,\"#1f9e89\"],[0.6666666666666666,\"#35b779\"],[0.7777777777777778,\"#6ece58\"],[0.8888888888888888,\"#b5de2b\"],[1.0,\"#fde725\"]],\"type\":\"heatmap\"}],\"heatmapgl\":[{\"colorbar\":{\"outlinewidth\":1,\"tickcolor\":\"rgb(36,36,36)\",\"ticks\":\"outside\"},\"colorscale\":[[0.0,\"#440154\"],[0.1111111111111111,\"#482878\"],[0.2222222222222222,\"#3e4989\"],[0.3333333333333333,\"#31688e\"],[0.4444444444444444,\"#26828e\"],[0.5555555555555556,\"#1f9e89\"],[0.6666666666666666,\"#35b779\"],[0.7777777777777778,\"#6ece58\"],[0.8888888888888888,\"#b5de2b\"],[1.0,\"#fde725\"]],\"type\":\"heatmapgl\"}],\"histogram\":[{\"marker\":{\"line\":{\"color\":\"white\",\"width\":0.6}},\"type\":\"histogram\"}],\"histogram2d\":[{\"colorbar\":{\"outlinewidth\":1,\"tickcolor\":\"rgb(36,36,36)\",\"ticks\":\"outside\"},\"colorscale\":[[0.0,\"#440154\"],[0.1111111111111111,\"#482878\"],[0.2222222222222222,\"#3e4989\"],[0.3333333333333333,\"#31688e\"],[0.4444444444444444,\"#26828e\"],[0.5555555555555556,\"#1f9e89\"],[0.6666666666666666,\"#35b779\"],[0.7777777777777778,\"#6ece58\"],[0.8888888888888888,\"#b5de2b\"],[1.0,\"#fde725\"]],\"type\":\"histogram2d\"}],\"histogram2dcontour\":[{\"colorbar\":{\"outlinewidth\":1,\"tickcolor\":\"rgb(36,36,36)\",\"ticks\":\"outside\"},\"colorscale\":[[0.0,\"#440154\"],[0.1111111111111111,\"#482878\"],[0.2222222222222222,\"#3e4989\"],[0.3333333333333333,\"#31688e\"],[0.4444444444444444,\"#26828e\"],[0.5555555555555556,\"#1f9e89\"],[0.6666666666666666,\"#35b779\"],[0.7777777777777778,\"#6ece58\"],[0.8888888888888888,\"#b5de2b\"],[1.0,\"#fde725\"]],\"type\":\"histogram2dcontour\"}],\"mesh3d\":[{\"colorbar\":{\"outlinewidth\":1,\"tickcolor\":\"rgb(36,36,36)\",\"ticks\":\"outside\"},\"type\":\"mesh3d\"}],\"parcoords\":[{\"line\":{\"colorbar\":{\"outlinewidth\":1,\"tickcolor\":\"rgb(36,36,36)\",\"ticks\":\"outside\"}},\"type\":\"parcoords\"}],\"pie\":[{\"automargin\":true,\"type\":\"pie\"}],\"scatter\":[{\"marker\":{\"colorbar\":{\"outlinewidth\":1,\"tickcolor\":\"rgb(36,36,36)\",\"ticks\":\"outside\"}},\"type\":\"scatter\"}],\"scatter3d\":[{\"line\":{\"colorbar\":{\"outlinewidth\":1,\"tickcolor\":\"rgb(36,36,36)\",\"ticks\":\"outside\"}},\"marker\":{\"colorbar\":{\"outlinewidth\":1,\"tickcolor\":\"rgb(36,36,36)\",\"ticks\":\"outside\"}},\"type\":\"scatter3d\"}],\"scattercarpet\":[{\"marker\":{\"colorbar\":{\"outlinewidth\":1,\"tickcolor\":\"rgb(36,36,36)\",\"ticks\":\"outside\"}},\"type\":\"scattercarpet\"}],\"scattergeo\":[{\"marker\":{\"colorbar\":{\"outlinewidth\":1,\"tickcolor\":\"rgb(36,36,36)\",\"ticks\":\"outside\"}},\"type\":\"scattergeo\"}],\"scattergl\":[{\"marker\":{\"colorbar\":{\"outlinewidth\":1,\"tickcolor\":\"rgb(36,36,36)\",\"ticks\":\"outside\"}},\"type\":\"scattergl\"}],\"scattermapbox\":[{\"marker\":{\"colorbar\":{\"outlinewidth\":1,\"tickcolor\":\"rgb(36,36,36)\",\"ticks\":\"outside\"}},\"type\":\"scattermapbox\"}],\"scatterpolar\":[{\"marker\":{\"colorbar\":{\"outlinewidth\":1,\"tickcolor\":\"rgb(36,36,36)\",\"ticks\":\"outside\"}},\"type\":\"scatterpolar\"}],\"scatterpolargl\":[{\"marker\":{\"colorbar\":{\"outlinewidth\":1,\"tickcolor\":\"rgb(36,36,36)\",\"ticks\":\"outside\"}},\"type\":\"scatterpolargl\"}],\"scatterternary\":[{\"marker\":{\"colorbar\":{\"outlinewidth\":1,\"tickcolor\":\"rgb(36,36,36)\",\"ticks\":\"outside\"}},\"type\":\"scatterternary\"}],\"surface\":[{\"colorbar\":{\"outlinewidth\":1,\"tickcolor\":\"rgb(36,36,36)\",\"ticks\":\"outside\"},\"colorscale\":[[0.0,\"#440154\"],[0.1111111111111111,\"#482878\"],[0.2222222222222222,\"#3e4989\"],[0.3333333333333333,\"#31688e\"],[0.4444444444444444,\"#26828e\"],[0.5555555555555556,\"#1f9e89\"],[0.6666666666666666,\"#35b779\"],[0.7777777777777778,\"#6ece58\"],[0.8888888888888888,\"#b5de2b\"],[1.0,\"#fde725\"]],\"type\":\"surface\"}],\"table\":[{\"cells\":{\"fill\":{\"color\":\"rgb(237,237,237)\"},\"line\":{\"color\":\"white\"}},\"header\":{\"fill\":{\"color\":\"rgb(217,217,217)\"},\"line\":{\"color\":\"white\"}},\"type\":\"table\"}]},\"layout\":{\"annotationdefaults\":{\"arrowhead\":0,\"arrowwidth\":1},\"autotypenumbers\":\"strict\",\"coloraxis\":{\"colorbar\":{\"outlinewidth\":1,\"tickcolor\":\"rgb(36,36,36)\",\"ticks\":\"outside\"}},\"colorscale\":{\"diverging\":[[0.0,\"rgb(103,0,31)\"],[0.1,\"rgb(178,24,43)\"],[0.2,\"rgb(214,96,77)\"],[0.3,\"rgb(244,165,130)\"],[0.4,\"rgb(253,219,199)\"],[0.5,\"rgb(247,247,247)\"],[0.6,\"rgb(209,229,240)\"],[0.7,\"rgb(146,197,222)\"],[0.8,\"rgb(67,147,195)\"],[0.9,\"rgb(33,102,172)\"],[1.0,\"rgb(5,48,97)\"]],\"sequential\":[[0.0,\"#440154\"],[0.1111111111111111,\"#482878\"],[0.2222222222222222,\"#3e4989\"],[0.3333333333333333,\"#31688e\"],[0.4444444444444444,\"#26828e\"],[0.5555555555555556,\"#1f9e89\"],[0.6666666666666666,\"#35b779\"],[0.7777777777777778,\"#6ece58\"],[0.8888888888888888,\"#b5de2b\"],[1.0,\"#fde725\"]],\"sequentialminus\":[[0.0,\"#440154\"],[0.1111111111111111,\"#482878\"],[0.2222222222222222,\"#3e4989\"],[0.3333333333333333,\"#31688e\"],[0.4444444444444444,\"#26828e\"],[0.5555555555555556,\"#1f9e89\"],[0.6666666666666666,\"#35b779\"],[0.7777777777777778,\"#6ece58\"],[0.8888888888888888,\"#b5de2b\"],[1.0,\"#fde725\"]]},\"colorway\":[\"#1F77B4\",\"#FF7F0E\",\"#2CA02C\",\"#D62728\",\"#9467BD\",\"#8C564B\",\"#E377C2\",\"#7F7F7F\",\"#BCBD22\",\"#17BECF\"],\"font\":{\"color\":\"rgb(36,36,36)\"},\"geo\":{\"bgcolor\":\"white\",\"lakecolor\":\"white\",\"landcolor\":\"white\",\"showlakes\":true,\"showland\":true,\"subunitcolor\":\"white\"},\"hoverlabel\":{\"align\":\"left\"},\"hovermode\":\"closest\",\"mapbox\":{\"style\":\"light\"},\"paper_bgcolor\":\"white\",\"plot_bgcolor\":\"white\",\"polar\":{\"angularaxis\":{\"gridcolor\":\"rgb(232,232,232)\",\"linecolor\":\"rgb(36,36,36)\",\"showgrid\":false,\"showline\":true,\"ticks\":\"outside\"},\"bgcolor\":\"white\",\"radialaxis\":{\"gridcolor\":\"rgb(232,232,232)\",\"linecolor\":\"rgb(36,36,36)\",\"showgrid\":false,\"showline\":true,\"ticks\":\"outside\"}},\"scene\":{\"xaxis\":{\"backgroundcolor\":\"white\",\"gridcolor\":\"rgb(232,232,232)\",\"gridwidth\":2,\"linecolor\":\"rgb(36,36,36)\",\"showbackground\":true,\"showgrid\":false,\"showline\":true,\"ticks\":\"outside\",\"zeroline\":false,\"zerolinecolor\":\"rgb(36,36,36)\"},\"yaxis\":{\"backgroundcolor\":\"white\",\"gridcolor\":\"rgb(232,232,232)\",\"gridwidth\":2,\"linecolor\":\"rgb(36,36,36)\",\"showbackground\":true,\"showgrid\":false,\"showline\":true,\"ticks\":\"outside\",\"zeroline\":false,\"zerolinecolor\":\"rgb(36,36,36)\"},\"zaxis\":{\"backgroundcolor\":\"white\",\"gridcolor\":\"rgb(232,232,232)\",\"gridwidth\":2,\"linecolor\":\"rgb(36,36,36)\",\"showbackground\":true,\"showgrid\":false,\"showline\":true,\"ticks\":\"outside\",\"zeroline\":false,\"zerolinecolor\":\"rgb(36,36,36)\"}},\"shapedefaults\":{\"fillcolor\":\"black\",\"line\":{\"width\":0},\"opacity\":0.3},\"ternary\":{\"aaxis\":{\"gridcolor\":\"rgb(232,232,232)\",\"linecolor\":\"rgb(36,36,36)\",\"showgrid\":false,\"showline\":true,\"ticks\":\"outside\"},\"baxis\":{\"gridcolor\":\"rgb(232,232,232)\",\"linecolor\":\"rgb(36,36,36)\",\"showgrid\":false,\"showline\":true,\"ticks\":\"outside\"},\"bgcolor\":\"white\",\"caxis\":{\"gridcolor\":\"rgb(232,232,232)\",\"linecolor\":\"rgb(36,36,36)\",\"showgrid\":false,\"showline\":true,\"ticks\":\"outside\"}},\"title\":{\"x\":0.05},\"xaxis\":{\"automargin\":true,\"gridcolor\":\"rgb(232,232,232)\",\"linecolor\":\"rgb(36,36,36)\",\"showgrid\":false,\"showline\":true,\"ticks\":\"outside\",\"title\":{\"standoff\":15},\"zeroline\":false,\"zerolinecolor\":\"rgb(36,36,36)\"},\"yaxis\":{\"automargin\":true,\"gridcolor\":\"rgb(232,232,232)\",\"linecolor\":\"rgb(36,36,36)\",\"showgrid\":false,\"showline\":true,\"ticks\":\"outside\",\"title\":{\"standoff\":15},\"zeroline\":false,\"zerolinecolor\":\"rgb(36,36,36)\"}}},\"title\":{\"text\":\"<b>S-S model </b>, N=16, J2 =1, J1 =0.9 , η=0.01, α=8, samples=3000\"},\"xaxis\":{\"mirror\":true,\"showline\":true,\"title\":{\"text\":\"Iteration\"}},\"yaxis\":{\"mirror\":true,\"showline\":true,\"title\":{\"text\":\"Energy\"}}},                        {\"responsive\": true}                    ).then(function(){\n",
       "                            \n",
       "var gd = document.getElementById('af64fe35-24d7-44fe-9d7f-7c40afed86cc');\n",
       "var x = new MutationObserver(function (mutations, observer) {{\n",
       "        var display = window.getComputedStyle(gd).display;\n",
       "        if (!display || display === 'none') {{\n",
       "            console.log([gd, 'removed!']);\n",
       "            Plotly.purge(gd);\n",
       "            observer.disconnect();\n",
       "        }}\n",
       "}});\n",
       "\n",
       "// Listen for the removal of the full notebook cells\n",
       "var notebookContainer = gd.closest('#notebook-container');\n",
       "if (notebookContainer) {{\n",
       "    x.observe(notebookContainer, {childList: true});\n",
       "}}\n",
       "\n",
       "// Listen for the clearing of the current output cell\n",
       "var outputEl = gd.closest('.output');\n",
       "if (outputEl) {{\n",
       "    x.observe(outputEl, {childList: true});\n",
       "}}\n",
       "\n",
       "                        })                };                });            </script>        </div>"
      ]
     },
     "metadata": {},
     "output_type": "display_data"
    }
   ],
   "source": [
    "# import the data from log file\n",
    "OUT_NAME_suffixless=OUT_NAME\n",
    "data = []\n",
    "names = [\"normal\",\"MSR\"]\n",
    "for i in range(no_of_runs):\n",
    "    data.append(json.load(open(OUT_NAME_suffixless+str(i)+\".log\")))\n",
    "if type(data[0][\"Energy\"][\"Mean\"]) == dict: #DTYPE in (np.complex128, np.complex64):#, np.float64):# and False:\n",
    "    energy_convergence = [data[i][\"Energy\"][\"Mean\"][\"real\"] for i in range(no_of_runs)]\n",
    "    # symmetry = [data[i][\"symmetry\"][\"Mean\"][\"real\"] for i in range(no_of_runs-run_only_2)]\n",
    "else:\n",
    "    energy_convergence = [data[i][\"Energy\"][\"Mean\"] for i in range(no_of_runs)]\n",
    "    # symmetry = [data[i][\"symmetry\"][\"Mean\"] for i in range(no_of_runs-run_only_2)]\n",
    "for i in range(no_of_runs):\n",
    "    figure.add_trace(go.Scatter(\n",
    "        x=data[i][\"Energy\"][\"iters\"], y=energy_convergence[i],\n",
    "        name=names[i],# mode='markers'\n",
    "    ))\n",
    "    # figure.add_trace(go.Scatter(\n",
    "    #     x=data[i][\"Energy\"][\"iters\"], y=symmetry[i],\n",
    "    #     name=names[i]+\"_swap\"\n",
    "    # ))\n",
    "\n",
    "figure.update_layout(xaxis_title=\"Iteration\",yaxis_title=\"Energy\")\n",
    "figure.show()"
   ]
  },
  {
   "cell_type": "markdown",
   "metadata": {},
   "source": [
    "## Assessment of the other simulation results"
   ]
  },
  {
   "cell_type": "code",
   "execution_count": 95,
   "metadata": {},
   "outputs": [
    {
     "name": "stdout",
     "output_type": "stream",
     "text": [
      "[253, 333]\n"
     ]
    }
   ],
   "source": [
    "# Calculation of how long it took to reach 99.5% of exact energy. The first value under 0.5% deviation counts as a converged state.\n",
    "no_of_runs = 2\n",
    "threshold_energy = 0.995*exact_ground_energy\n",
    "data = []\n",
    "for i in range(no_of_runs):\n",
    "    data.append(json.load(open(OUT_NAME+str(i)+\".log\")))\n",
    "if type(data[0][\"Energy\"][\"Mean\"]) == dict:\n",
    "    energy_convergence = [data[i][\"Energy\"][\"Mean\"][\"real\"] for i in range(no_of_runs)]\n",
    "else:\n",
    "    energy_convergence = [data[i][\"Energy\"][\"Mean\"] for i in range(no_of_runs)]\n",
    "steps_until_convergence = [next((i for i,v in enumerate(energy_convergence[j]) if v < threshold_energy), -1) for j in range(no_of_runs)]\n",
    "print(steps_until_convergence)"
   ]
  },
  {
   "cell_type": "code",
   "execution_count": 96,
   "metadata": {},
   "outputs": [
    {
     "name": "stdout",
     "output_type": "stream",
     "text": [
      "Trained RBM without MSR:\n",
      "m_d^2 = -0.2389+0.0002j ± 0.0022 [σ²=0.0160]\n",
      "m_p(MSR) = -0.034-0.000j ± 0.018 [σ²=0.840]\n",
      "m_s^2 = 0.9800-0.0007j ± 0.0062 [σ²=0.1058]\n",
      "m_s^2(MSR) = 0.3255+0.0000j ± 0.0057 [σ²=0.1032]\n",
      "Trained RBM with MSR:\n",
      "m_d^2 = -0.2389-0.0005j ± 0.0021 [σ²=0.0196]\n",
      "m_p(MSR) = 0.009-0.003j ± 0.023 [σ²=1.942]\n",
      "m_s^2 = 0.3144-0.0001j ± 0.0062 [σ²=0.0991]\n",
      "m_s^2(MSR) = 0.9813+0.0019j ± 0.0054 [σ²=0.1343]\n"
     ]
    }
   ],
   "source": [
    "# Evaluation of order parameters.\n",
    "from lattice_and_ops import Operators, Lattice\n",
    "ops = Operators(lattice,hilbert,ho.mszsz,ho.exchange)\n",
    "for i,gs in enumerate([gs_1,gs_2][run_only_2:run_only_2+no_of_runs]):\n",
    "    print(\"Trained RBM with MSR:\" if (i+run_only_2) else \"Trained RBM without MSR:\")\n",
    "    print(\"m_d^2 =\", gs.estimate(ops.m_dimer_op))\n",
    "    print(\"m_p(MSR) =\", gs.estimate(ops.m_plaquette_op_MSR))\n",
    "    print(\"m_s^2 =\", gs.estimate(ops.m_s2_op))\n",
    "    print(\"m_s^2(MSR) =\", gs.estimate(ops.m_s2_op_MSR))"
   ]
  },
  {
   "cell_type": "markdown",
   "metadata": {},
   "source": [
    "## Standardised logging"
   ]
  },
  {
   "cell_type": "code",
   "execution_count": 97,
   "metadata": {},
   "outputs": [
    {
     "name": "stdout",
     "output_type": "stream",
     "text": [
      " 0.900  -34.04017  1.81736   -34.04017  1.81736   -0.0460  1.9276  -0.2389  0.0160   0.9800  0.1058   -0.0343  0.8399  -0.2389  0.0160   0.3255  0.1032   -34.08191  3000   500 253, 333\n"
     ]
    }
   ],
   "source": [
    "from lattice_and_ops import log_results\n",
    "log_results(JEXCH1,gs_1,gs_1,ops,SAMPLES,NUM_ITER,exact_ground_energy,steps_until_convergence,filename=\"temp.txt\")"
   ]
  },
  {
   "cell_type": "markdown",
   "metadata": {},
   "source": [
    "### Print final results"
   ]
  },
  {
   "cell_type": "code",
   "execution_count": 98,
   "metadata": {},
   "outputs": [
    {
     "ename": "TypeError",
     "evalue": "log_results() missing 1 required positional argument: 'steps_until_convergence'",
     "output_type": "error",
     "traceback": [
      "\u001b[0;31m---------------------------------------------------------------------------\u001b[0m",
      "\u001b[0;31mTypeError\u001b[0m                                 Traceback (most recent call last)",
      "\u001b[0;32m/tmp/ipykernel_271/2261589024.py\u001b[0m in \u001b[0;36m<module>\u001b[0;34m\u001b[0m\n\u001b[1;32m      1\u001b[0m \u001b[0;32mfrom\u001b[0m \u001b[0mlattice_and_ops\u001b[0m \u001b[0;32mimport\u001b[0m \u001b[0mlog_results\u001b[0m\u001b[0;34m\u001b[0m\u001b[0;34m\u001b[0m\u001b[0m\n\u001b[0;32m----> 2\u001b[0;31m \u001b[0mlog_results\u001b[0m\u001b[0;34m(\u001b[0m\u001b[0mJEXCH1\u001b[0m\u001b[0;34m,\u001b[0m\u001b[0mgs_1\u001b[0m\u001b[0;34m,\u001b[0m\u001b[0mgs_2\u001b[0m\u001b[0;34m,\u001b[0m\u001b[0mops\u001b[0m\u001b[0;34m,\u001b[0m\u001b[0mSAMPLES\u001b[0m\u001b[0;34m,\u001b[0m\u001b[0mNUM_ITER\u001b[0m\u001b[0;34m,\u001b[0m\u001b[0msteps_until_convergence\u001b[0m\u001b[0;34m)\u001b[0m\u001b[0;34m\u001b[0m\u001b[0;34m\u001b[0m\u001b[0m\n\u001b[0m",
      "\u001b[0;31mTypeError\u001b[0m: log_results() missing 1 required positional argument: 'steps_until_convergence'"
     ]
    }
   ],
   "source": [
    "from lattice_and_ops import log_results\n",
    "log_results(JEXCH1,gs_1,gs_2,ops,SAMPLES,NUM_ITER,steps_until_convergence)"
   ]
  },
  {
   "cell_type": "code",
   "execution_count": null,
   "metadata": {},
   "outputs": [
    {
     "name": "stdout",
     "output_type": "stream",
     "text": [
      " 0.400  -15.74737  0.46486   0.4879  0.0093   0.0233  0.4016   0.1384  0.0085   1000   400\n"
     ]
    }
   ],
   "source": [
    "print(\"{:6.3f} {:10.5f} {:8.5f}  {:7.4f} {:7.4f}  {:7.4f} {:7.4f}  {:7.4f} {:7.4f}  {:5.0f} {:5.0f}\".format(JEXCH1, \n",
    "    gs_1.energy.mean.real,                          gs_1.energy.variance,\n",
    "    gs_1.estimate(ops.m_dimer_op).mean.real,        gs_1.estimate(ops.m_dimer_op).variance,\n",
    "    gs_1.estimate(ops.m_plaquette_op).mean.real,    gs_1.estimate(ops.m_plaquette_op).variance,\n",
    "    gs_1.estimate(ops.m_s2_op).mean.real,           gs_1.estimate(ops.m_s2_op).variance, \n",
    "    SAMPLES, NUM_ITER, steps_until_convergence[0], sep='    '))"
   ]
  },
  {
   "cell_type": "code",
   "execution_count": null,
   "metadata": {},
   "outputs": [
    {
     "name": "stdout",
     "output_type": "stream",
     "text": [
      "asd\n"
     ]
    }
   ],
   "source": [
    "print(\"asd\",file=None)"
   ]
  },
  {
   "cell_type": "code",
   "execution_count": null,
   "metadata": {},
   "outputs": [
    {
     "name": "stdout",
     "output_type": "stream",
     "text": [
      "  0.46486\n"
     ]
    }
   ],
   "source": [
    "print(\"{:9.5f}\".format(gs_1.energy.variance))"
   ]
  },
  {
   "cell_type": "code",
   "execution_count": null,
   "metadata": {},
   "outputs": [
    {
     "data": {
      "text/plain": [
       "{'Mean': (-15.747368841964612-0.003949807027622352j),\n",
       " 'Variance': 0.46486127291880336,\n",
       " 'Sigma': 0.02484698569889124,\n",
       " 'R_hat': nan,\n",
       " 'TauCorr': 0.16403971925269567}"
      ]
     },
     "execution_count": 211,
     "metadata": {},
     "output_type": "execute_result"
    }
   ],
   "source": [
    "gs_1.energy.to_dict()"
   ]
  }
 ],
 "metadata": {
  "interpreter": {
   "hash": "31f2aee4e71d21fbe5cf8b01ff0e069b9275f58929596ceb00d14d90e3e16cd6"
  },
  "kernelspec": {
   "display_name": "Python 3.8.10 64-bit",
   "name": "python3"
  },
  "language_info": {
   "codemirror_mode": {
    "name": "ipython",
    "version": 3
   },
   "file_extension": ".py",
   "mimetype": "text/x-python",
   "name": "python",
   "nbconvert_exporter": "python",
   "pygments_lexer": "ipython3",
   "version": "3.8.10"
  },
  "metadata": {
   "interpreter": {
    "hash": "916dbcbb3f70747c44a77c7bcd40155683ae19c65e1c03b4aa3499c5328201f1"
   }
  }
 },
 "nbformat": 4,
 "nbformat_minor": 4
}
