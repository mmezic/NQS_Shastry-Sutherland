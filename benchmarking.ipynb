{
 "cells": [
  {
   "cell_type": "markdown",
   "metadata": {},
   "source": [
    "# Exploring Shastry-Sutterland model with RBM variational wave function and other models"
   ]
  },
  {
   "cell_type": "code",
   "execution_count": 102,
   "metadata": {},
   "outputs": [
    {
     "name": "stdout",
     "output_type": "stream",
     "text": [
      "Python version: 3.8.10 (default, Nov 26 2021, 20:14:08) \n",
      "[GCC 9.3.0]\n",
      "NetKet version: 3.3.2.post1\n",
      "NumPy version: 1.20.3\n"
     ]
    }
   ],
   "source": [
    "import netket as nk\n",
    "import numpy as np\n",
    "import time\n",
    "import json\n",
    "import plotly.graph_objects as go\n",
    "import matplotlib.pyplot as plt\n",
    "import jax\n",
    "import flax\n",
    "import optax\n",
    "from sys import version as pyvers\n",
    "\n",
    "print(\"Python version: {}\".format(pyvers))\n",
    "print(\"NetKet version: {}\".format(nk.__version__))\n",
    "print(\"NumPy version: {}\".format(np.__version__))"
   ]
  },
  {
   "cell_type": "markdown",
   "metadata": {},
   "source": [
    "### Setup relevant parameters and settings of the simulation "
   ]
  },
  {
   "cell_type": "code",
   "execution_count": 103,
   "metadata": {},
   "outputs": [],
   "source": [
    "\"\"\"lattice\"\"\"\n",
    "SITES    = 16            # 4, 8, 16, 20 ... number of vertices in a tile determines the tile shape \n",
    "JEXCH1   = .2            # nn interaction\n",
    "JEXCH2   = 1             # nnn interaction\n",
    "H_Z      = 1.3             # magnetic field\n",
    "TOTAL_SZ = None          # 0, None ... restriction of Hilbert space\n",
    "#USE_MSR = True          # Should we use a Marshall sign rule? In this notebook, we use both.\n",
    "\n",
    "\"\"\"machine learning\"\"\"\n",
    "MACHINE  = \"myRBM\"         # RBM, RBMSymm, RBMSymm_transl, RBMModPhase, GCNN, Jastrow, myRBM\n",
    "DTYPE    = np.complex128 # data-type of weights in neural network\n",
    "ALPHA    = 8            # N_hidden / N_visible\n",
    "ETA      = .01          # learning rate (0.01 usually works)\n",
    "SAMPLER  = 'exact'       # 'local' = MetropolisLocal, 'exchange' = MetropolisExchange\n",
    "SAMPLES  = 1000          # number of Monte Carlo samples\n",
    "NUM_ITER = 400           # number of convergence iterations\n",
    "N_LAYERS = 3 #2             # number of layers (in case of G-CNN)\n",
    "FEATURES = (8,4,4) #16 #(8,4)         # dimensions of layers (in case of G-CNN)\n",
    "\n",
    "OUT_NAME = \"SS_\"+str(SITES)+\"j1=\"+str(JEXCH1) # output file name"
   ]
  },
  {
   "cell_type": "markdown",
   "metadata": {},
   "source": [
    "### Lattice definition\n",
    "Basic structure of tiled lattices is implemented in `lattice_and_ops.py` file. Class `Lattice` implements relative positional functions, \n",
    "- e.g. *`rt(node)` returns the index of the right neighbour of a site with index `node`*\n",
    "\n",
    "The `for` loop constructs full Shastry-Sutherland lattice with PBC using these auxiliary positional functions."
   ]
  },
  {
   "cell_type": "code",
   "execution_count": 104,
   "metadata": {},
   "outputs": [],
   "source": [
    "from lattice_and_ops import Lattice\n",
    "lattice = Lattice(SITES)\n",
    "\n",
    "# Construction of custom graph according to tiled lattice structure defined in the Lattice class.\n",
    "edge_colors = []\n",
    "for node in range(SITES):\n",
    "    edge_colors.append([node,lattice.rt(node), 1])  # horizontal connections\n",
    "    edge_colors.append([node,lattice.bot(node), 1]) # vertical connections\n",
    "    row, column = lattice.position(node)\n",
    "    if column%2 == 0:\n",
    "        if row%2 == 0:\n",
    "            edge_colors.append([node,lattice.lrt(node),2]) # diagonal bond\n",
    "        else:\n",
    "            edge_colors.append([node,lattice.llft(node),2]) # diagonal bond\n",
    "\n",
    "g = nk.graph.Graph(edges=edge_colors) #,n_nodes=3)\n",
    "N = g.n_nodes\n",
    "\n",
    "hilbert = nk.hilbert.Spin(s=.5, N=g.n_nodes, total_sz=TOTAL_SZ)"
   ]
  },
  {
   "cell_type": "code",
   "execution_count": 105,
   "metadata": {},
   "outputs": [
    {
     "data": {
      "text/plain": [
       "'alternative (simple) toy lattices'"
      ]
     },
     "execution_count": 105,
     "metadata": {},
     "output_type": "execute_result"
    }
   ],
   "source": [
    "\"\"\"alternative (simple) toy lattices\"\"\"\n",
    "# # two dimers\n",
    "# edge_colors.append([0,1,1])\n",
    "# edge_colors.append([2,3,1])\n",
    "\n",
    "# # SS 2x2 lattice:\n",
    "# edge_colors.append([0,1,1])\n",
    "# edge_colors.append([2,3,1])\n",
    "# edge_colors.append([1,2,1])\n",
    "# edge_colors.append([0,3,1])\n",
    "# edge_colors.append([0,2,2])\n",
    "# edge_colors.append([1,3,2])\n",
    "\n",
    "# # 3-chain:\n",
    "# edge_colors.append([0,1,1])\n",
    "# edge_colors.append([1,2,1])\n",
    "# edge_colors.append([2,0,1])"
   ]
  },
  {
   "cell_type": "markdown",
   "metadata": {},
   "source": [
    "### Characters of the symmetries\n",
    "In case of G-CNN, we need to specify the characters of the symmetry transformations.\n",
    "- DS phase anti-symmetric wrt permutations with negative sign and symmetric wer permutaions with postive sign\n",
    "- AF phase is always symmetric for all permutations  "
   ]
  },
  {
   "cell_type": "code",
   "execution_count": 106,
   "metadata": {},
   "outputs": [
    {
     "name": "stdout",
     "output_type": "stream",
     "text": [
      "There are 64 full symmetries.\n"
     ]
    }
   ],
   "source": [
    "\n",
    "print(\"There are\", len(g.automorphisms()), \"full symmetries.\")\n",
    "# deciding point between DS and AF phase is set to 0.5\n",
    "if JEXCH1 < 0.5:\n",
    "    # DS phase is partly anti-symmetric\n",
    "    characters = []\n",
    "    from lattice_and_ops import permutation_sign\n",
    "    for perm in g.automorphisms():\n",
    "        # print(perm, \"with sign\", permutation_sign(np.asarray(perm)))\n",
    "        characters.append(permutation_sign(np.asarray(perm)))\n",
    "    characters_dimer = np.asarray(characters,dtype=complex)\n",
    "    characters_dimer_msr = characters_dimer\n",
    "else:\n",
    "    # AF phase if fully symmetric\n",
    "    characters_dimer = np.ones((len(g.automorphisms()),), dtype=complex)\n",
    "    characters_dimer_msr = characters_dimer"
   ]
  },
  {
   "cell_type": "markdown",
   "metadata": {},
   "source": [
    "### Translations\n",
    "\n",
    "If we want to include only translations, we have to exclude some symmetries from `g.automorphisms()`.\n",
    "\n",
    "\n",
    "⚠️ TODO ⚠️ <span style=\"color:red\"> This part is not fully automated yet. Translations are currently picked by hand from the group of all automorphisms. </span>"
   ]
  },
  {
   "cell_type": "code",
   "execution_count": 107,
   "metadata": {},
   "outputs": [
    {
     "name": "stdout",
     "output_type": "stream",
     "text": [
      "Out of 64 permutations, 4 translations were picked.\n"
     ]
    }
   ],
   "source": [
    "if MACHINE == \"RBMSymm_transl\" and N != 4:\n",
    "    raise NotImplementedError(\"Extraction of translations from the group of automorphisms is not implemented yet.\")\n",
    "translations = []\n",
    "for perm in g.automorphisms():\n",
    "    aperm = np.asarray(perm)\n",
    "    if (aperm[0],aperm[1]) in ((0,1),(1,0),(2,3),(3,2)): # N = 4\n",
    "    # if (aperm[0],aperm[1],aperm[3]) in ((0,1,3),(2,3,1),(8,9,11),(10,11,9)): # N = 16\n",
    "    # if (aperm[0],aperm[1],aperm[2],aperm[3]) in ((4,7,6,5),): # N = 8\n",
    "    # if (aperm[2],aperm[0]) in ((2,0),(3,0),(0,1),(1,2)):#,(2,3,1)): # N = 16, two dimers with just translation\n",
    "    # if (aperm[0],aperm[1],aperm[3]) in ((0,1,3),(3,2,0),(2,3,1),(1,0,2)): # N = 16, two dimers plus second translation option\n",
    "        translations.append(nk.utils.group._permutation_group.Permutation(aperm))\n",
    "translation_group = nk.utils.group._permutation_group.PermutationGroup(translations,degree=SITES)\n",
    "print(\"Out of\", len(g.automorphisms()), \"permutations,\",len(translation_group), \"translations were picked.\")"
   ]
  },
  {
   "cell_type": "code",
   "execution_count": 108,
   "metadata": {},
   "outputs": [
    {
     "data": {
      "text/plain": [
       "(['1xPermutation([0, 1, 2, 3, 4, 5, 6, 7, 8, 9, 10, 11, 12, 13, 14, 15])',\n",
       "  '4xPermutation([0, 1, 13, 12, 4, 5, 9, 8, 7, 6, 10, 11, 3, 2, 14, 15])',\n",
       "  '4xPermutation([0, 4, 8, 12, 1, 5, 9, 13, 2, 6, 10, 14, 3, 7, 11, 15])',\n",
       "  '8xPermutation([1, 2, 3, 0, 13, 14, 15, 12, 9, 10, 11, 8, 5, 6, 7, 4])',\n",
       "  '8xPermutation([1, 2, 6, 5, 13, 14, 10, 9, 12, 15, 11, 8, 0, 3, 7, 4])',\n",
       "  '4xPermutation([2, 3, 0, 1, 6, 7, 4, 5, 10, 11, 8, 9, 14, 15, 12, 13])',\n",
       "  '8xPermutation([2, 3, 15, 14, 6, 7, 11, 10, 5, 4, 8, 9, 1, 0, 12, 13])',\n",
       "  '4xPermutation([2, 6, 10, 14, 3, 7, 11, 15, 0, 4, 8, 12, 1, 5, 9, 13])',\n",
       "  '8xPermutation([3, 0, 1, 2, 15, 12, 13, 14, 11, 8, 9, 10, 7, 4, 5, 6])',\n",
       "  '8xPermutation([3, 0, 4, 7, 15, 12, 8, 11, 14, 13, 9, 10, 2, 1, 5, 6])',\n",
       "  '2xPermutation([5, 4, 7, 6, 1, 0, 3, 2, 13, 12, 15, 14, 9, 8, 11, 10])',\n",
       "  '4xPermutation([5, 4, 8, 9, 1, 0, 12, 13, 2, 3, 15, 14, 6, 7, 11, 10])',\n",
       "  '1xPermutation([10, 11, 8, 9, 14, 15, 12, 13, 2, 3, 0, 1, 6, 7, 4, 5])'],\n",
       " array([[ 1.+0.j,  1.+0.j,  1.+0.j,  1.+0.j,  1.+0.j,  1.+0.j,  1.+0.j,\n",
       "          1.+0.j,  1.+0.j,  1.+0.j,  1.+0.j,  1.+0.j,  1.+0.j],\n",
       "        [ 1.+0.j,  1.+0.j,  1.+0.j,  0.+1.j,  0.+1.j, -1.+0.j, -1.+0.j,\n",
       "         -1.+0.j,  0.-1.j,  0.-1.j,  1.+0.j,  1.+0.j,  1.+0.j],\n",
       "        [ 1.+0.j,  1.+0.j,  1.+0.j,  0.-1.j,  0.-1.j, -1.+0.j, -1.+0.j,\n",
       "         -1.+0.j,  0.+1.j,  0.+1.j,  1.+0.j,  1.+0.j,  1.+0.j],\n",
       "        [ 1.+0.j,  1.+0.j,  1.+0.j, -1.+0.j, -1.+0.j,  1.+0.j,  1.+0.j,\n",
       "          1.+0.j, -1.+0.j, -1.+0.j,  1.+0.j,  1.+0.j,  1.+0.j],\n",
       "        [ 1.+0.j, -1.+0.j,  1.+0.j,  1.+0.j, -1.+0.j,  1.+0.j, -1.+0.j,\n",
       "          1.+0.j,  1.+0.j, -1.+0.j,  1.+0.j, -1.+0.j,  1.+0.j],\n",
       "        [ 1.+0.j, -1.+0.j,  1.+0.j,  0.+1.j,  0.-1.j, -1.+0.j,  1.+0.j,\n",
       "         -1.+0.j,  0.-1.j,  0.+1.j,  1.+0.j, -1.+0.j,  1.+0.j],\n",
       "        [ 1.+0.j, -1.+0.j,  1.+0.j,  0.-1.j,  0.+1.j, -1.+0.j,  1.+0.j,\n",
       "         -1.+0.j,  0.+1.j,  0.-1.j,  1.+0.j, -1.+0.j,  1.+0.j],\n",
       "        [ 1.+0.j, -1.+0.j,  1.+0.j, -1.+0.j,  1.+0.j,  1.+0.j, -1.+0.j,\n",
       "          1.+0.j, -1.+0.j,  1.+0.j,  1.+0.j, -1.+0.j,  1.+0.j],\n",
       "        [ 2.+0.j,  0.+0.j, -2.+0.j,  0.+0.j,  0.+0.j,  2.+0.j,  0.+0.j,\n",
       "         -2.+0.j,  0.+0.j,  0.+0.j,  2.+0.j,  0.+0.j,  2.+0.j],\n",
       "        [ 2.+0.j,  0.+0.j, -2.+0.j,  0.+0.j,  0.+0.j, -2.+0.j,  0.+0.j,\n",
       "          2.+0.j,  0.+0.j,  0.+0.j,  2.+0.j,  0.+0.j,  2.+0.j],\n",
       "        [ 4.+0.j,  2.+0.j,  0.+0.j,  0.+0.j,  0.+0.j,  0.+0.j,  0.+0.j,\n",
       "          0.+0.j,  0.+0.j,  0.+0.j,  0.+0.j, -2.+0.j, -4.+0.j],\n",
       "        [ 4.+0.j,  0.+0.j,  0.+0.j,  0.+0.j,  0.+0.j,  0.+0.j,  0.+0.j,\n",
       "          0.+0.j,  0.+0.j,  0.+0.j, -4.+0.j,  0.+0.j,  4.+0.j],\n",
       "        [ 4.+0.j, -2.+0.j,  0.+0.j,  0.+0.j,  0.+0.j,  0.+0.j,  0.+0.j,\n",
       "          0.+0.j,  0.+0.j,  0.+0.j,  0.+0.j,  2.+0.j, -4.+0.j]]))"
      ]
     },
     "execution_count": 108,
     "metadata": {},
     "output_type": "execute_result"
    }
   ],
   "source": [
    "g.automorphisms().character_table_readable()"
   ]
  },
  {
   "cell_type": "markdown",
   "metadata": {},
   "source": [
    "## Hamoltonian definition\n",
    "$$ H = J_{1} \\sum\\limits_{\\langle i,j \\rangle}^{L} \\vec{\\sigma}_{i} \\cdot \\vec{\\sigma}_{j} + J_{2} \\sum\\limits_{\\langle\\langle i,j \\rangle\\rangle_{SS}}^{L}  \\vec{\\sigma}_{i} \\cdot \\vec{\\sigma}_{j} + 2h\\sum\\limits_{i} \\sigma^z_{i}\\,. $$\n",
    "\n",
    "Axiliary constant operators used to define hamiltonian are loaded from the external file, they are pre-defined in the `HamOps` class."
   ]
  },
  {
   "cell_type": "code",
   "execution_count": 109,
   "metadata": {},
   "outputs": [],
   "source": [
    "from lattice_and_ops import HamOps\n",
    "ho = HamOps()\n",
    "# H_Z = .5\n",
    "ha_1 = nk.operator.GraphOperator(hilbert, graph=g, bond_ops=ho.bond_operator(JEXCH1,JEXCH2, h_z=H_Z, use_MSR=False), bond_ops_colors=ho.bond_color)\n",
    "ha_2 = nk.operator.GraphOperator(hilbert, graph=g, bond_ops=ho.bond_operator(JEXCH1,JEXCH2, h_z=H_Z, use_MSR=True), bond_ops_colors=ho.bond_color)\n"
   ]
  },
  {
   "cell_type": "code",
   "execution_count": 110,
   "metadata": {},
   "outputs": [
    {
     "name": "stdout",
     "output_type": "stream",
     "text": [
      "  (0, 0)\t56.00000000000004\n"
     ]
    }
   ],
   "source": [
    "print(ha_2.to_sparse()[0])\n",
    "# print(ha_2.to_sparse())"
   ]
  },
  {
   "cell_type": "markdown",
   "metadata": {},
   "source": [
    "### Magnetization operator definition\n",
    "$$ \\hat{m}_z := \\sum\\limits_i \\sigma_i^z $$"
   ]
  },
  {
   "cell_type": "code",
   "execution_count": 111,
   "metadata": {},
   "outputs": [],
   "source": [
    "m_z = sum(nk.operator.spin.sigmaz(hilbert, i) for i in range(hilbert.size))"
   ]
  },
  {
   "cell_type": "code",
   "execution_count": 112,
   "metadata": {},
   "outputs": [],
   "source": [
    "if False: # exact diagonalization scan\n",
    "    print(\"#N =\", N)\n",
    "    print(\"# J1     J2      H_Z            m_z            ground          1.excited          2.excited\")\n",
    "    for H_Z in np.arange(1.37,1.45,step=0.01):\n",
    "        ha = nk.operator.GraphOperator(hilbert, graph=g, bond_ops=ho.bond_operator(JEXCH1,JEXCH2, h_z=H_Z, use_MSR=False), bond_ops_colors=ho.bond_color)\n",
    "        start = time.time()\n",
    "        evals, eigvects = nk.exact.lanczos_ed(ha, k=3, compute_eigenvectors=True)\n",
    "        ground_state = eigvects.T[0]\n",
    "        end = time.time()\n",
    "        magnetization_z = ground_state.transpose()@(m_z@ground_state)\n",
    "        # print(\"ED took\", (start-end)/60, \"min.\")\n",
    "        # print(np.round(np.array(ground_state),5))\n",
    "        # print(ha.to_dense())\n",
    "        print(\"%.3f   %.3f  %2.10f   %2.10f   %2.10f   %14.10f   %14.10f\" % (JEXCH1, JEXCH2, H_Z, magnetization_z, evals[0], evals[1], evals[2]))"
   ]
  },
  {
   "cell_type": "markdown",
   "metadata": {},
   "source": [
    "## Exact diagonalization"
   ]
  },
  {
   "cell_type": "code",
   "execution_count": 113,
   "metadata": {},
   "outputs": [
    {
     "name": "stdout",
     "output_type": "stream",
     "text": [
      "Ground state energy: -29.04857609095167 \n",
      "It took  4.54 s = 0.08 min\n"
     ]
    }
   ],
   "source": [
    "if g.n_nodes < 20:\n",
    "    start = time.time()\n",
    "    if g.n_nodes < 15:\n",
    "        evals, eigvects = nk.exact.full_ed(ha_1, compute_eigenvectors=True)\n",
    "    else:\n",
    "        evals, eigvects = nk.exact.lanczos_ed(ha_1, k=3, compute_eigenvectors=True)\n",
    "    end = time.time()\n",
    "    diag_time = end - start\n",
    "    print(\"Ground state energy:\",evals[0], \"\\nIt took \", round(diag_time,2), \"s =\", round((diag_time)/60,2),\"min\")\n",
    "else:\n",
    "    print(\"System is too large for exact diagonalization. Setting exact_ground_energy = 0 (which is wrong)\")\n",
    "    evals = [0,0,0]\n",
    "    eigvects = None \n",
    "exact_ground_energy = evals[0]"
   ]
  },
  {
   "cell_type": "markdown",
   "metadata": {},
   "source": [
    "# Machine learning starts here"
   ]
  },
  {
   "cell_type": "markdown",
   "metadata": {},
   "source": [
    "## Machine definition and other auxiliary `netket` objects\n",
    "We define two sets of these objects, usually: \n",
    "- variables ending with ...`_1` belongs to the choice of standard basis,\n",
    "- variables ending with ...`_2` belongs to the choice of MSR basis.\n",
    "\n",
    "But they can be used in a different way when we need to compare two different models."
   ]
  },
  {
   "cell_type": "code",
   "execution_count": 114,
   "metadata": {},
   "outputs": [
    {
     "ename": "Exception",
     "evalue": "Invalid ALPHA. It needs to be divisible by the number of symmetries!",
     "output_type": "error",
     "traceback": [
      "\u001b[0;31m---------------------------------------------------------------------------\u001b[0m",
      "\u001b[0;31mException\u001b[0m                                 Traceback (most recent call last)",
      "\u001b[0;32m/tmp/ipykernel_2217/354447804.py\u001b[0m in \u001b[0;36m<module>\u001b[0;34m\u001b[0m\n\u001b[1;32m     17\u001b[0m     \u001b[0mno_of_filters\u001b[0m \u001b[0;34m=\u001b[0m \u001b[0mint\u001b[0m\u001b[0;34m(\u001b[0m\u001b[0mALPHA\u001b[0m\u001b[0;34m/\u001b[0m\u001b[0mlen\u001b[0m\u001b[0;34m(\u001b[0m\u001b[0mcharacters_dimer\u001b[0m\u001b[0;34m)\u001b[0m\u001b[0;34m)\u001b[0m\u001b[0;34m\u001b[0m\u001b[0;34m\u001b[0m\u001b[0m\n\u001b[1;32m     18\u001b[0m     \u001b[0;32mif\u001b[0m \u001b[0mALPHA\u001b[0m\u001b[0;34m%\u001b[0m\u001b[0mlen\u001b[0m\u001b[0;34m(\u001b[0m\u001b[0mcharacters_dimer\u001b[0m\u001b[0;34m)\u001b[0m \u001b[0;34m!=\u001b[0m \u001b[0;36m0\u001b[0m\u001b[0;34m:\u001b[0m\u001b[0;34m\u001b[0m\u001b[0;34m\u001b[0m\u001b[0m\n\u001b[0;32m---> 19\u001b[0;31m         \u001b[0;32mraise\u001b[0m \u001b[0mException\u001b[0m\u001b[0;34m(\u001b[0m\u001b[0;34m\"Invalid ALPHA. It needs to be divisible by the number of symmetries!\"\u001b[0m\u001b[0;34m)\u001b[0m\u001b[0;34m\u001b[0m\u001b[0;34m\u001b[0m\u001b[0m\n\u001b[0m\u001b[1;32m     20\u001b[0m     \u001b[0;32mfrom\u001b[0m \u001b[0mnetket\u001b[0m\u001b[0;34m.\u001b[0m\u001b[0mnn\u001b[0m \u001b[0;32mimport\u001b[0m \u001b[0mlog_cosh\u001b[0m\u001b[0;34m\u001b[0m\u001b[0;34m\u001b[0m\u001b[0m\n\u001b[1;32m     21\u001b[0m     \u001b[0;32mdef\u001b[0m \u001b[0midentity\u001b[0m\u001b[0;34m(\u001b[0m\u001b[0mx\u001b[0m\u001b[0;34m)\u001b[0m\u001b[0;34m:\u001b[0m\u001b[0;34m\u001b[0m\u001b[0;34m\u001b[0m\u001b[0m\n",
      "\u001b[0;31mException\u001b[0m: Invalid ALPHA. It needs to be divisible by the number of symmetries!"
     ]
    }
   ],
   "source": [
    "# Selection of machine type\n",
    "if MACHINE == \"RBM\":\n",
    "    machine_1 = nk.models.RBM(dtype=DTYPE, alpha=ALPHA)#, use_visible_bias=False) \n",
    "    machine_2 = nk.models.RBM(dtype=DTYPE, alpha=ALPHA)#, use_visible_bias=False)\n",
    "elif MACHINE == \"RBMSymm\":\n",
    "    machine_1 = nk.models.RBMSymm(g.automorphisms(), dtype=DTYPE, alpha=ALPHA)#, use_visible_bias=False) \n",
    "    machine_2 = nk.models.RBMSymm(g.automorphisms(), dtype=DTYPE, alpha=ALPHA)#, use_visible_bias=False)\n",
    "elif MACHINE == \"RBMSymm_transl\":\n",
    "    machine_1 = nk.models.RBMSymm(translation_group, dtype=DTYPE, alpha=ALPHA)#, use_visible_bias=False) \n",
    "    machine_2 = nk.models.RBMSymm(translation_group, dtype=DTYPE, alpha=ALPHA)#, use_visible_bias=False)\n",
    "elif MACHINE == \"GCNN\":\n",
    "    machine_1 = nk.models.GCNN(symmetries=g.automorphisms(), dtype=DTYPE, \n",
    "        layers=N_LAYERS, features=FEATURES, characters=characters_dimer    )#, output_activation=log_cosh)\n",
    "    machine_2 = nk.models.GCNN(symmetries=g.automorphisms(), dtype=DTYPE, \n",
    "        layers=N_LAYERS, features=FEATURES, characters=characters_dimer_msr)#, output_activation=log_cosh)\n",
    "elif MACHINE == \"myRBM\":\n",
    "        from GCNN_Nomura import GCNN_my\n",
    "        machine_1 = GCNN_my(symmetries=g.automorphisms(), dtype=fq.DTYPE, layers=1, features=fq.ALPHA, characters=characters_dimer_1, output_activation=nk.nn.log_cosh, use_bias=True, use_visible_bias=True)\n",
    "        machine_2 = GCNN_my(symmetries=g.automorphisms(), dtype=fq.DTYPE, layers=1, features=fq.ALPHA, characters=characters_dimer_2, output_activation=nk.nn.log_cosh, use_bias=True, use_visible_bias=True)\n",
    "elif MACHINE == \"Jastrow\":\n",
    "    from lattice_and_ops import Jastrow\n",
    "    machine_1 = Jastrow()\n",
    "    machine_2 = Jastrow()\n",
    "elif MACHINE == \"RBMModPhase\":\n",
    "    machine_1 = nk.models.RBMModPhase(alpha=ALPHA, use_hidden_bias=True, dtype=DTYPE)\n",
    "    machine_2 = nk.models.RBMModPhase(alpha=ALPHA, use_hidden_bias=True, dtype=DTYPE)\n",
    "\n",
    "    # A linear schedule varies the learning rate from 0 to 0.01 across 600 steps.\n",
    "    modulus_schedule_1=optax.linear_schedule(0,0.01,NUM_ITER)\n",
    "    modulus_schedule_2=optax.linear_schedule(0,0.01,NUM_ITER)\n",
    "    # The phase starts with a larger learning rate and then is decreased.\n",
    "    phase_schedule_1=optax.linear_schedule(0.05,0.01,NUM_ITER)\n",
    "    phase_schedule_2=optax.linear_schedule(0.05,0.01,NUM_ITER)\n",
    "    # Combine the linear schedule with SGD\n",
    "    optm_1=optax.sgd(modulus_schedule_1)\n",
    "    optp_1=optax.sgd(phase_schedule_1)\n",
    "    optm_2=optax.sgd(modulus_schedule_2)\n",
    "    optp_2=optax.sgd(phase_schedule_2)\n",
    "    # The multi-transform optimizer uses different optimisers for different parts of the parameters.\n",
    "    optimizer_1 = optax.multi_transform({'o1': optm_1, 'o2': optp_1}, flax.core.freeze({\"Dense_0\":\"o1\", \"Dense_1\":\"o2\"}))\n",
    "    optimizer_2 = optax.multi_transform({'o1': optm_2, 'o2': optp_2}, flax.core.freeze({\"Dense_0\":\"o1\", \"Dense_1\":\"o2\"}))\n",
    "else:\n",
    "    raise Exception(str(\"undefined MACHINE: \")+str(MACHINE))\n",
    "\n",
    "# Selection of sampler type\n",
    "if SAMPLER == 'local':\n",
    "    sampler_1 = nk.sampler.MetropolisLocal(hilbert=hilbert)\n",
    "    sampler_2 = nk.sampler.MetropolisLocal(hilbert=hilbert)\n",
    "elif SAMPLER == 'exact':\n",
    "    sampler_1 = nk.sampler.ExactSampler(hilbert=hilbert)\n",
    "    sampler_2 = nk.sampler.ExactSampler(hilbert=hilbert)\n",
    "else:\n",
    "    sampler_1 = nk.sampler.MetropolisExchange(hilbert=hilbert, graph=g)\n",
    "    sampler_2 = nk.sampler.MetropolisExchange(hilbert=hilbert, graph=g)\n",
    "    if SAMPLER != 'exchange':\n",
    "        print(\"Warning! Undefined fq.SAMPLER:\", SAMPLER, \", dafaulting to MetropolisExchange fq.SAMPLER\")\n",
    "\n",
    "if MACHINE != \"RBMModPhase\":\n",
    "    optimizer_1 = nk.optimizer.Sgd(learning_rate=ETA)\n",
    "    optimizer_2 = nk.optimizer.Sgd(learning_rate=ETA)\n",
    "\n",
    "# Stochastic Reconfiguration as a preconditioner\n",
    "sr_1  = nk.optimizer.SR(diag_shift=0.01)\n",
    "sr_2  = nk.optimizer.SR(diag_shift=0.01)\n",
    "\n",
    "# The variational state (former name: nk.variational.MCState)\n",
    "vs_1 = nk.vqs.MCState(sampler_1 , machine_1 , n_samples=SAMPLES)\n",
    "vs_2 = nk.vqs.MCState(sampler_2 , machine_2 , n_samples=SAMPLES)\n",
    "vs_1.init_parameters(jax.nn.initializers.normal(stddev=0.001))\n",
    "vs_2.init_parameters(jax.nn.initializers.normal(stddev=0.001))\n",
    "\n",
    "\n",
    "gs_1 = nk.VMC(hamiltonian=ha_1 ,optimizer=optimizer_1 ,preconditioner=sr_1 ,variational_state=vs_1)\n",
    "gs_2 = nk.VMC(hamiltonian=ha_2 ,optimizer=optimizer_2 ,preconditioner=sr_2 ,variational_state=vs_2) "
   ]
  },
  {
   "cell_type": "code",
   "execution_count": null,
   "metadata": {},
   "outputs": [
    {
     "name": "stdout",
     "output_type": "stream",
     "text": [
      "4368 4368\n"
     ]
    }
   ],
   "source": [
    "print(vs_1.n_parameters, vs_2.n_parameters)"
   ]
  },
  {
   "cell_type": "markdown",
   "metadata": {},
   "source": [
    "# Calculation\n",
    "We let the calculation run for `NUM_ITERS` iterations for both cases _1 and _2 (without MSR and with MSR). If only one case is desired, set the variable `no_of_runs` to 1."
   ]
  },
  {
   "cell_type": "code",
   "execution_count": null,
   "metadata": {},
   "outputs": [
    {
     "name": "stdout",
     "output_type": "stream",
     "text": [
      "J_1 = 0.2; Expected exact energy: -29.04857609095212\n"
     ]
    },
    {
     "name": "stderr",
     "output_type": "stream",
     "text": [
      "  0%|          | 0/400 [00:00<?, ?it/s]"
     ]
    },
    {
     "name": "stdout",
     "output_type": "stream",
     "text": [
      "x=Traced<ShapedArray(complex128[256])>with<DynamicJaxprTrace(level=0/1)>  target=Traced<ShapedArray(complex128[256])>with<DynamicJaxprTrace(level=0/1)>\n",
      "x=Traced<ShapedArray(complex128[16,256])>with<DynamicJaxprTrace(level=0/1)>  target=Traced<ShapedArray(complex128[16,256])>with<DynamicJaxprTrace(level=0/1)>\n",
      "x=Traced<ShapedArray(complex128[16])>with<DynamicJaxprTrace(level=0/1)>  target=Traced<ShapedArray(complex128[16])>with<DynamicJaxprTrace(level=0/1)>\n",
      "x=Traced<ShapedArray(complex128[256])>with<DynamicJaxprTrace(level=1/2)>  target=Traced<ShapedArray(complex128[256])>with<DynamicJaxprTrace(level=1/2)>\n",
      "x=Traced<ShapedArray(complex128[16,256])>with<DynamicJaxprTrace(level=1/2)>  target=Traced<ShapedArray(complex128[16,256])>with<DynamicJaxprTrace(level=1/2)>\n",
      "x=Traced<ShapedArray(complex128[16])>with<DynamicJaxprTrace(level=1/2)>  target=Traced<ShapedArray(complex128[16])>with<DynamicJaxprTrace(level=1/2)>\n",
      "x=Traced<ShapedArray(complex128[256])>with<DynamicJaxprTrace(level=1/2)>  target=Traced<ShapedArray(complex128[256])>with<DynamicJaxprTrace(level=1/2)>\n",
      "x=Traced<ShapedArray(complex128[16,256])>with<DynamicJaxprTrace(level=1/2)>  target=Traced<ShapedArray(complex128[16,256])>with<DynamicJaxprTrace(level=1/2)>\n",
      "x=Traced<ShapedArray(complex128[16])>with<DynamicJaxprTrace(level=1/2)>  target=Traced<ShapedArray(complex128[16])>with<DynamicJaxprTrace(level=1/2)>\n",
      "x=Traced<ShapedArray(complex128[256])>with<DynamicJaxprTrace(level=2/2)>  target=Traced<ShapedArray(complex128[256])>with<DynamicJaxprTrace(level=2/2)>\n",
      "x=Traced<ShapedArray(complex128[16,256])>with<DynamicJaxprTrace(level=2/2)>  target=Traced<ShapedArray(complex128[16,256])>with<DynamicJaxprTrace(level=2/2)>\n",
      "x=Traced<ShapedArray(complex128[16])>with<DynamicJaxprTrace(level=2/2)>  target=Traced<ShapedArray(complex128[16])>with<DynamicJaxprTrace(level=2/2)>\n",
      "x=Traced<ShapedArray(complex128[256]):JaxprTrace(level=1/2)>  target=Traced<ShapedArray(complex128[256]):JaxprTrace(level=1/2)>\n",
      "x=Traced<ShapedArray(complex128[16,256]):JaxprTrace(level=1/2)>  target=Traced<ShapedArray(complex128[16,256]):JaxprTrace(level=1/2)>\n",
      "x=Traced<ShapedArray(complex128[16]):JaxprTrace(level=1/2)>  target=Traced<ShapedArray(complex128[16]):JaxprTrace(level=1/2)>\n"
     ]
    },
    {
     "name": "stderr",
     "output_type": "stream",
     "text": [
      "100%|██████████| 400/400 [03:27<00:00,  1.93it/s, Energy=-2.720e+01+0.000e+00j ± 2.512e-15 [σ²=5.049e-29]]\n"
     ]
    },
    {
     "name": "stdout",
     "output_type": "stream",
     "text": [
      "The calculation for RBM of type 1 took 3.5547411402066547 min\n"
     ]
    },
    {
     "name": "stderr",
     "output_type": "stream",
     "text": [
      "100%|██████████| 400/400 [03:52<00:00,  1.72it/s, Energy=-27.1975-0.0007j ± 0.0026 [σ²=0.0067]]           "
     ]
    },
    {
     "name": "stdout",
     "output_type": "stream",
     "text": [
      "The calculation for RBM of type 2 took 3.891228894392649 min\n"
     ]
    },
    {
     "name": "stderr",
     "output_type": "stream",
     "text": [
      "\n"
     ]
    }
   ],
   "source": [
    "runs = [1,1]\n",
    "no_of_runs = np.sum(runs) # 1 - one run for variables with ..._1;  2 - both runs for variables ..._1 and ..._2\n",
    "run_only_2 = (runs[1]==1 and runs[0]==0) # in case of no_of_runs=1\n",
    "# NUM_ITER = 100#3000\n",
    "print(\"J_1 =\", JEXCH1, end=\"; \")\n",
    "if exact_ground_energy != 0:\n",
    "    print(\"Expected exact energy:\", exact_ground_energy)\n",
    "for i,gs in enumerate([gs_1,gs_2][run_only_2:run_only_2+no_of_runs]):\n",
    "    start = time.time()\n",
    "    gs.run(out=OUT_NAME+str(i), n_iter=int(NUM_ITER))#, obs={'symmetry':P(0,1)})\n",
    "    end = time.time()\n",
    "    print(\"The calculation for {} of type {} took {} min\".format(MACHINE, i+1, (end-start)/60))\n"
   ]
  },
  {
   "cell_type": "code",
   "execution_count": null,
   "metadata": {},
   "outputs": [
    {
     "name": "stdout",
     "output_type": "stream",
     "text": [
      "Trained RBM without MSR:\n",
      "Energy = -2.720e+01+0.000e+00j ± 2.512e-15 [σ²=5.049e-29]\n",
      "m_z = -1.600e+01+0.000e+00j ± nan [σ²=0.000e+00]\n",
      "Trained RBM with MSR:\n",
      "Energy = -27.1975-0.0007j ± 0.0026 [σ²=0.0067]\n",
      "m_z = -1.600e+01+0.000e+00j ± nan [σ²=0.000e+00]\n"
     ]
    }
   ],
   "source": [
    "for i,gs in enumerate([gs_1,gs_2][run_only_2:run_only_2+no_of_runs]):\n",
    "    print(\"Trained RBM with MSR:\" if i else \"Trained RBM without MSR:\")\n",
    "    print(\"Energy =\", gs.energy)\n",
    "    print(\"m_z =\", gs.estimate(m_z))"
   ]
  },
  {
   "cell_type": "markdown",
   "metadata": {},
   "source": [
    "## Energy Convergence Plotting\n",
    "In case that the machine did not converge, we can re-run the previous cell and than skip the next cell. This way, the replotting just appends the new results and does not erase the previoius results. "
   ]
  },
  {
   "cell_type": "code",
   "execution_count": null,
   "metadata": {},
   "outputs": [],
   "source": [
    "# Exact Energy Line\n",
    "no_of_all_iters = NUM_ITER\n",
    "figure = go.Figure(\n",
    "    data=[\n",
    "        go.Scatter(\n",
    "            x=(0,no_of_all_iters),\n",
    "            y=(exact_ground_energy,exact_ground_energy),\n",
    "            mode=\"lines\",line=go.scatter.Line(color=\"#000000\",width=1), name=\"exact energy\")],\n",
    "    layout=go.Layout(\n",
    "        template=\"simple_white\",\n",
    "        xaxis=dict(title=\"Iteration\", mirror=True, showline=True),\n",
    "        yaxis=dict(title=\"Energy\", mirror=True, showline=True),\n",
    "        title=(\"<b>\"+\"S-S\"+\" model </b>, L=\"+str(SITES)+\", J2 =\"+str(JEXCH2)+ \", J1 =\"+str(JEXCH1)+\" , η=\"+str(ETA)+\", α=\"+str(ALPHA)+\", samples=\"+str(SAMPLES)))\n",
    "    ).add_hline(y=exact_ground_energy, opacity=1, line_width=1)\n"
   ]
  },
  {
   "cell_type": "code",
   "execution_count": null,
   "metadata": {},
   "outputs": [
    {
     "data": {
      "application/vnd.plotly.v1+json": {
       "config": {
        "plotlyServerURL": "https://plot.ly"
       },
       "data": [
        {
         "line": {
          "color": "#000000",
          "width": 1
         },
         "mode": "lines",
         "name": "exact energy",
         "type": "scatter",
         "x": [
          0,
          400
         ],
         "y": [
          -29.04857609095212,
          -29.04857609095212
         ]
        },
        {
         "name": "normal",
         "type": "scatter",
         "x": [
          0,
          1,
          2,
          3,
          4,
          5,
          6,
          7,
          8,
          9,
          10,
          11,
          12,
          13,
          14,
          15,
          16,
          17,
          18,
          19,
          20,
          21,
          22,
          23,
          24,
          25,
          26,
          27,
          28,
          29,
          30,
          31,
          32,
          33,
          34,
          35,
          36,
          37,
          38,
          39,
          40,
          41,
          42,
          43,
          44,
          45,
          46,
          47,
          48,
          49,
          50,
          51,
          52,
          53,
          54,
          55,
          56,
          57,
          58,
          59,
          60,
          61,
          62,
          63,
          64,
          65,
          66,
          67,
          68,
          69,
          70,
          71,
          72,
          73,
          74,
          75,
          76,
          77,
          78,
          79,
          80,
          81,
          82,
          83,
          84,
          85,
          86,
          87,
          88,
          89,
          90,
          91,
          92,
          93,
          94,
          95,
          96,
          97,
          98,
          99,
          100,
          101,
          102,
          103,
          104,
          105,
          106,
          107,
          108,
          109,
          110,
          111,
          112,
          113,
          114,
          115,
          116,
          117,
          118,
          119,
          120,
          121,
          122,
          123,
          124,
          125,
          126,
          127,
          128,
          129,
          130,
          131,
          132,
          133,
          134,
          135,
          136,
          137,
          138,
          139,
          140,
          141,
          142,
          143,
          144,
          145,
          146,
          147,
          148,
          149,
          150,
          151,
          152,
          153,
          154,
          155,
          156,
          157,
          158,
          159,
          160,
          161,
          162,
          163,
          164,
          165,
          166,
          167,
          168,
          169,
          170,
          171,
          172,
          173,
          174,
          175,
          176,
          177,
          178,
          179,
          180,
          181,
          182,
          183,
          184,
          185,
          186,
          187,
          188,
          189,
          190,
          191,
          192,
          193,
          194,
          195,
          196,
          197,
          198,
          199,
          200,
          201,
          202,
          203,
          204,
          205,
          206,
          207,
          208,
          209,
          210,
          211,
          212,
          213,
          214,
          215,
          216,
          217,
          218,
          219,
          220,
          221,
          222,
          223,
          224,
          225,
          226,
          227,
          228,
          229,
          230,
          231,
          232,
          233,
          234,
          235,
          236,
          237,
          238,
          239,
          240,
          241,
          242,
          243,
          244,
          245,
          246,
          247,
          248,
          249,
          250,
          251,
          252,
          253,
          254,
          255,
          256,
          257,
          258,
          259,
          260,
          261,
          262,
          263,
          264,
          265,
          266,
          267,
          268,
          269,
          270,
          271,
          272,
          273,
          274,
          275,
          276,
          277,
          278,
          279,
          280,
          281,
          282,
          283,
          284,
          285,
          286,
          287,
          288,
          289,
          290,
          291,
          292,
          293,
          294,
          295,
          296,
          297,
          298,
          299,
          300,
          301,
          302,
          303,
          304,
          305,
          306,
          307,
          308,
          309,
          310,
          311,
          312,
          313,
          314,
          315,
          316,
          317,
          318,
          319,
          320,
          321,
          322,
          323,
          324,
          325,
          326,
          327,
          328,
          329,
          330,
          331,
          332,
          333,
          334,
          335,
          336,
          337,
          338,
          339,
          340,
          341,
          342,
          343,
          344,
          345,
          346,
          347,
          348,
          349,
          350,
          351,
          352,
          353,
          354,
          355,
          356,
          357,
          358,
          359,
          360,
          361,
          362,
          363,
          364,
          365,
          366,
          367,
          368,
          369,
          370,
          371,
          372,
          373,
          374,
          375,
          376,
          377,
          378,
          379,
          380,
          381,
          382,
          383,
          384,
          385,
          386,
          387,
          388,
          389,
          390,
          391,
          392,
          393,
          394,
          395,
          396,
          397,
          398,
          399
         ],
         "y": [
          14.940084436226952,
          12.76149795930275,
          10.41600715183608,
          8.35616240914468,
          6.35090306922579,
          4.098433805404087,
          1.6704112567594336,
          -0.1804725519782698,
          -1.714553582961221,
          -3.889334059453685,
          -5.271226448255762,
          -7.0561146667219425,
          -9.036848296914055,
          -10.070367502248928,
          -11.543746322649142,
          -12.749568618614148,
          -13.399598753346456,
          -15.453294680094915,
          -16.332686021314746,
          -17.09692265449468,
          -18.720224052156382,
          -19.228118845667165,
          -20.34052843398612,
          -20.561374460392773,
          -21.57312907346321,
          -21.942974187204964,
          -22.337794447279734,
          -22.886939379715844,
          -23.251514592102133,
          -24.02995786129377,
          -24.169815686663984,
          -24.179370468353234,
          -24.793963641033677,
          -24.95379145501309,
          -25.197857611425988,
          -25.26962968207133,
          -25.49559023066622,
          -25.860344648307507,
          -25.901069967443288,
          -26.061752315470784,
          -26.1516407838592,
          -26.280459102800627,
          -26.312089746689143,
          -26.48275524398947,
          -26.61308179476973,
          -26.576742408673194,
          -26.66704170791517,
          -26.69761537900493,
          -26.69992265703237,
          -26.798873335921886,
          -26.805621288586632,
          -26.842409374236016,
          -26.8977286857888,
          -26.929924440537075,
          -26.998258565391275,
          -26.99861497745048,
          -27.015721812318862,
          -27.070580551604433,
          -27.0602670578827,
          -27.055296618383583,
          -27.080488842605536,
          -27.050126065362736,
          -27.110795553278212,
          -27.121426758229973,
          -27.133634809380393,
          -27.112154490523636,
          -27.143149484874534,
          -27.13116183109559,
          -27.14237683691146,
          -27.118456179069003,
          -27.15873002027808,
          -27.142053637035872,
          -27.14229877976044,
          -27.14237601995968,
          -27.16735846486063,
          -27.15952837526192,
          -27.15852488102975,
          -27.164320560863576,
          -27.18936545365405,
          -27.178111702205282,
          -27.16367274132378,
          -27.168528804420195,
          -27.195188381552942,
          -27.17981546388179,
          -27.15875554273022,
          -27.17004870945209,
          -27.18070353972779,
          -27.18052692475179,
          -27.194727727141487,
          -27.17929867904848,
          -27.183729123391775,
          -27.194746865245342,
          -27.174310342432616,
          -27.19541297696152,
          -27.168598073955874,
          -27.195173051342877,
          -27.189046201825768,
          -27.200000000000017,
          -27.184271273199673,
          -27.178543435470147,
          -27.19439824718819,
          -27.195329843241797,
          -27.1851655321818,
          -27.186534965357435,
          -27.18439756111465,
          -27.19498530311814,
          -27.200000000000017,
          -27.194001441653942,
          -27.200000000000017,
          -27.185230323541433,
          -27.189878523899143,
          -27.194542787098722,
          -27.19507450829487,
          -27.195701534627474,
          -27.178461085595575,
          -27.185229568439727,
          -27.17918930908921,
          -27.19513075580493,
          -27.194215074144818,
          -27.189874373716,
          -27.195573302071235,
          -27.19529460151695,
          -27.18176598469559,
          -27.195189019792423,
          -27.200000000000017,
          -27.19485516163371,
          -27.190209597745163,
          -27.194631824309162,
          -27.194922462133853,
          -27.193886905911988,
          -27.200000000000017,
          -27.1901789561695,
          -27.19068036630047,
          -27.194547335737592,
          -27.19556814375659,
          -27.189563296066666,
          -27.195067837205418,
          -27.195239169268312,
          -27.200000000000017,
          -27.200000000000017,
          -27.195037992900883,
          -27.1937171581284,
          -27.200000000000017,
          -27.19549891513537,
          -27.200000000000017,
          -27.200000000000017,
          -27.194982575621058,
          -27.200000000000017,
          -27.185535780884223,
          -27.200000000000017,
          -27.18437952813108,
          -27.200000000000017,
          -27.200000000000017,
          -27.200000000000017,
          -27.184590391352703,
          -27.19474449458189,
          -27.18960504275536,
          -27.200000000000017,
          -27.194379920910187,
          -27.200000000000017,
          -27.189415788034935,
          -27.18330829268205,
          -27.200000000000017,
          -27.200000000000017,
          -27.19497670919925,
          -27.19424079352594,
          -27.189968579028744,
          -27.193494953194882,
          -27.189912048802366,
          -27.200000000000017,
          -27.200000000000017,
          -27.200000000000017,
          -27.194917541517043,
          -27.200000000000017,
          -27.200000000000017,
          -27.194741289592532,
          -27.200000000000017,
          -27.200000000000017,
          -27.19519163866434,
          -27.200000000000017,
          -27.194784183234727,
          -27.200000000000017,
          -27.200000000000017,
          -27.200000000000017,
          -27.18923554423476,
          -27.195025847147374,
          -27.200000000000017,
          -27.200000000000017,
          -27.200000000000017,
          -27.200000000000017,
          -27.194328827978225,
          -27.200000000000017,
          -27.200000000000017,
          -27.194200104357307,
          -27.19015121458572,
          -27.19603500122447,
          -27.184643827780455,
          -27.194894814821602,
          -27.194597619339106,
          -27.193906122863467,
          -27.19544876493166,
          -27.200000000000017,
          -27.191840636956798,
          -27.200000000000017,
          -27.19509444774407,
          -27.193555276331807,
          -27.194961151907503,
          -27.200000000000017,
          -27.19479420121653,
          -27.194877006295293,
          -27.200000000000017,
          -27.1949273557049,
          -27.195373873112963,
          -27.193881231116908,
          -27.200000000000017,
          -27.200000000000017,
          -27.19456469586025,
          -27.18819788802214,
          -27.200000000000017,
          -27.19490513757752,
          -27.200000000000017,
          -27.200000000000017,
          -27.200000000000017,
          -27.200000000000017,
          -27.200000000000017,
          -27.200000000000017,
          -27.191435770262366,
          -27.200000000000017,
          -27.19510604152587,
          -27.200000000000017,
          -27.18814992124153,
          -27.200000000000017,
          -27.200000000000017,
          -27.200000000000017,
          -27.200000000000017,
          -27.200000000000017,
          -27.200000000000017,
          -27.200000000000017,
          -27.200000000000017,
          -27.19587818150845,
          -27.1960854843316,
          -27.194728821865972,
          -27.18934664234602,
          -27.194865931277672,
          -27.200000000000017,
          -27.200000000000017,
          -27.200000000000017,
          -27.188227991646073,
          -27.200000000000017,
          -27.200000000000017,
          -27.200000000000017,
          -27.200000000000017,
          -27.200000000000017,
          -27.200000000000017,
          -27.200000000000017,
          -27.200000000000017,
          -27.200000000000017,
          -27.200000000000017,
          -27.200000000000017,
          -27.200000000000017,
          -27.200000000000017,
          -27.200000000000017,
          -27.200000000000017,
          -27.200000000000017,
          -27.200000000000017,
          -27.194745993748235,
          -27.190222367595293,
          -27.200000000000017,
          -27.200000000000017,
          -27.194161170419598,
          -27.200000000000017,
          -27.200000000000017,
          -27.194587913236184,
          -27.19442525509834,
          -27.200000000000017,
          -27.200000000000017,
          -27.200000000000017,
          -27.200000000000017,
          -27.200000000000017,
          -27.200000000000017,
          -27.19366763990437,
          -27.200000000000017,
          -27.19443441165925,
          -27.200000000000017,
          -27.200000000000017,
          -27.195098804911595,
          -27.190408761797055,
          -27.193193780890557,
          -27.200000000000017,
          -27.194276426658142,
          -27.200000000000017,
          -27.200000000000017,
          -27.200000000000017,
          -27.195085522622584,
          -27.200000000000017,
          -27.200000000000017,
          -27.200000000000017,
          -27.196014086618156,
          -27.200000000000017,
          -27.200000000000017,
          -27.19593996474593,
          -27.200000000000017,
          -27.200000000000017,
          -27.190004538846246,
          -27.200000000000017,
          -27.200000000000017,
          -27.200000000000017,
          -27.194622616127177,
          -27.19523422079243,
          -27.200000000000017,
          -27.200000000000017,
          -27.200000000000017,
          -27.19445346045431,
          -27.200000000000017,
          -27.194831593431644,
          -27.200000000000017,
          -27.200000000000017,
          -27.200000000000017,
          -27.200000000000017,
          -27.200000000000017,
          -27.200000000000017,
          -27.200000000000017,
          -27.200000000000017,
          -27.200000000000017,
          -27.200000000000017,
          -27.200000000000017,
          -27.200000000000017,
          -27.200000000000017,
          -27.200000000000017,
          -27.200000000000017,
          -27.200000000000017,
          -27.200000000000017,
          -27.200000000000017,
          -27.200000000000017,
          -27.200000000000017,
          -27.200000000000017,
          -27.200000000000017,
          -27.200000000000017,
          -27.200000000000017,
          -27.200000000000017,
          -27.193485885075077,
          -27.200000000000017,
          -27.200000000000017,
          -27.200000000000017,
          -27.200000000000017,
          -27.200000000000017,
          -27.200000000000017,
          -27.200000000000017,
          -27.189244273753626,
          -27.200000000000017,
          -27.19422200098846,
          -27.200000000000017,
          -27.200000000000017,
          -27.200000000000017,
          -27.19558637403775,
          -27.200000000000017,
          -27.195125492391345,
          -27.200000000000017,
          -27.200000000000017,
          -27.200000000000017,
          -27.200000000000017,
          -27.200000000000017,
          -27.200000000000017,
          -27.189044719814444,
          -27.187894986976005,
          -27.200000000000017,
          -27.196009635383433,
          -27.200000000000017,
          -27.200000000000017,
          -27.19537650212404,
          -27.200000000000017,
          -27.200000000000017,
          -27.19421543521854,
          -27.200000000000017,
          -27.200000000000017,
          -27.200000000000017,
          -27.200000000000017,
          -27.200000000000017,
          -27.200000000000017,
          -27.200000000000017,
          -27.200000000000017,
          -27.195938520409598,
          -27.200000000000017,
          -27.200000000000017,
          -27.200000000000017,
          -27.200000000000017,
          -27.195481773351663,
          -27.200000000000017,
          -27.200000000000017,
          -27.200000000000017,
          -27.195079508027916,
          -27.200000000000017,
          -27.200000000000017,
          -27.200000000000017,
          -27.200000000000017,
          -27.200000000000017,
          -27.200000000000017,
          -27.19039505063464,
          -27.200000000000017,
          -27.200000000000017
         ]
        },
        {
         "name": "MSR",
         "type": "scatter",
         "x": [
          0,
          1,
          2,
          3,
          4,
          5,
          6,
          7,
          8,
          9,
          10,
          11,
          12,
          13,
          14,
          15,
          16,
          17,
          18,
          19,
          20,
          21,
          22,
          23,
          24,
          25,
          26,
          27,
          28,
          29,
          30,
          31,
          32,
          33,
          34,
          35,
          36,
          37,
          38,
          39,
          40,
          41,
          42,
          43,
          44,
          45,
          46,
          47,
          48,
          49,
          50,
          51,
          52,
          53,
          54,
          55,
          56,
          57,
          58,
          59,
          60,
          61,
          62,
          63,
          64,
          65,
          66,
          67,
          68,
          69,
          70,
          71,
          72,
          73,
          74,
          75,
          76,
          77,
          78,
          79,
          80,
          81,
          82,
          83,
          84,
          85,
          86,
          87,
          88,
          89,
          90,
          91,
          92,
          93,
          94,
          95,
          96,
          97,
          98,
          99,
          100,
          101,
          102,
          103,
          104,
          105,
          106,
          107,
          108,
          109,
          110,
          111,
          112,
          113,
          114,
          115,
          116,
          117,
          118,
          119,
          120,
          121,
          122,
          123,
          124,
          125,
          126,
          127,
          128,
          129,
          130,
          131,
          132,
          133,
          134,
          135,
          136,
          137,
          138,
          139,
          140,
          141,
          142,
          143,
          144,
          145,
          146,
          147,
          148,
          149,
          150,
          151,
          152,
          153,
          154,
          155,
          156,
          157,
          158,
          159,
          160,
          161,
          162,
          163,
          164,
          165,
          166,
          167,
          168,
          169,
          170,
          171,
          172,
          173,
          174,
          175,
          176,
          177,
          178,
          179,
          180,
          181,
          182,
          183,
          184,
          185,
          186,
          187,
          188,
          189,
          190,
          191,
          192,
          193,
          194,
          195,
          196,
          197,
          198,
          199,
          200,
          201,
          202,
          203,
          204,
          205,
          206,
          207,
          208,
          209,
          210,
          211,
          212,
          213,
          214,
          215,
          216,
          217,
          218,
          219,
          220,
          221,
          222,
          223,
          224,
          225,
          226,
          227,
          228,
          229,
          230,
          231,
          232,
          233,
          234,
          235,
          236,
          237,
          238,
          239,
          240,
          241,
          242,
          243,
          244,
          245,
          246,
          247,
          248,
          249,
          250,
          251,
          252,
          253,
          254,
          255,
          256,
          257,
          258,
          259,
          260,
          261,
          262,
          263,
          264,
          265,
          266,
          267,
          268,
          269,
          270,
          271,
          272,
          273,
          274,
          275,
          276,
          277,
          278,
          279,
          280,
          281,
          282,
          283,
          284,
          285,
          286,
          287,
          288,
          289,
          290,
          291,
          292,
          293,
          294,
          295,
          296,
          297,
          298,
          299,
          300,
          301,
          302,
          303,
          304,
          305,
          306,
          307,
          308,
          309,
          310,
          311,
          312,
          313,
          314,
          315,
          316,
          317,
          318,
          319,
          320,
          321,
          322,
          323,
          324,
          325,
          326,
          327,
          328,
          329,
          330,
          331,
          332,
          333,
          334,
          335,
          336,
          337,
          338,
          339,
          340,
          341,
          342,
          343,
          344,
          345,
          346,
          347,
          348,
          349,
          350,
          351,
          352,
          353,
          354,
          355,
          356,
          357,
          358,
          359,
          360,
          361,
          362,
          363,
          364,
          365,
          366,
          367,
          368,
          369,
          370,
          371,
          372,
          373,
          374,
          375,
          376,
          377,
          378,
          379,
          380,
          381,
          382,
          383,
          384,
          385,
          386,
          387,
          388,
          389,
          390,
          391,
          392,
          393,
          394,
          395,
          396,
          397,
          398,
          399
         ],
         "y": [
          1.6828931620602319,
          -0.8123934847344426,
          -2.5297666171268647,
          -4.631292106708926,
          -5.970853424664049,
          -7.200587448481375,
          -8.779887716126712,
          -9.775579190125972,
          -11.300484037936913,
          -12.046999267113698,
          -13.24508311075583,
          -14.132766929655698,
          -14.945048719430975,
          -15.422138019428095,
          -16.04730699510607,
          -16.654277675920127,
          -17.484863221972272,
          -17.799007005027594,
          -18.12969733717608,
          -18.770126988710864,
          -19.126647195894414,
          -19.81366888463974,
          -20.30599013628887,
          -20.40424249405996,
          -20.73603447379684,
          -21.028587156502432,
          -21.067573542275824,
          -21.524671953493595,
          -21.579712506517204,
          -21.971703238470813,
          -22.05898629307045,
          -22.414814021528986,
          -22.605295616200767,
          -22.966673227603536,
          -22.850869033187507,
          -23.348283738112574,
          -23.341800143411383,
          -23.590228853207996,
          -23.672737632170392,
          -23.76761349097095,
          -24.00940191278048,
          -24.22326709575998,
          -24.172212230223586,
          -24.237216044361386,
          -24.387410896739066,
          -24.713205043025287,
          -24.66317780898485,
          -24.687545246377795,
          -24.771786425466907,
          -24.86722532585886,
          -25.02038219329541,
          -25.18213950919709,
          -25.195168595597067,
          -25.264543046786752,
          -25.34650265811498,
          -25.351331970006242,
          -25.517200067996306,
          -25.509234262715918,
          -25.68482702769563,
          -25.751204501553538,
          -25.806257172130234,
          -25.863548035688734,
          -25.878358630319017,
          -25.95798424548203,
          -25.94756717691874,
          -26.0528950881959,
          -26.082736029605833,
          -26.182723050995783,
          -26.116954362512224,
          -26.209598783401283,
          -26.247663619162644,
          -26.271548425400045,
          -26.306112568370835,
          -26.37150159220366,
          -26.349547391969683,
          -26.375715723721147,
          -26.601752057257112,
          -26.508255602513298,
          -26.52504915856271,
          -26.475190007175545,
          -26.55428780989909,
          -26.56542545236971,
          -26.621986639991135,
          -26.652682445659572,
          -26.640841723116782,
          -26.67527135591763,
          -26.723650216223355,
          -26.736352332095,
          -26.759366444450773,
          -26.75358163058894,
          -26.732400223491783,
          -26.843796503329628,
          -26.829965485642177,
          -26.839983251574804,
          -26.8862999123624,
          -26.828855813720974,
          -26.919819096928403,
          -26.8594930928929,
          -26.908232208178404,
          -26.944208180639123,
          -26.885412066878594,
          -26.896368967101097,
          -26.91723523315783,
          -26.928521038770146,
          -26.93154626339981,
          -26.913430862727907,
          -27.00390468923373,
          -26.987698038675497,
          -27.027920618337564,
          -26.99793955598241,
          -27.005740734484156,
          -27.031089848033105,
          -26.974616420727823,
          -27.03363574113176,
          -27.005082236498477,
          -27.02219854306053,
          -27.07086798690526,
          -27.07874790613563,
          -27.093902121886988,
          -27.104424630969284,
          -27.088950926143802,
          -27.094704628708666,
          -27.099295958021635,
          -27.091896644962922,
          -27.082594873724847,
          -27.064891400024848,
          -27.117809181403945,
          -27.115408979752242,
          -27.1201187643126,
          -27.129643371120874,
          -27.124140951485174,
          -27.11211103265885,
          -27.127593612466693,
          -27.127194996283187,
          -27.133262210633255,
          -27.134362395113765,
          -27.11604989037725,
          -27.15395164987334,
          -27.143225425971423,
          -27.14232481651559,
          -27.1249374476735,
          -27.135260950516837,
          -27.15133137717261,
          -27.149630430804343,
          -27.14337974623596,
          -27.153137472604335,
          -27.16735394600579,
          -27.12229963103646,
          -27.161571103784617,
          -27.15073703204423,
          -27.151483384525832,
          -27.149145120137963,
          -27.15776657584621,
          -27.161371573762878,
          -27.163228104178803,
          -27.160080296632398,
          -27.167239761928304,
          -27.167239693851226,
          -27.178965622940986,
          -27.184004111499377,
          -27.173685734520774,
          -27.163666471453187,
          -27.167016955705314,
          -27.181904222398888,
          -27.164266328013568,
          -27.18642103246378,
          -27.167679492861435,
          -27.178211404396972,
          -27.166135973349668,
          -27.181125870131556,
          -27.175346697769942,
          -27.167525431347205,
          -27.175908589656565,
          -27.1762998779252,
          -27.17745353471288,
          -27.19082078457244,
          -27.186544946776326,
          -27.17519583122983,
          -27.186444129199632,
          -27.194245573156742,
          -27.17418489504539,
          -27.179970231968102,
          -27.17819874392511,
          -27.18301284428377,
          -27.1781497137908,
          -27.187893068908473,
          -27.18867203745717,
          -27.18419876016184,
          -27.17809906329526,
          -27.18077035831975,
          -27.182560587853075,
          -27.18197348472971,
          -27.19127041583511,
          -27.18764657907157,
          -27.18617628778216,
          -27.190914570077396,
          -27.174458277268606,
          -27.19028433786583,
          -27.18788857376091,
          -27.191142495192267,
          -27.185052211318858,
          -27.191126438270224,
          -27.18511076478715,
          -27.19690043842483,
          -27.187237552701983,
          -27.191997881899646,
          -27.183751683381647,
          -27.194034530872273,
          -27.196880726996493,
          -27.186145494197277,
          -27.190715242081563,
          -27.190092432051962,
          -27.18713597451336,
          -27.186437234729684,
          -27.192308657205707,
          -27.195205270318922,
          -27.193273754237953,
          -27.186774404808187,
          -27.19018374470541,
          -27.19003724315339,
          -27.190207282590087,
          -27.19831730230358,
          -27.189148892564738,
          -27.193147586061016,
          -27.191633559484465,
          -27.189793814451235,
          -27.19352870926918,
          -27.189508270564968,
          -27.19725787084165,
          -27.195040674257015,
          -27.195084183383223,
          -27.197375771617942,
          -27.193043041058903,
          -27.198670101146536,
          -27.192427257162535,
          -27.19501624666081,
          -27.19461150212601,
          -27.195014896661387,
          -27.198053260233525,
          -27.192555867261955,
          -27.194466368243805,
          -27.19165681384659,
          -27.19543716246783,
          -27.200000000000017,
          -27.19080373324323,
          -27.19395939666283,
          -27.193145181495762,
          -27.19238039420018,
          -27.198087923253272,
          -27.19433221511278,
          -27.190666491757,
          -27.19855833443953,
          -27.194602881216053,
          -27.19386072720655,
          -27.189617283404036,
          -27.196810999264606,
          -27.1965462781281,
          -27.197865352556775,
          -27.196908137443867,
          -27.198066577865404,
          -27.18843622918876,
          -27.187977382289407,
          -27.19177484084625,
          -27.198242683807553,
          -27.198239963610586,
          -27.198108147672194,
          -27.198644974614815,
          -27.192218885695556,
          -27.196421510929298,
          -27.198254680746626,
          -27.193943776158005,
          -27.19695901295156,
          -27.196673295216456,
          -27.19573602614517,
          -27.19428869311507,
          -27.198628957459874,
          -27.197273991392088,
          -27.200000000000017,
          -27.200000000000017,
          -27.19245633604981,
          -27.19636589167002,
          -27.196354370046638,
          -27.19829528805338,
          -27.200000000000017,
          -27.197833150421914,
          -27.19721548426841,
          -27.194543230353695,
          -27.196917084698672,
          -27.195414068187937,
          -27.190970318693022,
          -27.196843772303232,
          -27.198255022646443,
          -27.19500896181826,
          -27.198280852012033,
          -27.196083194851752,
          -27.192164868455766,
          -27.195410444940887,
          -27.198068696927724,
          -27.19597358313463,
          -27.196689160614014,
          -27.19367790720372,
          -27.196085401912608,
          -27.200000000000017,
          -27.19827964093153,
          -27.200000000000017,
          -27.198279747515887,
          -27.195571513035972,
          -27.196563085007142,
          -27.196210079831427,
          -27.196712206343545,
          -27.19720786929423,
          -27.197773166140877,
          -27.19601557062874,
          -27.19481603036922,
          -27.196721412308687,
          -27.191532576548923,
          -27.198628741023725,
          -27.19728941729209,
          -27.198626604829105,
          -27.198333091764983,
          -27.197256321556782,
          -27.19723039867028,
          -27.200000000000017,
          -27.200000000000017,
          -27.19723110136099,
          -27.194452405752212,
          -27.19695878796519,
          -27.200000000000017,
          -27.19585389796037,
          -27.1969080653186,
          -27.19101112231406,
          -27.193669859146087,
          -27.200000000000017,
          -27.19398550044785,
          -27.1983367940483,
          -27.198635583183737,
          -27.19730420821709,
          -27.198456374154674,
          -27.198459248193473,
          -27.19583640275562,
          -27.19838491447497,
          -27.19862577535751,
          -27.198653897308333,
          -27.198288633777295,
          -27.197749398983962,
          -27.19862707745244,
          -27.19684120051051,
          -27.200000000000017,
          -27.198128903936787,
          -27.19831425432843,
          -27.19242263444115,
          -27.200000000000017,
          -27.200000000000017,
          -27.200000000000017,
          -27.200000000000017,
          -27.200000000000017,
          -27.19487590745265,
          -27.19698856167732,
          -27.197141498376254,
          -27.19862417273188,
          -27.200000000000017,
          -27.19835730677249,
          -27.19525478317326,
          -27.197567914257803,
          -27.197142497557245,
          -27.200000000000017,
          -27.200000000000017,
          -27.198375679389642,
          -27.198374461232774,
          -27.195206370584973,
          -27.1968644381677,
          -27.198659352630543,
          -27.200000000000017,
          -27.200000000000017,
          -27.198361136383802,
          -27.197129012567686,
          -27.198466572481706,
          -27.200000000000017,
          -27.200000000000017,
          -27.200000000000017,
          -27.19820684273696,
          -27.19686653364712,
          -27.200000000000017,
          -27.19682455393707,
          -27.200000000000017,
          -27.195562296153458,
          -27.19870632755698,
          -27.200000000000017,
          -27.200000000000017,
          -27.19682467939781,
          -27.200000000000017,
          -27.196923835769137,
          -27.200000000000017,
          -27.200000000000017,
          -27.200000000000017,
          -27.1968235588739,
          -27.200000000000017,
          -27.198466790934706,
          -27.196986634850163,
          -27.1975172942323
         ]
        }
       ],
       "layout": {
        "shapes": [
         {
          "line": {
           "width": 1
          },
          "opacity": 1,
          "type": "line",
          "x0": 0,
          "x1": 1,
          "xref": "x domain",
          "y0": -29.04857609095212,
          "y1": -29.04857609095212,
          "yref": "y"
         }
        ],
        "template": {
         "data": {
          "bar": [
           {
            "error_x": {
             "color": "rgb(36,36,36)"
            },
            "error_y": {
             "color": "rgb(36,36,36)"
            },
            "marker": {
             "line": {
              "color": "white",
              "width": 0.5
             },
             "pattern": {
              "fillmode": "overlay",
              "size": 10,
              "solidity": 0.2
             }
            },
            "type": "bar"
           }
          ],
          "barpolar": [
           {
            "marker": {
             "line": {
              "color": "white",
              "width": 0.5
             },
             "pattern": {
              "fillmode": "overlay",
              "size": 10,
              "solidity": 0.2
             }
            },
            "type": "barpolar"
           }
          ],
          "carpet": [
           {
            "aaxis": {
             "endlinecolor": "rgb(36,36,36)",
             "gridcolor": "white",
             "linecolor": "white",
             "minorgridcolor": "white",
             "startlinecolor": "rgb(36,36,36)"
            },
            "baxis": {
             "endlinecolor": "rgb(36,36,36)",
             "gridcolor": "white",
             "linecolor": "white",
             "minorgridcolor": "white",
             "startlinecolor": "rgb(36,36,36)"
            },
            "type": "carpet"
           }
          ],
          "choropleth": [
           {
            "colorbar": {
             "outlinewidth": 1,
             "tickcolor": "rgb(36,36,36)",
             "ticks": "outside"
            },
            "type": "choropleth"
           }
          ],
          "contour": [
           {
            "colorbar": {
             "outlinewidth": 1,
             "tickcolor": "rgb(36,36,36)",
             "ticks": "outside"
            },
            "colorscale": [
             [
              0,
              "#440154"
             ],
             [
              0.1111111111111111,
              "#482878"
             ],
             [
              0.2222222222222222,
              "#3e4989"
             ],
             [
              0.3333333333333333,
              "#31688e"
             ],
             [
              0.4444444444444444,
              "#26828e"
             ],
             [
              0.5555555555555556,
              "#1f9e89"
             ],
             [
              0.6666666666666666,
              "#35b779"
             ],
             [
              0.7777777777777778,
              "#6ece58"
             ],
             [
              0.8888888888888888,
              "#b5de2b"
             ],
             [
              1,
              "#fde725"
             ]
            ],
            "type": "contour"
           }
          ],
          "contourcarpet": [
           {
            "colorbar": {
             "outlinewidth": 1,
             "tickcolor": "rgb(36,36,36)",
             "ticks": "outside"
            },
            "type": "contourcarpet"
           }
          ],
          "heatmap": [
           {
            "colorbar": {
             "outlinewidth": 1,
             "tickcolor": "rgb(36,36,36)",
             "ticks": "outside"
            },
            "colorscale": [
             [
              0,
              "#440154"
             ],
             [
              0.1111111111111111,
              "#482878"
             ],
             [
              0.2222222222222222,
              "#3e4989"
             ],
             [
              0.3333333333333333,
              "#31688e"
             ],
             [
              0.4444444444444444,
              "#26828e"
             ],
             [
              0.5555555555555556,
              "#1f9e89"
             ],
             [
              0.6666666666666666,
              "#35b779"
             ],
             [
              0.7777777777777778,
              "#6ece58"
             ],
             [
              0.8888888888888888,
              "#b5de2b"
             ],
             [
              1,
              "#fde725"
             ]
            ],
            "type": "heatmap"
           }
          ],
          "heatmapgl": [
           {
            "colorbar": {
             "outlinewidth": 1,
             "tickcolor": "rgb(36,36,36)",
             "ticks": "outside"
            },
            "colorscale": [
             [
              0,
              "#440154"
             ],
             [
              0.1111111111111111,
              "#482878"
             ],
             [
              0.2222222222222222,
              "#3e4989"
             ],
             [
              0.3333333333333333,
              "#31688e"
             ],
             [
              0.4444444444444444,
              "#26828e"
             ],
             [
              0.5555555555555556,
              "#1f9e89"
             ],
             [
              0.6666666666666666,
              "#35b779"
             ],
             [
              0.7777777777777778,
              "#6ece58"
             ],
             [
              0.8888888888888888,
              "#b5de2b"
             ],
             [
              1,
              "#fde725"
             ]
            ],
            "type": "heatmapgl"
           }
          ],
          "histogram": [
           {
            "marker": {
             "line": {
              "color": "white",
              "width": 0.6
             }
            },
            "type": "histogram"
           }
          ],
          "histogram2d": [
           {
            "colorbar": {
             "outlinewidth": 1,
             "tickcolor": "rgb(36,36,36)",
             "ticks": "outside"
            },
            "colorscale": [
             [
              0,
              "#440154"
             ],
             [
              0.1111111111111111,
              "#482878"
             ],
             [
              0.2222222222222222,
              "#3e4989"
             ],
             [
              0.3333333333333333,
              "#31688e"
             ],
             [
              0.4444444444444444,
              "#26828e"
             ],
             [
              0.5555555555555556,
              "#1f9e89"
             ],
             [
              0.6666666666666666,
              "#35b779"
             ],
             [
              0.7777777777777778,
              "#6ece58"
             ],
             [
              0.8888888888888888,
              "#b5de2b"
             ],
             [
              1,
              "#fde725"
             ]
            ],
            "type": "histogram2d"
           }
          ],
          "histogram2dcontour": [
           {
            "colorbar": {
             "outlinewidth": 1,
             "tickcolor": "rgb(36,36,36)",
             "ticks": "outside"
            },
            "colorscale": [
             [
              0,
              "#440154"
             ],
             [
              0.1111111111111111,
              "#482878"
             ],
             [
              0.2222222222222222,
              "#3e4989"
             ],
             [
              0.3333333333333333,
              "#31688e"
             ],
             [
              0.4444444444444444,
              "#26828e"
             ],
             [
              0.5555555555555556,
              "#1f9e89"
             ],
             [
              0.6666666666666666,
              "#35b779"
             ],
             [
              0.7777777777777778,
              "#6ece58"
             ],
             [
              0.8888888888888888,
              "#b5de2b"
             ],
             [
              1,
              "#fde725"
             ]
            ],
            "type": "histogram2dcontour"
           }
          ],
          "mesh3d": [
           {
            "colorbar": {
             "outlinewidth": 1,
             "tickcolor": "rgb(36,36,36)",
             "ticks": "outside"
            },
            "type": "mesh3d"
           }
          ],
          "parcoords": [
           {
            "line": {
             "colorbar": {
              "outlinewidth": 1,
              "tickcolor": "rgb(36,36,36)",
              "ticks": "outside"
             }
            },
            "type": "parcoords"
           }
          ],
          "pie": [
           {
            "automargin": true,
            "type": "pie"
           }
          ],
          "scatter": [
           {
            "marker": {
             "colorbar": {
              "outlinewidth": 1,
              "tickcolor": "rgb(36,36,36)",
              "ticks": "outside"
             }
            },
            "type": "scatter"
           }
          ],
          "scatter3d": [
           {
            "line": {
             "colorbar": {
              "outlinewidth": 1,
              "tickcolor": "rgb(36,36,36)",
              "ticks": "outside"
             }
            },
            "marker": {
             "colorbar": {
              "outlinewidth": 1,
              "tickcolor": "rgb(36,36,36)",
              "ticks": "outside"
             }
            },
            "type": "scatter3d"
           }
          ],
          "scattercarpet": [
           {
            "marker": {
             "colorbar": {
              "outlinewidth": 1,
              "tickcolor": "rgb(36,36,36)",
              "ticks": "outside"
             }
            },
            "type": "scattercarpet"
           }
          ],
          "scattergeo": [
           {
            "marker": {
             "colorbar": {
              "outlinewidth": 1,
              "tickcolor": "rgb(36,36,36)",
              "ticks": "outside"
             }
            },
            "type": "scattergeo"
           }
          ],
          "scattergl": [
           {
            "marker": {
             "colorbar": {
              "outlinewidth": 1,
              "tickcolor": "rgb(36,36,36)",
              "ticks": "outside"
             }
            },
            "type": "scattergl"
           }
          ],
          "scattermapbox": [
           {
            "marker": {
             "colorbar": {
              "outlinewidth": 1,
              "tickcolor": "rgb(36,36,36)",
              "ticks": "outside"
             }
            },
            "type": "scattermapbox"
           }
          ],
          "scatterpolar": [
           {
            "marker": {
             "colorbar": {
              "outlinewidth": 1,
              "tickcolor": "rgb(36,36,36)",
              "ticks": "outside"
             }
            },
            "type": "scatterpolar"
           }
          ],
          "scatterpolargl": [
           {
            "marker": {
             "colorbar": {
              "outlinewidth": 1,
              "tickcolor": "rgb(36,36,36)",
              "ticks": "outside"
             }
            },
            "type": "scatterpolargl"
           }
          ],
          "scatterternary": [
           {
            "marker": {
             "colorbar": {
              "outlinewidth": 1,
              "tickcolor": "rgb(36,36,36)",
              "ticks": "outside"
             }
            },
            "type": "scatterternary"
           }
          ],
          "surface": [
           {
            "colorbar": {
             "outlinewidth": 1,
             "tickcolor": "rgb(36,36,36)",
             "ticks": "outside"
            },
            "colorscale": [
             [
              0,
              "#440154"
             ],
             [
              0.1111111111111111,
              "#482878"
             ],
             [
              0.2222222222222222,
              "#3e4989"
             ],
             [
              0.3333333333333333,
              "#31688e"
             ],
             [
              0.4444444444444444,
              "#26828e"
             ],
             [
              0.5555555555555556,
              "#1f9e89"
             ],
             [
              0.6666666666666666,
              "#35b779"
             ],
             [
              0.7777777777777778,
              "#6ece58"
             ],
             [
              0.8888888888888888,
              "#b5de2b"
             ],
             [
              1,
              "#fde725"
             ]
            ],
            "type": "surface"
           }
          ],
          "table": [
           {
            "cells": {
             "fill": {
              "color": "rgb(237,237,237)"
             },
             "line": {
              "color": "white"
             }
            },
            "header": {
             "fill": {
              "color": "rgb(217,217,217)"
             },
             "line": {
              "color": "white"
             }
            },
            "type": "table"
           }
          ]
         },
         "layout": {
          "annotationdefaults": {
           "arrowhead": 0,
           "arrowwidth": 1
          },
          "autotypenumbers": "strict",
          "coloraxis": {
           "colorbar": {
            "outlinewidth": 1,
            "tickcolor": "rgb(36,36,36)",
            "ticks": "outside"
           }
          },
          "colorscale": {
           "diverging": [
            [
             0,
             "rgb(103,0,31)"
            ],
            [
             0.1,
             "rgb(178,24,43)"
            ],
            [
             0.2,
             "rgb(214,96,77)"
            ],
            [
             0.3,
             "rgb(244,165,130)"
            ],
            [
             0.4,
             "rgb(253,219,199)"
            ],
            [
             0.5,
             "rgb(247,247,247)"
            ],
            [
             0.6,
             "rgb(209,229,240)"
            ],
            [
             0.7,
             "rgb(146,197,222)"
            ],
            [
             0.8,
             "rgb(67,147,195)"
            ],
            [
             0.9,
             "rgb(33,102,172)"
            ],
            [
             1,
             "rgb(5,48,97)"
            ]
           ],
           "sequential": [
            [
             0,
             "#440154"
            ],
            [
             0.1111111111111111,
             "#482878"
            ],
            [
             0.2222222222222222,
             "#3e4989"
            ],
            [
             0.3333333333333333,
             "#31688e"
            ],
            [
             0.4444444444444444,
             "#26828e"
            ],
            [
             0.5555555555555556,
             "#1f9e89"
            ],
            [
             0.6666666666666666,
             "#35b779"
            ],
            [
             0.7777777777777778,
             "#6ece58"
            ],
            [
             0.8888888888888888,
             "#b5de2b"
            ],
            [
             1,
             "#fde725"
            ]
           ],
           "sequentialminus": [
            [
             0,
             "#440154"
            ],
            [
             0.1111111111111111,
             "#482878"
            ],
            [
             0.2222222222222222,
             "#3e4989"
            ],
            [
             0.3333333333333333,
             "#31688e"
            ],
            [
             0.4444444444444444,
             "#26828e"
            ],
            [
             0.5555555555555556,
             "#1f9e89"
            ],
            [
             0.6666666666666666,
             "#35b779"
            ],
            [
             0.7777777777777778,
             "#6ece58"
            ],
            [
             0.8888888888888888,
             "#b5de2b"
            ],
            [
             1,
             "#fde725"
            ]
           ]
          },
          "colorway": [
           "#1F77B4",
           "#FF7F0E",
           "#2CA02C",
           "#D62728",
           "#9467BD",
           "#8C564B",
           "#E377C2",
           "#7F7F7F",
           "#BCBD22",
           "#17BECF"
          ],
          "font": {
           "color": "rgb(36,36,36)"
          },
          "geo": {
           "bgcolor": "white",
           "lakecolor": "white",
           "landcolor": "white",
           "showlakes": true,
           "showland": true,
           "subunitcolor": "white"
          },
          "hoverlabel": {
           "align": "left"
          },
          "hovermode": "closest",
          "mapbox": {
           "style": "light"
          },
          "paper_bgcolor": "white",
          "plot_bgcolor": "white",
          "polar": {
           "angularaxis": {
            "gridcolor": "rgb(232,232,232)",
            "linecolor": "rgb(36,36,36)",
            "showgrid": false,
            "showline": true,
            "ticks": "outside"
           },
           "bgcolor": "white",
           "radialaxis": {
            "gridcolor": "rgb(232,232,232)",
            "linecolor": "rgb(36,36,36)",
            "showgrid": false,
            "showline": true,
            "ticks": "outside"
           }
          },
          "scene": {
           "xaxis": {
            "backgroundcolor": "white",
            "gridcolor": "rgb(232,232,232)",
            "gridwidth": 2,
            "linecolor": "rgb(36,36,36)",
            "showbackground": true,
            "showgrid": false,
            "showline": true,
            "ticks": "outside",
            "zeroline": false,
            "zerolinecolor": "rgb(36,36,36)"
           },
           "yaxis": {
            "backgroundcolor": "white",
            "gridcolor": "rgb(232,232,232)",
            "gridwidth": 2,
            "linecolor": "rgb(36,36,36)",
            "showbackground": true,
            "showgrid": false,
            "showline": true,
            "ticks": "outside",
            "zeroline": false,
            "zerolinecolor": "rgb(36,36,36)"
           },
           "zaxis": {
            "backgroundcolor": "white",
            "gridcolor": "rgb(232,232,232)",
            "gridwidth": 2,
            "linecolor": "rgb(36,36,36)",
            "showbackground": true,
            "showgrid": false,
            "showline": true,
            "ticks": "outside",
            "zeroline": false,
            "zerolinecolor": "rgb(36,36,36)"
           }
          },
          "shapedefaults": {
           "fillcolor": "black",
           "line": {
            "width": 0
           },
           "opacity": 0.3
          },
          "ternary": {
           "aaxis": {
            "gridcolor": "rgb(232,232,232)",
            "linecolor": "rgb(36,36,36)",
            "showgrid": false,
            "showline": true,
            "ticks": "outside"
           },
           "baxis": {
            "gridcolor": "rgb(232,232,232)",
            "linecolor": "rgb(36,36,36)",
            "showgrid": false,
            "showline": true,
            "ticks": "outside"
           },
           "bgcolor": "white",
           "caxis": {
            "gridcolor": "rgb(232,232,232)",
            "linecolor": "rgb(36,36,36)",
            "showgrid": false,
            "showline": true,
            "ticks": "outside"
           }
          },
          "title": {
           "x": 0.05
          },
          "xaxis": {
           "automargin": true,
           "gridcolor": "rgb(232,232,232)",
           "linecolor": "rgb(36,36,36)",
           "showgrid": false,
           "showline": true,
           "ticks": "outside",
           "title": {
            "standoff": 15
           },
           "zeroline": false,
           "zerolinecolor": "rgb(36,36,36)"
          },
          "yaxis": {
           "automargin": true,
           "gridcolor": "rgb(232,232,232)",
           "linecolor": "rgb(36,36,36)",
           "showgrid": false,
           "showline": true,
           "ticks": "outside",
           "title": {
            "standoff": 15
           },
           "zeroline": false,
           "zerolinecolor": "rgb(36,36,36)"
          }
         }
        },
        "title": {
         "text": "<b>S-S model </b>, L=16, J2 =1, J1 =0.2 , η=0.01, α=16, samples=1000"
        },
        "xaxis": {
         "mirror": true,
         "showline": true,
         "title": {
          "text": "Iteration"
         }
        },
        "yaxis": {
         "mirror": true,
         "showline": true,
         "title": {
          "text": "Energy"
         }
        }
       }
      },
      "text/html": [
       "<div>                            <div id=\"76192253-2452-443c-a110-35803c2b32ae\" class=\"plotly-graph-div\" style=\"height:525px; width:100%;\"></div>            <script type=\"text/javascript\">                require([\"plotly\"], function(Plotly) {                    window.PLOTLYENV=window.PLOTLYENV || {};                                    if (document.getElementById(\"76192253-2452-443c-a110-35803c2b32ae\")) {                    Plotly.newPlot(                        \"76192253-2452-443c-a110-35803c2b32ae\",                        [{\"line\":{\"color\":\"#000000\",\"width\":1},\"mode\":\"lines\",\"name\":\"exact energy\",\"type\":\"scatter\",\"x\":[0,400],\"y\":[-29.04857609095212,-29.04857609095212]},{\"name\":\"normal\",\"type\":\"scatter\",\"x\":[0,1,2,3,4,5,6,7,8,9,10,11,12,13,14,15,16,17,18,19,20,21,22,23,24,25,26,27,28,29,30,31,32,33,34,35,36,37,38,39,40,41,42,43,44,45,46,47,48,49,50,51,52,53,54,55,56,57,58,59,60,61,62,63,64,65,66,67,68,69,70,71,72,73,74,75,76,77,78,79,80,81,82,83,84,85,86,87,88,89,90,91,92,93,94,95,96,97,98,99,100,101,102,103,104,105,106,107,108,109,110,111,112,113,114,115,116,117,118,119,120,121,122,123,124,125,126,127,128,129,130,131,132,133,134,135,136,137,138,139,140,141,142,143,144,145,146,147,148,149,150,151,152,153,154,155,156,157,158,159,160,161,162,163,164,165,166,167,168,169,170,171,172,173,174,175,176,177,178,179,180,181,182,183,184,185,186,187,188,189,190,191,192,193,194,195,196,197,198,199,200,201,202,203,204,205,206,207,208,209,210,211,212,213,214,215,216,217,218,219,220,221,222,223,224,225,226,227,228,229,230,231,232,233,234,235,236,237,238,239,240,241,242,243,244,245,246,247,248,249,250,251,252,253,254,255,256,257,258,259,260,261,262,263,264,265,266,267,268,269,270,271,272,273,274,275,276,277,278,279,280,281,282,283,284,285,286,287,288,289,290,291,292,293,294,295,296,297,298,299,300,301,302,303,304,305,306,307,308,309,310,311,312,313,314,315,316,317,318,319,320,321,322,323,324,325,326,327,328,329,330,331,332,333,334,335,336,337,338,339,340,341,342,343,344,345,346,347,348,349,350,351,352,353,354,355,356,357,358,359,360,361,362,363,364,365,366,367,368,369,370,371,372,373,374,375,376,377,378,379,380,381,382,383,384,385,386,387,388,389,390,391,392,393,394,395,396,397,398,399],\"y\":[14.940084436226952,12.76149795930275,10.41600715183608,8.35616240914468,6.35090306922579,4.098433805404087,1.6704112567594336,-0.1804725519782698,-1.714553582961221,-3.889334059453685,-5.271226448255762,-7.0561146667219425,-9.036848296914055,-10.070367502248928,-11.543746322649142,-12.749568618614148,-13.399598753346456,-15.453294680094915,-16.332686021314746,-17.09692265449468,-18.720224052156382,-19.228118845667165,-20.34052843398612,-20.561374460392773,-21.57312907346321,-21.942974187204964,-22.337794447279734,-22.886939379715844,-23.251514592102133,-24.02995786129377,-24.169815686663984,-24.179370468353234,-24.793963641033677,-24.95379145501309,-25.197857611425988,-25.26962968207133,-25.49559023066622,-25.860344648307507,-25.901069967443288,-26.061752315470784,-26.1516407838592,-26.280459102800627,-26.312089746689143,-26.48275524398947,-26.61308179476973,-26.576742408673194,-26.66704170791517,-26.69761537900493,-26.69992265703237,-26.798873335921886,-26.805621288586632,-26.842409374236016,-26.8977286857888,-26.929924440537075,-26.998258565391275,-26.99861497745048,-27.015721812318862,-27.070580551604433,-27.0602670578827,-27.055296618383583,-27.080488842605536,-27.050126065362736,-27.110795553278212,-27.121426758229973,-27.133634809380393,-27.112154490523636,-27.143149484874534,-27.13116183109559,-27.14237683691146,-27.118456179069003,-27.15873002027808,-27.142053637035872,-27.14229877976044,-27.14237601995968,-27.16735846486063,-27.15952837526192,-27.15852488102975,-27.164320560863576,-27.18936545365405,-27.178111702205282,-27.16367274132378,-27.168528804420195,-27.195188381552942,-27.17981546388179,-27.15875554273022,-27.17004870945209,-27.18070353972779,-27.18052692475179,-27.194727727141487,-27.17929867904848,-27.183729123391775,-27.194746865245342,-27.174310342432616,-27.19541297696152,-27.168598073955874,-27.195173051342877,-27.189046201825768,-27.200000000000017,-27.184271273199673,-27.178543435470147,-27.19439824718819,-27.195329843241797,-27.1851655321818,-27.186534965357435,-27.18439756111465,-27.19498530311814,-27.200000000000017,-27.194001441653942,-27.200000000000017,-27.185230323541433,-27.189878523899143,-27.194542787098722,-27.19507450829487,-27.195701534627474,-27.178461085595575,-27.185229568439727,-27.17918930908921,-27.19513075580493,-27.194215074144818,-27.189874373716,-27.195573302071235,-27.19529460151695,-27.18176598469559,-27.195189019792423,-27.200000000000017,-27.19485516163371,-27.190209597745163,-27.194631824309162,-27.194922462133853,-27.193886905911988,-27.200000000000017,-27.1901789561695,-27.19068036630047,-27.194547335737592,-27.19556814375659,-27.189563296066666,-27.195067837205418,-27.195239169268312,-27.200000000000017,-27.200000000000017,-27.195037992900883,-27.1937171581284,-27.200000000000017,-27.19549891513537,-27.200000000000017,-27.200000000000017,-27.194982575621058,-27.200000000000017,-27.185535780884223,-27.200000000000017,-27.18437952813108,-27.200000000000017,-27.200000000000017,-27.200000000000017,-27.184590391352703,-27.19474449458189,-27.18960504275536,-27.200000000000017,-27.194379920910187,-27.200000000000017,-27.189415788034935,-27.18330829268205,-27.200000000000017,-27.200000000000017,-27.19497670919925,-27.19424079352594,-27.189968579028744,-27.193494953194882,-27.189912048802366,-27.200000000000017,-27.200000000000017,-27.200000000000017,-27.194917541517043,-27.200000000000017,-27.200000000000017,-27.194741289592532,-27.200000000000017,-27.200000000000017,-27.19519163866434,-27.200000000000017,-27.194784183234727,-27.200000000000017,-27.200000000000017,-27.200000000000017,-27.18923554423476,-27.195025847147374,-27.200000000000017,-27.200000000000017,-27.200000000000017,-27.200000000000017,-27.194328827978225,-27.200000000000017,-27.200000000000017,-27.194200104357307,-27.19015121458572,-27.19603500122447,-27.184643827780455,-27.194894814821602,-27.194597619339106,-27.193906122863467,-27.19544876493166,-27.200000000000017,-27.191840636956798,-27.200000000000017,-27.19509444774407,-27.193555276331807,-27.194961151907503,-27.200000000000017,-27.19479420121653,-27.194877006295293,-27.200000000000017,-27.1949273557049,-27.195373873112963,-27.193881231116908,-27.200000000000017,-27.200000000000017,-27.19456469586025,-27.18819788802214,-27.200000000000017,-27.19490513757752,-27.200000000000017,-27.200000000000017,-27.200000000000017,-27.200000000000017,-27.200000000000017,-27.200000000000017,-27.191435770262366,-27.200000000000017,-27.19510604152587,-27.200000000000017,-27.18814992124153,-27.200000000000017,-27.200000000000017,-27.200000000000017,-27.200000000000017,-27.200000000000017,-27.200000000000017,-27.200000000000017,-27.200000000000017,-27.19587818150845,-27.1960854843316,-27.194728821865972,-27.18934664234602,-27.194865931277672,-27.200000000000017,-27.200000000000017,-27.200000000000017,-27.188227991646073,-27.200000000000017,-27.200000000000017,-27.200000000000017,-27.200000000000017,-27.200000000000017,-27.200000000000017,-27.200000000000017,-27.200000000000017,-27.200000000000017,-27.200000000000017,-27.200000000000017,-27.200000000000017,-27.200000000000017,-27.200000000000017,-27.200000000000017,-27.200000000000017,-27.200000000000017,-27.194745993748235,-27.190222367595293,-27.200000000000017,-27.200000000000017,-27.194161170419598,-27.200000000000017,-27.200000000000017,-27.194587913236184,-27.19442525509834,-27.200000000000017,-27.200000000000017,-27.200000000000017,-27.200000000000017,-27.200000000000017,-27.200000000000017,-27.19366763990437,-27.200000000000017,-27.19443441165925,-27.200000000000017,-27.200000000000017,-27.195098804911595,-27.190408761797055,-27.193193780890557,-27.200000000000017,-27.194276426658142,-27.200000000000017,-27.200000000000017,-27.200000000000017,-27.195085522622584,-27.200000000000017,-27.200000000000017,-27.200000000000017,-27.196014086618156,-27.200000000000017,-27.200000000000017,-27.19593996474593,-27.200000000000017,-27.200000000000017,-27.190004538846246,-27.200000000000017,-27.200000000000017,-27.200000000000017,-27.194622616127177,-27.19523422079243,-27.200000000000017,-27.200000000000017,-27.200000000000017,-27.19445346045431,-27.200000000000017,-27.194831593431644,-27.200000000000017,-27.200000000000017,-27.200000000000017,-27.200000000000017,-27.200000000000017,-27.200000000000017,-27.200000000000017,-27.200000000000017,-27.200000000000017,-27.200000000000017,-27.200000000000017,-27.200000000000017,-27.200000000000017,-27.200000000000017,-27.200000000000017,-27.200000000000017,-27.200000000000017,-27.200000000000017,-27.200000000000017,-27.200000000000017,-27.200000000000017,-27.200000000000017,-27.200000000000017,-27.200000000000017,-27.200000000000017,-27.193485885075077,-27.200000000000017,-27.200000000000017,-27.200000000000017,-27.200000000000017,-27.200000000000017,-27.200000000000017,-27.200000000000017,-27.189244273753626,-27.200000000000017,-27.19422200098846,-27.200000000000017,-27.200000000000017,-27.200000000000017,-27.19558637403775,-27.200000000000017,-27.195125492391345,-27.200000000000017,-27.200000000000017,-27.200000000000017,-27.200000000000017,-27.200000000000017,-27.200000000000017,-27.189044719814444,-27.187894986976005,-27.200000000000017,-27.196009635383433,-27.200000000000017,-27.200000000000017,-27.19537650212404,-27.200000000000017,-27.200000000000017,-27.19421543521854,-27.200000000000017,-27.200000000000017,-27.200000000000017,-27.200000000000017,-27.200000000000017,-27.200000000000017,-27.200000000000017,-27.200000000000017,-27.195938520409598,-27.200000000000017,-27.200000000000017,-27.200000000000017,-27.200000000000017,-27.195481773351663,-27.200000000000017,-27.200000000000017,-27.200000000000017,-27.195079508027916,-27.200000000000017,-27.200000000000017,-27.200000000000017,-27.200000000000017,-27.200000000000017,-27.200000000000017,-27.19039505063464,-27.200000000000017,-27.200000000000017]},{\"name\":\"MSR\",\"type\":\"scatter\",\"x\":[0,1,2,3,4,5,6,7,8,9,10,11,12,13,14,15,16,17,18,19,20,21,22,23,24,25,26,27,28,29,30,31,32,33,34,35,36,37,38,39,40,41,42,43,44,45,46,47,48,49,50,51,52,53,54,55,56,57,58,59,60,61,62,63,64,65,66,67,68,69,70,71,72,73,74,75,76,77,78,79,80,81,82,83,84,85,86,87,88,89,90,91,92,93,94,95,96,97,98,99,100,101,102,103,104,105,106,107,108,109,110,111,112,113,114,115,116,117,118,119,120,121,122,123,124,125,126,127,128,129,130,131,132,133,134,135,136,137,138,139,140,141,142,143,144,145,146,147,148,149,150,151,152,153,154,155,156,157,158,159,160,161,162,163,164,165,166,167,168,169,170,171,172,173,174,175,176,177,178,179,180,181,182,183,184,185,186,187,188,189,190,191,192,193,194,195,196,197,198,199,200,201,202,203,204,205,206,207,208,209,210,211,212,213,214,215,216,217,218,219,220,221,222,223,224,225,226,227,228,229,230,231,232,233,234,235,236,237,238,239,240,241,242,243,244,245,246,247,248,249,250,251,252,253,254,255,256,257,258,259,260,261,262,263,264,265,266,267,268,269,270,271,272,273,274,275,276,277,278,279,280,281,282,283,284,285,286,287,288,289,290,291,292,293,294,295,296,297,298,299,300,301,302,303,304,305,306,307,308,309,310,311,312,313,314,315,316,317,318,319,320,321,322,323,324,325,326,327,328,329,330,331,332,333,334,335,336,337,338,339,340,341,342,343,344,345,346,347,348,349,350,351,352,353,354,355,356,357,358,359,360,361,362,363,364,365,366,367,368,369,370,371,372,373,374,375,376,377,378,379,380,381,382,383,384,385,386,387,388,389,390,391,392,393,394,395,396,397,398,399],\"y\":[1.6828931620602319,-0.8123934847344426,-2.5297666171268647,-4.631292106708926,-5.970853424664049,-7.200587448481375,-8.779887716126712,-9.775579190125972,-11.300484037936913,-12.046999267113698,-13.24508311075583,-14.132766929655698,-14.945048719430975,-15.422138019428095,-16.04730699510607,-16.654277675920127,-17.484863221972272,-17.799007005027594,-18.12969733717608,-18.770126988710864,-19.126647195894414,-19.81366888463974,-20.30599013628887,-20.40424249405996,-20.73603447379684,-21.028587156502432,-21.067573542275824,-21.524671953493595,-21.579712506517204,-21.971703238470813,-22.05898629307045,-22.414814021528986,-22.605295616200767,-22.966673227603536,-22.850869033187507,-23.348283738112574,-23.341800143411383,-23.590228853207996,-23.672737632170392,-23.76761349097095,-24.00940191278048,-24.22326709575998,-24.172212230223586,-24.237216044361386,-24.387410896739066,-24.713205043025287,-24.66317780898485,-24.687545246377795,-24.771786425466907,-24.86722532585886,-25.02038219329541,-25.18213950919709,-25.195168595597067,-25.264543046786752,-25.34650265811498,-25.351331970006242,-25.517200067996306,-25.509234262715918,-25.68482702769563,-25.751204501553538,-25.806257172130234,-25.863548035688734,-25.878358630319017,-25.95798424548203,-25.94756717691874,-26.0528950881959,-26.082736029605833,-26.182723050995783,-26.116954362512224,-26.209598783401283,-26.247663619162644,-26.271548425400045,-26.306112568370835,-26.37150159220366,-26.349547391969683,-26.375715723721147,-26.601752057257112,-26.508255602513298,-26.52504915856271,-26.475190007175545,-26.55428780989909,-26.56542545236971,-26.621986639991135,-26.652682445659572,-26.640841723116782,-26.67527135591763,-26.723650216223355,-26.736352332095,-26.759366444450773,-26.75358163058894,-26.732400223491783,-26.843796503329628,-26.829965485642177,-26.839983251574804,-26.8862999123624,-26.828855813720974,-26.919819096928403,-26.8594930928929,-26.908232208178404,-26.944208180639123,-26.885412066878594,-26.896368967101097,-26.91723523315783,-26.928521038770146,-26.93154626339981,-26.913430862727907,-27.00390468923373,-26.987698038675497,-27.027920618337564,-26.99793955598241,-27.005740734484156,-27.031089848033105,-26.974616420727823,-27.03363574113176,-27.005082236498477,-27.02219854306053,-27.07086798690526,-27.07874790613563,-27.093902121886988,-27.104424630969284,-27.088950926143802,-27.094704628708666,-27.099295958021635,-27.091896644962922,-27.082594873724847,-27.064891400024848,-27.117809181403945,-27.115408979752242,-27.1201187643126,-27.129643371120874,-27.124140951485174,-27.11211103265885,-27.127593612466693,-27.127194996283187,-27.133262210633255,-27.134362395113765,-27.11604989037725,-27.15395164987334,-27.143225425971423,-27.14232481651559,-27.1249374476735,-27.135260950516837,-27.15133137717261,-27.149630430804343,-27.14337974623596,-27.153137472604335,-27.16735394600579,-27.12229963103646,-27.161571103784617,-27.15073703204423,-27.151483384525832,-27.149145120137963,-27.15776657584621,-27.161371573762878,-27.163228104178803,-27.160080296632398,-27.167239761928304,-27.167239693851226,-27.178965622940986,-27.184004111499377,-27.173685734520774,-27.163666471453187,-27.167016955705314,-27.181904222398888,-27.164266328013568,-27.18642103246378,-27.167679492861435,-27.178211404396972,-27.166135973349668,-27.181125870131556,-27.175346697769942,-27.167525431347205,-27.175908589656565,-27.1762998779252,-27.17745353471288,-27.19082078457244,-27.186544946776326,-27.17519583122983,-27.186444129199632,-27.194245573156742,-27.17418489504539,-27.179970231968102,-27.17819874392511,-27.18301284428377,-27.1781497137908,-27.187893068908473,-27.18867203745717,-27.18419876016184,-27.17809906329526,-27.18077035831975,-27.182560587853075,-27.18197348472971,-27.19127041583511,-27.18764657907157,-27.18617628778216,-27.190914570077396,-27.174458277268606,-27.19028433786583,-27.18788857376091,-27.191142495192267,-27.185052211318858,-27.191126438270224,-27.18511076478715,-27.19690043842483,-27.187237552701983,-27.191997881899646,-27.183751683381647,-27.194034530872273,-27.196880726996493,-27.186145494197277,-27.190715242081563,-27.190092432051962,-27.18713597451336,-27.186437234729684,-27.192308657205707,-27.195205270318922,-27.193273754237953,-27.186774404808187,-27.19018374470541,-27.19003724315339,-27.190207282590087,-27.19831730230358,-27.189148892564738,-27.193147586061016,-27.191633559484465,-27.189793814451235,-27.19352870926918,-27.189508270564968,-27.19725787084165,-27.195040674257015,-27.195084183383223,-27.197375771617942,-27.193043041058903,-27.198670101146536,-27.192427257162535,-27.19501624666081,-27.19461150212601,-27.195014896661387,-27.198053260233525,-27.192555867261955,-27.194466368243805,-27.19165681384659,-27.19543716246783,-27.200000000000017,-27.19080373324323,-27.19395939666283,-27.193145181495762,-27.19238039420018,-27.198087923253272,-27.19433221511278,-27.190666491757,-27.19855833443953,-27.194602881216053,-27.19386072720655,-27.189617283404036,-27.196810999264606,-27.1965462781281,-27.197865352556775,-27.196908137443867,-27.198066577865404,-27.18843622918876,-27.187977382289407,-27.19177484084625,-27.198242683807553,-27.198239963610586,-27.198108147672194,-27.198644974614815,-27.192218885695556,-27.196421510929298,-27.198254680746626,-27.193943776158005,-27.19695901295156,-27.196673295216456,-27.19573602614517,-27.19428869311507,-27.198628957459874,-27.197273991392088,-27.200000000000017,-27.200000000000017,-27.19245633604981,-27.19636589167002,-27.196354370046638,-27.19829528805338,-27.200000000000017,-27.197833150421914,-27.19721548426841,-27.194543230353695,-27.196917084698672,-27.195414068187937,-27.190970318693022,-27.196843772303232,-27.198255022646443,-27.19500896181826,-27.198280852012033,-27.196083194851752,-27.192164868455766,-27.195410444940887,-27.198068696927724,-27.19597358313463,-27.196689160614014,-27.19367790720372,-27.196085401912608,-27.200000000000017,-27.19827964093153,-27.200000000000017,-27.198279747515887,-27.195571513035972,-27.196563085007142,-27.196210079831427,-27.196712206343545,-27.19720786929423,-27.197773166140877,-27.19601557062874,-27.19481603036922,-27.196721412308687,-27.191532576548923,-27.198628741023725,-27.19728941729209,-27.198626604829105,-27.198333091764983,-27.197256321556782,-27.19723039867028,-27.200000000000017,-27.200000000000017,-27.19723110136099,-27.194452405752212,-27.19695878796519,-27.200000000000017,-27.19585389796037,-27.1969080653186,-27.19101112231406,-27.193669859146087,-27.200000000000017,-27.19398550044785,-27.1983367940483,-27.198635583183737,-27.19730420821709,-27.198456374154674,-27.198459248193473,-27.19583640275562,-27.19838491447497,-27.19862577535751,-27.198653897308333,-27.198288633777295,-27.197749398983962,-27.19862707745244,-27.19684120051051,-27.200000000000017,-27.198128903936787,-27.19831425432843,-27.19242263444115,-27.200000000000017,-27.200000000000017,-27.200000000000017,-27.200000000000017,-27.200000000000017,-27.19487590745265,-27.19698856167732,-27.197141498376254,-27.19862417273188,-27.200000000000017,-27.19835730677249,-27.19525478317326,-27.197567914257803,-27.197142497557245,-27.200000000000017,-27.200000000000017,-27.198375679389642,-27.198374461232774,-27.195206370584973,-27.1968644381677,-27.198659352630543,-27.200000000000017,-27.200000000000017,-27.198361136383802,-27.197129012567686,-27.198466572481706,-27.200000000000017,-27.200000000000017,-27.200000000000017,-27.19820684273696,-27.19686653364712,-27.200000000000017,-27.19682455393707,-27.200000000000017,-27.195562296153458,-27.19870632755698,-27.200000000000017,-27.200000000000017,-27.19682467939781,-27.200000000000017,-27.196923835769137,-27.200000000000017,-27.200000000000017,-27.200000000000017,-27.1968235588739,-27.200000000000017,-27.198466790934706,-27.196986634850163,-27.1975172942323]}],                        {\"shapes\":[{\"line\":{\"width\":1},\"opacity\":1,\"type\":\"line\",\"x0\":0,\"x1\":1,\"xref\":\"x domain\",\"y0\":-29.04857609095212,\"y1\":-29.04857609095212,\"yref\":\"y\"}],\"template\":{\"data\":{\"bar\":[{\"error_x\":{\"color\":\"rgb(36,36,36)\"},\"error_y\":{\"color\":\"rgb(36,36,36)\"},\"marker\":{\"line\":{\"color\":\"white\",\"width\":0.5},\"pattern\":{\"fillmode\":\"overlay\",\"size\":10,\"solidity\":0.2}},\"type\":\"bar\"}],\"barpolar\":[{\"marker\":{\"line\":{\"color\":\"white\",\"width\":0.5},\"pattern\":{\"fillmode\":\"overlay\",\"size\":10,\"solidity\":0.2}},\"type\":\"barpolar\"}],\"carpet\":[{\"aaxis\":{\"endlinecolor\":\"rgb(36,36,36)\",\"gridcolor\":\"white\",\"linecolor\":\"white\",\"minorgridcolor\":\"white\",\"startlinecolor\":\"rgb(36,36,36)\"},\"baxis\":{\"endlinecolor\":\"rgb(36,36,36)\",\"gridcolor\":\"white\",\"linecolor\":\"white\",\"minorgridcolor\":\"white\",\"startlinecolor\":\"rgb(36,36,36)\"},\"type\":\"carpet\"}],\"choropleth\":[{\"colorbar\":{\"outlinewidth\":1,\"tickcolor\":\"rgb(36,36,36)\",\"ticks\":\"outside\"},\"type\":\"choropleth\"}],\"contour\":[{\"colorbar\":{\"outlinewidth\":1,\"tickcolor\":\"rgb(36,36,36)\",\"ticks\":\"outside\"},\"colorscale\":[[0.0,\"#440154\"],[0.1111111111111111,\"#482878\"],[0.2222222222222222,\"#3e4989\"],[0.3333333333333333,\"#31688e\"],[0.4444444444444444,\"#26828e\"],[0.5555555555555556,\"#1f9e89\"],[0.6666666666666666,\"#35b779\"],[0.7777777777777778,\"#6ece58\"],[0.8888888888888888,\"#b5de2b\"],[1.0,\"#fde725\"]],\"type\":\"contour\"}],\"contourcarpet\":[{\"colorbar\":{\"outlinewidth\":1,\"tickcolor\":\"rgb(36,36,36)\",\"ticks\":\"outside\"},\"type\":\"contourcarpet\"}],\"heatmap\":[{\"colorbar\":{\"outlinewidth\":1,\"tickcolor\":\"rgb(36,36,36)\",\"ticks\":\"outside\"},\"colorscale\":[[0.0,\"#440154\"],[0.1111111111111111,\"#482878\"],[0.2222222222222222,\"#3e4989\"],[0.3333333333333333,\"#31688e\"],[0.4444444444444444,\"#26828e\"],[0.5555555555555556,\"#1f9e89\"],[0.6666666666666666,\"#35b779\"],[0.7777777777777778,\"#6ece58\"],[0.8888888888888888,\"#b5de2b\"],[1.0,\"#fde725\"]],\"type\":\"heatmap\"}],\"heatmapgl\":[{\"colorbar\":{\"outlinewidth\":1,\"tickcolor\":\"rgb(36,36,36)\",\"ticks\":\"outside\"},\"colorscale\":[[0.0,\"#440154\"],[0.1111111111111111,\"#482878\"],[0.2222222222222222,\"#3e4989\"],[0.3333333333333333,\"#31688e\"],[0.4444444444444444,\"#26828e\"],[0.5555555555555556,\"#1f9e89\"],[0.6666666666666666,\"#35b779\"],[0.7777777777777778,\"#6ece58\"],[0.8888888888888888,\"#b5de2b\"],[1.0,\"#fde725\"]],\"type\":\"heatmapgl\"}],\"histogram\":[{\"marker\":{\"line\":{\"color\":\"white\",\"width\":0.6}},\"type\":\"histogram\"}],\"histogram2d\":[{\"colorbar\":{\"outlinewidth\":1,\"tickcolor\":\"rgb(36,36,36)\",\"ticks\":\"outside\"},\"colorscale\":[[0.0,\"#440154\"],[0.1111111111111111,\"#482878\"],[0.2222222222222222,\"#3e4989\"],[0.3333333333333333,\"#31688e\"],[0.4444444444444444,\"#26828e\"],[0.5555555555555556,\"#1f9e89\"],[0.6666666666666666,\"#35b779\"],[0.7777777777777778,\"#6ece58\"],[0.8888888888888888,\"#b5de2b\"],[1.0,\"#fde725\"]],\"type\":\"histogram2d\"}],\"histogram2dcontour\":[{\"colorbar\":{\"outlinewidth\":1,\"tickcolor\":\"rgb(36,36,36)\",\"ticks\":\"outside\"},\"colorscale\":[[0.0,\"#440154\"],[0.1111111111111111,\"#482878\"],[0.2222222222222222,\"#3e4989\"],[0.3333333333333333,\"#31688e\"],[0.4444444444444444,\"#26828e\"],[0.5555555555555556,\"#1f9e89\"],[0.6666666666666666,\"#35b779\"],[0.7777777777777778,\"#6ece58\"],[0.8888888888888888,\"#b5de2b\"],[1.0,\"#fde725\"]],\"type\":\"histogram2dcontour\"}],\"mesh3d\":[{\"colorbar\":{\"outlinewidth\":1,\"tickcolor\":\"rgb(36,36,36)\",\"ticks\":\"outside\"},\"type\":\"mesh3d\"}],\"parcoords\":[{\"line\":{\"colorbar\":{\"outlinewidth\":1,\"tickcolor\":\"rgb(36,36,36)\",\"ticks\":\"outside\"}},\"type\":\"parcoords\"}],\"pie\":[{\"automargin\":true,\"type\":\"pie\"}],\"scatter\":[{\"marker\":{\"colorbar\":{\"outlinewidth\":1,\"tickcolor\":\"rgb(36,36,36)\",\"ticks\":\"outside\"}},\"type\":\"scatter\"}],\"scatter3d\":[{\"line\":{\"colorbar\":{\"outlinewidth\":1,\"tickcolor\":\"rgb(36,36,36)\",\"ticks\":\"outside\"}},\"marker\":{\"colorbar\":{\"outlinewidth\":1,\"tickcolor\":\"rgb(36,36,36)\",\"ticks\":\"outside\"}},\"type\":\"scatter3d\"}],\"scattercarpet\":[{\"marker\":{\"colorbar\":{\"outlinewidth\":1,\"tickcolor\":\"rgb(36,36,36)\",\"ticks\":\"outside\"}},\"type\":\"scattercarpet\"}],\"scattergeo\":[{\"marker\":{\"colorbar\":{\"outlinewidth\":1,\"tickcolor\":\"rgb(36,36,36)\",\"ticks\":\"outside\"}},\"type\":\"scattergeo\"}],\"scattergl\":[{\"marker\":{\"colorbar\":{\"outlinewidth\":1,\"tickcolor\":\"rgb(36,36,36)\",\"ticks\":\"outside\"}},\"type\":\"scattergl\"}],\"scattermapbox\":[{\"marker\":{\"colorbar\":{\"outlinewidth\":1,\"tickcolor\":\"rgb(36,36,36)\",\"ticks\":\"outside\"}},\"type\":\"scattermapbox\"}],\"scatterpolar\":[{\"marker\":{\"colorbar\":{\"outlinewidth\":1,\"tickcolor\":\"rgb(36,36,36)\",\"ticks\":\"outside\"}},\"type\":\"scatterpolar\"}],\"scatterpolargl\":[{\"marker\":{\"colorbar\":{\"outlinewidth\":1,\"tickcolor\":\"rgb(36,36,36)\",\"ticks\":\"outside\"}},\"type\":\"scatterpolargl\"}],\"scatterternary\":[{\"marker\":{\"colorbar\":{\"outlinewidth\":1,\"tickcolor\":\"rgb(36,36,36)\",\"ticks\":\"outside\"}},\"type\":\"scatterternary\"}],\"surface\":[{\"colorbar\":{\"outlinewidth\":1,\"tickcolor\":\"rgb(36,36,36)\",\"ticks\":\"outside\"},\"colorscale\":[[0.0,\"#440154\"],[0.1111111111111111,\"#482878\"],[0.2222222222222222,\"#3e4989\"],[0.3333333333333333,\"#31688e\"],[0.4444444444444444,\"#26828e\"],[0.5555555555555556,\"#1f9e89\"],[0.6666666666666666,\"#35b779\"],[0.7777777777777778,\"#6ece58\"],[0.8888888888888888,\"#b5de2b\"],[1.0,\"#fde725\"]],\"type\":\"surface\"}],\"table\":[{\"cells\":{\"fill\":{\"color\":\"rgb(237,237,237)\"},\"line\":{\"color\":\"white\"}},\"header\":{\"fill\":{\"color\":\"rgb(217,217,217)\"},\"line\":{\"color\":\"white\"}},\"type\":\"table\"}]},\"layout\":{\"annotationdefaults\":{\"arrowhead\":0,\"arrowwidth\":1},\"autotypenumbers\":\"strict\",\"coloraxis\":{\"colorbar\":{\"outlinewidth\":1,\"tickcolor\":\"rgb(36,36,36)\",\"ticks\":\"outside\"}},\"colorscale\":{\"diverging\":[[0.0,\"rgb(103,0,31)\"],[0.1,\"rgb(178,24,43)\"],[0.2,\"rgb(214,96,77)\"],[0.3,\"rgb(244,165,130)\"],[0.4,\"rgb(253,219,199)\"],[0.5,\"rgb(247,247,247)\"],[0.6,\"rgb(209,229,240)\"],[0.7,\"rgb(146,197,222)\"],[0.8,\"rgb(67,147,195)\"],[0.9,\"rgb(33,102,172)\"],[1.0,\"rgb(5,48,97)\"]],\"sequential\":[[0.0,\"#440154\"],[0.1111111111111111,\"#482878\"],[0.2222222222222222,\"#3e4989\"],[0.3333333333333333,\"#31688e\"],[0.4444444444444444,\"#26828e\"],[0.5555555555555556,\"#1f9e89\"],[0.6666666666666666,\"#35b779\"],[0.7777777777777778,\"#6ece58\"],[0.8888888888888888,\"#b5de2b\"],[1.0,\"#fde725\"]],\"sequentialminus\":[[0.0,\"#440154\"],[0.1111111111111111,\"#482878\"],[0.2222222222222222,\"#3e4989\"],[0.3333333333333333,\"#31688e\"],[0.4444444444444444,\"#26828e\"],[0.5555555555555556,\"#1f9e89\"],[0.6666666666666666,\"#35b779\"],[0.7777777777777778,\"#6ece58\"],[0.8888888888888888,\"#b5de2b\"],[1.0,\"#fde725\"]]},\"colorway\":[\"#1F77B4\",\"#FF7F0E\",\"#2CA02C\",\"#D62728\",\"#9467BD\",\"#8C564B\",\"#E377C2\",\"#7F7F7F\",\"#BCBD22\",\"#17BECF\"],\"font\":{\"color\":\"rgb(36,36,36)\"},\"geo\":{\"bgcolor\":\"white\",\"lakecolor\":\"white\",\"landcolor\":\"white\",\"showlakes\":true,\"showland\":true,\"subunitcolor\":\"white\"},\"hoverlabel\":{\"align\":\"left\"},\"hovermode\":\"closest\",\"mapbox\":{\"style\":\"light\"},\"paper_bgcolor\":\"white\",\"plot_bgcolor\":\"white\",\"polar\":{\"angularaxis\":{\"gridcolor\":\"rgb(232,232,232)\",\"linecolor\":\"rgb(36,36,36)\",\"showgrid\":false,\"showline\":true,\"ticks\":\"outside\"},\"bgcolor\":\"white\",\"radialaxis\":{\"gridcolor\":\"rgb(232,232,232)\",\"linecolor\":\"rgb(36,36,36)\",\"showgrid\":false,\"showline\":true,\"ticks\":\"outside\"}},\"scene\":{\"xaxis\":{\"backgroundcolor\":\"white\",\"gridcolor\":\"rgb(232,232,232)\",\"gridwidth\":2,\"linecolor\":\"rgb(36,36,36)\",\"showbackground\":true,\"showgrid\":false,\"showline\":true,\"ticks\":\"outside\",\"zeroline\":false,\"zerolinecolor\":\"rgb(36,36,36)\"},\"yaxis\":{\"backgroundcolor\":\"white\",\"gridcolor\":\"rgb(232,232,232)\",\"gridwidth\":2,\"linecolor\":\"rgb(36,36,36)\",\"showbackground\":true,\"showgrid\":false,\"showline\":true,\"ticks\":\"outside\",\"zeroline\":false,\"zerolinecolor\":\"rgb(36,36,36)\"},\"zaxis\":{\"backgroundcolor\":\"white\",\"gridcolor\":\"rgb(232,232,232)\",\"gridwidth\":2,\"linecolor\":\"rgb(36,36,36)\",\"showbackground\":true,\"showgrid\":false,\"showline\":true,\"ticks\":\"outside\",\"zeroline\":false,\"zerolinecolor\":\"rgb(36,36,36)\"}},\"shapedefaults\":{\"fillcolor\":\"black\",\"line\":{\"width\":0},\"opacity\":0.3},\"ternary\":{\"aaxis\":{\"gridcolor\":\"rgb(232,232,232)\",\"linecolor\":\"rgb(36,36,36)\",\"showgrid\":false,\"showline\":true,\"ticks\":\"outside\"},\"baxis\":{\"gridcolor\":\"rgb(232,232,232)\",\"linecolor\":\"rgb(36,36,36)\",\"showgrid\":false,\"showline\":true,\"ticks\":\"outside\"},\"bgcolor\":\"white\",\"caxis\":{\"gridcolor\":\"rgb(232,232,232)\",\"linecolor\":\"rgb(36,36,36)\",\"showgrid\":false,\"showline\":true,\"ticks\":\"outside\"}},\"title\":{\"x\":0.05},\"xaxis\":{\"automargin\":true,\"gridcolor\":\"rgb(232,232,232)\",\"linecolor\":\"rgb(36,36,36)\",\"showgrid\":false,\"showline\":true,\"ticks\":\"outside\",\"title\":{\"standoff\":15},\"zeroline\":false,\"zerolinecolor\":\"rgb(36,36,36)\"},\"yaxis\":{\"automargin\":true,\"gridcolor\":\"rgb(232,232,232)\",\"linecolor\":\"rgb(36,36,36)\",\"showgrid\":false,\"showline\":true,\"ticks\":\"outside\",\"title\":{\"standoff\":15},\"zeroline\":false,\"zerolinecolor\":\"rgb(36,36,36)\"}}},\"title\":{\"text\":\"<b>S-S model </b>, L=16, J2 =1, J1 =0.2 , η=0.01, α=16, samples=1000\"},\"xaxis\":{\"mirror\":true,\"showline\":true,\"title\":{\"text\":\"Iteration\"}},\"yaxis\":{\"mirror\":true,\"showline\":true,\"title\":{\"text\":\"Energy\"}}},                        {\"responsive\": true}                    ).then(function(){\n",
       "                            \n",
       "var gd = document.getElementById('76192253-2452-443c-a110-35803c2b32ae');\n",
       "var x = new MutationObserver(function (mutations, observer) {{\n",
       "        var display = window.getComputedStyle(gd).display;\n",
       "        if (!display || display === 'none') {{\n",
       "            console.log([gd, 'removed!']);\n",
       "            Plotly.purge(gd);\n",
       "            observer.disconnect();\n",
       "        }}\n",
       "}});\n",
       "\n",
       "// Listen for the removal of the full notebook cells\n",
       "var notebookContainer = gd.closest('#notebook-container');\n",
       "if (notebookContainer) {{\n",
       "    x.observe(notebookContainer, {childList: true});\n",
       "}}\n",
       "\n",
       "// Listen for the clearing of the current output cell\n",
       "var outputEl = gd.closest('.output');\n",
       "if (outputEl) {{\n",
       "    x.observe(outputEl, {childList: true});\n",
       "}}\n",
       "\n",
       "                        })                };                });            </script>        </div>"
      ]
     },
     "metadata": {},
     "output_type": "display_data"
    }
   ],
   "source": [
    "# import the data from log file\n",
    "OUT_NAME_suffixless=OUT_NAME\n",
    "data = []\n",
    "names = [\"normal\",\"MSR\"]\n",
    "for i in range(no_of_runs):\n",
    "    data.append(json.load(open(OUT_NAME_suffixless+str(i)+\".log\")))\n",
    "if type(data[0][\"Energy\"][\"Mean\"]) == dict: #DTYPE in (np.complex128, np.complex64):#, np.float64):# and False:\n",
    "    energy_convergence = [data[i][\"Energy\"][\"Mean\"][\"real\"] for i in range(no_of_runs)]\n",
    "    # symmetry = [data[i][\"symmetry\"][\"Mean\"][\"real\"] for i in range(no_of_runs-run_only_2)]\n",
    "else:\n",
    "    energy_convergence = [data[i][\"Energy\"][\"Mean\"] for i in range(no_of_runs)]\n",
    "    # symmetry = [data[i][\"symmetry\"][\"Mean\"] for i in range(no_of_runs-run_only_2)]\n",
    "for i in range(no_of_runs):\n",
    "    figure.add_trace(go.Scatter(\n",
    "        x=data[i][\"Energy\"][\"iters\"], y=energy_convergence[i],\n",
    "        name=names[i]\n",
    "    ))\n",
    "    # figure.add_trace(go.Scatter(\n",
    "    #     x=data[i][\"Energy\"][\"iters\"], y=symmetry[i],\n",
    "    #     name=names[i]+\"_swap\"\n",
    "    # ))\n",
    "\n",
    "figure.update_layout(xaxis_title=\"Iteration\",yaxis_title=\"Energy\")\n",
    "figure.show()"
   ]
  },
  {
   "cell_type": "markdown",
   "metadata": {},
   "source": [
    "## Assessment of the other simulation results"
   ]
  },
  {
   "cell_type": "code",
   "execution_count": null,
   "metadata": {},
   "outputs": [
    {
     "name": "stdout",
     "output_type": "stream",
     "text": [
      "[-1, -1]\n"
     ]
    }
   ],
   "source": [
    "# Calculation of how long it took to reach 99.5% of exact energy. The first value under 0.5% deviation counts as a converged state.\n",
    "no_of_runs = 2\n",
    "threshold_energy = 0.995*exact_ground_energy\n",
    "data = []\n",
    "for i in range(no_of_runs):\n",
    "    data.append(json.load(open(OUT_NAME+str(i)+\".log\")))\n",
    "if type(data[0][\"Energy\"][\"Mean\"]) == dict:\n",
    "    energy_convergence = [data[i][\"Energy\"][\"Mean\"][\"real\"] for i in range(no_of_runs)]\n",
    "else:\n",
    "    energy_convergence = [data[i][\"Energy\"][\"Mean\"] for i in range(no_of_runs)]\n",
    "steps_until_convergence = [next((i for i,v in enumerate(energy_convergence[j]) if v < threshold_energy), -1) for j in range(no_of_runs)]\n",
    "print(steps_until_convergence)"
   ]
  },
  {
   "cell_type": "code",
   "execution_count": null,
   "metadata": {},
   "outputs": [
    {
     "name": "stdout",
     "output_type": "stream",
     "text": [
      "Trained RBM without MSR:\n",
      "m_d^2 = -3.333e-01+0.000e+00j ± 9.813e-18 [σ²=3.081e-33]\n",
      "m_p(MSR) = 0.000e+00+0.000e+00j ± nan [σ²=0.000e+00]\n",
      "m_s^2 = 1.250e-01+0.000e+00j ± nan [σ²=0.000e+00]\n",
      "m_s^2(MSR) = 1.250e-01+0.000e+00j ± nan [σ²=0.000e+00]\n",
      "Trained RBM with MSR:\n",
      "m_d^2 = -3.333e-01+0.000e+00j ± 9.813e-18 [σ²=3.081e-33]\n",
      "m_p(MSR) = 0.000e+00+0.000e+00j ± nan [σ²=0.000e+00]\n",
      "m_s^2 = 1.250e-01+0.000e+00j ± nan [σ²=0.000e+00]\n",
      "m_s^2(MSR) = 1.250e-01+0.000e+00j ± nan [σ²=0.000e+00]\n"
     ]
    }
   ],
   "source": [
    "# Evaluation of order parameters.\n",
    "from lattice_and_ops import Operators, Lattice\n",
    "ops = Operators(lattice,hilbert,ho.mszsz,ho.exchange)\n",
    "for i,gs in enumerate([gs_1,gs_2][run_only_2:run_only_2+no_of_runs]):\n",
    "    print(\"Trained RBM with MSR:\" if i else \"Trained RBM without MSR:\")\n",
    "    print(\"m_d^2 =\", gs.estimate(ops.m_dimer_op))\n",
    "    print(\"m_p(MSR) =\", gs.estimate(ops.m_plaquette_op_MSR))\n",
    "    print(\"m_s^2 =\", gs.estimate(ops.m_s2_op_MSR))\n",
    "    print(\"m_s^2(MSR) =\", gs.estimate(ops.m_s2_op))"
   ]
  },
  {
   "cell_type": "markdown",
   "metadata": {},
   "source": [
    "### Print final results"
   ]
  },
  {
   "cell_type": "code",
   "execution_count": null,
   "metadata": {},
   "outputs": [
    {
     "name": "stdout",
     "output_type": "stream",
     "text": [
      " 0.200  -27.20000  0.00000   -27.19752  0.00669  -0.3333  0.0000   0.0000  0.0000   0.1250  0.0000  -0.3333  0.0000   0.0000  0.0000   0.1250  0.0000   1000   400 -1, -1\n"
     ]
    }
   ],
   "source": [
    "from lattice_and_ops import log_results\n",
    "log_results(JEXCH1,gs_1,gs_2,ops,SAMPLES,NUM_ITER,steps_until_convergence)"
   ]
  },
  {
   "cell_type": "code",
   "execution_count": null,
   "metadata": {},
   "outputs": [
    {
     "name": "stdout",
     "output_type": "stream",
     "text": [
      " 0.200  -27.20000  0.00000  -0.3333  0.0000   0.0000  0.0000   0.1250  0.0000   1000   400\n"
     ]
    }
   ],
   "source": [
    "print(\"{:6.3f} {:10.5f} {:8.5f}  {:7.4f} {:7.4f}  {:7.4f} {:7.4f}  {:7.4f} {:7.4f}  {:5.0f} {:5.0f}\".format(JEXCH1, \n",
    "    gs_1.energy.mean.real,                          gs_1.energy.variance,\n",
    "    gs_1.estimate(ops.m_dimer_op).mean.real,        gs_1.estimate(ops.m_dimer_op).variance,\n",
    "    gs_1.estimate(ops.m_plaquette_op).mean.real,    gs_1.estimate(ops.m_plaquette_op).variance,\n",
    "    gs_1.estimate(ops.m_s2_op).mean.real,           gs_1.estimate(ops.m_s2_op).variance, \n",
    "    SAMPLES, NUM_ITER, steps_until_convergence[0], sep='    '))"
   ]
  },
  {
   "cell_type": "code",
   "execution_count": null,
   "metadata": {},
   "outputs": [
    {
     "name": "stdout",
     "output_type": "stream",
     "text": [
      "asd\n"
     ]
    }
   ],
   "source": [
    "print(\"asd\",file=None)"
   ]
  },
  {
   "cell_type": "code",
   "execution_count": null,
   "metadata": {},
   "outputs": [
    {
     "name": "stdout",
     "output_type": "stream",
     "text": [
      "  0.00000\n"
     ]
    }
   ],
   "source": [
    "print(\"{:9.5f}\".format(gs_1.energy.variance))"
   ]
  },
  {
   "cell_type": "code",
   "execution_count": null,
   "metadata": {},
   "outputs": [
    {
     "data": {
      "text/plain": [
       "{'Mean': (-27.200000000000017+0j),\n",
       " 'Variance': 5.048709793414476e-29,\n",
       " 'Sigma': 2.5121479338940403e-15,\n",
       " 'R_hat': nan,\n",
       " 'TauCorr': 62.0}"
      ]
     },
     "execution_count": 101,
     "metadata": {},
     "output_type": "execute_result"
    }
   ],
   "source": [
    "gs_1.energy.to_dict()"
   ]
  }
 ],
 "metadata": {
  "interpreter": {
   "hash": "31f2aee4e71d21fbe5cf8b01ff0e069b9275f58929596ceb00d14d90e3e16cd6"
  },
  "kernelspec": {
   "display_name": "Python 3.8.10 64-bit",
   "name": "python3"
  },
  "language_info": {
   "codemirror_mode": {
    "name": "ipython",
    "version": 3
   },
   "file_extension": ".py",
   "mimetype": "text/x-python",
   "name": "python",
   "nbconvert_exporter": "python",
   "pygments_lexer": "ipython3",
   "version": "3.8.10"
  },
  "metadata": {
   "interpreter": {
    "hash": "916dbcbb3f70747c44a77c7bcd40155683ae19c65e1c03b4aa3499c5328201f1"
   }
  }
 },
 "nbformat": 4,
 "nbformat_minor": 4
}
