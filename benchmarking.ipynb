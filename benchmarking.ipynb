{
 "cells": [
  {
   "cell_type": "markdown",
   "metadata": {},
   "source": [
    "# Exploring Shastry-Sutterland model with RBM variational wave function and other models"
   ]
  },
  {
   "cell_type": "code",
   "execution_count": 82,
   "metadata": {},
   "outputs": [
    {
     "name": "stdout",
     "output_type": "stream",
     "text": [
      "Python version: 3.8.10 (default, Nov 26 2021, 20:14:08) \n",
      "[GCC 9.3.0]\n",
      "NetKet version: 3.3.2.post2\n",
      "NumPy version: 1.20.3\n"
     ]
    }
   ],
   "source": [
    "import netket as nk\n",
    "import numpy as np\n",
    "import time\n",
    "import json\n",
    "import plotly.graph_objects as go\n",
    "import matplotlib.pyplot as plt\n",
    "import jax\n",
    "import flax\n",
    "import optax\n",
    "from sys import version as pyvers\n",
    "\n",
    "print(\"Python version: {}\".format(pyvers))\n",
    "print(\"NetKet version: {}\".format(nk.__version__))\n",
    "print(\"NumPy version: {}\".format(np.__version__))"
   ]
  },
  {
   "cell_type": "markdown",
   "metadata": {},
   "source": [
    "### Setup relevant parameters and settings of the simulation "
   ]
  },
  {
   "cell_type": "code",
   "execution_count": 83,
   "metadata": {},
   "outputs": [],
   "source": [
    "\"\"\"lattice\"\"\"\n",
    "SITES    = 16            # 4, 8, 16, 20 ... number of vertices in a tile determines the tile shape \n",
    "JEXCH1   = .2            # nn interaction\n",
    "JEXCH2   = 1             # nnn interaction\n",
    "H_Z      = 0             # magnetic field\n",
    "USE_PBC = True\n",
    "TOTAL_SZ = None          # 0, None ... restriction of Hilbert space\n",
    "#USE_MSR = True          # Should we use a Marshall sign rule? In this notebook, we use both.\n",
    "\n",
    "\"\"\"machine learning\"\"\"\n",
    "MACHINE  = \"GCNN\"         # RBM, RBMSymm, RBMSymm_transl, RBMModPhase, GCNN, Jastrow, myRBM\n",
    "DTYPE    = np.complex128 # data-type of weights in neural network\n",
    "ALPHA    = 2            # N_hidden / N_visible\n",
    "ETA      = .005          # learning rate (0.01 usually works)\n",
    "SAMPLER  = 'local'       # 'local' = MetropolisLocal, 'exchange' = MetropolisExchange\n",
    "SAMPLES  = 700          # number of Monte Carlo samples\n",
    "NUM_ITER = 20           # number of convergence iterations\n",
    "N_LAYERS = 2 #2             # number of layers (in case of G-CNN)\n",
    "FEATURES = (16,16) #16 #(8,4)         # dimensions of layers (in case of G-CNN)\n",
    "\n",
    "OUT_NAME = \"SS_\"+str(SITES)+\"j1=\"+str(JEXCH1) # output file name"
   ]
  },
  {
   "cell_type": "markdown",
   "metadata": {},
   "source": [
    "### Lattice definition\n",
    "Basic structure of tiled lattices is implemented in `lattice_and_ops.py` file. Class `Lattice` implements relative positional functions, \n",
    "- e.g. *`rt(node)` returns the index of the right neighbour of a site with index `node`*\n",
    "\n",
    "The `for` loop constructs full Shastry-Sutherland lattice with PBC using these auxiliary positional functions."
   ]
  },
  {
   "cell_type": "code",
   "execution_count": 84,
   "metadata": {},
   "outputs": [],
   "source": [
    "from lattice_and_ops import Lattice\n",
    "lattice = Lattice(SITES)\n",
    "\n",
    "if not USE_PBC and SITES != 16:\n",
    "    raise Exception(\"Non-PBC are implemented only for 4x4 lattice!!!\")\n",
    "\n",
    "# Construction of custom graph according to tiled lattice structure defined in the Lattice class.\n",
    "edge_colors = []\n",
    "for node in range(SITES):\n",
    "    if USE_PBC or not node in [3,7,11,15]:\n",
    "        edge_colors.append([node,lattice.rt(node), 1])  # horizontal connections\n",
    "    if USE_PBC or not node in [12,13,14,15]:\n",
    "        edge_colors.append([node,lattice.bot(node), 1]) # vertical connections\n",
    "    row, column = lattice.position(node)\n",
    "    \n",
    "    SS_color = 3 if not USE_PBC and node in [3,7,4,12,13,14,15] else 2\n",
    "    if column%2 == 0:\n",
    "        if row%2 == 0:\n",
    "            edge_colors.append([node,lattice.lrt(node),SS_color]) # diagonal bond\n",
    "        else:\n",
    "            edge_colors.append([node,lattice.llft(node),SS_color]) # diagonal bond\n",
    "\n",
    "g = nk.graph.Graph(edges=edge_colors) #,n_nodes=3)\n",
    "N = g.n_nodes\n",
    "\n",
    "hilbert = nk.hilbert.Spin(s=.5, N=g.n_nodes, total_sz=TOTAL_SZ)"
   ]
  },
  {
   "cell_type": "code",
   "execution_count": 85,
   "metadata": {},
   "outputs": [],
   "source": [
    "i = 0\n",
    "while sum(lattice.position(i))%2 == 0: # ensure that the plaquette is 'empty' (without J_2 bond inside)\n",
    "    i += 1"
   ]
  },
  {
   "cell_type": "code",
   "execution_count": 86,
   "metadata": {},
   "outputs": [
    {
     "data": {
      "text/plain": [
       "(0, 1)"
      ]
     },
     "execution_count": 86,
     "metadata": {},
     "output_type": "execute_result"
    }
   ],
   "source": [
    "lattice.position(1)"
   ]
  },
  {
   "cell_type": "code",
   "execution_count": 87,
   "metadata": {},
   "outputs": [
    {
     "data": {
      "text/plain": [
       "[(0, 5), (2, 7), (4, 11), (6, 9), (8, 13), (10, 15), (3, 12), (1, 14)]"
      ]
     },
     "execution_count": 87,
     "metadata": {},
     "output_type": "execute_result"
    }
   ],
   "source": [
    "g.edges(filter_color=2)"
   ]
  },
  {
   "cell_type": "markdown",
   "metadata": {},
   "source": [
    "### Characters of the symmetries\n",
    "In case of G-CNN, we need to specify the characters of the symmetry transformations.\n",
    "- DS phase anti-symmetric wrt permutations with negative sign and symmetric wer permutaions with postive sign\n",
    "- AF phase is always symmetric for all permutations  "
   ]
  },
  {
   "cell_type": "code",
   "execution_count": 88,
   "metadata": {},
   "outputs": [
    {
     "name": "stdout",
     "output_type": "stream",
     "text": [
      "There are 64 full symmetries.\n"
     ]
    }
   ],
   "source": [
    "\n",
    "print(\"There are\", len(g.automorphisms()), \"full symmetries.\")\n",
    "# deciding point between DS and AF phase is set to 0.5\n",
    "if JEXCH1 < 0.5:\n",
    "    # DS phase is partly anti-symmetric\n",
    "    characters = []\n",
    "    from lattice_and_ops import permutation_sign\n",
    "    for perm in g.automorphisms():\n",
    "        # print(perm, \"with sign\", permutation_sign(np.asarray(perm)))\n",
    "        characters.append(permutation_sign(np.asarray(perm)))\n",
    "    characters_dimer_1 = np.asarray(characters,dtype=complex)\n",
    "    characters_dimer_2 = characters_dimer_1\n",
    "else:\n",
    "    # AF phase if fully symmetric\n",
    "    characters_dimer_1 = np.ones((len(g.automorphisms()),), dtype=complex)\n",
    "    characters_dimer_2 = characters_dimer_1"
   ]
  },
  {
   "cell_type": "markdown",
   "metadata": {},
   "source": [
    "### Translations\n",
    "\n",
    "If we want to include only translations, we have to exclude some symmetries from `g.automorphisms()`.\n",
    "\n",
    "\n",
    "⚠️ TODO ⚠️ <span style=\"color:red\"> This part is not fully automated yet. Translations are currently picked by hand from the group of all automorphisms. </span>"
   ]
  },
  {
   "cell_type": "code",
   "execution_count": 89,
   "metadata": {},
   "outputs": [
    {
     "name": "stdout",
     "output_type": "stream",
     "text": [
      "Out of 64 permutations, 4 translations were picked.\n"
     ]
    }
   ],
   "source": [
    "if MACHINE == \"RBMSymm_transl\" and not (N in [4,16]):\n",
    "    raise NotImplementedError(\"Extraction of translations from the group of automorphisms is not implemented yet.\")\n",
    "translations = []\n",
    "for perm in g.automorphisms():\n",
    "    aperm = np.asarray(perm)\n",
    "    if N == 4:\n",
    "        if (aperm[0],aperm[1]) in ((0,1),(1,0),(2,3),(3,2)): # N = 4\n",
    "            translations.append(nk.utils.group._permutation_group.Permutation(aperm))\n",
    "    if N == 16:\n",
    "        if (aperm[0],aperm[1],aperm[3]) in ((0,1,3),(2,3,1),(8,9,11),(10,11,9)): # N = 16\n",
    "    # if (aperm[0],aperm[1],aperm[2],aperm[3]) in ((4,7,6,5),): # N = 8\n",
    "    # if (aperm[2],aperm[0]) in ((2,0),(3,0),(0,1),(1,2)):#,(2,3,1)): # N = 16, two dimers with just translation\n",
    "    # if (aperm[0],aperm[1],aperm[3]) in ((0,1,3),(3,2,0),(2,3,1),(1,0,2)): # N = 16, two dimers plus second translation option\n",
    "            translations.append(nk.utils.group._permutation_group.Permutation(aperm))\n",
    "translation_group = nk.utils.group._permutation_group.PermutationGroup(translations,degree=SITES)\n",
    "print(\"Out of\", len(g.automorphisms()), \"permutations,\",len(translation_group), \"translations were picked.\")"
   ]
  },
  {
   "cell_type": "markdown",
   "metadata": {},
   "source": [
    "## Hamoltonian definition\n",
    "$$ H = J_{1} \\sum\\limits_{\\langle i,j \\rangle}^{L} \\vec{\\sigma}_{i} \\cdot \\vec{\\sigma}_{j} + J_{2} \\sum\\limits_{\\langle\\langle i,j \\rangle\\rangle_{SS}}^{L}  \\vec{\\sigma}_{i} \\cdot \\vec{\\sigma}_{j} + 2h\\sum\\limits_{i} \\sigma^z_{i}\\,. $$\n",
    "\n",
    "Axiliary constant operators used to define hamiltonian are loaded from the external file, they are pre-defined in the `HamOps` class."
   ]
  },
  {
   "cell_type": "code",
   "execution_count": 90,
   "metadata": {},
   "outputs": [],
   "source": [
    "from lattice_and_ops import HamOps\n",
    "ho = HamOps()\n",
    "# H_Z = .5\n",
    "ha_1 = nk.operator.GraphOperator(hilbert, graph=g, bond_ops=ho.bond_operator(JEXCH1,JEXCH2, h_z=H_Z, use_MSR=False), bond_ops_colors=ho.bond_color)\n",
    "ha_2 = nk.operator.GraphOperator(hilbert, graph=g, bond_ops=ho.bond_operator(JEXCH1,JEXCH2, h_z=H_Z, use_MSR=True), bond_ops_colors=ho.bond_color)\n"
   ]
  },
  {
   "cell_type": "markdown",
   "metadata": {},
   "source": [
    "### Magnetization operator definition\n",
    "$$ \\hat{m}_z := \\sum\\limits_i \\sigma_i^z $$"
   ]
  },
  {
   "cell_type": "code",
   "execution_count": 91,
   "metadata": {},
   "outputs": [],
   "source": [
    "m_z = sum(nk.operator.spin.sigmaz(hilbert, i) for i in range(hilbert.size))"
   ]
  },
  {
   "cell_type": "code",
   "execution_count": 92,
   "metadata": {},
   "outputs": [],
   "source": [
    "if False: # exact diagonalization scan\n",
    "    # H_Z = 0\n",
    "    print(\"#N =\", N)\n",
    "    print(\"# J1     J2      H_Z            m_z            ground          1.excited          2.excited\")\n",
    "    for H_Z in np.arange(0.02,0.03,step=0.001):\n",
    "        ha = nk.operator.GraphOperator(hilbert, graph=g, bond_ops=ho.bond_operator(JEXCH1,JEXCH2, h_z=H_Z, use_MSR=False), bond_ops_colors=ho.bond_color)\n",
    "        start = time.time()\n",
    "        evals, eigvects = nk.exact.lanczos_ed(ha, k=3, compute_eigenvectors=True)\n",
    "        ground_state = eigvects.T[0]\n",
    "        end = time.time()\n",
    "        magnetization_z = ground_state.transpose()@(m_z@ground_state)\n",
    "        # print(\"ED took\", (start-end)/60, \"min.\")\n",
    "        # print(np.round(np.array(ground_state),5))\n",
    "        # print(ha.to_dense())\n",
    "        print(\"%.3f   %.3f  %2.10f   %2.10f   %2.10f   %14.10f   %14.10f\" % (JEXCH1, JEXCH2, H_Z, magnetization_z, evals[0], evals[1], evals[2]))"
   ]
  },
  {
   "cell_type": "markdown",
   "metadata": {},
   "source": [
    "## Exact diagonalization"
   ]
  },
  {
   "cell_type": "code",
   "execution_count": 93,
   "metadata": {},
   "outputs": [
    {
     "name": "stdout",
     "output_type": "stream",
     "text": [
      "Ground state energy: -24.00000000000002 \n",
      "It took  1.82 s = 0.03 min\n"
     ]
    }
   ],
   "source": [
    "if g.n_nodes < 20:\n",
    "    start = time.time()\n",
    "    if g.n_nodes < 15:\n",
    "        evals, eigvects = nk.exact.full_ed(ha_1, compute_eigenvectors=True)\n",
    "    else:\n",
    "        evals, eigvects = nk.exact.lanczos_ed(ha_1, k=3, compute_eigenvectors=True)\n",
    "    end = time.time()\n",
    "    diag_time = end - start\n",
    "    print(\"Ground state energy:\",evals[0], \"\\nIt took \", round(diag_time,2), \"s =\", round((diag_time)/60,2),\"min\")\n",
    "else:\n",
    "    print(\"System is too large for exact diagonalization. Setting exact_ground_energy = 0 (which is wrong)\")\n",
    "    evals = [0,0,0]\n",
    "    eigvects = None \n",
    "exact_ground_energy = evals[0]"
   ]
  },
  {
   "cell_type": "markdown",
   "metadata": {},
   "source": [
    "# Machine learning starts here"
   ]
  },
  {
   "cell_type": "markdown",
   "metadata": {},
   "source": [
    "## Machine definition and other auxiliary `netket` objects\n",
    "We define two sets of these objects, usually: \n",
    "- variables ending with ...`_1` belongs to the choice of standard basis,\n",
    "- variables ending with ...`_2` belongs to the choice of MSR basis.\n",
    "\n",
    "But they can be used in a different way when we need to compare two different models."
   ]
  },
  {
   "cell_type": "code",
   "execution_count": 95,
   "metadata": {},
   "outputs": [
    {
     "name": "stdout",
     "output_type": "stream",
     "text": [
      "test\n"
     ]
    },
    {
     "ename": "TypeError",
     "evalue": "Failed to hash Flax Module.  The module probably contains unhashable attributes.  Module=GCNN_Irrep(\n    # attributes\n    symmetries = HashableArray(wrapped=array([[ 0,  1,  2, ..., 13, 14, 15],\n           [ 0,  1, 13, ...,  2, 14, 15],\n           [ 0,  4,  7, ...,  8, 11, 15],\n           ...,\n           [15, 11,  8, ...,  7,  4,  0],\n           [15, 14,  2, ..., 13,  1,  0],\n           [15, 14, 13, ...,  2,  1,  0]]))\n    irreps = (HashableArray(wrapped=array([[[1.]],\n    \n           [[1.]],\n    \n           [[1.]],\n    \n           [[1.]],\n    \n           [[1.]],\n    \n           [[1.]],\n    \n           [[1.]],\n    \n           [[1.]],\n    \n           [[1.]],\n    \n           [[1.]],\n    \n           [[1.]],\n    \n           [[1.]],\n    \n           [[1.]],\n    \n           [[1.]],\n    \n           [[1.]],\n    \n           [[1.]],\n    \n           [[1.]],\n    \n           [[1.]],\n    \n           [[1.]],\n    \n           [[1.]],\n    \n           [[1.]],\n    \n           [[1.]],\n    \n           [[1.]],\n    \n           [[1.]],\n    \n           [[1.]],\n    \n           [[1.]],\n    \n           [[1.]],\n    \n           [[1.]],\n    \n           [[1.]],\n    \n           [[1.]],\n    \n           [[1.]],\n    \n           [[1.]],\n    \n           [[1.]],\n    \n           [[1.]],\n    \n           [[1.]],\n    \n           [[1.]],\n    \n           [[1.]],\n    \n           [[1.]],\n    \n           [[1.]],\n    \n           [[1.]],\n    \n           [[1.]],\n    \n           [[1.]],\n    \n           [[1.]],\n    \n           [[1.]],\n    \n           [[1.]],\n    \n           [[1.]],\n    \n           [[1.]],\n    \n           [[1.]],\n    \n           [[1.]],\n    \n           [[1.]],\n    \n           [[1.]],\n    \n           [[1.]],\n    \n           [[1.]],\n    \n           [[1.]],\n    \n           [[1.]],\n    \n           [[1.]],\n    \n           [[1.]],\n    \n           [[1.]],\n    \n           [[1.]],\n    \n           [[1.]],\n    \n           [[1.]],\n    \n           [[1.]],\n    \n           [[1.]],\n    \n           [[1.]]])), HashableArray(wrapped=array([[[ 1.00000000e+00+0.00000000e+00j]],\n    \n           [[ 1.00000000e+00+2.46519033e-32j]],\n    \n           [[ 1.00000000e+00+1.23259516e-32j]],\n    \n           [[ 1.00000000e+00+0.00000000e+00j]],\n    \n           [[-1.28189897e-30+1.00000000e+00j]],\n    \n           [[ 7.39557099e-31+1.00000000e+00j]],\n    \n           [[ 6.84090316e-31+1.00000000e+00j]],\n    \n           [[-2.42821247e-30+1.00000000e+00j]],\n    \n           [[-1.00000000e+00+4.31408308e-32j]],\n    \n           [[-1.00000000e+00-7.11823707e-31j]],\n    \n           [[-1.00000000e+00+1.07852077e-30j]],\n    \n           [[-1.00000000e+00-1.21718772e-30j]],\n    \n           [[-1.30038790e-30-1.00000000e+00j]],\n    \n           [[-2.39123462e-30-1.00000000e+00j]],\n    \n           [[-4.93038066e-32-1.00000000e+00j]],\n    \n           [[-1.38666956e-31-1.00000000e+00j]],\n    \n           [[-2.03378202e-31+1.00000000e+00j]],\n    \n           [[-1.10933565e-31+1.00000000e+00j]],\n    \n           [[-3.82104501e-31+1.00000000e+00j]],\n    \n           [[-3.08148791e-32+1.00000000e+00j]],\n    \n           [[ 1.00000000e+00+2.77333912e-32j]],\n    \n           [[ 1.00000000e+00-3.69778549e-32j]],\n    \n           [[ 1.00000000e+00+1.84889275e-32j]],\n    \n           [[ 1.00000000e+00-1.84889275e-32j]],\n    \n           [[-1.34506947e-30-1.00000000e+00j]],\n    \n           [[ 3.79023013e-31-1.00000000e+00j]],\n    \n           [[ 2.04610797e-30-1.00000000e+00j]],\n    \n           [[ 1.36818063e-30-1.00000000e+00j]],\n    \n           [[-1.00000000e+00-1.00456506e-30j]],\n    \n           [[-1.00000000e+00-2.34193081e-31j]],\n    \n           [[-1.00000000e+00+3.69778549e-32j]],\n    \n           [[-1.00000000e+00-2.48984223e-30j]],\n    \n           [[-1.00000000e+00+2.46519033e-30j]],\n    \n           [[-1.00000000e+00+4.93038066e-32j]],\n    \n           [[-1.00000000e+00+1.24492112e-30j]],\n    \n           [[-1.00000000e+00+1.23259516e-30j]],\n    \n           [[-2.75485019e-30-1.00000000e+00j]],\n    \n           [[ 2.08000434e-31-1.00000000e+00j]],\n    \n           [[ 2.65007960e-31-1.00000000e+00j]],\n    \n           [[-8.13512809e-31-1.00000000e+00j]],\n    \n           [[ 1.00000000e+00+9.24446373e-33j]],\n    \n           [[ 1.00000000e+00+7.70371978e-33j]],\n    \n           [[ 1.00000000e+00-2.46519033e-32j]],\n    \n           [[ 1.00000000e+00-1.23259516e-32j]],\n    \n           [[ 1.35585468e-30+1.00000000e+00j]],\n    \n           [[-8.50490663e-31+1.00000000e+00j]],\n    \n           [[ 2.77333912e-31+1.00000000e+00j]],\n    \n           [[ 2.08308583e-30+1.00000000e+00j]],\n    \n           [[ 7.36475611e-31-1.00000000e+00j]],\n    \n           [[ 7.14905195e-31-1.00000000e+00j]],\n    \n           [[-3.82104501e-31-1.00000000e+00j]],\n    \n           [[-1.17096541e-31-1.00000000e+00j]],\n    \n           [[-1.00000000e+00+2.15704154e-31j]],\n    \n           [[-1.00000000e+00-1.14631350e-30j]],\n    \n           [[-1.00000000e+00+7.21068171e-31j]],\n    \n           [[-1.00000000e+00-1.23259516e-32j]],\n    \n           [[-1.34969171e-30+1.00000000e+00j]],\n    \n           [[-2.73019829e-30+1.00000000e+00j]],\n    \n           [[ 1.47911420e-31+1.00000000e+00j]],\n    \n           [[ 3.97511941e-31+1.00000000e+00j]],\n    \n           [[ 1.00000000e+00+9.24446373e-33j]],\n    \n           [[ 1.00000000e+00-3.38963670e-32j]],\n    \n           [[ 1.00000000e+00+2.00296714e-32j]],\n    \n           [[ 1.00000000e+00+1.23259516e-32j]]])), HashableArray(wrapped=array([[[ 1.00000000e+00+0.00000000e+00j]],\n    \n           [[ 1.00000000e+00-1.97215226e-31j]],\n    \n           [[ 1.00000000e+00+9.86076132e-32j]],\n    \n           [[ 1.00000000e+00+3.15544362e-30j]],\n    \n           [[ 3.76952253e-28-1.00000000e+00j]],\n    \n           [[-4.89907274e-28-1.00000000e+00j]],\n    \n           [[-6.86308988e-28-1.00000000e+00j]],\n    \n           [[ 1.83804591e-28-1.00000000e+00j]],\n    \n           [[-1.00000000e+00-1.97215226e-31j]],\n    \n           [[-1.00000000e+00-1.14759540e-27j]],\n    \n           [[-1.00000000e+00+9.07190041e-30j]],\n    \n           [[-1.00000000e+00-1.13635413e-27j]],\n    \n           [[ 3.77716462e-28+1.00000000e+00j]],\n    \n           [[ 1.81881742e-28+1.00000000e+00j]],\n    \n           [[ 2.28276624e-28+1.00000000e+00j]],\n    \n           [[ 4.21448939e-28+1.00000000e+00j]],\n    \n           [[ 4.20462862e-28-1.00000000e+00j]],\n    \n           [[-4.40430904e-28-1.00000000e+00j]],\n    \n           [[-6.37596827e-28-1.00000000e+00j]],\n    \n           [[ 2.28769663e-28-1.00000000e+00j]],\n    \n           [[ 1.00000000e+00+9.86076132e-32j]],\n    \n           [[ 1.00000000e+00+3.94430453e-31j]],\n    \n           [[ 1.00000000e+00-9.86076132e-32j]],\n    \n           [[ 1.00000000e+00+1.38050658e-30j]],\n    \n           [[ 6.36512143e-28+1.00000000e+00j]],\n    \n           [[ 4.43832867e-28+1.00000000e+00j]],\n    \n           [[ 4.92150597e-28+1.00000000e+00j]],\n    \n           [[ 6.85125696e-28+1.00000000e+00j]],\n    \n           [[-1.00000000e+00-1.02551918e-29j]],\n    \n           [[-1.00000000e+00-1.15193414e-27j]],\n    \n           [[-1.00000000e+00-7.88860905e-31j]],\n    \n           [[-1.00000000e+00-1.14720097e-27j]],\n    \n           [[-1.00000000e+00+1.14937034e-27j]],\n    \n           [[-1.00000000e+00+6.06436821e-30j]],\n    \n           [[-1.00000000e+00+1.13674856e-27j]],\n    \n           [[-1.00000000e+00-6.95183673e-30j]],\n    \n           [[-2.30618555e-28+1.00000000e+00j]],\n    \n           [[-4.20610774e-28+1.00000000e+00j]],\n    \n           [[-3.78456019e-28+1.00000000e+00j]],\n    \n           [[-1.82029654e-28+1.00000000e+00j]],\n    \n           [[ 1.00000000e+00-3.94430453e-31j]],\n    \n           [[ 1.00000000e+00+4.93038066e-31j]],\n    \n           [[ 1.00000000e+00+2.95822839e-31j]],\n    \n           [[ 1.00000000e+00+2.66240556e-30j]],\n    \n           [[ 6.86752722e-28-1.00000000e+00j]],\n    \n           [[-1.81783135e-28-1.00000000e+00j]],\n    \n           [[-3.75596398e-28-1.00000000e+00j]],\n    \n           [[ 4.92446420e-28-1.00000000e+00j]],\n    \n           [[-4.92150597e-28+1.00000000e+00j]],\n    \n           [[-6.86949937e-28+1.00000000e+00j]],\n    \n           [[-6.34835813e-28+1.00000000e+00j]],\n    \n           [[-4.40776031e-28+1.00000000e+00j]],\n    \n           [[-1.00000000e+00+1.15765338e-27j]],\n    \n           [[-1.00000000e+00+8.13512809e-30j]],\n    \n           [[-1.00000000e+00+1.14818705e-27j]],\n    \n           [[-1.00000000e+00+3.94430453e-30j]],\n    \n           [[ 6.33504611e-28-1.00000000e+00j]],\n    \n           [[-2.25910042e-28-1.00000000e+00j]],\n    \n           [[-4.22928053e-28-1.00000000e+00j]],\n    \n           [[ 4.40776031e-28-1.00000000e+00j]],\n    \n           [[ 1.00000000e+00-9.86076132e-32j]],\n    \n           [[ 1.00000000e+00-1.38050658e-30j]],\n    \n           [[ 1.00000000e+00+1.97215226e-31j]],\n    \n           [[ 1.00000000e+00+3.15544362e-30j]]])), HashableArray(wrapped=array([[[ 1.]],\n    \n           [[ 1.]],\n    \n           [[ 1.]],\n    \n           [[ 1.]],\n    \n           [[-1.]],\n    \n           [[-1.]],\n    \n           [[-1.]],\n    \n           [[-1.]],\n    \n           [[ 1.]],\n    \n           [[ 1.]],\n    \n           [[ 1.]],\n    \n           [[ 1.]],\n    \n           [[-1.]],\n    \n           [[-1.]],\n    \n           [[-1.]],\n    \n           [[-1.]],\n    \n           [[-1.]],\n    \n           [[-1.]],\n    \n           [[-1.]],\n    \n           [[-1.]],\n    \n           [[ 1.]],\n    \n           [[ 1.]],\n    \n           [[ 1.]],\n    \n           [[ 1.]],\n    \n           [[-1.]],\n    \n           [[-1.]],\n    \n           [[-1.]],\n    \n           [[-1.]],\n    \n           [[ 1.]],\n    \n           [[ 1.]],\n    \n           [[ 1.]],\n    \n           [[ 1.]],\n    \n           [[ 1.]],\n    \n           [[ 1.]],\n    \n           [[ 1.]],\n    \n           [[ 1.]],\n    \n           [[-1.]],\n    \n           [[-1.]],\n    \n           [[-1.]],\n    \n           [[-1.]],\n    \n           [[ 1.]],\n    \n           [[ 1.]],\n    \n           [[ 1.]],\n    \n           [[ 1.]],\n    \n           [[-1.]],\n    \n           [[-1.]],\n    \n           [[-1.]],\n    \n           [[-1.]],\n    \n           [[-1.]],\n    \n           [[-1.]],\n    \n           [[-1.]],\n    \n           [[-1.]],\n    \n           [[ 1.]],\n    \n           [[ 1.]],\n    \n           [[ 1.]],\n    \n           [[ 1.]],\n    \n           [[-1.]],\n    \n           [[-1.]],\n    \n           [[-1.]],\n    \n           [[-1.]],\n    \n           [[ 1.]],\n    \n           [[ 1.]],\n    \n           [[ 1.]],\n    \n           [[ 1.]]])), HashableArray(wrapped=array([[[ 1.]],\n    \n           [[-1.]],\n    \n           [[-1.]],\n    \n           [[ 1.]],\n    \n           [[ 1.]],\n    \n           [[-1.]],\n    \n           [[ 1.]],\n    \n           [[-1.]],\n    \n           [[ 1.]],\n    \n           [[-1.]],\n    \n           [[-1.]],\n    \n           [[ 1.]],\n    \n           [[ 1.]],\n    \n           [[-1.]],\n    \n           [[ 1.]],\n    \n           [[-1.]],\n    \n           [[-1.]],\n    \n           [[ 1.]],\n    \n           [[-1.]],\n    \n           [[ 1.]],\n    \n           [[-1.]],\n    \n           [[ 1.]],\n    \n           [[ 1.]],\n    \n           [[-1.]],\n    \n           [[-1.]],\n    \n           [[ 1.]],\n    \n           [[-1.]],\n    \n           [[ 1.]],\n    \n           [[-1.]],\n    \n           [[ 1.]],\n    \n           [[ 1.]],\n    \n           [[-1.]],\n    \n           [[-1.]],\n    \n           [[ 1.]],\n    \n           [[ 1.]],\n    \n           [[-1.]],\n    \n           [[ 1.]],\n    \n           [[-1.]],\n    \n           [[ 1.]],\n    \n           [[-1.]],\n    \n           [[-1.]],\n    \n           [[ 1.]],\n    \n           [[ 1.]],\n    \n           [[-1.]],\n    \n           [[ 1.]],\n    \n           [[-1.]],\n    \n           [[ 1.]],\n    \n           [[-1.]],\n    \n           [[-1.]],\n    \n           [[ 1.]],\n    \n           [[-1.]],\n    \n           [[ 1.]],\n    \n           [[ 1.]],\n    \n           [[-1.]],\n    \n           [[-1.]],\n    \n           [[ 1.]],\n    \n           [[-1.]],\n    \n           [[ 1.]],\n    \n           [[-1.]],\n    \n           [[ 1.]],\n    \n           [[ 1.]],\n    \n           [[-1.]],\n    \n           [[-1.]],\n    \n           [[ 1.]]])), HashableArray(wrapped=array([[[ 1.00000000e+00+0.00000000e+00j]],\n    \n           [[-1.00000000e+00+1.54074396e-33j]],\n    \n           [[-1.00000000e+00-6.16297582e-33j]],\n    \n           [[ 1.00000000e+00-1.04000217e-32j]],\n    \n           [[ 2.49215335e-31+1.00000000e+00j]],\n    \n           [[-1.69481835e-31-1.00000000e+00j]],\n    \n           [[ 5.54667824e-32+1.00000000e+00j]],\n    \n           [[-1.43289188e-31-1.00000000e+00j]],\n    \n           [[-1.00000000e+00+4.62223187e-33j]],\n    \n           [[ 1.00000000e+00+3.14311767e-31j]],\n    \n           [[ 1.00000000e+00-1.91052250e-31j]],\n    \n           [[-1.00000000e+00-1.74104067e-31j]],\n    \n           [[ 2.48444963e-31-1.00000000e+00j]],\n    \n           [[-1.66400347e-31+1.00000000e+00j]],\n    \n           [[ 8.89779634e-32-1.00000000e+00j]],\n    \n           [[-4.46815747e-32+1.00000000e+00j]],\n    \n           [[-4.77630626e-32-1.00000000e+00j]],\n    \n           [[-5.23852945e-32+1.00000000e+00j]],\n    \n           [[ 8.12742437e-32-1.00000000e+00j]],\n    \n           [[ 7.85779417e-32+1.00000000e+00j]],\n    \n           [[-1.00000000e+00-1.69481835e-32j]],\n    \n           [[ 1.00000000e+00+7.70371978e-34j]],\n    \n           [[ 1.00000000e+00+9.24446373e-33j]],\n    \n           [[-1.00000000e+00+4.23704588e-33j]],\n    \n           [[-9.24446373e-32+1.00000000e+00j]],\n    \n           [[-3.00445071e-32-1.00000000e+00j]],\n    \n           [[ 2.49600521e-31+1.00000000e+00j]],\n    \n           [[-2.00296714e-31-1.00000000e+00j]],\n    \n           [[ 1.00000000e+00+1.64859603e-31j]],\n    \n           [[-1.00000000e+00+6.16297582e-32j]],\n    \n           [[-1.00000000e+00+3.46667390e-33j]],\n    \n           [[ 1.00000000e+00-2.40356057e-31j]],\n    \n           [[ 1.00000000e+00+2.46519033e-31j]],\n    \n           [[-1.00000000e+00+5.77778983e-33j]],\n    \n           [[-1.00000000e+00+1.94133738e-31j]],\n    \n           [[ 1.00000000e+00-4.52978723e-31j]],\n    \n           [[ 1.63318859e-31-1.00000000e+00j]],\n    \n           [[-8.01186857e-32+1.00000000e+00j]],\n    \n           [[-1.17096541e-31-1.00000000e+00j]],\n    \n           [[ 1.17096541e-31+1.00000000e+00j]],\n    \n           [[-1.00000000e+00+2.11852294e-33j]],\n    \n           [[ 1.00000000e+00-3.08148791e-33j]],\n    \n           [[ 1.00000000e+00-1.30963236e-32j]],\n    \n           [[-1.00000000e+00+7.70371978e-33j]],\n    \n           [[-2.08770806e-31+1.00000000e+00j]],\n    \n           [[ 1.18637285e-31-1.00000000e+00j]],\n    \n           [[-1.29422492e-31+1.00000000e+00j]],\n    \n           [[ 2.49600521e-31-1.00000000e+00j]],\n    \n           [[-1.87970763e-31+1.00000000e+00j]],\n    \n           [[ 8.93631494e-32-1.00000000e+00j]],\n    \n           [[ 6.31705022e-32+1.00000000e+00j]],\n    \n           [[-8.01186857e-32-1.00000000e+00j]],\n    \n           [[-1.00000000e+00-1.14015053e-31j]],\n    \n           [[ 1.00000000e+00+4.43734259e-31j]],\n    \n           [[ 1.00000000e+00-3.14311767e-31j]],\n    \n           [[-1.00000000e+00-3.85185989e-32j]],\n    \n           [[-1.03615031e-31-1.00000000e+00j]],\n    \n           [[ 1.88741135e-31+1.00000000e+00j]],\n    \n           [[-9.51409393e-32-1.00000000e+00j]],\n    \n           [[-1.23259516e-32+1.00000000e+00j]],\n    \n           [[ 1.00000000e+00-9.05187074e-33j]],\n    \n           [[-1.00000000e+00+3.10074721e-32j]],\n    \n           [[-1.00000000e+00+2.31111593e-33j]],\n    \n           [[ 1.00000000e+00-1.11703937e-32j]]])), HashableArray(wrapped=array([[[ 1.00000000e+00+0.00000000e+00j]],\n    \n           [[-1.00000000e+00+0.00000000e+00j]],\n    \n           [[-1.00000000e+00-1.23259516e-32j]],\n    \n           [[ 1.00000000e+00+3.08148791e-33j]],\n    \n           [[ 4.50667607e-32-1.00000000e+00j]],\n    \n           [[-3.38963670e-32+1.00000000e+00j]],\n    \n           [[-2.08000434e-32-1.00000000e+00j]],\n    \n           [[-6.74556963e-32+1.00000000e+00j]],\n    \n           [[-1.00000000e+00-9.43705673e-33j]],\n    \n           [[ 1.00000000e+00+1.69481835e-32j]],\n    \n           [[ 1.00000000e+00+6.47112461e-32j]],\n    \n           [[-1.00000000e+00-5.54667824e-32j]],\n    \n           [[ 5.23852945e-32+1.00000000e+00j]],\n    \n           [[-6.27853162e-32-1.00000000e+00j]],\n    \n           [[-4.77630626e-32+1.00000000e+00j]],\n    \n           [[-1.96444854e-32-1.00000000e+00j]],\n    \n           [[-3.08148791e-32+1.00000000e+00j]],\n    \n           [[ 9.24446373e-32-1.00000000e+00j]],\n    \n           [[-6.00890143e-32+1.00000000e+00j]],\n    \n           [[-4.62223187e-32-1.00000000e+00j]],\n    \n           [[-1.00000000e+00+1.00148357e-32j]],\n    \n           [[ 1.00000000e+00-3.03333966e-33j]],\n    \n           [[ 1.00000000e+00+1.11703937e-32j]],\n    \n           [[-1.00000000e+00-9.62964972e-33j]],\n    \n           [[-5.23852945e-32-1.00000000e+00j]],\n    \n           [[ 1.38666956e-32+1.00000000e+00j]],\n    \n           [[-1.69481835e-32-1.00000000e+00j]],\n    \n           [[ 4.00593428e-32+1.00000000e+00j]],\n    \n           [[ 1.00000000e+00-7.39557099e-32j]],\n    \n           [[-1.00000000e+00-2.31111593e-33j]],\n    \n           [[-1.00000000e+00-1.23259516e-32j]],\n    \n           [[ 1.00000000e+00+7.97334997e-32j]],\n    \n           [[ 1.00000000e+00-8.32001736e-32j]],\n    \n           [[-1.00000000e+00+7.70371978e-34j]],\n    \n           [[-1.00000000e+00+6.54816181e-32j]],\n    \n           [[ 1.00000000e+00-4.16000868e-32j]],\n    \n           [[ 7.98538703e-32+1.00000000e+00j]],\n    \n           [[-1.04770589e-31-1.00000000e+00j]],\n    \n           [[-2.11852294e-32+1.00000000e+00j]],\n    \n           [[-2.46519033e-32-1.00000000e+00j]],\n    \n           [[-1.00000000e+00-4.91112136e-33j]],\n    \n           [[ 1.00000000e+00-6.50001356e-33j]],\n    \n           [[ 1.00000000e+00-1.15555797e-33j]],\n    \n           [[-1.00000000e+00-1.04963182e-32j]],\n    \n           [[ 5.08445505e-32-1.00000000e+00j]],\n    \n           [[-1.69481835e-32+1.00000000e+00j]],\n    \n           [[-3.38963670e-32-1.00000000e+00j]],\n    \n           [[-2.00296714e-32+1.00000000e+00j]],\n    \n           [[-2.38815313e-32-1.00000000e+00j]],\n    \n           [[-4.52593537e-33+1.00000000e+00j]],\n    \n           [[-6.47112461e-32-1.00000000e+00j]],\n    \n           [[ 8.85927774e-32+1.00000000e+00j]],\n    \n           [[-1.00000000e+00+9.62964972e-34j]],\n    \n           [[ 1.00000000e+00+3.31259950e-32j]],\n    \n           [[ 1.00000000e+00+1.54074396e-33j]],\n    \n           [[-1.00000000e+00-7.31853379e-33j]],\n    \n           [[-4.73778766e-32+1.00000000e+00j]],\n    \n           [[ 1.01689101e-31-1.00000000e+00j]],\n    \n           [[-7.76149768e-32+1.00000000e+00j]],\n    \n           [[ 4.60297257e-32-1.00000000e+00j]],\n    \n           [[ 1.00000000e+00+1.27111376e-32j]],\n    \n           [[-1.00000000e+00+3.85185989e-33j]],\n    \n           [[-1.00000000e+00-4.62223187e-33j]],\n    \n           [[ 1.00000000e+00+1.11222454e-32j]]])), HashableArray(wrapped=array([[[ 1.]],\n    \n           [[-1.]],\n    \n           [[-1.]],\n    \n           [[ 1.]],\n    \n           [[-1.]],\n    \n           [[ 1.]],\n    \n           [[-1.]],\n    \n           [[ 1.]],\n    \n           [[ 1.]],\n    \n           [[-1.]],\n    \n           [[-1.]],\n    \n           [[ 1.]],\n    \n           [[-1.]],\n    \n           [[ 1.]],\n    \n           [[-1.]],\n    \n           [[ 1.]],\n    \n           [[ 1.]],\n    \n           [[-1.]],\n    \n           [[ 1.]],\n    \n           [[-1.]],\n    \n           [[-1.]],\n    \n           [[ 1.]],\n    \n           [[ 1.]],\n    \n           [[-1.]],\n    \n           [[ 1.]],\n    \n           [[-1.]],\n    \n           [[ 1.]],\n    \n           [[-1.]],\n    \n           [[-1.]],\n    \n           [[ 1.]],\n    \n           [[ 1.]],\n    \n           [[-1.]],\n    \n           [[-1.]],\n    \n           [[ 1.]],\n    \n           [[ 1.]],\n    \n           [[-1.]],\n    \n           [[-1.]],\n    \n           [[ 1.]],\n    \n           [[-1.]],\n    \n           [[ 1.]],\n    \n           [[-1.]],\n    \n           [[ 1.]],\n    \n           [[ 1.]],\n    \n           [[-1.]],\n    \n           [[-1.]],\n    \n           [[ 1.]],\n    \n           [[-1.]],\n    \n           [[ 1.]],\n    \n           [[ 1.]],\n    \n           [[-1.]],\n    \n           [[ 1.]],\n    \n           [[-1.]],\n    \n           [[ 1.]],\n    \n           [[-1.]],\n    \n           [[-1.]],\n    \n           [[ 1.]],\n    \n           [[ 1.]],\n    \n           [[-1.]],\n    \n           [[ 1.]],\n    \n           [[-1.]],\n    \n           [[ 1.]],\n    \n           [[-1.]],\n    \n           [[-1.]],\n    \n           [[ 1.]]])), HashableArray(wrapped=array([[[ 1.00000000e+00, -3.89335280e-17],\n            [-3.89335280e-17,  1.00000000e+00]],\n    \n           [[ 4.50517346e-01, -8.92767675e-01],\n            [-8.92767675e-01, -4.50517346e-01]],\n    \n           [[-4.50517346e-01,  8.92767675e-01],\n            [ 8.92767675e-01,  4.50517346e-01]],\n    \n           [[-1.00000000e+00,  3.27100824e-17],\n            [ 3.19946340e-17, -1.00000000e+00]],\n    \n           [[ 8.92767675e-01,  4.50517346e-01],\n            [ 4.50517346e-01, -8.92767675e-01]],\n    \n           [[ 1.12651266e-17,  1.00000000e+00],\n            [-1.00000000e+00, -4.23905843e-18]],\n    \n           [[-8.92767675e-01, -4.50517346e-01],\n            [-4.50517346e-01,  8.92767675e-01]],\n    \n           [[-1.42880599e-18, -1.00000000e+00],\n            [ 1.00000000e+00, -2.69983547e-18]],\n    \n           [[ 1.00000000e+00, -3.53377004e-17],\n            [-4.06682514e-17,  1.00000000e+00]],\n    \n           [[ 4.50517346e-01, -8.92767675e-01],\n            [-8.92767675e-01, -4.50517346e-01]],\n    \n           [[-4.50517346e-01,  8.92767675e-01],\n            [ 8.92767675e-01,  4.50517346e-01]],\n    \n           [[-1.00000000e+00,  4.57640956e-17],\n            [ 4.06682514e-17, -1.00000000e+00]],\n    \n           [[ 8.92767675e-01,  4.50517346e-01],\n            [ 4.50517346e-01, -8.92767675e-01]],\n    \n           [[-1.30787943e-18,  1.00000000e+00],\n            [-1.00000000e+00,  2.69983547e-18]],\n    \n           [[-8.92767675e-01, -4.50517346e-01],\n            [-4.50517346e-01,  8.92767675e-01]],\n    \n           [[-4.50058117e-18, -1.00000000e+00],\n            [ 1.00000000e+00,  2.50433496e-18]],\n    \n           [[ 3.36112069e-18,  1.00000000e+00],\n            [-1.00000000e+00, -5.97378191e-18]],\n    \n           [[ 8.92767675e-01,  4.50517346e-01],\n            [ 4.50517346e-01, -8.92767675e-01]],\n    \n           [[ 4.35641189e-18, -1.00000000e+00],\n            [ 1.00000000e+00, -2.69983547e-18]],\n    \n           [[-8.92767675e-01, -4.50517346e-01],\n            [-4.50517346e-01,  8.92767675e-01]],\n    \n           [[-4.50517346e-01,  8.92767675e-01],\n            [ 8.92767675e-01,  4.50517346e-01]],\n    \n           [[-1.00000000e+00,  3.99135967e-17],\n            [ 3.89335280e-17, -1.00000000e+00]],\n    \n           [[ 1.00000000e+00, -5.14763548e-17],\n            [-5.10765923e-17,  1.00000000e+00]],\n    \n           [[ 4.50517346e-01, -8.92767675e-01],\n            [-8.92767675e-01, -4.50517346e-01]],\n    \n           [[ 6.03077695e-18,  1.00000000e+00],\n            [-1.00000000e+00,  6.16928242e-18]],\n    \n           [[ 8.92767675e-01,  4.50517346e-01],\n            [ 4.50517346e-01, -8.92767675e-01]],\n    \n           [[ 8.20163739e-18, -1.00000000e+00],\n            [ 1.00000000e+00,  2.50433496e-18]],\n    \n           [[-8.92767675e-01, -4.50517346e-01],\n            [-4.50517346e-01,  8.92767675e-01]],\n    \n           [[-4.50517346e-01,  8.92767675e-01],\n            [ 8.92767675e-01,  4.50517346e-01]],\n    \n           [[-1.00000000e+00,  3.90387566e-17],\n            [ 3.89335280e-17, -1.00000000e+00]],\n    \n           [[ 1.00000000e+00, -3.56715735e-17],\n            [-3.37293575e-17,  1.00000000e+00]],\n    \n           [[ 4.50517346e-01, -8.92767675e-01],\n            [-8.92767675e-01, -4.50517346e-01]],\n    \n           [[ 4.50517346e-01, -8.92767675e-01],\n            [-8.92767675e-01, -4.50517346e-01]],\n    \n           [[ 1.00000000e+00, -3.96611011e-17],\n            [-3.02599106e-17,  1.00000000e+00]],\n    \n           [[-1.00000000e+00,  4.03886743e-17],\n            [ 4.58724219e-17, -1.00000000e+00]],\n    \n           [[-4.50517346e-01,  8.92767675e-01],\n            [ 8.92767675e-01,  4.50517346e-01]],\n    \n           [[-8.92767675e-01, -4.50517346e-01],\n            [-4.50517346e-01,  8.92767675e-01]],\n    \n           [[ 2.10457248e-18, -1.00000000e+00],\n            [ 1.00000000e+00, -4.43455895e-18]],\n    \n           [[ 8.92767675e-01,  4.50517346e-01],\n            [ 4.50517346e-01, -8.92767675e-01]],\n    \n           [[ 6.04475476e-18,  1.00000000e+00],\n            [-1.00000000e+00,  4.43455895e-18]],\n    \n           [[ 4.50517346e-01, -8.92767675e-01],\n            [-8.92767675e-01, -4.50517346e-01]],\n    \n           [[ 1.00000000e+00, -4.18077119e-17],\n            [-4.06682514e-17,  1.00000000e+00]],\n    \n           [[-1.00000000e+00,  4.38400669e-17],\n            [ 4.93418688e-17, -1.00000000e+00]],\n    \n           [[-4.50517346e-01,  8.92767675e-01],\n            [ 8.92767675e-01,  4.50517346e-01]],\n    \n           [[-8.92767675e-01, -4.50517346e-01],\n            [-4.50517346e-01,  8.92767675e-01]],\n    \n           [[-2.13165405e-18, -1.00000000e+00],\n            [ 1.00000000e+00, -1.31081763e-17]],\n    \n           [[ 8.92767675e-01,  4.50517346e-01],\n            [ 4.50517346e-01, -8.92767675e-01]],\n    \n           [[ 5.24337682e-18,  1.00000000e+00],\n            [-1.00000000e+00,  6.16928242e-18]],\n    \n           [[ 1.47939602e-18, -1.00000000e+00],\n            [ 1.00000000e+00, -9.63872937e-18]],\n    \n           [[-8.92767675e-01, -4.50517346e-01],\n            [-4.50517346e-01,  8.92767675e-01]],\n    \n           [[ 3.11765232e-18,  1.00000000e+00],\n            [-1.00000000e+00,  6.16928242e-18]],\n    \n           [[ 8.92767675e-01,  4.50517346e-01],\n            [ 4.50517346e-01, -8.92767675e-01]],\n    \n           [[-1.00000000e+00,  4.47149070e-17],\n            [ 4.24029749e-17, -1.00000000e+00]],\n    \n           [[-4.50517346e-01,  8.92767675e-01],\n            [ 8.92767675e-01,  4.50517346e-01]],\n    \n           [[ 4.50517346e-01, -8.92767675e-01],\n            [-8.92767675e-01, -4.50517346e-01]],\n    \n           [[ 1.00000000e+00, -3.39683787e-17],\n            [-3.89335280e-17,  1.00000000e+00]],\n    \n           [[ 3.73716497e-18, -1.00000000e+00],\n            [ 1.00000000e+00,  2.50433496e-18]],\n    \n           [[-8.92767675e-01, -4.50517346e-01],\n            [-4.50517346e-01,  8.92767675e-01]],\n    \n           [[ 2.90409744e-18,  1.00000000e+00],\n            [-1.00000000e+00,  4.43455895e-18]],\n    \n           [[ 8.92767675e-01,  4.50517346e-01],\n            [ 4.50517346e-01, -8.92767675e-01]],\n    \n           [[-1.00000000e+00,  4.40272593e-17],\n            [ 4.06682514e-17, -1.00000000e+00]],\n    \n           [[-4.50517346e-01,  8.92767675e-01],\n            [ 8.92767675e-01,  4.50517346e-01]],\n    \n           [[ 4.50517346e-01, -8.92767675e-01],\n            [-8.92767675e-01, -4.50517346e-01]],\n    \n           [[ 1.00000000e+00, -2.86715428e-17],\n            [-3.19946340e-17,  1.00000000e+00]]])), HashableArray(wrapped=array([[[ 1.00000000e+00, -2.58614604e-17],\n            [-2.58614604e-17,  1.00000000e+00]],\n    \n           [[-7.28963759e-01,  6.84552290e-01],\n            [ 6.84552290e-01,  7.28963759e-01]],\n    \n           [[ 7.28963759e-01, -6.84552290e-01],\n            [-6.84552290e-01, -7.28963759e-01]],\n    \n           [[-1.00000000e+00,  3.17480680e-17],\n            [ 3.28003543e-17, -1.00000000e+00]],\n    \n           [[-3.76707845e-18, -1.00000000e+00],\n            [ 1.00000000e+00, -3.62883871e-18]],\n    \n           [[ 6.84552290e-01,  7.28963759e-01],\n            [ 7.28963759e-01, -6.84552290e-01]],\n    \n           [[-1.02850579e-17,  1.00000000e+00],\n            [-1.00000000e+00,  3.62883871e-18]],\n    \n           [[-6.84552290e-01, -7.28963759e-01],\n            [-7.28963759e-01,  6.84552290e-01]],\n    \n           [[-1.00000000e+00,  2.43101126e-17],\n            [ 3.10656308e-17, -1.00000000e+00]],\n    \n           [[ 7.28963759e-01, -6.84552290e-01],\n            [-6.84552290e-01, -7.28963759e-01]],\n    \n           [[-7.28963759e-01,  6.84552290e-01],\n            [ 6.84552290e-01,  7.28963759e-01]],\n    \n           [[ 1.00000000e+00, -2.50167995e-17],\n            [-3.28003543e-17,  1.00000000e+00]],\n    \n           [[-1.29885224e-18,  1.00000000e+00],\n            [-1.00000000e+00,  5.36356218e-18]],\n    \n           [[-6.84552290e-01, -7.28963759e-01],\n            [-7.28963759e-01,  6.84552290e-01]],\n    \n           [[ 3.17181546e-18, -1.00000000e+00],\n            [ 1.00000000e+00,  5.04477867e-18]],\n    \n           [[ 6.84552290e-01,  7.28963759e-01],\n            [ 7.28963759e-01, -6.84552290e-01]],\n    \n           [[ 6.84552290e-01,  7.28963759e-01],\n            [ 7.28963759e-01, -6.84552290e-01]],\n    \n           [[-1.60241329e-18, -1.00000000e+00],\n            [ 1.00000000e+00,  1.57533172e-18]],\n    \n           [[-6.84552290e-01, -7.28963759e-01],\n            [-7.28963759e-01,  6.84552290e-01]],\n    \n           [[-3.36421833e-18,  1.00000000e+00],\n            [-1.00000000e+00, -1.57533172e-18]],\n    \n           [[ 7.28963759e-01, -6.84552290e-01],\n            [-6.84552290e-01, -7.28963759e-01]],\n    \n           [[-1.00000000e+00,  2.08197794e-17],\n            [ 2.41267369e-17, -1.00000000e+00]],\n    \n           [[ 1.00000000e+00, -2.85974046e-17],\n            [-2.06572900e-17,  1.00000000e+00]],\n    \n           [[-7.28963759e-01,  6.84552290e-01],\n            [ 6.84552290e-01,  7.28963759e-01]],\n    \n           [[-6.84552290e-01, -7.28963759e-01],\n            [-7.28963759e-01,  6.84552290e-01]],\n    \n           [[ 6.04290178e-18,  1.00000000e+00],\n            [-1.00000000e+00, -1.57533172e-18]],\n    \n           [[ 6.84552290e-01,  7.28963759e-01],\n            [ 7.28963759e-01, -6.84552290e-01]],\n    \n           [[-5.51675866e-18, -1.00000000e+00],\n            [ 1.00000000e+00,  5.04477867e-18]],\n    \n           [[-7.28963759e-01,  6.84552290e-01],\n            [ 6.84552290e-01,  7.28963759e-01]],\n    \n           [[ 1.00000000e+00, -1.94425143e-17],\n            [-3.28003543e-17,  1.00000000e+00]],\n    \n           [[-1.00000000e+00,  3.41262881e-17],\n            [ 3.28003543e-17, -1.00000000e+00]],\n    \n           [[ 7.28963759e-01, -6.84552290e-01],\n            [-6.84552290e-01, -7.28963759e-01]],\n    \n           [[ 7.28963759e-01, -6.84552290e-01],\n            [-6.84552290e-01, -7.28963759e-01]],\n    \n           [[-1.00000000e+00,  3.53740748e-17],\n            [ 2.93309073e-17, -1.00000000e+00]],\n    \n           [[ 1.00000000e+00, -2.21905834e-17],\n            [-3.10656308e-17,  1.00000000e+00]],\n    \n           [[-7.28963759e-01,  6.84552290e-01],\n            [ 6.84552290e-01,  7.28963759e-01]],\n    \n           [[ 5.22532245e-18, -1.00000000e+00],\n            [ 1.00000000e+00,  1.57533172e-18]],\n    \n           [[ 6.84552290e-01,  7.28963759e-01],\n            [ 7.28963759e-01, -6.84552290e-01]],\n    \n           [[-1.02159380e-17,  1.00000000e+00],\n            [-1.00000000e+00, -8.51422562e-18]],\n    \n           [[-6.84552290e-01, -7.28963759e-01],\n            [-7.28963759e-01,  6.84552290e-01]],\n    \n           [[-7.28963759e-01,  6.84552290e-01],\n            [ 6.84552290e-01,  7.28963759e-01]],\n    \n           [[ 1.00000000e+00, -2.85974046e-17],\n            [-2.41267369e-17,  1.00000000e+00]],\n    \n           [[-1.00000000e+00,  1.77650516e-17],\n            [ 2.41267369e-17, -1.00000000e+00]],\n    \n           [[ 7.28963759e-01, -6.84552290e-01],\n            [-6.84552290e-01, -7.28963759e-01]],\n    \n           [[-6.91198689e-20,  1.00000000e+00],\n            [-1.00000000e+00,  5.36356218e-18]],\n    \n           [[-6.84552290e-01, -7.28963759e-01],\n            [-7.28963759e-01,  6.84552290e-01]],\n    \n           [[ 2.73284658e-18, -1.00000000e+00],\n            [ 1.00000000e+00, -1.59391757e-19]],\n    \n           [[ 6.84552290e-01,  7.28963759e-01],\n            [ 7.28963759e-01, -6.84552290e-01]],\n    \n           [[ 6.84552290e-01,  7.28963759e-01],\n            [ 7.28963759e-01, -6.84552290e-01]],\n    \n           [[ 2.20077392e-18, -1.00000000e+00],\n            [ 1.00000000e+00,  1.37183961e-17]],\n    \n           [[-6.84552290e-01, -7.28963759e-01],\n            [-7.28963759e-01,  6.84552290e-01]],\n    \n           [[-9.26888037e-18,  1.00000000e+00],\n            [-1.00000000e+00, -5.04477867e-18]],\n    \n           [[ 1.00000000e+00, -2.69436601e-17],\n            [-2.23920134e-17,  1.00000000e+00]],\n    \n           [[-7.28963759e-01,  6.84552290e-01],\n            [ 6.84552290e-01,  7.28963759e-01]],\n    \n           [[ 7.28963759e-01, -6.84552290e-01],\n            [-6.84552290e-01, -7.28963759e-01]],\n    \n           [[-1.00000000e+00,  2.67513901e-17],\n            [ 3.10656308e-17, -1.00000000e+00]],\n    \n           [[-6.84552290e-01, -7.28963759e-01],\n            [-7.28963759e-01,  6.84552290e-01]],\n    \n           [[ 4.55326192e-18,  1.00000000e+00],\n            [-1.00000000e+00, -5.04477867e-18]],\n    \n           [[ 6.84552290e-01,  7.28963759e-01],\n            [ 7.28963759e-01, -6.84552290e-01]],\n    \n           [[ 1.51766401e-17, -1.00000000e+00],\n            [ 1.00000000e+00, -1.89411523e-18]],\n    \n           [[-1.00000000e+00,  2.17634846e-17],\n            [ 2.23920134e-17, -1.00000000e+00]],\n    \n           [[ 7.28963759e-01, -6.84552290e-01],\n            [-6.84552290e-01, -7.28963759e-01]],\n    \n           [[-7.28963759e-01,  6.84552290e-01],\n            [ 6.84552290e-01,  7.28963759e-01]],\n    \n           [[ 1.00000000e+00, -2.28370563e-17],\n            [-2.41267369e-17,  1.00000000e+00]]])), HashableArray(wrapped=array([[[ 1.00000000e+00, -3.98986399e-17, -1.43114687e-16,\n             -4.68375339e-17],\n            [-3.98986399e-17,  1.00000000e+00,  5.24753851e-17,\n              8.41340886e-17],\n            [-1.43114687e-16,  5.24753851e-17,  1.00000000e+00,\n             -1.34224229e-16],\n            [-4.68375339e-17,  8.41340886e-17, -1.34224229e-16,\n              1.00000000e+00]],\n    \n           [[ 5.83570107e-01, -5.83045516e-01, -5.60878682e-01,\n              7.01353040e-02],\n            [-5.83045516e-01,  1.83675143e-01, -7.85288967e-01,\n              9.81967796e-02],\n            [-5.60878682e-01, -7.85288967e-01,  2.44566969e-01,\n              9.44634319e-02],\n            [ 7.01353040e-02,  9.81967796e-02,  9.44634319e-02,\n              9.88187782e-01]],\n    \n           [[ 9.92066467e-01,  2.86239643e-02, -8.59557633e-03,\n              1.22110233e-01],\n            [ 2.86239643e-02,  8.96725536e-01,  3.10125994e-02,\n             -4.40570313e-01],\n            [-8.59557633e-03,  3.10125994e-02,  9.90687133e-01,\n              1.32300184e-01],\n            [ 1.22110233e-01, -4.40570313e-01,  1.32300184e-01,\n             -8.79479137e-01]],\n    \n           ...,\n    \n           [[ 2.09207325e-01, -9.24446405e-01,  1.01004469e-01,\n              3.02372678e-01],\n            [-9.24446405e-01, -2.93255062e-01, -7.72185351e-02,\n             -2.31165764e-01],\n            [ 1.01004469e-01, -7.72185351e-02, -9.91563148e-01,\n              2.52570351e-02],\n            [ 3.02372678e-01, -2.31165764e-01,  2.52570351e-02,\n             -9.24389115e-01]],\n    \n           [[ 6.33570751e-01, -3.70024854e-01,  6.70478728e-01,\n              1.10127141e-01],\n            [-3.70024854e-01,  6.26344260e-01,  6.77057832e-01,\n              1.11207769e-01],\n            [ 6.70478728e-01,  6.77057832e-01, -2.26817251e-01,\n             -2.01506581e-01],\n            [ 1.10127141e-01,  1.11207769e-01, -2.01506581e-01,\n              9.66902241e-01]],\n    \n           [[ 2.17140857e-01, -9.53070369e-01,  1.09600045e-01,\n              1.80262445e-01],\n            [-9.53070369e-01, -1.89980598e-01, -1.08231135e-01,\n              2.09404548e-01],\n            [ 1.09600045e-01, -1.08231135e-01, -9.82250282e-01,\n             -1.07043149e-01],\n            [ 1.80262445e-01,  2.09404548e-01, -1.07043149e-01,\n              9.55090022e-01]]])), HashableArray(wrapped=array([[[ 1.00000000e+00,  6.20163643e-17,  5.50774704e-17,\n             -1.03636175e-16],\n            [ 6.20163643e-17,  1.00000000e+00,  7.24247051e-17,\n              2.14672030e-17],\n            [ 5.50774704e-17,  7.24247051e-17,  1.00000000e+00,\n              6.67868538e-17],\n            [-1.03636175e-16,  2.14672030e-17,  6.67868538e-17,\n              1.00000000e+00]],\n    \n           [[ 8.87519248e-01, -8.40910548e-02, -3.31454856e-01,\n              3.08829982e-01],\n            [-8.40910548e-02,  8.79609865e-01, -4.67740318e-01,\n             -2.08368656e-02],\n            [-3.31454856e-01, -4.67740318e-01, -8.17685614e-01,\n             -5.24109723e-02],\n            [ 3.08829982e-01, -2.08368656e-02, -5.24109723e-02,\n             -9.49443499e-01]],\n    \n           [[ 5.47100138e-01, -8.06455868e-01, -1.27274156e-01,\n              1.84693424e-01],\n            [-8.06455868e-01, -5.53595398e-01,  1.83235104e-01,\n              9.79079386e-02],\n            [-1.27274156e-01,  1.83235104e-01, -4.64492573e-01,\n              8.57013907e-01],\n            [ 1.84693424e-01,  9.79079386e-02,  8.57013907e-01,\n              4.70987833e-01]],\n    \n           ...,\n    \n           [[-5.47100138e-01,  8.06455868e-01,  1.27274156e-01,\n             -1.84693424e-01],\n            [ 8.06455868e-01,  5.53595398e-01, -1.83235104e-01,\n             -9.79079386e-02],\n            [ 1.27274156e-01, -1.83235104e-01,  4.64492573e-01,\n             -8.57013907e-01],\n            [-1.84693424e-01, -9.79079386e-02, -8.57013907e-01,\n             -4.70987833e-01]],\n    \n           [[-8.87519248e-01,  8.40910548e-02,  3.31454856e-01,\n             -3.08829982e-01],\n            [ 8.40910548e-02, -8.79609865e-01,  4.67740318e-01,\n              2.08368656e-02],\n            [ 3.31454856e-01,  4.67740318e-01,  8.17685614e-01,\n              5.24109723e-02],\n            [-3.08829982e-01,  2.08368656e-02,  5.24109723e-02,\n              9.49443499e-01]],\n    \n           [[-1.00000000e+00, -4.38017678e-17, -3.29597460e-17,\n              1.16917652e-16],\n            [-1.74211822e-17, -1.00000000e+00, -6.59194921e-17,\n             -2.86229374e-17],\n            [-3.16587034e-17, -7.24247051e-17, -1.00000000e+00,\n             -7.96888597e-17],\n            [ 1.10087178e-16, -2.25514052e-17, -6.15826834e-17,\n             -1.00000000e+00]]])), HashableArray(wrapped=array([[[ 1.00000000e+00, -2.94902991e-17,  5.55111512e-17,\n              1.00613962e-16],\n            [-2.94902991e-17,  1.00000000e+00, -6.15826834e-17,\n             -8.23993651e-18],\n            [ 5.55111512e-17, -6.15826834e-17,  1.00000000e+00,\n              1.42247325e-16],\n            [ 1.00613962e-16, -8.23993651e-18,  1.42247325e-16,\n              1.00000000e+00]],\n    \n           [[-9.33409156e-01, -2.62613371e-01,  2.11800671e-01,\n              1.22155803e-01],\n            [-2.62613371e-01,  3.56646454e-02, -8.35275317e-01,\n             -4.81744119e-01],\n            [ 2.11800671e-01, -8.35275317e-01, -3.26340956e-01,\n              3.88532112e-01],\n            [ 1.22155803e-01, -4.81744119e-01,  3.88532112e-01,\n             -7.75914533e-01]],\n    \n           [[-9.66844007e-01,  1.04672957e-01, -1.47131716e-02,\n              2.32464535e-01],\n            [ 1.04672957e-01, -6.69549092e-01, -4.64492556e-02,\n              7.33886948e-01],\n            [-1.47131716e-02, -4.64492556e-02, -9.93470941e-01,\n             -1.03157539e-01],\n            [ 2.32464535e-01,  7.33886948e-01, -1.03157539e-01,\n              6.29864041e-01]],\n    \n           ...,\n    \n           [[ 5.37332789e-01, -5.04584102e-01, -6.26405277e-01,\n              2.53544448e-01],\n            [-5.04584102e-01,  4.49701405e-01, -6.83156568e-01,\n              2.76515159e-01],\n            [-6.26405277e-01, -6.83156568e-01,  1.51909706e-01,\n              3.43273904e-01],\n            [ 2.53544448e-01,  2.76515159e-01,  3.43273904e-01,\n              8.61056099e-01]],\n    \n           [[ 4.37585953e-01, -3.46643688e-01, -8.23492776e-01,\n             -1.01075891e-01],\n            [-3.46643688e-01, -9.16414148e-01,  1.98568004e-01,\n              2.43723303e-02],\n            [-8.23492776e-01,  1.98568004e-01, -5.28278396e-01,\n              5.78993318e-02],\n            [-1.01075891e-01,  2.43723303e-02,  5.78993318e-02,\n             -9.92893409e-01]],\n    \n           [[-5.04176796e-01,  6.09257059e-01,  6.11692105e-01,\n             -2.10799124e-02],\n            [ 6.09257059e-01, -1.19250497e-01,  6.36707313e-01,\n              4.57371789e-01],\n            [ 6.11692105e-01,  6.36707313e-01, -1.45380648e-01,\n             -4.46431443e-01],\n            [-2.10799124e-02,  4.57371789e-01, -4.46431443e-01,\n              7.68807941e-01]]])))\n    layers = 2\n    features = [4, 4]\n    characters = HashableArray(wrapped=array([1.+0.j, 1.+0.j, 1.+0.j, 1.+0.j, 1.+0.j, 1.+0.j, 1.+0.j, 1.+0.j,\n           1.+0.j, 1.+0.j, 1.+0.j, 1.+0.j, 1.+0.j, 1.+0.j, 1.+0.j, 1.+0.j,\n           1.+0.j, 1.+0.j, 1.+0.j, 1.+0.j, 1.+0.j, 1.+0.j, 1.+0.j, 1.+0.j,\n           1.+0.j, 1.+0.j, 1.+0.j, 1.+0.j, 1.+0.j, 1.+0.j, 1.+0.j, 1.+0.j,\n           1.+0.j, 1.+0.j, 1.+0.j, 1.+0.j, 1.+0.j, 1.+0.j, 1.+0.j, 1.+0.j,\n           1.+0.j, 1.+0.j, 1.+0.j, 1.+0.j, 1.+0.j, 1.+0.j, 1.+0.j, 1.+0.j,\n           1.+0.j, 1.+0.j, 1.+0.j, 1.+0.j, 1.+0.j, 1.+0.j, 1.+0.j, 1.+0.j,\n           1.+0.j, 1.+0.j, 1.+0.j, 1.+0.j, 1.+0.j, 1.+0.j, 1.+0.j, 1.+0.j]))\n    dtype = complex128\n    activation = <hashable partial reim_activation with args=(<function selu at 0x7fad64aa5040>,) and kwargs={}, hash=6356613145500207545>\n    output_activation = identity\n    equal_amplitudes = False\n    use_bias = True\n    precision = None\n    kernel_init = init\n    bias_init = zeros\n)",
     "output_type": "error",
     "traceback": [
      "\u001b[0;31m---------------------------------------------------------------------------\u001b[0m",
      "\u001b[0;31mTypeError\u001b[0m                                 Traceback (most recent call last)",
      "\u001b[0;32m~/.local/lib/python3.8/site-packages/flax/linen/module.py\u001b[0m in \u001b[0;36mwrapped\u001b[0;34m(self)\u001b[0m\n\u001b[1;32m    330\u001b[0m     \u001b[0;32mtry\u001b[0m\u001b[0;34m:\u001b[0m\u001b[0;34m\u001b[0m\u001b[0;34m\u001b[0m\u001b[0m\n\u001b[0;32m--> 331\u001b[0;31m       \u001b[0mhash_value\u001b[0m \u001b[0;34m=\u001b[0m \u001b[0mhash_fn\u001b[0m\u001b[0;34m(\u001b[0m\u001b[0mself\u001b[0m\u001b[0;34m)\u001b[0m\u001b[0;34m\u001b[0m\u001b[0;34m\u001b[0m\u001b[0m\n\u001b[0m\u001b[1;32m    332\u001b[0m     \u001b[0;32mexcept\u001b[0m \u001b[0mTypeError\u001b[0m \u001b[0;32mas\u001b[0m \u001b[0mexc\u001b[0m\u001b[0;34m:\u001b[0m\u001b[0;34m\u001b[0m\u001b[0;34m\u001b[0m\u001b[0m\n",
      "\u001b[0;32m~/.local/lib/python3.8/site-packages/netket/models/equivariant.py\u001b[0m in \u001b[0;36m__hash__\u001b[0;34m(self)\u001b[0m\n",
      "\u001b[0;31mTypeError\u001b[0m: unhashable type: 'list'",
      "\nThe above exception was the direct cause of the following exception:\n",
      "\u001b[0;31mTypeError\u001b[0m                                 Traceback (most recent call last)",
      "\u001b[0;32m/tmp/ipykernel_30498/378311472.py\u001b[0m in \u001b[0;36m<module>\u001b[0;34m\u001b[0m\n\u001b[1;32m     67\u001b[0m \u001b[0;34m\u001b[0m\u001b[0m\n\u001b[1;32m     68\u001b[0m \u001b[0;31m# The variational state (former name: nk.variational.MCState)\u001b[0m\u001b[0;34m\u001b[0m\u001b[0;34m\u001b[0m\u001b[0;34m\u001b[0m\u001b[0m\n\u001b[0;32m---> 69\u001b[0;31m \u001b[0mvs_1\u001b[0m \u001b[0;34m=\u001b[0m \u001b[0mnk\u001b[0m\u001b[0;34m.\u001b[0m\u001b[0mvqs\u001b[0m\u001b[0;34m.\u001b[0m\u001b[0mMCState\u001b[0m\u001b[0;34m(\u001b[0m\u001b[0msampler_1\u001b[0m \u001b[0;34m,\u001b[0m \u001b[0mmachine_1\u001b[0m \u001b[0;34m,\u001b[0m \u001b[0mn_samples\u001b[0m\u001b[0;34m=\u001b[0m\u001b[0mSAMPLES\u001b[0m\u001b[0;34m)\u001b[0m\u001b[0;34m\u001b[0m\u001b[0;34m\u001b[0m\u001b[0m\n\u001b[0m\u001b[1;32m     70\u001b[0m \u001b[0mvs_2\u001b[0m \u001b[0;34m=\u001b[0m \u001b[0mnk\u001b[0m\u001b[0;34m.\u001b[0m\u001b[0mvqs\u001b[0m\u001b[0;34m.\u001b[0m\u001b[0mMCState\u001b[0m\u001b[0;34m(\u001b[0m\u001b[0msampler_2\u001b[0m \u001b[0;34m,\u001b[0m \u001b[0mmachine_2\u001b[0m \u001b[0;34m,\u001b[0m \u001b[0mn_samples\u001b[0m\u001b[0;34m=\u001b[0m\u001b[0mSAMPLES\u001b[0m\u001b[0;34m)\u001b[0m\u001b[0;34m\u001b[0m\u001b[0;34m\u001b[0m\u001b[0m\n\u001b[1;32m     71\u001b[0m \u001b[0mvs_1\u001b[0m\u001b[0;34m.\u001b[0m\u001b[0minit_parameters\u001b[0m\u001b[0;34m(\u001b[0m\u001b[0mjax\u001b[0m\u001b[0;34m.\u001b[0m\u001b[0mnn\u001b[0m\u001b[0;34m.\u001b[0m\u001b[0minitializers\u001b[0m\u001b[0;34m.\u001b[0m\u001b[0mnormal\u001b[0m\u001b[0;34m(\u001b[0m\u001b[0mstddev\u001b[0m\u001b[0;34m=\u001b[0m\u001b[0;36m0.01\u001b[0m\u001b[0;34m)\u001b[0m\u001b[0;34m)\u001b[0m\u001b[0;34m\u001b[0m\u001b[0;34m\u001b[0m\u001b[0m\n",
      "\u001b[0;32m~/.local/lib/python3.8/site-packages/netket/vqs/mc/mc_state/state.py\u001b[0m in \u001b[0;36m__init__\u001b[0;34m(self, sampler, model, n_samples, n_samples_per_rank, n_discard, n_discard_per_chain, chunk_size, variables, init_fun, apply_fun, sample_fun, seed, sampler_seed, mutable, training_kwargs)\u001b[0m\n\u001b[1;32m    246\u001b[0m             \u001b[0mself\u001b[0m\u001b[0;34m.\u001b[0m\u001b[0mvariables\u001b[0m \u001b[0;34m=\u001b[0m \u001b[0mvariables\u001b[0m\u001b[0;34m\u001b[0m\u001b[0;34m\u001b[0m\u001b[0m\n\u001b[1;32m    247\u001b[0m         \u001b[0;32melse\u001b[0m\u001b[0;34m:\u001b[0m\u001b[0;34m\u001b[0m\u001b[0;34m\u001b[0m\u001b[0m\n\u001b[0;32m--> 248\u001b[0;31m             \u001b[0mself\u001b[0m\u001b[0;34m.\u001b[0m\u001b[0minit\u001b[0m\u001b[0;34m(\u001b[0m\u001b[0mseed\u001b[0m\u001b[0;34m,\u001b[0m \u001b[0mdtype\u001b[0m\u001b[0;34m=\u001b[0m\u001b[0msampler\u001b[0m\u001b[0;34m.\u001b[0m\u001b[0mdtype\u001b[0m\u001b[0;34m)\u001b[0m\u001b[0;34m\u001b[0m\u001b[0;34m\u001b[0m\u001b[0m\n\u001b[0m\u001b[1;32m    249\u001b[0m \u001b[0;34m\u001b[0m\u001b[0m\n\u001b[1;32m    250\u001b[0m         \u001b[0;32mif\u001b[0m \u001b[0msampler_seed\u001b[0m \u001b[0;32mis\u001b[0m \u001b[0;32mNone\u001b[0m \u001b[0;32mand\u001b[0m \u001b[0mseed\u001b[0m \u001b[0;32mis\u001b[0m \u001b[0;32mnot\u001b[0m \u001b[0;32mNone\u001b[0m\u001b[0;34m:\u001b[0m\u001b[0;34m\u001b[0m\u001b[0;34m\u001b[0m\u001b[0m\n",
      "\u001b[0;32m~/.local/lib/python3.8/site-packages/netket/vqs/mc/mc_state/state.py\u001b[0m in \u001b[0;36minit\u001b[0;34m(self, seed, dtype)\u001b[0m\n\u001b[1;32m    281\u001b[0m         \u001b[0mdummy_input\u001b[0m \u001b[0;34m=\u001b[0m \u001b[0mjnp\u001b[0m\u001b[0;34m.\u001b[0m\u001b[0mzeros\u001b[0m\u001b[0;34m(\u001b[0m\u001b[0;34m(\u001b[0m\u001b[0;36m1\u001b[0m\u001b[0;34m,\u001b[0m \u001b[0mself\u001b[0m\u001b[0;34m.\u001b[0m\u001b[0mhilbert\u001b[0m\u001b[0;34m.\u001b[0m\u001b[0msize\u001b[0m\u001b[0;34m)\u001b[0m\u001b[0;34m,\u001b[0m \u001b[0mdtype\u001b[0m\u001b[0;34m=\u001b[0m\u001b[0mdtype\u001b[0m\u001b[0;34m)\u001b[0m\u001b[0;34m\u001b[0m\u001b[0;34m\u001b[0m\u001b[0m\n\u001b[1;32m    282\u001b[0m \u001b[0;34m\u001b[0m\u001b[0m\n\u001b[0;32m--> 283\u001b[0;31m         \u001b[0mvariables\u001b[0m \u001b[0;34m=\u001b[0m \u001b[0mjit_evaluate\u001b[0m\u001b[0;34m(\u001b[0m\u001b[0mself\u001b[0m\u001b[0;34m.\u001b[0m\u001b[0m_init_fun\u001b[0m\u001b[0;34m,\u001b[0m \u001b[0;34m{\u001b[0m\u001b[0;34m\"params\"\u001b[0m\u001b[0;34m:\u001b[0m \u001b[0mkey\u001b[0m\u001b[0;34m}\u001b[0m\u001b[0;34m,\u001b[0m \u001b[0mdummy_input\u001b[0m\u001b[0;34m)\u001b[0m\u001b[0;34m\u001b[0m\u001b[0;34m\u001b[0m\u001b[0m\n\u001b[0m\u001b[1;32m    284\u001b[0m         \u001b[0mself\u001b[0m\u001b[0;34m.\u001b[0m\u001b[0mvariables\u001b[0m \u001b[0;34m=\u001b[0m \u001b[0mvariables\u001b[0m\u001b[0;34m\u001b[0m\u001b[0;34m\u001b[0m\u001b[0m\n\u001b[1;32m    285\u001b[0m \u001b[0;34m\u001b[0m\u001b[0m\n",
      "\u001b[0;32m~/.local/lib/python3.8/site-packages/netket/utils/partial.py\u001b[0m in \u001b[0;36m__repr__\u001b[0;34m(self)\u001b[0m\n\u001b[1;32m     65\u001b[0m \u001b[0;34m\u001b[0m\u001b[0m\n\u001b[1;32m     66\u001b[0m     \u001b[0;32mdef\u001b[0m \u001b[0m__repr__\u001b[0m\u001b[0;34m(\u001b[0m\u001b[0mself\u001b[0m\u001b[0;34m)\u001b[0m\u001b[0;34m:\u001b[0m\u001b[0;34m\u001b[0m\u001b[0;34m\u001b[0m\u001b[0m\n\u001b[0;32m---> 67\u001b[0;31m         \u001b[0;32mreturn\u001b[0m \u001b[0;34mf\"<hashable partial {self.func.__name__} with args={self.args} and kwargs={self.keywords}, hash={hash(self)}>\"\u001b[0m\u001b[0;34m\u001b[0m\u001b[0;34m\u001b[0m\u001b[0m\n\u001b[0m\u001b[1;32m     68\u001b[0m \u001b[0;34m\u001b[0m\u001b[0m\n\u001b[1;32m     69\u001b[0m \u001b[0;34m\u001b[0m\u001b[0m\n",
      "\u001b[0;32m~/.local/lib/python3.8/site-packages/netket/utils/partial.py\u001b[0m in \u001b[0;36m__hash__\u001b[0;34m(self)\u001b[0m\n\u001b[1;32m     58\u001b[0m     \u001b[0;32mdef\u001b[0m \u001b[0m__hash__\u001b[0m\u001b[0;34m(\u001b[0m\u001b[0mself\u001b[0m\u001b[0;34m)\u001b[0m\u001b[0;34m:\u001b[0m\u001b[0;34m\u001b[0m\u001b[0;34m\u001b[0m\u001b[0m\n\u001b[1;32m     59\u001b[0m         \u001b[0;32mif\u001b[0m \u001b[0mself\u001b[0m\u001b[0;34m.\u001b[0m\u001b[0m_hash\u001b[0m \u001b[0;32mis\u001b[0m \u001b[0;32mNone\u001b[0m\u001b[0;34m:\u001b[0m\u001b[0;34m\u001b[0m\u001b[0;34m\u001b[0m\u001b[0m\n\u001b[0;32m---> 60\u001b[0;31m             self._hash = hash(\n\u001b[0m\u001b[1;32m     61\u001b[0m                 \u001b[0;34m(\u001b[0m\u001b[0mself\u001b[0m\u001b[0;34m.\u001b[0m\u001b[0mfunc\u001b[0m\u001b[0;34m.\u001b[0m\u001b[0m__code__\u001b[0m\u001b[0;34m,\u001b[0m \u001b[0mself\u001b[0m\u001b[0;34m.\u001b[0m\u001b[0margs\u001b[0m\u001b[0;34m,\u001b[0m \u001b[0mfrozenset\u001b[0m\u001b[0;34m(\u001b[0m\u001b[0mself\u001b[0m\u001b[0;34m.\u001b[0m\u001b[0mkeywords\u001b[0m\u001b[0;34m.\u001b[0m\u001b[0mitems\u001b[0m\u001b[0;34m(\u001b[0m\u001b[0;34m)\u001b[0m\u001b[0;34m)\u001b[0m\u001b[0;34m)\u001b[0m\u001b[0;34m\u001b[0m\u001b[0;34m\u001b[0m\u001b[0m\n\u001b[1;32m     62\u001b[0m             )\n",
      "\u001b[0;32m~/.local/lib/python3.8/site-packages/flax/linen/module.py\u001b[0m in \u001b[0;36mwrapped\u001b[0;34m(self)\u001b[0m\n\u001b[1;32m    331\u001b[0m       \u001b[0mhash_value\u001b[0m \u001b[0;34m=\u001b[0m \u001b[0mhash_fn\u001b[0m\u001b[0;34m(\u001b[0m\u001b[0mself\u001b[0m\u001b[0;34m)\u001b[0m\u001b[0;34m\u001b[0m\u001b[0;34m\u001b[0m\u001b[0m\n\u001b[1;32m    332\u001b[0m     \u001b[0;32mexcept\u001b[0m \u001b[0mTypeError\u001b[0m \u001b[0;32mas\u001b[0m \u001b[0mexc\u001b[0m\u001b[0;34m:\u001b[0m\u001b[0;34m\u001b[0m\u001b[0;34m\u001b[0m\u001b[0m\n\u001b[0;32m--> 333\u001b[0;31m       raise TypeError('Failed to hash Flax Module.  '\n\u001b[0m\u001b[1;32m    334\u001b[0m                       \u001b[0;34m'The module probably contains unhashable attributes.  '\u001b[0m\u001b[0;34m\u001b[0m\u001b[0;34m\u001b[0m\u001b[0m\n\u001b[1;32m    335\u001b[0m                       f'Module={self}') from exc\n",
      "\u001b[0;31mTypeError\u001b[0m: Failed to hash Flax Module.  The module probably contains unhashable attributes.  Module=GCNN_Irrep(\n    # attributes\n    symmetries = HashableArray(wrapped=array([[ 0,  1,  2, ..., 13, 14, 15],\n           [ 0,  1, 13, ...,  2, 14, 15],\n           [ 0,  4,  7, ...,  8, 11, 15],\n           ...,\n           [15, 11,  8, ...,  7,  4,  0],\n           [15, 14,  2, ..., 13,  1,  0],\n           [15, 14, 13, ...,  2,  1,  0]]))\n    irreps = (HashableArray(wrapped=array([[[1.]],\n    \n           [[1.]],\n    \n           [[1.]],\n    \n           [[1.]],\n    \n           [[1.]],\n    \n           [[1.]],\n    \n           [[1.]],\n    \n           [[1.]],\n    \n           [[1.]],\n    \n           [[1.]],\n    \n           [[1.]],\n    \n           [[1.]],\n    \n           [[1.]],\n    \n           [[1.]],\n    \n           [[1.]],\n    \n           [[1.]],\n    \n           [[1.]],\n    \n           [[1.]],\n    \n           [[1.]],\n    \n           [[1.]],\n    \n           [[1.]],\n    \n           [[1.]],\n    \n           [[1.]],\n    \n           [[1.]],\n    \n           [[1.]],\n    \n           [[1.]],\n    \n           [[1.]],\n    \n           [[1.]],\n    \n           [[1.]],\n    \n           [[1.]],\n    \n           [[1.]],\n    \n           [[1.]],\n    \n           [[1.]],\n    \n           [[1.]],\n    \n           [[1.]],\n    \n           [[1.]],\n    \n           [[1.]],\n    \n           [[1.]],\n    \n           [[1.]],\n    \n           [[1.]],\n    \n           [[1.]],\n    \n           [[1.]],\n    \n           [[1.]],\n    \n           [[1.]],\n    \n           [[1.]],\n    \n           [[1.]],\n    \n           [[1.]],\n    \n           [[1.]],\n    \n           [[1.]],\n    \n           [[1.]],\n    \n           [[1.]],\n    \n           [[1.]],\n    \n           [[1.]],\n    \n           [[1.]],\n    \n           [[1.]],\n    \n           [[1.]],\n    \n           [[1.]],\n    \n           [[1.]],\n    \n           [[1.]],\n    \n           [[1.]],\n    \n           [[1.]],\n    \n           [[1.]],\n    \n           [[1.]],\n    \n           [[1.]]])), HashableArray(wrapped=array([[[ 1.00000000e+00+0.00000000e+00j]],\n    \n           [[ 1.00000000e+00+2.46519033e-32j]],\n    \n           [[ 1.00000000e+00+1.23259516e-32j]],\n    \n           [[ 1.00000000e+00+0.00000000e+00j]],\n    \n           [[-1.28189897e-30+1.00000000e+00j]],\n    \n           [[ 7.39557099e-31+1.00000000e+00j]],\n    \n           [[ 6.84090316e-31+1.00000000e+00j]],\n    \n           [[-2.42821247e-30+1.00000000e+00j]],\n    \n           [[-1.00000000e+00+4.31408308e-32j]],\n    \n           [[-1.00000000e+00-7.11823707e-31j]],\n    \n           [[-1.00000000e+00+1.07852077e-30j]],\n    \n           [[-1.00000000e+00-1.21718772e-30j]],\n    \n           [[-1.30038790e-30-1.00000000e+00j]],\n    \n           [[-2.39123462e-30-1.00000000e+00j]],\n    \n           [[-4.93038066e-32-1.00000000e+00j]],\n    \n           [[-1.38666956e-31-1.00000000e+00j]],\n    \n           [[-2.03378202e-31+1.00000000e+00j]],\n    \n           [[-1.10933565e-31+1.00000000e+00j]],\n    \n           [[-3.82104501e-31+1.00000000e+00j]],\n    \n           [[-3.08148791e-32+1.00000000e+00j]],\n    \n           [[ 1.00000000e+00+2.77333912e-32j]],\n    \n           [[ 1.00000000e+00-3.69778549e-32j]],\n    \n           [[ 1.00000000e+00+1.84889275e-32j]],\n    \n           [[ 1.00000000e+00-1.84889275e-32j]],\n    \n           [[-1.34506947e-30-1.00000000e+00j]],\n    \n           [[ 3.79023013e-31-1.00000000e+00j]],\n    \n           [[ 2.04610797e-30-1.00000000e+00j]],\n    \n           [[ 1.36818063e-30-1.00000000e+00j]],\n    \n           [[-1.00000000e+00-1.00456506e-30j]],\n    \n           [[-1.00000000e+00-2.34193081e-31j]],\n    \n           [[-1.00000000e+00+3.69778549e-32j]],\n    \n           [[-1.00000000e+00-2.48984223e-30j]],\n    \n           [[-1.00000000e+00+2.46519033e-30j]],\n    \n           [[-1.00000000e+00+4.93038066e-32j]],\n    \n           [[-1.00000000e+00+1.24492112e-30j]],\n    \n           [[-1.00000000e+00+1.23259516e-30j]],\n    \n           [[-2.75485019e-30-1.00000000e+00j]],\n    \n           [[ 2.08000434e-31-1.00000000e+00j]],\n    \n           [[ 2.65007960e-31-1.00000000e+00j]],\n    \n           [[-8.13512809e-31-1.00000000e+00j]],\n    \n           [[ 1.00000000e+00+9.24446373e-33j]],\n    \n           [[ 1.00000000e+00+7.70371978e-33j]],\n    \n           [[ 1.00000000e+00-2.46519033e-32j]],\n    \n           [[ 1.00000000e+00-1.23259516e-32j]],\n    \n           [[ 1.35585468e-30+1.00000000e+00j]],\n    \n           [[-8.50490663e-31+1.00000000e+00j]],\n    \n           [[ 2.77333912e-31+1.00000000e+00j]],\n    \n           [[ 2.08308583e-30+1.00000000e+00j]],\n    \n           [[ 7.36475611e-31-1.00000000e+00j]],\n    \n           [[ 7.14905195e-31-1.00000000e+00j]],\n    \n           [[-3.82104501e-31-1.00000000e+00j]],\n    \n           [[-1.17096541e-31-1.00000000e+00j]],\n    \n           [[-1.00000000e+00+2.15704154e-31j]],\n    \n           [[-1.00000000e+00-1.14631350e-30j]],\n    \n           [[-1.00000000e+00+7.21068171e-31j]],\n    \n           [[-1.00000000e+00-1.23259516e-32j]],\n    \n           [[-1.34969171e-30+1.00000000e+00j]],\n    \n           [[-2.73019829e-30+1.00000000e+00j]],\n    \n           [[ 1.47911420e-31+1.00000000e+00j]],\n    \n           [[ 3.97511941e-31+1.00000000e+00j]],\n    \n           [[ 1.00000000e+00+9.24446373e-33j]],\n    \n           [[ 1.00000000e+00-3.38963670e-32j]],\n    \n           [[ 1.00000000e+00+2.00296714e-32j]],\n    \n           [[ 1.00000000e+00+1.23259516e-32j]]])), HashableArray(wrapped=array([[[ 1.00000000e+00+0.00000000e+00j]],\n    \n           [[ 1.00000000e+00-1.97215226e-31j]],\n    \n           [[ 1.00000000e+00+9.86076132e-32j]],\n    \n           [[ 1.00000000e+00+3.15544362e-30j]],\n    \n           [[ 3.76952253e-28-1.00000000e+00j]],\n    \n           [[-4.89907274e-28-1.00000000e+00j]],\n    \n           [[-6.86308988e-28-1.00000000e+00j]],\n    \n           [[ 1.83804591e-28-1.00000000e+00j]],\n    \n           [[-1.00000000e+00-1.97215226e-31j]],\n    \n           [[-1.00000000e+00-1.14759540e-27j]],\n    \n           [[-1.00000000e+00+9.07190041e-30j]],\n    \n           [[-1.00000000e+00-1.13635413e-27j]],\n    \n           [[ 3.77716462e-28+1.00000000e+00j]],\n    \n           [[ 1.81881742e-28+1.00000000e+00j]],\n    \n           [[ 2.28276624e-28+1.00000000e+00j]],\n    \n           [[ 4.21448939e-28+1.00000000e+00j]],\n    \n           [[ 4.20462862e-28-1.00000000e+00j]],\n    \n           [[-4.40430904e-28-1.00000000e+00j]],\n    \n           [[-6.37596827e-28-1.00000000e+00j]],\n    \n           [[ 2.28769663e-28-1.00000000e+00j]],\n    \n           [[ 1.00000000e+00+9.86076132e-32j]],\n    \n           [[ 1.00000000e+00+3.94430453e-31j]],\n    \n           [[ 1.00000000e+00-9.86076132e-32j]],\n    \n           [[ 1.00000000e+00+1.38050658e-30j]],\n    \n           [[ 6.36512143e-28+1.00000000e+00j]],\n    \n           [[ 4.43832867e-28+1.00000000e+00j]],\n    \n           [[ 4.92150597e-28+1.00000000e+00j]],\n    \n           [[ 6.85125696e-28+1.00000000e+00j]],\n    \n           [[-1.00000000e+00-1.02551918e-29j]],\n    \n           [[-1.00000000e+00-1.15193414e-27j]],\n    \n           [[-1.00000000e+00-7.88860905e-31j]],\n    \n           [[-1.00000000e+00-1.14720097e-27j]],\n    \n           [[-1.00000000e+00+1.14937034e-27j]],\n    \n           [[-1.00000000e+00+6.06436821e-30j]],\n    \n           [[-1.00000000e+00+1.13674856e-27j]],\n    \n           [[-1.00000000e+00-6.95183673e-30j]],\n    \n           [[-2.30618555e-28+1.00000000e+00j]],\n    \n           [[-4.20610774e-28+1.00000000e+00j]],\n    \n           [[-3.78456019e-28+1.00000000e+00j]],\n    \n           [[-1.82029654e-28+1.00000000e+00j]],\n    \n           [[ 1.00000000e+00-3.94430453e-31j]],\n    \n           [[ 1.00000000e+00+4.93038066e-31j]],\n    \n           [[ 1.00000000e+00+2.95822839e-31j]],\n    \n           [[ 1.00000000e+00+2.66240556e-30j]],\n    \n           [[ 6.86752722e-28-1.00000000e+00j]],\n    \n           [[-1.81783135e-28-1.00000000e+00j]],\n    \n           [[-3.75596398e-28-1.00000000e+00j]],\n    \n           [[ 4.92446420e-28-1.00000000e+00j]],\n    \n           [[-4.92150597e-28+1.00000000e+00j]],\n    \n           [[-6.86949937e-28+1.00000000e+00j]],\n    \n           [[-6.34835813e-28+1.00000000e+00j]],\n    \n           [[-4.40776031e-28+1.00000000e+00j]],\n    \n           [[-1.00000000e+00+1.15765338e-27j]],\n    \n           [[-1.00000000e+00+8.13512809e-30j]],\n    \n           [[-1.00000000e+00+1.14818705e-27j]],\n    \n           [[-1.00000000e+00+3.94430453e-30j]],\n    \n           [[ 6.33504611e-28-1.00000000e+00j]],\n    \n           [[-2.25910042e-28-1.00000000e+00j]],\n    \n           [[-4.22928053e-28-1.00000000e+00j]],\n    \n           [[ 4.40776031e-28-1.00000000e+00j]],\n    \n           [[ 1.00000000e+00-9.86076132e-32j]],\n    \n           [[ 1.00000000e+00-1.38050658e-30j]],\n    \n           [[ 1.00000000e+00+1.97215226e-31j]],\n    \n           [[ 1.00000000e+00+3.15544362e-30j]]])), HashableArray(wrapped=array([[[ 1.]],\n    \n           [[ 1.]],\n    \n           [[ 1.]],\n    \n           [[ 1.]],\n    \n           [[-1.]],\n    \n           [[-1.]],\n    \n           [[-1.]],\n    \n           [[-1.]],\n    \n           [[ 1.]],\n    \n           [[ 1.]],\n    \n           [[ 1.]],\n    \n           [[ 1.]],\n    \n           [[-1.]],\n    \n           [[-1.]],\n    \n           [[-1.]],\n    \n           [[-1.]],\n    \n           [[-1.]],\n    \n           [[-1.]],\n    \n           [[-1.]],\n    \n           [[-1.]],\n    \n           [[ 1.]],\n    \n           [[ 1.]],\n    \n           [[ 1.]],\n    \n           [[ 1.]],\n    \n           [[-1.]],\n    \n           [[-1.]],\n    \n           [[-1.]],\n    \n           [[-1.]],\n    \n           [[ 1.]],\n    \n           [[ 1.]],\n    \n           [[ 1.]],\n    \n           [[ 1.]],\n    \n           [[ 1.]],\n    \n           [[ 1.]],\n    \n           [[ 1.]],\n    \n           [[ 1.]],\n    \n           [[-1.]],\n    \n           [[-1.]],\n    \n           [[-1.]],\n    \n           [[-1.]],\n    \n           [[ 1.]],\n    \n           [[ 1.]],\n    \n           [[ 1.]],\n    \n           [[ 1.]],\n    \n           [[-1.]],\n    \n           [[-1.]],\n    \n           [[-1.]],\n    \n           [[-1.]],\n    \n           [[-1.]],\n    \n           [[-1.]],\n    \n           [[-1.]],\n    \n           [[-1.]],\n    \n           [[ 1.]],\n    \n           [[ 1.]],\n    \n           [[ 1.]],\n    \n           [[ 1.]],\n    \n           [[-1.]],\n    \n           [[-1.]],\n    \n           [[-1.]],\n    \n           [[-1.]],\n    \n           [[ 1.]],\n    \n           [[ 1.]],\n    \n           [[ 1.]],\n    \n           [[ 1.]]])), HashableArray(wrapped=array([[[ 1.]],\n    \n           [[-1.]],\n    \n           [[-1.]],\n    \n           [[ 1.]],\n    \n           [[ 1.]],\n    \n           [[-1.]],\n    \n           [[ 1.]],\n    \n           [[-1.]],\n    \n           [[ 1.]],\n    \n           [[-1.]],\n    \n           [[-1.]],\n    \n           [[ 1.]],\n    \n           [[ 1.]],\n    \n           [[-1.]],\n    \n           [[ 1.]],\n    \n           [[-1.]],\n    \n           [[-1.]],\n    \n           [[ 1.]],\n    \n           [[-1.]],\n    \n           [[ 1.]],\n    \n           [[-1.]],\n    \n           [[ 1.]],\n    \n           [[ 1.]],\n    \n           [[-1.]],\n    \n           [[-1.]],\n    \n           [[ 1.]],\n    \n           [[-1.]],\n    \n           [[ 1.]],\n    \n           [[-1.]],\n    \n           [[ 1.]],\n    \n           [[ 1.]],\n    \n           [[-1.]],\n    \n           [[-1.]],\n    \n           [[ 1.]],\n    \n           [[ 1.]],\n    \n           [[-1.]],\n    \n           [[ 1.]],\n    \n           [[-1.]],\n    \n           [[ 1.]],\n    \n           [[-1.]],\n    \n           [[-1.]],\n    \n           [[ 1.]],\n    \n           [[ 1.]],\n    \n           [[-1.]],\n    \n           [[ 1.]],\n    \n           [[-1.]],\n    \n           [[ 1.]],\n    \n           [[-1.]],\n    \n           [[-1.]],\n    \n           [[ 1.]],\n    \n           [[-1.]],\n    \n           [[ 1.]],\n    \n           [[ 1.]],\n    \n           [[-1.]],\n    \n           [[-1.]],\n    \n           [[ 1.]],\n    \n           [[-1.]],\n    \n           [[ 1.]],\n    \n           [[-1.]],\n    \n           [[ 1.]],\n    \n           [[ 1.]],\n    \n           [[-1.]],\n    \n           [[-1.]],\n    \n           [[ 1.]]])), HashableArray(wrapped=array([[[ 1.00000000e+00+0.00000000e+00j]],\n    \n           [[-1.00000000e+00+1.54074396e-33j]],\n    \n           [[-1.00000000e+00-6.16297582e-33j]],\n    \n           [[ 1.00000000e+00-1.04000217e-32j]],\n    \n           [[ 2.49215335e-31+1.00000000e+00j]],\n    \n           [[-1.69481835e-31-1.00000000e+00j]],\n    \n           [[ 5.54667824e-32+1.00000000e+00j]],\n    \n           [[-1.43289188e-31-1.00000000e+00j]],\n    \n           [[-1.00000000e+00+4.62223187e-33j]],\n    \n           [[ 1.00000000e+00+3.14311767e-31j]],\n    \n           [[ 1.00000000e+00-1.91052250e-31j]],\n    \n           [[-1.00000000e+00-1.74104067e-31j]],\n    \n           [[ 2.48444963e-31-1.00000000e+00j]],\n    \n           [[-1.66400347e-31+1.00000000e+00j]],\n    \n           [[ 8.89779634e-32-1.00000000e+00j]],\n    \n           [[-4.46815747e-32+1.00000000e+00j]],\n    \n           [[-4.77630626e-32-1.00000000e+00j]],\n    \n           [[-5.23852945e-32+1.00000000e+00j]],\n    \n           [[ 8.12742437e-32-1.00000000e+00j]],\n    \n           [[ 7.85779417e-32+1.00000000e+00j]],\n    \n           [[-1.00000000e+00-1.69481835e-32j]],\n    \n           [[ 1.00000000e+00+7.70371978e-34j]],\n    \n           [[ 1.00000000e+00+9.24446373e-33j]],\n    \n           [[-1.00000000e+00+4.23704588e-33j]],\n    \n           [[-9.24446373e-32+1.00000000e+00j]],\n    \n           [[-3.00445071e-32-1.00000000e+00j]],\n    \n           [[ 2.49600521e-31+1.00000000e+00j]],\n    \n           [[-2.00296714e-31-1.00000000e+00j]],\n    \n           [[ 1.00000000e+00+1.64859603e-31j]],\n    \n           [[-1.00000000e+00+6.16297582e-32j]],\n    \n           [[-1.00000000e+00+3.46667390e-33j]],\n    \n           [[ 1.00000000e+00-2.40356057e-31j]],\n    \n           [[ 1.00000000e+00+2.46519033e-31j]],\n    \n           [[-1.00000000e+00+5.77778983e-33j]],\n    \n           [[-1.00000000e+00+1.94133738e-31j]],\n    \n           [[ 1.00000000e+00-4.52978723e-31j]],\n    \n           [[ 1.63318859e-31-1.00000000e+00j]],\n    \n           [[-8.01186857e-32+1.00000000e+00j]],\n    \n           [[-1.17096541e-31-1.00000000e+00j]],\n    \n           [[ 1.17096541e-31+1.00000000e+00j]],\n    \n           [[-1.00000000e+00+2.11852294e-33j]],\n    \n           [[ 1.00000000e+00-3.08148791e-33j]],\n    \n           [[ 1.00000000e+00-1.30963236e-32j]],\n    \n           [[-1.00000000e+00+7.70371978e-33j]],\n    \n           [[-2.08770806e-31+1.00000000e+00j]],\n    \n           [[ 1.18637285e-31-1.00000000e+00j]],\n    \n           [[-1.29422492e-31+1.00000000e+00j]],\n    \n           [[ 2.49600521e-31-1.00000000e+00j]],\n    \n           [[-1.87970763e-31+1.00000000e+00j]],\n    \n           [[ 8.93631494e-32-1.00000000e+00j]],\n    \n           [[ 6.31705022e-32+1.00000000e+00j]],\n    \n           [[-8.01186857e-32-1.00000000e+00j]],\n    \n           [[-1.00000000e+00-1.14015053e-31j]],\n    \n           [[ 1.00000000e+00+4.43734259e-31j]],\n    \n           [[ 1.00000000e+00-3.14311767e-31j]],\n    \n           [[-1.00000000e+00-3.85185989e-32j]],\n    \n           [[-1.03615031e-31-1.00000000e+00j]],\n    \n           [[ 1.88741135e-31+1.00000000e+00j]],\n    \n           [[-9.51409393e-32-1.00000000e+00j]],\n    \n           [[-1.23259516e-32+1.00000000e+00j]],\n    \n           [[ 1.00000000e+00-9.05187074e-33j]],\n    \n           [[-1.00000000e+00+3.10074721e-32j]],\n    \n           [[-1.00000000e+00+2.31111593e-33j]],\n    \n           [[ 1.00000000e+00-1.11703937e-32j]]])), HashableArray(wrapped=array([[[ 1.00000000e+00+0.00000000e+00j]],\n    \n           [[-1.00000000e+00+0.00000000e+00j]],\n    \n           [[-1.00000000e+00-1.23259516e-32j]],\n    \n           [[ 1.00000000e+00+3.08148791e-33j]],\n    \n           [[ 4.50667607e-32-1.00000000e+00j]],\n    \n           [[-3.38963670e-32+1.00000000e+00j]],\n    \n           [[-2.08000434e-32-1.00000000e+00j]],\n    \n           [[-6.74556963e-32+1.00000000e+00j]],\n    \n           [[-1.00000000e+00-9.43705673e-33j]],\n    \n           [[ 1.00000000e+00+1.69481835e-32j]],\n    \n           [[ 1.00000000e+00+6.47112461e-32j]],\n    \n           [[-1.00000000e+00-5.54667824e-32j]],\n    \n           [[ 5.23852945e-32+1.00000000e+00j]],\n    \n           [[-6.27853162e-32-1.00000000e+00j]],\n    \n           [[-4.77630626e-32+1.00000000e+00j]],\n    \n           [[-1.96444854e-32-1.00000000e+00j]],\n    \n           [[-3.08148791e-32+1.00000000e+00j]],\n    \n           [[ 9.24446373e-32-1.00000000e+00j]],\n    \n           [[-6.00890143e-32+1.00000000e+00j]],\n    \n           [[-4.62223187e-32-1.00000000e+00j]],\n    \n           [[-1.00000000e+00+1.00148357e-32j]],\n    \n           [[ 1.00000000e+00-3.03333966e-33j]],\n    \n           [[ 1.00000000e+00+1.11703937e-32j]],\n    \n           [[-1.00000000e+00-9.62964972e-33j]],\n    \n           [[-5.23852945e-32-1.00000000e+00j]],\n    \n           [[ 1.38666956e-32+1.00000000e+00j]],\n    \n           [[-1.69481835e-32-1.00000000e+00j]],\n    \n           [[ 4.00593428e-32+1.00000000e+00j]],\n    \n           [[ 1.00000000e+00-7.39557099e-32j]],\n    \n           [[-1.00000000e+00-2.31111593e-33j]],\n    \n           [[-1.00000000e+00-1.23259516e-32j]],\n    \n           [[ 1.00000000e+00+7.97334997e-32j]],\n    \n           [[ 1.00000000e+00-8.32001736e-32j]],\n    \n           [[-1.00000000e+00+7.70371978e-34j]],\n    \n           [[-1.00000000e+00+6.54816181e-32j]],\n    \n           [[ 1.00000000e+00-4.16000868e-32j]],\n    \n           [[ 7.98538703e-32+1.00000000e+00j]],\n    \n           [[-1.04770589e-31-1.00000000e+00j]],\n    \n           [[-2.11852294e-32+1.00000000e+00j]],\n    \n           [[-2.46519033e-32-1.00000000e+00j]],\n    \n           [[-1.00000000e+00-4.91112136e-33j]],\n    \n           [[ 1.00000000e+00-6.50001356e-33j]],\n    \n           [[ 1.00000000e+00-1.15555797e-33j]],\n    \n           [[-1.00000000e+00-1.04963182e-32j]],\n    \n           [[ 5.08445505e-32-1.00000000e+00j]],\n    \n           [[-1.69481835e-32+1.00000000e+00j]],\n    \n           [[-3.38963670e-32-1.00000000e+00j]],\n    \n           [[-2.00296714e-32+1.00000000e+00j]],\n    \n           [[-2.38815313e-32-1.00000000e+00j]],\n    \n           [[-4.52593537e-33+1.00000000e+00j]],\n    \n           [[-6.47112461e-32-1.00000000e+00j]],\n    \n           [[ 8.85927774e-32+1.00000000e+00j]],\n    \n           [[-1.00000000e+00+9.62964972e-34j]],\n    \n           [[ 1.00000000e+00+3.31259950e-32j]],\n    \n           [[ 1.00000000e+00+1.54074396e-33j]],\n    \n           [[-1.00000000e+00-7.31853379e-33j]],\n    \n           [[-4.73778766e-32+1.00000000e+00j]],\n    \n           [[ 1.01689101e-31-1.00000000e+00j]],\n    \n           [[-7.76149768e-32+1.00000000e+00j]],\n    \n           [[ 4.60297257e-32-1.00000000e+00j]],\n    \n           [[ 1.00000000e+00+1.27111376e-32j]],\n    \n           [[-1.00000000e+00+3.85185989e-33j]],\n    \n           [[-1.00000000e+00-4.62223187e-33j]],\n    \n           [[ 1.00000000e+00+1.11222454e-32j]]])), HashableArray(wrapped=array([[[ 1.]],\n    \n           [[-1.]],\n    \n           [[-1.]],\n    \n           [[ 1.]],\n    \n           [[-1.]],\n    \n           [[ 1.]],\n    \n           [[-1.]],\n    \n           [[ 1.]],\n    \n           [[ 1.]],\n    \n           [[-1.]],\n    \n           [[-1.]],\n    \n           [[ 1.]],\n    \n           [[-1.]],\n    \n           [[ 1.]],\n    \n           [[-1.]],\n    \n           [[ 1.]],\n    \n           [[ 1.]],\n    \n           [[-1.]],\n    \n           [[ 1.]],\n    \n           [[-1.]],\n    \n           [[-1.]],\n    \n           [[ 1.]],\n    \n           [[ 1.]],\n    \n           [[-1.]],\n    \n           [[ 1.]],\n    \n           [[-1.]],\n    \n           [[ 1.]],\n    \n           [[-1.]],\n    \n           [[-1.]],\n    \n           [[ 1.]],\n    \n           [[ 1.]],\n    \n           [[-1.]],\n    \n           [[-1.]],\n    \n           [[ 1.]],\n    \n           [[ 1.]],\n    \n           [[-1.]],\n    \n           [[-1.]],\n    \n           [[ 1.]],\n    \n           [[-1.]],\n    \n           [[ 1.]],\n    \n           [[-1.]],\n    \n           [[ 1.]],\n    \n           [[ 1.]],\n    \n           [[-1.]],\n    \n           [[-1.]],\n    \n           [[ 1.]],\n    \n           [[-1.]],\n    \n           [[ 1.]],\n    \n           [[ 1.]],\n    \n           [[-1.]],\n    \n           [[ 1.]],\n    \n           [[-1.]],\n    \n           [[ 1.]],\n    \n           [[-1.]],\n    \n           [[-1.]],\n    \n           [[ 1.]],\n    \n           [[ 1.]],\n    \n           [[-1.]],\n    \n           [[ 1.]],\n    \n           [[-1.]],\n    \n           [[ 1.]],\n    \n           [[-1.]],\n    \n           [[-1.]],\n    \n           [[ 1.]]])), HashableArray(wrapped=array([[[ 1.00000000e+00, -3.89335280e-17],\n            [-3.89335280e-17,  1.00000000e+00]],\n    \n           [[ 4.50517346e-01, -8.92767675e-01],\n            [-8.92767675e-01, -4.50517346e-01]],\n    \n           [[-4.50517346e-01,  8.92767675e-01],\n            [ 8.92767675e-01,  4.50517346e-01]],\n    \n           [[-1.00000000e+00,  3.27100824e-17],\n            [ 3.19946340e-17, -1.00000000e+00]],\n    \n           [[ 8.92767675e-01,  4.50517346e-01],\n            [ 4.50517346e-01, -8.92767675e-01]],\n    \n           [[ 1.12651266e-17,  1.00000000e+00],\n            [-1.00000000e+00, -4.23905843e-18]],\n    \n           [[-8.92767675e-01, -4.50517346e-01],\n            [-4.50517346e-01,  8.92767675e-01]],\n    \n           [[-1.42880599e-18, -1.00000000e+00],\n            [ 1.00000000e+00, -2.69983547e-18]],\n    \n           [[ 1.00000000e+00, -3.53377004e-17],\n            [-4.06682514e-17,  1.00000000e+00]],\n    \n           [[ 4.50517346e-01, -8.92767675e-01],\n            [-8.92767675e-01, -4.50517346e-01]],\n    \n           [[-4.50517346e-01,  8.92767675e-01],\n            [ 8.92767675e-01,  4.50517346e-01]],\n    \n           [[-1.00000000e+00,  4.57640956e-17],\n            [ 4.06682514e-17, -1.00000000e+00]],\n    \n           [[ 8.92767675e-01,  4.50517346e-01],\n            [ 4.50517346e-01, -8.92767675e-01]],\n    \n           [[-1.30787943e-18,  1.00000000e+00],\n            [-1.00000000e+00,  2.69983547e-18]],\n    \n           [[-8.92767675e-01, -4.50517346e-01],\n            [-4.50517346e-01,  8.92767675e-01]],\n    \n           [[-4.50058117e-18, -1.00000000e+00],\n            [ 1.00000000e+00,  2.50433496e-18]],\n    \n           [[ 3.36112069e-18,  1.00000000e+00],\n            [-1.00000000e+00, -5.97378191e-18]],\n    \n           [[ 8.92767675e-01,  4.50517346e-01],\n            [ 4.50517346e-01, -8.92767675e-01]],\n    \n           [[ 4.35641189e-18, -1.00000000e+00],\n            [ 1.00000000e+00, -2.69983547e-18]],\n    \n           [[-8.92767675e-01, -4.50517346e-01],\n            [-4.50517346e-01,  8.92767675e-01]],\n    \n           [[-4.50517346e-01,  8.92767675e-01],\n            [ 8.92767675e-01,  4.50517346e-01]],\n    \n           [[-1.00000000e+00,  3.99135967e-17],\n            [ 3.89335280e-17, -1.00000000e+00]],\n    \n           [[ 1.00000000e+00, -5.14763548e-17],\n            [-5.10765923e-17,  1.00000000e+00]],\n    \n           [[ 4.50517346e-01, -8.92767675e-01],\n            [-8.92767675e-01, -4.50517346e-01]],\n    \n           [[ 6.03077695e-18,  1.00000000e+00],\n            [-1.00000000e+00,  6.16928242e-18]],\n    \n           [[ 8.92767675e-01,  4.50517346e-01],\n            [ 4.50517346e-01, -8.92767675e-01]],\n    \n           [[ 8.20163739e-18, -1.00000000e+00],\n            [ 1.00000000e+00,  2.50433496e-18]],\n    \n           [[-8.92767675e-01, -4.50517346e-01],\n            [-4.50517346e-01,  8.92767675e-01]],\n    \n           [[-4.50517346e-01,  8.92767675e-01],\n            [ 8.92767675e-01,  4.50517346e-01]],\n    \n           [[-1.00000000e+00,  3.90387566e-17],\n            [ 3.89335280e-17, -1.00000000e+00]],\n    \n           [[ 1.00000000e+00, -3.56715735e-17],\n            [-3.37293575e-17,  1.00000000e+00]],\n    \n           [[ 4.50517346e-01, -8.92767675e-01],\n            [-8.92767675e-01, -4.50517346e-01]],\n    \n           [[ 4.50517346e-01, -8.92767675e-01],\n            [-8.92767675e-01, -4.50517346e-01]],\n    \n           [[ 1.00000000e+00, -3.96611011e-17],\n            [-3.02599106e-17,  1.00000000e+00]],\n    \n           [[-1.00000000e+00,  4.03886743e-17],\n            [ 4.58724219e-17, -1.00000000e+00]],\n    \n           [[-4.50517346e-01,  8.92767675e-01],\n            [ 8.92767675e-01,  4.50517346e-01]],\n    \n           [[-8.92767675e-01, -4.50517346e-01],\n            [-4.50517346e-01,  8.92767675e-01]],\n    \n           [[ 2.10457248e-18, -1.00000000e+00],\n            [ 1.00000000e+00, -4.43455895e-18]],\n    \n           [[ 8.92767675e-01,  4.50517346e-01],\n            [ 4.50517346e-01, -8.92767675e-01]],\n    \n           [[ 6.04475476e-18,  1.00000000e+00],\n            [-1.00000000e+00,  4.43455895e-18]],\n    \n           [[ 4.50517346e-01, -8.92767675e-01],\n            [-8.92767675e-01, -4.50517346e-01]],\n    \n           [[ 1.00000000e+00, -4.18077119e-17],\n            [-4.06682514e-17,  1.00000000e+00]],\n    \n           [[-1.00000000e+00,  4.38400669e-17],\n            [ 4.93418688e-17, -1.00000000e+00]],\n    \n           [[-4.50517346e-01,  8.92767675e-01],\n            [ 8.92767675e-01,  4.50517346e-01]],\n    \n           [[-8.92767675e-01, -4.50517346e-01],\n            [-4.50517346e-01,  8.92767675e-01]],\n    \n           [[-2.13165405e-18, -1.00000000e+00],\n            [ 1.00000000e+00, -1.31081763e-17]],\n    \n           [[ 8.92767675e-01,  4.50517346e-01],\n            [ 4.50517346e-01, -8.92767675e-01]],\n    \n           [[ 5.24337682e-18,  1.00000000e+00],\n            [-1.00000000e+00,  6.16928242e-18]],\n    \n           [[ 1.47939602e-18, -1.00000000e+00],\n            [ 1.00000000e+00, -9.63872937e-18]],\n    \n           [[-8.92767675e-01, -4.50517346e-01],\n            [-4.50517346e-01,  8.92767675e-01]],\n    \n           [[ 3.11765232e-18,  1.00000000e+00],\n            [-1.00000000e+00,  6.16928242e-18]],\n    \n           [[ 8.92767675e-01,  4.50517346e-01],\n            [ 4.50517346e-01, -8.92767675e-01]],\n    \n           [[-1.00000000e+00,  4.47149070e-17],\n            [ 4.24029749e-17, -1.00000000e+00]],\n    \n           [[-4.50517346e-01,  8.92767675e-01],\n            [ 8.92767675e-01,  4.50517346e-01]],\n    \n           [[ 4.50517346e-01, -8.92767675e-01],\n            [-8.92767675e-01, -4.50517346e-01]],\n    \n           [[ 1.00000000e+00, -3.39683787e-17],\n            [-3.89335280e-17,  1.00000000e+00]],\n    \n           [[ 3.73716497e-18, -1.00000000e+00],\n            [ 1.00000000e+00,  2.50433496e-18]],\n    \n           [[-8.92767675e-01, -4.50517346e-01],\n            [-4.50517346e-01,  8.92767675e-01]],\n    \n           [[ 2.90409744e-18,  1.00000000e+00],\n            [-1.00000000e+00,  4.43455895e-18]],\n    \n           [[ 8.92767675e-01,  4.50517346e-01],\n            [ 4.50517346e-01, -8.92767675e-01]],\n    \n           [[-1.00000000e+00,  4.40272593e-17],\n            [ 4.06682514e-17, -1.00000000e+00]],\n    \n           [[-4.50517346e-01,  8.92767675e-01],\n            [ 8.92767675e-01,  4.50517346e-01]],\n    \n           [[ 4.50517346e-01, -8.92767675e-01],\n            [-8.92767675e-01, -4.50517346e-01]],\n    \n           [[ 1.00000000e+00, -2.86715428e-17],\n            [-3.19946340e-17,  1.00000000e+00]]])), HashableArray(wrapped=array([[[ 1.00000000e+00, -2.58614604e-17],\n            [-2.58614604e-17,  1.00000000e+00]],\n    \n           [[-7.28963759e-01,  6.84552290e-01],\n            [ 6.84552290e-01,  7.28963759e-01]],\n    \n           [[ 7.28963759e-01, -6.84552290e-01],\n            [-6.84552290e-01, -7.28963759e-01]],\n    \n           [[-1.00000000e+00,  3.17480680e-17],\n            [ 3.28003543e-17, -1.00000000e+00]],\n    \n           [[-3.76707845e-18, -1.00000000e+00],\n            [ 1.00000000e+00, -3.62883871e-18]],\n    \n           [[ 6.84552290e-01,  7.28963759e-01],\n            [ 7.28963759e-01, -6.84552290e-01]],\n    \n           [[-1.02850579e-17,  1.00000000e+00],\n            [-1.00000000e+00,  3.62883871e-18]],\n    \n           [[-6.84552290e-01, -7.28963759e-01],\n            [-7.28963759e-01,  6.84552290e-01]],\n    \n           [[-1.00000000e+00,  2.43101126e-17],\n            [ 3.10656308e-17, -1.00000000e+00]],\n    \n           [[ 7.28963759e-01, -6.84552290e-01],\n            [-6.84552290e-01, -7.28963759e-01]],\n    \n           [[-7.28963759e-01,  6.84552290e-01],\n            [ 6.84552290e-01,  7.28963759e-01]],\n    \n           [[ 1.00000000e+00, -2.50167995e-17],\n            [-3.28003543e-17,  1.00000000e+00]],\n    \n           [[-1.29885224e-18,  1.00000000e+00],\n            [-1.00000000e+00,  5.36356218e-18]],\n    \n           [[-6.84552290e-01, -7.28963759e-01],\n            [-7.28963759e-01,  6.84552290e-01]],\n    \n           [[ 3.17181546e-18, -1.00000000e+00],\n            [ 1.00000000e+00,  5.04477867e-18]],\n    \n           [[ 6.84552290e-01,  7.28963759e-01],\n            [ 7.28963759e-01, -6.84552290e-01]],\n    \n           [[ 6.84552290e-01,  7.28963759e-01],\n            [ 7.28963759e-01, -6.84552290e-01]],\n    \n           [[-1.60241329e-18, -1.00000000e+00],\n            [ 1.00000000e+00,  1.57533172e-18]],\n    \n           [[-6.84552290e-01, -7.28963759e-01],\n            [-7.28963759e-01,  6.84552290e-01]],\n    \n           [[-3.36421833e-18,  1.00000000e+00],\n            [-1.00000000e+00, -1.57533172e-18]],\n    \n           [[ 7.28963759e-01, -6.84552290e-01],\n            [-6.84552290e-01, -7.28963759e-01]],\n    \n           [[-1.00000000e+00,  2.08197794e-17],\n            [ 2.41267369e-17, -1.00000000e+00]],\n    \n           [[ 1.00000000e+00, -2.85974046e-17],\n            [-2.06572900e-17,  1.00000000e+00]],\n    \n           [[-7.28963759e-01,  6.84552290e-01],\n            [ 6.84552290e-01,  7.28963759e-01]],\n    \n           [[-6.84552290e-01, -7.28963759e-01],\n            [-7.28963759e-01,  6.84552290e-01]],\n    \n           [[ 6.04290178e-18,  1.00000000e+00],\n            [-1.00000000e+00, -1.57533172e-18]],\n    \n           [[ 6.84552290e-01,  7.28963759e-01],\n            [ 7.28963759e-01, -6.84552290e-01]],\n    \n           [[-5.51675866e-18, -1.00000000e+00],\n            [ 1.00000000e+00,  5.04477867e-18]],\n    \n           [[-7.28963759e-01,  6.84552290e-01],\n            [ 6.84552290e-01,  7.28963759e-01]],\n    \n           [[ 1.00000000e+00, -1.94425143e-17],\n            [-3.28003543e-17,  1.00000000e+00]],\n    \n           [[-1.00000000e+00,  3.41262881e-17],\n            [ 3.28003543e-17, -1.00000000e+00]],\n    \n           [[ 7.28963759e-01, -6.84552290e-01],\n            [-6.84552290e-01, -7.28963759e-01]],\n    \n           [[ 7.28963759e-01, -6.84552290e-01],\n            [-6.84552290e-01, -7.28963759e-01]],\n    \n           [[-1.00000000e+00,  3.53740748e-17],\n            [ 2.93309073e-17, -1.00000000e+00]],\n    \n           [[ 1.00000000e+00, -2.21905834e-17],\n            [-3.10656308e-17,  1.00000000e+00]],\n    \n           [[-7.28963759e-01,  6.84552290e-01],\n            [ 6.84552290e-01,  7.28963759e-01]],\n    \n           [[ 5.22532245e-18, -1.00000000e+00],\n            [ 1.00000000e+00,  1.57533172e-18]],\n    \n           [[ 6.84552290e-01,  7.28963759e-01],\n            [ 7.28963759e-01, -6.84552290e-01]],\n    \n           [[-1.02159380e-17,  1.00000000e+00],\n            [-1.00000000e+00, -8.51422562e-18]],\n    \n           [[-6.84552290e-01, -7.28963759e-01],\n            [-7.28963759e-01,  6.84552290e-01]],\n    \n           [[-7.28963759e-01,  6.84552290e-01],\n            [ 6.84552290e-01,  7.28963759e-01]],\n    \n           [[ 1.00000000e+00, -2.85974046e-17],\n            [-2.41267369e-17,  1.00000000e+00]],\n    \n           [[-1.00000000e+00,  1.77650516e-17],\n            [ 2.41267369e-17, -1.00000000e+00]],\n    \n           [[ 7.28963759e-01, -6.84552290e-01],\n            [-6.84552290e-01, -7.28963759e-01]],\n    \n           [[-6.91198689e-20,  1.00000000e+00],\n            [-1.00000000e+00,  5.36356218e-18]],\n    \n           [[-6.84552290e-01, -7.28963759e-01],\n            [-7.28963759e-01,  6.84552290e-01]],\n    \n           [[ 2.73284658e-18, -1.00000000e+00],\n            [ 1.00000000e+00, -1.59391757e-19]],\n    \n           [[ 6.84552290e-01,  7.28963759e-01],\n            [ 7.28963759e-01, -6.84552290e-01]],\n    \n           [[ 6.84552290e-01,  7.28963759e-01],\n            [ 7.28963759e-01, -6.84552290e-01]],\n    \n           [[ 2.20077392e-18, -1.00000000e+00],\n            [ 1.00000000e+00,  1.37183961e-17]],\n    \n           [[-6.84552290e-01, -7.28963759e-01],\n            [-7.28963759e-01,  6.84552290e-01]],\n    \n           [[-9.26888037e-18,  1.00000000e+00],\n            [-1.00000000e+00, -5.04477867e-18]],\n    \n           [[ 1.00000000e+00, -2.69436601e-17],\n            [-2.23920134e-17,  1.00000000e+00]],\n    \n           [[-7.28963759e-01,  6.84552290e-01],\n            [ 6.84552290e-01,  7.28963759e-01]],\n    \n           [[ 7.28963759e-01, -6.84552290e-01],\n            [-6.84552290e-01, -7.28963759e-01]],\n    \n           [[-1.00000000e+00,  2.67513901e-17],\n            [ 3.10656308e-17, -1.00000000e+00]],\n    \n           [[-6.84552290e-01, -7.28963759e-01],\n            [-7.28963759e-01,  6.84552290e-01]],\n    \n           [[ 4.55326192e-18,  1.00000000e+00],\n            [-1.00000000e+00, -5.04477867e-18]],\n    \n           [[ 6.84552290e-01,  7.28963759e-01],\n            [ 7.28963759e-01, -6.84552290e-01]],\n    \n           [[ 1.51766401e-17, -1.00000000e+00],\n            [ 1.00000000e+00, -1.89411523e-18]],\n    \n           [[-1.00000000e+00,  2.17634846e-17],\n            [ 2.23920134e-17, -1.00000000e+00]],\n    \n           [[ 7.28963759e-01, -6.84552290e-01],\n            [-6.84552290e-01, -7.28963759e-01]],\n    \n           [[-7.28963759e-01,  6.84552290e-01],\n            [ 6.84552290e-01,  7.28963759e-01]],\n    \n           [[ 1.00000000e+00, -2.28370563e-17],\n            [-2.41267369e-17,  1.00000000e+00]]])), HashableArray(wrapped=array([[[ 1.00000000e+00, -3.98986399e-17, -1.43114687e-16,\n             -4.68375339e-17],\n            [-3.98986399e-17,  1.00000000e+00,  5.24753851e-17,\n              8.41340886e-17],\n            [-1.43114687e-16,  5.24753851e-17,  1.00000000e+00,\n             -1.34224229e-16],\n            [-4.68375339e-17,  8.41340886e-17, -1.34224229e-16,\n              1.00000000e+00]],\n    \n           [[ 5.83570107e-01, -5.83045516e-01, -5.60878682e-01,\n              7.01353040e-02],\n            [-5.83045516e-01,  1.83675143e-01, -7.85288967e-01,\n              9.81967796e-02],\n            [-5.60878682e-01, -7.85288967e-01,  2.44566969e-01,\n              9.44634319e-02],\n            [ 7.01353040e-02,  9.81967796e-02,  9.44634319e-02,\n              9.88187782e-01]],\n    \n           [[ 9.92066467e-01,  2.86239643e-02, -8.59557633e-03,\n              1.22110233e-01],\n            [ 2.86239643e-02,  8.96725536e-01,  3.10125994e-02,\n             -4.40570313e-01],\n            [-8.59557633e-03,  3.10125994e-02,  9.90687133e-01,\n              1.32300184e-01],\n            [ 1.22110233e-01, -4.40570313e-01,  1.32300184e-01,\n             -8.79479137e-01]],\n    \n           ...,\n    \n           [[ 2.09207325e-01, -9.24446405e-01,  1.01004469e-01,\n              3.02372678e-01],\n            [-9.24446405e-01, -2.93255062e-01, -7.72185351e-02,\n             -2.31165764e-01],\n            [ 1.01004469e-01, -7.72185351e-02, -9.91563148e-01,\n              2.52570351e-02],\n            [ 3.02372678e-01, -2.31165764e-01,  2.52570351e-02,\n             -9.24389115e-01]],\n    \n           [[ 6.33570751e-01, -3.70024854e-01,  6.70478728e-01,\n              1.10127141e-01],\n            [-3.70024854e-01,  6.26344260e-01,  6.77057832e-01,\n              1.11207769e-01],\n            [ 6.70478728e-01,  6.77057832e-01, -2.26817251e-01,\n             -2.01506581e-01],\n            [ 1.10127141e-01,  1.11207769e-01, -2.01506581e-01,\n              9.66902241e-01]],\n    \n           [[ 2.17140857e-01, -9.53070369e-01,  1.09600045e-01,\n              1.80262445e-01],\n            [-9.53070369e-01, -1.89980598e-01, -1.08231135e-01,\n              2.09404548e-01],\n            [ 1.09600045e-01, -1.08231135e-01, -9.82250282e-01,\n             -1.07043149e-01],\n            [ 1.80262445e-01,  2.09404548e-01, -1.07043149e-01,\n              9.55090022e-01]]])), HashableArray(wrapped=array([[[ 1.00000000e+00,  6.20163643e-17,  5.50774704e-17,\n             -1.03636175e-16],\n            [ 6.20163643e-17,  1.00000000e+00,  7.24247051e-17,\n              2.14672030e-17],\n            [ 5.50774704e-17,  7.24247051e-17,  1.00000000e+00,\n              6.67868538e-17],\n            [-1.03636175e-16,  2.14672030e-17,  6.67868538e-17,\n              1.00000000e+00]],\n    \n           [[ 8.87519248e-01, -8.40910548e-02, -3.31454856e-01,\n              3.08829982e-01],\n            [-8.40910548e-02,  8.79609865e-01, -4.67740318e-01,\n             -2.08368656e-02],\n            [-3.31454856e-01, -4.67740318e-01, -8.17685614e-01,\n             -5.24109723e-02],\n            [ 3.08829982e-01, -2.08368656e-02, -5.24109723e-02,\n             -9.49443499e-01]],\n    \n           [[ 5.47100138e-01, -8.06455868e-01, -1.27274156e-01,\n              1.84693424e-01],\n            [-8.06455868e-01, -5.53595398e-01,  1.83235104e-01,\n              9.79079386e-02],\n            [-1.27274156e-01,  1.83235104e-01, -4.64492573e-01,\n              8.57013907e-01],\n            [ 1.84693424e-01,  9.79079386e-02,  8.57013907e-01,\n              4.70987833e-01]],\n    \n           ...,\n    \n           [[-5.47100138e-01,  8.06455868e-01,  1.27274156e-01,\n             -1.84693424e-01],\n            [ 8.06455868e-01,  5.53595398e-01, -1.83235104e-01,\n             -9.79079386e-02],\n            [ 1.27274156e-01, -1.83235104e-01,  4.64492573e-01,\n             -8.57013907e-01],\n            [-1.84693424e-01, -9.79079386e-02, -8.57013907e-01,\n             -4.70987833e-01]],\n    \n           [[-8.87519248e-01,  8.40910548e-02,  3.31454856e-01,\n             -3.08829982e-01],\n            [ 8.40910548e-02, -8.79609865e-01,  4.67740318e-01,\n              2.08368656e-02],\n            [ 3.31454856e-01,  4.67740318e-01,  8.17685614e-01,\n              5.24109723e-02],\n            [-3.08829982e-01,  2.08368656e-02,  5.24109723e-02,\n              9.49443499e-01]],\n    \n           [[-1.00000000e+00, -4.38017678e-17, -3.29597460e-17,\n              1.16917652e-16],\n            [-1.74211822e-17, -1.00000000e+00, -6.59194921e-17,\n             -2.86229374e-17],\n            [-3.16587034e-17, -7.24247051e-17, -1.00000000e+00,\n             -7.96888597e-17],\n            [ 1.10087178e-16, -2.25514052e-17, -6.15826834e-17,\n             -1.00000000e+00]]])), HashableArray(wrapped=array([[[ 1.00000000e+00, -2.94902991e-17,  5.55111512e-17,\n              1.00613962e-16],\n            [-2.94902991e-17,  1.00000000e+00, -6.15826834e-17,\n             -8.23993651e-18],\n            [ 5.55111512e-17, -6.15826834e-17,  1.00000000e+00,\n              1.42247325e-16],\n            [ 1.00613962e-16, -8.23993651e-18,  1.42247325e-16,\n              1.00000000e+00]],\n    \n           [[-9.33409156e-01, -2.62613371e-01,  2.11800671e-01,\n              1.22155803e-01],\n            [-2.62613371e-01,  3.56646454e-02, -8.35275317e-01,\n             -4.81744119e-01],\n            [ 2.11800671e-01, -8.35275317e-01, -3.26340956e-01,\n              3.88532112e-01],\n            [ 1.22155803e-01, -4.81744119e-01,  3.88532112e-01,\n             -7.75914533e-01]],\n    \n           [[-9.66844007e-01,  1.04672957e-01, -1.47131716e-02,\n              2.32464535e-01],\n            [ 1.04672957e-01, -6.69549092e-01, -4.64492556e-02,\n              7.33886948e-01],\n            [-1.47131716e-02, -4.64492556e-02, -9.93470941e-01,\n             -1.03157539e-01],\n            [ 2.32464535e-01,  7.33886948e-01, -1.03157539e-01,\n              6.29864041e-01]],\n    \n           ...,\n    \n           [[ 5.37332789e-01, -5.04584102e-01, -6.26405277e-01,\n              2.53544448e-01],\n            [-5.04584102e-01,  4.49701405e-01, -6.83156568e-01,\n              2.76515159e-01],\n            [-6.26405277e-01, -6.83156568e-01,  1.51909706e-01,\n              3.43273904e-01],\n            [ 2.53544448e-01,  2.76515159e-01,  3.43273904e-01,\n              8.61056099e-01]],\n    \n           [[ 4.37585953e-01, -3.46643688e-01, -8.23492776e-01,\n             -1.01075891e-01],\n            [-3.46643688e-01, -9.16414148e-01,  1.98568004e-01,\n              2.43723303e-02],\n            [-8.23492776e-01,  1.98568004e-01, -5.28278396e-01,\n              5.78993318e-02],\n            [-1.01075891e-01,  2.43723303e-02,  5.78993318e-02,\n             -9.92893409e-01]],\n    \n           [[-5.04176796e-01,  6.09257059e-01,  6.11692105e-01,\n             -2.10799124e-02],\n            [ 6.09257059e-01, -1.19250497e-01,  6.36707313e-01,\n              4.57371789e-01],\n            [ 6.11692105e-01,  6.36707313e-01, -1.45380648e-01,\n             -4.46431443e-01],\n            [-2.10799124e-02,  4.57371789e-01, -4.46431443e-01,\n              7.68807941e-01]]])))\n    layers = 2\n    features = [4, 4]\n    characters = HashableArray(wrapped=array([1.+0.j, 1.+0.j, 1.+0.j, 1.+0.j, 1.+0.j, 1.+0.j, 1.+0.j, 1.+0.j,\n           1.+0.j, 1.+0.j, 1.+0.j, 1.+0.j, 1.+0.j, 1.+0.j, 1.+0.j, 1.+0.j,\n           1.+0.j, 1.+0.j, 1.+0.j, 1.+0.j, 1.+0.j, 1.+0.j, 1.+0.j, 1.+0.j,\n           1.+0.j, 1.+0.j, 1.+0.j, 1.+0.j, 1.+0.j, 1.+0.j, 1.+0.j, 1.+0.j,\n           1.+0.j, 1.+0.j, 1.+0.j, 1.+0.j, 1.+0.j, 1.+0.j, 1.+0.j, 1.+0.j,\n           1.+0.j, 1.+0.j, 1.+0.j, 1.+0.j, 1.+0.j, 1.+0.j, 1.+0.j, 1.+0.j,\n           1.+0.j, 1.+0.j, 1.+0.j, 1.+0.j, 1.+0.j, 1.+0.j, 1.+0.j, 1.+0.j,\n           1.+0.j, 1.+0.j, 1.+0.j, 1.+0.j, 1.+0.j, 1.+0.j, 1.+0.j, 1.+0.j]))\n    dtype = complex128\n    activation = <hashable partial reim_activation with args=(<function selu at 0x7fad64aa5040>,) and kwargs={}, hash=6356613145500207545>\n    output_activation = identity\n    equal_amplitudes = False\n    use_bias = True\n    precision = None\n    kernel_init = init\n    bias_init = zeros\n)"
     ]
    }
   ],
   "source": [
    "# Selection of machine type\n",
    "if MACHINE == \"RBM\":\n",
    "    machine_1 = nk.models.RBM(dtype=DTYPE, alpha=ALPHA)#, use_visible_bias=False) \n",
    "    machine_2 = nk.models.RBM(dtype=DTYPE, alpha=ALPHA)#, use_visible_bias=False)\n",
    "elif MACHINE == \"RBMSymm\":\n",
    "    machine_1 = nk.models.RBMSymm(g.automorphisms(), dtype=DTYPE, alpha=ALPHA)#, use_visible_bias=False) \n",
    "    machine_2 = nk.models.RBMSymm(g.automorphisms(), dtype=DTYPE, alpha=ALPHA)#, use_visible_bias=False)\n",
    "elif MACHINE == \"RBMSymm_transl\":\n",
    "    machine_1 = nk.models.RBMSymm(translation_group, dtype=DTYPE, alpha=ALPHA)#, use_visible_bias=False) \n",
    "    machine_2 = nk.models.RBMSymm(translation_group, dtype=DTYPE, alpha=ALPHA)#, use_visible_bias=False)\n",
    "elif MACHINE == \"GCNN\":\n",
    "    machine_1 = nk.models.GCNN(symmetries=g.automorphisms(), dtype=DTYPE, \n",
    "        layers=N_LAYERS, features=FEATURES, characters=characters_dimer_1)#, output_activation=log_cosh)\n",
    "    machine_2 = nk.models.GCNN(symmetries=g.automorphisms(), dtype=DTYPE, \n",
    "        layers=N_LAYERS, features=FEATURES, characters=characters_dimer_2)#, output_activation=log_cosh)\n",
    "elif MACHINE == \"myRBM\":\n",
    "    from GCNN_Nomura import GCNN_my\n",
    "    machine_1 = GCNN_my(symmetries=g.automorphisms(), dtype=DTYPE, layers=1, features=ALPHA, characters=characters_dimer_1, output_activation=nk.nn.log_cosh, use_bias=True, use_visible_bias=True)\n",
    "    machine_2 = GCNN_my(symmetries=g.automorphisms(), dtype=DTYPE, layers=1, features=ALPHA, characters=characters_dimer_2, output_activation=nk.nn.log_cosh, use_bias=True, use_visible_bias=True)\n",
    "elif MACHINE == \"Jastrow\":\n",
    "    from lattice_and_ops import Jastrow\n",
    "    machine_1 = Jastrow()\n",
    "    machine_2 = Jastrow()\n",
    "elif MACHINE == \"RBMModPhase\":\n",
    "    machine_1 = nk.models.RBMModPhase(alpha=ALPHA, use_hidden_bias=True, dtype=DTYPE)\n",
    "    machine_2 = nk.models.RBMModPhase(alpha=ALPHA, use_hidden_bias=True, dtype=DTYPE)\n",
    "\n",
    "    # A linear schedule varies the learning rate from 0 to 0.01 across 600 steps.\n",
    "    modulus_schedule_1=optax.linear_schedule(0,0.01,NUM_ITER)\n",
    "    modulus_schedule_2=optax.linear_schedule(0,0.01,NUM_ITER)\n",
    "    # The phase starts with a larger learning rate and then is decreased.\n",
    "    phase_schedule_1=optax.linear_schedule(0.05,0.01,NUM_ITER)\n",
    "    phase_schedule_2=optax.linear_schedule(0.05,0.01,NUM_ITER)\n",
    "    # Combine the linear schedule with SGD\n",
    "    optm_1=optax.sgd(modulus_schedule_1)\n",
    "    optp_1=optax.sgd(phase_schedule_1)\n",
    "    optm_2=optax.sgd(modulus_schedule_2)\n",
    "    optp_2=optax.sgd(phase_schedule_2)\n",
    "    # The multi-transform optimizer uses different optimisers for different parts of the parameters.\n",
    "    optimizer_1 = optax.multi_transform({'o1': optm_1, 'o2': optp_1}, flax.core.freeze({\"Dense_0\":\"o1\", \"Dense_1\":\"o2\"}))\n",
    "    optimizer_2 = optax.multi_transform({'o1': optm_2, 'o2': optp_2}, flax.core.freeze({\"Dense_0\":\"o1\", \"Dense_1\":\"o2\"}))\n",
    "else:\n",
    "    raise Exception(str(\"undefined MACHINE: \")+str(MACHINE))\n",
    "\n",
    "# Selection of sampler type\n",
    "if SAMPLER == 'local':\n",
    "    sampler_1 = nk.sampler.MetropolisLocal(hilbert=hilbert)\n",
    "    sampler_2 = nk.sampler.MetropolisLocal(hilbert=hilbert)\n",
    "elif SAMPLER == 'exact':\n",
    "    sampler_1 = nk.sampler.ExactSampler(hilbert=hilbert)\n",
    "    sampler_2 = nk.sampler.ExactSampler(hilbert=hilbert)\n",
    "else:\n",
    "    sampler_1 = nk.sampler.MetropolisExchange(hilbert=hilbert, graph=g)\n",
    "    sampler_2 = nk.sampler.MetropolisExchange(hilbert=hilbert, graph=g)\n",
    "    if SAMPLER != 'exchange':\n",
    "        print(\"Warning! Undefined fq.SAMPLER:\", SAMPLER, \", dafaulting to MetropolisExchange fq.SAMPLER\")\n",
    "\n",
    "if MACHINE != \"RBMModPhase\":\n",
    "    optimizer_1 = nk.optimizer.Sgd(learning_rate=ETA)\n",
    "    optimizer_2 = nk.optimizer.Sgd(learning_rate=ETA)\n",
    "\n",
    "# Stochastic Reconfiguration as a preconditioner\n",
    "sr_1  = nk.optimizer.SR(diag_shift=0.01)\n",
    "sr_2  = nk.optimizer.SR(diag_shift=0.01)\n",
    "\n",
    "# The variational state (former name: nk.variational.MCState)\n",
    "vs_1 = nk.vqs.MCState(sampler_1 , machine_1 , n_samples=SAMPLES)\n",
    "vs_2 = nk.vqs.MCState(sampler_2 , machine_2 , n_samples=SAMPLES)\n",
    "vs_1.init_parameters(jax.nn.initializers.normal(stddev=0.01))\n",
    "vs_2.init_parameters(jax.nn.initializers.normal(stddev=0.01))\n",
    "\n",
    "\n",
    "gs_1 = nk.VMC(hamiltonian=ha_1 ,optimizer=optimizer_1 ,preconditioner=sr_1 ,variational_state=vs_1)\n",
    "gs_2 = nk.VMC(hamiltonian=ha_2 ,optimizer=optimizer_2 ,preconditioner=sr_2 ,variational_state=vs_2) "
   ]
  },
  {
   "cell_type": "code",
   "execution_count": null,
   "metadata": {},
   "outputs": [],
   "source": [
    "if False:\n",
    "    ETA2 = 0.1\n",
    "    optimizer_1 = nk.optimizer.Sgd(learning_rate=ETA2)\n",
    "    optimizer_2 = nk.optimizer.Sgd(learning_rate=ETA2)\n",
    "    gs_1 = nk.VMC(hamiltonian=ha_1 ,optimizer=optimizer_1,preconditioner=sr_1,variational_state=vs_1)   # 0 ... symmetric\n",
    "    gs_2 = nk.VMC(hamiltonian=ha_2 ,optimizer=optimizer_2,preconditioner=sr_2,variational_state=vs_2)   # 1 ... symmetric+MSR"
   ]
  },
  {
   "cell_type": "code",
   "execution_count": null,
   "metadata": {},
   "outputs": [
    {
     "name": "stdout",
     "output_type": "stream",
     "text": [
      "16672 16672\n"
     ]
    }
   ],
   "source": [
    "print(vs_1.n_parameters, vs_2.n_parameters)"
   ]
  },
  {
   "cell_type": "markdown",
   "metadata": {},
   "source": [
    "# Calculation\n",
    "We let the calculation run for `NUM_ITERS` iterations for both cases _1 and _2 (without MSR and with MSR). If only one case is desired, set the variable `no_of_runs` to 1."
   ]
  },
  {
   "cell_type": "code",
   "execution_count": null,
   "metadata": {},
   "outputs": [
    {
     "name": "stdout",
     "output_type": "stream",
     "text": [
      "J_1 = 0.2 ; H_Z = 0; Expected exact energy: -23.99999999999999\n"
     ]
    },
    {
     "name": "stderr",
     "output_type": "stream",
     "text": [
      "  2%|▏         | 1/50 [00:14<11:52, 14.54s/it, Energy=14.400011-0.000045j ± 0.000025 [σ²=0.000000, R̂=0.9980]]\n"
     ]
    },
    {
     "ename": "KeyboardInterrupt",
     "evalue": "",
     "output_type": "error",
     "traceback": [
      "\u001b[0;31m---------------------------------------------------------------------------\u001b[0m",
      "\u001b[0;31mKeyboardInterrupt\u001b[0m                         Traceback (most recent call last)",
      "\u001b[0;32m/tmp/ipykernel_30498/2902194502.py\u001b[0m in \u001b[0;36m<module>\u001b[0;34m\u001b[0m\n\u001b[1;32m      8\u001b[0m \u001b[0;32mfor\u001b[0m \u001b[0mi\u001b[0m\u001b[0;34m,\u001b[0m\u001b[0mgs\u001b[0m \u001b[0;32min\u001b[0m \u001b[0menumerate\u001b[0m\u001b[0;34m(\u001b[0m\u001b[0;34m[\u001b[0m\u001b[0mgs_1\u001b[0m\u001b[0;34m,\u001b[0m\u001b[0mgs_2\u001b[0m\u001b[0;34m]\u001b[0m\u001b[0;34m[\u001b[0m\u001b[0mrun_only_2\u001b[0m\u001b[0;34m:\u001b[0m\u001b[0mrun_only_2\u001b[0m\u001b[0;34m+\u001b[0m\u001b[0mno_of_runs\u001b[0m\u001b[0;34m]\u001b[0m\u001b[0;34m)\u001b[0m\u001b[0;34m:\u001b[0m\u001b[0;34m\u001b[0m\u001b[0;34m\u001b[0m\u001b[0m\n\u001b[1;32m      9\u001b[0m     \u001b[0mstart\u001b[0m \u001b[0;34m=\u001b[0m \u001b[0mtime\u001b[0m\u001b[0;34m.\u001b[0m\u001b[0mtime\u001b[0m\u001b[0;34m(\u001b[0m\u001b[0;34m)\u001b[0m\u001b[0;34m\u001b[0m\u001b[0;34m\u001b[0m\u001b[0m\n\u001b[0;32m---> 10\u001b[0;31m     \u001b[0mgs\u001b[0m\u001b[0;34m.\u001b[0m\u001b[0mrun\u001b[0m\u001b[0;34m(\u001b[0m\u001b[0mout\u001b[0m\u001b[0;34m=\u001b[0m\u001b[0mOUT_NAME\u001b[0m\u001b[0;34m+\u001b[0m\u001b[0mstr\u001b[0m\u001b[0;34m(\u001b[0m\u001b[0mi\u001b[0m\u001b[0;34m)\u001b[0m\u001b[0;34m,\u001b[0m \u001b[0mn_iter\u001b[0m\u001b[0;34m=\u001b[0m\u001b[0mint\u001b[0m\u001b[0;34m(\u001b[0m\u001b[0mNUM_ITER\u001b[0m\u001b[0;34m)\u001b[0m\u001b[0;34m)\u001b[0m\u001b[0;31m#, obs={'symmetry':P(0,1)})\u001b[0m\u001b[0;34m\u001b[0m\u001b[0;34m\u001b[0m\u001b[0m\n\u001b[0m\u001b[1;32m     11\u001b[0m     \u001b[0mend\u001b[0m \u001b[0;34m=\u001b[0m \u001b[0mtime\u001b[0m\u001b[0;34m.\u001b[0m\u001b[0mtime\u001b[0m\u001b[0;34m(\u001b[0m\u001b[0;34m)\u001b[0m\u001b[0;34m\u001b[0m\u001b[0;34m\u001b[0m\u001b[0m\n\u001b[1;32m     12\u001b[0m     \u001b[0mprint\u001b[0m\u001b[0;34m(\u001b[0m\u001b[0;34m\"The calculation for {} of type {} took {} min\"\u001b[0m\u001b[0;34m.\u001b[0m\u001b[0mformat\u001b[0m\u001b[0;34m(\u001b[0m\u001b[0mMACHINE\u001b[0m\u001b[0;34m,\u001b[0m \u001b[0mi\u001b[0m\u001b[0;34m+\u001b[0m\u001b[0;36m1\u001b[0m\u001b[0;34m,\u001b[0m \u001b[0;34m(\u001b[0m\u001b[0mend\u001b[0m\u001b[0;34m-\u001b[0m\u001b[0mstart\u001b[0m\u001b[0;34m)\u001b[0m\u001b[0;34m/\u001b[0m\u001b[0;36m60\u001b[0m\u001b[0;34m)\u001b[0m\u001b[0;34m)\u001b[0m\u001b[0;34m\u001b[0m\u001b[0;34m\u001b[0m\u001b[0m\n",
      "\u001b[0;32m~/.local/lib/python3.8/site-packages/netket/driver/abstract_variational_driver.py\u001b[0m in \u001b[0;36mrun\u001b[0;34m(self, n_iter, out, obs, show_progress, save_params_every, write_every, step_size, callback)\u001b[0m\n\u001b[1;32m    250\u001b[0m             \u001b[0mfirst_step\u001b[0m \u001b[0;34m=\u001b[0m \u001b[0;32mTrue\u001b[0m\u001b[0;34m\u001b[0m\u001b[0;34m\u001b[0m\u001b[0m\n\u001b[1;32m    251\u001b[0m \u001b[0;34m\u001b[0m\u001b[0m\n\u001b[0;32m--> 252\u001b[0;31m             \u001b[0;32mfor\u001b[0m \u001b[0mstep\u001b[0m \u001b[0;32min\u001b[0m \u001b[0mself\u001b[0m\u001b[0;34m.\u001b[0m\u001b[0miter\u001b[0m\u001b[0;34m(\u001b[0m\u001b[0mn_iter\u001b[0m\u001b[0;34m,\u001b[0m \u001b[0mstep_size\u001b[0m\u001b[0;34m)\u001b[0m\u001b[0;34m:\u001b[0m\u001b[0;34m\u001b[0m\u001b[0;34m\u001b[0m\u001b[0m\n\u001b[0m\u001b[1;32m    253\u001b[0m \u001b[0;34m\u001b[0m\u001b[0m\n\u001b[1;32m    254\u001b[0m                 \u001b[0mlog_data\u001b[0m \u001b[0;34m=\u001b[0m \u001b[0mself\u001b[0m\u001b[0;34m.\u001b[0m\u001b[0mestimate\u001b[0m\u001b[0;34m(\u001b[0m\u001b[0mobs\u001b[0m\u001b[0;34m)\u001b[0m\u001b[0;34m\u001b[0m\u001b[0;34m\u001b[0m\u001b[0m\n",
      "\u001b[0;32m~/.local/lib/python3.8/site-packages/netket/driver/abstract_variational_driver.py\u001b[0m in \u001b[0;36miter\u001b[0;34m(self, n_steps, step)\u001b[0m\n\u001b[1;32m    166\u001b[0m         \u001b[0;32mfor\u001b[0m \u001b[0m_\u001b[0m \u001b[0;32min\u001b[0m \u001b[0mrange\u001b[0m\u001b[0;34m(\u001b[0m\u001b[0;36m0\u001b[0m\u001b[0;34m,\u001b[0m \u001b[0mn_steps\u001b[0m\u001b[0;34m,\u001b[0m \u001b[0mstep\u001b[0m\u001b[0;34m)\u001b[0m\u001b[0;34m:\u001b[0m\u001b[0;34m\u001b[0m\u001b[0;34m\u001b[0m\u001b[0m\n\u001b[1;32m    167\u001b[0m             \u001b[0;32mfor\u001b[0m \u001b[0mi\u001b[0m \u001b[0;32min\u001b[0m \u001b[0mrange\u001b[0m\u001b[0;34m(\u001b[0m\u001b[0;36m0\u001b[0m\u001b[0;34m,\u001b[0m \u001b[0mstep\u001b[0m\u001b[0;34m)\u001b[0m\u001b[0;34m:\u001b[0m\u001b[0;34m\u001b[0m\u001b[0;34m\u001b[0m\u001b[0m\n\u001b[0;32m--> 168\u001b[0;31m                 \u001b[0mdp\u001b[0m \u001b[0;34m=\u001b[0m \u001b[0mself\u001b[0m\u001b[0;34m.\u001b[0m\u001b[0m_forward_and_backward\u001b[0m\u001b[0;34m(\u001b[0m\u001b[0;34m)\u001b[0m\u001b[0;34m\u001b[0m\u001b[0;34m\u001b[0m\u001b[0m\n\u001b[0m\u001b[1;32m    169\u001b[0m                 \u001b[0;32mif\u001b[0m \u001b[0mi\u001b[0m \u001b[0;34m==\u001b[0m \u001b[0;36m0\u001b[0m\u001b[0;34m:\u001b[0m\u001b[0;34m\u001b[0m\u001b[0;34m\u001b[0m\u001b[0m\n\u001b[1;32m    170\u001b[0m                     \u001b[0;32myield\u001b[0m \u001b[0mself\u001b[0m\u001b[0;34m.\u001b[0m\u001b[0mstep_count\u001b[0m\u001b[0;34m\u001b[0m\u001b[0;34m\u001b[0m\u001b[0m\n",
      "\u001b[0;32m~/.local/lib/python3.8/site-packages/netket/driver/vmc.py\u001b[0m in \u001b[0;36m_forward_and_backward\u001b[0;34m(self)\u001b[0m\n\u001b[1;32m    130\u001b[0m \u001b[0;34m\u001b[0m\u001b[0m\n\u001b[1;32m    131\u001b[0m         \u001b[0;31m# Compute the local energy estimator and average Energy\u001b[0m\u001b[0;34m\u001b[0m\u001b[0;34m\u001b[0m\u001b[0;34m\u001b[0m\u001b[0m\n\u001b[0;32m--> 132\u001b[0;31m         \u001b[0mself\u001b[0m\u001b[0;34m.\u001b[0m\u001b[0m_loss_stats\u001b[0m\u001b[0;34m,\u001b[0m \u001b[0mself\u001b[0m\u001b[0;34m.\u001b[0m\u001b[0m_loss_grad\u001b[0m \u001b[0;34m=\u001b[0m \u001b[0mself\u001b[0m\u001b[0;34m.\u001b[0m\u001b[0mstate\u001b[0m\u001b[0;34m.\u001b[0m\u001b[0mexpect_and_grad\u001b[0m\u001b[0;34m(\u001b[0m\u001b[0mself\u001b[0m\u001b[0;34m.\u001b[0m\u001b[0m_ham\u001b[0m\u001b[0;34m)\u001b[0m\u001b[0;34m\u001b[0m\u001b[0;34m\u001b[0m\u001b[0m\n\u001b[0m\u001b[1;32m    133\u001b[0m \u001b[0;34m\u001b[0m\u001b[0m\n\u001b[1;32m    134\u001b[0m         \u001b[0;31m# if it's the identity it does\u001b[0m\u001b[0;34m\u001b[0m\u001b[0;34m\u001b[0m\u001b[0;34m\u001b[0m\u001b[0m\n",
      "\u001b[0;32m~/.local/lib/python3.8/site-packages/netket/vqs/mc/mc_state/state.py\u001b[0m in \u001b[0;36mexpect_and_grad\u001b[0;34m(self, Ô, mutable, use_covariance)\u001b[0m\n\u001b[1;32m    593\u001b[0m             \u001b[0mmutable\u001b[0m \u001b[0;34m=\u001b[0m \u001b[0mself\u001b[0m\u001b[0;34m.\u001b[0m\u001b[0mmutable\u001b[0m\u001b[0;34m\u001b[0m\u001b[0;34m\u001b[0m\u001b[0m\n\u001b[1;32m    594\u001b[0m \u001b[0;34m\u001b[0m\u001b[0m\n\u001b[0;32m--> 595\u001b[0;31m         return expect_and_grad(\n\u001b[0m\u001b[1;32m    596\u001b[0m             \u001b[0mself\u001b[0m\u001b[0;34m,\u001b[0m \u001b[0mO\u001b[0m\u001b[0;31m̂\u001b[0m\u001b[0;34m,\u001b[0m \u001b[0muse_covariance\u001b[0m\u001b[0;34m,\u001b[0m \u001b[0mself\u001b[0m\u001b[0;34m.\u001b[0m\u001b[0mchunk_size\u001b[0m\u001b[0;34m,\u001b[0m \u001b[0mmutable\u001b[0m\u001b[0;34m=\u001b[0m\u001b[0mmutable\u001b[0m\u001b[0;34m\u001b[0m\u001b[0;34m\u001b[0m\u001b[0m\n\u001b[1;32m    597\u001b[0m         )\n",
      "\u001b[0;32m~/.local/lib/python3.8/site-packages/plum/function.cpython-38-x86_64-linux-gnu.so\u001b[0m in \u001b[0;36mplum.function.Function.__call__\u001b[0;34m()\u001b[0m\n",
      "\u001b[0;32m~/.local/lib/python3.8/site-packages/netket/vqs/base.py\u001b[0m in \u001b[0;36mexpect_and_grad\u001b[0;34m(vstate, operator, use_covariance, mutable, *args, **kwargs)\u001b[0m\n\u001b[1;32m    379\u001b[0m         \u001b[0mmutable\u001b[0m \u001b[0;34m=\u001b[0m \u001b[0mvstate\u001b[0m\u001b[0;34m.\u001b[0m\u001b[0mmutable\u001b[0m\u001b[0;34m\u001b[0m\u001b[0;34m\u001b[0m\u001b[0m\n\u001b[1;32m    380\u001b[0m \u001b[0;34m\u001b[0m\u001b[0m\n\u001b[0;32m--> 381\u001b[0;31m     return expect_and_grad(\n\u001b[0m\u001b[1;32m    382\u001b[0m         \u001b[0mvstate\u001b[0m\u001b[0;34m,\u001b[0m \u001b[0moperator\u001b[0m\u001b[0;34m,\u001b[0m \u001b[0muse_covariance\u001b[0m\u001b[0;34m,\u001b[0m \u001b[0;34m*\u001b[0m\u001b[0margs\u001b[0m\u001b[0;34m,\u001b[0m \u001b[0mmutable\u001b[0m\u001b[0;34m=\u001b[0m\u001b[0mmutable\u001b[0m\u001b[0;34m,\u001b[0m \u001b[0;34m**\u001b[0m\u001b[0mkwargs\u001b[0m\u001b[0;34m\u001b[0m\u001b[0;34m\u001b[0m\u001b[0m\n\u001b[1;32m    383\u001b[0m     )\n",
      "\u001b[0;32m~/.local/lib/python3.8/site-packages/plum/function.cpython-38-x86_64-linux-gnu.so\u001b[0m in \u001b[0;36mplum.function.Function.__call__\u001b[0;34m()\u001b[0m\n",
      "\u001b[0;32m~/.local/lib/python3.8/site-packages/netket/vqs/mc/mc_state/expect_grad_chunked.py\u001b[0m in \u001b[0;36mexpect_and_grad_nochunking\u001b[0;34m(vstate, operator, use_covariance, chunk_size, *args, **kwargs)\u001b[0m\n\u001b[1;32m     47\u001b[0m     \u001b[0;34m**\u001b[0m\u001b[0mkwargs\u001b[0m\u001b[0;34m,\u001b[0m\u001b[0;34m\u001b[0m\u001b[0;34m\u001b[0m\u001b[0m\n\u001b[1;32m     48\u001b[0m ):\n\u001b[0;32m---> 49\u001b[0;31m     \u001b[0;32mreturn\u001b[0m \u001b[0mexpect_and_grad\u001b[0m\u001b[0;34m(\u001b[0m\u001b[0mvstate\u001b[0m\u001b[0;34m,\u001b[0m \u001b[0moperator\u001b[0m\u001b[0;34m,\u001b[0m \u001b[0muse_covariance\u001b[0m\u001b[0;34m,\u001b[0m \u001b[0;34m*\u001b[0m\u001b[0margs\u001b[0m\u001b[0;34m,\u001b[0m \u001b[0;34m**\u001b[0m\u001b[0mkwargs\u001b[0m\u001b[0;34m)\u001b[0m\u001b[0;34m\u001b[0m\u001b[0;34m\u001b[0m\u001b[0m\n\u001b[0m\u001b[1;32m     50\u001b[0m \u001b[0;34m\u001b[0m\u001b[0m\n\u001b[1;32m     51\u001b[0m \u001b[0;34m\u001b[0m\u001b[0m\n",
      "\u001b[0;32m~/.local/lib/python3.8/site-packages/plum/function.cpython-38-x86_64-linux-gnu.so\u001b[0m in \u001b[0;36mplum.function.Function.__call__\u001b[0;34m()\u001b[0m\n",
      "\u001b[0;32m~/.local/lib/python3.8/site-packages/netket/vqs/mc/mc_state/expect_grad.py\u001b[0m in \u001b[0;36mexpect_and_grad\u001b[0;34m(vstate, Ô, use_covariance, mutable)\u001b[0m\n\u001b[1;32m     48\u001b[0m     \u001b[0mmutable\u001b[0m\u001b[0;34m:\u001b[0m \u001b[0mAny\u001b[0m\u001b[0;34m,\u001b[0m\u001b[0;34m\u001b[0m\u001b[0;34m\u001b[0m\u001b[0m\n\u001b[1;32m     49\u001b[0m ) -> Tuple[Stats, PyTree]:\n\u001b[0;32m---> 50\u001b[0;31m     \u001b[0mσ\u001b[0m\u001b[0;34m,\u001b[0m \u001b[0margs\u001b[0m \u001b[0;34m=\u001b[0m \u001b[0mget_local_kernel_arguments\u001b[0m\u001b[0;34m(\u001b[0m\u001b[0mvstate\u001b[0m\u001b[0;34m,\u001b[0m \u001b[0mO\u001b[0m\u001b[0;31m̂\u001b[0m\u001b[0;34m)\u001b[0m\u001b[0;34m\u001b[0m\u001b[0;34m\u001b[0m\u001b[0m\n\u001b[0m\u001b[1;32m     51\u001b[0m \u001b[0;34m\u001b[0m\u001b[0m\n\u001b[1;32m     52\u001b[0m     \u001b[0mlocal_estimator_fun\u001b[0m \u001b[0;34m=\u001b[0m \u001b[0mget_local_kernel\u001b[0m\u001b[0;34m(\u001b[0m\u001b[0mvstate\u001b[0m\u001b[0;34m,\u001b[0m \u001b[0mO\u001b[0m\u001b[0;31m̂\u001b[0m\u001b[0;34m)\u001b[0m\u001b[0;34m\u001b[0m\u001b[0;34m\u001b[0m\u001b[0m\n",
      "\u001b[0;32m~/.local/lib/python3.8/site-packages/plum/function.cpython-38-x86_64-linux-gnu.so\u001b[0m in \u001b[0;36mplum.function.Function.__call__\u001b[0;34m()\u001b[0m\n",
      "\u001b[0;32m~/.local/lib/python3.8/site-packages/netket/vqs/mc/mc_state/expect.py\u001b[0m in \u001b[0;36mget_local_kernel_arguments\u001b[0;34m(vstate, Ô)\u001b[0m\n\u001b[1;32m     59\u001b[0m     \u001b[0mcheck_hilbert\u001b[0m\u001b[0;34m(\u001b[0m\u001b[0mvstate\u001b[0m\u001b[0;34m.\u001b[0m\u001b[0mhilbert\u001b[0m\u001b[0;34m,\u001b[0m \u001b[0mO\u001b[0m\u001b[0;31m̂\u001b[0m\u001b[0;34m.\u001b[0m\u001b[0mhilbert\u001b[0m\u001b[0;34m)\u001b[0m\u001b[0;34m\u001b[0m\u001b[0;34m\u001b[0m\u001b[0m\n\u001b[1;32m     60\u001b[0m \u001b[0;34m\u001b[0m\u001b[0m\n\u001b[0;32m---> 61\u001b[0;31m     \u001b[0mσ\u001b[0m \u001b[0;34m=\u001b[0m \u001b[0mvstate\u001b[0m\u001b[0;34m.\u001b[0m\u001b[0msamples\u001b[0m\u001b[0;34m\u001b[0m\u001b[0;34m\u001b[0m\u001b[0m\n\u001b[0m\u001b[1;32m     62\u001b[0m     \u001b[0mσp\u001b[0m\u001b[0;34m,\u001b[0m \u001b[0mmels\u001b[0m \u001b[0;34m=\u001b[0m \u001b[0mO\u001b[0m\u001b[0;31m̂\u001b[0m\u001b[0;34m.\u001b[0m\u001b[0mget_conn_padded\u001b[0m\u001b[0;34m(\u001b[0m\u001b[0mσ\u001b[0m\u001b[0;34m)\u001b[0m\u001b[0;34m\u001b[0m\u001b[0;34m\u001b[0m\u001b[0m\n\u001b[1;32m     63\u001b[0m     \u001b[0;32mreturn\u001b[0m \u001b[0mσ\u001b[0m\u001b[0;34m,\u001b[0m \u001b[0;34m(\u001b[0m\u001b[0mσp\u001b[0m\u001b[0;34m,\u001b[0m \u001b[0mmels\u001b[0m\u001b[0;34m)\u001b[0m\u001b[0;34m\u001b[0m\u001b[0;34m\u001b[0m\u001b[0m\n",
      "\u001b[0;32m~/.local/lib/python3.8/site-packages/netket/vqs/mc/mc_state/state.py\u001b[0m in \u001b[0;36msamples\u001b[0;34m(self)\u001b[0m\n\u001b[1;32m    533\u001b[0m         \"\"\"\n\u001b[1;32m    534\u001b[0m         \u001b[0;32mif\u001b[0m \u001b[0mself\u001b[0m\u001b[0;34m.\u001b[0m\u001b[0m_samples\u001b[0m \u001b[0;32mis\u001b[0m \u001b[0;32mNone\u001b[0m\u001b[0;34m:\u001b[0m\u001b[0;34m\u001b[0m\u001b[0;34m\u001b[0m\u001b[0m\n\u001b[0;32m--> 535\u001b[0;31m             \u001b[0mself\u001b[0m\u001b[0;34m.\u001b[0m\u001b[0msample\u001b[0m\u001b[0;34m(\u001b[0m\u001b[0;34m)\u001b[0m\u001b[0;34m\u001b[0m\u001b[0;34m\u001b[0m\u001b[0m\n\u001b[0m\u001b[1;32m    536\u001b[0m         \u001b[0;32mreturn\u001b[0m \u001b[0mself\u001b[0m\u001b[0;34m.\u001b[0m\u001b[0m_samples\u001b[0m\u001b[0;34m\u001b[0m\u001b[0;34m\u001b[0m\u001b[0m\n\u001b[1;32m    537\u001b[0m \u001b[0;34m\u001b[0m\u001b[0m\n",
      "\u001b[0;32m~/.local/lib/python3.8/site-packages/netket/vqs/mc/mc_state/state.py\u001b[0m in \u001b[0;36msample\u001b[0;34m(self, chain_length, n_samples, n_discard_per_chain)\u001b[0m\n\u001b[1;32m    513\u001b[0m             )\n\u001b[1;32m    514\u001b[0m \u001b[0;34m\u001b[0m\u001b[0m\n\u001b[0;32m--> 515\u001b[0;31m         self._samples, self.sampler_state = self.sampler.sample(\n\u001b[0m\u001b[1;32m    516\u001b[0m             \u001b[0mself\u001b[0m\u001b[0;34m.\u001b[0m\u001b[0mmodel\u001b[0m\u001b[0;34m,\u001b[0m\u001b[0;34m\u001b[0m\u001b[0;34m\u001b[0m\u001b[0m\n\u001b[1;32m    517\u001b[0m             \u001b[0mself\u001b[0m\u001b[0;34m.\u001b[0m\u001b[0mvariables\u001b[0m\u001b[0;34m,\u001b[0m\u001b[0;34m\u001b[0m\u001b[0;34m\u001b[0m\u001b[0m\n",
      "\u001b[0;32m~/.local/lib/python3.8/site-packages/netket/sampler/base.py\u001b[0m in \u001b[0;36msample\u001b[0;34m(sampler, machine, parameters, state, chain_length)\u001b[0m\n\u001b[1;32m    261\u001b[0m             \u001b[0mstate\u001b[0m \u001b[0;34m=\u001b[0m \u001b[0msampler\u001b[0m\u001b[0;34m.\u001b[0m\u001b[0mreset\u001b[0m\u001b[0;34m(\u001b[0m\u001b[0mmachine\u001b[0m\u001b[0;34m,\u001b[0m \u001b[0mparameters\u001b[0m\u001b[0;34m)\u001b[0m\u001b[0;34m\u001b[0m\u001b[0;34m\u001b[0m\u001b[0m\n\u001b[1;32m    262\u001b[0m \u001b[0;34m\u001b[0m\u001b[0m\n\u001b[0;32m--> 263\u001b[0;31m         return sampler._sample_chain(\n\u001b[0m\u001b[1;32m    264\u001b[0m             \u001b[0mwrap_afun\u001b[0m\u001b[0;34m(\u001b[0m\u001b[0mmachine\u001b[0m\u001b[0;34m)\u001b[0m\u001b[0;34m,\u001b[0m \u001b[0mparameters\u001b[0m\u001b[0;34m,\u001b[0m \u001b[0mstate\u001b[0m\u001b[0;34m,\u001b[0m \u001b[0mchain_length\u001b[0m\u001b[0;34m\u001b[0m\u001b[0;34m\u001b[0m\u001b[0m\n\u001b[1;32m    265\u001b[0m         )\n",
      "\u001b[0;32m~/.local/lib/python3.8/site-packages/netket/sampler/metropolis.py\u001b[0m in \u001b[0;36m_sample_chain\u001b[0;34m(sampler, machine, parameters, state, chain_length)\u001b[0m\n\u001b[1;32m    391\u001b[0m \u001b[0;34m\u001b[0m\u001b[0m\n\u001b[1;32m    392\u001b[0m     \u001b[0;32mdef\u001b[0m \u001b[0m_sample_chain\u001b[0m\u001b[0;34m(\u001b[0m\u001b[0msampler\u001b[0m\u001b[0;34m,\u001b[0m \u001b[0mmachine\u001b[0m\u001b[0;34m,\u001b[0m \u001b[0mparameters\u001b[0m\u001b[0;34m,\u001b[0m \u001b[0mstate\u001b[0m\u001b[0;34m,\u001b[0m \u001b[0mchain_length\u001b[0m\u001b[0;34m)\u001b[0m\u001b[0;34m:\u001b[0m\u001b[0;34m\u001b[0m\u001b[0;34m\u001b[0m\u001b[0m\n\u001b[0;32m--> 393\u001b[0;31m         \u001b[0;32mreturn\u001b[0m \u001b[0m_sample_chain\u001b[0m\u001b[0;34m(\u001b[0m\u001b[0msampler\u001b[0m\u001b[0;34m,\u001b[0m \u001b[0mmachine\u001b[0m\u001b[0;34m,\u001b[0m \u001b[0mparameters\u001b[0m\u001b[0;34m,\u001b[0m \u001b[0mstate\u001b[0m\u001b[0;34m,\u001b[0m \u001b[0mchain_length\u001b[0m\u001b[0;34m)\u001b[0m\u001b[0;34m\u001b[0m\u001b[0;34m\u001b[0m\u001b[0m\n\u001b[0m\u001b[1;32m    394\u001b[0m \u001b[0;34m\u001b[0m\u001b[0m\n\u001b[1;32m    395\u001b[0m     \u001b[0;32mdef\u001b[0m \u001b[0m__repr__\u001b[0m\u001b[0;34m(\u001b[0m\u001b[0msampler\u001b[0m\u001b[0;34m)\u001b[0m\u001b[0;34m:\u001b[0m\u001b[0;34m\u001b[0m\u001b[0;34m\u001b[0m\u001b[0m\n",
      "\u001b[0;32m~/.local/lib/python3.8/site-packages/netket/utils/struct/dataclass.py\u001b[0m in \u001b[0;36mclz_from_iterable\u001b[0;34m(meta, data)\u001b[0m\n\u001b[1;32m    446\u001b[0m         \u001b[0;32mreturn\u001b[0m \u001b[0mdata\u001b[0m\u001b[0;34m,\u001b[0m \u001b[0mmeta\u001b[0m\u001b[0;34m\u001b[0m\u001b[0;34m\u001b[0m\u001b[0m\n\u001b[1;32m    447\u001b[0m \u001b[0;34m\u001b[0m\u001b[0m\n\u001b[0;32m--> 448\u001b[0;31m     \u001b[0;32mdef\u001b[0m \u001b[0mclz_from_iterable\u001b[0m\u001b[0;34m(\u001b[0m\u001b[0mmeta\u001b[0m\u001b[0;34m,\u001b[0m \u001b[0mdata\u001b[0m\u001b[0;34m)\u001b[0m\u001b[0;34m:\u001b[0m\u001b[0;34m\u001b[0m\u001b[0;34m\u001b[0m\u001b[0m\n\u001b[0m\u001b[1;32m    449\u001b[0m         \u001b[0mmeta_args\u001b[0m \u001b[0;34m=\u001b[0m \u001b[0mtuple\u001b[0m\u001b[0;34m(\u001b[0m\u001b[0mzip\u001b[0m\u001b[0;34m(\u001b[0m\u001b[0mmeta_fields\u001b[0m\u001b[0;34m,\u001b[0m \u001b[0mmeta\u001b[0m\u001b[0;34m)\u001b[0m\u001b[0;34m)\u001b[0m\u001b[0;34m\u001b[0m\u001b[0;34m\u001b[0m\u001b[0m\n\u001b[1;32m    450\u001b[0m         \u001b[0mdata_args\u001b[0m \u001b[0;34m=\u001b[0m \u001b[0mtuple\u001b[0m\u001b[0;34m(\u001b[0m\u001b[0mzip\u001b[0m\u001b[0;34m(\u001b[0m\u001b[0mdata_fields\u001b[0m\u001b[0;34m,\u001b[0m \u001b[0mdata\u001b[0m\u001b[0;34m)\u001b[0m\u001b[0;34m)\u001b[0m\u001b[0;34m\u001b[0m\u001b[0;34m\u001b[0m\u001b[0m\n",
      "\u001b[0;31mKeyboardInterrupt\u001b[0m: "
     ]
    }
   ],
   "source": [
    "runs = [1,1]\n",
    "no_of_runs = np.sum(runs) # 1 - one run for variables with ..._1;  2 - both runs for variables ..._1 and ..._2\n",
    "run_only_2 = (runs[1]==1 and runs[0]==0) # in case of no_of_runs=1\n",
    "NUM_ITER = 50#3000\n",
    "print(\"J_1 =\", JEXCH1,\"; H_Z =\",H_Z, end=\"; \")\n",
    "if exact_ground_energy != 0:\n",
    "    print(\"Expected exact energy:\", exact_ground_energy)\n",
    "for i,gs in enumerate([gs_1,gs_2][run_only_2:run_only_2+no_of_runs]):\n",
    "    start = time.time()\n",
    "    gs.run(out=OUT_NAME+str(i), n_iter=int(NUM_ITER))#, obs={'symmetry':P(0,1)})\n",
    "    end = time.time()\n",
    "    print(\"The calculation for {} of type {} took {} min\".format(MACHINE, i+1, (end-start)/60))\n"
   ]
  },
  {
   "cell_type": "code",
   "execution_count": null,
   "metadata": {},
   "outputs": [
    {
     "name": "stdout",
     "output_type": "stream",
     "text": [
      "Trained RBM without MSR:\n",
      "Energy = 119.56+0.74j ± 0.84 [σ²=501.04, R̂=1.0024]\n",
      "m_z = 0.54+0.00j ± 0.30 [σ²=61.35, R̂=1.0021]\n",
      "Trained RBM with MSR:\n",
      "Energy = -118.59-0.02j ± 0.38 [σ²=99.92, R̂=0.9933]\n",
      "m_z = -0.30+0.00j ± 0.19 [σ²=25.54, R̂=0.9977]\n"
     ]
    }
   ],
   "source": [
    "for i,gs in enumerate([gs_1,gs_2][run_only_2:run_only_2+no_of_runs]):\n",
    "    print(\"Trained RBM with MSR:\" if (i+run_only_2) else \"Trained RBM without MSR:\")\n",
    "    print(\"Energy =\", gs.energy)\n",
    "    print(\"m_z =\", gs.estimate(m_z))"
   ]
  },
  {
   "cell_type": "markdown",
   "metadata": {},
   "source": [
    "## Energy Convergence Plotting\n",
    "In case that the machine did not converge, we can re-run the previous cell and than skip the next cell. This way, the replotting just appends the new results and does not erase the previoius results. "
   ]
  },
  {
   "cell_type": "code",
   "execution_count": null,
   "metadata": {},
   "outputs": [],
   "source": [
    "# Exact Energy Line\n",
    "no_of_all_iters = NUM_ITER\n",
    "figure = go.Figure(\n",
    "    data=[\n",
    "        go.Scatter(\n",
    "            x=(0,no_of_all_iters),\n",
    "            y=(exact_ground_energy,exact_ground_energy),\n",
    "            mode=\"lines\",line=go.scatter.Line(color=\"#000000\",width=1), name=\"exact energy\")],\n",
    "    layout=go.Layout(\n",
    "        template=\"simple_white\",\n",
    "        xaxis=dict(title=\"Iteration\", mirror=True, showline=True),\n",
    "        yaxis=dict(title=\"Energy\", mirror=True, showline=True),\n",
    "        title=(\"<b>\"+\"S-S\"+\" model </b>, L=\"+str(SITES)+\", J2 =\"+str(JEXCH2)+ \", J1 =\"+str(JEXCH1)+\" , η=\"+str(ETA)+\", α=\"+str(ALPHA)+\", samples=\"+str(SAMPLES)))\n",
    "    ).add_hline(y=exact_ground_energy, opacity=1, line_width=1)\n"
   ]
  },
  {
   "cell_type": "code",
   "execution_count": null,
   "metadata": {},
   "outputs": [
    {
     "data": {
      "application/vnd.plotly.v1+json": {
       "config": {
        "plotlyServerURL": "https://plot.ly"
       },
       "data": [
        {
         "line": {
          "color": "#000000",
          "width": 1
         },
         "mode": "lines",
         "name": "exact energy",
         "type": "scatter",
         "x": [
          0,
          50
         ],
         "y": [
          0,
          0
         ]
        },
        {
         "name": "normal",
         "type": "scatter",
         "x": [
          0,
          1,
          2,
          3,
          4,
          5,
          6,
          7,
          8,
          9,
          10,
          11,
          12,
          13,
          14,
          15,
          16,
          17,
          18,
          19,
          20,
          21,
          22,
          23,
          24,
          25,
          26,
          27,
          28,
          29,
          30,
          31,
          32,
          33,
          34,
          35,
          36,
          37,
          38,
          39,
          40,
          41,
          42,
          43,
          44,
          45,
          46,
          47,
          48,
          49
         ],
         "y": [
          147.047093061525,
          147.08966148916363,
          147.0348326411583,
          147.0569604039752,
          147.0190597621317,
          147.06239944547667,
          146.98737257726677,
          146.97920934211868,
          146.95640861231905,
          147.018763706486,
          146.836231913392,
          146.96611945056628,
          146.76361835527374,
          146.77615682579048,
          146.89613478428595,
          146.78262376900767,
          146.60708631752647,
          146.49656369895962,
          146.67466835242428,
          146.40396316120678,
          146.5854072993865,
          146.42453014291428,
          146.1028268123987,
          145.89218042193082,
          145.9348017068827,
          145.85173609757967,
          145.38366333524723,
          145.33586906933155,
          145.36632261748656,
          145.09267717957016,
          144.75370805059558,
          144.32505566613136,
          144.2605401648477,
          144.04710424393804,
          143.10855578393623,
          142.63050346132445,
          142.75530232855408,
          141.71916324656405,
          141.01312494699403,
          140.4673419469714,
          139.42579250454406,
          138.5009904640641,
          136.77368994956507,
          135.23052380117556,
          133.2660035447316,
          131.95224432088068,
          130.34860025019492,
          127.73881548805439,
          124.3445031786949,
          119.55898609396358
         ]
        },
        {
         "name": "MSR",
         "type": "scatter",
         "x": [
          0,
          1,
          2,
          3,
          4,
          5,
          6,
          7,
          8,
          9,
          10,
          11,
          12,
          13,
          14,
          15,
          16,
          17,
          18,
          19,
          20,
          21,
          22,
          23,
          24,
          25,
          26,
          27,
          28,
          29,
          30,
          31,
          32,
          33,
          34,
          35,
          36,
          37,
          38,
          39,
          40,
          41,
          42,
          43,
          44,
          45,
          46,
          47,
          48,
          49
         ],
         "y": [
          -82.66225137131563,
          -84.8726142562247,
          -84.39398930461535,
          -87.31639634972767,
          -87.46778672485266,
          -89.62776219175339,
          -90.53772112470608,
          -91.55081313658819,
          -92.92897009752485,
          -95.180617161002,
          -95.60089000072617,
          -97.04706930942658,
          -97.5684204767857,
          -98.2678149470782,
          -99.72475465614288,
          -100.4301603661966,
          -102.1458144666003,
          -103.16255067946312,
          -103.81182476951076,
          -104.20712478716405,
          -105.97428280704393,
          -106.37739425136252,
          -106.84561206761414,
          -108.13348287783496,
          -108.50446022050845,
          -109.3138487511867,
          -109.27699622398843,
          -110.4192730738741,
          -110.5685916816069,
          -112.29292953989332,
          -112.6936676902388,
          -112.7015512312224,
          -112.96001397743505,
          -113.00601155045592,
          -113.37105073226593,
          -114.60491436904968,
          -114.42772577839546,
          -114.76602420702305,
          -115.4115727316986,
          -115.13571950884291,
          -116.82487263830834,
          -115.43777763986009,
          -117.49130062842315,
          -117.11731644940633,
          -116.8873884020494,
          -117.55910679136919,
          -118.59646367542412,
          -118.2555509260566,
          -118.06339510736593,
          -118.59264565745401
         ]
        }
       ],
       "layout": {
        "shapes": [
         {
          "line": {
           "width": 1
          },
          "opacity": 1,
          "type": "line",
          "x0": 0,
          "x1": 1,
          "xref": "x domain",
          "y0": 0,
          "y1": 0,
          "yref": "y"
         }
        ],
        "template": {
         "data": {
          "bar": [
           {
            "error_x": {
             "color": "rgb(36,36,36)"
            },
            "error_y": {
             "color": "rgb(36,36,36)"
            },
            "marker": {
             "line": {
              "color": "white",
              "width": 0.5
             },
             "pattern": {
              "fillmode": "overlay",
              "size": 10,
              "solidity": 0.2
             }
            },
            "type": "bar"
           }
          ],
          "barpolar": [
           {
            "marker": {
             "line": {
              "color": "white",
              "width": 0.5
             },
             "pattern": {
              "fillmode": "overlay",
              "size": 10,
              "solidity": 0.2
             }
            },
            "type": "barpolar"
           }
          ],
          "carpet": [
           {
            "aaxis": {
             "endlinecolor": "rgb(36,36,36)",
             "gridcolor": "white",
             "linecolor": "white",
             "minorgridcolor": "white",
             "startlinecolor": "rgb(36,36,36)"
            },
            "baxis": {
             "endlinecolor": "rgb(36,36,36)",
             "gridcolor": "white",
             "linecolor": "white",
             "minorgridcolor": "white",
             "startlinecolor": "rgb(36,36,36)"
            },
            "type": "carpet"
           }
          ],
          "choropleth": [
           {
            "colorbar": {
             "outlinewidth": 1,
             "tickcolor": "rgb(36,36,36)",
             "ticks": "outside"
            },
            "type": "choropleth"
           }
          ],
          "contour": [
           {
            "colorbar": {
             "outlinewidth": 1,
             "tickcolor": "rgb(36,36,36)",
             "ticks": "outside"
            },
            "colorscale": [
             [
              0,
              "#440154"
             ],
             [
              0.1111111111111111,
              "#482878"
             ],
             [
              0.2222222222222222,
              "#3e4989"
             ],
             [
              0.3333333333333333,
              "#31688e"
             ],
             [
              0.4444444444444444,
              "#26828e"
             ],
             [
              0.5555555555555556,
              "#1f9e89"
             ],
             [
              0.6666666666666666,
              "#35b779"
             ],
             [
              0.7777777777777778,
              "#6ece58"
             ],
             [
              0.8888888888888888,
              "#b5de2b"
             ],
             [
              1,
              "#fde725"
             ]
            ],
            "type": "contour"
           }
          ],
          "contourcarpet": [
           {
            "colorbar": {
             "outlinewidth": 1,
             "tickcolor": "rgb(36,36,36)",
             "ticks": "outside"
            },
            "type": "contourcarpet"
           }
          ],
          "heatmap": [
           {
            "colorbar": {
             "outlinewidth": 1,
             "tickcolor": "rgb(36,36,36)",
             "ticks": "outside"
            },
            "colorscale": [
             [
              0,
              "#440154"
             ],
             [
              0.1111111111111111,
              "#482878"
             ],
             [
              0.2222222222222222,
              "#3e4989"
             ],
             [
              0.3333333333333333,
              "#31688e"
             ],
             [
              0.4444444444444444,
              "#26828e"
             ],
             [
              0.5555555555555556,
              "#1f9e89"
             ],
             [
              0.6666666666666666,
              "#35b779"
             ],
             [
              0.7777777777777778,
              "#6ece58"
             ],
             [
              0.8888888888888888,
              "#b5de2b"
             ],
             [
              1,
              "#fde725"
             ]
            ],
            "type": "heatmap"
           }
          ],
          "heatmapgl": [
           {
            "colorbar": {
             "outlinewidth": 1,
             "tickcolor": "rgb(36,36,36)",
             "ticks": "outside"
            },
            "colorscale": [
             [
              0,
              "#440154"
             ],
             [
              0.1111111111111111,
              "#482878"
             ],
             [
              0.2222222222222222,
              "#3e4989"
             ],
             [
              0.3333333333333333,
              "#31688e"
             ],
             [
              0.4444444444444444,
              "#26828e"
             ],
             [
              0.5555555555555556,
              "#1f9e89"
             ],
             [
              0.6666666666666666,
              "#35b779"
             ],
             [
              0.7777777777777778,
              "#6ece58"
             ],
             [
              0.8888888888888888,
              "#b5de2b"
             ],
             [
              1,
              "#fde725"
             ]
            ],
            "type": "heatmapgl"
           }
          ],
          "histogram": [
           {
            "marker": {
             "line": {
              "color": "white",
              "width": 0.6
             }
            },
            "type": "histogram"
           }
          ],
          "histogram2d": [
           {
            "colorbar": {
             "outlinewidth": 1,
             "tickcolor": "rgb(36,36,36)",
             "ticks": "outside"
            },
            "colorscale": [
             [
              0,
              "#440154"
             ],
             [
              0.1111111111111111,
              "#482878"
             ],
             [
              0.2222222222222222,
              "#3e4989"
             ],
             [
              0.3333333333333333,
              "#31688e"
             ],
             [
              0.4444444444444444,
              "#26828e"
             ],
             [
              0.5555555555555556,
              "#1f9e89"
             ],
             [
              0.6666666666666666,
              "#35b779"
             ],
             [
              0.7777777777777778,
              "#6ece58"
             ],
             [
              0.8888888888888888,
              "#b5de2b"
             ],
             [
              1,
              "#fde725"
             ]
            ],
            "type": "histogram2d"
           }
          ],
          "histogram2dcontour": [
           {
            "colorbar": {
             "outlinewidth": 1,
             "tickcolor": "rgb(36,36,36)",
             "ticks": "outside"
            },
            "colorscale": [
             [
              0,
              "#440154"
             ],
             [
              0.1111111111111111,
              "#482878"
             ],
             [
              0.2222222222222222,
              "#3e4989"
             ],
             [
              0.3333333333333333,
              "#31688e"
             ],
             [
              0.4444444444444444,
              "#26828e"
             ],
             [
              0.5555555555555556,
              "#1f9e89"
             ],
             [
              0.6666666666666666,
              "#35b779"
             ],
             [
              0.7777777777777778,
              "#6ece58"
             ],
             [
              0.8888888888888888,
              "#b5de2b"
             ],
             [
              1,
              "#fde725"
             ]
            ],
            "type": "histogram2dcontour"
           }
          ],
          "mesh3d": [
           {
            "colorbar": {
             "outlinewidth": 1,
             "tickcolor": "rgb(36,36,36)",
             "ticks": "outside"
            },
            "type": "mesh3d"
           }
          ],
          "parcoords": [
           {
            "line": {
             "colorbar": {
              "outlinewidth": 1,
              "tickcolor": "rgb(36,36,36)",
              "ticks": "outside"
             }
            },
            "type": "parcoords"
           }
          ],
          "pie": [
           {
            "automargin": true,
            "type": "pie"
           }
          ],
          "scatter": [
           {
            "marker": {
             "colorbar": {
              "outlinewidth": 1,
              "tickcolor": "rgb(36,36,36)",
              "ticks": "outside"
             }
            },
            "type": "scatter"
           }
          ],
          "scatter3d": [
           {
            "line": {
             "colorbar": {
              "outlinewidth": 1,
              "tickcolor": "rgb(36,36,36)",
              "ticks": "outside"
             }
            },
            "marker": {
             "colorbar": {
              "outlinewidth": 1,
              "tickcolor": "rgb(36,36,36)",
              "ticks": "outside"
             }
            },
            "type": "scatter3d"
           }
          ],
          "scattercarpet": [
           {
            "marker": {
             "colorbar": {
              "outlinewidth": 1,
              "tickcolor": "rgb(36,36,36)",
              "ticks": "outside"
             }
            },
            "type": "scattercarpet"
           }
          ],
          "scattergeo": [
           {
            "marker": {
             "colorbar": {
              "outlinewidth": 1,
              "tickcolor": "rgb(36,36,36)",
              "ticks": "outside"
             }
            },
            "type": "scattergeo"
           }
          ],
          "scattergl": [
           {
            "marker": {
             "colorbar": {
              "outlinewidth": 1,
              "tickcolor": "rgb(36,36,36)",
              "ticks": "outside"
             }
            },
            "type": "scattergl"
           }
          ],
          "scattermapbox": [
           {
            "marker": {
             "colorbar": {
              "outlinewidth": 1,
              "tickcolor": "rgb(36,36,36)",
              "ticks": "outside"
             }
            },
            "type": "scattermapbox"
           }
          ],
          "scatterpolar": [
           {
            "marker": {
             "colorbar": {
              "outlinewidth": 1,
              "tickcolor": "rgb(36,36,36)",
              "ticks": "outside"
             }
            },
            "type": "scatterpolar"
           }
          ],
          "scatterpolargl": [
           {
            "marker": {
             "colorbar": {
              "outlinewidth": 1,
              "tickcolor": "rgb(36,36,36)",
              "ticks": "outside"
             }
            },
            "type": "scatterpolargl"
           }
          ],
          "scatterternary": [
           {
            "marker": {
             "colorbar": {
              "outlinewidth": 1,
              "tickcolor": "rgb(36,36,36)",
              "ticks": "outside"
             }
            },
            "type": "scatterternary"
           }
          ],
          "surface": [
           {
            "colorbar": {
             "outlinewidth": 1,
             "tickcolor": "rgb(36,36,36)",
             "ticks": "outside"
            },
            "colorscale": [
             [
              0,
              "#440154"
             ],
             [
              0.1111111111111111,
              "#482878"
             ],
             [
              0.2222222222222222,
              "#3e4989"
             ],
             [
              0.3333333333333333,
              "#31688e"
             ],
             [
              0.4444444444444444,
              "#26828e"
             ],
             [
              0.5555555555555556,
              "#1f9e89"
             ],
             [
              0.6666666666666666,
              "#35b779"
             ],
             [
              0.7777777777777778,
              "#6ece58"
             ],
             [
              0.8888888888888888,
              "#b5de2b"
             ],
             [
              1,
              "#fde725"
             ]
            ],
            "type": "surface"
           }
          ],
          "table": [
           {
            "cells": {
             "fill": {
              "color": "rgb(237,237,237)"
             },
             "line": {
              "color": "white"
             }
            },
            "header": {
             "fill": {
              "color": "rgb(217,217,217)"
             },
             "line": {
              "color": "white"
             }
            },
            "type": "table"
           }
          ]
         },
         "layout": {
          "annotationdefaults": {
           "arrowhead": 0,
           "arrowwidth": 1
          },
          "autotypenumbers": "strict",
          "coloraxis": {
           "colorbar": {
            "outlinewidth": 1,
            "tickcolor": "rgb(36,36,36)",
            "ticks": "outside"
           }
          },
          "colorscale": {
           "diverging": [
            [
             0,
             "rgb(103,0,31)"
            ],
            [
             0.1,
             "rgb(178,24,43)"
            ],
            [
             0.2,
             "rgb(214,96,77)"
            ],
            [
             0.3,
             "rgb(244,165,130)"
            ],
            [
             0.4,
             "rgb(253,219,199)"
            ],
            [
             0.5,
             "rgb(247,247,247)"
            ],
            [
             0.6,
             "rgb(209,229,240)"
            ],
            [
             0.7,
             "rgb(146,197,222)"
            ],
            [
             0.8,
             "rgb(67,147,195)"
            ],
            [
             0.9,
             "rgb(33,102,172)"
            ],
            [
             1,
             "rgb(5,48,97)"
            ]
           ],
           "sequential": [
            [
             0,
             "#440154"
            ],
            [
             0.1111111111111111,
             "#482878"
            ],
            [
             0.2222222222222222,
             "#3e4989"
            ],
            [
             0.3333333333333333,
             "#31688e"
            ],
            [
             0.4444444444444444,
             "#26828e"
            ],
            [
             0.5555555555555556,
             "#1f9e89"
            ],
            [
             0.6666666666666666,
             "#35b779"
            ],
            [
             0.7777777777777778,
             "#6ece58"
            ],
            [
             0.8888888888888888,
             "#b5de2b"
            ],
            [
             1,
             "#fde725"
            ]
           ],
           "sequentialminus": [
            [
             0,
             "#440154"
            ],
            [
             0.1111111111111111,
             "#482878"
            ],
            [
             0.2222222222222222,
             "#3e4989"
            ],
            [
             0.3333333333333333,
             "#31688e"
            ],
            [
             0.4444444444444444,
             "#26828e"
            ],
            [
             0.5555555555555556,
             "#1f9e89"
            ],
            [
             0.6666666666666666,
             "#35b779"
            ],
            [
             0.7777777777777778,
             "#6ece58"
            ],
            [
             0.8888888888888888,
             "#b5de2b"
            ],
            [
             1,
             "#fde725"
            ]
           ]
          },
          "colorway": [
           "#1F77B4",
           "#FF7F0E",
           "#2CA02C",
           "#D62728",
           "#9467BD",
           "#8C564B",
           "#E377C2",
           "#7F7F7F",
           "#BCBD22",
           "#17BECF"
          ],
          "font": {
           "color": "rgb(36,36,36)"
          },
          "geo": {
           "bgcolor": "white",
           "lakecolor": "white",
           "landcolor": "white",
           "showlakes": true,
           "showland": true,
           "subunitcolor": "white"
          },
          "hoverlabel": {
           "align": "left"
          },
          "hovermode": "closest",
          "mapbox": {
           "style": "light"
          },
          "paper_bgcolor": "white",
          "plot_bgcolor": "white",
          "polar": {
           "angularaxis": {
            "gridcolor": "rgb(232,232,232)",
            "linecolor": "rgb(36,36,36)",
            "showgrid": false,
            "showline": true,
            "ticks": "outside"
           },
           "bgcolor": "white",
           "radialaxis": {
            "gridcolor": "rgb(232,232,232)",
            "linecolor": "rgb(36,36,36)",
            "showgrid": false,
            "showline": true,
            "ticks": "outside"
           }
          },
          "scene": {
           "xaxis": {
            "backgroundcolor": "white",
            "gridcolor": "rgb(232,232,232)",
            "gridwidth": 2,
            "linecolor": "rgb(36,36,36)",
            "showbackground": true,
            "showgrid": false,
            "showline": true,
            "ticks": "outside",
            "zeroline": false,
            "zerolinecolor": "rgb(36,36,36)"
           },
           "yaxis": {
            "backgroundcolor": "white",
            "gridcolor": "rgb(232,232,232)",
            "gridwidth": 2,
            "linecolor": "rgb(36,36,36)",
            "showbackground": true,
            "showgrid": false,
            "showline": true,
            "ticks": "outside",
            "zeroline": false,
            "zerolinecolor": "rgb(36,36,36)"
           },
           "zaxis": {
            "backgroundcolor": "white",
            "gridcolor": "rgb(232,232,232)",
            "gridwidth": 2,
            "linecolor": "rgb(36,36,36)",
            "showbackground": true,
            "showgrid": false,
            "showline": true,
            "ticks": "outside",
            "zeroline": false,
            "zerolinecolor": "rgb(36,36,36)"
           }
          },
          "shapedefaults": {
           "fillcolor": "black",
           "line": {
            "width": 0
           },
           "opacity": 0.3
          },
          "ternary": {
           "aaxis": {
            "gridcolor": "rgb(232,232,232)",
            "linecolor": "rgb(36,36,36)",
            "showgrid": false,
            "showline": true,
            "ticks": "outside"
           },
           "baxis": {
            "gridcolor": "rgb(232,232,232)",
            "linecolor": "rgb(36,36,36)",
            "showgrid": false,
            "showline": true,
            "ticks": "outside"
           },
           "bgcolor": "white",
           "caxis": {
            "gridcolor": "rgb(232,232,232)",
            "linecolor": "rgb(36,36,36)",
            "showgrid": false,
            "showline": true,
            "ticks": "outside"
           }
          },
          "title": {
           "x": 0.05
          },
          "xaxis": {
           "automargin": true,
           "gridcolor": "rgb(232,232,232)",
           "linecolor": "rgb(36,36,36)",
           "showgrid": false,
           "showline": true,
           "ticks": "outside",
           "title": {
            "standoff": 15
           },
           "zeroline": false,
           "zerolinecolor": "rgb(36,36,36)"
          },
          "yaxis": {
           "automargin": true,
           "gridcolor": "rgb(232,232,232)",
           "linecolor": "rgb(36,36,36)",
           "showgrid": false,
           "showline": true,
           "ticks": "outside",
           "title": {
            "standoff": 15
           },
           "zeroline": false,
           "zerolinecolor": "rgb(36,36,36)"
          }
         }
        },
        "title": {
         "text": "<b>S-S model </b>, L=64, J2 =1, J1 =0.9 , η=0.005, α=2, samples=700"
        },
        "xaxis": {
         "mirror": true,
         "showline": true,
         "title": {
          "text": "Iteration"
         }
        },
        "yaxis": {
         "mirror": true,
         "showline": true,
         "title": {
          "text": "Energy"
         }
        }
       }
      },
      "text/html": [
       "<div>                            <div id=\"9982201c-fc21-455c-a5a6-a7c2d4d89018\" class=\"plotly-graph-div\" style=\"height:525px; width:100%;\"></div>            <script type=\"text/javascript\">                require([\"plotly\"], function(Plotly) {                    window.PLOTLYENV=window.PLOTLYENV || {};                                    if (document.getElementById(\"9982201c-fc21-455c-a5a6-a7c2d4d89018\")) {                    Plotly.newPlot(                        \"9982201c-fc21-455c-a5a6-a7c2d4d89018\",                        [{\"line\":{\"color\":\"#000000\",\"width\":1},\"mode\":\"lines\",\"name\":\"exact energy\",\"type\":\"scatter\",\"x\":[0,50],\"y\":[0,0]},{\"name\":\"normal\",\"type\":\"scatter\",\"x\":[0,1,2,3,4,5,6,7,8,9,10,11,12,13,14,15,16,17,18,19,20,21,22,23,24,25,26,27,28,29,30,31,32,33,34,35,36,37,38,39,40,41,42,43,44,45,46,47,48,49],\"y\":[147.047093061525,147.08966148916363,147.0348326411583,147.0569604039752,147.0190597621317,147.06239944547667,146.98737257726677,146.97920934211868,146.95640861231905,147.018763706486,146.836231913392,146.96611945056628,146.76361835527374,146.77615682579048,146.89613478428595,146.78262376900767,146.60708631752647,146.49656369895962,146.67466835242428,146.40396316120678,146.5854072993865,146.42453014291428,146.1028268123987,145.89218042193082,145.9348017068827,145.85173609757967,145.38366333524723,145.33586906933155,145.36632261748656,145.09267717957016,144.75370805059558,144.32505566613136,144.2605401648477,144.04710424393804,143.10855578393623,142.63050346132445,142.75530232855408,141.71916324656405,141.01312494699403,140.4673419469714,139.42579250454406,138.5009904640641,136.77368994956507,135.23052380117556,133.2660035447316,131.95224432088068,130.34860025019492,127.73881548805439,124.3445031786949,119.55898609396358]},{\"name\":\"MSR\",\"type\":\"scatter\",\"x\":[0,1,2,3,4,5,6,7,8,9,10,11,12,13,14,15,16,17,18,19,20,21,22,23,24,25,26,27,28,29,30,31,32,33,34,35,36,37,38,39,40,41,42,43,44,45,46,47,48,49],\"y\":[-82.66225137131563,-84.8726142562247,-84.39398930461535,-87.31639634972767,-87.46778672485266,-89.62776219175339,-90.53772112470608,-91.55081313658819,-92.92897009752485,-95.180617161002,-95.60089000072617,-97.04706930942658,-97.5684204767857,-98.2678149470782,-99.72475465614288,-100.4301603661966,-102.1458144666003,-103.16255067946312,-103.81182476951076,-104.20712478716405,-105.97428280704393,-106.37739425136252,-106.84561206761414,-108.13348287783496,-108.50446022050845,-109.3138487511867,-109.27699622398843,-110.4192730738741,-110.5685916816069,-112.29292953989332,-112.6936676902388,-112.7015512312224,-112.96001397743505,-113.00601155045592,-113.37105073226593,-114.60491436904968,-114.42772577839546,-114.76602420702305,-115.4115727316986,-115.13571950884291,-116.82487263830834,-115.43777763986009,-117.49130062842315,-117.11731644940633,-116.8873884020494,-117.55910679136919,-118.59646367542412,-118.2555509260566,-118.06339510736593,-118.59264565745401]}],                        {\"shapes\":[{\"line\":{\"width\":1},\"opacity\":1,\"type\":\"line\",\"x0\":0,\"x1\":1,\"xref\":\"x domain\",\"y0\":0,\"y1\":0,\"yref\":\"y\"}],\"template\":{\"data\":{\"bar\":[{\"error_x\":{\"color\":\"rgb(36,36,36)\"},\"error_y\":{\"color\":\"rgb(36,36,36)\"},\"marker\":{\"line\":{\"color\":\"white\",\"width\":0.5},\"pattern\":{\"fillmode\":\"overlay\",\"size\":10,\"solidity\":0.2}},\"type\":\"bar\"}],\"barpolar\":[{\"marker\":{\"line\":{\"color\":\"white\",\"width\":0.5},\"pattern\":{\"fillmode\":\"overlay\",\"size\":10,\"solidity\":0.2}},\"type\":\"barpolar\"}],\"carpet\":[{\"aaxis\":{\"endlinecolor\":\"rgb(36,36,36)\",\"gridcolor\":\"white\",\"linecolor\":\"white\",\"minorgridcolor\":\"white\",\"startlinecolor\":\"rgb(36,36,36)\"},\"baxis\":{\"endlinecolor\":\"rgb(36,36,36)\",\"gridcolor\":\"white\",\"linecolor\":\"white\",\"minorgridcolor\":\"white\",\"startlinecolor\":\"rgb(36,36,36)\"},\"type\":\"carpet\"}],\"choropleth\":[{\"colorbar\":{\"outlinewidth\":1,\"tickcolor\":\"rgb(36,36,36)\",\"ticks\":\"outside\"},\"type\":\"choropleth\"}],\"contour\":[{\"colorbar\":{\"outlinewidth\":1,\"tickcolor\":\"rgb(36,36,36)\",\"ticks\":\"outside\"},\"colorscale\":[[0.0,\"#440154\"],[0.1111111111111111,\"#482878\"],[0.2222222222222222,\"#3e4989\"],[0.3333333333333333,\"#31688e\"],[0.4444444444444444,\"#26828e\"],[0.5555555555555556,\"#1f9e89\"],[0.6666666666666666,\"#35b779\"],[0.7777777777777778,\"#6ece58\"],[0.8888888888888888,\"#b5de2b\"],[1.0,\"#fde725\"]],\"type\":\"contour\"}],\"contourcarpet\":[{\"colorbar\":{\"outlinewidth\":1,\"tickcolor\":\"rgb(36,36,36)\",\"ticks\":\"outside\"},\"type\":\"contourcarpet\"}],\"heatmap\":[{\"colorbar\":{\"outlinewidth\":1,\"tickcolor\":\"rgb(36,36,36)\",\"ticks\":\"outside\"},\"colorscale\":[[0.0,\"#440154\"],[0.1111111111111111,\"#482878\"],[0.2222222222222222,\"#3e4989\"],[0.3333333333333333,\"#31688e\"],[0.4444444444444444,\"#26828e\"],[0.5555555555555556,\"#1f9e89\"],[0.6666666666666666,\"#35b779\"],[0.7777777777777778,\"#6ece58\"],[0.8888888888888888,\"#b5de2b\"],[1.0,\"#fde725\"]],\"type\":\"heatmap\"}],\"heatmapgl\":[{\"colorbar\":{\"outlinewidth\":1,\"tickcolor\":\"rgb(36,36,36)\",\"ticks\":\"outside\"},\"colorscale\":[[0.0,\"#440154\"],[0.1111111111111111,\"#482878\"],[0.2222222222222222,\"#3e4989\"],[0.3333333333333333,\"#31688e\"],[0.4444444444444444,\"#26828e\"],[0.5555555555555556,\"#1f9e89\"],[0.6666666666666666,\"#35b779\"],[0.7777777777777778,\"#6ece58\"],[0.8888888888888888,\"#b5de2b\"],[1.0,\"#fde725\"]],\"type\":\"heatmapgl\"}],\"histogram\":[{\"marker\":{\"line\":{\"color\":\"white\",\"width\":0.6}},\"type\":\"histogram\"}],\"histogram2d\":[{\"colorbar\":{\"outlinewidth\":1,\"tickcolor\":\"rgb(36,36,36)\",\"ticks\":\"outside\"},\"colorscale\":[[0.0,\"#440154\"],[0.1111111111111111,\"#482878\"],[0.2222222222222222,\"#3e4989\"],[0.3333333333333333,\"#31688e\"],[0.4444444444444444,\"#26828e\"],[0.5555555555555556,\"#1f9e89\"],[0.6666666666666666,\"#35b779\"],[0.7777777777777778,\"#6ece58\"],[0.8888888888888888,\"#b5de2b\"],[1.0,\"#fde725\"]],\"type\":\"histogram2d\"}],\"histogram2dcontour\":[{\"colorbar\":{\"outlinewidth\":1,\"tickcolor\":\"rgb(36,36,36)\",\"ticks\":\"outside\"},\"colorscale\":[[0.0,\"#440154\"],[0.1111111111111111,\"#482878\"],[0.2222222222222222,\"#3e4989\"],[0.3333333333333333,\"#31688e\"],[0.4444444444444444,\"#26828e\"],[0.5555555555555556,\"#1f9e89\"],[0.6666666666666666,\"#35b779\"],[0.7777777777777778,\"#6ece58\"],[0.8888888888888888,\"#b5de2b\"],[1.0,\"#fde725\"]],\"type\":\"histogram2dcontour\"}],\"mesh3d\":[{\"colorbar\":{\"outlinewidth\":1,\"tickcolor\":\"rgb(36,36,36)\",\"ticks\":\"outside\"},\"type\":\"mesh3d\"}],\"parcoords\":[{\"line\":{\"colorbar\":{\"outlinewidth\":1,\"tickcolor\":\"rgb(36,36,36)\",\"ticks\":\"outside\"}},\"type\":\"parcoords\"}],\"pie\":[{\"automargin\":true,\"type\":\"pie\"}],\"scatter\":[{\"marker\":{\"colorbar\":{\"outlinewidth\":1,\"tickcolor\":\"rgb(36,36,36)\",\"ticks\":\"outside\"}},\"type\":\"scatter\"}],\"scatter3d\":[{\"line\":{\"colorbar\":{\"outlinewidth\":1,\"tickcolor\":\"rgb(36,36,36)\",\"ticks\":\"outside\"}},\"marker\":{\"colorbar\":{\"outlinewidth\":1,\"tickcolor\":\"rgb(36,36,36)\",\"ticks\":\"outside\"}},\"type\":\"scatter3d\"}],\"scattercarpet\":[{\"marker\":{\"colorbar\":{\"outlinewidth\":1,\"tickcolor\":\"rgb(36,36,36)\",\"ticks\":\"outside\"}},\"type\":\"scattercarpet\"}],\"scattergeo\":[{\"marker\":{\"colorbar\":{\"outlinewidth\":1,\"tickcolor\":\"rgb(36,36,36)\",\"ticks\":\"outside\"}},\"type\":\"scattergeo\"}],\"scattergl\":[{\"marker\":{\"colorbar\":{\"outlinewidth\":1,\"tickcolor\":\"rgb(36,36,36)\",\"ticks\":\"outside\"}},\"type\":\"scattergl\"}],\"scattermapbox\":[{\"marker\":{\"colorbar\":{\"outlinewidth\":1,\"tickcolor\":\"rgb(36,36,36)\",\"ticks\":\"outside\"}},\"type\":\"scattermapbox\"}],\"scatterpolar\":[{\"marker\":{\"colorbar\":{\"outlinewidth\":1,\"tickcolor\":\"rgb(36,36,36)\",\"ticks\":\"outside\"}},\"type\":\"scatterpolar\"}],\"scatterpolargl\":[{\"marker\":{\"colorbar\":{\"outlinewidth\":1,\"tickcolor\":\"rgb(36,36,36)\",\"ticks\":\"outside\"}},\"type\":\"scatterpolargl\"}],\"scatterternary\":[{\"marker\":{\"colorbar\":{\"outlinewidth\":1,\"tickcolor\":\"rgb(36,36,36)\",\"ticks\":\"outside\"}},\"type\":\"scatterternary\"}],\"surface\":[{\"colorbar\":{\"outlinewidth\":1,\"tickcolor\":\"rgb(36,36,36)\",\"ticks\":\"outside\"},\"colorscale\":[[0.0,\"#440154\"],[0.1111111111111111,\"#482878\"],[0.2222222222222222,\"#3e4989\"],[0.3333333333333333,\"#31688e\"],[0.4444444444444444,\"#26828e\"],[0.5555555555555556,\"#1f9e89\"],[0.6666666666666666,\"#35b779\"],[0.7777777777777778,\"#6ece58\"],[0.8888888888888888,\"#b5de2b\"],[1.0,\"#fde725\"]],\"type\":\"surface\"}],\"table\":[{\"cells\":{\"fill\":{\"color\":\"rgb(237,237,237)\"},\"line\":{\"color\":\"white\"}},\"header\":{\"fill\":{\"color\":\"rgb(217,217,217)\"},\"line\":{\"color\":\"white\"}},\"type\":\"table\"}]},\"layout\":{\"annotationdefaults\":{\"arrowhead\":0,\"arrowwidth\":1},\"autotypenumbers\":\"strict\",\"coloraxis\":{\"colorbar\":{\"outlinewidth\":1,\"tickcolor\":\"rgb(36,36,36)\",\"ticks\":\"outside\"}},\"colorscale\":{\"diverging\":[[0.0,\"rgb(103,0,31)\"],[0.1,\"rgb(178,24,43)\"],[0.2,\"rgb(214,96,77)\"],[0.3,\"rgb(244,165,130)\"],[0.4,\"rgb(253,219,199)\"],[0.5,\"rgb(247,247,247)\"],[0.6,\"rgb(209,229,240)\"],[0.7,\"rgb(146,197,222)\"],[0.8,\"rgb(67,147,195)\"],[0.9,\"rgb(33,102,172)\"],[1.0,\"rgb(5,48,97)\"]],\"sequential\":[[0.0,\"#440154\"],[0.1111111111111111,\"#482878\"],[0.2222222222222222,\"#3e4989\"],[0.3333333333333333,\"#31688e\"],[0.4444444444444444,\"#26828e\"],[0.5555555555555556,\"#1f9e89\"],[0.6666666666666666,\"#35b779\"],[0.7777777777777778,\"#6ece58\"],[0.8888888888888888,\"#b5de2b\"],[1.0,\"#fde725\"]],\"sequentialminus\":[[0.0,\"#440154\"],[0.1111111111111111,\"#482878\"],[0.2222222222222222,\"#3e4989\"],[0.3333333333333333,\"#31688e\"],[0.4444444444444444,\"#26828e\"],[0.5555555555555556,\"#1f9e89\"],[0.6666666666666666,\"#35b779\"],[0.7777777777777778,\"#6ece58\"],[0.8888888888888888,\"#b5de2b\"],[1.0,\"#fde725\"]]},\"colorway\":[\"#1F77B4\",\"#FF7F0E\",\"#2CA02C\",\"#D62728\",\"#9467BD\",\"#8C564B\",\"#E377C2\",\"#7F7F7F\",\"#BCBD22\",\"#17BECF\"],\"font\":{\"color\":\"rgb(36,36,36)\"},\"geo\":{\"bgcolor\":\"white\",\"lakecolor\":\"white\",\"landcolor\":\"white\",\"showlakes\":true,\"showland\":true,\"subunitcolor\":\"white\"},\"hoverlabel\":{\"align\":\"left\"},\"hovermode\":\"closest\",\"mapbox\":{\"style\":\"light\"},\"paper_bgcolor\":\"white\",\"plot_bgcolor\":\"white\",\"polar\":{\"angularaxis\":{\"gridcolor\":\"rgb(232,232,232)\",\"linecolor\":\"rgb(36,36,36)\",\"showgrid\":false,\"showline\":true,\"ticks\":\"outside\"},\"bgcolor\":\"white\",\"radialaxis\":{\"gridcolor\":\"rgb(232,232,232)\",\"linecolor\":\"rgb(36,36,36)\",\"showgrid\":false,\"showline\":true,\"ticks\":\"outside\"}},\"scene\":{\"xaxis\":{\"backgroundcolor\":\"white\",\"gridcolor\":\"rgb(232,232,232)\",\"gridwidth\":2,\"linecolor\":\"rgb(36,36,36)\",\"showbackground\":true,\"showgrid\":false,\"showline\":true,\"ticks\":\"outside\",\"zeroline\":false,\"zerolinecolor\":\"rgb(36,36,36)\"},\"yaxis\":{\"backgroundcolor\":\"white\",\"gridcolor\":\"rgb(232,232,232)\",\"gridwidth\":2,\"linecolor\":\"rgb(36,36,36)\",\"showbackground\":true,\"showgrid\":false,\"showline\":true,\"ticks\":\"outside\",\"zeroline\":false,\"zerolinecolor\":\"rgb(36,36,36)\"},\"zaxis\":{\"backgroundcolor\":\"white\",\"gridcolor\":\"rgb(232,232,232)\",\"gridwidth\":2,\"linecolor\":\"rgb(36,36,36)\",\"showbackground\":true,\"showgrid\":false,\"showline\":true,\"ticks\":\"outside\",\"zeroline\":false,\"zerolinecolor\":\"rgb(36,36,36)\"}},\"shapedefaults\":{\"fillcolor\":\"black\",\"line\":{\"width\":0},\"opacity\":0.3},\"ternary\":{\"aaxis\":{\"gridcolor\":\"rgb(232,232,232)\",\"linecolor\":\"rgb(36,36,36)\",\"showgrid\":false,\"showline\":true,\"ticks\":\"outside\"},\"baxis\":{\"gridcolor\":\"rgb(232,232,232)\",\"linecolor\":\"rgb(36,36,36)\",\"showgrid\":false,\"showline\":true,\"ticks\":\"outside\"},\"bgcolor\":\"white\",\"caxis\":{\"gridcolor\":\"rgb(232,232,232)\",\"linecolor\":\"rgb(36,36,36)\",\"showgrid\":false,\"showline\":true,\"ticks\":\"outside\"}},\"title\":{\"x\":0.05},\"xaxis\":{\"automargin\":true,\"gridcolor\":\"rgb(232,232,232)\",\"linecolor\":\"rgb(36,36,36)\",\"showgrid\":false,\"showline\":true,\"ticks\":\"outside\",\"title\":{\"standoff\":15},\"zeroline\":false,\"zerolinecolor\":\"rgb(36,36,36)\"},\"yaxis\":{\"automargin\":true,\"gridcolor\":\"rgb(232,232,232)\",\"linecolor\":\"rgb(36,36,36)\",\"showgrid\":false,\"showline\":true,\"ticks\":\"outside\",\"title\":{\"standoff\":15},\"zeroline\":false,\"zerolinecolor\":\"rgb(36,36,36)\"}}},\"title\":{\"text\":\"<b>S-S model </b>, L=64, J2 =1, J1 =0.9 , η=0.005, α=2, samples=700\"},\"xaxis\":{\"mirror\":true,\"showline\":true,\"title\":{\"text\":\"Iteration\"}},\"yaxis\":{\"mirror\":true,\"showline\":true,\"title\":{\"text\":\"Energy\"}}},                        {\"responsive\": true}                    ).then(function(){\n",
       "                            \n",
       "var gd = document.getElementById('9982201c-fc21-455c-a5a6-a7c2d4d89018');\n",
       "var x = new MutationObserver(function (mutations, observer) {{\n",
       "        var display = window.getComputedStyle(gd).display;\n",
       "        if (!display || display === 'none') {{\n",
       "            console.log([gd, 'removed!']);\n",
       "            Plotly.purge(gd);\n",
       "            observer.disconnect();\n",
       "        }}\n",
       "}});\n",
       "\n",
       "// Listen for the removal of the full notebook cells\n",
       "var notebookContainer = gd.closest('#notebook-container');\n",
       "if (notebookContainer) {{\n",
       "    x.observe(notebookContainer, {childList: true});\n",
       "}}\n",
       "\n",
       "// Listen for the clearing of the current output cell\n",
       "var outputEl = gd.closest('.output');\n",
       "if (outputEl) {{\n",
       "    x.observe(outputEl, {childList: true});\n",
       "}}\n",
       "\n",
       "                        })                };                });            </script>        </div>"
      ]
     },
     "metadata": {},
     "output_type": "display_data"
    }
   ],
   "source": [
    "# import the data from log file\n",
    "OUT_NAME_suffixless=OUT_NAME\n",
    "data = []\n",
    "names = [\"normal\",\"MSR\"]\n",
    "for i in range(no_of_runs):\n",
    "    data.append(json.load(open(OUT_NAME_suffixless+str(i)+\".log\")))\n",
    "if type(data[0][\"Energy\"][\"Mean\"]) == dict: #DTYPE in (np.complex128, np.complex64):#, np.float64):# and False:\n",
    "    energy_convergence = [data[i][\"Energy\"][\"Mean\"][\"real\"] for i in range(no_of_runs)]\n",
    "    # symmetry = [data[i][\"symmetry\"][\"Mean\"][\"real\"] for i in range(no_of_runs-run_only_2)]\n",
    "else:\n",
    "    energy_convergence = [data[i][\"Energy\"][\"Mean\"] for i in range(no_of_runs)]\n",
    "    # symmetry = [data[i][\"symmetry\"][\"Mean\"] for i in range(no_of_runs-run_only_2)]\n",
    "for i in range(no_of_runs):\n",
    "    figure.add_trace(go.Scatter(\n",
    "        x=data[i][\"Energy\"][\"iters\"], y=energy_convergence[i],\n",
    "        name=names[i]\n",
    "    ))\n",
    "    # figure.add_trace(go.Scatter(\n",
    "    #     x=data[i][\"Energy\"][\"iters\"], y=symmetry[i],\n",
    "    #     name=names[i]+\"_swap\"\n",
    "    # ))\n",
    "\n",
    "figure.update_layout(xaxis_title=\"Iteration\",yaxis_title=\"Energy\")\n",
    "figure.show()"
   ]
  },
  {
   "cell_type": "markdown",
   "metadata": {},
   "source": [
    "## Assessment of the other simulation results"
   ]
  },
  {
   "cell_type": "code",
   "execution_count": null,
   "metadata": {},
   "outputs": [
    {
     "name": "stdout",
     "output_type": "stream",
     "text": [
      "[-1, 0]\n"
     ]
    }
   ],
   "source": [
    "# Calculation of how long it took to reach 99.5% of exact energy. The first value under 0.5% deviation counts as a converged state.\n",
    "no_of_runs = 2\n",
    "threshold_energy = 0.995*exact_ground_energy\n",
    "data = []\n",
    "for i in range(no_of_runs):\n",
    "    data.append(json.load(open(OUT_NAME+str(i)+\".log\")))\n",
    "if type(data[0][\"Energy\"][\"Mean\"]) == dict:\n",
    "    energy_convergence = [data[i][\"Energy\"][\"Mean\"][\"real\"] for i in range(no_of_runs)]\n",
    "else:\n",
    "    energy_convergence = [data[i][\"Energy\"][\"Mean\"] for i in range(no_of_runs)]\n",
    "steps_until_convergence = [next((i for i,v in enumerate(energy_convergence[j]) if v < threshold_energy), -1) for j in range(no_of_runs)]\n",
    "print(steps_until_convergence)"
   ]
  },
  {
   "cell_type": "code",
   "execution_count": null,
   "metadata": {},
   "outputs": [
    {
     "name": "stdout",
     "output_type": "stream",
     "text": [
      "Trained RBM without MSR:\n",
      "m_d^2 = -0.2716+0.0014j ± 0.0022 [σ²=0.0033, R̂=1.0085]\n",
      "m_p(MSR) = 0.075-0.012j ± 0.054 [σ²=2.037, R̂=0.9933]\n",
      "m_s^2 = 0.03790-0.00009j ± 0.00079 [σ²=0.00044, R̂=1.0058]\n",
      "m_s^2(MSR) = 0.8781-0.0010j ± 0.0045 [σ²=0.0145, R̂=1.0125]\n",
      "Trained RBM with MSR:\n",
      "m_d^2 = -0.3015+0.0001j ± 0.0013 [σ²=0.0012, R̂=1.0041]\n",
      "m_p(MSR) = 0.004-0.002j ± 0.052 [σ²=1.925, R̂=1.0018]\n",
      "m_s^2 = 0.0430+0.0000j ± 0.0017 [σ²=0.0021, R̂=0.9988]\n",
      "m_s^2(MSR) = 0.8806-0.0004j ± 0.0047 [σ²=0.0154, R̂=1.0004]\n"
     ]
    }
   ],
   "source": [
    "# Evaluation of order parameters.\n",
    "from lattice_and_ops import Operators, Lattice\n",
    "ops = Operators(lattice,hilbert,ho.mszsz,ho.exchange)\n",
    "for i,gs in enumerate([gs_1,gs_2][run_only_2:run_only_2+no_of_runs]):\n",
    "    print(\"Trained RBM with MSR:\" if (i+run_only_2) else \"Trained RBM without MSR:\")\n",
    "    print(\"m_d^2 =\", gs.estimate(ops.m_dimer_op))\n",
    "    print(\"m_p(MSR) =\", gs.estimate(ops.m_plaquette_op_MSR))\n",
    "    print(\"m_s^2 =\", gs.estimate(ops.m_s2_op))\n",
    "    print(\"m_s^2(MSR) =\", gs.estimate(ops.m_s2_op_MSR))"
   ]
  },
  {
   "cell_type": "markdown",
   "metadata": {},
   "source": [
    "### Print final results"
   ]
  },
  {
   "cell_type": "code",
   "execution_count": null,
   "metadata": {},
   "outputs": [
    {
     "ename": "TypeError",
     "evalue": "log_results() missing 1 required positional argument: 'steps_until_convergence'",
     "output_type": "error",
     "traceback": [
      "\u001b[0;31m---------------------------------------------------------------------------\u001b[0m",
      "\u001b[0;31mTypeError\u001b[0m                                 Traceback (most recent call last)",
      "\u001b[0;32m/tmp/ipykernel_30498/2261589024.py\u001b[0m in \u001b[0;36m<module>\u001b[0;34m\u001b[0m\n\u001b[1;32m      1\u001b[0m \u001b[0;32mfrom\u001b[0m \u001b[0mlattice_and_ops\u001b[0m \u001b[0;32mimport\u001b[0m \u001b[0mlog_results\u001b[0m\u001b[0;34m\u001b[0m\u001b[0;34m\u001b[0m\u001b[0m\n\u001b[0;32m----> 2\u001b[0;31m \u001b[0mlog_results\u001b[0m\u001b[0;34m(\u001b[0m\u001b[0mJEXCH1\u001b[0m\u001b[0;34m,\u001b[0m\u001b[0mgs_1\u001b[0m\u001b[0;34m,\u001b[0m\u001b[0mgs_2\u001b[0m\u001b[0;34m,\u001b[0m\u001b[0mops\u001b[0m\u001b[0;34m,\u001b[0m\u001b[0mSAMPLES\u001b[0m\u001b[0;34m,\u001b[0m\u001b[0mNUM_ITER\u001b[0m\u001b[0;34m,\u001b[0m\u001b[0msteps_until_convergence\u001b[0m\u001b[0;34m)\u001b[0m\u001b[0;34m\u001b[0m\u001b[0;34m\u001b[0m\u001b[0m\n\u001b[0m",
      "\u001b[0;31mTypeError\u001b[0m: log_results() missing 1 required positional argument: 'steps_until_convergence'"
     ]
    }
   ],
   "source": [
    "from lattice_and_ops import log_results\n",
    "log_results(JEXCH1,gs_1,gs_2,ops,SAMPLES,NUM_ITER,steps_until_convergence)"
   ]
  },
  {
   "cell_type": "code",
   "execution_count": null,
   "metadata": {},
   "outputs": [
    {
     "name": "stdout",
     "output_type": "stream",
     "text": [
      " 0.400  -15.74737  0.46486   0.4879  0.0093   0.0233  0.4016   0.1384  0.0085   1000   400\n"
     ]
    }
   ],
   "source": [
    "print(\"{:6.3f} {:10.5f} {:8.5f}  {:7.4f} {:7.4f}  {:7.4f} {:7.4f}  {:7.4f} {:7.4f}  {:5.0f} {:5.0f}\".format(JEXCH1, \n",
    "    gs_1.energy.mean.real,                          gs_1.energy.variance,\n",
    "    gs_1.estimate(ops.m_dimer_op).mean.real,        gs_1.estimate(ops.m_dimer_op).variance,\n",
    "    gs_1.estimate(ops.m_plaquette_op).mean.real,    gs_1.estimate(ops.m_plaquette_op).variance,\n",
    "    gs_1.estimate(ops.m_s2_op).mean.real,           gs_1.estimate(ops.m_s2_op).variance, \n",
    "    SAMPLES, NUM_ITER, steps_until_convergence[0], sep='    '))"
   ]
  },
  {
   "cell_type": "code",
   "execution_count": null,
   "metadata": {},
   "outputs": [
    {
     "name": "stdout",
     "output_type": "stream",
     "text": [
      "asd\n"
     ]
    }
   ],
   "source": [
    "print(\"asd\",file=None)"
   ]
  },
  {
   "cell_type": "code",
   "execution_count": null,
   "metadata": {},
   "outputs": [
    {
     "name": "stdout",
     "output_type": "stream",
     "text": [
      "  0.46486\n"
     ]
    }
   ],
   "source": [
    "print(\"{:9.5f}\".format(gs_1.energy.variance))"
   ]
  },
  {
   "cell_type": "code",
   "execution_count": null,
   "metadata": {},
   "outputs": [
    {
     "data": {
      "text/plain": [
       "{'Mean': (-15.747368841964612-0.003949807027622352j),\n",
       " 'Variance': 0.46486127291880336,\n",
       " 'Sigma': 0.02484698569889124,\n",
       " 'R_hat': nan,\n",
       " 'TauCorr': 0.16403971925269567}"
      ]
     },
     "execution_count": 211,
     "metadata": {},
     "output_type": "execute_result"
    }
   ],
   "source": [
    "gs_1.energy.to_dict()"
   ]
  }
 ],
 "metadata": {
  "interpreter": {
   "hash": "31f2aee4e71d21fbe5cf8b01ff0e069b9275f58929596ceb00d14d90e3e16cd6"
  },
  "kernelspec": {
   "display_name": "Python 3.8.10 64-bit",
   "name": "python3"
  },
  "language_info": {
   "codemirror_mode": {
    "name": "ipython",
    "version": 3
   },
   "file_extension": ".py",
   "mimetype": "text/x-python",
   "name": "python",
   "nbconvert_exporter": "python",
   "pygments_lexer": "ipython3",
   "version": "3.8.10"
  },
  "metadata": {
   "interpreter": {
    "hash": "916dbcbb3f70747c44a77c7bcd40155683ae19c65e1c03b4aa3499c5328201f1"
   }
  }
 },
 "nbformat": 4,
 "nbformat_minor": 4
}
