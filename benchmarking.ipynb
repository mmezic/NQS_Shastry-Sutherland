{
 "cells": [
  {
   "cell_type": "markdown",
   "metadata": {},
   "source": [
    "# Exploring Shastry-Sutterland model with RBM variational wave function and other models"
   ]
  },
  {
   "cell_type": "code",
   "execution_count": 77,
   "metadata": {},
   "outputs": [
    {
     "name": "stdout",
     "output_type": "stream",
     "text": [
      "Python version: 3.8.10 (default, Nov 26 2021, 20:14:08) \n",
      "[GCC 9.3.0]\n",
      "NetKet version: 3.3.3\n",
      "NumPy version: 1.20.3\n"
     ]
    }
   ],
   "source": [
    "import netket as nk\n",
    "import numpy as np\n",
    "import time\n",
    "import json\n",
    "import plotly.graph_objects as go\n",
    "import matplotlib.pyplot as plt\n",
    "import jax\n",
    "import flax\n",
    "import optax\n",
    "from sys import version as pyvers\n",
    "\n",
    "print(\"Python version: {}\".format(pyvers))\n",
    "print(\"NetKet version: {}\".format(nk.__version__))\n",
    "print(\"NumPy version: {}\".format(np.__version__))"
   ]
  },
  {
   "cell_type": "markdown",
   "metadata": {},
   "source": [
    "### Setup relevant parameters and settings of the simulation "
   ]
  },
  {
   "cell_type": "code",
   "execution_count": 78,
   "metadata": {},
   "outputs": [],
   "source": [
    "\"\"\"lattice\"\"\"\n",
    "SITES    = 16             # 4, 8, 16, 20 ... number of vertices in a tile determines the tile shape \n",
    "JEXCH1   = .9            # nn interaction\n",
    "JEXCH2   = 1             # nnn interaction\n",
    "H_Z      = 0             # magnetic field\n",
    "USE_PBC = True\n",
    "TOTAL_SZ = None          # 0, None ... restriction of Hilbert space\n",
    "#USE_MSR = True          # Should we use a Marshall sign rule? In this notebook, we use both.\n",
    "\n",
    "\"\"\"machine learning\"\"\"\n",
    "MACHINE  = \"RBM\"         # RBM, RBMSymm, RBMSymm_transl, RBMModPhase, GCNN, Jastrow, myRBM\n",
    "DTYPE    = np.complex128 # data-type of weights in neural network\n",
    "ALPHA    = 8            # N_hidden / N_visible\n",
    "ETA      = .01          # learning rate (0.01 usually works)\n",
    "SAMPLER  = 'exact'       # 'local' = MetropolisLocal, 'exchange' = MetropolisExchange\n",
    "SAMPLES  = 3000          # number of Monte Carlo samples\n",
    "NUM_ITER = 1000           # number of convergence iterations\n",
    "N_LAYERS = 2 #2             # number of layers (in case of G-CNN)\n",
    "FEATURES = (16,16) #16 #(8,4)         # dimensions of layers (in case of G-CNN)\n",
    "\n",
    "OUT_NAME = \"SS_\"+str(SITES)+\"j1=\"+str(JEXCH1) # output file name"
   ]
  },
  {
   "cell_type": "markdown",
   "metadata": {},
   "source": [
    "### Lattice definition\n",
    "Basic structure of tiled lattices is implemented in `lattice_and_ops.py` file. Class `Lattice` implements relative positional functions, \n",
    "- e.g. *`rt(node)` returns the index of the right neighbour of a site with index `node`*\n",
    "\n",
    "The `for` loop constructs full Shastry-Sutherland lattice with PBC using these auxiliary positional functions."
   ]
  },
  {
   "cell_type": "code",
   "execution_count": 79,
   "metadata": {},
   "outputs": [],
   "source": [
    "from lattice_and_ops import Lattice\n",
    "lattice = Lattice(SITES)\n",
    "\n",
    "if not USE_PBC and SITES != 16:\n",
    "    raise Exception(\"Non-PBC are implemented only for 4x4 lattice!!!\")\n",
    "\n",
    "# Construction of custom graph according to tiled lattice structure defined in the Lattice class.\n",
    "edge_colors = []\n",
    "for node in range(SITES):\n",
    "    if USE_PBC or not node in [3,7,11,15]:\n",
    "        edge_colors.append([node,lattice.rt(node), 1])  # horizontal connections\n",
    "    if USE_PBC or not node in [12,13,14,15]:\n",
    "        edge_colors.append([node,lattice.bot(node), 1]) # vertical connections\n",
    "    row, column = lattice.position(node)\n",
    "    \n",
    "    SS_color = 3 if not USE_PBC and node in [3,7,4,12,13,14,15] else 2\n",
    "    if column%2 == 0:\n",
    "        if row%2 == 0:\n",
    "            edge_colors.append([node,lattice.lrt(node),SS_color]) # diagonal bond\n",
    "        else:\n",
    "            edge_colors.append([node,lattice.llft(node),SS_color]) # diagonal bond\n",
    "\n",
    "g = nk.graph.Graph(edges=edge_colors) #,n_nodes=3)\n",
    "N = g.n_nodes\n",
    "\n",
    "hilbert = nk.hilbert.Spin(s=.5, N=g.n_nodes, total_sz=TOTAL_SZ)"
   ]
  },
  {
   "cell_type": "markdown",
   "metadata": {},
   "source": [
    "### Characters of the symmetries\n",
    "In case of G-CNN, we need to specify the characters of the symmetry transformations.\n",
    "- DS phase anti-symmetric wrt permutations with negative sign and symmetric wer permutaions with postive sign\n",
    "- AF phase is always symmetric for all permutations  "
   ]
  },
  {
   "cell_type": "code",
   "execution_count": 80,
   "metadata": {},
   "outputs": [
    {
     "name": "stdout",
     "output_type": "stream",
     "text": [
      "There are 64 full symmetries.\n"
     ]
    }
   ],
   "source": [
    "\n",
    "print(\"There are\", len(g.automorphisms()), \"full symmetries.\")\n",
    "# deciding point between DS and AF phase is set to 0.5\n",
    "if JEXCH1 < 0.5:\n",
    "    # DS phase is partly anti-symmetric\n",
    "    characters = []\n",
    "    from lattice_and_ops import permutation_sign\n",
    "    for perm in g.automorphisms():\n",
    "        # print(perm, \"with sign\", permutation_sign(np.asarray(perm)))\n",
    "        characters.append(permutation_sign(np.asarray(perm)))\n",
    "    characters_dimer_1 = np.asarray(characters,dtype=complex)\n",
    "    characters_dimer_2 = characters_dimer_1\n",
    "else:\n",
    "    # AF phase if fully symmetric\n",
    "    characters_dimer_1 = np.ones((len(g.automorphisms()),), dtype=complex)\n",
    "    characters_dimer_2 = characters_dimer_1"
   ]
  },
  {
   "cell_type": "markdown",
   "metadata": {},
   "source": [
    "### Translations\n",
    "\n",
    "If we want to include only translations, we have to exclude some symmetries from `g.automorphisms()`.\n",
    "\n",
    "\n",
    "⚠️ TODO ⚠️ <span style=\"color:red\"> This part is not fully automated yet. Translations are currently picked by hand from the group of all automorphisms. </span>"
   ]
  },
  {
   "cell_type": "code",
   "execution_count": 81,
   "metadata": {},
   "outputs": [
    {
     "name": "stdout",
     "output_type": "stream",
     "text": [
      "Out of 64 permutations, 4 translations were picked.\n"
     ]
    }
   ],
   "source": [
    "if MACHINE == \"RBMSymm_transl\" and not (N in [4,16]):\n",
    "    raise NotImplementedError(\"Extraction of translations from the group of automorphisms is not implemented yet.\")\n",
    "translations = []\n",
    "for perm in g.automorphisms():\n",
    "    aperm = np.asarray(perm)\n",
    "    if N == 4:\n",
    "        if (aperm[0],aperm[1]) in ((0,1),(1,0),(2,3),(3,2)): # N = 4\n",
    "            translations.append(nk.utils.group._permutation_group.Permutation(aperm))\n",
    "    if N == 16:\n",
    "        if (aperm[0],aperm[1],aperm[3]) in ((0,1,3),(2,3,1),(8,9,11),(10,11,9)): # N = 16\n",
    "    # if (aperm[0],aperm[1],aperm[2],aperm[3]) in ((4,7,6,5),): # N = 8\n",
    "    # if (aperm[2],aperm[0]) in ((2,0),(3,0),(0,1),(1,2)):#,(2,3,1)): # N = 16, two dimers with just translation\n",
    "    # if (aperm[0],aperm[1],aperm[3]) in ((0,1,3),(3,2,0),(2,3,1),(1,0,2)): # N = 16, two dimers plus second translation option\n",
    "            translations.append(nk.utils.group._permutation_group.Permutation(aperm))\n",
    "translation_group = nk.utils.group._permutation_group.PermutationGroup(translations,degree=SITES)\n",
    "print(\"Out of\", len(g.automorphisms()), \"permutations,\",len(translation_group), \"translations were picked.\")"
   ]
  },
  {
   "cell_type": "markdown",
   "metadata": {},
   "source": [
    "## Hamoltonian definition\n",
    "$$ H = J_{1} \\sum\\limits_{\\langle i,j \\rangle}^{L} \\vec{\\sigma}_{i} \\cdot \\vec{\\sigma}_{j} + J_{2} \\sum\\limits_{\\langle\\langle i,j \\rangle\\rangle_{SS}}^{L}  \\vec{\\sigma}_{i} \\cdot \\vec{\\sigma}_{j} + 2h\\sum\\limits_{i} \\sigma^z_{i}\\,. $$\n",
    "\n",
    "Axiliary constant operators used to define hamiltonian are loaded from the external file, they are pre-defined in the `HamOps` class."
   ]
  },
  {
   "cell_type": "code",
   "execution_count": 82,
   "metadata": {},
   "outputs": [],
   "source": [
    "from lattice_and_ops import HamOps\n",
    "ho = HamOps()\n",
    "# H_Z = .5\n",
    "ha_1 = nk.operator.GraphOperator(hilbert, graph=g, bond_ops=ho.bond_operator(JEXCH1,JEXCH2, h_z=H_Z, use_MSR=False), bond_ops_colors=ho.bond_color)\n",
    "ha_2 = nk.operator.GraphOperator(hilbert, graph=g, bond_ops=ho.bond_operator(JEXCH1,JEXCH2, h_z=H_Z, use_MSR=True), bond_ops_colors=ho.bond_color)\n"
   ]
  },
  {
   "cell_type": "markdown",
   "metadata": {},
   "source": [
    "### Magnetization operator definition\n",
    "$$ \\hat{m}_z := \\sum\\limits_i \\sigma_i^z $$"
   ]
  },
  {
   "cell_type": "code",
   "execution_count": 83,
   "metadata": {},
   "outputs": [],
   "source": [
    "m_z = sum(nk.operator.spin.sigmaz(hilbert, i) for i in range(hilbert.size))\n",
    "from lattice_and_ops import Operators, Lattice\n",
    "ops = Operators(lattice,hilbert,ho.mszsz,ho.exchange)"
   ]
  },
  {
   "cell_type": "code",
   "execution_count": 84,
   "metadata": {},
   "outputs": [],
   "source": [
    "if False: # exact diagonalization scan\n",
    "    # H_Z = 0\n",
    "    print(\"#N =\", N)\n",
    "    print(\"# J1     J2      H_Z            m_z            ground          1.excited          2.excited\")\n",
    "    for H_Z in np.arange(0,0.03,step=0.1):\n",
    "        ha = nk.operator.GraphOperator(hilbert, graph=g, bond_ops=ho.bond_operator(JEXCH1,JEXCH2, h_z=H_Z, use_MSR=False), bond_ops_colors=ho.bond_color)\n",
    "        start = time.time()\n",
    "        evals, eigvects = nk.exact.lanczos_ed(ha, k=3, compute_eigenvectors=True)\n",
    "        ground_state = eigvects.T[0]\n",
    "        end = time.time()\n",
    "        magnetization_z = ground_state.transpose()@(m_z@ground_state)\n",
    "        m_DS = ground_state.transpose()@(ops.m_dimer_op@ground_state)\n",
    "        m_PS = ground_state.transpose()@(ops.m_plaquette_op@ground_state)\n",
    "        # m_AF = ground_state.transpose()@(ops.m_s2_op_MSR@ground_state)\n",
    "        print(\"ED took\", (start-end)/60, \"min.\")\n",
    "        # print(np.round(np.array(ground_state),5))\n",
    "        # print(ha.to_dense())\n",
    "        print(\"%.3f   %.3f  %2.10f   %2.10f   %2.10f   %14.10f   %14.10f\" % (JEXCH1, JEXCH2, H_Z, magnetization_z, evals[0], evals[1], evals[2]))"
   ]
  },
  {
   "cell_type": "code",
   "execution_count": 85,
   "metadata": {},
   "outputs": [],
   "source": [
    "# m_AF = ops.m_sSquared_slow(ground_state)"
   ]
  },
  {
   "cell_type": "code",
   "execution_count": 86,
   "metadata": {},
   "outputs": [
    {
     "data": {
      "text/plain": [
       "1.944001926098088e-29"
      ]
     },
     "execution_count": 86,
     "metadata": {},
     "output_type": "execute_result"
    }
   ],
   "source": [
    "evals, eigvects = nk.exact.lanczos_ed(ha_1, k=3, compute_eigenvectors=True)\n",
    "ground_state = eigvects.T[0]\n",
    "ground_state.transpose()@(m_z@ground_state)"
   ]
  },
  {
   "cell_type": "markdown",
   "metadata": {},
   "source": [
    "## Exact diagonalization"
   ]
  },
  {
   "cell_type": "code",
   "execution_count": 87,
   "metadata": {},
   "outputs": [
    {
     "name": "stdout",
     "output_type": "stream",
     "text": [
      "Ground state energy: -34.08190778603123 \n",
      "It took  1.66 s = 0.03 min\n"
     ]
    }
   ],
   "source": [
    "if g.n_nodes < 20:\n",
    "    start = time.time()\n",
    "    if g.n_nodes < 15:\n",
    "        evals, eigvects = nk.exact.full_ed(ha_1, compute_eigenvectors=True)\n",
    "    else:\n",
    "        evals, eigvects = nk.exact.lanczos_ed(ha_1, k=3, compute_eigenvectors=True)\n",
    "    end = time.time()\n",
    "    diag_time = end - start\n",
    "    print(\"Ground state energy:\",evals[0], \"\\nIt took \", round(diag_time,2), \"s =\", round((diag_time)/60,2),\"min\")\n",
    "else:\n",
    "    print(\"System is too large for exact diagonalization. Setting exact_ground_energy = 0 (which is wrong)\")\n",
    "    evals = [0,0,0]\n",
    "    eigvects = None \n",
    "exact_ground_energy = evals[0]"
   ]
  },
  {
   "cell_type": "markdown",
   "metadata": {},
   "source": [
    "# Machine learning starts here"
   ]
  },
  {
   "cell_type": "markdown",
   "metadata": {},
   "source": [
    "## Machine definition and other auxiliary `netket` objects\n",
    "We define two sets of these objects, usually: \n",
    "- variables ending with ...`_1` belongs to the choice of standard basis,\n",
    "- variables ending with ...`_2` belongs to the choice of MSR basis.\n",
    "\n",
    "But they can be used in a different way when we need to compare two different models."
   ]
  },
  {
   "cell_type": "code",
   "execution_count": 88,
   "metadata": {},
   "outputs": [],
   "source": [
    "# Selection of machine type\n",
    "if MACHINE == \"RBM\":\n",
    "    machine_1 = nk.models.RBM(dtype=DTYPE, alpha=ALPHA)#, use_visible_bias=False) \n",
    "    machine_2 = nk.models.RBM(dtype=DTYPE, alpha=ALPHA)#, use_visible_bias=False)\n",
    "elif MACHINE == \"RBMSymm\":\n",
    "    machine_1 = nk.models.RBMSymm(g.automorphisms(), dtype=DTYPE, alpha=ALPHA)#, use_visible_bias=False) \n",
    "    machine_2 = nk.models.RBMSymm(g.automorphisms(), dtype=DTYPE, alpha=ALPHA)#, use_visible_bias=False)\n",
    "elif MACHINE == \"RBMSymm_transl\":\n",
    "    machine_1 = nk.models.RBMSymm(translation_group, dtype=DTYPE, alpha=ALPHA)#, use_visible_bias=False) \n",
    "    machine_2 = nk.models.RBMSymm(translation_group, dtype=DTYPE, alpha=ALPHA)#, use_visible_bias=False)\n",
    "elif MACHINE == \"GCNN\":\n",
    "    machine_1 = nk.models.GCNN(symmetries=g.automorphisms(), dtype=DTYPE, \n",
    "        layers=N_LAYERS, features=FEATURES, characters=characters_dimer_1)#, output_activation=log_cosh)\n",
    "    machine_2 = nk.models.GCNN(symmetries=g.automorphisms(), dtype=DTYPE, \n",
    "        layers=N_LAYERS, features=FEATURES, characters=characters_dimer_2)#, output_activation=log_cosh)\n",
    "elif MACHINE == \"myRBM\":\n",
    "    from GCNN_Nomura import GCNN_my\n",
    "    machine_1 = GCNN_my(symmetries=g.automorphisms(), dtype=DTYPE, layers=1, features=ALPHA, characters=characters_dimer_1, output_activation=nk.nn.log_cosh, use_bias=True, use_visible_bias=True)\n",
    "    machine_2 = GCNN_my(symmetries=g.automorphisms(), dtype=DTYPE, layers=1, features=ALPHA, characters=characters_dimer_2, output_activation=nk.nn.log_cosh, use_bias=True, use_visible_bias=False)\n",
    "elif MACHINE == \"Jastrow\":\n",
    "    from lattice_and_ops import Jastrow\n",
    "    machine_1 = Jastrow()\n",
    "    machine_2 = Jastrow()\n",
    "elif MACHINE == \"RBMModPhase\":\n",
    "    machine_1 = nk.models.RBMModPhase(alpha=ALPHA, use_hidden_bias=True, dtype=np.float64)\n",
    "    machine_2 = nk.models.RBMModPhase(alpha=ALPHA, use_hidden_bias=True, dtype=np.float64)\n",
    "\n",
    "    # A linear schedule varies the learning rate from 0 to 0.01 across 600 steps.\n",
    "    modulus_schedule_1=optax.linear_schedule(0,0.01,NUM_ITER)\n",
    "    modulus_schedule_2=optax.linear_schedule(0,0.01,NUM_ITER)\n",
    "    # The phase starts with a larger learning rate and then is decreased.\n",
    "    phase_schedule_1=optax.linear_schedule(0.05,0.01,NUM_ITER)\n",
    "    phase_schedule_2=optax.linear_schedule(0.05,0.01,NUM_ITER)\n",
    "    # Combine the linear schedule with SGD\n",
    "    optm_1=optax.sgd(modulus_schedule_1)\n",
    "    optp_1=optax.sgd(phase_schedule_1)\n",
    "    optm_2=optax.sgd(modulus_schedule_2)\n",
    "    optp_2=optax.sgd(phase_schedule_2)\n",
    "    # The multi-transform optimizer uses different optimisers for different parts of the parameters.\n",
    "    optimizer_1 = optax.multi_transform({'o1': optm_1, 'o2': optp_1}, flax.core.freeze({\"Dense_0\":\"o1\", \"Dense_1\":\"o2\"}))\n",
    "    optimizer_2 = optax.multi_transform({'o1': optm_2, 'o2': optp_2}, flax.core.freeze({\"Dense_0\":\"o1\", \"Dense_1\":\"o2\"}))\n",
    "else:\n",
    "    raise Exception(str(\"undefined MACHINE: \")+str(MACHINE))\n",
    "\n",
    "# Selection of sampler type\n",
    "if SAMPLER == 'local':\n",
    "    sampler_1 = nk.sampler.MetropolisLocal(hilbert=hilbert)\n",
    "    sampler_2 = nk.sampler.MetropolisLocal(hilbert=hilbert)\n",
    "elif SAMPLER == 'exact':\n",
    "    sampler_1 = nk.sampler.ExactSampler(hilbert=hilbert)\n",
    "    sampler_2 = nk.sampler.ExactSampler(hilbert=hilbert)\n",
    "else:\n",
    "    sampler_1 = nk.sampler.MetropolisExchange(hilbert=hilbert, graph=g)\n",
    "    sampler_2 = nk.sampler.MetropolisExchange(hilbert=hilbert, graph=g)\n",
    "    if SAMPLER != 'exchange':\n",
    "        print(\"Warning! Undefined fq.SAMPLER:\", SAMPLER, \", dafaulting to MetropolisExchange fq.SAMPLER\")\n",
    "\n",
    "if MACHINE != \"RBMModPhase\":\n",
    "    optimizer_1 = nk.optimizer.Sgd(learning_rate=ETA)\n",
    "    optimizer_2 = nk.optimizer.Sgd(learning_rate=ETA)\n",
    "\n",
    "# Stochastic Reconfiguration as a preconditioner\n",
    "sr_1  = nk.optimizer.SR(diag_shift=0.01)\n",
    "sr_2  = nk.optimizer.SR(diag_shift=0.01)\n",
    "\n",
    "# The variational state (former name: nk.variational.MCState)\n",
    "vs_1 = nk.vqs.MCState(sampler_1 , machine_1 , n_samples=SAMPLES)\n",
    "vs_2 = nk.vqs.MCState(sampler_2 , machine_2 , n_samples=SAMPLES)\n",
    "vs_1.init_parameters(jax.nn.initializers.normal(stddev=0.01))\n",
    "vs_2.init_parameters(jax.nn.initializers.normal(stddev=0.01))\n",
    "\n",
    "\n",
    "gs_1 = nk.VMC(hamiltonian=ha_1 ,optimizer=optimizer_1 ,preconditioner=sr_1 ,variational_state=vs_1)\n",
    "gs_2 = nk.VMC(hamiltonian=ha_2 ,optimizer=optimizer_2 ,preconditioner=sr_2 ,variational_state=vs_2) "
   ]
  },
  {
   "cell_type": "code",
   "execution_count": 89,
   "metadata": {},
   "outputs": [],
   "source": [
    "if False:\n",
    "    ETA2 = 0.001\n",
    "    optimizer_1 = nk.optimizer.Sgd(learning_rate=ETA2)\n",
    "    optimizer_2 = nk.optimizer.Sgd(learning_rate=ETA2)\n",
    "    # vs_1 = nk.vqs.MCState(sampler_1 , machine_1 , n_samples=SAMPLES*3)\n",
    "    # vs_2 = nk.vqs.MCState(sampler_2 , machine_2 , n_samples=SAMPLES*3)\n",
    "    gs_1 = nk.VMC(hamiltonian=ha_1 ,optimizer=optimizer_1,preconditioner=sr_1,variational_state=vs_1)   # 0 ... symmetric\n",
    "    gs_2 = nk.VMC(hamiltonian=ha_2 ,optimizer=optimizer_2,preconditioner=sr_2,variational_state=vs_2)   # 1 ... symmetric+MSR"
   ]
  },
  {
   "cell_type": "code",
   "execution_count": 90,
   "metadata": {},
   "outputs": [
    {
     "name": "stdout",
     "output_type": "stream",
     "text": [
      "2192 2192\n"
     ]
    }
   ],
   "source": [
    "print(vs_1.n_parameters, vs_2.n_parameters)"
   ]
  },
  {
   "cell_type": "markdown",
   "metadata": {},
   "source": [
    "# Calculation\n",
    "We let the calculation run for `NUM_ITERS` iterations for both cases _1 and _2 (without MSR and with MSR). If only one case is desired, set the variable `no_of_runs` to 1."
   ]
  },
  {
   "cell_type": "code",
   "execution_count": 91,
   "metadata": {},
   "outputs": [
    {
     "name": "stdout",
     "output_type": "stream",
     "text": [
      "J_1 = 0.9 ; H_Z = 0; Expected exact energy: -34.08190778603123\n"
     ]
    },
    {
     "name": "stderr",
     "output_type": "stream",
     "text": [
      " 26%|██▌       | 129/500 [02:59<10:52,  1.76s/it, Energy=-32.214-0.030j ± 0.066 [σ²=14.150]]"
     ]
    }
   ],
   "source": [
    "runs = [1,1]\n",
    "no_of_runs = np.sum(runs) # 1 - one run for variables with ..._1;  2 - both runs for variables ..._1 and ..._2\n",
    "run_only_2 = (runs[1]==1 and runs[0]==0) # in case of no_of_runs=1\n",
    "NUM_ITER = 500#3000\n",
    "print(\"J_1 =\", JEXCH1,\"; H_Z =\",H_Z, end=\"; \")\n",
    "if exact_ground_energy != 0:\n",
    "    print(\"Expected exact energy:\", exact_ground_energy)\n",
    "for i,gs in enumerate([gs_1,gs_2][run_only_2:run_only_2+no_of_runs]):\n",
    "    start = time.time()\n",
    "    gs.run(out=OUT_NAME+str(i), n_iter=int(NUM_ITER))#, obs={'symmetry':P(0,1)})\n",
    "    end = time.time()\n",
    "    print(\"The calculation for {} of type {} took {} min\".format(MACHINE, i+1, (end-start)/60))\n"
   ]
  },
  {
   "cell_type": "code",
   "execution_count": null,
   "metadata": {},
   "outputs": [
    {
     "name": "stdout",
     "output_type": "stream",
     "text": [
      "Trained RBM without MSR:\n",
      "Energy = -12.39999971-0.00000040j ± 0.00000061 [σ²=0.00000000]\n",
      "m_z = -0.00067+0.00000j ± 0.00066 [σ²=0.00133]\n",
      "Trained RBM with MSR:\n",
      "Energy = -12.40000027-0.00000001j ± 0.00000055 [σ²=0.00000000]\n",
      "m_z = 0.000e+00+0.000e+00j ± nan [σ²=0.000e+00]\n"
     ]
    }
   ],
   "source": [
    "for i,gs in enumerate([gs_1,gs_2][run_only_2:run_only_2+no_of_runs]):\n",
    "    print(\"Trained RBM with MSR:\" if (i+run_only_2) else \"Trained RBM without MSR:\")\n",
    "    print(\"Energy =\", gs.energy)\n",
    "    print(\"m_z =\", gs.estimate(m_z))"
   ]
  },
  {
   "cell_type": "markdown",
   "metadata": {},
   "source": [
    "## Energy Convergence Plotting\n",
    "In case that the machine did not converge, we can re-run the previous cell and than skip the next cell. This way, the replotting just appends the new results and does not erase the previoius results. "
   ]
  },
  {
   "cell_type": "code",
   "execution_count": null,
   "metadata": {},
   "outputs": [],
   "source": [
    "# Exact Energy Line\n",
    "no_of_all_iters = NUM_ITER\n",
    "figure = go.Figure(\n",
    "    data=[\n",
    "        go.Scatter(\n",
    "            x=(0,no_of_all_iters),\n",
    "            y=(exact_ground_energy,exact_ground_energy),\n",
    "            mode=\"lines\",line=go.scatter.Line(color=\"#000000\",width=1), name=\"exact energy\")],\n",
    "    layout=go.Layout(\n",
    "        template=\"simple_white\",\n",
    "        xaxis=dict(title=\"Iteration\", mirror=True, showline=True),\n",
    "        yaxis=dict(title=\"Energy\", mirror=True, showline=True),\n",
    "        title=(\"<b>\"+\"S-S\"+\" model </b>, N=\"+str(SITES)+\", J2 =\"+str(JEXCH2)+ \", J1 =\"+str(JEXCH1)+\" , η=\"+str(ETA)+\", α=\"+str(ALPHA)+\", samples=\"+str(SAMPLES)))\n",
    "    ).add_hline(y=exact_ground_energy, opacity=1, line_width=1)\n"
   ]
  },
  {
   "cell_type": "code",
   "execution_count": null,
   "metadata": {},
   "outputs": [
    {
     "data": {
      "application/vnd.plotly.v1+json": {
       "config": {
        "plotlyServerURL": "https://plot.ly"
       },
       "data": [
        {
         "line": {
          "color": "#000000",
          "width": 1
         },
         "mode": "lines",
         "name": "exact energy",
         "type": "scatter",
         "x": [
          0,
          500
         ],
         "y": [
          -12.399999999999999,
          -12.399999999999999
         ]
        },
        {
         "name": "normal",
         "type": "scatter",
         "x": [
          0,
          1,
          2,
          3,
          4,
          5,
          6,
          7,
          8,
          9,
          10,
          11,
          12,
          13,
          14,
          15,
          16,
          17,
          18,
          19,
          20,
          21,
          22,
          23,
          24,
          25,
          26,
          27,
          28,
          29,
          30,
          31,
          32,
          33,
          34,
          35,
          36,
          37,
          38,
          39,
          40,
          41,
          42,
          43,
          44,
          45,
          46,
          47,
          48,
          49,
          50,
          51,
          52,
          53,
          54,
          55,
          56,
          57,
          58,
          59,
          60,
          61,
          62,
          63,
          64,
          65,
          66,
          67,
          68,
          69,
          70,
          71,
          72,
          73,
          74,
          75,
          76,
          77,
          78,
          79,
          80,
          81,
          82,
          83,
          84,
          85,
          86,
          87,
          88,
          89,
          90,
          91,
          92,
          93,
          94,
          95,
          96,
          97,
          98,
          99,
          100,
          101,
          102,
          103,
          104,
          105,
          106,
          107,
          108,
          109,
          110,
          111,
          112,
          113,
          114,
          115,
          116,
          117,
          118,
          119,
          120,
          121,
          122,
          123,
          124,
          125,
          126,
          127,
          128,
          129,
          130,
          131,
          132,
          133,
          134,
          135,
          136,
          137,
          138,
          139,
          140,
          141,
          142,
          143,
          144,
          145,
          146,
          147,
          148,
          149,
          150,
          151,
          152,
          153,
          154,
          155,
          156,
          157,
          158,
          159,
          160,
          161,
          162,
          163,
          164,
          165,
          166,
          167,
          168,
          169,
          170,
          171,
          172,
          173,
          174,
          175,
          176,
          177,
          178,
          179,
          180,
          181,
          182,
          183,
          184,
          185,
          186,
          187,
          188,
          189,
          190,
          191,
          192,
          193,
          194,
          195,
          196,
          197,
          198,
          199,
          200,
          201,
          202,
          203,
          204,
          205,
          206,
          207,
          208,
          209,
          210,
          211,
          212,
          213,
          214,
          215,
          216,
          217,
          218,
          219,
          220,
          221,
          222,
          223,
          224,
          225,
          226,
          227,
          228,
          229,
          230,
          231,
          232,
          233,
          234,
          235,
          236,
          237,
          238,
          239,
          240,
          241,
          242,
          243,
          244,
          245,
          246,
          247,
          248,
          249,
          250,
          251,
          252,
          253,
          254,
          255,
          256,
          257,
          258,
          259,
          260,
          261,
          262,
          263,
          264,
          265,
          266,
          267,
          268,
          269,
          270,
          271,
          272,
          273,
          274,
          275,
          276,
          277,
          278,
          279,
          280,
          281,
          282,
          283,
          284,
          285,
          286,
          287,
          288,
          289,
          290,
          291,
          292,
          293,
          294,
          295,
          296,
          297,
          298,
          299,
          300,
          301,
          302,
          303,
          304,
          305,
          306,
          307,
          308,
          309,
          310,
          311,
          312,
          313,
          314,
          315,
          316,
          317,
          318,
          319,
          320,
          321,
          322,
          323,
          324,
          325,
          326,
          327,
          328,
          329,
          330,
          331,
          332,
          333,
          334,
          335,
          336,
          337,
          338,
          339,
          340,
          341,
          342,
          343,
          344,
          345,
          346,
          347,
          348,
          349,
          350,
          351,
          352,
          353,
          354,
          355,
          356,
          357,
          358,
          359,
          360,
          361,
          362,
          363,
          364,
          365,
          366,
          367,
          368,
          369,
          370,
          371,
          372,
          373,
          374,
          375,
          376,
          377,
          378,
          379,
          380,
          381,
          382,
          383,
          384,
          385,
          386,
          387,
          388,
          389,
          390,
          391,
          392,
          393,
          394,
          395,
          396,
          397,
          398,
          399,
          400,
          401,
          402,
          403,
          404,
          405,
          406,
          407,
          408,
          409,
          410,
          411,
          412,
          413,
          414,
          415,
          416,
          417,
          418,
          419,
          420,
          421,
          422,
          423,
          424,
          425,
          426,
          427,
          428,
          429,
          430,
          431,
          432,
          433,
          434,
          435,
          436,
          437,
          438,
          439,
          440,
          441,
          442,
          443,
          444,
          445,
          446,
          447,
          448,
          449,
          450,
          451,
          452,
          453,
          454,
          455,
          456,
          457,
          458,
          459,
          460,
          461,
          462,
          463,
          464,
          465,
          466,
          467,
          468,
          469,
          470,
          471,
          472,
          473,
          474,
          475,
          476,
          477,
          478,
          479,
          480,
          481,
          482,
          483,
          484,
          485,
          486,
          487,
          488,
          489,
          490,
          491,
          492,
          493,
          494,
          495,
          496,
          497,
          498,
          499
         ],
         "y": [
          9.19437829445856,
          9.193561964955714,
          9.187051299855531,
          9.190590306183651,
          9.178835051794916,
          9.178896646232184,
          9.175314276598554,
          9.156460444150605,
          9.162904448034885,
          9.120849937169902,
          9.127610651389627,
          9.091891960679924,
          9.068808296021277,
          9.017058889651173,
          8.990404679159695,
          8.920809941032989,
          8.821837646034147,
          8.755398030108015,
          8.617994088715463,
          8.41328178466147,
          8.14420693430551,
          7.946545033192839,
          7.477915965769924,
          7.075269875120853,
          6.652937545092947,
          6.02615091720285,
          5.217063631988733,
          4.385950907775447,
          3.3130291276388117,
          2.2542217268265667,
          1.2480568169936257,
          0.037798607964504856,
          -1.1501457275759197,
          -2.116349668865866,
          -3.2707244081452407,
          -4.076804783098299,
          -4.984006144186426,
          -5.748406271957228,
          -6.478006170163813,
          -7.129768740327322,
          -7.567856320967482,
          -8.174722756742506,
          -8.565627606014779,
          -8.980857080732894,
          -9.339292996427767,
          -9.648715985080132,
          -9.894682724927232,
          -10.220168580336791,
          -10.375066839758086,
          -10.643344122077874,
          -10.930877806452909,
          -10.965475530509686,
          -11.105007968270824,
          -11.293359590272438,
          -11.431889405330987,
          -11.57013937850303,
          -11.616011160350237,
          -11.75949710481921,
          -11.8046868877446,
          -11.90179390263974,
          -11.951811081211781,
          -12.013088913094432,
          -12.038904499824293,
          -12.113539787134911,
          -12.153412049440579,
          -12.18192932262731,
          -12.180422336177928,
          -12.226685628321668,
          -12.235451342802346,
          -12.258589506208489,
          -12.279364400062525,
          -12.31172570594445,
          -12.327935298814443,
          -12.32984885330391,
          -12.333127735170796,
          -12.343257823110388,
          -12.351975928667258,
          -12.355015682389999,
          -12.342627041634143,
          -12.35884302027332,
          -12.36911751802441,
          -12.364460124252838,
          -12.369177335218318,
          -12.380793037999277,
          -12.375790200639482,
          -12.390197842651844,
          -12.383342944688058,
          -12.387003818109374,
          -12.373346735784498,
          -12.390234091355998,
          -12.378461843260801,
          -12.392370045883823,
          -12.387621686062149,
          -12.395518666993377,
          -12.390684969932682,
          -12.391847282822704,
          -12.385765465615316,
          -12.396109374215746,
          -12.386691573037087,
          -12.387840938049235,
          -12.391850716178102,
          -12.392342105021562,
          -12.399326028785758,
          -12.386565360039954,
          -12.392845467063553,
          -12.396836522862536,
          -12.394801629761432,
          -12.391407958152236,
          -12.391865334199249,
          -12.397827102433997,
          -12.397634350544656,
          -12.399974732750527,
          -12.395515507770474,
          -12.388206003719997,
          -12.397690838297901,
          -12.397366382170365,
          -12.395706405028502,
          -12.392596198779852,
          -12.39472145033537,
          -12.397983911039056,
          -12.397074223632638,
          -12.392528225406009,
          -12.397784818055603,
          -12.395023750311163,
          -12.400017612988625,
          -12.39474944357546,
          -12.39731825163128,
          -12.39716265377144,
          -12.400123287054605,
          -12.396933423964802,
          -12.395639537910993,
          -12.397352574282241,
          -12.393179067044509,
          -12.400026704854579,
          -12.400049886369645,
          -12.398202722327941,
          -12.397364787915167,
          -12.39836455366031,
          -12.396855294392026,
          -12.399984483528431,
          -12.399997608601163,
          -12.3979073904666,
          -12.400016677456398,
          -12.399995763482515,
          -12.400026655622788,
          -12.399979222679217,
          -12.39427434139545,
          -12.399996022181616,
          -12.400029283712538,
          -12.396831785714316,
          -12.397352078693931,
          -12.400002281910613,
          -12.399995328020939,
          -12.392504669737074,
          -12.400001922756555,
          -12.396885505257007,
          -12.399966423996077,
          -12.397266922074035,
          -12.397366347992918,
          -12.400008675990202,
          -12.396866169282482,
          -12.399995371691007,
          -12.39998004275794,
          -12.398179875240947,
          -12.400001574439624,
          -12.399994046308434,
          -12.39470453731467,
          -12.396812813819269,
          -12.400013383418099,
          -12.399974442818667,
          -12.40001198697828,
          -12.400001990299872,
          -12.393058192973498,
          -12.39998387476946,
          -12.394061536161693,
          -12.397873121351738,
          -12.39810161293645,
          -12.399995692429753,
          -12.39999381992951,
          -12.399978890189134,
          -12.396729032453418,
          -12.397219480439178,
          -12.399994655349287,
          -12.396880321307272,
          -12.3999919805687,
          -12.400019083777899,
          -12.400004769760232,
          -12.393550168962582,
          -12.396560667853063,
          -12.400001963861403,
          -12.398289247725588,
          -12.399983818650895,
          -12.399998345167168,
          -12.3964970676488,
          -12.40002862315624,
          -12.400006779375735,
          -12.399986659815923,
          -12.399991760932862,
          -12.399990179819747,
          -12.39847399525339,
          -12.399996723420825,
          -12.39999817322748,
          -12.396831078654373,
          -12.39999637048204,
          -12.400000682068333,
          -12.400005258296446,
          -12.400002915911328,
          -12.399999008620929,
          -12.397329931682673,
          -12.399998580154046,
          -12.39999247545325,
          -12.400001132792655,
          -12.399994018590638,
          -12.395949475895623,
          -12.399998291563703,
          -12.396426263517204,
          -12.39999284142479,
          -12.399992214524442,
          -12.400006720012199,
          -12.400004306769803,
          -12.399999990098069,
          -12.397243002093104,
          -12.399998665838572,
          -12.396246083502508,
          -12.396306708707028,
          -12.396411898914069,
          -12.396269229300467,
          -12.397096027857037,
          -12.400008849398972,
          -12.398606541691057,
          -12.399997600130208,
          -12.400001870029653,
          -12.399985072722929,
          -12.399999133487935,
          -12.400000788778474,
          -12.398542765712161,
          -12.40000933192681,
          -12.399996955146518,
          -12.399990204323645,
          -12.399994797095607,
          -12.396773497799522,
          -12.399045251082379,
          -12.400006833622756,
          -12.400001566351097,
          -12.400001019340275,
          -12.394010977754078,
          -12.399982335721814,
          -12.400006756663249,
          -12.400003870298066,
          -12.400002431000757,
          -12.399999589804978,
          -12.399990406321711,
          -12.39999468392319,
          -12.400004149795334,
          -12.39999897793011,
          -12.40000266648627,
          -12.396257012437898,
          -12.396729575964137,
          -12.396769099449637,
          -12.399999384796441,
          -12.399993715812052,
          -12.396927605073147,
          -12.400010457041853,
          -12.400002267910168,
          -12.400000671034656,
          -12.399996785946136,
          -12.400010022008093,
          -12.399984865852428,
          -12.40001161763417,
          -12.395866474832442,
          -12.396016102454125,
          -12.396762996071466,
          -12.39999049909001,
          -12.399996069852582,
          -12.400012207037589,
          -12.395860469246898,
          -12.398688362483849,
          -12.39874222709859,
          -12.399989981895999,
          -12.399992095738828,
          -12.400010079633693,
          -12.39677221746844,
          -12.399993850774342,
          -12.39998469883081,
          -12.400016944046408,
          -12.399987826508617,
          -12.395545270879419,
          -12.399996218409518,
          -12.395446948046912,
          -12.394832503303215,
          -12.40000124214137,
          -12.39999176767545,
          -12.399973879028053,
          -12.396856446929467,
          -12.400021604806485,
          -12.400011560914143,
          -12.399980311921567,
          -12.39999509270722,
          -12.39999896077854,
          -12.399991517154485,
          -12.399992623543634,
          -12.400011264333108,
          -12.39999854374668,
          -12.39999750830034,
          -12.400005331606312,
          -12.399991232060001,
          -12.397960179521828,
          -12.399991587273377,
          -12.400004555642136,
          -12.400003188771663,
          -12.39999996740653,
          -12.399997307419296,
          -12.399992933700476,
          -12.400001268181184,
          -12.399992432723957,
          -12.39999897836562,
          -12.400000252456154,
          -12.400004584042335,
          -12.400002096178781,
          -12.400003270056501,
          -12.400003819746804,
          -12.399998600730514,
          -12.395274340226678,
          -12.400009368157923,
          -12.399992531830922,
          -12.399992220515404,
          -12.39679693260555,
          -12.39999755914029,
          -12.400008434185384,
          -12.400002562854523,
          -12.399991145367453,
          -12.400002176441857,
          -12.399997420278206,
          -12.39999831773827,
          -12.39999801328014,
          -12.39999923004588,
          -12.396983025345072,
          -12.398715671433688,
          -12.399999020595656,
          -12.399994786037366,
          -12.396879072413881,
          -12.39999607922543,
          -12.40000646586846,
          -12.397922246299899,
          -12.399985757886839,
          -12.40000049135209,
          -12.399999070990118,
          -12.400004017686639,
          -12.400008117509321,
          -12.40000034903659,
          -12.400001212045295,
          -12.400004875874952,
          -12.400002571681327,
          -12.39999951597198,
          -12.400001504809918,
          -12.399999425436087,
          -12.400000937831592,
          -12.397019885069428,
          -12.40000413773578,
          -12.39999681024229,
          -12.400002414537994,
          -12.39999841797214,
          -12.400000140408167,
          -12.400001066428027,
          -12.400002339640151,
          -12.400000774353048,
          -12.400001402750387,
          -12.399999372480828,
          -12.400003077788924,
          -12.399999857508975,
          -12.396934785876471,
          -12.399990577595046,
          -12.39999789364933,
          -12.399996375670787,
          -12.400000008738939,
          -12.40000029093694,
          -12.39999851288025,
          -12.399998634773988,
          -12.400000247298827,
          -12.400000382033863,
          -12.400000573141723,
          -12.397115140178279,
          -12.400001745256935,
          -12.399997571014698,
          -12.40000172790853,
          -12.400001250704777,
          -12.399998783480443,
          -12.400002431008959,
          -12.400002651438335,
          -12.39999867885067,
          -12.399997338530993,
          -12.400003392521578,
          -12.399999607606146,
          -12.400000479355706,
          -12.400001968337712,
          -12.396801687747393,
          -12.400002972506893,
          -12.400002254229097,
          -12.4000005057585,
          -12.399999984142317,
          -12.399998314439173,
          -12.399998399409668,
          -12.400001615081154,
          -12.400000175738569,
          -12.400001580012306,
          -12.399999100167479,
          -12.40000135725093,
          -12.399999970316019,
          -12.397809691727847,
          -12.397898254090371,
          -12.399993615356072,
          -12.396959185485553,
          -12.400004126370327,
          -12.399996305291138,
          -12.399992486272279,
          -12.397334385431094,
          -12.399993293927148,
          -12.400000180458987,
          -12.400004396511562,
          -12.400000105566054,
          -12.397128645709032,
          -12.400006670531836,
          -12.400001912424663,
          -12.39510804360868,
          -12.399997283394464,
          -12.399999311281402,
          -12.400001848985212,
          -12.399998487355429,
          -12.399995311000282,
          -12.399999361411648,
          -12.399998878858375,
          -12.399998664172541,
          -12.398355986845633,
          -12.400001551747577,
          -12.400000160469324,
          -12.39999656513115,
          -12.396994232519319,
          -12.399996442179287,
          -12.400001278026691,
          -12.399990590442258,
          -12.40000365715417,
          -12.399997662795663,
          -12.400000433577377,
          -12.399995166617513,
          -12.400003827537589,
          -12.400000646660056,
          -12.399997526989734,
          -12.400000443378735,
          -12.399999195022719,
          -12.393781290126407,
          -12.400001697609502,
          -12.399999533728398,
          -12.400000423777001,
          -12.386391179456714,
          -12.40000255732598,
          -12.399997875531097,
          -12.400000447408262,
          -12.399999094482315,
          -12.400000362931529,
          -12.40000121322919,
          -12.397095894574832,
          -12.400004165588113,
          -12.40000067623945,
          -12.400000252078268,
          -12.400001593759661,
          -12.399997899648726,
          -12.395216271012172,
          -12.399991318999653,
          -12.4000024134831,
          -12.399986063921935,
          -12.3999973071336,
          -12.399989018214697,
          -12.40000307430679,
          -12.399996861933538,
          -12.399996358767341,
          -12.399998454152577,
          -12.400000630476825,
          -12.399998856915381,
          -12.400000995312425,
          -12.399997175675232,
          -12.399996552573588,
          -12.400000798760486,
          -12.400001396961674,
          -12.400003098972025,
          -12.400002114727277,
          -12.39999834094686,
          -12.399998986743999,
          -12.400000782034832,
          -12.399996119622774,
          -12.400001219129743,
          -12.399999799162725,
          -12.400001450160282,
          -12.399999457007793,
          -12.400000300805594,
          -12.400000158364959,
          -12.400000504869157,
          -12.399998887770469,
          -12.399999846334872,
          -12.399999383503555,
          -12.399999712044725
         ]
        },
        {
         "name": "MSR",
         "type": "scatter",
         "x": [
          0,
          1,
          2,
          3,
          4,
          5,
          6,
          7,
          8,
          9,
          10,
          11,
          12,
          13,
          14,
          15,
          16,
          17,
          18,
          19,
          20,
          21,
          22,
          23,
          24,
          25,
          26,
          27,
          28,
          29,
          30,
          31,
          32,
          33,
          34,
          35,
          36,
          37,
          38,
          39,
          40,
          41,
          42,
          43,
          44,
          45,
          46,
          47,
          48,
          49,
          50,
          51,
          52,
          53,
          54,
          55,
          56,
          57,
          58,
          59,
          60,
          61,
          62,
          63,
          64,
          65,
          66,
          67,
          68,
          69,
          70,
          71,
          72,
          73,
          74,
          75,
          76,
          77,
          78,
          79,
          80,
          81,
          82,
          83,
          84,
          85,
          86,
          87,
          88,
          89,
          90,
          91,
          92,
          93,
          94,
          95,
          96,
          97,
          98,
          99,
          100,
          101,
          102,
          103,
          104,
          105,
          106,
          107,
          108,
          109,
          110,
          111,
          112,
          113,
          114,
          115,
          116,
          117,
          118,
          119,
          120,
          121,
          122,
          123,
          124,
          125,
          126,
          127,
          128,
          129,
          130,
          131,
          132,
          133,
          134,
          135,
          136,
          137,
          138,
          139,
          140,
          141,
          142,
          143,
          144,
          145,
          146,
          147,
          148,
          149,
          150,
          151,
          152,
          153,
          154,
          155,
          156,
          157,
          158,
          159,
          160,
          161,
          162,
          163,
          164,
          165,
          166,
          167,
          168,
          169,
          170,
          171,
          172,
          173,
          174,
          175,
          176,
          177,
          178,
          179,
          180,
          181,
          182,
          183,
          184,
          185,
          186,
          187,
          188,
          189,
          190,
          191,
          192,
          193,
          194,
          195,
          196,
          197,
          198,
          199,
          200,
          201,
          202,
          203,
          204,
          205,
          206,
          207,
          208,
          209,
          210,
          211,
          212,
          213,
          214,
          215,
          216,
          217,
          218,
          219,
          220,
          221,
          222,
          223,
          224,
          225,
          226,
          227,
          228,
          229,
          230,
          231,
          232,
          233,
          234,
          235,
          236,
          237,
          238,
          239,
          240,
          241,
          242,
          243,
          244,
          245,
          246,
          247,
          248,
          249,
          250,
          251,
          252,
          253,
          254,
          255,
          256,
          257,
          258,
          259,
          260,
          261,
          262,
          263,
          264,
          265,
          266,
          267,
          268,
          269,
          270,
          271,
          272,
          273,
          274,
          275,
          276,
          277,
          278,
          279,
          280,
          281,
          282,
          283,
          284,
          285,
          286,
          287,
          288,
          289,
          290,
          291,
          292,
          293,
          294,
          295,
          296,
          297,
          298,
          299,
          300,
          301,
          302,
          303,
          304,
          305,
          306,
          307,
          308,
          309,
          310,
          311,
          312,
          313,
          314,
          315,
          316,
          317,
          318,
          319,
          320,
          321,
          322,
          323,
          324,
          325,
          326,
          327,
          328,
          329,
          330,
          331,
          332,
          333,
          334,
          335,
          336,
          337,
          338,
          339,
          340,
          341,
          342,
          343,
          344,
          345,
          346,
          347,
          348,
          349,
          350,
          351,
          352,
          353,
          354,
          355,
          356,
          357,
          358,
          359,
          360,
          361,
          362,
          363,
          364,
          365,
          366,
          367,
          368,
          369,
          370,
          371,
          372,
          373,
          374,
          375,
          376,
          377,
          378,
          379,
          380,
          381,
          382,
          383,
          384,
          385,
          386,
          387,
          388,
          389,
          390,
          391,
          392,
          393,
          394,
          395,
          396,
          397,
          398,
          399,
          400,
          401,
          402,
          403,
          404,
          405,
          406,
          407,
          408,
          409,
          410,
          411,
          412,
          413,
          414,
          415,
          416,
          417,
          418,
          419,
          420,
          421,
          422,
          423,
          424,
          425,
          426,
          427,
          428,
          429,
          430,
          431,
          432,
          433,
          434,
          435,
          436,
          437,
          438,
          439,
          440,
          441,
          442,
          443,
          444,
          445,
          446,
          447,
          448,
          449,
          450,
          451,
          452,
          453,
          454,
          455,
          456,
          457,
          458,
          459,
          460,
          461,
          462,
          463,
          464,
          465,
          466,
          467,
          468,
          469,
          470,
          471,
          472,
          473,
          474,
          475,
          476,
          477,
          478,
          479,
          480,
          481,
          482,
          483,
          484,
          485,
          486,
          487,
          488,
          489,
          490,
          491,
          492,
          493,
          494,
          495,
          496,
          497,
          498,
          499
         ],
         "y": [
          -5.067454793372368,
          -5.589707829973863,
          -6.506235395279645,
          -7.44219678952787,
          -8.117147239430512,
          -8.705206146531731,
          -9.031692225391515,
          -9.492343180704724,
          -9.650888182410803,
          -9.951486144753298,
          -10.323947354081929,
          -10.50838209419418,
          -10.58864669566681,
          -10.946702886549197,
          -10.996245778069172,
          -11.242766421595164,
          -11.252890073363584,
          -11.487193895238248,
          -11.556782957230983,
          -11.769947231083325,
          -11.814325090107719,
          -11.85194493047003,
          -11.905127004150737,
          -11.980243365530265,
          -12.012574360227672,
          -12.042354248822761,
          -12.088281837817837,
          -12.136211730834969,
          -12.160110871412014,
          -12.232141378705938,
          -12.248450127183409,
          -12.239307188265913,
          -12.236310392153703,
          -12.27245181177913,
          -12.270085870286984,
          -12.299142057486998,
          -12.35218733748729,
          -12.33289597891536,
          -12.34031813725787,
          -12.332667933396845,
          -12.335192857904945,
          -12.352102887478955,
          -12.352085430917155,
          -12.356473543634616,
          -12.36195888002217,
          -12.352424281437601,
          -12.371548691326941,
          -12.368443598572286,
          -12.373463951525599,
          -12.380514424531459,
          -12.380642283673133,
          -12.390357173104372,
          -12.38090735942752,
          -12.39521051065272,
          -12.383270049485132,
          -12.38536866543701,
          -12.39508424901622,
          -12.388042952079017,
          -12.390294237109488,
          -12.385601371936291,
          -12.39519146007713,
          -12.395146440877978,
          -12.39051095007964,
          -12.390400813536116,
          -12.390403031861652,
          -12.385735047257228,
          -12.390567508459098,
          -12.390126415659058,
          -12.390270744394867,
          -12.395129157553523,
          -12.390392090416727,
          -12.39766658992881,
          -12.392947258228835,
          -12.395189633482936,
          -12.395119947774063,
          -12.392795434368502,
          -12.397704275169854,
          -12.395104837502961,
          -12.394920265682671,
          -12.392815290722423,
          -12.395249319975381,
          -12.395253696671286,
          -12.397614569845233,
          -12.393280207226724,
          -12.397331739207273,
          -12.392959341664662,
          -12.400023474933496,
          -12.397387421333086,
          -12.392332294874189,
          -12.395167473739033,
          -12.399991382892006,
          -12.399982239076872,
          -12.397684094795808,
          -12.397744227980457,
          -12.397792168596856,
          -12.3956935469069,
          -12.39998473583513,
          -12.39995694329909,
          -12.400001027642123,
          -12.399995147557762,
          -12.39459530648307,
          -12.400011569260576,
          -12.397326868101542,
          -12.395161533893935,
          -12.397422686874835,
          -12.39741957087796,
          -12.399983178516568,
          -12.400005218277096,
          -12.399992046338507,
          -12.400021787754847,
          -12.397522445351006,
          -12.395241527137172,
          -12.397671297822667,
          -12.397578832975453,
          -12.397674213821457,
          -12.397596454093518,
          -12.395207636141063,
          -12.40001264618926,
          -12.399991457329856,
          -12.397644145665806,
          -12.39774349963202,
          -12.399989117799239,
          -12.40000671873824,
          -12.397411181143802,
          -12.39751964530228,
          -12.400004439623574,
          -12.397568670270005,
          -12.39511248309481,
          -12.400007657755143,
          -12.395084597923434,
          -12.399998484526542,
          -12.392807407600676,
          -12.39741120101344,
          -12.400003157369424,
          -12.397809170278528,
          -12.397479286672828,
          -12.399998803727726,
          -12.397813878646897,
          -12.4000118020274,
          -12.394933817175154,
          -12.400012081875124,
          -12.39999887005667,
          -12.400015469462232,
          -12.399986759332183,
          -12.399996993686953,
          -12.400007942246711,
          -12.399998184462461,
          -12.400007051446412,
          -12.399999593261033,
          -12.397470109695766,
          -12.399998052644868,
          -12.39777084891794,
          -12.399997903793519,
          -12.400001592883086,
          -12.397526619776231,
          -12.399999120049852,
          -12.39999958185251,
          -12.40001044315534,
          -12.400005856219233,
          -12.399998241457748,
          -12.399997337087882,
          -12.400002598490435,
          -12.399997440527484,
          -12.400001611287411,
          -12.400000572515312,
          -12.400001766887653,
          -12.40000001174531,
          -12.399998825753805,
          -12.400000385559563,
          -12.400002405617782,
          -12.397482096969163,
          -12.400002796133506,
          -12.399999355259057,
          -12.399998047534053,
          -12.400006052875655,
          -12.400003411867658,
          -12.400001415998858,
          -12.40000355350351,
          -12.400000507449114,
          -12.40000018497158,
          -12.399999975259158,
          -12.400002092408622,
          -12.399998078437857,
          -12.399998238412733,
          -12.400002918584455,
          -12.400001227827106,
          -12.400001068478481,
          -12.397671513716622,
          -12.399997157085378,
          -12.400004901606055,
          -12.397421897387622,
          -12.397516701789664,
          -12.399996193304817,
          -12.399999871981771,
          -12.399999637366658,
          -12.400003761733839,
          -12.400000682335431,
          -12.399998646228708,
          -12.400000105776535,
          -12.399999233383042,
          -12.399998527011917,
          -12.39999839654533,
          -12.399999209208573,
          -12.399998739359813,
          -12.400000157358289,
          -12.397756935704255,
          -12.399996042293337,
          -12.397605910575157,
          -12.399997956778034,
          -12.399998659599671,
          -12.39769950383275,
          -12.399998640340307,
          -12.400002273658865,
          -12.399998635632643,
          -12.399998686324599,
          -12.395120378151635,
          -12.39999682283534,
          -12.400012363280497,
          -12.397417552549106,
          -12.39998392539564,
          -12.399995862890583,
          -12.400005572336323,
          -12.400006120668806,
          -12.40000619837211,
          -12.400001971304636,
          -12.399997779843524,
          -12.399993772334417,
          -12.400000936551121,
          -12.400000031446693,
          -12.400000326702454,
          -12.392208975265229,
          -12.395187171097316,
          -12.39997466179902,
          -12.39535116801704,
          -12.400011063351199,
          -12.400007613060637,
          -12.399993144403762,
          -12.40000164000928,
          -12.397398467550886,
          -12.39516218736069,
          -12.397513608101779,
          -12.39999516843287,
          -12.397598763512557,
          -12.397463786186597,
          -12.397597091195639,
          -12.400001841095145,
          -12.397667060318563,
          -12.399992871602413,
          -12.400005476353156,
          -12.400006928654546,
          -12.399997707294297,
          -12.39746979864147,
          -12.399990094986855,
          -12.399998347432334,
          -12.399997528612131,
          -12.400000035651352,
          -12.39765934276257,
          -12.400000803839902,
          -12.39999999867739,
          -12.397514890218538,
          -12.39746236361306,
          -12.39999753100073,
          -12.40000320065538,
          -12.400003000338954,
          -12.399996004254014,
          -12.399996269010273,
          -12.400003253836424,
          -12.399999049877728,
          -12.400002871824661,
          -12.399999892375073,
          -12.39999689268539,
          -12.399999145206522,
          -12.400000464742515,
          -12.40000002368621,
          -12.400001097942894,
          -12.39999902960768,
          -12.400000017556549,
          -12.400001274360186,
          -12.395268812871995,
          -12.399999682216892,
          -12.39999904588258,
          -12.400000892611942,
          -12.399999720844338,
          -12.400001451190162,
          -12.399999451519239,
          -12.399999725135926,
          -12.39759764959648,
          -12.400000955649816,
          -12.399997335196302,
          -12.400000562470678,
          -12.397692409934347,
          -12.400003641358692,
          -12.397410163606366,
          -12.40000051241176,
          -12.399998361735857,
          -12.400000626835109,
          -12.40000139210865,
          -12.400002130102894,
          -12.399999416140025,
          -12.397763036961225,
          -12.400001195630363,
          -12.400001186075766,
          -12.397756178665105,
          -12.399999312507143,
          -12.399999119867605,
          -12.40000088527089,
          -12.400000030160129,
          -12.39999906234546,
          -12.399999223210482,
          -12.395171718370399,
          -12.39999719716156,
          -12.400006372323329,
          -12.399998969133762,
          -12.400005656065643,
          -12.400004222169835,
          -12.397381323069006,
          -12.400005879561828,
          -12.399997465764347,
          -12.39779791933495,
          -12.400002264709958,
          -12.400000112211673,
          -12.400004006643975,
          -12.399994970740215,
          -12.399999558052482,
          -12.40000040796253,
          -12.3999994180415,
          -12.399999547960942,
          -12.399999773717669,
          -12.399997728430048,
          -12.399998520292288,
          -12.399999739021665,
          -12.399999275497361,
          -12.400002170022761,
          -12.400000699257932,
          -12.400000861041859,
          -12.397350908855339,
          -12.399997941946635,
          -12.399996455837856,
          -12.400001183231845,
          -12.399996374801528,
          -12.400000950217827,
          -12.397733113924835,
          -12.399999270140057,
          -12.400003095705683,
          -12.399997723589314,
          -12.399998815776634,
          -12.40000016259448,
          -12.399999238753594,
          -12.399998346631458,
          -12.400001072644503,
          -12.399999101357832,
          -12.400000774353536,
          -12.400000038801993,
          -12.399998899086235,
          -12.39739370235354,
          -12.399997083110557,
          -12.399999541671281,
          -12.399996988575575,
          -12.397787246915039,
          -12.400001689178024,
          -12.400000077735937,
          -12.400002620576224,
          -12.400002174612318,
          -12.3999949479779,
          -12.399999944672457,
          -12.399999519455848,
          -12.397357047463197,
          -12.400005444938909,
          -12.399997096095206,
          -12.400001278940746,
          -12.3974596666299,
          -12.399998136413604,
          -12.400001632998023,
          -12.397497882103007,
          -12.397580830703093,
          -12.40000118773267,
          -12.399999752133892,
          -12.399997807910683,
          -12.397700869395601,
          -12.397799517854141,
          -12.399999512896528,
          -12.400000394741696,
          -12.400002091632475,
          -12.400005623858812,
          -12.400002027790304,
          -12.399999536901053,
          -12.399996757920116,
          -12.400001600774681,
          -12.400000039171474,
          -12.399999781747065,
          -12.399999840274463,
          -12.397405618861548,
          -12.399999143508277,
          -12.39743879116547,
          -12.400002840150924,
          -12.399995398316303,
          -12.400000723168388,
          -12.399999274479637,
          -12.39999849089167,
          -12.399996794626096,
          -12.399998407415534,
          -12.3999980588955,
          -12.400001141763783,
          -12.400001163419265,
          -12.399999696078641,
          -12.400000520457953,
          -12.399999281695262,
          -12.400000358584654,
          -12.399998815452093,
          -12.399999913256561,
          -12.395128323764576,
          -12.39999931275353,
          -12.400001199754563,
          -12.400003696366575,
          -12.400004327242796,
          -12.39770629172325,
          -12.399998805367998,
          -12.400000626861127,
          -12.400000580942942,
          -12.399999575849353,
          -12.400001394767886,
          -12.400000835354948,
          -12.397504356499546,
          -12.400003076365843,
          -12.399998893680761,
          -12.400001026984848,
          -12.399997825087416,
          -12.400005901674083,
          -12.399997803517872,
          -12.400002521381124,
          -12.399999113689383,
          -12.400000281202095,
          -12.399999038247289,
          -12.400000374107485,
          -12.399999995206288,
          -12.400000225893505,
          -12.400000446495426,
          -12.399998370197787,
          -12.399999870918354,
          -12.399999718598835,
          -12.399999884224904,
          -12.400001065221426,
          -12.400000018628825,
          -12.399999416600906,
          -12.399999462486841,
          -12.400000026898526,
          -12.40000038154441,
          -12.400000188212683,
          -12.400000335616605,
          -12.399999977988841,
          -12.400000040375241,
          -12.40000020841113,
          -12.40000004730204,
          -12.399999896393489,
          -12.40000000442277,
          -12.399999989280298,
          -12.397747108941516,
          -12.399999440409726,
          -12.400001516323545,
          -12.400002758941543,
          -12.39999744482993,
          -12.400000144426565,
          -12.40000026250607,
          -12.3999993433479,
          -12.399999108514844,
          -12.399999508886829,
          -12.400000557422793,
          -12.39999915106139,
          -12.39753088976692,
          -12.400002605006984,
          -12.399999702008074,
          -12.397643543051613,
          -12.399995810528004,
          -12.400003621221646,
          -12.399999111519792,
          -12.400001217166158,
          -12.399998672412831,
          -12.400000240738537,
          -12.399999446226875,
          -12.400000624737416,
          -12.397467260487156,
          -12.399998865876679,
          -12.400000756628314,
          -12.399999655367989,
          -12.399999679677979,
          -12.400002207762642,
          -12.399999094011276,
          -12.400000212675717,
          -12.399999843728185,
          -12.400001167279584,
          -12.399999654907157,
          -12.400000518643374,
          -12.399998729850427,
          -12.399999531048111,
          -12.399999283870027,
          -12.400000079486526,
          -12.40000017814221,
          -12.400000077879163,
          -12.399999940172739,
          -12.400000273855468
         ]
        }
       ],
       "layout": {
        "shapes": [
         {
          "line": {
           "width": 1
          },
          "opacity": 1,
          "type": "line",
          "x0": 0,
          "x1": 1,
          "xref": "x domain",
          "y0": -12.399999999999999,
          "y1": -12.399999999999999,
          "yref": "y"
         }
        ],
        "template": {
         "data": {
          "bar": [
           {
            "error_x": {
             "color": "rgb(36,36,36)"
            },
            "error_y": {
             "color": "rgb(36,36,36)"
            },
            "marker": {
             "line": {
              "color": "white",
              "width": 0.5
             },
             "pattern": {
              "fillmode": "overlay",
              "size": 10,
              "solidity": 0.2
             }
            },
            "type": "bar"
           }
          ],
          "barpolar": [
           {
            "marker": {
             "line": {
              "color": "white",
              "width": 0.5
             },
             "pattern": {
              "fillmode": "overlay",
              "size": 10,
              "solidity": 0.2
             }
            },
            "type": "barpolar"
           }
          ],
          "carpet": [
           {
            "aaxis": {
             "endlinecolor": "rgb(36,36,36)",
             "gridcolor": "white",
             "linecolor": "white",
             "minorgridcolor": "white",
             "startlinecolor": "rgb(36,36,36)"
            },
            "baxis": {
             "endlinecolor": "rgb(36,36,36)",
             "gridcolor": "white",
             "linecolor": "white",
             "minorgridcolor": "white",
             "startlinecolor": "rgb(36,36,36)"
            },
            "type": "carpet"
           }
          ],
          "choropleth": [
           {
            "colorbar": {
             "outlinewidth": 1,
             "tickcolor": "rgb(36,36,36)",
             "ticks": "outside"
            },
            "type": "choropleth"
           }
          ],
          "contour": [
           {
            "colorbar": {
             "outlinewidth": 1,
             "tickcolor": "rgb(36,36,36)",
             "ticks": "outside"
            },
            "colorscale": [
             [
              0,
              "#440154"
             ],
             [
              0.1111111111111111,
              "#482878"
             ],
             [
              0.2222222222222222,
              "#3e4989"
             ],
             [
              0.3333333333333333,
              "#31688e"
             ],
             [
              0.4444444444444444,
              "#26828e"
             ],
             [
              0.5555555555555556,
              "#1f9e89"
             ],
             [
              0.6666666666666666,
              "#35b779"
             ],
             [
              0.7777777777777778,
              "#6ece58"
             ],
             [
              0.8888888888888888,
              "#b5de2b"
             ],
             [
              1,
              "#fde725"
             ]
            ],
            "type": "contour"
           }
          ],
          "contourcarpet": [
           {
            "colorbar": {
             "outlinewidth": 1,
             "tickcolor": "rgb(36,36,36)",
             "ticks": "outside"
            },
            "type": "contourcarpet"
           }
          ],
          "heatmap": [
           {
            "colorbar": {
             "outlinewidth": 1,
             "tickcolor": "rgb(36,36,36)",
             "ticks": "outside"
            },
            "colorscale": [
             [
              0,
              "#440154"
             ],
             [
              0.1111111111111111,
              "#482878"
             ],
             [
              0.2222222222222222,
              "#3e4989"
             ],
             [
              0.3333333333333333,
              "#31688e"
             ],
             [
              0.4444444444444444,
              "#26828e"
             ],
             [
              0.5555555555555556,
              "#1f9e89"
             ],
             [
              0.6666666666666666,
              "#35b779"
             ],
             [
              0.7777777777777778,
              "#6ece58"
             ],
             [
              0.8888888888888888,
              "#b5de2b"
             ],
             [
              1,
              "#fde725"
             ]
            ],
            "type": "heatmap"
           }
          ],
          "heatmapgl": [
           {
            "colorbar": {
             "outlinewidth": 1,
             "tickcolor": "rgb(36,36,36)",
             "ticks": "outside"
            },
            "colorscale": [
             [
              0,
              "#440154"
             ],
             [
              0.1111111111111111,
              "#482878"
             ],
             [
              0.2222222222222222,
              "#3e4989"
             ],
             [
              0.3333333333333333,
              "#31688e"
             ],
             [
              0.4444444444444444,
              "#26828e"
             ],
             [
              0.5555555555555556,
              "#1f9e89"
             ],
             [
              0.6666666666666666,
              "#35b779"
             ],
             [
              0.7777777777777778,
              "#6ece58"
             ],
             [
              0.8888888888888888,
              "#b5de2b"
             ],
             [
              1,
              "#fde725"
             ]
            ],
            "type": "heatmapgl"
           }
          ],
          "histogram": [
           {
            "marker": {
             "line": {
              "color": "white",
              "width": 0.6
             }
            },
            "type": "histogram"
           }
          ],
          "histogram2d": [
           {
            "colorbar": {
             "outlinewidth": 1,
             "tickcolor": "rgb(36,36,36)",
             "ticks": "outside"
            },
            "colorscale": [
             [
              0,
              "#440154"
             ],
             [
              0.1111111111111111,
              "#482878"
             ],
             [
              0.2222222222222222,
              "#3e4989"
             ],
             [
              0.3333333333333333,
              "#31688e"
             ],
             [
              0.4444444444444444,
              "#26828e"
             ],
             [
              0.5555555555555556,
              "#1f9e89"
             ],
             [
              0.6666666666666666,
              "#35b779"
             ],
             [
              0.7777777777777778,
              "#6ece58"
             ],
             [
              0.8888888888888888,
              "#b5de2b"
             ],
             [
              1,
              "#fde725"
             ]
            ],
            "type": "histogram2d"
           }
          ],
          "histogram2dcontour": [
           {
            "colorbar": {
             "outlinewidth": 1,
             "tickcolor": "rgb(36,36,36)",
             "ticks": "outside"
            },
            "colorscale": [
             [
              0,
              "#440154"
             ],
             [
              0.1111111111111111,
              "#482878"
             ],
             [
              0.2222222222222222,
              "#3e4989"
             ],
             [
              0.3333333333333333,
              "#31688e"
             ],
             [
              0.4444444444444444,
              "#26828e"
             ],
             [
              0.5555555555555556,
              "#1f9e89"
             ],
             [
              0.6666666666666666,
              "#35b779"
             ],
             [
              0.7777777777777778,
              "#6ece58"
             ],
             [
              0.8888888888888888,
              "#b5de2b"
             ],
             [
              1,
              "#fde725"
             ]
            ],
            "type": "histogram2dcontour"
           }
          ],
          "mesh3d": [
           {
            "colorbar": {
             "outlinewidth": 1,
             "tickcolor": "rgb(36,36,36)",
             "ticks": "outside"
            },
            "type": "mesh3d"
           }
          ],
          "parcoords": [
           {
            "line": {
             "colorbar": {
              "outlinewidth": 1,
              "tickcolor": "rgb(36,36,36)",
              "ticks": "outside"
             }
            },
            "type": "parcoords"
           }
          ],
          "pie": [
           {
            "automargin": true,
            "type": "pie"
           }
          ],
          "scatter": [
           {
            "marker": {
             "colorbar": {
              "outlinewidth": 1,
              "tickcolor": "rgb(36,36,36)",
              "ticks": "outside"
             }
            },
            "type": "scatter"
           }
          ],
          "scatter3d": [
           {
            "line": {
             "colorbar": {
              "outlinewidth": 1,
              "tickcolor": "rgb(36,36,36)",
              "ticks": "outside"
             }
            },
            "marker": {
             "colorbar": {
              "outlinewidth": 1,
              "tickcolor": "rgb(36,36,36)",
              "ticks": "outside"
             }
            },
            "type": "scatter3d"
           }
          ],
          "scattercarpet": [
           {
            "marker": {
             "colorbar": {
              "outlinewidth": 1,
              "tickcolor": "rgb(36,36,36)",
              "ticks": "outside"
             }
            },
            "type": "scattercarpet"
           }
          ],
          "scattergeo": [
           {
            "marker": {
             "colorbar": {
              "outlinewidth": 1,
              "tickcolor": "rgb(36,36,36)",
              "ticks": "outside"
             }
            },
            "type": "scattergeo"
           }
          ],
          "scattergl": [
           {
            "marker": {
             "colorbar": {
              "outlinewidth": 1,
              "tickcolor": "rgb(36,36,36)",
              "ticks": "outside"
             }
            },
            "type": "scattergl"
           }
          ],
          "scattermapbox": [
           {
            "marker": {
             "colorbar": {
              "outlinewidth": 1,
              "tickcolor": "rgb(36,36,36)",
              "ticks": "outside"
             }
            },
            "type": "scattermapbox"
           }
          ],
          "scatterpolar": [
           {
            "marker": {
             "colorbar": {
              "outlinewidth": 1,
              "tickcolor": "rgb(36,36,36)",
              "ticks": "outside"
             }
            },
            "type": "scatterpolar"
           }
          ],
          "scatterpolargl": [
           {
            "marker": {
             "colorbar": {
              "outlinewidth": 1,
              "tickcolor": "rgb(36,36,36)",
              "ticks": "outside"
             }
            },
            "type": "scatterpolargl"
           }
          ],
          "scatterternary": [
           {
            "marker": {
             "colorbar": {
              "outlinewidth": 1,
              "tickcolor": "rgb(36,36,36)",
              "ticks": "outside"
             }
            },
            "type": "scatterternary"
           }
          ],
          "surface": [
           {
            "colorbar": {
             "outlinewidth": 1,
             "tickcolor": "rgb(36,36,36)",
             "ticks": "outside"
            },
            "colorscale": [
             [
              0,
              "#440154"
             ],
             [
              0.1111111111111111,
              "#482878"
             ],
             [
              0.2222222222222222,
              "#3e4989"
             ],
             [
              0.3333333333333333,
              "#31688e"
             ],
             [
              0.4444444444444444,
              "#26828e"
             ],
             [
              0.5555555555555556,
              "#1f9e89"
             ],
             [
              0.6666666666666666,
              "#35b779"
             ],
             [
              0.7777777777777778,
              "#6ece58"
             ],
             [
              0.8888888888888888,
              "#b5de2b"
             ],
             [
              1,
              "#fde725"
             ]
            ],
            "type": "surface"
           }
          ],
          "table": [
           {
            "cells": {
             "fill": {
              "color": "rgb(237,237,237)"
             },
             "line": {
              "color": "white"
             }
            },
            "header": {
             "fill": {
              "color": "rgb(217,217,217)"
             },
             "line": {
              "color": "white"
             }
            },
            "type": "table"
           }
          ]
         },
         "layout": {
          "annotationdefaults": {
           "arrowhead": 0,
           "arrowwidth": 1
          },
          "autotypenumbers": "strict",
          "coloraxis": {
           "colorbar": {
            "outlinewidth": 1,
            "tickcolor": "rgb(36,36,36)",
            "ticks": "outside"
           }
          },
          "colorscale": {
           "diverging": [
            [
             0,
             "rgb(103,0,31)"
            ],
            [
             0.1,
             "rgb(178,24,43)"
            ],
            [
             0.2,
             "rgb(214,96,77)"
            ],
            [
             0.3,
             "rgb(244,165,130)"
            ],
            [
             0.4,
             "rgb(253,219,199)"
            ],
            [
             0.5,
             "rgb(247,247,247)"
            ],
            [
             0.6,
             "rgb(209,229,240)"
            ],
            [
             0.7,
             "rgb(146,197,222)"
            ],
            [
             0.8,
             "rgb(67,147,195)"
            ],
            [
             0.9,
             "rgb(33,102,172)"
            ],
            [
             1,
             "rgb(5,48,97)"
            ]
           ],
           "sequential": [
            [
             0,
             "#440154"
            ],
            [
             0.1111111111111111,
             "#482878"
            ],
            [
             0.2222222222222222,
             "#3e4989"
            ],
            [
             0.3333333333333333,
             "#31688e"
            ],
            [
             0.4444444444444444,
             "#26828e"
            ],
            [
             0.5555555555555556,
             "#1f9e89"
            ],
            [
             0.6666666666666666,
             "#35b779"
            ],
            [
             0.7777777777777778,
             "#6ece58"
            ],
            [
             0.8888888888888888,
             "#b5de2b"
            ],
            [
             1,
             "#fde725"
            ]
           ],
           "sequentialminus": [
            [
             0,
             "#440154"
            ],
            [
             0.1111111111111111,
             "#482878"
            ],
            [
             0.2222222222222222,
             "#3e4989"
            ],
            [
             0.3333333333333333,
             "#31688e"
            ],
            [
             0.4444444444444444,
             "#26828e"
            ],
            [
             0.5555555555555556,
             "#1f9e89"
            ],
            [
             0.6666666666666666,
             "#35b779"
            ],
            [
             0.7777777777777778,
             "#6ece58"
            ],
            [
             0.8888888888888888,
             "#b5de2b"
            ],
            [
             1,
             "#fde725"
            ]
           ]
          },
          "colorway": [
           "#1F77B4",
           "#FF7F0E",
           "#2CA02C",
           "#D62728",
           "#9467BD",
           "#8C564B",
           "#E377C2",
           "#7F7F7F",
           "#BCBD22",
           "#17BECF"
          ],
          "font": {
           "color": "rgb(36,36,36)"
          },
          "geo": {
           "bgcolor": "white",
           "lakecolor": "white",
           "landcolor": "white",
           "showlakes": true,
           "showland": true,
           "subunitcolor": "white"
          },
          "hoverlabel": {
           "align": "left"
          },
          "hovermode": "closest",
          "mapbox": {
           "style": "light"
          },
          "paper_bgcolor": "white",
          "plot_bgcolor": "white",
          "polar": {
           "angularaxis": {
            "gridcolor": "rgb(232,232,232)",
            "linecolor": "rgb(36,36,36)",
            "showgrid": false,
            "showline": true,
            "ticks": "outside"
           },
           "bgcolor": "white",
           "radialaxis": {
            "gridcolor": "rgb(232,232,232)",
            "linecolor": "rgb(36,36,36)",
            "showgrid": false,
            "showline": true,
            "ticks": "outside"
           }
          },
          "scene": {
           "xaxis": {
            "backgroundcolor": "white",
            "gridcolor": "rgb(232,232,232)",
            "gridwidth": 2,
            "linecolor": "rgb(36,36,36)",
            "showbackground": true,
            "showgrid": false,
            "showline": true,
            "ticks": "outside",
            "zeroline": false,
            "zerolinecolor": "rgb(36,36,36)"
           },
           "yaxis": {
            "backgroundcolor": "white",
            "gridcolor": "rgb(232,232,232)",
            "gridwidth": 2,
            "linecolor": "rgb(36,36,36)",
            "showbackground": true,
            "showgrid": false,
            "showline": true,
            "ticks": "outside",
            "zeroline": false,
            "zerolinecolor": "rgb(36,36,36)"
           },
           "zaxis": {
            "backgroundcolor": "white",
            "gridcolor": "rgb(232,232,232)",
            "gridwidth": 2,
            "linecolor": "rgb(36,36,36)",
            "showbackground": true,
            "showgrid": false,
            "showline": true,
            "ticks": "outside",
            "zeroline": false,
            "zerolinecolor": "rgb(36,36,36)"
           }
          },
          "shapedefaults": {
           "fillcolor": "black",
           "line": {
            "width": 0
           },
           "opacity": 0.3
          },
          "ternary": {
           "aaxis": {
            "gridcolor": "rgb(232,232,232)",
            "linecolor": "rgb(36,36,36)",
            "showgrid": false,
            "showline": true,
            "ticks": "outside"
           },
           "baxis": {
            "gridcolor": "rgb(232,232,232)",
            "linecolor": "rgb(36,36,36)",
            "showgrid": false,
            "showline": true,
            "ticks": "outside"
           },
           "bgcolor": "white",
           "caxis": {
            "gridcolor": "rgb(232,232,232)",
            "linecolor": "rgb(36,36,36)",
            "showgrid": false,
            "showline": true,
            "ticks": "outside"
           }
          },
          "title": {
           "x": 0.05
          },
          "xaxis": {
           "automargin": true,
           "gridcolor": "rgb(232,232,232)",
           "linecolor": "rgb(36,36,36)",
           "showgrid": false,
           "showline": true,
           "ticks": "outside",
           "title": {
            "standoff": 15
           },
           "zeroline": false,
           "zerolinecolor": "rgb(36,36,36)"
          },
          "yaxis": {
           "automargin": true,
           "gridcolor": "rgb(232,232,232)",
           "linecolor": "rgb(36,36,36)",
           "showgrid": false,
           "showline": true,
           "ticks": "outside",
           "title": {
            "standoff": 15
           },
           "zeroline": false,
           "zerolinecolor": "rgb(36,36,36)"
          }
         }
        },
        "title": {
         "text": "<b>S-S model </b>, N=4, J2 =1, J1 =0.9 , η=0.01, α=8, samples=3000"
        },
        "xaxis": {
         "mirror": true,
         "showline": true,
         "title": {
          "text": "Iteration"
         }
        },
        "yaxis": {
         "mirror": true,
         "showline": true,
         "title": {
          "text": "Energy"
         }
        }
       }
      },
      "text/html": [
       "<div>                            <div id=\"eec9bb3b-9db1-46e2-8807-6d7cc0b58f74\" class=\"plotly-graph-div\" style=\"height:525px; width:100%;\"></div>            <script type=\"text/javascript\">                require([\"plotly\"], function(Plotly) {                    window.PLOTLYENV=window.PLOTLYENV || {};                                    if (document.getElementById(\"eec9bb3b-9db1-46e2-8807-6d7cc0b58f74\")) {                    Plotly.newPlot(                        \"eec9bb3b-9db1-46e2-8807-6d7cc0b58f74\",                        [{\"line\":{\"color\":\"#000000\",\"width\":1},\"mode\":\"lines\",\"name\":\"exact energy\",\"type\":\"scatter\",\"x\":[0,500],\"y\":[-12.399999999999999,-12.399999999999999]},{\"name\":\"normal\",\"type\":\"scatter\",\"x\":[0,1,2,3,4,5,6,7,8,9,10,11,12,13,14,15,16,17,18,19,20,21,22,23,24,25,26,27,28,29,30,31,32,33,34,35,36,37,38,39,40,41,42,43,44,45,46,47,48,49,50,51,52,53,54,55,56,57,58,59,60,61,62,63,64,65,66,67,68,69,70,71,72,73,74,75,76,77,78,79,80,81,82,83,84,85,86,87,88,89,90,91,92,93,94,95,96,97,98,99,100,101,102,103,104,105,106,107,108,109,110,111,112,113,114,115,116,117,118,119,120,121,122,123,124,125,126,127,128,129,130,131,132,133,134,135,136,137,138,139,140,141,142,143,144,145,146,147,148,149,150,151,152,153,154,155,156,157,158,159,160,161,162,163,164,165,166,167,168,169,170,171,172,173,174,175,176,177,178,179,180,181,182,183,184,185,186,187,188,189,190,191,192,193,194,195,196,197,198,199,200,201,202,203,204,205,206,207,208,209,210,211,212,213,214,215,216,217,218,219,220,221,222,223,224,225,226,227,228,229,230,231,232,233,234,235,236,237,238,239,240,241,242,243,244,245,246,247,248,249,250,251,252,253,254,255,256,257,258,259,260,261,262,263,264,265,266,267,268,269,270,271,272,273,274,275,276,277,278,279,280,281,282,283,284,285,286,287,288,289,290,291,292,293,294,295,296,297,298,299,300,301,302,303,304,305,306,307,308,309,310,311,312,313,314,315,316,317,318,319,320,321,322,323,324,325,326,327,328,329,330,331,332,333,334,335,336,337,338,339,340,341,342,343,344,345,346,347,348,349,350,351,352,353,354,355,356,357,358,359,360,361,362,363,364,365,366,367,368,369,370,371,372,373,374,375,376,377,378,379,380,381,382,383,384,385,386,387,388,389,390,391,392,393,394,395,396,397,398,399,400,401,402,403,404,405,406,407,408,409,410,411,412,413,414,415,416,417,418,419,420,421,422,423,424,425,426,427,428,429,430,431,432,433,434,435,436,437,438,439,440,441,442,443,444,445,446,447,448,449,450,451,452,453,454,455,456,457,458,459,460,461,462,463,464,465,466,467,468,469,470,471,472,473,474,475,476,477,478,479,480,481,482,483,484,485,486,487,488,489,490,491,492,493,494,495,496,497,498,499],\"y\":[9.19437829445856,9.193561964955714,9.187051299855531,9.190590306183651,9.178835051794916,9.178896646232184,9.175314276598554,9.156460444150605,9.162904448034885,9.120849937169902,9.127610651389627,9.091891960679924,9.068808296021277,9.017058889651173,8.990404679159695,8.920809941032989,8.821837646034147,8.755398030108015,8.617994088715463,8.41328178466147,8.14420693430551,7.946545033192839,7.477915965769924,7.075269875120853,6.652937545092947,6.02615091720285,5.217063631988733,4.385950907775447,3.3130291276388117,2.2542217268265667,1.2480568169936257,0.037798607964504856,-1.1501457275759197,-2.116349668865866,-3.2707244081452407,-4.076804783098299,-4.984006144186426,-5.748406271957228,-6.478006170163813,-7.129768740327322,-7.567856320967482,-8.174722756742506,-8.565627606014779,-8.980857080732894,-9.339292996427767,-9.648715985080132,-9.894682724927232,-10.220168580336791,-10.375066839758086,-10.643344122077874,-10.930877806452909,-10.965475530509686,-11.105007968270824,-11.293359590272438,-11.431889405330987,-11.57013937850303,-11.616011160350237,-11.75949710481921,-11.8046868877446,-11.90179390263974,-11.951811081211781,-12.013088913094432,-12.038904499824293,-12.113539787134911,-12.153412049440579,-12.18192932262731,-12.180422336177928,-12.226685628321668,-12.235451342802346,-12.258589506208489,-12.279364400062525,-12.31172570594445,-12.327935298814443,-12.32984885330391,-12.333127735170796,-12.343257823110388,-12.351975928667258,-12.355015682389999,-12.342627041634143,-12.35884302027332,-12.36911751802441,-12.364460124252838,-12.369177335218318,-12.380793037999277,-12.375790200639482,-12.390197842651844,-12.383342944688058,-12.387003818109374,-12.373346735784498,-12.390234091355998,-12.378461843260801,-12.392370045883823,-12.387621686062149,-12.395518666993377,-12.390684969932682,-12.391847282822704,-12.385765465615316,-12.396109374215746,-12.386691573037087,-12.387840938049235,-12.391850716178102,-12.392342105021562,-12.399326028785758,-12.386565360039954,-12.392845467063553,-12.396836522862536,-12.394801629761432,-12.391407958152236,-12.391865334199249,-12.397827102433997,-12.397634350544656,-12.399974732750527,-12.395515507770474,-12.388206003719997,-12.397690838297901,-12.397366382170365,-12.395706405028502,-12.392596198779852,-12.39472145033537,-12.397983911039056,-12.397074223632638,-12.392528225406009,-12.397784818055603,-12.395023750311163,-12.400017612988625,-12.39474944357546,-12.39731825163128,-12.39716265377144,-12.400123287054605,-12.396933423964802,-12.395639537910993,-12.397352574282241,-12.393179067044509,-12.400026704854579,-12.400049886369645,-12.398202722327941,-12.397364787915167,-12.39836455366031,-12.396855294392026,-12.399984483528431,-12.399997608601163,-12.3979073904666,-12.400016677456398,-12.399995763482515,-12.400026655622788,-12.399979222679217,-12.39427434139545,-12.399996022181616,-12.400029283712538,-12.396831785714316,-12.397352078693931,-12.400002281910613,-12.399995328020939,-12.392504669737074,-12.400001922756555,-12.396885505257007,-12.399966423996077,-12.397266922074035,-12.397366347992918,-12.400008675990202,-12.396866169282482,-12.399995371691007,-12.39998004275794,-12.398179875240947,-12.400001574439624,-12.399994046308434,-12.39470453731467,-12.396812813819269,-12.400013383418099,-12.399974442818667,-12.40001198697828,-12.400001990299872,-12.393058192973498,-12.39998387476946,-12.394061536161693,-12.397873121351738,-12.39810161293645,-12.399995692429753,-12.39999381992951,-12.399978890189134,-12.396729032453418,-12.397219480439178,-12.399994655349287,-12.396880321307272,-12.3999919805687,-12.400019083777899,-12.400004769760232,-12.393550168962582,-12.396560667853063,-12.400001963861403,-12.398289247725588,-12.399983818650895,-12.399998345167168,-12.3964970676488,-12.40002862315624,-12.400006779375735,-12.399986659815923,-12.399991760932862,-12.399990179819747,-12.39847399525339,-12.399996723420825,-12.39999817322748,-12.396831078654373,-12.39999637048204,-12.400000682068333,-12.400005258296446,-12.400002915911328,-12.399999008620929,-12.397329931682673,-12.399998580154046,-12.39999247545325,-12.400001132792655,-12.399994018590638,-12.395949475895623,-12.399998291563703,-12.396426263517204,-12.39999284142479,-12.399992214524442,-12.400006720012199,-12.400004306769803,-12.399999990098069,-12.397243002093104,-12.399998665838572,-12.396246083502508,-12.396306708707028,-12.396411898914069,-12.396269229300467,-12.397096027857037,-12.400008849398972,-12.398606541691057,-12.399997600130208,-12.400001870029653,-12.399985072722929,-12.399999133487935,-12.400000788778474,-12.398542765712161,-12.40000933192681,-12.399996955146518,-12.399990204323645,-12.399994797095607,-12.396773497799522,-12.399045251082379,-12.400006833622756,-12.400001566351097,-12.400001019340275,-12.394010977754078,-12.399982335721814,-12.400006756663249,-12.400003870298066,-12.400002431000757,-12.399999589804978,-12.399990406321711,-12.39999468392319,-12.400004149795334,-12.39999897793011,-12.40000266648627,-12.396257012437898,-12.396729575964137,-12.396769099449637,-12.399999384796441,-12.399993715812052,-12.396927605073147,-12.400010457041853,-12.400002267910168,-12.400000671034656,-12.399996785946136,-12.400010022008093,-12.399984865852428,-12.40001161763417,-12.395866474832442,-12.396016102454125,-12.396762996071466,-12.39999049909001,-12.399996069852582,-12.400012207037589,-12.395860469246898,-12.398688362483849,-12.39874222709859,-12.399989981895999,-12.399992095738828,-12.400010079633693,-12.39677221746844,-12.399993850774342,-12.39998469883081,-12.400016944046408,-12.399987826508617,-12.395545270879419,-12.399996218409518,-12.395446948046912,-12.394832503303215,-12.40000124214137,-12.39999176767545,-12.399973879028053,-12.396856446929467,-12.400021604806485,-12.400011560914143,-12.399980311921567,-12.39999509270722,-12.39999896077854,-12.399991517154485,-12.399992623543634,-12.400011264333108,-12.39999854374668,-12.39999750830034,-12.400005331606312,-12.399991232060001,-12.397960179521828,-12.399991587273377,-12.400004555642136,-12.400003188771663,-12.39999996740653,-12.399997307419296,-12.399992933700476,-12.400001268181184,-12.399992432723957,-12.39999897836562,-12.400000252456154,-12.400004584042335,-12.400002096178781,-12.400003270056501,-12.400003819746804,-12.399998600730514,-12.395274340226678,-12.400009368157923,-12.399992531830922,-12.399992220515404,-12.39679693260555,-12.39999755914029,-12.400008434185384,-12.400002562854523,-12.399991145367453,-12.400002176441857,-12.399997420278206,-12.39999831773827,-12.39999801328014,-12.39999923004588,-12.396983025345072,-12.398715671433688,-12.399999020595656,-12.399994786037366,-12.396879072413881,-12.39999607922543,-12.40000646586846,-12.397922246299899,-12.399985757886839,-12.40000049135209,-12.399999070990118,-12.400004017686639,-12.400008117509321,-12.40000034903659,-12.400001212045295,-12.400004875874952,-12.400002571681327,-12.39999951597198,-12.400001504809918,-12.399999425436087,-12.400000937831592,-12.397019885069428,-12.40000413773578,-12.39999681024229,-12.400002414537994,-12.39999841797214,-12.400000140408167,-12.400001066428027,-12.400002339640151,-12.400000774353048,-12.400001402750387,-12.399999372480828,-12.400003077788924,-12.399999857508975,-12.396934785876471,-12.399990577595046,-12.39999789364933,-12.399996375670787,-12.400000008738939,-12.40000029093694,-12.39999851288025,-12.399998634773988,-12.400000247298827,-12.400000382033863,-12.400000573141723,-12.397115140178279,-12.400001745256935,-12.399997571014698,-12.40000172790853,-12.400001250704777,-12.399998783480443,-12.400002431008959,-12.400002651438335,-12.39999867885067,-12.399997338530993,-12.400003392521578,-12.399999607606146,-12.400000479355706,-12.400001968337712,-12.396801687747393,-12.400002972506893,-12.400002254229097,-12.4000005057585,-12.399999984142317,-12.399998314439173,-12.399998399409668,-12.400001615081154,-12.400000175738569,-12.400001580012306,-12.399999100167479,-12.40000135725093,-12.399999970316019,-12.397809691727847,-12.397898254090371,-12.399993615356072,-12.396959185485553,-12.400004126370327,-12.399996305291138,-12.399992486272279,-12.397334385431094,-12.399993293927148,-12.400000180458987,-12.400004396511562,-12.400000105566054,-12.397128645709032,-12.400006670531836,-12.400001912424663,-12.39510804360868,-12.399997283394464,-12.399999311281402,-12.400001848985212,-12.399998487355429,-12.399995311000282,-12.399999361411648,-12.399998878858375,-12.399998664172541,-12.398355986845633,-12.400001551747577,-12.400000160469324,-12.39999656513115,-12.396994232519319,-12.399996442179287,-12.400001278026691,-12.399990590442258,-12.40000365715417,-12.399997662795663,-12.400000433577377,-12.399995166617513,-12.400003827537589,-12.400000646660056,-12.399997526989734,-12.400000443378735,-12.399999195022719,-12.393781290126407,-12.400001697609502,-12.399999533728398,-12.400000423777001,-12.386391179456714,-12.40000255732598,-12.399997875531097,-12.400000447408262,-12.399999094482315,-12.400000362931529,-12.40000121322919,-12.397095894574832,-12.400004165588113,-12.40000067623945,-12.400000252078268,-12.400001593759661,-12.399997899648726,-12.395216271012172,-12.399991318999653,-12.4000024134831,-12.399986063921935,-12.3999973071336,-12.399989018214697,-12.40000307430679,-12.399996861933538,-12.399996358767341,-12.399998454152577,-12.400000630476825,-12.399998856915381,-12.400000995312425,-12.399997175675232,-12.399996552573588,-12.400000798760486,-12.400001396961674,-12.400003098972025,-12.400002114727277,-12.39999834094686,-12.399998986743999,-12.400000782034832,-12.399996119622774,-12.400001219129743,-12.399999799162725,-12.400001450160282,-12.399999457007793,-12.400000300805594,-12.400000158364959,-12.400000504869157,-12.399998887770469,-12.399999846334872,-12.399999383503555,-12.399999712044725]},{\"name\":\"MSR\",\"type\":\"scatter\",\"x\":[0,1,2,3,4,5,6,7,8,9,10,11,12,13,14,15,16,17,18,19,20,21,22,23,24,25,26,27,28,29,30,31,32,33,34,35,36,37,38,39,40,41,42,43,44,45,46,47,48,49,50,51,52,53,54,55,56,57,58,59,60,61,62,63,64,65,66,67,68,69,70,71,72,73,74,75,76,77,78,79,80,81,82,83,84,85,86,87,88,89,90,91,92,93,94,95,96,97,98,99,100,101,102,103,104,105,106,107,108,109,110,111,112,113,114,115,116,117,118,119,120,121,122,123,124,125,126,127,128,129,130,131,132,133,134,135,136,137,138,139,140,141,142,143,144,145,146,147,148,149,150,151,152,153,154,155,156,157,158,159,160,161,162,163,164,165,166,167,168,169,170,171,172,173,174,175,176,177,178,179,180,181,182,183,184,185,186,187,188,189,190,191,192,193,194,195,196,197,198,199,200,201,202,203,204,205,206,207,208,209,210,211,212,213,214,215,216,217,218,219,220,221,222,223,224,225,226,227,228,229,230,231,232,233,234,235,236,237,238,239,240,241,242,243,244,245,246,247,248,249,250,251,252,253,254,255,256,257,258,259,260,261,262,263,264,265,266,267,268,269,270,271,272,273,274,275,276,277,278,279,280,281,282,283,284,285,286,287,288,289,290,291,292,293,294,295,296,297,298,299,300,301,302,303,304,305,306,307,308,309,310,311,312,313,314,315,316,317,318,319,320,321,322,323,324,325,326,327,328,329,330,331,332,333,334,335,336,337,338,339,340,341,342,343,344,345,346,347,348,349,350,351,352,353,354,355,356,357,358,359,360,361,362,363,364,365,366,367,368,369,370,371,372,373,374,375,376,377,378,379,380,381,382,383,384,385,386,387,388,389,390,391,392,393,394,395,396,397,398,399,400,401,402,403,404,405,406,407,408,409,410,411,412,413,414,415,416,417,418,419,420,421,422,423,424,425,426,427,428,429,430,431,432,433,434,435,436,437,438,439,440,441,442,443,444,445,446,447,448,449,450,451,452,453,454,455,456,457,458,459,460,461,462,463,464,465,466,467,468,469,470,471,472,473,474,475,476,477,478,479,480,481,482,483,484,485,486,487,488,489,490,491,492,493,494,495,496,497,498,499],\"y\":[-5.067454793372368,-5.589707829973863,-6.506235395279645,-7.44219678952787,-8.117147239430512,-8.705206146531731,-9.031692225391515,-9.492343180704724,-9.650888182410803,-9.951486144753298,-10.323947354081929,-10.50838209419418,-10.58864669566681,-10.946702886549197,-10.996245778069172,-11.242766421595164,-11.252890073363584,-11.487193895238248,-11.556782957230983,-11.769947231083325,-11.814325090107719,-11.85194493047003,-11.905127004150737,-11.980243365530265,-12.012574360227672,-12.042354248822761,-12.088281837817837,-12.136211730834969,-12.160110871412014,-12.232141378705938,-12.248450127183409,-12.239307188265913,-12.236310392153703,-12.27245181177913,-12.270085870286984,-12.299142057486998,-12.35218733748729,-12.33289597891536,-12.34031813725787,-12.332667933396845,-12.335192857904945,-12.352102887478955,-12.352085430917155,-12.356473543634616,-12.36195888002217,-12.352424281437601,-12.371548691326941,-12.368443598572286,-12.373463951525599,-12.380514424531459,-12.380642283673133,-12.390357173104372,-12.38090735942752,-12.39521051065272,-12.383270049485132,-12.38536866543701,-12.39508424901622,-12.388042952079017,-12.390294237109488,-12.385601371936291,-12.39519146007713,-12.395146440877978,-12.39051095007964,-12.390400813536116,-12.390403031861652,-12.385735047257228,-12.390567508459098,-12.390126415659058,-12.390270744394867,-12.395129157553523,-12.390392090416727,-12.39766658992881,-12.392947258228835,-12.395189633482936,-12.395119947774063,-12.392795434368502,-12.397704275169854,-12.395104837502961,-12.394920265682671,-12.392815290722423,-12.395249319975381,-12.395253696671286,-12.397614569845233,-12.393280207226724,-12.397331739207273,-12.392959341664662,-12.400023474933496,-12.397387421333086,-12.392332294874189,-12.395167473739033,-12.399991382892006,-12.399982239076872,-12.397684094795808,-12.397744227980457,-12.397792168596856,-12.3956935469069,-12.39998473583513,-12.39995694329909,-12.400001027642123,-12.399995147557762,-12.39459530648307,-12.400011569260576,-12.397326868101542,-12.395161533893935,-12.397422686874835,-12.39741957087796,-12.399983178516568,-12.400005218277096,-12.399992046338507,-12.400021787754847,-12.397522445351006,-12.395241527137172,-12.397671297822667,-12.397578832975453,-12.397674213821457,-12.397596454093518,-12.395207636141063,-12.40001264618926,-12.399991457329856,-12.397644145665806,-12.39774349963202,-12.399989117799239,-12.40000671873824,-12.397411181143802,-12.39751964530228,-12.400004439623574,-12.397568670270005,-12.39511248309481,-12.400007657755143,-12.395084597923434,-12.399998484526542,-12.392807407600676,-12.39741120101344,-12.400003157369424,-12.397809170278528,-12.397479286672828,-12.399998803727726,-12.397813878646897,-12.4000118020274,-12.394933817175154,-12.400012081875124,-12.39999887005667,-12.400015469462232,-12.399986759332183,-12.399996993686953,-12.400007942246711,-12.399998184462461,-12.400007051446412,-12.399999593261033,-12.397470109695766,-12.399998052644868,-12.39777084891794,-12.399997903793519,-12.400001592883086,-12.397526619776231,-12.399999120049852,-12.39999958185251,-12.40001044315534,-12.400005856219233,-12.399998241457748,-12.399997337087882,-12.400002598490435,-12.399997440527484,-12.400001611287411,-12.400000572515312,-12.400001766887653,-12.40000001174531,-12.399998825753805,-12.400000385559563,-12.400002405617782,-12.397482096969163,-12.400002796133506,-12.399999355259057,-12.399998047534053,-12.400006052875655,-12.400003411867658,-12.400001415998858,-12.40000355350351,-12.400000507449114,-12.40000018497158,-12.399999975259158,-12.400002092408622,-12.399998078437857,-12.399998238412733,-12.400002918584455,-12.400001227827106,-12.400001068478481,-12.397671513716622,-12.399997157085378,-12.400004901606055,-12.397421897387622,-12.397516701789664,-12.399996193304817,-12.399999871981771,-12.399999637366658,-12.400003761733839,-12.400000682335431,-12.399998646228708,-12.400000105776535,-12.399999233383042,-12.399998527011917,-12.39999839654533,-12.399999209208573,-12.399998739359813,-12.400000157358289,-12.397756935704255,-12.399996042293337,-12.397605910575157,-12.399997956778034,-12.399998659599671,-12.39769950383275,-12.399998640340307,-12.400002273658865,-12.399998635632643,-12.399998686324599,-12.395120378151635,-12.39999682283534,-12.400012363280497,-12.397417552549106,-12.39998392539564,-12.399995862890583,-12.400005572336323,-12.400006120668806,-12.40000619837211,-12.400001971304636,-12.399997779843524,-12.399993772334417,-12.400000936551121,-12.400000031446693,-12.400000326702454,-12.392208975265229,-12.395187171097316,-12.39997466179902,-12.39535116801704,-12.400011063351199,-12.400007613060637,-12.399993144403762,-12.40000164000928,-12.397398467550886,-12.39516218736069,-12.397513608101779,-12.39999516843287,-12.397598763512557,-12.397463786186597,-12.397597091195639,-12.400001841095145,-12.397667060318563,-12.399992871602413,-12.400005476353156,-12.400006928654546,-12.399997707294297,-12.39746979864147,-12.399990094986855,-12.399998347432334,-12.399997528612131,-12.400000035651352,-12.39765934276257,-12.400000803839902,-12.39999999867739,-12.397514890218538,-12.39746236361306,-12.39999753100073,-12.40000320065538,-12.400003000338954,-12.399996004254014,-12.399996269010273,-12.400003253836424,-12.399999049877728,-12.400002871824661,-12.399999892375073,-12.39999689268539,-12.399999145206522,-12.400000464742515,-12.40000002368621,-12.400001097942894,-12.39999902960768,-12.400000017556549,-12.400001274360186,-12.395268812871995,-12.399999682216892,-12.39999904588258,-12.400000892611942,-12.399999720844338,-12.400001451190162,-12.399999451519239,-12.399999725135926,-12.39759764959648,-12.400000955649816,-12.399997335196302,-12.400000562470678,-12.397692409934347,-12.400003641358692,-12.397410163606366,-12.40000051241176,-12.399998361735857,-12.400000626835109,-12.40000139210865,-12.400002130102894,-12.399999416140025,-12.397763036961225,-12.400001195630363,-12.400001186075766,-12.397756178665105,-12.399999312507143,-12.399999119867605,-12.40000088527089,-12.400000030160129,-12.39999906234546,-12.399999223210482,-12.395171718370399,-12.39999719716156,-12.400006372323329,-12.399998969133762,-12.400005656065643,-12.400004222169835,-12.397381323069006,-12.400005879561828,-12.399997465764347,-12.39779791933495,-12.400002264709958,-12.400000112211673,-12.400004006643975,-12.399994970740215,-12.399999558052482,-12.40000040796253,-12.3999994180415,-12.399999547960942,-12.399999773717669,-12.399997728430048,-12.399998520292288,-12.399999739021665,-12.399999275497361,-12.400002170022761,-12.400000699257932,-12.400000861041859,-12.397350908855339,-12.399997941946635,-12.399996455837856,-12.400001183231845,-12.399996374801528,-12.400000950217827,-12.397733113924835,-12.399999270140057,-12.400003095705683,-12.399997723589314,-12.399998815776634,-12.40000016259448,-12.399999238753594,-12.399998346631458,-12.400001072644503,-12.399999101357832,-12.400000774353536,-12.400000038801993,-12.399998899086235,-12.39739370235354,-12.399997083110557,-12.399999541671281,-12.399996988575575,-12.397787246915039,-12.400001689178024,-12.400000077735937,-12.400002620576224,-12.400002174612318,-12.3999949479779,-12.399999944672457,-12.399999519455848,-12.397357047463197,-12.400005444938909,-12.399997096095206,-12.400001278940746,-12.3974596666299,-12.399998136413604,-12.400001632998023,-12.397497882103007,-12.397580830703093,-12.40000118773267,-12.399999752133892,-12.399997807910683,-12.397700869395601,-12.397799517854141,-12.399999512896528,-12.400000394741696,-12.400002091632475,-12.400005623858812,-12.400002027790304,-12.399999536901053,-12.399996757920116,-12.400001600774681,-12.400000039171474,-12.399999781747065,-12.399999840274463,-12.397405618861548,-12.399999143508277,-12.39743879116547,-12.400002840150924,-12.399995398316303,-12.400000723168388,-12.399999274479637,-12.39999849089167,-12.399996794626096,-12.399998407415534,-12.3999980588955,-12.400001141763783,-12.400001163419265,-12.399999696078641,-12.400000520457953,-12.399999281695262,-12.400000358584654,-12.399998815452093,-12.399999913256561,-12.395128323764576,-12.39999931275353,-12.400001199754563,-12.400003696366575,-12.400004327242796,-12.39770629172325,-12.399998805367998,-12.400000626861127,-12.400000580942942,-12.399999575849353,-12.400001394767886,-12.400000835354948,-12.397504356499546,-12.400003076365843,-12.399998893680761,-12.400001026984848,-12.399997825087416,-12.400005901674083,-12.399997803517872,-12.400002521381124,-12.399999113689383,-12.400000281202095,-12.399999038247289,-12.400000374107485,-12.399999995206288,-12.400000225893505,-12.400000446495426,-12.399998370197787,-12.399999870918354,-12.399999718598835,-12.399999884224904,-12.400001065221426,-12.400000018628825,-12.399999416600906,-12.399999462486841,-12.400000026898526,-12.40000038154441,-12.400000188212683,-12.400000335616605,-12.399999977988841,-12.400000040375241,-12.40000020841113,-12.40000004730204,-12.399999896393489,-12.40000000442277,-12.399999989280298,-12.397747108941516,-12.399999440409726,-12.400001516323545,-12.400002758941543,-12.39999744482993,-12.400000144426565,-12.40000026250607,-12.3999993433479,-12.399999108514844,-12.399999508886829,-12.400000557422793,-12.39999915106139,-12.39753088976692,-12.400002605006984,-12.399999702008074,-12.397643543051613,-12.399995810528004,-12.400003621221646,-12.399999111519792,-12.400001217166158,-12.399998672412831,-12.400000240738537,-12.399999446226875,-12.400000624737416,-12.397467260487156,-12.399998865876679,-12.400000756628314,-12.399999655367989,-12.399999679677979,-12.400002207762642,-12.399999094011276,-12.400000212675717,-12.399999843728185,-12.400001167279584,-12.399999654907157,-12.400000518643374,-12.399998729850427,-12.399999531048111,-12.399999283870027,-12.400000079486526,-12.40000017814221,-12.400000077879163,-12.399999940172739,-12.400000273855468]}],                        {\"shapes\":[{\"line\":{\"width\":1},\"opacity\":1,\"type\":\"line\",\"x0\":0,\"x1\":1,\"xref\":\"x domain\",\"y0\":-12.399999999999999,\"y1\":-12.399999999999999,\"yref\":\"y\"}],\"template\":{\"data\":{\"bar\":[{\"error_x\":{\"color\":\"rgb(36,36,36)\"},\"error_y\":{\"color\":\"rgb(36,36,36)\"},\"marker\":{\"line\":{\"color\":\"white\",\"width\":0.5},\"pattern\":{\"fillmode\":\"overlay\",\"size\":10,\"solidity\":0.2}},\"type\":\"bar\"}],\"barpolar\":[{\"marker\":{\"line\":{\"color\":\"white\",\"width\":0.5},\"pattern\":{\"fillmode\":\"overlay\",\"size\":10,\"solidity\":0.2}},\"type\":\"barpolar\"}],\"carpet\":[{\"aaxis\":{\"endlinecolor\":\"rgb(36,36,36)\",\"gridcolor\":\"white\",\"linecolor\":\"white\",\"minorgridcolor\":\"white\",\"startlinecolor\":\"rgb(36,36,36)\"},\"baxis\":{\"endlinecolor\":\"rgb(36,36,36)\",\"gridcolor\":\"white\",\"linecolor\":\"white\",\"minorgridcolor\":\"white\",\"startlinecolor\":\"rgb(36,36,36)\"},\"type\":\"carpet\"}],\"choropleth\":[{\"colorbar\":{\"outlinewidth\":1,\"tickcolor\":\"rgb(36,36,36)\",\"ticks\":\"outside\"},\"type\":\"choropleth\"}],\"contour\":[{\"colorbar\":{\"outlinewidth\":1,\"tickcolor\":\"rgb(36,36,36)\",\"ticks\":\"outside\"},\"colorscale\":[[0.0,\"#440154\"],[0.1111111111111111,\"#482878\"],[0.2222222222222222,\"#3e4989\"],[0.3333333333333333,\"#31688e\"],[0.4444444444444444,\"#26828e\"],[0.5555555555555556,\"#1f9e89\"],[0.6666666666666666,\"#35b779\"],[0.7777777777777778,\"#6ece58\"],[0.8888888888888888,\"#b5de2b\"],[1.0,\"#fde725\"]],\"type\":\"contour\"}],\"contourcarpet\":[{\"colorbar\":{\"outlinewidth\":1,\"tickcolor\":\"rgb(36,36,36)\",\"ticks\":\"outside\"},\"type\":\"contourcarpet\"}],\"heatmap\":[{\"colorbar\":{\"outlinewidth\":1,\"tickcolor\":\"rgb(36,36,36)\",\"ticks\":\"outside\"},\"colorscale\":[[0.0,\"#440154\"],[0.1111111111111111,\"#482878\"],[0.2222222222222222,\"#3e4989\"],[0.3333333333333333,\"#31688e\"],[0.4444444444444444,\"#26828e\"],[0.5555555555555556,\"#1f9e89\"],[0.6666666666666666,\"#35b779\"],[0.7777777777777778,\"#6ece58\"],[0.8888888888888888,\"#b5de2b\"],[1.0,\"#fde725\"]],\"type\":\"heatmap\"}],\"heatmapgl\":[{\"colorbar\":{\"outlinewidth\":1,\"tickcolor\":\"rgb(36,36,36)\",\"ticks\":\"outside\"},\"colorscale\":[[0.0,\"#440154\"],[0.1111111111111111,\"#482878\"],[0.2222222222222222,\"#3e4989\"],[0.3333333333333333,\"#31688e\"],[0.4444444444444444,\"#26828e\"],[0.5555555555555556,\"#1f9e89\"],[0.6666666666666666,\"#35b779\"],[0.7777777777777778,\"#6ece58\"],[0.8888888888888888,\"#b5de2b\"],[1.0,\"#fde725\"]],\"type\":\"heatmapgl\"}],\"histogram\":[{\"marker\":{\"line\":{\"color\":\"white\",\"width\":0.6}},\"type\":\"histogram\"}],\"histogram2d\":[{\"colorbar\":{\"outlinewidth\":1,\"tickcolor\":\"rgb(36,36,36)\",\"ticks\":\"outside\"},\"colorscale\":[[0.0,\"#440154\"],[0.1111111111111111,\"#482878\"],[0.2222222222222222,\"#3e4989\"],[0.3333333333333333,\"#31688e\"],[0.4444444444444444,\"#26828e\"],[0.5555555555555556,\"#1f9e89\"],[0.6666666666666666,\"#35b779\"],[0.7777777777777778,\"#6ece58\"],[0.8888888888888888,\"#b5de2b\"],[1.0,\"#fde725\"]],\"type\":\"histogram2d\"}],\"histogram2dcontour\":[{\"colorbar\":{\"outlinewidth\":1,\"tickcolor\":\"rgb(36,36,36)\",\"ticks\":\"outside\"},\"colorscale\":[[0.0,\"#440154\"],[0.1111111111111111,\"#482878\"],[0.2222222222222222,\"#3e4989\"],[0.3333333333333333,\"#31688e\"],[0.4444444444444444,\"#26828e\"],[0.5555555555555556,\"#1f9e89\"],[0.6666666666666666,\"#35b779\"],[0.7777777777777778,\"#6ece58\"],[0.8888888888888888,\"#b5de2b\"],[1.0,\"#fde725\"]],\"type\":\"histogram2dcontour\"}],\"mesh3d\":[{\"colorbar\":{\"outlinewidth\":1,\"tickcolor\":\"rgb(36,36,36)\",\"ticks\":\"outside\"},\"type\":\"mesh3d\"}],\"parcoords\":[{\"line\":{\"colorbar\":{\"outlinewidth\":1,\"tickcolor\":\"rgb(36,36,36)\",\"ticks\":\"outside\"}},\"type\":\"parcoords\"}],\"pie\":[{\"automargin\":true,\"type\":\"pie\"}],\"scatter\":[{\"marker\":{\"colorbar\":{\"outlinewidth\":1,\"tickcolor\":\"rgb(36,36,36)\",\"ticks\":\"outside\"}},\"type\":\"scatter\"}],\"scatter3d\":[{\"line\":{\"colorbar\":{\"outlinewidth\":1,\"tickcolor\":\"rgb(36,36,36)\",\"ticks\":\"outside\"}},\"marker\":{\"colorbar\":{\"outlinewidth\":1,\"tickcolor\":\"rgb(36,36,36)\",\"ticks\":\"outside\"}},\"type\":\"scatter3d\"}],\"scattercarpet\":[{\"marker\":{\"colorbar\":{\"outlinewidth\":1,\"tickcolor\":\"rgb(36,36,36)\",\"ticks\":\"outside\"}},\"type\":\"scattercarpet\"}],\"scattergeo\":[{\"marker\":{\"colorbar\":{\"outlinewidth\":1,\"tickcolor\":\"rgb(36,36,36)\",\"ticks\":\"outside\"}},\"type\":\"scattergeo\"}],\"scattergl\":[{\"marker\":{\"colorbar\":{\"outlinewidth\":1,\"tickcolor\":\"rgb(36,36,36)\",\"ticks\":\"outside\"}},\"type\":\"scattergl\"}],\"scattermapbox\":[{\"marker\":{\"colorbar\":{\"outlinewidth\":1,\"tickcolor\":\"rgb(36,36,36)\",\"ticks\":\"outside\"}},\"type\":\"scattermapbox\"}],\"scatterpolar\":[{\"marker\":{\"colorbar\":{\"outlinewidth\":1,\"tickcolor\":\"rgb(36,36,36)\",\"ticks\":\"outside\"}},\"type\":\"scatterpolar\"}],\"scatterpolargl\":[{\"marker\":{\"colorbar\":{\"outlinewidth\":1,\"tickcolor\":\"rgb(36,36,36)\",\"ticks\":\"outside\"}},\"type\":\"scatterpolargl\"}],\"scatterternary\":[{\"marker\":{\"colorbar\":{\"outlinewidth\":1,\"tickcolor\":\"rgb(36,36,36)\",\"ticks\":\"outside\"}},\"type\":\"scatterternary\"}],\"surface\":[{\"colorbar\":{\"outlinewidth\":1,\"tickcolor\":\"rgb(36,36,36)\",\"ticks\":\"outside\"},\"colorscale\":[[0.0,\"#440154\"],[0.1111111111111111,\"#482878\"],[0.2222222222222222,\"#3e4989\"],[0.3333333333333333,\"#31688e\"],[0.4444444444444444,\"#26828e\"],[0.5555555555555556,\"#1f9e89\"],[0.6666666666666666,\"#35b779\"],[0.7777777777777778,\"#6ece58\"],[0.8888888888888888,\"#b5de2b\"],[1.0,\"#fde725\"]],\"type\":\"surface\"}],\"table\":[{\"cells\":{\"fill\":{\"color\":\"rgb(237,237,237)\"},\"line\":{\"color\":\"white\"}},\"header\":{\"fill\":{\"color\":\"rgb(217,217,217)\"},\"line\":{\"color\":\"white\"}},\"type\":\"table\"}]},\"layout\":{\"annotationdefaults\":{\"arrowhead\":0,\"arrowwidth\":1},\"autotypenumbers\":\"strict\",\"coloraxis\":{\"colorbar\":{\"outlinewidth\":1,\"tickcolor\":\"rgb(36,36,36)\",\"ticks\":\"outside\"}},\"colorscale\":{\"diverging\":[[0.0,\"rgb(103,0,31)\"],[0.1,\"rgb(178,24,43)\"],[0.2,\"rgb(214,96,77)\"],[0.3,\"rgb(244,165,130)\"],[0.4,\"rgb(253,219,199)\"],[0.5,\"rgb(247,247,247)\"],[0.6,\"rgb(209,229,240)\"],[0.7,\"rgb(146,197,222)\"],[0.8,\"rgb(67,147,195)\"],[0.9,\"rgb(33,102,172)\"],[1.0,\"rgb(5,48,97)\"]],\"sequential\":[[0.0,\"#440154\"],[0.1111111111111111,\"#482878\"],[0.2222222222222222,\"#3e4989\"],[0.3333333333333333,\"#31688e\"],[0.4444444444444444,\"#26828e\"],[0.5555555555555556,\"#1f9e89\"],[0.6666666666666666,\"#35b779\"],[0.7777777777777778,\"#6ece58\"],[0.8888888888888888,\"#b5de2b\"],[1.0,\"#fde725\"]],\"sequentialminus\":[[0.0,\"#440154\"],[0.1111111111111111,\"#482878\"],[0.2222222222222222,\"#3e4989\"],[0.3333333333333333,\"#31688e\"],[0.4444444444444444,\"#26828e\"],[0.5555555555555556,\"#1f9e89\"],[0.6666666666666666,\"#35b779\"],[0.7777777777777778,\"#6ece58\"],[0.8888888888888888,\"#b5de2b\"],[1.0,\"#fde725\"]]},\"colorway\":[\"#1F77B4\",\"#FF7F0E\",\"#2CA02C\",\"#D62728\",\"#9467BD\",\"#8C564B\",\"#E377C2\",\"#7F7F7F\",\"#BCBD22\",\"#17BECF\"],\"font\":{\"color\":\"rgb(36,36,36)\"},\"geo\":{\"bgcolor\":\"white\",\"lakecolor\":\"white\",\"landcolor\":\"white\",\"showlakes\":true,\"showland\":true,\"subunitcolor\":\"white\"},\"hoverlabel\":{\"align\":\"left\"},\"hovermode\":\"closest\",\"mapbox\":{\"style\":\"light\"},\"paper_bgcolor\":\"white\",\"plot_bgcolor\":\"white\",\"polar\":{\"angularaxis\":{\"gridcolor\":\"rgb(232,232,232)\",\"linecolor\":\"rgb(36,36,36)\",\"showgrid\":false,\"showline\":true,\"ticks\":\"outside\"},\"bgcolor\":\"white\",\"radialaxis\":{\"gridcolor\":\"rgb(232,232,232)\",\"linecolor\":\"rgb(36,36,36)\",\"showgrid\":false,\"showline\":true,\"ticks\":\"outside\"}},\"scene\":{\"xaxis\":{\"backgroundcolor\":\"white\",\"gridcolor\":\"rgb(232,232,232)\",\"gridwidth\":2,\"linecolor\":\"rgb(36,36,36)\",\"showbackground\":true,\"showgrid\":false,\"showline\":true,\"ticks\":\"outside\",\"zeroline\":false,\"zerolinecolor\":\"rgb(36,36,36)\"},\"yaxis\":{\"backgroundcolor\":\"white\",\"gridcolor\":\"rgb(232,232,232)\",\"gridwidth\":2,\"linecolor\":\"rgb(36,36,36)\",\"showbackground\":true,\"showgrid\":false,\"showline\":true,\"ticks\":\"outside\",\"zeroline\":false,\"zerolinecolor\":\"rgb(36,36,36)\"},\"zaxis\":{\"backgroundcolor\":\"white\",\"gridcolor\":\"rgb(232,232,232)\",\"gridwidth\":2,\"linecolor\":\"rgb(36,36,36)\",\"showbackground\":true,\"showgrid\":false,\"showline\":true,\"ticks\":\"outside\",\"zeroline\":false,\"zerolinecolor\":\"rgb(36,36,36)\"}},\"shapedefaults\":{\"fillcolor\":\"black\",\"line\":{\"width\":0},\"opacity\":0.3},\"ternary\":{\"aaxis\":{\"gridcolor\":\"rgb(232,232,232)\",\"linecolor\":\"rgb(36,36,36)\",\"showgrid\":false,\"showline\":true,\"ticks\":\"outside\"},\"baxis\":{\"gridcolor\":\"rgb(232,232,232)\",\"linecolor\":\"rgb(36,36,36)\",\"showgrid\":false,\"showline\":true,\"ticks\":\"outside\"},\"bgcolor\":\"white\",\"caxis\":{\"gridcolor\":\"rgb(232,232,232)\",\"linecolor\":\"rgb(36,36,36)\",\"showgrid\":false,\"showline\":true,\"ticks\":\"outside\"}},\"title\":{\"x\":0.05},\"xaxis\":{\"automargin\":true,\"gridcolor\":\"rgb(232,232,232)\",\"linecolor\":\"rgb(36,36,36)\",\"showgrid\":false,\"showline\":true,\"ticks\":\"outside\",\"title\":{\"standoff\":15},\"zeroline\":false,\"zerolinecolor\":\"rgb(36,36,36)\"},\"yaxis\":{\"automargin\":true,\"gridcolor\":\"rgb(232,232,232)\",\"linecolor\":\"rgb(36,36,36)\",\"showgrid\":false,\"showline\":true,\"ticks\":\"outside\",\"title\":{\"standoff\":15},\"zeroline\":false,\"zerolinecolor\":\"rgb(36,36,36)\"}}},\"title\":{\"text\":\"<b>S-S model </b>, N=4, J2 =1, J1 =0.9 , η=0.01, α=8, samples=3000\"},\"xaxis\":{\"mirror\":true,\"showline\":true,\"title\":{\"text\":\"Iteration\"}},\"yaxis\":{\"mirror\":true,\"showline\":true,\"title\":{\"text\":\"Energy\"}}},                        {\"responsive\": true}                    ).then(function(){\n",
       "                            \n",
       "var gd = document.getElementById('eec9bb3b-9db1-46e2-8807-6d7cc0b58f74');\n",
       "var x = new MutationObserver(function (mutations, observer) {{\n",
       "        var display = window.getComputedStyle(gd).display;\n",
       "        if (!display || display === 'none') {{\n",
       "            console.log([gd, 'removed!']);\n",
       "            Plotly.purge(gd);\n",
       "            observer.disconnect();\n",
       "        }}\n",
       "}});\n",
       "\n",
       "// Listen for the removal of the full notebook cells\n",
       "var notebookContainer = gd.closest('#notebook-container');\n",
       "if (notebookContainer) {{\n",
       "    x.observe(notebookContainer, {childList: true});\n",
       "}}\n",
       "\n",
       "// Listen for the clearing of the current output cell\n",
       "var outputEl = gd.closest('.output');\n",
       "if (outputEl) {{\n",
       "    x.observe(outputEl, {childList: true});\n",
       "}}\n",
       "\n",
       "                        })                };                });            </script>        </div>"
      ]
     },
     "metadata": {},
     "output_type": "display_data"
    }
   ],
   "source": [
    "# import the data from log file\n",
    "OUT_NAME_suffixless=OUT_NAME\n",
    "data = []\n",
    "names = [\"normal\",\"MSR\"]\n",
    "for i in range(no_of_runs):\n",
    "    data.append(json.load(open(OUT_NAME_suffixless+str(i)+\".log\")))\n",
    "if type(data[0][\"Energy\"][\"Mean\"]) == dict: #DTYPE in (np.complex128, np.complex64):#, np.float64):# and False:\n",
    "    energy_convergence = [data[i][\"Energy\"][\"Mean\"][\"real\"] for i in range(no_of_runs)]\n",
    "    # symmetry = [data[i][\"symmetry\"][\"Mean\"][\"real\"] for i in range(no_of_runs-run_only_2)]\n",
    "else:\n",
    "    energy_convergence = [data[i][\"Energy\"][\"Mean\"] for i in range(no_of_runs)]\n",
    "    # symmetry = [data[i][\"symmetry\"][\"Mean\"] for i in range(no_of_runs-run_only_2)]\n",
    "for i in range(no_of_runs):\n",
    "    figure.add_trace(go.Scatter(\n",
    "        x=data[i][\"Energy\"][\"iters\"], y=energy_convergence[i],\n",
    "        name=names[i],# mode='markers'\n",
    "    ))\n",
    "    # figure.add_trace(go.Scatter(\n",
    "    #     x=data[i][\"Energy\"][\"iters\"], y=symmetry[i],\n",
    "    #     name=names[i]+\"_swap\"\n",
    "    # ))\n",
    "\n",
    "figure.update_layout(xaxis_title=\"Iteration\",yaxis_title=\"Energy\")\n",
    "figure.show()"
   ]
  },
  {
   "cell_type": "markdown",
   "metadata": {},
   "source": [
    "## Assessment of the other simulation results"
   ]
  },
  {
   "cell_type": "code",
   "execution_count": null,
   "metadata": {},
   "outputs": [
    {
     "name": "stdout",
     "output_type": "stream",
     "text": [
      "[75, 36]\n"
     ]
    }
   ],
   "source": [
    "# Calculation of how long it took to reach 99.5% of exact energy. The first value under 0.5% deviation counts as a converged state.\n",
    "no_of_runs = 2\n",
    "threshold_energy = 0.995*exact_ground_energy\n",
    "data = []\n",
    "for i in range(no_of_runs):\n",
    "    data.append(json.load(open(OUT_NAME+str(i)+\".log\")))\n",
    "if type(data[0][\"Energy\"][\"Mean\"]) == dict:\n",
    "    energy_convergence = [data[i][\"Energy\"][\"Mean\"][\"real\"] for i in range(no_of_runs)]\n",
    "else:\n",
    "    energy_convergence = [data[i][\"Energy\"][\"Mean\"] for i in range(no_of_runs)]\n",
    "steps_until_convergence = [next((i for i,v in enumerate(energy_convergence[j]) if v < threshold_energy), -1) for j in range(no_of_runs)]\n",
    "print(steps_until_convergence)"
   ]
  },
  {
   "cell_type": "code",
   "execution_count": null,
   "metadata": {},
   "outputs": [
    {
     "name": "stdout",
     "output_type": "stream",
     "text": [
      "Trained RBM without MSR:\n",
      "m_d^2 = -0.333345-0.000018j ± 0.000021 [σ²=0.000001]\n",
      "m_p(MSR) = 1.000e+00+0.000e+00j ± nan [σ²=0.000e+00]\n",
      "m_s^2 = 1.99967-0.00009j ± 0.00034 [σ²=0.00035]\n",
      "m_s^2(MSR) = 0.6673+0.0001j ± 0.0079 [σ²=0.2221]\n",
      "Trained RBM with MSR:\n",
      "m_d^2 = -3.333e-01-8.089e-09j ± 5.184e-08 [σ²=7.426e-12]\n",
      "m_p(MSR) = 1.000e+00+0.000e+00j ± nan [σ²=0.000e+00]\n",
      "m_s^2 = 0.6597+0.0000j ± 0.0086 [σ²=0.2245]\n",
      "m_s^2(MSR) = 2.000e+00+1.194e-08j ± 8.844e-08 [σ²=2.005e-11]\n"
     ]
    }
   ],
   "source": [
    "# Evaluation of order parameters.\n",
    "from lattice_and_ops import Operators, Lattice\n",
    "ops = Operators(lattice,hilbert,ho.mszsz,ho.exchange)\n",
    "for i,gs in enumerate([gs_1,gs_2][run_only_2:run_only_2+no_of_runs]):\n",
    "    print(\"Trained RBM with MSR:\" if (i+run_only_2) else \"Trained RBM without MSR:\")\n",
    "    print(\"m_d^2 =\", gs.estimate(ops.m_dimer_op))\n",
    "    print(\"m_p(MSR) =\", gs.estimate(ops.m_plaquette_op_MSR))\n",
    "    print(\"m_s^2 =\", gs.estimate(ops.m_s2_op))\n",
    "    print(\"m_s^2(MSR) =\", gs.estimate(ops.m_s2_op_MSR))"
   ]
  },
  {
   "cell_type": "markdown",
   "metadata": {},
   "source": [
    "## Standardised logging"
   ]
  },
  {
   "cell_type": "code",
   "execution_count": null,
   "metadata": {},
   "outputs": [
    {
     "name": "stdout",
     "output_type": "stream",
     "text": [
      " 0.900  -12.40000  0.00000   -12.40000  0.00000    1.0000  0.0000  -0.3333  0.0000   1.9997  0.0003    1.0000  0.0000  -0.3333  0.0000   0.6673  0.2221   -12.40000  3000   500 75, 36\n"
     ]
    }
   ],
   "source": [
    "from lattice_and_ops import log_results\n",
    "log_results(JEXCH1,gs_1,gs_1,ops,SAMPLES,NUM_ITER,exact_ground_energy,steps_until_convergence,filename=\"temp.txt\")"
   ]
  },
  {
   "cell_type": "markdown",
   "metadata": {},
   "source": [
    "### Print final results"
   ]
  },
  {
   "cell_type": "code",
   "execution_count": null,
   "metadata": {},
   "outputs": [
    {
     "ename": "TypeError",
     "evalue": "log_results() missing 1 required positional argument: 'steps_until_convergence'",
     "output_type": "error",
     "traceback": [
      "\u001b[0;31m---------------------------------------------------------------------------\u001b[0m",
      "\u001b[0;31mTypeError\u001b[0m                                 Traceback (most recent call last)",
      "\u001b[0;32m/tmp/ipykernel_271/2261589024.py\u001b[0m in \u001b[0;36m<module>\u001b[0;34m\u001b[0m\n\u001b[1;32m      1\u001b[0m \u001b[0;32mfrom\u001b[0m \u001b[0mlattice_and_ops\u001b[0m \u001b[0;32mimport\u001b[0m \u001b[0mlog_results\u001b[0m\u001b[0;34m\u001b[0m\u001b[0;34m\u001b[0m\u001b[0m\n\u001b[0;32m----> 2\u001b[0;31m \u001b[0mlog_results\u001b[0m\u001b[0;34m(\u001b[0m\u001b[0mJEXCH1\u001b[0m\u001b[0;34m,\u001b[0m\u001b[0mgs_1\u001b[0m\u001b[0;34m,\u001b[0m\u001b[0mgs_2\u001b[0m\u001b[0;34m,\u001b[0m\u001b[0mops\u001b[0m\u001b[0;34m,\u001b[0m\u001b[0mSAMPLES\u001b[0m\u001b[0;34m,\u001b[0m\u001b[0mNUM_ITER\u001b[0m\u001b[0;34m,\u001b[0m\u001b[0msteps_until_convergence\u001b[0m\u001b[0;34m)\u001b[0m\u001b[0;34m\u001b[0m\u001b[0;34m\u001b[0m\u001b[0m\n\u001b[0m",
      "\u001b[0;31mTypeError\u001b[0m: log_results() missing 1 required positional argument: 'steps_until_convergence'"
     ]
    }
   ],
   "source": [
    "from lattice_and_ops import log_results\n",
    "log_results(JEXCH1,gs_1,gs_2,ops,SAMPLES,NUM_ITER,steps_until_convergence)"
   ]
  },
  {
   "cell_type": "code",
   "execution_count": null,
   "metadata": {},
   "outputs": [
    {
     "name": "stdout",
     "output_type": "stream",
     "text": [
      " 0.400  -15.74737  0.46486   0.4879  0.0093   0.0233  0.4016   0.1384  0.0085   1000   400\n"
     ]
    }
   ],
   "source": [
    "print(\"{:6.3f} {:10.5f} {:8.5f}  {:7.4f} {:7.4f}  {:7.4f} {:7.4f}  {:7.4f} {:7.4f}  {:5.0f} {:5.0f}\".format(JEXCH1, \n",
    "    gs_1.energy.mean.real,                          gs_1.energy.variance,\n",
    "    gs_1.estimate(ops.m_dimer_op).mean.real,        gs_1.estimate(ops.m_dimer_op).variance,\n",
    "    gs_1.estimate(ops.m_plaquette_op).mean.real,    gs_1.estimate(ops.m_plaquette_op).variance,\n",
    "    gs_1.estimate(ops.m_s2_op).mean.real,           gs_1.estimate(ops.m_s2_op).variance, \n",
    "    SAMPLES, NUM_ITER, steps_until_convergence[0], sep='    '))"
   ]
  },
  {
   "cell_type": "code",
   "execution_count": null,
   "metadata": {},
   "outputs": [
    {
     "name": "stdout",
     "output_type": "stream",
     "text": [
      "asd\n"
     ]
    }
   ],
   "source": [
    "print(\"asd\",file=None)"
   ]
  },
  {
   "cell_type": "code",
   "execution_count": null,
   "metadata": {},
   "outputs": [
    {
     "name": "stdout",
     "output_type": "stream",
     "text": [
      "  0.46486\n"
     ]
    }
   ],
   "source": [
    "print(\"{:9.5f}\".format(gs_1.energy.variance))"
   ]
  },
  {
   "cell_type": "code",
   "execution_count": null,
   "metadata": {},
   "outputs": [
    {
     "data": {
      "text/plain": [
       "{'Mean': (-15.747368841964612-0.003949807027622352j),\n",
       " 'Variance': 0.46486127291880336,\n",
       " 'Sigma': 0.02484698569889124,\n",
       " 'R_hat': nan,\n",
       " 'TauCorr': 0.16403971925269567}"
      ]
     },
     "execution_count": 211,
     "metadata": {},
     "output_type": "execute_result"
    }
   ],
   "source": [
    "gs_1.energy.to_dict()"
   ]
  }
 ],
 "metadata": {
  "interpreter": {
   "hash": "31f2aee4e71d21fbe5cf8b01ff0e069b9275f58929596ceb00d14d90e3e16cd6"
  },
  "kernelspec": {
   "display_name": "Python 3.8.10 64-bit",
   "name": "python3"
  },
  "language_info": {
   "codemirror_mode": {
    "name": "ipython",
    "version": 3
   },
   "file_extension": ".py",
   "mimetype": "text/x-python",
   "name": "python",
   "nbconvert_exporter": "python",
   "pygments_lexer": "ipython3",
   "version": "3.8.10"
  },
  "metadata": {
   "interpreter": {
    "hash": "916dbcbb3f70747c44a77c7bcd40155683ae19c65e1c03b4aa3499c5328201f1"
   }
  }
 },
 "nbformat": 4,
 "nbformat_minor": 4
}
