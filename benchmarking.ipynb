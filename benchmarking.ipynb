{
 "cells": [
  {
   "cell_type": "markdown",
   "metadata": {},
   "source": [
    "# Exploring Shastry-Sutterland model with RBM variational wave function and other models"
   ]
  },
  {
   "cell_type": "code",
   "execution_count": 77,
   "metadata": {},
   "outputs": [
    {
     "name": "stdout",
     "output_type": "stream",
     "text": [
      "Python version: 3.8.10 (default, Nov 26 2021, 20:14:08) \n",
      "[GCC 9.3.0]\n",
      "NetKet version: 3.3.2.post1\n",
      "NumPy version: 1.20.3\n"
     ]
    }
   ],
   "source": [
    "import netket as nk\n",
    "import numpy as np\n",
    "import time\n",
    "import json\n",
    "import plotly.graph_objects as go\n",
    "import matplotlib.pyplot as plt\n",
    "import jax\n",
    "import flax\n",
    "import optax\n",
    "from sys import version as pyvers\n",
    "\n",
    "print(\"Python version: {}\".format(pyvers))\n",
    "print(\"NetKet version: {}\".format(nk.__version__))\n",
    "print(\"NumPy version: {}\".format(np.__version__))"
   ]
  },
  {
   "cell_type": "markdown",
   "metadata": {},
   "source": [
    "### Setup relevant parameters and settings of the simulation "
   ]
  },
  {
   "cell_type": "code",
   "execution_count": 78,
   "metadata": {},
   "outputs": [],
   "source": [
    "\"\"\"lattice\"\"\"\n",
    "SITES    = 16            # 4, 8, 16, 20 ... number of vertices in a tile determines the tile shape \n",
    "JEXCH1   = .2            # nn interaction\n",
    "JEXCH2   = 1             # nnn interaction\n",
    "H_Z      = 1.3             # magnetic field\n",
    "TOTAL_SZ = None          # 0, None ... restriction of Hilbert space\n",
    "#USE_MSR = True          # Should we use a Marshall sign rule? In this notebook, we use both.\n",
    "\n",
    "\"\"\"machine learning\"\"\"\n",
    "MACHINE  = \"RBM\"         # RBM, RBMSymm, RBMSymm_transl, RBMModPhase, GCNN, Jastrow\n",
    "DTYPE    = np.complex128 # data-type of weights in neural network\n",
    "ALPHA    = 16            # N_hidden / N_visible\n",
    "ETA      = .01          # learning rate (0.01 usually works)\n",
    "SAMPLER  = 'exact'       # 'local' = MetropolisLocal, 'exchange' = MetropolisExchange\n",
    "SAMPLES  = 1000          # number of Monte Carlo samples\n",
    "NUM_ITER = 400           # number of convergence iterations\n",
    "N_LAYERS = 3 #2             # number of layers (in case of G-CNN)\n",
    "FEATURES = (8,4,4) #16 #(8,4)         # dimensions of layers (in case of G-CNN)\n",
    "\n",
    "OUT_NAME = \"SS_\"+str(SITES)+\"j1=\"+str(JEXCH1) # output file name"
   ]
  },
  {
   "cell_type": "markdown",
   "metadata": {},
   "source": [
    "### Lattice definition\n",
    "Basic structure of tiled lattices is implemented in `lattice_and_ops.py` file. Class `Lattice` implements relative positional functions, \n",
    "- e.g. *`rt(node)` returns the index of the right neighbour of a site with index `node`*\n",
    "\n",
    "The `for` loop constructs full Shastry-Sutherland lattice with PBC using these auxiliary positional functions."
   ]
  },
  {
   "cell_type": "code",
   "execution_count": 79,
   "metadata": {},
   "outputs": [],
   "source": [
    "from lattice_and_ops import Lattice\n",
    "lattice = Lattice(SITES)\n",
    "\n",
    "# Construction of custom graph according to tiled lattice structure defined in the Lattice class.\n",
    "edge_colors = []\n",
    "for node in range(SITES):\n",
    "    edge_colors.append([node,lattice.rt(node), 1])  # horizontal connections\n",
    "    edge_colors.append([node,lattice.bot(node), 1]) # vertical connections\n",
    "    row, column = lattice.position(node)\n",
    "    if column%2 == 0:\n",
    "        if row%2 == 0:\n",
    "            edge_colors.append([node,lattice.lrt(node),2]) # diagonal bond\n",
    "        else:\n",
    "            edge_colors.append([node,lattice.llft(node),2]) # diagonal bond\n",
    "\n",
    "g = nk.graph.Graph(edges=edge_colors) #,n_nodes=3)\n",
    "N = g.n_nodes\n",
    "\n",
    "hilbert = nk.hilbert.Spin(s=.5, N=g.n_nodes, total_sz=TOTAL_SZ)"
   ]
  },
  {
   "cell_type": "code",
   "execution_count": 80,
   "metadata": {},
   "outputs": [
    {
     "data": {
      "text/plain": [
       "'alternative (simple) toy lattices'"
      ]
     },
     "execution_count": 80,
     "metadata": {},
     "output_type": "execute_result"
    }
   ],
   "source": [
    "\"\"\"alternative (simple) toy lattices\"\"\"\n",
    "# # two dimers\n",
    "# edge_colors.append([0,1,1])\n",
    "# edge_colors.append([2,3,1])\n",
    "\n",
    "# # SS 2x2 lattice:\n",
    "# edge_colors.append([0,1,1])\n",
    "# edge_colors.append([2,3,1])\n",
    "# edge_colors.append([1,2,1])\n",
    "# edge_colors.append([0,3,1])\n",
    "# edge_colors.append([0,2,2])\n",
    "# edge_colors.append([1,3,2])\n",
    "\n",
    "# # 3-chain:\n",
    "# edge_colors.append([0,1,1])\n",
    "# edge_colors.append([1,2,1])\n",
    "# edge_colors.append([2,0,1])"
   ]
  },
  {
   "cell_type": "markdown",
   "metadata": {},
   "source": [
    "### Characters of the symmetries\n",
    "In case of G-CNN, we need to specify the characters of the symmetry transformations.\n",
    "- DS phase anti-symmetric wrt permutations with negative sign and symmetric wer permutaions with postive sign\n",
    "- AF phase is always symmetric for all permutations  "
   ]
  },
  {
   "cell_type": "code",
   "execution_count": 81,
   "metadata": {},
   "outputs": [
    {
     "name": "stdout",
     "output_type": "stream",
     "text": [
      "There are 64 full symmetries.\n"
     ]
    }
   ],
   "source": [
    "\n",
    "print(\"There are\", len(g.automorphisms()), \"full symmetries.\")\n",
    "# deciding point between DS and AF phase is set to 0.5\n",
    "if JEXCH1 < 0.5:\n",
    "    # DS phase is partly anti-symmetric\n",
    "    characters = []\n",
    "    from lattice_and_ops import permutation_sign\n",
    "    for perm in g.automorphisms():\n",
    "        # print(perm, \"with sign\", permutation_sign(np.asarray(perm)))\n",
    "        characters.append(permutation_sign(np.asarray(perm)))\n",
    "    characters_dimer = np.asarray(characters,dtype=complex)\n",
    "    characters_dimer_msr = characters_dimer\n",
    "else:\n",
    "    # AF phase if fully symmetric\n",
    "    characters_dimer = np.ones((len(g.automorphisms()),), dtype=complex)\n",
    "    characters_dimer_msr = characters_dimer"
   ]
  },
  {
   "cell_type": "markdown",
   "metadata": {},
   "source": [
    "### Translations\n",
    "\n",
    "If we want to include only translations, we have to exclude some symmetries from `g.automorphisms()`.\n",
    "\n",
    "\n",
    "⚠️ TODO ⚠️ <span style=\"color:red\"> This part is not fully automated yet. Translations are currently picked by hand from the group of all automorphisms. </span>"
   ]
  },
  {
   "cell_type": "code",
   "execution_count": 82,
   "metadata": {},
   "outputs": [
    {
     "name": "stdout",
     "output_type": "stream",
     "text": [
      "Out of 64 permutations, 4 translations were picked.\n"
     ]
    }
   ],
   "source": [
    "if MACHINE == \"RBMSymm_transl\" and N != 4:\n",
    "    raise NotImplementedError(\"Extraction of translations from the group of automorphisms is not implemented yet.\")\n",
    "translations = []\n",
    "for perm in g.automorphisms():\n",
    "    aperm = np.asarray(perm)\n",
    "    if (aperm[0],aperm[1]) in ((0,1),(1,0),(2,3),(3,2)): # N = 4\n",
    "    # if (aperm[0],aperm[1],aperm[3]) in ((0,1,3),(2,3,1),(8,9,11),(10,11,9)): # N = 16\n",
    "    # if (aperm[0],aperm[1],aperm[2],aperm[3]) in ((4,7,6,5),): # N = 8\n",
    "    # if (aperm[2],aperm[0]) in ((2,0),(3,0),(0,1),(1,2)):#,(2,3,1)): # N = 16, two dimers with just translation\n",
    "    # if (aperm[0],aperm[1],aperm[3]) in ((0,1,3),(3,2,0),(2,3,1),(1,0,2)): # N = 16, two dimers plus second translation option\n",
    "        translations.append(nk.utils.group._permutation_group.Permutation(aperm))\n",
    "translation_group = nk.utils.group._permutation_group.PermutationGroup(translations,degree=SITES)\n",
    "print(\"Out of\", len(g.automorphisms()), \"permutations,\",len(translation_group), \"translations were picked.\")"
   ]
  },
  {
   "cell_type": "code",
   "execution_count": 83,
   "metadata": {},
   "outputs": [
    {
     "data": {
      "text/plain": [
       "(['1xPermutation([0, 1, 2, 3, 4, 5, 6, 7, 8, 9, 10, 11, 12, 13, 14, 15])',\n",
       "  '4xPermutation([0, 1, 13, 12, 4, 5, 9, 8, 7, 6, 10, 11, 3, 2, 14, 15])',\n",
       "  '4xPermutation([0, 4, 8, 12, 1, 5, 9, 13, 2, 6, 10, 14, 3, 7, 11, 15])',\n",
       "  '8xPermutation([1, 2, 3, 0, 13, 14, 15, 12, 9, 10, 11, 8, 5, 6, 7, 4])',\n",
       "  '8xPermutation([1, 2, 6, 5, 13, 14, 10, 9, 12, 15, 11, 8, 0, 3, 7, 4])',\n",
       "  '4xPermutation([2, 3, 0, 1, 6, 7, 4, 5, 10, 11, 8, 9, 14, 15, 12, 13])',\n",
       "  '8xPermutation([2, 3, 15, 14, 6, 7, 11, 10, 5, 4, 8, 9, 1, 0, 12, 13])',\n",
       "  '4xPermutation([2, 6, 10, 14, 3, 7, 11, 15, 0, 4, 8, 12, 1, 5, 9, 13])',\n",
       "  '8xPermutation([3, 0, 1, 2, 15, 12, 13, 14, 11, 8, 9, 10, 7, 4, 5, 6])',\n",
       "  '8xPermutation([3, 0, 4, 7, 15, 12, 8, 11, 14, 13, 9, 10, 2, 1, 5, 6])',\n",
       "  '2xPermutation([5, 4, 7, 6, 1, 0, 3, 2, 13, 12, 15, 14, 9, 8, 11, 10])',\n",
       "  '4xPermutation([5, 4, 8, 9, 1, 0, 12, 13, 2, 3, 15, 14, 6, 7, 11, 10])',\n",
       "  '1xPermutation([10, 11, 8, 9, 14, 15, 12, 13, 2, 3, 0, 1, 6, 7, 4, 5])'],\n",
       " array([[ 1.+0.j,  1.+0.j,  1.+0.j,  1.+0.j,  1.+0.j,  1.+0.j,  1.+0.j,\n",
       "          1.+0.j,  1.+0.j,  1.+0.j,  1.+0.j,  1.+0.j,  1.+0.j],\n",
       "        [ 1.+0.j,  1.+0.j,  1.+0.j,  0.+1.j,  0.+1.j, -1.+0.j, -1.+0.j,\n",
       "         -1.+0.j,  0.-1.j,  0.-1.j,  1.+0.j,  1.+0.j,  1.+0.j],\n",
       "        [ 1.+0.j,  1.+0.j,  1.+0.j,  0.-1.j,  0.-1.j, -1.+0.j, -1.+0.j,\n",
       "         -1.+0.j,  0.+1.j,  0.+1.j,  1.+0.j,  1.+0.j,  1.+0.j],\n",
       "        [ 1.+0.j,  1.+0.j,  1.+0.j, -1.+0.j, -1.+0.j,  1.+0.j,  1.+0.j,\n",
       "          1.+0.j, -1.+0.j, -1.+0.j,  1.+0.j,  1.+0.j,  1.+0.j],\n",
       "        [ 1.+0.j, -1.+0.j,  1.+0.j,  1.+0.j, -1.+0.j,  1.+0.j, -1.+0.j,\n",
       "          1.+0.j,  1.+0.j, -1.+0.j,  1.+0.j, -1.+0.j,  1.+0.j],\n",
       "        [ 1.+0.j, -1.+0.j,  1.+0.j,  0.+1.j,  0.-1.j, -1.+0.j,  1.+0.j,\n",
       "         -1.+0.j,  0.-1.j,  0.+1.j,  1.+0.j, -1.+0.j,  1.+0.j],\n",
       "        [ 1.+0.j, -1.+0.j,  1.+0.j,  0.-1.j,  0.+1.j, -1.+0.j,  1.+0.j,\n",
       "         -1.+0.j,  0.+1.j,  0.-1.j,  1.+0.j, -1.+0.j,  1.+0.j],\n",
       "        [ 1.+0.j, -1.+0.j,  1.+0.j, -1.+0.j,  1.+0.j,  1.+0.j, -1.+0.j,\n",
       "          1.+0.j, -1.+0.j,  1.+0.j,  1.+0.j, -1.+0.j,  1.+0.j],\n",
       "        [ 2.+0.j,  0.+0.j, -2.+0.j,  0.+0.j,  0.+0.j,  2.+0.j,  0.+0.j,\n",
       "         -2.+0.j,  0.+0.j,  0.+0.j,  2.+0.j,  0.+0.j,  2.+0.j],\n",
       "        [ 2.+0.j,  0.+0.j, -2.+0.j,  0.+0.j,  0.+0.j, -2.+0.j,  0.+0.j,\n",
       "          2.+0.j,  0.+0.j,  0.+0.j,  2.+0.j,  0.+0.j,  2.+0.j],\n",
       "        [ 4.+0.j,  2.+0.j,  0.+0.j,  0.+0.j,  0.+0.j,  0.+0.j,  0.+0.j,\n",
       "          0.+0.j,  0.+0.j,  0.+0.j,  0.+0.j, -2.+0.j, -4.+0.j],\n",
       "        [ 4.+0.j,  0.+0.j,  0.+0.j,  0.+0.j,  0.+0.j,  0.+0.j,  0.+0.j,\n",
       "          0.+0.j,  0.+0.j,  0.+0.j, -4.+0.j,  0.+0.j,  4.+0.j],\n",
       "        [ 4.+0.j, -2.+0.j,  0.+0.j,  0.+0.j,  0.+0.j,  0.+0.j,  0.+0.j,\n",
       "          0.+0.j,  0.+0.j,  0.+0.j,  0.+0.j,  2.+0.j, -4.+0.j]]))"
      ]
     },
     "execution_count": 83,
     "metadata": {},
     "output_type": "execute_result"
    }
   ],
   "source": [
    "g.automorphisms().character_table_readable()"
   ]
  },
  {
   "cell_type": "markdown",
   "metadata": {},
   "source": [
    "## Hamoltonian definition\n",
    "$$ H = J_{1} \\sum\\limits_{\\langle i,j \\rangle}^{L} \\vec{\\sigma}_{i} \\cdot \\vec{\\sigma}_{j} + J_{2} \\sum\\limits_{\\langle\\langle i,j \\rangle\\rangle_{SS}}^{L}  \\vec{\\sigma}_{i} \\cdot \\vec{\\sigma}_{j} + 2h\\sum\\limits_{i} \\sigma^z_{i}\\,. $$\n",
    "\n",
    "Axiliary constant operators used to define hamiltonian are loaded from the external file, they are pre-defined in the `HamOps` class."
   ]
  },
  {
   "cell_type": "code",
   "execution_count": 84,
   "metadata": {},
   "outputs": [],
   "source": [
    "from lattice_and_ops import HamOps\n",
    "ho = HamOps()\n",
    "# H_Z = .5\n",
    "ha_1 = nk.operator.GraphOperator(hilbert, graph=g, bond_ops=ho.bond_operator(JEXCH1,JEXCH2, h_z=H_Z, use_MSR=False), bond_ops_colors=ho.bond_color)\n",
    "ha_2 = nk.operator.GraphOperator(hilbert, graph=g, bond_ops=ho.bond_operator(JEXCH1,JEXCH2, h_z=H_Z, use_MSR=True), bond_ops_colors=ho.bond_color)\n"
   ]
  },
  {
   "cell_type": "code",
   "execution_count": 85,
   "metadata": {},
   "outputs": [
    {
     "name": "stdout",
     "output_type": "stream",
     "text": [
      "  (0, 0)\t56.00000000000004\n"
     ]
    }
   ],
   "source": [
    "print(ha_2.to_sparse()[0])\n",
    "# print(ha_2.to_sparse())"
   ]
  },
  {
   "cell_type": "markdown",
   "metadata": {},
   "source": [
    "### Magnetization operator definition\n",
    "$$ \\hat{m}_z := \\sum\\limits_i \\sigma_i^z $$"
   ]
  },
  {
   "cell_type": "code",
   "execution_count": 86,
   "metadata": {},
   "outputs": [],
   "source": [
    "m_z = sum(nk.operator.spin.sigmaz(hilbert, i) for i in range(hilbert.size))"
   ]
  },
  {
   "cell_type": "code",
   "execution_count": 87,
   "metadata": {},
   "outputs": [],
   "source": [
    "if False: # exact diagonalization scan\n",
    "    print(\"#N =\", N)\n",
    "    print(\"# J1     J2      H_Z            m_z            ground          1.excited          2.excited\")\n",
    "    for H_Z in np.arange(1.37,1.45,step=0.01):\n",
    "        ha = nk.operator.GraphOperator(hilbert, graph=g, bond_ops=ho.bond_operator(JEXCH1,JEXCH2, h_z=H_Z, use_MSR=False), bond_ops_colors=ho.bond_color)\n",
    "        start = time.time()\n",
    "        evals, eigvects = nk.exact.lanczos_ed(ha, k=3, compute_eigenvectors=True)\n",
    "        ground_state = eigvects.T[0]\n",
    "        end = time.time()\n",
    "        magnetization_z = ground_state.transpose()@(m_z@ground_state)\n",
    "        # print(\"ED took\", (start-end)/60, \"min.\")\n",
    "        # print(np.round(np.array(ground_state),5))\n",
    "        # print(ha.to_dense())\n",
    "        print(\"%.3f   %.3f  %2.10f   %2.10f   %2.10f   %14.10f   %14.10f\" % (JEXCH1, JEXCH2, H_Z, magnetization_z, evals[0], evals[1], evals[2]))"
   ]
  },
  {
   "cell_type": "markdown",
   "metadata": {},
   "source": [
    "## Exact diagonalization"
   ]
  },
  {
   "cell_type": "code",
   "execution_count": 88,
   "metadata": {},
   "outputs": [
    {
     "name": "stdout",
     "output_type": "stream",
     "text": [
      "Ground state energy: -29.04857609095212 \n",
      "It took  2.24 s = 0.04 min\n"
     ]
    }
   ],
   "source": [
    "if g.n_nodes < 20:\n",
    "    start = time.time()\n",
    "    if g.n_nodes < 15:\n",
    "        evals, eigvects = nk.exact.full_ed(ha_1, compute_eigenvectors=True)\n",
    "    else:\n",
    "        evals, eigvects = nk.exact.lanczos_ed(ha_1, k=3, compute_eigenvectors=True)\n",
    "    end = time.time()\n",
    "    diag_time = end - start\n",
    "    print(\"Ground state energy:\",evals[0], \"\\nIt took \", round(diag_time,2), \"s =\", round((diag_time)/60,2),\"min\")\n",
    "else:\n",
    "    print(\"System is too large for exact diagonalization. Setting exact_ground_energy = 0 (which is wrong)\")\n",
    "    evals = [0,0,0]\n",
    "    eigvects = None \n",
    "exact_ground_energy = evals[0]"
   ]
  },
  {
   "cell_type": "markdown",
   "metadata": {},
   "source": [
    "# Machine learning starts here"
   ]
  },
  {
   "cell_type": "markdown",
   "metadata": {},
   "source": [
    "## Machine definition and other auxiliary `netket` objects\n",
    "We define two sets of these objects, usually: \n",
    "- variables ending with ...`_1` belongs to the choice of standard basis,\n",
    "- variables ending with ...`_2` belongs to the choice of MSR basis.\n",
    "\n",
    "But they can be used in a different way when we need to compare two different models."
   ]
  },
  {
   "cell_type": "code",
   "execution_count": 89,
   "metadata": {},
   "outputs": [],
   "source": [
    "# Selection of machine type\n",
    "if MACHINE == \"RBM\":\n",
    "    machine_1 = nk.models.RBM(dtype=DTYPE, alpha=ALPHA)#, use_visible_bias=False) \n",
    "    machine_2 = nk.models.RBM(dtype=DTYPE, alpha=ALPHA)#, use_visible_bias=False)\n",
    "elif MACHINE == \"RBMSymm\":\n",
    "    machine_1 = nk.models.RBMSymm(g.automorphisms(), dtype=DTYPE, alpha=ALPHA)#, use_visible_bias=False) \n",
    "    machine_2 = nk.models.RBMSymm(g.automorphisms(), dtype=DTYPE, alpha=ALPHA)#, use_visible_bias=False)\n",
    "elif MACHINE == \"RBMSymm_transl\":\n",
    "    machine_1 = nk.models.RBMSymm(translation_group, dtype=DTYPE, alpha=ALPHA)#, use_visible_bias=False) \n",
    "    machine_2 = nk.models.RBMSymm(translation_group, dtype=DTYPE, alpha=ALPHA)#, use_visible_bias=False)\n",
    "elif MACHINE == \"GCNN\":\n",
    "    machine_1 = nk.models.GCNN(symmetries=g.automorphisms(), dtype=DTYPE, \n",
    "        layers=N_LAYERS, features=FEATURES, characters=characters_dimer    )#, output_activation=log_cosh)\n",
    "    machine_2 = nk.models.GCNN(symmetries=g.automorphisms(), dtype=DTYPE, \n",
    "        layers=N_LAYERS, features=FEATURES, characters=characters_dimer_msr)#, output_activation=log_cosh)\n",
    "elif MACHINE == \"myRBM\":\n",
    "    no_of_filters = int(ALPHA/len(characters_dimer))\n",
    "    if ALPHA%len(characters_dimer) != 0:\n",
    "        raise Exception(\"Invalid ALPHA. It needs to be divisible by the number of symmetries!\")\n",
    "    from netket.nn import log_cosh\n",
    "    def identity(x):\n",
    "        return x\n",
    "    from GCNN_Nomura import GCNN_my\n",
    "    machine_1 = GCNN_my(symmetries=g.automorphisms(), dtype=DTYPE, layers=1, features=no_of_filters, \n",
    "        characters=characters_dimer, output_activation=log_cosh, use_bias=True, use_visible_bias=True)\n",
    "    machine_2 = GCNN_my(symmetries=g.automorphisms(), dtype=DTYPE, layers=1, features=no_of_filters, \n",
    "        characters=characters_dimer, output_activation=log_cosh, use_bias=True, use_visible_bias=True)\n",
    "elif MACHINE == \"Jastrow\":\n",
    "    from lattice_and_ops import Jastrow\n",
    "    machine_1 = Jastrow()\n",
    "    machine_2 = Jastrow()\n",
    "elif MACHINE == \"RBMModPhase\":\n",
    "    machine_1 = nk.models.RBMModPhase(alpha=ALPHA, use_hidden_bias=True, dtype=DTYPE)\n",
    "    machine_2 = nk.models.RBMModPhase(alpha=ALPHA, use_hidden_bias=True, dtype=DTYPE)\n",
    "\n",
    "    # A linear schedule varies the learning rate from 0 to 0.01 across 600 steps.\n",
    "    modulus_schedule_1=optax.linear_schedule(0,0.01,NUM_ITER)\n",
    "    modulus_schedule_2=optax.linear_schedule(0,0.01,NUM_ITER)\n",
    "    # The phase starts with a larger learning rate and then is decreased.\n",
    "    phase_schedule_1=optax.linear_schedule(0.05,0.01,NUM_ITER)\n",
    "    phase_schedule_2=optax.linear_schedule(0.05,0.01,NUM_ITER)\n",
    "    # Combine the linear schedule with SGD\n",
    "    optm_1=optax.sgd(modulus_schedule_1)\n",
    "    optp_1=optax.sgd(phase_schedule_1)\n",
    "    optm_2=optax.sgd(modulus_schedule_2)\n",
    "    optp_2=optax.sgd(phase_schedule_2)\n",
    "    # The multi-transform optimizer uses different optimisers for different parts of the parameters.\n",
    "    optimizer_1 = optax.multi_transform({'o1': optm_1, 'o2': optp_1}, flax.core.freeze({\"Dense_0\":\"o1\", \"Dense_1\":\"o2\"}))\n",
    "    optimizer_2 = optax.multi_transform({'o1': optm_2, 'o2': optp_2}, flax.core.freeze({\"Dense_0\":\"o1\", \"Dense_1\":\"o2\"}))\n",
    "else:\n",
    "    raise Exception(str(\"undefined MACHINE: \")+str(MACHINE))\n",
    "\n",
    "# Selection of sampler type\n",
    "if SAMPLER == 'local':\n",
    "    sampler_1 = nk.sampler.MetropolisLocal(hilbert=hilbert)\n",
    "    sampler_2 = nk.sampler.MetropolisLocal(hilbert=hilbert)\n",
    "elif SAMPLER == 'exact':\n",
    "    sampler_1 = nk.sampler.ExactSampler(hilbert=hilbert)\n",
    "    sampler_2 = nk.sampler.ExactSampler(hilbert=hilbert)\n",
    "else:\n",
    "    sampler_1 = nk.sampler.MetropolisExchange(hilbert=hilbert, graph=g)\n",
    "    sampler_2 = nk.sampler.MetropolisExchange(hilbert=hilbert, graph=g)\n",
    "    if SAMPLER != 'exchange':\n",
    "        print(\"Warning! Undefined fq.SAMPLER:\", SAMPLER, \", dafaulting to MetropolisExchange fq.SAMPLER\")\n",
    "\n",
    "if MACHINE != \"RBMModPhase\":\n",
    "    optimizer_1 = nk.optimizer.Sgd(learning_rate=ETA)\n",
    "    optimizer_2 = nk.optimizer.Sgd(learning_rate=ETA)\n",
    "\n",
    "# Stochastic Reconfiguration as a preconditioner\n",
    "sr_1  = nk.optimizer.SR(diag_shift=0.01)\n",
    "sr_2  = nk.optimizer.SR(diag_shift=0.01)\n",
    "\n",
    "# The variational state (former name: nk.variational.MCState)\n",
    "vs_1 = nk.vqs.MCState(sampler_1 , machine_1 , n_samples=SAMPLES)\n",
    "vs_2 = nk.vqs.MCState(sampler_2 , machine_2 , n_samples=SAMPLES)\n",
    "vs_1.init_parameters(jax.nn.initializers.normal(stddev=0.001))\n",
    "vs_2.init_parameters(jax.nn.initializers.normal(stddev=0.001))\n",
    "\n",
    "\n",
    "gs_1 = nk.VMC(hamiltonian=ha_1 ,optimizer=optimizer_1 ,preconditioner=sr_1 ,variational_state=vs_1)\n",
    "gs_2 = nk.VMC(hamiltonian=ha_2 ,optimizer=optimizer_2 ,preconditioner=sr_2 ,variational_state=vs_2) "
   ]
  },
  {
   "cell_type": "code",
   "execution_count": 90,
   "metadata": {},
   "outputs": [
    {
     "name": "stdout",
     "output_type": "stream",
     "text": [
      "4368 4368\n"
     ]
    }
   ],
   "source": [
    "print(vs_1.n_parameters, vs_2.n_parameters)"
   ]
  },
  {
   "cell_type": "markdown",
   "metadata": {},
   "source": [
    "# Calculation\n",
    "We let the calculation run for `NUM_ITERS` iterations for both cases _1 and _2 (without MSR and with MSR). If only one case is desired, set the variable `no_of_runs` to 1."
   ]
  },
  {
   "cell_type": "code",
   "execution_count": 91,
   "metadata": {},
   "outputs": [
    {
     "name": "stdout",
     "output_type": "stream",
     "text": [
      "J_1 = 0.2; Expected exact energy: -29.04857609095212\n"
     ]
    },
    {
     "name": "stderr",
     "output_type": "stream",
     "text": [
      "  0%|          | 0/400 [00:00<?, ?it/s]"
     ]
    },
    {
     "name": "stdout",
     "output_type": "stream",
     "text": [
      "x=Traced<ShapedArray(complex128[256])>with<DynamicJaxprTrace(level=0/1)>  target=Traced<ShapedArray(complex128[256])>with<DynamicJaxprTrace(level=0/1)>\n",
      "x=Traced<ShapedArray(complex128[16,256])>with<DynamicJaxprTrace(level=0/1)>  target=Traced<ShapedArray(complex128[16,256])>with<DynamicJaxprTrace(level=0/1)>\n",
      "x=Traced<ShapedArray(complex128[16])>with<DynamicJaxprTrace(level=0/1)>  target=Traced<ShapedArray(complex128[16])>with<DynamicJaxprTrace(level=0/1)>\n",
      "x=Traced<ShapedArray(complex128[256])>with<DynamicJaxprTrace(level=1/2)>  target=Traced<ShapedArray(complex128[256])>with<DynamicJaxprTrace(level=1/2)>\n",
      "x=Traced<ShapedArray(complex128[16,256])>with<DynamicJaxprTrace(level=1/2)>  target=Traced<ShapedArray(complex128[16,256])>with<DynamicJaxprTrace(level=1/2)>\n",
      "x=Traced<ShapedArray(complex128[16])>with<DynamicJaxprTrace(level=1/2)>  target=Traced<ShapedArray(complex128[16])>with<DynamicJaxprTrace(level=1/2)>\n",
      "x=Traced<ShapedArray(complex128[256])>with<DynamicJaxprTrace(level=1/2)>  target=Traced<ShapedArray(complex128[256])>with<DynamicJaxprTrace(level=1/2)>\n",
      "x=Traced<ShapedArray(complex128[16,256])>with<DynamicJaxprTrace(level=1/2)>  target=Traced<ShapedArray(complex128[16,256])>with<DynamicJaxprTrace(level=1/2)>\n",
      "x=Traced<ShapedArray(complex128[16])>with<DynamicJaxprTrace(level=1/2)>  target=Traced<ShapedArray(complex128[16])>with<DynamicJaxprTrace(level=1/2)>\n",
      "x=Traced<ShapedArray(complex128[256])>with<DynamicJaxprTrace(level=2/2)>  target=Traced<ShapedArray(complex128[256])>with<DynamicJaxprTrace(level=2/2)>\n",
      "x=Traced<ShapedArray(complex128[16,256])>with<DynamicJaxprTrace(level=2/2)>  target=Traced<ShapedArray(complex128[16,256])>with<DynamicJaxprTrace(level=2/2)>\n",
      "x=Traced<ShapedArray(complex128[16])>with<DynamicJaxprTrace(level=2/2)>  target=Traced<ShapedArray(complex128[16])>with<DynamicJaxprTrace(level=2/2)>\n",
      "x=Traced<ShapedArray(complex128[256]):JaxprTrace(level=1/2)>  target=Traced<ShapedArray(complex128[256]):JaxprTrace(level=1/2)>\n",
      "x=Traced<ShapedArray(complex128[16,256]):JaxprTrace(level=1/2)>  target=Traced<ShapedArray(complex128[16,256]):JaxprTrace(level=1/2)>\n",
      "x=Traced<ShapedArray(complex128[16]):JaxprTrace(level=1/2)>  target=Traced<ShapedArray(complex128[16]):JaxprTrace(level=1/2)>\n"
     ]
    },
    {
     "name": "stderr",
     "output_type": "stream",
     "text": [
      " 14%|█▍        | 58/400 [00:54<03:38,  1.57it/s, Energy=-27.060-0.001j ± 0.029 [σ²=0.705]] "
     ]
    }
   ],
   "source": [
    "runs = [1,1]\n",
    "no_of_runs = np.sum(runs) # 1 - one run for variables with ..._1;  2 - both runs for variables ..._1 and ..._2\n",
    "run_only_2 = (runs[1]==1 and runs[0]==0) # in case of no_of_runs=1\n",
    "# NUM_ITER = 100#3000\n",
    "print(\"J_1 =\", JEXCH1, end=\"; \")\n",
    "if exact_ground_energy != 0:\n",
    "    print(\"Expected exact energy:\", exact_ground_energy)\n",
    "for i,gs in enumerate([gs_1,gs_2][run_only_2:run_only_2+no_of_runs]):\n",
    "    start = time.time()\n",
    "    gs.run(out=OUT_NAME+str(i), n_iter=int(NUM_ITER))#, obs={'symmetry':P(0,1)})\n",
    "    end = time.time()\n",
    "    print(\"The calculation for {} of type {} took {} min\".format(MACHINE, i+1, (end-start)/60))\n"
   ]
  },
  {
   "cell_type": "code",
   "execution_count": null,
   "metadata": {},
   "outputs": [
    {
     "name": "stdout",
     "output_type": "stream",
     "text": [
      "Trained RBM without MSR:\n",
      "Energy = -2.720e+01+0.000e+00j ± 2.512e-15 [σ²=5.049e-29]\n",
      "m_z = -15.9980+0.0000j ± 0.0020 [σ²=0.0040]\n",
      "Trained RBM with MSR:\n",
      "Energy = -27.2006+0.0021j ± 0.0027 [σ²=0.0073]\n",
      "m_z = -15.9920+0.0000j ± 0.0038 [σ²=0.0159]\n"
     ]
    }
   ],
   "source": [
    "for i,gs in enumerate([gs_1,gs_2][run_only_2:run_only_2+no_of_runs]):\n",
    "    print(\"Trained RBM with MSR:\" if i else \"Trained RBM without MSR:\")\n",
    "    print(\"Energy =\", gs.energy)\n",
    "    print(\"m_z =\", gs.estimate(m_z))"
   ]
  },
  {
   "cell_type": "markdown",
   "metadata": {},
   "source": [
    "## Energy Convergence Plotting\n",
    "In case that the machine did not converge, we can re-run the previous cell and than skip the next cell. This way, the replotting just appends the new results and does not erase the previoius results. "
   ]
  },
  {
   "cell_type": "code",
   "execution_count": null,
   "metadata": {},
   "outputs": [],
   "source": [
    "# Exact Energy Line\n",
    "no_of_all_iters = NUM_ITER\n",
    "figure = go.Figure(\n",
    "    data=[\n",
    "        go.Scatter(\n",
    "            x=(0,no_of_all_iters),\n",
    "            y=(exact_ground_energy,exact_ground_energy),\n",
    "            mode=\"lines\",line=go.scatter.Line(color=\"#000000\",width=1), name=\"exact energy\")],\n",
    "    layout=go.Layout(\n",
    "        template=\"simple_white\",\n",
    "        xaxis=dict(title=\"Iteration\", mirror=True, showline=True),\n",
    "        yaxis=dict(title=\"Energy\", mirror=True, showline=True),\n",
    "        title=(\"<b>\"+\"S-S\"+\" model </b>, L=\"+str(SITES)+\", J2 =\"+str(JEXCH2)+ \", J1 =\"+str(JEXCH1)+\" , η=\"+str(ETA)+\", α=\"+str(ALPHA)+\", samples=\"+str(SAMPLES)))\n",
    "    ).add_hline(y=exact_ground_energy, opacity=1, line_width=1)\n"
   ]
  },
  {
   "cell_type": "code",
   "execution_count": null,
   "metadata": {},
   "outputs": [
    {
     "data": {
      "application/vnd.plotly.v1+json": {
       "config": {
        "plotlyServerURL": "https://plot.ly"
       },
       "data": [
        {
         "line": {
          "color": "#000000",
          "width": 1
         },
         "mode": "lines",
         "name": "exact energy",
         "type": "scatter",
         "x": [
          0,
          400
         ],
         "y": [
          -29.048576090951883,
          -29.048576090951883
         ]
        },
        {
         "name": "normal",
         "type": "scatter",
         "x": [
          0,
          1,
          2,
          3,
          4,
          5,
          6,
          7,
          8,
          9,
          10,
          11,
          12,
          13,
          14,
          15,
          16,
          17,
          18,
          19,
          20,
          21,
          22,
          23,
          24,
          25,
          26,
          27,
          28,
          29,
          30,
          31,
          32,
          33,
          34,
          35,
          36,
          37,
          38,
          39,
          40,
          41,
          42,
          43,
          44,
          45,
          46,
          47,
          48,
          49,
          50,
          51,
          52,
          53,
          54,
          55,
          56,
          57,
          58,
          59,
          60,
          61,
          62,
          63,
          64,
          65,
          66,
          67,
          68,
          69,
          70,
          71,
          72,
          73,
          74,
          75,
          76,
          77,
          78,
          79,
          80,
          81,
          82,
          83,
          84,
          85,
          86,
          87,
          88,
          89,
          90,
          91,
          92,
          93,
          94,
          95,
          96,
          97,
          98,
          99,
          100,
          101,
          102,
          103,
          104,
          105,
          106,
          107,
          108,
          109,
          110,
          111,
          112,
          113,
          114,
          115,
          116,
          117,
          118,
          119,
          120,
          121,
          122,
          123,
          124,
          125,
          126,
          127,
          128,
          129,
          130,
          131,
          132,
          133,
          134,
          135,
          136,
          137,
          138,
          139,
          140,
          141,
          142,
          143,
          144,
          145,
          146,
          147,
          148,
          149,
          150,
          151,
          152,
          153,
          154,
          155,
          156,
          157,
          158,
          159,
          160,
          161,
          162,
          163,
          164,
          165,
          166,
          167,
          168,
          169,
          170,
          171,
          172,
          173,
          174,
          175,
          176,
          177,
          178,
          179,
          180,
          181,
          182,
          183,
          184,
          185,
          186,
          187,
          188,
          189,
          190,
          191,
          192,
          193,
          194,
          195,
          196,
          197,
          198,
          199,
          200,
          201,
          202,
          203,
          204,
          205,
          206,
          207,
          208,
          209,
          210,
          211,
          212,
          213,
          214,
          215,
          216,
          217,
          218,
          219,
          220,
          221,
          222,
          223,
          224,
          225,
          226,
          227,
          228,
          229,
          230,
          231,
          232,
          233,
          234,
          235,
          236,
          237,
          238,
          239,
          240,
          241,
          242,
          243,
          244,
          245,
          246,
          247,
          248,
          249,
          250,
          251,
          252,
          253,
          254,
          255,
          256,
          257,
          258,
          259,
          260,
          261,
          262,
          263,
          264,
          265,
          266,
          267,
          268,
          269,
          270,
          271,
          272,
          273,
          274,
          275,
          276,
          277,
          278,
          279,
          280,
          281,
          282,
          283,
          284,
          285,
          286,
          287,
          288,
          289,
          290,
          291,
          292,
          293,
          294,
          295,
          296,
          297,
          298,
          299,
          300,
          301,
          302,
          303,
          304,
          305,
          306,
          307,
          308,
          309,
          310,
          311,
          312,
          313,
          314,
          315,
          316,
          317,
          318,
          319,
          320,
          321,
          322,
          323,
          324,
          325,
          326,
          327,
          328,
          329,
          330,
          331,
          332,
          333,
          334,
          335,
          336,
          337,
          338,
          339,
          340,
          341,
          342,
          343,
          344,
          345,
          346,
          347,
          348,
          349,
          350,
          351,
          352,
          353,
          354,
          355,
          356,
          357,
          358,
          359,
          360,
          361,
          362,
          363,
          364,
          365,
          366,
          367,
          368,
          369,
          370,
          371,
          372,
          373,
          374,
          375,
          376,
          377,
          378,
          379,
          380,
          381,
          382,
          383,
          384,
          385,
          386,
          387,
          388,
          389,
          390,
          391,
          392,
          393,
          394,
          395,
          396,
          397,
          398,
          399
         ],
         "y": [
          14.10325722737486,
          12.27292758263539,
          10.240244706268891,
          8.461049459295593,
          6.121871911129747,
          3.932523851043456,
          1.9874628697216552,
          0.0418344608548709,
          -1.4350243842128156,
          -3.6285032287342807,
          -5.302158321516609,
          -6.966320464992511,
          -8.100317283884007,
          -10.138873495818492,
          -11.455177873241439,
          -12.712419864475699,
          -13.77276760222482,
          -14.85615287147196,
          -16.003627915071608,
          -17.258307976410897,
          -17.685607106366227,
          -18.96730209109028,
          -19.61220556782715,
          -20.601121290926688,
          -20.960003962459897,
          -21.812955128987237,
          -21.964937743996522,
          -22.7902275494736,
          -23.12461410901998,
          -23.346663377052987,
          -23.954173321992325,
          -24.500307214082785,
          -24.54863783919686,
          -24.942408481488442,
          -25.01003826666813,
          -25.30263187372109,
          -25.514674337558315,
          -25.634036852673663,
          -25.935906212789213,
          -25.92024342920149,
          -26.06128865960787,
          -26.107816333831313,
          -26.39422767783542,
          -26.263312466131044,
          -26.45693579710379,
          -26.462988800798836,
          -26.592498036345358,
          -26.75798238544559,
          -26.69020723817916,
          -26.82027460329419,
          -26.846855094876002,
          -26.862124943315756,
          -26.904099406519535,
          -26.955340333641587,
          -26.94022547935724,
          -26.98120518937315,
          -27.01293997658107,
          -27.001661691766383,
          -27.045269018425305,
          -27.04441891138951,
          -27.0709096206744,
          -27.05993168395856,
          -27.044932628087146,
          -27.059794711034844,
          -27.075507535919364,
          -27.10575330385859,
          -27.09659732984359,
          -27.11736606102228,
          -27.118098415359807,
          -27.128450698371672,
          -27.07964393306327,
          -27.138483111393054,
          -27.12673712202622,
          -27.159534209915677,
          -27.152635363866363,
          -27.14299756042963,
          -27.168269119307656,
          -27.142329833470935,
          -27.168728232537607,
          -27.144518845520928,
          -27.174552444710613,
          -27.148308637775266,
          -27.17858086234179,
          -27.189891334198602,
          -27.169235821717415,
          -27.173724461903397,
          -27.180107527574208,
          -27.169593999820687,
          -27.184809819522936,
          -27.154059932965183,
          -27.168801171878403,
          -27.1843109221095,
          -27.184359548900154,
          -27.179738658557127,
          -27.16445213955553,
          -27.189226493691198,
          -27.184285465102413,
          -27.17309547947718,
          -27.180063940474383,
          -27.17365516260783,
          -27.194249351979533,
          -27.194471049031293,
          -27.194807163901952,
          -27.184454388195697,
          -27.200000000000017,
          -27.1845940562852,
          -27.188774141151345,
          -27.184635171545263,
          -27.178696477173915,
          -27.18922207068545,
          -27.168436615840196,
          -27.18551581892826,
          -27.18520191132554,
          -27.19094620941585,
          -27.185600768812705,
          -27.18951471313559,
          -27.189640714186286,
          -27.18954834969391,
          -27.195397688402807,
          -27.195380141531576,
          -27.180652123633497,
          -27.200000000000017,
          -27.19466605640499,
          -27.189105446674844,
          -27.184371424512396,
          -27.184616198959727,
          -27.200000000000017,
          -27.195000964974817,
          -27.19529156336064,
          -27.183664160682536,
          -27.200000000000017,
          -27.200000000000017,
          -27.179447667316403,
          -27.190413333161263,
          -27.189568110668628,
          -27.200000000000017,
          -27.200000000000017,
          -27.183392322540325,
          -27.190005912832582,
          -27.19540264085741,
          -27.194776841181735,
          -27.18471098835273,
          -27.200000000000017,
          -27.189170794601257,
          -27.200000000000017,
          -27.200000000000017,
          -27.189447331090303,
          -27.18337464949372,
          -27.194118142769256,
          -27.18953369308841,
          -27.194527859599543,
          -27.195401260583548,
          -27.19050000703589,
          -27.200000000000017,
          -27.18112356635821,
          -27.19040742478742,
          -27.185703706213275,
          -27.200000000000017,
          -27.200000000000017,
          -27.200000000000017,
          -27.195093533973896,
          -27.200000000000017,
          -27.195458567460733,
          -27.19487508244484,
          -27.200000000000017,
          -27.189092269607848,
          -27.195167764898965,
          -27.185110311595842,
          -27.189812895797257,
          -27.200000000000017,
          -27.195072941069807,
          -27.184175610209426,
          -27.19469468494663,
          -27.194236405465656,
          -27.200000000000017,
          -27.200000000000017,
          -27.189863667264035,
          -27.19498893860075,
          -27.1902150571805,
          -27.19547669072119,
          -27.19525723118293,
          -27.189293408765554,
          -27.194567849738295,
          -27.189812778783846,
          -27.190678792357335,
          -27.200000000000017,
          -27.200000000000017,
          -27.200000000000017,
          -27.18974827961416,
          -27.200000000000017,
          -27.1839811149213,
          -27.200000000000017,
          -27.19458425244544,
          -27.200000000000017,
          -27.194316328291197,
          -27.200000000000017,
          -27.200000000000017,
          -27.200000000000017,
          -27.200000000000017,
          -27.200000000000017,
          -27.194029570899062,
          -27.19529687765888,
          -27.200000000000017,
          -27.194872249890388,
          -27.200000000000017,
          -27.189846698284462,
          -27.1954092005985,
          -27.194414796824702,
          -27.200000000000017,
          -27.200000000000017,
          -27.200000000000017,
          -27.195292082293232,
          -27.200000000000017,
          -27.200000000000017,
          -27.200000000000017,
          -27.194409429554337,
          -27.194807070375056,
          -27.194299733511247,
          -27.18845818539955,
          -27.195472905232048,
          -27.19427136638336,
          -27.200000000000017,
          -27.200000000000017,
          -27.200000000000017,
          -27.200000000000017,
          -27.19037210307738,
          -27.19420352646612,
          -27.189480403807966,
          -27.19087583226446,
          -27.200000000000017,
          -27.200000000000017,
          -27.200000000000017,
          -27.200000000000017,
          -27.200000000000017,
          -27.19539036458139,
          -27.200000000000017,
          -27.200000000000017,
          -27.190260936856703,
          -27.200000000000017,
          -27.200000000000017,
          -27.190065464493163,
          -27.200000000000017,
          -27.195374460152507,
          -27.19545242367076,
          -27.200000000000017,
          -27.1952858192463,
          -27.200000000000017,
          -27.200000000000017,
          -27.200000000000017,
          -27.19549127534182,
          -27.19420452381579,
          -27.185296488799064,
          -27.19548567364139,
          -27.200000000000017,
          -27.189518862119424,
          -27.200000000000017,
          -27.19541760752361,
          -27.200000000000017,
          -27.194240618039494,
          -27.200000000000017,
          -27.19089014831743,
          -27.200000000000017,
          -27.189370540795444,
          -27.200000000000017,
          -27.200000000000017,
          -27.200000000000017,
          -27.200000000000017,
          -27.19535274959844,
          -27.200000000000017,
          -27.194071978370005,
          -27.200000000000017,
          -27.200000000000017,
          -27.193851367379825,
          -27.200000000000017,
          -27.200000000000017,
          -27.193876127478635,
          -27.200000000000017,
          -27.195519672136705,
          -27.200000000000017,
          -27.200000000000017,
          -27.1953339062602,
          -27.200000000000017,
          -27.200000000000017,
          -27.200000000000017,
          -27.19448813343775,
          -27.200000000000017,
          -27.194459607006117,
          -27.200000000000017,
          -27.200000000000017,
          -27.200000000000017,
          -27.200000000000017,
          -27.200000000000017,
          -27.200000000000017,
          -27.200000000000017,
          -27.200000000000017,
          -27.189938523995952,
          -27.195213797811967,
          -27.200000000000017,
          -27.200000000000017,
          -27.189010980922415,
          -27.200000000000017,
          -27.195305625272262,
          -27.18548294657941,
          -27.18860936345442,
          -27.195309071670778,
          -27.200000000000017,
          -27.200000000000017,
          -27.200000000000017,
          -27.18926542538197,
          -27.195542132399797,
          -27.193999464256674,
          -27.195490706366897,
          -27.200000000000017,
          -27.194469488826712,
          -27.200000000000017,
          -27.195450299404467,
          -27.200000000000017,
          -27.200000000000017,
          -27.19551935507308,
          -27.200000000000017,
          -27.200000000000017,
          -27.200000000000017,
          -27.200000000000017,
          -27.200000000000017,
          -27.200000000000017,
          -27.200000000000017,
          -27.200000000000017,
          -27.19532526560137,
          -27.200000000000017,
          -27.1953943384718,
          -27.200000000000017,
          -27.200000000000017,
          -27.195237658978023,
          -27.200000000000017,
          -27.195127294510947,
          -27.200000000000017,
          -27.200000000000017,
          -27.200000000000017,
          -27.19473941904213,
          -27.200000000000017,
          -27.19384791381375,
          -27.194081452779052,
          -27.195066818548803,
          -27.200000000000017,
          -27.200000000000017,
          -27.200000000000017,
          -27.193624228663456,
          -27.195237098425007,
          -27.19541093382592,
          -27.19541459413736,
          -27.200000000000017,
          -27.200000000000017,
          -27.200000000000017,
          -27.183371798862364,
          -27.200000000000017,
          -27.19568100613507,
          -27.200000000000017,
          -27.193436932602662,
          -27.200000000000017,
          -27.200000000000017,
          -27.200000000000017,
          -27.200000000000017,
          -27.200000000000017,
          -27.194997318973332,
          -27.200000000000017,
          -27.189228707352285,
          -27.200000000000017,
          -27.200000000000017,
          -27.200000000000017,
          -27.200000000000017,
          -27.200000000000017,
          -27.200000000000017,
          -27.1931518649824,
          -27.195344330155677,
          -27.200000000000017,
          -27.200000000000017,
          -27.200000000000017,
          -27.200000000000017,
          -27.200000000000017,
          -27.200000000000017,
          -27.200000000000017,
          -27.200000000000017,
          -27.195812083576488,
          -27.200000000000017,
          -27.200000000000017,
          -27.200000000000017,
          -27.200000000000017,
          -27.200000000000017,
          -27.200000000000017,
          -27.195304469536254,
          -27.200000000000017,
          -27.200000000000017,
          -27.200000000000017,
          -27.200000000000017,
          -27.200000000000017,
          -27.200000000000017,
          -27.200000000000017,
          -27.200000000000017,
          -27.195719194752794,
          -27.200000000000017
         ]
        },
        {
         "name": "MSR",
         "type": "scatter",
         "x": [
          0,
          1,
          2,
          3,
          4,
          5,
          6,
          7,
          8,
          9,
          10,
          11,
          12,
          13,
          14,
          15,
          16,
          17,
          18,
          19,
          20,
          21,
          22,
          23,
          24,
          25,
          26,
          27,
          28,
          29,
          30,
          31,
          32,
          33,
          34,
          35,
          36,
          37,
          38,
          39,
          40,
          41,
          42,
          43,
          44,
          45,
          46,
          47,
          48,
          49,
          50,
          51,
          52,
          53,
          54,
          55,
          56,
          57,
          58,
          59,
          60,
          61,
          62,
          63,
          64,
          65,
          66,
          67,
          68,
          69,
          70,
          71,
          72,
          73,
          74,
          75,
          76,
          77,
          78,
          79,
          80,
          81,
          82,
          83,
          84,
          85,
          86,
          87,
          88,
          89,
          90,
          91,
          92,
          93,
          94,
          95,
          96,
          97,
          98,
          99,
          100,
          101,
          102,
          103,
          104,
          105,
          106,
          107,
          108,
          109,
          110,
          111,
          112,
          113,
          114,
          115,
          116,
          117,
          118,
          119,
          120,
          121,
          122,
          123,
          124,
          125,
          126,
          127,
          128,
          129,
          130,
          131,
          132,
          133,
          134,
          135,
          136,
          137,
          138,
          139,
          140,
          141,
          142,
          143,
          144,
          145,
          146,
          147,
          148,
          149,
          150,
          151,
          152,
          153,
          154,
          155,
          156,
          157,
          158,
          159,
          160,
          161,
          162,
          163,
          164,
          165,
          166,
          167,
          168,
          169,
          170,
          171,
          172,
          173,
          174,
          175,
          176,
          177,
          178,
          179,
          180,
          181,
          182,
          183,
          184,
          185,
          186,
          187,
          188,
          189,
          190,
          191,
          192,
          193,
          194,
          195,
          196,
          197,
          198,
          199,
          200,
          201,
          202,
          203,
          204,
          205,
          206,
          207,
          208,
          209,
          210,
          211,
          212,
          213,
          214,
          215,
          216,
          217,
          218,
          219,
          220,
          221,
          222,
          223,
          224,
          225,
          226,
          227,
          228,
          229,
          230,
          231,
          232,
          233,
          234,
          235,
          236,
          237,
          238,
          239,
          240,
          241,
          242,
          243,
          244,
          245,
          246,
          247,
          248,
          249,
          250,
          251,
          252,
          253,
          254,
          255,
          256,
          257,
          258,
          259,
          260,
          261,
          262,
          263,
          264,
          265,
          266,
          267,
          268,
          269,
          270,
          271,
          272,
          273,
          274,
          275,
          276,
          277,
          278,
          279,
          280,
          281,
          282,
          283,
          284,
          285,
          286,
          287,
          288,
          289,
          290,
          291,
          292,
          293,
          294,
          295,
          296,
          297,
          298,
          299,
          300,
          301,
          302,
          303,
          304,
          305,
          306,
          307,
          308,
          309,
          310,
          311,
          312,
          313,
          314,
          315,
          316,
          317,
          318,
          319,
          320,
          321,
          322,
          323,
          324,
          325,
          326,
          327,
          328,
          329,
          330,
          331,
          332,
          333,
          334,
          335,
          336,
          337,
          338,
          339,
          340,
          341,
          342,
          343,
          344,
          345,
          346,
          347,
          348,
          349,
          350,
          351,
          352,
          353,
          354,
          355,
          356,
          357,
          358,
          359,
          360,
          361,
          362,
          363,
          364,
          365,
          366,
          367,
          368,
          369,
          370,
          371,
          372,
          373,
          374,
          375,
          376,
          377,
          378,
          379,
          380,
          381,
          382,
          383,
          384,
          385,
          386,
          387,
          388,
          389,
          390,
          391,
          392,
          393,
          394,
          395,
          396,
          397,
          398,
          399
         ],
         "y": [
          1.03940507840209,
          -0.03358370699486274,
          -2.3013640301097045,
          -4.357773795569431,
          -5.875806979174304,
          -7.435601228623382,
          -9.3116807938219,
          -9.835879082964002,
          -11.315698460844864,
          -12.430809153519686,
          -13.378741170381693,
          -14.11885426055142,
          -14.656240417798049,
          -15.69556725334492,
          -16.471362646620314,
          -16.983858724437262,
          -17.112691377530467,
          -18.094430522634706,
          -18.489559970765345,
          -18.791044742734663,
          -19.092781603069785,
          -19.66479057236817,
          -20.047801161035128,
          -20.428222566120148,
          -20.80647615256743,
          -21.048655705833173,
          -21.461616711577022,
          -21.644826136492842,
          -21.942351638172003,
          -22.129819411959307,
          -22.21223703130933,
          -22.569857242652606,
          -22.813428895575807,
          -23.0327653597005,
          -23.091356454510635,
          -23.3848366517512,
          -23.513181714351873,
          -23.561786555284137,
          -23.693586637369176,
          -23.974961848746144,
          -23.97065385952938,
          -24.352960581747002,
          -24.251955128287317,
          -24.412431753945516,
          -24.543463530557126,
          -24.540608244443096,
          -24.782451317015788,
          -24.880835278649183,
          -24.764087196468093,
          -25.006078834601013,
          -25.037095545283755,
          -25.21185145923684,
          -25.155573007854503,
          -25.37893388769779,
          -25.430572532743604,
          -25.371837463371463,
          -25.68153107661676,
          -25.58513401339553,
          -25.794553991707783,
          -25.657828086987653,
          -25.764285329559637,
          -25.796807337352817,
          -25.96979898215833,
          -25.907914094374494,
          -25.961941518377085,
          -26.042540030011963,
          -26.108869053359044,
          -26.151658696050543,
          -26.17658868536618,
          -26.243088769629395,
          -26.27295855839704,
          -26.22722323616481,
          -26.293567883933946,
          -26.317039855878264,
          -26.404277226943734,
          -26.444568667565278,
          -26.407099203536315,
          -26.482814454068095,
          -26.480552709231166,
          -26.50348598572641,
          -26.585667473052265,
          -26.62599648941494,
          -26.50571187476236,
          -26.570745078483558,
          -26.585565484487415,
          -26.621066700913442,
          -26.650906550127054,
          -26.733226277769514,
          -26.788855529875168,
          -26.7707295839029,
          -26.77329329466902,
          -26.784323697992697,
          -26.8635738596097,
          -26.82838205808272,
          -26.843570655205088,
          -26.825190142040686,
          -26.86207609113602,
          -26.887456131287212,
          -26.94422997142762,
          -26.908579228959404,
          -26.87239017787615,
          -26.924502834908854,
          -26.962882439752313,
          -26.93384090548424,
          -26.935574787112202,
          -26.96601390949901,
          -26.96883574630325,
          -27.016423832982717,
          -26.935092954700586,
          -27.008579845217884,
          -26.97242770767593,
          -27.02087495995485,
          -27.037533758293982,
          -27.06115114802312,
          -27.02159174613111,
          -27.045496142718513,
          -27.026084735663392,
          -27.051843265428012,
          -27.03815377167425,
          -27.07270093895928,
          -27.052356344570757,
          -27.084465853205334,
          -27.064239541391313,
          -27.081118695650602,
          -27.09051479390148,
          -27.100786160496046,
          -27.107998522178264,
          -27.12429958263725,
          -27.068825543879893,
          -27.092397720759642,
          -27.104041081864,
          -27.13549645182876,
          -27.128599890030486,
          -27.134058627091324,
          -27.10824886577112,
          -27.126638693562075,
          -27.14289161640098,
          -27.125057929529866,
          -27.14158291034993,
          -27.14170039523214,
          -27.115727098029723,
          -27.14065117141069,
          -27.13658587491171,
          -27.145874809386,
          -27.112505361666464,
          -27.13850425417854,
          -27.147809574489163,
          -27.162948173609603,
          -27.13755789866593,
          -27.16030288989108,
          -27.155215461958225,
          -27.138829459148667,
          -27.143542081117516,
          -27.14882547169008,
          -27.158722096942437,
          -27.159624777584384,
          -27.14802229813454,
          -27.16631856297632,
          -27.15249237537144,
          -27.159312519472394,
          -27.181158213256076,
          -27.16827696430139,
          -27.153445771995884,
          -27.168173501000922,
          -27.174800958453122,
          -27.165738955391802,
          -27.174251070206083,
          -27.180726475892644,
          -27.175028845359346,
          -27.176175084393844,
          -27.18199457954225,
          -27.160802527727984,
          -27.174456066118623,
          -27.175271567899802,
          -27.176014934438772,
          -27.162969650610208,
          -27.177426389918455,
          -27.187205756719262,
          -27.172670046211877,
          -27.188891649324955,
          -27.180322043178766,
          -27.177752607541247,
          -27.171688610364303,
          -27.18099054001407,
          -27.1805695581975,
          -27.172985140081725,
          -27.18900416722063,
          -27.171558413180893,
          -27.185793721269732,
          -27.17938545648685,
          -27.185535411005738,
          -27.182461555697895,
          -27.183050696226026,
          -27.186349039660815,
          -27.17687084780648,
          -27.194084700828576,
          -27.188743357172314,
          -27.18304543159042,
          -27.18784035133782,
          -27.18378113607138,
          -27.187885397957896,
          -27.181729581614913,
          -27.189147884776375,
          -27.189760917223946,
          -27.186331011491166,
          -27.176105235850883,
          -27.192450769406797,
          -27.186711613727276,
          -27.186863012755904,
          -27.188334741569623,
          -27.1880898980928,
          -27.178176464358536,
          -27.189279828359105,
          -27.187846327152492,
          -27.186017405499047,
          -27.18608525749949,
          -27.187297123306912,
          -27.192063064788016,
          -27.188123114822336,
          -27.19619895913968,
          -27.19034812126759,
          -27.194917769790088,
          -27.179602045613073,
          -27.182536065186756,
          -27.19264067536305,
          -27.19509482613966,
          -27.19563869345532,
          -27.186597222682938,
          -27.196819483767552,
          -27.194239908654893,
          -27.1887797375777,
          -27.191012962109067,
          -27.195075570970587,
          -27.19281587252707,
          -27.187030279738202,
          -27.18883267406093,
          -27.193744368941832,
          -27.195258200112058,
          -27.191555997796332,
          -27.19296930501373,
          -27.19314145119964,
          -27.18990276588119,
          -27.194382331797723,
          -27.19220781099536,
          -27.191684049275285,
          -27.196997313837088,
          -27.197598706942372,
          -27.195337609581756,
          -27.195553196739418,
          -27.194075123513887,
          -27.19366894151076,
          -27.19613302937224,
          -27.1949570476181,
          -27.198355680052785,
          -27.19629011189491,
          -27.194297521844742,
          -27.192592052978295,
          -27.195907525110375,
          -27.186574363000403,
          -27.1926484933493,
          -27.19817246253945,
          -27.183501215147736,
          -27.191903670412767,
          -27.19390533080978,
          -27.194531084526893,
          -27.190153874105548,
          -27.195923610732944,
          -27.196314025851706,
          -27.200000000000017,
          -27.196734211949412,
          -27.195954035136463,
          -27.192343111448555,
          -27.19321652745044,
          -27.19830612517618,
          -27.19904988254345,
          -27.196509744941775,
          -27.197528155865022,
          -27.197873788246188,
          -27.19558886775928,
          -27.188782778104695,
          -27.196853591239993,
          -27.19861435858366,
          -27.19569994997626,
          -27.193574577298172,
          -27.197996754896398,
          -27.19506028454073,
          -27.195440725934965,
          -27.195084257061698,
          -27.198572533406683,
          -27.194458092811068,
          -27.19793016440604,
          -27.198139818771924,
          -27.196316662381168,
          -27.19792692249504,
          -27.19800609871815,
          -27.194139228569927,
          -27.196144201368593,
          -27.1983394203677,
          -27.19274109760437,
          -27.196578791266973,
          -27.194353665732635,
          -27.19855752503075,
          -27.194527950331732,
          -27.19502961956142,
          -27.195708378387625,
          -27.19512333958672,
          -27.194278182264394,
          -27.200029715080213,
          -27.194375179783723,
          -27.188652942850794,
          -27.196773871693882,
          -27.195366325232524,
          -27.198079791102323,
          -27.194824900656478,
          -27.196654846528116,
          -27.196134780311343,
          -27.197349319853853,
          -27.19449396176302,
          -27.199249427150196,
          -27.19878154391218,
          -27.19932542741235,
          -27.196882349109604,
          -27.19810469803367,
          -27.199544382825675,
          -27.19881771882468,
          -27.194606528412887,
          -27.199209018273084,
          -27.196505340272616,
          -27.19635301166834,
          -27.19568467189726,
          -27.19852019779474,
          -27.198242865767522,
          -27.193304208498365,
          -27.193792844357112,
          -27.196750579324544,
          -27.199476653885686,
          -27.1993862464727,
          -27.197454624340235,
          -27.19835962072683,
          -27.199014723743986,
          -27.198811403021253,
          -27.191996791772063,
          -27.200000000000017,
          -27.19910435521616,
          -27.197806216195918,
          -27.19819917388048,
          -27.200000000000017,
          -27.19846397448762,
          -27.19627220350053,
          -27.193923744914496,
          -27.198000830079035,
          -27.19872173807212,
          -27.19541462461602,
          -27.197204673856163,
          -27.19780486416562,
          -27.199008790293085,
          -27.196180828393743,
          -27.19901992841322,
          -27.199635362799036,
          -27.195995325960986,
          -27.199500469909445,
          -27.194122675160056,
          -27.199220587247087,
          -27.1966613869479,
          -27.200000000000017,
          -27.197543045283158,
          -27.198136162185467,
          -27.19847145345808,
          -27.199888060340598,
          -27.200000000000017,
          -27.195671708503777,
          -27.19890998000597,
          -27.19821127124148,
          -27.200000000000017,
          -27.19719016372902,
          -27.196198459201025,
          -27.19581569194951,
          -27.195729981725627,
          -27.198518487199248,
          -27.199465153370525,
          -27.197004364652308,
          -27.199471096815063,
          -27.19848774230944,
          -27.199673207697753,
          -27.200832503807806,
          -27.200000000000017,
          -27.199696041292913,
          -27.200000000000017,
          -27.199934770954094,
          -27.199504150455127,
          -27.190286232600172,
          -27.19446490358269,
          -27.19787859261581,
          -27.1995044585837,
          -27.200000000000017,
          -27.19974780892666,
          -27.19641442624547,
          -27.196991660925047,
          -27.199130915935328,
          -27.200574866815977
         ]
        }
       ],
       "layout": {
        "shapes": [
         {
          "line": {
           "width": 1
          },
          "opacity": 1,
          "type": "line",
          "x0": 0,
          "x1": 1,
          "xref": "x domain",
          "y0": -29.048576090951883,
          "y1": -29.048576090951883,
          "yref": "y"
         }
        ],
        "template": {
         "data": {
          "bar": [
           {
            "error_x": {
             "color": "rgb(36,36,36)"
            },
            "error_y": {
             "color": "rgb(36,36,36)"
            },
            "marker": {
             "line": {
              "color": "white",
              "width": 0.5
             },
             "pattern": {
              "fillmode": "overlay",
              "size": 10,
              "solidity": 0.2
             }
            },
            "type": "bar"
           }
          ],
          "barpolar": [
           {
            "marker": {
             "line": {
              "color": "white",
              "width": 0.5
             },
             "pattern": {
              "fillmode": "overlay",
              "size": 10,
              "solidity": 0.2
             }
            },
            "type": "barpolar"
           }
          ],
          "carpet": [
           {
            "aaxis": {
             "endlinecolor": "rgb(36,36,36)",
             "gridcolor": "white",
             "linecolor": "white",
             "minorgridcolor": "white",
             "startlinecolor": "rgb(36,36,36)"
            },
            "baxis": {
             "endlinecolor": "rgb(36,36,36)",
             "gridcolor": "white",
             "linecolor": "white",
             "minorgridcolor": "white",
             "startlinecolor": "rgb(36,36,36)"
            },
            "type": "carpet"
           }
          ],
          "choropleth": [
           {
            "colorbar": {
             "outlinewidth": 1,
             "tickcolor": "rgb(36,36,36)",
             "ticks": "outside"
            },
            "type": "choropleth"
           }
          ],
          "contour": [
           {
            "colorbar": {
             "outlinewidth": 1,
             "tickcolor": "rgb(36,36,36)",
             "ticks": "outside"
            },
            "colorscale": [
             [
              0,
              "#440154"
             ],
             [
              0.1111111111111111,
              "#482878"
             ],
             [
              0.2222222222222222,
              "#3e4989"
             ],
             [
              0.3333333333333333,
              "#31688e"
             ],
             [
              0.4444444444444444,
              "#26828e"
             ],
             [
              0.5555555555555556,
              "#1f9e89"
             ],
             [
              0.6666666666666666,
              "#35b779"
             ],
             [
              0.7777777777777778,
              "#6ece58"
             ],
             [
              0.8888888888888888,
              "#b5de2b"
             ],
             [
              1,
              "#fde725"
             ]
            ],
            "type": "contour"
           }
          ],
          "contourcarpet": [
           {
            "colorbar": {
             "outlinewidth": 1,
             "tickcolor": "rgb(36,36,36)",
             "ticks": "outside"
            },
            "type": "contourcarpet"
           }
          ],
          "heatmap": [
           {
            "colorbar": {
             "outlinewidth": 1,
             "tickcolor": "rgb(36,36,36)",
             "ticks": "outside"
            },
            "colorscale": [
             [
              0,
              "#440154"
             ],
             [
              0.1111111111111111,
              "#482878"
             ],
             [
              0.2222222222222222,
              "#3e4989"
             ],
             [
              0.3333333333333333,
              "#31688e"
             ],
             [
              0.4444444444444444,
              "#26828e"
             ],
             [
              0.5555555555555556,
              "#1f9e89"
             ],
             [
              0.6666666666666666,
              "#35b779"
             ],
             [
              0.7777777777777778,
              "#6ece58"
             ],
             [
              0.8888888888888888,
              "#b5de2b"
             ],
             [
              1,
              "#fde725"
             ]
            ],
            "type": "heatmap"
           }
          ],
          "heatmapgl": [
           {
            "colorbar": {
             "outlinewidth": 1,
             "tickcolor": "rgb(36,36,36)",
             "ticks": "outside"
            },
            "colorscale": [
             [
              0,
              "#440154"
             ],
             [
              0.1111111111111111,
              "#482878"
             ],
             [
              0.2222222222222222,
              "#3e4989"
             ],
             [
              0.3333333333333333,
              "#31688e"
             ],
             [
              0.4444444444444444,
              "#26828e"
             ],
             [
              0.5555555555555556,
              "#1f9e89"
             ],
             [
              0.6666666666666666,
              "#35b779"
             ],
             [
              0.7777777777777778,
              "#6ece58"
             ],
             [
              0.8888888888888888,
              "#b5de2b"
             ],
             [
              1,
              "#fde725"
             ]
            ],
            "type": "heatmapgl"
           }
          ],
          "histogram": [
           {
            "marker": {
             "line": {
              "color": "white",
              "width": 0.6
             }
            },
            "type": "histogram"
           }
          ],
          "histogram2d": [
           {
            "colorbar": {
             "outlinewidth": 1,
             "tickcolor": "rgb(36,36,36)",
             "ticks": "outside"
            },
            "colorscale": [
             [
              0,
              "#440154"
             ],
             [
              0.1111111111111111,
              "#482878"
             ],
             [
              0.2222222222222222,
              "#3e4989"
             ],
             [
              0.3333333333333333,
              "#31688e"
             ],
             [
              0.4444444444444444,
              "#26828e"
             ],
             [
              0.5555555555555556,
              "#1f9e89"
             ],
             [
              0.6666666666666666,
              "#35b779"
             ],
             [
              0.7777777777777778,
              "#6ece58"
             ],
             [
              0.8888888888888888,
              "#b5de2b"
             ],
             [
              1,
              "#fde725"
             ]
            ],
            "type": "histogram2d"
           }
          ],
          "histogram2dcontour": [
           {
            "colorbar": {
             "outlinewidth": 1,
             "tickcolor": "rgb(36,36,36)",
             "ticks": "outside"
            },
            "colorscale": [
             [
              0,
              "#440154"
             ],
             [
              0.1111111111111111,
              "#482878"
             ],
             [
              0.2222222222222222,
              "#3e4989"
             ],
             [
              0.3333333333333333,
              "#31688e"
             ],
             [
              0.4444444444444444,
              "#26828e"
             ],
             [
              0.5555555555555556,
              "#1f9e89"
             ],
             [
              0.6666666666666666,
              "#35b779"
             ],
             [
              0.7777777777777778,
              "#6ece58"
             ],
             [
              0.8888888888888888,
              "#b5de2b"
             ],
             [
              1,
              "#fde725"
             ]
            ],
            "type": "histogram2dcontour"
           }
          ],
          "mesh3d": [
           {
            "colorbar": {
             "outlinewidth": 1,
             "tickcolor": "rgb(36,36,36)",
             "ticks": "outside"
            },
            "type": "mesh3d"
           }
          ],
          "parcoords": [
           {
            "line": {
             "colorbar": {
              "outlinewidth": 1,
              "tickcolor": "rgb(36,36,36)",
              "ticks": "outside"
             }
            },
            "type": "parcoords"
           }
          ],
          "pie": [
           {
            "automargin": true,
            "type": "pie"
           }
          ],
          "scatter": [
           {
            "marker": {
             "colorbar": {
              "outlinewidth": 1,
              "tickcolor": "rgb(36,36,36)",
              "ticks": "outside"
             }
            },
            "type": "scatter"
           }
          ],
          "scatter3d": [
           {
            "line": {
             "colorbar": {
              "outlinewidth": 1,
              "tickcolor": "rgb(36,36,36)",
              "ticks": "outside"
             }
            },
            "marker": {
             "colorbar": {
              "outlinewidth": 1,
              "tickcolor": "rgb(36,36,36)",
              "ticks": "outside"
             }
            },
            "type": "scatter3d"
           }
          ],
          "scattercarpet": [
           {
            "marker": {
             "colorbar": {
              "outlinewidth": 1,
              "tickcolor": "rgb(36,36,36)",
              "ticks": "outside"
             }
            },
            "type": "scattercarpet"
           }
          ],
          "scattergeo": [
           {
            "marker": {
             "colorbar": {
              "outlinewidth": 1,
              "tickcolor": "rgb(36,36,36)",
              "ticks": "outside"
             }
            },
            "type": "scattergeo"
           }
          ],
          "scattergl": [
           {
            "marker": {
             "colorbar": {
              "outlinewidth": 1,
              "tickcolor": "rgb(36,36,36)",
              "ticks": "outside"
             }
            },
            "type": "scattergl"
           }
          ],
          "scattermapbox": [
           {
            "marker": {
             "colorbar": {
              "outlinewidth": 1,
              "tickcolor": "rgb(36,36,36)",
              "ticks": "outside"
             }
            },
            "type": "scattermapbox"
           }
          ],
          "scatterpolar": [
           {
            "marker": {
             "colorbar": {
              "outlinewidth": 1,
              "tickcolor": "rgb(36,36,36)",
              "ticks": "outside"
             }
            },
            "type": "scatterpolar"
           }
          ],
          "scatterpolargl": [
           {
            "marker": {
             "colorbar": {
              "outlinewidth": 1,
              "tickcolor": "rgb(36,36,36)",
              "ticks": "outside"
             }
            },
            "type": "scatterpolargl"
           }
          ],
          "scatterternary": [
           {
            "marker": {
             "colorbar": {
              "outlinewidth": 1,
              "tickcolor": "rgb(36,36,36)",
              "ticks": "outside"
             }
            },
            "type": "scatterternary"
           }
          ],
          "surface": [
           {
            "colorbar": {
             "outlinewidth": 1,
             "tickcolor": "rgb(36,36,36)",
             "ticks": "outside"
            },
            "colorscale": [
             [
              0,
              "#440154"
             ],
             [
              0.1111111111111111,
              "#482878"
             ],
             [
              0.2222222222222222,
              "#3e4989"
             ],
             [
              0.3333333333333333,
              "#31688e"
             ],
             [
              0.4444444444444444,
              "#26828e"
             ],
             [
              0.5555555555555556,
              "#1f9e89"
             ],
             [
              0.6666666666666666,
              "#35b779"
             ],
             [
              0.7777777777777778,
              "#6ece58"
             ],
             [
              0.8888888888888888,
              "#b5de2b"
             ],
             [
              1,
              "#fde725"
             ]
            ],
            "type": "surface"
           }
          ],
          "table": [
           {
            "cells": {
             "fill": {
              "color": "rgb(237,237,237)"
             },
             "line": {
              "color": "white"
             }
            },
            "header": {
             "fill": {
              "color": "rgb(217,217,217)"
             },
             "line": {
              "color": "white"
             }
            },
            "type": "table"
           }
          ]
         },
         "layout": {
          "annotationdefaults": {
           "arrowhead": 0,
           "arrowwidth": 1
          },
          "autotypenumbers": "strict",
          "coloraxis": {
           "colorbar": {
            "outlinewidth": 1,
            "tickcolor": "rgb(36,36,36)",
            "ticks": "outside"
           }
          },
          "colorscale": {
           "diverging": [
            [
             0,
             "rgb(103,0,31)"
            ],
            [
             0.1,
             "rgb(178,24,43)"
            ],
            [
             0.2,
             "rgb(214,96,77)"
            ],
            [
             0.3,
             "rgb(244,165,130)"
            ],
            [
             0.4,
             "rgb(253,219,199)"
            ],
            [
             0.5,
             "rgb(247,247,247)"
            ],
            [
             0.6,
             "rgb(209,229,240)"
            ],
            [
             0.7,
             "rgb(146,197,222)"
            ],
            [
             0.8,
             "rgb(67,147,195)"
            ],
            [
             0.9,
             "rgb(33,102,172)"
            ],
            [
             1,
             "rgb(5,48,97)"
            ]
           ],
           "sequential": [
            [
             0,
             "#440154"
            ],
            [
             0.1111111111111111,
             "#482878"
            ],
            [
             0.2222222222222222,
             "#3e4989"
            ],
            [
             0.3333333333333333,
             "#31688e"
            ],
            [
             0.4444444444444444,
             "#26828e"
            ],
            [
             0.5555555555555556,
             "#1f9e89"
            ],
            [
             0.6666666666666666,
             "#35b779"
            ],
            [
             0.7777777777777778,
             "#6ece58"
            ],
            [
             0.8888888888888888,
             "#b5de2b"
            ],
            [
             1,
             "#fde725"
            ]
           ],
           "sequentialminus": [
            [
             0,
             "#440154"
            ],
            [
             0.1111111111111111,
             "#482878"
            ],
            [
             0.2222222222222222,
             "#3e4989"
            ],
            [
             0.3333333333333333,
             "#31688e"
            ],
            [
             0.4444444444444444,
             "#26828e"
            ],
            [
             0.5555555555555556,
             "#1f9e89"
            ],
            [
             0.6666666666666666,
             "#35b779"
            ],
            [
             0.7777777777777778,
             "#6ece58"
            ],
            [
             0.8888888888888888,
             "#b5de2b"
            ],
            [
             1,
             "#fde725"
            ]
           ]
          },
          "colorway": [
           "#1F77B4",
           "#FF7F0E",
           "#2CA02C",
           "#D62728",
           "#9467BD",
           "#8C564B",
           "#E377C2",
           "#7F7F7F",
           "#BCBD22",
           "#17BECF"
          ],
          "font": {
           "color": "rgb(36,36,36)"
          },
          "geo": {
           "bgcolor": "white",
           "lakecolor": "white",
           "landcolor": "white",
           "showlakes": true,
           "showland": true,
           "subunitcolor": "white"
          },
          "hoverlabel": {
           "align": "left"
          },
          "hovermode": "closest",
          "mapbox": {
           "style": "light"
          },
          "paper_bgcolor": "white",
          "plot_bgcolor": "white",
          "polar": {
           "angularaxis": {
            "gridcolor": "rgb(232,232,232)",
            "linecolor": "rgb(36,36,36)",
            "showgrid": false,
            "showline": true,
            "ticks": "outside"
           },
           "bgcolor": "white",
           "radialaxis": {
            "gridcolor": "rgb(232,232,232)",
            "linecolor": "rgb(36,36,36)",
            "showgrid": false,
            "showline": true,
            "ticks": "outside"
           }
          },
          "scene": {
           "xaxis": {
            "backgroundcolor": "white",
            "gridcolor": "rgb(232,232,232)",
            "gridwidth": 2,
            "linecolor": "rgb(36,36,36)",
            "showbackground": true,
            "showgrid": false,
            "showline": true,
            "ticks": "outside",
            "zeroline": false,
            "zerolinecolor": "rgb(36,36,36)"
           },
           "yaxis": {
            "backgroundcolor": "white",
            "gridcolor": "rgb(232,232,232)",
            "gridwidth": 2,
            "linecolor": "rgb(36,36,36)",
            "showbackground": true,
            "showgrid": false,
            "showline": true,
            "ticks": "outside",
            "zeroline": false,
            "zerolinecolor": "rgb(36,36,36)"
           },
           "zaxis": {
            "backgroundcolor": "white",
            "gridcolor": "rgb(232,232,232)",
            "gridwidth": 2,
            "linecolor": "rgb(36,36,36)",
            "showbackground": true,
            "showgrid": false,
            "showline": true,
            "ticks": "outside",
            "zeroline": false,
            "zerolinecolor": "rgb(36,36,36)"
           }
          },
          "shapedefaults": {
           "fillcolor": "black",
           "line": {
            "width": 0
           },
           "opacity": 0.3
          },
          "ternary": {
           "aaxis": {
            "gridcolor": "rgb(232,232,232)",
            "linecolor": "rgb(36,36,36)",
            "showgrid": false,
            "showline": true,
            "ticks": "outside"
           },
           "baxis": {
            "gridcolor": "rgb(232,232,232)",
            "linecolor": "rgb(36,36,36)",
            "showgrid": false,
            "showline": true,
            "ticks": "outside"
           },
           "bgcolor": "white",
           "caxis": {
            "gridcolor": "rgb(232,232,232)",
            "linecolor": "rgb(36,36,36)",
            "showgrid": false,
            "showline": true,
            "ticks": "outside"
           }
          },
          "title": {
           "x": 0.05
          },
          "xaxis": {
           "automargin": true,
           "gridcolor": "rgb(232,232,232)",
           "linecolor": "rgb(36,36,36)",
           "showgrid": false,
           "showline": true,
           "ticks": "outside",
           "title": {
            "standoff": 15
           },
           "zeroline": false,
           "zerolinecolor": "rgb(36,36,36)"
          },
          "yaxis": {
           "automargin": true,
           "gridcolor": "rgb(232,232,232)",
           "linecolor": "rgb(36,36,36)",
           "showgrid": false,
           "showline": true,
           "ticks": "outside",
           "title": {
            "standoff": 15
           },
           "zeroline": false,
           "zerolinecolor": "rgb(36,36,36)"
          }
         }
        },
        "title": {
         "text": "<b>S-S model </b>, L=16, J2 =1, J1 =0.2 , η=0.01, α=2, samples=1000"
        },
        "xaxis": {
         "mirror": true,
         "showline": true,
         "title": {
          "text": "Iteration"
         }
        },
        "yaxis": {
         "mirror": true,
         "showline": true,
         "title": {
          "text": "Energy"
         }
        }
       }
      },
      "text/html": [
       "<div>                            <div id=\"0b29b671-f532-4562-a1a8-d56778c804bf\" class=\"plotly-graph-div\" style=\"height:525px; width:100%;\"></div>            <script type=\"text/javascript\">                require([\"plotly\"], function(Plotly) {                    window.PLOTLYENV=window.PLOTLYENV || {};                                    if (document.getElementById(\"0b29b671-f532-4562-a1a8-d56778c804bf\")) {                    Plotly.newPlot(                        \"0b29b671-f532-4562-a1a8-d56778c804bf\",                        [{\"line\":{\"color\":\"#000000\",\"width\":1},\"mode\":\"lines\",\"name\":\"exact energy\",\"type\":\"scatter\",\"x\":[0,400],\"y\":[-29.048576090951883,-29.048576090951883]},{\"name\":\"normal\",\"type\":\"scatter\",\"x\":[0,1,2,3,4,5,6,7,8,9,10,11,12,13,14,15,16,17,18,19,20,21,22,23,24,25,26,27,28,29,30,31,32,33,34,35,36,37,38,39,40,41,42,43,44,45,46,47,48,49,50,51,52,53,54,55,56,57,58,59,60,61,62,63,64,65,66,67,68,69,70,71,72,73,74,75,76,77,78,79,80,81,82,83,84,85,86,87,88,89,90,91,92,93,94,95,96,97,98,99,100,101,102,103,104,105,106,107,108,109,110,111,112,113,114,115,116,117,118,119,120,121,122,123,124,125,126,127,128,129,130,131,132,133,134,135,136,137,138,139,140,141,142,143,144,145,146,147,148,149,150,151,152,153,154,155,156,157,158,159,160,161,162,163,164,165,166,167,168,169,170,171,172,173,174,175,176,177,178,179,180,181,182,183,184,185,186,187,188,189,190,191,192,193,194,195,196,197,198,199,200,201,202,203,204,205,206,207,208,209,210,211,212,213,214,215,216,217,218,219,220,221,222,223,224,225,226,227,228,229,230,231,232,233,234,235,236,237,238,239,240,241,242,243,244,245,246,247,248,249,250,251,252,253,254,255,256,257,258,259,260,261,262,263,264,265,266,267,268,269,270,271,272,273,274,275,276,277,278,279,280,281,282,283,284,285,286,287,288,289,290,291,292,293,294,295,296,297,298,299,300,301,302,303,304,305,306,307,308,309,310,311,312,313,314,315,316,317,318,319,320,321,322,323,324,325,326,327,328,329,330,331,332,333,334,335,336,337,338,339,340,341,342,343,344,345,346,347,348,349,350,351,352,353,354,355,356,357,358,359,360,361,362,363,364,365,366,367,368,369,370,371,372,373,374,375,376,377,378,379,380,381,382,383,384,385,386,387,388,389,390,391,392,393,394,395,396,397,398,399],\"y\":[14.10325722737486,12.27292758263539,10.240244706268891,8.461049459295593,6.121871911129747,3.932523851043456,1.9874628697216552,0.0418344608548709,-1.4350243842128156,-3.6285032287342807,-5.302158321516609,-6.966320464992511,-8.100317283884007,-10.138873495818492,-11.455177873241439,-12.712419864475699,-13.77276760222482,-14.85615287147196,-16.003627915071608,-17.258307976410897,-17.685607106366227,-18.96730209109028,-19.61220556782715,-20.601121290926688,-20.960003962459897,-21.812955128987237,-21.964937743996522,-22.7902275494736,-23.12461410901998,-23.346663377052987,-23.954173321992325,-24.500307214082785,-24.54863783919686,-24.942408481488442,-25.01003826666813,-25.30263187372109,-25.514674337558315,-25.634036852673663,-25.935906212789213,-25.92024342920149,-26.06128865960787,-26.107816333831313,-26.39422767783542,-26.263312466131044,-26.45693579710379,-26.462988800798836,-26.592498036345358,-26.75798238544559,-26.69020723817916,-26.82027460329419,-26.846855094876002,-26.862124943315756,-26.904099406519535,-26.955340333641587,-26.94022547935724,-26.98120518937315,-27.01293997658107,-27.001661691766383,-27.045269018425305,-27.04441891138951,-27.0709096206744,-27.05993168395856,-27.044932628087146,-27.059794711034844,-27.075507535919364,-27.10575330385859,-27.09659732984359,-27.11736606102228,-27.118098415359807,-27.128450698371672,-27.07964393306327,-27.138483111393054,-27.12673712202622,-27.159534209915677,-27.152635363866363,-27.14299756042963,-27.168269119307656,-27.142329833470935,-27.168728232537607,-27.144518845520928,-27.174552444710613,-27.148308637775266,-27.17858086234179,-27.189891334198602,-27.169235821717415,-27.173724461903397,-27.180107527574208,-27.169593999820687,-27.184809819522936,-27.154059932965183,-27.168801171878403,-27.1843109221095,-27.184359548900154,-27.179738658557127,-27.16445213955553,-27.189226493691198,-27.184285465102413,-27.17309547947718,-27.180063940474383,-27.17365516260783,-27.194249351979533,-27.194471049031293,-27.194807163901952,-27.184454388195697,-27.200000000000017,-27.1845940562852,-27.188774141151345,-27.184635171545263,-27.178696477173915,-27.18922207068545,-27.168436615840196,-27.18551581892826,-27.18520191132554,-27.19094620941585,-27.185600768812705,-27.18951471313559,-27.189640714186286,-27.18954834969391,-27.195397688402807,-27.195380141531576,-27.180652123633497,-27.200000000000017,-27.19466605640499,-27.189105446674844,-27.184371424512396,-27.184616198959727,-27.200000000000017,-27.195000964974817,-27.19529156336064,-27.183664160682536,-27.200000000000017,-27.200000000000017,-27.179447667316403,-27.190413333161263,-27.189568110668628,-27.200000000000017,-27.200000000000017,-27.183392322540325,-27.190005912832582,-27.19540264085741,-27.194776841181735,-27.18471098835273,-27.200000000000017,-27.189170794601257,-27.200000000000017,-27.200000000000017,-27.189447331090303,-27.18337464949372,-27.194118142769256,-27.18953369308841,-27.194527859599543,-27.195401260583548,-27.19050000703589,-27.200000000000017,-27.18112356635821,-27.19040742478742,-27.185703706213275,-27.200000000000017,-27.200000000000017,-27.200000000000017,-27.195093533973896,-27.200000000000017,-27.195458567460733,-27.19487508244484,-27.200000000000017,-27.189092269607848,-27.195167764898965,-27.185110311595842,-27.189812895797257,-27.200000000000017,-27.195072941069807,-27.184175610209426,-27.19469468494663,-27.194236405465656,-27.200000000000017,-27.200000000000017,-27.189863667264035,-27.19498893860075,-27.1902150571805,-27.19547669072119,-27.19525723118293,-27.189293408765554,-27.194567849738295,-27.189812778783846,-27.190678792357335,-27.200000000000017,-27.200000000000017,-27.200000000000017,-27.18974827961416,-27.200000000000017,-27.1839811149213,-27.200000000000017,-27.19458425244544,-27.200000000000017,-27.194316328291197,-27.200000000000017,-27.200000000000017,-27.200000000000017,-27.200000000000017,-27.200000000000017,-27.194029570899062,-27.19529687765888,-27.200000000000017,-27.194872249890388,-27.200000000000017,-27.189846698284462,-27.1954092005985,-27.194414796824702,-27.200000000000017,-27.200000000000017,-27.200000000000017,-27.195292082293232,-27.200000000000017,-27.200000000000017,-27.200000000000017,-27.194409429554337,-27.194807070375056,-27.194299733511247,-27.18845818539955,-27.195472905232048,-27.19427136638336,-27.200000000000017,-27.200000000000017,-27.200000000000017,-27.200000000000017,-27.19037210307738,-27.19420352646612,-27.189480403807966,-27.19087583226446,-27.200000000000017,-27.200000000000017,-27.200000000000017,-27.200000000000017,-27.200000000000017,-27.19539036458139,-27.200000000000017,-27.200000000000017,-27.190260936856703,-27.200000000000017,-27.200000000000017,-27.190065464493163,-27.200000000000017,-27.195374460152507,-27.19545242367076,-27.200000000000017,-27.1952858192463,-27.200000000000017,-27.200000000000017,-27.200000000000017,-27.19549127534182,-27.19420452381579,-27.185296488799064,-27.19548567364139,-27.200000000000017,-27.189518862119424,-27.200000000000017,-27.19541760752361,-27.200000000000017,-27.194240618039494,-27.200000000000017,-27.19089014831743,-27.200000000000017,-27.189370540795444,-27.200000000000017,-27.200000000000017,-27.200000000000017,-27.200000000000017,-27.19535274959844,-27.200000000000017,-27.194071978370005,-27.200000000000017,-27.200000000000017,-27.193851367379825,-27.200000000000017,-27.200000000000017,-27.193876127478635,-27.200000000000017,-27.195519672136705,-27.200000000000017,-27.200000000000017,-27.1953339062602,-27.200000000000017,-27.200000000000017,-27.200000000000017,-27.19448813343775,-27.200000000000017,-27.194459607006117,-27.200000000000017,-27.200000000000017,-27.200000000000017,-27.200000000000017,-27.200000000000017,-27.200000000000017,-27.200000000000017,-27.200000000000017,-27.189938523995952,-27.195213797811967,-27.200000000000017,-27.200000000000017,-27.189010980922415,-27.200000000000017,-27.195305625272262,-27.18548294657941,-27.18860936345442,-27.195309071670778,-27.200000000000017,-27.200000000000017,-27.200000000000017,-27.18926542538197,-27.195542132399797,-27.193999464256674,-27.195490706366897,-27.200000000000017,-27.194469488826712,-27.200000000000017,-27.195450299404467,-27.200000000000017,-27.200000000000017,-27.19551935507308,-27.200000000000017,-27.200000000000017,-27.200000000000017,-27.200000000000017,-27.200000000000017,-27.200000000000017,-27.200000000000017,-27.200000000000017,-27.19532526560137,-27.200000000000017,-27.1953943384718,-27.200000000000017,-27.200000000000017,-27.195237658978023,-27.200000000000017,-27.195127294510947,-27.200000000000017,-27.200000000000017,-27.200000000000017,-27.19473941904213,-27.200000000000017,-27.19384791381375,-27.194081452779052,-27.195066818548803,-27.200000000000017,-27.200000000000017,-27.200000000000017,-27.193624228663456,-27.195237098425007,-27.19541093382592,-27.19541459413736,-27.200000000000017,-27.200000000000017,-27.200000000000017,-27.183371798862364,-27.200000000000017,-27.19568100613507,-27.200000000000017,-27.193436932602662,-27.200000000000017,-27.200000000000017,-27.200000000000017,-27.200000000000017,-27.200000000000017,-27.194997318973332,-27.200000000000017,-27.189228707352285,-27.200000000000017,-27.200000000000017,-27.200000000000017,-27.200000000000017,-27.200000000000017,-27.200000000000017,-27.1931518649824,-27.195344330155677,-27.200000000000017,-27.200000000000017,-27.200000000000017,-27.200000000000017,-27.200000000000017,-27.200000000000017,-27.200000000000017,-27.200000000000017,-27.195812083576488,-27.200000000000017,-27.200000000000017,-27.200000000000017,-27.200000000000017,-27.200000000000017,-27.200000000000017,-27.195304469536254,-27.200000000000017,-27.200000000000017,-27.200000000000017,-27.200000000000017,-27.200000000000017,-27.200000000000017,-27.200000000000017,-27.200000000000017,-27.195719194752794,-27.200000000000017]},{\"name\":\"MSR\",\"type\":\"scatter\",\"x\":[0,1,2,3,4,5,6,7,8,9,10,11,12,13,14,15,16,17,18,19,20,21,22,23,24,25,26,27,28,29,30,31,32,33,34,35,36,37,38,39,40,41,42,43,44,45,46,47,48,49,50,51,52,53,54,55,56,57,58,59,60,61,62,63,64,65,66,67,68,69,70,71,72,73,74,75,76,77,78,79,80,81,82,83,84,85,86,87,88,89,90,91,92,93,94,95,96,97,98,99,100,101,102,103,104,105,106,107,108,109,110,111,112,113,114,115,116,117,118,119,120,121,122,123,124,125,126,127,128,129,130,131,132,133,134,135,136,137,138,139,140,141,142,143,144,145,146,147,148,149,150,151,152,153,154,155,156,157,158,159,160,161,162,163,164,165,166,167,168,169,170,171,172,173,174,175,176,177,178,179,180,181,182,183,184,185,186,187,188,189,190,191,192,193,194,195,196,197,198,199,200,201,202,203,204,205,206,207,208,209,210,211,212,213,214,215,216,217,218,219,220,221,222,223,224,225,226,227,228,229,230,231,232,233,234,235,236,237,238,239,240,241,242,243,244,245,246,247,248,249,250,251,252,253,254,255,256,257,258,259,260,261,262,263,264,265,266,267,268,269,270,271,272,273,274,275,276,277,278,279,280,281,282,283,284,285,286,287,288,289,290,291,292,293,294,295,296,297,298,299,300,301,302,303,304,305,306,307,308,309,310,311,312,313,314,315,316,317,318,319,320,321,322,323,324,325,326,327,328,329,330,331,332,333,334,335,336,337,338,339,340,341,342,343,344,345,346,347,348,349,350,351,352,353,354,355,356,357,358,359,360,361,362,363,364,365,366,367,368,369,370,371,372,373,374,375,376,377,378,379,380,381,382,383,384,385,386,387,388,389,390,391,392,393,394,395,396,397,398,399],\"y\":[1.03940507840209,-0.03358370699486274,-2.3013640301097045,-4.357773795569431,-5.875806979174304,-7.435601228623382,-9.3116807938219,-9.835879082964002,-11.315698460844864,-12.430809153519686,-13.378741170381693,-14.11885426055142,-14.656240417798049,-15.69556725334492,-16.471362646620314,-16.983858724437262,-17.112691377530467,-18.094430522634706,-18.489559970765345,-18.791044742734663,-19.092781603069785,-19.66479057236817,-20.047801161035128,-20.428222566120148,-20.80647615256743,-21.048655705833173,-21.461616711577022,-21.644826136492842,-21.942351638172003,-22.129819411959307,-22.21223703130933,-22.569857242652606,-22.813428895575807,-23.0327653597005,-23.091356454510635,-23.3848366517512,-23.513181714351873,-23.561786555284137,-23.693586637369176,-23.974961848746144,-23.97065385952938,-24.352960581747002,-24.251955128287317,-24.412431753945516,-24.543463530557126,-24.540608244443096,-24.782451317015788,-24.880835278649183,-24.764087196468093,-25.006078834601013,-25.037095545283755,-25.21185145923684,-25.155573007854503,-25.37893388769779,-25.430572532743604,-25.371837463371463,-25.68153107661676,-25.58513401339553,-25.794553991707783,-25.657828086987653,-25.764285329559637,-25.796807337352817,-25.96979898215833,-25.907914094374494,-25.961941518377085,-26.042540030011963,-26.108869053359044,-26.151658696050543,-26.17658868536618,-26.243088769629395,-26.27295855839704,-26.22722323616481,-26.293567883933946,-26.317039855878264,-26.404277226943734,-26.444568667565278,-26.407099203536315,-26.482814454068095,-26.480552709231166,-26.50348598572641,-26.585667473052265,-26.62599648941494,-26.50571187476236,-26.570745078483558,-26.585565484487415,-26.621066700913442,-26.650906550127054,-26.733226277769514,-26.788855529875168,-26.7707295839029,-26.77329329466902,-26.784323697992697,-26.8635738596097,-26.82838205808272,-26.843570655205088,-26.825190142040686,-26.86207609113602,-26.887456131287212,-26.94422997142762,-26.908579228959404,-26.87239017787615,-26.924502834908854,-26.962882439752313,-26.93384090548424,-26.935574787112202,-26.96601390949901,-26.96883574630325,-27.016423832982717,-26.935092954700586,-27.008579845217884,-26.97242770767593,-27.02087495995485,-27.037533758293982,-27.06115114802312,-27.02159174613111,-27.045496142718513,-27.026084735663392,-27.051843265428012,-27.03815377167425,-27.07270093895928,-27.052356344570757,-27.084465853205334,-27.064239541391313,-27.081118695650602,-27.09051479390148,-27.100786160496046,-27.107998522178264,-27.12429958263725,-27.068825543879893,-27.092397720759642,-27.104041081864,-27.13549645182876,-27.128599890030486,-27.134058627091324,-27.10824886577112,-27.126638693562075,-27.14289161640098,-27.125057929529866,-27.14158291034993,-27.14170039523214,-27.115727098029723,-27.14065117141069,-27.13658587491171,-27.145874809386,-27.112505361666464,-27.13850425417854,-27.147809574489163,-27.162948173609603,-27.13755789866593,-27.16030288989108,-27.155215461958225,-27.138829459148667,-27.143542081117516,-27.14882547169008,-27.158722096942437,-27.159624777584384,-27.14802229813454,-27.16631856297632,-27.15249237537144,-27.159312519472394,-27.181158213256076,-27.16827696430139,-27.153445771995884,-27.168173501000922,-27.174800958453122,-27.165738955391802,-27.174251070206083,-27.180726475892644,-27.175028845359346,-27.176175084393844,-27.18199457954225,-27.160802527727984,-27.174456066118623,-27.175271567899802,-27.176014934438772,-27.162969650610208,-27.177426389918455,-27.187205756719262,-27.172670046211877,-27.188891649324955,-27.180322043178766,-27.177752607541247,-27.171688610364303,-27.18099054001407,-27.1805695581975,-27.172985140081725,-27.18900416722063,-27.171558413180893,-27.185793721269732,-27.17938545648685,-27.185535411005738,-27.182461555697895,-27.183050696226026,-27.186349039660815,-27.17687084780648,-27.194084700828576,-27.188743357172314,-27.18304543159042,-27.18784035133782,-27.18378113607138,-27.187885397957896,-27.181729581614913,-27.189147884776375,-27.189760917223946,-27.186331011491166,-27.176105235850883,-27.192450769406797,-27.186711613727276,-27.186863012755904,-27.188334741569623,-27.1880898980928,-27.178176464358536,-27.189279828359105,-27.187846327152492,-27.186017405499047,-27.18608525749949,-27.187297123306912,-27.192063064788016,-27.188123114822336,-27.19619895913968,-27.19034812126759,-27.194917769790088,-27.179602045613073,-27.182536065186756,-27.19264067536305,-27.19509482613966,-27.19563869345532,-27.186597222682938,-27.196819483767552,-27.194239908654893,-27.1887797375777,-27.191012962109067,-27.195075570970587,-27.19281587252707,-27.187030279738202,-27.18883267406093,-27.193744368941832,-27.195258200112058,-27.191555997796332,-27.19296930501373,-27.19314145119964,-27.18990276588119,-27.194382331797723,-27.19220781099536,-27.191684049275285,-27.196997313837088,-27.197598706942372,-27.195337609581756,-27.195553196739418,-27.194075123513887,-27.19366894151076,-27.19613302937224,-27.1949570476181,-27.198355680052785,-27.19629011189491,-27.194297521844742,-27.192592052978295,-27.195907525110375,-27.186574363000403,-27.1926484933493,-27.19817246253945,-27.183501215147736,-27.191903670412767,-27.19390533080978,-27.194531084526893,-27.190153874105548,-27.195923610732944,-27.196314025851706,-27.200000000000017,-27.196734211949412,-27.195954035136463,-27.192343111448555,-27.19321652745044,-27.19830612517618,-27.19904988254345,-27.196509744941775,-27.197528155865022,-27.197873788246188,-27.19558886775928,-27.188782778104695,-27.196853591239993,-27.19861435858366,-27.19569994997626,-27.193574577298172,-27.197996754896398,-27.19506028454073,-27.195440725934965,-27.195084257061698,-27.198572533406683,-27.194458092811068,-27.19793016440604,-27.198139818771924,-27.196316662381168,-27.19792692249504,-27.19800609871815,-27.194139228569927,-27.196144201368593,-27.1983394203677,-27.19274109760437,-27.196578791266973,-27.194353665732635,-27.19855752503075,-27.194527950331732,-27.19502961956142,-27.195708378387625,-27.19512333958672,-27.194278182264394,-27.200029715080213,-27.194375179783723,-27.188652942850794,-27.196773871693882,-27.195366325232524,-27.198079791102323,-27.194824900656478,-27.196654846528116,-27.196134780311343,-27.197349319853853,-27.19449396176302,-27.199249427150196,-27.19878154391218,-27.19932542741235,-27.196882349109604,-27.19810469803367,-27.199544382825675,-27.19881771882468,-27.194606528412887,-27.199209018273084,-27.196505340272616,-27.19635301166834,-27.19568467189726,-27.19852019779474,-27.198242865767522,-27.193304208498365,-27.193792844357112,-27.196750579324544,-27.199476653885686,-27.1993862464727,-27.197454624340235,-27.19835962072683,-27.199014723743986,-27.198811403021253,-27.191996791772063,-27.200000000000017,-27.19910435521616,-27.197806216195918,-27.19819917388048,-27.200000000000017,-27.19846397448762,-27.19627220350053,-27.193923744914496,-27.198000830079035,-27.19872173807212,-27.19541462461602,-27.197204673856163,-27.19780486416562,-27.199008790293085,-27.196180828393743,-27.19901992841322,-27.199635362799036,-27.195995325960986,-27.199500469909445,-27.194122675160056,-27.199220587247087,-27.1966613869479,-27.200000000000017,-27.197543045283158,-27.198136162185467,-27.19847145345808,-27.199888060340598,-27.200000000000017,-27.195671708503777,-27.19890998000597,-27.19821127124148,-27.200000000000017,-27.19719016372902,-27.196198459201025,-27.19581569194951,-27.195729981725627,-27.198518487199248,-27.199465153370525,-27.197004364652308,-27.199471096815063,-27.19848774230944,-27.199673207697753,-27.200832503807806,-27.200000000000017,-27.199696041292913,-27.200000000000017,-27.199934770954094,-27.199504150455127,-27.190286232600172,-27.19446490358269,-27.19787859261581,-27.1995044585837,-27.200000000000017,-27.19974780892666,-27.19641442624547,-27.196991660925047,-27.199130915935328,-27.200574866815977]}],                        {\"shapes\":[{\"line\":{\"width\":1},\"opacity\":1,\"type\":\"line\",\"x0\":0,\"x1\":1,\"xref\":\"x domain\",\"y0\":-29.048576090951883,\"y1\":-29.048576090951883,\"yref\":\"y\"}],\"template\":{\"data\":{\"bar\":[{\"error_x\":{\"color\":\"rgb(36,36,36)\"},\"error_y\":{\"color\":\"rgb(36,36,36)\"},\"marker\":{\"line\":{\"color\":\"white\",\"width\":0.5},\"pattern\":{\"fillmode\":\"overlay\",\"size\":10,\"solidity\":0.2}},\"type\":\"bar\"}],\"barpolar\":[{\"marker\":{\"line\":{\"color\":\"white\",\"width\":0.5},\"pattern\":{\"fillmode\":\"overlay\",\"size\":10,\"solidity\":0.2}},\"type\":\"barpolar\"}],\"carpet\":[{\"aaxis\":{\"endlinecolor\":\"rgb(36,36,36)\",\"gridcolor\":\"white\",\"linecolor\":\"white\",\"minorgridcolor\":\"white\",\"startlinecolor\":\"rgb(36,36,36)\"},\"baxis\":{\"endlinecolor\":\"rgb(36,36,36)\",\"gridcolor\":\"white\",\"linecolor\":\"white\",\"minorgridcolor\":\"white\",\"startlinecolor\":\"rgb(36,36,36)\"},\"type\":\"carpet\"}],\"choropleth\":[{\"colorbar\":{\"outlinewidth\":1,\"tickcolor\":\"rgb(36,36,36)\",\"ticks\":\"outside\"},\"type\":\"choropleth\"}],\"contour\":[{\"colorbar\":{\"outlinewidth\":1,\"tickcolor\":\"rgb(36,36,36)\",\"ticks\":\"outside\"},\"colorscale\":[[0.0,\"#440154\"],[0.1111111111111111,\"#482878\"],[0.2222222222222222,\"#3e4989\"],[0.3333333333333333,\"#31688e\"],[0.4444444444444444,\"#26828e\"],[0.5555555555555556,\"#1f9e89\"],[0.6666666666666666,\"#35b779\"],[0.7777777777777778,\"#6ece58\"],[0.8888888888888888,\"#b5de2b\"],[1.0,\"#fde725\"]],\"type\":\"contour\"}],\"contourcarpet\":[{\"colorbar\":{\"outlinewidth\":1,\"tickcolor\":\"rgb(36,36,36)\",\"ticks\":\"outside\"},\"type\":\"contourcarpet\"}],\"heatmap\":[{\"colorbar\":{\"outlinewidth\":1,\"tickcolor\":\"rgb(36,36,36)\",\"ticks\":\"outside\"},\"colorscale\":[[0.0,\"#440154\"],[0.1111111111111111,\"#482878\"],[0.2222222222222222,\"#3e4989\"],[0.3333333333333333,\"#31688e\"],[0.4444444444444444,\"#26828e\"],[0.5555555555555556,\"#1f9e89\"],[0.6666666666666666,\"#35b779\"],[0.7777777777777778,\"#6ece58\"],[0.8888888888888888,\"#b5de2b\"],[1.0,\"#fde725\"]],\"type\":\"heatmap\"}],\"heatmapgl\":[{\"colorbar\":{\"outlinewidth\":1,\"tickcolor\":\"rgb(36,36,36)\",\"ticks\":\"outside\"},\"colorscale\":[[0.0,\"#440154\"],[0.1111111111111111,\"#482878\"],[0.2222222222222222,\"#3e4989\"],[0.3333333333333333,\"#31688e\"],[0.4444444444444444,\"#26828e\"],[0.5555555555555556,\"#1f9e89\"],[0.6666666666666666,\"#35b779\"],[0.7777777777777778,\"#6ece58\"],[0.8888888888888888,\"#b5de2b\"],[1.0,\"#fde725\"]],\"type\":\"heatmapgl\"}],\"histogram\":[{\"marker\":{\"line\":{\"color\":\"white\",\"width\":0.6}},\"type\":\"histogram\"}],\"histogram2d\":[{\"colorbar\":{\"outlinewidth\":1,\"tickcolor\":\"rgb(36,36,36)\",\"ticks\":\"outside\"},\"colorscale\":[[0.0,\"#440154\"],[0.1111111111111111,\"#482878\"],[0.2222222222222222,\"#3e4989\"],[0.3333333333333333,\"#31688e\"],[0.4444444444444444,\"#26828e\"],[0.5555555555555556,\"#1f9e89\"],[0.6666666666666666,\"#35b779\"],[0.7777777777777778,\"#6ece58\"],[0.8888888888888888,\"#b5de2b\"],[1.0,\"#fde725\"]],\"type\":\"histogram2d\"}],\"histogram2dcontour\":[{\"colorbar\":{\"outlinewidth\":1,\"tickcolor\":\"rgb(36,36,36)\",\"ticks\":\"outside\"},\"colorscale\":[[0.0,\"#440154\"],[0.1111111111111111,\"#482878\"],[0.2222222222222222,\"#3e4989\"],[0.3333333333333333,\"#31688e\"],[0.4444444444444444,\"#26828e\"],[0.5555555555555556,\"#1f9e89\"],[0.6666666666666666,\"#35b779\"],[0.7777777777777778,\"#6ece58\"],[0.8888888888888888,\"#b5de2b\"],[1.0,\"#fde725\"]],\"type\":\"histogram2dcontour\"}],\"mesh3d\":[{\"colorbar\":{\"outlinewidth\":1,\"tickcolor\":\"rgb(36,36,36)\",\"ticks\":\"outside\"},\"type\":\"mesh3d\"}],\"parcoords\":[{\"line\":{\"colorbar\":{\"outlinewidth\":1,\"tickcolor\":\"rgb(36,36,36)\",\"ticks\":\"outside\"}},\"type\":\"parcoords\"}],\"pie\":[{\"automargin\":true,\"type\":\"pie\"}],\"scatter\":[{\"marker\":{\"colorbar\":{\"outlinewidth\":1,\"tickcolor\":\"rgb(36,36,36)\",\"ticks\":\"outside\"}},\"type\":\"scatter\"}],\"scatter3d\":[{\"line\":{\"colorbar\":{\"outlinewidth\":1,\"tickcolor\":\"rgb(36,36,36)\",\"ticks\":\"outside\"}},\"marker\":{\"colorbar\":{\"outlinewidth\":1,\"tickcolor\":\"rgb(36,36,36)\",\"ticks\":\"outside\"}},\"type\":\"scatter3d\"}],\"scattercarpet\":[{\"marker\":{\"colorbar\":{\"outlinewidth\":1,\"tickcolor\":\"rgb(36,36,36)\",\"ticks\":\"outside\"}},\"type\":\"scattercarpet\"}],\"scattergeo\":[{\"marker\":{\"colorbar\":{\"outlinewidth\":1,\"tickcolor\":\"rgb(36,36,36)\",\"ticks\":\"outside\"}},\"type\":\"scattergeo\"}],\"scattergl\":[{\"marker\":{\"colorbar\":{\"outlinewidth\":1,\"tickcolor\":\"rgb(36,36,36)\",\"ticks\":\"outside\"}},\"type\":\"scattergl\"}],\"scattermapbox\":[{\"marker\":{\"colorbar\":{\"outlinewidth\":1,\"tickcolor\":\"rgb(36,36,36)\",\"ticks\":\"outside\"}},\"type\":\"scattermapbox\"}],\"scatterpolar\":[{\"marker\":{\"colorbar\":{\"outlinewidth\":1,\"tickcolor\":\"rgb(36,36,36)\",\"ticks\":\"outside\"}},\"type\":\"scatterpolar\"}],\"scatterpolargl\":[{\"marker\":{\"colorbar\":{\"outlinewidth\":1,\"tickcolor\":\"rgb(36,36,36)\",\"ticks\":\"outside\"}},\"type\":\"scatterpolargl\"}],\"scatterternary\":[{\"marker\":{\"colorbar\":{\"outlinewidth\":1,\"tickcolor\":\"rgb(36,36,36)\",\"ticks\":\"outside\"}},\"type\":\"scatterternary\"}],\"surface\":[{\"colorbar\":{\"outlinewidth\":1,\"tickcolor\":\"rgb(36,36,36)\",\"ticks\":\"outside\"},\"colorscale\":[[0.0,\"#440154\"],[0.1111111111111111,\"#482878\"],[0.2222222222222222,\"#3e4989\"],[0.3333333333333333,\"#31688e\"],[0.4444444444444444,\"#26828e\"],[0.5555555555555556,\"#1f9e89\"],[0.6666666666666666,\"#35b779\"],[0.7777777777777778,\"#6ece58\"],[0.8888888888888888,\"#b5de2b\"],[1.0,\"#fde725\"]],\"type\":\"surface\"}],\"table\":[{\"cells\":{\"fill\":{\"color\":\"rgb(237,237,237)\"},\"line\":{\"color\":\"white\"}},\"header\":{\"fill\":{\"color\":\"rgb(217,217,217)\"},\"line\":{\"color\":\"white\"}},\"type\":\"table\"}]},\"layout\":{\"annotationdefaults\":{\"arrowhead\":0,\"arrowwidth\":1},\"autotypenumbers\":\"strict\",\"coloraxis\":{\"colorbar\":{\"outlinewidth\":1,\"tickcolor\":\"rgb(36,36,36)\",\"ticks\":\"outside\"}},\"colorscale\":{\"diverging\":[[0.0,\"rgb(103,0,31)\"],[0.1,\"rgb(178,24,43)\"],[0.2,\"rgb(214,96,77)\"],[0.3,\"rgb(244,165,130)\"],[0.4,\"rgb(253,219,199)\"],[0.5,\"rgb(247,247,247)\"],[0.6,\"rgb(209,229,240)\"],[0.7,\"rgb(146,197,222)\"],[0.8,\"rgb(67,147,195)\"],[0.9,\"rgb(33,102,172)\"],[1.0,\"rgb(5,48,97)\"]],\"sequential\":[[0.0,\"#440154\"],[0.1111111111111111,\"#482878\"],[0.2222222222222222,\"#3e4989\"],[0.3333333333333333,\"#31688e\"],[0.4444444444444444,\"#26828e\"],[0.5555555555555556,\"#1f9e89\"],[0.6666666666666666,\"#35b779\"],[0.7777777777777778,\"#6ece58\"],[0.8888888888888888,\"#b5de2b\"],[1.0,\"#fde725\"]],\"sequentialminus\":[[0.0,\"#440154\"],[0.1111111111111111,\"#482878\"],[0.2222222222222222,\"#3e4989\"],[0.3333333333333333,\"#31688e\"],[0.4444444444444444,\"#26828e\"],[0.5555555555555556,\"#1f9e89\"],[0.6666666666666666,\"#35b779\"],[0.7777777777777778,\"#6ece58\"],[0.8888888888888888,\"#b5de2b\"],[1.0,\"#fde725\"]]},\"colorway\":[\"#1F77B4\",\"#FF7F0E\",\"#2CA02C\",\"#D62728\",\"#9467BD\",\"#8C564B\",\"#E377C2\",\"#7F7F7F\",\"#BCBD22\",\"#17BECF\"],\"font\":{\"color\":\"rgb(36,36,36)\"},\"geo\":{\"bgcolor\":\"white\",\"lakecolor\":\"white\",\"landcolor\":\"white\",\"showlakes\":true,\"showland\":true,\"subunitcolor\":\"white\"},\"hoverlabel\":{\"align\":\"left\"},\"hovermode\":\"closest\",\"mapbox\":{\"style\":\"light\"},\"paper_bgcolor\":\"white\",\"plot_bgcolor\":\"white\",\"polar\":{\"angularaxis\":{\"gridcolor\":\"rgb(232,232,232)\",\"linecolor\":\"rgb(36,36,36)\",\"showgrid\":false,\"showline\":true,\"ticks\":\"outside\"},\"bgcolor\":\"white\",\"radialaxis\":{\"gridcolor\":\"rgb(232,232,232)\",\"linecolor\":\"rgb(36,36,36)\",\"showgrid\":false,\"showline\":true,\"ticks\":\"outside\"}},\"scene\":{\"xaxis\":{\"backgroundcolor\":\"white\",\"gridcolor\":\"rgb(232,232,232)\",\"gridwidth\":2,\"linecolor\":\"rgb(36,36,36)\",\"showbackground\":true,\"showgrid\":false,\"showline\":true,\"ticks\":\"outside\",\"zeroline\":false,\"zerolinecolor\":\"rgb(36,36,36)\"},\"yaxis\":{\"backgroundcolor\":\"white\",\"gridcolor\":\"rgb(232,232,232)\",\"gridwidth\":2,\"linecolor\":\"rgb(36,36,36)\",\"showbackground\":true,\"showgrid\":false,\"showline\":true,\"ticks\":\"outside\",\"zeroline\":false,\"zerolinecolor\":\"rgb(36,36,36)\"},\"zaxis\":{\"backgroundcolor\":\"white\",\"gridcolor\":\"rgb(232,232,232)\",\"gridwidth\":2,\"linecolor\":\"rgb(36,36,36)\",\"showbackground\":true,\"showgrid\":false,\"showline\":true,\"ticks\":\"outside\",\"zeroline\":false,\"zerolinecolor\":\"rgb(36,36,36)\"}},\"shapedefaults\":{\"fillcolor\":\"black\",\"line\":{\"width\":0},\"opacity\":0.3},\"ternary\":{\"aaxis\":{\"gridcolor\":\"rgb(232,232,232)\",\"linecolor\":\"rgb(36,36,36)\",\"showgrid\":false,\"showline\":true,\"ticks\":\"outside\"},\"baxis\":{\"gridcolor\":\"rgb(232,232,232)\",\"linecolor\":\"rgb(36,36,36)\",\"showgrid\":false,\"showline\":true,\"ticks\":\"outside\"},\"bgcolor\":\"white\",\"caxis\":{\"gridcolor\":\"rgb(232,232,232)\",\"linecolor\":\"rgb(36,36,36)\",\"showgrid\":false,\"showline\":true,\"ticks\":\"outside\"}},\"title\":{\"x\":0.05},\"xaxis\":{\"automargin\":true,\"gridcolor\":\"rgb(232,232,232)\",\"linecolor\":\"rgb(36,36,36)\",\"showgrid\":false,\"showline\":true,\"ticks\":\"outside\",\"title\":{\"standoff\":15},\"zeroline\":false,\"zerolinecolor\":\"rgb(36,36,36)\"},\"yaxis\":{\"automargin\":true,\"gridcolor\":\"rgb(232,232,232)\",\"linecolor\":\"rgb(36,36,36)\",\"showgrid\":false,\"showline\":true,\"ticks\":\"outside\",\"title\":{\"standoff\":15},\"zeroline\":false,\"zerolinecolor\":\"rgb(36,36,36)\"}}},\"title\":{\"text\":\"<b>S-S model </b>, L=16, J2 =1, J1 =0.2 , η=0.01, α=2, samples=1000\"},\"xaxis\":{\"mirror\":true,\"showline\":true,\"title\":{\"text\":\"Iteration\"}},\"yaxis\":{\"mirror\":true,\"showline\":true,\"title\":{\"text\":\"Energy\"}}},                        {\"responsive\": true}                    ).then(function(){\n",
       "                            \n",
       "var gd = document.getElementById('0b29b671-f532-4562-a1a8-d56778c804bf');\n",
       "var x = new MutationObserver(function (mutations, observer) {{\n",
       "        var display = window.getComputedStyle(gd).display;\n",
       "        if (!display || display === 'none') {{\n",
       "            console.log([gd, 'removed!']);\n",
       "            Plotly.purge(gd);\n",
       "            observer.disconnect();\n",
       "        }}\n",
       "}});\n",
       "\n",
       "// Listen for the removal of the full notebook cells\n",
       "var notebookContainer = gd.closest('#notebook-container');\n",
       "if (notebookContainer) {{\n",
       "    x.observe(notebookContainer, {childList: true});\n",
       "}}\n",
       "\n",
       "// Listen for the clearing of the current output cell\n",
       "var outputEl = gd.closest('.output');\n",
       "if (outputEl) {{\n",
       "    x.observe(outputEl, {childList: true});\n",
       "}}\n",
       "\n",
       "                        })                };                });            </script>        </div>"
      ]
     },
     "metadata": {},
     "output_type": "display_data"
    }
   ],
   "source": [
    "# import the data from log file\n",
    "OUT_NAME_suffixless=OUT_NAME\n",
    "data = []\n",
    "names = [\"normal\",\"MSR\"]\n",
    "for i in range(no_of_runs):\n",
    "    data.append(json.load(open(OUT_NAME_suffixless+str(i)+\".log\")))\n",
    "if type(data[0][\"Energy\"][\"Mean\"]) == dict: #DTYPE in (np.complex128, np.complex64):#, np.float64):# and False:\n",
    "    energy_convergence = [data[i][\"Energy\"][\"Mean\"][\"real\"] for i in range(no_of_runs)]\n",
    "    # symmetry = [data[i][\"symmetry\"][\"Mean\"][\"real\"] for i in range(no_of_runs-run_only_2)]\n",
    "else:\n",
    "    energy_convergence = [data[i][\"Energy\"][\"Mean\"] for i in range(no_of_runs)]\n",
    "    # symmetry = [data[i][\"symmetry\"][\"Mean\"] for i in range(no_of_runs-run_only_2)]\n",
    "for i in range(no_of_runs):\n",
    "    figure.add_trace(go.Scatter(\n",
    "        x=data[i][\"Energy\"][\"iters\"], y=energy_convergence[i],\n",
    "        name=names[i]\n",
    "    ))\n",
    "    # figure.add_trace(go.Scatter(\n",
    "    #     x=data[i][\"Energy\"][\"iters\"], y=symmetry[i],\n",
    "    #     name=names[i]+\"_swap\"\n",
    "    # ))\n",
    "\n",
    "figure.update_layout(xaxis_title=\"Iteration\",yaxis_title=\"Energy\")\n",
    "figure.show()"
   ]
  },
  {
   "cell_type": "markdown",
   "metadata": {},
   "source": [
    "## Assessment of the other simulation results"
   ]
  },
  {
   "cell_type": "code",
   "execution_count": null,
   "metadata": {},
   "outputs": [
    {
     "name": "stdout",
     "output_type": "stream",
     "text": [
      "[-1, -1]\n"
     ]
    }
   ],
   "source": [
    "# Calculation of how long it took to reach 99.5% of exact energy. The first value under 0.5% deviation counts as a converged state.\n",
    "no_of_runs = 2\n",
    "threshold_energy = 0.995*exact_ground_energy\n",
    "data = []\n",
    "for i in range(no_of_runs):\n",
    "    data.append(json.load(open(OUT_NAME+str(i)+\".log\")))\n",
    "if type(data[0][\"Energy\"][\"Mean\"]) == dict:\n",
    "    energy_convergence = [data[i][\"Energy\"][\"Mean\"][\"real\"] for i in range(no_of_runs)]\n",
    "else:\n",
    "    energy_convergence = [data[i][\"Energy\"][\"Mean\"] for i in range(no_of_runs)]\n",
    "steps_until_convergence = [next((i for i,v in enumerate(energy_convergence[j]) if v < threshold_energy), -1) for j in range(no_of_runs)]\n",
    "print(steps_until_convergence)"
   ]
  },
  {
   "cell_type": "code",
   "execution_count": null,
   "metadata": {},
   "outputs": [
    {
     "name": "stdout",
     "output_type": "stream",
     "text": [
      "Trained RBM without MSR:\n",
      "m_d^2 = -0.3333313-0.0000054j ± 0.0000057 [σ²=0.0000000]\n",
      "m_p(MSR) = 0.0020+0.0001j ± 0.0019 [σ²=0.0038]\n",
      "m_s^2 = 0.12522+0.00001j ± 0.00021 [σ²=0.00005]\n",
      "m_s^2(MSR) = 0.1250034-0.0000003j ± 0.0000034 [σ²=0.0000000]\n",
      "Trained RBM with MSR:\n",
      "m_d^2 = -0.33300+0.00019j ± 0.00019 [σ²=0.00004]\n",
      "m_p(MSR) = 0.0015-0.0002j ± 0.0015 [σ²=0.0022]\n",
      "m_s^2 = 0.12550-0.00029j ± 0.00028 [σ²=0.00009]\n",
      "m_s^2(MSR) = 0.124981+0.000045j ± 0.000023 [σ²=0.000001]\n"
     ]
    }
   ],
   "source": [
    "# Evaluation of order parameters.\n",
    "from lattice_and_ops import Operators, Lattice\n",
    "ops = Operators(lattice,hilbert,ho.mszsz,ho.exchange)\n",
    "for i,gs in enumerate([gs_1,gs_2][run_only_2:run_only_2+no_of_runs]):\n",
    "    print(\"Trained RBM with MSR:\" if i else \"Trained RBM without MSR:\")\n",
    "    print(\"m_d^2 =\", gs.estimate(ops.m_dimer_op))\n",
    "    print(\"m_p(MSR) =\", gs.estimate(ops.m_plaquette_op_MSR))\n",
    "    print(\"m_s^2 =\", gs.estimate(ops.m_s2_op_MSR))\n",
    "    print(\"m_s^2(MSR) =\", gs.estimate(ops.m_s2_op))"
   ]
  },
  {
   "cell_type": "markdown",
   "metadata": {},
   "source": [
    "### Print final results"
   ]
  },
  {
   "cell_type": "code",
   "execution_count": null,
   "metadata": {},
   "outputs": [
    {
     "name": "stdout",
     "output_type": "stream",
     "text": [
      " 0.200  -27.20000  0.00000   -27.20057  0.00734  -0.3333  0.0000   0.0000  0.0000   0.1250  0.0000  -0.3330  0.0000   0.0015  0.0022   0.1255  0.0001   1000   400 -1, -1\n"
     ]
    }
   ],
   "source": [
    "from lattice_and_ops import log_results\n",
    "log_results(JEXCH1,gs_1,gs_2,ops,SAMPLES,NUM_ITER,steps_until_convergence)"
   ]
  },
  {
   "cell_type": "code",
   "execution_count": null,
   "metadata": {},
   "outputs": [
    {
     "name": "stdout",
     "output_type": "stream",
     "text": [
      " 0.200  -27.20000  0.00000  -0.3333  0.0000   0.0000  0.0000   0.1250  0.0000   1000   400\n"
     ]
    }
   ],
   "source": [
    "print(\"{:6.3f} {:10.5f} {:8.5f}  {:7.4f} {:7.4f}  {:7.4f} {:7.4f}  {:7.4f} {:7.4f}  {:5.0f} {:5.0f}\".format(JEXCH1, \n",
    "    gs_1.energy.mean.real,                          gs_1.energy.variance,\n",
    "    gs_1.estimate(ops.m_dimer_op).mean.real,        gs_1.estimate(ops.m_dimer_op).variance,\n",
    "    gs_1.estimate(ops.m_plaquette_op).mean.real,    gs_1.estimate(ops.m_plaquette_op).variance,\n",
    "    gs_1.estimate(ops.m_s2_op).mean.real,           gs_1.estimate(ops.m_s2_op).variance, \n",
    "    SAMPLES, NUM_ITER, steps_until_convergence[0], sep='    '))"
   ]
  },
  {
   "cell_type": "code",
   "execution_count": null,
   "metadata": {},
   "outputs": [
    {
     "name": "stdout",
     "output_type": "stream",
     "text": [
      "asd\n"
     ]
    }
   ],
   "source": [
    "print(\"asd\",file=None)"
   ]
  },
  {
   "cell_type": "code",
   "execution_count": null,
   "metadata": {},
   "outputs": [
    {
     "name": "stdout",
     "output_type": "stream",
     "text": [
      "  0.00000\n"
     ]
    }
   ],
   "source": [
    "print(\"{:9.5f}\".format(gs_1.energy.variance))"
   ]
  },
  {
   "cell_type": "code",
   "execution_count": null,
   "metadata": {},
   "outputs": [
    {
     "data": {
      "text/plain": [
       "{'Mean': (-27.200000000000017+0j),\n",
       " 'Variance': 5.048709793414476e-29,\n",
       " 'Sigma': 2.5121479338940403e-15,\n",
       " 'R_hat': nan,\n",
       " 'TauCorr': 62.0}"
      ]
     },
     "execution_count": 76,
     "metadata": {},
     "output_type": "execute_result"
    }
   ],
   "source": [
    "gs_1.energy.to_dict()"
   ]
  }
 ],
 "metadata": {
  "interpreter": {
   "hash": "31f2aee4e71d21fbe5cf8b01ff0e069b9275f58929596ceb00d14d90e3e16cd6"
  },
  "kernelspec": {
   "display_name": "Python 3.8.10 64-bit",
   "name": "python3"
  },
  "language_info": {
   "codemirror_mode": {
    "name": "ipython",
    "version": 3
   },
   "file_extension": ".py",
   "mimetype": "text/x-python",
   "name": "python",
   "nbconvert_exporter": "python",
   "pygments_lexer": "ipython3",
   "version": "3.8.10"
  },
  "metadata": {
   "interpreter": {
    "hash": "916dbcbb3f70747c44a77c7bcd40155683ae19c65e1c03b4aa3499c5328201f1"
   }
  }
 },
 "nbformat": 4,
 "nbformat_minor": 4
}
