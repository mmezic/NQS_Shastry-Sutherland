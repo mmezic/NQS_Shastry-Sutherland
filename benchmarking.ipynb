{
 "cells": [
  {
   "cell_type": "markdown",
   "metadata": {},
   "source": [
    "# Exploring Shastry-Sutterland model with RBM variational wave function and other models"
   ]
  },
  {
   "cell_type": "code",
   "execution_count": 216,
   "metadata": {},
   "outputs": [
    {
     "name": "stdout",
     "output_type": "stream",
     "text": [
      "Python version: 3.8.10 (default, Nov 26 2021, 20:14:08) \n",
      "[GCC 9.3.0]\n",
      "NetKet version: 3.3.2.post2\n",
      "NumPy version: 1.20.3\n"
     ]
    }
   ],
   "source": [
    "import netket as nk\n",
    "import numpy as np\n",
    "import time\n",
    "import json\n",
    "import plotly.graph_objects as go\n",
    "import matplotlib.pyplot as plt\n",
    "import jax\n",
    "import flax\n",
    "import optax\n",
    "from sys import version as pyvers\n",
    "\n",
    "print(\"Python version: {}\".format(pyvers))\n",
    "print(\"NetKet version: {}\".format(nk.__version__))\n",
    "print(\"NumPy version: {}\".format(np.__version__))"
   ]
  },
  {
   "cell_type": "markdown",
   "metadata": {},
   "source": [
    "### Setup relevant parameters and settings of the simulation "
   ]
  },
  {
   "cell_type": "code",
   "execution_count": 217,
   "metadata": {},
   "outputs": [],
   "source": [
    "\"\"\"lattice\"\"\"\n",
    "SITES    = 16            # 4, 8, 16, 20 ... number of vertices in a tile determines the tile shape \n",
    "JEXCH1   = .2            # nn interaction\n",
    "JEXCH2   = 1             # nnn interaction\n",
    "H_Z      = 0             # magnetic field\n",
    "USE_PBC = True\n",
    "TOTAL_SZ = None          # 0, None ... restriction of Hilbert space\n",
    "#USE_MSR = True          # Should we use a Marshall sign rule? In this notebook, we use both.\n",
    "\n",
    "\"\"\"machine learning\"\"\"\n",
    "MACHINE  = \"RBMModPhase\"         # RBM, RBMSymm, RBMSymm_transl, RBMModPhase, GCNN, Jastrow, myRBM\n",
    "DTYPE    = np.complex128 # data-type of weights in neural network\n",
    "ALPHA    = 2            # N_hidden / N_visible\n",
    "ETA      = .01          # learning rate (0.01 usually works)\n",
    "SAMPLER  = 'exact'       # 'local' = MetropolisLocal, 'exchange' = MetropolisExchange\n",
    "SAMPLES  = 1000          # number of Monte Carlo samples\n",
    "NUM_ITER = 400           # number of convergence iterations\n",
    "N_LAYERS = 2 #2             # number of layers (in case of G-CNN)\n",
    "FEATURES = (16,16) #16 #(8,4)         # dimensions of layers (in case of G-CNN)\n",
    "\n",
    "OUT_NAME = \"SS_\"+str(SITES)+\"j1=\"+str(JEXCH1) # output file name"
   ]
  },
  {
   "cell_type": "markdown",
   "metadata": {},
   "source": [
    "### Lattice definition\n",
    "Basic structure of tiled lattices is implemented in `lattice_and_ops.py` file. Class `Lattice` implements relative positional functions, \n",
    "- e.g. *`rt(node)` returns the index of the right neighbour of a site with index `node`*\n",
    "\n",
    "The `for` loop constructs full Shastry-Sutherland lattice with PBC using these auxiliary positional functions."
   ]
  },
  {
   "cell_type": "code",
   "execution_count": 218,
   "metadata": {},
   "outputs": [],
   "source": [
    "from lattice_and_ops import Lattice\n",
    "lattice = Lattice(SITES)\n",
    "\n",
    "if not USE_PBC and SITES != 16:\n",
    "    raise Exception(\"Non-PBC are implemented only for 4x4 lattice!!!\")\n",
    "\n",
    "# Construction of custom graph according to tiled lattice structure defined in the Lattice class.\n",
    "edge_colors = []\n",
    "for node in range(SITES):\n",
    "    if USE_PBC or not node in [3,7,11,15]:\n",
    "        edge_colors.append([node,lattice.rt(node), 1])  # horizontal connections\n",
    "    if USE_PBC or not node in [12,13,14,15]:\n",
    "        edge_colors.append([node,lattice.bot(node), 1]) # vertical connections\n",
    "    row, column = lattice.position(node)\n",
    "    \n",
    "    SS_color = 3 if not USE_PBC and node in [3,7,4,12,13,14,15] else 2\n",
    "    if column%2 == 0:\n",
    "        if row%2 == 0:\n",
    "            edge_colors.append([node,lattice.lrt(node),SS_color]) # diagonal bond\n",
    "        else:\n",
    "            edge_colors.append([node,lattice.llft(node),SS_color]) # diagonal bond\n",
    "\n",
    "g = nk.graph.Graph(edges=edge_colors) #,n_nodes=3)\n",
    "N = g.n_nodes\n",
    "\n",
    "hilbert = nk.hilbert.Spin(s=.5, N=g.n_nodes, total_sz=TOTAL_SZ)"
   ]
  },
  {
   "cell_type": "markdown",
   "metadata": {},
   "source": [
    "### Characters of the symmetries\n",
    "In case of G-CNN, we need to specify the characters of the symmetry transformations.\n",
    "- DS phase anti-symmetric wrt permutations with negative sign and symmetric wer permutaions with postive sign\n",
    "- AF phase is always symmetric for all permutations  "
   ]
  },
  {
   "cell_type": "code",
   "execution_count": 219,
   "metadata": {},
   "outputs": [
    {
     "name": "stdout",
     "output_type": "stream",
     "text": [
      "There are 64 full symmetries.\n"
     ]
    }
   ],
   "source": [
    "\n",
    "print(\"There are\", len(g.automorphisms()), \"full symmetries.\")\n",
    "# deciding point between DS and AF phase is set to 0.5\n",
    "if JEXCH1 < 0.5:\n",
    "    # DS phase is partly anti-symmetric\n",
    "    characters = []\n",
    "    from lattice_and_ops import permutation_sign\n",
    "    for perm in g.automorphisms():\n",
    "        # print(perm, \"with sign\", permutation_sign(np.asarray(perm)))\n",
    "        characters.append(permutation_sign(np.asarray(perm)))\n",
    "    characters_dimer_1 = np.asarray(characters,dtype=complex)\n",
    "    characters_dimer_2 = characters_dimer_1\n",
    "else:\n",
    "    # AF phase if fully symmetric\n",
    "    characters_dimer_1 = np.ones((len(g.automorphisms()),), dtype=complex)\n",
    "    characters_dimer_2 = characters_dimer_1"
   ]
  },
  {
   "cell_type": "markdown",
   "metadata": {},
   "source": [
    "### Translations\n",
    "\n",
    "If we want to include only translations, we have to exclude some symmetries from `g.automorphisms()`.\n",
    "\n",
    "\n",
    "⚠️ TODO ⚠️ <span style=\"color:red\"> This part is not fully automated yet. Translations are currently picked by hand from the group of all automorphisms. </span>"
   ]
  },
  {
   "cell_type": "code",
   "execution_count": 220,
   "metadata": {},
   "outputs": [
    {
     "name": "stdout",
     "output_type": "stream",
     "text": [
      "Out of 64 permutations, 4 translations were picked.\n"
     ]
    }
   ],
   "source": [
    "if MACHINE == \"RBMSymm_transl\" and not (N in [4,16]):\n",
    "    raise NotImplementedError(\"Extraction of translations from the group of automorphisms is not implemented yet.\")\n",
    "translations = []\n",
    "for perm in g.automorphisms():\n",
    "    aperm = np.asarray(perm)\n",
    "    if N == 4:\n",
    "        if (aperm[0],aperm[1]) in ((0,1),(1,0),(2,3),(3,2)): # N = 4\n",
    "            translations.append(nk.utils.group._permutation_group.Permutation(aperm))\n",
    "    if N == 16:\n",
    "        if (aperm[0],aperm[1],aperm[3]) in ((0,1,3),(2,3,1),(8,9,11),(10,11,9)): # N = 16\n",
    "    # if (aperm[0],aperm[1],aperm[2],aperm[3]) in ((4,7,6,5),): # N = 8\n",
    "    # if (aperm[2],aperm[0]) in ((2,0),(3,0),(0,1),(1,2)):#,(2,3,1)): # N = 16, two dimers with just translation\n",
    "    # if (aperm[0],aperm[1],aperm[3]) in ((0,1,3),(3,2,0),(2,3,1),(1,0,2)): # N = 16, two dimers plus second translation option\n",
    "            translations.append(nk.utils.group._permutation_group.Permutation(aperm))\n",
    "translation_group = nk.utils.group._permutation_group.PermutationGroup(translations,degree=SITES)\n",
    "print(\"Out of\", len(g.automorphisms()), \"permutations,\",len(translation_group), \"translations were picked.\")"
   ]
  },
  {
   "cell_type": "markdown",
   "metadata": {},
   "source": [
    "## Hamoltonian definition\n",
    "$$ H = J_{1} \\sum\\limits_{\\langle i,j \\rangle}^{L} \\vec{\\sigma}_{i} \\cdot \\vec{\\sigma}_{j} + J_{2} \\sum\\limits_{\\langle\\langle i,j \\rangle\\rangle_{SS}}^{L}  \\vec{\\sigma}_{i} \\cdot \\vec{\\sigma}_{j} + 2h\\sum\\limits_{i} \\sigma^z_{i}\\,. $$\n",
    "\n",
    "Axiliary constant operators used to define hamiltonian are loaded from the external file, they are pre-defined in the `HamOps` class."
   ]
  },
  {
   "cell_type": "code",
   "execution_count": 221,
   "metadata": {},
   "outputs": [],
   "source": [
    "from lattice_and_ops import HamOps\n",
    "ho = HamOps()\n",
    "# H_Z = .5\n",
    "ha_1 = nk.operator.GraphOperator(hilbert, graph=g, bond_ops=ho.bond_operator(JEXCH1,JEXCH2, h_z=H_Z, use_MSR=False), bond_ops_colors=ho.bond_color)\n",
    "ha_2 = nk.operator.GraphOperator(hilbert, graph=g, bond_ops=ho.bond_operator(JEXCH1,JEXCH2, h_z=H_Z, use_MSR=True), bond_ops_colors=ho.bond_color)\n"
   ]
  },
  {
   "cell_type": "markdown",
   "metadata": {},
   "source": [
    "### Magnetization operator definition\n",
    "$$ \\hat{m}_z := \\sum\\limits_i \\sigma_i^z $$"
   ]
  },
  {
   "cell_type": "code",
   "execution_count": 222,
   "metadata": {},
   "outputs": [],
   "source": [
    "m_z = sum(nk.operator.spin.sigmaz(hilbert, i) for i in range(hilbert.size))"
   ]
  },
  {
   "cell_type": "code",
   "execution_count": 223,
   "metadata": {},
   "outputs": [],
   "source": [
    "if False: # exact diagonalization scan\n",
    "    # H_Z = 0\n",
    "    print(\"#N =\", N)\n",
    "    print(\"# J1     J2      H_Z            m_z            ground          1.excited          2.excited\")\n",
    "    for H_Z in np.arange(0.02,0.03,step=0.001):\n",
    "        ha = nk.operator.GraphOperator(hilbert, graph=g, bond_ops=ho.bond_operator(JEXCH1,JEXCH2, h_z=H_Z, use_MSR=False), bond_ops_colors=ho.bond_color)\n",
    "        start = time.time()\n",
    "        evals, eigvects = nk.exact.lanczos_ed(ha, k=3, compute_eigenvectors=True)\n",
    "        ground_state = eigvects.T[0]\n",
    "        end = time.time()\n",
    "        magnetization_z = ground_state.transpose()@(m_z@ground_state)\n",
    "        # print(\"ED took\", (start-end)/60, \"min.\")\n",
    "        # print(np.round(np.array(ground_state),5))\n",
    "        # print(ha.to_dense())\n",
    "        print(\"%.3f   %.3f  %2.10f   %2.10f   %2.10f   %14.10f   %14.10f\" % (JEXCH1, JEXCH2, H_Z, magnetization_z, evals[0], evals[1], evals[2]))"
   ]
  },
  {
   "cell_type": "code",
   "execution_count": 224,
   "metadata": {},
   "outputs": [
    {
     "data": {
      "text/plain": [
       "8.533928720865298e-30"
      ]
     },
     "execution_count": 224,
     "metadata": {},
     "output_type": "execute_result"
    }
   ],
   "source": [
    "evals, eigvects = nk.exact.lanczos_ed(ha_1, k=3, compute_eigenvectors=True)\n",
    "ground_state = eigvects.T[0]\n",
    "ground_state.transpose()@(m_z@ground_state)"
   ]
  },
  {
   "cell_type": "markdown",
   "metadata": {},
   "source": [
    "## Exact diagonalization"
   ]
  },
  {
   "cell_type": "code",
   "execution_count": 225,
   "metadata": {},
   "outputs": [
    {
     "name": "stdout",
     "output_type": "stream",
     "text": [
      "Ground state energy: -24.000000000000032 \n",
      "It took  0.92 s = 0.02 min\n"
     ]
    }
   ],
   "source": [
    "if g.n_nodes < 20:\n",
    "    start = time.time()\n",
    "    if g.n_nodes < 15:\n",
    "        evals, eigvects = nk.exact.full_ed(ha_1, compute_eigenvectors=True)\n",
    "    else:\n",
    "        evals, eigvects = nk.exact.lanczos_ed(ha_1, k=3, compute_eigenvectors=True)\n",
    "    end = time.time()\n",
    "    diag_time = end - start\n",
    "    print(\"Ground state energy:\",evals[0], \"\\nIt took \", round(diag_time,2), \"s =\", round((diag_time)/60,2),\"min\")\n",
    "else:\n",
    "    print(\"System is too large for exact diagonalization. Setting exact_ground_energy = 0 (which is wrong)\")\n",
    "    evals = [0,0,0]\n",
    "    eigvects = None \n",
    "exact_ground_energy = evals[0]"
   ]
  },
  {
   "cell_type": "markdown",
   "metadata": {},
   "source": [
    "# Machine learning starts here"
   ]
  },
  {
   "cell_type": "markdown",
   "metadata": {},
   "source": [
    "## Machine definition and other auxiliary `netket` objects\n",
    "We define two sets of these objects, usually: \n",
    "- variables ending with ...`_1` belongs to the choice of standard basis,\n",
    "- variables ending with ...`_2` belongs to the choice of MSR basis.\n",
    "\n",
    "But they can be used in a different way when we need to compare two different models."
   ]
  },
  {
   "cell_type": "code",
   "execution_count": 226,
   "metadata": {},
   "outputs": [],
   "source": [
    "# Selection of machine type\n",
    "if MACHINE == \"RBM\":\n",
    "    machine_1 = nk.models.RBM(dtype=DTYPE, alpha=ALPHA)#, use_visible_bias=False) \n",
    "    machine_2 = nk.models.RBM(dtype=DTYPE, alpha=ALPHA)#, use_visible_bias=False)\n",
    "elif MACHINE == \"RBMSymm\":\n",
    "    machine_1 = nk.models.RBMSymm(g.automorphisms(), dtype=DTYPE, alpha=ALPHA)#, use_visible_bias=False) \n",
    "    machine_2 = nk.models.RBMSymm(g.automorphisms(), dtype=DTYPE, alpha=ALPHA)#, use_visible_bias=False)\n",
    "elif MACHINE == \"RBMSymm_transl\":\n",
    "    machine_1 = nk.models.RBMSymm(translation_group, dtype=DTYPE, alpha=ALPHA)#, use_visible_bias=False) \n",
    "    machine_2 = nk.models.RBMSymm(translation_group, dtype=DTYPE, alpha=ALPHA)#, use_visible_bias=False)\n",
    "elif MACHINE == \"GCNN\":\n",
    "    machine_1 = nk.models.GCNN(symmetries=g.automorphisms(), dtype=DTYPE, \n",
    "        layers=N_LAYERS, features=FEATURES, characters=characters_dimer_1)#, output_activation=log_cosh)\n",
    "    machine_2 = nk.models.GCNN(symmetries=g.automorphisms(), dtype=DTYPE, \n",
    "        layers=N_LAYERS, features=FEATURES, characters=characters_dimer_2)#, output_activation=log_cosh)\n",
    "elif MACHINE == \"myRBM\":\n",
    "    from GCNN_Nomura import GCNN_my\n",
    "    machine_1 = GCNN_my(symmetries=g.automorphisms(), dtype=DTYPE, layers=1, features=ALPHA, characters=characters_dimer_1, output_activation=nk.nn.log_cosh, use_bias=True, use_visible_bias=True)\n",
    "    machine_2 = GCNN_my(symmetries=g.automorphisms(), dtype=DTYPE, layers=1, features=ALPHA, characters=characters_dimer_2, output_activation=nk.nn.log_cosh, use_bias=True, use_visible_bias=False)\n",
    "elif MACHINE == \"Jastrow\":\n",
    "    from lattice_and_ops import Jastrow\n",
    "    machine_1 = Jastrow()\n",
    "    machine_2 = Jastrow()\n",
    "elif MACHINE == \"RBMModPhase\":\n",
    "    machine_1 = nk.models.RBMModPhase(alpha=ALPHA, use_hidden_bias=True, dtype=np.float64)\n",
    "    machine_2 = nk.models.RBMModPhase(alpha=ALPHA, use_hidden_bias=True, dtype=np.float64)\n",
    "\n",
    "    # A linear schedule varies the learning rate from 0 to 0.01 across 600 steps.\n",
    "    modulus_schedule_1=optax.linear_schedule(0,0.01,NUM_ITER)\n",
    "    modulus_schedule_2=optax.linear_schedule(0,0.01,NUM_ITER)\n",
    "    # The phase starts with a larger learning rate and then is decreased.\n",
    "    phase_schedule_1=optax.linear_schedule(0.05,0.01,NUM_ITER)\n",
    "    phase_schedule_2=optax.linear_schedule(0.05,0.01,NUM_ITER)\n",
    "    # Combine the linear schedule with SGD\n",
    "    optm_1=optax.sgd(modulus_schedule_1)\n",
    "    optp_1=optax.sgd(phase_schedule_1)\n",
    "    optm_2=optax.sgd(modulus_schedule_2)\n",
    "    optp_2=optax.sgd(phase_schedule_2)\n",
    "    # The multi-transform optimizer uses different optimisers for different parts of the parameters.\n",
    "    optimizer_1 = optax.multi_transform({'o1': optm_1, 'o2': optp_1}, flax.core.freeze({\"Dense_0\":\"o1\", \"Dense_1\":\"o2\"}))\n",
    "    optimizer_2 = optax.multi_transform({'o1': optm_2, 'o2': optp_2}, flax.core.freeze({\"Dense_0\":\"o1\", \"Dense_1\":\"o2\"}))\n",
    "else:\n",
    "    raise Exception(str(\"undefined MACHINE: \")+str(MACHINE))\n",
    "\n",
    "# Selection of sampler type\n",
    "if SAMPLER == 'local':\n",
    "    sampler_1 = nk.sampler.MetropolisLocal(hilbert=hilbert)\n",
    "    sampler_2 = nk.sampler.MetropolisLocal(hilbert=hilbert)\n",
    "elif SAMPLER == 'exact':\n",
    "    sampler_1 = nk.sampler.ExactSampler(hilbert=hilbert)\n",
    "    sampler_2 = nk.sampler.ExactSampler(hilbert=hilbert)\n",
    "else:\n",
    "    sampler_1 = nk.sampler.MetropolisExchange(hilbert=hilbert, graph=g)\n",
    "    sampler_2 = nk.sampler.MetropolisExchange(hilbert=hilbert, graph=g)\n",
    "    if SAMPLER != 'exchange':\n",
    "        print(\"Warning! Undefined fq.SAMPLER:\", SAMPLER, \", dafaulting to MetropolisExchange fq.SAMPLER\")\n",
    "\n",
    "if MACHINE != \"RBMModPhase\":\n",
    "    optimizer_1 = nk.optimizer.Sgd(learning_rate=ETA)\n",
    "    optimizer_2 = nk.optimizer.Sgd(learning_rate=ETA)\n",
    "\n",
    "# Stochastic Reconfiguration as a preconditioner\n",
    "sr_1  = nk.optimizer.SR(diag_shift=0.01)\n",
    "sr_2  = nk.optimizer.SR(diag_shift=0.01)\n",
    "\n",
    "# The variational state (former name: nk.variational.MCState)\n",
    "vs_1 = nk.vqs.MCState(sampler_1 , machine_1 , n_samples=SAMPLES)\n",
    "vs_2 = nk.vqs.MCState(sampler_2 , machine_2 , n_samples=SAMPLES)\n",
    "vs_1.init_parameters(jax.nn.initializers.normal(stddev=0.05))\n",
    "vs_2.init_parameters(jax.nn.initializers.normal(stddev=0.01))\n",
    "\n",
    "\n",
    "gs_1 = nk.VMC(hamiltonian=ha_1 ,optimizer=optimizer_1 ,preconditioner=sr_1 ,variational_state=vs_1)\n",
    "gs_2 = nk.VMC(hamiltonian=ha_2 ,optimizer=optimizer_2 ,preconditioner=sr_2 ,variational_state=vs_2) "
   ]
  },
  {
   "cell_type": "code",
   "execution_count": 227,
   "metadata": {},
   "outputs": [],
   "source": [
    "if False:\n",
    "    ETA2 = 0.001\n",
    "    optimizer_1 = nk.optimizer.Sgd(learning_rate=ETA2)\n",
    "    optimizer_2 = nk.optimizer.Sgd(learning_rate=ETA2)\n",
    "    # vs_1 = nk.vqs.MCState(sampler_1 , machine_1 , n_samples=SAMPLES*3)\n",
    "    # vs_2 = nk.vqs.MCState(sampler_2 , machine_2 , n_samples=SAMPLES*3)\n",
    "    gs_1 = nk.VMC(hamiltonian=ha_1 ,optimizer=optimizer_1,preconditioner=sr_1,variational_state=vs_1)   # 0 ... symmetric\n",
    "    gs_2 = nk.VMC(hamiltonian=ha_2 ,optimizer=optimizer_2,preconditioner=sr_2,variational_state=vs_2)   # 1 ... symmetric+MSR"
   ]
  },
  {
   "cell_type": "code",
   "execution_count": 228,
   "metadata": {},
   "outputs": [
    {
     "name": "stdout",
     "output_type": "stream",
     "text": [
      "1088 1088\n"
     ]
    }
   ],
   "source": [
    "print(vs_1.n_parameters, vs_2.n_parameters)"
   ]
  },
  {
   "cell_type": "markdown",
   "metadata": {},
   "source": [
    "# Calculation\n",
    "We let the calculation run for `NUM_ITERS` iterations for both cases _1 and _2 (without MSR and with MSR). If only one case is desired, set the variable `no_of_runs` to 1."
   ]
  },
  {
   "cell_type": "code",
   "execution_count": 229,
   "metadata": {},
   "outputs": [
    {
     "name": "stdout",
     "output_type": "stream",
     "text": [
      "J_1 = 0.2 ; H_Z = 0; Expected exact energy: -24.000000000000032\n"
     ]
    },
    {
     "name": "stderr",
     "output_type": "stream",
     "text": [
      "100%|██████████| 500/500 [01:04<00:00,  7.78it/s, Energy=-23.968+0.001j ± 0.011 [σ²=0.153]]    \n"
     ]
    },
    {
     "name": "stdout",
     "output_type": "stream",
     "text": [
      "The calculation for RBMModPhase of type 1 took 1.0781478921572367 min\n"
     ]
    },
    {
     "name": "stderr",
     "output_type": "stream",
     "text": [
      "100%|██████████| 500/500 [00:57<00:00,  8.75it/s, Energy=-23.975+0.000j ± 0.010 [σ²=0.116]]    "
     ]
    },
    {
     "name": "stdout",
     "output_type": "stream",
     "text": [
      "The calculation for RBMModPhase of type 2 took 0.9599370360374451 min\n"
     ]
    },
    {
     "name": "stderr",
     "output_type": "stream",
     "text": [
      "\n"
     ]
    }
   ],
   "source": [
    "runs = [1,1]\n",
    "no_of_runs = np.sum(runs) # 1 - one run for variables with ..._1;  2 - both runs for variables ..._1 and ..._2\n",
    "run_only_2 = (runs[1]==1 and runs[0]==0) # in case of no_of_runs=1\n",
    "NUM_ITER = 500#3000\n",
    "print(\"J_1 =\", JEXCH1,\"; H_Z =\",H_Z, end=\"; \")\n",
    "if exact_ground_energy != 0:\n",
    "    print(\"Expected exact energy:\", exact_ground_energy)\n",
    "for i,gs in enumerate([gs_1,gs_2][run_only_2:run_only_2+no_of_runs]):\n",
    "    start = time.time()\n",
    "    gs.run(out=OUT_NAME+str(i), n_iter=int(NUM_ITER))#, obs={'symmetry':P(0,1)})\n",
    "    end = time.time()\n",
    "    print(\"The calculation for {} of type {} took {} min\".format(MACHINE, i+1, (end-start)/60))\n"
   ]
  },
  {
   "cell_type": "code",
   "execution_count": 230,
   "metadata": {},
   "outputs": [
    {
     "name": "stdout",
     "output_type": "stream",
     "text": [
      "Trained RBM without MSR:\n",
      "Energy = -23.968+0.001j ± 0.011 [σ²=0.153]\n",
      "m_z = 0.0020+0.0000j ± 0.0035 [σ²=0.0120]\n",
      "Trained RBM with MSR:\n",
      "Energy = -23.975+0.000j ± 0.010 [σ²=0.116]\n",
      "m_z = 0.0040+0.0000j ± 0.0028 [σ²=0.0080]\n"
     ]
    }
   ],
   "source": [
    "for i,gs in enumerate([gs_1,gs_2][run_only_2:run_only_2+no_of_runs]):\n",
    "    print(\"Trained RBM with MSR:\" if (i+run_only_2) else \"Trained RBM without MSR:\")\n",
    "    print(\"Energy =\", gs.energy)\n",
    "    print(\"m_z =\", gs.estimate(m_z))"
   ]
  },
  {
   "cell_type": "markdown",
   "metadata": {},
   "source": [
    "## Energy Convergence Plotting\n",
    "In case that the machine did not converge, we can re-run the previous cell and than skip the next cell. This way, the replotting just appends the new results and does not erase the previoius results. "
   ]
  },
  {
   "cell_type": "code",
   "execution_count": 231,
   "metadata": {},
   "outputs": [],
   "source": [
    "# Exact Energy Line\n",
    "no_of_all_iters = NUM_ITER\n",
    "figure = go.Figure(\n",
    "    data=[\n",
    "        go.Scatter(\n",
    "            x=(0,no_of_all_iters),\n",
    "            y=(exact_ground_energy,exact_ground_energy),\n",
    "            mode=\"lines\",line=go.scatter.Line(color=\"#000000\",width=1), name=\"exact energy\")],\n",
    "    layout=go.Layout(\n",
    "        template=\"simple_white\",\n",
    "        xaxis=dict(title=\"Iteration\", mirror=True, showline=True),\n",
    "        yaxis=dict(title=\"Energy\", mirror=True, showline=True),\n",
    "        title=(\"<b>\"+\"S-S\"+\" model </b>, N=\"+str(SITES)+\", J2 =\"+str(JEXCH2)+ \", J1 =\"+str(JEXCH1)+\" , η=\"+str(ETA)+\", α=\"+str(ALPHA)+\", samples=\"+str(SAMPLES)))\n",
    "    ).add_hline(y=exact_ground_energy, opacity=1, line_width=1)\n"
   ]
  },
  {
   "cell_type": "code",
   "execution_count": 232,
   "metadata": {},
   "outputs": [
    {
     "data": {
      "application/vnd.plotly.v1+json": {
       "config": {
        "plotlyServerURL": "https://plot.ly"
       },
       "data": [
        {
         "line": {
          "color": "#000000",
          "width": 1
         },
         "mode": "lines",
         "name": "exact energy",
         "type": "scatter",
         "x": [
          0,
          500
         ],
         "y": [
          -24.000000000000032,
          -24.000000000000032
         ]
        },
        {
         "mode": "markers",
         "name": "normal",
         "type": "scatter",
         "x": [
          0,
          1,
          2,
          3,
          4,
          5,
          6,
          7,
          8,
          9,
          10,
          11,
          12,
          13,
          14,
          15,
          16,
          17,
          18,
          19,
          20,
          21,
          22,
          23,
          24,
          25,
          26,
          27,
          28,
          29,
          30,
          31,
          32,
          33,
          34,
          35,
          36,
          37,
          38,
          39,
          40,
          41,
          42,
          43,
          44,
          45,
          46,
          47,
          48,
          49,
          50,
          51,
          52,
          53,
          54,
          55,
          56,
          57,
          58,
          59,
          60,
          61,
          62,
          63,
          64,
          65,
          66,
          67,
          68,
          69,
          70,
          71,
          72,
          73,
          74,
          75,
          76,
          77,
          78,
          79,
          80,
          81,
          82,
          83,
          84,
          85,
          86,
          87,
          88,
          89,
          90,
          91,
          92,
          93,
          94,
          95,
          96,
          97,
          98,
          99,
          100,
          101,
          102,
          103,
          104,
          105,
          106,
          107,
          108,
          109,
          110,
          111,
          112,
          113,
          114,
          115,
          116,
          117,
          118,
          119,
          120,
          121,
          122,
          123,
          124,
          125,
          126,
          127,
          128,
          129,
          130,
          131,
          132,
          133,
          134,
          135,
          136,
          137,
          138,
          139,
          140,
          141,
          142,
          143,
          144,
          145,
          146,
          147,
          148,
          149,
          150,
          151,
          152,
          153,
          154,
          155,
          156,
          157,
          158,
          159,
          160,
          161,
          162,
          163,
          164,
          165,
          166,
          167,
          168,
          169,
          170,
          171,
          172,
          173,
          174,
          175,
          176,
          177,
          178,
          179,
          180,
          181,
          182,
          183,
          184,
          185,
          186,
          187,
          188,
          189,
          190,
          191,
          192,
          193,
          194,
          195,
          196,
          197,
          198,
          199,
          200,
          201,
          202,
          203,
          204,
          205,
          206,
          207,
          208,
          209,
          210,
          211,
          212,
          213,
          214,
          215,
          216,
          217,
          218,
          219,
          220,
          221,
          222,
          223,
          224,
          225,
          226,
          227,
          228,
          229,
          230,
          231,
          232,
          233,
          234,
          235,
          236,
          237,
          238,
          239,
          240,
          241,
          242,
          243,
          244,
          245,
          246,
          247,
          248,
          249,
          250,
          251,
          252,
          253,
          254,
          255,
          256,
          257,
          258,
          259,
          260,
          261,
          262,
          263,
          264,
          265,
          266,
          267,
          268,
          269,
          270,
          271,
          272,
          273,
          274,
          275,
          276,
          277,
          278,
          279,
          280,
          281,
          282,
          283,
          284,
          285,
          286,
          287,
          288,
          289,
          290,
          291,
          292,
          293,
          294,
          295,
          296,
          297,
          298,
          299,
          300,
          301,
          302,
          303,
          304,
          305,
          306,
          307,
          308,
          309,
          310,
          311,
          312,
          313,
          314,
          315,
          316,
          317,
          318,
          319,
          320,
          321,
          322,
          323,
          324,
          325,
          326,
          327,
          328,
          329,
          330,
          331,
          332,
          333,
          334,
          335,
          336,
          337,
          338,
          339,
          340,
          341,
          342,
          343,
          344,
          345,
          346,
          347,
          348,
          349,
          350,
          351,
          352,
          353,
          354,
          355,
          356,
          357,
          358,
          359,
          360,
          361,
          362,
          363,
          364,
          365,
          366,
          367,
          368,
          369,
          370,
          371,
          372,
          373,
          374,
          375,
          376,
          377,
          378,
          379,
          380,
          381,
          382,
          383,
          384,
          385,
          386,
          387,
          388,
          389,
          390,
          391,
          392,
          393,
          394,
          395,
          396,
          397,
          398,
          399,
          400,
          401,
          402,
          403,
          404,
          405,
          406,
          407,
          408,
          409,
          410,
          411,
          412,
          413,
          414,
          415,
          416,
          417,
          418,
          419,
          420,
          421,
          422,
          423,
          424,
          425,
          426,
          427,
          428,
          429,
          430,
          431,
          432,
          433,
          434,
          435,
          436,
          437,
          438,
          439,
          440,
          441,
          442,
          443,
          444,
          445,
          446,
          447,
          448,
          449,
          450,
          451,
          452,
          453,
          454,
          455,
          456,
          457,
          458,
          459,
          460,
          461,
          462,
          463,
          464,
          465,
          466,
          467,
          468,
          469,
          470,
          471,
          472,
          473,
          474,
          475,
          476,
          477,
          478,
          479,
          480,
          481,
          482,
          483,
          484,
          485,
          486,
          487,
          488,
          489,
          490,
          491,
          492,
          493,
          494,
          495,
          496,
          497,
          498,
          499
         ],
         "y": [
          14.124684370403136,
          13.912014281857443,
          13.546563295164448,
          12.924776384382438,
          11.680439763733956,
          9.661356509609872,
          7.032597793641825,
          4.37760972377296,
          2.667530756591821,
          1.3680903803505644,
          0.28386220411493035,
          -0.20863034723321797,
          -0.6623997528119611,
          -1.0485003524923535,
          -0.8904557978329461,
          -1.3709551619200755,
          -1.432788825602567,
          -1.5958793561298754,
          -1.6066830697262813,
          -1.8336425391093827,
          -2.1964244729664832,
          -2.05398602936582,
          -2.241402850525685,
          -2.5181686053665344,
          -2.5945154524678653,
          -2.8021261437325182,
          -2.6763679004962513,
          -2.811305749163001,
          -3.2477458978892884,
          -3.085030742257858,
          -3.2764920754058475,
          -3.429921202899072,
          -3.4513972095595182,
          -3.1489834160774572,
          -3.7326424797543956,
          -3.8490415922825516,
          -4.05997223901606,
          -4.056463814941426,
          -3.9741660728947115,
          -4.419876912612279,
          -4.363466857584749,
          -4.524381791885534,
          -4.6759147945331945,
          -4.943949511162347,
          -4.951580495295578,
          -5.439160241834461,
          -5.056569212894879,
          -5.100219102265448,
          -4.895961261551901,
          -5.782885982893539,
          -5.7290751072640616,
          -5.612731576725206,
          -6.039565713078889,
          -6.086683114071998,
          -5.892159475059993,
          -6.147745775710933,
          -6.3102943930283395,
          -6.560794155133654,
          -6.722998030046126,
          -6.560941349075272,
          -6.820633674248332,
          -6.924279669126319,
          -6.824001917019056,
          -7.215397200352756,
          -7.4681987597469375,
          -7.2740770222143105,
          -7.473198946968168,
          -7.8072348614724065,
          -7.785802894742753,
          -7.699718758966528,
          -7.806786369750674,
          -8.32988376198277,
          -8.08455853672895,
          -8.28809315891635,
          -8.354460840673712,
          -8.519314197345796,
          -8.936821315170716,
          -8.93321554936518,
          -9.042213686473213,
          -8.97964501158091,
          -9.623773553020028,
          -9.529555735438953,
          -9.67137579915482,
          -9.575048199170583,
          -10.102807575766377,
          -10.145812161266619,
          -9.88589469542914,
          -10.330818020219736,
          -10.533513835898544,
          -10.32330102511291,
          -10.820478762939327,
          -10.869955782779837,
          -10.998233577763845,
          -11.173205372704961,
          -11.271517736130669,
          -11.364694343184452,
          -11.699045024927965,
          -12.089394871824025,
          -12.07952101755755,
          -12.18879336248246,
          -12.655829248932568,
          -12.360224975985844,
          -12.849746922392804,
          -13.204528658471174,
          -13.272927294198382,
          -13.311475762912021,
          -13.833942502580078,
          -13.780163305887271,
          -14.03115106778035,
          -14.392995116805016,
          -14.487539533117621,
          -14.736159090450572,
          -14.894282745605809,
          -15.159586069435864,
          -15.228564510093534,
          -15.565546706981149,
          -15.418745259964302,
          -16.147077122420033,
          -15.944143179296514,
          -16.08301551787437,
          -16.084019094682716,
          -16.370654239661025,
          -16.306635740658738,
          -16.61836102079449,
          -16.74139453973864,
          -17.060551729729756,
          -16.87569132525478,
          -17.114339888967418,
          -17.425783689508084,
          -17.616918926197833,
          -17.64974732781772,
          -17.628497459318186,
          -17.725885058227732,
          -17.840806503537173,
          -18.01368698828759,
          -18.152859055849035,
          -18.291192839769842,
          -18.42665261771671,
          -18.487848999262834,
          -18.403095729582088,
          -18.863004527794768,
          -18.901259239168365,
          -18.808251154950522,
          -19.02549338108336,
          -19.1779904549996,
          -19.45142816786937,
          -19.326478048155913,
          -19.43907214584904,
          -19.552502417590127,
          -20.002256227738897,
          -19.807216718560817,
          -19.838962776978157,
          -19.983355451852262,
          -20.266101925373988,
          -19.93826577762782,
          -20.238436853877378,
          -20.421456207053428,
          -20.460480728111325,
          -20.566396078050992,
          -20.482434434880307,
          -20.549802859400042,
          -20.64721017202222,
          -20.83148237539693,
          -20.971465144348898,
          -20.854462630168225,
          -21.222636423079955,
          -21.166115502048502,
          -21.252560909207656,
          -21.188693329324632,
          -21.201779063221622,
          -21.204714350697575,
          -21.3971108286068,
          -21.48294618607564,
          -21.605952370546383,
          -21.58931904257394,
          -21.642601313915005,
          -21.859067796735935,
          -21.717952587118386,
          -22.002784331718342,
          -21.994067604203725,
          -22.013175253317442,
          -22.064822243812632,
          -22.015777194161558,
          -22.18819926251029,
          -22.169335652995176,
          -22.264746268993807,
          -22.387829814063263,
          -22.360027785323645,
          -22.408779917918228,
          -22.541780738662442,
          -22.485850064424167,
          -22.52501572476773,
          -22.489841236347807,
          -22.466923052268815,
          -22.685337468588525,
          -22.68571891323,
          -22.80118215177798,
          -22.775926077591706,
          -22.783927225018004,
          -22.861034626252934,
          -22.862600051642808,
          -22.874292632146073,
          -22.924890228328707,
          -22.988745294949076,
          -22.907819934329247,
          -23.09068512103533,
          -23.093143524681818,
          -23.016998362601278,
          -23.07630909966306,
          -23.235786394954186,
          -23.237060495660547,
          -23.336418226021056,
          -23.214024276604086,
          -23.239571290259345,
          -23.227456286634037,
          -23.281232108783595,
          -23.407783044253566,
          -23.31207792807043,
          -23.42965675123512,
          -23.44509825318971,
          -23.41796770605969,
          -23.44747598274419,
          -23.48286442259346,
          -23.399622250455952,
          -23.485824353059304,
          -23.471448002065305,
          -23.51828700415766,
          -23.438244261515294,
          -23.588508098029124,
          -23.66200831738965,
          -23.502443906902208,
          -23.566900576324368,
          -23.50628159845179,
          -23.536982381043217,
          -23.60642145437745,
          -23.614320244414657,
          -23.579006378427913,
          -23.59469078005549,
          -23.652913878071114,
          -23.61809030713222,
          -23.56443241953607,
          -23.686560687000462,
          -23.65754598004527,
          -23.73372285916113,
          -23.680259676354723,
          -23.68610270027712,
          -23.743349713360725,
          -23.658289377635953,
          -23.646330576659427,
          -23.744884213539056,
          -23.711214309469202,
          -23.772682098066632,
          -23.710960215323997,
          -23.739901989052175,
          -23.77111835675017,
          -23.72989636986473,
          -23.740420420790965,
          -23.77157540183723,
          -23.74299133718893,
          -23.795094681340416,
          -23.778972932882375,
          -23.813563896115454,
          -23.85038570413984,
          -23.80029135995732,
          -23.771225659623063,
          -23.765749187878374,
          -23.831662151676568,
          -23.81669259033629,
          -23.881338785861935,
          -23.811133470374926,
          -23.82771753270344,
          -23.85033779640015,
          -23.775546724767114,
          -23.781677676576006,
          -23.82256880701902,
          -23.81718929026281,
          -23.83488714926516,
          -23.849205130180135,
          -23.881973032920296,
          -23.86189846203182,
          -23.83740794600623,
          -23.82015777314644,
          -23.874596396823453,
          -23.814067393442066,
          -23.849279470401672,
          -23.861405601641486,
          -23.87983647951366,
          -23.91173441054867,
          -23.84391392277429,
          -23.835997448702024,
          -23.86117108718574,
          -23.903153836491,
          -23.835822579399068,
          -23.834238827925788,
          -23.839130581104335,
          -23.885245702500562,
          -23.8971095660563,
          -23.890128614232772,
          -23.896143798857082,
          -23.88486033065643,
          -23.87438181168093,
          -23.867155259289305,
          -23.884321243291286,
          -23.86996547776656,
          -23.86283282514691,
          -23.868515104483308,
          -23.89613266120896,
          -23.897080110191244,
          -23.871988959689816,
          -23.905177818417627,
          -23.91631714254652,
          -23.906976668009637,
          -23.86196977843776,
          -23.923454844516762,
          -23.917008227670706,
          -23.919776644470318,
          -23.912485205606455,
          -23.936934302412162,
          -23.885887399527032,
          -23.911068453061755,
          -23.85979276186661,
          -23.92993309518654,
          -23.923064920259375,
          -23.934784065766966,
          -23.905539138651967,
          -23.92204639026045,
          -23.9254890516204,
          -23.922043218372618,
          -23.884072097405635,
          -23.91282558093531,
          -23.900367941439914,
          -23.919995737324555,
          -23.912137299115944,
          -23.93267794201825,
          -23.922051177718316,
          -23.88147185537407,
          -23.898292856734958,
          -23.94132408220427,
          -23.92911294848405,
          -23.89172757465927,
          -23.94892251363018,
          -23.94114932722097,
          -23.914996372290556,
          -23.911193987046587,
          -23.879215506820653,
          -23.922901215099557,
          -23.910202791983433,
          -23.939332190475454,
          -23.919147778034954,
          -23.90440026698686,
          -23.92003954871261,
          -23.92244683520851,
          -23.951959648641502,
          -23.93350070163866,
          -23.952394829981642,
          -23.912287837873198,
          -23.95506082763985,
          -23.947971188423715,
          -23.958585116496003,
          -23.909795746257405,
          -23.94798697227968,
          -23.967418044955355,
          -23.93238467276118,
          -23.93888367195456,
          -23.952333116795185,
          -23.951037826068564,
          -23.931592182671455,
          -23.925884414156368,
          -23.94509285260454,
          -23.965801615334378,
          -23.939641916136193,
          -23.920083313147046,
          -23.94331893633451,
          -23.959033549721543,
          -23.936609905930904,
          -23.94300989437456,
          -23.9289680707889,
          -23.93541042397531,
          -23.968266317250254,
          -23.948390045901103,
          -23.93428900646327,
          -23.945446304482658,
          -23.94277712755279,
          -23.963577548759027,
          -23.96843930364896,
          -23.969429998794624,
          -23.9600898794985,
          -23.962611404284193,
          -23.950702833767245,
          -23.959813705456472,
          -23.945020683226783,
          -23.945467283088245,
          -23.93406724005555,
          -23.957836791071962,
          -23.938643904223056,
          -23.93955976863714,
          -23.955592255259116,
          -23.944849543243738,
          -23.973186365001894,
          -23.958142168476513,
          -23.96763889580866,
          -23.95367692110202,
          -23.951106869773415,
          -23.959683790190226,
          -23.92442241970926,
          -23.95869715079826,
          -23.951954400385645,
          -23.983010592729325,
          -23.952801448802568,
          -23.951783303126817,
          -23.928096493865684,
          -23.965674957218177,
          -23.959485321194336,
          -23.96361618442346,
          -23.96248446283458,
          -23.934991949580684,
          -23.9520946266743,
          -23.97248218598708,
          -23.968208797582868,
          -23.95469593133954,
          -23.967001833689068,
          -23.984850244169873,
          -23.98161502436658,
          -23.962446004076217,
          -23.95601711700809,
          -23.9446640805288,
          -23.978892349675434,
          -23.974749381720773,
          -23.94718295820513,
          -23.949444354069318,
          -23.943014658278358,
          -23.96572087990945,
          -23.97795040671545,
          -23.96053910429666,
          -23.97013177904571,
          -23.969751305557466,
          -23.976890210231176,
          -23.94360788516639,
          -23.96205187354544,
          -23.976580277916646,
          -23.94660728771455,
          -23.95156855810555,
          -23.955490299584525,
          -23.960081671215658,
          -23.9593716380937,
          -23.965362704690474,
          -23.946869659375967,
          -23.961559853331348,
          -23.968368785005254,
          -23.961374464551504,
          -23.970922386557596,
          -23.980189088220733,
          -23.9623856993488,
          -23.963161534620667,
          -23.97254384672203,
          -23.978899654306495,
          -23.95961299676691,
          -23.985757649962096,
          -23.958230933115885,
          -23.978889464855882,
          -23.974184825688077,
          -23.978501405581316,
          -23.98966053886264,
          -23.977215337365273,
          -23.9790686710377,
          -23.947296965113434,
          -23.956237625860272,
          -23.965193125507515,
          -23.963424234285604,
          -23.96457925012415,
          -23.967623985522902,
          -23.960697572868042,
          -23.954981974003797,
          -23.951472796816258,
          -23.989879918443442,
          -23.96399441899827,
          -23.962295716955822,
          -23.987335049448383,
          -23.970777946794463,
          -23.989714705080967,
          -23.96891724024689,
          -23.97900949885689,
          -23.986185643609332,
          -23.987642296420614,
          -23.96864761294369,
          -23.961270793773398,
          -23.958559617201363,
          -23.982906057817505,
          -23.98810931923421,
          -23.966536194076586,
          -23.975563883060254,
          -23.97106514784375,
          -23.975820164208727,
          -23.972670376008324,
          -23.967240229164407,
          -23.978383465937394,
          -23.98017258260006,
          -23.97040371501024,
          -23.995392253439714,
          -23.96812754829565
         ]
        },
        {
         "mode": "markers",
         "name": "MSR",
         "type": "scatter",
         "x": [
          0,
          1,
          2,
          3,
          4,
          5,
          6,
          7,
          8,
          9,
          10,
          11,
          12,
          13,
          14,
          15,
          16,
          17,
          18,
          19,
          20,
          21,
          22,
          23,
          24,
          25,
          26,
          27,
          28,
          29,
          30,
          31,
          32,
          33,
          34,
          35,
          36,
          37,
          38,
          39,
          40,
          41,
          42,
          43,
          44,
          45,
          46,
          47,
          48,
          49,
          50,
          51,
          52,
          53,
          54,
          55,
          56,
          57,
          58,
          59,
          60,
          61,
          62,
          63,
          64,
          65,
          66,
          67,
          68,
          69,
          70,
          71,
          72,
          73,
          74,
          75,
          76,
          77,
          78,
          79,
          80,
          81,
          82,
          83,
          84,
          85,
          86,
          87,
          88,
          89,
          90,
          91,
          92,
          93,
          94,
          95,
          96,
          97,
          98,
          99,
          100,
          101,
          102,
          103,
          104,
          105,
          106,
          107,
          108,
          109,
          110,
          111,
          112,
          113,
          114,
          115,
          116,
          117,
          118,
          119,
          120,
          121,
          122,
          123,
          124,
          125,
          126,
          127,
          128,
          129,
          130,
          131,
          132,
          133,
          134,
          135,
          136,
          137,
          138,
          139,
          140,
          141,
          142,
          143,
          144,
          145,
          146,
          147,
          148,
          149,
          150,
          151,
          152,
          153,
          154,
          155,
          156,
          157,
          158,
          159,
          160,
          161,
          162,
          163,
          164,
          165,
          166,
          167,
          168,
          169,
          170,
          171,
          172,
          173,
          174,
          175,
          176,
          177,
          178,
          179,
          180,
          181,
          182,
          183,
          184,
          185,
          186,
          187,
          188,
          189,
          190,
          191,
          192,
          193,
          194,
          195,
          196,
          197,
          198,
          199,
          200,
          201,
          202,
          203,
          204,
          205,
          206,
          207,
          208,
          209,
          210,
          211,
          212,
          213,
          214,
          215,
          216,
          217,
          218,
          219,
          220,
          221,
          222,
          223,
          224,
          225,
          226,
          227,
          228,
          229,
          230,
          231,
          232,
          233,
          234,
          235,
          236,
          237,
          238,
          239,
          240,
          241,
          242,
          243,
          244,
          245,
          246,
          247,
          248,
          249,
          250,
          251,
          252,
          253,
          254,
          255,
          256,
          257,
          258,
          259,
          260,
          261,
          262,
          263,
          264,
          265,
          266,
          267,
          268,
          269,
          270,
          271,
          272,
          273,
          274,
          275,
          276,
          277,
          278,
          279,
          280,
          281,
          282,
          283,
          284,
          285,
          286,
          287,
          288,
          289,
          290,
          291,
          292,
          293,
          294,
          295,
          296,
          297,
          298,
          299,
          300,
          301,
          302,
          303,
          304,
          305,
          306,
          307,
          308,
          309,
          310,
          311,
          312,
          313,
          314,
          315,
          316,
          317,
          318,
          319,
          320,
          321,
          322,
          323,
          324,
          325,
          326,
          327,
          328,
          329,
          330,
          331,
          332,
          333,
          334,
          335,
          336,
          337,
          338,
          339,
          340,
          341,
          342,
          343,
          344,
          345,
          346,
          347,
          348,
          349,
          350,
          351,
          352,
          353,
          354,
          355,
          356,
          357,
          358,
          359,
          360,
          361,
          362,
          363,
          364,
          365,
          366,
          367,
          368,
          369,
          370,
          371,
          372,
          373,
          374,
          375,
          376,
          377,
          378,
          379,
          380,
          381,
          382,
          383,
          384,
          385,
          386,
          387,
          388,
          389,
          390,
          391,
          392,
          393,
          394,
          395,
          396,
          397,
          398,
          399,
          400,
          401,
          402,
          403,
          404,
          405,
          406,
          407,
          408,
          409,
          410,
          411,
          412,
          413,
          414,
          415,
          416,
          417,
          418,
          419,
          420,
          421,
          422,
          423,
          424,
          425,
          426,
          427,
          428,
          429,
          430,
          431,
          432,
          433,
          434,
          435,
          436,
          437,
          438,
          439,
          440,
          441,
          442,
          443,
          444,
          445,
          446,
          447,
          448,
          449,
          450,
          451,
          452,
          453,
          454,
          455,
          456,
          457,
          458,
          459,
          460,
          461,
          462,
          463,
          464,
          465,
          466,
          467,
          468,
          469,
          470,
          471,
          472,
          473,
          474,
          475,
          476,
          477,
          478,
          479,
          480,
          481,
          482,
          483,
          484,
          485,
          486,
          487,
          488,
          489,
          490,
          491,
          492,
          493,
          494,
          495,
          496,
          497,
          498,
          499
         ],
         "y": [
          1.643080788753223,
          1.7079926542965103,
          1.6056179154925363,
          1.668825565728082,
          1.7485457475683803,
          1.593851202599356,
          1.429852437593345,
          1.6320563930517713,
          1.5000080530829265,
          1.5949425111597961,
          1.6038380432725508,
          1.5810722861332605,
          1.5194051159603685,
          1.6421420076216162,
          1.593971876913333,
          1.5338540207361386,
          1.6986459967456862,
          1.4724119161266125,
          1.576572893846368,
          1.5428155795988001,
          1.5258327057624983,
          1.7182126697677105,
          1.5926987712498493,
          1.5052790694474827,
          1.43312298938828,
          1.3847421710346945,
          1.4259775193598154,
          1.4618180106030878,
          1.3200882106876026,
          1.0278392001338468,
          0.8499784628119957,
          0.6713846624931716,
          0.42356362629763816,
          0.002083549419894985,
          -0.4201588367990869,
          -0.8264394582211378,
          -1.2051308502762812,
          -1.4686345396260216,
          -2.0651454446329405,
          -2.528379230589857,
          -2.782156170426541,
          -2.872735544298045,
          -3.2959020563267485,
          -3.7331667073237287,
          -3.62156211656068,
          -3.543261293852159,
          -3.4877758750552097,
          -3.99090860747214,
          -3.952321387966647,
          -4.274189969634944,
          -4.5651798427518,
          -4.499060029520326,
          -4.474450701269021,
          -4.846911304250213,
          -4.536695034201314,
          -4.760441123485426,
          -4.834587652153859,
          -4.872454046964028,
          -4.917641724186382,
          -5.3046887905370825,
          -5.274455100197116,
          -5.637167795574988,
          -5.712326278114677,
          -5.708504717630661,
          -5.830584794256879,
          -6.187944122982898,
          -6.110598550043545,
          -6.292278986809647,
          -6.202599801056902,
          -6.2397080863745655,
          -6.331701254547584,
          -6.560643435253007,
          -6.4897289930447535,
          -6.770629585061101,
          -7.142401413703474,
          -6.918009669443363,
          -7.075192931793681,
          -7.076699726728755,
          -7.665796005391027,
          -7.5915181463837555,
          -7.497430655221078,
          -7.855810647129344,
          -8.073010654971174,
          -8.00533205571433,
          -8.080804181396124,
          -8.614269762079497,
          -8.64765243916159,
          -8.401202267477892,
          -8.42696199246162,
          -8.507419571581691,
          -8.536345163603263,
          -8.968179376669333,
          -9.378914927164834,
          -9.320000727404521,
          -9.564321703718281,
          -9.840067865700329,
          -9.567910743005573,
          -9.645690309289389,
          -10.085214814480437,
          -10.313517487867895,
          -10.418214240174983,
          -10.482469667178789,
          -10.637168086544136,
          -10.79602759168849,
          -11.286600334446545,
          -11.116601119292039,
          -11.454024843907755,
          -11.66188007541809,
          -11.858395250294716,
          -11.87903587164852,
          -12.050750783322048,
          -12.13785066422456,
          -12.13783288149601,
          -12.652019293382146,
          -12.855031253189507,
          -12.834505307979098,
          -13.27715619321423,
          -13.40205532548782,
          -13.188363375146324,
          -13.86032725447246,
          -14.086032169203445,
          -14.140875546474026,
          -14.642419860912575,
          -14.482802330265823,
          -14.84928220994862,
          -15.105405380945777,
          -15.037713723295775,
          -15.394515422852876,
          -15.415878597214338,
          -15.72987802095485,
          -16.027983899586488,
          -16.2375070788229,
          -16.52293224493327,
          -16.437712761229932,
          -16.57152869494329,
          -16.804504724344532,
          -16.857346513536722,
          -17.21453010838971,
          -17.43670811017155,
          -17.34983444811716,
          -17.735790199619284,
          -17.55945191207279,
          -18.117413573017167,
          -18.190250051029004,
          -18.30786904009922,
          -18.510668555520162,
          -18.590247530315935,
          -18.453754232233518,
          -18.80461156488437,
          -18.640985514845426,
          -18.884715895874415,
          -19.179611359092746,
          -19.07180732728157,
          -19.40883106938763,
          -19.410614322647568,
          -19.677847095774123,
          -19.48971027238792,
          -19.455066825723396,
          -19.895487454667567,
          -19.852535913219466,
          -20.005032497224413,
          -20.087972832603842,
          -20.221249064890536,
          -20.418431667075563,
          -20.518784382377017,
          -20.598148713303324,
          -20.713020539232943,
          -20.817608918508313,
          -20.734115301366717,
          -20.808663836863538,
          -20.949377147826095,
          -21.151166540634506,
          -21.26151402697734,
          -21.157143175492084,
          -21.40029785906162,
          -21.368987432357507,
          -21.525171443384995,
          -21.662221261841538,
          -21.55990322395571,
          -21.556717290050493,
          -21.861241822533408,
          -21.90980167728723,
          -21.63935254945734,
          -21.866154123914203,
          -21.916101057984818,
          -21.978747420153685,
          -22.05965750449174,
          -22.149818606828262,
          -22.157675336314103,
          -22.266093775057623,
          -22.31725705032819,
          -22.417674560517135,
          -22.309888540503984,
          -22.490592972622938,
          -22.424682690694038,
          -22.51407306923949,
          -22.56390645633097,
          -22.648242681139855,
          -22.604737287651137,
          -22.707924188785068,
          -22.874939286377373,
          -22.906554860548376,
          -22.812322558000147,
          -22.850971723639177,
          -22.793838958384317,
          -22.948131688497583,
          -22.938239189530826,
          -22.909132601026418,
          -23.038371710225263,
          -22.989130074081526,
          -23.09097835859906,
          -23.11911101086787,
          -23.13807594400778,
          -23.08375017126531,
          -23.099329221555738,
          -23.220521593660553,
          -23.193117690154974,
          -23.27929807305347,
          -23.31270207235525,
          -23.400039978999658,
          -23.33227401237637,
          -23.39153656585491,
          -23.34520130222655,
          -23.377760111531707,
          -23.34382647533098,
          -23.44354678866187,
          -23.385617255442778,
          -23.4370158988707,
          -23.447749438795952,
          -23.495297399770482,
          -23.483531550788435,
          -23.52395848042282,
          -23.504019883287544,
          -23.55640623566024,
          -23.493323560230355,
          -23.471800125140426,
          -23.56028992859895,
          -23.53909699525853,
          -23.562699079789617,
          -23.584890775849683,
          -23.577185111537226,
          -23.635798095051804,
          -23.559372666272527,
          -23.748717194217363,
          -23.58933157867772,
          -23.669770284295655,
          -23.639953400732256,
          -23.585329320294523,
          -23.7005091158927,
          -23.5561638550987,
          -23.696056403797467,
          -23.666772690337876,
          -23.671831174908146,
          -23.7274109731388,
          -23.72167260331214,
          -23.70739779771057,
          -23.728934465458572,
          -23.699843313514194,
          -23.70365445988348,
          -23.712440225838446,
          -23.716100639977288,
          -23.730344041638745,
          -23.689095181630364,
          -23.731008482761784,
          -23.73354925565548,
          -23.770341489000323,
          -23.774080867678506,
          -23.805906942817472,
          -23.79913905714723,
          -23.763944133464946,
          -23.80646125491674,
          -23.843387416039832,
          -23.781857675990224,
          -23.76142783465834,
          -23.81897308117265,
          -23.811526409791547,
          -23.788033498714515,
          -23.820494418791732,
          -23.811383717598364,
          -23.80861237851666,
          -23.857682011583506,
          -23.81007658467335,
          -23.858513839433517,
          -23.813810597398668,
          -23.849393889789262,
          -23.83545803185545,
          -23.86599232933936,
          -23.823336181974874,
          -23.860639855709767,
          -23.880965034960038,
          -23.86052489142146,
          -23.853526125506082,
          -23.850240877056454,
          -23.911527320168155,
          -23.876924427273554,
          -23.89461877184665,
          -23.899685248577544,
          -23.862582090299593,
          -23.87368030547684,
          -23.87490617644567,
          -23.92503368001781,
          -23.8684953121367,
          -23.863475669494004,
          -23.92086797193356,
          -23.877704768715557,
          -23.914305634828516,
          -23.91244412866582,
          -23.88544967030221,
          -23.899152068650043,
          -23.901852437296558,
          -23.897517148756364,
          -23.896669414115568,
          -23.897990713417293,
          -23.89606875457327,
          -23.901020927969164,
          -23.886978844389493,
          -23.930622304981664,
          -23.869609266997983,
          -23.911034638416943,
          -23.920615320914344,
          -23.898674586497787,
          -23.885352539536164,
          -23.90952016582613,
          -23.92600205399639,
          -23.92168189556218,
          -23.91232939278437,
          -23.892456848134223,
          -23.90813434223306,
          -23.92474150333167,
          -23.91829307700608,
          -23.891646617406785,
          -23.908949017245025,
          -23.892422217060666,
          -23.898120410849724,
          -23.908640228168228,
          -23.884251826815944,
          -23.873317164304336,
          -23.91547909981687,
          -23.957764073850257,
          -23.9334663034054,
          -23.948787551448415,
          -23.923269636893465,
          -23.91691769282743,
          -23.966260890980838,
          -23.917205016046324,
          -23.91221363820001,
          -23.89018062180783,
          -23.89528172802333,
          -23.93473388575901,
          -23.91036895795784,
          -23.897842775829066,
          -23.942963709844616,
          -23.962673532246985,
          -23.906800008496432,
          -23.912993663212887,
          -23.9393233994188,
          -23.936694585383716,
          -23.958389342260883,
          -23.930376691772484,
          -23.91983022996624,
          -23.928571839804583,
          -23.93919642271703,
          -23.927431577577682,
          -23.933965231057737,
          -23.94467831306467,
          -23.947992372176177,
          -23.958188496722098,
          -23.951919447212642,
          -23.961434099808827,
          -23.92882591042193,
          -23.930807942729718,
          -23.936901870065814,
          -23.94485816879301,
          -23.94950540783644,
          -23.940299799474364,
          -23.921840530934997,
          -23.947624032722302,
          -23.966560305324162,
          -23.942180429364296,
          -23.929915747068033,
          -23.93273687490985,
          -23.969106016804574,
          -23.960083605591006,
          -23.9696971006638,
          -23.947149319375235,
          -23.95589740707354,
          -23.96512631470719,
          -23.95260647196775,
          -23.97595217146537,
          -23.943866602352355,
          -23.952137107796343,
          -23.957488063206355,
          -23.965513257518083,
          -23.948509442524717,
          -23.924616294884196,
          -23.926376942751457,
          -23.96416334039543,
          -23.954837558729682,
          -23.984838745628792,
          -23.967541015261183,
          -23.96091011258577,
          -23.940906770983414,
          -23.954791252797225,
          -23.94522345731541,
          -23.941120680249693,
          -23.95631292787083,
          -23.987738927856427,
          -23.92696780442263,
          -23.938088032562902,
          -23.973094893982736,
          -23.944701563648568,
          -23.962690485204035,
          -23.96197226606145,
          -23.959247983980223,
          -23.9424547454695,
          -23.94245334313023,
          -23.95063683322138,
          -23.944945263811423,
          -23.97145594391753,
          -23.96205861717575,
          -23.954144714948384,
          -23.96643187950298,
          -23.971477213182574,
          -23.96866415307802,
          -23.953992159540604,
          -23.973508452689924,
          -23.975221915586534,
          -23.9798850540851,
          -23.953874556701624,
          -23.958752729274202,
          -23.98027268720361,
          -23.945361865353938,
          -23.96458200500057,
          -23.973620226477216,
          -23.94261481324745,
          -23.96081413680345,
          -23.94984279938229,
          -23.945539772945246,
          -23.9821211561341,
          -23.963912475686985,
          -23.95714483353774,
          -23.96716202369936,
          -23.968757065857936,
          -23.973181016617477,
          -23.96231583206126,
          -23.96570823562801,
          -23.971698616512167,
          -23.96627978680023,
          -23.930500038868548,
          -23.963955502279095,
          -23.968280789655985,
          -23.969460569608238,
          -23.96868371059449,
          -23.987389336068958,
          -23.93743359257383,
          -23.968447649420543,
          -23.972918643417046,
          -23.975261813313004,
          -23.97600756414626,
          -23.984018649139113,
          -23.97283858255466,
          -23.975027858976347,
          -23.959644699672378,
          -23.95203194077577,
          -23.97822051103399,
          -23.976412420144623,
          -23.979917485995628,
          -23.97130336290257,
          -23.94912000864875,
          -23.97854792442652,
          -23.95241130539425,
          -23.97263803763817,
          -23.966578127312378,
          -23.97649713214707,
          -23.97089967147672,
          -23.970814562978195,
          -23.978661425811314,
          -23.96949015586949,
          -23.963431109554193,
          -23.982755488288287,
          -23.96003314724948,
          -23.977825401565116,
          -23.97247542895066,
          -23.975346000345397,
          -23.97022153211829,
          -23.971736476278355,
          -23.976241637732862,
          -23.967304018366512,
          -23.975257659513012,
          -23.95826468707643,
          -23.968984344354013,
          -23.984092614829297,
          -23.970940613020034,
          -23.95492046736569,
          -23.983306778000124,
          -23.967109242268684,
          -23.98465366322437,
          -23.983122843628593,
          -23.95664373479138,
          -23.974750566590192
         ]
        }
       ],
       "layout": {
        "shapes": [
         {
          "line": {
           "width": 1
          },
          "opacity": 1,
          "type": "line",
          "x0": 0,
          "x1": 1,
          "xref": "x domain",
          "y0": -24.000000000000032,
          "y1": -24.000000000000032,
          "yref": "y"
         }
        ],
        "template": {
         "data": {
          "bar": [
           {
            "error_x": {
             "color": "rgb(36,36,36)"
            },
            "error_y": {
             "color": "rgb(36,36,36)"
            },
            "marker": {
             "line": {
              "color": "white",
              "width": 0.5
             },
             "pattern": {
              "fillmode": "overlay",
              "size": 10,
              "solidity": 0.2
             }
            },
            "type": "bar"
           }
          ],
          "barpolar": [
           {
            "marker": {
             "line": {
              "color": "white",
              "width": 0.5
             },
             "pattern": {
              "fillmode": "overlay",
              "size": 10,
              "solidity": 0.2
             }
            },
            "type": "barpolar"
           }
          ],
          "carpet": [
           {
            "aaxis": {
             "endlinecolor": "rgb(36,36,36)",
             "gridcolor": "white",
             "linecolor": "white",
             "minorgridcolor": "white",
             "startlinecolor": "rgb(36,36,36)"
            },
            "baxis": {
             "endlinecolor": "rgb(36,36,36)",
             "gridcolor": "white",
             "linecolor": "white",
             "minorgridcolor": "white",
             "startlinecolor": "rgb(36,36,36)"
            },
            "type": "carpet"
           }
          ],
          "choropleth": [
           {
            "colorbar": {
             "outlinewidth": 1,
             "tickcolor": "rgb(36,36,36)",
             "ticks": "outside"
            },
            "type": "choropleth"
           }
          ],
          "contour": [
           {
            "colorbar": {
             "outlinewidth": 1,
             "tickcolor": "rgb(36,36,36)",
             "ticks": "outside"
            },
            "colorscale": [
             [
              0,
              "#440154"
             ],
             [
              0.1111111111111111,
              "#482878"
             ],
             [
              0.2222222222222222,
              "#3e4989"
             ],
             [
              0.3333333333333333,
              "#31688e"
             ],
             [
              0.4444444444444444,
              "#26828e"
             ],
             [
              0.5555555555555556,
              "#1f9e89"
             ],
             [
              0.6666666666666666,
              "#35b779"
             ],
             [
              0.7777777777777778,
              "#6ece58"
             ],
             [
              0.8888888888888888,
              "#b5de2b"
             ],
             [
              1,
              "#fde725"
             ]
            ],
            "type": "contour"
           }
          ],
          "contourcarpet": [
           {
            "colorbar": {
             "outlinewidth": 1,
             "tickcolor": "rgb(36,36,36)",
             "ticks": "outside"
            },
            "type": "contourcarpet"
           }
          ],
          "heatmap": [
           {
            "colorbar": {
             "outlinewidth": 1,
             "tickcolor": "rgb(36,36,36)",
             "ticks": "outside"
            },
            "colorscale": [
             [
              0,
              "#440154"
             ],
             [
              0.1111111111111111,
              "#482878"
             ],
             [
              0.2222222222222222,
              "#3e4989"
             ],
             [
              0.3333333333333333,
              "#31688e"
             ],
             [
              0.4444444444444444,
              "#26828e"
             ],
             [
              0.5555555555555556,
              "#1f9e89"
             ],
             [
              0.6666666666666666,
              "#35b779"
             ],
             [
              0.7777777777777778,
              "#6ece58"
             ],
             [
              0.8888888888888888,
              "#b5de2b"
             ],
             [
              1,
              "#fde725"
             ]
            ],
            "type": "heatmap"
           }
          ],
          "heatmapgl": [
           {
            "colorbar": {
             "outlinewidth": 1,
             "tickcolor": "rgb(36,36,36)",
             "ticks": "outside"
            },
            "colorscale": [
             [
              0,
              "#440154"
             ],
             [
              0.1111111111111111,
              "#482878"
             ],
             [
              0.2222222222222222,
              "#3e4989"
             ],
             [
              0.3333333333333333,
              "#31688e"
             ],
             [
              0.4444444444444444,
              "#26828e"
             ],
             [
              0.5555555555555556,
              "#1f9e89"
             ],
             [
              0.6666666666666666,
              "#35b779"
             ],
             [
              0.7777777777777778,
              "#6ece58"
             ],
             [
              0.8888888888888888,
              "#b5de2b"
             ],
             [
              1,
              "#fde725"
             ]
            ],
            "type": "heatmapgl"
           }
          ],
          "histogram": [
           {
            "marker": {
             "line": {
              "color": "white",
              "width": 0.6
             }
            },
            "type": "histogram"
           }
          ],
          "histogram2d": [
           {
            "colorbar": {
             "outlinewidth": 1,
             "tickcolor": "rgb(36,36,36)",
             "ticks": "outside"
            },
            "colorscale": [
             [
              0,
              "#440154"
             ],
             [
              0.1111111111111111,
              "#482878"
             ],
             [
              0.2222222222222222,
              "#3e4989"
             ],
             [
              0.3333333333333333,
              "#31688e"
             ],
             [
              0.4444444444444444,
              "#26828e"
             ],
             [
              0.5555555555555556,
              "#1f9e89"
             ],
             [
              0.6666666666666666,
              "#35b779"
             ],
             [
              0.7777777777777778,
              "#6ece58"
             ],
             [
              0.8888888888888888,
              "#b5de2b"
             ],
             [
              1,
              "#fde725"
             ]
            ],
            "type": "histogram2d"
           }
          ],
          "histogram2dcontour": [
           {
            "colorbar": {
             "outlinewidth": 1,
             "tickcolor": "rgb(36,36,36)",
             "ticks": "outside"
            },
            "colorscale": [
             [
              0,
              "#440154"
             ],
             [
              0.1111111111111111,
              "#482878"
             ],
             [
              0.2222222222222222,
              "#3e4989"
             ],
             [
              0.3333333333333333,
              "#31688e"
             ],
             [
              0.4444444444444444,
              "#26828e"
             ],
             [
              0.5555555555555556,
              "#1f9e89"
             ],
             [
              0.6666666666666666,
              "#35b779"
             ],
             [
              0.7777777777777778,
              "#6ece58"
             ],
             [
              0.8888888888888888,
              "#b5de2b"
             ],
             [
              1,
              "#fde725"
             ]
            ],
            "type": "histogram2dcontour"
           }
          ],
          "mesh3d": [
           {
            "colorbar": {
             "outlinewidth": 1,
             "tickcolor": "rgb(36,36,36)",
             "ticks": "outside"
            },
            "type": "mesh3d"
           }
          ],
          "parcoords": [
           {
            "line": {
             "colorbar": {
              "outlinewidth": 1,
              "tickcolor": "rgb(36,36,36)",
              "ticks": "outside"
             }
            },
            "type": "parcoords"
           }
          ],
          "pie": [
           {
            "automargin": true,
            "type": "pie"
           }
          ],
          "scatter": [
           {
            "marker": {
             "colorbar": {
              "outlinewidth": 1,
              "tickcolor": "rgb(36,36,36)",
              "ticks": "outside"
             }
            },
            "type": "scatter"
           }
          ],
          "scatter3d": [
           {
            "line": {
             "colorbar": {
              "outlinewidth": 1,
              "tickcolor": "rgb(36,36,36)",
              "ticks": "outside"
             }
            },
            "marker": {
             "colorbar": {
              "outlinewidth": 1,
              "tickcolor": "rgb(36,36,36)",
              "ticks": "outside"
             }
            },
            "type": "scatter3d"
           }
          ],
          "scattercarpet": [
           {
            "marker": {
             "colorbar": {
              "outlinewidth": 1,
              "tickcolor": "rgb(36,36,36)",
              "ticks": "outside"
             }
            },
            "type": "scattercarpet"
           }
          ],
          "scattergeo": [
           {
            "marker": {
             "colorbar": {
              "outlinewidth": 1,
              "tickcolor": "rgb(36,36,36)",
              "ticks": "outside"
             }
            },
            "type": "scattergeo"
           }
          ],
          "scattergl": [
           {
            "marker": {
             "colorbar": {
              "outlinewidth": 1,
              "tickcolor": "rgb(36,36,36)",
              "ticks": "outside"
             }
            },
            "type": "scattergl"
           }
          ],
          "scattermapbox": [
           {
            "marker": {
             "colorbar": {
              "outlinewidth": 1,
              "tickcolor": "rgb(36,36,36)",
              "ticks": "outside"
             }
            },
            "type": "scattermapbox"
           }
          ],
          "scatterpolar": [
           {
            "marker": {
             "colorbar": {
              "outlinewidth": 1,
              "tickcolor": "rgb(36,36,36)",
              "ticks": "outside"
             }
            },
            "type": "scatterpolar"
           }
          ],
          "scatterpolargl": [
           {
            "marker": {
             "colorbar": {
              "outlinewidth": 1,
              "tickcolor": "rgb(36,36,36)",
              "ticks": "outside"
             }
            },
            "type": "scatterpolargl"
           }
          ],
          "scatterternary": [
           {
            "marker": {
             "colorbar": {
              "outlinewidth": 1,
              "tickcolor": "rgb(36,36,36)",
              "ticks": "outside"
             }
            },
            "type": "scatterternary"
           }
          ],
          "surface": [
           {
            "colorbar": {
             "outlinewidth": 1,
             "tickcolor": "rgb(36,36,36)",
             "ticks": "outside"
            },
            "colorscale": [
             [
              0,
              "#440154"
             ],
             [
              0.1111111111111111,
              "#482878"
             ],
             [
              0.2222222222222222,
              "#3e4989"
             ],
             [
              0.3333333333333333,
              "#31688e"
             ],
             [
              0.4444444444444444,
              "#26828e"
             ],
             [
              0.5555555555555556,
              "#1f9e89"
             ],
             [
              0.6666666666666666,
              "#35b779"
             ],
             [
              0.7777777777777778,
              "#6ece58"
             ],
             [
              0.8888888888888888,
              "#b5de2b"
             ],
             [
              1,
              "#fde725"
             ]
            ],
            "type": "surface"
           }
          ],
          "table": [
           {
            "cells": {
             "fill": {
              "color": "rgb(237,237,237)"
             },
             "line": {
              "color": "white"
             }
            },
            "header": {
             "fill": {
              "color": "rgb(217,217,217)"
             },
             "line": {
              "color": "white"
             }
            },
            "type": "table"
           }
          ]
         },
         "layout": {
          "annotationdefaults": {
           "arrowhead": 0,
           "arrowwidth": 1
          },
          "autotypenumbers": "strict",
          "coloraxis": {
           "colorbar": {
            "outlinewidth": 1,
            "tickcolor": "rgb(36,36,36)",
            "ticks": "outside"
           }
          },
          "colorscale": {
           "diverging": [
            [
             0,
             "rgb(103,0,31)"
            ],
            [
             0.1,
             "rgb(178,24,43)"
            ],
            [
             0.2,
             "rgb(214,96,77)"
            ],
            [
             0.3,
             "rgb(244,165,130)"
            ],
            [
             0.4,
             "rgb(253,219,199)"
            ],
            [
             0.5,
             "rgb(247,247,247)"
            ],
            [
             0.6,
             "rgb(209,229,240)"
            ],
            [
             0.7,
             "rgb(146,197,222)"
            ],
            [
             0.8,
             "rgb(67,147,195)"
            ],
            [
             0.9,
             "rgb(33,102,172)"
            ],
            [
             1,
             "rgb(5,48,97)"
            ]
           ],
           "sequential": [
            [
             0,
             "#440154"
            ],
            [
             0.1111111111111111,
             "#482878"
            ],
            [
             0.2222222222222222,
             "#3e4989"
            ],
            [
             0.3333333333333333,
             "#31688e"
            ],
            [
             0.4444444444444444,
             "#26828e"
            ],
            [
             0.5555555555555556,
             "#1f9e89"
            ],
            [
             0.6666666666666666,
             "#35b779"
            ],
            [
             0.7777777777777778,
             "#6ece58"
            ],
            [
             0.8888888888888888,
             "#b5de2b"
            ],
            [
             1,
             "#fde725"
            ]
           ],
           "sequentialminus": [
            [
             0,
             "#440154"
            ],
            [
             0.1111111111111111,
             "#482878"
            ],
            [
             0.2222222222222222,
             "#3e4989"
            ],
            [
             0.3333333333333333,
             "#31688e"
            ],
            [
             0.4444444444444444,
             "#26828e"
            ],
            [
             0.5555555555555556,
             "#1f9e89"
            ],
            [
             0.6666666666666666,
             "#35b779"
            ],
            [
             0.7777777777777778,
             "#6ece58"
            ],
            [
             0.8888888888888888,
             "#b5de2b"
            ],
            [
             1,
             "#fde725"
            ]
           ]
          },
          "colorway": [
           "#1F77B4",
           "#FF7F0E",
           "#2CA02C",
           "#D62728",
           "#9467BD",
           "#8C564B",
           "#E377C2",
           "#7F7F7F",
           "#BCBD22",
           "#17BECF"
          ],
          "font": {
           "color": "rgb(36,36,36)"
          },
          "geo": {
           "bgcolor": "white",
           "lakecolor": "white",
           "landcolor": "white",
           "showlakes": true,
           "showland": true,
           "subunitcolor": "white"
          },
          "hoverlabel": {
           "align": "left"
          },
          "hovermode": "closest",
          "mapbox": {
           "style": "light"
          },
          "paper_bgcolor": "white",
          "plot_bgcolor": "white",
          "polar": {
           "angularaxis": {
            "gridcolor": "rgb(232,232,232)",
            "linecolor": "rgb(36,36,36)",
            "showgrid": false,
            "showline": true,
            "ticks": "outside"
           },
           "bgcolor": "white",
           "radialaxis": {
            "gridcolor": "rgb(232,232,232)",
            "linecolor": "rgb(36,36,36)",
            "showgrid": false,
            "showline": true,
            "ticks": "outside"
           }
          },
          "scene": {
           "xaxis": {
            "backgroundcolor": "white",
            "gridcolor": "rgb(232,232,232)",
            "gridwidth": 2,
            "linecolor": "rgb(36,36,36)",
            "showbackground": true,
            "showgrid": false,
            "showline": true,
            "ticks": "outside",
            "zeroline": false,
            "zerolinecolor": "rgb(36,36,36)"
           },
           "yaxis": {
            "backgroundcolor": "white",
            "gridcolor": "rgb(232,232,232)",
            "gridwidth": 2,
            "linecolor": "rgb(36,36,36)",
            "showbackground": true,
            "showgrid": false,
            "showline": true,
            "ticks": "outside",
            "zeroline": false,
            "zerolinecolor": "rgb(36,36,36)"
           },
           "zaxis": {
            "backgroundcolor": "white",
            "gridcolor": "rgb(232,232,232)",
            "gridwidth": 2,
            "linecolor": "rgb(36,36,36)",
            "showbackground": true,
            "showgrid": false,
            "showline": true,
            "ticks": "outside",
            "zeroline": false,
            "zerolinecolor": "rgb(36,36,36)"
           }
          },
          "shapedefaults": {
           "fillcolor": "black",
           "line": {
            "width": 0
           },
           "opacity": 0.3
          },
          "ternary": {
           "aaxis": {
            "gridcolor": "rgb(232,232,232)",
            "linecolor": "rgb(36,36,36)",
            "showgrid": false,
            "showline": true,
            "ticks": "outside"
           },
           "baxis": {
            "gridcolor": "rgb(232,232,232)",
            "linecolor": "rgb(36,36,36)",
            "showgrid": false,
            "showline": true,
            "ticks": "outside"
           },
           "bgcolor": "white",
           "caxis": {
            "gridcolor": "rgb(232,232,232)",
            "linecolor": "rgb(36,36,36)",
            "showgrid": false,
            "showline": true,
            "ticks": "outside"
           }
          },
          "title": {
           "x": 0.05
          },
          "xaxis": {
           "automargin": true,
           "gridcolor": "rgb(232,232,232)",
           "linecolor": "rgb(36,36,36)",
           "showgrid": false,
           "showline": true,
           "ticks": "outside",
           "title": {
            "standoff": 15
           },
           "zeroline": false,
           "zerolinecolor": "rgb(36,36,36)"
          },
          "yaxis": {
           "automargin": true,
           "gridcolor": "rgb(232,232,232)",
           "linecolor": "rgb(36,36,36)",
           "showgrid": false,
           "showline": true,
           "ticks": "outside",
           "title": {
            "standoff": 15
           },
           "zeroline": false,
           "zerolinecolor": "rgb(36,36,36)"
          }
         }
        },
        "title": {
         "text": "<b>S-S model </b>, L=16, J2 =1, J1 =0.2 , η=0.01, α=2, samples=1000"
        },
        "xaxis": {
         "mirror": true,
         "showline": true,
         "title": {
          "text": "Iteration"
         }
        },
        "yaxis": {
         "mirror": true,
         "showline": true,
         "title": {
          "text": "Energy"
         }
        }
       }
      },
      "text/html": [
       "<div>                            <div id=\"62232b57-1886-41db-a4c6-a380e652f464\" class=\"plotly-graph-div\" style=\"height:525px; width:100%;\"></div>            <script type=\"text/javascript\">                require([\"plotly\"], function(Plotly) {                    window.PLOTLYENV=window.PLOTLYENV || {};                                    if (document.getElementById(\"62232b57-1886-41db-a4c6-a380e652f464\")) {                    Plotly.newPlot(                        \"62232b57-1886-41db-a4c6-a380e652f464\",                        [{\"line\":{\"color\":\"#000000\",\"width\":1},\"mode\":\"lines\",\"name\":\"exact energy\",\"type\":\"scatter\",\"x\":[0,500],\"y\":[-24.000000000000032,-24.000000000000032]},{\"mode\":\"markers\",\"name\":\"normal\",\"type\":\"scatter\",\"x\":[0,1,2,3,4,5,6,7,8,9,10,11,12,13,14,15,16,17,18,19,20,21,22,23,24,25,26,27,28,29,30,31,32,33,34,35,36,37,38,39,40,41,42,43,44,45,46,47,48,49,50,51,52,53,54,55,56,57,58,59,60,61,62,63,64,65,66,67,68,69,70,71,72,73,74,75,76,77,78,79,80,81,82,83,84,85,86,87,88,89,90,91,92,93,94,95,96,97,98,99,100,101,102,103,104,105,106,107,108,109,110,111,112,113,114,115,116,117,118,119,120,121,122,123,124,125,126,127,128,129,130,131,132,133,134,135,136,137,138,139,140,141,142,143,144,145,146,147,148,149,150,151,152,153,154,155,156,157,158,159,160,161,162,163,164,165,166,167,168,169,170,171,172,173,174,175,176,177,178,179,180,181,182,183,184,185,186,187,188,189,190,191,192,193,194,195,196,197,198,199,200,201,202,203,204,205,206,207,208,209,210,211,212,213,214,215,216,217,218,219,220,221,222,223,224,225,226,227,228,229,230,231,232,233,234,235,236,237,238,239,240,241,242,243,244,245,246,247,248,249,250,251,252,253,254,255,256,257,258,259,260,261,262,263,264,265,266,267,268,269,270,271,272,273,274,275,276,277,278,279,280,281,282,283,284,285,286,287,288,289,290,291,292,293,294,295,296,297,298,299,300,301,302,303,304,305,306,307,308,309,310,311,312,313,314,315,316,317,318,319,320,321,322,323,324,325,326,327,328,329,330,331,332,333,334,335,336,337,338,339,340,341,342,343,344,345,346,347,348,349,350,351,352,353,354,355,356,357,358,359,360,361,362,363,364,365,366,367,368,369,370,371,372,373,374,375,376,377,378,379,380,381,382,383,384,385,386,387,388,389,390,391,392,393,394,395,396,397,398,399,400,401,402,403,404,405,406,407,408,409,410,411,412,413,414,415,416,417,418,419,420,421,422,423,424,425,426,427,428,429,430,431,432,433,434,435,436,437,438,439,440,441,442,443,444,445,446,447,448,449,450,451,452,453,454,455,456,457,458,459,460,461,462,463,464,465,466,467,468,469,470,471,472,473,474,475,476,477,478,479,480,481,482,483,484,485,486,487,488,489,490,491,492,493,494,495,496,497,498,499],\"y\":[14.124684370403136,13.912014281857443,13.546563295164448,12.924776384382438,11.680439763733956,9.661356509609872,7.032597793641825,4.37760972377296,2.667530756591821,1.3680903803505644,0.28386220411493035,-0.20863034723321797,-0.6623997528119611,-1.0485003524923535,-0.8904557978329461,-1.3709551619200755,-1.432788825602567,-1.5958793561298754,-1.6066830697262813,-1.8336425391093827,-2.1964244729664832,-2.05398602936582,-2.241402850525685,-2.5181686053665344,-2.5945154524678653,-2.8021261437325182,-2.6763679004962513,-2.811305749163001,-3.2477458978892884,-3.085030742257858,-3.2764920754058475,-3.429921202899072,-3.4513972095595182,-3.1489834160774572,-3.7326424797543956,-3.8490415922825516,-4.05997223901606,-4.056463814941426,-3.9741660728947115,-4.419876912612279,-4.363466857584749,-4.524381791885534,-4.6759147945331945,-4.943949511162347,-4.951580495295578,-5.439160241834461,-5.056569212894879,-5.100219102265448,-4.895961261551901,-5.782885982893539,-5.7290751072640616,-5.612731576725206,-6.039565713078889,-6.086683114071998,-5.892159475059993,-6.147745775710933,-6.3102943930283395,-6.560794155133654,-6.722998030046126,-6.560941349075272,-6.820633674248332,-6.924279669126319,-6.824001917019056,-7.215397200352756,-7.4681987597469375,-7.2740770222143105,-7.473198946968168,-7.8072348614724065,-7.785802894742753,-7.699718758966528,-7.806786369750674,-8.32988376198277,-8.08455853672895,-8.28809315891635,-8.354460840673712,-8.519314197345796,-8.936821315170716,-8.93321554936518,-9.042213686473213,-8.97964501158091,-9.623773553020028,-9.529555735438953,-9.67137579915482,-9.575048199170583,-10.102807575766377,-10.145812161266619,-9.88589469542914,-10.330818020219736,-10.533513835898544,-10.32330102511291,-10.820478762939327,-10.869955782779837,-10.998233577763845,-11.173205372704961,-11.271517736130669,-11.364694343184452,-11.699045024927965,-12.089394871824025,-12.07952101755755,-12.18879336248246,-12.655829248932568,-12.360224975985844,-12.849746922392804,-13.204528658471174,-13.272927294198382,-13.311475762912021,-13.833942502580078,-13.780163305887271,-14.03115106778035,-14.392995116805016,-14.487539533117621,-14.736159090450572,-14.894282745605809,-15.159586069435864,-15.228564510093534,-15.565546706981149,-15.418745259964302,-16.147077122420033,-15.944143179296514,-16.08301551787437,-16.084019094682716,-16.370654239661025,-16.306635740658738,-16.61836102079449,-16.74139453973864,-17.060551729729756,-16.87569132525478,-17.114339888967418,-17.425783689508084,-17.616918926197833,-17.64974732781772,-17.628497459318186,-17.725885058227732,-17.840806503537173,-18.01368698828759,-18.152859055849035,-18.291192839769842,-18.42665261771671,-18.487848999262834,-18.403095729582088,-18.863004527794768,-18.901259239168365,-18.808251154950522,-19.02549338108336,-19.1779904549996,-19.45142816786937,-19.326478048155913,-19.43907214584904,-19.552502417590127,-20.002256227738897,-19.807216718560817,-19.838962776978157,-19.983355451852262,-20.266101925373988,-19.93826577762782,-20.238436853877378,-20.421456207053428,-20.460480728111325,-20.566396078050992,-20.482434434880307,-20.549802859400042,-20.64721017202222,-20.83148237539693,-20.971465144348898,-20.854462630168225,-21.222636423079955,-21.166115502048502,-21.252560909207656,-21.188693329324632,-21.201779063221622,-21.204714350697575,-21.3971108286068,-21.48294618607564,-21.605952370546383,-21.58931904257394,-21.642601313915005,-21.859067796735935,-21.717952587118386,-22.002784331718342,-21.994067604203725,-22.013175253317442,-22.064822243812632,-22.015777194161558,-22.18819926251029,-22.169335652995176,-22.264746268993807,-22.387829814063263,-22.360027785323645,-22.408779917918228,-22.541780738662442,-22.485850064424167,-22.52501572476773,-22.489841236347807,-22.466923052268815,-22.685337468588525,-22.68571891323,-22.80118215177798,-22.775926077591706,-22.783927225018004,-22.861034626252934,-22.862600051642808,-22.874292632146073,-22.924890228328707,-22.988745294949076,-22.907819934329247,-23.09068512103533,-23.093143524681818,-23.016998362601278,-23.07630909966306,-23.235786394954186,-23.237060495660547,-23.336418226021056,-23.214024276604086,-23.239571290259345,-23.227456286634037,-23.281232108783595,-23.407783044253566,-23.31207792807043,-23.42965675123512,-23.44509825318971,-23.41796770605969,-23.44747598274419,-23.48286442259346,-23.399622250455952,-23.485824353059304,-23.471448002065305,-23.51828700415766,-23.438244261515294,-23.588508098029124,-23.66200831738965,-23.502443906902208,-23.566900576324368,-23.50628159845179,-23.536982381043217,-23.60642145437745,-23.614320244414657,-23.579006378427913,-23.59469078005549,-23.652913878071114,-23.61809030713222,-23.56443241953607,-23.686560687000462,-23.65754598004527,-23.73372285916113,-23.680259676354723,-23.68610270027712,-23.743349713360725,-23.658289377635953,-23.646330576659427,-23.744884213539056,-23.711214309469202,-23.772682098066632,-23.710960215323997,-23.739901989052175,-23.77111835675017,-23.72989636986473,-23.740420420790965,-23.77157540183723,-23.74299133718893,-23.795094681340416,-23.778972932882375,-23.813563896115454,-23.85038570413984,-23.80029135995732,-23.771225659623063,-23.765749187878374,-23.831662151676568,-23.81669259033629,-23.881338785861935,-23.811133470374926,-23.82771753270344,-23.85033779640015,-23.775546724767114,-23.781677676576006,-23.82256880701902,-23.81718929026281,-23.83488714926516,-23.849205130180135,-23.881973032920296,-23.86189846203182,-23.83740794600623,-23.82015777314644,-23.874596396823453,-23.814067393442066,-23.849279470401672,-23.861405601641486,-23.87983647951366,-23.91173441054867,-23.84391392277429,-23.835997448702024,-23.86117108718574,-23.903153836491,-23.835822579399068,-23.834238827925788,-23.839130581104335,-23.885245702500562,-23.8971095660563,-23.890128614232772,-23.896143798857082,-23.88486033065643,-23.87438181168093,-23.867155259289305,-23.884321243291286,-23.86996547776656,-23.86283282514691,-23.868515104483308,-23.89613266120896,-23.897080110191244,-23.871988959689816,-23.905177818417627,-23.91631714254652,-23.906976668009637,-23.86196977843776,-23.923454844516762,-23.917008227670706,-23.919776644470318,-23.912485205606455,-23.936934302412162,-23.885887399527032,-23.911068453061755,-23.85979276186661,-23.92993309518654,-23.923064920259375,-23.934784065766966,-23.905539138651967,-23.92204639026045,-23.9254890516204,-23.922043218372618,-23.884072097405635,-23.91282558093531,-23.900367941439914,-23.919995737324555,-23.912137299115944,-23.93267794201825,-23.922051177718316,-23.88147185537407,-23.898292856734958,-23.94132408220427,-23.92911294848405,-23.89172757465927,-23.94892251363018,-23.94114932722097,-23.914996372290556,-23.911193987046587,-23.879215506820653,-23.922901215099557,-23.910202791983433,-23.939332190475454,-23.919147778034954,-23.90440026698686,-23.92003954871261,-23.92244683520851,-23.951959648641502,-23.93350070163866,-23.952394829981642,-23.912287837873198,-23.95506082763985,-23.947971188423715,-23.958585116496003,-23.909795746257405,-23.94798697227968,-23.967418044955355,-23.93238467276118,-23.93888367195456,-23.952333116795185,-23.951037826068564,-23.931592182671455,-23.925884414156368,-23.94509285260454,-23.965801615334378,-23.939641916136193,-23.920083313147046,-23.94331893633451,-23.959033549721543,-23.936609905930904,-23.94300989437456,-23.9289680707889,-23.93541042397531,-23.968266317250254,-23.948390045901103,-23.93428900646327,-23.945446304482658,-23.94277712755279,-23.963577548759027,-23.96843930364896,-23.969429998794624,-23.9600898794985,-23.962611404284193,-23.950702833767245,-23.959813705456472,-23.945020683226783,-23.945467283088245,-23.93406724005555,-23.957836791071962,-23.938643904223056,-23.93955976863714,-23.955592255259116,-23.944849543243738,-23.973186365001894,-23.958142168476513,-23.96763889580866,-23.95367692110202,-23.951106869773415,-23.959683790190226,-23.92442241970926,-23.95869715079826,-23.951954400385645,-23.983010592729325,-23.952801448802568,-23.951783303126817,-23.928096493865684,-23.965674957218177,-23.959485321194336,-23.96361618442346,-23.96248446283458,-23.934991949580684,-23.9520946266743,-23.97248218598708,-23.968208797582868,-23.95469593133954,-23.967001833689068,-23.984850244169873,-23.98161502436658,-23.962446004076217,-23.95601711700809,-23.9446640805288,-23.978892349675434,-23.974749381720773,-23.94718295820513,-23.949444354069318,-23.943014658278358,-23.96572087990945,-23.97795040671545,-23.96053910429666,-23.97013177904571,-23.969751305557466,-23.976890210231176,-23.94360788516639,-23.96205187354544,-23.976580277916646,-23.94660728771455,-23.95156855810555,-23.955490299584525,-23.960081671215658,-23.9593716380937,-23.965362704690474,-23.946869659375967,-23.961559853331348,-23.968368785005254,-23.961374464551504,-23.970922386557596,-23.980189088220733,-23.9623856993488,-23.963161534620667,-23.97254384672203,-23.978899654306495,-23.95961299676691,-23.985757649962096,-23.958230933115885,-23.978889464855882,-23.974184825688077,-23.978501405581316,-23.98966053886264,-23.977215337365273,-23.9790686710377,-23.947296965113434,-23.956237625860272,-23.965193125507515,-23.963424234285604,-23.96457925012415,-23.967623985522902,-23.960697572868042,-23.954981974003797,-23.951472796816258,-23.989879918443442,-23.96399441899827,-23.962295716955822,-23.987335049448383,-23.970777946794463,-23.989714705080967,-23.96891724024689,-23.97900949885689,-23.986185643609332,-23.987642296420614,-23.96864761294369,-23.961270793773398,-23.958559617201363,-23.982906057817505,-23.98810931923421,-23.966536194076586,-23.975563883060254,-23.97106514784375,-23.975820164208727,-23.972670376008324,-23.967240229164407,-23.978383465937394,-23.98017258260006,-23.97040371501024,-23.995392253439714,-23.96812754829565]},{\"mode\":\"markers\",\"name\":\"MSR\",\"type\":\"scatter\",\"x\":[0,1,2,3,4,5,6,7,8,9,10,11,12,13,14,15,16,17,18,19,20,21,22,23,24,25,26,27,28,29,30,31,32,33,34,35,36,37,38,39,40,41,42,43,44,45,46,47,48,49,50,51,52,53,54,55,56,57,58,59,60,61,62,63,64,65,66,67,68,69,70,71,72,73,74,75,76,77,78,79,80,81,82,83,84,85,86,87,88,89,90,91,92,93,94,95,96,97,98,99,100,101,102,103,104,105,106,107,108,109,110,111,112,113,114,115,116,117,118,119,120,121,122,123,124,125,126,127,128,129,130,131,132,133,134,135,136,137,138,139,140,141,142,143,144,145,146,147,148,149,150,151,152,153,154,155,156,157,158,159,160,161,162,163,164,165,166,167,168,169,170,171,172,173,174,175,176,177,178,179,180,181,182,183,184,185,186,187,188,189,190,191,192,193,194,195,196,197,198,199,200,201,202,203,204,205,206,207,208,209,210,211,212,213,214,215,216,217,218,219,220,221,222,223,224,225,226,227,228,229,230,231,232,233,234,235,236,237,238,239,240,241,242,243,244,245,246,247,248,249,250,251,252,253,254,255,256,257,258,259,260,261,262,263,264,265,266,267,268,269,270,271,272,273,274,275,276,277,278,279,280,281,282,283,284,285,286,287,288,289,290,291,292,293,294,295,296,297,298,299,300,301,302,303,304,305,306,307,308,309,310,311,312,313,314,315,316,317,318,319,320,321,322,323,324,325,326,327,328,329,330,331,332,333,334,335,336,337,338,339,340,341,342,343,344,345,346,347,348,349,350,351,352,353,354,355,356,357,358,359,360,361,362,363,364,365,366,367,368,369,370,371,372,373,374,375,376,377,378,379,380,381,382,383,384,385,386,387,388,389,390,391,392,393,394,395,396,397,398,399,400,401,402,403,404,405,406,407,408,409,410,411,412,413,414,415,416,417,418,419,420,421,422,423,424,425,426,427,428,429,430,431,432,433,434,435,436,437,438,439,440,441,442,443,444,445,446,447,448,449,450,451,452,453,454,455,456,457,458,459,460,461,462,463,464,465,466,467,468,469,470,471,472,473,474,475,476,477,478,479,480,481,482,483,484,485,486,487,488,489,490,491,492,493,494,495,496,497,498,499],\"y\":[1.643080788753223,1.7079926542965103,1.6056179154925363,1.668825565728082,1.7485457475683803,1.593851202599356,1.429852437593345,1.6320563930517713,1.5000080530829265,1.5949425111597961,1.6038380432725508,1.5810722861332605,1.5194051159603685,1.6421420076216162,1.593971876913333,1.5338540207361386,1.6986459967456862,1.4724119161266125,1.576572893846368,1.5428155795988001,1.5258327057624983,1.7182126697677105,1.5926987712498493,1.5052790694474827,1.43312298938828,1.3847421710346945,1.4259775193598154,1.4618180106030878,1.3200882106876026,1.0278392001338468,0.8499784628119957,0.6713846624931716,0.42356362629763816,0.002083549419894985,-0.4201588367990869,-0.8264394582211378,-1.2051308502762812,-1.4686345396260216,-2.0651454446329405,-2.528379230589857,-2.782156170426541,-2.872735544298045,-3.2959020563267485,-3.7331667073237287,-3.62156211656068,-3.543261293852159,-3.4877758750552097,-3.99090860747214,-3.952321387966647,-4.274189969634944,-4.5651798427518,-4.499060029520326,-4.474450701269021,-4.846911304250213,-4.536695034201314,-4.760441123485426,-4.834587652153859,-4.872454046964028,-4.917641724186382,-5.3046887905370825,-5.274455100197116,-5.637167795574988,-5.712326278114677,-5.708504717630661,-5.830584794256879,-6.187944122982898,-6.110598550043545,-6.292278986809647,-6.202599801056902,-6.2397080863745655,-6.331701254547584,-6.560643435253007,-6.4897289930447535,-6.770629585061101,-7.142401413703474,-6.918009669443363,-7.075192931793681,-7.076699726728755,-7.665796005391027,-7.5915181463837555,-7.497430655221078,-7.855810647129344,-8.073010654971174,-8.00533205571433,-8.080804181396124,-8.614269762079497,-8.64765243916159,-8.401202267477892,-8.42696199246162,-8.507419571581691,-8.536345163603263,-8.968179376669333,-9.378914927164834,-9.320000727404521,-9.564321703718281,-9.840067865700329,-9.567910743005573,-9.645690309289389,-10.085214814480437,-10.313517487867895,-10.418214240174983,-10.482469667178789,-10.637168086544136,-10.79602759168849,-11.286600334446545,-11.116601119292039,-11.454024843907755,-11.66188007541809,-11.858395250294716,-11.87903587164852,-12.050750783322048,-12.13785066422456,-12.13783288149601,-12.652019293382146,-12.855031253189507,-12.834505307979098,-13.27715619321423,-13.40205532548782,-13.188363375146324,-13.86032725447246,-14.086032169203445,-14.140875546474026,-14.642419860912575,-14.482802330265823,-14.84928220994862,-15.105405380945777,-15.037713723295775,-15.394515422852876,-15.415878597214338,-15.72987802095485,-16.027983899586488,-16.2375070788229,-16.52293224493327,-16.437712761229932,-16.57152869494329,-16.804504724344532,-16.857346513536722,-17.21453010838971,-17.43670811017155,-17.34983444811716,-17.735790199619284,-17.55945191207279,-18.117413573017167,-18.190250051029004,-18.30786904009922,-18.510668555520162,-18.590247530315935,-18.453754232233518,-18.80461156488437,-18.640985514845426,-18.884715895874415,-19.179611359092746,-19.07180732728157,-19.40883106938763,-19.410614322647568,-19.677847095774123,-19.48971027238792,-19.455066825723396,-19.895487454667567,-19.852535913219466,-20.005032497224413,-20.087972832603842,-20.221249064890536,-20.418431667075563,-20.518784382377017,-20.598148713303324,-20.713020539232943,-20.817608918508313,-20.734115301366717,-20.808663836863538,-20.949377147826095,-21.151166540634506,-21.26151402697734,-21.157143175492084,-21.40029785906162,-21.368987432357507,-21.525171443384995,-21.662221261841538,-21.55990322395571,-21.556717290050493,-21.861241822533408,-21.90980167728723,-21.63935254945734,-21.866154123914203,-21.916101057984818,-21.978747420153685,-22.05965750449174,-22.149818606828262,-22.157675336314103,-22.266093775057623,-22.31725705032819,-22.417674560517135,-22.309888540503984,-22.490592972622938,-22.424682690694038,-22.51407306923949,-22.56390645633097,-22.648242681139855,-22.604737287651137,-22.707924188785068,-22.874939286377373,-22.906554860548376,-22.812322558000147,-22.850971723639177,-22.793838958384317,-22.948131688497583,-22.938239189530826,-22.909132601026418,-23.038371710225263,-22.989130074081526,-23.09097835859906,-23.11911101086787,-23.13807594400778,-23.08375017126531,-23.099329221555738,-23.220521593660553,-23.193117690154974,-23.27929807305347,-23.31270207235525,-23.400039978999658,-23.33227401237637,-23.39153656585491,-23.34520130222655,-23.377760111531707,-23.34382647533098,-23.44354678866187,-23.385617255442778,-23.4370158988707,-23.447749438795952,-23.495297399770482,-23.483531550788435,-23.52395848042282,-23.504019883287544,-23.55640623566024,-23.493323560230355,-23.471800125140426,-23.56028992859895,-23.53909699525853,-23.562699079789617,-23.584890775849683,-23.577185111537226,-23.635798095051804,-23.559372666272527,-23.748717194217363,-23.58933157867772,-23.669770284295655,-23.639953400732256,-23.585329320294523,-23.7005091158927,-23.5561638550987,-23.696056403797467,-23.666772690337876,-23.671831174908146,-23.7274109731388,-23.72167260331214,-23.70739779771057,-23.728934465458572,-23.699843313514194,-23.70365445988348,-23.712440225838446,-23.716100639977288,-23.730344041638745,-23.689095181630364,-23.731008482761784,-23.73354925565548,-23.770341489000323,-23.774080867678506,-23.805906942817472,-23.79913905714723,-23.763944133464946,-23.80646125491674,-23.843387416039832,-23.781857675990224,-23.76142783465834,-23.81897308117265,-23.811526409791547,-23.788033498714515,-23.820494418791732,-23.811383717598364,-23.80861237851666,-23.857682011583506,-23.81007658467335,-23.858513839433517,-23.813810597398668,-23.849393889789262,-23.83545803185545,-23.86599232933936,-23.823336181974874,-23.860639855709767,-23.880965034960038,-23.86052489142146,-23.853526125506082,-23.850240877056454,-23.911527320168155,-23.876924427273554,-23.89461877184665,-23.899685248577544,-23.862582090299593,-23.87368030547684,-23.87490617644567,-23.92503368001781,-23.8684953121367,-23.863475669494004,-23.92086797193356,-23.877704768715557,-23.914305634828516,-23.91244412866582,-23.88544967030221,-23.899152068650043,-23.901852437296558,-23.897517148756364,-23.896669414115568,-23.897990713417293,-23.89606875457327,-23.901020927969164,-23.886978844389493,-23.930622304981664,-23.869609266997983,-23.911034638416943,-23.920615320914344,-23.898674586497787,-23.885352539536164,-23.90952016582613,-23.92600205399639,-23.92168189556218,-23.91232939278437,-23.892456848134223,-23.90813434223306,-23.92474150333167,-23.91829307700608,-23.891646617406785,-23.908949017245025,-23.892422217060666,-23.898120410849724,-23.908640228168228,-23.884251826815944,-23.873317164304336,-23.91547909981687,-23.957764073850257,-23.9334663034054,-23.948787551448415,-23.923269636893465,-23.91691769282743,-23.966260890980838,-23.917205016046324,-23.91221363820001,-23.89018062180783,-23.89528172802333,-23.93473388575901,-23.91036895795784,-23.897842775829066,-23.942963709844616,-23.962673532246985,-23.906800008496432,-23.912993663212887,-23.9393233994188,-23.936694585383716,-23.958389342260883,-23.930376691772484,-23.91983022996624,-23.928571839804583,-23.93919642271703,-23.927431577577682,-23.933965231057737,-23.94467831306467,-23.947992372176177,-23.958188496722098,-23.951919447212642,-23.961434099808827,-23.92882591042193,-23.930807942729718,-23.936901870065814,-23.94485816879301,-23.94950540783644,-23.940299799474364,-23.921840530934997,-23.947624032722302,-23.966560305324162,-23.942180429364296,-23.929915747068033,-23.93273687490985,-23.969106016804574,-23.960083605591006,-23.9696971006638,-23.947149319375235,-23.95589740707354,-23.96512631470719,-23.95260647196775,-23.97595217146537,-23.943866602352355,-23.952137107796343,-23.957488063206355,-23.965513257518083,-23.948509442524717,-23.924616294884196,-23.926376942751457,-23.96416334039543,-23.954837558729682,-23.984838745628792,-23.967541015261183,-23.96091011258577,-23.940906770983414,-23.954791252797225,-23.94522345731541,-23.941120680249693,-23.95631292787083,-23.987738927856427,-23.92696780442263,-23.938088032562902,-23.973094893982736,-23.944701563648568,-23.962690485204035,-23.96197226606145,-23.959247983980223,-23.9424547454695,-23.94245334313023,-23.95063683322138,-23.944945263811423,-23.97145594391753,-23.96205861717575,-23.954144714948384,-23.96643187950298,-23.971477213182574,-23.96866415307802,-23.953992159540604,-23.973508452689924,-23.975221915586534,-23.9798850540851,-23.953874556701624,-23.958752729274202,-23.98027268720361,-23.945361865353938,-23.96458200500057,-23.973620226477216,-23.94261481324745,-23.96081413680345,-23.94984279938229,-23.945539772945246,-23.9821211561341,-23.963912475686985,-23.95714483353774,-23.96716202369936,-23.968757065857936,-23.973181016617477,-23.96231583206126,-23.96570823562801,-23.971698616512167,-23.96627978680023,-23.930500038868548,-23.963955502279095,-23.968280789655985,-23.969460569608238,-23.96868371059449,-23.987389336068958,-23.93743359257383,-23.968447649420543,-23.972918643417046,-23.975261813313004,-23.97600756414626,-23.984018649139113,-23.97283858255466,-23.975027858976347,-23.959644699672378,-23.95203194077577,-23.97822051103399,-23.976412420144623,-23.979917485995628,-23.97130336290257,-23.94912000864875,-23.97854792442652,-23.95241130539425,-23.97263803763817,-23.966578127312378,-23.97649713214707,-23.97089967147672,-23.970814562978195,-23.978661425811314,-23.96949015586949,-23.963431109554193,-23.982755488288287,-23.96003314724948,-23.977825401565116,-23.97247542895066,-23.975346000345397,-23.97022153211829,-23.971736476278355,-23.976241637732862,-23.967304018366512,-23.975257659513012,-23.95826468707643,-23.968984344354013,-23.984092614829297,-23.970940613020034,-23.95492046736569,-23.983306778000124,-23.967109242268684,-23.98465366322437,-23.983122843628593,-23.95664373479138,-23.974750566590192]}],                        {\"shapes\":[{\"line\":{\"width\":1},\"opacity\":1,\"type\":\"line\",\"x0\":0,\"x1\":1,\"xref\":\"x domain\",\"y0\":-24.000000000000032,\"y1\":-24.000000000000032,\"yref\":\"y\"}],\"template\":{\"data\":{\"bar\":[{\"error_x\":{\"color\":\"rgb(36,36,36)\"},\"error_y\":{\"color\":\"rgb(36,36,36)\"},\"marker\":{\"line\":{\"color\":\"white\",\"width\":0.5},\"pattern\":{\"fillmode\":\"overlay\",\"size\":10,\"solidity\":0.2}},\"type\":\"bar\"}],\"barpolar\":[{\"marker\":{\"line\":{\"color\":\"white\",\"width\":0.5},\"pattern\":{\"fillmode\":\"overlay\",\"size\":10,\"solidity\":0.2}},\"type\":\"barpolar\"}],\"carpet\":[{\"aaxis\":{\"endlinecolor\":\"rgb(36,36,36)\",\"gridcolor\":\"white\",\"linecolor\":\"white\",\"minorgridcolor\":\"white\",\"startlinecolor\":\"rgb(36,36,36)\"},\"baxis\":{\"endlinecolor\":\"rgb(36,36,36)\",\"gridcolor\":\"white\",\"linecolor\":\"white\",\"minorgridcolor\":\"white\",\"startlinecolor\":\"rgb(36,36,36)\"},\"type\":\"carpet\"}],\"choropleth\":[{\"colorbar\":{\"outlinewidth\":1,\"tickcolor\":\"rgb(36,36,36)\",\"ticks\":\"outside\"},\"type\":\"choropleth\"}],\"contour\":[{\"colorbar\":{\"outlinewidth\":1,\"tickcolor\":\"rgb(36,36,36)\",\"ticks\":\"outside\"},\"colorscale\":[[0.0,\"#440154\"],[0.1111111111111111,\"#482878\"],[0.2222222222222222,\"#3e4989\"],[0.3333333333333333,\"#31688e\"],[0.4444444444444444,\"#26828e\"],[0.5555555555555556,\"#1f9e89\"],[0.6666666666666666,\"#35b779\"],[0.7777777777777778,\"#6ece58\"],[0.8888888888888888,\"#b5de2b\"],[1.0,\"#fde725\"]],\"type\":\"contour\"}],\"contourcarpet\":[{\"colorbar\":{\"outlinewidth\":1,\"tickcolor\":\"rgb(36,36,36)\",\"ticks\":\"outside\"},\"type\":\"contourcarpet\"}],\"heatmap\":[{\"colorbar\":{\"outlinewidth\":1,\"tickcolor\":\"rgb(36,36,36)\",\"ticks\":\"outside\"},\"colorscale\":[[0.0,\"#440154\"],[0.1111111111111111,\"#482878\"],[0.2222222222222222,\"#3e4989\"],[0.3333333333333333,\"#31688e\"],[0.4444444444444444,\"#26828e\"],[0.5555555555555556,\"#1f9e89\"],[0.6666666666666666,\"#35b779\"],[0.7777777777777778,\"#6ece58\"],[0.8888888888888888,\"#b5de2b\"],[1.0,\"#fde725\"]],\"type\":\"heatmap\"}],\"heatmapgl\":[{\"colorbar\":{\"outlinewidth\":1,\"tickcolor\":\"rgb(36,36,36)\",\"ticks\":\"outside\"},\"colorscale\":[[0.0,\"#440154\"],[0.1111111111111111,\"#482878\"],[0.2222222222222222,\"#3e4989\"],[0.3333333333333333,\"#31688e\"],[0.4444444444444444,\"#26828e\"],[0.5555555555555556,\"#1f9e89\"],[0.6666666666666666,\"#35b779\"],[0.7777777777777778,\"#6ece58\"],[0.8888888888888888,\"#b5de2b\"],[1.0,\"#fde725\"]],\"type\":\"heatmapgl\"}],\"histogram\":[{\"marker\":{\"line\":{\"color\":\"white\",\"width\":0.6}},\"type\":\"histogram\"}],\"histogram2d\":[{\"colorbar\":{\"outlinewidth\":1,\"tickcolor\":\"rgb(36,36,36)\",\"ticks\":\"outside\"},\"colorscale\":[[0.0,\"#440154\"],[0.1111111111111111,\"#482878\"],[0.2222222222222222,\"#3e4989\"],[0.3333333333333333,\"#31688e\"],[0.4444444444444444,\"#26828e\"],[0.5555555555555556,\"#1f9e89\"],[0.6666666666666666,\"#35b779\"],[0.7777777777777778,\"#6ece58\"],[0.8888888888888888,\"#b5de2b\"],[1.0,\"#fde725\"]],\"type\":\"histogram2d\"}],\"histogram2dcontour\":[{\"colorbar\":{\"outlinewidth\":1,\"tickcolor\":\"rgb(36,36,36)\",\"ticks\":\"outside\"},\"colorscale\":[[0.0,\"#440154\"],[0.1111111111111111,\"#482878\"],[0.2222222222222222,\"#3e4989\"],[0.3333333333333333,\"#31688e\"],[0.4444444444444444,\"#26828e\"],[0.5555555555555556,\"#1f9e89\"],[0.6666666666666666,\"#35b779\"],[0.7777777777777778,\"#6ece58\"],[0.8888888888888888,\"#b5de2b\"],[1.0,\"#fde725\"]],\"type\":\"histogram2dcontour\"}],\"mesh3d\":[{\"colorbar\":{\"outlinewidth\":1,\"tickcolor\":\"rgb(36,36,36)\",\"ticks\":\"outside\"},\"type\":\"mesh3d\"}],\"parcoords\":[{\"line\":{\"colorbar\":{\"outlinewidth\":1,\"tickcolor\":\"rgb(36,36,36)\",\"ticks\":\"outside\"}},\"type\":\"parcoords\"}],\"pie\":[{\"automargin\":true,\"type\":\"pie\"}],\"scatter\":[{\"marker\":{\"colorbar\":{\"outlinewidth\":1,\"tickcolor\":\"rgb(36,36,36)\",\"ticks\":\"outside\"}},\"type\":\"scatter\"}],\"scatter3d\":[{\"line\":{\"colorbar\":{\"outlinewidth\":1,\"tickcolor\":\"rgb(36,36,36)\",\"ticks\":\"outside\"}},\"marker\":{\"colorbar\":{\"outlinewidth\":1,\"tickcolor\":\"rgb(36,36,36)\",\"ticks\":\"outside\"}},\"type\":\"scatter3d\"}],\"scattercarpet\":[{\"marker\":{\"colorbar\":{\"outlinewidth\":1,\"tickcolor\":\"rgb(36,36,36)\",\"ticks\":\"outside\"}},\"type\":\"scattercarpet\"}],\"scattergeo\":[{\"marker\":{\"colorbar\":{\"outlinewidth\":1,\"tickcolor\":\"rgb(36,36,36)\",\"ticks\":\"outside\"}},\"type\":\"scattergeo\"}],\"scattergl\":[{\"marker\":{\"colorbar\":{\"outlinewidth\":1,\"tickcolor\":\"rgb(36,36,36)\",\"ticks\":\"outside\"}},\"type\":\"scattergl\"}],\"scattermapbox\":[{\"marker\":{\"colorbar\":{\"outlinewidth\":1,\"tickcolor\":\"rgb(36,36,36)\",\"ticks\":\"outside\"}},\"type\":\"scattermapbox\"}],\"scatterpolar\":[{\"marker\":{\"colorbar\":{\"outlinewidth\":1,\"tickcolor\":\"rgb(36,36,36)\",\"ticks\":\"outside\"}},\"type\":\"scatterpolar\"}],\"scatterpolargl\":[{\"marker\":{\"colorbar\":{\"outlinewidth\":1,\"tickcolor\":\"rgb(36,36,36)\",\"ticks\":\"outside\"}},\"type\":\"scatterpolargl\"}],\"scatterternary\":[{\"marker\":{\"colorbar\":{\"outlinewidth\":1,\"tickcolor\":\"rgb(36,36,36)\",\"ticks\":\"outside\"}},\"type\":\"scatterternary\"}],\"surface\":[{\"colorbar\":{\"outlinewidth\":1,\"tickcolor\":\"rgb(36,36,36)\",\"ticks\":\"outside\"},\"colorscale\":[[0.0,\"#440154\"],[0.1111111111111111,\"#482878\"],[0.2222222222222222,\"#3e4989\"],[0.3333333333333333,\"#31688e\"],[0.4444444444444444,\"#26828e\"],[0.5555555555555556,\"#1f9e89\"],[0.6666666666666666,\"#35b779\"],[0.7777777777777778,\"#6ece58\"],[0.8888888888888888,\"#b5de2b\"],[1.0,\"#fde725\"]],\"type\":\"surface\"}],\"table\":[{\"cells\":{\"fill\":{\"color\":\"rgb(237,237,237)\"},\"line\":{\"color\":\"white\"}},\"header\":{\"fill\":{\"color\":\"rgb(217,217,217)\"},\"line\":{\"color\":\"white\"}},\"type\":\"table\"}]},\"layout\":{\"annotationdefaults\":{\"arrowhead\":0,\"arrowwidth\":1},\"autotypenumbers\":\"strict\",\"coloraxis\":{\"colorbar\":{\"outlinewidth\":1,\"tickcolor\":\"rgb(36,36,36)\",\"ticks\":\"outside\"}},\"colorscale\":{\"diverging\":[[0.0,\"rgb(103,0,31)\"],[0.1,\"rgb(178,24,43)\"],[0.2,\"rgb(214,96,77)\"],[0.3,\"rgb(244,165,130)\"],[0.4,\"rgb(253,219,199)\"],[0.5,\"rgb(247,247,247)\"],[0.6,\"rgb(209,229,240)\"],[0.7,\"rgb(146,197,222)\"],[0.8,\"rgb(67,147,195)\"],[0.9,\"rgb(33,102,172)\"],[1.0,\"rgb(5,48,97)\"]],\"sequential\":[[0.0,\"#440154\"],[0.1111111111111111,\"#482878\"],[0.2222222222222222,\"#3e4989\"],[0.3333333333333333,\"#31688e\"],[0.4444444444444444,\"#26828e\"],[0.5555555555555556,\"#1f9e89\"],[0.6666666666666666,\"#35b779\"],[0.7777777777777778,\"#6ece58\"],[0.8888888888888888,\"#b5de2b\"],[1.0,\"#fde725\"]],\"sequentialminus\":[[0.0,\"#440154\"],[0.1111111111111111,\"#482878\"],[0.2222222222222222,\"#3e4989\"],[0.3333333333333333,\"#31688e\"],[0.4444444444444444,\"#26828e\"],[0.5555555555555556,\"#1f9e89\"],[0.6666666666666666,\"#35b779\"],[0.7777777777777778,\"#6ece58\"],[0.8888888888888888,\"#b5de2b\"],[1.0,\"#fde725\"]]},\"colorway\":[\"#1F77B4\",\"#FF7F0E\",\"#2CA02C\",\"#D62728\",\"#9467BD\",\"#8C564B\",\"#E377C2\",\"#7F7F7F\",\"#BCBD22\",\"#17BECF\"],\"font\":{\"color\":\"rgb(36,36,36)\"},\"geo\":{\"bgcolor\":\"white\",\"lakecolor\":\"white\",\"landcolor\":\"white\",\"showlakes\":true,\"showland\":true,\"subunitcolor\":\"white\"},\"hoverlabel\":{\"align\":\"left\"},\"hovermode\":\"closest\",\"mapbox\":{\"style\":\"light\"},\"paper_bgcolor\":\"white\",\"plot_bgcolor\":\"white\",\"polar\":{\"angularaxis\":{\"gridcolor\":\"rgb(232,232,232)\",\"linecolor\":\"rgb(36,36,36)\",\"showgrid\":false,\"showline\":true,\"ticks\":\"outside\"},\"bgcolor\":\"white\",\"radialaxis\":{\"gridcolor\":\"rgb(232,232,232)\",\"linecolor\":\"rgb(36,36,36)\",\"showgrid\":false,\"showline\":true,\"ticks\":\"outside\"}},\"scene\":{\"xaxis\":{\"backgroundcolor\":\"white\",\"gridcolor\":\"rgb(232,232,232)\",\"gridwidth\":2,\"linecolor\":\"rgb(36,36,36)\",\"showbackground\":true,\"showgrid\":false,\"showline\":true,\"ticks\":\"outside\",\"zeroline\":false,\"zerolinecolor\":\"rgb(36,36,36)\"},\"yaxis\":{\"backgroundcolor\":\"white\",\"gridcolor\":\"rgb(232,232,232)\",\"gridwidth\":2,\"linecolor\":\"rgb(36,36,36)\",\"showbackground\":true,\"showgrid\":false,\"showline\":true,\"ticks\":\"outside\",\"zeroline\":false,\"zerolinecolor\":\"rgb(36,36,36)\"},\"zaxis\":{\"backgroundcolor\":\"white\",\"gridcolor\":\"rgb(232,232,232)\",\"gridwidth\":2,\"linecolor\":\"rgb(36,36,36)\",\"showbackground\":true,\"showgrid\":false,\"showline\":true,\"ticks\":\"outside\",\"zeroline\":false,\"zerolinecolor\":\"rgb(36,36,36)\"}},\"shapedefaults\":{\"fillcolor\":\"black\",\"line\":{\"width\":0},\"opacity\":0.3},\"ternary\":{\"aaxis\":{\"gridcolor\":\"rgb(232,232,232)\",\"linecolor\":\"rgb(36,36,36)\",\"showgrid\":false,\"showline\":true,\"ticks\":\"outside\"},\"baxis\":{\"gridcolor\":\"rgb(232,232,232)\",\"linecolor\":\"rgb(36,36,36)\",\"showgrid\":false,\"showline\":true,\"ticks\":\"outside\"},\"bgcolor\":\"white\",\"caxis\":{\"gridcolor\":\"rgb(232,232,232)\",\"linecolor\":\"rgb(36,36,36)\",\"showgrid\":false,\"showline\":true,\"ticks\":\"outside\"}},\"title\":{\"x\":0.05},\"xaxis\":{\"automargin\":true,\"gridcolor\":\"rgb(232,232,232)\",\"linecolor\":\"rgb(36,36,36)\",\"showgrid\":false,\"showline\":true,\"ticks\":\"outside\",\"title\":{\"standoff\":15},\"zeroline\":false,\"zerolinecolor\":\"rgb(36,36,36)\"},\"yaxis\":{\"automargin\":true,\"gridcolor\":\"rgb(232,232,232)\",\"linecolor\":\"rgb(36,36,36)\",\"showgrid\":false,\"showline\":true,\"ticks\":\"outside\",\"title\":{\"standoff\":15},\"zeroline\":false,\"zerolinecolor\":\"rgb(36,36,36)\"}}},\"title\":{\"text\":\"<b>S-S model </b>, L=16, J2 =1, J1 =0.2 , η=0.01, α=2, samples=1000\"},\"xaxis\":{\"mirror\":true,\"showline\":true,\"title\":{\"text\":\"Iteration\"}},\"yaxis\":{\"mirror\":true,\"showline\":true,\"title\":{\"text\":\"Energy\"}}},                        {\"responsive\": true}                    ).then(function(){\n",
       "                            \n",
       "var gd = document.getElementById('62232b57-1886-41db-a4c6-a380e652f464');\n",
       "var x = new MutationObserver(function (mutations, observer) {{\n",
       "        var display = window.getComputedStyle(gd).display;\n",
       "        if (!display || display === 'none') {{\n",
       "            console.log([gd, 'removed!']);\n",
       "            Plotly.purge(gd);\n",
       "            observer.disconnect();\n",
       "        }}\n",
       "}});\n",
       "\n",
       "// Listen for the removal of the full notebook cells\n",
       "var notebookContainer = gd.closest('#notebook-container');\n",
       "if (notebookContainer) {{\n",
       "    x.observe(notebookContainer, {childList: true});\n",
       "}}\n",
       "\n",
       "// Listen for the clearing of the current output cell\n",
       "var outputEl = gd.closest('.output');\n",
       "if (outputEl) {{\n",
       "    x.observe(outputEl, {childList: true});\n",
       "}}\n",
       "\n",
       "                        })                };                });            </script>        </div>"
      ]
     },
     "metadata": {},
     "output_type": "display_data"
    }
   ],
   "source": [
    "# import the data from log file\n",
    "OUT_NAME_suffixless=OUT_NAME\n",
    "data = []\n",
    "names = [\"normal\",\"MSR\"]\n",
    "for i in range(no_of_runs):\n",
    "    data.append(json.load(open(OUT_NAME_suffixless+str(i)+\".log\")))\n",
    "if type(data[0][\"Energy\"][\"Mean\"]) == dict: #DTYPE in (np.complex128, np.complex64):#, np.float64):# and False:\n",
    "    energy_convergence = [data[i][\"Energy\"][\"Mean\"][\"real\"] for i in range(no_of_runs)]\n",
    "    # symmetry = [data[i][\"symmetry\"][\"Mean\"][\"real\"] for i in range(no_of_runs-run_only_2)]\n",
    "else:\n",
    "    energy_convergence = [data[i][\"Energy\"][\"Mean\"] for i in range(no_of_runs)]\n",
    "    # symmetry = [data[i][\"symmetry\"][\"Mean\"] for i in range(no_of_runs-run_only_2)]\n",
    "for i in range(no_of_runs):\n",
    "    figure.add_trace(go.Scatter(\n",
    "        x=data[i][\"Energy\"][\"iters\"], y=energy_convergence[i],\n",
    "        name=names[i], mode='markers'\n",
    "    ))\n",
    "    # figure.add_trace(go.Scatter(\n",
    "    #     x=data[i][\"Energy\"][\"iters\"], y=symmetry[i],\n",
    "    #     name=names[i]+\"_swap\"\n",
    "    # ))\n",
    "\n",
    "figure.update_layout(xaxis_title=\"Iteration\",yaxis_title=\"Energy\")\n",
    "figure.show()"
   ]
  },
  {
   "cell_type": "markdown",
   "metadata": {},
   "source": [
    "## Assessment of the other simulation results"
   ]
  },
  {
   "cell_type": "code",
   "execution_count": 233,
   "metadata": {},
   "outputs": [
    {
     "name": "stdout",
     "output_type": "stream",
     "text": [
      "[268, 289]\n"
     ]
    }
   ],
   "source": [
    "# Calculation of how long it took to reach 99.5% of exact energy. The first value under 0.5% deviation counts as a converged state.\n",
    "no_of_runs = 2\n",
    "threshold_energy = 0.995*exact_ground_energy\n",
    "data = []\n",
    "for i in range(no_of_runs):\n",
    "    data.append(json.load(open(OUT_NAME+str(i)+\".log\")))\n",
    "if type(data[0][\"Energy\"][\"Mean\"]) == dict:\n",
    "    energy_convergence = [data[i][\"Energy\"][\"Mean\"][\"real\"] for i in range(no_of_runs)]\n",
    "else:\n",
    "    energy_convergence = [data[i][\"Energy\"][\"Mean\"] for i in range(no_of_runs)]\n",
    "steps_until_convergence = [next((i for i,v in enumerate(energy_convergence[j]) if v < threshold_energy), -1) for j in range(no_of_runs)]\n",
    "print(steps_until_convergence)"
   ]
  },
  {
   "cell_type": "code",
   "execution_count": 234,
   "metadata": {},
   "outputs": [
    {
     "name": "stdout",
     "output_type": "stream",
     "text": [
      "Trained RBM without MSR:\n",
      "m_d^2 = 0.99932+0.00001j ± 0.00039 [σ²=0.00016]\n",
      "m_p(MSR) = 0.013+0.000j ± 0.016 [σ²=0.275]\n",
      "m_s^2 = 0.000124+0.000006j ± 0.000075 [σ²=0.000006]\n",
      "m_s^2(MSR) = 0.000111-0.000003j ± 0.000066 [σ²=0.000005]\n",
      "Trained RBM with MSR:\n",
      "m_d^2 = 0.99962-0.00003j ± 0.00025 [σ²=0.00006]\n",
      "m_p(MSR) = -0.046-0.001j ± 0.018 [σ²=0.264]\n",
      "m_s^2 = 0.000071+0.000003j ± 0.000051 [σ²=0.000003]\n",
      "m_s^2(MSR) = 0.000066+0.000009j ± 0.000046 [σ²=0.000002]\n"
     ]
    }
   ],
   "source": [
    "# Evaluation of order parameters.\n",
    "from lattice_and_ops import Operators, Lattice\n",
    "ops = Operators(lattice,hilbert,ho.mszsz,ho.exchange)\n",
    "for i,gs in enumerate([gs_1,gs_2][run_only_2:run_only_2+no_of_runs]):\n",
    "    print(\"Trained RBM with MSR:\" if (i+run_only_2) else \"Trained RBM without MSR:\")\n",
    "    print(\"m_d^2 =\", gs.estimate(ops.m_dimer_op))\n",
    "    print(\"m_p(MSR) =\", gs.estimate(ops.m_plaquette_op_MSR))\n",
    "    print(\"m_s^2 =\", gs.estimate(ops.m_s2_op))\n",
    "    print(\"m_s^2(MSR) =\", gs.estimate(ops.m_s2_op_MSR))"
   ]
  },
  {
   "cell_type": "markdown",
   "metadata": {},
   "source": [
    "### Print final results"
   ]
  },
  {
   "cell_type": "code",
   "execution_count": 235,
   "metadata": {},
   "outputs": [
    {
     "ename": "TypeError",
     "evalue": "log_results() missing 1 required positional argument: 'steps_until_convergence'",
     "output_type": "error",
     "traceback": [
      "\u001b[0;31m---------------------------------------------------------------------------\u001b[0m",
      "\u001b[0;31mTypeError\u001b[0m                                 Traceback (most recent call last)",
      "\u001b[0;32m/tmp/ipykernel_29885/2261589024.py\u001b[0m in \u001b[0;36m<module>\u001b[0;34m\u001b[0m\n\u001b[1;32m      1\u001b[0m \u001b[0;32mfrom\u001b[0m \u001b[0mlattice_and_ops\u001b[0m \u001b[0;32mimport\u001b[0m \u001b[0mlog_results\u001b[0m\u001b[0;34m\u001b[0m\u001b[0;34m\u001b[0m\u001b[0m\n\u001b[0;32m----> 2\u001b[0;31m \u001b[0mlog_results\u001b[0m\u001b[0;34m(\u001b[0m\u001b[0mJEXCH1\u001b[0m\u001b[0;34m,\u001b[0m\u001b[0mgs_1\u001b[0m\u001b[0;34m,\u001b[0m\u001b[0mgs_2\u001b[0m\u001b[0;34m,\u001b[0m\u001b[0mops\u001b[0m\u001b[0;34m,\u001b[0m\u001b[0mSAMPLES\u001b[0m\u001b[0;34m,\u001b[0m\u001b[0mNUM_ITER\u001b[0m\u001b[0;34m,\u001b[0m\u001b[0msteps_until_convergence\u001b[0m\u001b[0;34m)\u001b[0m\u001b[0;34m\u001b[0m\u001b[0;34m\u001b[0m\u001b[0m\n\u001b[0m",
      "\u001b[0;31mTypeError\u001b[0m: log_results() missing 1 required positional argument: 'steps_until_convergence'"
     ]
    }
   ],
   "source": [
    "from lattice_and_ops import log_results\n",
    "log_results(JEXCH1,gs_1,gs_2,ops,SAMPLES,NUM_ITER,steps_until_convergence)"
   ]
  },
  {
   "cell_type": "code",
   "execution_count": null,
   "metadata": {},
   "outputs": [
    {
     "name": "stdout",
     "output_type": "stream",
     "text": [
      " 0.400  -15.74737  0.46486   0.4879  0.0093   0.0233  0.4016   0.1384  0.0085   1000   400\n"
     ]
    }
   ],
   "source": [
    "print(\"{:6.3f} {:10.5f} {:8.5f}  {:7.4f} {:7.4f}  {:7.4f} {:7.4f}  {:7.4f} {:7.4f}  {:5.0f} {:5.0f}\".format(JEXCH1, \n",
    "    gs_1.energy.mean.real,                          gs_1.energy.variance,\n",
    "    gs_1.estimate(ops.m_dimer_op).mean.real,        gs_1.estimate(ops.m_dimer_op).variance,\n",
    "    gs_1.estimate(ops.m_plaquette_op).mean.real,    gs_1.estimate(ops.m_plaquette_op).variance,\n",
    "    gs_1.estimate(ops.m_s2_op).mean.real,           gs_1.estimate(ops.m_s2_op).variance, \n",
    "    SAMPLES, NUM_ITER, steps_until_convergence[0], sep='    '))"
   ]
  },
  {
   "cell_type": "code",
   "execution_count": null,
   "metadata": {},
   "outputs": [
    {
     "name": "stdout",
     "output_type": "stream",
     "text": [
      "asd\n"
     ]
    }
   ],
   "source": [
    "print(\"asd\",file=None)"
   ]
  },
  {
   "cell_type": "code",
   "execution_count": null,
   "metadata": {},
   "outputs": [
    {
     "name": "stdout",
     "output_type": "stream",
     "text": [
      "  0.46486\n"
     ]
    }
   ],
   "source": [
    "print(\"{:9.5f}\".format(gs_1.energy.variance))"
   ]
  },
  {
   "cell_type": "code",
   "execution_count": null,
   "metadata": {},
   "outputs": [
    {
     "data": {
      "text/plain": [
       "{'Mean': (-15.747368841964612-0.003949807027622352j),\n",
       " 'Variance': 0.46486127291880336,\n",
       " 'Sigma': 0.02484698569889124,\n",
       " 'R_hat': nan,\n",
       " 'TauCorr': 0.16403971925269567}"
      ]
     },
     "execution_count": 211,
     "metadata": {},
     "output_type": "execute_result"
    }
   ],
   "source": [
    "gs_1.energy.to_dict()"
   ]
  }
 ],
 "metadata": {
  "interpreter": {
   "hash": "31f2aee4e71d21fbe5cf8b01ff0e069b9275f58929596ceb00d14d90e3e16cd6"
  },
  "kernelspec": {
   "display_name": "Python 3.8.10 64-bit",
   "name": "python3"
  },
  "language_info": {
   "codemirror_mode": {
    "name": "ipython",
    "version": 3
   },
   "file_extension": ".py",
   "mimetype": "text/x-python",
   "name": "python",
   "nbconvert_exporter": "python",
   "pygments_lexer": "ipython3",
   "version": "3.7.3"
  },
  "metadata": {
   "interpreter": {
    "hash": "916dbcbb3f70747c44a77c7bcd40155683ae19c65e1c03b4aa3499c5328201f1"
   }
  }
 },
 "nbformat": 4,
 "nbformat_minor": 4
}
