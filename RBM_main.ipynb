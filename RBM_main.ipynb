{
 "cells": [
  {
   "cell_type": "markdown",
   "metadata": {},
   "source": [
    "# Exploring Shastry-Sutterland model with RBM variational wave function and other models"
   ]
  },
  {
   "cell_type": "code",
   "execution_count": 1,
   "metadata": {},
   "outputs": [
    {
     "name": "stdout",
     "output_type": "stream",
     "text": [
      "NetKet version: 3.3.1\n",
      "NumPy version: 1.20.3\n"
     ]
    }
   ],
   "source": [
    "import netket as nk\n",
    "import numpy as np\n",
    "import time\n",
    "import json\n",
    "import plotly.graph_objects as go\n",
    "import matplotlib.pyplot as plt\n",
    "import jax\n",
    "import flax\n",
    "import optax\n",
    "import pprint\n",
    "print(\"NetKet version: {}\".format(nk.__version__))\n",
    "print(\"NumPy version: {}\".format(np.__version__))"
   ]
  },
  {
   "cell_type": "markdown",
   "metadata": {},
   "source": [
    "Setup relevant parameters"
   ]
  },
  {
   "cell_type": "code",
   "execution_count": 2,
   "metadata": {},
   "outputs": [],
   "source": [
    "\"\"\"lattice\"\"\"\n",
    "SITES    = 8            # 4, 8, 16, 20 ... number of vertices in a tile determines the tile shape \n",
    "JEXCH1   = .3           # nn interaction\n",
    "JEXCH2   = 1            # nnn interaction\n",
    "#USE_MSR  = True        # should we use a Marshall sign rule?\n",
    "\"\"\"machine learning\"\"\"\n",
    "MACHINE = \"RBM\"\n",
    "TOTAL_SZ = None            # 0, None ... restriction of Hilbert space\n",
    "DTYPE = np.complex128      #np.float64 #double #np.complex128   # type of weights in neural network\n",
    "SAMPLER = 'exact'       # 'local' = MetropolisLocal, 'exchange' = MetropolisExchange\n",
    "ALPHA = 16               # N_hidden / N_visible\n",
    "ETA   = .005             # learning rate (0.01 usually works)\n",
    "SAMPLES = 1000\n",
    "NUM_ITER = 500\n",
    "num_layers = 2 #2          # number of layers in G-CNN\n",
    "feature_dims = (8,4) #(8,4) #(8,8,8,8) # dimensions of layers in G-CNN\n",
    "\n",
    "OUT_NAME = \"SS-RBM_ops\"+str(SITES)+\"j1=\"+str(JEXCH1) # output file name"
   ]
  },
  {
   "cell_type": "markdown",
   "metadata": {},
   "source": [
    "Lattice and hamiltonian definition: &nbsp; &nbsp; &nbsp; &nbsp; &nbsp; &nbsp; &nbsp; &nbsp; &nbsp; $ H = J_{1} \\sum\\limits_{\\langle i,j \\rangle}^{L} \\vec{\\sigma}_{i} \\cdot \\vec{\\sigma}_{j} + J_{2} \\sum\\limits_{\\langle\\langle i,j \\rangle\\rangle_{SS}}^{L}  \\vec{\\sigma}_{i} \\cdot \\vec{\\sigma}_{j}\\,, $"
   ]
  },
  {
   "cell_type": "code",
   "execution_count": 3,
   "metadata": {},
   "outputs": [],
   "source": [
    "# Define custom graph\n",
    "# edge_colors = []\n",
    "\n",
    "# edge_colors.append([0,1,1])\n",
    "# edge_colors.append([2,3,1])\n",
    "# # # SS 2x2 lattice:\n",
    "# edge_colors.append([1,2,1])\n",
    "# edge_colors.append([0,3,1])\n",
    "# edge_colors.append([0,2,2])\n",
    "# edge_colors.append([1,3,2])\n",
    "# # double bonds\n",
    "# edge_colors.append([0,1,1])\n",
    "# edge_colors.append([2,3,1])\n",
    "# edge_colors.append([1,2,1])\n",
    "# edge_colors.append([0,3,1])\n",
    "\n",
    "# 3-chain:\n",
    "# edge_colors.append([0,1,1])\n",
    "# edge_colors.append([1,2,1])\n",
    "# edge_colors.append([2,0,1])\n",
    "\n",
    "from lattice_and_ops import Lattice\n",
    "lattice = Lattice(SITES)\n",
    "\n",
    "# Define custom graph\n",
    "edge_colors = []\n",
    "for node in range(SITES):\n",
    "    edge_colors.append([node,lattice.rt(node), 1]) #horizontal connections\n",
    "    edge_colors.append([node,lattice.bot(node), 1]) #vertical connections\n",
    "    row, column = lattice.position(node)\n",
    "    if column%2 == 0:\n",
    "        if row%2 == 0:\n",
    "            edge_colors.append([node,lattice.lrt(node),2])\n",
    "        else:\n",
    "            edge_colors.append([node,lattice.llft(node),2])\n",
    "\n",
    "# Define the netket graph object\n",
    "g = nk.graph.Graph(edges=edge_colors) #,n_nodes=3)\n",
    "N = g.n_nodes\n",
    "\n",
    "hilbert = nk.hilbert.Spin(s=.5, N=g.n_nodes, total_sz=TOTAL_SZ)\n",
    "\n",
    "\n",
    "#Sigma^z*Sigma^z interactions\n",
    "sigmaz = [[1, 0], [0, -1]]\n",
    "mszsz = (np.kron(sigmaz, sigmaz)) #=sz*sz\n",
    "#Exchange interactions\n",
    "exchange = np.asarray([[0, 0, 0, 0], [0, 0, 2, 0], [0, 2, 0, 0], [0, 0, 0, 0]]) #=sx*sx+sy*sy = 1/2*(sp*sm+sm*sp)\n",
    "full_spin = mszsz+exchange # = S*S = sx*sx + sy*sy + sz*sz\n",
    "bond_color = [1, 2, 1, 2]"
   ]
  },
  {
   "cell_type": "code",
   "execution_count": 4,
   "metadata": {},
   "outputs": [],
   "source": [
    "# translations = []\n",
    "# for perm in g.automorphisms():\n",
    "#     aperm = np.asarray(perm)\n",
    "#     if True:\n",
    "#     # if (aperm[0],aperm[1]) in ((0,1),(1,0),(2,3),(3,2)): # translations for 2*2 SS model\n",
    "#     # if (aperm[2],aperm[0]) in ((2,0),(3,0),(0,1),(1,2)):#,(2,3,1)): # N = 16, two dimmers with just translation\n",
    "#     # if (aperm[0],aperm[1],aperm[3]) in ((0,1,3),(3,2,0),(2,3,1),(1,0,2)): # N = 16, two dimmers plus second translation option\n",
    "#         translations.append(nk.utils.group._permutation_group.Permutation(aperm))\n",
    "# # print(translations)\n",
    "# translation_group = nk.utils.group._permutation_group.PermutationGroup(translations,degree=N)\n",
    "# # characters = np.array([1,-1,-1,1,1,-1,-1,1],dtype=complex) # in case of just two dimers"
   ]
  },
  {
   "cell_type": "code",
   "execution_count": 5,
   "metadata": {},
   "outputs": [
    {
     "name": "stdout",
     "output_type": "stream",
     "text": [
      "There are 128 full symmetries:\n",
      "Permutation([0, 1, 2, 3, 4, 5, 6, 7]) 1\n",
      "Permutation([0, 1, 2, 3, 6, 5, 4, 7]) -1\n",
      "Permutation([0, 1, 2, 7, 4, 5, 6, 3]) -1\n",
      "Permutation([0, 1, 2, 7, 6, 5, 4, 3]) 1\n",
      "Permutation([0, 3, 2, 1, 4, 7, 6, 5]) 1\n",
      "Permutation([0, 3, 2, 1, 6, 7, 4, 5]) -1\n",
      "Permutation([0, 3, 2, 5, 4, 7, 6, 1]) -1\n",
      "Permutation([0, 3, 2, 5, 6, 7, 4, 1]) 1\n",
      "Permutation([0, 5, 2, 3, 4, 1, 6, 7]) -1\n",
      "Permutation([0, 5, 2, 3, 6, 1, 4, 7]) 1\n",
      "Permutation([0, 5, 2, 7, 4, 1, 6, 3]) 1\n",
      "Permutation([0, 5, 2, 7, 6, 1, 4, 3]) -1\n",
      "Permutation([0, 7, 2, 1, 4, 3, 6, 5]) -1\n",
      "Permutation([0, 7, 2, 1, 6, 3, 4, 5]) 1\n",
      "Permutation([0, 7, 2, 5, 4, 3, 6, 1]) 1\n",
      "Permutation([0, 7, 2, 5, 6, 3, 4, 1]) -1\n",
      "Permutation([1, 0, 5, 4, 3, 2, 7, 6]) 1\n",
      "Permutation([1, 0, 5, 4, 7, 2, 3, 6]) -1\n",
      "Permutation([1, 0, 5, 6, 3, 2, 7, 4]) -1\n",
      "Permutation([1, 0, 5, 6, 7, 2, 3, 4]) 1\n",
      "Permutation([1, 2, 5, 4, 3, 0, 7, 6]) -1\n",
      "Permutation([1, 2, 5, 4, 7, 0, 3, 6]) 1\n",
      "Permutation([1, 2, 5, 6, 3, 0, 7, 4]) 1\n",
      "Permutation([1, 2, 5, 6, 7, 0, 3, 4]) -1\n",
      "Permutation([1, 4, 5, 0, 3, 6, 7, 2]) 1\n",
      "Permutation([1, 4, 5, 0, 7, 6, 3, 2]) -1\n",
      "Permutation([1, 4, 5, 2, 3, 6, 7, 0]) -1\n",
      "Permutation([1, 4, 5, 2, 7, 6, 3, 0]) 1\n",
      "Permutation([1, 6, 5, 0, 3, 4, 7, 2]) -1\n",
      "Permutation([1, 6, 5, 0, 7, 4, 3, 2]) 1\n",
      "Permutation([1, 6, 5, 2, 3, 4, 7, 0]) 1\n",
      "Permutation([1, 6, 5, 2, 7, 4, 3, 0]) -1\n",
      "Permutation([2, 1, 0, 3, 4, 5, 6, 7]) -1\n",
      "Permutation([2, 1, 0, 3, 6, 5, 4, 7]) 1\n",
      "Permutation([2, 1, 0, 7, 4, 5, 6, 3]) 1\n",
      "Permutation([2, 1, 0, 7, 6, 5, 4, 3]) -1\n",
      "Permutation([2, 3, 0, 1, 4, 7, 6, 5]) -1\n",
      "Permutation([2, 3, 0, 1, 6, 7, 4, 5]) 1\n",
      "Permutation([2, 3, 0, 5, 4, 7, 6, 1]) 1\n",
      "Permutation([2, 3, 0, 5, 6, 7, 4, 1]) -1\n",
      "Permutation([2, 5, 0, 3, 4, 1, 6, 7]) 1\n",
      "Permutation([2, 5, 0, 3, 6, 1, 4, 7]) -1\n",
      "Permutation([2, 5, 0, 7, 4, 1, 6, 3]) -1\n",
      "Permutation([2, 5, 0, 7, 6, 1, 4, 3]) 1\n",
      "Permutation([2, 7, 0, 1, 4, 3, 6, 5]) 1\n",
      "Permutation([2, 7, 0, 1, 6, 3, 4, 5]) -1\n",
      "Permutation([2, 7, 0, 5, 4, 3, 6, 1]) -1\n",
      "Permutation([2, 7, 0, 5, 6, 3, 4, 1]) 1\n",
      "Permutation([3, 0, 7, 4, 1, 2, 5, 6]) 1\n",
      "Permutation([3, 0, 7, 4, 5, 2, 1, 6]) -1\n",
      "Permutation([3, 0, 7, 6, 1, 2, 5, 4]) -1\n",
      "Permutation([3, 0, 7, 6, 5, 2, 1, 4]) 1\n",
      "Permutation([3, 2, 7, 4, 1, 0, 5, 6]) -1\n",
      "Permutation([3, 2, 7, 4, 5, 0, 1, 6]) 1\n",
      "Permutation([3, 2, 7, 6, 1, 0, 5, 4]) 1\n",
      "Permutation([3, 2, 7, 6, 5, 0, 1, 4]) -1\n",
      "Permutation([3, 4, 7, 0, 1, 6, 5, 2]) 1\n",
      "Permutation([3, 4, 7, 0, 5, 6, 1, 2]) -1\n",
      "Permutation([3, 4, 7, 2, 1, 6, 5, 0]) -1\n",
      "Permutation([3, 4, 7, 2, 5, 6, 1, 0]) 1\n",
      "Permutation([3, 6, 7, 0, 1, 4, 5, 2]) -1\n",
      "Permutation([3, 6, 7, 0, 5, 4, 1, 2]) 1\n",
      "Permutation([3, 6, 7, 2, 1, 4, 5, 0]) 1\n",
      "Permutation([3, 6, 7, 2, 5, 4, 1, 0]) -1\n",
      "Permutation([4, 1, 6, 3, 0, 5, 2, 7]) 1\n",
      "Permutation([4, 1, 6, 3, 2, 5, 0, 7]) -1\n",
      "Permutation([4, 1, 6, 7, 0, 5, 2, 3]) -1\n",
      "Permutation([4, 1, 6, 7, 2, 5, 0, 3]) 1\n",
      "Permutation([4, 3, 6, 1, 0, 7, 2, 5]) 1\n",
      "Permutation([4, 3, 6, 1, 2, 7, 0, 5]) -1\n",
      "Permutation([4, 3, 6, 5, 0, 7, 2, 1]) -1\n",
      "Permutation([4, 3, 6, 5, 2, 7, 0, 1]) 1\n",
      "Permutation([4, 5, 6, 3, 0, 1, 2, 7]) -1\n",
      "Permutation([4, 5, 6, 3, 2, 1, 0, 7]) 1\n",
      "Permutation([4, 5, 6, 7, 0, 1, 2, 3]) 1\n",
      "Permutation([4, 5, 6, 7, 2, 1, 0, 3]) -1\n",
      "Permutation([4, 7, 6, 1, 0, 3, 2, 5]) -1\n",
      "Permutation([4, 7, 6, 1, 2, 3, 0, 5]) 1\n",
      "Permutation([4, 7, 6, 5, 0, 3, 2, 1]) 1\n",
      "Permutation([4, 7, 6, 5, 2, 3, 0, 1]) -1\n",
      "Permutation([5, 0, 1, 4, 3, 2, 7, 6]) -1\n",
      "Permutation([5, 0, 1, 4, 7, 2, 3, 6]) 1\n",
      "Permutation([5, 0, 1, 6, 3, 2, 7, 4]) 1\n",
      "Permutation([5, 0, 1, 6, 7, 2, 3, 4]) -1\n",
      "Permutation([5, 2, 1, 4, 3, 0, 7, 6]) 1\n",
      "Permutation([5, 2, 1, 4, 7, 0, 3, 6]) -1\n",
      "Permutation([5, 2, 1, 6, 3, 0, 7, 4]) -1\n",
      "Permutation([5, 2, 1, 6, 7, 0, 3, 4]) 1\n",
      "Permutation([5, 4, 1, 0, 3, 6, 7, 2]) -1\n",
      "Permutation([5, 4, 1, 0, 7, 6, 3, 2]) 1\n",
      "Permutation([5, 4, 1, 2, 3, 6, 7, 0]) 1\n",
      "Permutation([5, 4, 1, 2, 7, 6, 3, 0]) -1\n",
      "Permutation([5, 6, 1, 0, 3, 4, 7, 2]) 1\n",
      "Permutation([5, 6, 1, 0, 7, 4, 3, 2]) -1\n",
      "Permutation([5, 6, 1, 2, 3, 4, 7, 0]) -1\n",
      "Permutation([5, 6, 1, 2, 7, 4, 3, 0]) 1\n",
      "Permutation([6, 1, 4, 3, 0, 5, 2, 7]) -1\n",
      "Permutation([6, 1, 4, 3, 2, 5, 0, 7]) 1\n",
      "Permutation([6, 1, 4, 7, 0, 5, 2, 3]) 1\n",
      "Permutation([6, 1, 4, 7, 2, 5, 0, 3]) -1\n",
      "Permutation([6, 3, 4, 1, 0, 7, 2, 5]) -1\n",
      "Permutation([6, 3, 4, 1, 2, 7, 0, 5]) 1\n",
      "Permutation([6, 3, 4, 5, 0, 7, 2, 1]) 1\n",
      "Permutation([6, 3, 4, 5, 2, 7, 0, 1]) -1\n",
      "Permutation([6, 5, 4, 3, 0, 1, 2, 7]) 1\n",
      "Permutation([6, 5, 4, 3, 2, 1, 0, 7]) -1\n",
      "Permutation([6, 5, 4, 7, 0, 1, 2, 3]) -1\n",
      "Permutation([6, 5, 4, 7, 2, 1, 0, 3]) 1\n",
      "Permutation([6, 7, 4, 1, 0, 3, 2, 5]) 1\n",
      "Permutation([6, 7, 4, 1, 2, 3, 0, 5]) -1\n",
      "Permutation([6, 7, 4, 5, 0, 3, 2, 1]) -1\n",
      "Permutation([6, 7, 4, 5, 2, 3, 0, 1]) 1\n",
      "Permutation([7, 0, 3, 4, 1, 2, 5, 6]) -1\n",
      "Permutation([7, 0, 3, 4, 5, 2, 1, 6]) 1\n",
      "Permutation([7, 0, 3, 6, 1, 2, 5, 4]) 1\n",
      "Permutation([7, 0, 3, 6, 5, 2, 1, 4]) -1\n",
      "Permutation([7, 2, 3, 4, 1, 0, 5, 6]) 1\n",
      "Permutation([7, 2, 3, 4, 5, 0, 1, 6]) -1\n",
      "Permutation([7, 2, 3, 6, 1, 0, 5, 4]) -1\n",
      "Permutation([7, 2, 3, 6, 5, 0, 1, 4]) 1\n",
      "Permutation([7, 4, 3, 0, 1, 6, 5, 2]) -1\n",
      "Permutation([7, 4, 3, 0, 5, 6, 1, 2]) 1\n",
      "Permutation([7, 4, 3, 2, 1, 6, 5, 0]) 1\n",
      "Permutation([7, 4, 3, 2, 5, 6, 1, 0]) -1\n",
      "Permutation([7, 6, 3, 0, 1, 4, 5, 2]) 1\n",
      "Permutation([7, 6, 3, 0, 5, 4, 1, 2]) -1\n",
      "Permutation([7, 6, 3, 2, 1, 4, 5, 0]) -1\n",
      "Permutation([7, 6, 3, 2, 5, 4, 1, 0]) 1\n",
      "[ 1.+0.j -1.+0.j -1.+0.j  1.+0.j  1.+0.j -1.+0.j -1.+0.j  1.+0.j -1.+0.j\n",
      "  1.+0.j  1.+0.j -1.+0.j -1.+0.j  1.+0.j  1.+0.j -1.+0.j  1.+0.j -1.+0.j\n",
      " -1.+0.j  1.+0.j -1.+0.j  1.+0.j  1.+0.j -1.+0.j  1.+0.j -1.+0.j -1.+0.j\n",
      "  1.+0.j -1.+0.j  1.+0.j  1.+0.j -1.+0.j -1.+0.j  1.+0.j  1.+0.j -1.+0.j\n",
      " -1.+0.j  1.+0.j  1.+0.j -1.+0.j  1.+0.j -1.+0.j -1.+0.j  1.+0.j  1.+0.j\n",
      " -1.+0.j -1.+0.j  1.+0.j  1.+0.j -1.+0.j -1.+0.j  1.+0.j -1.+0.j  1.+0.j\n",
      "  1.+0.j -1.+0.j  1.+0.j -1.+0.j -1.+0.j  1.+0.j -1.+0.j  1.+0.j  1.+0.j\n",
      " -1.+0.j  1.+0.j -1.+0.j -1.+0.j  1.+0.j  1.+0.j -1.+0.j -1.+0.j  1.+0.j\n",
      " -1.+0.j  1.+0.j  1.+0.j -1.+0.j -1.+0.j  1.+0.j  1.+0.j -1.+0.j -1.+0.j\n",
      "  1.+0.j  1.+0.j -1.+0.j  1.+0.j -1.+0.j -1.+0.j  1.+0.j -1.+0.j  1.+0.j\n",
      "  1.+0.j -1.+0.j  1.+0.j -1.+0.j -1.+0.j  1.+0.j -1.+0.j  1.+0.j  1.+0.j\n",
      " -1.+0.j -1.+0.j  1.+0.j  1.+0.j -1.+0.j  1.+0.j -1.+0.j -1.+0.j  1.+0.j\n",
      "  1.+0.j -1.+0.j -1.+0.j  1.+0.j -1.+0.j  1.+0.j  1.+0.j -1.+0.j  1.+0.j\n",
      " -1.+0.j -1.+0.j  1.+0.j -1.+0.j  1.+0.j  1.+0.j -1.+0.j  1.+0.j -1.+0.j\n",
      " -1.+0.j  1.+0.j]\n",
      "[ 1.+0.j -1.+0.j -1.+0.j  1.+0.j  1.+0.j -1.+0.j -1.+0.j  1.+0.j -1.+0.j\n",
      "  1.+0.j  1.+0.j -1.+0.j -1.+0.j  1.+0.j  1.+0.j -1.+0.j  1.+0.j -1.+0.j\n",
      " -1.+0.j  1.+0.j -1.+0.j  1.+0.j  1.+0.j -1.+0.j  1.+0.j -1.+0.j -1.+0.j\n",
      "  1.+0.j -1.+0.j  1.+0.j  1.+0.j -1.+0.j -1.+0.j  1.+0.j  1.+0.j -1.+0.j\n",
      " -1.+0.j  1.+0.j  1.+0.j -1.+0.j  1.+0.j -1.+0.j -1.+0.j  1.+0.j  1.+0.j\n",
      " -1.+0.j -1.+0.j  1.+0.j  1.+0.j -1.+0.j -1.+0.j  1.+0.j -1.+0.j  1.+0.j\n",
      "  1.+0.j -1.+0.j  1.+0.j -1.+0.j -1.+0.j  1.+0.j -1.+0.j  1.+0.j  1.+0.j\n",
      " -1.+0.j  1.+0.j -1.+0.j -1.+0.j  1.+0.j  1.+0.j -1.+0.j -1.+0.j  1.+0.j\n",
      " -1.+0.j  1.+0.j  1.+0.j -1.+0.j -1.+0.j  1.+0.j  1.+0.j -1.+0.j -1.+0.j\n",
      "  1.+0.j  1.+0.j -1.+0.j  1.+0.j -1.+0.j -1.+0.j  1.+0.j -1.+0.j  1.+0.j\n",
      "  1.+0.j -1.+0.j  1.+0.j -1.+0.j -1.+0.j  1.+0.j -1.+0.j  1.+0.j  1.+0.j\n",
      " -1.+0.j -1.+0.j  1.+0.j  1.+0.j -1.+0.j  1.+0.j -1.+0.j -1.+0.j  1.+0.j\n",
      "  1.+0.j -1.+0.j -1.+0.j  1.+0.j -1.+0.j  1.+0.j  1.+0.j -1.+0.j  1.+0.j\n",
      " -1.+0.j -1.+0.j  1.+0.j -1.+0.j  1.+0.j  1.+0.j -1.+0.j  1.+0.j -1.+0.j\n",
      " -1.+0.j  1.+0.j]\n"
     ]
    }
   ],
   "source": [
    "\n",
    "print(\"There are\", len(g.automorphisms()), \"full symmetries:\")\n",
    "if JEXCH1 < 0.5:\n",
    "    characters = []\n",
    "    from lattice_and_ops import permutation_sign\n",
    "    for perm in g.automorphisms():\n",
    "        print(perm, permutation_sign(np.asarray(perm)))\n",
    "        characters.append(permutation_sign(np.asarray(perm)))\n",
    "    characters_dimer = np.asarray(characters,dtype=complex) #np.array([1,-1,1,-1,-1,1,-1,1], dtype=complex) # 2*2 SS model\n",
    "    characters_dimer_msr = characters_dimer\n",
    "else:\n",
    "    characters_dimer = np.ones((len(g.automorphisms()),), dtype=complex)\n",
    "    characters_dimer_msr = characters_dimer\n",
    "print(characters_dimer)\n",
    "print(characters_dimer_msr)\n",
    "# print(\"There are\", len(translation_group),\"restricted symmetries:\")\n",
    "# print(translation_group)"
   ]
  },
  {
   "cell_type": "code",
   "execution_count": 6,
   "metadata": {},
   "outputs": [
    {
     "name": "stdout",
     "output_type": "stream",
     "text": [
      "PermutationGroup(elems=[Permutation([0, 1, 2, 3, 4, 5, 6, 7]), Permutation([0, 1, 2, 3, 6, 5, 4, 7]), Permutation([0, 1, 2, 7, 4, 5, 6, 3]), Permutation([0, 1, 2, 7, 6, 5, 4, 3]), Permutation([1, 0, 5, 4, 3, 2, 7, 6]), Permutation([1, 0, 5, 4, 7, 2, 3, 6]), Permutation([1, 0, 5, 6, 3, 2, 7, 4]), Permutation([1, 0, 5, 6, 7, 2, 3, 4]), Permutation([2, 3, 0, 1, 4, 7, 6, 5]), Permutation([2, 3, 0, 1, 6, 7, 4, 5]), Permutation([2, 3, 0, 5, 4, 7, 6, 1]), Permutation([2, 3, 0, 5, 6, 7, 4, 1]), Permutation([3, 2, 7, 4, 1, 0, 5, 6]), Permutation([3, 2, 7, 4, 5, 0, 1, 6]), Permutation([3, 2, 7, 6, 1, 0, 5, 4]), Permutation([3, 2, 7, 6, 5, 0, 1, 4])], degree=8)\n",
      "128\n",
      "Permutation([0, 1, 2, 3, 4, 5, 6, 7])\n",
      "Permutation([0, 1, 2, 3, 6, 5, 4, 7])\n",
      "Permutation([0, 1, 2, 7, 4, 5, 6, 3])\n",
      "Permutation([0, 1, 2, 7, 6, 5, 4, 3])\n",
      "Permutation([0, 3, 2, 1, 4, 7, 6, 5])\n",
      "Permutation([0, 3, 2, 1, 6, 7, 4, 5])\n",
      "Permutation([0, 3, 2, 5, 4, 7, 6, 1])\n",
      "Permutation([0, 3, 2, 5, 6, 7, 4, 1])\n",
      "Permutation([0, 5, 2, 3, 4, 1, 6, 7])\n",
      "Permutation([0, 5, 2, 3, 6, 1, 4, 7])\n",
      "Permutation([0, 5, 2, 7, 4, 1, 6, 3])\n",
      "Permutation([0, 5, 2, 7, 6, 1, 4, 3])\n",
      "Permutation([0, 7, 2, 1, 4, 3, 6, 5])\n",
      "Permutation([0, 7, 2, 1, 6, 3, 4, 5])\n",
      "Permutation([0, 7, 2, 5, 4, 3, 6, 1])\n",
      "Permutation([0, 7, 2, 5, 6, 3, 4, 1])\n",
      "Permutation([1, 0, 5, 4, 3, 2, 7, 6])\n",
      "Permutation([1, 0, 5, 4, 7, 2, 3, 6])\n",
      "Permutation([1, 0, 5, 6, 3, 2, 7, 4])\n",
      "Permutation([1, 0, 5, 6, 7, 2, 3, 4])\n",
      "Permutation([1, 2, 5, 4, 3, 0, 7, 6])\n",
      "Permutation([1, 2, 5, 4, 7, 0, 3, 6])\n",
      "Permutation([1, 2, 5, 6, 3, 0, 7, 4])\n",
      "Permutation([1, 2, 5, 6, 7, 0, 3, 4])\n",
      "Permutation([1, 4, 5, 0, 3, 6, 7, 2])\n",
      "Permutation([1, 4, 5, 0, 7, 6, 3, 2])\n",
      "Permutation([1, 4, 5, 2, 3, 6, 7, 0])\n",
      "Permutation([1, 4, 5, 2, 7, 6, 3, 0])\n",
      "Permutation([1, 6, 5, 0, 3, 4, 7, 2])\n",
      "Permutation([1, 6, 5, 0, 7, 4, 3, 2])\n",
      "Permutation([1, 6, 5, 2, 3, 4, 7, 0])\n",
      "Permutation([1, 6, 5, 2, 7, 4, 3, 0])\n",
      "Permutation([2, 1, 0, 3, 4, 5, 6, 7])\n",
      "Permutation([2, 1, 0, 3, 6, 5, 4, 7])\n",
      "Permutation([2, 1, 0, 7, 4, 5, 6, 3])\n",
      "Permutation([2, 1, 0, 7, 6, 5, 4, 3])\n",
      "Permutation([2, 3, 0, 1, 4, 7, 6, 5])\n",
      "Permutation([2, 3, 0, 1, 6, 7, 4, 5])\n",
      "Permutation([2, 3, 0, 5, 4, 7, 6, 1])\n",
      "Permutation([2, 3, 0, 5, 6, 7, 4, 1])\n",
      "Permutation([2, 5, 0, 3, 4, 1, 6, 7])\n",
      "Permutation([2, 5, 0, 3, 6, 1, 4, 7])\n",
      "Permutation([2, 5, 0, 7, 4, 1, 6, 3])\n",
      "Permutation([2, 5, 0, 7, 6, 1, 4, 3])\n",
      "Permutation([2, 7, 0, 1, 4, 3, 6, 5])\n",
      "Permutation([2, 7, 0, 1, 6, 3, 4, 5])\n",
      "Permutation([2, 7, 0, 5, 4, 3, 6, 1])\n",
      "Permutation([2, 7, 0, 5, 6, 3, 4, 1])\n",
      "Permutation([3, 0, 7, 4, 1, 2, 5, 6])\n",
      "Permutation([3, 0, 7, 4, 5, 2, 1, 6])\n",
      "Permutation([3, 0, 7, 6, 1, 2, 5, 4])\n",
      "Permutation([3, 0, 7, 6, 5, 2, 1, 4])\n",
      "Permutation([3, 2, 7, 4, 1, 0, 5, 6])\n",
      "Permutation([3, 2, 7, 4, 5, 0, 1, 6])\n",
      "Permutation([3, 2, 7, 6, 1, 0, 5, 4])\n",
      "Permutation([3, 2, 7, 6, 5, 0, 1, 4])\n",
      "Permutation([3, 4, 7, 0, 1, 6, 5, 2])\n",
      "Permutation([3, 4, 7, 0, 5, 6, 1, 2])\n",
      "Permutation([3, 4, 7, 2, 1, 6, 5, 0])\n",
      "Permutation([3, 4, 7, 2, 5, 6, 1, 0])\n",
      "Permutation([3, 6, 7, 0, 1, 4, 5, 2])\n",
      "Permutation([3, 6, 7, 0, 5, 4, 1, 2])\n",
      "Permutation([3, 6, 7, 2, 1, 4, 5, 0])\n",
      "Permutation([3, 6, 7, 2, 5, 4, 1, 0])\n",
      "Permutation([4, 1, 6, 3, 0, 5, 2, 7])\n",
      "Permutation([4, 1, 6, 3, 2, 5, 0, 7])\n",
      "Permutation([4, 1, 6, 7, 0, 5, 2, 3])\n",
      "Permutation([4, 1, 6, 7, 2, 5, 0, 3])\n",
      "Permutation([4, 3, 6, 1, 0, 7, 2, 5])\n",
      "Permutation([4, 3, 6, 1, 2, 7, 0, 5])\n",
      "Permutation([4, 3, 6, 5, 0, 7, 2, 1])\n",
      "Permutation([4, 3, 6, 5, 2, 7, 0, 1])\n",
      "Permutation([4, 5, 6, 3, 0, 1, 2, 7])\n",
      "Permutation([4, 5, 6, 3, 2, 1, 0, 7])\n",
      "Permutation([4, 5, 6, 7, 0, 1, 2, 3])\n",
      "Permutation([4, 5, 6, 7, 2, 1, 0, 3])\n",
      "Permutation([4, 7, 6, 1, 0, 3, 2, 5])\n",
      "Permutation([4, 7, 6, 1, 2, 3, 0, 5])\n",
      "Permutation([4, 7, 6, 5, 0, 3, 2, 1])\n",
      "Permutation([4, 7, 6, 5, 2, 3, 0, 1])\n",
      "Permutation([5, 0, 1, 4, 3, 2, 7, 6])\n",
      "Permutation([5, 0, 1, 4, 7, 2, 3, 6])\n",
      "Permutation([5, 0, 1, 6, 3, 2, 7, 4])\n",
      "Permutation([5, 0, 1, 6, 7, 2, 3, 4])\n",
      "Permutation([5, 2, 1, 4, 3, 0, 7, 6])\n",
      "Permutation([5, 2, 1, 4, 7, 0, 3, 6])\n",
      "Permutation([5, 2, 1, 6, 3, 0, 7, 4])\n",
      "Permutation([5, 2, 1, 6, 7, 0, 3, 4])\n",
      "Permutation([5, 4, 1, 0, 3, 6, 7, 2])\n",
      "Permutation([5, 4, 1, 0, 7, 6, 3, 2])\n",
      "Permutation([5, 4, 1, 2, 3, 6, 7, 0])\n",
      "Permutation([5, 4, 1, 2, 7, 6, 3, 0])\n",
      "Permutation([5, 6, 1, 0, 3, 4, 7, 2])\n",
      "Permutation([5, 6, 1, 0, 7, 4, 3, 2])\n",
      "Permutation([5, 6, 1, 2, 3, 4, 7, 0])\n",
      "Permutation([5, 6, 1, 2, 7, 4, 3, 0])\n",
      "Permutation([6, 1, 4, 3, 0, 5, 2, 7])\n",
      "Permutation([6, 1, 4, 3, 2, 5, 0, 7])\n",
      "Permutation([6, 1, 4, 7, 0, 5, 2, 3])\n",
      "Permutation([6, 1, 4, 7, 2, 5, 0, 3])\n",
      "Permutation([6, 3, 4, 1, 0, 7, 2, 5])\n",
      "Permutation([6, 3, 4, 1, 2, 7, 0, 5])\n",
      "Permutation([6, 3, 4, 5, 0, 7, 2, 1])\n",
      "Permutation([6, 3, 4, 5, 2, 7, 0, 1])\n",
      "Permutation([6, 5, 4, 3, 0, 1, 2, 7])\n",
      "Permutation([6, 5, 4, 3, 2, 1, 0, 7])\n",
      "Permutation([6, 5, 4, 7, 0, 1, 2, 3])\n",
      "Permutation([6, 5, 4, 7, 2, 1, 0, 3])\n",
      "Permutation([6, 7, 4, 1, 0, 3, 2, 5])\n",
      "Permutation([6, 7, 4, 1, 2, 3, 0, 5])\n",
      "Permutation([6, 7, 4, 5, 0, 3, 2, 1])\n",
      "Permutation([6, 7, 4, 5, 2, 3, 0, 1])\n",
      "Permutation([7, 0, 3, 4, 1, 2, 5, 6])\n",
      "Permutation([7, 0, 3, 4, 5, 2, 1, 6])\n",
      "Permutation([7, 0, 3, 6, 1, 2, 5, 4])\n",
      "Permutation([7, 0, 3, 6, 5, 2, 1, 4])\n",
      "Permutation([7, 2, 3, 4, 1, 0, 5, 6])\n",
      "Permutation([7, 2, 3, 4, 5, 0, 1, 6])\n",
      "Permutation([7, 2, 3, 6, 1, 0, 5, 4])\n",
      "Permutation([7, 2, 3, 6, 5, 0, 1, 4])\n",
      "Permutation([7, 4, 3, 0, 1, 6, 5, 2])\n",
      "Permutation([7, 4, 3, 0, 5, 6, 1, 2])\n",
      "Permutation([7, 4, 3, 2, 1, 6, 5, 0])\n",
      "Permutation([7, 4, 3, 2, 5, 6, 1, 0])\n",
      "Permutation([7, 6, 3, 0, 1, 4, 5, 2])\n",
      "Permutation([7, 6, 3, 0, 5, 4, 1, 2])\n",
      "Permutation([7, 6, 3, 2, 1, 4, 5, 0])\n",
      "Permutation([7, 6, 3, 2, 5, 4, 1, 0])\n"
     ]
    }
   ],
   "source": [
    "translations = []\n",
    "for perm in g.automorphisms():\n",
    "    aperm = np.asarray(perm)\n",
    "    if (aperm[0],aperm[1]) in ((0,1),(1,0),(2,3),(3,2)):\n",
    "    # if (aperm[0],aperm[1],aperm[3]) in ((0,1,3),):#(2,3,1),(8,9,11),(10,11,9)): # N = 16\n",
    "    # if (aperm[0],aperm[1],aperm[2],aperm[3]) in ((4,7,6,5),): # N = 8\n",
    "        translations.append(nk.utils.group._permutation_group.Permutation(aperm))\n",
    "# print(translations)\n",
    "translation_group = nk.utils.group._permutation_group.PermutationGroup(translations,degree=SITES)\n",
    "print(translation_group)\n",
    "print(len(g.automorphisms()))\n",
    "for perm in g.automorphisms():\n",
    "    print(perm)"
   ]
  },
  {
   "cell_type": "markdown",
   "metadata": {},
   "source": [
    "## Hamoltonian"
   ]
  },
  {
   "cell_type": "code",
   "execution_count": 7,
   "metadata": {},
   "outputs": [],
   "source": [
    "from lattice_and_ops import HamOps\n",
    "ho = HamOps()\n",
    "ha = nk.operator.GraphOperator(hilbert, graph=g, bond_ops=ho.bond_operator(JEXCH1,JEXCH2, use_MSR=False), bond_ops_colors=ho.bond_color)\n",
    "ha_MSR = nk.operator.GraphOperator(hilbert, graph=g, bond_ops=ho.bond_operator(JEXCH1,JEXCH2, use_MSR=True), bond_ops_colors=ho.bond_color)\n"
   ]
  },
  {
   "cell_type": "markdown",
   "metadata": {},
   "source": [
    "## Exact diagonalization"
   ]
  },
  {
   "cell_type": "code",
   "execution_count": 8,
   "metadata": {},
   "outputs": [
    {
     "name": "stdout",
     "output_type": "stream",
     "text": [
      "Ground state energy: -11.999999999999998 \n",
      "It took  3.38 s = 0.06 min\n"
     ]
    }
   ],
   "source": [
    "if g.n_nodes < 20:\n",
    "    start = time.time()\n",
    "    if g.n_nodes < 15:\n",
    "        evals, eigvects = nk.exact.full_ed(ha, compute_eigenvectors=True)\n",
    "    else:\n",
    "        evals, eigvects = nk.exact.lanczos_ed(ha, k=3, compute_eigenvectors=True)\n",
    "    end = time.time()\n",
    "    diag_time = end - start\n",
    "    print(\"Ground state energy:\",evals[0], \"\\nIt took \", round(diag_time,2), \"s =\", round((diag_time)/60,2),\"min\")\n",
    "else:\n",
    "    print(\"System is too large for exact diagonalization. Setting exact_ground_energy = 0 (which is wrong)\")\n",
    "    evals = [0,0,0]\n",
    "    eigvects = None \n",
    "exact_ground_energy = evals[0]\n",
    "# -36.2460684609957 "
   ]
  },
  {
   "cell_type": "markdown",
   "metadata": {},
   "source": [
    "## RBM\n",
    "```"
   ]
  },
  {
   "cell_type": "code",
   "execution_count": 9,
   "metadata": {},
   "outputs": [],
   "source": [
    "if MACHINE == \"ModPhase\":\n",
    "    # A linear schedule varies the learning rate from 0 to 0.01 across 600 steps.\n",
    "    modulus_schedule=optax.linear_schedule(0,0.01,NUM_ITER)\n",
    "    modulus_schedule_MSR=optax.linear_schedule(0,0.01,NUM_ITER)\n",
    "\n",
    "    # The phase starts with a larger learning rate and then is decreased.\n",
    "    phase_schedule=optax.linear_schedule(0.05,0.01,NUM_ITER)\n",
    "    phase_schedule_MSR=optax.linear_schedule(0.05,0.01,NUM_ITER)\n",
    "\n",
    "    # Combine the linear schedule with SGD\n",
    "    optm=optax.sgd(modulus_schedule)\n",
    "    optp=optax.sgd(phase_schedule)\n",
    "    optm_MSR=optax.sgd(modulus_schedule_MSR)\n",
    "    optp_MSR=optax.sgd(phase_schedule_MSR)\n",
    "\n",
    "    # The multi-transform optimizer uses different optimisers for different parts of the\n",
    "    # parameters.\n",
    "    optimizer = optax.multi_transform({'o1': optm, 'o2': optp}, flax.core.freeze({\"Dense_0\":\"o1\", \"Dense_1\":\"o2\"}))\n",
    "    optimizer_MSR = optax.multi_transform({'o1': optm_MSR, 'o2': optp_MSR}, flax.core.freeze({\"Dense_0\":\"o1\", \"Dense_1\":\"o2\"}))\n",
    "else:\n",
    "    optimizer = nk.optimizer.Sgd(learning_rate=ETA)\n",
    "    optimizer_MSR = nk.optimizer.Sgd(learning_rate=ETA)"
   ]
  },
  {
   "cell_type": "code",
   "execution_count": 10,
   "metadata": {},
   "outputs": [
    {
     "name": "stderr",
     "output_type": "stream",
     "text": [
      "WARNING:absl:No GPU/TPU found, falling back to CPU. (Set TF_CPP_MIN_LOG_LEVEL=0 and rerun for more info.)\n"
     ]
    }
   ],
   "source": [
    "#definice modelu, sampleru atd.\n",
    "if MACHINE == \"RBM\":\n",
    "    machine =     nk.models.RBM(dtype=DTYPE, alpha=ALPHA)#, use_visible_bias=False) \n",
    "    machine_MSR = nk.models.RBM(dtype=DTYPE, alpha=ALPHA)#, use_visible_bias=False)\n",
    "elif MACHINE == \"RBMModPhase\":\n",
    "    machine = nk.models.RBMModPhase(alpha=ALPHA, use_hidden_bias=True, dtype=DTYPE)\n",
    "    machine_MSR = nk.models.RBMModPhase(alpha=ALPHA, use_hidden_bias=True, dtype=DTYPE)\n",
    "elif MACHINE == \"GCNN\":\n",
    "    machine     = nk.models.GCNN(symmetries=g.automorphisms(), dtype=DTYPE, layers=num_layers, features=feature_dims, characters=characters_dimer)\n",
    "    machine_MSR = nk.models.GCNN(symmetries=g.automorphisms(), dtype=DTYPE, layers=num_layers, features=feature_dims, characters=characters_dimer_msr)\n",
    "elif MACHINE == \"RBMSymm\":\n",
    "    machine =     nk.models.RBMSymm(g.automorphisms(), dtype=DTYPE, alpha=ALPHA)#, use_visible_bias=False) \n",
    "    machine_MSR = nk.models.RBMSymm(g.automorphisms(), dtype=DTYPE, alpha=ALPHA)#, use_visible_bias=False)\n",
    "elif MACHINE == \"RBMSymm_transl\":\n",
    "    machine =     nk.models.RBMSymm(translation_group, dtype=DTYPE, alpha=ALPHA)#, use_visible_bias=False) \n",
    "    machine_MSR = nk.models.RBMSymm(translation_group, dtype=DTYPE, alpha=ALPHA)#, use_visible_bias=False)\n",
    "elif MACHINE == \"Jastrow\":\n",
    "    from lattice_and_ops import Jastrow\n",
    "    machine = Jastrow()\n",
    "    machine_MSR = Jastrow()\n",
    "else:\n",
    "    raise Exception(str(\"undefined MACHINE: \")+str(MACHINE))\n",
    "\n",
    "# Meropolis Exchange Sampling\n",
    "if SAMPLER == 'local':\n",
    "    sampler = nk.sampler.MetropolisLocal(hilbert=hilbert)\n",
    "    sampler_MSR = nk.sampler.MetropolisLocal(hilbert=hilbert)\n",
    "elif SAMPLER == 'exact':\n",
    "    sampler = nk.sampler.ExactSampler(hilbert=hilbert)\n",
    "    sampler_MSR = nk.sampler.ExactSampler(hilbert=hilbert)\n",
    "else:\n",
    "    sampler = nk.sampler.MetropolisExchange(hilbert=hilbert, graph=g)\n",
    "    sampler_MSR = nk.sampler.MetropolisExchange(hilbert=hilbert, graph=g)\n",
    "    if SAMPLER != 'exchange':\n",
    "        print(\"Warning! Undefined fq.SAMPLER:\", SAMPLER, \", dafaulting to MetropolisExchange fq.SAMPLER\")\n",
    "\n",
    "\n",
    "# Stochastic Reconfiguration\n",
    "sr  = nk.optimizer.SR(diag_shift=0.01)\n",
    "sr_MSR  = nk.optimizer.SR(diag_shift=0.01)\n",
    "\n",
    "# The variational state (former name: nk.variational.MCState)\n",
    "vss = nk.vqs.MCState(sampler, machine, n_samples=SAMPLES)\n",
    "vs_MSR  = nk.vqs.MCState(sampler_MSR, machine_MSR, n_samples=SAMPLES)\n",
    "vss.init_parameters(jax.nn.initializers.normal(stddev=0.001))\n",
    "vs_MSR.init_parameters(jax.nn.initializers.normal(stddev=0.001))\n",
    "\n",
    "\n",
    "gs_normal = nk.VMC(hamiltonian=ha ,optimizer=optimizer,preconditioner=sr,variational_state=vss)               # 0 ... symmetric\n",
    "gs_MSR = nk.VMC(hamiltonian=ha_MSR ,optimizer=optimizer_MSR,preconditioner=sr_MSR,variational_state=vs_MSR)   # 1 ... symmetric+MSR"
   ]
  },
  {
   "cell_type": "code",
   "execution_count": 11,
   "metadata": {},
   "outputs": [
    {
     "data": {
      "text/plain": [
       "1160"
      ]
     },
     "execution_count": 11,
     "metadata": {},
     "output_type": "execute_result"
    }
   ],
   "source": [
    "vss.n_parameters"
   ]
  },
  {
   "cell_type": "markdown",
   "metadata": {},
   "source": [
    "# Calculation"
   ]
  },
  {
   "cell_type": "code",
   "execution_count": 19,
   "metadata": {},
   "outputs": [
    {
     "name": "stdout",
     "output_type": "stream",
     "text": [
      "J_1 = 0.3\n",
      "Expected exact energy: -11.999999999999998\n"
     ]
    },
    {
     "name": "stderr",
     "output_type": "stream",
     "text": [
      "100%|██████████| 500/500 [00:46<00:00, 10.68it/s, Energy=-11.9879+0.0007j ± 0.0067 [σ²=0.0491]]            "
     ]
    },
    {
     "name": "stdout",
     "output_type": "stream",
     "text": [
      "The type 0 of RBM calculation took 0.7818940838177999 min\n"
     ]
    },
    {
     "name": "stderr",
     "output_type": "stream",
     "text": [
      "\n"
     ]
    }
   ],
   "source": [
    "no_of_runs = 1 #2 ... bude se pocitat i druhý způsob (za použití MSR)\n",
    "use_MSR = 0 # in case of one run\n",
    "NUM_ITER = 500\n",
    "print(\"J_1 =\", JEXCH1)\n",
    "if exact_ground_energy != 0:\n",
    "    print(\"Expected exact energy:\", exact_ground_energy)\n",
    "for i,gs in enumerate([gs_normal,gs_MSR][use_MSR:use_MSR+no_of_runs]):\n",
    "    start = time.time()\n",
    "    gs.run(out=OUT_NAME+str(i), n_iter=int(NUM_ITER))#, obs={'symmetry':P(0,1)})\n",
    "    end = time.time()\n",
    "    print(\"The type {} of RBM calculation took {} min\".format(i, (end-start)/60))\n"
   ]
  },
  {
   "cell_type": "code",
   "execution_count": 13,
   "metadata": {},
   "outputs": [
    {
     "name": "stdout",
     "output_type": "stream",
     "text": [
      "Trained RBM without MSR:\n",
      "m_d^2 = 0.99847+0.00000j ± 0.00066 [σ²=0.00050]\n",
      "m_p = -0.030-0.001j ± 0.013 [σ²=0.246]\n",
      "m_s^2 = 0.00060+0.00002j ± 0.00026 [σ²=0.00008]\n",
      "m_s^2 = 0.00053-0.00000j ± 0.00023 [σ²=0.00006] <--- no MSR!!\n",
      "Trained RBM with MSR:\n",
      "m_d^2 = -0.33326+0.00003j ± 0.00010 [σ²=0.00001]\n",
      "m_p = 0.016-0.000j ± 0.044 [σ²=1.619]\n",
      "m_s^2 = 1.49773-0.00005j ± 0.00073 [σ²=0.00082]\n",
      "m_s^2 = 0.503+0.000j ± 0.013 [σ²=0.171] <--- no MSR!!\n"
     ]
    }
   ],
   "source": [
    "from lattice_and_ops import Operators, Lattice\n",
    "ops = Operators(lattice,hilbert,mszsz,exchange)\n",
    "for i,gs in enumerate([gs_normal,gs_MSR][use_MSR:use_MSR+no_of_runs]):\n",
    "    print(\"Trained RBM with MSR:\" if i else \"Trained RBM without MSR:\")\n",
    "    print(\"m_d^2 =\", gs.estimate(ops.m_dimer_op))\n",
    "    print(\"m_p =\", gs.estimate(ops.m_plaquette_op_MSR))\n",
    "    print(\"m_s^2 =\", gs.estimate(ops.m_s2_op_MSR))\n",
    "    print(\"m_s^2 =\", gs.estimate(ops.m_s2_op), \"<--- no MSR!!\")"
   ]
  },
  {
   "cell_type": "code",
   "execution_count": 14,
   "metadata": {},
   "outputs": [
    {
     "name": "stdout",
     "output_type": "stream",
     "text": [
      "2.000e+00+0.000e+00j ± nan [σ²=0.000e+00]\n"
     ]
    }
   ],
   "source": [
    "print(gs_normal.estimate(2*nk.operator.LocalOperator(hilbert,operators=[[1,0],[0,1]],acting_on=[0])))"
   ]
  },
  {
   "cell_type": "markdown",
   "metadata": {},
   "source": [
    "## Energy"
   ]
  },
  {
   "cell_type": "code",
   "execution_count": 15,
   "metadata": {},
   "outputs": [],
   "source": [
    "threshold_energy = 0.995*exact_ground_energy\n",
    "data = []\n",
    "for i in range(no_of_runs):\n",
    "    data.append(json.load(open(OUT_NAME+str(i)+\".log\")))\n",
    "if type(data[0][\"Energy\"][\"Mean\"]) == dict: #DTYPE in (np.complex128, np.complex64):#, np.float64):# and False:\n",
    "    energy_convergence = [data[i][\"Energy\"][\"Mean\"][\"real\"] for i in range(no_of_runs)]\n",
    "else:\n",
    "    energy_convergence = [data[i][\"Energy\"][\"Mean\"] for i in range(no_of_runs)]\n",
    "steps_until_convergence = [next((i for i,v in enumerate(energy_convergence[j]) if v < threshold_energy), -1) for j in range(no_of_runs)]"
   ]
  },
  {
   "cell_type": "code",
   "execution_count": 16,
   "metadata": {},
   "outputs": [
    {
     "name": "stdout",
     "output_type": "stream",
     "text": [
      "  0.30000     -11.97744      0.99847     -0.02816      0.00053    1000.00000    500.00000    399.00000\n"
     ]
    }
   ],
   "source": [
    "print(\"{:9.5f}     {:9.5f}    {:9.5f}    {:9.5f}    {:9.5f}    {:9.5f}    {:9.5f}    {:9.5f}\".format(JEXCH1, gs_normal.energy.mean.real, gs_normal.estimate(ops.m_dimer_op).mean.real, gs_normal.estimate(ops.m_plaquette_op).mean.real, gs_normal.estimate(ops.m_s2_op).mean.real, SAMPLES, NUM_ITER, steps_until_convergence[0], sep='    '))"
   ]
  },
  {
   "cell_type": "code",
   "execution_count": 26,
   "metadata": {},
   "outputs": [],
   "source": [
    "# exact energy line\n",
    "figure = go.Figure(\n",
    "    data=[go.Scatter(x=(0,2*NUM_ITER),y=(exact_ground_energy,exact_ground_energy),mode=\"lines\",line=go.scatter.Line(color=\"#000000\",width=1), name=\"exact energy\"),go.Scatter(x=(0,2*NUM_ITER),y=(.995*exact_ground_energy,.995*exact_ground_energy),mode=\"lines\",line=go.scatter.Line(color=\"#000000\",width=1), name=\"99.5 % of exact energy\")], \n",
    "    layout=go.Layout(template=\"simple_white\",\n",
    "        xaxis=dict(title=\"Iteration\", mirror=True, showline=True),\n",
    "        yaxis=dict(title=\"Energy\", mirror=True, showline=True),\n",
    "        title=(\"<b>\"+\"S-S\"+\" model </b>, L=\"+str(SITES)+\", J2 =\"+str(JEXCH2)+ \", J1 =\"+str(JEXCH1)+\" , η=\"+str(ETA)+\", α=\"+str(ALPHA)+\", samples=\"+str(SAMPLES))))"
   ]
  },
  {
   "cell_type": "code",
   "execution_count": 27,
   "metadata": {},
   "outputs": [
    {
     "data": {
      "application/vnd.plotly.v1+json": {
       "config": {
        "plotlyServerURL": "https://plot.ly"
       },
       "data": [
        {
         "line": {
          "color": "#000000",
          "width": 1
         },
         "mode": "lines",
         "name": "exact energy",
         "type": "scatter",
         "x": [
          0,
          1000
         ],
         "y": [
          -11.999999999999998,
          -11.999999999999998
         ]
        },
        {
         "line": {
          "color": "#000000",
          "width": 1
         },
         "mode": "lines",
         "name": "99.5 % of exact energy",
         "type": "scatter",
         "x": [
          0,
          1000
         ],
         "y": [
          -11.939999999999998,
          -11.939999999999998
         ]
        },
        {
         "name": "normal basis",
         "type": "scatter",
         "x": [
          500,
          501,
          502,
          503,
          504,
          505,
          506,
          507,
          508,
          509,
          510,
          511,
          512,
          513,
          514,
          515,
          516,
          517,
          518,
          519,
          520,
          521,
          522,
          523,
          524,
          525,
          526,
          527,
          528,
          529,
          530,
          531,
          532,
          533,
          534,
          535,
          536,
          537,
          538,
          539,
          540,
          541,
          542,
          543,
          544,
          545,
          546,
          547,
          548,
          549,
          550,
          551,
          552,
          553,
          554,
          555,
          556,
          557,
          558,
          559,
          560,
          561,
          562,
          563,
          564,
          565,
          566,
          567,
          568,
          569,
          570,
          571,
          572,
          573,
          574,
          575,
          576,
          577,
          578,
          579,
          580,
          581,
          582,
          583,
          584,
          585,
          586,
          587,
          588,
          589,
          590,
          591,
          592,
          593,
          594,
          595,
          596,
          597,
          598,
          599,
          600,
          601,
          602,
          603,
          604,
          605,
          606,
          607,
          608,
          609,
          610,
          611,
          612,
          613,
          614,
          615,
          616,
          617,
          618,
          619,
          620,
          621,
          622,
          623,
          624,
          625,
          626,
          627,
          628,
          629,
          630,
          631,
          632,
          633,
          634,
          635,
          636,
          637,
          638,
          639,
          640,
          641,
          642,
          643,
          644,
          645,
          646,
          647,
          648,
          649,
          650,
          651,
          652,
          653,
          654,
          655,
          656,
          657,
          658,
          659,
          660,
          661,
          662,
          663,
          664,
          665,
          666,
          667,
          668,
          669,
          670,
          671,
          672,
          673,
          674,
          675,
          676,
          677,
          678,
          679,
          680,
          681,
          682,
          683,
          684,
          685,
          686,
          687,
          688,
          689,
          690,
          691,
          692,
          693,
          694,
          695,
          696,
          697,
          698,
          699,
          700,
          701,
          702,
          703,
          704,
          705,
          706,
          707,
          708,
          709,
          710,
          711,
          712,
          713,
          714,
          715,
          716,
          717,
          718,
          719,
          720,
          721,
          722,
          723,
          724,
          725,
          726,
          727,
          728,
          729,
          730,
          731,
          732,
          733,
          734,
          735,
          736,
          737,
          738,
          739,
          740,
          741,
          742,
          743,
          744,
          745,
          746,
          747,
          748,
          749,
          750,
          751,
          752,
          753,
          754,
          755,
          756,
          757,
          758,
          759,
          760,
          761,
          762,
          763,
          764,
          765,
          766,
          767,
          768,
          769,
          770,
          771,
          772,
          773,
          774,
          775,
          776,
          777,
          778,
          779,
          780,
          781,
          782,
          783,
          784,
          785,
          786,
          787,
          788,
          789,
          790,
          791,
          792,
          793,
          794,
          795,
          796,
          797,
          798,
          799,
          800,
          801,
          802,
          803,
          804,
          805,
          806,
          807,
          808,
          809,
          810,
          811,
          812,
          813,
          814,
          815,
          816,
          817,
          818,
          819,
          820,
          821,
          822,
          823,
          824,
          825,
          826,
          827,
          828,
          829,
          830,
          831,
          832,
          833,
          834,
          835,
          836,
          837,
          838,
          839,
          840,
          841,
          842,
          843,
          844,
          845,
          846,
          847,
          848,
          849,
          850,
          851,
          852,
          853,
          854,
          855,
          856,
          857,
          858,
          859,
          860,
          861,
          862,
          863,
          864,
          865,
          866,
          867,
          868,
          869,
          870,
          871,
          872,
          873,
          874,
          875,
          876,
          877,
          878,
          879,
          880,
          881,
          882,
          883,
          884,
          885,
          886,
          887,
          888,
          889,
          890,
          891,
          892,
          893,
          894,
          895,
          896,
          897,
          898,
          899,
          900,
          901,
          902,
          903,
          904,
          905,
          906,
          907,
          908,
          909,
          910,
          911,
          912,
          913,
          914,
          915,
          916,
          917,
          918,
          919,
          920,
          921,
          922,
          923,
          924,
          925,
          926,
          927,
          928,
          929,
          930,
          931,
          932,
          933,
          934,
          935,
          936,
          937,
          938,
          939,
          940,
          941,
          942,
          943,
          944,
          945,
          946,
          947,
          948,
          949,
          950,
          951,
          952,
          953,
          954,
          955,
          956,
          957,
          958,
          959,
          960,
          961,
          962,
          963,
          964,
          965,
          966,
          967,
          968,
          969,
          970,
          971,
          972,
          973,
          974,
          975,
          976,
          977,
          978,
          979,
          980,
          981,
          982,
          983,
          984,
          985,
          986,
          987,
          988,
          989,
          990,
          991,
          992,
          993,
          994,
          995,
          996,
          997,
          998,
          999
         ],
         "y": [
          -11.996336401908875,
          -11.990325837354128,
          -11.98300965023683,
          -11.987683947173112,
          -11.98727021830152,
          -11.990811699563771,
          -11.986536404963429,
          -11.987109781104822,
          -11.995156367727068,
          -11.971108652215895,
          -11.988188865998533,
          -11.996475750586619,
          -11.99033676855749,
          -11.990014523515487,
          -11.976336578858266,
          -11.987779552403145,
          -11.985775211378602,
          -11.981763922675546,
          -11.995563816940484,
          -11.983203048898512,
          -11.97571713172144,
          -11.975140206285875,
          -11.980195253662034,
          -11.99236554800065,
          -11.982365739425155,
          -11.993228032252665,
          -11.975261329817828,
          -11.96765939889548,
          -11.983229225551069,
          -11.982669020165272,
          -11.988791869300826,
          -11.98354733824617,
          -11.969494843558861,
          -11.988130814796612,
          -11.992204269581606,
          -11.98570573806159,
          -12.000098712370596,
          -11.98128777789438,
          -11.967806706087517,
          -11.988068515891003,
          -11.996754439740561,
          -11.992075349277297,
          -11.988780996814063,
          -11.975523096603123,
          -11.98606150344499,
          -11.99253011551806,
          -11.99653894345871,
          -11.979369560030381,
          -12.000133017026078,
          -11.979565929849711,
          -11.996466635704492,
          -11.990341011147219,
          -11.992312259236524,
          -11.996840396997479,
          -11.9957823464996,
          -11.985244508905334,
          -12.000364267960487,
          -11.99136895826921,
          -11.981606767757057,
          -11.996452249726184,
          -11.987645149097503,
          -11.987258933496118,
          -11.992196596647432,
          -11.995103504417767,
          -11.992501644354807,
          -11.99514463330012,
          -11.979952838620084,
          -11.98739245173566,
          -11.980618704878228,
          -11.987940216654273,
          -11.98596726339438,
          -11.981809266205401,
          -11.97895997933672,
          -11.984360052282339,
          -11.98675109052459,
          -11.980416063970212,
          -11.99347696771208,
          -11.99250328580532,
          -11.995702729182527,
          -11.987774891665252,
          -11.99197874471755,
          -11.987660934037553,
          -11.987332356086549,
          -11.995708452252043,
          -11.988864678093794,
          -11.984664472261272,
          -11.98873695059069,
          -11.993027345526288,
          -11.988519598713282,
          -11.991999229120228,
          -11.99099891372078,
          -11.995505665527936,
          -11.991034862519644,
          -11.98500883531778,
          -11.991594918404639,
          -11.979611195801857,
          -11.996365079244926,
          -11.983241479523969,
          -11.984495169849856,
          -11.995541197569464,
          -11.996067972082727,
          -11.991661310323776,
          -11.99237399475904,
          -11.99597374709561,
          -11.995853846619971,
          -11.980194211798823,
          -11.991602870697449,
          -11.983343957484184,
          -11.996664585627519,
          -11.995579472944302,
          -11.978887827722712,
          -11.990684263847786,
          -11.996294402990836,
          -11.986516553692143,
          -11.98763970209226,
          -11.987800233054932,
          -11.992043560726001,
          -11.984547955475122,
          -11.987963209665715,
          -11.995273421173785,
          -11.995994472884872,
          -11.992220309607951,
          -11.995766330272234,
          -11.986871638116185,
          -11.991523202428398,
          -11.988243031374603,
          -11.981626197151778,
          -11.99564510914535,
          -11.996612016815707,
          -11.977243809665021,
          -11.995345311059843,
          -11.995728859287969,
          -11.996834755170859,
          -11.975050383106682,
          -11.996462195844938,
          -11.984751020193956,
          -11.99620477443127,
          -11.98738109604249,
          -11.987251601787433,
          -11.995841248419781,
          -11.996620501512194,
          -11.991424554146079,
          -11.983631359770113,
          -11.996454080799467,
          -11.99311086069942,
          -11.996073885517855,
          -11.991746198898143,
          -11.995031196010709,
          -12.000048035642,
          -11.991647372709936,
          -12.000036231069185,
          -11.991711840058167,
          -11.979771689591537,
          -11.995535487173324,
          -11.99276523162515,
          -11.99991284629926,
          -11.991031915134592,
          -11.99108084096488,
          -11.987350023945638,
          -11.999994883939202,
          -11.992698132088124,
          -11.995671898448428,
          -11.987336761322435,
          -11.996454222888492,
          -11.995817341336965,
          -11.999875445349055,
          -11.987645561433611,
          -11.983355156910747,
          -12.000023742345666,
          -11.992572647176752,
          -11.995831125677539,
          -11.995269917363032,
          -11.996435603558865,
          -11.99188813882385,
          -11.967983738261852,
          -11.995976756252329,
          -12.000024877641241,
          -11.996050266380479,
          -11.996088242011101,
          -11.995368849523265,
          -11.991672236094287,
          -12.000005643619975,
          -11.996247401589203,
          -11.996027845171437,
          -11.991797147891672,
          -11.995871281077042,
          -11.991548967587567,
          -11.992043510582219,
          -11.992386504320745,
          -11.98262002328082,
          -12.000014799380839,
          -11.992845652533594,
          -11.995201655522845,
          -11.97788392058902,
          -11.992135629979954,
          -11.992365691224817,
          -11.987922804548907,
          -11.988957076335314,
          -11.987320821312634,
          -11.992299931545274,
          -11.995243389344356,
          -11.978330261700547,
          -11.996209795065989,
          -11.996292759533704,
          -11.99634519171825,
          -11.995423488525235,
          -12.00003171974334,
          -11.993667271612198,
          -11.99586415834116,
          -11.999996886194587,
          -11.992280011639387,
          -11.992648032235293,
          -11.99596504190501,
          -11.990893848699784,
          -11.992091013003293,
          -11.991959545107603,
          -11.98838837677585,
          -11.996348365652374,
          -11.99164694275007,
          -11.996200200952265,
          -11.99074558713514,
          -11.984126005083237,
          -12.000028270800119,
          -11.991258955661031,
          -11.991786331958673,
          -12.000002489198906,
          -11.988371616962729,
          -11.999997384260348,
          -11.996586088977226,
          -11.996003474255314,
          -11.992536667300232,
          -11.996096220227583,
          -11.987242633210597,
          -11.996253361529318,
          -11.983677748324727,
          -11.992201388097445,
          -11.999991769048075,
          -11.991366400073234,
          -11.999999489559944,
          -12.000000137224333,
          -11.996008296977577,
          -11.999992929419145,
          -11.99540782751444,
          -11.978675934045508,
          -12.00001045488232,
          -11.987722997465019,
          -11.999993208207389,
          -11.978615268375949,
          -11.9953341856471,
          -11.995550374166262,
          -11.999982210229941,
          -11.995225834130595,
          -11.995922830377486,
          -11.990853442433542,
          -11.995594466359448,
          -11.992399081301219,
          -11.993092754865893,
          -11.992500183508676,
          -11.991658473095024,
          -11.991439719453323,
          -12.000014185388583,
          -11.996086566245594,
          -11.999953620271542,
          -11.996290605510781,
          -12.000005002239876,
          -11.995619149553546,
          -11.986876825385714,
          -11.995740408769977,
          -11.99545630594413,
          -11.995410707073566,
          -11.992246401566513,
          -11.992467835967384,
          -11.984706080118103,
          -11.98815071348842,
          -11.991777158301813,
          -11.996142190980587,
          -11.99998508432891,
          -11.996169238553932,
          -11.99594060535966,
          -11.99999381299243,
          -11.983497055450732,
          -11.9957383869962,
          -11.989639462271061,
          -11.983641759771132,
          -11.988204184269527,
          -11.991989761700857,
          -12.000028670534734,
          -11.992009135673715,
          -11.992110182404652,
          -11.996702223850487,
          -11.995172286950929,
          -11.991637716326036,
          -12.000006182470758,
          -11.995918769072693,
          -11.991277757671066,
          -11.991595505411,
          -11.999992277317755,
          -11.995966600464987,
          -11.991867341380843,
          -11.999996021628295,
          -11.995831202812637,
          -11.999991775910125,
          -11.991919227636203,
          -11.987143318529169,
          -11.987507420479746,
          -11.999993884924352,
          -11.999999071832175,
          -11.987938663043701,
          -11.995935160837671,
          -11.982485902242917,
          -11.99997658950857,
          -11.991049876797314,
          -11.995764258604817,
          -11.990508286575718,
          -11.991134403749385,
          -11.999990076000323,
          -11.987612146913662,
          -11.99998015960464,
          -11.995744519093034,
          -12.000005120239898,
          -12.000009483583957,
          -11.988081228363038,
          -11.995811213775836,
          -11.991457379265675,
          -11.996099265119899,
          -11.985113835105858,
          -11.996521539439943,
          -11.999996070967706,
          -11.990780650028574,
          -11.995978489152515,
          -11.987840426766974,
          -11.993356575738577,
          -11.995569691115112,
          -11.995761698688725,
          -11.995087306198295,
          -11.995546489521786,
          -11.988318151559099,
          -11.995839942393479,
          -11.990898788280823,
          -11.992927796308516,
          -11.991227673547014,
          -11.992289786049941,
          -11.999997134541408,
          -11.992131415955974,
          -11.983886439894535,
          -11.996412725467586,
          -11.996276726528707,
          -11.99163527277872,
          -11.995456726336187,
          -11.996497126858412,
          -11.991410322535883,
          -11.9845511605931,
          -11.992180556556235,
          -11.992215075227314,
          -12.000008807226093,
          -11.99654609340856,
          -11.995382246215732,
          -12.000011206928555,
          -11.999987910099582,
          -12.000042802596509,
          -11.992996278894713,
          -11.991884227848768,
          -11.99996974947498,
          -11.987383752964726,
          -11.988169460684828,
          -12.000014692508568,
          -11.995712950810457,
          -11.988958517703049,
          -11.995557827596999,
          -11.995831117836367,
          -11.996103432321739,
          -12.000004335849924,
          -11.996135363806664,
          -11.996443513890307,
          -11.999992278236498,
          -11.999984975592948,
          -11.993319548334208,
          -11.99998473911359,
          -11.999997631971544,
          -11.99999140869055,
          -11.996001934663006,
          -11.995711462346586,
          -11.996317664883605,
          -11.99595763557395,
          -11.999994560375963,
          -11.992397107648074,
          -11.978906104677918,
          -11.991228111639604,
          -12.00001052164906,
          -11.987277459046382,
          -11.991987305659944,
          -11.987565908741583,
          -11.999996655152483,
          -12.000000179305951,
          -11.996333183777681,
          -11.999976308028236,
          -11.992142737704276,
          -11.99108368928599,
          -11.99229682535127,
          -11.995881135686362,
          -11.984260962658173,
          -11.991996803457065,
          -11.999996910407981,
          -11.99533042633318,
          -11.99223139577633,
          -11.999990017900734,
          -11.988098803071566,
          -11.995093474507094,
          -11.995545299171068,
          -11.995553163085043,
          -12.0000240486838,
          -11.991538899416273,
          -12.000016933114535,
          -11.996256894231355,
          -11.983474786668149,
          -11.995959372998353,
          -11.999983523346048,
          -12.000021958389738,
          -11.9959192149705,
          -12.000006229510507,
          -11.999988306886305,
          -12.000010165683559,
          -11.995608940685571,
          -11.992137108064965,
          -11.995601085342264,
          -11.995636683449796,
          -11.99183919427018,
          -11.99616371993087,
          -11.999999224758785,
          -11.999991112623025,
          -11.992602584333776,
          -11.991377461335976,
          -11.995839686793204,
          -12.000001639041532,
          -11.995574793428279,
          -11.99198237354643,
          -11.992342530763285,
          -11.996127384933176,
          -11.996019587964529,
          -11.999998288700398,
          -11.996187495597889,
          -11.995815771825583,
          -12.000015989604183,
          -12.000014424032408,
          -11.987178644537392,
          -11.992167686097817,
          -11.988196479106731,
          -12.000004975875012,
          -11.996454034538383,
          -11.995785121156503,
          -11.995672839288348,
          -11.995896026234,
          -11.990643776217913,
          -11.99216646045747,
          -11.992536415498694,
          -11.995943456245811,
          -12.000002075820925,
          -11.996439413488797,
          -11.996484493874071,
          -11.99051962434204,
          -11.99579542732249,
          -11.988393776084457,
          -11.995414974371421,
          -11.999999197897315,
          -11.99574270354401,
          -11.991263101676912,
          -11.999992501021888,
          -11.996146987482533,
          -12.000003720921285,
          -11.9999843485252,
          -11.999997353556298,
          -11.999994346093796,
          -11.9999987955276,
          -11.995732998789578,
          -11.995514248245069,
          -11.984204310926161,
          -11.991751124294368,
          -11.99564059312629,
          -12.000003371892094,
          -12.000007815884281,
          -11.995923593223642,
          -11.991866108825223,
          -11.99563243425895,
          -11.98514940317504,
          -11.988329508894125,
          -12.000001739104212,
          -11.992129773918165,
          -11.991928458516718,
          -11.990987976450223,
          -12.00000705180495,
          -11.999988678530631,
          -11.996380484766858,
          -11.996256310501673,
          -11.99999488847605,
          -12.00000079791493,
          -11.995817555463457,
          -11.999997939871916,
          -11.999991097338894,
          -11.991784568670043,
          -11.987895182588817
         ]
        }
       ],
       "layout": {
        "template": {
         "data": {
          "bar": [
           {
            "error_x": {
             "color": "rgb(36,36,36)"
            },
            "error_y": {
             "color": "rgb(36,36,36)"
            },
            "marker": {
             "line": {
              "color": "white",
              "width": 0.5
             },
             "pattern": {
              "fillmode": "overlay",
              "size": 10,
              "solidity": 0.2
             }
            },
            "type": "bar"
           }
          ],
          "barpolar": [
           {
            "marker": {
             "line": {
              "color": "white",
              "width": 0.5
             },
             "pattern": {
              "fillmode": "overlay",
              "size": 10,
              "solidity": 0.2
             }
            },
            "type": "barpolar"
           }
          ],
          "carpet": [
           {
            "aaxis": {
             "endlinecolor": "rgb(36,36,36)",
             "gridcolor": "white",
             "linecolor": "white",
             "minorgridcolor": "white",
             "startlinecolor": "rgb(36,36,36)"
            },
            "baxis": {
             "endlinecolor": "rgb(36,36,36)",
             "gridcolor": "white",
             "linecolor": "white",
             "minorgridcolor": "white",
             "startlinecolor": "rgb(36,36,36)"
            },
            "type": "carpet"
           }
          ],
          "choropleth": [
           {
            "colorbar": {
             "outlinewidth": 1,
             "tickcolor": "rgb(36,36,36)",
             "ticks": "outside"
            },
            "type": "choropleth"
           }
          ],
          "contour": [
           {
            "colorbar": {
             "outlinewidth": 1,
             "tickcolor": "rgb(36,36,36)",
             "ticks": "outside"
            },
            "colorscale": [
             [
              0,
              "#440154"
             ],
             [
              0.1111111111111111,
              "#482878"
             ],
             [
              0.2222222222222222,
              "#3e4989"
             ],
             [
              0.3333333333333333,
              "#31688e"
             ],
             [
              0.4444444444444444,
              "#26828e"
             ],
             [
              0.5555555555555556,
              "#1f9e89"
             ],
             [
              0.6666666666666666,
              "#35b779"
             ],
             [
              0.7777777777777778,
              "#6ece58"
             ],
             [
              0.8888888888888888,
              "#b5de2b"
             ],
             [
              1,
              "#fde725"
             ]
            ],
            "type": "contour"
           }
          ],
          "contourcarpet": [
           {
            "colorbar": {
             "outlinewidth": 1,
             "tickcolor": "rgb(36,36,36)",
             "ticks": "outside"
            },
            "type": "contourcarpet"
           }
          ],
          "heatmap": [
           {
            "colorbar": {
             "outlinewidth": 1,
             "tickcolor": "rgb(36,36,36)",
             "ticks": "outside"
            },
            "colorscale": [
             [
              0,
              "#440154"
             ],
             [
              0.1111111111111111,
              "#482878"
             ],
             [
              0.2222222222222222,
              "#3e4989"
             ],
             [
              0.3333333333333333,
              "#31688e"
             ],
             [
              0.4444444444444444,
              "#26828e"
             ],
             [
              0.5555555555555556,
              "#1f9e89"
             ],
             [
              0.6666666666666666,
              "#35b779"
             ],
             [
              0.7777777777777778,
              "#6ece58"
             ],
             [
              0.8888888888888888,
              "#b5de2b"
             ],
             [
              1,
              "#fde725"
             ]
            ],
            "type": "heatmap"
           }
          ],
          "heatmapgl": [
           {
            "colorbar": {
             "outlinewidth": 1,
             "tickcolor": "rgb(36,36,36)",
             "ticks": "outside"
            },
            "colorscale": [
             [
              0,
              "#440154"
             ],
             [
              0.1111111111111111,
              "#482878"
             ],
             [
              0.2222222222222222,
              "#3e4989"
             ],
             [
              0.3333333333333333,
              "#31688e"
             ],
             [
              0.4444444444444444,
              "#26828e"
             ],
             [
              0.5555555555555556,
              "#1f9e89"
             ],
             [
              0.6666666666666666,
              "#35b779"
             ],
             [
              0.7777777777777778,
              "#6ece58"
             ],
             [
              0.8888888888888888,
              "#b5de2b"
             ],
             [
              1,
              "#fde725"
             ]
            ],
            "type": "heatmapgl"
           }
          ],
          "histogram": [
           {
            "marker": {
             "line": {
              "color": "white",
              "width": 0.6
             }
            },
            "type": "histogram"
           }
          ],
          "histogram2d": [
           {
            "colorbar": {
             "outlinewidth": 1,
             "tickcolor": "rgb(36,36,36)",
             "ticks": "outside"
            },
            "colorscale": [
             [
              0,
              "#440154"
             ],
             [
              0.1111111111111111,
              "#482878"
             ],
             [
              0.2222222222222222,
              "#3e4989"
             ],
             [
              0.3333333333333333,
              "#31688e"
             ],
             [
              0.4444444444444444,
              "#26828e"
             ],
             [
              0.5555555555555556,
              "#1f9e89"
             ],
             [
              0.6666666666666666,
              "#35b779"
             ],
             [
              0.7777777777777778,
              "#6ece58"
             ],
             [
              0.8888888888888888,
              "#b5de2b"
             ],
             [
              1,
              "#fde725"
             ]
            ],
            "type": "histogram2d"
           }
          ],
          "histogram2dcontour": [
           {
            "colorbar": {
             "outlinewidth": 1,
             "tickcolor": "rgb(36,36,36)",
             "ticks": "outside"
            },
            "colorscale": [
             [
              0,
              "#440154"
             ],
             [
              0.1111111111111111,
              "#482878"
             ],
             [
              0.2222222222222222,
              "#3e4989"
             ],
             [
              0.3333333333333333,
              "#31688e"
             ],
             [
              0.4444444444444444,
              "#26828e"
             ],
             [
              0.5555555555555556,
              "#1f9e89"
             ],
             [
              0.6666666666666666,
              "#35b779"
             ],
             [
              0.7777777777777778,
              "#6ece58"
             ],
             [
              0.8888888888888888,
              "#b5de2b"
             ],
             [
              1,
              "#fde725"
             ]
            ],
            "type": "histogram2dcontour"
           }
          ],
          "mesh3d": [
           {
            "colorbar": {
             "outlinewidth": 1,
             "tickcolor": "rgb(36,36,36)",
             "ticks": "outside"
            },
            "type": "mesh3d"
           }
          ],
          "parcoords": [
           {
            "line": {
             "colorbar": {
              "outlinewidth": 1,
              "tickcolor": "rgb(36,36,36)",
              "ticks": "outside"
             }
            },
            "type": "parcoords"
           }
          ],
          "pie": [
           {
            "automargin": true,
            "type": "pie"
           }
          ],
          "scatter": [
           {
            "marker": {
             "colorbar": {
              "outlinewidth": 1,
              "tickcolor": "rgb(36,36,36)",
              "ticks": "outside"
             }
            },
            "type": "scatter"
           }
          ],
          "scatter3d": [
           {
            "line": {
             "colorbar": {
              "outlinewidth": 1,
              "tickcolor": "rgb(36,36,36)",
              "ticks": "outside"
             }
            },
            "marker": {
             "colorbar": {
              "outlinewidth": 1,
              "tickcolor": "rgb(36,36,36)",
              "ticks": "outside"
             }
            },
            "type": "scatter3d"
           }
          ],
          "scattercarpet": [
           {
            "marker": {
             "colorbar": {
              "outlinewidth": 1,
              "tickcolor": "rgb(36,36,36)",
              "ticks": "outside"
             }
            },
            "type": "scattercarpet"
           }
          ],
          "scattergeo": [
           {
            "marker": {
             "colorbar": {
              "outlinewidth": 1,
              "tickcolor": "rgb(36,36,36)",
              "ticks": "outside"
             }
            },
            "type": "scattergeo"
           }
          ],
          "scattergl": [
           {
            "marker": {
             "colorbar": {
              "outlinewidth": 1,
              "tickcolor": "rgb(36,36,36)",
              "ticks": "outside"
             }
            },
            "type": "scattergl"
           }
          ],
          "scattermapbox": [
           {
            "marker": {
             "colorbar": {
              "outlinewidth": 1,
              "tickcolor": "rgb(36,36,36)",
              "ticks": "outside"
             }
            },
            "type": "scattermapbox"
           }
          ],
          "scatterpolar": [
           {
            "marker": {
             "colorbar": {
              "outlinewidth": 1,
              "tickcolor": "rgb(36,36,36)",
              "ticks": "outside"
             }
            },
            "type": "scatterpolar"
           }
          ],
          "scatterpolargl": [
           {
            "marker": {
             "colorbar": {
              "outlinewidth": 1,
              "tickcolor": "rgb(36,36,36)",
              "ticks": "outside"
             }
            },
            "type": "scatterpolargl"
           }
          ],
          "scatterternary": [
           {
            "marker": {
             "colorbar": {
              "outlinewidth": 1,
              "tickcolor": "rgb(36,36,36)",
              "ticks": "outside"
             }
            },
            "type": "scatterternary"
           }
          ],
          "surface": [
           {
            "colorbar": {
             "outlinewidth": 1,
             "tickcolor": "rgb(36,36,36)",
             "ticks": "outside"
            },
            "colorscale": [
             [
              0,
              "#440154"
             ],
             [
              0.1111111111111111,
              "#482878"
             ],
             [
              0.2222222222222222,
              "#3e4989"
             ],
             [
              0.3333333333333333,
              "#31688e"
             ],
             [
              0.4444444444444444,
              "#26828e"
             ],
             [
              0.5555555555555556,
              "#1f9e89"
             ],
             [
              0.6666666666666666,
              "#35b779"
             ],
             [
              0.7777777777777778,
              "#6ece58"
             ],
             [
              0.8888888888888888,
              "#b5de2b"
             ],
             [
              1,
              "#fde725"
             ]
            ],
            "type": "surface"
           }
          ],
          "table": [
           {
            "cells": {
             "fill": {
              "color": "rgb(237,237,237)"
             },
             "line": {
              "color": "white"
             }
            },
            "header": {
             "fill": {
              "color": "rgb(217,217,217)"
             },
             "line": {
              "color": "white"
             }
            },
            "type": "table"
           }
          ]
         },
         "layout": {
          "annotationdefaults": {
           "arrowhead": 0,
           "arrowwidth": 1
          },
          "autotypenumbers": "strict",
          "coloraxis": {
           "colorbar": {
            "outlinewidth": 1,
            "tickcolor": "rgb(36,36,36)",
            "ticks": "outside"
           }
          },
          "colorscale": {
           "diverging": [
            [
             0,
             "rgb(103,0,31)"
            ],
            [
             0.1,
             "rgb(178,24,43)"
            ],
            [
             0.2,
             "rgb(214,96,77)"
            ],
            [
             0.3,
             "rgb(244,165,130)"
            ],
            [
             0.4,
             "rgb(253,219,199)"
            ],
            [
             0.5,
             "rgb(247,247,247)"
            ],
            [
             0.6,
             "rgb(209,229,240)"
            ],
            [
             0.7,
             "rgb(146,197,222)"
            ],
            [
             0.8,
             "rgb(67,147,195)"
            ],
            [
             0.9,
             "rgb(33,102,172)"
            ],
            [
             1,
             "rgb(5,48,97)"
            ]
           ],
           "sequential": [
            [
             0,
             "#440154"
            ],
            [
             0.1111111111111111,
             "#482878"
            ],
            [
             0.2222222222222222,
             "#3e4989"
            ],
            [
             0.3333333333333333,
             "#31688e"
            ],
            [
             0.4444444444444444,
             "#26828e"
            ],
            [
             0.5555555555555556,
             "#1f9e89"
            ],
            [
             0.6666666666666666,
             "#35b779"
            ],
            [
             0.7777777777777778,
             "#6ece58"
            ],
            [
             0.8888888888888888,
             "#b5de2b"
            ],
            [
             1,
             "#fde725"
            ]
           ],
           "sequentialminus": [
            [
             0,
             "#440154"
            ],
            [
             0.1111111111111111,
             "#482878"
            ],
            [
             0.2222222222222222,
             "#3e4989"
            ],
            [
             0.3333333333333333,
             "#31688e"
            ],
            [
             0.4444444444444444,
             "#26828e"
            ],
            [
             0.5555555555555556,
             "#1f9e89"
            ],
            [
             0.6666666666666666,
             "#35b779"
            ],
            [
             0.7777777777777778,
             "#6ece58"
            ],
            [
             0.8888888888888888,
             "#b5de2b"
            ],
            [
             1,
             "#fde725"
            ]
           ]
          },
          "colorway": [
           "#1F77B4",
           "#FF7F0E",
           "#2CA02C",
           "#D62728",
           "#9467BD",
           "#8C564B",
           "#E377C2",
           "#7F7F7F",
           "#BCBD22",
           "#17BECF"
          ],
          "font": {
           "color": "rgb(36,36,36)"
          },
          "geo": {
           "bgcolor": "white",
           "lakecolor": "white",
           "landcolor": "white",
           "showlakes": true,
           "showland": true,
           "subunitcolor": "white"
          },
          "hoverlabel": {
           "align": "left"
          },
          "hovermode": "closest",
          "mapbox": {
           "style": "light"
          },
          "paper_bgcolor": "white",
          "plot_bgcolor": "white",
          "polar": {
           "angularaxis": {
            "gridcolor": "rgb(232,232,232)",
            "linecolor": "rgb(36,36,36)",
            "showgrid": false,
            "showline": true,
            "ticks": "outside"
           },
           "bgcolor": "white",
           "radialaxis": {
            "gridcolor": "rgb(232,232,232)",
            "linecolor": "rgb(36,36,36)",
            "showgrid": false,
            "showline": true,
            "ticks": "outside"
           }
          },
          "scene": {
           "xaxis": {
            "backgroundcolor": "white",
            "gridcolor": "rgb(232,232,232)",
            "gridwidth": 2,
            "linecolor": "rgb(36,36,36)",
            "showbackground": true,
            "showgrid": false,
            "showline": true,
            "ticks": "outside",
            "zeroline": false,
            "zerolinecolor": "rgb(36,36,36)"
           },
           "yaxis": {
            "backgroundcolor": "white",
            "gridcolor": "rgb(232,232,232)",
            "gridwidth": 2,
            "linecolor": "rgb(36,36,36)",
            "showbackground": true,
            "showgrid": false,
            "showline": true,
            "ticks": "outside",
            "zeroline": false,
            "zerolinecolor": "rgb(36,36,36)"
           },
           "zaxis": {
            "backgroundcolor": "white",
            "gridcolor": "rgb(232,232,232)",
            "gridwidth": 2,
            "linecolor": "rgb(36,36,36)",
            "showbackground": true,
            "showgrid": false,
            "showline": true,
            "ticks": "outside",
            "zeroline": false,
            "zerolinecolor": "rgb(36,36,36)"
           }
          },
          "shapedefaults": {
           "fillcolor": "black",
           "line": {
            "width": 0
           },
           "opacity": 0.3
          },
          "ternary": {
           "aaxis": {
            "gridcolor": "rgb(232,232,232)",
            "linecolor": "rgb(36,36,36)",
            "showgrid": false,
            "showline": true,
            "ticks": "outside"
           },
           "baxis": {
            "gridcolor": "rgb(232,232,232)",
            "linecolor": "rgb(36,36,36)",
            "showgrid": false,
            "showline": true,
            "ticks": "outside"
           },
           "bgcolor": "white",
           "caxis": {
            "gridcolor": "rgb(232,232,232)",
            "linecolor": "rgb(36,36,36)",
            "showgrid": false,
            "showline": true,
            "ticks": "outside"
           }
          },
          "title": {
           "x": 0.05
          },
          "xaxis": {
           "automargin": true,
           "gridcolor": "rgb(232,232,232)",
           "linecolor": "rgb(36,36,36)",
           "showgrid": false,
           "showline": true,
           "ticks": "outside",
           "title": {
            "standoff": 15
           },
           "zeroline": false,
           "zerolinecolor": "rgb(36,36,36)"
          },
          "yaxis": {
           "automargin": true,
           "gridcolor": "rgb(232,232,232)",
           "linecolor": "rgb(36,36,36)",
           "showgrid": false,
           "showline": true,
           "ticks": "outside",
           "title": {
            "standoff": 15
           },
           "zeroline": false,
           "zerolinecolor": "rgb(36,36,36)"
          }
         }
        },
        "title": {
         "text": "<b>S-S model </b>, L=8, J2 =1, J1 =0.3 , η=0.005, α=16, samples=1000"
        },
        "xaxis": {
         "mirror": true,
         "showline": true,
         "title": {
          "text": "Iteration"
         }
        },
        "yaxis": {
         "mirror": true,
         "showline": true,
         "title": {
          "text": "Energy"
         }
        }
       }
      },
      "text/html": [
       "<div>                            <div id=\"5119d120-9bbc-4d3e-a8a2-1416ac631a9a\" class=\"plotly-graph-div\" style=\"height:525px; width:100%;\"></div>            <script type=\"text/javascript\">                require([\"plotly\"], function(Plotly) {                    window.PLOTLYENV=window.PLOTLYENV || {};                                    if (document.getElementById(\"5119d120-9bbc-4d3e-a8a2-1416ac631a9a\")) {                    Plotly.newPlot(                        \"5119d120-9bbc-4d3e-a8a2-1416ac631a9a\",                        [{\"line\":{\"color\":\"#000000\",\"width\":1},\"mode\":\"lines\",\"name\":\"exact energy\",\"type\":\"scatter\",\"x\":[0,1000],\"y\":[-11.999999999999998,-11.999999999999998]},{\"line\":{\"color\":\"#000000\",\"width\":1},\"mode\":\"lines\",\"name\":\"99.5 % of exact energy\",\"type\":\"scatter\",\"x\":[0,1000],\"y\":[-11.939999999999998,-11.939999999999998]},{\"name\":\"normal basis\",\"type\":\"scatter\",\"x\":[500,501,502,503,504,505,506,507,508,509,510,511,512,513,514,515,516,517,518,519,520,521,522,523,524,525,526,527,528,529,530,531,532,533,534,535,536,537,538,539,540,541,542,543,544,545,546,547,548,549,550,551,552,553,554,555,556,557,558,559,560,561,562,563,564,565,566,567,568,569,570,571,572,573,574,575,576,577,578,579,580,581,582,583,584,585,586,587,588,589,590,591,592,593,594,595,596,597,598,599,600,601,602,603,604,605,606,607,608,609,610,611,612,613,614,615,616,617,618,619,620,621,622,623,624,625,626,627,628,629,630,631,632,633,634,635,636,637,638,639,640,641,642,643,644,645,646,647,648,649,650,651,652,653,654,655,656,657,658,659,660,661,662,663,664,665,666,667,668,669,670,671,672,673,674,675,676,677,678,679,680,681,682,683,684,685,686,687,688,689,690,691,692,693,694,695,696,697,698,699,700,701,702,703,704,705,706,707,708,709,710,711,712,713,714,715,716,717,718,719,720,721,722,723,724,725,726,727,728,729,730,731,732,733,734,735,736,737,738,739,740,741,742,743,744,745,746,747,748,749,750,751,752,753,754,755,756,757,758,759,760,761,762,763,764,765,766,767,768,769,770,771,772,773,774,775,776,777,778,779,780,781,782,783,784,785,786,787,788,789,790,791,792,793,794,795,796,797,798,799,800,801,802,803,804,805,806,807,808,809,810,811,812,813,814,815,816,817,818,819,820,821,822,823,824,825,826,827,828,829,830,831,832,833,834,835,836,837,838,839,840,841,842,843,844,845,846,847,848,849,850,851,852,853,854,855,856,857,858,859,860,861,862,863,864,865,866,867,868,869,870,871,872,873,874,875,876,877,878,879,880,881,882,883,884,885,886,887,888,889,890,891,892,893,894,895,896,897,898,899,900,901,902,903,904,905,906,907,908,909,910,911,912,913,914,915,916,917,918,919,920,921,922,923,924,925,926,927,928,929,930,931,932,933,934,935,936,937,938,939,940,941,942,943,944,945,946,947,948,949,950,951,952,953,954,955,956,957,958,959,960,961,962,963,964,965,966,967,968,969,970,971,972,973,974,975,976,977,978,979,980,981,982,983,984,985,986,987,988,989,990,991,992,993,994,995,996,997,998,999],\"y\":[-11.996336401908875,-11.990325837354128,-11.98300965023683,-11.987683947173112,-11.98727021830152,-11.990811699563771,-11.986536404963429,-11.987109781104822,-11.995156367727068,-11.971108652215895,-11.988188865998533,-11.996475750586619,-11.99033676855749,-11.990014523515487,-11.976336578858266,-11.987779552403145,-11.985775211378602,-11.981763922675546,-11.995563816940484,-11.983203048898512,-11.97571713172144,-11.975140206285875,-11.980195253662034,-11.99236554800065,-11.982365739425155,-11.993228032252665,-11.975261329817828,-11.96765939889548,-11.983229225551069,-11.982669020165272,-11.988791869300826,-11.98354733824617,-11.969494843558861,-11.988130814796612,-11.992204269581606,-11.98570573806159,-12.000098712370596,-11.98128777789438,-11.967806706087517,-11.988068515891003,-11.996754439740561,-11.992075349277297,-11.988780996814063,-11.975523096603123,-11.98606150344499,-11.99253011551806,-11.99653894345871,-11.979369560030381,-12.000133017026078,-11.979565929849711,-11.996466635704492,-11.990341011147219,-11.992312259236524,-11.996840396997479,-11.9957823464996,-11.985244508905334,-12.000364267960487,-11.99136895826921,-11.981606767757057,-11.996452249726184,-11.987645149097503,-11.987258933496118,-11.992196596647432,-11.995103504417767,-11.992501644354807,-11.99514463330012,-11.979952838620084,-11.98739245173566,-11.980618704878228,-11.987940216654273,-11.98596726339438,-11.981809266205401,-11.97895997933672,-11.984360052282339,-11.98675109052459,-11.980416063970212,-11.99347696771208,-11.99250328580532,-11.995702729182527,-11.987774891665252,-11.99197874471755,-11.987660934037553,-11.987332356086549,-11.995708452252043,-11.988864678093794,-11.984664472261272,-11.98873695059069,-11.993027345526288,-11.988519598713282,-11.991999229120228,-11.99099891372078,-11.995505665527936,-11.991034862519644,-11.98500883531778,-11.991594918404639,-11.979611195801857,-11.996365079244926,-11.983241479523969,-11.984495169849856,-11.995541197569464,-11.996067972082727,-11.991661310323776,-11.99237399475904,-11.99597374709561,-11.995853846619971,-11.980194211798823,-11.991602870697449,-11.983343957484184,-11.996664585627519,-11.995579472944302,-11.978887827722712,-11.990684263847786,-11.996294402990836,-11.986516553692143,-11.98763970209226,-11.987800233054932,-11.992043560726001,-11.984547955475122,-11.987963209665715,-11.995273421173785,-11.995994472884872,-11.992220309607951,-11.995766330272234,-11.986871638116185,-11.991523202428398,-11.988243031374603,-11.981626197151778,-11.99564510914535,-11.996612016815707,-11.977243809665021,-11.995345311059843,-11.995728859287969,-11.996834755170859,-11.975050383106682,-11.996462195844938,-11.984751020193956,-11.99620477443127,-11.98738109604249,-11.987251601787433,-11.995841248419781,-11.996620501512194,-11.991424554146079,-11.983631359770113,-11.996454080799467,-11.99311086069942,-11.996073885517855,-11.991746198898143,-11.995031196010709,-12.000048035642,-11.991647372709936,-12.000036231069185,-11.991711840058167,-11.979771689591537,-11.995535487173324,-11.99276523162515,-11.99991284629926,-11.991031915134592,-11.99108084096488,-11.987350023945638,-11.999994883939202,-11.992698132088124,-11.995671898448428,-11.987336761322435,-11.996454222888492,-11.995817341336965,-11.999875445349055,-11.987645561433611,-11.983355156910747,-12.000023742345666,-11.992572647176752,-11.995831125677539,-11.995269917363032,-11.996435603558865,-11.99188813882385,-11.967983738261852,-11.995976756252329,-12.000024877641241,-11.996050266380479,-11.996088242011101,-11.995368849523265,-11.991672236094287,-12.000005643619975,-11.996247401589203,-11.996027845171437,-11.991797147891672,-11.995871281077042,-11.991548967587567,-11.992043510582219,-11.992386504320745,-11.98262002328082,-12.000014799380839,-11.992845652533594,-11.995201655522845,-11.97788392058902,-11.992135629979954,-11.992365691224817,-11.987922804548907,-11.988957076335314,-11.987320821312634,-11.992299931545274,-11.995243389344356,-11.978330261700547,-11.996209795065989,-11.996292759533704,-11.99634519171825,-11.995423488525235,-12.00003171974334,-11.993667271612198,-11.99586415834116,-11.999996886194587,-11.992280011639387,-11.992648032235293,-11.99596504190501,-11.990893848699784,-11.992091013003293,-11.991959545107603,-11.98838837677585,-11.996348365652374,-11.99164694275007,-11.996200200952265,-11.99074558713514,-11.984126005083237,-12.000028270800119,-11.991258955661031,-11.991786331958673,-12.000002489198906,-11.988371616962729,-11.999997384260348,-11.996586088977226,-11.996003474255314,-11.992536667300232,-11.996096220227583,-11.987242633210597,-11.996253361529318,-11.983677748324727,-11.992201388097445,-11.999991769048075,-11.991366400073234,-11.999999489559944,-12.000000137224333,-11.996008296977577,-11.999992929419145,-11.99540782751444,-11.978675934045508,-12.00001045488232,-11.987722997465019,-11.999993208207389,-11.978615268375949,-11.9953341856471,-11.995550374166262,-11.999982210229941,-11.995225834130595,-11.995922830377486,-11.990853442433542,-11.995594466359448,-11.992399081301219,-11.993092754865893,-11.992500183508676,-11.991658473095024,-11.991439719453323,-12.000014185388583,-11.996086566245594,-11.999953620271542,-11.996290605510781,-12.000005002239876,-11.995619149553546,-11.986876825385714,-11.995740408769977,-11.99545630594413,-11.995410707073566,-11.992246401566513,-11.992467835967384,-11.984706080118103,-11.98815071348842,-11.991777158301813,-11.996142190980587,-11.99998508432891,-11.996169238553932,-11.99594060535966,-11.99999381299243,-11.983497055450732,-11.9957383869962,-11.989639462271061,-11.983641759771132,-11.988204184269527,-11.991989761700857,-12.000028670534734,-11.992009135673715,-11.992110182404652,-11.996702223850487,-11.995172286950929,-11.991637716326036,-12.000006182470758,-11.995918769072693,-11.991277757671066,-11.991595505411,-11.999992277317755,-11.995966600464987,-11.991867341380843,-11.999996021628295,-11.995831202812637,-11.999991775910125,-11.991919227636203,-11.987143318529169,-11.987507420479746,-11.999993884924352,-11.999999071832175,-11.987938663043701,-11.995935160837671,-11.982485902242917,-11.99997658950857,-11.991049876797314,-11.995764258604817,-11.990508286575718,-11.991134403749385,-11.999990076000323,-11.987612146913662,-11.99998015960464,-11.995744519093034,-12.000005120239898,-12.000009483583957,-11.988081228363038,-11.995811213775836,-11.991457379265675,-11.996099265119899,-11.985113835105858,-11.996521539439943,-11.999996070967706,-11.990780650028574,-11.995978489152515,-11.987840426766974,-11.993356575738577,-11.995569691115112,-11.995761698688725,-11.995087306198295,-11.995546489521786,-11.988318151559099,-11.995839942393479,-11.990898788280823,-11.992927796308516,-11.991227673547014,-11.992289786049941,-11.999997134541408,-11.992131415955974,-11.983886439894535,-11.996412725467586,-11.996276726528707,-11.99163527277872,-11.995456726336187,-11.996497126858412,-11.991410322535883,-11.9845511605931,-11.992180556556235,-11.992215075227314,-12.000008807226093,-11.99654609340856,-11.995382246215732,-12.000011206928555,-11.999987910099582,-12.000042802596509,-11.992996278894713,-11.991884227848768,-11.99996974947498,-11.987383752964726,-11.988169460684828,-12.000014692508568,-11.995712950810457,-11.988958517703049,-11.995557827596999,-11.995831117836367,-11.996103432321739,-12.000004335849924,-11.996135363806664,-11.996443513890307,-11.999992278236498,-11.999984975592948,-11.993319548334208,-11.99998473911359,-11.999997631971544,-11.99999140869055,-11.996001934663006,-11.995711462346586,-11.996317664883605,-11.99595763557395,-11.999994560375963,-11.992397107648074,-11.978906104677918,-11.991228111639604,-12.00001052164906,-11.987277459046382,-11.991987305659944,-11.987565908741583,-11.999996655152483,-12.000000179305951,-11.996333183777681,-11.999976308028236,-11.992142737704276,-11.99108368928599,-11.99229682535127,-11.995881135686362,-11.984260962658173,-11.991996803457065,-11.999996910407981,-11.99533042633318,-11.99223139577633,-11.999990017900734,-11.988098803071566,-11.995093474507094,-11.995545299171068,-11.995553163085043,-12.0000240486838,-11.991538899416273,-12.000016933114535,-11.996256894231355,-11.983474786668149,-11.995959372998353,-11.999983523346048,-12.000021958389738,-11.9959192149705,-12.000006229510507,-11.999988306886305,-12.000010165683559,-11.995608940685571,-11.992137108064965,-11.995601085342264,-11.995636683449796,-11.99183919427018,-11.99616371993087,-11.999999224758785,-11.999991112623025,-11.992602584333776,-11.991377461335976,-11.995839686793204,-12.000001639041532,-11.995574793428279,-11.99198237354643,-11.992342530763285,-11.996127384933176,-11.996019587964529,-11.999998288700398,-11.996187495597889,-11.995815771825583,-12.000015989604183,-12.000014424032408,-11.987178644537392,-11.992167686097817,-11.988196479106731,-12.000004975875012,-11.996454034538383,-11.995785121156503,-11.995672839288348,-11.995896026234,-11.990643776217913,-11.99216646045747,-11.992536415498694,-11.995943456245811,-12.000002075820925,-11.996439413488797,-11.996484493874071,-11.99051962434204,-11.99579542732249,-11.988393776084457,-11.995414974371421,-11.999999197897315,-11.99574270354401,-11.991263101676912,-11.999992501021888,-11.996146987482533,-12.000003720921285,-11.9999843485252,-11.999997353556298,-11.999994346093796,-11.9999987955276,-11.995732998789578,-11.995514248245069,-11.984204310926161,-11.991751124294368,-11.99564059312629,-12.000003371892094,-12.000007815884281,-11.995923593223642,-11.991866108825223,-11.99563243425895,-11.98514940317504,-11.988329508894125,-12.000001739104212,-11.992129773918165,-11.991928458516718,-11.990987976450223,-12.00000705180495,-11.999988678530631,-11.996380484766858,-11.996256310501673,-11.99999488847605,-12.00000079791493,-11.995817555463457,-11.999997939871916,-11.999991097338894,-11.991784568670043,-11.987895182588817]}],                        {\"template\":{\"data\":{\"bar\":[{\"error_x\":{\"color\":\"rgb(36,36,36)\"},\"error_y\":{\"color\":\"rgb(36,36,36)\"},\"marker\":{\"line\":{\"color\":\"white\",\"width\":0.5},\"pattern\":{\"fillmode\":\"overlay\",\"size\":10,\"solidity\":0.2}},\"type\":\"bar\"}],\"barpolar\":[{\"marker\":{\"line\":{\"color\":\"white\",\"width\":0.5},\"pattern\":{\"fillmode\":\"overlay\",\"size\":10,\"solidity\":0.2}},\"type\":\"barpolar\"}],\"carpet\":[{\"aaxis\":{\"endlinecolor\":\"rgb(36,36,36)\",\"gridcolor\":\"white\",\"linecolor\":\"white\",\"minorgridcolor\":\"white\",\"startlinecolor\":\"rgb(36,36,36)\"},\"baxis\":{\"endlinecolor\":\"rgb(36,36,36)\",\"gridcolor\":\"white\",\"linecolor\":\"white\",\"minorgridcolor\":\"white\",\"startlinecolor\":\"rgb(36,36,36)\"},\"type\":\"carpet\"}],\"choropleth\":[{\"colorbar\":{\"outlinewidth\":1,\"tickcolor\":\"rgb(36,36,36)\",\"ticks\":\"outside\"},\"type\":\"choropleth\"}],\"contour\":[{\"colorbar\":{\"outlinewidth\":1,\"tickcolor\":\"rgb(36,36,36)\",\"ticks\":\"outside\"},\"colorscale\":[[0.0,\"#440154\"],[0.1111111111111111,\"#482878\"],[0.2222222222222222,\"#3e4989\"],[0.3333333333333333,\"#31688e\"],[0.4444444444444444,\"#26828e\"],[0.5555555555555556,\"#1f9e89\"],[0.6666666666666666,\"#35b779\"],[0.7777777777777778,\"#6ece58\"],[0.8888888888888888,\"#b5de2b\"],[1.0,\"#fde725\"]],\"type\":\"contour\"}],\"contourcarpet\":[{\"colorbar\":{\"outlinewidth\":1,\"tickcolor\":\"rgb(36,36,36)\",\"ticks\":\"outside\"},\"type\":\"contourcarpet\"}],\"heatmap\":[{\"colorbar\":{\"outlinewidth\":1,\"tickcolor\":\"rgb(36,36,36)\",\"ticks\":\"outside\"},\"colorscale\":[[0.0,\"#440154\"],[0.1111111111111111,\"#482878\"],[0.2222222222222222,\"#3e4989\"],[0.3333333333333333,\"#31688e\"],[0.4444444444444444,\"#26828e\"],[0.5555555555555556,\"#1f9e89\"],[0.6666666666666666,\"#35b779\"],[0.7777777777777778,\"#6ece58\"],[0.8888888888888888,\"#b5de2b\"],[1.0,\"#fde725\"]],\"type\":\"heatmap\"}],\"heatmapgl\":[{\"colorbar\":{\"outlinewidth\":1,\"tickcolor\":\"rgb(36,36,36)\",\"ticks\":\"outside\"},\"colorscale\":[[0.0,\"#440154\"],[0.1111111111111111,\"#482878\"],[0.2222222222222222,\"#3e4989\"],[0.3333333333333333,\"#31688e\"],[0.4444444444444444,\"#26828e\"],[0.5555555555555556,\"#1f9e89\"],[0.6666666666666666,\"#35b779\"],[0.7777777777777778,\"#6ece58\"],[0.8888888888888888,\"#b5de2b\"],[1.0,\"#fde725\"]],\"type\":\"heatmapgl\"}],\"histogram\":[{\"marker\":{\"line\":{\"color\":\"white\",\"width\":0.6}},\"type\":\"histogram\"}],\"histogram2d\":[{\"colorbar\":{\"outlinewidth\":1,\"tickcolor\":\"rgb(36,36,36)\",\"ticks\":\"outside\"},\"colorscale\":[[0.0,\"#440154\"],[0.1111111111111111,\"#482878\"],[0.2222222222222222,\"#3e4989\"],[0.3333333333333333,\"#31688e\"],[0.4444444444444444,\"#26828e\"],[0.5555555555555556,\"#1f9e89\"],[0.6666666666666666,\"#35b779\"],[0.7777777777777778,\"#6ece58\"],[0.8888888888888888,\"#b5de2b\"],[1.0,\"#fde725\"]],\"type\":\"histogram2d\"}],\"histogram2dcontour\":[{\"colorbar\":{\"outlinewidth\":1,\"tickcolor\":\"rgb(36,36,36)\",\"ticks\":\"outside\"},\"colorscale\":[[0.0,\"#440154\"],[0.1111111111111111,\"#482878\"],[0.2222222222222222,\"#3e4989\"],[0.3333333333333333,\"#31688e\"],[0.4444444444444444,\"#26828e\"],[0.5555555555555556,\"#1f9e89\"],[0.6666666666666666,\"#35b779\"],[0.7777777777777778,\"#6ece58\"],[0.8888888888888888,\"#b5de2b\"],[1.0,\"#fde725\"]],\"type\":\"histogram2dcontour\"}],\"mesh3d\":[{\"colorbar\":{\"outlinewidth\":1,\"tickcolor\":\"rgb(36,36,36)\",\"ticks\":\"outside\"},\"type\":\"mesh3d\"}],\"parcoords\":[{\"line\":{\"colorbar\":{\"outlinewidth\":1,\"tickcolor\":\"rgb(36,36,36)\",\"ticks\":\"outside\"}},\"type\":\"parcoords\"}],\"pie\":[{\"automargin\":true,\"type\":\"pie\"}],\"scatter\":[{\"marker\":{\"colorbar\":{\"outlinewidth\":1,\"tickcolor\":\"rgb(36,36,36)\",\"ticks\":\"outside\"}},\"type\":\"scatter\"}],\"scatter3d\":[{\"line\":{\"colorbar\":{\"outlinewidth\":1,\"tickcolor\":\"rgb(36,36,36)\",\"ticks\":\"outside\"}},\"marker\":{\"colorbar\":{\"outlinewidth\":1,\"tickcolor\":\"rgb(36,36,36)\",\"ticks\":\"outside\"}},\"type\":\"scatter3d\"}],\"scattercarpet\":[{\"marker\":{\"colorbar\":{\"outlinewidth\":1,\"tickcolor\":\"rgb(36,36,36)\",\"ticks\":\"outside\"}},\"type\":\"scattercarpet\"}],\"scattergeo\":[{\"marker\":{\"colorbar\":{\"outlinewidth\":1,\"tickcolor\":\"rgb(36,36,36)\",\"ticks\":\"outside\"}},\"type\":\"scattergeo\"}],\"scattergl\":[{\"marker\":{\"colorbar\":{\"outlinewidth\":1,\"tickcolor\":\"rgb(36,36,36)\",\"ticks\":\"outside\"}},\"type\":\"scattergl\"}],\"scattermapbox\":[{\"marker\":{\"colorbar\":{\"outlinewidth\":1,\"tickcolor\":\"rgb(36,36,36)\",\"ticks\":\"outside\"}},\"type\":\"scattermapbox\"}],\"scatterpolar\":[{\"marker\":{\"colorbar\":{\"outlinewidth\":1,\"tickcolor\":\"rgb(36,36,36)\",\"ticks\":\"outside\"}},\"type\":\"scatterpolar\"}],\"scatterpolargl\":[{\"marker\":{\"colorbar\":{\"outlinewidth\":1,\"tickcolor\":\"rgb(36,36,36)\",\"ticks\":\"outside\"}},\"type\":\"scatterpolargl\"}],\"scatterternary\":[{\"marker\":{\"colorbar\":{\"outlinewidth\":1,\"tickcolor\":\"rgb(36,36,36)\",\"ticks\":\"outside\"}},\"type\":\"scatterternary\"}],\"surface\":[{\"colorbar\":{\"outlinewidth\":1,\"tickcolor\":\"rgb(36,36,36)\",\"ticks\":\"outside\"},\"colorscale\":[[0.0,\"#440154\"],[0.1111111111111111,\"#482878\"],[0.2222222222222222,\"#3e4989\"],[0.3333333333333333,\"#31688e\"],[0.4444444444444444,\"#26828e\"],[0.5555555555555556,\"#1f9e89\"],[0.6666666666666666,\"#35b779\"],[0.7777777777777778,\"#6ece58\"],[0.8888888888888888,\"#b5de2b\"],[1.0,\"#fde725\"]],\"type\":\"surface\"}],\"table\":[{\"cells\":{\"fill\":{\"color\":\"rgb(237,237,237)\"},\"line\":{\"color\":\"white\"}},\"header\":{\"fill\":{\"color\":\"rgb(217,217,217)\"},\"line\":{\"color\":\"white\"}},\"type\":\"table\"}]},\"layout\":{\"annotationdefaults\":{\"arrowhead\":0,\"arrowwidth\":1},\"autotypenumbers\":\"strict\",\"coloraxis\":{\"colorbar\":{\"outlinewidth\":1,\"tickcolor\":\"rgb(36,36,36)\",\"ticks\":\"outside\"}},\"colorscale\":{\"diverging\":[[0.0,\"rgb(103,0,31)\"],[0.1,\"rgb(178,24,43)\"],[0.2,\"rgb(214,96,77)\"],[0.3,\"rgb(244,165,130)\"],[0.4,\"rgb(253,219,199)\"],[0.5,\"rgb(247,247,247)\"],[0.6,\"rgb(209,229,240)\"],[0.7,\"rgb(146,197,222)\"],[0.8,\"rgb(67,147,195)\"],[0.9,\"rgb(33,102,172)\"],[1.0,\"rgb(5,48,97)\"]],\"sequential\":[[0.0,\"#440154\"],[0.1111111111111111,\"#482878\"],[0.2222222222222222,\"#3e4989\"],[0.3333333333333333,\"#31688e\"],[0.4444444444444444,\"#26828e\"],[0.5555555555555556,\"#1f9e89\"],[0.6666666666666666,\"#35b779\"],[0.7777777777777778,\"#6ece58\"],[0.8888888888888888,\"#b5de2b\"],[1.0,\"#fde725\"]],\"sequentialminus\":[[0.0,\"#440154\"],[0.1111111111111111,\"#482878\"],[0.2222222222222222,\"#3e4989\"],[0.3333333333333333,\"#31688e\"],[0.4444444444444444,\"#26828e\"],[0.5555555555555556,\"#1f9e89\"],[0.6666666666666666,\"#35b779\"],[0.7777777777777778,\"#6ece58\"],[0.8888888888888888,\"#b5de2b\"],[1.0,\"#fde725\"]]},\"colorway\":[\"#1F77B4\",\"#FF7F0E\",\"#2CA02C\",\"#D62728\",\"#9467BD\",\"#8C564B\",\"#E377C2\",\"#7F7F7F\",\"#BCBD22\",\"#17BECF\"],\"font\":{\"color\":\"rgb(36,36,36)\"},\"geo\":{\"bgcolor\":\"white\",\"lakecolor\":\"white\",\"landcolor\":\"white\",\"showlakes\":true,\"showland\":true,\"subunitcolor\":\"white\"},\"hoverlabel\":{\"align\":\"left\"},\"hovermode\":\"closest\",\"mapbox\":{\"style\":\"light\"},\"paper_bgcolor\":\"white\",\"plot_bgcolor\":\"white\",\"polar\":{\"angularaxis\":{\"gridcolor\":\"rgb(232,232,232)\",\"linecolor\":\"rgb(36,36,36)\",\"showgrid\":false,\"showline\":true,\"ticks\":\"outside\"},\"bgcolor\":\"white\",\"radialaxis\":{\"gridcolor\":\"rgb(232,232,232)\",\"linecolor\":\"rgb(36,36,36)\",\"showgrid\":false,\"showline\":true,\"ticks\":\"outside\"}},\"scene\":{\"xaxis\":{\"backgroundcolor\":\"white\",\"gridcolor\":\"rgb(232,232,232)\",\"gridwidth\":2,\"linecolor\":\"rgb(36,36,36)\",\"showbackground\":true,\"showgrid\":false,\"showline\":true,\"ticks\":\"outside\",\"zeroline\":false,\"zerolinecolor\":\"rgb(36,36,36)\"},\"yaxis\":{\"backgroundcolor\":\"white\",\"gridcolor\":\"rgb(232,232,232)\",\"gridwidth\":2,\"linecolor\":\"rgb(36,36,36)\",\"showbackground\":true,\"showgrid\":false,\"showline\":true,\"ticks\":\"outside\",\"zeroline\":false,\"zerolinecolor\":\"rgb(36,36,36)\"},\"zaxis\":{\"backgroundcolor\":\"white\",\"gridcolor\":\"rgb(232,232,232)\",\"gridwidth\":2,\"linecolor\":\"rgb(36,36,36)\",\"showbackground\":true,\"showgrid\":false,\"showline\":true,\"ticks\":\"outside\",\"zeroline\":false,\"zerolinecolor\":\"rgb(36,36,36)\"}},\"shapedefaults\":{\"fillcolor\":\"black\",\"line\":{\"width\":0},\"opacity\":0.3},\"ternary\":{\"aaxis\":{\"gridcolor\":\"rgb(232,232,232)\",\"linecolor\":\"rgb(36,36,36)\",\"showgrid\":false,\"showline\":true,\"ticks\":\"outside\"},\"baxis\":{\"gridcolor\":\"rgb(232,232,232)\",\"linecolor\":\"rgb(36,36,36)\",\"showgrid\":false,\"showline\":true,\"ticks\":\"outside\"},\"bgcolor\":\"white\",\"caxis\":{\"gridcolor\":\"rgb(232,232,232)\",\"linecolor\":\"rgb(36,36,36)\",\"showgrid\":false,\"showline\":true,\"ticks\":\"outside\"}},\"title\":{\"x\":0.05},\"xaxis\":{\"automargin\":true,\"gridcolor\":\"rgb(232,232,232)\",\"linecolor\":\"rgb(36,36,36)\",\"showgrid\":false,\"showline\":true,\"ticks\":\"outside\",\"title\":{\"standoff\":15},\"zeroline\":false,\"zerolinecolor\":\"rgb(36,36,36)\"},\"yaxis\":{\"automargin\":true,\"gridcolor\":\"rgb(232,232,232)\",\"linecolor\":\"rgb(36,36,36)\",\"showgrid\":false,\"showline\":true,\"ticks\":\"outside\",\"title\":{\"standoff\":15},\"zeroline\":false,\"zerolinecolor\":\"rgb(36,36,36)\"}}},\"title\":{\"text\":\"<b>S-S model </b>, L=8, J2 =1, J1 =0.3 , η=0.005, α=16, samples=1000\"},\"xaxis\":{\"mirror\":true,\"showline\":true,\"title\":{\"text\":\"Iteration\"}},\"yaxis\":{\"mirror\":true,\"showline\":true,\"title\":{\"text\":\"Energy\"}}},                        {\"responsive\": true}                    ).then(function(){\n",
       "                            \n",
       "var gd = document.getElementById('5119d120-9bbc-4d3e-a8a2-1416ac631a9a');\n",
       "var x = new MutationObserver(function (mutations, observer) {{\n",
       "        var display = window.getComputedStyle(gd).display;\n",
       "        if (!display || display === 'none') {{\n",
       "            console.log([gd, 'removed!']);\n",
       "            Plotly.purge(gd);\n",
       "            observer.disconnect();\n",
       "        }}\n",
       "}});\n",
       "\n",
       "// Listen for the removal of the full notebook cells\n",
       "var notebookContainer = gd.closest('#notebook-container');\n",
       "if (notebookContainer) {{\n",
       "    x.observe(notebookContainer, {childList: true});\n",
       "}}\n",
       "\n",
       "// Listen for the clearing of the current output cell\n",
       "var outputEl = gd.closest('.output');\n",
       "if (outputEl) {{\n",
       "    x.observe(outputEl, {childList: true});\n",
       "}}\n",
       "\n",
       "                        })                };                });            </script>        </div>"
      ]
     },
     "metadata": {},
     "output_type": "display_data"
    }
   ],
   "source": [
    "# import the data from log file\n",
    "OUT_NAME_suffixless=OUT_NAME\n",
    "data = []\n",
    "for i in range(no_of_runs):\n",
    "    data.append(json.load(open(OUT_NAME_suffixless+str(i)+\".log\")))\n",
    "names = [\"normal basis\",\"MSR basis\"]\n",
    "if type(data[0][\"Energy\"][\"Mean\"]) == dict: #DTYPE in (np.complex128, np.complex64):#, np.float64):# and False:\n",
    "    energy_convergence = [data[i][\"Energy\"][\"Mean\"][\"real\"] for i in range(no_of_runs)]\n",
    "    # symmetry = [data[i][\"symmetry\"][\"Mean\"][\"real\"] for i in range(no_of_runs-use_MSR)]\n",
    "else:\n",
    "    energy_convergence = [data[i][\"Energy\"][\"Mean\"] for i in range(no_of_runs)]\n",
    "    # symmetry = [data[i][\"symmetry\"][\"Mean\"] for i in range(no_of_runs-use_MSR)]\n",
    "for i in range(no_of_runs):\n",
    "    figure.add_trace(go.Scatter(\n",
    "        x=data[i][\"Energy\"][\"iters\"], y=energy_convergence[i],\n",
    "        name=names[i]\n",
    "    ))\n",
    "    # figure.add_trace(go.Scatter(\n",
    "    #     x=data[i][\"Energy\"][\"iters\"], y=symmetry[i],\n",
    "    #     name=names[i]+\"_swap\"\n",
    "    # ))\n",
    "\n",
    "#figure.add_hline(y=exact_gs_energy)\n",
    "figure.update_layout(xaxis_title=\"Iteration\",yaxis_title=\"Energy\")\n",
    "figure.show()"
   ]
  },
  {
   "cell_type": "markdown",
   "metadata": {},
   "source": [
    "# Calculating symmetrizations"
   ]
  }
 ],
 "metadata": {
  "interpreter": {
   "hash": "31f2aee4e71d21fbe5cf8b01ff0e069b9275f58929596ceb00d14d90e3e16cd6"
  },
  "kernelspec": {
   "display_name": "Python 3.8.10 64-bit",
   "name": "python3"
  },
  "language_info": {
   "codemirror_mode": {
    "name": "ipython",
    "version": 3
   },
   "file_extension": ".py",
   "mimetype": "text/x-python",
   "name": "python",
   "nbconvert_exporter": "python",
   "pygments_lexer": "ipython3",
   "version": "3.8.10"
  },
  "metadata": {
   "interpreter": {
    "hash": "916dbcbb3f70747c44a77c7bcd40155683ae19c65e1c03b4aa3499c5328201f1"
   }
  }
 },
 "nbformat": 4,
 "nbformat_minor": 4
}
