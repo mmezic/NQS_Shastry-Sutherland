{
 "cells": [
  {
   "cell_type": "markdown",
   "metadata": {},
   "source": [
    "# Exploring Shastry-Sutterland model with RBM variational wave function and other models"
   ]
  },
  {
   "cell_type": "code",
   "execution_count": 1,
   "metadata": {},
   "outputs": [
    {
     "name": "stdout",
     "output_type": "stream",
     "text": [
      "NetKet version: 3.3.2.post1\n",
      "NumPy version: 1.20.3\n"
     ]
    }
   ],
   "source": [
    "import netket as nk\n",
    "import numpy as np\n",
    "import time\n",
    "import json\n",
    "import plotly.graph_objects as go\n",
    "import matplotlib.pyplot as plt\n",
    "import jax\n",
    "import flax\n",
    "import optax\n",
    "print(\"NetKet version: {}\".format(nk.__version__))\n",
    "print(\"NumPy version: {}\".format(np.__version__))"
   ]
  },
  {
   "cell_type": "markdown",
   "metadata": {},
   "source": [
    "### Setup relevant parameters and settings of the simulation "
   ]
  },
  {
   "cell_type": "code",
   "execution_count": 2,
   "metadata": {},
   "outputs": [],
   "source": [
    "\"\"\"lattice\"\"\"\n",
    "SITES    = 16             # 4, 8, 16, 20 ... number of vertices in a tile determines the tile shape \n",
    "JEXCH1   = .2            # nn interaction\n",
    "JEXCH2   = 1             # nnn interaction\n",
    "TOTAL_SZ = None          # 0, None ... restriction of Hilbert space\n",
    "#USE_MSR = True          # Should we use a Marshall sign rule? In this notebook, we use both.\n",
    "\n",
    "\"\"\"machine learning\"\"\"\n",
    "MACHINE  = \"RBM\"         # RBM, RBMSymm, RBMSymm_transl, RBMModPhase, GCNN, Jastrow\n",
    "DTYPE    = np.complex128 # data-type of weights in neural network\n",
    "ALPHA    = 8            # N_hidden / N_visible\n",
    "ETA      = .01          # learning rate (0.01 usually works)\n",
    "SAMPLER  = 'exact'       # 'local' = MetropolisLocal, 'exchange' = MetropolisExchange\n",
    "SAMPLES  = 1000          # number of Monte Carlo samples\n",
    "NUM_ITER = 400           # number of convergence iterations\n",
    "N_LAYERS = 1 #2             # number of layers (in case of G-CNN)\n",
    "FEATURES = 16 #(8,4)         # dimensions of layers (in case of G-CNN)\n",
    "\n",
    "OUT_NAME = \"SS_\"+str(SITES)+\"j1=\"+str(JEXCH1) # output file name"
   ]
  },
  {
   "cell_type": "markdown",
   "metadata": {},
   "source": [
    "### Lattice definition\n",
    "Basic structure of tiled lattices is implemented in `lattice_and_ops.py` file. Class `Lattice` implements relative positional functions, \n",
    "- e.g. *`rt(node)` returns the index of the right neighbour of a site with index `node`*\n",
    "\n",
    "The `for` loop constructs full Shastry-Sutherland lattice with PBC using these auxiliary positional functions."
   ]
  },
  {
   "cell_type": "code",
   "execution_count": 3,
   "metadata": {},
   "outputs": [],
   "source": [
    "from lattice_and_ops import Lattice\n",
    "lattice = Lattice(SITES)\n",
    "\n",
    "# Construction of custom graph according to tiled lattice structure defined in the Lattice class.\n",
    "edge_colors = []\n",
    "for node in range(SITES):\n",
    "    edge_colors.append([node,lattice.rt(node), 1])  # horizontal connections\n",
    "    edge_colors.append([node,lattice.bot(node), 1]) # vertical connections\n",
    "    row, column = lattice.position(node)\n",
    "    if column%2 == 0:\n",
    "        if row%2 == 0:\n",
    "            edge_colors.append([node,lattice.lrt(node),2]) # diagonal bond\n",
    "        else:\n",
    "            edge_colors.append([node,lattice.llft(node),2]) # diagonal bond\n",
    "\n",
    "g = nk.graph.Graph(edges=edge_colors) #,n_nodes=3)\n",
    "N = g.n_nodes\n",
    "\n",
    "hilbert = nk.hilbert.Spin(s=.5, N=g.n_nodes, total_sz=TOTAL_SZ)"
   ]
  },
  {
   "cell_type": "code",
   "execution_count": 4,
   "metadata": {},
   "outputs": [
    {
     "data": {
      "text/plain": [
       "'alternative (simple) toy lattices'"
      ]
     },
     "execution_count": 4,
     "metadata": {},
     "output_type": "execute_result"
    }
   ],
   "source": [
    "\"\"\"alternative (simple) toy lattices\"\"\"\n",
    "\n",
    "# # two dimers\n",
    "# edge_colors.append([0,1,1])\n",
    "# edge_colors.append([2,3,1])\n",
    "\n",
    "# # SS 2x2 lattice:\n",
    "# edge_colors.append([0,1,1])\n",
    "# edge_colors.append([2,3,1])\n",
    "# edge_colors.append([1,2,1])\n",
    "# edge_colors.append([0,3,1])\n",
    "# edge_colors.append([0,2,2])\n",
    "# edge_colors.append([1,3,2])\n",
    "\n",
    "# # 3-chain:\n",
    "# edge_colors.append([0,1,1])\n",
    "# edge_colors.append([1,2,1])\n",
    "# edge_colors.append([2,0,1])"
   ]
  },
  {
   "cell_type": "markdown",
   "metadata": {},
   "source": [
    "### Characters of the symmetries\n",
    "In case of G-CNN, we need to specify the characters of the symmetry transformations.\n",
    "- DS phase anti-symmetric wrt permutations with negative sign and symmetric wer permutaions with postive sign\n",
    "- AF phase is always symmetric for all permutations  "
   ]
  },
  {
   "cell_type": "code",
   "execution_count": 5,
   "metadata": {},
   "outputs": [
    {
     "name": "stdout",
     "output_type": "stream",
     "text": [
      "There are 64 full symmetries.\n"
     ]
    }
   ],
   "source": [
    "\n",
    "print(\"There are\", len(g.automorphisms()), \"full symmetries.\")\n",
    "# deciding point between DS and AF phase is set to 0.5\n",
    "if JEXCH1 < 0.5:\n",
    "    # DS phase is partly anti-symmetric\n",
    "    characters = []\n",
    "    from lattice_and_ops import permutation_sign\n",
    "    for perm in g.automorphisms():\n",
    "        # print(perm, \"with sign\", permutation_sign(np.asarray(perm)))\n",
    "        characters.append(permutation_sign(np.asarray(perm)))\n",
    "    characters_dimer = np.asarray(characters,dtype=complex)\n",
    "    characters_dimer_msr = characters_dimer\n",
    "else:\n",
    "    # AF phase if fully symmetric\n",
    "    characters_dimer = np.ones((len(g.automorphisms()),), dtype=complex)\n",
    "    characters_dimer_msr = characters_dimer"
   ]
  },
  {
   "cell_type": "markdown",
   "metadata": {},
   "source": [
    "### Translations\n",
    "\n",
    "If we want to include only translations, we have to exclude some symmetries from `g.automorphisms()`.\n",
    "\n",
    "\n",
    "⚠️ TODO ⚠️ <span style=\"color:red\"> This part is not fully automated yet. Translations are currently picked by hand from the group of all automorphisms. </span>"
   ]
  },
  {
   "cell_type": "code",
   "execution_count": 6,
   "metadata": {},
   "outputs": [
    {
     "name": "stdout",
     "output_type": "stream",
     "text": [
      "Out of 64 permutations, 4 translations were picked.\n"
     ]
    }
   ],
   "source": [
    "if MACHINE == \"RBMSymm_transl\" and N != 4:\n",
    "    raise NotImplementedError(\"Extraction of translations from the group of automorphisms is not implemented yet.\")\n",
    "translations = []\n",
    "for perm in g.automorphisms():\n",
    "    aperm = np.asarray(perm)\n",
    "    if (aperm[0],aperm[1]) in ((0,1),(1,0),(2,3),(3,2)): # N = 4\n",
    "    # if (aperm[0],aperm[1],aperm[3]) in ((0,1,3),(2,3,1),(8,9,11),(10,11,9)): # N = 16\n",
    "    # if (aperm[0],aperm[1],aperm[2],aperm[3]) in ((4,7,6,5),): # N = 8\n",
    "    # if (aperm[2],aperm[0]) in ((2,0),(3,0),(0,1),(1,2)):#,(2,3,1)): # N = 16, two dimers with just translation\n",
    "    # if (aperm[0],aperm[1],aperm[3]) in ((0,1,3),(3,2,0),(2,3,1),(1,0,2)): # N = 16, two dimers plus second translation option\n",
    "        translations.append(nk.utils.group._permutation_group.Permutation(aperm))\n",
    "translation_group = nk.utils.group._permutation_group.PermutationGroup(translations,degree=SITES)\n",
    "print(\"Out of\", len(g.automorphisms()), \"permutations,\",len(translation_group), \"translations were picked.\")"
   ]
  },
  {
   "cell_type": "code",
   "execution_count": 7,
   "metadata": {},
   "outputs": [
    {
     "data": {
      "text/plain": [
       "(['1xPermutation([0, 1, 2, 3, 4, 5, 6, 7, 8, 9, 10, 11, 12, 13, 14, 15])',\n",
       "  '4xPermutation([0, 1, 13, 12, 4, 5, 9, 8, 7, 6, 10, 11, 3, 2, 14, 15])',\n",
       "  '4xPermutation([0, 4, 8, 12, 1, 5, 9, 13, 2, 6, 10, 14, 3, 7, 11, 15])',\n",
       "  '8xPermutation([1, 2, 3, 0, 13, 14, 15, 12, 9, 10, 11, 8, 5, 6, 7, 4])',\n",
       "  '8xPermutation([1, 2, 6, 5, 13, 14, 10, 9, 12, 15, 11, 8, 0, 3, 7, 4])',\n",
       "  '4xPermutation([2, 3, 0, 1, 6, 7, 4, 5, 10, 11, 8, 9, 14, 15, 12, 13])',\n",
       "  '8xPermutation([2, 3, 15, 14, 6, 7, 11, 10, 5, 4, 8, 9, 1, 0, 12, 13])',\n",
       "  '4xPermutation([2, 6, 10, 14, 3, 7, 11, 15, 0, 4, 8, 12, 1, 5, 9, 13])',\n",
       "  '8xPermutation([3, 0, 1, 2, 15, 12, 13, 14, 11, 8, 9, 10, 7, 4, 5, 6])',\n",
       "  '8xPermutation([3, 0, 4, 7, 15, 12, 8, 11, 14, 13, 9, 10, 2, 1, 5, 6])',\n",
       "  '2xPermutation([5, 4, 7, 6, 1, 0, 3, 2, 13, 12, 15, 14, 9, 8, 11, 10])',\n",
       "  '4xPermutation([5, 4, 8, 9, 1, 0, 12, 13, 2, 3, 15, 14, 6, 7, 11, 10])',\n",
       "  '1xPermutation([10, 11, 8, 9, 14, 15, 12, 13, 2, 3, 0, 1, 6, 7, 4, 5])'],\n",
       " array([[ 1.+0.j,  1.+0.j,  1.+0.j,  1.+0.j,  1.+0.j,  1.+0.j,  1.+0.j,\n",
       "          1.+0.j,  1.+0.j,  1.+0.j,  1.+0.j,  1.+0.j,  1.+0.j],\n",
       "        [ 1.+0.j,  1.+0.j,  1.+0.j,  0.+1.j,  0.+1.j, -1.+0.j, -1.+0.j,\n",
       "         -1.+0.j,  0.-1.j,  0.-1.j,  1.+0.j,  1.+0.j,  1.+0.j],\n",
       "        [ 1.+0.j,  1.+0.j,  1.+0.j,  0.-1.j,  0.-1.j, -1.+0.j, -1.+0.j,\n",
       "         -1.+0.j,  0.+1.j,  0.+1.j,  1.+0.j,  1.+0.j,  1.+0.j],\n",
       "        [ 1.+0.j,  1.+0.j,  1.+0.j, -1.+0.j, -1.+0.j,  1.+0.j,  1.+0.j,\n",
       "          1.+0.j, -1.+0.j, -1.+0.j,  1.+0.j,  1.+0.j,  1.+0.j],\n",
       "        [ 1.+0.j, -1.+0.j,  1.+0.j,  1.+0.j, -1.+0.j,  1.+0.j, -1.+0.j,\n",
       "          1.+0.j,  1.+0.j, -1.+0.j,  1.+0.j, -1.+0.j,  1.+0.j],\n",
       "        [ 1.+0.j, -1.+0.j,  1.+0.j,  0.+1.j,  0.-1.j, -1.+0.j,  1.+0.j,\n",
       "         -1.+0.j,  0.-1.j,  0.+1.j,  1.+0.j, -1.+0.j,  1.+0.j],\n",
       "        [ 1.+0.j, -1.+0.j,  1.+0.j,  0.-1.j,  0.+1.j, -1.+0.j,  1.+0.j,\n",
       "         -1.+0.j,  0.+1.j,  0.-1.j,  1.+0.j, -1.+0.j,  1.+0.j],\n",
       "        [ 1.+0.j, -1.+0.j,  1.+0.j, -1.+0.j,  1.+0.j,  1.+0.j, -1.+0.j,\n",
       "          1.+0.j, -1.+0.j,  1.+0.j,  1.+0.j, -1.+0.j,  1.+0.j],\n",
       "        [ 2.+0.j,  0.+0.j, -2.+0.j,  0.+0.j,  0.+0.j,  2.+0.j,  0.+0.j,\n",
       "         -2.+0.j,  0.+0.j,  0.+0.j,  2.+0.j,  0.+0.j,  2.+0.j],\n",
       "        [ 2.+0.j,  0.+0.j, -2.+0.j,  0.+0.j,  0.+0.j, -2.+0.j,  0.+0.j,\n",
       "          2.+0.j,  0.+0.j,  0.+0.j,  2.+0.j,  0.+0.j,  2.+0.j],\n",
       "        [ 4.+0.j,  2.+0.j,  0.+0.j,  0.+0.j,  0.+0.j,  0.+0.j,  0.+0.j,\n",
       "          0.+0.j,  0.+0.j,  0.+0.j,  0.+0.j, -2.+0.j, -4.+0.j],\n",
       "        [ 4.+0.j,  0.+0.j,  0.+0.j,  0.+0.j,  0.+0.j,  0.+0.j,  0.+0.j,\n",
       "          0.+0.j,  0.+0.j,  0.+0.j, -4.+0.j,  0.+0.j,  4.+0.j],\n",
       "        [ 4.+0.j, -2.+0.j,  0.+0.j,  0.+0.j,  0.+0.j,  0.+0.j,  0.+0.j,\n",
       "          0.+0.j,  0.+0.j,  0.+0.j,  0.+0.j,  2.+0.j, -4.+0.j]]))"
      ]
     },
     "execution_count": 7,
     "metadata": {},
     "output_type": "execute_result"
    }
   ],
   "source": [
    "g.automorphisms().character_table_readable()"
   ]
  },
  {
   "cell_type": "code",
   "execution_count": 8,
   "metadata": {},
   "outputs": [
    {
     "data": {
      "text/plain": [
       "array([[ 1.+0.j,  1.+0.j,  1.+0.j,  1.+0.j,  1.+0.j,  1.+0.j,  1.+0.j,\n",
       "         1.+0.j,  1.+0.j,  1.+0.j,  1.+0.j,  1.+0.j,  1.+0.j,  1.+0.j,\n",
       "         1.+0.j,  1.+0.j,  1.+0.j,  1.+0.j,  1.+0.j,  1.+0.j,  1.+0.j,\n",
       "         1.+0.j,  1.+0.j,  1.+0.j,  1.+0.j,  1.+0.j,  1.+0.j,  1.+0.j,\n",
       "         1.+0.j,  1.+0.j,  1.+0.j,  1.+0.j,  1.+0.j,  1.+0.j,  1.+0.j,\n",
       "         1.+0.j,  1.+0.j,  1.+0.j,  1.+0.j,  1.+0.j,  1.+0.j,  1.+0.j,\n",
       "         1.+0.j,  1.+0.j,  1.+0.j,  1.+0.j,  1.+0.j,  1.+0.j,  1.+0.j,\n",
       "         1.+0.j,  1.+0.j,  1.+0.j,  1.+0.j,  1.+0.j,  1.+0.j,  1.+0.j,\n",
       "         1.+0.j,  1.+0.j,  1.+0.j,  1.+0.j,  1.+0.j,  1.+0.j,  1.+0.j,\n",
       "         1.+0.j],\n",
       "       [ 1.+0.j,  1.+0.j,  1.+0.j,  1.+0.j,  0.+1.j,  0.+1.j,  0.+1.j,\n",
       "         0.+1.j, -1.+0.j, -1.+0.j, -1.+0.j, -1.+0.j,  0.-1.j,  0.-1.j,\n",
       "         0.-1.j,  0.-1.j,  0.+1.j,  0.+1.j,  0.+1.j,  0.+1.j,  1.+0.j,\n",
       "         1.+0.j,  1.+0.j,  1.+0.j,  0.-1.j,  0.-1.j,  0.-1.j,  0.-1.j,\n",
       "        -1.+0.j, -1.+0.j, -1.+0.j, -1.+0.j, -1.+0.j, -1.+0.j, -1.+0.j,\n",
       "        -1.+0.j,  0.-1.j,  0.-1.j,  0.-1.j,  0.-1.j,  1.+0.j,  1.+0.j,\n",
       "         1.+0.j,  1.+0.j,  0.+1.j,  0.+1.j,  0.+1.j,  0.+1.j,  0.-1.j,\n",
       "         0.-1.j,  0.-1.j,  0.-1.j, -1.+0.j, -1.+0.j, -1.+0.j, -1.+0.j,\n",
       "         0.+1.j,  0.+1.j,  0.+1.j,  0.+1.j,  1.+0.j,  1.+0.j,  1.+0.j,\n",
       "         1.+0.j],\n",
       "       [ 1.+0.j,  1.+0.j,  1.+0.j,  1.+0.j,  0.-1.j,  0.-1.j,  0.-1.j,\n",
       "         0.-1.j, -1.+0.j, -1.+0.j, -1.+0.j, -1.+0.j,  0.+1.j,  0.+1.j,\n",
       "         0.+1.j,  0.+1.j,  0.-1.j,  0.-1.j,  0.-1.j,  0.-1.j,  1.+0.j,\n",
       "         1.+0.j,  1.+0.j,  1.+0.j,  0.+1.j,  0.+1.j,  0.+1.j,  0.+1.j,\n",
       "        -1.+0.j, -1.+0.j, -1.+0.j, -1.+0.j, -1.+0.j, -1.+0.j, -1.+0.j,\n",
       "        -1.+0.j,  0.+1.j,  0.+1.j,  0.+1.j,  0.+1.j,  1.+0.j,  1.+0.j,\n",
       "         1.+0.j,  1.+0.j,  0.-1.j,  0.-1.j,  0.-1.j,  0.-1.j,  0.+1.j,\n",
       "         0.+1.j,  0.+1.j,  0.+1.j, -1.+0.j, -1.+0.j, -1.+0.j, -1.+0.j,\n",
       "         0.-1.j,  0.-1.j,  0.-1.j,  0.-1.j,  1.+0.j,  1.+0.j,  1.+0.j,\n",
       "         1.+0.j],\n",
       "       [ 1.+0.j,  1.+0.j,  1.+0.j,  1.+0.j, -1.+0.j, -1.+0.j, -1.+0.j,\n",
       "        -1.+0.j,  1.+0.j,  1.+0.j,  1.+0.j,  1.+0.j, -1.+0.j, -1.+0.j,\n",
       "        -1.+0.j, -1.+0.j, -1.+0.j, -1.+0.j, -1.+0.j, -1.+0.j,  1.+0.j,\n",
       "         1.+0.j,  1.+0.j,  1.+0.j, -1.+0.j, -1.+0.j, -1.+0.j, -1.+0.j,\n",
       "         1.+0.j,  1.+0.j,  1.+0.j,  1.+0.j,  1.+0.j,  1.+0.j,  1.+0.j,\n",
       "         1.+0.j, -1.+0.j, -1.+0.j, -1.+0.j, -1.+0.j,  1.+0.j,  1.+0.j,\n",
       "         1.+0.j,  1.+0.j, -1.+0.j, -1.+0.j, -1.+0.j, -1.+0.j, -1.+0.j,\n",
       "        -1.+0.j, -1.+0.j, -1.+0.j,  1.+0.j,  1.+0.j,  1.+0.j,  1.+0.j,\n",
       "        -1.+0.j, -1.+0.j, -1.+0.j, -1.+0.j,  1.+0.j,  1.+0.j,  1.+0.j,\n",
       "         1.+0.j],\n",
       "       [ 1.+0.j, -1.+0.j, -1.+0.j,  1.+0.j,  1.+0.j, -1.+0.j,  1.+0.j,\n",
       "        -1.+0.j,  1.+0.j, -1.+0.j, -1.+0.j,  1.+0.j,  1.+0.j, -1.+0.j,\n",
       "         1.+0.j, -1.+0.j, -1.+0.j,  1.+0.j, -1.+0.j,  1.+0.j, -1.+0.j,\n",
       "         1.+0.j,  1.+0.j, -1.+0.j, -1.+0.j,  1.+0.j, -1.+0.j,  1.+0.j,\n",
       "        -1.+0.j,  1.+0.j,  1.+0.j, -1.+0.j, -1.+0.j,  1.+0.j,  1.+0.j,\n",
       "        -1.+0.j,  1.+0.j, -1.+0.j,  1.+0.j, -1.+0.j, -1.+0.j,  1.+0.j,\n",
       "         1.+0.j, -1.+0.j,  1.+0.j, -1.+0.j,  1.+0.j, -1.+0.j, -1.+0.j,\n",
       "         1.+0.j, -1.+0.j,  1.+0.j,  1.+0.j, -1.+0.j, -1.+0.j,  1.+0.j,\n",
       "        -1.+0.j,  1.+0.j, -1.+0.j,  1.+0.j,  1.+0.j, -1.+0.j, -1.+0.j,\n",
       "         1.+0.j],\n",
       "       [ 1.+0.j, -1.+0.j, -1.+0.j,  1.+0.j,  0.+1.j,  0.-1.j,  0.+1.j,\n",
       "         0.-1.j, -1.+0.j,  1.+0.j,  1.+0.j, -1.+0.j,  0.-1.j,  0.+1.j,\n",
       "         0.-1.j,  0.+1.j,  0.-1.j,  0.+1.j,  0.-1.j,  0.+1.j, -1.+0.j,\n",
       "         1.+0.j,  1.+0.j, -1.+0.j,  0.+1.j,  0.-1.j,  0.+1.j,  0.-1.j,\n",
       "         1.+0.j, -1.+0.j, -1.+0.j,  1.+0.j,  1.+0.j, -1.+0.j, -1.+0.j,\n",
       "         1.+0.j,  0.-1.j,  0.+1.j,  0.-1.j,  0.+1.j, -1.+0.j,  1.+0.j,\n",
       "         1.+0.j, -1.+0.j,  0.+1.j,  0.-1.j,  0.+1.j,  0.-1.j,  0.+1.j,\n",
       "         0.-1.j,  0.+1.j,  0.-1.j, -1.+0.j,  1.+0.j,  1.+0.j, -1.+0.j,\n",
       "         0.-1.j,  0.+1.j,  0.-1.j,  0.+1.j,  1.+0.j, -1.+0.j, -1.+0.j,\n",
       "         1.+0.j],\n",
       "       [ 1.+0.j, -1.+0.j, -1.+0.j,  1.+0.j,  0.-1.j,  0.+1.j,  0.-1.j,\n",
       "         0.+1.j, -1.+0.j,  1.+0.j,  1.+0.j, -1.+0.j,  0.+1.j,  0.-1.j,\n",
       "         0.+1.j,  0.-1.j,  0.+1.j,  0.-1.j,  0.+1.j,  0.-1.j, -1.+0.j,\n",
       "         1.+0.j,  1.+0.j, -1.+0.j,  0.-1.j,  0.+1.j,  0.-1.j,  0.+1.j,\n",
       "         1.+0.j, -1.+0.j, -1.+0.j,  1.+0.j,  1.+0.j, -1.+0.j, -1.+0.j,\n",
       "         1.+0.j,  0.+1.j,  0.-1.j,  0.+1.j,  0.-1.j, -1.+0.j,  1.+0.j,\n",
       "         1.+0.j, -1.+0.j,  0.-1.j,  0.+1.j,  0.-1.j,  0.+1.j,  0.-1.j,\n",
       "         0.+1.j,  0.-1.j,  0.+1.j, -1.+0.j,  1.+0.j,  1.+0.j, -1.+0.j,\n",
       "         0.+1.j,  0.-1.j,  0.+1.j,  0.-1.j,  1.+0.j, -1.+0.j, -1.+0.j,\n",
       "         1.+0.j],\n",
       "       [ 1.+0.j, -1.+0.j, -1.+0.j,  1.+0.j, -1.+0.j,  1.+0.j, -1.+0.j,\n",
       "         1.+0.j,  1.+0.j, -1.+0.j, -1.+0.j,  1.+0.j, -1.+0.j,  1.+0.j,\n",
       "        -1.+0.j,  1.+0.j,  1.+0.j, -1.+0.j,  1.+0.j, -1.+0.j, -1.+0.j,\n",
       "         1.+0.j,  1.+0.j, -1.+0.j,  1.+0.j, -1.+0.j,  1.+0.j, -1.+0.j,\n",
       "        -1.+0.j,  1.+0.j,  1.+0.j, -1.+0.j, -1.+0.j,  1.+0.j,  1.+0.j,\n",
       "        -1.+0.j, -1.+0.j,  1.+0.j, -1.+0.j,  1.+0.j, -1.+0.j,  1.+0.j,\n",
       "         1.+0.j, -1.+0.j, -1.+0.j,  1.+0.j, -1.+0.j,  1.+0.j,  1.+0.j,\n",
       "        -1.+0.j,  1.+0.j, -1.+0.j,  1.+0.j, -1.+0.j, -1.+0.j,  1.+0.j,\n",
       "         1.+0.j, -1.+0.j,  1.+0.j, -1.+0.j,  1.+0.j, -1.+0.j, -1.+0.j,\n",
       "         1.+0.j],\n",
       "       [ 2.+0.j,  0.+0.j,  0.+0.j, -2.+0.j,  0.+0.j,  0.+0.j,  0.+0.j,\n",
       "         0.+0.j,  2.+0.j,  0.+0.j,  0.+0.j, -2.+0.j,  0.+0.j,  0.+0.j,\n",
       "         0.+0.j,  0.+0.j,  0.+0.j,  0.+0.j,  0.+0.j,  0.+0.j,  0.+0.j,\n",
       "        -2.+0.j,  2.+0.j,  0.+0.j,  0.+0.j,  0.+0.j,  0.+0.j,  0.+0.j,\n",
       "         0.+0.j, -2.+0.j,  2.+0.j,  0.+0.j,  0.+0.j,  2.+0.j, -2.+0.j,\n",
       "         0.+0.j,  0.+0.j,  0.+0.j,  0.+0.j,  0.+0.j,  0.+0.j,  2.+0.j,\n",
       "        -2.+0.j,  0.+0.j,  0.+0.j,  0.+0.j,  0.+0.j,  0.+0.j,  0.+0.j,\n",
       "         0.+0.j,  0.+0.j,  0.+0.j, -2.+0.j,  0.+0.j,  0.+0.j,  2.+0.j,\n",
       "         0.+0.j,  0.+0.j,  0.+0.j,  0.+0.j, -2.+0.j,  0.+0.j,  0.+0.j,\n",
       "         2.+0.j],\n",
       "       [ 2.+0.j,  0.+0.j,  0.+0.j, -2.+0.j,  0.+0.j,  0.+0.j,  0.+0.j,\n",
       "         0.+0.j, -2.+0.j,  0.+0.j,  0.+0.j,  2.+0.j,  0.+0.j,  0.+0.j,\n",
       "         0.+0.j,  0.+0.j,  0.+0.j,  0.+0.j,  0.+0.j,  0.+0.j,  0.+0.j,\n",
       "        -2.+0.j,  2.+0.j,  0.+0.j,  0.+0.j,  0.+0.j,  0.+0.j,  0.+0.j,\n",
       "         0.+0.j,  2.+0.j, -2.+0.j,  0.+0.j,  0.+0.j, -2.+0.j,  2.+0.j,\n",
       "         0.+0.j,  0.+0.j,  0.+0.j,  0.+0.j,  0.+0.j,  0.+0.j,  2.+0.j,\n",
       "        -2.+0.j,  0.+0.j,  0.+0.j,  0.+0.j,  0.+0.j,  0.+0.j,  0.+0.j,\n",
       "         0.+0.j,  0.+0.j,  0.+0.j,  2.+0.j,  0.+0.j,  0.+0.j, -2.+0.j,\n",
       "         0.+0.j,  0.+0.j,  0.+0.j,  0.+0.j, -2.+0.j,  0.+0.j,  0.+0.j,\n",
       "         2.+0.j],\n",
       "       [ 4.+0.j,  2.+0.j,  2.+0.j,  0.+0.j,  0.+0.j,  0.+0.j,  0.+0.j,\n",
       "         0.+0.j,  0.+0.j,  0.+0.j,  0.+0.j,  0.+0.j,  0.+0.j,  0.+0.j,\n",
       "         0.+0.j,  0.+0.j,  0.+0.j,  0.+0.j,  0.+0.j,  0.+0.j,  2.+0.j,\n",
       "         0.+0.j,  0.+0.j, -2.+0.j,  0.+0.j,  0.+0.j,  0.+0.j,  0.+0.j,\n",
       "         0.+0.j,  0.+0.j,  0.+0.j,  0.+0.j,  0.+0.j,  0.+0.j,  0.+0.j,\n",
       "         0.+0.j,  0.+0.j,  0.+0.j,  0.+0.j,  0.+0.j, -2.+0.j, -4.+0.j,\n",
       "         0.+0.j, -2.+0.j,  0.+0.j,  0.+0.j,  0.+0.j,  0.+0.j,  0.+0.j,\n",
       "         0.+0.j,  0.+0.j,  0.+0.j,  0.+0.j,  0.+0.j,  0.+0.j,  0.+0.j,\n",
       "         0.+0.j,  0.+0.j,  0.+0.j,  0.+0.j,  0.+0.j, -2.+0.j,  2.+0.j,\n",
       "         0.+0.j],\n",
       "       [ 4.+0.j,  0.+0.j,  0.+0.j,  0.+0.j,  0.+0.j,  0.+0.j,  0.+0.j,\n",
       "         0.+0.j,  0.+0.j,  0.+0.j,  0.+0.j,  0.+0.j,  0.+0.j,  0.+0.j,\n",
       "         0.+0.j,  0.+0.j,  0.+0.j,  0.+0.j,  0.+0.j,  0.+0.j,  0.+0.j,\n",
       "         0.+0.j, -4.+0.j,  0.+0.j,  0.+0.j,  0.+0.j,  0.+0.j,  0.+0.j,\n",
       "         0.+0.j,  0.+0.j,  0.+0.j,  0.+0.j,  0.+0.j,  0.+0.j,  0.+0.j,\n",
       "         0.+0.j,  0.+0.j,  0.+0.j,  0.+0.j,  0.+0.j,  0.+0.j,  4.+0.j,\n",
       "         0.+0.j,  0.+0.j,  0.+0.j,  0.+0.j,  0.+0.j,  0.+0.j,  0.+0.j,\n",
       "         0.+0.j,  0.+0.j,  0.+0.j,  0.+0.j,  0.+0.j,  0.+0.j,  0.+0.j,\n",
       "         0.+0.j,  0.+0.j,  0.+0.j,  0.+0.j,  0.+0.j,  0.+0.j,  0.+0.j,\n",
       "        -4.+0.j],\n",
       "       [ 4.+0.j, -2.+0.j, -2.+0.j,  0.+0.j,  0.+0.j,  0.+0.j,  0.+0.j,\n",
       "         0.+0.j,  0.+0.j,  0.+0.j,  0.+0.j,  0.+0.j,  0.+0.j,  0.+0.j,\n",
       "         0.+0.j,  0.+0.j,  0.+0.j,  0.+0.j,  0.+0.j,  0.+0.j, -2.+0.j,\n",
       "         0.+0.j,  0.+0.j,  2.+0.j,  0.+0.j,  0.+0.j,  0.+0.j,  0.+0.j,\n",
       "         0.+0.j,  0.+0.j,  0.+0.j,  0.+0.j,  0.+0.j,  0.+0.j,  0.+0.j,\n",
       "         0.+0.j,  0.+0.j,  0.+0.j,  0.+0.j,  0.+0.j,  2.+0.j, -4.+0.j,\n",
       "         0.+0.j,  2.+0.j,  0.+0.j,  0.+0.j,  0.+0.j,  0.+0.j,  0.+0.j,\n",
       "         0.+0.j,  0.+0.j,  0.+0.j,  0.+0.j,  0.+0.j,  0.+0.j,  0.+0.j,\n",
       "         0.+0.j,  0.+0.j,  0.+0.j,  0.+0.j,  0.+0.j,  2.+0.j, -2.+0.j,\n",
       "         0.+0.j]])"
      ]
     },
     "execution_count": 8,
     "metadata": {},
     "output_type": "execute_result"
    }
   ],
   "source": [
    "g.automorphisms().character_table()"
   ]
  },
  {
   "cell_type": "markdown",
   "metadata": {},
   "source": [
    "## Hamoltonian definition\n",
    "$$ H = J_{1} \\sum\\limits_{\\langle i,j \\rangle}^{L} \\vec{\\sigma}_{i} \\cdot \\vec{\\sigma}_{j} + J_{2} \\sum\\limits_{\\langle\\langle i,j \\rangle\\rangle_{SS}}^{L}  \\vec{\\sigma}_{i} \\cdot \\vec{\\sigma}_{j}\\,. $$\n",
    "\n",
    "Axiliary constant operators used to define hamiltonian are loaded from the external file, they are pre-defined in the `HamOps` class."
   ]
  },
  {
   "cell_type": "code",
   "execution_count": 9,
   "metadata": {},
   "outputs": [],
   "source": [
    "from lattice_and_ops import HamOps\n",
    "ho = HamOps()\n",
    "ha_1 = nk.operator.GraphOperator(hilbert, graph=g, bond_ops=ho.bond_operator(JEXCH1,JEXCH2, use_MSR=False), bond_ops_colors=ho.bond_color)\n",
    "ha_2 = nk.operator.GraphOperator(hilbert, graph=g, bond_ops=ho.bond_operator(JEXCH1,JEXCH2, use_MSR=True), bond_ops_colors=ho.bond_color)\n"
   ]
  },
  {
   "cell_type": "markdown",
   "metadata": {},
   "source": [
    "## Exact diagonalization"
   ]
  },
  {
   "cell_type": "code",
   "execution_count": 10,
   "metadata": {},
   "outputs": [
    {
     "name": "stdout",
     "output_type": "stream",
     "text": [
      "Ground state energy: -23.99999999999996 \n",
      "It took  4.77 s = 0.08 min\n"
     ]
    }
   ],
   "source": [
    "if g.n_nodes < 20:\n",
    "    start = time.time()\n",
    "    if g.n_nodes < 15:\n",
    "        evals, eigvects = nk.exact.full_ed(ha_1, compute_eigenvectors=True)\n",
    "    else:\n",
    "        evals, eigvects = nk.exact.lanczos_ed(ha_1, k=3, compute_eigenvectors=True)\n",
    "    end = time.time()\n",
    "    diag_time = end - start\n",
    "    print(\"Ground state energy:\",evals[0], \"\\nIt took \", round(diag_time,2), \"s =\", round((diag_time)/60,2),\"min\")\n",
    "else:\n",
    "    print(\"System is too large for exact diagonalization. Setting exact_ground_energy = 0 (which is wrong)\")\n",
    "    evals = [0,0,0]\n",
    "    eigvects = None \n",
    "exact_ground_energy = evals[0]"
   ]
  },
  {
   "cell_type": "markdown",
   "metadata": {},
   "source": [
    "## Machine definition and other auxiliary `netket` objects\n",
    "We define two sets of these objects, usually: \n",
    "- variables ending with ...`_1` belongs to the choice of standard basis,\n",
    "- variables ending with ...`_2` belongs to the choice of MSR basis.\n",
    "\n",
    "But they can be used in a different way when we need to compare two different models."
   ]
  },
  {
   "cell_type": "code",
   "execution_count": 11,
   "metadata": {},
   "outputs": [
    {
     "name": "stderr",
     "output_type": "stream",
     "text": [
      "WARNING:absl:No GPU/TPU found, falling back to CPU. (Set TF_CPP_MIN_LOG_LEVEL=0 and rerun for more info.)\n"
     ]
    }
   ],
   "source": [
    "optimizer_1 = nk.optimizer.Sgd(learning_rate=ETA)\n",
    "optimizer_2 = nk.optimizer.Sgd(learning_rate=ETA)\n",
    "\n",
    "# Selection of machine type\n",
    "if MACHINE == \"RBM\":\n",
    "    machine_1 = nk.models.RBM(dtype=DTYPE, alpha=ALPHA)#, use_visible_bias=False) \n",
    "    machine_2 = nk.models.RBM(dtype=DTYPE, alpha=ALPHA)#, use_visible_bias=False)\n",
    "elif MACHINE == \"RBMSymm\":\n",
    "    machine_1 = nk.models.RBMSymm(g.automorphisms(), dtype=DTYPE, alpha=ALPHA)#, use_visible_bias=False) \n",
    "    machine_2 = nk.models.RBMSymm(g.automorphisms(), dtype=DTYPE, alpha=ALPHA)#, use_visible_bias=False)\n",
    "elif MACHINE == \"RBMSymm_transl\":\n",
    "    machine_1 = nk.models.RBMSymm(translation_group, dtype=DTYPE, alpha=ALPHA)#, use_visible_bias=False) \n",
    "    machine_2 = nk.models.RBMSymm(translation_group, dtype=DTYPE, alpha=ALPHA)#, use_visible_bias=False)\n",
    "elif MACHINE == \"GCNN\":\n",
    "    machine_1 = nk.models.GCNN(symmetries=g.automorphisms(), dtype=DTYPE, \n",
    "        layers=N_LAYERS, features=FEATURES, characters=characters_dimer    )#, output_activation=log_cosh)\n",
    "    machine_2 = nk.models.GCNN(symmetries=g.automorphisms(), dtype=DTYPE, \n",
    "        layers=N_LAYERS, features=FEATURES, characters=characters_dimer_msr)#, output_activation=log_cosh)\n",
    "elif MACHINE == \"myRBM\":\n",
    "    no_of_filters = int(ALPHA/len(characters_dimer))\n",
    "    if ALPHA%len(characters_dimer) != 0:\n",
    "        raise Exception(\"Invalid ALPHA. It needs to be divisible by the number of symmetries!\")\n",
    "    from netket.nn import log_cosh\n",
    "    def identity(x):\n",
    "        return x\n",
    "    from GCNN_Nomura import GCNN_my\n",
    "    machine_1 = GCNN_my(symmetries=g.automorphisms(), dtype=DTYPE, layers=1, features=no_of_filters, \n",
    "        characters=characters_dimer, output_activation=log_cosh, use_bias=True, use_visible_bias=True)\n",
    "    machine_2 = GCNN_my(symmetries=g.automorphisms(), dtype=DTYPE, layers=1, features=no_of_filters, \n",
    "        characters=characters_dimer, output_activation=log_cosh, use_bias=True, use_visible_bias=True)\n",
    "elif MACHINE == \"Jastrow\":\n",
    "    from lattice_and_ops import Jastrow\n",
    "    machine_1 = Jastrow()\n",
    "    machine_2 = Jastrow()\n",
    "elif MACHINE == \"RBMModPhase\":\n",
    "    machine_1 = nk.models.RBMModPhase(alpha=ALPHA, use_hidden_bias=True, dtype=DTYPE)\n",
    "    machine_2 = nk.models.RBMModPhase(alpha=ALPHA, use_hidden_bias=True, dtype=DTYPE)\n",
    "\n",
    "    # A linear schedule varies the learning rate from 0 to 0.01 across 600 steps.\n",
    "    modulus_schedule_1=optax.linear_schedule(0,0.01,NUM_ITER)\n",
    "    modulus_schedule_2=optax.linear_schedule(0,0.01,NUM_ITER)\n",
    "    # The phase starts with a larger learning rate and then is decreased.\n",
    "    phase_schedule_1=optax.linear_schedule(0.05,0.01,NUM_ITER)\n",
    "    phase_schedule_2=optax.linear_schedule(0.05,0.01,NUM_ITER)\n",
    "    # Combine the linear schedule with SGD\n",
    "    optm_1=optax.sgd(modulus_schedule_1)\n",
    "    optp_1=optax.sgd(phase_schedule_1)\n",
    "    optm_2=optax.sgd(modulus_schedule_2)\n",
    "    optp_2=optax.sgd(phase_schedule_2)\n",
    "    # The multi-transform optimizer uses different optimisers for different parts of the parameters.\n",
    "    optimizer_1 = optax.multi_transform({'o1': optm_1, 'o2': optp_1}, flax.core.freeze({\"Dense_0\":\"o1\", \"Dense_1\":\"o2\"}))\n",
    "    optimizer_2 = optax.multi_transform({'o1': optm_2, 'o2': optp_2}, flax.core.freeze({\"Dense_0\":\"o1\", \"Dense_1\":\"o2\"}))\n",
    "else:\n",
    "    raise Exception(str(\"undefined MACHINE: \")+str(MACHINE))\n",
    "\n",
    "# Selection of sampler type\n",
    "if SAMPLER == 'local':\n",
    "    sampler_1 = nk.sampler.MetropolisLocal(hilbert=hilbert)\n",
    "    sampler_2 = nk.sampler.MetropolisLocal(hilbert=hilbert)\n",
    "elif SAMPLER == 'exact':\n",
    "    sampler_1 = nk.sampler.ExactSampler(hilbert=hilbert)\n",
    "    sampler_2 = nk.sampler.ExactSampler(hilbert=hilbert)\n",
    "else:\n",
    "    sampler_1 = nk.sampler.MetropolisExchange(hilbert=hilbert, graph=g)\n",
    "    sampler_2 = nk.sampler.MetropolisExchange(hilbert=hilbert, graph=g)\n",
    "    if SAMPLER != 'exchange':\n",
    "        print(\"Warning! Undefined fq.SAMPLER:\", SAMPLER, \", dafaulting to MetropolisExchange fq.SAMPLER\")\n",
    "\n",
    "\n",
    "# Stochastic Reconfiguration as a preconditioner\n",
    "sr_1  = nk.optimizer.SR(diag_shift=0.01)\n",
    "sr_2  = nk.optimizer.SR(diag_shift=0.01)\n",
    "\n",
    "# The variational state (former name: nk.variational.MCState)\n",
    "vs_1 = nk.vqs.MCState(sampler_1 , machine_1 , n_samples=SAMPLES)\n",
    "vs_2  = nk.vqs.MCState(sampler_2 , machine_2 , n_samples=SAMPLES)\n",
    "vs_1.init_parameters(jax.nn.initializers.normal(stddev=0.001))\n",
    "vs_2.init_parameters(jax.nn.initializers.normal(stddev=0.001))\n",
    "\n",
    "\n",
    "gs_1 = nk.VMC(hamiltonian=ha_1 ,optimizer=optimizer_1 ,preconditioner=sr_1 ,variational_state=vs_1)\n",
    "gs_2 = nk.VMC(hamiltonian=ha_2 ,optimizer=optimizer_2 ,preconditioner=sr_2 ,variational_state=vs_2) "
   ]
  },
  {
   "cell_type": "code",
   "execution_count": 12,
   "metadata": {},
   "outputs": [
    {
     "name": "stdout",
     "output_type": "stream",
     "text": [
      "2192 2192\n"
     ]
    }
   ],
   "source": [
    "print(vs_1.n_parameters, vs_2.n_parameters)"
   ]
  },
  {
   "cell_type": "markdown",
   "metadata": {},
   "source": [
    "# Calculation\n",
    "We let the calculation run for `NUM_ITERS` iterations for both cases _1 and _2 (without MSR and with MSR). If only one case is desired, set the variable `no_of_runs` to 1."
   ]
  },
  {
   "cell_type": "code",
   "execution_count": 13,
   "metadata": {},
   "outputs": [
    {
     "name": "stdout",
     "output_type": "stream",
     "text": [
      "J_1 = 0.2; Expected exact energy: -23.99999999999996\n"
     ]
    },
    {
     "name": "stderr",
     "output_type": "stream",
     "text": [
      "  0%|          | 0/400 [00:00<?, ?it/s]"
     ]
    },
    {
     "name": "stdout",
     "output_type": "stream",
     "text": [
      "x=Traced<ShapedArray(complex128[128])>with<DynamicJaxprTrace(level=0/1)>  target=Traced<ShapedArray(complex128[128])>with<DynamicJaxprTrace(level=0/1)>\n",
      "x=Traced<ShapedArray(complex128[16,128])>with<DynamicJaxprTrace(level=0/1)>  target=Traced<ShapedArray(complex128[16,128])>with<DynamicJaxprTrace(level=0/1)>\n",
      "x=Traced<ShapedArray(complex128[16])>with<DynamicJaxprTrace(level=0/1)>  target=Traced<ShapedArray(complex128[16])>with<DynamicJaxprTrace(level=0/1)>\n",
      "x=Traced<ShapedArray(complex128[128])>with<DynamicJaxprTrace(level=1/2)>  target=Traced<ShapedArray(complex128[128])>with<DynamicJaxprTrace(level=1/2)>\n",
      "x=Traced<ShapedArray(complex128[16,128])>with<DynamicJaxprTrace(level=1/2)>  target=Traced<ShapedArray(complex128[16,128])>with<DynamicJaxprTrace(level=1/2)>\n",
      "x=Traced<ShapedArray(complex128[16])>with<DynamicJaxprTrace(level=1/2)>  target=Traced<ShapedArray(complex128[16])>with<DynamicJaxprTrace(level=1/2)>\n",
      "x=Traced<ShapedArray(complex128[128])>with<DynamicJaxprTrace(level=1/2)>  target=Traced<ShapedArray(complex128[128])>with<DynamicJaxprTrace(level=1/2)>\n",
      "x=Traced<ShapedArray(complex128[16,128])>with<DynamicJaxprTrace(level=1/2)>  target=Traced<ShapedArray(complex128[16,128])>with<DynamicJaxprTrace(level=1/2)>\n",
      "x=Traced<ShapedArray(complex128[16])>with<DynamicJaxprTrace(level=1/2)>  target=Traced<ShapedArray(complex128[16])>with<DynamicJaxprTrace(level=1/2)>\n",
      "x=Traced<ShapedArray(complex128[128])>with<DynamicJaxprTrace(level=2/2)>  target=Traced<ShapedArray(complex128[128])>with<DynamicJaxprTrace(level=2/2)>\n",
      "x=Traced<ShapedArray(complex128[16,128])>with<DynamicJaxprTrace(level=2/2)>  target=Traced<ShapedArray(complex128[16,128])>with<DynamicJaxprTrace(level=2/2)>\n",
      "x=Traced<ShapedArray(complex128[16])>with<DynamicJaxprTrace(level=2/2)>  target=Traced<ShapedArray(complex128[16])>with<DynamicJaxprTrace(level=2/2)>\n",
      "x=Traced<ShapedArray(complex128[128]):JaxprTrace(level=1/2)>  target=Traced<ShapedArray(complex128[128]):JaxprTrace(level=1/2)>\n",
      "x=Traced<ShapedArray(complex128[16,128]):JaxprTrace(level=1/2)>  target=Traced<ShapedArray(complex128[16,128]):JaxprTrace(level=1/2)>\n",
      "x=Traced<ShapedArray(complex128[16]):JaxprTrace(level=1/2)>  target=Traced<ShapedArray(complex128[16]):JaxprTrace(level=1/2)>\n"
     ]
    },
    {
     "name": "stderr",
     "output_type": "stream",
     "text": [
      " 31%|███       | 124/400 [00:44<01:55,  2.40it/s, Energy=0.40+0.05j ± 0.19 [σ²=33.90]]           "
     ]
    }
   ],
   "source": [
    "runs = [1,0]\n",
    "no_of_runs = np.sum(runs) # 1 - one run for variables with ..._1;  2 - both runs for variables ..._1 and ..._2\n",
    "run_only_2 = (runs[1]==1 and runs[0]==0) # in case of no_of_runs=1\n",
    "# NUM_ITER = 120#3000\n",
    "print(\"J_1 =\", JEXCH1, end=\"; \")\n",
    "if exact_ground_energy != 0:\n",
    "    print(\"Expected exact energy:\", exact_ground_energy)\n",
    "for i,gs in enumerate([gs_1,gs_2][run_only_2:run_only_2+no_of_runs]):\n",
    "    start = time.time()\n",
    "    gs.run(out=OUT_NAME+str(i), n_iter=int(NUM_ITER))#, obs={'symmetry':P(0,1)})\n",
    "    end = time.time()\n",
    "    print(\"The calculation for {} of type {} took {} min\".format(MACHINE, i+1, (end-start)/60))\n"
   ]
  },
  {
   "cell_type": "markdown",
   "metadata": {},
   "source": [
    "## Energy Convergence Plotting\n",
    "In case that the machine did not converge, we can re-run the previous cell and than skip the next cell. This way, the replotting just appends the new results and does not erase the previoius results. "
   ]
  },
  {
   "cell_type": "code",
   "execution_count": null,
   "metadata": {},
   "outputs": [],
   "source": [
    "# Exact Energy Line\n",
    "no_of_all_iters = NUM_ITER\n",
    "figure = go.Figure(\n",
    "    data=[\n",
    "        go.Scatter(\n",
    "            x=(0,no_of_all_iters),\n",
    "            y=(exact_ground_energy,exact_ground_energy),\n",
    "            mode=\"lines\",line=go.scatter.Line(color=\"#000000\",width=1), name=\"exact energy\")],\n",
    "    layout=go.Layout(\n",
    "        template=\"simple_white\",\n",
    "        xaxis=dict(title=\"Iteration\", mirror=True, showline=True),\n",
    "        yaxis=dict(title=\"Energy\", mirror=True, showline=True),\n",
    "        title=(\"<b>\"+\"S-S\"+\" model </b>, L=\"+str(SITES)+\", J2 =\"+str(JEXCH2)+ \", J1 =\"+str(JEXCH1)+\" , η=\"+str(ETA)+\", α=\"+str(ALPHA)+\", samples=\"+str(SAMPLES)))\n",
    "    ).add_hline(y=exact_ground_energy, opacity=1, line_width=1)\n"
   ]
  },
  {
   "cell_type": "code",
   "execution_count": null,
   "metadata": {},
   "outputs": [
    {
     "data": {
      "application/vnd.plotly.v1+json": {
       "config": {
        "plotlyServerURL": "https://plot.ly"
       },
       "data": [
        {
         "line": {
          "color": "#000000",
          "width": 1
         },
         "mode": "lines",
         "name": "exact energy",
         "type": "scatter",
         "x": [
          0,
          400
         ],
         "y": [
          -24.000000000000014,
          -24.000000000000014
         ]
        },
        {
         "name": "1st type",
         "type": "scatter",
         "x": [
          0,
          1,
          2,
          3,
          4,
          5,
          6,
          7,
          8,
          9,
          10,
          11,
          12,
          13,
          14,
          15,
          16,
          17,
          18,
          19,
          20,
          21,
          22,
          23,
          24,
          25,
          26,
          27,
          28,
          29,
          30,
          31,
          32,
          33,
          34,
          35,
          36,
          37,
          38,
          39,
          40,
          41,
          42,
          43,
          44,
          45,
          46,
          47,
          48,
          49,
          50,
          51,
          52,
          53,
          54,
          55,
          56,
          57,
          58,
          59,
          60,
          61,
          62,
          63,
          64,
          65,
          66,
          67,
          68,
          69,
          70,
          71,
          72,
          73,
          74,
          75,
          76,
          77,
          78,
          79,
          80,
          81,
          82,
          83,
          84,
          85,
          86,
          87,
          88,
          89,
          90,
          91,
          92,
          93,
          94,
          95,
          96,
          97,
          98,
          99,
          100,
          101,
          102,
          103,
          104,
          105,
          106,
          107,
          108,
          109,
          110,
          111,
          112,
          113,
          114,
          115,
          116,
          117,
          118,
          119,
          120,
          121,
          122,
          123,
          124,
          125,
          126,
          127,
          128,
          129,
          130,
          131,
          132,
          133,
          134,
          135,
          136,
          137,
          138,
          139,
          140,
          141,
          142,
          143,
          144,
          145,
          146,
          147,
          148,
          149,
          150,
          151,
          152,
          153,
          154,
          155,
          156,
          157,
          158,
          159,
          160,
          161,
          162,
          163,
          164,
          165,
          166,
          167,
          168,
          169,
          170,
          171,
          172,
          173,
          174,
          175,
          176,
          177,
          178,
          179,
          180,
          181,
          182,
          183,
          184,
          185,
          186,
          187,
          188,
          189,
          190,
          191,
          192,
          193,
          194,
          195,
          196,
          197,
          198,
          199,
          200,
          201,
          202,
          203,
          204,
          205,
          206,
          207,
          208,
          209,
          210,
          211,
          212,
          213,
          214,
          215,
          216,
          217,
          218,
          219,
          220,
          221,
          222,
          223,
          224,
          225,
          226,
          227,
          228,
          229,
          230,
          231,
          232,
          233,
          234,
          235,
          236,
          237,
          238,
          239,
          240,
          241,
          242,
          243,
          244,
          245,
          246,
          247,
          248,
          249,
          250,
          251,
          252,
          253,
          254,
          255,
          256,
          257,
          258,
          259,
          260,
          261,
          262,
          263,
          264,
          265,
          266,
          267,
          268,
          269,
          270,
          271,
          272,
          273,
          274,
          275,
          276,
          277,
          278,
          279,
          280,
          281,
          282,
          283,
          284,
          285,
          286,
          287,
          288,
          289,
          290,
          291,
          292,
          293,
          294,
          295,
          296,
          297,
          298,
          299,
          300,
          301,
          302,
          303,
          304,
          305,
          306,
          307,
          308,
          309,
          310,
          311,
          312,
          313,
          314,
          315,
          316,
          317,
          318,
          319,
          320,
          321,
          322,
          323,
          324,
          325,
          326,
          327,
          328,
          329,
          330,
          331,
          332,
          333,
          334,
          335,
          336,
          337,
          338,
          339,
          340,
          341,
          342,
          343,
          344,
          345,
          346,
          347,
          348,
          349,
          350,
          351,
          352,
          353,
          354,
          355,
          356,
          357,
          358,
          359,
          360,
          361,
          362,
          363,
          364,
          365,
          366,
          367,
          368,
          369,
          370,
          371,
          372,
          373,
          374,
          375,
          376,
          377,
          378,
          379,
          380,
          381,
          382,
          383,
          384,
          385,
          386,
          387,
          388,
          389,
          390,
          391,
          392,
          393,
          394,
          395,
          396,
          397,
          398,
          399
         ],
         "y": [
          14.400242836070898,
          14.399270663140248,
          14.40024512762083,
          14.399785718754696,
          14.399990170398087,
          14.400746420786495,
          14.400180881103404,
          14.400074810010578,
          14.399675963790441,
          14.400043345212977,
          14.400990527642442,
          14.398741506436886,
          14.398913373926913,
          14.400146361486387,
          14.398967503637603,
          14.399975712897575,
          14.39946458419905,
          14.400546863215746,
          14.39981428166966,
          14.39722566895704,
          14.39919884605247,
          14.398551449184149,
          14.400932450220278,
          14.402447950070036,
          14.397905102614828,
          14.39709122323361,
          14.399302062743326,
          14.39569403104937,
          14.399651600047319,
          14.397095029877228,
          14.393188824446153,
          14.398003358521503,
          14.400162675987028,
          14.39898098466679,
          14.398929379426436,
          14.399346175209468,
          14.397583985350087,
          14.395188222554156,
          14.395061461019473,
          14.395190016184113,
          14.399976751195036,
          14.39840013675679,
          14.391344516303276,
          14.395246286047739,
          14.38612319762905,
          14.392755512617029,
          14.385361395648713,
          14.37750817855536,
          14.3820542744508,
          14.396921735685103,
          14.381575852469547,
          14.372031018665997,
          14.380231363847303,
          14.389859116727296,
          14.388252856921422,
          14.367632441510171,
          14.38036218588203,
          14.353606266717511,
          14.349614097153825,
          14.350168565425175,
          14.354965844773247,
          14.337480947150127,
          14.356161421664947,
          14.332996495506547,
          14.341996815761341,
          14.334253951472002,
          14.312218582986587,
          14.309571753529543,
          14.276907078694917,
          14.252973688074515,
          14.293160652852873,
          14.209803252424914,
          14.235666257807686,
          14.183825444839066,
          14.141953214840356,
          14.201869723544142,
          14.168157906814384,
          14.097268023503112,
          14.050046643257263,
          14.065397220504765,
          14.053400558713284,
          13.951944158283604,
          13.975924356431596,
          13.884010942383382,
          13.840805448806474,
          13.697883466175725,
          13.681763986575044,
          13.649116971584725,
          13.492996170049407,
          13.436895859511504,
          13.233492336803707,
          13.16464956179177,
          13.127513932479408,
          12.927375451023902,
          12.779907699982425,
          12.671357869866734,
          12.343403295451987,
          12.260651067414864,
          11.92224584169546,
          11.757083572238946,
          11.667102017345679,
          11.297066545538803,
          11.013009139237335,
          10.555781757048662,
          10.204524250432128,
          10.000573699938736,
          9.622056778247734,
          9.32225856477644,
          8.914732576718881,
          8.426421717763763,
          8.038766284394166,
          7.5063716602653825,
          6.981762538154797,
          6.387228020907419,
          6.000249073953416,
          5.539885687103824,
          4.947310555317429,
          3.950588077034646,
          3.520231092562782,
          3.2035009907229868,
          2.4943227372049748,
          1.9772417600639118,
          1.109950284028854,
          0.42708860091450807,
          0.061889524114985765,
          -0.7313616366374834,
          -1.2716292605674362,
          -1.9078196464125112,
          -2.3898488733307484,
          -3.1609442355527175,
          -3.6269617374491423,
          -4.140338972518512,
          -4.679727355008317,
          -5.7772526460750155,
          -5.9469020433482145,
          -6.496564993272267,
          -7.051515065320684,
          -7.447596747814847,
          -7.968603896799131,
          -8.470600519701117,
          -8.934940120564288,
          -9.13530151499821,
          -9.739282082323781,
          -10.150039561191322,
          -10.481719836381224,
          -11.042784024662634,
          -11.079447067866589,
          -11.601580685454765,
          -12.083054072222254,
          -12.455912888940405,
          -12.846323055665538,
          -12.961145678859491,
          -13.24213225206732,
          -13.791419843958066,
          -13.919279565056154,
          -14.472777926144573,
          -14.536313475072053,
          -14.836911634350717,
          -15.059778696642477,
          -15.529735915110418,
          -15.692784117003095,
          -15.94235012128184,
          -16.133603343289764,
          -16.72209498026528,
          -16.882889027475862,
          -17.0605072060268,
          -17.350616742869217,
          -17.515830445536547,
          -17.931342788381414,
          -18.094921318733583,
          -18.23420256318274,
          -18.409134333278118,
          -18.615405425971392,
          -18.867665924960164,
          -19.10560352523146,
          -19.178296904704244,
          -19.342922873548545,
          -19.58045465699156,
          -19.676411393808355,
          -19.95915799991874,
          -20.19878604261136,
          -20.205341201128803,
          -20.29509402210495,
          -20.546552454728847,
          -20.636392418934054,
          -20.828329564679784,
          -20.99841182693651,
          -21.162870248770712,
          -21.310232998238952,
          -21.242657891092822,
          -21.555098336686292,
          -21.552498727059678,
          -21.722395226136605,
          -21.770366610743107,
          -22.001502958990983,
          -21.980858524143866,
          -22.114463846822837,
          -22.23735449926851,
          -22.404803423549723,
          -22.64442358633941,
          -22.530826181474545,
          -22.628537303111152,
          -22.756918904851286,
          -22.79010401775972,
          -22.905822706736863,
          -22.86030169715499,
          -23.031386591107648,
          -23.09646718463504,
          -23.113775596192372,
          -23.146577048582557,
          -23.319902387040514,
          -23.30654816495128,
          -23.265990139275196,
          -23.33312680627568,
          -23.376419082029127,
          -23.428706623882352,
          -23.40243177668569,
          -23.42154567851155,
          -23.54869936840984,
          -23.573248139313154,
          -23.61548053721876,
          -23.61954153545123,
          -23.597748974636716,
          -23.683569014056953,
          -23.635297296141854,
          -23.62962757410784,
          -23.70274979083692,
          -23.695499818061112,
          -23.710317628789678,
          -23.76668237915795,
          -23.777002700969213,
          -23.772117223176284,
          -23.785370164664023,
          -23.797944969021213,
          -23.787577638841245,
          -23.870130519445475,
          -23.8136890164084,
          -23.810692197696355,
          -23.869193844231944,
          -23.879877932756987,
          -23.890885796523254,
          -23.892880162904074,
          -23.847403099464003,
          -23.82625021181905,
          -23.88976709168486,
          -23.87096915468267,
          -23.896151998398622,
          -23.856758086988375,
          -23.889572836146268,
          -23.904881995566978,
          -23.897089329716614,
          -23.894250270382134,
          -23.89620883283022,
          -23.910637800047112,
          -23.943111580097746,
          -23.94794430426772,
          -23.89370447893172,
          -23.906192234234894,
          -23.911936122030188,
          -23.923522479141425,
          -23.939454848483454,
          -23.919126979539243,
          -23.922901542034467,
          -23.938197930185666,
          -23.922681598724036,
          -23.906475883738832,
          -23.90879211561449,
          -23.928024117424858,
          -23.92901311800286,
          -23.94201193569028,
          -23.945148871942756,
          -23.93244198489412,
          -23.958988665094594,
          -23.930296020586095,
          -23.920283058723363,
          -23.914598410335117,
          -23.965506776543304,
          -23.944998856742608,
          -23.932747191408264,
          -23.938217280659487,
          -23.967426633852135,
          -23.966785512524723,
          -23.95105138344562,
          -23.942350649892234,
          -23.929551186063225,
          -23.96880609111772,
          -23.947052482114977,
          -23.963550426290436,
          -23.948502610985635,
          -23.935887738022462,
          -23.973279873320696,
          -23.930853560566277,
          -23.913029132015474,
          -23.960242767964345,
          -23.95237537315578,
          -23.965051241336017,
          -23.958288816185682,
          -23.965842927815572,
          -23.96954401532672,
          -23.955007421236722,
          -23.964776711576118,
          -23.935981962325062,
          -23.957690701341047,
          -23.967751209069977,
          -23.97307018904168,
          -23.97331148494652,
          -23.977991923821538,
          -23.95686918728494,
          -23.960493357342706,
          -23.962509771547836,
          -23.954004768906,
          -23.977337938825695,
          -23.967438616844994,
          -23.958789059628916,
          -23.978681265752677,
          -23.936565794292235,
          -23.96667833636959,
          -23.972262744922027,
          -23.959812968450557,
          -23.979622830302077,
          -23.96759157936203,
          -23.964992825524664,
          -23.980127730425,
          -23.963640047923807,
          -23.95640154852756,
          -23.957526953644777,
          -23.965812955608335,
          -23.936332183293853,
          -23.97313971392014,
          -23.95735629556447,
          -23.969289575603142,
          -23.96043050503125,
          -23.966368542040914,
          -23.94643833023296,
          -23.957686067976955,
          -23.97021272609585,
          -23.96185682766522,
          -23.93762605340741,
          -23.95765437029665,
          -23.96410324860076,
          -23.97719056855942,
          -23.953891605394812,
          -23.973027830420804,
          -23.983472998148127,
          -23.949121699078738,
          -23.974466983517143,
          -23.96955366910762,
          -23.96648610002268,
          -23.968951608620518,
          -23.992090432302245,
          -23.97042015078127,
          -23.962992282648905,
          -23.98038768062433,
          -23.966497118592887,
          -23.977199438876664,
          -23.971373839851356,
          -23.983508057075614,
          -23.96218208787035,
          -23.98306047545333,
          -23.982133556777296,
          -23.971156978453823,
          -23.978851298921942,
          -23.970656436862363,
          -23.959757911363575,
          -23.966411720787775,
          -23.975287511644645,
          -23.973177586467514,
          -23.97059246882508,
          -23.972401959235434,
          -23.970016234952165,
          -23.975386762279808,
          -23.96917101757474,
          -23.96232318858373,
          -23.967668651005077,
          -23.984121926769973,
          -23.987617404649047,
          -23.987745770536186,
          -23.983834573194773,
          -23.94863302095015,
          -23.983586676817197,
          -23.968497598416967,
          -23.97459092358445,
          -23.972672512406238,
          -23.98123482253317,
          -23.96443707919535,
          -23.98353526618526,
          -23.966894840058,
          -23.96827572636962,
          -23.988344762528303,
          -23.973479664887574,
          -23.962399534004476,
          -23.990027244609806,
          -23.99630428100947,
          -23.97523471800029,
          -23.970055884424045,
          -23.9820754009689,
          -23.987993907468507,
          -23.956932711311055,
          -23.976381871566897,
          -23.983771063226893
         ]
        },
        {
         "name": "2nd type",
         "type": "scatter",
         "x": [
          0,
          1,
          2,
          3,
          4,
          5,
          6,
          7,
          8,
          9,
          10,
          11,
          12,
          13,
          14,
          15,
          16,
          17,
          18,
          19,
          20,
          21,
          22,
          23,
          24,
          25,
          26,
          27,
          28,
          29,
          30,
          31,
          32,
          33,
          34,
          35,
          36,
          37,
          38,
          39,
          40,
          41,
          42,
          43,
          44,
          45,
          46,
          47,
          48,
          49,
          50,
          51,
          52,
          53,
          54,
          55,
          56,
          57,
          58,
          59,
          60,
          61,
          62,
          63,
          64,
          65,
          66,
          67,
          68,
          69,
          70,
          71,
          72,
          73,
          74,
          75,
          76,
          77,
          78,
          79,
          80,
          81,
          82,
          83,
          84,
          85,
          86,
          87,
          88,
          89,
          90,
          91,
          92,
          93,
          94,
          95,
          96,
          97,
          98,
          99,
          100,
          101,
          102,
          103,
          104,
          105,
          106,
          107,
          108,
          109,
          110,
          111,
          112,
          113,
          114,
          115,
          116,
          117,
          118,
          119,
          120,
          121,
          122,
          123,
          124,
          125,
          126,
          127,
          128,
          129,
          130,
          131,
          132,
          133,
          134,
          135,
          136,
          137,
          138,
          139,
          140,
          141,
          142,
          143,
          144,
          145,
          146,
          147,
          148,
          149,
          150,
          151,
          152,
          153,
          154,
          155,
          156,
          157,
          158,
          159,
          160,
          161,
          162,
          163,
          164,
          165,
          166,
          167,
          168,
          169,
          170,
          171,
          172,
          173,
          174,
          175,
          176,
          177,
          178,
          179,
          180,
          181,
          182,
          183,
          184,
          185,
          186,
          187,
          188,
          189,
          190,
          191,
          192,
          193,
          194,
          195,
          196,
          197,
          198,
          199,
          200,
          201,
          202,
          203,
          204,
          205,
          206,
          207,
          208,
          209,
          210,
          211,
          212,
          213,
          214,
          215,
          216,
          217,
          218,
          219,
          220,
          221,
          222,
          223,
          224,
          225,
          226,
          227,
          228,
          229,
          230,
          231,
          232,
          233,
          234,
          235,
          236,
          237,
          238,
          239,
          240,
          241,
          242,
          243,
          244,
          245,
          246,
          247,
          248,
          249,
          250,
          251,
          252,
          253,
          254,
          255,
          256,
          257,
          258,
          259,
          260,
          261,
          262,
          263,
          264,
          265,
          266,
          267,
          268,
          269,
          270,
          271,
          272,
          273,
          274,
          275,
          276,
          277,
          278,
          279,
          280,
          281,
          282,
          283,
          284,
          285,
          286,
          287,
          288,
          289,
          290,
          291,
          292,
          293,
          294,
          295,
          296,
          297,
          298,
          299,
          300,
          301,
          302,
          303,
          304,
          305,
          306,
          307,
          308,
          309,
          310,
          311,
          312,
          313,
          314,
          315,
          316,
          317,
          318,
          319,
          320,
          321,
          322,
          323,
          324,
          325,
          326,
          327,
          328,
          329,
          330,
          331,
          332,
          333,
          334,
          335,
          336,
          337,
          338,
          339,
          340,
          341,
          342,
          343,
          344,
          345,
          346,
          347,
          348,
          349,
          350,
          351,
          352,
          353,
          354,
          355,
          356,
          357,
          358,
          359,
          360,
          361,
          362,
          363,
          364,
          365,
          366,
          367,
          368,
          369,
          370,
          371,
          372,
          373,
          374,
          375,
          376,
          377,
          378,
          379,
          380,
          381,
          382,
          383,
          384,
          385,
          386,
          387,
          388,
          389,
          390,
          391,
          392,
          393,
          394,
          395,
          396,
          397,
          398,
          399
         ],
         "y": [
          1.6145414788424899,
          1.6060231817833805,
          1.62558477764233,
          1.44248438893503,
          1.3744738859720254,
          1.2726013695998126,
          1.3401483915276442,
          1.2412816887949956,
          1.0491929229058627,
          1.0471624107010784,
          0.9430868932719769,
          0.8228805194442075,
          0.7596773829701466,
          0.6564787230435012,
          0.6113611610872169,
          0.4788144692192021,
          0.3960705853330216,
          0.243377407547151,
          0.2195120853971366,
          0.17586625644687678,
          -0.03813947827492707,
          0.016362792979174628,
          -0.22358200464186168,
          -0.30650827702057504,
          -0.3449866914085423,
          -0.46846135005875716,
          -0.5409472594848064,
          -0.5964629440726367,
          -0.6268108066799547,
          -0.8135958665062467,
          -0.8252809532834768,
          -0.8841033310314317,
          -1.093951266515199,
          -1.1543733353905588,
          -1.0829096590278002,
          -1.2848182837364843,
          -1.2758539367267059,
          -1.559512558169999,
          -1.6250074473898148,
          -1.561496444530515,
          -1.639221532890564,
          -1.7498318332676543,
          -1.7616571919855135,
          -1.898023628214151,
          -2.0079250145475602,
          -2.064158439880635,
          -2.0252819462153724,
          -2.184831785927131,
          -2.2896840861784358,
          -2.356233344532704,
          -2.5081836173216816,
          -2.503123704141342,
          -2.5272535248307726,
          -2.599427073303544,
          -2.524914130043251,
          -2.7920969444816155,
          -2.844003363080394,
          -2.772342824379862,
          -2.9078447364317284,
          -2.8555426306377116,
          -2.939516595098601,
          -3.05676706995995,
          -3.1345965500353135,
          -3.1682235291011978,
          -3.243974843802605,
          -3.3160912383863406,
          -3.4467521640970005,
          -3.4236503932529647,
          -3.366785712848094,
          -3.4292058309957487,
          -3.4423735886016327,
          -3.5162204499154277,
          -3.433599110102715,
          -3.573077946699621,
          -3.5081286930433992,
          -3.553516637366078,
          -3.488131403281181,
          -3.748633465700646,
          -3.755222686355504,
          -3.6961195571557255,
          -3.8644016620190818,
          -3.65544561571382,
          -3.872310357604575,
          -3.8273082644332104,
          -3.84667040319387,
          -3.892170905808708,
          -3.9192225213929133,
          -3.8105647367111946,
          -4.048371389071605,
          -3.993090009456192,
          -3.9668325200899814,
          -3.7939028075929357,
          -4.02194697189313,
          -4.1210647881012195,
          -4.20275975344203,
          -4.23252062790214,
          -3.908077254346871,
          -4.2292808194587055,
          -4.101195809248862,
          -3.9505263722807586,
          -4.0606031008678425,
          -4.38729441192978,
          -4.332649723504911,
          -4.173904386635686,
          -4.320590861645952,
          -4.3522025673185505,
          -4.229254753095854,
          -4.264015913453591,
          -4.324180892548822,
          -4.279498653577662,
          -4.087014218347722,
          -4.4037309955622845,
          -4.417881937514384,
          -4.283559755368968,
          -4.47998492895292,
          -4.548024938014368,
          -4.390475009345431,
          -4.524511268107811,
          -4.461775736900901,
          -4.530518467228897,
          -4.537815567770759,
          -4.503847708797669,
          -4.6021498012706665,
          -4.569464719304269,
          -4.797033937577592,
          -4.785143022280866,
          -4.4451391329667365,
          -4.646817444343248,
          -4.74322436990008,
          -4.6083689315841205,
          -4.791468415532094,
          -4.688782236227363,
          -4.626613949744925,
          -4.855505144039756,
          -4.597751386289661,
          -4.790268765366687,
          -4.808601184605364,
          -4.720710878647285,
          -4.899567975149578,
          -4.732160897571584,
          -4.894411435963591,
          -4.677490095028556,
          -5.126041550021322,
          -4.773165655221587,
          -4.985628023206654,
          -4.962475617213698,
          -4.865179968673404,
          -4.774709375098303,
          -4.864311393431923,
          -4.860375990198879,
          -5.003969616307504,
          -5.0635653233702165,
          -5.199673602574746,
          -5.076947038045063,
          -5.210877547626397,
          -4.973765448157474,
          -5.063938325523509,
          -5.125782910526115,
          -5.156966721111764,
          -5.0450898256610035,
          -5.283180018417032,
          -5.198021761259181,
          -5.229079954067101,
          -5.317562346184726,
          -5.095556186040599,
          -5.26032972789034,
          -5.381872736253033,
          -5.4517377193518985,
          -5.536694050020916,
          -5.430750178811477,
          -5.242524132246576,
          -5.385834849971799,
          -5.466389506960595,
          -5.007838189827382,
          -5.612978140031231,
          -5.6365549958589325,
          -5.708851199150529,
          -5.733034165578292,
          -5.623177524309458,
          -5.674790600437257,
          -5.725151463816142,
          -5.687163952487508,
          -5.668672231155783,
          -5.6748545884184365,
          -5.939706581926977,
          -5.906724641312744,
          -5.84009163590007,
          -5.938821888563291,
          -5.8530852620473555,
          -5.803715431590165,
          -5.715864316165702,
          -6.1109185662925665,
          -6.1424089009827085,
          -6.116440717244693,
          -6.152921233018987,
          -6.280590527502145,
          -6.176772460436452,
          -6.229034088394039,
          -6.080999827045094,
          -6.239694686496763,
          -6.197848787675482,
          -6.405364488418875,
          -6.363721779799745,
          -6.448706542343085,
          -6.5219858347158235,
          -6.511988028398724,
          -6.828357435041519,
          -6.655238296591441,
          -6.702573142008895,
          -7.018436308412738,
          -6.725899273270518,
          -6.779988497148937,
          -6.982005973560399,
          -7.012947003733483,
          -7.122968626545889,
          -7.009740808576541,
          -7.2227639851778,
          -7.468477360821348,
          -7.435732458460137,
          -7.388629510405085,
          -7.562708449575129,
          -7.694396955121544,
          -8.013575886678542,
          -7.879042350095994,
          -8.137463647103749,
          -8.34869398352368,
          -8.323693279227214,
          -8.553900467526338,
          -8.538311269671949,
          -8.913869492950516,
          -8.815632000619496,
          -9.216207229583535,
          -9.462435234737985,
          -9.70197857046272,
          -10.007096733367398,
          -10.455829172955253,
          -10.523298269994193,
          -11.057077841591514,
          -11.384831153403285,
          -11.618483555430725,
          -12.346058070861734,
          -12.53566971460389,
          -12.812879054825345,
          -13.579374449392493,
          -13.721452911169754,
          -14.623632048036463,
          -14.702111897496925,
          -15.502567116719817,
          -16.331595260089404,
          -16.456132201137073,
          -17.28168255771119,
          -17.95778236353028,
          -18.28226496513316,
          -19.070413738808547,
          -19.788259482453633,
          -20.146455053742553,
          -20.495544729028794,
          -20.585329555986945,
          -21.09734284232826,
          -21.286515905252912,
          -21.766607474171643,
          -22.190933986358388,
          -22.257157890055534,
          -22.439583685245406,
          -22.702073606631544,
          -22.753803042362552,
          -23.096744937340752,
          -23.008651748163462,
          -23.162252960213387,
          -23.267672575307902,
          -23.397100620294903,
          -23.466183286560472,
          -23.44415569293347,
          -23.603233424426005,
          -23.543270858370903,
          -23.687545771385327,
          -23.678022046907117,
          -23.689277987102663,
          -23.731823002954563,
          -23.758743157800513,
          -23.801410943602942,
          -23.82098837771293,
          -23.831153991944987,
          -23.861397499043704,
          -23.84320265473009,
          -23.87578017010894,
          -23.84411801596644,
          -23.839919206704074,
          -23.891997386725286,
          -23.86563866501832,
          -23.848467720484027,
          -23.80108281296605,
          -23.84097214136772,
          -23.83187955933379,
          -23.835167006651922,
          -23.89714249882771,
          -23.941027739029057,
          -23.901653484154846,
          -23.885723646128618,
          -23.93569265786338,
          -23.933912517482963,
          -23.927713910740557,
          -23.896110297493422,
          -23.887428059703662,
          -23.936593774434304,
          -23.902244629109223,
          -23.940564396994542,
          -23.949933986584966,
          -23.924361822743165,
          -23.91626333917956,
          -23.91384576110514,
          -23.916033742193715,
          -23.9309676119873,
          -23.876483873068054,
          -23.932163037193227,
          -23.9733540564295,
          -23.93361275444957,
          -23.95449778379464,
          -23.936303773865863,
          -23.959126449527712,
          -23.95616108046376,
          -23.92433967813526,
          -23.929903070805494,
          -23.97242306052365,
          -23.9751098075214,
          -23.939822361216013,
          -23.91824848645771,
          -23.948018779538128,
          -23.965109000272243,
          -23.926690816052176,
          -23.947970120360164,
          -23.948109844139854,
          -23.962641681820667,
          -23.946335082584266,
          -23.96770697183019,
          -23.96339030490932,
          -23.963515282261486,
          -23.95568444156606,
          -23.96917202561837,
          -23.95280213107518,
          -23.949175957366663,
          -23.968791572076892,
          -23.965154939346096,
          -23.956286595582487,
          -23.916063485903063,
          -23.951998303298783,
          -23.950384155963544,
          -23.954933715276926,
          -23.946071058434477,
          -23.950986420604696,
          -23.953224562704886,
          -23.94560919711198,
          -23.935841187276964,
          -23.94417133914501,
          -23.966597657655374,
          -23.991036827828225,
          -23.966977900924757,
          -23.963153523452394,
          -23.964461509409947,
          -23.959500838005326,
          -23.9683328610914,
          -23.962588472133255,
          -23.947505926729956,
          -23.998562042203716,
          -23.978144588748897,
          -23.980980136774363,
          -23.9915236089014,
          -23.96224104179447,
          -23.98196465429301,
          -23.95450826460656,
          -23.93654577648101,
          -23.98058017003546,
          -23.97948961337559,
          -23.97351077379655,
          -23.930650770054086,
          -23.991660137763912,
          -23.963583995816936,
          -23.96869994307495,
          -23.964337569489647,
          -23.982252240932773,
          -23.961113695384768,
          -23.968036092074733,
          -23.976709736595975,
          -23.974112606504892,
          -23.98127133831122,
          -23.972693083385046,
          -23.984444939022396,
          -23.990605966390216,
          -23.982720976868706,
          -23.971848100023692,
          -23.994075850314857,
          -23.98109123184909,
          -23.96722841222965,
          -23.976186215487203,
          -23.993194197101396,
          -23.987934438817963,
          -23.995650332584802,
          -23.95714144759355,
          -23.97948670217066,
          -23.953994073793904
         ]
        }
       ],
       "layout": {
        "shapes": [
         {
          "line": {
           "width": 1
          },
          "opacity": 1,
          "type": "line",
          "x0": 0,
          "x1": 1,
          "xref": "x domain",
          "y0": -24.000000000000014,
          "y1": -24.000000000000014,
          "yref": "y"
         }
        ],
        "template": {
         "data": {
          "bar": [
           {
            "error_x": {
             "color": "rgb(36,36,36)"
            },
            "error_y": {
             "color": "rgb(36,36,36)"
            },
            "marker": {
             "line": {
              "color": "white",
              "width": 0.5
             },
             "pattern": {
              "fillmode": "overlay",
              "size": 10,
              "solidity": 0.2
             }
            },
            "type": "bar"
           }
          ],
          "barpolar": [
           {
            "marker": {
             "line": {
              "color": "white",
              "width": 0.5
             },
             "pattern": {
              "fillmode": "overlay",
              "size": 10,
              "solidity": 0.2
             }
            },
            "type": "barpolar"
           }
          ],
          "carpet": [
           {
            "aaxis": {
             "endlinecolor": "rgb(36,36,36)",
             "gridcolor": "white",
             "linecolor": "white",
             "minorgridcolor": "white",
             "startlinecolor": "rgb(36,36,36)"
            },
            "baxis": {
             "endlinecolor": "rgb(36,36,36)",
             "gridcolor": "white",
             "linecolor": "white",
             "minorgridcolor": "white",
             "startlinecolor": "rgb(36,36,36)"
            },
            "type": "carpet"
           }
          ],
          "choropleth": [
           {
            "colorbar": {
             "outlinewidth": 1,
             "tickcolor": "rgb(36,36,36)",
             "ticks": "outside"
            },
            "type": "choropleth"
           }
          ],
          "contour": [
           {
            "colorbar": {
             "outlinewidth": 1,
             "tickcolor": "rgb(36,36,36)",
             "ticks": "outside"
            },
            "colorscale": [
             [
              0,
              "#440154"
             ],
             [
              0.1111111111111111,
              "#482878"
             ],
             [
              0.2222222222222222,
              "#3e4989"
             ],
             [
              0.3333333333333333,
              "#31688e"
             ],
             [
              0.4444444444444444,
              "#26828e"
             ],
             [
              0.5555555555555556,
              "#1f9e89"
             ],
             [
              0.6666666666666666,
              "#35b779"
             ],
             [
              0.7777777777777778,
              "#6ece58"
             ],
             [
              0.8888888888888888,
              "#b5de2b"
             ],
             [
              1,
              "#fde725"
             ]
            ],
            "type": "contour"
           }
          ],
          "contourcarpet": [
           {
            "colorbar": {
             "outlinewidth": 1,
             "tickcolor": "rgb(36,36,36)",
             "ticks": "outside"
            },
            "type": "contourcarpet"
           }
          ],
          "heatmap": [
           {
            "colorbar": {
             "outlinewidth": 1,
             "tickcolor": "rgb(36,36,36)",
             "ticks": "outside"
            },
            "colorscale": [
             [
              0,
              "#440154"
             ],
             [
              0.1111111111111111,
              "#482878"
             ],
             [
              0.2222222222222222,
              "#3e4989"
             ],
             [
              0.3333333333333333,
              "#31688e"
             ],
             [
              0.4444444444444444,
              "#26828e"
             ],
             [
              0.5555555555555556,
              "#1f9e89"
             ],
             [
              0.6666666666666666,
              "#35b779"
             ],
             [
              0.7777777777777778,
              "#6ece58"
             ],
             [
              0.8888888888888888,
              "#b5de2b"
             ],
             [
              1,
              "#fde725"
             ]
            ],
            "type": "heatmap"
           }
          ],
          "heatmapgl": [
           {
            "colorbar": {
             "outlinewidth": 1,
             "tickcolor": "rgb(36,36,36)",
             "ticks": "outside"
            },
            "colorscale": [
             [
              0,
              "#440154"
             ],
             [
              0.1111111111111111,
              "#482878"
             ],
             [
              0.2222222222222222,
              "#3e4989"
             ],
             [
              0.3333333333333333,
              "#31688e"
             ],
             [
              0.4444444444444444,
              "#26828e"
             ],
             [
              0.5555555555555556,
              "#1f9e89"
             ],
             [
              0.6666666666666666,
              "#35b779"
             ],
             [
              0.7777777777777778,
              "#6ece58"
             ],
             [
              0.8888888888888888,
              "#b5de2b"
             ],
             [
              1,
              "#fde725"
             ]
            ],
            "type": "heatmapgl"
           }
          ],
          "histogram": [
           {
            "marker": {
             "line": {
              "color": "white",
              "width": 0.6
             }
            },
            "type": "histogram"
           }
          ],
          "histogram2d": [
           {
            "colorbar": {
             "outlinewidth": 1,
             "tickcolor": "rgb(36,36,36)",
             "ticks": "outside"
            },
            "colorscale": [
             [
              0,
              "#440154"
             ],
             [
              0.1111111111111111,
              "#482878"
             ],
             [
              0.2222222222222222,
              "#3e4989"
             ],
             [
              0.3333333333333333,
              "#31688e"
             ],
             [
              0.4444444444444444,
              "#26828e"
             ],
             [
              0.5555555555555556,
              "#1f9e89"
             ],
             [
              0.6666666666666666,
              "#35b779"
             ],
             [
              0.7777777777777778,
              "#6ece58"
             ],
             [
              0.8888888888888888,
              "#b5de2b"
             ],
             [
              1,
              "#fde725"
             ]
            ],
            "type": "histogram2d"
           }
          ],
          "histogram2dcontour": [
           {
            "colorbar": {
             "outlinewidth": 1,
             "tickcolor": "rgb(36,36,36)",
             "ticks": "outside"
            },
            "colorscale": [
             [
              0,
              "#440154"
             ],
             [
              0.1111111111111111,
              "#482878"
             ],
             [
              0.2222222222222222,
              "#3e4989"
             ],
             [
              0.3333333333333333,
              "#31688e"
             ],
             [
              0.4444444444444444,
              "#26828e"
             ],
             [
              0.5555555555555556,
              "#1f9e89"
             ],
             [
              0.6666666666666666,
              "#35b779"
             ],
             [
              0.7777777777777778,
              "#6ece58"
             ],
             [
              0.8888888888888888,
              "#b5de2b"
             ],
             [
              1,
              "#fde725"
             ]
            ],
            "type": "histogram2dcontour"
           }
          ],
          "mesh3d": [
           {
            "colorbar": {
             "outlinewidth": 1,
             "tickcolor": "rgb(36,36,36)",
             "ticks": "outside"
            },
            "type": "mesh3d"
           }
          ],
          "parcoords": [
           {
            "line": {
             "colorbar": {
              "outlinewidth": 1,
              "tickcolor": "rgb(36,36,36)",
              "ticks": "outside"
             }
            },
            "type": "parcoords"
           }
          ],
          "pie": [
           {
            "automargin": true,
            "type": "pie"
           }
          ],
          "scatter": [
           {
            "marker": {
             "colorbar": {
              "outlinewidth": 1,
              "tickcolor": "rgb(36,36,36)",
              "ticks": "outside"
             }
            },
            "type": "scatter"
           }
          ],
          "scatter3d": [
           {
            "line": {
             "colorbar": {
              "outlinewidth": 1,
              "tickcolor": "rgb(36,36,36)",
              "ticks": "outside"
             }
            },
            "marker": {
             "colorbar": {
              "outlinewidth": 1,
              "tickcolor": "rgb(36,36,36)",
              "ticks": "outside"
             }
            },
            "type": "scatter3d"
           }
          ],
          "scattercarpet": [
           {
            "marker": {
             "colorbar": {
              "outlinewidth": 1,
              "tickcolor": "rgb(36,36,36)",
              "ticks": "outside"
             }
            },
            "type": "scattercarpet"
           }
          ],
          "scattergeo": [
           {
            "marker": {
             "colorbar": {
              "outlinewidth": 1,
              "tickcolor": "rgb(36,36,36)",
              "ticks": "outside"
             }
            },
            "type": "scattergeo"
           }
          ],
          "scattergl": [
           {
            "marker": {
             "colorbar": {
              "outlinewidth": 1,
              "tickcolor": "rgb(36,36,36)",
              "ticks": "outside"
             }
            },
            "type": "scattergl"
           }
          ],
          "scattermapbox": [
           {
            "marker": {
             "colorbar": {
              "outlinewidth": 1,
              "tickcolor": "rgb(36,36,36)",
              "ticks": "outside"
             }
            },
            "type": "scattermapbox"
           }
          ],
          "scatterpolar": [
           {
            "marker": {
             "colorbar": {
              "outlinewidth": 1,
              "tickcolor": "rgb(36,36,36)",
              "ticks": "outside"
             }
            },
            "type": "scatterpolar"
           }
          ],
          "scatterpolargl": [
           {
            "marker": {
             "colorbar": {
              "outlinewidth": 1,
              "tickcolor": "rgb(36,36,36)",
              "ticks": "outside"
             }
            },
            "type": "scatterpolargl"
           }
          ],
          "scatterternary": [
           {
            "marker": {
             "colorbar": {
              "outlinewidth": 1,
              "tickcolor": "rgb(36,36,36)",
              "ticks": "outside"
             }
            },
            "type": "scatterternary"
           }
          ],
          "surface": [
           {
            "colorbar": {
             "outlinewidth": 1,
             "tickcolor": "rgb(36,36,36)",
             "ticks": "outside"
            },
            "colorscale": [
             [
              0,
              "#440154"
             ],
             [
              0.1111111111111111,
              "#482878"
             ],
             [
              0.2222222222222222,
              "#3e4989"
             ],
             [
              0.3333333333333333,
              "#31688e"
             ],
             [
              0.4444444444444444,
              "#26828e"
             ],
             [
              0.5555555555555556,
              "#1f9e89"
             ],
             [
              0.6666666666666666,
              "#35b779"
             ],
             [
              0.7777777777777778,
              "#6ece58"
             ],
             [
              0.8888888888888888,
              "#b5de2b"
             ],
             [
              1,
              "#fde725"
             ]
            ],
            "type": "surface"
           }
          ],
          "table": [
           {
            "cells": {
             "fill": {
              "color": "rgb(237,237,237)"
             },
             "line": {
              "color": "white"
             }
            },
            "header": {
             "fill": {
              "color": "rgb(217,217,217)"
             },
             "line": {
              "color": "white"
             }
            },
            "type": "table"
           }
          ]
         },
         "layout": {
          "annotationdefaults": {
           "arrowhead": 0,
           "arrowwidth": 1
          },
          "autotypenumbers": "strict",
          "coloraxis": {
           "colorbar": {
            "outlinewidth": 1,
            "tickcolor": "rgb(36,36,36)",
            "ticks": "outside"
           }
          },
          "colorscale": {
           "diverging": [
            [
             0,
             "rgb(103,0,31)"
            ],
            [
             0.1,
             "rgb(178,24,43)"
            ],
            [
             0.2,
             "rgb(214,96,77)"
            ],
            [
             0.3,
             "rgb(244,165,130)"
            ],
            [
             0.4,
             "rgb(253,219,199)"
            ],
            [
             0.5,
             "rgb(247,247,247)"
            ],
            [
             0.6,
             "rgb(209,229,240)"
            ],
            [
             0.7,
             "rgb(146,197,222)"
            ],
            [
             0.8,
             "rgb(67,147,195)"
            ],
            [
             0.9,
             "rgb(33,102,172)"
            ],
            [
             1,
             "rgb(5,48,97)"
            ]
           ],
           "sequential": [
            [
             0,
             "#440154"
            ],
            [
             0.1111111111111111,
             "#482878"
            ],
            [
             0.2222222222222222,
             "#3e4989"
            ],
            [
             0.3333333333333333,
             "#31688e"
            ],
            [
             0.4444444444444444,
             "#26828e"
            ],
            [
             0.5555555555555556,
             "#1f9e89"
            ],
            [
             0.6666666666666666,
             "#35b779"
            ],
            [
             0.7777777777777778,
             "#6ece58"
            ],
            [
             0.8888888888888888,
             "#b5de2b"
            ],
            [
             1,
             "#fde725"
            ]
           ],
           "sequentialminus": [
            [
             0,
             "#440154"
            ],
            [
             0.1111111111111111,
             "#482878"
            ],
            [
             0.2222222222222222,
             "#3e4989"
            ],
            [
             0.3333333333333333,
             "#31688e"
            ],
            [
             0.4444444444444444,
             "#26828e"
            ],
            [
             0.5555555555555556,
             "#1f9e89"
            ],
            [
             0.6666666666666666,
             "#35b779"
            ],
            [
             0.7777777777777778,
             "#6ece58"
            ],
            [
             0.8888888888888888,
             "#b5de2b"
            ],
            [
             1,
             "#fde725"
            ]
           ]
          },
          "colorway": [
           "#1F77B4",
           "#FF7F0E",
           "#2CA02C",
           "#D62728",
           "#9467BD",
           "#8C564B",
           "#E377C2",
           "#7F7F7F",
           "#BCBD22",
           "#17BECF"
          ],
          "font": {
           "color": "rgb(36,36,36)"
          },
          "geo": {
           "bgcolor": "white",
           "lakecolor": "white",
           "landcolor": "white",
           "showlakes": true,
           "showland": true,
           "subunitcolor": "white"
          },
          "hoverlabel": {
           "align": "left"
          },
          "hovermode": "closest",
          "mapbox": {
           "style": "light"
          },
          "paper_bgcolor": "white",
          "plot_bgcolor": "white",
          "polar": {
           "angularaxis": {
            "gridcolor": "rgb(232,232,232)",
            "linecolor": "rgb(36,36,36)",
            "showgrid": false,
            "showline": true,
            "ticks": "outside"
           },
           "bgcolor": "white",
           "radialaxis": {
            "gridcolor": "rgb(232,232,232)",
            "linecolor": "rgb(36,36,36)",
            "showgrid": false,
            "showline": true,
            "ticks": "outside"
           }
          },
          "scene": {
           "xaxis": {
            "backgroundcolor": "white",
            "gridcolor": "rgb(232,232,232)",
            "gridwidth": 2,
            "linecolor": "rgb(36,36,36)",
            "showbackground": true,
            "showgrid": false,
            "showline": true,
            "ticks": "outside",
            "zeroline": false,
            "zerolinecolor": "rgb(36,36,36)"
           },
           "yaxis": {
            "backgroundcolor": "white",
            "gridcolor": "rgb(232,232,232)",
            "gridwidth": 2,
            "linecolor": "rgb(36,36,36)",
            "showbackground": true,
            "showgrid": false,
            "showline": true,
            "ticks": "outside",
            "zeroline": false,
            "zerolinecolor": "rgb(36,36,36)"
           },
           "zaxis": {
            "backgroundcolor": "white",
            "gridcolor": "rgb(232,232,232)",
            "gridwidth": 2,
            "linecolor": "rgb(36,36,36)",
            "showbackground": true,
            "showgrid": false,
            "showline": true,
            "ticks": "outside",
            "zeroline": false,
            "zerolinecolor": "rgb(36,36,36)"
           }
          },
          "shapedefaults": {
           "fillcolor": "black",
           "line": {
            "width": 0
           },
           "opacity": 0.3
          },
          "ternary": {
           "aaxis": {
            "gridcolor": "rgb(232,232,232)",
            "linecolor": "rgb(36,36,36)",
            "showgrid": false,
            "showline": true,
            "ticks": "outside"
           },
           "baxis": {
            "gridcolor": "rgb(232,232,232)",
            "linecolor": "rgb(36,36,36)",
            "showgrid": false,
            "showline": true,
            "ticks": "outside"
           },
           "bgcolor": "white",
           "caxis": {
            "gridcolor": "rgb(232,232,232)",
            "linecolor": "rgb(36,36,36)",
            "showgrid": false,
            "showline": true,
            "ticks": "outside"
           }
          },
          "title": {
           "x": 0.05
          },
          "xaxis": {
           "automargin": true,
           "gridcolor": "rgb(232,232,232)",
           "linecolor": "rgb(36,36,36)",
           "showgrid": false,
           "showline": true,
           "ticks": "outside",
           "title": {
            "standoff": 15
           },
           "zeroline": false,
           "zerolinecolor": "rgb(36,36,36)"
          },
          "yaxis": {
           "automargin": true,
           "gridcolor": "rgb(232,232,232)",
           "linecolor": "rgb(36,36,36)",
           "showgrid": false,
           "showline": true,
           "ticks": "outside",
           "title": {
            "standoff": 15
           },
           "zeroline": false,
           "zerolinecolor": "rgb(36,36,36)"
          }
         }
        },
        "title": {
         "text": "<b>S-S model </b>, L=16, J2 =1, J1 =0.2 , η=0.01, α=16, samples=1000"
        },
        "xaxis": {
         "mirror": true,
         "showline": true,
         "title": {
          "text": "Iteration"
         }
        },
        "yaxis": {
         "mirror": true,
         "showline": true,
         "title": {
          "text": "Energy"
         }
        }
       }
      },
      "text/html": [
       "<div>                            <div id=\"0ca1153d-f6b8-451f-acc6-a54e783e76c4\" class=\"plotly-graph-div\" style=\"height:525px; width:100%;\"></div>            <script type=\"text/javascript\">                require([\"plotly\"], function(Plotly) {                    window.PLOTLYENV=window.PLOTLYENV || {};                                    if (document.getElementById(\"0ca1153d-f6b8-451f-acc6-a54e783e76c4\")) {                    Plotly.newPlot(                        \"0ca1153d-f6b8-451f-acc6-a54e783e76c4\",                        [{\"line\":{\"color\":\"#000000\",\"width\":1},\"mode\":\"lines\",\"name\":\"exact energy\",\"type\":\"scatter\",\"x\":[0,400],\"y\":[-24.000000000000014,-24.000000000000014]},{\"name\":\"1st type\",\"type\":\"scatter\",\"x\":[0,1,2,3,4,5,6,7,8,9,10,11,12,13,14,15,16,17,18,19,20,21,22,23,24,25,26,27,28,29,30,31,32,33,34,35,36,37,38,39,40,41,42,43,44,45,46,47,48,49,50,51,52,53,54,55,56,57,58,59,60,61,62,63,64,65,66,67,68,69,70,71,72,73,74,75,76,77,78,79,80,81,82,83,84,85,86,87,88,89,90,91,92,93,94,95,96,97,98,99,100,101,102,103,104,105,106,107,108,109,110,111,112,113,114,115,116,117,118,119,120,121,122,123,124,125,126,127,128,129,130,131,132,133,134,135,136,137,138,139,140,141,142,143,144,145,146,147,148,149,150,151,152,153,154,155,156,157,158,159,160,161,162,163,164,165,166,167,168,169,170,171,172,173,174,175,176,177,178,179,180,181,182,183,184,185,186,187,188,189,190,191,192,193,194,195,196,197,198,199,200,201,202,203,204,205,206,207,208,209,210,211,212,213,214,215,216,217,218,219,220,221,222,223,224,225,226,227,228,229,230,231,232,233,234,235,236,237,238,239,240,241,242,243,244,245,246,247,248,249,250,251,252,253,254,255,256,257,258,259,260,261,262,263,264,265,266,267,268,269,270,271,272,273,274,275,276,277,278,279,280,281,282,283,284,285,286,287,288,289,290,291,292,293,294,295,296,297,298,299,300,301,302,303,304,305,306,307,308,309,310,311,312,313,314,315,316,317,318,319,320,321,322,323,324,325,326,327,328,329,330,331,332,333,334,335,336,337,338,339,340,341,342,343,344,345,346,347,348,349,350,351,352,353,354,355,356,357,358,359,360,361,362,363,364,365,366,367,368,369,370,371,372,373,374,375,376,377,378,379,380,381,382,383,384,385,386,387,388,389,390,391,392,393,394,395,396,397,398,399],\"y\":[14.400242836070898,14.399270663140248,14.40024512762083,14.399785718754696,14.399990170398087,14.400746420786495,14.400180881103404,14.400074810010578,14.399675963790441,14.400043345212977,14.400990527642442,14.398741506436886,14.398913373926913,14.400146361486387,14.398967503637603,14.399975712897575,14.39946458419905,14.400546863215746,14.39981428166966,14.39722566895704,14.39919884605247,14.398551449184149,14.400932450220278,14.402447950070036,14.397905102614828,14.39709122323361,14.399302062743326,14.39569403104937,14.399651600047319,14.397095029877228,14.393188824446153,14.398003358521503,14.400162675987028,14.39898098466679,14.398929379426436,14.399346175209468,14.397583985350087,14.395188222554156,14.395061461019473,14.395190016184113,14.399976751195036,14.39840013675679,14.391344516303276,14.395246286047739,14.38612319762905,14.392755512617029,14.385361395648713,14.37750817855536,14.3820542744508,14.396921735685103,14.381575852469547,14.372031018665997,14.380231363847303,14.389859116727296,14.388252856921422,14.367632441510171,14.38036218588203,14.353606266717511,14.349614097153825,14.350168565425175,14.354965844773247,14.337480947150127,14.356161421664947,14.332996495506547,14.341996815761341,14.334253951472002,14.312218582986587,14.309571753529543,14.276907078694917,14.252973688074515,14.293160652852873,14.209803252424914,14.235666257807686,14.183825444839066,14.141953214840356,14.201869723544142,14.168157906814384,14.097268023503112,14.050046643257263,14.065397220504765,14.053400558713284,13.951944158283604,13.975924356431596,13.884010942383382,13.840805448806474,13.697883466175725,13.681763986575044,13.649116971584725,13.492996170049407,13.436895859511504,13.233492336803707,13.16464956179177,13.127513932479408,12.927375451023902,12.779907699982425,12.671357869866734,12.343403295451987,12.260651067414864,11.92224584169546,11.757083572238946,11.667102017345679,11.297066545538803,11.013009139237335,10.555781757048662,10.204524250432128,10.000573699938736,9.622056778247734,9.32225856477644,8.914732576718881,8.426421717763763,8.038766284394166,7.5063716602653825,6.981762538154797,6.387228020907419,6.000249073953416,5.539885687103824,4.947310555317429,3.950588077034646,3.520231092562782,3.2035009907229868,2.4943227372049748,1.9772417600639118,1.109950284028854,0.42708860091450807,0.061889524114985765,-0.7313616366374834,-1.2716292605674362,-1.9078196464125112,-2.3898488733307484,-3.1609442355527175,-3.6269617374491423,-4.140338972518512,-4.679727355008317,-5.7772526460750155,-5.9469020433482145,-6.496564993272267,-7.051515065320684,-7.447596747814847,-7.968603896799131,-8.470600519701117,-8.934940120564288,-9.13530151499821,-9.739282082323781,-10.150039561191322,-10.481719836381224,-11.042784024662634,-11.079447067866589,-11.601580685454765,-12.083054072222254,-12.455912888940405,-12.846323055665538,-12.961145678859491,-13.24213225206732,-13.791419843958066,-13.919279565056154,-14.472777926144573,-14.536313475072053,-14.836911634350717,-15.059778696642477,-15.529735915110418,-15.692784117003095,-15.94235012128184,-16.133603343289764,-16.72209498026528,-16.882889027475862,-17.0605072060268,-17.350616742869217,-17.515830445536547,-17.931342788381414,-18.094921318733583,-18.23420256318274,-18.409134333278118,-18.615405425971392,-18.867665924960164,-19.10560352523146,-19.178296904704244,-19.342922873548545,-19.58045465699156,-19.676411393808355,-19.95915799991874,-20.19878604261136,-20.205341201128803,-20.29509402210495,-20.546552454728847,-20.636392418934054,-20.828329564679784,-20.99841182693651,-21.162870248770712,-21.310232998238952,-21.242657891092822,-21.555098336686292,-21.552498727059678,-21.722395226136605,-21.770366610743107,-22.001502958990983,-21.980858524143866,-22.114463846822837,-22.23735449926851,-22.404803423549723,-22.64442358633941,-22.530826181474545,-22.628537303111152,-22.756918904851286,-22.79010401775972,-22.905822706736863,-22.86030169715499,-23.031386591107648,-23.09646718463504,-23.113775596192372,-23.146577048582557,-23.319902387040514,-23.30654816495128,-23.265990139275196,-23.33312680627568,-23.376419082029127,-23.428706623882352,-23.40243177668569,-23.42154567851155,-23.54869936840984,-23.573248139313154,-23.61548053721876,-23.61954153545123,-23.597748974636716,-23.683569014056953,-23.635297296141854,-23.62962757410784,-23.70274979083692,-23.695499818061112,-23.710317628789678,-23.76668237915795,-23.777002700969213,-23.772117223176284,-23.785370164664023,-23.797944969021213,-23.787577638841245,-23.870130519445475,-23.8136890164084,-23.810692197696355,-23.869193844231944,-23.879877932756987,-23.890885796523254,-23.892880162904074,-23.847403099464003,-23.82625021181905,-23.88976709168486,-23.87096915468267,-23.896151998398622,-23.856758086988375,-23.889572836146268,-23.904881995566978,-23.897089329716614,-23.894250270382134,-23.89620883283022,-23.910637800047112,-23.943111580097746,-23.94794430426772,-23.89370447893172,-23.906192234234894,-23.911936122030188,-23.923522479141425,-23.939454848483454,-23.919126979539243,-23.922901542034467,-23.938197930185666,-23.922681598724036,-23.906475883738832,-23.90879211561449,-23.928024117424858,-23.92901311800286,-23.94201193569028,-23.945148871942756,-23.93244198489412,-23.958988665094594,-23.930296020586095,-23.920283058723363,-23.914598410335117,-23.965506776543304,-23.944998856742608,-23.932747191408264,-23.938217280659487,-23.967426633852135,-23.966785512524723,-23.95105138344562,-23.942350649892234,-23.929551186063225,-23.96880609111772,-23.947052482114977,-23.963550426290436,-23.948502610985635,-23.935887738022462,-23.973279873320696,-23.930853560566277,-23.913029132015474,-23.960242767964345,-23.95237537315578,-23.965051241336017,-23.958288816185682,-23.965842927815572,-23.96954401532672,-23.955007421236722,-23.964776711576118,-23.935981962325062,-23.957690701341047,-23.967751209069977,-23.97307018904168,-23.97331148494652,-23.977991923821538,-23.95686918728494,-23.960493357342706,-23.962509771547836,-23.954004768906,-23.977337938825695,-23.967438616844994,-23.958789059628916,-23.978681265752677,-23.936565794292235,-23.96667833636959,-23.972262744922027,-23.959812968450557,-23.979622830302077,-23.96759157936203,-23.964992825524664,-23.980127730425,-23.963640047923807,-23.95640154852756,-23.957526953644777,-23.965812955608335,-23.936332183293853,-23.97313971392014,-23.95735629556447,-23.969289575603142,-23.96043050503125,-23.966368542040914,-23.94643833023296,-23.957686067976955,-23.97021272609585,-23.96185682766522,-23.93762605340741,-23.95765437029665,-23.96410324860076,-23.97719056855942,-23.953891605394812,-23.973027830420804,-23.983472998148127,-23.949121699078738,-23.974466983517143,-23.96955366910762,-23.96648610002268,-23.968951608620518,-23.992090432302245,-23.97042015078127,-23.962992282648905,-23.98038768062433,-23.966497118592887,-23.977199438876664,-23.971373839851356,-23.983508057075614,-23.96218208787035,-23.98306047545333,-23.982133556777296,-23.971156978453823,-23.978851298921942,-23.970656436862363,-23.959757911363575,-23.966411720787775,-23.975287511644645,-23.973177586467514,-23.97059246882508,-23.972401959235434,-23.970016234952165,-23.975386762279808,-23.96917101757474,-23.96232318858373,-23.967668651005077,-23.984121926769973,-23.987617404649047,-23.987745770536186,-23.983834573194773,-23.94863302095015,-23.983586676817197,-23.968497598416967,-23.97459092358445,-23.972672512406238,-23.98123482253317,-23.96443707919535,-23.98353526618526,-23.966894840058,-23.96827572636962,-23.988344762528303,-23.973479664887574,-23.962399534004476,-23.990027244609806,-23.99630428100947,-23.97523471800029,-23.970055884424045,-23.9820754009689,-23.987993907468507,-23.956932711311055,-23.976381871566897,-23.983771063226893]},{\"name\":\"2nd type\",\"type\":\"scatter\",\"x\":[0,1,2,3,4,5,6,7,8,9,10,11,12,13,14,15,16,17,18,19,20,21,22,23,24,25,26,27,28,29,30,31,32,33,34,35,36,37,38,39,40,41,42,43,44,45,46,47,48,49,50,51,52,53,54,55,56,57,58,59,60,61,62,63,64,65,66,67,68,69,70,71,72,73,74,75,76,77,78,79,80,81,82,83,84,85,86,87,88,89,90,91,92,93,94,95,96,97,98,99,100,101,102,103,104,105,106,107,108,109,110,111,112,113,114,115,116,117,118,119,120,121,122,123,124,125,126,127,128,129,130,131,132,133,134,135,136,137,138,139,140,141,142,143,144,145,146,147,148,149,150,151,152,153,154,155,156,157,158,159,160,161,162,163,164,165,166,167,168,169,170,171,172,173,174,175,176,177,178,179,180,181,182,183,184,185,186,187,188,189,190,191,192,193,194,195,196,197,198,199,200,201,202,203,204,205,206,207,208,209,210,211,212,213,214,215,216,217,218,219,220,221,222,223,224,225,226,227,228,229,230,231,232,233,234,235,236,237,238,239,240,241,242,243,244,245,246,247,248,249,250,251,252,253,254,255,256,257,258,259,260,261,262,263,264,265,266,267,268,269,270,271,272,273,274,275,276,277,278,279,280,281,282,283,284,285,286,287,288,289,290,291,292,293,294,295,296,297,298,299,300,301,302,303,304,305,306,307,308,309,310,311,312,313,314,315,316,317,318,319,320,321,322,323,324,325,326,327,328,329,330,331,332,333,334,335,336,337,338,339,340,341,342,343,344,345,346,347,348,349,350,351,352,353,354,355,356,357,358,359,360,361,362,363,364,365,366,367,368,369,370,371,372,373,374,375,376,377,378,379,380,381,382,383,384,385,386,387,388,389,390,391,392,393,394,395,396,397,398,399],\"y\":[1.6145414788424899,1.6060231817833805,1.62558477764233,1.44248438893503,1.3744738859720254,1.2726013695998126,1.3401483915276442,1.2412816887949956,1.0491929229058627,1.0471624107010784,0.9430868932719769,0.8228805194442075,0.7596773829701466,0.6564787230435012,0.6113611610872169,0.4788144692192021,0.3960705853330216,0.243377407547151,0.2195120853971366,0.17586625644687678,-0.03813947827492707,0.016362792979174628,-0.22358200464186168,-0.30650827702057504,-0.3449866914085423,-0.46846135005875716,-0.5409472594848064,-0.5964629440726367,-0.6268108066799547,-0.8135958665062467,-0.8252809532834768,-0.8841033310314317,-1.093951266515199,-1.1543733353905588,-1.0829096590278002,-1.2848182837364843,-1.2758539367267059,-1.559512558169999,-1.6250074473898148,-1.561496444530515,-1.639221532890564,-1.7498318332676543,-1.7616571919855135,-1.898023628214151,-2.0079250145475602,-2.064158439880635,-2.0252819462153724,-2.184831785927131,-2.2896840861784358,-2.356233344532704,-2.5081836173216816,-2.503123704141342,-2.5272535248307726,-2.599427073303544,-2.524914130043251,-2.7920969444816155,-2.844003363080394,-2.772342824379862,-2.9078447364317284,-2.8555426306377116,-2.939516595098601,-3.05676706995995,-3.1345965500353135,-3.1682235291011978,-3.243974843802605,-3.3160912383863406,-3.4467521640970005,-3.4236503932529647,-3.366785712848094,-3.4292058309957487,-3.4423735886016327,-3.5162204499154277,-3.433599110102715,-3.573077946699621,-3.5081286930433992,-3.553516637366078,-3.488131403281181,-3.748633465700646,-3.755222686355504,-3.6961195571557255,-3.8644016620190818,-3.65544561571382,-3.872310357604575,-3.8273082644332104,-3.84667040319387,-3.892170905808708,-3.9192225213929133,-3.8105647367111946,-4.048371389071605,-3.993090009456192,-3.9668325200899814,-3.7939028075929357,-4.02194697189313,-4.1210647881012195,-4.20275975344203,-4.23252062790214,-3.908077254346871,-4.2292808194587055,-4.101195809248862,-3.9505263722807586,-4.0606031008678425,-4.38729441192978,-4.332649723504911,-4.173904386635686,-4.320590861645952,-4.3522025673185505,-4.229254753095854,-4.264015913453591,-4.324180892548822,-4.279498653577662,-4.087014218347722,-4.4037309955622845,-4.417881937514384,-4.283559755368968,-4.47998492895292,-4.548024938014368,-4.390475009345431,-4.524511268107811,-4.461775736900901,-4.530518467228897,-4.537815567770759,-4.503847708797669,-4.6021498012706665,-4.569464719304269,-4.797033937577592,-4.785143022280866,-4.4451391329667365,-4.646817444343248,-4.74322436990008,-4.6083689315841205,-4.791468415532094,-4.688782236227363,-4.626613949744925,-4.855505144039756,-4.597751386289661,-4.790268765366687,-4.808601184605364,-4.720710878647285,-4.899567975149578,-4.732160897571584,-4.894411435963591,-4.677490095028556,-5.126041550021322,-4.773165655221587,-4.985628023206654,-4.962475617213698,-4.865179968673404,-4.774709375098303,-4.864311393431923,-4.860375990198879,-5.003969616307504,-5.0635653233702165,-5.199673602574746,-5.076947038045063,-5.210877547626397,-4.973765448157474,-5.063938325523509,-5.125782910526115,-5.156966721111764,-5.0450898256610035,-5.283180018417032,-5.198021761259181,-5.229079954067101,-5.317562346184726,-5.095556186040599,-5.26032972789034,-5.381872736253033,-5.4517377193518985,-5.536694050020916,-5.430750178811477,-5.242524132246576,-5.385834849971799,-5.466389506960595,-5.007838189827382,-5.612978140031231,-5.6365549958589325,-5.708851199150529,-5.733034165578292,-5.623177524309458,-5.674790600437257,-5.725151463816142,-5.687163952487508,-5.668672231155783,-5.6748545884184365,-5.939706581926977,-5.906724641312744,-5.84009163590007,-5.938821888563291,-5.8530852620473555,-5.803715431590165,-5.715864316165702,-6.1109185662925665,-6.1424089009827085,-6.116440717244693,-6.152921233018987,-6.280590527502145,-6.176772460436452,-6.229034088394039,-6.080999827045094,-6.239694686496763,-6.197848787675482,-6.405364488418875,-6.363721779799745,-6.448706542343085,-6.5219858347158235,-6.511988028398724,-6.828357435041519,-6.655238296591441,-6.702573142008895,-7.018436308412738,-6.725899273270518,-6.779988497148937,-6.982005973560399,-7.012947003733483,-7.122968626545889,-7.009740808576541,-7.2227639851778,-7.468477360821348,-7.435732458460137,-7.388629510405085,-7.562708449575129,-7.694396955121544,-8.013575886678542,-7.879042350095994,-8.137463647103749,-8.34869398352368,-8.323693279227214,-8.553900467526338,-8.538311269671949,-8.913869492950516,-8.815632000619496,-9.216207229583535,-9.462435234737985,-9.70197857046272,-10.007096733367398,-10.455829172955253,-10.523298269994193,-11.057077841591514,-11.384831153403285,-11.618483555430725,-12.346058070861734,-12.53566971460389,-12.812879054825345,-13.579374449392493,-13.721452911169754,-14.623632048036463,-14.702111897496925,-15.502567116719817,-16.331595260089404,-16.456132201137073,-17.28168255771119,-17.95778236353028,-18.28226496513316,-19.070413738808547,-19.788259482453633,-20.146455053742553,-20.495544729028794,-20.585329555986945,-21.09734284232826,-21.286515905252912,-21.766607474171643,-22.190933986358388,-22.257157890055534,-22.439583685245406,-22.702073606631544,-22.753803042362552,-23.096744937340752,-23.008651748163462,-23.162252960213387,-23.267672575307902,-23.397100620294903,-23.466183286560472,-23.44415569293347,-23.603233424426005,-23.543270858370903,-23.687545771385327,-23.678022046907117,-23.689277987102663,-23.731823002954563,-23.758743157800513,-23.801410943602942,-23.82098837771293,-23.831153991944987,-23.861397499043704,-23.84320265473009,-23.87578017010894,-23.84411801596644,-23.839919206704074,-23.891997386725286,-23.86563866501832,-23.848467720484027,-23.80108281296605,-23.84097214136772,-23.83187955933379,-23.835167006651922,-23.89714249882771,-23.941027739029057,-23.901653484154846,-23.885723646128618,-23.93569265786338,-23.933912517482963,-23.927713910740557,-23.896110297493422,-23.887428059703662,-23.936593774434304,-23.902244629109223,-23.940564396994542,-23.949933986584966,-23.924361822743165,-23.91626333917956,-23.91384576110514,-23.916033742193715,-23.9309676119873,-23.876483873068054,-23.932163037193227,-23.9733540564295,-23.93361275444957,-23.95449778379464,-23.936303773865863,-23.959126449527712,-23.95616108046376,-23.92433967813526,-23.929903070805494,-23.97242306052365,-23.9751098075214,-23.939822361216013,-23.91824848645771,-23.948018779538128,-23.965109000272243,-23.926690816052176,-23.947970120360164,-23.948109844139854,-23.962641681820667,-23.946335082584266,-23.96770697183019,-23.96339030490932,-23.963515282261486,-23.95568444156606,-23.96917202561837,-23.95280213107518,-23.949175957366663,-23.968791572076892,-23.965154939346096,-23.956286595582487,-23.916063485903063,-23.951998303298783,-23.950384155963544,-23.954933715276926,-23.946071058434477,-23.950986420604696,-23.953224562704886,-23.94560919711198,-23.935841187276964,-23.94417133914501,-23.966597657655374,-23.991036827828225,-23.966977900924757,-23.963153523452394,-23.964461509409947,-23.959500838005326,-23.9683328610914,-23.962588472133255,-23.947505926729956,-23.998562042203716,-23.978144588748897,-23.980980136774363,-23.9915236089014,-23.96224104179447,-23.98196465429301,-23.95450826460656,-23.93654577648101,-23.98058017003546,-23.97948961337559,-23.97351077379655,-23.930650770054086,-23.991660137763912,-23.963583995816936,-23.96869994307495,-23.964337569489647,-23.982252240932773,-23.961113695384768,-23.968036092074733,-23.976709736595975,-23.974112606504892,-23.98127133831122,-23.972693083385046,-23.984444939022396,-23.990605966390216,-23.982720976868706,-23.971848100023692,-23.994075850314857,-23.98109123184909,-23.96722841222965,-23.976186215487203,-23.993194197101396,-23.987934438817963,-23.995650332584802,-23.95714144759355,-23.97948670217066,-23.953994073793904]}],                        {\"shapes\":[{\"line\":{\"width\":1},\"opacity\":1,\"type\":\"line\",\"x0\":0,\"x1\":1,\"xref\":\"x domain\",\"y0\":-24.000000000000014,\"y1\":-24.000000000000014,\"yref\":\"y\"}],\"template\":{\"data\":{\"bar\":[{\"error_x\":{\"color\":\"rgb(36,36,36)\"},\"error_y\":{\"color\":\"rgb(36,36,36)\"},\"marker\":{\"line\":{\"color\":\"white\",\"width\":0.5},\"pattern\":{\"fillmode\":\"overlay\",\"size\":10,\"solidity\":0.2}},\"type\":\"bar\"}],\"barpolar\":[{\"marker\":{\"line\":{\"color\":\"white\",\"width\":0.5},\"pattern\":{\"fillmode\":\"overlay\",\"size\":10,\"solidity\":0.2}},\"type\":\"barpolar\"}],\"carpet\":[{\"aaxis\":{\"endlinecolor\":\"rgb(36,36,36)\",\"gridcolor\":\"white\",\"linecolor\":\"white\",\"minorgridcolor\":\"white\",\"startlinecolor\":\"rgb(36,36,36)\"},\"baxis\":{\"endlinecolor\":\"rgb(36,36,36)\",\"gridcolor\":\"white\",\"linecolor\":\"white\",\"minorgridcolor\":\"white\",\"startlinecolor\":\"rgb(36,36,36)\"},\"type\":\"carpet\"}],\"choropleth\":[{\"colorbar\":{\"outlinewidth\":1,\"tickcolor\":\"rgb(36,36,36)\",\"ticks\":\"outside\"},\"type\":\"choropleth\"}],\"contour\":[{\"colorbar\":{\"outlinewidth\":1,\"tickcolor\":\"rgb(36,36,36)\",\"ticks\":\"outside\"},\"colorscale\":[[0.0,\"#440154\"],[0.1111111111111111,\"#482878\"],[0.2222222222222222,\"#3e4989\"],[0.3333333333333333,\"#31688e\"],[0.4444444444444444,\"#26828e\"],[0.5555555555555556,\"#1f9e89\"],[0.6666666666666666,\"#35b779\"],[0.7777777777777778,\"#6ece58\"],[0.8888888888888888,\"#b5de2b\"],[1.0,\"#fde725\"]],\"type\":\"contour\"}],\"contourcarpet\":[{\"colorbar\":{\"outlinewidth\":1,\"tickcolor\":\"rgb(36,36,36)\",\"ticks\":\"outside\"},\"type\":\"contourcarpet\"}],\"heatmap\":[{\"colorbar\":{\"outlinewidth\":1,\"tickcolor\":\"rgb(36,36,36)\",\"ticks\":\"outside\"},\"colorscale\":[[0.0,\"#440154\"],[0.1111111111111111,\"#482878\"],[0.2222222222222222,\"#3e4989\"],[0.3333333333333333,\"#31688e\"],[0.4444444444444444,\"#26828e\"],[0.5555555555555556,\"#1f9e89\"],[0.6666666666666666,\"#35b779\"],[0.7777777777777778,\"#6ece58\"],[0.8888888888888888,\"#b5de2b\"],[1.0,\"#fde725\"]],\"type\":\"heatmap\"}],\"heatmapgl\":[{\"colorbar\":{\"outlinewidth\":1,\"tickcolor\":\"rgb(36,36,36)\",\"ticks\":\"outside\"},\"colorscale\":[[0.0,\"#440154\"],[0.1111111111111111,\"#482878\"],[0.2222222222222222,\"#3e4989\"],[0.3333333333333333,\"#31688e\"],[0.4444444444444444,\"#26828e\"],[0.5555555555555556,\"#1f9e89\"],[0.6666666666666666,\"#35b779\"],[0.7777777777777778,\"#6ece58\"],[0.8888888888888888,\"#b5de2b\"],[1.0,\"#fde725\"]],\"type\":\"heatmapgl\"}],\"histogram\":[{\"marker\":{\"line\":{\"color\":\"white\",\"width\":0.6}},\"type\":\"histogram\"}],\"histogram2d\":[{\"colorbar\":{\"outlinewidth\":1,\"tickcolor\":\"rgb(36,36,36)\",\"ticks\":\"outside\"},\"colorscale\":[[0.0,\"#440154\"],[0.1111111111111111,\"#482878\"],[0.2222222222222222,\"#3e4989\"],[0.3333333333333333,\"#31688e\"],[0.4444444444444444,\"#26828e\"],[0.5555555555555556,\"#1f9e89\"],[0.6666666666666666,\"#35b779\"],[0.7777777777777778,\"#6ece58\"],[0.8888888888888888,\"#b5de2b\"],[1.0,\"#fde725\"]],\"type\":\"histogram2d\"}],\"histogram2dcontour\":[{\"colorbar\":{\"outlinewidth\":1,\"tickcolor\":\"rgb(36,36,36)\",\"ticks\":\"outside\"},\"colorscale\":[[0.0,\"#440154\"],[0.1111111111111111,\"#482878\"],[0.2222222222222222,\"#3e4989\"],[0.3333333333333333,\"#31688e\"],[0.4444444444444444,\"#26828e\"],[0.5555555555555556,\"#1f9e89\"],[0.6666666666666666,\"#35b779\"],[0.7777777777777778,\"#6ece58\"],[0.8888888888888888,\"#b5de2b\"],[1.0,\"#fde725\"]],\"type\":\"histogram2dcontour\"}],\"mesh3d\":[{\"colorbar\":{\"outlinewidth\":1,\"tickcolor\":\"rgb(36,36,36)\",\"ticks\":\"outside\"},\"type\":\"mesh3d\"}],\"parcoords\":[{\"line\":{\"colorbar\":{\"outlinewidth\":1,\"tickcolor\":\"rgb(36,36,36)\",\"ticks\":\"outside\"}},\"type\":\"parcoords\"}],\"pie\":[{\"automargin\":true,\"type\":\"pie\"}],\"scatter\":[{\"marker\":{\"colorbar\":{\"outlinewidth\":1,\"tickcolor\":\"rgb(36,36,36)\",\"ticks\":\"outside\"}},\"type\":\"scatter\"}],\"scatter3d\":[{\"line\":{\"colorbar\":{\"outlinewidth\":1,\"tickcolor\":\"rgb(36,36,36)\",\"ticks\":\"outside\"}},\"marker\":{\"colorbar\":{\"outlinewidth\":1,\"tickcolor\":\"rgb(36,36,36)\",\"ticks\":\"outside\"}},\"type\":\"scatter3d\"}],\"scattercarpet\":[{\"marker\":{\"colorbar\":{\"outlinewidth\":1,\"tickcolor\":\"rgb(36,36,36)\",\"ticks\":\"outside\"}},\"type\":\"scattercarpet\"}],\"scattergeo\":[{\"marker\":{\"colorbar\":{\"outlinewidth\":1,\"tickcolor\":\"rgb(36,36,36)\",\"ticks\":\"outside\"}},\"type\":\"scattergeo\"}],\"scattergl\":[{\"marker\":{\"colorbar\":{\"outlinewidth\":1,\"tickcolor\":\"rgb(36,36,36)\",\"ticks\":\"outside\"}},\"type\":\"scattergl\"}],\"scattermapbox\":[{\"marker\":{\"colorbar\":{\"outlinewidth\":1,\"tickcolor\":\"rgb(36,36,36)\",\"ticks\":\"outside\"}},\"type\":\"scattermapbox\"}],\"scatterpolar\":[{\"marker\":{\"colorbar\":{\"outlinewidth\":1,\"tickcolor\":\"rgb(36,36,36)\",\"ticks\":\"outside\"}},\"type\":\"scatterpolar\"}],\"scatterpolargl\":[{\"marker\":{\"colorbar\":{\"outlinewidth\":1,\"tickcolor\":\"rgb(36,36,36)\",\"ticks\":\"outside\"}},\"type\":\"scatterpolargl\"}],\"scatterternary\":[{\"marker\":{\"colorbar\":{\"outlinewidth\":1,\"tickcolor\":\"rgb(36,36,36)\",\"ticks\":\"outside\"}},\"type\":\"scatterternary\"}],\"surface\":[{\"colorbar\":{\"outlinewidth\":1,\"tickcolor\":\"rgb(36,36,36)\",\"ticks\":\"outside\"},\"colorscale\":[[0.0,\"#440154\"],[0.1111111111111111,\"#482878\"],[0.2222222222222222,\"#3e4989\"],[0.3333333333333333,\"#31688e\"],[0.4444444444444444,\"#26828e\"],[0.5555555555555556,\"#1f9e89\"],[0.6666666666666666,\"#35b779\"],[0.7777777777777778,\"#6ece58\"],[0.8888888888888888,\"#b5de2b\"],[1.0,\"#fde725\"]],\"type\":\"surface\"}],\"table\":[{\"cells\":{\"fill\":{\"color\":\"rgb(237,237,237)\"},\"line\":{\"color\":\"white\"}},\"header\":{\"fill\":{\"color\":\"rgb(217,217,217)\"},\"line\":{\"color\":\"white\"}},\"type\":\"table\"}]},\"layout\":{\"annotationdefaults\":{\"arrowhead\":0,\"arrowwidth\":1},\"autotypenumbers\":\"strict\",\"coloraxis\":{\"colorbar\":{\"outlinewidth\":1,\"tickcolor\":\"rgb(36,36,36)\",\"ticks\":\"outside\"}},\"colorscale\":{\"diverging\":[[0.0,\"rgb(103,0,31)\"],[0.1,\"rgb(178,24,43)\"],[0.2,\"rgb(214,96,77)\"],[0.3,\"rgb(244,165,130)\"],[0.4,\"rgb(253,219,199)\"],[0.5,\"rgb(247,247,247)\"],[0.6,\"rgb(209,229,240)\"],[0.7,\"rgb(146,197,222)\"],[0.8,\"rgb(67,147,195)\"],[0.9,\"rgb(33,102,172)\"],[1.0,\"rgb(5,48,97)\"]],\"sequential\":[[0.0,\"#440154\"],[0.1111111111111111,\"#482878\"],[0.2222222222222222,\"#3e4989\"],[0.3333333333333333,\"#31688e\"],[0.4444444444444444,\"#26828e\"],[0.5555555555555556,\"#1f9e89\"],[0.6666666666666666,\"#35b779\"],[0.7777777777777778,\"#6ece58\"],[0.8888888888888888,\"#b5de2b\"],[1.0,\"#fde725\"]],\"sequentialminus\":[[0.0,\"#440154\"],[0.1111111111111111,\"#482878\"],[0.2222222222222222,\"#3e4989\"],[0.3333333333333333,\"#31688e\"],[0.4444444444444444,\"#26828e\"],[0.5555555555555556,\"#1f9e89\"],[0.6666666666666666,\"#35b779\"],[0.7777777777777778,\"#6ece58\"],[0.8888888888888888,\"#b5de2b\"],[1.0,\"#fde725\"]]},\"colorway\":[\"#1F77B4\",\"#FF7F0E\",\"#2CA02C\",\"#D62728\",\"#9467BD\",\"#8C564B\",\"#E377C2\",\"#7F7F7F\",\"#BCBD22\",\"#17BECF\"],\"font\":{\"color\":\"rgb(36,36,36)\"},\"geo\":{\"bgcolor\":\"white\",\"lakecolor\":\"white\",\"landcolor\":\"white\",\"showlakes\":true,\"showland\":true,\"subunitcolor\":\"white\"},\"hoverlabel\":{\"align\":\"left\"},\"hovermode\":\"closest\",\"mapbox\":{\"style\":\"light\"},\"paper_bgcolor\":\"white\",\"plot_bgcolor\":\"white\",\"polar\":{\"angularaxis\":{\"gridcolor\":\"rgb(232,232,232)\",\"linecolor\":\"rgb(36,36,36)\",\"showgrid\":false,\"showline\":true,\"ticks\":\"outside\"},\"bgcolor\":\"white\",\"radialaxis\":{\"gridcolor\":\"rgb(232,232,232)\",\"linecolor\":\"rgb(36,36,36)\",\"showgrid\":false,\"showline\":true,\"ticks\":\"outside\"}},\"scene\":{\"xaxis\":{\"backgroundcolor\":\"white\",\"gridcolor\":\"rgb(232,232,232)\",\"gridwidth\":2,\"linecolor\":\"rgb(36,36,36)\",\"showbackground\":true,\"showgrid\":false,\"showline\":true,\"ticks\":\"outside\",\"zeroline\":false,\"zerolinecolor\":\"rgb(36,36,36)\"},\"yaxis\":{\"backgroundcolor\":\"white\",\"gridcolor\":\"rgb(232,232,232)\",\"gridwidth\":2,\"linecolor\":\"rgb(36,36,36)\",\"showbackground\":true,\"showgrid\":false,\"showline\":true,\"ticks\":\"outside\",\"zeroline\":false,\"zerolinecolor\":\"rgb(36,36,36)\"},\"zaxis\":{\"backgroundcolor\":\"white\",\"gridcolor\":\"rgb(232,232,232)\",\"gridwidth\":2,\"linecolor\":\"rgb(36,36,36)\",\"showbackground\":true,\"showgrid\":false,\"showline\":true,\"ticks\":\"outside\",\"zeroline\":false,\"zerolinecolor\":\"rgb(36,36,36)\"}},\"shapedefaults\":{\"fillcolor\":\"black\",\"line\":{\"width\":0},\"opacity\":0.3},\"ternary\":{\"aaxis\":{\"gridcolor\":\"rgb(232,232,232)\",\"linecolor\":\"rgb(36,36,36)\",\"showgrid\":false,\"showline\":true,\"ticks\":\"outside\"},\"baxis\":{\"gridcolor\":\"rgb(232,232,232)\",\"linecolor\":\"rgb(36,36,36)\",\"showgrid\":false,\"showline\":true,\"ticks\":\"outside\"},\"bgcolor\":\"white\",\"caxis\":{\"gridcolor\":\"rgb(232,232,232)\",\"linecolor\":\"rgb(36,36,36)\",\"showgrid\":false,\"showline\":true,\"ticks\":\"outside\"}},\"title\":{\"x\":0.05},\"xaxis\":{\"automargin\":true,\"gridcolor\":\"rgb(232,232,232)\",\"linecolor\":\"rgb(36,36,36)\",\"showgrid\":false,\"showline\":true,\"ticks\":\"outside\",\"title\":{\"standoff\":15},\"zeroline\":false,\"zerolinecolor\":\"rgb(36,36,36)\"},\"yaxis\":{\"automargin\":true,\"gridcolor\":\"rgb(232,232,232)\",\"linecolor\":\"rgb(36,36,36)\",\"showgrid\":false,\"showline\":true,\"ticks\":\"outside\",\"title\":{\"standoff\":15},\"zeroline\":false,\"zerolinecolor\":\"rgb(36,36,36)\"}}},\"title\":{\"text\":\"<b>S-S model </b>, L=16, J2 =1, J1 =0.2 , η=0.01, α=16, samples=1000\"},\"xaxis\":{\"mirror\":true,\"showline\":true,\"title\":{\"text\":\"Iteration\"}},\"yaxis\":{\"mirror\":true,\"showline\":true,\"title\":{\"text\":\"Energy\"}}},                        {\"responsive\": true}                    ).then(function(){\n",
       "                            \n",
       "var gd = document.getElementById('0ca1153d-f6b8-451f-acc6-a54e783e76c4');\n",
       "var x = new MutationObserver(function (mutations, observer) {{\n",
       "        var display = window.getComputedStyle(gd).display;\n",
       "        if (!display || display === 'none') {{\n",
       "            console.log([gd, 'removed!']);\n",
       "            Plotly.purge(gd);\n",
       "            observer.disconnect();\n",
       "        }}\n",
       "}});\n",
       "\n",
       "// Listen for the removal of the full notebook cells\n",
       "var notebookContainer = gd.closest('#notebook-container');\n",
       "if (notebookContainer) {{\n",
       "    x.observe(notebookContainer, {childList: true});\n",
       "}}\n",
       "\n",
       "// Listen for the clearing of the current output cell\n",
       "var outputEl = gd.closest('.output');\n",
       "if (outputEl) {{\n",
       "    x.observe(outputEl, {childList: true});\n",
       "}}\n",
       "\n",
       "                        })                };                });            </script>        </div>"
      ]
     },
     "metadata": {},
     "output_type": "display_data"
    }
   ],
   "source": [
    "# import the data from log file\n",
    "OUT_NAME_suffixless=OUT_NAME\n",
    "data = []\n",
    "for i in range(no_of_runs):\n",
    "    data.append(json.load(open(OUT_NAME_suffixless+str(i)+\".log\")))\n",
    "names = [\"1st type\",\"2nd type\"]\n",
    "if type(data[0][\"Energy\"][\"Mean\"]) == dict: #DTYPE in (np.complex128, np.complex64):#, np.float64):# and False:\n",
    "    energy_convergence = [data[i][\"Energy\"][\"Mean\"][\"real\"] for i in range(no_of_runs)]\n",
    "    # symmetry = [data[i][\"symmetry\"][\"Mean\"][\"real\"] for i in range(no_of_runs-run_only_2)]\n",
    "else:\n",
    "    energy_convergence = [data[i][\"Energy\"][\"Mean\"] for i in range(no_of_runs)]\n",
    "    # symmetry = [data[i][\"symmetry\"][\"Mean\"] for i in range(no_of_runs-run_only_2)]\n",
    "for i in range(no_of_runs):\n",
    "    figure.add_trace(go.Scatter(\n",
    "        x=data[i][\"Energy\"][\"iters\"], y=energy_convergence[i],\n",
    "        name=names[i]\n",
    "    ))\n",
    "    # figure.add_trace(go.Scatter(\n",
    "    #     x=data[i][\"Energy\"][\"iters\"], y=symmetry[i],\n",
    "    #     name=names[i]+\"_swap\"\n",
    "    # ))\n",
    "\n",
    "figure.update_layout(xaxis_title=\"Iteration\",yaxis_title=\"Energy\")\n",
    "figure.show()"
   ]
  },
  {
   "cell_type": "markdown",
   "metadata": {},
   "source": [
    "## Assessment of the other simulation results"
   ]
  },
  {
   "cell_type": "code",
   "execution_count": null,
   "metadata": {},
   "outputs": [
    {
     "name": "stdout",
     "output_type": "stream",
     "text": [
      "[240, 288]\n"
     ]
    }
   ],
   "source": [
    "# Calculation of how long it took to reach 99.5% of exact energy. The first value under 0.5% deviation counts as a converged state.\n",
    "no_of_runs = 2\n",
    "threshold_energy = 0.995*exact_ground_energy\n",
    "data = []\n",
    "for i in range(no_of_runs):\n",
    "    data.append(json.load(open(OUT_NAME+str(i)+\".log\")))\n",
    "if type(data[0][\"Energy\"][\"Mean\"]) == dict:\n",
    "    energy_convergence = [data[i][\"Energy\"][\"Mean\"][\"real\"] for i in range(no_of_runs)]\n",
    "else:\n",
    "    energy_convergence = [data[i][\"Energy\"][\"Mean\"] for i in range(no_of_runs)]\n",
    "steps_until_convergence = [next((i for i,v in enumerate(energy_convergence[j]) if v < threshold_energy), -1) for j in range(no_of_runs)]\n",
    "print(steps_until_convergence)"
   ]
  },
  {
   "cell_type": "code",
   "execution_count": null,
   "metadata": {},
   "outputs": [
    {
     "name": "stdout",
     "output_type": "stream",
     "text": [
      "Trained RBM without MSR:\n",
      "m_d^2 = 0.99952-0.00005j ± 0.00028 [σ²=0.00008]\n",
      "m_p(MSR) = 0.012+0.001j ± 0.014 [σ²=0.228]\n",
      "m_s^2 = 0.000105+0.000013j ± 0.000061 [σ²=0.000004]\n",
      "m_s^2(MSR) = 0.000080+0.000005j ± 0.000046 [σ²=0.000002]\n",
      "Trained RBM with MSR:\n",
      "m_d^2 = 0.99785+0.00025j ± 0.00070 [σ²=0.00074]\n",
      "m_p(MSR) = 0.006+0.001j ± 0.013 [σ²=0.224]\n",
      "m_s^2 = 0.00038-0.00006j ± 0.00014 [σ²=0.00004]\n",
      "m_s^2(MSR) = 0.00037-0.00006j ± 0.00014 [σ²=0.00003]\n"
     ]
    }
   ],
   "source": [
    "# Evaluation of order parameters.\n",
    "from lattice_and_ops import Operators, Lattice\n",
    "ops = Operators(lattice,hilbert,ho.mszsz,ho.exchange)\n",
    "for i,gs in enumerate([gs_1,gs_2][run_only_2:run_only_2+no_of_runs]):\n",
    "    print(\"Trained RBM with MSR:\" if i else \"Trained RBM without MSR:\")\n",
    "    print(\"m_d^2 =\", gs.estimate(ops.m_dimer_op))\n",
    "    print(\"m_p(MSR) =\", gs.estimate(ops.m_plaquette_op_MSR))\n",
    "    print(\"m_s^2 =\", gs.estimate(ops.m_s2_op_MSR))\n",
    "    print(\"m_s^2(MSR) =\", gs.estimate(ops.m_s2_op))"
   ]
  },
  {
   "cell_type": "markdown",
   "metadata": {},
   "source": [
    "### Print final results"
   ]
  },
  {
   "cell_type": "code",
   "execution_count": null,
   "metadata": {},
   "outputs": [
    {
     "name": "stdout",
     "output_type": "stream",
     "text": [
      "  0.20000     -23.98377      0.99952      0.01190      0.00008    1000.00000    400.00000    240.00000\n"
     ]
    }
   ],
   "source": [
    "print(\"{:9.5f}     {:9.5f}    {:9.5f}    {:9.5f}    {:9.5f}    {:9.5f}    {:9.5f}    {:9.5f}\".format(JEXCH1, gs_1.energy.mean.real, gs_1.estimate(ops.m_dimer_op).mean.real, gs_1.estimate(ops.m_plaquette_op).mean.real, gs_1.estimate(ops.m_s2_op).mean.real, SAMPLES, NUM_ITER, steps_until_convergence[0], sep='    '))"
   ]
  }
 ],
 "metadata": {
  "interpreter": {
   "hash": "31f2aee4e71d21fbe5cf8b01ff0e069b9275f58929596ceb00d14d90e3e16cd6"
  },
  "kernelspec": {
   "display_name": "Python 3.8.10 64-bit",
   "name": "python3"
  },
  "language_info": {
   "codemirror_mode": {
    "name": "ipython",
    "version": 3
   },
   "file_extension": ".py",
   "mimetype": "text/x-python",
   "name": "python",
   "nbconvert_exporter": "python",
   "pygments_lexer": "ipython3",
   "version": "3.8.10"
  },
  "metadata": {
   "interpreter": {
    "hash": "916dbcbb3f70747c44a77c7bcd40155683ae19c65e1c03b4aa3499c5328201f1"
   }
  }
 },
 "nbformat": 4,
 "nbformat_minor": 4
}
