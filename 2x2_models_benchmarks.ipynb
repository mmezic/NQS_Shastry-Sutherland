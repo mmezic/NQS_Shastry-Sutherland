{
 "cells": [
  {
   "cell_type": "markdown",
   "metadata": {},
   "source": [
    "# Exploring Shastry-Sutterland model with RBM variational wave function and other models"
   ]
  },
  {
   "cell_type": "code",
   "execution_count": 94,
   "metadata": {},
   "outputs": [
    {
     "name": "stdout",
     "output_type": "stream",
     "text": [
      "NetKet version: 3.3.2.post1\n",
      "NumPy version: 1.20.3\n"
     ]
    }
   ],
   "source": [
    "import netket as nk\n",
    "import numpy as np\n",
    "import time\n",
    "import json\n",
    "import plotly.graph_objects as go\n",
    "import matplotlib.pyplot as plt\n",
    "import jax\n",
    "import flax\n",
    "import optax\n",
    "print(\"NetKet version: {}\".format(nk.__version__))\n",
    "print(\"NumPy version: {}\".format(np.__version__))"
   ]
  },
  {
   "cell_type": "markdown",
   "metadata": {},
   "source": [
    "### Setup relevant parameters and settings of the simulation "
   ]
  },
  {
   "cell_type": "code",
   "execution_count": 95,
   "metadata": {},
   "outputs": [],
   "source": [
    "\"\"\"lattice\"\"\"\n",
    "SITES    = 16             # 4, 8, 16, 20 ... number of vertices in a tile determines the tile shape \n",
    "JEXCH1   = .9            # nn interaction\n",
    "JEXCH2   = 1             # nnn interaction\n",
    "TOTAL_SZ = None          # 0, None ... restriction of Hilbert space\n",
    "#USE_MSR = True          # Should we use a Marshall sign rule? In this notebook, we use both.\n",
    "\n",
    "\"\"\"machine learning\"\"\"\n",
    "MACHINE  = \"RBM\"         # RBM, RBMSymm, RBMSymm_transl, RBMModPhase, GCNN, Jastrow\n",
    "DTYPE    = np.complex128 # data-type of weights in neural network\n",
    "ALPHA    = 8            # N_hidden / N_visible\n",
    "ETA      = .01          # learning rate (0.01 usually works)\n",
    "SAMPLER  = 'exact'       # 'local' = MetropolisLocal, 'exchange' = MetropolisExchange\n",
    "SAMPLES  = 1000          # number of Monte Carlo samples\n",
    "NUM_ITER = 400           # number of convergence iterations\n",
    "N_LAYERS = 1 #2             # number of layers (in case of G-CNN)\n",
    "FEATURES = 16 #(8,4)         # dimensions of layers (in case of G-CNN)\n",
    "\n",
    "OUT_NAME = \"SS_\"+str(SITES)+\"j1=\"+str(JEXCH1) # output file name"
   ]
  },
  {
   "cell_type": "markdown",
   "metadata": {},
   "source": [
    "### Lattice definition\n",
    "Basic structure of tiled lattices is implemented in `lattice_and_ops.py` file. Class `Lattice` implements relative positional functions, \n",
    "- e.g. *`rt(node)` returns the index of the right neighbour of a site with index `node`*\n",
    "\n",
    "The `for` loop constructs full Shastry-Sutherland lattice with PBC using these auxiliary positional functions."
   ]
  },
  {
   "cell_type": "code",
   "execution_count": 96,
   "metadata": {},
   "outputs": [],
   "source": [
    "from lattice_and_ops import Lattice\n",
    "lattice = Lattice(SITES)\n",
    "\n",
    "# Construction of custom graph according to tiled lattice structure defined in the Lattice class.\n",
    "edge_colors = []\n",
    "for node in range(SITES):\n",
    "    edge_colors.append([node,lattice.rt(node), 1])  # horizontal connections\n",
    "    edge_colors.append([node,lattice.bot(node), 1]) # vertical connections\n",
    "    row, column = lattice.position(node)\n",
    "    if column%2 == 0:\n",
    "        if row%2 == 0:\n",
    "            edge_colors.append([node,lattice.lrt(node),2]) # diagonal bond\n",
    "        else:\n",
    "            edge_colors.append([node,lattice.llft(node),2]) # diagonal bond\n",
    "\n",
    "g = nk.graph.Graph(edges=edge_colors) #,n_nodes=3)\n",
    "N = g.n_nodes\n",
    "\n",
    "hilbert = nk.hilbert.Spin(s=.5, N=g.n_nodes, total_sz=TOTAL_SZ)"
   ]
  },
  {
   "cell_type": "code",
   "execution_count": 97,
   "metadata": {},
   "outputs": [
    {
     "data": {
      "text/plain": [
       "'alternative (simple) toy lattices'"
      ]
     },
     "execution_count": 97,
     "metadata": {},
     "output_type": "execute_result"
    }
   ],
   "source": [
    "\"\"\"alternative (simple) toy lattices\"\"\"\n",
    "\n",
    "# # two dimers\n",
    "# edge_colors.append([0,1,1])\n",
    "# edge_colors.append([2,3,1])\n",
    "\n",
    "# # SS 2x2 lattice:\n",
    "# edge_colors.append([0,1,1])\n",
    "# edge_colors.append([2,3,1])\n",
    "# edge_colors.append([1,2,1])\n",
    "# edge_colors.append([0,3,1])\n",
    "# edge_colors.append([0,2,2])\n",
    "# edge_colors.append([1,3,2])\n",
    "\n",
    "# # 3-chain:\n",
    "# edge_colors.append([0,1,1])\n",
    "# edge_colors.append([1,2,1])\n",
    "# edge_colors.append([2,0,1])"
   ]
  },
  {
   "cell_type": "markdown",
   "metadata": {},
   "source": [
    "### Characters of the symmetries\n",
    "In case of G-CNN, we need to specify the characters of the symmetry transformations.\n",
    "- DS phase anti-symmetric wrt permutations with negative sign and symmetric wer permutaions with postive sign\n",
    "- AF phase is always symmetric for all permutations  "
   ]
  },
  {
   "cell_type": "code",
   "execution_count": 98,
   "metadata": {},
   "outputs": [
    {
     "name": "stdout",
     "output_type": "stream",
     "text": [
      "There are 64 full symmetries.\n"
     ]
    }
   ],
   "source": [
    "\n",
    "print(\"There are\", len(g.automorphisms()), \"full symmetries.\")\n",
    "# deciding point between DS and AF phase is set to 0.5\n",
    "if JEXCH1 < 0.5:\n",
    "    # DS phase is partly anti-symmetric\n",
    "    characters = []\n",
    "    from lattice_and_ops import permutation_sign\n",
    "    for perm in g.automorphisms():\n",
    "        # print(perm, \"with sign\", permutation_sign(np.asarray(perm)))\n",
    "        characters.append(permutation_sign(np.asarray(perm)))\n",
    "    characters_dimer = np.asarray(characters,dtype=complex)\n",
    "    characters_dimer_msr = characters_dimer\n",
    "else:\n",
    "    # AF phase if fully symmetric\n",
    "    characters_dimer = np.ones((len(g.automorphisms()),), dtype=complex)\n",
    "    characters_dimer_msr = characters_dimer"
   ]
  },
  {
   "cell_type": "markdown",
   "metadata": {},
   "source": [
    "### Translations\n",
    "\n",
    "If we want to include only translations, we have to exclude some symmetries from `g.automorphisms()`.\n",
    "\n",
    "\n",
    "⚠️ TODO ⚠️ <span style=\"color:red\"> This part is not fully automated yet. Translations are currently picked by hand from the group of all automorphisms. </span>"
   ]
  },
  {
   "cell_type": "code",
   "execution_count": 99,
   "metadata": {},
   "outputs": [
    {
     "name": "stdout",
     "output_type": "stream",
     "text": [
      "Out of 64 permutations, 4 translations were picked.\n"
     ]
    }
   ],
   "source": [
    "if MACHINE == \"RBMSymm_transl\" and N != 4:\n",
    "    raise NotImplementedError(\"Extraction of translations from the group of automorphisms is not implemented yet.\")\n",
    "translations = []\n",
    "for perm in g.automorphisms():\n",
    "    aperm = np.asarray(perm)\n",
    "    if (aperm[0],aperm[1]) in ((0,1),(1,0),(2,3),(3,2)): # N = 4\n",
    "    # if (aperm[0],aperm[1],aperm[3]) in ((0,1,3),(2,3,1),(8,9,11),(10,11,9)): # N = 16\n",
    "    # if (aperm[0],aperm[1],aperm[2],aperm[3]) in ((4,7,6,5),): # N = 8\n",
    "    # if (aperm[2],aperm[0]) in ((2,0),(3,0),(0,1),(1,2)):#,(2,3,1)): # N = 16, two dimers with just translation\n",
    "    # if (aperm[0],aperm[1],aperm[3]) in ((0,1,3),(3,2,0),(2,3,1),(1,0,2)): # N = 16, two dimers plus second translation option\n",
    "        translations.append(nk.utils.group._permutation_group.Permutation(aperm))\n",
    "translation_group = nk.utils.group._permutation_group.PermutationGroup(translations,degree=SITES)\n",
    "print(\"Out of\", len(g.automorphisms()), \"permutations,\",len(translation_group), \"translations were picked.\")"
   ]
  },
  {
   "cell_type": "code",
   "execution_count": 100,
   "metadata": {},
   "outputs": [
    {
     "data": {
      "text/plain": [
       "(['1xPermutation([0, 1, 2, 3, 4, 5, 6, 7, 8, 9, 10, 11, 12, 13, 14, 15])',\n",
       "  '4xPermutation([0, 1, 13, 12, 4, 5, 9, 8, 7, 6, 10, 11, 3, 2, 14, 15])',\n",
       "  '4xPermutation([0, 4, 8, 12, 1, 5, 9, 13, 2, 6, 10, 14, 3, 7, 11, 15])',\n",
       "  '8xPermutation([1, 2, 3, 0, 13, 14, 15, 12, 9, 10, 11, 8, 5, 6, 7, 4])',\n",
       "  '8xPermutation([1, 2, 6, 5, 13, 14, 10, 9, 12, 15, 11, 8, 0, 3, 7, 4])',\n",
       "  '4xPermutation([2, 3, 0, 1, 6, 7, 4, 5, 10, 11, 8, 9, 14, 15, 12, 13])',\n",
       "  '8xPermutation([2, 3, 15, 14, 6, 7, 11, 10, 5, 4, 8, 9, 1, 0, 12, 13])',\n",
       "  '4xPermutation([2, 6, 10, 14, 3, 7, 11, 15, 0, 4, 8, 12, 1, 5, 9, 13])',\n",
       "  '8xPermutation([3, 0, 1, 2, 15, 12, 13, 14, 11, 8, 9, 10, 7, 4, 5, 6])',\n",
       "  '8xPermutation([3, 0, 4, 7, 15, 12, 8, 11, 14, 13, 9, 10, 2, 1, 5, 6])',\n",
       "  '2xPermutation([5, 4, 7, 6, 1, 0, 3, 2, 13, 12, 15, 14, 9, 8, 11, 10])',\n",
       "  '4xPermutation([5, 4, 8, 9, 1, 0, 12, 13, 2, 3, 15, 14, 6, 7, 11, 10])',\n",
       "  '1xPermutation([10, 11, 8, 9, 14, 15, 12, 13, 2, 3, 0, 1, 6, 7, 4, 5])'],\n",
       " array([[ 1.+0.j,  1.+0.j,  1.+0.j,  1.+0.j,  1.+0.j,  1.+0.j,  1.+0.j,\n",
       "          1.+0.j,  1.+0.j,  1.+0.j,  1.+0.j,  1.+0.j,  1.+0.j],\n",
       "        [ 1.+0.j,  1.+0.j,  1.+0.j,  0.+1.j,  0.+1.j, -1.+0.j, -1.+0.j,\n",
       "         -1.+0.j,  0.-1.j,  0.-1.j,  1.+0.j,  1.+0.j,  1.+0.j],\n",
       "        [ 1.+0.j,  1.+0.j,  1.+0.j,  0.-1.j,  0.-1.j, -1.+0.j, -1.+0.j,\n",
       "         -1.+0.j,  0.+1.j,  0.+1.j,  1.+0.j,  1.+0.j,  1.+0.j],\n",
       "        [ 1.+0.j,  1.+0.j,  1.+0.j, -1.+0.j, -1.+0.j,  1.+0.j,  1.+0.j,\n",
       "          1.+0.j, -1.+0.j, -1.+0.j,  1.+0.j,  1.+0.j,  1.+0.j],\n",
       "        [ 1.+0.j, -1.+0.j,  1.+0.j,  1.+0.j, -1.+0.j,  1.+0.j, -1.+0.j,\n",
       "          1.+0.j,  1.+0.j, -1.+0.j,  1.+0.j, -1.+0.j,  1.+0.j],\n",
       "        [ 1.+0.j, -1.+0.j,  1.+0.j,  0.+1.j,  0.-1.j, -1.+0.j,  1.+0.j,\n",
       "         -1.+0.j,  0.-1.j,  0.+1.j,  1.+0.j, -1.+0.j,  1.+0.j],\n",
       "        [ 1.+0.j, -1.+0.j,  1.+0.j,  0.-1.j,  0.+1.j, -1.+0.j,  1.+0.j,\n",
       "         -1.+0.j,  0.+1.j,  0.-1.j,  1.+0.j, -1.+0.j,  1.+0.j],\n",
       "        [ 1.+0.j, -1.+0.j,  1.+0.j, -1.+0.j,  1.+0.j,  1.+0.j, -1.+0.j,\n",
       "          1.+0.j, -1.+0.j,  1.+0.j,  1.+0.j, -1.+0.j,  1.+0.j],\n",
       "        [ 2.+0.j,  0.+0.j, -2.+0.j,  0.+0.j,  0.+0.j,  2.+0.j,  0.+0.j,\n",
       "         -2.+0.j,  0.+0.j,  0.+0.j,  2.+0.j,  0.+0.j,  2.+0.j],\n",
       "        [ 2.+0.j,  0.+0.j, -2.+0.j,  0.+0.j,  0.+0.j, -2.+0.j,  0.+0.j,\n",
       "          2.+0.j,  0.+0.j,  0.+0.j,  2.+0.j,  0.+0.j,  2.+0.j],\n",
       "        [ 4.+0.j,  2.+0.j,  0.+0.j,  0.+0.j,  0.+0.j,  0.+0.j,  0.+0.j,\n",
       "          0.+0.j,  0.+0.j,  0.+0.j,  0.+0.j, -2.+0.j, -4.+0.j],\n",
       "        [ 4.+0.j,  0.+0.j,  0.+0.j,  0.+0.j,  0.+0.j,  0.+0.j,  0.+0.j,\n",
       "          0.+0.j,  0.+0.j,  0.+0.j, -4.+0.j,  0.+0.j,  4.+0.j],\n",
       "        [ 4.+0.j, -2.+0.j,  0.+0.j,  0.+0.j,  0.+0.j,  0.+0.j,  0.+0.j,\n",
       "          0.+0.j,  0.+0.j,  0.+0.j,  0.+0.j,  2.+0.j, -4.+0.j]]))"
      ]
     },
     "execution_count": 100,
     "metadata": {},
     "output_type": "execute_result"
    }
   ],
   "source": [
    "g.automorphisms().character_table_readable()"
   ]
  },
  {
   "cell_type": "code",
   "execution_count": 101,
   "metadata": {},
   "outputs": [
    {
     "data": {
      "text/plain": [
       "array([[ 1.+0.j,  1.+0.j,  1.+0.j,  1.+0.j,  1.+0.j,  1.+0.j,  1.+0.j,\n",
       "         1.+0.j,  1.+0.j,  1.+0.j,  1.+0.j,  1.+0.j,  1.+0.j,  1.+0.j,\n",
       "         1.+0.j,  1.+0.j,  1.+0.j,  1.+0.j,  1.+0.j,  1.+0.j,  1.+0.j,\n",
       "         1.+0.j,  1.+0.j,  1.+0.j,  1.+0.j,  1.+0.j,  1.+0.j,  1.+0.j,\n",
       "         1.+0.j,  1.+0.j,  1.+0.j,  1.+0.j,  1.+0.j,  1.+0.j,  1.+0.j,\n",
       "         1.+0.j,  1.+0.j,  1.+0.j,  1.+0.j,  1.+0.j,  1.+0.j,  1.+0.j,\n",
       "         1.+0.j,  1.+0.j,  1.+0.j,  1.+0.j,  1.+0.j,  1.+0.j,  1.+0.j,\n",
       "         1.+0.j,  1.+0.j,  1.+0.j,  1.+0.j,  1.+0.j,  1.+0.j,  1.+0.j,\n",
       "         1.+0.j,  1.+0.j,  1.+0.j,  1.+0.j,  1.+0.j,  1.+0.j,  1.+0.j,\n",
       "         1.+0.j],\n",
       "       [ 1.+0.j,  1.+0.j,  1.+0.j,  1.+0.j,  0.+1.j,  0.+1.j,  0.+1.j,\n",
       "         0.+1.j, -1.+0.j, -1.+0.j, -1.+0.j, -1.+0.j,  0.-1.j,  0.-1.j,\n",
       "         0.-1.j,  0.-1.j,  0.+1.j,  0.+1.j,  0.+1.j,  0.+1.j,  1.+0.j,\n",
       "         1.+0.j,  1.+0.j,  1.+0.j,  0.-1.j,  0.-1.j,  0.-1.j,  0.-1.j,\n",
       "        -1.+0.j, -1.+0.j, -1.+0.j, -1.+0.j, -1.+0.j, -1.+0.j, -1.+0.j,\n",
       "        -1.+0.j,  0.-1.j,  0.-1.j,  0.-1.j,  0.-1.j,  1.+0.j,  1.+0.j,\n",
       "         1.+0.j,  1.+0.j,  0.+1.j,  0.+1.j,  0.+1.j,  0.+1.j,  0.-1.j,\n",
       "         0.-1.j,  0.-1.j,  0.-1.j, -1.+0.j, -1.+0.j, -1.+0.j, -1.+0.j,\n",
       "         0.+1.j,  0.+1.j,  0.+1.j,  0.+1.j,  1.+0.j,  1.+0.j,  1.+0.j,\n",
       "         1.+0.j],\n",
       "       [ 1.+0.j,  1.+0.j,  1.+0.j,  1.+0.j,  0.-1.j,  0.-1.j,  0.-1.j,\n",
       "         0.-1.j, -1.+0.j, -1.+0.j, -1.+0.j, -1.+0.j,  0.+1.j,  0.+1.j,\n",
       "         0.+1.j,  0.+1.j,  0.-1.j,  0.-1.j,  0.-1.j,  0.-1.j,  1.+0.j,\n",
       "         1.+0.j,  1.+0.j,  1.+0.j,  0.+1.j,  0.+1.j,  0.+1.j,  0.+1.j,\n",
       "        -1.+0.j, -1.+0.j, -1.+0.j, -1.+0.j, -1.+0.j, -1.+0.j, -1.+0.j,\n",
       "        -1.+0.j,  0.+1.j,  0.+1.j,  0.+1.j,  0.+1.j,  1.+0.j,  1.+0.j,\n",
       "         1.+0.j,  1.+0.j,  0.-1.j,  0.-1.j,  0.-1.j,  0.-1.j,  0.+1.j,\n",
       "         0.+1.j,  0.+1.j,  0.+1.j, -1.+0.j, -1.+0.j, -1.+0.j, -1.+0.j,\n",
       "         0.-1.j,  0.-1.j,  0.-1.j,  0.-1.j,  1.+0.j,  1.+0.j,  1.+0.j,\n",
       "         1.+0.j],\n",
       "       [ 1.+0.j,  1.+0.j,  1.+0.j,  1.+0.j, -1.+0.j, -1.+0.j, -1.+0.j,\n",
       "        -1.+0.j,  1.+0.j,  1.+0.j,  1.+0.j,  1.+0.j, -1.+0.j, -1.+0.j,\n",
       "        -1.+0.j, -1.+0.j, -1.+0.j, -1.+0.j, -1.+0.j, -1.+0.j,  1.+0.j,\n",
       "         1.+0.j,  1.+0.j,  1.+0.j, -1.+0.j, -1.+0.j, -1.+0.j, -1.+0.j,\n",
       "         1.+0.j,  1.+0.j,  1.+0.j,  1.+0.j,  1.+0.j,  1.+0.j,  1.+0.j,\n",
       "         1.+0.j, -1.+0.j, -1.+0.j, -1.+0.j, -1.+0.j,  1.+0.j,  1.+0.j,\n",
       "         1.+0.j,  1.+0.j, -1.+0.j, -1.+0.j, -1.+0.j, -1.+0.j, -1.+0.j,\n",
       "        -1.+0.j, -1.+0.j, -1.+0.j,  1.+0.j,  1.+0.j,  1.+0.j,  1.+0.j,\n",
       "        -1.+0.j, -1.+0.j, -1.+0.j, -1.+0.j,  1.+0.j,  1.+0.j,  1.+0.j,\n",
       "         1.+0.j],\n",
       "       [ 1.+0.j, -1.+0.j, -1.+0.j,  1.+0.j,  1.+0.j, -1.+0.j,  1.+0.j,\n",
       "        -1.+0.j,  1.+0.j, -1.+0.j, -1.+0.j,  1.+0.j,  1.+0.j, -1.+0.j,\n",
       "         1.+0.j, -1.+0.j, -1.+0.j,  1.+0.j, -1.+0.j,  1.+0.j, -1.+0.j,\n",
       "         1.+0.j,  1.+0.j, -1.+0.j, -1.+0.j,  1.+0.j, -1.+0.j,  1.+0.j,\n",
       "        -1.+0.j,  1.+0.j,  1.+0.j, -1.+0.j, -1.+0.j,  1.+0.j,  1.+0.j,\n",
       "        -1.+0.j,  1.+0.j, -1.+0.j,  1.+0.j, -1.+0.j, -1.+0.j,  1.+0.j,\n",
       "         1.+0.j, -1.+0.j,  1.+0.j, -1.+0.j,  1.+0.j, -1.+0.j, -1.+0.j,\n",
       "         1.+0.j, -1.+0.j,  1.+0.j,  1.+0.j, -1.+0.j, -1.+0.j,  1.+0.j,\n",
       "        -1.+0.j,  1.+0.j, -1.+0.j,  1.+0.j,  1.+0.j, -1.+0.j, -1.+0.j,\n",
       "         1.+0.j],\n",
       "       [ 1.+0.j, -1.+0.j, -1.+0.j,  1.+0.j,  0.+1.j,  0.-1.j,  0.+1.j,\n",
       "         0.-1.j, -1.+0.j,  1.+0.j,  1.+0.j, -1.+0.j,  0.-1.j,  0.+1.j,\n",
       "         0.-1.j,  0.+1.j,  0.-1.j,  0.+1.j,  0.-1.j,  0.+1.j, -1.+0.j,\n",
       "         1.+0.j,  1.+0.j, -1.+0.j,  0.+1.j,  0.-1.j,  0.+1.j,  0.-1.j,\n",
       "         1.+0.j, -1.+0.j, -1.+0.j,  1.+0.j,  1.+0.j, -1.+0.j, -1.+0.j,\n",
       "         1.+0.j,  0.-1.j,  0.+1.j,  0.-1.j,  0.+1.j, -1.+0.j,  1.+0.j,\n",
       "         1.+0.j, -1.+0.j,  0.+1.j,  0.-1.j,  0.+1.j,  0.-1.j,  0.+1.j,\n",
       "         0.-1.j,  0.+1.j,  0.-1.j, -1.+0.j,  1.+0.j,  1.+0.j, -1.+0.j,\n",
       "         0.-1.j,  0.+1.j,  0.-1.j,  0.+1.j,  1.+0.j, -1.+0.j, -1.+0.j,\n",
       "         1.+0.j],\n",
       "       [ 1.+0.j, -1.+0.j, -1.+0.j,  1.+0.j,  0.-1.j,  0.+1.j,  0.-1.j,\n",
       "         0.+1.j, -1.+0.j,  1.+0.j,  1.+0.j, -1.+0.j,  0.+1.j,  0.-1.j,\n",
       "         0.+1.j,  0.-1.j,  0.+1.j,  0.-1.j,  0.+1.j,  0.-1.j, -1.+0.j,\n",
       "         1.+0.j,  1.+0.j, -1.+0.j,  0.-1.j,  0.+1.j,  0.-1.j,  0.+1.j,\n",
       "         1.+0.j, -1.+0.j, -1.+0.j,  1.+0.j,  1.+0.j, -1.+0.j, -1.+0.j,\n",
       "         1.+0.j,  0.+1.j,  0.-1.j,  0.+1.j,  0.-1.j, -1.+0.j,  1.+0.j,\n",
       "         1.+0.j, -1.+0.j,  0.-1.j,  0.+1.j,  0.-1.j,  0.+1.j,  0.-1.j,\n",
       "         0.+1.j,  0.-1.j,  0.+1.j, -1.+0.j,  1.+0.j,  1.+0.j, -1.+0.j,\n",
       "         0.+1.j,  0.-1.j,  0.+1.j,  0.-1.j,  1.+0.j, -1.+0.j, -1.+0.j,\n",
       "         1.+0.j],\n",
       "       [ 1.+0.j, -1.+0.j, -1.+0.j,  1.+0.j, -1.+0.j,  1.+0.j, -1.+0.j,\n",
       "         1.+0.j,  1.+0.j, -1.+0.j, -1.+0.j,  1.+0.j, -1.+0.j,  1.+0.j,\n",
       "        -1.+0.j,  1.+0.j,  1.+0.j, -1.+0.j,  1.+0.j, -1.+0.j, -1.+0.j,\n",
       "         1.+0.j,  1.+0.j, -1.+0.j,  1.+0.j, -1.+0.j,  1.+0.j, -1.+0.j,\n",
       "        -1.+0.j,  1.+0.j,  1.+0.j, -1.+0.j, -1.+0.j,  1.+0.j,  1.+0.j,\n",
       "        -1.+0.j, -1.+0.j,  1.+0.j, -1.+0.j,  1.+0.j, -1.+0.j,  1.+0.j,\n",
       "         1.+0.j, -1.+0.j, -1.+0.j,  1.+0.j, -1.+0.j,  1.+0.j,  1.+0.j,\n",
       "        -1.+0.j,  1.+0.j, -1.+0.j,  1.+0.j, -1.+0.j, -1.+0.j,  1.+0.j,\n",
       "         1.+0.j, -1.+0.j,  1.+0.j, -1.+0.j,  1.+0.j, -1.+0.j, -1.+0.j,\n",
       "         1.+0.j],\n",
       "       [ 2.+0.j,  0.+0.j,  0.+0.j, -2.+0.j,  0.+0.j,  0.+0.j,  0.+0.j,\n",
       "         0.+0.j,  2.+0.j,  0.+0.j,  0.+0.j, -2.+0.j,  0.+0.j,  0.+0.j,\n",
       "         0.+0.j,  0.+0.j,  0.+0.j,  0.+0.j,  0.+0.j,  0.+0.j,  0.+0.j,\n",
       "        -2.+0.j,  2.+0.j,  0.+0.j,  0.+0.j,  0.+0.j,  0.+0.j,  0.+0.j,\n",
       "         0.+0.j, -2.+0.j,  2.+0.j,  0.+0.j,  0.+0.j,  2.+0.j, -2.+0.j,\n",
       "         0.+0.j,  0.+0.j,  0.+0.j,  0.+0.j,  0.+0.j,  0.+0.j,  2.+0.j,\n",
       "        -2.+0.j,  0.+0.j,  0.+0.j,  0.+0.j,  0.+0.j,  0.+0.j,  0.+0.j,\n",
       "         0.+0.j,  0.+0.j,  0.+0.j, -2.+0.j,  0.+0.j,  0.+0.j,  2.+0.j,\n",
       "         0.+0.j,  0.+0.j,  0.+0.j,  0.+0.j, -2.+0.j,  0.+0.j,  0.+0.j,\n",
       "         2.+0.j],\n",
       "       [ 2.+0.j,  0.+0.j,  0.+0.j, -2.+0.j,  0.+0.j,  0.+0.j,  0.+0.j,\n",
       "         0.+0.j, -2.+0.j,  0.+0.j,  0.+0.j,  2.+0.j,  0.+0.j,  0.+0.j,\n",
       "         0.+0.j,  0.+0.j,  0.+0.j,  0.+0.j,  0.+0.j,  0.+0.j,  0.+0.j,\n",
       "        -2.+0.j,  2.+0.j,  0.+0.j,  0.+0.j,  0.+0.j,  0.+0.j,  0.+0.j,\n",
       "         0.+0.j,  2.+0.j, -2.+0.j,  0.+0.j,  0.+0.j, -2.+0.j,  2.+0.j,\n",
       "         0.+0.j,  0.+0.j,  0.+0.j,  0.+0.j,  0.+0.j,  0.+0.j,  2.+0.j,\n",
       "        -2.+0.j,  0.+0.j,  0.+0.j,  0.+0.j,  0.+0.j,  0.+0.j,  0.+0.j,\n",
       "         0.+0.j,  0.+0.j,  0.+0.j,  2.+0.j,  0.+0.j,  0.+0.j, -2.+0.j,\n",
       "         0.+0.j,  0.+0.j,  0.+0.j,  0.+0.j, -2.+0.j,  0.+0.j,  0.+0.j,\n",
       "         2.+0.j],\n",
       "       [ 4.+0.j,  2.+0.j,  2.+0.j,  0.+0.j,  0.+0.j,  0.+0.j,  0.+0.j,\n",
       "         0.+0.j,  0.+0.j,  0.+0.j,  0.+0.j,  0.+0.j,  0.+0.j,  0.+0.j,\n",
       "         0.+0.j,  0.+0.j,  0.+0.j,  0.+0.j,  0.+0.j,  0.+0.j,  2.+0.j,\n",
       "         0.+0.j,  0.+0.j, -2.+0.j,  0.+0.j,  0.+0.j,  0.+0.j,  0.+0.j,\n",
       "         0.+0.j,  0.+0.j,  0.+0.j,  0.+0.j,  0.+0.j,  0.+0.j,  0.+0.j,\n",
       "         0.+0.j,  0.+0.j,  0.+0.j,  0.+0.j,  0.+0.j, -2.+0.j, -4.+0.j,\n",
       "         0.+0.j, -2.+0.j,  0.+0.j,  0.+0.j,  0.+0.j,  0.+0.j,  0.+0.j,\n",
       "         0.+0.j,  0.+0.j,  0.+0.j,  0.+0.j,  0.+0.j,  0.+0.j,  0.+0.j,\n",
       "         0.+0.j,  0.+0.j,  0.+0.j,  0.+0.j,  0.+0.j, -2.+0.j,  2.+0.j,\n",
       "         0.+0.j],\n",
       "       [ 4.+0.j,  0.+0.j,  0.+0.j,  0.+0.j,  0.+0.j,  0.+0.j,  0.+0.j,\n",
       "         0.+0.j,  0.+0.j,  0.+0.j,  0.+0.j,  0.+0.j,  0.+0.j,  0.+0.j,\n",
       "         0.+0.j,  0.+0.j,  0.+0.j,  0.+0.j,  0.+0.j,  0.+0.j,  0.+0.j,\n",
       "         0.+0.j, -4.+0.j,  0.+0.j,  0.+0.j,  0.+0.j,  0.+0.j,  0.+0.j,\n",
       "         0.+0.j,  0.+0.j,  0.+0.j,  0.+0.j,  0.+0.j,  0.+0.j,  0.+0.j,\n",
       "         0.+0.j,  0.+0.j,  0.+0.j,  0.+0.j,  0.+0.j,  0.+0.j,  4.+0.j,\n",
       "         0.+0.j,  0.+0.j,  0.+0.j,  0.+0.j,  0.+0.j,  0.+0.j,  0.+0.j,\n",
       "         0.+0.j,  0.+0.j,  0.+0.j,  0.+0.j,  0.+0.j,  0.+0.j,  0.+0.j,\n",
       "         0.+0.j,  0.+0.j,  0.+0.j,  0.+0.j,  0.+0.j,  0.+0.j,  0.+0.j,\n",
       "        -4.+0.j],\n",
       "       [ 4.+0.j, -2.+0.j, -2.+0.j,  0.+0.j,  0.+0.j,  0.+0.j,  0.+0.j,\n",
       "         0.+0.j,  0.+0.j,  0.+0.j,  0.+0.j,  0.+0.j,  0.+0.j,  0.+0.j,\n",
       "         0.+0.j,  0.+0.j,  0.+0.j,  0.+0.j,  0.+0.j,  0.+0.j, -2.+0.j,\n",
       "         0.+0.j,  0.+0.j,  2.+0.j,  0.+0.j,  0.+0.j,  0.+0.j,  0.+0.j,\n",
       "         0.+0.j,  0.+0.j,  0.+0.j,  0.+0.j,  0.+0.j,  0.+0.j,  0.+0.j,\n",
       "         0.+0.j,  0.+0.j,  0.+0.j,  0.+0.j,  0.+0.j,  2.+0.j, -4.+0.j,\n",
       "         0.+0.j,  2.+0.j,  0.+0.j,  0.+0.j,  0.+0.j,  0.+0.j,  0.+0.j,\n",
       "         0.+0.j,  0.+0.j,  0.+0.j,  0.+0.j,  0.+0.j,  0.+0.j,  0.+0.j,\n",
       "         0.+0.j,  0.+0.j,  0.+0.j,  0.+0.j,  0.+0.j,  2.+0.j, -2.+0.j,\n",
       "         0.+0.j]])"
      ]
     },
     "execution_count": 101,
     "metadata": {},
     "output_type": "execute_result"
    }
   ],
   "source": [
    "g.automorphisms().character_table()"
   ]
  },
  {
   "cell_type": "markdown",
   "metadata": {},
   "source": [
    "## Hamoltonian definition\n",
    "$$ H = J_{1} \\sum\\limits_{\\langle i,j \\rangle}^{L} \\vec{\\sigma}_{i} \\cdot \\vec{\\sigma}_{j} + J_{2} \\sum\\limits_{\\langle\\langle i,j \\rangle\\rangle_{SS}}^{L}  \\vec{\\sigma}_{i} \\cdot \\vec{\\sigma}_{j}\\,. $$\n",
    "\n",
    "Axiliary constant operators used to define hamiltonian are loaded from the external file, they are pre-defined in the `HamOps` class."
   ]
  },
  {
   "cell_type": "code",
   "execution_count": 102,
   "metadata": {},
   "outputs": [],
   "source": [
    "from lattice_and_ops import HamOps\n",
    "ho = HamOps()\n",
    "ha_1 = nk.operator.GraphOperator(hilbert, graph=g, bond_ops=ho.bond_operator(JEXCH1,JEXCH2, use_MSR=False), bond_ops_colors=ho.bond_color)\n",
    "ha_2 = nk.operator.GraphOperator(hilbert, graph=g, bond_ops=ho.bond_operator(JEXCH1,JEXCH2, use_MSR=False), bond_ops_colors=ho.bond_color)\n"
   ]
  },
  {
   "cell_type": "markdown",
   "metadata": {},
   "source": [
    "## Exact diagonalization"
   ]
  },
  {
   "cell_type": "code",
   "execution_count": 103,
   "metadata": {},
   "outputs": [
    {
     "name": "stdout",
     "output_type": "stream",
     "text": [
      "Ground state energy: -34.08190778603111 \n",
      "It took  2.02 s = 0.03 min\n"
     ]
    }
   ],
   "source": [
    "if g.n_nodes < 20:\n",
    "    start = time.time()\n",
    "    if g.n_nodes < 15:\n",
    "        evals, eigvects = nk.exact.full_ed(ha_1, compute_eigenvectors=True)\n",
    "    else:\n",
    "        evals, eigvects = nk.exact.lanczos_ed(ha_1, k=3, compute_eigenvectors=True)\n",
    "    end = time.time()\n",
    "    diag_time = end - start\n",
    "    print(\"Ground state energy:\",evals[0], \"\\nIt took \", round(diag_time,2), \"s =\", round((diag_time)/60,2),\"min\")\n",
    "else:\n",
    "    print(\"System is too large for exact diagonalization. Setting exact_ground_energy = 0 (which is wrong)\")\n",
    "    evals = [0,0,0]\n",
    "    eigvects = None \n",
    "exact_ground_energy = evals[0]"
   ]
  },
  {
   "cell_type": "markdown",
   "metadata": {},
   "source": [
    "## Machine definition and other auxiliary `netket` objects\n",
    "We define two sets of these objects, usually: \n",
    "- variables ending with ...`_1` belongs to the choice of standard basis,\n",
    "- variables ending with ...`_2` belongs to the choice of MSR basis.\n",
    "\n",
    "But they can be used in a different way when we need to compare two different models."
   ]
  },
  {
   "cell_type": "code",
   "execution_count": 104,
   "metadata": {},
   "outputs": [],
   "source": [
    "# Selection of machine type\n",
    "if MACHINE == \"RBM\":\n",
    "    machine_1 = nk.models.RBM(dtype=DTYPE, alpha=ALPHA)#, use_visible_bias=False) \n",
    "    machine_2 = nk.models.RBM(dtype=DTYPE, alpha=ALPHA)#, use_visible_bias=False)\n",
    "elif MACHINE == \"RBMSymm\":\n",
    "    machine_1 = nk.models.RBMSymm(g.automorphisms(), dtype=DTYPE, alpha=ALPHA)#, use_visible_bias=False) \n",
    "    machine_2 = nk.models.RBMSymm(g.automorphisms(), dtype=DTYPE, alpha=ALPHA)#, use_visible_bias=False)\n",
    "elif MACHINE == \"RBMSymm_transl\":\n",
    "    machine_1 = nk.models.RBMSymm(translation_group, dtype=DTYPE, alpha=ALPHA)#, use_visible_bias=False) \n",
    "    machine_2 = nk.models.RBMSymm(translation_group, dtype=DTYPE, alpha=ALPHA)#, use_visible_bias=False)\n",
    "elif MACHINE == \"GCNN\":\n",
    "    machine_1 = nk.models.GCNN(symmetries=g.automorphisms(), dtype=DTYPE, \n",
    "        layers=N_LAYERS, features=FEATURES, characters=characters_dimer    )#, output_activation=log_cosh)\n",
    "    machine_2 = nk.models.GCNN(symmetries=g.automorphisms(), dtype=DTYPE, \n",
    "        layers=N_LAYERS, features=FEATURES, characters=characters_dimer_msr)#, output_activation=log_cosh)\n",
    "elif MACHINE == \"myRBM\":\n",
    "    no_of_filters = int(ALPHA/len(characters_dimer))\n",
    "    if ALPHA%len(characters_dimer) != 0:\n",
    "        raise Exception(\"Invalid ALPHA. It needs to be divisible by the number of symmetries!\")\n",
    "    from netket.nn import log_cosh\n",
    "    def identity(x):\n",
    "        return x\n",
    "    from GCNN_Nomura import GCNN_my\n",
    "    machine_1 = GCNN_my(symmetries=g.automorphisms(), dtype=DTYPE, layers=1, features=no_of_filters, \n",
    "        characters=characters_dimer, output_activation=log_cosh, use_bias=True, use_visible_bias=True)\n",
    "    machine_2 = GCNN_my(symmetries=g.automorphisms(), dtype=DTYPE, layers=1, features=no_of_filters, \n",
    "        characters=characters_dimer, output_activation=log_cosh, use_bias=True, use_visible_bias=True)\n",
    "elif MACHINE == \"Jastrow\":\n",
    "    from lattice_and_ops import Jastrow\n",
    "    machine_1 = Jastrow()\n",
    "    machine_2 = Jastrow()\n",
    "elif MACHINE == \"RBMModPhase\":\n",
    "    machine_1 = nk.models.RBMModPhase(alpha=ALPHA, use_hidden_bias=True, dtype=DTYPE)\n",
    "    machine_2 = nk.models.RBMModPhase(alpha=ALPHA, use_hidden_bias=True, dtype=DTYPE)\n",
    "\n",
    "    # A linear schedule varies the learning rate from 0 to 0.01 across 600 steps.\n",
    "    modulus_schedule_1=optax.linear_schedule(0,0.01,NUM_ITER)\n",
    "    modulus_schedule_2=optax.linear_schedule(0,0.01,NUM_ITER)\n",
    "    # The phase starts with a larger learning rate and then is decreased.\n",
    "    phase_schedule_1=optax.linear_schedule(0.05,0.01,NUM_ITER)\n",
    "    phase_schedule_2=optax.linear_schedule(0.05,0.01,NUM_ITER)\n",
    "    # Combine the linear schedule with SGD\n",
    "    optm_1=optax.sgd(modulus_schedule_1)\n",
    "    optp_1=optax.sgd(phase_schedule_1)\n",
    "    optm_2=optax.sgd(modulus_schedule_2)\n",
    "    optp_2=optax.sgd(phase_schedule_2)\n",
    "    # The multi-transform optimizer uses different optimisers for different parts of the parameters.\n",
    "    optimizer_1 = optax.multi_transform({'o1': optm_1, 'o2': optp_1}, flax.core.freeze({\"Dense_0\":\"o1\", \"Dense_1\":\"o2\"}))\n",
    "    optimizer_2 = optax.multi_transform({'o1': optm_2, 'o2': optp_2}, flax.core.freeze({\"Dense_0\":\"o1\", \"Dense_1\":\"o2\"}))\n",
    "else:\n",
    "    raise Exception(str(\"undefined MACHINE: \")+str(MACHINE))\n",
    "\n",
    "# Selection of sampler type\n",
    "if SAMPLER == 'local':\n",
    "    sampler_1 = nk.sampler.MetropolisLocal(hilbert=hilbert)\n",
    "    sampler_2 = nk.sampler.MetropolisLocal(hilbert=hilbert)\n",
    "elif SAMPLER == 'exact':\n",
    "    sampler_1 = nk.sampler.ExactSampler(hilbert=hilbert)\n",
    "    sampler_2 = nk.sampler.ExactSampler(hilbert=hilbert)\n",
    "else:\n",
    "    sampler_1 = nk.sampler.MetropolisExchange(hilbert=hilbert, graph=g)\n",
    "    sampler_2 = nk.sampler.MetropolisExchange(hilbert=hilbert, graph=g)\n",
    "    if SAMPLER != 'exchange':\n",
    "        print(\"Warning! Undefined fq.SAMPLER:\", SAMPLER, \", dafaulting to MetropolisExchange fq.SAMPLER\")\n",
    "\n",
    "optimizer_1 = nk.optimizer.Sgd(learning_rate=ETA)\n",
    "optimizer_2 = nk.optimizer.AdaGrad(learning_rate=ETA)\n",
    "\n",
    "# Stochastic Reconfiguration as a preconditioner\n",
    "sr_1  = nk.optimizer.SR(diag_shift=0.01)\n",
    "sr_2  = nk.optimizer.SR(diag_shift=0.01)\n",
    "\n",
    "# The variational state (former name: nk.variational.MCState)\n",
    "vs_1 = nk.vqs.MCState(sampler_1 , machine_1 , n_samples=SAMPLES)\n",
    "vs_2 = nk.vqs.MCState(sampler_2 , machine_2 , n_samples=SAMPLES)\n",
    "vs_1.init_parameters(jax.nn.initializers.normal(stddev=0.001))\n",
    "vs_2.init_parameters(jax.nn.initializers.normal(stddev=0.001))\n",
    "\n",
    "\n",
    "gs_1 = nk.VMC(hamiltonian=ha_1 ,optimizer=optimizer_1 ,preconditioner=sr_1 ,variational_state=vs_1)\n",
    "gs_2 = nk.VMC(hamiltonian=ha_2 ,optimizer=optimizer_2 ,preconditioner=sr_2 ,variational_state=vs_2) "
   ]
  },
  {
   "cell_type": "code",
   "execution_count": 105,
   "metadata": {},
   "outputs": [
    {
     "name": "stdout",
     "output_type": "stream",
     "text": [
      "2192 2192\n"
     ]
    }
   ],
   "source": [
    "print(vs_1.n_parameters, vs_2.n_parameters)"
   ]
  },
  {
   "cell_type": "markdown",
   "metadata": {},
   "source": [
    "# Calculation\n",
    "We let the calculation run for `NUM_ITERS` iterations for both cases _1 and _2 (without MSR and with MSR). If only one case is desired, set the variable `no_of_runs` to 1."
   ]
  },
  {
   "cell_type": "code",
   "execution_count": 106,
   "metadata": {},
   "outputs": [
    {
     "name": "stdout",
     "output_type": "stream",
     "text": [
      "J_1 = 0.9; Expected exact energy: -34.08190778603111\n"
     ]
    },
    {
     "name": "stderr",
     "output_type": "stream",
     "text": [
      "100%|██████████| 300/300 [02:45<00:00,  1.81it/s, Energy=-33.803+0.043j ± 0.072 [σ²=4.978]]  \n"
     ]
    },
    {
     "name": "stdout",
     "output_type": "stream",
     "text": [
      "The calculation for RBM of type 1 took 2.789512125651042 min\n"
     ]
    },
    {
     "name": "stderr",
     "output_type": "stream",
     "text": [
      "100%|██████████| 300/300 [02:23<00:00,  2.09it/s, Energy=-26.22+0.19j ± 0.20 [σ²=44.29]]    "
     ]
    },
    {
     "name": "stdout",
     "output_type": "stream",
     "text": [
      "The calculation for RBM of type 2 took 2.400485932826996 min\n"
     ]
    },
    {
     "name": "stderr",
     "output_type": "stream",
     "text": [
      "\n"
     ]
    }
   ],
   "source": [
    "runs = [1,1]\n",
    "no_of_runs = np.sum(runs) # 1 - one run for variables with ..._1;  2 - both runs for variables ..._1 and ..._2\n",
    "run_only_2 = (runs[1]==1 and runs[0]==0) # in case of no_of_runs=1\n",
    "NUM_ITER = 300#3000\n",
    "print(\"J_1 =\", JEXCH1, end=\"; \")\n",
    "if exact_ground_energy != 0:\n",
    "    print(\"Expected exact energy:\", exact_ground_energy)\n",
    "for i,gs in enumerate([gs_1,gs_2][run_only_2:run_only_2+no_of_runs]):\n",
    "    start = time.time()\n",
    "    gs.run(out=OUT_NAME+str(i), n_iter=int(NUM_ITER))#, obs={'symmetry':P(0,1)})\n",
    "    end = time.time()\n",
    "    print(\"The calculation for {} of type {} took {} min\".format(MACHINE, i+1, (end-start)/60))\n"
   ]
  },
  {
   "cell_type": "markdown",
   "metadata": {},
   "source": [
    "## Energy Convergence Plotting\n",
    "In case that the machine did not converge, we can re-run the previous cell and than skip the next cell. This way, the replotting just appends the new results and does not erase the previoius results. "
   ]
  },
  {
   "cell_type": "code",
   "execution_count": 112,
   "metadata": {},
   "outputs": [],
   "source": [
    "# Exact Energy Line\n",
    "no_of_all_iters = NUM_ITER\n",
    "figure = go.Figure(\n",
    "    data=[\n",
    "        go.Scatter(\n",
    "            x=(0,no_of_all_iters),\n",
    "            y=(exact_ground_energy,exact_ground_energy),\n",
    "            mode=\"lines\",line=go.scatter.Line(color=\"#000000\",width=1), name=\"exact energy\")],\n",
    "    layout=go.Layout(\n",
    "        template=\"simple_white\",\n",
    "        xaxis=dict(title=\"Iteration\", mirror=True, showline=True),\n",
    "        yaxis=dict(title=\"Energy\", mirror=True, showline=True),\n",
    "        title=(\"<b>\"+\"S-S\"+\" model </b>, L=\"+str(SITES)+\", J2 =\"+str(JEXCH2)+ \", J1 =\"+str(JEXCH1)+\" , η=\"+str(ETA)+\", α=\"+str(ALPHA)+\", samples=\"+str(SAMPLES)))\n",
    "    ).add_hline(y=exact_ground_energy, opacity=1, line_width=1)\n"
   ]
  },
  {
   "cell_type": "code",
   "execution_count": 113,
   "metadata": {},
   "outputs": [
    {
     "data": {
      "application/vnd.plotly.v1+json": {
       "config": {
        "plotlyServerURL": "https://plot.ly"
       },
       "data": [
        {
         "line": {
          "color": "#000000",
          "width": 1
         },
         "mode": "lines",
         "name": "exact energy",
         "type": "scatter",
         "x": [
          0,
          300
         ],
         "y": [
          -34.08190778603111,
          -34.08190778603111
         ]
        },
        {
         "name": "SGD",
         "type": "scatter",
         "x": [
          0,
          1,
          2,
          3,
          4,
          5,
          6,
          7,
          8,
          9,
          10,
          11,
          12,
          13,
          14,
          15,
          16,
          17,
          18,
          19,
          20,
          21,
          22,
          23,
          24,
          25,
          26,
          27,
          28,
          29,
          30,
          31,
          32,
          33,
          34,
          35,
          36,
          37,
          38,
          39,
          40,
          41,
          42,
          43,
          44,
          45,
          46,
          47,
          48,
          49,
          50,
          51,
          52,
          53,
          54,
          55,
          56,
          57,
          58,
          59,
          60,
          61,
          62,
          63,
          64,
          65,
          66,
          67,
          68,
          69,
          70,
          71,
          72,
          73,
          74,
          75,
          76,
          77,
          78,
          79,
          80,
          81,
          82,
          83,
          84,
          85,
          86,
          87,
          88,
          89,
          90,
          91,
          92,
          93,
          94,
          95,
          96,
          97,
          98,
          99,
          100,
          101,
          102,
          103,
          104,
          105,
          106,
          107,
          108,
          109,
          110,
          111,
          112,
          113,
          114,
          115,
          116,
          117,
          118,
          119,
          120,
          121,
          122,
          123,
          124,
          125,
          126,
          127,
          128,
          129,
          130,
          131,
          132,
          133,
          134,
          135,
          136,
          137,
          138,
          139,
          140,
          141,
          142,
          143,
          144,
          145,
          146,
          147,
          148,
          149,
          150,
          151,
          152,
          153,
          154,
          155,
          156,
          157,
          158,
          159,
          160,
          161,
          162,
          163,
          164,
          165,
          166,
          167,
          168,
          169,
          170,
          171,
          172,
          173,
          174,
          175,
          176,
          177,
          178,
          179,
          180,
          181,
          182,
          183,
          184,
          185,
          186,
          187,
          188,
          189,
          190,
          191,
          192,
          193,
          194,
          195,
          196,
          197,
          198,
          199,
          200,
          201,
          202,
          203,
          204,
          205,
          206,
          207,
          208,
          209,
          210,
          211,
          212,
          213,
          214,
          215,
          216,
          217,
          218,
          219,
          220,
          221,
          222,
          223,
          224,
          225,
          226,
          227,
          228,
          229,
          230,
          231,
          232,
          233,
          234,
          235,
          236,
          237,
          238,
          239,
          240,
          241,
          242,
          243,
          244,
          245,
          246,
          247,
          248,
          249,
          250,
          251,
          252,
          253,
          254,
          255,
          256,
          257,
          258,
          259,
          260,
          261,
          262,
          263,
          264,
          265,
          266,
          267,
          268,
          269,
          270,
          271,
          272,
          273,
          274,
          275,
          276,
          277,
          278,
          279,
          280,
          281,
          282,
          283,
          284,
          285,
          286,
          287,
          288,
          289,
          290,
          291,
          292,
          293,
          294,
          295,
          296,
          297,
          298,
          299
         ],
         "y": [
          36.800701138914874,
          36.80039043352479,
          36.80184043389283,
          36.79913578193971,
          36.79395115681981,
          36.797189133396515,
          36.799624932428564,
          36.80133465103995,
          36.80149672811104,
          36.800908609366125,
          36.79481887560354,
          36.795134926806476,
          36.79220915951604,
          36.79650006402169,
          36.788546168302595,
          36.78856909877212,
          36.796363013503445,
          36.79158451329039,
          36.78261554543102,
          36.79589801391106,
          36.7976765011323,
          36.757985714474245,
          36.77883581885136,
          36.771418995808524,
          36.734322353026144,
          36.72796583221593,
          36.64506477937669,
          36.71294388421333,
          36.576676592310875,
          36.47244234563118,
          36.439794354360394,
          36.40569733239321,
          36.280456704441505,
          36.288272913943196,
          36.096992836973435,
          35.59433094654293,
          35.70086208180833,
          35.230853861783395,
          34.74613025836309,
          34.45141146442109,
          33.219740475828374,
          32.87492135704397,
          31.443623404360565,
          30.536078579439863,
          28.964578821578307,
          27.301442927777533,
          25.081155810374312,
          22.851127924706155,
          20.329285000925445,
          17.45974144984928,
          14.63586164473977,
          11.485181584066526,
          8.2476615607945,
          5.182892435372882,
          2.650407720487195,
          -0.046638356481730946,
          -2.126740276033424,
          -4.80531131479448,
          -7.026889032878743,
          -8.860392536098326,
          -10.129729698453463,
          -11.471850215611292,
          -12.83164354384411,
          -13.987565592302794,
          -14.779981081704003,
          -15.752229367241227,
          -16.685927675853293,
          -17.493440741287326,
          -17.92443798282587,
          -18.933621085864292,
          -19.618653333595965,
          -19.985709747608475,
          -20.8676089875247,
          -21.206464380474102,
          -21.58712134881363,
          -22.31143768267879,
          -22.811149525433063,
          -23.072368285252487,
          -23.447193351803406,
          -23.996568880225173,
          -24.41729660169593,
          -24.623689929672974,
          -25.183197481431822,
          -25.66177977047558,
          -25.997471560234608,
          -26.36243471698743,
          -26.916124560822027,
          -27.334496922106613,
          -27.511023289731273,
          -27.92066283663143,
          -28.30129655330818,
          -28.503178077018326,
          -28.85151555574113,
          -29.188252537188973,
          -29.4297513309663,
          -29.52473866267766,
          -29.789033332889893,
          -29.993324697836997,
          -30.385140669467663,
          -30.400283774470456,
          -30.79362613003999,
          -30.842033972571066,
          -31.12146934299882,
          -31.17848305840401,
          -31.256982696747684,
          -31.495940693704842,
          -31.459196241816485,
          -31.624261489377567,
          -31.68179899904047,
          -32.04078438164336,
          -31.862620474457252,
          -32.12595972626443,
          -32.09790694242462,
          -32.07021204393235,
          -32.322929522265916,
          -32.31515190110581,
          -32.25221196526076,
          -32.48808606710167,
          -32.57932624520837,
          -32.442107953490954,
          -32.61225249771611,
          -32.43192194573146,
          -32.50266238417805,
          -32.89786610235371,
          -32.87671010915296,
          -32.80556311879756,
          -32.75268068416161,
          -32.85354333410973,
          -32.96713542563648,
          -32.90330563862284,
          -33.03061421453824,
          -32.827971020109096,
          -33.19128293810966,
          -33.06531255882055,
          -32.97874612924219,
          -33.038051478406416,
          -33.000498911486645,
          -33.14418713998376,
          -32.927487554472265,
          -33.084244610502076,
          -33.29658911453766,
          -33.02893576132258,
          -33.25058379471992,
          -33.2209705036866,
          -33.131610534381146,
          -33.159459373304834,
          -33.227890015905274,
          -33.26837533911672,
          -33.27146925540232,
          -33.20311198512673,
          -33.34364224755736,
          -33.29042875442752,
          -33.297313966953496,
          -33.410164096714446,
          -33.344267770301826,
          -33.34223346785361,
          -33.43707051410901,
          -33.49095918736873,
          -33.23776265093486,
          -33.46004117641353,
          -33.40324694357706,
          -33.38834091185846,
          -33.30011459974533,
          -33.311410327062376,
          -33.468238272792554,
          -33.56564650922801,
          -33.50421724657431,
          -33.47296706654219,
          -33.42668810110547,
          -33.34029961061311,
          -33.440154078927456,
          -33.55156579757099,
          -33.41367342938913,
          -33.70373508333166,
          -33.47836082409541,
          -33.47706611669546,
          -33.474723664624705,
          -33.572373214695745,
          -33.63905877432971,
          -33.535919747957216,
          -33.58419317679498,
          -33.46738710017128,
          -33.56492087978046,
          -33.638584749508034,
          -33.443855023931135,
          -33.56060971949533,
          -33.52579612862762,
          -33.7122209800371,
          -33.75055806181274,
          -33.53539443970374,
          -33.70716281276044,
          -33.69606624156506,
          -33.52187513055245,
          -33.65834374268586,
          -33.60124687440943,
          -33.56377266641331,
          -33.69420057313377,
          -33.664103855354995,
          -33.706365999787316,
          -33.680725705298734,
          -33.63731773492916,
          -33.63973955480942,
          -33.63635689287454,
          -33.63280609395304,
          -33.715798834488346,
          -33.62219097639266,
          -33.68928043757468,
          -33.721949185156156,
          -33.74136122342846,
          -33.63938498159022,
          -33.55754442963366,
          -33.65451181926486,
          -33.60460756884805,
          -33.65840794344803,
          -33.71822368374117,
          -33.66480280585087,
          -33.65853374618686,
          -33.65018542396988,
          -33.80665299431106,
          -33.67492637536917,
          -33.78282790411855,
          -33.68662978691046,
          -33.64581382971553,
          -33.740605218204074,
          -33.69661511403576,
          -33.6710520656526,
          -33.70479071404976,
          -33.59714966677717,
          -33.7450196562798,
          -33.650918266130645,
          -33.64722748266187,
          -33.661903548366496,
          -33.54725221547254,
          -33.759236665018804,
          -33.8150321944406,
          -33.690441851173965,
          -33.620565471119704,
          -33.737195379539905,
          -33.655568813588914,
          -33.67026280164808,
          -33.75923599369825,
          -33.72717340211137,
          -33.68587243236131,
          -33.69402469120637,
          -33.79228459357517,
          -33.688545053514794,
          -33.74591622856849,
          -33.77177174038502,
          -33.76054903641466,
          -33.76253829870471,
          -33.710081627536326,
          -33.81651598313219,
          -33.819939493044544,
          -33.64299778609375,
          -33.738898297557476,
          -33.708005416428186,
          -33.70431523888153,
          -33.681317376557374,
          -33.752921876231476,
          -33.71951622899731,
          -33.74079097310949,
          -33.668539542235564,
          -33.68041572107321,
          -33.780936074334555,
          -33.72594686055685,
          -33.635706448527905,
          -33.69223046561428,
          -33.75069706313874,
          -33.776833731228244,
          -33.75975302273108,
          -33.78276332586973,
          -33.779118937794834,
          -33.692202069589804,
          -33.67001048132225,
          -33.74298381653794,
          -33.65963440700709,
          -33.771092201418675,
          -33.75499249027444,
          -33.743206358641295,
          -33.8108655532886,
          -33.894242855921576,
          -33.81316239781938,
          -33.768580971361246,
          -33.764770146501505,
          -33.71426499562822,
          -33.69547740716783,
          -33.80788427117919,
          -33.83376769528303,
          -33.7783739089241,
          -33.74304449064877,
          -33.80255340595279,
          -33.7451723384319,
          -33.82969831180952,
          -33.74228472625818,
          -33.72011395564831,
          -33.76230959803786,
          -33.72981186780503,
          -33.84588242115609,
          -33.86864462702715,
          -33.802958446901954
         ]
        },
        {
         "name": "AdaGrad",
         "type": "scatter",
         "x": [
          0,
          1,
          2,
          3,
          4,
          5,
          6,
          7,
          8,
          9,
          10,
          11,
          12,
          13,
          14,
          15,
          16,
          17,
          18,
          19,
          20,
          21,
          22,
          23,
          24,
          25,
          26,
          27,
          28,
          29,
          30,
          31,
          32,
          33,
          34,
          35,
          36,
          37,
          38,
          39,
          40,
          41,
          42,
          43,
          44,
          45,
          46,
          47,
          48,
          49,
          50,
          51,
          52,
          53,
          54,
          55,
          56,
          57,
          58,
          59,
          60,
          61,
          62,
          63,
          64,
          65,
          66,
          67,
          68,
          69,
          70,
          71,
          72,
          73,
          74,
          75,
          76,
          77,
          78,
          79,
          80,
          81,
          82,
          83,
          84,
          85,
          86,
          87,
          88,
          89,
          90,
          91,
          92,
          93,
          94,
          95,
          96,
          97,
          98,
          99,
          100,
          101,
          102,
          103,
          104,
          105,
          106,
          107,
          108,
          109,
          110,
          111,
          112,
          113,
          114,
          115,
          116,
          117,
          118,
          119,
          120,
          121,
          122,
          123,
          124,
          125,
          126,
          127,
          128,
          129,
          130,
          131,
          132,
          133,
          134,
          135,
          136,
          137,
          138,
          139,
          140,
          141,
          142,
          143,
          144,
          145,
          146,
          147,
          148,
          149,
          150,
          151,
          152,
          153,
          154,
          155,
          156,
          157,
          158,
          159,
          160,
          161,
          162,
          163,
          164,
          165,
          166,
          167,
          168,
          169,
          170,
          171,
          172,
          173,
          174,
          175,
          176,
          177,
          178,
          179,
          180,
          181,
          182,
          183,
          184,
          185,
          186,
          187,
          188,
          189,
          190,
          191,
          192,
          193,
          194,
          195,
          196,
          197,
          198,
          199,
          200,
          201,
          202,
          203,
          204,
          205,
          206,
          207,
          208,
          209,
          210,
          211,
          212,
          213,
          214,
          215,
          216,
          217,
          218,
          219,
          220,
          221,
          222,
          223,
          224,
          225,
          226,
          227,
          228,
          229,
          230,
          231,
          232,
          233,
          234,
          235,
          236,
          237,
          238,
          239,
          240,
          241,
          242,
          243,
          244,
          245,
          246,
          247,
          248,
          249,
          250,
          251,
          252,
          253,
          254,
          255,
          256,
          257,
          258,
          259,
          260,
          261,
          262,
          263,
          264,
          265,
          266,
          267,
          268,
          269,
          270,
          271,
          272,
          273,
          274,
          275,
          276,
          277,
          278,
          279,
          280,
          281,
          282,
          283,
          284,
          285,
          286,
          287,
          288,
          289,
          290,
          291,
          292,
          293,
          294,
          295,
          296,
          297,
          298,
          299
         ],
         "y": [
          36.80104332570947,
          36.79899399155942,
          36.80142616990981,
          36.7947101046876,
          36.796009963376996,
          36.80074096269229,
          36.7979902326693,
          36.779711954927386,
          36.764074666986986,
          36.743950924808196,
          36.72796219286625,
          36.68664832671084,
          36.64516364762773,
          36.5861274119459,
          36.49200583877109,
          36.42208003569021,
          36.30734665347162,
          36.16090650408567,
          36.044496365486474,
          35.896685847458535,
          35.888719005485186,
          35.77556872977305,
          35.44438310099997,
          35.439179962112085,
          35.28269841156377,
          34.947347024544385,
          34.503305519648166,
          34.08554442416564,
          32.73458493325708,
          29.938745930856413,
          22.261023586947,
          12.499800271847775,
          2.782050101289813,
          -0.9183202683765046,
          -3.0443313075780236,
          -5.670259187045517,
          -6.025187672553227,
          -5.931603262946653,
          -7.300760125983675,
          -9.325967150704605,
          -8.411290729254699,
          -9.598451050960103,
          -10.398274529480661,
          -11.31671324625132,
          -11.767557463669618,
          -12.796786128377276,
          -13.273029347187174,
          -13.79875989556921,
          -14.175159771994748,
          -14.541313684178563,
          -14.595024380659176,
          -14.716139520959665,
          -15.450144575723913,
          -15.386173462056096,
          -15.89235073774265,
          -16.31140204195532,
          -16.913391293077826,
          -17.113423219536454,
          -17.5961637417149,
          -17.339606487203696,
          -18.339936952358695,
          -18.040638237390265,
          -18.46399426034553,
          -18.520010678551436,
          -18.81449776453131,
          -19.196005885052458,
          -19.505806058602804,
          -19.433807825102782,
          -19.28352601985703,
          -20.045225337191788,
          -20.630633214887492,
          -20.168701898674897,
          -20.316623302522398,
          -20.344980807691794,
          -21.07583496403222,
          -20.296492341408413,
          -20.98104636702312,
          -20.7883764220149,
          -21.140179265610477,
          -21.55768884969739,
          -21.342360220334246,
          -21.979665360644752,
          -22.200738315479096,
          -21.95859909257958,
          -22.009199908234585,
          -21.989675423180575,
          -22.260433287138206,
          -22.473519816675267,
          -21.70736860168293,
          -21.976760139528118,
          -22.401525554330235,
          -22.348397521467877,
          -22.464914331125662,
          -22.502279120074064,
          -22.529050430307873,
          -23.04845775900029,
          -23.025338322059696,
          -23.210081980101,
          -23.126970081532182,
          -22.88883148061647,
          -22.90545523860759,
          -23.319784409630273,
          -23.222035604577844,
          -23.4500319297762,
          -23.452300973748496,
          -23.273342860079847,
          -23.36944719039843,
          -23.478874774174404,
          -23.275738224177992,
          -23.831257905401355,
          -23.710059851262706,
          -23.76030086080388,
          -23.8683787585779,
          -23.920554370406418,
          -24.169228918287487,
          -23.893124300005717,
          -24.105345552340406,
          -23.927596658788445,
          -24.18649184989157,
          -24.48680478802755,
          -24.289708982810534,
          -24.220354187634992,
          -24.239852119781947,
          -23.949501969966462,
          -24.385518754364526,
          -24.348963240287773,
          -24.345526939807247,
          -24.417934237790767,
          -24.481912031297565,
          -24.485188965213254,
          -24.616558918001683,
          -24.484153270460972,
          -24.427640224132258,
          -24.470077109870104,
          -24.55308304638736,
          -24.632307970145682,
          -24.626124637755414,
          -24.59460470120118,
          -24.591010231798258,
          -24.759983248348085,
          -24.827923153437137,
          -24.82474318416948,
          -24.694712328654553,
          -24.841257618089994,
          -24.879548055776876,
          -24.749926281992717,
          -24.81733851775189,
          -24.64656672391043,
          -24.82110528829439,
          -25.096422033857664,
          -24.923786539633205,
          -25.295428236502556,
          -25.06118974867026,
          -24.934229276626592,
          -24.714179375773142,
          -25.06057376993239,
          -24.827492949132374,
          -24.976142539698294,
          -24.983021986688563,
          -25.28487052132672,
          -25.109128161060408,
          -25.101954396830763,
          -25.19735279951381,
          -25.188608928914928,
          -25.336922919663802,
          -25.03370280472011,
          -25.480959188536687,
          -25.161133724691478,
          -25.202279110942527,
          -25.110604696226364,
          -25.245892068924174,
          -24.77578044520764,
          -25.18807976326722,
          -25.384262539971264,
          -25.375530492828826,
          -25.3047983750114,
          -25.61237116373814,
          -25.635201485945565,
          -25.63818495987337,
          -25.161305932047334,
          -25.205387512101655,
          -25.319144499010733,
          -25.59085796364065,
          -25.681708315058955,
          -25.42099900760936,
          -25.425200474622805,
          -25.693065137340227,
          -25.614254098350337,
          -25.716268218760796,
          -25.62194620318782,
          -25.46816893164982,
          -25.41122992723191,
          -25.616691653544912,
          -25.592329522507296,
          -25.462204933041306,
          -25.61529743917726,
          -25.524840924190034,
          -25.495728683954223,
          -25.642344502446303,
          -25.899145080925297,
          -25.72648094573019,
          -25.475700658472654,
          -25.559857213572336,
          -25.713197667925026,
          -25.691298171667146,
          -25.653228461923415,
          -25.829758149243666,
          -25.82458147855685,
          -25.559652488405877,
          -25.62832904570302,
          -25.645221134293717,
          -25.632035602924557,
          -25.731257530977636,
          -25.62560843600255,
          -25.308519669762127,
          -25.7831289368211,
          -25.765126839918878,
          -25.567375117625527,
          -25.857802094902045,
          -25.946735444354655,
          -25.900853329375312,
          -25.71016258415975,
          -25.792570437081043,
          -25.742712033184198,
          -25.93458730355371,
          -25.816562497419437,
          -25.999383683294127,
          -25.99205247051664,
          -25.802470604424492,
          -25.847387940698546,
          -25.681253530637804,
          -25.75369868035474,
          -25.831723816824333,
          -25.875018248666027,
          -25.77329546886517,
          -25.812337724067234,
          -25.93736855886892,
          -25.950419505066318,
          -25.819894014622353,
          -26.17772806615388,
          -26.001232668337163,
          -25.781446488895963,
          -25.846226337247813,
          -25.92744386916544,
          -25.839230598471,
          -25.962617951559196,
          -26.151830583016448,
          -26.096520803117457,
          -26.017239537846976,
          -25.968201774410122,
          -26.00648172828905,
          -26.02685017488055,
          -25.84229169964118,
          -26.39283031858695,
          -26.013940829539333,
          -25.917700338474237,
          -26.088529192560767,
          -26.184346493586585,
          -26.15140704318606,
          -26.131472411871524,
          -25.91404478663909,
          -25.53818234712815,
          -25.850934146360398,
          -25.702343914452655,
          -25.892140141761473,
          -26.005619763771513,
          -25.90211954086584,
          -26.13382968379796,
          -26.118783711301447,
          -25.98760136102581,
          -25.982114566313143,
          -26.047779459949755,
          -26.04988907189636,
          -25.909685121119182,
          -26.060027097466428,
          -26.0699477128636,
          -26.237911917901084,
          -26.11038090524109,
          -26.127304856333456,
          -26.204174912309036,
          -26.21564409953295,
          -26.4055029391213,
          -26.164060367498656,
          -26.603347043084366,
          -26.139963012371588,
          -26.249675898349086,
          -26.496498557784882,
          -25.703954489039496,
          -26.067076209519744,
          -26.162642430601714,
          -26.17254776434335,
          -26.26570969028649,
          -26.19118820893333,
          -26.45787717248932,
          -26.303607936422736,
          -26.118842741970163,
          -26.33016016734799,
          -26.21103950635821,
          -26.168726158820753,
          -26.218022854729593
         ]
        }
       ],
       "layout": {
        "shapes": [
         {
          "line": {
           "width": 1
          },
          "opacity": 1,
          "type": "line",
          "x0": 0,
          "x1": 1,
          "xref": "x domain",
          "y0": -34.08190778603111,
          "y1": -34.08190778603111,
          "yref": "y"
         }
        ],
        "template": {
         "data": {
          "bar": [
           {
            "error_x": {
             "color": "rgb(36,36,36)"
            },
            "error_y": {
             "color": "rgb(36,36,36)"
            },
            "marker": {
             "line": {
              "color": "white",
              "width": 0.5
             },
             "pattern": {
              "fillmode": "overlay",
              "size": 10,
              "solidity": 0.2
             }
            },
            "type": "bar"
           }
          ],
          "barpolar": [
           {
            "marker": {
             "line": {
              "color": "white",
              "width": 0.5
             },
             "pattern": {
              "fillmode": "overlay",
              "size": 10,
              "solidity": 0.2
             }
            },
            "type": "barpolar"
           }
          ],
          "carpet": [
           {
            "aaxis": {
             "endlinecolor": "rgb(36,36,36)",
             "gridcolor": "white",
             "linecolor": "white",
             "minorgridcolor": "white",
             "startlinecolor": "rgb(36,36,36)"
            },
            "baxis": {
             "endlinecolor": "rgb(36,36,36)",
             "gridcolor": "white",
             "linecolor": "white",
             "minorgridcolor": "white",
             "startlinecolor": "rgb(36,36,36)"
            },
            "type": "carpet"
           }
          ],
          "choropleth": [
           {
            "colorbar": {
             "outlinewidth": 1,
             "tickcolor": "rgb(36,36,36)",
             "ticks": "outside"
            },
            "type": "choropleth"
           }
          ],
          "contour": [
           {
            "colorbar": {
             "outlinewidth": 1,
             "tickcolor": "rgb(36,36,36)",
             "ticks": "outside"
            },
            "colorscale": [
             [
              0,
              "#440154"
             ],
             [
              0.1111111111111111,
              "#482878"
             ],
             [
              0.2222222222222222,
              "#3e4989"
             ],
             [
              0.3333333333333333,
              "#31688e"
             ],
             [
              0.4444444444444444,
              "#26828e"
             ],
             [
              0.5555555555555556,
              "#1f9e89"
             ],
             [
              0.6666666666666666,
              "#35b779"
             ],
             [
              0.7777777777777778,
              "#6ece58"
             ],
             [
              0.8888888888888888,
              "#b5de2b"
             ],
             [
              1,
              "#fde725"
             ]
            ],
            "type": "contour"
           }
          ],
          "contourcarpet": [
           {
            "colorbar": {
             "outlinewidth": 1,
             "tickcolor": "rgb(36,36,36)",
             "ticks": "outside"
            },
            "type": "contourcarpet"
           }
          ],
          "heatmap": [
           {
            "colorbar": {
             "outlinewidth": 1,
             "tickcolor": "rgb(36,36,36)",
             "ticks": "outside"
            },
            "colorscale": [
             [
              0,
              "#440154"
             ],
             [
              0.1111111111111111,
              "#482878"
             ],
             [
              0.2222222222222222,
              "#3e4989"
             ],
             [
              0.3333333333333333,
              "#31688e"
             ],
             [
              0.4444444444444444,
              "#26828e"
             ],
             [
              0.5555555555555556,
              "#1f9e89"
             ],
             [
              0.6666666666666666,
              "#35b779"
             ],
             [
              0.7777777777777778,
              "#6ece58"
             ],
             [
              0.8888888888888888,
              "#b5de2b"
             ],
             [
              1,
              "#fde725"
             ]
            ],
            "type": "heatmap"
           }
          ],
          "heatmapgl": [
           {
            "colorbar": {
             "outlinewidth": 1,
             "tickcolor": "rgb(36,36,36)",
             "ticks": "outside"
            },
            "colorscale": [
             [
              0,
              "#440154"
             ],
             [
              0.1111111111111111,
              "#482878"
             ],
             [
              0.2222222222222222,
              "#3e4989"
             ],
             [
              0.3333333333333333,
              "#31688e"
             ],
             [
              0.4444444444444444,
              "#26828e"
             ],
             [
              0.5555555555555556,
              "#1f9e89"
             ],
             [
              0.6666666666666666,
              "#35b779"
             ],
             [
              0.7777777777777778,
              "#6ece58"
             ],
             [
              0.8888888888888888,
              "#b5de2b"
             ],
             [
              1,
              "#fde725"
             ]
            ],
            "type": "heatmapgl"
           }
          ],
          "histogram": [
           {
            "marker": {
             "line": {
              "color": "white",
              "width": 0.6
             }
            },
            "type": "histogram"
           }
          ],
          "histogram2d": [
           {
            "colorbar": {
             "outlinewidth": 1,
             "tickcolor": "rgb(36,36,36)",
             "ticks": "outside"
            },
            "colorscale": [
             [
              0,
              "#440154"
             ],
             [
              0.1111111111111111,
              "#482878"
             ],
             [
              0.2222222222222222,
              "#3e4989"
             ],
             [
              0.3333333333333333,
              "#31688e"
             ],
             [
              0.4444444444444444,
              "#26828e"
             ],
             [
              0.5555555555555556,
              "#1f9e89"
             ],
             [
              0.6666666666666666,
              "#35b779"
             ],
             [
              0.7777777777777778,
              "#6ece58"
             ],
             [
              0.8888888888888888,
              "#b5de2b"
             ],
             [
              1,
              "#fde725"
             ]
            ],
            "type": "histogram2d"
           }
          ],
          "histogram2dcontour": [
           {
            "colorbar": {
             "outlinewidth": 1,
             "tickcolor": "rgb(36,36,36)",
             "ticks": "outside"
            },
            "colorscale": [
             [
              0,
              "#440154"
             ],
             [
              0.1111111111111111,
              "#482878"
             ],
             [
              0.2222222222222222,
              "#3e4989"
             ],
             [
              0.3333333333333333,
              "#31688e"
             ],
             [
              0.4444444444444444,
              "#26828e"
             ],
             [
              0.5555555555555556,
              "#1f9e89"
             ],
             [
              0.6666666666666666,
              "#35b779"
             ],
             [
              0.7777777777777778,
              "#6ece58"
             ],
             [
              0.8888888888888888,
              "#b5de2b"
             ],
             [
              1,
              "#fde725"
             ]
            ],
            "type": "histogram2dcontour"
           }
          ],
          "mesh3d": [
           {
            "colorbar": {
             "outlinewidth": 1,
             "tickcolor": "rgb(36,36,36)",
             "ticks": "outside"
            },
            "type": "mesh3d"
           }
          ],
          "parcoords": [
           {
            "line": {
             "colorbar": {
              "outlinewidth": 1,
              "tickcolor": "rgb(36,36,36)",
              "ticks": "outside"
             }
            },
            "type": "parcoords"
           }
          ],
          "pie": [
           {
            "automargin": true,
            "type": "pie"
           }
          ],
          "scatter": [
           {
            "marker": {
             "colorbar": {
              "outlinewidth": 1,
              "tickcolor": "rgb(36,36,36)",
              "ticks": "outside"
             }
            },
            "type": "scatter"
           }
          ],
          "scatter3d": [
           {
            "line": {
             "colorbar": {
              "outlinewidth": 1,
              "tickcolor": "rgb(36,36,36)",
              "ticks": "outside"
             }
            },
            "marker": {
             "colorbar": {
              "outlinewidth": 1,
              "tickcolor": "rgb(36,36,36)",
              "ticks": "outside"
             }
            },
            "type": "scatter3d"
           }
          ],
          "scattercarpet": [
           {
            "marker": {
             "colorbar": {
              "outlinewidth": 1,
              "tickcolor": "rgb(36,36,36)",
              "ticks": "outside"
             }
            },
            "type": "scattercarpet"
           }
          ],
          "scattergeo": [
           {
            "marker": {
             "colorbar": {
              "outlinewidth": 1,
              "tickcolor": "rgb(36,36,36)",
              "ticks": "outside"
             }
            },
            "type": "scattergeo"
           }
          ],
          "scattergl": [
           {
            "marker": {
             "colorbar": {
              "outlinewidth": 1,
              "tickcolor": "rgb(36,36,36)",
              "ticks": "outside"
             }
            },
            "type": "scattergl"
           }
          ],
          "scattermapbox": [
           {
            "marker": {
             "colorbar": {
              "outlinewidth": 1,
              "tickcolor": "rgb(36,36,36)",
              "ticks": "outside"
             }
            },
            "type": "scattermapbox"
           }
          ],
          "scatterpolar": [
           {
            "marker": {
             "colorbar": {
              "outlinewidth": 1,
              "tickcolor": "rgb(36,36,36)",
              "ticks": "outside"
             }
            },
            "type": "scatterpolar"
           }
          ],
          "scatterpolargl": [
           {
            "marker": {
             "colorbar": {
              "outlinewidth": 1,
              "tickcolor": "rgb(36,36,36)",
              "ticks": "outside"
             }
            },
            "type": "scatterpolargl"
           }
          ],
          "scatterternary": [
           {
            "marker": {
             "colorbar": {
              "outlinewidth": 1,
              "tickcolor": "rgb(36,36,36)",
              "ticks": "outside"
             }
            },
            "type": "scatterternary"
           }
          ],
          "surface": [
           {
            "colorbar": {
             "outlinewidth": 1,
             "tickcolor": "rgb(36,36,36)",
             "ticks": "outside"
            },
            "colorscale": [
             [
              0,
              "#440154"
             ],
             [
              0.1111111111111111,
              "#482878"
             ],
             [
              0.2222222222222222,
              "#3e4989"
             ],
             [
              0.3333333333333333,
              "#31688e"
             ],
             [
              0.4444444444444444,
              "#26828e"
             ],
             [
              0.5555555555555556,
              "#1f9e89"
             ],
             [
              0.6666666666666666,
              "#35b779"
             ],
             [
              0.7777777777777778,
              "#6ece58"
             ],
             [
              0.8888888888888888,
              "#b5de2b"
             ],
             [
              1,
              "#fde725"
             ]
            ],
            "type": "surface"
           }
          ],
          "table": [
           {
            "cells": {
             "fill": {
              "color": "rgb(237,237,237)"
             },
             "line": {
              "color": "white"
             }
            },
            "header": {
             "fill": {
              "color": "rgb(217,217,217)"
             },
             "line": {
              "color": "white"
             }
            },
            "type": "table"
           }
          ]
         },
         "layout": {
          "annotationdefaults": {
           "arrowhead": 0,
           "arrowwidth": 1
          },
          "autotypenumbers": "strict",
          "coloraxis": {
           "colorbar": {
            "outlinewidth": 1,
            "tickcolor": "rgb(36,36,36)",
            "ticks": "outside"
           }
          },
          "colorscale": {
           "diverging": [
            [
             0,
             "rgb(103,0,31)"
            ],
            [
             0.1,
             "rgb(178,24,43)"
            ],
            [
             0.2,
             "rgb(214,96,77)"
            ],
            [
             0.3,
             "rgb(244,165,130)"
            ],
            [
             0.4,
             "rgb(253,219,199)"
            ],
            [
             0.5,
             "rgb(247,247,247)"
            ],
            [
             0.6,
             "rgb(209,229,240)"
            ],
            [
             0.7,
             "rgb(146,197,222)"
            ],
            [
             0.8,
             "rgb(67,147,195)"
            ],
            [
             0.9,
             "rgb(33,102,172)"
            ],
            [
             1,
             "rgb(5,48,97)"
            ]
           ],
           "sequential": [
            [
             0,
             "#440154"
            ],
            [
             0.1111111111111111,
             "#482878"
            ],
            [
             0.2222222222222222,
             "#3e4989"
            ],
            [
             0.3333333333333333,
             "#31688e"
            ],
            [
             0.4444444444444444,
             "#26828e"
            ],
            [
             0.5555555555555556,
             "#1f9e89"
            ],
            [
             0.6666666666666666,
             "#35b779"
            ],
            [
             0.7777777777777778,
             "#6ece58"
            ],
            [
             0.8888888888888888,
             "#b5de2b"
            ],
            [
             1,
             "#fde725"
            ]
           ],
           "sequentialminus": [
            [
             0,
             "#440154"
            ],
            [
             0.1111111111111111,
             "#482878"
            ],
            [
             0.2222222222222222,
             "#3e4989"
            ],
            [
             0.3333333333333333,
             "#31688e"
            ],
            [
             0.4444444444444444,
             "#26828e"
            ],
            [
             0.5555555555555556,
             "#1f9e89"
            ],
            [
             0.6666666666666666,
             "#35b779"
            ],
            [
             0.7777777777777778,
             "#6ece58"
            ],
            [
             0.8888888888888888,
             "#b5de2b"
            ],
            [
             1,
             "#fde725"
            ]
           ]
          },
          "colorway": [
           "#1F77B4",
           "#FF7F0E",
           "#2CA02C",
           "#D62728",
           "#9467BD",
           "#8C564B",
           "#E377C2",
           "#7F7F7F",
           "#BCBD22",
           "#17BECF"
          ],
          "font": {
           "color": "rgb(36,36,36)"
          },
          "geo": {
           "bgcolor": "white",
           "lakecolor": "white",
           "landcolor": "white",
           "showlakes": true,
           "showland": true,
           "subunitcolor": "white"
          },
          "hoverlabel": {
           "align": "left"
          },
          "hovermode": "closest",
          "mapbox": {
           "style": "light"
          },
          "paper_bgcolor": "white",
          "plot_bgcolor": "white",
          "polar": {
           "angularaxis": {
            "gridcolor": "rgb(232,232,232)",
            "linecolor": "rgb(36,36,36)",
            "showgrid": false,
            "showline": true,
            "ticks": "outside"
           },
           "bgcolor": "white",
           "radialaxis": {
            "gridcolor": "rgb(232,232,232)",
            "linecolor": "rgb(36,36,36)",
            "showgrid": false,
            "showline": true,
            "ticks": "outside"
           }
          },
          "scene": {
           "xaxis": {
            "backgroundcolor": "white",
            "gridcolor": "rgb(232,232,232)",
            "gridwidth": 2,
            "linecolor": "rgb(36,36,36)",
            "showbackground": true,
            "showgrid": false,
            "showline": true,
            "ticks": "outside",
            "zeroline": false,
            "zerolinecolor": "rgb(36,36,36)"
           },
           "yaxis": {
            "backgroundcolor": "white",
            "gridcolor": "rgb(232,232,232)",
            "gridwidth": 2,
            "linecolor": "rgb(36,36,36)",
            "showbackground": true,
            "showgrid": false,
            "showline": true,
            "ticks": "outside",
            "zeroline": false,
            "zerolinecolor": "rgb(36,36,36)"
           },
           "zaxis": {
            "backgroundcolor": "white",
            "gridcolor": "rgb(232,232,232)",
            "gridwidth": 2,
            "linecolor": "rgb(36,36,36)",
            "showbackground": true,
            "showgrid": false,
            "showline": true,
            "ticks": "outside",
            "zeroline": false,
            "zerolinecolor": "rgb(36,36,36)"
           }
          },
          "shapedefaults": {
           "fillcolor": "black",
           "line": {
            "width": 0
           },
           "opacity": 0.3
          },
          "ternary": {
           "aaxis": {
            "gridcolor": "rgb(232,232,232)",
            "linecolor": "rgb(36,36,36)",
            "showgrid": false,
            "showline": true,
            "ticks": "outside"
           },
           "baxis": {
            "gridcolor": "rgb(232,232,232)",
            "linecolor": "rgb(36,36,36)",
            "showgrid": false,
            "showline": true,
            "ticks": "outside"
           },
           "bgcolor": "white",
           "caxis": {
            "gridcolor": "rgb(232,232,232)",
            "linecolor": "rgb(36,36,36)",
            "showgrid": false,
            "showline": true,
            "ticks": "outside"
           }
          },
          "title": {
           "x": 0.05
          },
          "xaxis": {
           "automargin": true,
           "gridcolor": "rgb(232,232,232)",
           "linecolor": "rgb(36,36,36)",
           "showgrid": false,
           "showline": true,
           "ticks": "outside",
           "title": {
            "standoff": 15
           },
           "zeroline": false,
           "zerolinecolor": "rgb(36,36,36)"
          },
          "yaxis": {
           "automargin": true,
           "gridcolor": "rgb(232,232,232)",
           "linecolor": "rgb(36,36,36)",
           "showgrid": false,
           "showline": true,
           "ticks": "outside",
           "title": {
            "standoff": 15
           },
           "zeroline": false,
           "zerolinecolor": "rgb(36,36,36)"
          }
         }
        },
        "title": {
         "text": "<b>S-S model </b>, L=16, J2 =1, J1 =0.9 , η=0.01, α=8, samples=1000"
        },
        "xaxis": {
         "mirror": true,
         "showline": true,
         "title": {
          "text": "Iteration"
         }
        },
        "yaxis": {
         "mirror": true,
         "showline": true,
         "title": {
          "text": "Energy"
         }
        }
       }
      },
      "text/html": [
       "<div>                            <div id=\"81907017-f569-48d6-8c46-ede45a874a41\" class=\"plotly-graph-div\" style=\"height:525px; width:100%;\"></div>            <script type=\"text/javascript\">                require([\"plotly\"], function(Plotly) {                    window.PLOTLYENV=window.PLOTLYENV || {};                                    if (document.getElementById(\"81907017-f569-48d6-8c46-ede45a874a41\")) {                    Plotly.newPlot(                        \"81907017-f569-48d6-8c46-ede45a874a41\",                        [{\"line\":{\"color\":\"#000000\",\"width\":1},\"mode\":\"lines\",\"name\":\"exact energy\",\"type\":\"scatter\",\"x\":[0,300],\"y\":[-34.08190778603111,-34.08190778603111]},{\"name\":\"SGD\",\"type\":\"scatter\",\"x\":[0,1,2,3,4,5,6,7,8,9,10,11,12,13,14,15,16,17,18,19,20,21,22,23,24,25,26,27,28,29,30,31,32,33,34,35,36,37,38,39,40,41,42,43,44,45,46,47,48,49,50,51,52,53,54,55,56,57,58,59,60,61,62,63,64,65,66,67,68,69,70,71,72,73,74,75,76,77,78,79,80,81,82,83,84,85,86,87,88,89,90,91,92,93,94,95,96,97,98,99,100,101,102,103,104,105,106,107,108,109,110,111,112,113,114,115,116,117,118,119,120,121,122,123,124,125,126,127,128,129,130,131,132,133,134,135,136,137,138,139,140,141,142,143,144,145,146,147,148,149,150,151,152,153,154,155,156,157,158,159,160,161,162,163,164,165,166,167,168,169,170,171,172,173,174,175,176,177,178,179,180,181,182,183,184,185,186,187,188,189,190,191,192,193,194,195,196,197,198,199,200,201,202,203,204,205,206,207,208,209,210,211,212,213,214,215,216,217,218,219,220,221,222,223,224,225,226,227,228,229,230,231,232,233,234,235,236,237,238,239,240,241,242,243,244,245,246,247,248,249,250,251,252,253,254,255,256,257,258,259,260,261,262,263,264,265,266,267,268,269,270,271,272,273,274,275,276,277,278,279,280,281,282,283,284,285,286,287,288,289,290,291,292,293,294,295,296,297,298,299],\"y\":[36.800701138914874,36.80039043352479,36.80184043389283,36.79913578193971,36.79395115681981,36.797189133396515,36.799624932428564,36.80133465103995,36.80149672811104,36.800908609366125,36.79481887560354,36.795134926806476,36.79220915951604,36.79650006402169,36.788546168302595,36.78856909877212,36.796363013503445,36.79158451329039,36.78261554543102,36.79589801391106,36.7976765011323,36.757985714474245,36.77883581885136,36.771418995808524,36.734322353026144,36.72796583221593,36.64506477937669,36.71294388421333,36.576676592310875,36.47244234563118,36.439794354360394,36.40569733239321,36.280456704441505,36.288272913943196,36.096992836973435,35.59433094654293,35.70086208180833,35.230853861783395,34.74613025836309,34.45141146442109,33.219740475828374,32.87492135704397,31.443623404360565,30.536078579439863,28.964578821578307,27.301442927777533,25.081155810374312,22.851127924706155,20.329285000925445,17.45974144984928,14.63586164473977,11.485181584066526,8.2476615607945,5.182892435372882,2.650407720487195,-0.046638356481730946,-2.126740276033424,-4.80531131479448,-7.026889032878743,-8.860392536098326,-10.129729698453463,-11.471850215611292,-12.83164354384411,-13.987565592302794,-14.779981081704003,-15.752229367241227,-16.685927675853293,-17.493440741287326,-17.92443798282587,-18.933621085864292,-19.618653333595965,-19.985709747608475,-20.8676089875247,-21.206464380474102,-21.58712134881363,-22.31143768267879,-22.811149525433063,-23.072368285252487,-23.447193351803406,-23.996568880225173,-24.41729660169593,-24.623689929672974,-25.183197481431822,-25.66177977047558,-25.997471560234608,-26.36243471698743,-26.916124560822027,-27.334496922106613,-27.511023289731273,-27.92066283663143,-28.30129655330818,-28.503178077018326,-28.85151555574113,-29.188252537188973,-29.4297513309663,-29.52473866267766,-29.789033332889893,-29.993324697836997,-30.385140669467663,-30.400283774470456,-30.79362613003999,-30.842033972571066,-31.12146934299882,-31.17848305840401,-31.256982696747684,-31.495940693704842,-31.459196241816485,-31.624261489377567,-31.68179899904047,-32.04078438164336,-31.862620474457252,-32.12595972626443,-32.09790694242462,-32.07021204393235,-32.322929522265916,-32.31515190110581,-32.25221196526076,-32.48808606710167,-32.57932624520837,-32.442107953490954,-32.61225249771611,-32.43192194573146,-32.50266238417805,-32.89786610235371,-32.87671010915296,-32.80556311879756,-32.75268068416161,-32.85354333410973,-32.96713542563648,-32.90330563862284,-33.03061421453824,-32.827971020109096,-33.19128293810966,-33.06531255882055,-32.97874612924219,-33.038051478406416,-33.000498911486645,-33.14418713998376,-32.927487554472265,-33.084244610502076,-33.29658911453766,-33.02893576132258,-33.25058379471992,-33.2209705036866,-33.131610534381146,-33.159459373304834,-33.227890015905274,-33.26837533911672,-33.27146925540232,-33.20311198512673,-33.34364224755736,-33.29042875442752,-33.297313966953496,-33.410164096714446,-33.344267770301826,-33.34223346785361,-33.43707051410901,-33.49095918736873,-33.23776265093486,-33.46004117641353,-33.40324694357706,-33.38834091185846,-33.30011459974533,-33.311410327062376,-33.468238272792554,-33.56564650922801,-33.50421724657431,-33.47296706654219,-33.42668810110547,-33.34029961061311,-33.440154078927456,-33.55156579757099,-33.41367342938913,-33.70373508333166,-33.47836082409541,-33.47706611669546,-33.474723664624705,-33.572373214695745,-33.63905877432971,-33.535919747957216,-33.58419317679498,-33.46738710017128,-33.56492087978046,-33.638584749508034,-33.443855023931135,-33.56060971949533,-33.52579612862762,-33.7122209800371,-33.75055806181274,-33.53539443970374,-33.70716281276044,-33.69606624156506,-33.52187513055245,-33.65834374268586,-33.60124687440943,-33.56377266641331,-33.69420057313377,-33.664103855354995,-33.706365999787316,-33.680725705298734,-33.63731773492916,-33.63973955480942,-33.63635689287454,-33.63280609395304,-33.715798834488346,-33.62219097639266,-33.68928043757468,-33.721949185156156,-33.74136122342846,-33.63938498159022,-33.55754442963366,-33.65451181926486,-33.60460756884805,-33.65840794344803,-33.71822368374117,-33.66480280585087,-33.65853374618686,-33.65018542396988,-33.80665299431106,-33.67492637536917,-33.78282790411855,-33.68662978691046,-33.64581382971553,-33.740605218204074,-33.69661511403576,-33.6710520656526,-33.70479071404976,-33.59714966677717,-33.7450196562798,-33.650918266130645,-33.64722748266187,-33.661903548366496,-33.54725221547254,-33.759236665018804,-33.8150321944406,-33.690441851173965,-33.620565471119704,-33.737195379539905,-33.655568813588914,-33.67026280164808,-33.75923599369825,-33.72717340211137,-33.68587243236131,-33.69402469120637,-33.79228459357517,-33.688545053514794,-33.74591622856849,-33.77177174038502,-33.76054903641466,-33.76253829870471,-33.710081627536326,-33.81651598313219,-33.819939493044544,-33.64299778609375,-33.738898297557476,-33.708005416428186,-33.70431523888153,-33.681317376557374,-33.752921876231476,-33.71951622899731,-33.74079097310949,-33.668539542235564,-33.68041572107321,-33.780936074334555,-33.72594686055685,-33.635706448527905,-33.69223046561428,-33.75069706313874,-33.776833731228244,-33.75975302273108,-33.78276332586973,-33.779118937794834,-33.692202069589804,-33.67001048132225,-33.74298381653794,-33.65963440700709,-33.771092201418675,-33.75499249027444,-33.743206358641295,-33.8108655532886,-33.894242855921576,-33.81316239781938,-33.768580971361246,-33.764770146501505,-33.71426499562822,-33.69547740716783,-33.80788427117919,-33.83376769528303,-33.7783739089241,-33.74304449064877,-33.80255340595279,-33.7451723384319,-33.82969831180952,-33.74228472625818,-33.72011395564831,-33.76230959803786,-33.72981186780503,-33.84588242115609,-33.86864462702715,-33.802958446901954]},{\"name\":\"AdaGrad\",\"type\":\"scatter\",\"x\":[0,1,2,3,4,5,6,7,8,9,10,11,12,13,14,15,16,17,18,19,20,21,22,23,24,25,26,27,28,29,30,31,32,33,34,35,36,37,38,39,40,41,42,43,44,45,46,47,48,49,50,51,52,53,54,55,56,57,58,59,60,61,62,63,64,65,66,67,68,69,70,71,72,73,74,75,76,77,78,79,80,81,82,83,84,85,86,87,88,89,90,91,92,93,94,95,96,97,98,99,100,101,102,103,104,105,106,107,108,109,110,111,112,113,114,115,116,117,118,119,120,121,122,123,124,125,126,127,128,129,130,131,132,133,134,135,136,137,138,139,140,141,142,143,144,145,146,147,148,149,150,151,152,153,154,155,156,157,158,159,160,161,162,163,164,165,166,167,168,169,170,171,172,173,174,175,176,177,178,179,180,181,182,183,184,185,186,187,188,189,190,191,192,193,194,195,196,197,198,199,200,201,202,203,204,205,206,207,208,209,210,211,212,213,214,215,216,217,218,219,220,221,222,223,224,225,226,227,228,229,230,231,232,233,234,235,236,237,238,239,240,241,242,243,244,245,246,247,248,249,250,251,252,253,254,255,256,257,258,259,260,261,262,263,264,265,266,267,268,269,270,271,272,273,274,275,276,277,278,279,280,281,282,283,284,285,286,287,288,289,290,291,292,293,294,295,296,297,298,299],\"y\":[36.80104332570947,36.79899399155942,36.80142616990981,36.7947101046876,36.796009963376996,36.80074096269229,36.7979902326693,36.779711954927386,36.764074666986986,36.743950924808196,36.72796219286625,36.68664832671084,36.64516364762773,36.5861274119459,36.49200583877109,36.42208003569021,36.30734665347162,36.16090650408567,36.044496365486474,35.896685847458535,35.888719005485186,35.77556872977305,35.44438310099997,35.439179962112085,35.28269841156377,34.947347024544385,34.503305519648166,34.08554442416564,32.73458493325708,29.938745930856413,22.261023586947,12.499800271847775,2.782050101289813,-0.9183202683765046,-3.0443313075780236,-5.670259187045517,-6.025187672553227,-5.931603262946653,-7.300760125983675,-9.325967150704605,-8.411290729254699,-9.598451050960103,-10.398274529480661,-11.31671324625132,-11.767557463669618,-12.796786128377276,-13.273029347187174,-13.79875989556921,-14.175159771994748,-14.541313684178563,-14.595024380659176,-14.716139520959665,-15.450144575723913,-15.386173462056096,-15.89235073774265,-16.31140204195532,-16.913391293077826,-17.113423219536454,-17.5961637417149,-17.339606487203696,-18.339936952358695,-18.040638237390265,-18.46399426034553,-18.520010678551436,-18.81449776453131,-19.196005885052458,-19.505806058602804,-19.433807825102782,-19.28352601985703,-20.045225337191788,-20.630633214887492,-20.168701898674897,-20.316623302522398,-20.344980807691794,-21.07583496403222,-20.296492341408413,-20.98104636702312,-20.7883764220149,-21.140179265610477,-21.55768884969739,-21.342360220334246,-21.979665360644752,-22.200738315479096,-21.95859909257958,-22.009199908234585,-21.989675423180575,-22.260433287138206,-22.473519816675267,-21.70736860168293,-21.976760139528118,-22.401525554330235,-22.348397521467877,-22.464914331125662,-22.502279120074064,-22.529050430307873,-23.04845775900029,-23.025338322059696,-23.210081980101,-23.126970081532182,-22.88883148061647,-22.90545523860759,-23.319784409630273,-23.222035604577844,-23.4500319297762,-23.452300973748496,-23.273342860079847,-23.36944719039843,-23.478874774174404,-23.275738224177992,-23.831257905401355,-23.710059851262706,-23.76030086080388,-23.8683787585779,-23.920554370406418,-24.169228918287487,-23.893124300005717,-24.105345552340406,-23.927596658788445,-24.18649184989157,-24.48680478802755,-24.289708982810534,-24.220354187634992,-24.239852119781947,-23.949501969966462,-24.385518754364526,-24.348963240287773,-24.345526939807247,-24.417934237790767,-24.481912031297565,-24.485188965213254,-24.616558918001683,-24.484153270460972,-24.427640224132258,-24.470077109870104,-24.55308304638736,-24.632307970145682,-24.626124637755414,-24.59460470120118,-24.591010231798258,-24.759983248348085,-24.827923153437137,-24.82474318416948,-24.694712328654553,-24.841257618089994,-24.879548055776876,-24.749926281992717,-24.81733851775189,-24.64656672391043,-24.82110528829439,-25.096422033857664,-24.923786539633205,-25.295428236502556,-25.06118974867026,-24.934229276626592,-24.714179375773142,-25.06057376993239,-24.827492949132374,-24.976142539698294,-24.983021986688563,-25.28487052132672,-25.109128161060408,-25.101954396830763,-25.19735279951381,-25.188608928914928,-25.336922919663802,-25.03370280472011,-25.480959188536687,-25.161133724691478,-25.202279110942527,-25.110604696226364,-25.245892068924174,-24.77578044520764,-25.18807976326722,-25.384262539971264,-25.375530492828826,-25.3047983750114,-25.61237116373814,-25.635201485945565,-25.63818495987337,-25.161305932047334,-25.205387512101655,-25.319144499010733,-25.59085796364065,-25.681708315058955,-25.42099900760936,-25.425200474622805,-25.693065137340227,-25.614254098350337,-25.716268218760796,-25.62194620318782,-25.46816893164982,-25.41122992723191,-25.616691653544912,-25.592329522507296,-25.462204933041306,-25.61529743917726,-25.524840924190034,-25.495728683954223,-25.642344502446303,-25.899145080925297,-25.72648094573019,-25.475700658472654,-25.559857213572336,-25.713197667925026,-25.691298171667146,-25.653228461923415,-25.829758149243666,-25.82458147855685,-25.559652488405877,-25.62832904570302,-25.645221134293717,-25.632035602924557,-25.731257530977636,-25.62560843600255,-25.308519669762127,-25.7831289368211,-25.765126839918878,-25.567375117625527,-25.857802094902045,-25.946735444354655,-25.900853329375312,-25.71016258415975,-25.792570437081043,-25.742712033184198,-25.93458730355371,-25.816562497419437,-25.999383683294127,-25.99205247051664,-25.802470604424492,-25.847387940698546,-25.681253530637804,-25.75369868035474,-25.831723816824333,-25.875018248666027,-25.77329546886517,-25.812337724067234,-25.93736855886892,-25.950419505066318,-25.819894014622353,-26.17772806615388,-26.001232668337163,-25.781446488895963,-25.846226337247813,-25.92744386916544,-25.839230598471,-25.962617951559196,-26.151830583016448,-26.096520803117457,-26.017239537846976,-25.968201774410122,-26.00648172828905,-26.02685017488055,-25.84229169964118,-26.39283031858695,-26.013940829539333,-25.917700338474237,-26.088529192560767,-26.184346493586585,-26.15140704318606,-26.131472411871524,-25.91404478663909,-25.53818234712815,-25.850934146360398,-25.702343914452655,-25.892140141761473,-26.005619763771513,-25.90211954086584,-26.13382968379796,-26.118783711301447,-25.98760136102581,-25.982114566313143,-26.047779459949755,-26.04988907189636,-25.909685121119182,-26.060027097466428,-26.0699477128636,-26.237911917901084,-26.11038090524109,-26.127304856333456,-26.204174912309036,-26.21564409953295,-26.4055029391213,-26.164060367498656,-26.603347043084366,-26.139963012371588,-26.249675898349086,-26.496498557784882,-25.703954489039496,-26.067076209519744,-26.162642430601714,-26.17254776434335,-26.26570969028649,-26.19118820893333,-26.45787717248932,-26.303607936422736,-26.118842741970163,-26.33016016734799,-26.21103950635821,-26.168726158820753,-26.218022854729593]}],                        {\"shapes\":[{\"line\":{\"width\":1},\"opacity\":1,\"type\":\"line\",\"x0\":0,\"x1\":1,\"xref\":\"x domain\",\"y0\":-34.08190778603111,\"y1\":-34.08190778603111,\"yref\":\"y\"}],\"template\":{\"data\":{\"bar\":[{\"error_x\":{\"color\":\"rgb(36,36,36)\"},\"error_y\":{\"color\":\"rgb(36,36,36)\"},\"marker\":{\"line\":{\"color\":\"white\",\"width\":0.5},\"pattern\":{\"fillmode\":\"overlay\",\"size\":10,\"solidity\":0.2}},\"type\":\"bar\"}],\"barpolar\":[{\"marker\":{\"line\":{\"color\":\"white\",\"width\":0.5},\"pattern\":{\"fillmode\":\"overlay\",\"size\":10,\"solidity\":0.2}},\"type\":\"barpolar\"}],\"carpet\":[{\"aaxis\":{\"endlinecolor\":\"rgb(36,36,36)\",\"gridcolor\":\"white\",\"linecolor\":\"white\",\"minorgridcolor\":\"white\",\"startlinecolor\":\"rgb(36,36,36)\"},\"baxis\":{\"endlinecolor\":\"rgb(36,36,36)\",\"gridcolor\":\"white\",\"linecolor\":\"white\",\"minorgridcolor\":\"white\",\"startlinecolor\":\"rgb(36,36,36)\"},\"type\":\"carpet\"}],\"choropleth\":[{\"colorbar\":{\"outlinewidth\":1,\"tickcolor\":\"rgb(36,36,36)\",\"ticks\":\"outside\"},\"type\":\"choropleth\"}],\"contour\":[{\"colorbar\":{\"outlinewidth\":1,\"tickcolor\":\"rgb(36,36,36)\",\"ticks\":\"outside\"},\"colorscale\":[[0.0,\"#440154\"],[0.1111111111111111,\"#482878\"],[0.2222222222222222,\"#3e4989\"],[0.3333333333333333,\"#31688e\"],[0.4444444444444444,\"#26828e\"],[0.5555555555555556,\"#1f9e89\"],[0.6666666666666666,\"#35b779\"],[0.7777777777777778,\"#6ece58\"],[0.8888888888888888,\"#b5de2b\"],[1.0,\"#fde725\"]],\"type\":\"contour\"}],\"contourcarpet\":[{\"colorbar\":{\"outlinewidth\":1,\"tickcolor\":\"rgb(36,36,36)\",\"ticks\":\"outside\"},\"type\":\"contourcarpet\"}],\"heatmap\":[{\"colorbar\":{\"outlinewidth\":1,\"tickcolor\":\"rgb(36,36,36)\",\"ticks\":\"outside\"},\"colorscale\":[[0.0,\"#440154\"],[0.1111111111111111,\"#482878\"],[0.2222222222222222,\"#3e4989\"],[0.3333333333333333,\"#31688e\"],[0.4444444444444444,\"#26828e\"],[0.5555555555555556,\"#1f9e89\"],[0.6666666666666666,\"#35b779\"],[0.7777777777777778,\"#6ece58\"],[0.8888888888888888,\"#b5de2b\"],[1.0,\"#fde725\"]],\"type\":\"heatmap\"}],\"heatmapgl\":[{\"colorbar\":{\"outlinewidth\":1,\"tickcolor\":\"rgb(36,36,36)\",\"ticks\":\"outside\"},\"colorscale\":[[0.0,\"#440154\"],[0.1111111111111111,\"#482878\"],[0.2222222222222222,\"#3e4989\"],[0.3333333333333333,\"#31688e\"],[0.4444444444444444,\"#26828e\"],[0.5555555555555556,\"#1f9e89\"],[0.6666666666666666,\"#35b779\"],[0.7777777777777778,\"#6ece58\"],[0.8888888888888888,\"#b5de2b\"],[1.0,\"#fde725\"]],\"type\":\"heatmapgl\"}],\"histogram\":[{\"marker\":{\"line\":{\"color\":\"white\",\"width\":0.6}},\"type\":\"histogram\"}],\"histogram2d\":[{\"colorbar\":{\"outlinewidth\":1,\"tickcolor\":\"rgb(36,36,36)\",\"ticks\":\"outside\"},\"colorscale\":[[0.0,\"#440154\"],[0.1111111111111111,\"#482878\"],[0.2222222222222222,\"#3e4989\"],[0.3333333333333333,\"#31688e\"],[0.4444444444444444,\"#26828e\"],[0.5555555555555556,\"#1f9e89\"],[0.6666666666666666,\"#35b779\"],[0.7777777777777778,\"#6ece58\"],[0.8888888888888888,\"#b5de2b\"],[1.0,\"#fde725\"]],\"type\":\"histogram2d\"}],\"histogram2dcontour\":[{\"colorbar\":{\"outlinewidth\":1,\"tickcolor\":\"rgb(36,36,36)\",\"ticks\":\"outside\"},\"colorscale\":[[0.0,\"#440154\"],[0.1111111111111111,\"#482878\"],[0.2222222222222222,\"#3e4989\"],[0.3333333333333333,\"#31688e\"],[0.4444444444444444,\"#26828e\"],[0.5555555555555556,\"#1f9e89\"],[0.6666666666666666,\"#35b779\"],[0.7777777777777778,\"#6ece58\"],[0.8888888888888888,\"#b5de2b\"],[1.0,\"#fde725\"]],\"type\":\"histogram2dcontour\"}],\"mesh3d\":[{\"colorbar\":{\"outlinewidth\":1,\"tickcolor\":\"rgb(36,36,36)\",\"ticks\":\"outside\"},\"type\":\"mesh3d\"}],\"parcoords\":[{\"line\":{\"colorbar\":{\"outlinewidth\":1,\"tickcolor\":\"rgb(36,36,36)\",\"ticks\":\"outside\"}},\"type\":\"parcoords\"}],\"pie\":[{\"automargin\":true,\"type\":\"pie\"}],\"scatter\":[{\"marker\":{\"colorbar\":{\"outlinewidth\":1,\"tickcolor\":\"rgb(36,36,36)\",\"ticks\":\"outside\"}},\"type\":\"scatter\"}],\"scatter3d\":[{\"line\":{\"colorbar\":{\"outlinewidth\":1,\"tickcolor\":\"rgb(36,36,36)\",\"ticks\":\"outside\"}},\"marker\":{\"colorbar\":{\"outlinewidth\":1,\"tickcolor\":\"rgb(36,36,36)\",\"ticks\":\"outside\"}},\"type\":\"scatter3d\"}],\"scattercarpet\":[{\"marker\":{\"colorbar\":{\"outlinewidth\":1,\"tickcolor\":\"rgb(36,36,36)\",\"ticks\":\"outside\"}},\"type\":\"scattercarpet\"}],\"scattergeo\":[{\"marker\":{\"colorbar\":{\"outlinewidth\":1,\"tickcolor\":\"rgb(36,36,36)\",\"ticks\":\"outside\"}},\"type\":\"scattergeo\"}],\"scattergl\":[{\"marker\":{\"colorbar\":{\"outlinewidth\":1,\"tickcolor\":\"rgb(36,36,36)\",\"ticks\":\"outside\"}},\"type\":\"scattergl\"}],\"scattermapbox\":[{\"marker\":{\"colorbar\":{\"outlinewidth\":1,\"tickcolor\":\"rgb(36,36,36)\",\"ticks\":\"outside\"}},\"type\":\"scattermapbox\"}],\"scatterpolar\":[{\"marker\":{\"colorbar\":{\"outlinewidth\":1,\"tickcolor\":\"rgb(36,36,36)\",\"ticks\":\"outside\"}},\"type\":\"scatterpolar\"}],\"scatterpolargl\":[{\"marker\":{\"colorbar\":{\"outlinewidth\":1,\"tickcolor\":\"rgb(36,36,36)\",\"ticks\":\"outside\"}},\"type\":\"scatterpolargl\"}],\"scatterternary\":[{\"marker\":{\"colorbar\":{\"outlinewidth\":1,\"tickcolor\":\"rgb(36,36,36)\",\"ticks\":\"outside\"}},\"type\":\"scatterternary\"}],\"surface\":[{\"colorbar\":{\"outlinewidth\":1,\"tickcolor\":\"rgb(36,36,36)\",\"ticks\":\"outside\"},\"colorscale\":[[0.0,\"#440154\"],[0.1111111111111111,\"#482878\"],[0.2222222222222222,\"#3e4989\"],[0.3333333333333333,\"#31688e\"],[0.4444444444444444,\"#26828e\"],[0.5555555555555556,\"#1f9e89\"],[0.6666666666666666,\"#35b779\"],[0.7777777777777778,\"#6ece58\"],[0.8888888888888888,\"#b5de2b\"],[1.0,\"#fde725\"]],\"type\":\"surface\"}],\"table\":[{\"cells\":{\"fill\":{\"color\":\"rgb(237,237,237)\"},\"line\":{\"color\":\"white\"}},\"header\":{\"fill\":{\"color\":\"rgb(217,217,217)\"},\"line\":{\"color\":\"white\"}},\"type\":\"table\"}]},\"layout\":{\"annotationdefaults\":{\"arrowhead\":0,\"arrowwidth\":1},\"autotypenumbers\":\"strict\",\"coloraxis\":{\"colorbar\":{\"outlinewidth\":1,\"tickcolor\":\"rgb(36,36,36)\",\"ticks\":\"outside\"}},\"colorscale\":{\"diverging\":[[0.0,\"rgb(103,0,31)\"],[0.1,\"rgb(178,24,43)\"],[0.2,\"rgb(214,96,77)\"],[0.3,\"rgb(244,165,130)\"],[0.4,\"rgb(253,219,199)\"],[0.5,\"rgb(247,247,247)\"],[0.6,\"rgb(209,229,240)\"],[0.7,\"rgb(146,197,222)\"],[0.8,\"rgb(67,147,195)\"],[0.9,\"rgb(33,102,172)\"],[1.0,\"rgb(5,48,97)\"]],\"sequential\":[[0.0,\"#440154\"],[0.1111111111111111,\"#482878\"],[0.2222222222222222,\"#3e4989\"],[0.3333333333333333,\"#31688e\"],[0.4444444444444444,\"#26828e\"],[0.5555555555555556,\"#1f9e89\"],[0.6666666666666666,\"#35b779\"],[0.7777777777777778,\"#6ece58\"],[0.8888888888888888,\"#b5de2b\"],[1.0,\"#fde725\"]],\"sequentialminus\":[[0.0,\"#440154\"],[0.1111111111111111,\"#482878\"],[0.2222222222222222,\"#3e4989\"],[0.3333333333333333,\"#31688e\"],[0.4444444444444444,\"#26828e\"],[0.5555555555555556,\"#1f9e89\"],[0.6666666666666666,\"#35b779\"],[0.7777777777777778,\"#6ece58\"],[0.8888888888888888,\"#b5de2b\"],[1.0,\"#fde725\"]]},\"colorway\":[\"#1F77B4\",\"#FF7F0E\",\"#2CA02C\",\"#D62728\",\"#9467BD\",\"#8C564B\",\"#E377C2\",\"#7F7F7F\",\"#BCBD22\",\"#17BECF\"],\"font\":{\"color\":\"rgb(36,36,36)\"},\"geo\":{\"bgcolor\":\"white\",\"lakecolor\":\"white\",\"landcolor\":\"white\",\"showlakes\":true,\"showland\":true,\"subunitcolor\":\"white\"},\"hoverlabel\":{\"align\":\"left\"},\"hovermode\":\"closest\",\"mapbox\":{\"style\":\"light\"},\"paper_bgcolor\":\"white\",\"plot_bgcolor\":\"white\",\"polar\":{\"angularaxis\":{\"gridcolor\":\"rgb(232,232,232)\",\"linecolor\":\"rgb(36,36,36)\",\"showgrid\":false,\"showline\":true,\"ticks\":\"outside\"},\"bgcolor\":\"white\",\"radialaxis\":{\"gridcolor\":\"rgb(232,232,232)\",\"linecolor\":\"rgb(36,36,36)\",\"showgrid\":false,\"showline\":true,\"ticks\":\"outside\"}},\"scene\":{\"xaxis\":{\"backgroundcolor\":\"white\",\"gridcolor\":\"rgb(232,232,232)\",\"gridwidth\":2,\"linecolor\":\"rgb(36,36,36)\",\"showbackground\":true,\"showgrid\":false,\"showline\":true,\"ticks\":\"outside\",\"zeroline\":false,\"zerolinecolor\":\"rgb(36,36,36)\"},\"yaxis\":{\"backgroundcolor\":\"white\",\"gridcolor\":\"rgb(232,232,232)\",\"gridwidth\":2,\"linecolor\":\"rgb(36,36,36)\",\"showbackground\":true,\"showgrid\":false,\"showline\":true,\"ticks\":\"outside\",\"zeroline\":false,\"zerolinecolor\":\"rgb(36,36,36)\"},\"zaxis\":{\"backgroundcolor\":\"white\",\"gridcolor\":\"rgb(232,232,232)\",\"gridwidth\":2,\"linecolor\":\"rgb(36,36,36)\",\"showbackground\":true,\"showgrid\":false,\"showline\":true,\"ticks\":\"outside\",\"zeroline\":false,\"zerolinecolor\":\"rgb(36,36,36)\"}},\"shapedefaults\":{\"fillcolor\":\"black\",\"line\":{\"width\":0},\"opacity\":0.3},\"ternary\":{\"aaxis\":{\"gridcolor\":\"rgb(232,232,232)\",\"linecolor\":\"rgb(36,36,36)\",\"showgrid\":false,\"showline\":true,\"ticks\":\"outside\"},\"baxis\":{\"gridcolor\":\"rgb(232,232,232)\",\"linecolor\":\"rgb(36,36,36)\",\"showgrid\":false,\"showline\":true,\"ticks\":\"outside\"},\"bgcolor\":\"white\",\"caxis\":{\"gridcolor\":\"rgb(232,232,232)\",\"linecolor\":\"rgb(36,36,36)\",\"showgrid\":false,\"showline\":true,\"ticks\":\"outside\"}},\"title\":{\"x\":0.05},\"xaxis\":{\"automargin\":true,\"gridcolor\":\"rgb(232,232,232)\",\"linecolor\":\"rgb(36,36,36)\",\"showgrid\":false,\"showline\":true,\"ticks\":\"outside\",\"title\":{\"standoff\":15},\"zeroline\":false,\"zerolinecolor\":\"rgb(36,36,36)\"},\"yaxis\":{\"automargin\":true,\"gridcolor\":\"rgb(232,232,232)\",\"linecolor\":\"rgb(36,36,36)\",\"showgrid\":false,\"showline\":true,\"ticks\":\"outside\",\"title\":{\"standoff\":15},\"zeroline\":false,\"zerolinecolor\":\"rgb(36,36,36)\"}}},\"title\":{\"text\":\"<b>S-S model </b>, L=16, J2 =1, J1 =0.9 , η=0.01, α=8, samples=1000\"},\"xaxis\":{\"mirror\":true,\"showline\":true,\"title\":{\"text\":\"Iteration\"}},\"yaxis\":{\"mirror\":true,\"showline\":true,\"title\":{\"text\":\"Energy\"}}},                        {\"responsive\": true}                    ).then(function(){\n",
       "                            \n",
       "var gd = document.getElementById('81907017-f569-48d6-8c46-ede45a874a41');\n",
       "var x = new MutationObserver(function (mutations, observer) {{\n",
       "        var display = window.getComputedStyle(gd).display;\n",
       "        if (!display || display === 'none') {{\n",
       "            console.log([gd, 'removed!']);\n",
       "            Plotly.purge(gd);\n",
       "            observer.disconnect();\n",
       "        }}\n",
       "}});\n",
       "\n",
       "// Listen for the removal of the full notebook cells\n",
       "var notebookContainer = gd.closest('#notebook-container');\n",
       "if (notebookContainer) {{\n",
       "    x.observe(notebookContainer, {childList: true});\n",
       "}}\n",
       "\n",
       "// Listen for the clearing of the current output cell\n",
       "var outputEl = gd.closest('.output');\n",
       "if (outputEl) {{\n",
       "    x.observe(outputEl, {childList: true});\n",
       "}}\n",
       "\n",
       "                        })                };                });            </script>        </div>"
      ]
     },
     "metadata": {},
     "output_type": "display_data"
    }
   ],
   "source": [
    "# import the data from log file\n",
    "OUT_NAME_suffixless=OUT_NAME\n",
    "data = []\n",
    "for i in range(no_of_runs):\n",
    "    data.append(json.load(open(OUT_NAME_suffixless+str(i)+\".log\")))\n",
    "names = [\"SGD\",\"AdaGrad\"]\n",
    "if type(data[0][\"Energy\"][\"Mean\"]) == dict: #DTYPE in (np.complex128, np.complex64):#, np.float64):# and False:\n",
    "    energy_convergence = [data[i][\"Energy\"][\"Mean\"][\"real\"] for i in range(no_of_runs)]\n",
    "    # symmetry = [data[i][\"symmetry\"][\"Mean\"][\"real\"] for i in range(no_of_runs-run_only_2)]\n",
    "else:\n",
    "    energy_convergence = [data[i][\"Energy\"][\"Mean\"] for i in range(no_of_runs)]\n",
    "    # symmetry = [data[i][\"symmetry\"][\"Mean\"] for i in range(no_of_runs-run_only_2)]\n",
    "for i in range(no_of_runs):\n",
    "    figure.add_trace(go.Scatter(\n",
    "        x=data[i][\"Energy\"][\"iters\"], y=energy_convergence[i],\n",
    "        name=names[i]\n",
    "    ))\n",
    "    # figure.add_trace(go.Scatter(\n",
    "    #     x=data[i][\"Energy\"][\"iters\"], y=symmetry[i],\n",
    "    #     name=names[i]+\"_swap\"\n",
    "    # ))\n",
    "\n",
    "figure.update_layout(xaxis_title=\"Iteration\",yaxis_title=\"Energy\")\n",
    "figure.show()"
   ]
  },
  {
   "cell_type": "markdown",
   "metadata": {},
   "source": [
    "## Assessment of the other simulation results"
   ]
  },
  {
   "cell_type": "code",
   "execution_count": 109,
   "metadata": {},
   "outputs": [
    {
     "name": "stdout",
     "output_type": "stream",
     "text": [
      "[-1, -1]\n"
     ]
    }
   ],
   "source": [
    "# Calculation of how long it took to reach 99.5% of exact energy. The first value under 0.5% deviation counts as a converged state.\n",
    "no_of_runs = 2\n",
    "threshold_energy = 0.995*exact_ground_energy\n",
    "data = []\n",
    "for i in range(no_of_runs):\n",
    "    data.append(json.load(open(OUT_NAME+str(i)+\".log\")))\n",
    "if type(data[0][\"Energy\"][\"Mean\"]) == dict:\n",
    "    energy_convergence = [data[i][\"Energy\"][\"Mean\"][\"real\"] for i in range(no_of_runs)]\n",
    "else:\n",
    "    energy_convergence = [data[i][\"Energy\"][\"Mean\"] for i in range(no_of_runs)]\n",
    "steps_until_convergence = [next((i for i,v in enumerate(energy_convergence[j]) if v < threshold_energy), -1) for j in range(no_of_runs)]\n",
    "print(steps_until_convergence)"
   ]
  },
  {
   "cell_type": "code",
   "execution_count": 110,
   "metadata": {},
   "outputs": [
    {
     "name": "stdout",
     "output_type": "stream",
     "text": [
      "Trained RBM without MSR:\n",
      "m_d^2 = -0.2546+0.0002j ± 0.0039 [σ²=0.0144]\n",
      "m_p(MSR) = -0.020+0.003j ± 0.033 [σ²=0.871]\n",
      "m_s^2 = 0.325-0.000j ± 0.012 [σ²=0.109]\n",
      "m_s^2(MSR) = 1.019+0.001j ± 0.011 [σ²=0.103]\n",
      "Trained RBM with MSR:\n",
      "m_d^2 = -0.2548-0.0001j ± 0.0036 [σ²=0.0152]\n",
      "m_p(MSR) = -0.228-0.005j ± 0.026 [σ²=0.727]\n",
      "m_s^2 = 0.8591-0.0013j ± 0.0094 [σ²=0.0753]\n",
      "m_s^2(MSR) = 1.0091+0.0046j ± 0.0074 [σ²=0.0646]\n"
     ]
    }
   ],
   "source": [
    "# Evaluation of order parameters.\n",
    "from lattice_and_ops import Operators, Lattice\n",
    "ops = Operators(lattice,hilbert,ho.mszsz,ho.exchange)\n",
    "for i,gs in enumerate([gs_1,gs_2][run_only_2:run_only_2+no_of_runs]):\n",
    "    print(\"Trained RBM with MSR:\" if i else \"Trained RBM without MSR:\")\n",
    "    print(\"m_d^2 =\", gs.estimate(ops.m_dimer_op))\n",
    "    print(\"m_p(MSR) =\", gs.estimate(ops.m_plaquette_op_MSR))\n",
    "    print(\"m_s^2 =\", gs.estimate(ops.m_s2_op_MSR))\n",
    "    print(\"m_s^2(MSR) =\", gs.estimate(ops.m_s2_op))"
   ]
  },
  {
   "cell_type": "markdown",
   "metadata": {},
   "source": [
    "### Print final results"
   ]
  },
  {
   "cell_type": "code",
   "execution_count": 111,
   "metadata": {},
   "outputs": [
    {
     "name": "stdout",
     "output_type": "stream",
     "text": [
      "  0.90000     -33.80296     -0.25465     -0.03465      1.01919    1000.00000    300.00000     -1.00000\n"
     ]
    }
   ],
   "source": [
    "print(\"{:9.5f}     {:9.5f}    {:9.5f}    {:9.5f}    {:9.5f}    {:9.5f}    {:9.5f}    {:9.5f}\".format(JEXCH1, gs_1.energy.mean.real, gs_1.estimate(ops.m_dimer_op).mean.real, gs_1.estimate(ops.m_plaquette_op).mean.real, gs_1.estimate(ops.m_s2_op).mean.real, SAMPLES, NUM_ITER, steps_until_convergence[0], sep='    '))"
   ]
  }
 ],
 "metadata": {
  "interpreter": {
   "hash": "31f2aee4e71d21fbe5cf8b01ff0e069b9275f58929596ceb00d14d90e3e16cd6"
  },
  "kernelspec": {
   "display_name": "Python 3.8.10 64-bit",
   "name": "python3"
  },
  "language_info": {
   "codemirror_mode": {
    "name": "ipython",
    "version": 3
   },
   "file_extension": ".py",
   "mimetype": "text/x-python",
   "name": "python",
   "nbconvert_exporter": "python",
   "pygments_lexer": "ipython3",
   "version": "3.8.10"
  },
  "metadata": {
   "interpreter": {
    "hash": "916dbcbb3f70747c44a77c7bcd40155683ae19c65e1c03b4aa3499c5328201f1"
   }
  }
 },
 "nbformat": 4,
 "nbformat_minor": 4
}
