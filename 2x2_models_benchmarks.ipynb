{
 "cells": [
  {
   "cell_type": "markdown",
   "metadata": {},
   "source": [
    "# Exploring Shastry-Sutterland model with RBM variational wave function and other models"
   ]
  },
  {
   "cell_type": "code",
   "execution_count": 48,
   "metadata": {},
   "outputs": [
    {
     "name": "stdout",
     "output_type": "stream",
     "text": [
      "NetKet version: 3.3.2.post1\n",
      "NumPy version: 1.20.3\n"
     ]
    }
   ],
   "source": [
    "import netket as nk\n",
    "import numpy as np\n",
    "import time\n",
    "import json\n",
    "import plotly.graph_objects as go\n",
    "import matplotlib.pyplot as plt\n",
    "import jax\n",
    "import flax\n",
    "import optax\n",
    "print(\"NetKet version: {}\".format(nk.__version__))\n",
    "print(\"NumPy version: {}\".format(np.__version__))"
   ]
  },
  {
   "cell_type": "markdown",
   "metadata": {},
   "source": [
    "### Setup relevant parameters and settings of the simulation "
   ]
  },
  {
   "cell_type": "code",
   "execution_count": 49,
   "metadata": {},
   "outputs": [],
   "source": [
    "\"\"\"lattice\"\"\"\n",
    "SITES    = 16             # 4, 8, 16, 20 ... number of vertices in a tile determines the tile shape \n",
    "JEXCH1   = .9            # nn interaction\n",
    "JEXCH2   = 1             # nnn interaction\n",
    "TOTAL_SZ = None          # 0, None ... restriction of Hilbert space\n",
    "#USE_MSR = True          # Should we use a Marshall sign rule? In this notebook, we use both.\n",
    "\n",
    "\"\"\"machine learning\"\"\"\n",
    "MACHINE  = \"symmetrized-RBM\"         # RBM, RBMSymm, RBMSymm_transl, RBMModPhase, GCNN, Jastrow\n",
    "DTYPE    = np.complex128 # data-type of weights in neural network\n",
    "ALPHA    = 16*4*2*2*4            # N_hidden / N_visible\n",
    "ETA      = .01          # learning rate (0.01 usually works)\n",
    "SAMPLER  = 'exact'       # 'local' = MetropolisLocal, 'exchange' = MetropolisExchange\n",
    "SAMPLES  = 1000          # number of Monte Carlo samples\n",
    "NUM_ITER = 400           # number of convergence iterations\n",
    "N_LAYERS = 1 #2             # number of layers (in case of G-CNN)\n",
    "FEATURES = 16 #(8,4)         # dimensions of layers (in case of G-CNN)\n",
    "\n",
    "OUT_NAME = \"SS_\"+str(SITES)+\"j1=\"+str(JEXCH1) # output file name"
   ]
  },
  {
   "cell_type": "markdown",
   "metadata": {},
   "source": [
    "### Lattice definition\n",
    "Basic structure of tiled lattices is implemented in `lattice_and_ops.py` file. Class `Lattice` implements relative positional functions, \n",
    "- e.g. *`rt(node)` returns the index of the right neighbour of a site with index `node`*\n",
    "\n",
    "The `for` loop constructs full Shastry-Sutherland lattice with PBC using these auxiliary positional functions."
   ]
  },
  {
   "cell_type": "code",
   "execution_count": 50,
   "metadata": {},
   "outputs": [],
   "source": [
    "from lattice_and_ops import Lattice\n",
    "lattice = Lattice(SITES)\n",
    "\n",
    "# Construction of custom graph according to tiled lattice structure defined in the Lattice class.\n",
    "edge_colors = []\n",
    "for node in range(SITES):\n",
    "    edge_colors.append([node,lattice.rt(node), 1])  # horizontal connections\n",
    "    edge_colors.append([node,lattice.bot(node), 1]) # vertical connections\n",
    "    row, column = lattice.position(node)\n",
    "    if column%2 == 0:\n",
    "        if row%2 == 0:\n",
    "            edge_colors.append([node,lattice.lrt(node),2]) # diagonal bond\n",
    "        else:\n",
    "            edge_colors.append([node,lattice.llft(node),2]) # diagonal bond\n",
    "\n",
    "g = nk.graph.Graph(edges=edge_colors) #,n_nodes=3)\n",
    "N = g.n_nodes\n",
    "\n",
    "hilbert = nk.hilbert.Spin(s=.5, N=g.n_nodes, total_sz=TOTAL_SZ)"
   ]
  },
  {
   "cell_type": "code",
   "execution_count": 51,
   "metadata": {},
   "outputs": [
    {
     "data": {
      "text/plain": [
       "'alternative (simple) toy lattices'"
      ]
     },
     "execution_count": 51,
     "metadata": {},
     "output_type": "execute_result"
    }
   ],
   "source": [
    "\"\"\"alternative (simple) toy lattices\"\"\"\n",
    "\n",
    "# # two dimers\n",
    "# edge_colors.append([0,1,1])\n",
    "# edge_colors.append([2,3,1])\n",
    "\n",
    "# # SS 2x2 lattice:\n",
    "# edge_colors.append([0,1,1])\n",
    "# edge_colors.append([2,3,1])\n",
    "# edge_colors.append([1,2,1])\n",
    "# edge_colors.append([0,3,1])\n",
    "# edge_colors.append([0,2,2])\n",
    "# edge_colors.append([1,3,2])\n",
    "\n",
    "# # 3-chain:\n",
    "# edge_colors.append([0,1,1])\n",
    "# edge_colors.append([1,2,1])\n",
    "# edge_colors.append([2,0,1])"
   ]
  },
  {
   "cell_type": "markdown",
   "metadata": {},
   "source": [
    "### Characters of the symmetries\n",
    "In case of G-CNN, we need to specify the characters of the symmetry transformations.\n",
    "- DS phase anti-symmetric wrt permutations with negative sign and symmetric wer permutaions with postive sign\n",
    "- AF phase is always symmetric for all permutations  "
   ]
  },
  {
   "cell_type": "code",
   "execution_count": 52,
   "metadata": {},
   "outputs": [
    {
     "name": "stdout",
     "output_type": "stream",
     "text": [
      "There are 64 full symmetries.\n"
     ]
    }
   ],
   "source": [
    "\n",
    "print(\"There are\", len(g.automorphisms()), \"full symmetries.\")\n",
    "# deciding point between DS and AF phase is set to 0.5\n",
    "if JEXCH1 < 0.5:\n",
    "    # DS phase is partly anti-symmetric\n",
    "    characters = []\n",
    "    from lattice_and_ops import permutation_sign\n",
    "    for perm in g.automorphisms():\n",
    "        # print(perm, \"with sign\", permutation_sign(np.asarray(perm)))\n",
    "        characters.append(permutation_sign(np.asarray(perm)))\n",
    "    characters_dimer = np.asarray(characters,dtype=complex)\n",
    "    characters_dimer_msr = characters_dimer\n",
    "else:\n",
    "    # AF phase if fully symmetric\n",
    "    characters_dimer = np.ones((len(g.automorphisms()),), dtype=complex)\n",
    "    characters_dimer_msr = characters_dimer"
   ]
  },
  {
   "cell_type": "markdown",
   "metadata": {},
   "source": [
    "### Translations\n",
    "\n",
    "If we want to include only translations, we have to exclude some symmetries from `g.automorphisms()`.\n",
    "\n",
    "\n",
    "⚠️ TODO ⚠️ <span style=\"color:red\"> This part is not fully automated yet. Translations are currently picked by hand from the group of all automorphisms. </span>"
   ]
  },
  {
   "cell_type": "code",
   "execution_count": 53,
   "metadata": {},
   "outputs": [
    {
     "name": "stdout",
     "output_type": "stream",
     "text": [
      "Out of 64 permutations, 4 translations were picked.\n"
     ]
    }
   ],
   "source": [
    "if MACHINE == \"RBMSymm_transl\" and N != 4:\n",
    "    raise NotImplementedError(\"Extraction of translations from the group of automorphisms is not implemented yet.\")\n",
    "translations = []\n",
    "for perm in g.automorphisms():\n",
    "    aperm = np.asarray(perm)\n",
    "    if (aperm[0],aperm[1]) in ((0,1),(1,0),(2,3),(3,2)): # N = 4\n",
    "    # if (aperm[0],aperm[1],aperm[3]) in ((0,1,3),(2,3,1),(8,9,11),(10,11,9)): # N = 16\n",
    "    # if (aperm[0],aperm[1],aperm[2],aperm[3]) in ((4,7,6,5),): # N = 8\n",
    "    # if (aperm[2],aperm[0]) in ((2,0),(3,0),(0,1),(1,2)):#,(2,3,1)): # N = 16, two dimers with just translation\n",
    "    # if (aperm[0],aperm[1],aperm[3]) in ((0,1,3),(3,2,0),(2,3,1),(1,0,2)): # N = 16, two dimers plus second translation option\n",
    "        translations.append(nk.utils.group._permutation_group.Permutation(aperm))\n",
    "translation_group = nk.utils.group._permutation_group.PermutationGroup(translations,degree=SITES)\n",
    "print(\"Out of\", len(g.automorphisms()), \"permutations,\",len(translation_group), \"translations were picked.\")"
   ]
  },
  {
   "cell_type": "code",
   "execution_count": 54,
   "metadata": {},
   "outputs": [
    {
     "data": {
      "text/plain": [
       "(['1xPermutation([0, 1, 2, 3, 4, 5, 6, 7, 8, 9, 10, 11, 12, 13, 14, 15])',\n",
       "  '4xPermutation([0, 1, 13, 12, 4, 5, 9, 8, 7, 6, 10, 11, 3, 2, 14, 15])',\n",
       "  '4xPermutation([0, 4, 8, 12, 1, 5, 9, 13, 2, 6, 10, 14, 3, 7, 11, 15])',\n",
       "  '8xPermutation([1, 2, 3, 0, 13, 14, 15, 12, 9, 10, 11, 8, 5, 6, 7, 4])',\n",
       "  '8xPermutation([1, 2, 6, 5, 13, 14, 10, 9, 12, 15, 11, 8, 0, 3, 7, 4])',\n",
       "  '4xPermutation([2, 3, 0, 1, 6, 7, 4, 5, 10, 11, 8, 9, 14, 15, 12, 13])',\n",
       "  '8xPermutation([2, 3, 15, 14, 6, 7, 11, 10, 5, 4, 8, 9, 1, 0, 12, 13])',\n",
       "  '4xPermutation([2, 6, 10, 14, 3, 7, 11, 15, 0, 4, 8, 12, 1, 5, 9, 13])',\n",
       "  '8xPermutation([3, 0, 1, 2, 15, 12, 13, 14, 11, 8, 9, 10, 7, 4, 5, 6])',\n",
       "  '8xPermutation([3, 0, 4, 7, 15, 12, 8, 11, 14, 13, 9, 10, 2, 1, 5, 6])',\n",
       "  '2xPermutation([5, 4, 7, 6, 1, 0, 3, 2, 13, 12, 15, 14, 9, 8, 11, 10])',\n",
       "  '4xPermutation([5, 4, 8, 9, 1, 0, 12, 13, 2, 3, 15, 14, 6, 7, 11, 10])',\n",
       "  '1xPermutation([10, 11, 8, 9, 14, 15, 12, 13, 2, 3, 0, 1, 6, 7, 4, 5])'],\n",
       " array([[ 1.+0.j,  1.+0.j,  1.+0.j,  1.+0.j,  1.+0.j,  1.+0.j,  1.+0.j,\n",
       "          1.+0.j,  1.+0.j,  1.+0.j,  1.+0.j,  1.+0.j,  1.+0.j],\n",
       "        [ 1.+0.j,  1.+0.j,  1.+0.j,  0.+1.j,  0.+1.j, -1.+0.j, -1.+0.j,\n",
       "         -1.+0.j,  0.-1.j,  0.-1.j,  1.+0.j,  1.+0.j,  1.+0.j],\n",
       "        [ 1.+0.j,  1.+0.j,  1.+0.j,  0.-1.j,  0.-1.j, -1.+0.j, -1.+0.j,\n",
       "         -1.+0.j,  0.+1.j,  0.+1.j,  1.+0.j,  1.+0.j,  1.+0.j],\n",
       "        [ 1.+0.j,  1.+0.j,  1.+0.j, -1.+0.j, -1.+0.j,  1.+0.j,  1.+0.j,\n",
       "          1.+0.j, -1.+0.j, -1.+0.j,  1.+0.j,  1.+0.j,  1.+0.j],\n",
       "        [ 1.+0.j, -1.+0.j,  1.+0.j,  1.+0.j, -1.+0.j,  1.+0.j, -1.+0.j,\n",
       "          1.+0.j,  1.+0.j, -1.+0.j,  1.+0.j, -1.+0.j,  1.+0.j],\n",
       "        [ 1.+0.j, -1.+0.j,  1.+0.j,  0.+1.j,  0.-1.j, -1.+0.j,  1.+0.j,\n",
       "         -1.+0.j,  0.-1.j,  0.+1.j,  1.+0.j, -1.+0.j,  1.+0.j],\n",
       "        [ 1.+0.j, -1.+0.j,  1.+0.j,  0.-1.j,  0.+1.j, -1.+0.j,  1.+0.j,\n",
       "         -1.+0.j,  0.+1.j,  0.-1.j,  1.+0.j, -1.+0.j,  1.+0.j],\n",
       "        [ 1.+0.j, -1.+0.j,  1.+0.j, -1.+0.j,  1.+0.j,  1.+0.j, -1.+0.j,\n",
       "          1.+0.j, -1.+0.j,  1.+0.j,  1.+0.j, -1.+0.j,  1.+0.j],\n",
       "        [ 2.+0.j,  0.+0.j, -2.+0.j,  0.+0.j,  0.+0.j,  2.+0.j,  0.+0.j,\n",
       "         -2.+0.j,  0.+0.j,  0.+0.j,  2.+0.j,  0.+0.j,  2.+0.j],\n",
       "        [ 2.+0.j,  0.+0.j, -2.+0.j,  0.+0.j,  0.+0.j, -2.+0.j,  0.+0.j,\n",
       "          2.+0.j,  0.+0.j,  0.+0.j,  2.+0.j,  0.+0.j,  2.+0.j],\n",
       "        [ 4.+0.j,  2.+0.j,  0.+0.j,  0.+0.j,  0.+0.j,  0.+0.j,  0.+0.j,\n",
       "          0.+0.j,  0.+0.j,  0.+0.j,  0.+0.j, -2.+0.j, -4.+0.j],\n",
       "        [ 4.+0.j,  0.+0.j,  0.+0.j,  0.+0.j,  0.+0.j,  0.+0.j,  0.+0.j,\n",
       "          0.+0.j,  0.+0.j,  0.+0.j, -4.+0.j,  0.+0.j,  4.+0.j],\n",
       "        [ 4.+0.j, -2.+0.j,  0.+0.j,  0.+0.j,  0.+0.j,  0.+0.j,  0.+0.j,\n",
       "          0.+0.j,  0.+0.j,  0.+0.j,  0.+0.j,  2.+0.j, -4.+0.j]]))"
      ]
     },
     "execution_count": 54,
     "metadata": {},
     "output_type": "execute_result"
    }
   ],
   "source": [
    "g.automorphisms().character_table_readable()"
   ]
  },
  {
   "cell_type": "code",
   "execution_count": 55,
   "metadata": {},
   "outputs": [
    {
     "data": {
      "text/plain": [
       "array([[ 1.+0.j,  1.+0.j,  1.+0.j,  1.+0.j,  1.+0.j,  1.+0.j,  1.+0.j,\n",
       "         1.+0.j,  1.+0.j,  1.+0.j,  1.+0.j,  1.+0.j,  1.+0.j,  1.+0.j,\n",
       "         1.+0.j,  1.+0.j,  1.+0.j,  1.+0.j,  1.+0.j,  1.+0.j,  1.+0.j,\n",
       "         1.+0.j,  1.+0.j,  1.+0.j,  1.+0.j,  1.+0.j,  1.+0.j,  1.+0.j,\n",
       "         1.+0.j,  1.+0.j,  1.+0.j,  1.+0.j,  1.+0.j,  1.+0.j,  1.+0.j,\n",
       "         1.+0.j,  1.+0.j,  1.+0.j,  1.+0.j,  1.+0.j,  1.+0.j,  1.+0.j,\n",
       "         1.+0.j,  1.+0.j,  1.+0.j,  1.+0.j,  1.+0.j,  1.+0.j,  1.+0.j,\n",
       "         1.+0.j,  1.+0.j,  1.+0.j,  1.+0.j,  1.+0.j,  1.+0.j,  1.+0.j,\n",
       "         1.+0.j,  1.+0.j,  1.+0.j,  1.+0.j,  1.+0.j,  1.+0.j,  1.+0.j,\n",
       "         1.+0.j],\n",
       "       [ 1.+0.j,  1.+0.j,  1.+0.j,  1.+0.j,  0.+1.j,  0.+1.j,  0.+1.j,\n",
       "         0.+1.j, -1.+0.j, -1.+0.j, -1.+0.j, -1.+0.j,  0.-1.j,  0.-1.j,\n",
       "         0.-1.j,  0.-1.j,  0.+1.j,  0.+1.j,  0.+1.j,  0.+1.j,  1.+0.j,\n",
       "         1.+0.j,  1.+0.j,  1.+0.j,  0.-1.j,  0.-1.j,  0.-1.j,  0.-1.j,\n",
       "        -1.+0.j, -1.+0.j, -1.+0.j, -1.+0.j, -1.+0.j, -1.+0.j, -1.+0.j,\n",
       "        -1.+0.j,  0.-1.j,  0.-1.j,  0.-1.j,  0.-1.j,  1.+0.j,  1.+0.j,\n",
       "         1.+0.j,  1.+0.j,  0.+1.j,  0.+1.j,  0.+1.j,  0.+1.j,  0.-1.j,\n",
       "         0.-1.j,  0.-1.j,  0.-1.j, -1.+0.j, -1.+0.j, -1.+0.j, -1.+0.j,\n",
       "         0.+1.j,  0.+1.j,  0.+1.j,  0.+1.j,  1.+0.j,  1.+0.j,  1.+0.j,\n",
       "         1.+0.j],\n",
       "       [ 1.+0.j,  1.+0.j,  1.+0.j,  1.+0.j,  0.-1.j,  0.-1.j,  0.-1.j,\n",
       "         0.-1.j, -1.+0.j, -1.+0.j, -1.+0.j, -1.+0.j,  0.+1.j,  0.+1.j,\n",
       "         0.+1.j,  0.+1.j,  0.-1.j,  0.-1.j,  0.-1.j,  0.-1.j,  1.+0.j,\n",
       "         1.+0.j,  1.+0.j,  1.+0.j,  0.+1.j,  0.+1.j,  0.+1.j,  0.+1.j,\n",
       "        -1.+0.j, -1.+0.j, -1.+0.j, -1.+0.j, -1.+0.j, -1.+0.j, -1.+0.j,\n",
       "        -1.+0.j,  0.+1.j,  0.+1.j,  0.+1.j,  0.+1.j,  1.+0.j,  1.+0.j,\n",
       "         1.+0.j,  1.+0.j,  0.-1.j,  0.-1.j,  0.-1.j,  0.-1.j,  0.+1.j,\n",
       "         0.+1.j,  0.+1.j,  0.+1.j, -1.+0.j, -1.+0.j, -1.+0.j, -1.+0.j,\n",
       "         0.-1.j,  0.-1.j,  0.-1.j,  0.-1.j,  1.+0.j,  1.+0.j,  1.+0.j,\n",
       "         1.+0.j],\n",
       "       [ 1.+0.j,  1.+0.j,  1.+0.j,  1.+0.j, -1.+0.j, -1.+0.j, -1.+0.j,\n",
       "        -1.+0.j,  1.+0.j,  1.+0.j,  1.+0.j,  1.+0.j, -1.+0.j, -1.+0.j,\n",
       "        -1.+0.j, -1.+0.j, -1.+0.j, -1.+0.j, -1.+0.j, -1.+0.j,  1.+0.j,\n",
       "         1.+0.j,  1.+0.j,  1.+0.j, -1.+0.j, -1.+0.j, -1.+0.j, -1.+0.j,\n",
       "         1.+0.j,  1.+0.j,  1.+0.j,  1.+0.j,  1.+0.j,  1.+0.j,  1.+0.j,\n",
       "         1.+0.j, -1.+0.j, -1.+0.j, -1.+0.j, -1.+0.j,  1.+0.j,  1.+0.j,\n",
       "         1.+0.j,  1.+0.j, -1.+0.j, -1.+0.j, -1.+0.j, -1.+0.j, -1.+0.j,\n",
       "        -1.+0.j, -1.+0.j, -1.+0.j,  1.+0.j,  1.+0.j,  1.+0.j,  1.+0.j,\n",
       "        -1.+0.j, -1.+0.j, -1.+0.j, -1.+0.j,  1.+0.j,  1.+0.j,  1.+0.j,\n",
       "         1.+0.j],\n",
       "       [ 1.+0.j, -1.+0.j, -1.+0.j,  1.+0.j,  1.+0.j, -1.+0.j,  1.+0.j,\n",
       "        -1.+0.j,  1.+0.j, -1.+0.j, -1.+0.j,  1.+0.j,  1.+0.j, -1.+0.j,\n",
       "         1.+0.j, -1.+0.j, -1.+0.j,  1.+0.j, -1.+0.j,  1.+0.j, -1.+0.j,\n",
       "         1.+0.j,  1.+0.j, -1.+0.j, -1.+0.j,  1.+0.j, -1.+0.j,  1.+0.j,\n",
       "        -1.+0.j,  1.+0.j,  1.+0.j, -1.+0.j, -1.+0.j,  1.+0.j,  1.+0.j,\n",
       "        -1.+0.j,  1.+0.j, -1.+0.j,  1.+0.j, -1.+0.j, -1.+0.j,  1.+0.j,\n",
       "         1.+0.j, -1.+0.j,  1.+0.j, -1.+0.j,  1.+0.j, -1.+0.j, -1.+0.j,\n",
       "         1.+0.j, -1.+0.j,  1.+0.j,  1.+0.j, -1.+0.j, -1.+0.j,  1.+0.j,\n",
       "        -1.+0.j,  1.+0.j, -1.+0.j,  1.+0.j,  1.+0.j, -1.+0.j, -1.+0.j,\n",
       "         1.+0.j],\n",
       "       [ 1.+0.j, -1.+0.j, -1.+0.j,  1.+0.j,  0.+1.j,  0.-1.j,  0.+1.j,\n",
       "         0.-1.j, -1.+0.j,  1.+0.j,  1.+0.j, -1.+0.j,  0.-1.j,  0.+1.j,\n",
       "         0.-1.j,  0.+1.j,  0.-1.j,  0.+1.j,  0.-1.j,  0.+1.j, -1.+0.j,\n",
       "         1.+0.j,  1.+0.j, -1.+0.j,  0.+1.j,  0.-1.j,  0.+1.j,  0.-1.j,\n",
       "         1.+0.j, -1.+0.j, -1.+0.j,  1.+0.j,  1.+0.j, -1.+0.j, -1.+0.j,\n",
       "         1.+0.j,  0.-1.j,  0.+1.j,  0.-1.j,  0.+1.j, -1.+0.j,  1.+0.j,\n",
       "         1.+0.j, -1.+0.j,  0.+1.j,  0.-1.j,  0.+1.j,  0.-1.j,  0.+1.j,\n",
       "         0.-1.j,  0.+1.j,  0.-1.j, -1.+0.j,  1.+0.j,  1.+0.j, -1.+0.j,\n",
       "         0.-1.j,  0.+1.j,  0.-1.j,  0.+1.j,  1.+0.j, -1.+0.j, -1.+0.j,\n",
       "         1.+0.j],\n",
       "       [ 1.+0.j, -1.+0.j, -1.+0.j,  1.+0.j,  0.-1.j,  0.+1.j,  0.-1.j,\n",
       "         0.+1.j, -1.+0.j,  1.+0.j,  1.+0.j, -1.+0.j,  0.+1.j,  0.-1.j,\n",
       "         0.+1.j,  0.-1.j,  0.+1.j,  0.-1.j,  0.+1.j,  0.-1.j, -1.+0.j,\n",
       "         1.+0.j,  1.+0.j, -1.+0.j,  0.-1.j,  0.+1.j,  0.-1.j,  0.+1.j,\n",
       "         1.+0.j, -1.+0.j, -1.+0.j,  1.+0.j,  1.+0.j, -1.+0.j, -1.+0.j,\n",
       "         1.+0.j,  0.+1.j,  0.-1.j,  0.+1.j,  0.-1.j, -1.+0.j,  1.+0.j,\n",
       "         1.+0.j, -1.+0.j,  0.-1.j,  0.+1.j,  0.-1.j,  0.+1.j,  0.-1.j,\n",
       "         0.+1.j,  0.-1.j,  0.+1.j, -1.+0.j,  1.+0.j,  1.+0.j, -1.+0.j,\n",
       "         0.+1.j,  0.-1.j,  0.+1.j,  0.-1.j,  1.+0.j, -1.+0.j, -1.+0.j,\n",
       "         1.+0.j],\n",
       "       [ 1.+0.j, -1.+0.j, -1.+0.j,  1.+0.j, -1.+0.j,  1.+0.j, -1.+0.j,\n",
       "         1.+0.j,  1.+0.j, -1.+0.j, -1.+0.j,  1.+0.j, -1.+0.j,  1.+0.j,\n",
       "        -1.+0.j,  1.+0.j,  1.+0.j, -1.+0.j,  1.+0.j, -1.+0.j, -1.+0.j,\n",
       "         1.+0.j,  1.+0.j, -1.+0.j,  1.+0.j, -1.+0.j,  1.+0.j, -1.+0.j,\n",
       "        -1.+0.j,  1.+0.j,  1.+0.j, -1.+0.j, -1.+0.j,  1.+0.j,  1.+0.j,\n",
       "        -1.+0.j, -1.+0.j,  1.+0.j, -1.+0.j,  1.+0.j, -1.+0.j,  1.+0.j,\n",
       "         1.+0.j, -1.+0.j, -1.+0.j,  1.+0.j, -1.+0.j,  1.+0.j,  1.+0.j,\n",
       "        -1.+0.j,  1.+0.j, -1.+0.j,  1.+0.j, -1.+0.j, -1.+0.j,  1.+0.j,\n",
       "         1.+0.j, -1.+0.j,  1.+0.j, -1.+0.j,  1.+0.j, -1.+0.j, -1.+0.j,\n",
       "         1.+0.j],\n",
       "       [ 2.+0.j,  0.+0.j,  0.+0.j, -2.+0.j,  0.+0.j,  0.+0.j,  0.+0.j,\n",
       "         0.+0.j,  2.+0.j,  0.+0.j,  0.+0.j, -2.+0.j,  0.+0.j,  0.+0.j,\n",
       "         0.+0.j,  0.+0.j,  0.+0.j,  0.+0.j,  0.+0.j,  0.+0.j,  0.+0.j,\n",
       "        -2.+0.j,  2.+0.j,  0.+0.j,  0.+0.j,  0.+0.j,  0.+0.j,  0.+0.j,\n",
       "         0.+0.j, -2.+0.j,  2.+0.j,  0.+0.j,  0.+0.j,  2.+0.j, -2.+0.j,\n",
       "         0.+0.j,  0.+0.j,  0.+0.j,  0.+0.j,  0.+0.j,  0.+0.j,  2.+0.j,\n",
       "        -2.+0.j,  0.+0.j,  0.+0.j,  0.+0.j,  0.+0.j,  0.+0.j,  0.+0.j,\n",
       "         0.+0.j,  0.+0.j,  0.+0.j, -2.+0.j,  0.+0.j,  0.+0.j,  2.+0.j,\n",
       "         0.+0.j,  0.+0.j,  0.+0.j,  0.+0.j, -2.+0.j,  0.+0.j,  0.+0.j,\n",
       "         2.+0.j],\n",
       "       [ 2.+0.j,  0.+0.j,  0.+0.j, -2.+0.j,  0.+0.j,  0.+0.j,  0.+0.j,\n",
       "         0.+0.j, -2.+0.j,  0.+0.j,  0.+0.j,  2.+0.j,  0.+0.j,  0.+0.j,\n",
       "         0.+0.j,  0.+0.j,  0.+0.j,  0.+0.j,  0.+0.j,  0.+0.j,  0.+0.j,\n",
       "        -2.+0.j,  2.+0.j,  0.+0.j,  0.+0.j,  0.+0.j,  0.+0.j,  0.+0.j,\n",
       "         0.+0.j,  2.+0.j, -2.+0.j,  0.+0.j,  0.+0.j, -2.+0.j,  2.+0.j,\n",
       "         0.+0.j,  0.+0.j,  0.+0.j,  0.+0.j,  0.+0.j,  0.+0.j,  2.+0.j,\n",
       "        -2.+0.j,  0.+0.j,  0.+0.j,  0.+0.j,  0.+0.j,  0.+0.j,  0.+0.j,\n",
       "         0.+0.j,  0.+0.j,  0.+0.j,  2.+0.j,  0.+0.j,  0.+0.j, -2.+0.j,\n",
       "         0.+0.j,  0.+0.j,  0.+0.j,  0.+0.j, -2.+0.j,  0.+0.j,  0.+0.j,\n",
       "         2.+0.j],\n",
       "       [ 4.+0.j,  2.+0.j,  2.+0.j,  0.+0.j,  0.+0.j,  0.+0.j,  0.+0.j,\n",
       "         0.+0.j,  0.+0.j,  0.+0.j,  0.+0.j,  0.+0.j,  0.+0.j,  0.+0.j,\n",
       "         0.+0.j,  0.+0.j,  0.+0.j,  0.+0.j,  0.+0.j,  0.+0.j,  2.+0.j,\n",
       "         0.+0.j,  0.+0.j, -2.+0.j,  0.+0.j,  0.+0.j,  0.+0.j,  0.+0.j,\n",
       "         0.+0.j,  0.+0.j,  0.+0.j,  0.+0.j,  0.+0.j,  0.+0.j,  0.+0.j,\n",
       "         0.+0.j,  0.+0.j,  0.+0.j,  0.+0.j,  0.+0.j, -2.+0.j, -4.+0.j,\n",
       "         0.+0.j, -2.+0.j,  0.+0.j,  0.+0.j,  0.+0.j,  0.+0.j,  0.+0.j,\n",
       "         0.+0.j,  0.+0.j,  0.+0.j,  0.+0.j,  0.+0.j,  0.+0.j,  0.+0.j,\n",
       "         0.+0.j,  0.+0.j,  0.+0.j,  0.+0.j,  0.+0.j, -2.+0.j,  2.+0.j,\n",
       "         0.+0.j],\n",
       "       [ 4.+0.j,  0.+0.j,  0.+0.j,  0.+0.j,  0.+0.j,  0.+0.j,  0.+0.j,\n",
       "         0.+0.j,  0.+0.j,  0.+0.j,  0.+0.j,  0.+0.j,  0.+0.j,  0.+0.j,\n",
       "         0.+0.j,  0.+0.j,  0.+0.j,  0.+0.j,  0.+0.j,  0.+0.j,  0.+0.j,\n",
       "         0.+0.j, -4.+0.j,  0.+0.j,  0.+0.j,  0.+0.j,  0.+0.j,  0.+0.j,\n",
       "         0.+0.j,  0.+0.j,  0.+0.j,  0.+0.j,  0.+0.j,  0.+0.j,  0.+0.j,\n",
       "         0.+0.j,  0.+0.j,  0.+0.j,  0.+0.j,  0.+0.j,  0.+0.j,  4.+0.j,\n",
       "         0.+0.j,  0.+0.j,  0.+0.j,  0.+0.j,  0.+0.j,  0.+0.j,  0.+0.j,\n",
       "         0.+0.j,  0.+0.j,  0.+0.j,  0.+0.j,  0.+0.j,  0.+0.j,  0.+0.j,\n",
       "         0.+0.j,  0.+0.j,  0.+0.j,  0.+0.j,  0.+0.j,  0.+0.j,  0.+0.j,\n",
       "        -4.+0.j],\n",
       "       [ 4.+0.j, -2.+0.j, -2.+0.j,  0.+0.j,  0.+0.j,  0.+0.j,  0.+0.j,\n",
       "         0.+0.j,  0.+0.j,  0.+0.j,  0.+0.j,  0.+0.j,  0.+0.j,  0.+0.j,\n",
       "         0.+0.j,  0.+0.j,  0.+0.j,  0.+0.j,  0.+0.j,  0.+0.j, -2.+0.j,\n",
       "         0.+0.j,  0.+0.j,  2.+0.j,  0.+0.j,  0.+0.j,  0.+0.j,  0.+0.j,\n",
       "         0.+0.j,  0.+0.j,  0.+0.j,  0.+0.j,  0.+0.j,  0.+0.j,  0.+0.j,\n",
       "         0.+0.j,  0.+0.j,  0.+0.j,  0.+0.j,  0.+0.j,  2.+0.j, -4.+0.j,\n",
       "         0.+0.j,  2.+0.j,  0.+0.j,  0.+0.j,  0.+0.j,  0.+0.j,  0.+0.j,\n",
       "         0.+0.j,  0.+0.j,  0.+0.j,  0.+0.j,  0.+0.j,  0.+0.j,  0.+0.j,\n",
       "         0.+0.j,  0.+0.j,  0.+0.j,  0.+0.j,  0.+0.j,  2.+0.j, -2.+0.j,\n",
       "         0.+0.j]])"
      ]
     },
     "execution_count": 55,
     "metadata": {},
     "output_type": "execute_result"
    }
   ],
   "source": [
    "g.automorphisms().character_table()"
   ]
  },
  {
   "cell_type": "markdown",
   "metadata": {},
   "source": [
    "## Hamoltonian definition\n",
    "$$ H = J_{1} \\sum\\limits_{\\langle i,j \\rangle}^{L} \\vec{\\sigma}_{i} \\cdot \\vec{\\sigma}_{j} + J_{2} \\sum\\limits_{\\langle\\langle i,j \\rangle\\rangle_{SS}}^{L}  \\vec{\\sigma}_{i} \\cdot \\vec{\\sigma}_{j}\\,. $$\n",
    "\n",
    "Axiliary constant operators used to define hamiltonian are loaded from the external file, they are pre-defined in the `HamOps` class."
   ]
  },
  {
   "cell_type": "code",
   "execution_count": 56,
   "metadata": {},
   "outputs": [],
   "source": [
    "from lattice_and_ops import HamOps\n",
    "ho = HamOps()\n",
    "ha_1 = nk.operator.GraphOperator(hilbert, graph=g, bond_ops=ho.bond_operator(JEXCH1,JEXCH2, use_MSR=False), bond_ops_colors=ho.bond_color)\n",
    "ha_2 = nk.operator.GraphOperator(hilbert, graph=g, bond_ops=ho.bond_operator(JEXCH1,JEXCH2, use_MSR=True), bond_ops_colors=ho.bond_color)\n"
   ]
  },
  {
   "cell_type": "markdown",
   "metadata": {},
   "source": [
    "## Exact diagonalization"
   ]
  },
  {
   "cell_type": "code",
   "execution_count": 57,
   "metadata": {},
   "outputs": [
    {
     "name": "stdout",
     "output_type": "stream",
     "text": [
      "Ground state energy: -34.08190778603119 \n",
      "It took  1.49 s = 0.02 min\n"
     ]
    }
   ],
   "source": [
    "if g.n_nodes < 20:\n",
    "    start = time.time()\n",
    "    if g.n_nodes < 15:\n",
    "        evals, eigvects = nk.exact.full_ed(ha_1, compute_eigenvectors=True)\n",
    "    else:\n",
    "        evals, eigvects = nk.exact.lanczos_ed(ha_1, k=3, compute_eigenvectors=True)\n",
    "    end = time.time()\n",
    "    diag_time = end - start\n",
    "    print(\"Ground state energy:\",evals[0], \"\\nIt took \", round(diag_time,2), \"s =\", round((diag_time)/60,2),\"min\")\n",
    "else:\n",
    "    print(\"System is too large for exact diagonalization. Setting exact_ground_energy = 0 (which is wrong)\")\n",
    "    evals = [0,0,0]\n",
    "    eigvects = None \n",
    "exact_ground_energy = evals[0]"
   ]
  },
  {
   "cell_type": "markdown",
   "metadata": {},
   "source": [
    "## Machine definition and other auxiliary `netket` objects\n",
    "We define two sets of these objects, usually: \n",
    "- variables ending with ...`_1` belongs to the choice of standard basis,\n",
    "- variables ending with ...`_2` belongs to the choice of MSR basis.\n",
    "\n",
    "But they can be used in a different way when we need to compare two different models."
   ]
  },
  {
   "cell_type": "code",
   "execution_count": 58,
   "metadata": {},
   "outputs": [],
   "source": [
    "optimizer_1 = nk.optimizer.Sgd(learning_rate=ETA)\n",
    "optimizer_2 = nk.optimizer.Sgd(learning_rate=ETA)\n",
    "\n",
    "# Selection of machine type\n",
    "if MACHINE == \"RBM\":\n",
    "    machine_1 = nk.models.RBM(dtype=DTYPE, alpha=ALPHA)#, use_visible_bias=False) \n",
    "    machine_2 = nk.models.RBM(dtype=DTYPE, alpha=ALPHA)#, use_visible_bias=False)\n",
    "elif MACHINE == \"RBMSymm\":\n",
    "    machine_1 = nk.models.RBMSymm(g.automorphisms(), dtype=DTYPE, alpha=ALPHA)#, use_visible_bias=False) \n",
    "    machine_2 = nk.models.RBMSymm(g.automorphisms(), dtype=DTYPE, alpha=ALPHA)#, use_visible_bias=False)\n",
    "elif MACHINE == \"RBMSymm_transl\":\n",
    "    machine_1 = nk.models.RBMSymm(translation_group, dtype=DTYPE, alpha=ALPHA)#, use_visible_bias=False) \n",
    "    machine_2 = nk.models.RBMSymm(translation_group, dtype=DTYPE, alpha=ALPHA)#, use_visible_bias=False)\n",
    "elif MACHINE == \"GCNN\":\n",
    "    machine_1 = nk.models.GCNN(symmetries=g.automorphisms(), dtype=DTYPE, \n",
    "        layers=N_LAYERS, features=FEATURES, characters=characters_dimer    )#, output_activation=log_cosh)\n",
    "    machine_2 = nk.models.GCNN(symmetries=g.automorphisms(), dtype=DTYPE, \n",
    "        layers=N_LAYERS, features=FEATURES, characters=characters_dimer_msr)#, output_activation=log_cosh)\n",
    "elif MACHINE == \"symmetrized-RBM\":\n",
    "    no_of_filters = int(ALPHA/len(characters_dimer))\n",
    "    if ALPHA%len(characters_dimer) != 0:\n",
    "        raise Exception(\"Invalid ALPHA. It needs to be divisible by the number of symmetries!\")\n",
    "    from netket.nn import log_cosh\n",
    "    def identity(x):\n",
    "        return x\n",
    "    from GCNN_Nomura import GCNN_my\n",
    "    machine_1 = GCNN_my(symmetries=g.automorphisms(), dtype=DTYPE, layers=1, features=no_of_filters, \n",
    "        characters=characters_dimer, output_activation=log_cosh, use_bias=True, use_visible_bias=True)\n",
    "    machine_2 = GCNN_my(symmetries=g.automorphisms(), dtype=DTYPE, layers=1, features=no_of_filters, \n",
    "        characters=characters_dimer, output_activation=log_cosh, use_bias=True, use_visible_bias=True)\n",
    "elif MACHINE == \"Jastrow\":\n",
    "    from lattice_and_ops import Jastrow\n",
    "    machine_1 = Jastrow()\n",
    "    machine_2 = Jastrow()\n",
    "elif MACHINE == \"RBMModPhase\":\n",
    "    machine_1 = nk.models.RBMModPhase(alpha=ALPHA, use_hidden_bias=True, dtype=DTYPE)\n",
    "    machine_2 = nk.models.RBMModPhase(alpha=ALPHA, use_hidden_bias=True, dtype=DTYPE)\n",
    "\n",
    "    # A linear schedule varies the learning rate from 0 to 0.01 across 600 steps.\n",
    "    modulus_schedule_1=optax.linear_schedule(0,0.01,NUM_ITER)\n",
    "    modulus_schedule_2=optax.linear_schedule(0,0.01,NUM_ITER)\n",
    "    # The phase starts with a larger learning rate and then is decreased.\n",
    "    phase_schedule_1=optax.linear_schedule(0.05,0.01,NUM_ITER)\n",
    "    phase_schedule_2=optax.linear_schedule(0.05,0.01,NUM_ITER)\n",
    "    # Combine the linear schedule with SGD\n",
    "    optm_1=optax.sgd(modulus_schedule_1)\n",
    "    optp_1=optax.sgd(phase_schedule_1)\n",
    "    optm_2=optax.sgd(modulus_schedule_2)\n",
    "    optp_2=optax.sgd(phase_schedule_2)\n",
    "    # The multi-transform optimizer uses different optimisers for different parts of the parameters.\n",
    "    optimizer_1 = optax.multi_transform({'o1': optm_1, 'o2': optp_1}, flax.core.freeze({\"Dense_0\":\"o1\", \"Dense_1\":\"o2\"}))\n",
    "    optimizer_2 = optax.multi_transform({'o1': optm_2, 'o2': optp_2}, flax.core.freeze({\"Dense_0\":\"o1\", \"Dense_1\":\"o2\"}))\n",
    "else:\n",
    "    raise Exception(str(\"undefined MACHINE: \")+str(MACHINE))\n",
    "\n",
    "# Selection of sampler type\n",
    "if SAMPLER == 'local':\n",
    "    sampler_1 = nk.sampler.MetropolisLocal(hilbert=hilbert)\n",
    "    sampler_2 = nk.sampler.MetropolisLocal(hilbert=hilbert)\n",
    "elif SAMPLER == 'exact':\n",
    "    sampler_1 = nk.sampler.ExactSampler(hilbert=hilbert)\n",
    "    sampler_2 = nk.sampler.ExactSampler(hilbert=hilbert)\n",
    "else:\n",
    "    sampler_1 = nk.sampler.MetropolisExchange(hilbert=hilbert, graph=g)\n",
    "    sampler_2 = nk.sampler.MetropolisExchange(hilbert=hilbert, graph=g)\n",
    "    if SAMPLER != 'exchange':\n",
    "        print(\"Warning! Undefined fq.SAMPLER:\", SAMPLER, \", dafaulting to MetropolisExchange fq.SAMPLER\")\n",
    "\n",
    "\n",
    "# Stochastic Reconfiguration as a preconditioner\n",
    "sr_1  = nk.optimizer.SR(diag_shift=0.01)\n",
    "sr_2  = nk.optimizer.SR(diag_shift=0.01)\n",
    "\n",
    "# The variational state (former name: nk.variational.MCState)\n",
    "vs_1 = nk.vqs.MCState(sampler_1 , machine_1 , n_samples=SAMPLES)\n",
    "vs_2  = nk.vqs.MCState(sampler_2 , machine_2 , n_samples=SAMPLES)\n",
    "vs_1.init_parameters(jax.nn.initializers.normal(stddev=0.001))\n",
    "vs_2.init_parameters(jax.nn.initializers.normal(stddev=0.001))\n",
    "\n",
    "\n",
    "gs_1 = nk.VMC(hamiltonian=ha_1 ,optimizer=optimizer_1 ,preconditioner=sr_1 ,variational_state=vs_1)\n",
    "gs_2 = nk.VMC(hamiltonian=ha_2 ,optimizer=optimizer_2 ,preconditioner=sr_2 ,variational_state=vs_2) "
   ]
  },
  {
   "cell_type": "code",
   "execution_count": 59,
   "metadata": {},
   "outputs": [
    {
     "name": "stdout",
     "output_type": "stream",
     "text": [
      "84 84\n"
     ]
    }
   ],
   "source": [
    "print(vs_1.n_parameters, vs_2.n_parameters)"
   ]
  },
  {
   "cell_type": "markdown",
   "metadata": {},
   "source": [
    "# Calculation\n",
    "We let the calculation run for `NUM_ITERS` iterations for both cases _1 and _2 (without MSR and with MSR). If only one case is desired, set the variable `no_of_runs` to 1."
   ]
  },
  {
   "cell_type": "code",
   "execution_count": 60,
   "metadata": {},
   "outputs": [
    {
     "name": "stdout",
     "output_type": "stream",
     "text": [
      "J_1 = 0.9; Expected exact energy: -34.08190778603119\n"
     ]
    },
    {
     "name": "stderr",
     "output_type": "stream",
     "text": [
      "  0%|          | 0/400 [00:00<?, ?it/s]"
     ]
    },
    {
     "name": "stdout",
     "output_type": "stream",
     "text": [
      "x=Traced<ShapedArray(complex128[4])>with<DynamicJaxprTrace(level=0/1)>  target=Traced<ShapedArray(complex128[4])>with<DynamicJaxprTrace(level=0/1)>\n",
      "x=Traced<ShapedArray(complex128[4,1,16])>with<DynamicJaxprTrace(level=0/1)>  target=Traced<ShapedArray(complex128[4,1,16])>with<DynamicJaxprTrace(level=0/1)>\n",
      "x=Traced<ShapedArray(complex128[16])>with<DynamicJaxprTrace(level=0/1)>  target=Traced<ShapedArray(complex128[16])>with<DynamicJaxprTrace(level=0/1)>\n",
      "x=Traced<ShapedArray(complex128[4])>with<DynamicJaxprTrace(level=1/2)>  target=Traced<ShapedArray(complex128[4])>with<DynamicJaxprTrace(level=1/2)>\n",
      "x=Traced<ShapedArray(complex128[4,1,16])>with<DynamicJaxprTrace(level=1/2)>  target=Traced<ShapedArray(complex128[4,1,16])>with<DynamicJaxprTrace(level=1/2)>\n",
      "x=Traced<ShapedArray(complex128[16])>with<DynamicJaxprTrace(level=1/2)>  target=Traced<ShapedArray(complex128[16])>with<DynamicJaxprTrace(level=1/2)>\n",
      "x=Traced<ShapedArray(complex128[4])>with<DynamicJaxprTrace(level=1/2)>  target=Traced<ShapedArray(complex128[4])>with<DynamicJaxprTrace(level=1/2)>\n",
      "x=Traced<ShapedArray(complex128[4,1,16])>with<DynamicJaxprTrace(level=1/2)>  target=Traced<ShapedArray(complex128[4,1,16])>with<DynamicJaxprTrace(level=1/2)>\n",
      "x=Traced<ShapedArray(complex128[16])>with<DynamicJaxprTrace(level=1/2)>  target=Traced<ShapedArray(complex128[16])>with<DynamicJaxprTrace(level=1/2)>\n",
      "x=Traced<ShapedArray(complex128[4])>with<DynamicJaxprTrace(level=2/2)>  target=Traced<ShapedArray(complex128[4])>with<DynamicJaxprTrace(level=2/2)>\n",
      "x=Traced<ShapedArray(complex128[4,1,16])>with<DynamicJaxprTrace(level=2/2)>  target=Traced<ShapedArray(complex128[4,1,16])>with<DynamicJaxprTrace(level=2/2)>\n",
      "x=Traced<ShapedArray(complex128[16])>with<DynamicJaxprTrace(level=2/2)>  target=Traced<ShapedArray(complex128[16])>with<DynamicJaxprTrace(level=2/2)>\n",
      "x=Traced<ShapedArray(complex128[4]):JaxprTrace(level=1/2)>  target=Traced<ShapedArray(complex128[4]):JaxprTrace(level=1/2)>\n",
      "x=Traced<ShapedArray(complex128[4,1,16]):JaxprTrace(level=1/2)>  target=Traced<ShapedArray(complex128[4,1,16]):JaxprTrace(level=1/2)>\n",
      "x=Traced<ShapedArray(complex128[16]):JaxprTrace(level=1/2)>  target=Traced<ShapedArray(complex128[16]):JaxprTrace(level=1/2)>\n"
     ]
    },
    {
     "name": "stderr",
     "output_type": "stream",
     "text": [
      "100%|██████████| 400/400 [07:00<00:00,  1.05s/it, Energy=-32.73+0.03j ± 0.18 [σ²=36.29]]     \n"
     ]
    },
    {
     "name": "stdout",
     "output_type": "stream",
     "text": [
      "The calculation for symmetrized-RBM of type 1 took 7.146339023113251 min\n"
     ]
    },
    {
     "name": "stderr",
     "output_type": "stream",
     "text": [
      "100%|██████████| 400/400 [07:20<00:00,  1.10s/it, Energy=-32.91+0.08j ± 0.17 [σ²=33.84]]   "
     ]
    },
    {
     "name": "stdout",
     "output_type": "stream",
     "text": [
      "The calculation for symmetrized-RBM of type 2 took 7.3702595392862955 min\n"
     ]
    },
    {
     "name": "stderr",
     "output_type": "stream",
     "text": [
      "\n"
     ]
    }
   ],
   "source": [
    "no_of_runs = 2 # 1 - one run for variables with ..._1;  2 - both runs for variables ..._1 and ..._2\n",
    "run_only_2 = 0 # in case of no_of_runs=1\n",
    "# NUM_ITER = 120#3000\n",
    "print(\"J_1 =\", JEXCH1, end=\"; \")\n",
    "if exact_ground_energy != 0:\n",
    "    print(\"Expected exact energy:\", exact_ground_energy)\n",
    "for i,gs in enumerate([gs_1,gs_2][run_only_2:run_only_2+no_of_runs]):\n",
    "    start = time.time()\n",
    "    gs.run(out=OUT_NAME+str(i), n_iter=int(NUM_ITER))#, obs={'symmetry':P(0,1)})\n",
    "    end = time.time()\n",
    "    print(\"The calculation for {} of type {} took {} min\".format(MACHINE, i+1, (end-start)/60))\n"
   ]
  },
  {
   "cell_type": "markdown",
   "metadata": {},
   "source": [
    "## Energy Convergence Plotting\n",
    "In case that the machine did not converge, we can re-run the previous cell and than skip the next cell. This way, the replotting just appends the new results and does not erase the previoius results. "
   ]
  },
  {
   "cell_type": "code",
   "execution_count": 61,
   "metadata": {},
   "outputs": [],
   "source": [
    "# Exact Energy Line\n",
    "no_of_all_iters = NUM_ITER\n",
    "figure = go.Figure(\n",
    "    data=[\n",
    "        go.Scatter(\n",
    "            x=(0,no_of_all_iters),\n",
    "            y=(exact_ground_energy,exact_ground_energy),\n",
    "            mode=\"lines\",line=go.scatter.Line(color=\"#000000\",width=1), name=\"exact energy\")],\n",
    "    layout=go.Layout(\n",
    "        template=\"simple_white\",\n",
    "        xaxis=dict(title=\"Iteration\", mirror=True, showline=True),\n",
    "        yaxis=dict(title=\"Energy\", mirror=True, showline=True),\n",
    "        title=(\"<b>\"+\"S-S\"+\" model </b>, L=\"+str(SITES)+\", J2 =\"+str(JEXCH2)+ \", J1 =\"+str(JEXCH1)+\" , η=\"+str(ETA)+\", α=\"+str(ALPHA)+\", samples=\"+str(SAMPLES)))\n",
    "    ).add_hline(y=exact_ground_energy, opacity=1, line_width=1)\n"
   ]
  },
  {
   "cell_type": "code",
   "execution_count": 62,
   "metadata": {},
   "outputs": [
    {
     "data": {
      "application/vnd.plotly.v1+json": {
       "config": {
        "plotlyServerURL": "https://plot.ly"
       },
       "data": [
        {
         "line": {
          "color": "#000000",
          "width": 1
         },
         "mode": "lines",
         "name": "exact energy",
         "type": "scatter",
         "x": [
          0,
          400
         ],
         "y": [
          -34.08190778603119,
          -34.08190778603119
         ]
        },
        {
         "name": "1st type",
         "type": "scatter",
         "x": [
          0,
          1,
          2,
          3,
          4,
          5,
          6,
          7,
          8,
          9,
          10,
          11,
          12,
          13,
          14,
          15,
          16,
          17,
          18,
          19,
          20,
          21,
          22,
          23,
          24,
          25,
          26,
          27,
          28,
          29,
          30,
          31,
          32,
          33,
          34,
          35,
          36,
          37,
          38,
          39,
          40,
          41,
          42,
          43,
          44,
          45,
          46,
          47,
          48,
          49,
          50,
          51,
          52,
          53,
          54,
          55,
          56,
          57,
          58,
          59,
          60,
          61,
          62,
          63,
          64,
          65,
          66,
          67,
          68,
          69,
          70,
          71,
          72,
          73,
          74,
          75,
          76,
          77,
          78,
          79,
          80,
          81,
          82,
          83,
          84,
          85,
          86,
          87,
          88,
          89,
          90,
          91,
          92,
          93,
          94,
          95,
          96,
          97,
          98,
          99,
          100,
          101,
          102,
          103,
          104,
          105,
          106,
          107,
          108,
          109,
          110,
          111,
          112,
          113,
          114,
          115,
          116,
          117,
          118,
          119,
          120,
          121,
          122,
          123,
          124,
          125,
          126,
          127,
          128,
          129,
          130,
          131,
          132,
          133,
          134,
          135,
          136,
          137,
          138,
          139,
          140,
          141,
          142,
          143,
          144,
          145,
          146,
          147,
          148,
          149,
          150,
          151,
          152,
          153,
          154,
          155,
          156,
          157,
          158,
          159,
          160,
          161,
          162,
          163,
          164,
          165,
          166,
          167,
          168,
          169,
          170,
          171,
          172,
          173,
          174,
          175,
          176,
          177,
          178,
          179,
          180,
          181,
          182,
          183,
          184,
          185,
          186,
          187,
          188,
          189,
          190,
          191,
          192,
          193,
          194,
          195,
          196,
          197,
          198,
          199,
          200,
          201,
          202,
          203,
          204,
          205,
          206,
          207,
          208,
          209,
          210,
          211,
          212,
          213,
          214,
          215,
          216,
          217,
          218,
          219,
          220,
          221,
          222,
          223,
          224,
          225,
          226,
          227,
          228,
          229,
          230,
          231,
          232,
          233,
          234,
          235,
          236,
          237,
          238,
          239,
          240,
          241,
          242,
          243,
          244,
          245,
          246,
          247,
          248,
          249,
          250,
          251,
          252,
          253,
          254,
          255,
          256,
          257,
          258,
          259,
          260,
          261,
          262,
          263,
          264,
          265,
          266,
          267,
          268,
          269,
          270,
          271,
          272,
          273,
          274,
          275,
          276,
          277,
          278,
          279,
          280,
          281,
          282,
          283,
          284,
          285,
          286,
          287,
          288,
          289,
          290,
          291,
          292,
          293,
          294,
          295,
          296,
          297,
          298,
          299,
          300,
          301,
          302,
          303,
          304,
          305,
          306,
          307,
          308,
          309,
          310,
          311,
          312,
          313,
          314,
          315,
          316,
          317,
          318,
          319,
          320,
          321,
          322,
          323,
          324,
          325,
          326,
          327,
          328,
          329,
          330,
          331,
          332,
          333,
          334,
          335,
          336,
          337,
          338,
          339,
          340,
          341,
          342,
          343,
          344,
          345,
          346,
          347,
          348,
          349,
          350,
          351,
          352,
          353,
          354,
          355,
          356,
          357,
          358,
          359,
          360,
          361,
          362,
          363,
          364,
          365,
          366,
          367,
          368,
          369,
          370,
          371,
          372,
          373,
          374,
          375,
          376,
          377,
          378,
          379,
          380,
          381,
          382,
          383,
          384,
          385,
          386,
          387,
          388,
          389,
          390,
          391,
          392,
          393,
          394,
          395,
          396,
          397,
          398,
          399
         ],
         "y": [
          36.79931667510249,
          36.80019817426176,
          36.80035707863769,
          36.800245147769445,
          36.79909321848586,
          36.80143381045913,
          36.800694461483744,
          36.79837215487193,
          36.797761117070436,
          36.80131969937286,
          36.799287481844566,
          36.79519163351733,
          36.80310057385058,
          36.79708451657918,
          36.79983649761423,
          36.79760444335116,
          36.7989007355377,
          36.79083947071652,
          36.78940271962211,
          36.81311407722118,
          36.79881649715974,
          36.79395115619142,
          36.79140448637273,
          36.771424884908,
          36.74738635030507,
          36.78892931262786,
          36.72426160226491,
          36.77513145448144,
          36.734473137428076,
          36.72464233104461,
          36.67307841769074,
          36.67271076136913,
          36.574716103154834,
          36.53042873831728,
          36.5020543086721,
          36.43259993598547,
          36.23937772035723,
          36.117757872637306,
          35.78494311501426,
          35.44973073134169,
          35.422588401388396,
          34.8533531171213,
          34.43260266366932,
          33.76437647785168,
          32.72798797242064,
          31.931685764035368,
          30.736229767473162,
          29.462763949671015,
          27.249246940395786,
          25.132029610000714,
          22.993813331978586,
          20.865627398559454,
          17.794540820997284,
          14.692917884248981,
          10.823953387954392,
          8.776952502946655,
          5.002360008106928,
          1.7747161651820194,
          -0.21496011391730271,
          -2.946757056904783,
          -5.088929593835537,
          -7.066522042982541,
          -8.50291270435851,
          -10.700697450935836,
          -11.446713129362841,
          -13.11903467716319,
          -14.43916654081709,
          -14.927784726953531,
          -15.562560378695283,
          -16.245133700105146,
          -16.594580521833937,
          -17.372866377143556,
          -18.07572171134225,
          -18.438430949509254,
          -19.207946839504373,
          -19.357326236515384,
          -19.96879811714738,
          -20.25766161667628,
          -20.683394072618427,
          -20.446117454093987,
          -21.38390904895916,
          -21.622850731263775,
          -21.664572259664542,
          -21.60604506410279,
          -22.13269648731866,
          -22.387006973194147,
          -22.44462743457686,
          -22.725828811752468,
          -22.83299769187909,
          -23.518808301023963,
          -23.608249946369597,
          -23.101751835400513,
          -23.323577668378235,
          -24.09245080509716,
          -23.610991495113193,
          -23.719021769344867,
          -23.88235766522979,
          -24.17016719879399,
          -24.243357392803816,
          -23.897650879345747,
          -24.407550786468196,
          -24.24635308617493,
          -24.619250781522524,
          -24.70392995883298,
          -24.686932835453643,
          -24.61226737175265,
          -24.98138014064089,
          -24.67115110126125,
          -25.22221338434061,
          -25.14602753233444,
          -25.217634616537755,
          -25.463803377156516,
          -25.385347301472986,
          -24.671695246986502,
          -25.090684514686824,
          -25.214061699575424,
          -25.2496697205225,
          -25.35874321078958,
          -25.43331004473854,
          -25.575817746514982,
          -25.633298637793445,
          -25.542814125765652,
          -25.558789382526477,
          -26.065703088627014,
          -25.60109311614204,
          -25.774942821847606,
          -25.746849008286134,
          -26.13510121096225,
          -26.462789487253605,
          -26.15811631924741,
          -26.264659562263923,
          -26.35811650715731,
          -26.729470830542795,
          -26.81498467216231,
          -26.786179344867563,
          -26.856652843806803,
          -27.185212199642358,
          -27.498267468138625,
          -27.85888240557645,
          -27.89504456383284,
          -28.19800584331176,
          -28.747058656457636,
          -28.533189026294618,
          -28.78444793572253,
          -29.34910187675739,
          -29.379202410465385,
          -29.451533102202852,
          -30.14951613440257,
          -30.425998405087892,
          -30.566202766553126,
          -30.450504085403193,
          -30.841887389608093,
          -30.804710612744934,
          -31.295277316082792,
          -31.2468252778372,
          -31.15690366412426,
          -31.3187003416281,
          -31.663122532927353,
          -31.83168473516503,
          -31.50768927458078,
          -31.929273706583768,
          -31.713471195147807,
          -31.778552564180714,
          -31.69637268162241,
          -31.95081312300542,
          -31.900917911773828,
          -31.775442255150754,
          -32.0784467449773,
          -32.08841760194228,
          -31.80486407236697,
          -32.21748205004165,
          -32.05815914663717,
          -32.25024864314396,
          -32.427225411902974,
          -31.959887273518074,
          -32.32960977558997,
          -32.13077560820932,
          -32.408704201909096,
          -32.20721945892172,
          -32.3133622162529,
          -32.70662556717205,
          -32.73251623586088,
          -32.166316193973714,
          -32.507781508895526,
          -32.05401503463074,
          -32.565623511115874,
          -32.48838273933219,
          -32.62732386603588,
          -32.700662928623316,
          -32.51586851249414,
          -32.5253327847457,
          -32.30127412490229,
          -32.09193683443103,
          -32.68660781422319,
          -32.334131995550194,
          -32.1944195120857,
          -32.2470293167126,
          -32.43106270021022,
          -32.46051497038636,
          -32.81945418318594,
          -32.55220641637998,
          -32.55323763107826,
          -32.5425744925411,
          -32.529882540997285,
          -32.57013727513121,
          -32.805981640922305,
          -32.60239461647471,
          -32.71017380232272,
          -32.66313737028854,
          -32.901838077363934,
          -32.828074147629664,
          -32.863501083652984,
          -32.655366628596695,
          -32.7007719560033,
          -32.45943454930947,
          -32.83162496655075,
          -32.89419174034086,
          -32.54791570673518,
          -32.70818451475283,
          -32.41884107513002,
          -32.923745993787435,
          -32.36762386301297,
          -32.66698458571015,
          -32.93587424235075,
          -32.71530246663846,
          -32.574084252001626,
          -32.719797855791654,
          -32.79575747004601,
          -32.57842831434047,
          -32.638873911504,
          -32.805929562174136,
          -32.741845628372346,
          -32.44814350744733,
          -32.93291698084861,
          -32.846220653307135,
          -32.67132192109849,
          -32.76513778170202,
          -32.65659180258721,
          -32.629411769480186,
          -32.811741456868425,
          -32.76584451873549,
          -32.91547500291777,
          -32.49165512812899,
          -32.8975281100414,
          -32.32472476500628,
          -32.767888920404204,
          -32.64669885054695,
          -32.605762374694585,
          -32.32689602220286,
          -32.391701601322296,
          -32.5416667150818,
          -32.75718270556656,
          -32.70985408591006,
          -32.733343396751664,
          -32.51661496400038,
          -32.62456837860896,
          -32.47930891826955,
          -32.93399741863944,
          -32.561948121119215,
          -32.66967790992005,
          -32.35425628331823,
          -32.5087659681377,
          -32.634360030938474,
          -32.88076702845092,
          -32.4189641729581,
          -32.896084833182684,
          -32.88625462061603,
          -32.472740732456955,
          -32.330837494922996,
          -32.800969724911496,
          -33.18569762145773,
          -32.832653767720984,
          -32.67016798623221,
          -32.806309249932966,
          -32.872106899559455,
          -32.596929024781694,
          -32.868550373098984,
          -32.124931206915186,
          -32.95314291962704,
          -32.5865411717658,
          -32.6126510309917,
          -32.809809226243814,
          -32.70194324701813,
          -32.364566841649804,
          -32.6694703689709,
          -32.769231324127475,
          -32.840186018670785,
          -32.69794149742461,
          -32.89163026438631,
          -32.61567504515768,
          -32.58131531783984,
          -32.196437672690685,
          -32.98392629039487,
          -32.948955220897155,
          -32.857242457816035,
          -32.88591310238009,
          -32.684709583359805,
          -32.95486476617685,
          -32.85119769184703,
          -32.528350964257825,
          -32.735516115247435,
          -32.77138440040137,
          -32.74592243696493,
          -32.880689155607,
          -32.419449624807186,
          -32.78497243614885,
          -32.88099159170809,
          -32.37702612903914,
          -32.60895906229949,
          -32.78673017416001,
          -32.175929214294115,
          -32.7070161653106,
          -32.690044178724094,
          -32.611690503962656,
          -32.576003600568356,
          -32.576888389871144,
          -32.95478948668067,
          -32.339469687990864,
          -32.55833456266852,
          -32.924909528208666,
          -32.36620835346515,
          -32.59165079408451,
          -32.66463734054186,
          -32.74495402204139,
          -32.444967364238146,
          -32.586927476988286,
          -32.7827409263336,
          -32.39003793622856,
          -32.68102591828129,
          -33.18361258096376,
          -32.645499807380205,
          -32.4528974929192,
          -32.747533237940914,
          -32.7366792584136,
          -32.84913087808369,
          -32.79000573797581,
          -33.101174892829754,
          -32.708906253069664,
          -32.78498635922009,
          -32.76183321070971,
          -32.42711703357068,
          -32.816856902516186,
          -32.707023708482566,
          -32.59395836222851,
          -32.801885722354754,
          -32.84621339075998,
          -33.057921193968724,
          -32.98909174738195,
          -32.73225222563322,
          -32.689797878753325,
          -32.80176997321838,
          -32.57927603389586,
          -32.612215863510706,
          -32.68787210923626,
          -32.92689225320869,
          -32.35055493300963,
          -32.58961810760738,
          -32.924375900343854,
          -32.71169178912146,
          -32.60085687516304,
          -32.44295580242479,
          -32.76395828435872,
          -32.920523144956285,
          -32.74007392851532,
          -32.835623445049,
          -32.819211080449676,
          -32.386837973300544,
          -32.900568267064926,
          -32.679646418195624,
          -32.92918908954077,
          -32.90989703551721,
          -32.78392188719525,
          -32.71388522437742,
          -32.83789386035368,
          -32.61685890398993,
          -32.64309347294146,
          -32.7213553002441,
          -32.906465301123966,
          -32.885532718301356,
          -32.59905512813299,
          -32.670610383493624,
          -32.6818087466772,
          -32.72589502154909,
          -32.597646038692105,
          -32.85380639419081,
          -32.50883389700613,
          -32.949641959657846,
          -32.794987946767115,
          -32.80648929189927,
          -33.25219209606557,
          -32.87176437168213,
          -33.261732352235285,
          -32.69095120465742,
          -32.82243259053132,
          -32.61974293957261,
          -32.645997201623864,
          -32.79166370792573,
          -32.60790524979168,
          -32.91361482073898,
          -32.73001367956354
         ]
        },
        {
         "name": "2nd type",
         "type": "scatter",
         "x": [
          0,
          1,
          2,
          3,
          4,
          5,
          6,
          7,
          8,
          9,
          10,
          11,
          12,
          13,
          14,
          15,
          16,
          17,
          18,
          19,
          20,
          21,
          22,
          23,
          24,
          25,
          26,
          27,
          28,
          29,
          30,
          31,
          32,
          33,
          34,
          35,
          36,
          37,
          38,
          39,
          40,
          41,
          42,
          43,
          44,
          45,
          46,
          47,
          48,
          49,
          50,
          51,
          52,
          53,
          54,
          55,
          56,
          57,
          58,
          59,
          60,
          61,
          62,
          63,
          64,
          65,
          66,
          67,
          68,
          69,
          70,
          71,
          72,
          73,
          74,
          75,
          76,
          77,
          78,
          79,
          80,
          81,
          82,
          83,
          84,
          85,
          86,
          87,
          88,
          89,
          90,
          91,
          92,
          93,
          94,
          95,
          96,
          97,
          98,
          99,
          100,
          101,
          102,
          103,
          104,
          105,
          106,
          107,
          108,
          109,
          110,
          111,
          112,
          113,
          114,
          115,
          116,
          117,
          118,
          119,
          120,
          121,
          122,
          123,
          124,
          125,
          126,
          127,
          128,
          129,
          130,
          131,
          132,
          133,
          134,
          135,
          136,
          137,
          138,
          139,
          140,
          141,
          142,
          143,
          144,
          145,
          146,
          147,
          148,
          149,
          150,
          151,
          152,
          153,
          154,
          155,
          156,
          157,
          158,
          159,
          160,
          161,
          162,
          163,
          164,
          165,
          166,
          167,
          168,
          169,
          170,
          171,
          172,
          173,
          174,
          175,
          176,
          177,
          178,
          179,
          180,
          181,
          182,
          183,
          184,
          185,
          186,
          187,
          188,
          189,
          190,
          191,
          192,
          193,
          194,
          195,
          196,
          197,
          198,
          199,
          200,
          201,
          202,
          203,
          204,
          205,
          206,
          207,
          208,
          209,
          210,
          211,
          212,
          213,
          214,
          215,
          216,
          217,
          218,
          219,
          220,
          221,
          222,
          223,
          224,
          225,
          226,
          227,
          228,
          229,
          230,
          231,
          232,
          233,
          234,
          235,
          236,
          237,
          238,
          239,
          240,
          241,
          242,
          243,
          244,
          245,
          246,
          247,
          248,
          249,
          250,
          251,
          252,
          253,
          254,
          255,
          256,
          257,
          258,
          259,
          260,
          261,
          262,
          263,
          264,
          265,
          266,
          267,
          268,
          269,
          270,
          271,
          272,
          273,
          274,
          275,
          276,
          277,
          278,
          279,
          280,
          281,
          282,
          283,
          284,
          285,
          286,
          287,
          288,
          289,
          290,
          291,
          292,
          293,
          294,
          295,
          296,
          297,
          298,
          299,
          300,
          301,
          302,
          303,
          304,
          305,
          306,
          307,
          308,
          309,
          310,
          311,
          312,
          313,
          314,
          315,
          316,
          317,
          318,
          319,
          320,
          321,
          322,
          323,
          324,
          325,
          326,
          327,
          328,
          329,
          330,
          331,
          332,
          333,
          334,
          335,
          336,
          337,
          338,
          339,
          340,
          341,
          342,
          343,
          344,
          345,
          346,
          347,
          348,
          349,
          350,
          351,
          352,
          353,
          354,
          355,
          356,
          357,
          358,
          359,
          360,
          361,
          362,
          363,
          364,
          365,
          366,
          367,
          368,
          369,
          370,
          371,
          372,
          373,
          374,
          375,
          376,
          377,
          378,
          379,
          380,
          381,
          382,
          383,
          384,
          385,
          386,
          387,
          388,
          389,
          390,
          391,
          392,
          393,
          394,
          395,
          396,
          397,
          398,
          399
         ],
         "y": [
          -20.828750941458477,
          -20.783982487642334,
          -21.284334167306522,
          -21.861647187163953,
          -24.00158631513559,
          -24.89883192307198,
          -26.47823273675238,
          -27.54624191062134,
          -28.159766575942307,
          -28.81201497498873,
          -29.36618029458982,
          -29.49737790953303,
          -30.17671525139571,
          -30.203520393100487,
          -30.503584983890928,
          -30.811791606356937,
          -30.81862571503892,
          -31.296161872285882,
          -31.24325000118112,
          -31.562705081746362,
          -31.580057679337727,
          -31.626440236839315,
          -31.57637080664958,
          -31.72570756709177,
          -31.704012075468512,
          -31.89979737286822,
          -31.86935582718001,
          -32.06441954087815,
          -32.18622614246707,
          -31.977378299843192,
          -32.2660976335599,
          -32.10201282539605,
          -32.31670019868982,
          -32.25891652939235,
          -32.31865748293779,
          -32.38102091013991,
          -32.169504547820864,
          -32.520558080178695,
          -32.37771312857724,
          -32.54446294892335,
          -32.358446081327955,
          -32.54003308504428,
          -32.444544127554465,
          -32.38957496234754,
          -32.45340483215179,
          -32.66282495978979,
          -32.55853588176772,
          -32.62800721427163,
          -32.63208869744909,
          -32.49852398470972,
          -32.703940862920234,
          -32.432073159669145,
          -32.29653272103149,
          -32.576691983269136,
          -32.561625255103614,
          -32.46068824769379,
          -32.728112046387935,
          -32.689078917965254,
          -32.36387114832268,
          -32.52232820566459,
          -32.682171717634986,
          -32.64256949492429,
          -32.71893598346103,
          -32.67554364337978,
          -32.5444577476698,
          -32.763726297650116,
          -32.65753415213802,
          -32.710332554048506,
          -32.629385644920625,
          -32.76847708381053,
          -32.777599992820896,
          -32.68216735693274,
          -32.797991900651304,
          -32.821052639240115,
          -32.77021230331152,
          -32.413928877693756,
          -32.69025381871753,
          -32.883231632415054,
          -32.35116831775176,
          -32.621904886127695,
          -32.69945381378254,
          -32.61419655104907,
          -32.57466578942351,
          -32.690676958200434,
          -32.32011193560656,
          -32.44667304256597,
          -32.592891629252684,
          -32.7427360893294,
          -32.701253941402456,
          -32.485519043614225,
          -32.749849865936255,
          -32.438256107478594,
          -32.75125401985328,
          -32.77398311962735,
          -33.10158892663287,
          -32.95381385103119,
          -32.802419252021764,
          -32.69818392669098,
          -32.43152995191903,
          -32.812847081507904,
          -32.83500128187642,
          -33.02500976509226,
          -32.82475448714134,
          -32.96932194535478,
          -32.72168382610698,
          -32.706146182679404,
          -32.89661431856839,
          -32.80780828335156,
          -32.83132347970069,
          -32.87970428705042,
          -32.83270046531125,
          -32.8839717448186,
          -32.84331752700003,
          -32.54184349976566,
          -32.896041197472215,
          -32.9733013546538,
          -32.93496616971642,
          -32.800935896133,
          -32.92669694319005,
          -32.876656303639045,
          -32.97280587223898,
          -33.04311272199816,
          -32.97776420877657,
          -32.79267078848196,
          -32.90980308381722,
          -32.752415334626626,
          -32.93034203097801,
          -32.93850636875583,
          -32.90648495464934,
          -32.86878253616117,
          -33.114762466481764,
          -33.08780924577521,
          -32.87872782537802,
          -33.001678507986384,
          -32.49850488587612,
          -32.87794884061446,
          -32.728747884489266,
          -32.985269814202184,
          -32.81491776543638,
          -33.121875331068075,
          -32.873551040119004,
          -33.04908751811241,
          -32.64363325587834,
          -32.68808148260674,
          -32.890852448388905,
          -33.054991894549616,
          -32.571547309260055,
          -33.03246019997676,
          -33.13348347966612,
          -32.8024048549919,
          -33.027995203957495,
          -33.00240191265683,
          -32.659534576014195,
          -32.793098600406935,
          -33.062436422231016,
          -32.88304788467135,
          -32.90296609769398,
          -32.65621396886419,
          -32.853240459646344,
          -32.82187243016152,
          -32.70046486254418,
          -32.934438641898126,
          -32.736109551962755,
          -32.956697480239356,
          -32.961998151370565,
          -33.054375870052645,
          -32.8448804181076,
          -33.012097206897614,
          -32.67986896481516,
          -32.97743571403817,
          -33.11187377201446,
          -32.91429880619274,
          -32.8464762774755,
          -32.67975594655674,
          -33.1001736771487,
          -32.823358237432146,
          -32.65678630343969,
          -33.03233493222997,
          -32.917220195682575,
          -32.92300829562035,
          -32.48837641805195,
          -33.121996791658475,
          -32.884911164537854,
          -33.19016726480637,
          -32.919120396755254,
          -32.98454441450834,
          -32.716497882961924,
          -32.92671899664621,
          -32.996758439706184,
          -32.93031726944697,
          -32.99968180657726,
          -32.90023879046208,
          -33.00903777502283,
          -32.97019656082706,
          -32.86921519438428,
          -33.170796912240746,
          -32.77548831765106,
          -32.715475343797465,
          -33.06450590345755,
          -32.78226388983119,
          -32.883462903381954,
          -32.81851253906197,
          -32.87862577370483,
          -32.667421059527086,
          -32.84036838779095,
          -32.86419595172249,
          -32.926846090913564,
          -33.18054288331226,
          -33.101598867821075,
          -32.670681076938216,
          -32.65343680349005,
          -33.05827899494919,
          -33.1500001387916,
          -32.96195492306523,
          -32.827164136983995,
          -32.64619537809383,
          -32.927634560835735,
          -32.877705414436385,
          -32.814429064235156,
          -33.04736299029532,
          -33.1229243985395,
          -33.04466411046361,
          -33.0542654583987,
          -32.759636508992585,
          -32.95472144523908,
          -33.237493333147555,
          -32.67232718674045,
          -32.57691222552086,
          -32.86376080770796,
          -32.994498364531594,
          -32.69952216628088,
          -32.839026658555596,
          -32.75448112305025,
          -32.71157543156981,
          -32.70785243719732,
          -32.68512208618216,
          -33.140980920280256,
          -32.98208428218246,
          -32.71890242817203,
          -32.788348983163694,
          -33.10542926468292,
          -32.77201408103148,
          -33.13053848523271,
          -32.48221184649183,
          -32.96147944684563,
          -33.07847341923878,
          -32.862175024684404,
          -32.64864819974014,
          -33.021497216086104,
          -32.8828303902274,
          -32.79569236412247,
          -32.65879136424643,
          -33.05326924593003,
          -33.228498951726195,
          -32.28743941119163,
          -32.817809460770725,
          -32.841364621895636,
          -32.954063705083335,
          -32.63463588603885,
          -32.74627297135354,
          -32.66488005433107,
          -32.94972652987707,
          -32.909968072774035,
          -33.07734571622832,
          -32.79156834753267,
          -33.03438174177611,
          -32.93462688578457,
          -32.83846714656819,
          -32.84963804951348,
          -32.80705975846575,
          -32.76746653399977,
          -33.06884317351827,
          -33.17210117320946,
          -32.802131301461934,
          -33.221251967287714,
          -32.94371081232443,
          -32.940034526922105,
          -32.818250001825426,
          -32.55605863050217,
          -32.87064560450911,
          -33.168552825172505,
          -32.825019025455575,
          -32.88679272099527,
          -32.69822999111414,
          -33.04580047501794,
          -33.06872483232957,
          -32.70893954348644,
          -33.11200518519639,
          -32.66905214369941,
          -33.393309169756265,
          -33.00029842310641,
          -32.8923128422938,
          -33.19263981394269,
          -32.832606003043566,
          -32.60231073967663,
          -32.66120935182568,
          -32.90224414688532,
          -32.84518137612547,
          -32.68045425509508,
          -32.64816083861607,
          -32.615981342859996,
          -32.84354639300228,
          -33.17834352706549,
          -33.08406567544932,
          -33.02223327876041,
          -32.88831690832568,
          -32.83887638218703,
          -32.76540968398787,
          -32.85742709807651,
          -32.800918566488335,
          -32.66560859461043,
          -32.868628806972026,
          -33.05915128980599,
          -32.79505576335029,
          -32.79871479963554,
          -32.931293215053905,
          -32.96588412236905,
          -32.78328855667514,
          -32.86338481768543,
          -33.030135020007904,
          -32.66617985293977,
          -32.71383872920035,
          -33.11558852379464,
          -32.70670173407008,
          -33.10007483027146,
          -32.96064722861995,
          -32.72259749262812,
          -32.768810403503345,
          -33.031825306307724,
          -32.862170956306834,
          -32.816410328614545,
          -32.96076056236405,
          -32.749611576730736,
          -32.8341173141475,
          -33.07570003719119,
          -32.94907929100295,
          -32.898517642645395,
          -32.46354700359018,
          -33.07352840875899,
          -32.96231822701411,
          -32.84131346474696,
          -32.857192468800946,
          -32.91752974239166,
          -33.15234600537918,
          -32.81479064238952,
          -33.255207849209526,
          -32.58841008628937,
          -33.07485474281674,
          -32.51153140572756,
          -32.70396245144674,
          -33.113871606525116,
          -32.388978668317314,
          -33.04557405483464,
          -32.66834406817957,
          -32.66263236951266,
          -32.62344739877721,
          -32.82712242771102,
          -33.02309540709536,
          -32.769884127560175,
          -32.7901816514239,
          -33.01041696852121,
          -32.85989452225088,
          -33.0164440093373,
          -32.601280419087324,
          -32.982294778978726,
          -32.76872031287248,
          -32.63814312634022,
          -32.95099953387709,
          -32.988443765618065,
          -33.29073476174311,
          -33.236613377180085,
          -33.08424142910708,
          -32.632348543863706,
          -32.83541966624547,
          -32.751809873266154,
          -32.68349549916073,
          -32.982156402799454,
          -32.969566694947474,
          -32.56258487212747,
          -32.8518431157141,
          -32.9492988365525,
          -32.98289993631322,
          -32.843842286482534,
          -32.81597242429988,
          -32.775203605645984,
          -32.69483920090342,
          -32.676226756684564,
          -32.75152897464901,
          -33.00059753775751,
          -32.76657554401256,
          -32.88014266232763,
          -33.20521014400309,
          -32.70407567231984,
          -32.92800770923535,
          -32.97140061422213,
          -32.709431745681165,
          -32.977917169254944,
          -32.858187724855284,
          -32.79730355423207,
          -32.91387356753179
         ]
        }
       ],
       "layout": {
        "shapes": [
         {
          "line": {
           "width": 1
          },
          "opacity": 1,
          "type": "line",
          "x0": 0,
          "x1": 1,
          "xref": "x domain",
          "y0": -34.08190778603119,
          "y1": -34.08190778603119,
          "yref": "y"
         }
        ],
        "template": {
         "data": {
          "bar": [
           {
            "error_x": {
             "color": "rgb(36,36,36)"
            },
            "error_y": {
             "color": "rgb(36,36,36)"
            },
            "marker": {
             "line": {
              "color": "white",
              "width": 0.5
             },
             "pattern": {
              "fillmode": "overlay",
              "size": 10,
              "solidity": 0.2
             }
            },
            "type": "bar"
           }
          ],
          "barpolar": [
           {
            "marker": {
             "line": {
              "color": "white",
              "width": 0.5
             },
             "pattern": {
              "fillmode": "overlay",
              "size": 10,
              "solidity": 0.2
             }
            },
            "type": "barpolar"
           }
          ],
          "carpet": [
           {
            "aaxis": {
             "endlinecolor": "rgb(36,36,36)",
             "gridcolor": "white",
             "linecolor": "white",
             "minorgridcolor": "white",
             "startlinecolor": "rgb(36,36,36)"
            },
            "baxis": {
             "endlinecolor": "rgb(36,36,36)",
             "gridcolor": "white",
             "linecolor": "white",
             "minorgridcolor": "white",
             "startlinecolor": "rgb(36,36,36)"
            },
            "type": "carpet"
           }
          ],
          "choropleth": [
           {
            "colorbar": {
             "outlinewidth": 1,
             "tickcolor": "rgb(36,36,36)",
             "ticks": "outside"
            },
            "type": "choropleth"
           }
          ],
          "contour": [
           {
            "colorbar": {
             "outlinewidth": 1,
             "tickcolor": "rgb(36,36,36)",
             "ticks": "outside"
            },
            "colorscale": [
             [
              0,
              "#440154"
             ],
             [
              0.1111111111111111,
              "#482878"
             ],
             [
              0.2222222222222222,
              "#3e4989"
             ],
             [
              0.3333333333333333,
              "#31688e"
             ],
             [
              0.4444444444444444,
              "#26828e"
             ],
             [
              0.5555555555555556,
              "#1f9e89"
             ],
             [
              0.6666666666666666,
              "#35b779"
             ],
             [
              0.7777777777777778,
              "#6ece58"
             ],
             [
              0.8888888888888888,
              "#b5de2b"
             ],
             [
              1,
              "#fde725"
             ]
            ],
            "type": "contour"
           }
          ],
          "contourcarpet": [
           {
            "colorbar": {
             "outlinewidth": 1,
             "tickcolor": "rgb(36,36,36)",
             "ticks": "outside"
            },
            "type": "contourcarpet"
           }
          ],
          "heatmap": [
           {
            "colorbar": {
             "outlinewidth": 1,
             "tickcolor": "rgb(36,36,36)",
             "ticks": "outside"
            },
            "colorscale": [
             [
              0,
              "#440154"
             ],
             [
              0.1111111111111111,
              "#482878"
             ],
             [
              0.2222222222222222,
              "#3e4989"
             ],
             [
              0.3333333333333333,
              "#31688e"
             ],
             [
              0.4444444444444444,
              "#26828e"
             ],
             [
              0.5555555555555556,
              "#1f9e89"
             ],
             [
              0.6666666666666666,
              "#35b779"
             ],
             [
              0.7777777777777778,
              "#6ece58"
             ],
             [
              0.8888888888888888,
              "#b5de2b"
             ],
             [
              1,
              "#fde725"
             ]
            ],
            "type": "heatmap"
           }
          ],
          "heatmapgl": [
           {
            "colorbar": {
             "outlinewidth": 1,
             "tickcolor": "rgb(36,36,36)",
             "ticks": "outside"
            },
            "colorscale": [
             [
              0,
              "#440154"
             ],
             [
              0.1111111111111111,
              "#482878"
             ],
             [
              0.2222222222222222,
              "#3e4989"
             ],
             [
              0.3333333333333333,
              "#31688e"
             ],
             [
              0.4444444444444444,
              "#26828e"
             ],
             [
              0.5555555555555556,
              "#1f9e89"
             ],
             [
              0.6666666666666666,
              "#35b779"
             ],
             [
              0.7777777777777778,
              "#6ece58"
             ],
             [
              0.8888888888888888,
              "#b5de2b"
             ],
             [
              1,
              "#fde725"
             ]
            ],
            "type": "heatmapgl"
           }
          ],
          "histogram": [
           {
            "marker": {
             "line": {
              "color": "white",
              "width": 0.6
             }
            },
            "type": "histogram"
           }
          ],
          "histogram2d": [
           {
            "colorbar": {
             "outlinewidth": 1,
             "tickcolor": "rgb(36,36,36)",
             "ticks": "outside"
            },
            "colorscale": [
             [
              0,
              "#440154"
             ],
             [
              0.1111111111111111,
              "#482878"
             ],
             [
              0.2222222222222222,
              "#3e4989"
             ],
             [
              0.3333333333333333,
              "#31688e"
             ],
             [
              0.4444444444444444,
              "#26828e"
             ],
             [
              0.5555555555555556,
              "#1f9e89"
             ],
             [
              0.6666666666666666,
              "#35b779"
             ],
             [
              0.7777777777777778,
              "#6ece58"
             ],
             [
              0.8888888888888888,
              "#b5de2b"
             ],
             [
              1,
              "#fde725"
             ]
            ],
            "type": "histogram2d"
           }
          ],
          "histogram2dcontour": [
           {
            "colorbar": {
             "outlinewidth": 1,
             "tickcolor": "rgb(36,36,36)",
             "ticks": "outside"
            },
            "colorscale": [
             [
              0,
              "#440154"
             ],
             [
              0.1111111111111111,
              "#482878"
             ],
             [
              0.2222222222222222,
              "#3e4989"
             ],
             [
              0.3333333333333333,
              "#31688e"
             ],
             [
              0.4444444444444444,
              "#26828e"
             ],
             [
              0.5555555555555556,
              "#1f9e89"
             ],
             [
              0.6666666666666666,
              "#35b779"
             ],
             [
              0.7777777777777778,
              "#6ece58"
             ],
             [
              0.8888888888888888,
              "#b5de2b"
             ],
             [
              1,
              "#fde725"
             ]
            ],
            "type": "histogram2dcontour"
           }
          ],
          "mesh3d": [
           {
            "colorbar": {
             "outlinewidth": 1,
             "tickcolor": "rgb(36,36,36)",
             "ticks": "outside"
            },
            "type": "mesh3d"
           }
          ],
          "parcoords": [
           {
            "line": {
             "colorbar": {
              "outlinewidth": 1,
              "tickcolor": "rgb(36,36,36)",
              "ticks": "outside"
             }
            },
            "type": "parcoords"
           }
          ],
          "pie": [
           {
            "automargin": true,
            "type": "pie"
           }
          ],
          "scatter": [
           {
            "marker": {
             "colorbar": {
              "outlinewidth": 1,
              "tickcolor": "rgb(36,36,36)",
              "ticks": "outside"
             }
            },
            "type": "scatter"
           }
          ],
          "scatter3d": [
           {
            "line": {
             "colorbar": {
              "outlinewidth": 1,
              "tickcolor": "rgb(36,36,36)",
              "ticks": "outside"
             }
            },
            "marker": {
             "colorbar": {
              "outlinewidth": 1,
              "tickcolor": "rgb(36,36,36)",
              "ticks": "outside"
             }
            },
            "type": "scatter3d"
           }
          ],
          "scattercarpet": [
           {
            "marker": {
             "colorbar": {
              "outlinewidth": 1,
              "tickcolor": "rgb(36,36,36)",
              "ticks": "outside"
             }
            },
            "type": "scattercarpet"
           }
          ],
          "scattergeo": [
           {
            "marker": {
             "colorbar": {
              "outlinewidth": 1,
              "tickcolor": "rgb(36,36,36)",
              "ticks": "outside"
             }
            },
            "type": "scattergeo"
           }
          ],
          "scattergl": [
           {
            "marker": {
             "colorbar": {
              "outlinewidth": 1,
              "tickcolor": "rgb(36,36,36)",
              "ticks": "outside"
             }
            },
            "type": "scattergl"
           }
          ],
          "scattermapbox": [
           {
            "marker": {
             "colorbar": {
              "outlinewidth": 1,
              "tickcolor": "rgb(36,36,36)",
              "ticks": "outside"
             }
            },
            "type": "scattermapbox"
           }
          ],
          "scatterpolar": [
           {
            "marker": {
             "colorbar": {
              "outlinewidth": 1,
              "tickcolor": "rgb(36,36,36)",
              "ticks": "outside"
             }
            },
            "type": "scatterpolar"
           }
          ],
          "scatterpolargl": [
           {
            "marker": {
             "colorbar": {
              "outlinewidth": 1,
              "tickcolor": "rgb(36,36,36)",
              "ticks": "outside"
             }
            },
            "type": "scatterpolargl"
           }
          ],
          "scatterternary": [
           {
            "marker": {
             "colorbar": {
              "outlinewidth": 1,
              "tickcolor": "rgb(36,36,36)",
              "ticks": "outside"
             }
            },
            "type": "scatterternary"
           }
          ],
          "surface": [
           {
            "colorbar": {
             "outlinewidth": 1,
             "tickcolor": "rgb(36,36,36)",
             "ticks": "outside"
            },
            "colorscale": [
             [
              0,
              "#440154"
             ],
             [
              0.1111111111111111,
              "#482878"
             ],
             [
              0.2222222222222222,
              "#3e4989"
             ],
             [
              0.3333333333333333,
              "#31688e"
             ],
             [
              0.4444444444444444,
              "#26828e"
             ],
             [
              0.5555555555555556,
              "#1f9e89"
             ],
             [
              0.6666666666666666,
              "#35b779"
             ],
             [
              0.7777777777777778,
              "#6ece58"
             ],
             [
              0.8888888888888888,
              "#b5de2b"
             ],
             [
              1,
              "#fde725"
             ]
            ],
            "type": "surface"
           }
          ],
          "table": [
           {
            "cells": {
             "fill": {
              "color": "rgb(237,237,237)"
             },
             "line": {
              "color": "white"
             }
            },
            "header": {
             "fill": {
              "color": "rgb(217,217,217)"
             },
             "line": {
              "color": "white"
             }
            },
            "type": "table"
           }
          ]
         },
         "layout": {
          "annotationdefaults": {
           "arrowhead": 0,
           "arrowwidth": 1
          },
          "autotypenumbers": "strict",
          "coloraxis": {
           "colorbar": {
            "outlinewidth": 1,
            "tickcolor": "rgb(36,36,36)",
            "ticks": "outside"
           }
          },
          "colorscale": {
           "diverging": [
            [
             0,
             "rgb(103,0,31)"
            ],
            [
             0.1,
             "rgb(178,24,43)"
            ],
            [
             0.2,
             "rgb(214,96,77)"
            ],
            [
             0.3,
             "rgb(244,165,130)"
            ],
            [
             0.4,
             "rgb(253,219,199)"
            ],
            [
             0.5,
             "rgb(247,247,247)"
            ],
            [
             0.6,
             "rgb(209,229,240)"
            ],
            [
             0.7,
             "rgb(146,197,222)"
            ],
            [
             0.8,
             "rgb(67,147,195)"
            ],
            [
             0.9,
             "rgb(33,102,172)"
            ],
            [
             1,
             "rgb(5,48,97)"
            ]
           ],
           "sequential": [
            [
             0,
             "#440154"
            ],
            [
             0.1111111111111111,
             "#482878"
            ],
            [
             0.2222222222222222,
             "#3e4989"
            ],
            [
             0.3333333333333333,
             "#31688e"
            ],
            [
             0.4444444444444444,
             "#26828e"
            ],
            [
             0.5555555555555556,
             "#1f9e89"
            ],
            [
             0.6666666666666666,
             "#35b779"
            ],
            [
             0.7777777777777778,
             "#6ece58"
            ],
            [
             0.8888888888888888,
             "#b5de2b"
            ],
            [
             1,
             "#fde725"
            ]
           ],
           "sequentialminus": [
            [
             0,
             "#440154"
            ],
            [
             0.1111111111111111,
             "#482878"
            ],
            [
             0.2222222222222222,
             "#3e4989"
            ],
            [
             0.3333333333333333,
             "#31688e"
            ],
            [
             0.4444444444444444,
             "#26828e"
            ],
            [
             0.5555555555555556,
             "#1f9e89"
            ],
            [
             0.6666666666666666,
             "#35b779"
            ],
            [
             0.7777777777777778,
             "#6ece58"
            ],
            [
             0.8888888888888888,
             "#b5de2b"
            ],
            [
             1,
             "#fde725"
            ]
           ]
          },
          "colorway": [
           "#1F77B4",
           "#FF7F0E",
           "#2CA02C",
           "#D62728",
           "#9467BD",
           "#8C564B",
           "#E377C2",
           "#7F7F7F",
           "#BCBD22",
           "#17BECF"
          ],
          "font": {
           "color": "rgb(36,36,36)"
          },
          "geo": {
           "bgcolor": "white",
           "lakecolor": "white",
           "landcolor": "white",
           "showlakes": true,
           "showland": true,
           "subunitcolor": "white"
          },
          "hoverlabel": {
           "align": "left"
          },
          "hovermode": "closest",
          "mapbox": {
           "style": "light"
          },
          "paper_bgcolor": "white",
          "plot_bgcolor": "white",
          "polar": {
           "angularaxis": {
            "gridcolor": "rgb(232,232,232)",
            "linecolor": "rgb(36,36,36)",
            "showgrid": false,
            "showline": true,
            "ticks": "outside"
           },
           "bgcolor": "white",
           "radialaxis": {
            "gridcolor": "rgb(232,232,232)",
            "linecolor": "rgb(36,36,36)",
            "showgrid": false,
            "showline": true,
            "ticks": "outside"
           }
          },
          "scene": {
           "xaxis": {
            "backgroundcolor": "white",
            "gridcolor": "rgb(232,232,232)",
            "gridwidth": 2,
            "linecolor": "rgb(36,36,36)",
            "showbackground": true,
            "showgrid": false,
            "showline": true,
            "ticks": "outside",
            "zeroline": false,
            "zerolinecolor": "rgb(36,36,36)"
           },
           "yaxis": {
            "backgroundcolor": "white",
            "gridcolor": "rgb(232,232,232)",
            "gridwidth": 2,
            "linecolor": "rgb(36,36,36)",
            "showbackground": true,
            "showgrid": false,
            "showline": true,
            "ticks": "outside",
            "zeroline": false,
            "zerolinecolor": "rgb(36,36,36)"
           },
           "zaxis": {
            "backgroundcolor": "white",
            "gridcolor": "rgb(232,232,232)",
            "gridwidth": 2,
            "linecolor": "rgb(36,36,36)",
            "showbackground": true,
            "showgrid": false,
            "showline": true,
            "ticks": "outside",
            "zeroline": false,
            "zerolinecolor": "rgb(36,36,36)"
           }
          },
          "shapedefaults": {
           "fillcolor": "black",
           "line": {
            "width": 0
           },
           "opacity": 0.3
          },
          "ternary": {
           "aaxis": {
            "gridcolor": "rgb(232,232,232)",
            "linecolor": "rgb(36,36,36)",
            "showgrid": false,
            "showline": true,
            "ticks": "outside"
           },
           "baxis": {
            "gridcolor": "rgb(232,232,232)",
            "linecolor": "rgb(36,36,36)",
            "showgrid": false,
            "showline": true,
            "ticks": "outside"
           },
           "bgcolor": "white",
           "caxis": {
            "gridcolor": "rgb(232,232,232)",
            "linecolor": "rgb(36,36,36)",
            "showgrid": false,
            "showline": true,
            "ticks": "outside"
           }
          },
          "title": {
           "x": 0.05
          },
          "xaxis": {
           "automargin": true,
           "gridcolor": "rgb(232,232,232)",
           "linecolor": "rgb(36,36,36)",
           "showgrid": false,
           "showline": true,
           "ticks": "outside",
           "title": {
            "standoff": 15
           },
           "zeroline": false,
           "zerolinecolor": "rgb(36,36,36)"
          },
          "yaxis": {
           "automargin": true,
           "gridcolor": "rgb(232,232,232)",
           "linecolor": "rgb(36,36,36)",
           "showgrid": false,
           "showline": true,
           "ticks": "outside",
           "title": {
            "standoff": 15
           },
           "zeroline": false,
           "zerolinecolor": "rgb(36,36,36)"
          }
         }
        },
        "title": {
         "text": "<b>S-S model </b>, L=16, J2 =1, J1 =0.9 , η=0.01, α=256, samples=1000"
        },
        "xaxis": {
         "mirror": true,
         "showline": true,
         "title": {
          "text": "Iteration"
         }
        },
        "yaxis": {
         "mirror": true,
         "showline": true,
         "title": {
          "text": "Energy"
         }
        }
       }
      },
      "text/html": [
       "<div>                            <div id=\"ff967b04-1793-4d20-b792-ff23db22044d\" class=\"plotly-graph-div\" style=\"height:525px; width:100%;\"></div>            <script type=\"text/javascript\">                require([\"plotly\"], function(Plotly) {                    window.PLOTLYENV=window.PLOTLYENV || {};                                    if (document.getElementById(\"ff967b04-1793-4d20-b792-ff23db22044d\")) {                    Plotly.newPlot(                        \"ff967b04-1793-4d20-b792-ff23db22044d\",                        [{\"line\":{\"color\":\"#000000\",\"width\":1},\"mode\":\"lines\",\"name\":\"exact energy\",\"type\":\"scatter\",\"x\":[0,400],\"y\":[-34.08190778603119,-34.08190778603119]},{\"name\":\"1st type\",\"type\":\"scatter\",\"x\":[0,1,2,3,4,5,6,7,8,9,10,11,12,13,14,15,16,17,18,19,20,21,22,23,24,25,26,27,28,29,30,31,32,33,34,35,36,37,38,39,40,41,42,43,44,45,46,47,48,49,50,51,52,53,54,55,56,57,58,59,60,61,62,63,64,65,66,67,68,69,70,71,72,73,74,75,76,77,78,79,80,81,82,83,84,85,86,87,88,89,90,91,92,93,94,95,96,97,98,99,100,101,102,103,104,105,106,107,108,109,110,111,112,113,114,115,116,117,118,119,120,121,122,123,124,125,126,127,128,129,130,131,132,133,134,135,136,137,138,139,140,141,142,143,144,145,146,147,148,149,150,151,152,153,154,155,156,157,158,159,160,161,162,163,164,165,166,167,168,169,170,171,172,173,174,175,176,177,178,179,180,181,182,183,184,185,186,187,188,189,190,191,192,193,194,195,196,197,198,199,200,201,202,203,204,205,206,207,208,209,210,211,212,213,214,215,216,217,218,219,220,221,222,223,224,225,226,227,228,229,230,231,232,233,234,235,236,237,238,239,240,241,242,243,244,245,246,247,248,249,250,251,252,253,254,255,256,257,258,259,260,261,262,263,264,265,266,267,268,269,270,271,272,273,274,275,276,277,278,279,280,281,282,283,284,285,286,287,288,289,290,291,292,293,294,295,296,297,298,299,300,301,302,303,304,305,306,307,308,309,310,311,312,313,314,315,316,317,318,319,320,321,322,323,324,325,326,327,328,329,330,331,332,333,334,335,336,337,338,339,340,341,342,343,344,345,346,347,348,349,350,351,352,353,354,355,356,357,358,359,360,361,362,363,364,365,366,367,368,369,370,371,372,373,374,375,376,377,378,379,380,381,382,383,384,385,386,387,388,389,390,391,392,393,394,395,396,397,398,399],\"y\":[36.79931667510249,36.80019817426176,36.80035707863769,36.800245147769445,36.79909321848586,36.80143381045913,36.800694461483744,36.79837215487193,36.797761117070436,36.80131969937286,36.799287481844566,36.79519163351733,36.80310057385058,36.79708451657918,36.79983649761423,36.79760444335116,36.7989007355377,36.79083947071652,36.78940271962211,36.81311407722118,36.79881649715974,36.79395115619142,36.79140448637273,36.771424884908,36.74738635030507,36.78892931262786,36.72426160226491,36.77513145448144,36.734473137428076,36.72464233104461,36.67307841769074,36.67271076136913,36.574716103154834,36.53042873831728,36.5020543086721,36.43259993598547,36.23937772035723,36.117757872637306,35.78494311501426,35.44973073134169,35.422588401388396,34.8533531171213,34.43260266366932,33.76437647785168,32.72798797242064,31.931685764035368,30.736229767473162,29.462763949671015,27.249246940395786,25.132029610000714,22.993813331978586,20.865627398559454,17.794540820997284,14.692917884248981,10.823953387954392,8.776952502946655,5.002360008106928,1.7747161651820194,-0.21496011391730271,-2.946757056904783,-5.088929593835537,-7.066522042982541,-8.50291270435851,-10.700697450935836,-11.446713129362841,-13.11903467716319,-14.43916654081709,-14.927784726953531,-15.562560378695283,-16.245133700105146,-16.594580521833937,-17.372866377143556,-18.07572171134225,-18.438430949509254,-19.207946839504373,-19.357326236515384,-19.96879811714738,-20.25766161667628,-20.683394072618427,-20.446117454093987,-21.38390904895916,-21.622850731263775,-21.664572259664542,-21.60604506410279,-22.13269648731866,-22.387006973194147,-22.44462743457686,-22.725828811752468,-22.83299769187909,-23.518808301023963,-23.608249946369597,-23.101751835400513,-23.323577668378235,-24.09245080509716,-23.610991495113193,-23.719021769344867,-23.88235766522979,-24.17016719879399,-24.243357392803816,-23.897650879345747,-24.407550786468196,-24.24635308617493,-24.619250781522524,-24.70392995883298,-24.686932835453643,-24.61226737175265,-24.98138014064089,-24.67115110126125,-25.22221338434061,-25.14602753233444,-25.217634616537755,-25.463803377156516,-25.385347301472986,-24.671695246986502,-25.090684514686824,-25.214061699575424,-25.2496697205225,-25.35874321078958,-25.43331004473854,-25.575817746514982,-25.633298637793445,-25.542814125765652,-25.558789382526477,-26.065703088627014,-25.60109311614204,-25.774942821847606,-25.746849008286134,-26.13510121096225,-26.462789487253605,-26.15811631924741,-26.264659562263923,-26.35811650715731,-26.729470830542795,-26.81498467216231,-26.786179344867563,-26.856652843806803,-27.185212199642358,-27.498267468138625,-27.85888240557645,-27.89504456383284,-28.19800584331176,-28.747058656457636,-28.533189026294618,-28.78444793572253,-29.34910187675739,-29.379202410465385,-29.451533102202852,-30.14951613440257,-30.425998405087892,-30.566202766553126,-30.450504085403193,-30.841887389608093,-30.804710612744934,-31.295277316082792,-31.2468252778372,-31.15690366412426,-31.3187003416281,-31.663122532927353,-31.83168473516503,-31.50768927458078,-31.929273706583768,-31.713471195147807,-31.778552564180714,-31.69637268162241,-31.95081312300542,-31.900917911773828,-31.775442255150754,-32.0784467449773,-32.08841760194228,-31.80486407236697,-32.21748205004165,-32.05815914663717,-32.25024864314396,-32.427225411902974,-31.959887273518074,-32.32960977558997,-32.13077560820932,-32.408704201909096,-32.20721945892172,-32.3133622162529,-32.70662556717205,-32.73251623586088,-32.166316193973714,-32.507781508895526,-32.05401503463074,-32.565623511115874,-32.48838273933219,-32.62732386603588,-32.700662928623316,-32.51586851249414,-32.5253327847457,-32.30127412490229,-32.09193683443103,-32.68660781422319,-32.334131995550194,-32.1944195120857,-32.2470293167126,-32.43106270021022,-32.46051497038636,-32.81945418318594,-32.55220641637998,-32.55323763107826,-32.5425744925411,-32.529882540997285,-32.57013727513121,-32.805981640922305,-32.60239461647471,-32.71017380232272,-32.66313737028854,-32.901838077363934,-32.828074147629664,-32.863501083652984,-32.655366628596695,-32.7007719560033,-32.45943454930947,-32.83162496655075,-32.89419174034086,-32.54791570673518,-32.70818451475283,-32.41884107513002,-32.923745993787435,-32.36762386301297,-32.66698458571015,-32.93587424235075,-32.71530246663846,-32.574084252001626,-32.719797855791654,-32.79575747004601,-32.57842831434047,-32.638873911504,-32.805929562174136,-32.741845628372346,-32.44814350744733,-32.93291698084861,-32.846220653307135,-32.67132192109849,-32.76513778170202,-32.65659180258721,-32.629411769480186,-32.811741456868425,-32.76584451873549,-32.91547500291777,-32.49165512812899,-32.8975281100414,-32.32472476500628,-32.767888920404204,-32.64669885054695,-32.605762374694585,-32.32689602220286,-32.391701601322296,-32.5416667150818,-32.75718270556656,-32.70985408591006,-32.733343396751664,-32.51661496400038,-32.62456837860896,-32.47930891826955,-32.93399741863944,-32.561948121119215,-32.66967790992005,-32.35425628331823,-32.5087659681377,-32.634360030938474,-32.88076702845092,-32.4189641729581,-32.896084833182684,-32.88625462061603,-32.472740732456955,-32.330837494922996,-32.800969724911496,-33.18569762145773,-32.832653767720984,-32.67016798623221,-32.806309249932966,-32.872106899559455,-32.596929024781694,-32.868550373098984,-32.124931206915186,-32.95314291962704,-32.5865411717658,-32.6126510309917,-32.809809226243814,-32.70194324701813,-32.364566841649804,-32.6694703689709,-32.769231324127475,-32.840186018670785,-32.69794149742461,-32.89163026438631,-32.61567504515768,-32.58131531783984,-32.196437672690685,-32.98392629039487,-32.948955220897155,-32.857242457816035,-32.88591310238009,-32.684709583359805,-32.95486476617685,-32.85119769184703,-32.528350964257825,-32.735516115247435,-32.77138440040137,-32.74592243696493,-32.880689155607,-32.419449624807186,-32.78497243614885,-32.88099159170809,-32.37702612903914,-32.60895906229949,-32.78673017416001,-32.175929214294115,-32.7070161653106,-32.690044178724094,-32.611690503962656,-32.576003600568356,-32.576888389871144,-32.95478948668067,-32.339469687990864,-32.55833456266852,-32.924909528208666,-32.36620835346515,-32.59165079408451,-32.66463734054186,-32.74495402204139,-32.444967364238146,-32.586927476988286,-32.7827409263336,-32.39003793622856,-32.68102591828129,-33.18361258096376,-32.645499807380205,-32.4528974929192,-32.747533237940914,-32.7366792584136,-32.84913087808369,-32.79000573797581,-33.101174892829754,-32.708906253069664,-32.78498635922009,-32.76183321070971,-32.42711703357068,-32.816856902516186,-32.707023708482566,-32.59395836222851,-32.801885722354754,-32.84621339075998,-33.057921193968724,-32.98909174738195,-32.73225222563322,-32.689797878753325,-32.80176997321838,-32.57927603389586,-32.612215863510706,-32.68787210923626,-32.92689225320869,-32.35055493300963,-32.58961810760738,-32.924375900343854,-32.71169178912146,-32.60085687516304,-32.44295580242479,-32.76395828435872,-32.920523144956285,-32.74007392851532,-32.835623445049,-32.819211080449676,-32.386837973300544,-32.900568267064926,-32.679646418195624,-32.92918908954077,-32.90989703551721,-32.78392188719525,-32.71388522437742,-32.83789386035368,-32.61685890398993,-32.64309347294146,-32.7213553002441,-32.906465301123966,-32.885532718301356,-32.59905512813299,-32.670610383493624,-32.6818087466772,-32.72589502154909,-32.597646038692105,-32.85380639419081,-32.50883389700613,-32.949641959657846,-32.794987946767115,-32.80648929189927,-33.25219209606557,-32.87176437168213,-33.261732352235285,-32.69095120465742,-32.82243259053132,-32.61974293957261,-32.645997201623864,-32.79166370792573,-32.60790524979168,-32.91361482073898,-32.73001367956354]},{\"name\":\"2nd type\",\"type\":\"scatter\",\"x\":[0,1,2,3,4,5,6,7,8,9,10,11,12,13,14,15,16,17,18,19,20,21,22,23,24,25,26,27,28,29,30,31,32,33,34,35,36,37,38,39,40,41,42,43,44,45,46,47,48,49,50,51,52,53,54,55,56,57,58,59,60,61,62,63,64,65,66,67,68,69,70,71,72,73,74,75,76,77,78,79,80,81,82,83,84,85,86,87,88,89,90,91,92,93,94,95,96,97,98,99,100,101,102,103,104,105,106,107,108,109,110,111,112,113,114,115,116,117,118,119,120,121,122,123,124,125,126,127,128,129,130,131,132,133,134,135,136,137,138,139,140,141,142,143,144,145,146,147,148,149,150,151,152,153,154,155,156,157,158,159,160,161,162,163,164,165,166,167,168,169,170,171,172,173,174,175,176,177,178,179,180,181,182,183,184,185,186,187,188,189,190,191,192,193,194,195,196,197,198,199,200,201,202,203,204,205,206,207,208,209,210,211,212,213,214,215,216,217,218,219,220,221,222,223,224,225,226,227,228,229,230,231,232,233,234,235,236,237,238,239,240,241,242,243,244,245,246,247,248,249,250,251,252,253,254,255,256,257,258,259,260,261,262,263,264,265,266,267,268,269,270,271,272,273,274,275,276,277,278,279,280,281,282,283,284,285,286,287,288,289,290,291,292,293,294,295,296,297,298,299,300,301,302,303,304,305,306,307,308,309,310,311,312,313,314,315,316,317,318,319,320,321,322,323,324,325,326,327,328,329,330,331,332,333,334,335,336,337,338,339,340,341,342,343,344,345,346,347,348,349,350,351,352,353,354,355,356,357,358,359,360,361,362,363,364,365,366,367,368,369,370,371,372,373,374,375,376,377,378,379,380,381,382,383,384,385,386,387,388,389,390,391,392,393,394,395,396,397,398,399],\"y\":[-20.828750941458477,-20.783982487642334,-21.284334167306522,-21.861647187163953,-24.00158631513559,-24.89883192307198,-26.47823273675238,-27.54624191062134,-28.159766575942307,-28.81201497498873,-29.36618029458982,-29.49737790953303,-30.17671525139571,-30.203520393100487,-30.503584983890928,-30.811791606356937,-30.81862571503892,-31.296161872285882,-31.24325000118112,-31.562705081746362,-31.580057679337727,-31.626440236839315,-31.57637080664958,-31.72570756709177,-31.704012075468512,-31.89979737286822,-31.86935582718001,-32.06441954087815,-32.18622614246707,-31.977378299843192,-32.2660976335599,-32.10201282539605,-32.31670019868982,-32.25891652939235,-32.31865748293779,-32.38102091013991,-32.169504547820864,-32.520558080178695,-32.37771312857724,-32.54446294892335,-32.358446081327955,-32.54003308504428,-32.444544127554465,-32.38957496234754,-32.45340483215179,-32.66282495978979,-32.55853588176772,-32.62800721427163,-32.63208869744909,-32.49852398470972,-32.703940862920234,-32.432073159669145,-32.29653272103149,-32.576691983269136,-32.561625255103614,-32.46068824769379,-32.728112046387935,-32.689078917965254,-32.36387114832268,-32.52232820566459,-32.682171717634986,-32.64256949492429,-32.71893598346103,-32.67554364337978,-32.5444577476698,-32.763726297650116,-32.65753415213802,-32.710332554048506,-32.629385644920625,-32.76847708381053,-32.777599992820896,-32.68216735693274,-32.797991900651304,-32.821052639240115,-32.77021230331152,-32.413928877693756,-32.69025381871753,-32.883231632415054,-32.35116831775176,-32.621904886127695,-32.69945381378254,-32.61419655104907,-32.57466578942351,-32.690676958200434,-32.32011193560656,-32.44667304256597,-32.592891629252684,-32.7427360893294,-32.701253941402456,-32.485519043614225,-32.749849865936255,-32.438256107478594,-32.75125401985328,-32.77398311962735,-33.10158892663287,-32.95381385103119,-32.802419252021764,-32.69818392669098,-32.43152995191903,-32.812847081507904,-32.83500128187642,-33.02500976509226,-32.82475448714134,-32.96932194535478,-32.72168382610698,-32.706146182679404,-32.89661431856839,-32.80780828335156,-32.83132347970069,-32.87970428705042,-32.83270046531125,-32.8839717448186,-32.84331752700003,-32.54184349976566,-32.896041197472215,-32.9733013546538,-32.93496616971642,-32.800935896133,-32.92669694319005,-32.876656303639045,-32.97280587223898,-33.04311272199816,-32.97776420877657,-32.79267078848196,-32.90980308381722,-32.752415334626626,-32.93034203097801,-32.93850636875583,-32.90648495464934,-32.86878253616117,-33.114762466481764,-33.08780924577521,-32.87872782537802,-33.001678507986384,-32.49850488587612,-32.87794884061446,-32.728747884489266,-32.985269814202184,-32.81491776543638,-33.121875331068075,-32.873551040119004,-33.04908751811241,-32.64363325587834,-32.68808148260674,-32.890852448388905,-33.054991894549616,-32.571547309260055,-33.03246019997676,-33.13348347966612,-32.8024048549919,-33.027995203957495,-33.00240191265683,-32.659534576014195,-32.793098600406935,-33.062436422231016,-32.88304788467135,-32.90296609769398,-32.65621396886419,-32.853240459646344,-32.82187243016152,-32.70046486254418,-32.934438641898126,-32.736109551962755,-32.956697480239356,-32.961998151370565,-33.054375870052645,-32.8448804181076,-33.012097206897614,-32.67986896481516,-32.97743571403817,-33.11187377201446,-32.91429880619274,-32.8464762774755,-32.67975594655674,-33.1001736771487,-32.823358237432146,-32.65678630343969,-33.03233493222997,-32.917220195682575,-32.92300829562035,-32.48837641805195,-33.121996791658475,-32.884911164537854,-33.19016726480637,-32.919120396755254,-32.98454441450834,-32.716497882961924,-32.92671899664621,-32.996758439706184,-32.93031726944697,-32.99968180657726,-32.90023879046208,-33.00903777502283,-32.97019656082706,-32.86921519438428,-33.170796912240746,-32.77548831765106,-32.715475343797465,-33.06450590345755,-32.78226388983119,-32.883462903381954,-32.81851253906197,-32.87862577370483,-32.667421059527086,-32.84036838779095,-32.86419595172249,-32.926846090913564,-33.18054288331226,-33.101598867821075,-32.670681076938216,-32.65343680349005,-33.05827899494919,-33.1500001387916,-32.96195492306523,-32.827164136983995,-32.64619537809383,-32.927634560835735,-32.877705414436385,-32.814429064235156,-33.04736299029532,-33.1229243985395,-33.04466411046361,-33.0542654583987,-32.759636508992585,-32.95472144523908,-33.237493333147555,-32.67232718674045,-32.57691222552086,-32.86376080770796,-32.994498364531594,-32.69952216628088,-32.839026658555596,-32.75448112305025,-32.71157543156981,-32.70785243719732,-32.68512208618216,-33.140980920280256,-32.98208428218246,-32.71890242817203,-32.788348983163694,-33.10542926468292,-32.77201408103148,-33.13053848523271,-32.48221184649183,-32.96147944684563,-33.07847341923878,-32.862175024684404,-32.64864819974014,-33.021497216086104,-32.8828303902274,-32.79569236412247,-32.65879136424643,-33.05326924593003,-33.228498951726195,-32.28743941119163,-32.817809460770725,-32.841364621895636,-32.954063705083335,-32.63463588603885,-32.74627297135354,-32.66488005433107,-32.94972652987707,-32.909968072774035,-33.07734571622832,-32.79156834753267,-33.03438174177611,-32.93462688578457,-32.83846714656819,-32.84963804951348,-32.80705975846575,-32.76746653399977,-33.06884317351827,-33.17210117320946,-32.802131301461934,-33.221251967287714,-32.94371081232443,-32.940034526922105,-32.818250001825426,-32.55605863050217,-32.87064560450911,-33.168552825172505,-32.825019025455575,-32.88679272099527,-32.69822999111414,-33.04580047501794,-33.06872483232957,-32.70893954348644,-33.11200518519639,-32.66905214369941,-33.393309169756265,-33.00029842310641,-32.8923128422938,-33.19263981394269,-32.832606003043566,-32.60231073967663,-32.66120935182568,-32.90224414688532,-32.84518137612547,-32.68045425509508,-32.64816083861607,-32.615981342859996,-32.84354639300228,-33.17834352706549,-33.08406567544932,-33.02223327876041,-32.88831690832568,-32.83887638218703,-32.76540968398787,-32.85742709807651,-32.800918566488335,-32.66560859461043,-32.868628806972026,-33.05915128980599,-32.79505576335029,-32.79871479963554,-32.931293215053905,-32.96588412236905,-32.78328855667514,-32.86338481768543,-33.030135020007904,-32.66617985293977,-32.71383872920035,-33.11558852379464,-32.70670173407008,-33.10007483027146,-32.96064722861995,-32.72259749262812,-32.768810403503345,-33.031825306307724,-32.862170956306834,-32.816410328614545,-32.96076056236405,-32.749611576730736,-32.8341173141475,-33.07570003719119,-32.94907929100295,-32.898517642645395,-32.46354700359018,-33.07352840875899,-32.96231822701411,-32.84131346474696,-32.857192468800946,-32.91752974239166,-33.15234600537918,-32.81479064238952,-33.255207849209526,-32.58841008628937,-33.07485474281674,-32.51153140572756,-32.70396245144674,-33.113871606525116,-32.388978668317314,-33.04557405483464,-32.66834406817957,-32.66263236951266,-32.62344739877721,-32.82712242771102,-33.02309540709536,-32.769884127560175,-32.7901816514239,-33.01041696852121,-32.85989452225088,-33.0164440093373,-32.601280419087324,-32.982294778978726,-32.76872031287248,-32.63814312634022,-32.95099953387709,-32.988443765618065,-33.29073476174311,-33.236613377180085,-33.08424142910708,-32.632348543863706,-32.83541966624547,-32.751809873266154,-32.68349549916073,-32.982156402799454,-32.969566694947474,-32.56258487212747,-32.8518431157141,-32.9492988365525,-32.98289993631322,-32.843842286482534,-32.81597242429988,-32.775203605645984,-32.69483920090342,-32.676226756684564,-32.75152897464901,-33.00059753775751,-32.76657554401256,-32.88014266232763,-33.20521014400309,-32.70407567231984,-32.92800770923535,-32.97140061422213,-32.709431745681165,-32.977917169254944,-32.858187724855284,-32.79730355423207,-32.91387356753179]}],                        {\"shapes\":[{\"line\":{\"width\":1},\"opacity\":1,\"type\":\"line\",\"x0\":0,\"x1\":1,\"xref\":\"x domain\",\"y0\":-34.08190778603119,\"y1\":-34.08190778603119,\"yref\":\"y\"}],\"template\":{\"data\":{\"bar\":[{\"error_x\":{\"color\":\"rgb(36,36,36)\"},\"error_y\":{\"color\":\"rgb(36,36,36)\"},\"marker\":{\"line\":{\"color\":\"white\",\"width\":0.5},\"pattern\":{\"fillmode\":\"overlay\",\"size\":10,\"solidity\":0.2}},\"type\":\"bar\"}],\"barpolar\":[{\"marker\":{\"line\":{\"color\":\"white\",\"width\":0.5},\"pattern\":{\"fillmode\":\"overlay\",\"size\":10,\"solidity\":0.2}},\"type\":\"barpolar\"}],\"carpet\":[{\"aaxis\":{\"endlinecolor\":\"rgb(36,36,36)\",\"gridcolor\":\"white\",\"linecolor\":\"white\",\"minorgridcolor\":\"white\",\"startlinecolor\":\"rgb(36,36,36)\"},\"baxis\":{\"endlinecolor\":\"rgb(36,36,36)\",\"gridcolor\":\"white\",\"linecolor\":\"white\",\"minorgridcolor\":\"white\",\"startlinecolor\":\"rgb(36,36,36)\"},\"type\":\"carpet\"}],\"choropleth\":[{\"colorbar\":{\"outlinewidth\":1,\"tickcolor\":\"rgb(36,36,36)\",\"ticks\":\"outside\"},\"type\":\"choropleth\"}],\"contour\":[{\"colorbar\":{\"outlinewidth\":1,\"tickcolor\":\"rgb(36,36,36)\",\"ticks\":\"outside\"},\"colorscale\":[[0.0,\"#440154\"],[0.1111111111111111,\"#482878\"],[0.2222222222222222,\"#3e4989\"],[0.3333333333333333,\"#31688e\"],[0.4444444444444444,\"#26828e\"],[0.5555555555555556,\"#1f9e89\"],[0.6666666666666666,\"#35b779\"],[0.7777777777777778,\"#6ece58\"],[0.8888888888888888,\"#b5de2b\"],[1.0,\"#fde725\"]],\"type\":\"contour\"}],\"contourcarpet\":[{\"colorbar\":{\"outlinewidth\":1,\"tickcolor\":\"rgb(36,36,36)\",\"ticks\":\"outside\"},\"type\":\"contourcarpet\"}],\"heatmap\":[{\"colorbar\":{\"outlinewidth\":1,\"tickcolor\":\"rgb(36,36,36)\",\"ticks\":\"outside\"},\"colorscale\":[[0.0,\"#440154\"],[0.1111111111111111,\"#482878\"],[0.2222222222222222,\"#3e4989\"],[0.3333333333333333,\"#31688e\"],[0.4444444444444444,\"#26828e\"],[0.5555555555555556,\"#1f9e89\"],[0.6666666666666666,\"#35b779\"],[0.7777777777777778,\"#6ece58\"],[0.8888888888888888,\"#b5de2b\"],[1.0,\"#fde725\"]],\"type\":\"heatmap\"}],\"heatmapgl\":[{\"colorbar\":{\"outlinewidth\":1,\"tickcolor\":\"rgb(36,36,36)\",\"ticks\":\"outside\"},\"colorscale\":[[0.0,\"#440154\"],[0.1111111111111111,\"#482878\"],[0.2222222222222222,\"#3e4989\"],[0.3333333333333333,\"#31688e\"],[0.4444444444444444,\"#26828e\"],[0.5555555555555556,\"#1f9e89\"],[0.6666666666666666,\"#35b779\"],[0.7777777777777778,\"#6ece58\"],[0.8888888888888888,\"#b5de2b\"],[1.0,\"#fde725\"]],\"type\":\"heatmapgl\"}],\"histogram\":[{\"marker\":{\"line\":{\"color\":\"white\",\"width\":0.6}},\"type\":\"histogram\"}],\"histogram2d\":[{\"colorbar\":{\"outlinewidth\":1,\"tickcolor\":\"rgb(36,36,36)\",\"ticks\":\"outside\"},\"colorscale\":[[0.0,\"#440154\"],[0.1111111111111111,\"#482878\"],[0.2222222222222222,\"#3e4989\"],[0.3333333333333333,\"#31688e\"],[0.4444444444444444,\"#26828e\"],[0.5555555555555556,\"#1f9e89\"],[0.6666666666666666,\"#35b779\"],[0.7777777777777778,\"#6ece58\"],[0.8888888888888888,\"#b5de2b\"],[1.0,\"#fde725\"]],\"type\":\"histogram2d\"}],\"histogram2dcontour\":[{\"colorbar\":{\"outlinewidth\":1,\"tickcolor\":\"rgb(36,36,36)\",\"ticks\":\"outside\"},\"colorscale\":[[0.0,\"#440154\"],[0.1111111111111111,\"#482878\"],[0.2222222222222222,\"#3e4989\"],[0.3333333333333333,\"#31688e\"],[0.4444444444444444,\"#26828e\"],[0.5555555555555556,\"#1f9e89\"],[0.6666666666666666,\"#35b779\"],[0.7777777777777778,\"#6ece58\"],[0.8888888888888888,\"#b5de2b\"],[1.0,\"#fde725\"]],\"type\":\"histogram2dcontour\"}],\"mesh3d\":[{\"colorbar\":{\"outlinewidth\":1,\"tickcolor\":\"rgb(36,36,36)\",\"ticks\":\"outside\"},\"type\":\"mesh3d\"}],\"parcoords\":[{\"line\":{\"colorbar\":{\"outlinewidth\":1,\"tickcolor\":\"rgb(36,36,36)\",\"ticks\":\"outside\"}},\"type\":\"parcoords\"}],\"pie\":[{\"automargin\":true,\"type\":\"pie\"}],\"scatter\":[{\"marker\":{\"colorbar\":{\"outlinewidth\":1,\"tickcolor\":\"rgb(36,36,36)\",\"ticks\":\"outside\"}},\"type\":\"scatter\"}],\"scatter3d\":[{\"line\":{\"colorbar\":{\"outlinewidth\":1,\"tickcolor\":\"rgb(36,36,36)\",\"ticks\":\"outside\"}},\"marker\":{\"colorbar\":{\"outlinewidth\":1,\"tickcolor\":\"rgb(36,36,36)\",\"ticks\":\"outside\"}},\"type\":\"scatter3d\"}],\"scattercarpet\":[{\"marker\":{\"colorbar\":{\"outlinewidth\":1,\"tickcolor\":\"rgb(36,36,36)\",\"ticks\":\"outside\"}},\"type\":\"scattercarpet\"}],\"scattergeo\":[{\"marker\":{\"colorbar\":{\"outlinewidth\":1,\"tickcolor\":\"rgb(36,36,36)\",\"ticks\":\"outside\"}},\"type\":\"scattergeo\"}],\"scattergl\":[{\"marker\":{\"colorbar\":{\"outlinewidth\":1,\"tickcolor\":\"rgb(36,36,36)\",\"ticks\":\"outside\"}},\"type\":\"scattergl\"}],\"scattermapbox\":[{\"marker\":{\"colorbar\":{\"outlinewidth\":1,\"tickcolor\":\"rgb(36,36,36)\",\"ticks\":\"outside\"}},\"type\":\"scattermapbox\"}],\"scatterpolar\":[{\"marker\":{\"colorbar\":{\"outlinewidth\":1,\"tickcolor\":\"rgb(36,36,36)\",\"ticks\":\"outside\"}},\"type\":\"scatterpolar\"}],\"scatterpolargl\":[{\"marker\":{\"colorbar\":{\"outlinewidth\":1,\"tickcolor\":\"rgb(36,36,36)\",\"ticks\":\"outside\"}},\"type\":\"scatterpolargl\"}],\"scatterternary\":[{\"marker\":{\"colorbar\":{\"outlinewidth\":1,\"tickcolor\":\"rgb(36,36,36)\",\"ticks\":\"outside\"}},\"type\":\"scatterternary\"}],\"surface\":[{\"colorbar\":{\"outlinewidth\":1,\"tickcolor\":\"rgb(36,36,36)\",\"ticks\":\"outside\"},\"colorscale\":[[0.0,\"#440154\"],[0.1111111111111111,\"#482878\"],[0.2222222222222222,\"#3e4989\"],[0.3333333333333333,\"#31688e\"],[0.4444444444444444,\"#26828e\"],[0.5555555555555556,\"#1f9e89\"],[0.6666666666666666,\"#35b779\"],[0.7777777777777778,\"#6ece58\"],[0.8888888888888888,\"#b5de2b\"],[1.0,\"#fde725\"]],\"type\":\"surface\"}],\"table\":[{\"cells\":{\"fill\":{\"color\":\"rgb(237,237,237)\"},\"line\":{\"color\":\"white\"}},\"header\":{\"fill\":{\"color\":\"rgb(217,217,217)\"},\"line\":{\"color\":\"white\"}},\"type\":\"table\"}]},\"layout\":{\"annotationdefaults\":{\"arrowhead\":0,\"arrowwidth\":1},\"autotypenumbers\":\"strict\",\"coloraxis\":{\"colorbar\":{\"outlinewidth\":1,\"tickcolor\":\"rgb(36,36,36)\",\"ticks\":\"outside\"}},\"colorscale\":{\"diverging\":[[0.0,\"rgb(103,0,31)\"],[0.1,\"rgb(178,24,43)\"],[0.2,\"rgb(214,96,77)\"],[0.3,\"rgb(244,165,130)\"],[0.4,\"rgb(253,219,199)\"],[0.5,\"rgb(247,247,247)\"],[0.6,\"rgb(209,229,240)\"],[0.7,\"rgb(146,197,222)\"],[0.8,\"rgb(67,147,195)\"],[0.9,\"rgb(33,102,172)\"],[1.0,\"rgb(5,48,97)\"]],\"sequential\":[[0.0,\"#440154\"],[0.1111111111111111,\"#482878\"],[0.2222222222222222,\"#3e4989\"],[0.3333333333333333,\"#31688e\"],[0.4444444444444444,\"#26828e\"],[0.5555555555555556,\"#1f9e89\"],[0.6666666666666666,\"#35b779\"],[0.7777777777777778,\"#6ece58\"],[0.8888888888888888,\"#b5de2b\"],[1.0,\"#fde725\"]],\"sequentialminus\":[[0.0,\"#440154\"],[0.1111111111111111,\"#482878\"],[0.2222222222222222,\"#3e4989\"],[0.3333333333333333,\"#31688e\"],[0.4444444444444444,\"#26828e\"],[0.5555555555555556,\"#1f9e89\"],[0.6666666666666666,\"#35b779\"],[0.7777777777777778,\"#6ece58\"],[0.8888888888888888,\"#b5de2b\"],[1.0,\"#fde725\"]]},\"colorway\":[\"#1F77B4\",\"#FF7F0E\",\"#2CA02C\",\"#D62728\",\"#9467BD\",\"#8C564B\",\"#E377C2\",\"#7F7F7F\",\"#BCBD22\",\"#17BECF\"],\"font\":{\"color\":\"rgb(36,36,36)\"},\"geo\":{\"bgcolor\":\"white\",\"lakecolor\":\"white\",\"landcolor\":\"white\",\"showlakes\":true,\"showland\":true,\"subunitcolor\":\"white\"},\"hoverlabel\":{\"align\":\"left\"},\"hovermode\":\"closest\",\"mapbox\":{\"style\":\"light\"},\"paper_bgcolor\":\"white\",\"plot_bgcolor\":\"white\",\"polar\":{\"angularaxis\":{\"gridcolor\":\"rgb(232,232,232)\",\"linecolor\":\"rgb(36,36,36)\",\"showgrid\":false,\"showline\":true,\"ticks\":\"outside\"},\"bgcolor\":\"white\",\"radialaxis\":{\"gridcolor\":\"rgb(232,232,232)\",\"linecolor\":\"rgb(36,36,36)\",\"showgrid\":false,\"showline\":true,\"ticks\":\"outside\"}},\"scene\":{\"xaxis\":{\"backgroundcolor\":\"white\",\"gridcolor\":\"rgb(232,232,232)\",\"gridwidth\":2,\"linecolor\":\"rgb(36,36,36)\",\"showbackground\":true,\"showgrid\":false,\"showline\":true,\"ticks\":\"outside\",\"zeroline\":false,\"zerolinecolor\":\"rgb(36,36,36)\"},\"yaxis\":{\"backgroundcolor\":\"white\",\"gridcolor\":\"rgb(232,232,232)\",\"gridwidth\":2,\"linecolor\":\"rgb(36,36,36)\",\"showbackground\":true,\"showgrid\":false,\"showline\":true,\"ticks\":\"outside\",\"zeroline\":false,\"zerolinecolor\":\"rgb(36,36,36)\"},\"zaxis\":{\"backgroundcolor\":\"white\",\"gridcolor\":\"rgb(232,232,232)\",\"gridwidth\":2,\"linecolor\":\"rgb(36,36,36)\",\"showbackground\":true,\"showgrid\":false,\"showline\":true,\"ticks\":\"outside\",\"zeroline\":false,\"zerolinecolor\":\"rgb(36,36,36)\"}},\"shapedefaults\":{\"fillcolor\":\"black\",\"line\":{\"width\":0},\"opacity\":0.3},\"ternary\":{\"aaxis\":{\"gridcolor\":\"rgb(232,232,232)\",\"linecolor\":\"rgb(36,36,36)\",\"showgrid\":false,\"showline\":true,\"ticks\":\"outside\"},\"baxis\":{\"gridcolor\":\"rgb(232,232,232)\",\"linecolor\":\"rgb(36,36,36)\",\"showgrid\":false,\"showline\":true,\"ticks\":\"outside\"},\"bgcolor\":\"white\",\"caxis\":{\"gridcolor\":\"rgb(232,232,232)\",\"linecolor\":\"rgb(36,36,36)\",\"showgrid\":false,\"showline\":true,\"ticks\":\"outside\"}},\"title\":{\"x\":0.05},\"xaxis\":{\"automargin\":true,\"gridcolor\":\"rgb(232,232,232)\",\"linecolor\":\"rgb(36,36,36)\",\"showgrid\":false,\"showline\":true,\"ticks\":\"outside\",\"title\":{\"standoff\":15},\"zeroline\":false,\"zerolinecolor\":\"rgb(36,36,36)\"},\"yaxis\":{\"automargin\":true,\"gridcolor\":\"rgb(232,232,232)\",\"linecolor\":\"rgb(36,36,36)\",\"showgrid\":false,\"showline\":true,\"ticks\":\"outside\",\"title\":{\"standoff\":15},\"zeroline\":false,\"zerolinecolor\":\"rgb(36,36,36)\"}}},\"title\":{\"text\":\"<b>S-S model </b>, L=16, J2 =1, J1 =0.9 , η=0.01, α=256, samples=1000\"},\"xaxis\":{\"mirror\":true,\"showline\":true,\"title\":{\"text\":\"Iteration\"}},\"yaxis\":{\"mirror\":true,\"showline\":true,\"title\":{\"text\":\"Energy\"}}},                        {\"responsive\": true}                    ).then(function(){\n",
       "                            \n",
       "var gd = document.getElementById('ff967b04-1793-4d20-b792-ff23db22044d');\n",
       "var x = new MutationObserver(function (mutations, observer) {{\n",
       "        var display = window.getComputedStyle(gd).display;\n",
       "        if (!display || display === 'none') {{\n",
       "            console.log([gd, 'removed!']);\n",
       "            Plotly.purge(gd);\n",
       "            observer.disconnect();\n",
       "        }}\n",
       "}});\n",
       "\n",
       "// Listen for the removal of the full notebook cells\n",
       "var notebookContainer = gd.closest('#notebook-container');\n",
       "if (notebookContainer) {{\n",
       "    x.observe(notebookContainer, {childList: true});\n",
       "}}\n",
       "\n",
       "// Listen for the clearing of the current output cell\n",
       "var outputEl = gd.closest('.output');\n",
       "if (outputEl) {{\n",
       "    x.observe(outputEl, {childList: true});\n",
       "}}\n",
       "\n",
       "                        })                };                });            </script>        </div>"
      ]
     },
     "metadata": {},
     "output_type": "display_data"
    }
   ],
   "source": [
    "# import the data from log file\n",
    "OUT_NAME_suffixless=OUT_NAME\n",
    "data = []\n",
    "for i in range(no_of_runs):\n",
    "    data.append(json.load(open(OUT_NAME_suffixless+str(i)+\".log\")))\n",
    "names = [\"1st type\",\"2nd type\"]\n",
    "if type(data[0][\"Energy\"][\"Mean\"]) == dict: #DTYPE in (np.complex128, np.complex64):#, np.float64):# and False:\n",
    "    energy_convergence = [data[i][\"Energy\"][\"Mean\"][\"real\"] for i in range(no_of_runs)]\n",
    "    # symmetry = [data[i][\"symmetry\"][\"Mean\"][\"real\"] for i in range(no_of_runs-run_only_2)]\n",
    "else:\n",
    "    energy_convergence = [data[i][\"Energy\"][\"Mean\"] for i in range(no_of_runs)]\n",
    "    # symmetry = [data[i][\"symmetry\"][\"Mean\"] for i in range(no_of_runs-run_only_2)]\n",
    "for i in range(no_of_runs):\n",
    "    figure.add_trace(go.Scatter(\n",
    "        x=data[i][\"Energy\"][\"iters\"], y=energy_convergence[i],\n",
    "        name=names[i]\n",
    "    ))\n",
    "    # figure.add_trace(go.Scatter(\n",
    "    #     x=data[i][\"Energy\"][\"iters\"], y=symmetry[i],\n",
    "    #     name=names[i]+\"_swap\"\n",
    "    # ))\n",
    "\n",
    "figure.update_layout(xaxis_title=\"Iteration\",yaxis_title=\"Energy\")\n",
    "figure.show()"
   ]
  },
  {
   "cell_type": "markdown",
   "metadata": {},
   "source": [
    "## Assessment of the other simulation results"
   ]
  },
  {
   "cell_type": "code",
   "execution_count": 63,
   "metadata": {},
   "outputs": [
    {
     "name": "stdout",
     "output_type": "stream",
     "text": [
      "[-1, -1]\n"
     ]
    }
   ],
   "source": [
    "# Calculation of how long it took to reach 99.5% of exact energy. The first value under 0.5% deviation counts as a converged state.\n",
    "threshold_energy = 0.995*exact_ground_energy\n",
    "data = []\n",
    "for i in range(no_of_runs):\n",
    "    data.append(json.load(open(OUT_NAME+str(i)+\".log\")))\n",
    "if type(data[0][\"Energy\"][\"Mean\"]) == dict:\n",
    "    energy_convergence = [data[i][\"Energy\"][\"Mean\"][\"real\"] for i in range(no_of_runs)]\n",
    "else:\n",
    "    energy_convergence = [data[i][\"Energy\"][\"Mean\"] for i in range(no_of_runs)]\n",
    "steps_until_convergence = [next((i for i,v in enumerate(energy_convergence[j]) if v < threshold_energy), -1) for j in range(no_of_runs)]\n",
    "print(steps_until_convergence)"
   ]
  },
  {
   "cell_type": "code",
   "execution_count": 64,
   "metadata": {},
   "outputs": [
    {
     "name": "stdout",
     "output_type": "stream",
     "text": [
      "Trained RBM without MSR:\n",
      "m_d^2 = -0.2296+0.0004j ± 0.0040 [σ²=0.0193]\n",
      "m_p(MSR) = 0.043-0.004j ± 0.030 [σ²=0.816]\n",
      "m_s^2 = 0.3471-0.0006j ± 0.0098 [σ²=0.1106]\n",
      "m_s^2(MSR) = 0.942+0.001j ± 0.010 [σ²=0.141]\n",
      "Trained RBM with MSR:\n",
      "m_d^2 = -0.2372+0.0043j ± 0.0047 [σ²=0.0195]\n",
      "m_p(MSR) = 0.001-0.005j ± 0.043 [σ²=1.961]\n",
      "m_s^2 = 0.9608-0.0058j ± 0.0093 [σ²=0.1123]\n",
      "m_s^2(MSR) = 0.3366+0.0004j ± 0.0095 [σ²=0.1030]\n"
     ]
    }
   ],
   "source": [
    "# Evaluation of order parameters.\n",
    "from lattice_and_ops import Operators, Lattice\n",
    "ops = Operators(lattice,hilbert,ho.mszsz,ho.exchange)\n",
    "for i,gs in enumerate([gs_1,gs_2][run_only_2:run_only_2+no_of_runs]):\n",
    "    print(\"Trained RBM with MSR:\" if i else \"Trained RBM without MSR:\")\n",
    "    print(\"m_d^2 =\", gs.estimate(ops.m_dimer_op))\n",
    "    print(\"m_p(MSR) =\", gs.estimate(ops.m_plaquette_op_MSR))\n",
    "    print(\"m_s^2 =\", gs.estimate(ops.m_s2_op_MSR))\n",
    "    print(\"m_s^2(MSR) =\", gs.estimate(ops.m_s2_op))"
   ]
  },
  {
   "cell_type": "markdown",
   "metadata": {},
   "source": [
    "### Print final results"
   ]
  },
  {
   "cell_type": "code",
   "execution_count": 65,
   "metadata": {},
   "outputs": [
    {
     "name": "stdout",
     "output_type": "stream",
     "text": [
      "  0.90000     -32.73001     -0.22959      0.07956      0.94201    1000.00000    400.00000     -1.00000\n"
     ]
    }
   ],
   "source": [
    "print(\"{:9.5f}     {:9.5f}    {:9.5f}    {:9.5f}    {:9.5f}    {:9.5f}    {:9.5f}    {:9.5f}\".format(JEXCH1, gs_1.energy.mean.real, gs_1.estimate(ops.m_dimer_op).mean.real, gs_1.estimate(ops.m_plaquette_op).mean.real, gs_1.estimate(ops.m_s2_op).mean.real, SAMPLES, NUM_ITER, steps_until_convergence[0], sep='    '))"
   ]
  }
 ],
 "metadata": {
  "interpreter": {
   "hash": "31f2aee4e71d21fbe5cf8b01ff0e069b9275f58929596ceb00d14d90e3e16cd6"
  },
  "kernelspec": {
   "display_name": "Python 3.8.10 64-bit",
   "name": "python3"
  },
  "language_info": {
   "codemirror_mode": {
    "name": "ipython",
    "version": 3
   },
   "file_extension": ".py",
   "mimetype": "text/x-python",
   "name": "python",
   "nbconvert_exporter": "python",
   "pygments_lexer": "ipython3",
   "version": "3.8.10"
  },
  "metadata": {
   "interpreter": {
    "hash": "916dbcbb3f70747c44a77c7bcd40155683ae19c65e1c03b4aa3499c5328201f1"
   }
  }
 },
 "nbformat": 4,
 "nbformat_minor": 4
}
