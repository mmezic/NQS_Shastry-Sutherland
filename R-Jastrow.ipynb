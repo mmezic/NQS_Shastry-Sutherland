{
 "cells": [
  {
   "cell_type": "markdown",
   "metadata": {},
   "source": [
    "# Exploring Shastry-Sutherland model with symmetric RBM (similar machine as in Science 2017)"
   ]
  },
  {
   "cell_type": "code",
   "execution_count": 1,
   "metadata": {},
   "outputs": [
    {
     "name": "stdout",
     "output_type": "stream",
     "text": [
      "NetKet version: 3.3.1\n",
      "NumPy version: 1.20.3\n"
     ]
    }
   ],
   "source": [
    "import netket as nk\n",
    "import numpy as np\n",
    "import time\n",
    "import json\n",
    "import plotly.graph_objects as go\n",
    "import matplotlib.pyplot as plt\n",
    "import jax\n",
    "import flax\n",
    "import pprint\n",
    "import netket.nn as nknn\n",
    "import flax.linen as nn\n",
    "import jax.numpy as jnp\n",
    "print(\"NetKet version: {}\".format(nk.__version__))\n",
    "print(\"NumPy version: {}\".format(np.__version__))"
   ]
  },
  {
   "cell_type": "markdown",
   "metadata": {},
   "source": [
    "Setup relevant parameters"
   ]
  },
  {
   "cell_type": "code",
   "execution_count": 2,
   "metadata": {},
   "outputs": [],
   "source": [
    "\"\"\"lattice\"\"\"\n",
    "SITES    = 16            # 4, 8, 16, 20 ... number of vertices in a tile determines the tile shape \n",
    "JEXCH1   = .2           # nn interaction\n",
    "JEXCH2   = 1            # nnn interaction\n",
    "#USE_MSR  = True        # should we use a Marshall sign rule?\n",
    "\"\"\"machine learning\"\"\"\n",
    "TOTAL_SZ = None         # 0, None ... restriction of Hilbert space\n",
    "DTYPE = np.complex128   # type of weights in neural network\n",
    "SAMPLER = 'local'       # 'local' = MetropolisLocal, 'exchange' = MetropolisExchange\n",
    "ALPHA = 16              # N_hidden / N_visible\n",
    "ETA   = .01             # learning rate (0.01 usually works)\n",
    "SAMPLES = 1200\n",
    "NUM_ITER = 500\n",
    "\n",
    "OUT_NAME = \"SS-RBM_ops\"+str(SITES)+\"j1=\"+str(JEXCH1) # output file name"
   ]
  },
  {
   "cell_type": "markdown",
   "metadata": {},
   "source": [
    "Lattice and hamiltonian definition: &nbsp; &nbsp; &nbsp; &nbsp; &nbsp; &nbsp; &nbsp; &nbsp; &nbsp; $ H = J_{1} \\sum_{\\langle i,j \\rangle}^{L} \\vec{\\sigma}_{i} \\cdot \\vec{\\sigma}_{j} + J_{2} \\sum_{\\langle\\langle i,j \\rangle\\rangle_{SS}}^{L}  \\vec{\\sigma}_{i} \\cdot \\vec{\\sigma}_{j}\\,, $"
   ]
  },
  {
   "cell_type": "code",
   "execution_count": 3,
   "metadata": {},
   "outputs": [],
   "source": [
    "if SITES == 64:\n",
    "    indent = [0,0,0,0,0,0,0,0]\n",
    "    width = [8,8,8,8,8,8,8,8]\n",
    "    right_shift = 0\n",
    "    bottom_shift = 0\n",
    "elif SITES == 36:\n",
    "    indent = [0,0,0,0,0,0]\n",
    "    width = [6,6,6,6,6,6]\n",
    "    right_shift = 0\n",
    "    bottom_shift = 0\n",
    "elif SITES == 20: #tile shape definition\n",
    "    indent = [3,1,0,1,1,2]\n",
    "    width = [1,4,5,5,4,1]\n",
    "    right_shift = 2 #vertical shift of the center of (top) right tile (in the upward direction)\n",
    "    bottom_shift = 4 #horizontal shift of the center of bottom (left) tile (in the left direction)\n",
    "elif SITES == 16:\n",
    "    indent = [0,0,0,0]\n",
    "    width = [4,4,4,4]\n",
    "    right_shift = 0\n",
    "    bottom_shift = 0\n",
    "elif SITES == 8:\n",
    "    indent = [1,0,1]\n",
    "    width = [2,4,2]\n",
    "    right_shift = 2\n",
    "    bottom_shift = 2\n",
    "elif SITES == 4:\n",
    "    indent = [0,0]\n",
    "    width = [2,2]\n",
    "    right_shift = 0\n",
    "    bottom_shift = 0\n",
    "else:\n",
    "    raise Exception(\"Invalid number of sites given.\")\n",
    "N = sum(width) #number of nodes\n",
    "\n",
    "deg45 = True # special case when angle of tiling is 45 deg\n",
    "i = 0\n",
    "while deg45 and i < len(width)-1:\n",
    "    deg45 = (width[i] == width[i+1] + 2 or width[i] == width[i+1] - 2)\n",
    "    i += 1\n",
    "vertical_gap = False # is there a 1-site-sized gap between bottom (left) tile and left (top) tile ? \n",
    "horizontal_gap = False # is there a 1-site-sized gap between bottom (left) tile and bottom right tile ?\n",
    "if deg45:\n",
    "    if width[i]%2 == 0:\n",
    "        vertical_gap = True\n",
    "    else:\n",
    "        horizontal_gap = True\n",
    "        Exception(\"Not implemented ERROR during lattice definition. Please rotate given lattice by 90 degrees. This special case happens only when dealing with 45 deg tilings.\")\n",
    "\n",
    "left_shift = len(width) - right_shift + vertical_gap #vertical shift of the center of (top) left tile (in the upward direction)\n",
    "\n",
    "\n",
    "# i j-->\n",
    "# | .   .   .   0  \n",
    "# V .   1   2   3   4\n",
    "#   5   6   7   8   9\n",
    "#   .   10  11  12  13  14\n",
    "#   .   15  16  17  18\n",
    "#   .   .   19\n",
    "\n",
    "def getRandomNumber(): #returns a random integer\n",
    "    return 4\n",
    "def position(node): #returns positional indices i,j of the node\n",
    "    row, n = 0, 0\n",
    "    while n+width[row] <= node:\n",
    "        n += width[row]\n",
    "        row += 1\n",
    "    column = indent[row] + node - n \n",
    "    return row, column\n",
    "def index_n(row, column): #returns index n given positional indices\n",
    "    return sum(width[0:row]) + column - indent[row]\n",
    "def is_last(node):\n",
    "    row, column = position(node)\n",
    "    return (column == width[row] + indent[row] - 1)\n",
    "def is_first(node):\n",
    "    row, column = position(node)\n",
    "    return (column == indent[row])\n",
    "def is_lowest(node):\n",
    "    row, column = position(node)\n",
    "    if row == len(width) - 1:\n",
    "        return True\n",
    "    else:\n",
    "        row += 1\n",
    "        if column >= indent[row] and column < indent[row] + width[row]:\n",
    "            return False\n",
    "        else:\n",
    "            return True\n",
    "def rt(node): #returns index n of right neighbour\n",
    "    if is_last(node):\n",
    "        new_row = (position(node)[0] + right_shift)%(len(width)+vertical_gap)\n",
    "        if new_row == len(width): # special case of gap\n",
    "            new_row -= right_shift\n",
    "        return sum(width[0:new_row])\n",
    "    else:\n",
    "        return (node+1)%N\n",
    "def lft(node): #returns index n of left neighbour\n",
    "    if is_first(node):\n",
    "        new_row = (position(node)[0] + left_shift)%(len(width)+vertical_gap)\n",
    "        if new_row == len(width):\n",
    "            new_row -= left_shift\n",
    "        return sum(width[0:new_row])+width[new_row]-1\n",
    "    else:\n",
    "        return (node-1)%N\n",
    "def bot(node): #returns index n of bottom neighbour\n",
    "    row, column = position(node)\n",
    "    if is_lowest(node):\n",
    "        no_of_columns = np.array(width)+np.array(indent)\n",
    "        new_column = (column + bottom_shift)%max(no_of_columns)\n",
    "        new_row = 0\n",
    "        while new_column >= no_of_columns[new_row] or new_column < indent[new_row]:\n",
    "            new_row += 1\n",
    "        return index_n(new_row,new_column)\n",
    "    else:\n",
    "        return (node + width[row] + indent[row] - indent[row+1])\n",
    "def lrt(node):\n",
    "    return rt(bot(node))\n",
    "def llft(node):\n",
    "    return lft(bot(node))\n",
    "#def dimer_partner(node): #retunrs the index of the site which has J_2 bond with given node (partner in always unique in SS model)\n",
    "#    row, column = position(node)\n",
    "#    return TODO\n",
    "\n",
    "# Define custom graph\n",
    "edge_colors = []\n",
    "for node in range(N):\n",
    "    edge_colors.append([node,rt(node), 1]) #horizontal connections\n",
    "    edge_colors.append([node,bot(node), 1]) #vertical connections\n",
    "    row, column = position(node)\n",
    "    if column%2 == 0:\n",
    "        if row%2 == 0:\n",
    "            edge_colors.append([node,lrt(node),2])\n",
    "        else:\n",
    "            edge_colors.append([node,llft(node),2])\n",
    "\n",
    "\n",
    "# Define the netket graph object\n",
    "g = nk.graph.Graph(edges=edge_colors)\n",
    "\n",
    "hilbert = nk.hilbert.Spin(s=.5, N=g.n_nodes, total_sz=TOTAL_SZ)\n",
    "\n",
    "\n",
    "#Sigma^z*Sigma^z interactions\n",
    "sigmaz = [[1, 0], [0, -1]]\n",
    "mszsz = (np.kron(sigmaz, sigmaz)) #=sz*sz\n",
    "#Exchange interactions\n",
    "exchange = np.asarray([[0, 0, 0, 0], [0, 0, 2, 0], [0, 2, 0, 0], [0, 0, 0, 0]]) #=sx*sx+sy*sy = 1/2*(sp*sm+sm*sp)\n",
    "full_spin = mszsz+exchange # = S*S = sx*sx + sy*sy + sz*sz\n",
    "bond_color = [1, 2, 1, 2]"
   ]
  },
  {
   "cell_type": "code",
   "execution_count": 4,
   "metadata": {},
   "outputs": [
    {
     "name": "stdout",
     "output_type": "stream",
     "text": [
      "128\n"
     ]
    }
   ],
   "source": [
    "print(len(g.automorphisms()))"
   ]
  },
  {
   "cell_type": "markdown",
   "metadata": {},
   "source": [
    "## Hamoltonian"
   ]
  },
  {
   "cell_type": "code",
   "execution_count": 5,
   "metadata": {},
   "outputs": [],
   "source": [
    "bond_operator = [\n",
    "    (JEXCH1 * mszsz).tolist(),\n",
    "    (JEXCH2 * mszsz).tolist(),\n",
    "    (JEXCH1 * exchange).tolist(), # minus in case of MSR\n",
    "    (JEXCH2 * exchange).tolist(),\n",
    "]\n",
    "bond_operatorMSR = [\n",
    "    (JEXCH1 * mszsz).tolist(),\n",
    "    (JEXCH2 * mszsz).tolist(),\n",
    "    (-JEXCH1 * exchange).tolist(), # minus in case of MSR\n",
    "    (JEXCH2 * exchange).tolist(),\n",
    "]\n",
    "ha = nk.operator.GraphOperator(hilbert, graph=g, bond_ops=bond_operator, bond_ops_colors=bond_color)\n",
    "ha_MSR = nk.operator.GraphOperator(hilbert, graph=g, bond_ops=bond_operatorMSR, bond_ops_colors=bond_color)\n"
   ]
  },
  {
   "cell_type": "markdown",
   "metadata": {},
   "source": [
    "## Exact diagonalization"
   ]
  },
  {
   "cell_type": "code",
   "execution_count": 6,
   "metadata": {},
   "outputs": [
    {
     "name": "stdout",
     "output_type": "stream",
     "text": [
      "Ground state energy: -11.999999999999996 \n",
      "It took  2.9 s = 0.05 min\n"
     ]
    }
   ],
   "source": [
    "if g.n_nodes < 21:\n",
    "    start = time.time()\n",
    "    evals, eigvects = nk.exact.lanczos_ed(ha, k=3, compute_eigenvectors=True)\n",
    "    #evals = nk.exact.lanczos_ed(ha, compute_eigenvectors=False) #.lanczos_ed\n",
    "    end = time.time()\n",
    "    diag_time = end - start\n",
    "    exact_ground_energy = evals[0]\n",
    "    print(\"Ground state energy:\",exact_ground_energy, \"\\nIt took \", round(diag_time,2), \"s =\", round((diag_time)/60,2),\"min\")\n",
    "else:\n",
    "    print(\"System is too large for exact diagonalization. Setting exact_ground_energy = 0 (which is wrong)\")\n",
    "    exact_ground_energy = 0\n",
    "    eigvects = None \n",
    "# -36.2460684609957 "
   ]
  },
  {
   "cell_type": "markdown",
   "metadata": {},
   "source": [
    "## Zkouška implementace parametru uspořádání"
   ]
  },
  {
   "cell_type": "markdown",
   "metadata": {},
   "source": [
    "## Jastrow ansatz\n",
    "\n",
    "$ \\log\\psi(\\sigma) = \\sum_i a_i \\sigma_i + \\sum_{i,j} \\sigma_i J_{i,j} \\sigma_j $"
   ]
  },
  {
   "cell_type": "code",
   "execution_count": 7,
   "metadata": {},
   "outputs": [
    {
     "name": "stderr",
     "output_type": "stream",
     "text": [
      "WARNING:absl:No GPU/TPU found, falling back to CPU. (Set TF_CPP_MIN_LOG_LEVEL=0 and rerun for more info.)\n"
     ]
    }
   ],
   "source": [
    "#definice modelu, sampleru atd.\n",
    "\n",
    "class Jastrow(nknn.Module):\n",
    "    @nknn.compact\n",
    "    def __call__(self, x):\n",
    "        x = jnp.atleast_2d(x)\n",
    "        return jax.vmap(self.single_evaluate, in_axes=(0))(x)\n",
    "\n",
    "    def single_evaluate(self, x):\n",
    "        v_bias = self.param(\n",
    "            \"visible_bias\", nn.initializers.normal(), (x.shape[-1],), complex\n",
    "        )\n",
    "\n",
    "        J = self.param(\n",
    "            \"kernel\", nn.initializers.normal(), (x.shape[-1],x.shape[-1]), complex\n",
    "        )\n",
    "\n",
    "        return x.T@J@x + jnp.dot(x, v_bias)\n",
    "machine = Jastrow()\n",
    "machine_MSR = Jastrow()\n",
    "\n",
    "\n",
    "# Meropolis Exchange Sampling\n",
    "if SAMPLER == 'local':\n",
    "    sampler = nk.sampler.MetropolisLocal(hilbert=hilbert)\n",
    "    sampler_MSR = nk.sampler.MetropolisLocal(hilbert=hilbert)\n",
    "else:\n",
    "    sampler = nk.sampler.MetropolisExchange(hilbert=hilbert, graph=g)\n",
    "    sampler_MSR = nk.sampler.MetropolisExchange(hilbert=hilbert, graph=g)\n",
    "    if SAMPLER != 'exchange':\n",
    "        print(\"Warning! Undefined sampler:\", SAMPLER, \", dafaulting to MetropolisExchange sampler\")\n",
    "\n",
    "\n",
    "# Optimzer\n",
    "optimizer = nk.optimizer.Sgd(learning_rate=ETA)\n",
    "optimizer_MSR = nk.optimizer.Sgd(learning_rate=ETA)\n",
    "\n",
    "# Stochastic Reconfiguration\n",
    "sr  = nk.optimizer.SR(diag_shift=0.1)\n",
    "sr_MSR  = nk.optimizer.SR(diag_shift=0.1)\n",
    "\n",
    "# The variational state (drive to byla nk.variational.MCState)\n",
    "vss = nk.vqs.MCState(sampler, machine, n_samples=SAMPLES)\n",
    "vs_MSR  = nk.vqs.MCState(sampler_MSR, machine_MSR, n_samples=SAMPLES)\n",
    "vss.init_parameters(jax.nn.initializers.normal(stddev=0.001))\n",
    "vs_MSR.init_parameters(jax.nn.initializers.normal(stddev=0.001))\n",
    "\n",
    "\n",
    "gs_normal = nk.VMC(hamiltonian=ha ,optimizer=optimizer,preconditioner=sr,variational_state=vss)               # 0 ... symmetric\n",
    "gs_MSR = nk.VMC(hamiltonian=ha_MSR ,optimizer=optimizer_MSR,preconditioner=sr_MSR,variational_state=vs_MSR)   # 1 ... symmetric+MSR"
   ]
  },
  {
   "cell_type": "markdown",
   "metadata": {},
   "source": [
    "# Definitions of operators"
   ]
  },
  {
   "cell_type": "code",
   "execution_count": 8,
   "metadata": {},
   "outputs": [],
   "source": [
    "def SS_old(i,j): # S_i * S_j\n",
    "    return 2*nk.operator.spin.sigmap(hilbert,i,dtype=\"float64\")@nk.operator.spin.sigmam(hilbert,j,dtype=\"float64\")+2*nk.operator.spin.sigmam(hilbert,i,dtype=\"float64\")@nk.operator.spin.sigmap(hilbert,j,dtype=\"float64\")+nk.operator.spin.sigmaz(hilbert,i,dtype=\"float64\")@nk.operator.spin.sigmaz(hilbert,j,dtype=\"float64\")\n",
    "    #return nk.operator.spin.sigmax(hilbert, i)@nk.operator.spin.sigmax(hilbert, j) + nk.operator.spin.sigmay(hilbert, i)@nk.operator.spin.sigmay(hilbert, j) + nk.operator.spin.sigmaz(hilbert, i)@nk.operator.spin.sigmaz(hilbert, j)\n",
    "\n",
    "def SS(i,j): #different method of definition\n",
    "    if i==j:\n",
    "        return nk.operator.LocalOperator(hilbert,operators=[[3,0],[0,3]],acting_on=[i])\n",
    "    else:\n",
    "        return nk.operator.LocalOperator(hilbert,operators=(mszsz+exchange),acting_on=[i,j])\n",
    "\n",
    "def SS_MSR(i,j): #different method of definition\n",
    "    if i==j:\n",
    "        return nk.operator.LocalOperator(hilbert,operators=[[3,0],[0,3]],acting_on=[i])\n",
    "    elif (np.sum(position(i))+np.sum(position(j)))%2 == 0:                                      # same sublattice \n",
    "        return nk.operator.LocalOperator(hilbert,operators=(mszsz+exchange),acting_on=[i,j])\n",
    "    else:                                                                                       # different sublattice \n",
    "        return nk.operator.LocalOperator(hilbert,operators=(mszsz-exchange),acting_on=[i,j])"
   ]
  },
  {
   "cell_type": "markdown",
   "metadata": {},
   "source": [
    "## Dimer order parameter (DS phase)\n",
    "$$m_{\\rm dimer}^2 := -\\frac{1}{3} \\frac{2}{M} \\sum_{(ij)_{dimer}} \\langle\\hat{\\bm{S}}_i \\cdot \\hat{\\bm{S}}_j\\rangle$$\n",
    "plus normalizace na 3/4 (v mém případě 3)"
   ]
  },
  {
   "cell_type": "code",
   "execution_count": 9,
   "metadata": {},
   "outputs": [],
   "source": [
    "ss_operator = 0\n",
    "M = hilbert.size\n",
    "for node in range(M):\n",
    "    row, column = position(node)\n",
    "    if column%2 == 0:\n",
    "        if row%2 == 0:\n",
    "            ss_operator += SS(node,lrt(node))\n",
    "        else:\n",
    "            ss_operator += SS(node,llft(node))\n",
    "m_dimer_op = -1/3 * ss_operator/M*2"
   ]
  },
  {
   "cell_type": "markdown",
   "metadata": {},
   "source": [
    "## Plaquette order parameter (PS phase)\n",
    "We define another order parameter $m_p := \\langle \\hat{\\bm{Q}}_{\\bm{R}} - \\hat{\\bm{Q}}_{\\bm{R'}}\\rangle$, where $\\hat{\\bm{Q}}_{\\bm{r}} := \\frac{1}{2}\\left(\\hat{\\bm{P}}_{\\bm{r}} + \\hat{\\bm{P}}_{\\bm{r}}^{-1}\\right)$, where $\\hat{\\bm{P}}_{\\bm{r}} = \\hat{\\bm{P}}_{ijkl}^\\text{cykl}$ is cyclic permutation operator \n",
    "$$\\hat{\\bm{P}}_{ijkl}^\\text{cykl} | \\dots \\sigma_i \\sigma_j \\sigma_k \\sigma_l \\dots \\rangle = | \\dots \\sigma_l \\sigma_i \\sigma_j \\sigma_k \\dots \\rangle $$\n",
    "We can implement cyclic permutation using binary permutation operator\n",
    "$$ \\hat{\\bm{P}}^\\text{cykl}_{ijkl} = \\hat{\\bm{P}}_{ik}\\hat{\\bm{P}}_{kl}\\hat{\\bm{P}}_{ij} \\quad \\quad \\quad \\left(\\hat{\\bm{P}}^\\text{cykl}_{ijkl}\\right)^{-1} = \\hat{\\bm{P}}_{jl}\\hat{\\bm{P}}_{kl}\\hat{\\bm{P}}_{ij}$$\n",
    "And use a formula for permutation operator\n",
    "$$ \\hat{\\bm{P}}_{ij} \\equiv \\frac{1}{2} (\\hat{\\bm{S}}_i\\cdot \\hat{\\bm{S}}_j + \\hat{\\mathbb{1}})$$"
   ]
  },
  {
   "cell_type": "code",
   "execution_count": 10,
   "metadata": {},
   "outputs": [],
   "source": [
    "def P(i,j,msr): # two particle permutation operator\n",
    "    if msr == False:\n",
    "        return .5*(SS(i,j)+nk.operator.LocalOperator(hilbert,operators=[[1,0,0,0],[0,1,0,0],[0,0,1,0],[0,0,0,1]],acting_on=[i,j]))\n",
    "    else:\n",
    "        return .5*(SS_MSR(i,j)+nk.operator.LocalOperator(hilbert,operators=[[1,0,0,0],[0,1,0,0],[0,0,1,0],[0,0,0,1]],acting_on=[i,j]))\n",
    "\n",
    "\n",
    "def P_cykl(i,j,k,l,msr): # 4 particle cyclic permutation operator\n",
    "    return P(i,k,msr)@P(k,l,msr)@P(i,j,msr)\n",
    "def P_cykl_inv(i,j,k,l,msr): # inverse of 4 particle cyclic permutation operator\n",
    "    return P(j,l,msr)@P(k,l,msr)@P(i,j,msr)\n",
    "\n",
    "def P_r(i,msr): # cyclic permutation of 4 sites located at position i\n",
    "    return P_cykl(i,rt(i),lrt(i),bot(i),msr)\n",
    "# i --> i j  .... we assigne a lrt cell to each index i\n",
    "#       l k\n",
    "def P_r_inv(i,msr): # inverse of cyclic permutation of 4 sites located at position i\n",
    "    return P_cykl_inv(i,rt(i),lrt(i),bot(i),msr)\n",
    "\n",
    "def Q_r(i,msr):\n",
    "    return .5*(P_r(i,msr) + P_r_inv(i,msr))\n",
    "\n",
    "i = 0\n",
    "while sum(position(i))%2 == 0: # ensure that the plaquette is 'empty' (without J_2 bond inside)\n",
    "    i += 1\n",
    "m_plaquette_op = Q_r(i,False)-Q_r(lrt(i),False)\n",
    "m_plaquette_op_MSR = Q_r(i,True)-Q_r(lrt(i),True)"
   ]
  },
  {
   "cell_type": "markdown",
   "metadata": {},
   "source": [
    "## Magnetization order parameter (AF phase)\n",
    "We define magnetization order parameter <font color=#d0312d> POZOR! můj spin $\\hat{\\bm{S}}$ je definovaný jako dvojnásobek typické definice $\\hat{\\bm{S}} \\leftarrow 2\\hat{\\bm{S}}$ </font>\n",
    "$$m_s^2 := \\frac{1}{M^{2}} \\sum_{ij} {\\rm e}^{i \\bm{q}\\cdot \\bm{r}} \\langle\\hat{\\bm{S}}_i \\cdot \\hat{\\bm{S}}_j\\rangle$$\n",
    "where $M = L\\cdot L$ (in case of Sandvik: $M = 2L\\cdot L$ and $\\hat{\\bm{S}} = \\frac{1}{2}\\hat{\\bm{S}}$). In our case $\\bm{q} = (\\pi,\\pi)$.\n",
    "\n",
    "Využíváme také identitu $\\sigma^x_i\\sigma^x_j+\\sigma^y_i\\sigma^y_j \\equiv {2}\\left(\\sigma^+_i\\sigma^-_j + \\sigma^-_i\\sigma^+_j\\right)$\n"
   ]
  },
  {
   "cell_type": "code",
   "execution_count": 11,
   "metadata": {},
   "outputs": [],
   "source": [
    "def m_sSquared_slow(state):\n",
    "    ss_operator = 0\n",
    "    M = hilbert.size\n",
    "    m_s2 = 0\n",
    "    for i in range(M):\n",
    "        for j in range(M):\n",
    "            ss_operator += SS(i,j) * (-1)**np.sum(position(i)+position(j))\n",
    "        if i%3==2 or i==(M-1):\n",
    "            m_s2 += (state.transpose()@(ss_operator@state))[0,0]\n",
    "            ss_operator = 0\n",
    "    m_s2 = m_s2/M**2\n",
    "    return m_s2\n",
    "\n",
    "m_s2_op_MSR = 0\n",
    "M = hilbert.size\n",
    "for i in range(M):\n",
    "    for j in range(M):\n",
    "        m_s2_op_MSR += SS_MSR(i,j) * (-1)**np.sum(position(i)+position(j)) #(i+j) #chyba?\n",
    "m_s2_op_MSR = m_s2_op_MSR/(M**2)\n",
    "\n",
    "m_s2_op = 0\n",
    "for i in range(M):\n",
    "    for j in range(M):\n",
    "        m_s2_op += SS(i,j) * (-1)**np.sum(position(i)+position(j)) #(i+j) #chyba?\n",
    "m_s2_op = m_s2_op/(M**2)\n"
   ]
  },
  {
   "cell_type": "markdown",
   "metadata": {},
   "source": [
    "## calculation"
   ]
  },
  {
   "cell_type": "code",
   "execution_count": 12,
   "metadata": {},
   "outputs": [
    {
     "name": "stdout",
     "output_type": "stream",
     "text": [
      "J_1 = 0.2\n",
      "Expected exact energy: -11.999999999999996\n"
     ]
    },
    {
     "name": "stderr",
     "output_type": "stream",
     "text": [
      "  0%|          | 0/500 [00:00<?, ?it/s]\n"
     ]
    },
    {
     "ename": "KeyboardInterrupt",
     "evalue": "",
     "output_type": "error",
     "traceback": [
      "\u001b[0;31m---------------------------------------------------------------------------\u001b[0m",
      "\u001b[0;31mKeyboardInterrupt\u001b[0m                         Traceback (most recent call last)",
      "\u001b[0;32m/tmp/ipykernel_327/348289445.py\u001b[0m in \u001b[0;36m<module>\u001b[0;34m\u001b[0m\n\u001b[1;32m      8\u001b[0m     \u001b[0mstart\u001b[0m \u001b[0;34m=\u001b[0m \u001b[0mtime\u001b[0m\u001b[0;34m.\u001b[0m\u001b[0mtime\u001b[0m\u001b[0;34m(\u001b[0m\u001b[0;34m)\u001b[0m\u001b[0;34m\u001b[0m\u001b[0;34m\u001b[0m\u001b[0m\n\u001b[1;32m      9\u001b[0m     \u001b[0;31m#gs.info()\u001b[0m\u001b[0;34m\u001b[0m\u001b[0;34m\u001b[0m\u001b[0;34m\u001b[0m\u001b[0m\n\u001b[0;32m---> 10\u001b[0;31m     \u001b[0mgs\u001b[0m\u001b[0;34m.\u001b[0m\u001b[0mrun\u001b[0m\u001b[0;34m(\u001b[0m\u001b[0mout\u001b[0m\u001b[0;34m=\u001b[0m\u001b[0mOUT_NAME\u001b[0m\u001b[0;34m+\u001b[0m\u001b[0mstr\u001b[0m\u001b[0;34m(\u001b[0m\u001b[0mi\u001b[0m\u001b[0;34m)\u001b[0m\u001b[0;34m,\u001b[0m \u001b[0mn_iter\u001b[0m\u001b[0;34m=\u001b[0m\u001b[0mint\u001b[0m\u001b[0;34m(\u001b[0m\u001b[0mNUM_ITER\u001b[0m\u001b[0;34m)\u001b[0m\u001b[0;34m)\u001b[0m\u001b[0;31m#,obs={'DS_factor': m_dimer_op})#,'PS_factor':m_plaquette_op,'AF_factor':m_s2_op})\u001b[0m\u001b[0;34m\u001b[0m\u001b[0;34m\u001b[0m\u001b[0m\n\u001b[0m\u001b[1;32m     11\u001b[0m     \u001b[0mend\u001b[0m \u001b[0;34m=\u001b[0m \u001b[0mtime\u001b[0m\u001b[0;34m.\u001b[0m\u001b[0mtime\u001b[0m\u001b[0;34m(\u001b[0m\u001b[0;34m)\u001b[0m\u001b[0;34m\u001b[0m\u001b[0;34m\u001b[0m\u001b[0m\n\u001b[1;32m     12\u001b[0m     \u001b[0mprint\u001b[0m\u001b[0;34m(\u001b[0m\u001b[0;34m\"The type {} of RBM calculation took {} min\"\u001b[0m\u001b[0;34m.\u001b[0m\u001b[0mformat\u001b[0m\u001b[0;34m(\u001b[0m\u001b[0mi\u001b[0m\u001b[0;34m,\u001b[0m \u001b[0;34m(\u001b[0m\u001b[0mend\u001b[0m\u001b[0;34m-\u001b[0m\u001b[0mstart\u001b[0m\u001b[0;34m)\u001b[0m\u001b[0;34m/\u001b[0m\u001b[0;36m60\u001b[0m\u001b[0;34m)\u001b[0m\u001b[0;34m)\u001b[0m\u001b[0;34m\u001b[0m\u001b[0;34m\u001b[0m\u001b[0m\n",
      "\u001b[0;32m~/.local/lib/python3.8/site-packages/netket/driver/abstract_variational_driver.py\u001b[0m in \u001b[0;36mrun\u001b[0;34m(self, n_iter, out, obs, show_progress, save_params_every, write_every, step_size, callback)\u001b[0m\n\u001b[1;32m    250\u001b[0m             \u001b[0mfirst_step\u001b[0m \u001b[0;34m=\u001b[0m \u001b[0;32mTrue\u001b[0m\u001b[0;34m\u001b[0m\u001b[0;34m\u001b[0m\u001b[0m\n\u001b[1;32m    251\u001b[0m \u001b[0;34m\u001b[0m\u001b[0m\n\u001b[0;32m--> 252\u001b[0;31m             \u001b[0;32mfor\u001b[0m \u001b[0mstep\u001b[0m \u001b[0;32min\u001b[0m \u001b[0mself\u001b[0m\u001b[0;34m.\u001b[0m\u001b[0miter\u001b[0m\u001b[0;34m(\u001b[0m\u001b[0mn_iter\u001b[0m\u001b[0;34m,\u001b[0m \u001b[0mstep_size\u001b[0m\u001b[0;34m)\u001b[0m\u001b[0;34m:\u001b[0m\u001b[0;34m\u001b[0m\u001b[0;34m\u001b[0m\u001b[0m\n\u001b[0m\u001b[1;32m    253\u001b[0m \u001b[0;34m\u001b[0m\u001b[0m\n\u001b[1;32m    254\u001b[0m                 \u001b[0mlog_data\u001b[0m \u001b[0;34m=\u001b[0m \u001b[0mself\u001b[0m\u001b[0;34m.\u001b[0m\u001b[0mestimate\u001b[0m\u001b[0;34m(\u001b[0m\u001b[0mobs\u001b[0m\u001b[0;34m)\u001b[0m\u001b[0;34m\u001b[0m\u001b[0;34m\u001b[0m\u001b[0m\n",
      "\u001b[0;32m~/.local/lib/python3.8/site-packages/netket/driver/abstract_variational_driver.py\u001b[0m in \u001b[0;36miter\u001b[0;34m(self, n_steps, step)\u001b[0m\n\u001b[1;32m    166\u001b[0m         \u001b[0;32mfor\u001b[0m \u001b[0m_\u001b[0m \u001b[0;32min\u001b[0m \u001b[0mrange\u001b[0m\u001b[0;34m(\u001b[0m\u001b[0;36m0\u001b[0m\u001b[0;34m,\u001b[0m \u001b[0mn_steps\u001b[0m\u001b[0;34m,\u001b[0m \u001b[0mstep\u001b[0m\u001b[0;34m)\u001b[0m\u001b[0;34m:\u001b[0m\u001b[0;34m\u001b[0m\u001b[0;34m\u001b[0m\u001b[0m\n\u001b[1;32m    167\u001b[0m             \u001b[0;32mfor\u001b[0m \u001b[0mi\u001b[0m \u001b[0;32min\u001b[0m \u001b[0mrange\u001b[0m\u001b[0;34m(\u001b[0m\u001b[0;36m0\u001b[0m\u001b[0;34m,\u001b[0m \u001b[0mstep\u001b[0m\u001b[0;34m)\u001b[0m\u001b[0;34m:\u001b[0m\u001b[0;34m\u001b[0m\u001b[0;34m\u001b[0m\u001b[0m\n\u001b[0;32m--> 168\u001b[0;31m                 \u001b[0mdp\u001b[0m \u001b[0;34m=\u001b[0m \u001b[0mself\u001b[0m\u001b[0;34m.\u001b[0m\u001b[0m_forward_and_backward\u001b[0m\u001b[0;34m(\u001b[0m\u001b[0;34m)\u001b[0m\u001b[0;34m\u001b[0m\u001b[0;34m\u001b[0m\u001b[0m\n\u001b[0m\u001b[1;32m    169\u001b[0m                 \u001b[0;32mif\u001b[0m \u001b[0mi\u001b[0m \u001b[0;34m==\u001b[0m \u001b[0;36m0\u001b[0m\u001b[0;34m:\u001b[0m\u001b[0;34m\u001b[0m\u001b[0;34m\u001b[0m\u001b[0m\n\u001b[1;32m    170\u001b[0m                     \u001b[0;32myield\u001b[0m \u001b[0mself\u001b[0m\u001b[0;34m.\u001b[0m\u001b[0mstep_count\u001b[0m\u001b[0;34m\u001b[0m\u001b[0;34m\u001b[0m\u001b[0m\n",
      "\u001b[0;32m~/.local/lib/python3.8/site-packages/netket/driver/vmc.py\u001b[0m in \u001b[0;36m_forward_and_backward\u001b[0;34m(self)\u001b[0m\n\u001b[1;32m    130\u001b[0m \u001b[0;34m\u001b[0m\u001b[0m\n\u001b[1;32m    131\u001b[0m         \u001b[0;31m# Compute the local energy estimator and average Energy\u001b[0m\u001b[0;34m\u001b[0m\u001b[0;34m\u001b[0m\u001b[0;34m\u001b[0m\u001b[0m\n\u001b[0;32m--> 132\u001b[0;31m         \u001b[0mself\u001b[0m\u001b[0;34m.\u001b[0m\u001b[0m_loss_stats\u001b[0m\u001b[0;34m,\u001b[0m \u001b[0mself\u001b[0m\u001b[0;34m.\u001b[0m\u001b[0m_loss_grad\u001b[0m \u001b[0;34m=\u001b[0m \u001b[0mself\u001b[0m\u001b[0;34m.\u001b[0m\u001b[0mstate\u001b[0m\u001b[0;34m.\u001b[0m\u001b[0mexpect_and_grad\u001b[0m\u001b[0;34m(\u001b[0m\u001b[0mself\u001b[0m\u001b[0;34m.\u001b[0m\u001b[0m_ham\u001b[0m\u001b[0;34m)\u001b[0m\u001b[0;34m\u001b[0m\u001b[0;34m\u001b[0m\u001b[0m\n\u001b[0m\u001b[1;32m    133\u001b[0m \u001b[0;34m\u001b[0m\u001b[0m\n\u001b[1;32m    134\u001b[0m         \u001b[0;31m# if it's the identity it does\u001b[0m\u001b[0;34m\u001b[0m\u001b[0;34m\u001b[0m\u001b[0;34m\u001b[0m\u001b[0m\n",
      "\u001b[0;32m~/.local/lib/python3.8/site-packages/netket/vqs/mc/mc_state/state.py\u001b[0m in \u001b[0;36mexpect_and_grad\u001b[0;34m(self, Ô, mutable, use_covariance)\u001b[0m\n\u001b[1;32m    593\u001b[0m             \u001b[0mmutable\u001b[0m \u001b[0;34m=\u001b[0m \u001b[0mself\u001b[0m\u001b[0;34m.\u001b[0m\u001b[0mmutable\u001b[0m\u001b[0;34m\u001b[0m\u001b[0;34m\u001b[0m\u001b[0m\n\u001b[1;32m    594\u001b[0m \u001b[0;34m\u001b[0m\u001b[0m\n\u001b[0;32m--> 595\u001b[0;31m         return expect_and_grad(\n\u001b[0m\u001b[1;32m    596\u001b[0m             \u001b[0mself\u001b[0m\u001b[0;34m,\u001b[0m \u001b[0mO\u001b[0m\u001b[0;31m̂\u001b[0m\u001b[0;34m,\u001b[0m \u001b[0muse_covariance\u001b[0m\u001b[0;34m,\u001b[0m \u001b[0mself\u001b[0m\u001b[0;34m.\u001b[0m\u001b[0mchunk_size\u001b[0m\u001b[0;34m,\u001b[0m \u001b[0mmutable\u001b[0m\u001b[0;34m=\u001b[0m\u001b[0mmutable\u001b[0m\u001b[0;34m\u001b[0m\u001b[0;34m\u001b[0m\u001b[0m\n\u001b[1;32m    597\u001b[0m         )\n",
      "\u001b[0;32m~/.local/lib/python3.8/site-packages/plum/function.cpython-38-x86_64-linux-gnu.so\u001b[0m in \u001b[0;36mplum.function.Function.__call__\u001b[0;34m()\u001b[0m\n",
      "\u001b[0;32m~/.local/lib/python3.8/site-packages/netket/vqs/base.py\u001b[0m in \u001b[0;36mexpect_and_grad\u001b[0;34m(vstate, operator, use_covariance, mutable, *args, **kwargs)\u001b[0m\n\u001b[1;32m    379\u001b[0m         \u001b[0mmutable\u001b[0m \u001b[0;34m=\u001b[0m \u001b[0mvstate\u001b[0m\u001b[0;34m.\u001b[0m\u001b[0mmutable\u001b[0m\u001b[0;34m\u001b[0m\u001b[0;34m\u001b[0m\u001b[0m\n\u001b[1;32m    380\u001b[0m \u001b[0;34m\u001b[0m\u001b[0m\n\u001b[0;32m--> 381\u001b[0;31m     return expect_and_grad(\n\u001b[0m\u001b[1;32m    382\u001b[0m         \u001b[0mvstate\u001b[0m\u001b[0;34m,\u001b[0m \u001b[0moperator\u001b[0m\u001b[0;34m,\u001b[0m \u001b[0muse_covariance\u001b[0m\u001b[0;34m,\u001b[0m \u001b[0;34m*\u001b[0m\u001b[0margs\u001b[0m\u001b[0;34m,\u001b[0m \u001b[0mmutable\u001b[0m\u001b[0;34m=\u001b[0m\u001b[0mmutable\u001b[0m\u001b[0;34m,\u001b[0m \u001b[0;34m**\u001b[0m\u001b[0mkwargs\u001b[0m\u001b[0;34m\u001b[0m\u001b[0;34m\u001b[0m\u001b[0m\n\u001b[1;32m    383\u001b[0m     )\n",
      "\u001b[0;32m~/.local/lib/python3.8/site-packages/plum/function.cpython-38-x86_64-linux-gnu.so\u001b[0m in \u001b[0;36mplum.function.Function.__call__\u001b[0;34m()\u001b[0m\n",
      "\u001b[0;32m~/.local/lib/python3.8/site-packages/netket/vqs/mc/mc_state/expect_grad_chunked.py\u001b[0m in \u001b[0;36mexpect_and_grad_nochunking\u001b[0;34m(vstate, operator, use_covariance, chunk_size, *args, **kwargs)\u001b[0m\n\u001b[1;32m     47\u001b[0m     \u001b[0;34m**\u001b[0m\u001b[0mkwargs\u001b[0m\u001b[0;34m,\u001b[0m\u001b[0;34m\u001b[0m\u001b[0;34m\u001b[0m\u001b[0m\n\u001b[1;32m     48\u001b[0m ):\n\u001b[0;32m---> 49\u001b[0;31m     \u001b[0;32mreturn\u001b[0m \u001b[0mexpect_and_grad\u001b[0m\u001b[0;34m(\u001b[0m\u001b[0mvstate\u001b[0m\u001b[0;34m,\u001b[0m \u001b[0moperator\u001b[0m\u001b[0;34m,\u001b[0m \u001b[0muse_covariance\u001b[0m\u001b[0;34m,\u001b[0m \u001b[0;34m*\u001b[0m\u001b[0margs\u001b[0m\u001b[0;34m,\u001b[0m \u001b[0;34m**\u001b[0m\u001b[0mkwargs\u001b[0m\u001b[0;34m)\u001b[0m\u001b[0;34m\u001b[0m\u001b[0;34m\u001b[0m\u001b[0m\n\u001b[0m\u001b[1;32m     50\u001b[0m \u001b[0;34m\u001b[0m\u001b[0m\n\u001b[1;32m     51\u001b[0m \u001b[0;34m\u001b[0m\u001b[0m\n",
      "\u001b[0;32m~/.local/lib/python3.8/site-packages/plum/function.cpython-38-x86_64-linux-gnu.so\u001b[0m in \u001b[0;36mplum.function.Function.__call__\u001b[0;34m()\u001b[0m\n",
      "\u001b[0;32m~/.local/lib/python3.8/site-packages/netket/vqs/mc/mc_state/expect_grad.py\u001b[0m in \u001b[0;36mexpect_and_grad\u001b[0;34m(vstate, Ô, use_covariance, mutable)\u001b[0m\n\u001b[1;32m     48\u001b[0m     \u001b[0mmutable\u001b[0m\u001b[0;34m:\u001b[0m \u001b[0mAny\u001b[0m\u001b[0;34m,\u001b[0m\u001b[0;34m\u001b[0m\u001b[0;34m\u001b[0m\u001b[0m\n\u001b[1;32m     49\u001b[0m ) -> Tuple[Stats, PyTree]:\n\u001b[0;32m---> 50\u001b[0;31m     \u001b[0mσ\u001b[0m\u001b[0;34m,\u001b[0m \u001b[0margs\u001b[0m \u001b[0;34m=\u001b[0m \u001b[0mget_local_kernel_arguments\u001b[0m\u001b[0;34m(\u001b[0m\u001b[0mvstate\u001b[0m\u001b[0;34m,\u001b[0m \u001b[0mO\u001b[0m\u001b[0;31m̂\u001b[0m\u001b[0;34m)\u001b[0m\u001b[0;34m\u001b[0m\u001b[0;34m\u001b[0m\u001b[0m\n\u001b[0m\u001b[1;32m     51\u001b[0m \u001b[0;34m\u001b[0m\u001b[0m\n\u001b[1;32m     52\u001b[0m     \u001b[0mlocal_estimator_fun\u001b[0m \u001b[0;34m=\u001b[0m \u001b[0mget_local_kernel\u001b[0m\u001b[0;34m(\u001b[0m\u001b[0mvstate\u001b[0m\u001b[0;34m,\u001b[0m \u001b[0mO\u001b[0m\u001b[0;31m̂\u001b[0m\u001b[0;34m)\u001b[0m\u001b[0;34m\u001b[0m\u001b[0;34m\u001b[0m\u001b[0m\n",
      "\u001b[0;32m~/.local/lib/python3.8/site-packages/plum/function.cpython-38-x86_64-linux-gnu.so\u001b[0m in \u001b[0;36mplum.function.Function.__call__\u001b[0;34m()\u001b[0m\n",
      "\u001b[0;32m~/.local/lib/python3.8/site-packages/netket/vqs/mc/mc_state/expect.py\u001b[0m in \u001b[0;36mget_local_kernel_arguments\u001b[0;34m(vstate, Ô)\u001b[0m\n\u001b[1;32m     59\u001b[0m     \u001b[0mcheck_hilbert\u001b[0m\u001b[0;34m(\u001b[0m\u001b[0mvstate\u001b[0m\u001b[0;34m.\u001b[0m\u001b[0mhilbert\u001b[0m\u001b[0;34m,\u001b[0m \u001b[0mO\u001b[0m\u001b[0;31m̂\u001b[0m\u001b[0;34m.\u001b[0m\u001b[0mhilbert\u001b[0m\u001b[0;34m)\u001b[0m\u001b[0;34m\u001b[0m\u001b[0;34m\u001b[0m\u001b[0m\n\u001b[1;32m     60\u001b[0m \u001b[0;34m\u001b[0m\u001b[0m\n\u001b[0;32m---> 61\u001b[0;31m     \u001b[0mσ\u001b[0m \u001b[0;34m=\u001b[0m \u001b[0mvstate\u001b[0m\u001b[0;34m.\u001b[0m\u001b[0msamples\u001b[0m\u001b[0;34m\u001b[0m\u001b[0;34m\u001b[0m\u001b[0m\n\u001b[0m\u001b[1;32m     62\u001b[0m     \u001b[0mσp\u001b[0m\u001b[0;34m,\u001b[0m \u001b[0mmels\u001b[0m \u001b[0;34m=\u001b[0m \u001b[0mO\u001b[0m\u001b[0;31m̂\u001b[0m\u001b[0;34m.\u001b[0m\u001b[0mget_conn_padded\u001b[0m\u001b[0;34m(\u001b[0m\u001b[0mσ\u001b[0m\u001b[0;34m)\u001b[0m\u001b[0;34m\u001b[0m\u001b[0;34m\u001b[0m\u001b[0m\n\u001b[1;32m     63\u001b[0m     \u001b[0;32mreturn\u001b[0m \u001b[0mσ\u001b[0m\u001b[0;34m,\u001b[0m \u001b[0;34m(\u001b[0m\u001b[0mσp\u001b[0m\u001b[0;34m,\u001b[0m \u001b[0mmels\u001b[0m\u001b[0;34m)\u001b[0m\u001b[0;34m\u001b[0m\u001b[0;34m\u001b[0m\u001b[0m\n",
      "\u001b[0;32m~/.local/lib/python3.8/site-packages/netket/vqs/mc/mc_state/state.py\u001b[0m in \u001b[0;36msamples\u001b[0;34m(self)\u001b[0m\n\u001b[1;32m    533\u001b[0m         \"\"\"\n\u001b[1;32m    534\u001b[0m         \u001b[0;32mif\u001b[0m \u001b[0mself\u001b[0m\u001b[0;34m.\u001b[0m\u001b[0m_samples\u001b[0m \u001b[0;32mis\u001b[0m \u001b[0;32mNone\u001b[0m\u001b[0;34m:\u001b[0m\u001b[0;34m\u001b[0m\u001b[0;34m\u001b[0m\u001b[0m\n\u001b[0;32m--> 535\u001b[0;31m             \u001b[0mself\u001b[0m\u001b[0;34m.\u001b[0m\u001b[0msample\u001b[0m\u001b[0;34m(\u001b[0m\u001b[0;34m)\u001b[0m\u001b[0;34m\u001b[0m\u001b[0;34m\u001b[0m\u001b[0m\n\u001b[0m\u001b[1;32m    536\u001b[0m         \u001b[0;32mreturn\u001b[0m \u001b[0mself\u001b[0m\u001b[0;34m.\u001b[0m\u001b[0m_samples\u001b[0m\u001b[0;34m\u001b[0m\u001b[0;34m\u001b[0m\u001b[0m\n\u001b[1;32m    537\u001b[0m \u001b[0;34m\u001b[0m\u001b[0m\n",
      "\u001b[0;32m~/.local/lib/python3.8/site-packages/netket/vqs/mc/mc_state/state.py\u001b[0m in \u001b[0;36msample\u001b[0;34m(self, chain_length, n_samples, n_discard_per_chain)\u001b[0m\n\u001b[1;32m    506\u001b[0m \u001b[0;34m\u001b[0m\u001b[0m\n\u001b[1;32m    507\u001b[0m         \u001b[0;32mif\u001b[0m \u001b[0mself\u001b[0m\u001b[0;34m.\u001b[0m\u001b[0mn_discard_per_chain\u001b[0m \u001b[0;34m>\u001b[0m \u001b[0;36m0\u001b[0m\u001b[0;34m:\u001b[0m\u001b[0;34m\u001b[0m\u001b[0;34m\u001b[0m\u001b[0m\n\u001b[0;32m--> 508\u001b[0;31m             _, self.sampler_state = self.sampler.sample(\n\u001b[0m\u001b[1;32m    509\u001b[0m                 \u001b[0mself\u001b[0m\u001b[0;34m.\u001b[0m\u001b[0mmodel\u001b[0m\u001b[0;34m,\u001b[0m\u001b[0;34m\u001b[0m\u001b[0;34m\u001b[0m\u001b[0m\n\u001b[1;32m    510\u001b[0m                 \u001b[0mself\u001b[0m\u001b[0;34m.\u001b[0m\u001b[0mvariables\u001b[0m\u001b[0;34m,\u001b[0m\u001b[0;34m\u001b[0m\u001b[0;34m\u001b[0m\u001b[0m\n",
      "\u001b[0;32m~/.local/lib/python3.8/site-packages/netket/sampler/base.py\u001b[0m in \u001b[0;36msample\u001b[0;34m(sampler, machine, parameters, state, chain_length)\u001b[0m\n\u001b[1;32m    261\u001b[0m             \u001b[0mstate\u001b[0m \u001b[0;34m=\u001b[0m \u001b[0msampler\u001b[0m\u001b[0;34m.\u001b[0m\u001b[0mreset\u001b[0m\u001b[0;34m(\u001b[0m\u001b[0mmachine\u001b[0m\u001b[0;34m,\u001b[0m \u001b[0mparameters\u001b[0m\u001b[0;34m)\u001b[0m\u001b[0;34m\u001b[0m\u001b[0;34m\u001b[0m\u001b[0m\n\u001b[1;32m    262\u001b[0m \u001b[0;34m\u001b[0m\u001b[0m\n\u001b[0;32m--> 263\u001b[0;31m         return sampler._sample_chain(\n\u001b[0m\u001b[1;32m    264\u001b[0m             \u001b[0mwrap_afun\u001b[0m\u001b[0;34m(\u001b[0m\u001b[0mmachine\u001b[0m\u001b[0;34m)\u001b[0m\u001b[0;34m,\u001b[0m \u001b[0mparameters\u001b[0m\u001b[0;34m,\u001b[0m \u001b[0mstate\u001b[0m\u001b[0;34m,\u001b[0m \u001b[0mchain_length\u001b[0m\u001b[0;34m\u001b[0m\u001b[0;34m\u001b[0m\u001b[0m\n\u001b[1;32m    265\u001b[0m         )\n",
      "\u001b[0;32m~/.local/lib/python3.8/site-packages/netket/sampler/metropolis.py\u001b[0m in \u001b[0;36m_sample_chain\u001b[0;34m(sampler, machine, parameters, state, chain_length)\u001b[0m\n\u001b[1;32m    391\u001b[0m \u001b[0;34m\u001b[0m\u001b[0m\n\u001b[1;32m    392\u001b[0m     \u001b[0;32mdef\u001b[0m \u001b[0m_sample_chain\u001b[0m\u001b[0;34m(\u001b[0m\u001b[0msampler\u001b[0m\u001b[0;34m,\u001b[0m \u001b[0mmachine\u001b[0m\u001b[0;34m,\u001b[0m \u001b[0mparameters\u001b[0m\u001b[0;34m,\u001b[0m \u001b[0mstate\u001b[0m\u001b[0;34m,\u001b[0m \u001b[0mchain_length\u001b[0m\u001b[0;34m)\u001b[0m\u001b[0;34m:\u001b[0m\u001b[0;34m\u001b[0m\u001b[0;34m\u001b[0m\u001b[0m\n\u001b[0;32m--> 393\u001b[0;31m         \u001b[0;32mreturn\u001b[0m \u001b[0m_sample_chain\u001b[0m\u001b[0;34m(\u001b[0m\u001b[0msampler\u001b[0m\u001b[0;34m,\u001b[0m \u001b[0mmachine\u001b[0m\u001b[0;34m,\u001b[0m \u001b[0mparameters\u001b[0m\u001b[0;34m,\u001b[0m \u001b[0mstate\u001b[0m\u001b[0;34m,\u001b[0m \u001b[0mchain_length\u001b[0m\u001b[0;34m)\u001b[0m\u001b[0;34m\u001b[0m\u001b[0;34m\u001b[0m\u001b[0m\n\u001b[0m\u001b[1;32m    394\u001b[0m \u001b[0;34m\u001b[0m\u001b[0m\n\u001b[1;32m    395\u001b[0m     \u001b[0;32mdef\u001b[0m \u001b[0m__repr__\u001b[0m\u001b[0;34m(\u001b[0m\u001b[0msampler\u001b[0m\u001b[0;34m)\u001b[0m\u001b[0;34m:\u001b[0m\u001b[0;34m\u001b[0m\u001b[0;34m\u001b[0m\u001b[0m\n",
      "    \u001b[0;31m[... skipping hidden 1 frame]\u001b[0m\n",
      "\u001b[0;32m~/.local/lib/python3.8/site-packages/jax/_src/api.py\u001b[0m in \u001b[0;36mcache_miss\u001b[0;34m(*args, **kwargs)\u001b[0m\n\u001b[1;32m    414\u001b[0m         fun, static_argnums, static_argnames, donate_argnums, args, kwargs)\n\u001b[1;32m    415\u001b[0m     \u001b[0mflat_fun\u001b[0m\u001b[0;34m,\u001b[0m \u001b[0mout_tree\u001b[0m \u001b[0;34m=\u001b[0m \u001b[0mflatten_fun\u001b[0m\u001b[0;34m(\u001b[0m\u001b[0mclosed_fun\u001b[0m\u001b[0;34m,\u001b[0m \u001b[0min_tree\u001b[0m\u001b[0;34m)\u001b[0m\u001b[0;34m\u001b[0m\u001b[0;34m\u001b[0m\u001b[0m\n\u001b[0;32m--> 416\u001b[0;31m     out_flat = xla.xla_call(\n\u001b[0m\u001b[1;32m    417\u001b[0m         \u001b[0mflat_fun\u001b[0m\u001b[0;34m,\u001b[0m \u001b[0;34m*\u001b[0m\u001b[0margs_flat\u001b[0m\u001b[0;34m,\u001b[0m\u001b[0;34m\u001b[0m\u001b[0;34m\u001b[0m\u001b[0m\n\u001b[1;32m    418\u001b[0m         \u001b[0mdevice\u001b[0m\u001b[0;34m=\u001b[0m\u001b[0mdevice\u001b[0m\u001b[0;34m,\u001b[0m \u001b[0mbackend\u001b[0m\u001b[0;34m=\u001b[0m\u001b[0mbackend\u001b[0m\u001b[0;34m,\u001b[0m \u001b[0mname\u001b[0m\u001b[0;34m=\u001b[0m\u001b[0mflat_fun\u001b[0m\u001b[0;34m.\u001b[0m\u001b[0m__name__\u001b[0m\u001b[0;34m,\u001b[0m\u001b[0;34m\u001b[0m\u001b[0;34m\u001b[0m\u001b[0m\n",
      "\u001b[0;32m~/.local/lib/python3.8/site-packages/jax/core.py\u001b[0m in \u001b[0;36mbind\u001b[0;34m(self, fun, *args, **params)\u001b[0m\n\u001b[1;32m   1630\u001b[0m \u001b[0;34m\u001b[0m\u001b[0m\n\u001b[1;32m   1631\u001b[0m   \u001b[0;32mdef\u001b[0m \u001b[0mbind\u001b[0m\u001b[0;34m(\u001b[0m\u001b[0mself\u001b[0m\u001b[0;34m,\u001b[0m \u001b[0mfun\u001b[0m\u001b[0;34m,\u001b[0m \u001b[0;34m*\u001b[0m\u001b[0margs\u001b[0m\u001b[0;34m,\u001b[0m \u001b[0;34m**\u001b[0m\u001b[0mparams\u001b[0m\u001b[0;34m)\u001b[0m\u001b[0;34m:\u001b[0m\u001b[0;34m\u001b[0m\u001b[0;34m\u001b[0m\u001b[0m\n\u001b[0;32m-> 1632\u001b[0;31m     \u001b[0;32mreturn\u001b[0m \u001b[0mcall_bind\u001b[0m\u001b[0;34m(\u001b[0m\u001b[0mself\u001b[0m\u001b[0;34m,\u001b[0m \u001b[0mfun\u001b[0m\u001b[0;34m,\u001b[0m \u001b[0;34m*\u001b[0m\u001b[0margs\u001b[0m\u001b[0;34m,\u001b[0m \u001b[0;34m**\u001b[0m\u001b[0mparams\u001b[0m\u001b[0;34m)\u001b[0m\u001b[0;34m\u001b[0m\u001b[0;34m\u001b[0m\u001b[0m\n\u001b[0m\u001b[1;32m   1633\u001b[0m \u001b[0;34m\u001b[0m\u001b[0m\n\u001b[1;32m   1634\u001b[0m   \u001b[0;32mdef\u001b[0m \u001b[0mprocess\u001b[0m\u001b[0;34m(\u001b[0m\u001b[0mself\u001b[0m\u001b[0;34m,\u001b[0m \u001b[0mtrace\u001b[0m\u001b[0;34m,\u001b[0m \u001b[0mfun\u001b[0m\u001b[0;34m,\u001b[0m \u001b[0mtracers\u001b[0m\u001b[0;34m,\u001b[0m \u001b[0mparams\u001b[0m\u001b[0;34m)\u001b[0m\u001b[0;34m:\u001b[0m\u001b[0;34m\u001b[0m\u001b[0;34m\u001b[0m\u001b[0m\n",
      "\u001b[0;32m~/.local/lib/python3.8/site-packages/jax/core.py\u001b[0m in \u001b[0;36mcall_bind\u001b[0;34m(primitive, fun, *args, **params)\u001b[0m\n\u001b[1;32m   1621\u001b[0m       params_tuple, out_axes_transforms)\n\u001b[1;32m   1622\u001b[0m   \u001b[0mtracers\u001b[0m \u001b[0;34m=\u001b[0m \u001b[0mmap\u001b[0m\u001b[0;34m(\u001b[0m\u001b[0mtop_trace\u001b[0m\u001b[0;34m.\u001b[0m\u001b[0mfull_raise\u001b[0m\u001b[0;34m,\u001b[0m \u001b[0margs\u001b[0m\u001b[0;34m)\u001b[0m\u001b[0;34m\u001b[0m\u001b[0;34m\u001b[0m\u001b[0m\n\u001b[0;32m-> 1623\u001b[0;31m   \u001b[0mouts\u001b[0m \u001b[0;34m=\u001b[0m \u001b[0mprimitive\u001b[0m\u001b[0;34m.\u001b[0m\u001b[0mprocess\u001b[0m\u001b[0;34m(\u001b[0m\u001b[0mtop_trace\u001b[0m\u001b[0;34m,\u001b[0m \u001b[0mfun\u001b[0m\u001b[0;34m,\u001b[0m \u001b[0mtracers\u001b[0m\u001b[0;34m,\u001b[0m \u001b[0mparams\u001b[0m\u001b[0;34m)\u001b[0m\u001b[0;34m\u001b[0m\u001b[0;34m\u001b[0m\u001b[0m\n\u001b[0m\u001b[1;32m   1624\u001b[0m   \u001b[0;32mreturn\u001b[0m \u001b[0mmap\u001b[0m\u001b[0;34m(\u001b[0m\u001b[0mfull_lower\u001b[0m\u001b[0;34m,\u001b[0m \u001b[0mapply_todos\u001b[0m\u001b[0;34m(\u001b[0m\u001b[0menv_trace_todo\u001b[0m\u001b[0;34m(\u001b[0m\u001b[0;34m)\u001b[0m\u001b[0;34m,\u001b[0m \u001b[0mouts\u001b[0m\u001b[0;34m)\u001b[0m\u001b[0;34m)\u001b[0m\u001b[0;34m\u001b[0m\u001b[0;34m\u001b[0m\u001b[0m\n\u001b[1;32m   1625\u001b[0m \u001b[0;34m\u001b[0m\u001b[0m\n",
      "\u001b[0;32m~/.local/lib/python3.8/site-packages/jax/core.py\u001b[0m in \u001b[0;36mprocess\u001b[0;34m(self, trace, fun, tracers, params)\u001b[0m\n\u001b[1;32m   1633\u001b[0m \u001b[0;34m\u001b[0m\u001b[0m\n\u001b[1;32m   1634\u001b[0m   \u001b[0;32mdef\u001b[0m \u001b[0mprocess\u001b[0m\u001b[0;34m(\u001b[0m\u001b[0mself\u001b[0m\u001b[0;34m,\u001b[0m \u001b[0mtrace\u001b[0m\u001b[0;34m,\u001b[0m \u001b[0mfun\u001b[0m\u001b[0;34m,\u001b[0m \u001b[0mtracers\u001b[0m\u001b[0;34m,\u001b[0m \u001b[0mparams\u001b[0m\u001b[0;34m)\u001b[0m\u001b[0;34m:\u001b[0m\u001b[0;34m\u001b[0m\u001b[0;34m\u001b[0m\u001b[0m\n\u001b[0;32m-> 1635\u001b[0;31m     \u001b[0;32mreturn\u001b[0m \u001b[0mtrace\u001b[0m\u001b[0;34m.\u001b[0m\u001b[0mprocess_call\u001b[0m\u001b[0;34m(\u001b[0m\u001b[0mself\u001b[0m\u001b[0;34m,\u001b[0m \u001b[0mfun\u001b[0m\u001b[0;34m,\u001b[0m \u001b[0mtracers\u001b[0m\u001b[0;34m,\u001b[0m \u001b[0mparams\u001b[0m\u001b[0;34m)\u001b[0m\u001b[0;34m\u001b[0m\u001b[0;34m\u001b[0m\u001b[0m\n\u001b[0m\u001b[1;32m   1636\u001b[0m \u001b[0;34m\u001b[0m\u001b[0m\n\u001b[1;32m   1637\u001b[0m   \u001b[0;32mdef\u001b[0m \u001b[0mpost_process\u001b[0m\u001b[0;34m(\u001b[0m\u001b[0mself\u001b[0m\u001b[0;34m,\u001b[0m \u001b[0mtrace\u001b[0m\u001b[0;34m,\u001b[0m \u001b[0mout_tracers\u001b[0m\u001b[0;34m,\u001b[0m \u001b[0mparams\u001b[0m\u001b[0;34m)\u001b[0m\u001b[0;34m:\u001b[0m\u001b[0;34m\u001b[0m\u001b[0;34m\u001b[0m\u001b[0m\n",
      "\u001b[0;32m~/.local/lib/python3.8/site-packages/jax/core.py\u001b[0m in \u001b[0;36mprocess_call\u001b[0;34m(self, primitive, f, tracers, params)\u001b[0m\n\u001b[1;32m    625\u001b[0m \u001b[0;34m\u001b[0m\u001b[0m\n\u001b[1;32m    626\u001b[0m   \u001b[0;32mdef\u001b[0m \u001b[0mprocess_call\u001b[0m\u001b[0;34m(\u001b[0m\u001b[0mself\u001b[0m\u001b[0;34m,\u001b[0m \u001b[0mprimitive\u001b[0m\u001b[0;34m,\u001b[0m \u001b[0mf\u001b[0m\u001b[0;34m,\u001b[0m \u001b[0mtracers\u001b[0m\u001b[0;34m,\u001b[0m \u001b[0mparams\u001b[0m\u001b[0;34m)\u001b[0m\u001b[0;34m:\u001b[0m\u001b[0;34m\u001b[0m\u001b[0;34m\u001b[0m\u001b[0m\n\u001b[0;32m--> 627\u001b[0;31m     \u001b[0;32mreturn\u001b[0m \u001b[0mprimitive\u001b[0m\u001b[0;34m.\u001b[0m\u001b[0mimpl\u001b[0m\u001b[0;34m(\u001b[0m\u001b[0mf\u001b[0m\u001b[0;34m,\u001b[0m \u001b[0;34m*\u001b[0m\u001b[0mtracers\u001b[0m\u001b[0;34m,\u001b[0m \u001b[0;34m**\u001b[0m\u001b[0mparams\u001b[0m\u001b[0;34m)\u001b[0m\u001b[0;34m\u001b[0m\u001b[0;34m\u001b[0m\u001b[0m\n\u001b[0m\u001b[1;32m    628\u001b[0m   \u001b[0mprocess_map\u001b[0m \u001b[0;34m=\u001b[0m \u001b[0mprocess_call\u001b[0m\u001b[0;34m\u001b[0m\u001b[0;34m\u001b[0m\u001b[0m\n\u001b[1;32m    629\u001b[0m \u001b[0;34m\u001b[0m\u001b[0m\n",
      "\u001b[0;32m~/.local/lib/python3.8/site-packages/jax/interpreters/xla.py\u001b[0m in \u001b[0;36m_xla_call_impl\u001b[0;34m(***failed resolving arguments***)\u001b[0m\n\u001b[1;32m    579\u001b[0m                    donated_invars, inline):\n\u001b[1;32m    580\u001b[0m   \u001b[0;32mdel\u001b[0m \u001b[0minline\u001b[0m  \u001b[0;31m# Only used at tracing time\u001b[0m\u001b[0;34m\u001b[0m\u001b[0;34m\u001b[0m\u001b[0m\n\u001b[0;32m--> 581\u001b[0;31m   compiled_fun = _xla_callable(fun, device, backend, name, donated_invars,\n\u001b[0m\u001b[1;32m    582\u001b[0m                                *unsafe_map(arg_spec, args))\n\u001b[1;32m    583\u001b[0m   \u001b[0;32mtry\u001b[0m\u001b[0;34m:\u001b[0m\u001b[0;34m\u001b[0m\u001b[0;34m\u001b[0m\u001b[0m\n",
      "\u001b[0;32m~/.local/lib/python3.8/site-packages/jax/linear_util.py\u001b[0m in \u001b[0;36mmemoized_fun\u001b[0;34m(fun, *args)\u001b[0m\n\u001b[1;32m    261\u001b[0m       \u001b[0mfun\u001b[0m\u001b[0;34m.\u001b[0m\u001b[0mpopulate_stores\u001b[0m\u001b[0;34m(\u001b[0m\u001b[0mstores\u001b[0m\u001b[0;34m)\u001b[0m\u001b[0;34m\u001b[0m\u001b[0;34m\u001b[0m\u001b[0m\n\u001b[1;32m    262\u001b[0m     \u001b[0;32melse\u001b[0m\u001b[0;34m:\u001b[0m\u001b[0;34m\u001b[0m\u001b[0;34m\u001b[0m\u001b[0m\n\u001b[0;32m--> 263\u001b[0;31m       \u001b[0mans\u001b[0m \u001b[0;34m=\u001b[0m \u001b[0mcall\u001b[0m\u001b[0;34m(\u001b[0m\u001b[0mfun\u001b[0m\u001b[0;34m,\u001b[0m \u001b[0;34m*\u001b[0m\u001b[0margs\u001b[0m\u001b[0;34m)\u001b[0m\u001b[0;34m\u001b[0m\u001b[0;34m\u001b[0m\u001b[0m\n\u001b[0m\u001b[1;32m    264\u001b[0m       \u001b[0mcache\u001b[0m\u001b[0;34m[\u001b[0m\u001b[0mkey\u001b[0m\u001b[0;34m]\u001b[0m \u001b[0;34m=\u001b[0m \u001b[0;34m(\u001b[0m\u001b[0mans\u001b[0m\u001b[0;34m,\u001b[0m \u001b[0mfun\u001b[0m\u001b[0;34m.\u001b[0m\u001b[0mstores\u001b[0m\u001b[0;34m)\u001b[0m\u001b[0;34m\u001b[0m\u001b[0;34m\u001b[0m\u001b[0m\n\u001b[1;32m    265\u001b[0m \u001b[0;34m\u001b[0m\u001b[0m\n",
      "\u001b[0;32m~/.local/lib/python3.8/site-packages/jax/interpreters/xla.py\u001b[0m in \u001b[0;36m_xla_callable_uncached\u001b[0;34m(fun, device, backend, name, donated_invars, *arg_specs)\u001b[0m\n\u001b[1;32m    651\u001b[0m def _xla_callable_uncached(fun: lu.WrappedFun, device, backend, name,\n\u001b[1;32m    652\u001b[0m                            donated_invars, *arg_specs):\n\u001b[0;32m--> 653\u001b[0;31m   return lower_xla_callable(fun, device, backend, name, donated_invars,\n\u001b[0m\u001b[1;32m    654\u001b[0m                             *arg_specs).compile().unsafe_call\n\u001b[1;32m    655\u001b[0m \u001b[0;34m\u001b[0m\u001b[0m\n",
      "\u001b[0;32m~/.local/lib/python3.8/site-packages/jax/interpreters/xla.py\u001b[0m in \u001b[0;36mlower_xla_callable\u001b[0;34m(fun, device, backend, name, donated_invars, *arg_specs)\u001b[0m\n\u001b[1;32m    721\u001b[0m   ctx = TranslationContext(c, platform, AxisEnv(nreps, (), ()),\n\u001b[1;32m    722\u001b[0m                            extend_name_stack(wrap_name(name, 'jit')))\n\u001b[0;32m--> 723\u001b[0;31m   \u001b[0mout_nodes\u001b[0m \u001b[0;34m=\u001b[0m \u001b[0mjaxpr_subcomp\u001b[0m\u001b[0;34m(\u001b[0m\u001b[0mctx\u001b[0m\u001b[0;34m,\u001b[0m \u001b[0mjaxpr\u001b[0m\u001b[0;34m,\u001b[0m \u001b[0mxla_consts\u001b[0m\u001b[0;34m,\u001b[0m \u001b[0;34m*\u001b[0m\u001b[0mxla_args\u001b[0m\u001b[0;34m)\u001b[0m\u001b[0;34m\u001b[0m\u001b[0;34m\u001b[0m\u001b[0m\n\u001b[0m\u001b[1;32m    724\u001b[0m   \u001b[0mbackend\u001b[0m \u001b[0;34m=\u001b[0m \u001b[0mxb\u001b[0m\u001b[0;34m.\u001b[0m\u001b[0mget_backend\u001b[0m\u001b[0;34m(\u001b[0m\u001b[0mbackend\u001b[0m\u001b[0;34m)\u001b[0m\u001b[0;34m\u001b[0m\u001b[0;34m\u001b[0m\u001b[0m\n\u001b[1;32m    725\u001b[0m   \u001b[0;31m# There is a non-zero cost to building an output tuple, particularly on TPU.\u001b[0m\u001b[0;34m\u001b[0m\u001b[0;34m\u001b[0m\u001b[0;34m\u001b[0m\u001b[0m\n",
      "\u001b[0;32m~/.local/lib/python3.8/site-packages/jax/interpreters/xla.py\u001b[0m in \u001b[0;36mjaxpr_subcomp\u001b[0;34m(ctx, jaxpr, consts, *args)\u001b[0m\n\u001b[1;32m    469\u001b[0m \u001b[0;34m\u001b[0m\u001b[0m\n\u001b[1;32m    470\u001b[0m     \u001b[0;32mwith\u001b[0m \u001b[0msource_info_util\u001b[0m\u001b[0;34m.\u001b[0m\u001b[0muser_context\u001b[0m\u001b[0;34m(\u001b[0m\u001b[0meqn\u001b[0m\u001b[0;34m.\u001b[0m\u001b[0msource_info\u001b[0m\u001b[0;34m)\u001b[0m\u001b[0;34m:\u001b[0m\u001b[0;34m\u001b[0m\u001b[0;34m\u001b[0m\u001b[0m\n\u001b[0;32m--> 471\u001b[0;31m       ans = rule(ctx, map(aval, eqn.invars), map(aval, eqn.outvars),\n\u001b[0m\u001b[1;32m    472\u001b[0m                  *in_nodes, **eqn.params)\n\u001b[1;32m    473\u001b[0m \u001b[0;34m\u001b[0m\u001b[0m\n",
      "\u001b[0;32m~/.local/lib/python3.8/site-packages/jax/interpreters/xla.py\u001b[0m in \u001b[0;36mf_new\u001b[0;34m(ctx, avals_in, avals_out, *xla_args, **params)\u001b[0m\n\u001b[1;32m   1215\u001b[0m       \u001b[0;32mwith\u001b[0m \u001b[0mcore\u001b[0m\u001b[0;34m.\u001b[0m\u001b[0mextend_axis_env_nd\u001b[0m\u001b[0;34m(\u001b[0m\u001b[0mzip\u001b[0m\u001b[0;34m(\u001b[0m\u001b[0maxis_env\u001b[0m\u001b[0;34m.\u001b[0m\u001b[0mnames\u001b[0m\u001b[0;34m,\u001b[0m \u001b[0maxis_env\u001b[0m\u001b[0;34m.\u001b[0m\u001b[0msizes\u001b[0m\u001b[0;34m)\u001b[0m\u001b[0;34m)\u001b[0m\u001b[0;34m:\u001b[0m\u001b[0;34m\u001b[0m\u001b[0;34m\u001b[0m\u001b[0m\n\u001b[1;32m   1216\u001b[0m         \u001b[0mjaxpr\u001b[0m\u001b[0;34m,\u001b[0m \u001b[0m_\u001b[0m\u001b[0;34m,\u001b[0m \u001b[0mconsts\u001b[0m \u001b[0;34m=\u001b[0m \u001b[0mpe\u001b[0m\u001b[0;34m.\u001b[0m\u001b[0mtrace_to_jaxpr_dynamic\u001b[0m\u001b[0;34m(\u001b[0m\u001b[0mwrapped_fun\u001b[0m\u001b[0;34m,\u001b[0m \u001b[0mavals_in\u001b[0m\u001b[0;34m)\u001b[0m\u001b[0;34m\u001b[0m\u001b[0;34m\u001b[0m\u001b[0m\n\u001b[0;32m-> 1217\u001b[0;31m       return jaxpr_subcomp(ctx, jaxpr, _xla_consts(ctx.builder, consts),\n\u001b[0m\u001b[1;32m   1218\u001b[0m                            *xla_args)\n\u001b[1;32m   1219\u001b[0m     \u001b[0;32mreturn\u001b[0m \u001b[0mf_new\u001b[0m\u001b[0;34m\u001b[0m\u001b[0;34m\u001b[0m\u001b[0m\n",
      "\u001b[0;32m~/.local/lib/python3.8/site-packages/jax/interpreters/xla.py\u001b[0m in \u001b[0;36mjaxpr_subcomp\u001b[0;34m(ctx, jaxpr, consts, *args)\u001b[0m\n\u001b[1;32m    469\u001b[0m \u001b[0;34m\u001b[0m\u001b[0m\n\u001b[1;32m    470\u001b[0m     \u001b[0;32mwith\u001b[0m \u001b[0msource_info_util\u001b[0m\u001b[0;34m.\u001b[0m\u001b[0muser_context\u001b[0m\u001b[0;34m(\u001b[0m\u001b[0meqn\u001b[0m\u001b[0;34m.\u001b[0m\u001b[0msource_info\u001b[0m\u001b[0;34m)\u001b[0m\u001b[0;34m:\u001b[0m\u001b[0;34m\u001b[0m\u001b[0;34m\u001b[0m\u001b[0m\n\u001b[0;32m--> 471\u001b[0;31m       ans = rule(ctx, map(aval, eqn.invars), map(aval, eqn.outvars),\n\u001b[0m\u001b[1;32m    472\u001b[0m                  *in_nodes, **eqn.params)\n\u001b[1;32m    473\u001b[0m \u001b[0;34m\u001b[0m\u001b[0m\n",
      "\u001b[0;32m~/.local/lib/python3.8/site-packages/jax/_src/lax/control_flow.py\u001b[0m in \u001b[0;36m_while_loop_translation_rule\u001b[0;34m(ctx, avals_in, avals_out, cond_jaxpr, body_jaxpr, cond_nconsts, body_nconsts, *args)\u001b[0m\n\u001b[1;32m    358\u001b[0m   body_ctx = ctx.replace(builder=body_c,\n\u001b[1;32m    359\u001b[0m                          name_stack=extend_name_stack(ctx.name_stack, 'body'))\n\u001b[0;32m--> 360\u001b[0;31m   new_z = xla.jaxpr_subcomp(\n\u001b[0m\u001b[1;32m    361\u001b[0m       \u001b[0mbody_ctx\u001b[0m\u001b[0;34m,\u001b[0m \u001b[0mbody_jaxpr\u001b[0m\u001b[0;34m.\u001b[0m\u001b[0mjaxpr\u001b[0m\u001b[0;34m,\u001b[0m\u001b[0;34m\u001b[0m\u001b[0;34m\u001b[0m\u001b[0m\n\u001b[1;32m    362\u001b[0m       \u001b[0m_map\u001b[0m\u001b[0;34m(\u001b[0m\u001b[0mpartial\u001b[0m\u001b[0;34m(\u001b[0m\u001b[0mxb\u001b[0m\u001b[0;34m.\u001b[0m\u001b[0mconstant\u001b[0m\u001b[0;34m,\u001b[0m \u001b[0mbody_c\u001b[0m\u001b[0;34m)\u001b[0m\u001b[0;34m,\u001b[0m \u001b[0mbody_jaxpr\u001b[0m\u001b[0;34m.\u001b[0m\u001b[0mconsts\u001b[0m\u001b[0;34m)\u001b[0m\u001b[0;34m,\u001b[0m\u001b[0;34m\u001b[0m\u001b[0;34m\u001b[0m\u001b[0m\n",
      "\u001b[0;32m~/.local/lib/python3.8/site-packages/jax/interpreters/xla.py\u001b[0m in \u001b[0;36mjaxpr_subcomp\u001b[0;34m(ctx, jaxpr, consts, *args)\u001b[0m\n\u001b[1;32m    454\u001b[0m   \u001b[0m_partitionmap\u001b[0m\u001b[0;34m(\u001b[0m\u001b[0mwrite\u001b[0m\u001b[0;34m,\u001b[0m \u001b[0mjaxpr\u001b[0m\u001b[0;34m.\u001b[0m\u001b[0minvars\u001b[0m\u001b[0;34m,\u001b[0m \u001b[0margs\u001b[0m\u001b[0;34m)\u001b[0m\u001b[0;34m\u001b[0m\u001b[0;34m\u001b[0m\u001b[0m\n\u001b[1;32m    455\u001b[0m   \u001b[0;32mfor\u001b[0m \u001b[0meqn\u001b[0m \u001b[0;32min\u001b[0m \u001b[0mjaxpr\u001b[0m\u001b[0;34m.\u001b[0m\u001b[0meqns\u001b[0m\u001b[0;34m:\u001b[0m\u001b[0;34m\u001b[0m\u001b[0;34m\u001b[0m\u001b[0m\n\u001b[0;32m--> 456\u001b[0;31m     op_metadata = make_op_metadata(\n\u001b[0m\u001b[1;32m    457\u001b[0m         \u001b[0meqn\u001b[0m\u001b[0;34m.\u001b[0m\u001b[0mprimitive\u001b[0m\u001b[0;34m,\u001b[0m \u001b[0meqn\u001b[0m\u001b[0;34m.\u001b[0m\u001b[0mparams\u001b[0m\u001b[0;34m,\u001b[0m \u001b[0mname_stack\u001b[0m\u001b[0;34m=\u001b[0m\u001b[0mctx\u001b[0m\u001b[0;34m.\u001b[0m\u001b[0mname_stack\u001b[0m\u001b[0;34m,\u001b[0m\u001b[0;34m\u001b[0m\u001b[0;34m\u001b[0m\u001b[0m\n\u001b[1;32m    458\u001b[0m         source_info=eqn.source_info)\n",
      "\u001b[0;32m~/.local/lib/python3.8/site-packages/jax/interpreters/xla.py\u001b[0m in \u001b[0;36mmake_op_metadata\u001b[0;34m(primitive, params, name_stack, source_info)\u001b[0m\n\u001b[1;32m    117\u001b[0m                      \u001b[0msource_info\u001b[0m\u001b[0;34m:\u001b[0m \u001b[0mOptional\u001b[0m\u001b[0;34m[\u001b[0m\u001b[0msource_info_util\u001b[0m\u001b[0;34m.\u001b[0m\u001b[0mTraceback\u001b[0m\u001b[0;34m]\u001b[0m \u001b[0;34m=\u001b[0m \u001b[0;32mNone\u001b[0m\u001b[0;34m\u001b[0m\u001b[0;34m\u001b[0m\u001b[0m\n\u001b[1;32m    118\u001b[0m                      ) -> xc.OpMetadata:\n\u001b[0;32m--> 119\u001b[0;31m   eqn_str = str(pp.text(name_stack) +\n\u001b[0m\u001b[1;32m    120\u001b[0m                 pp_eqn_compact(primitive.name, params, JaxprPpContext()))\n\u001b[1;32m    121\u001b[0m   \u001b[0mtracebacks\u001b[0m\u001b[0;34m[\u001b[0m\u001b[0meqn_str\u001b[0m\u001b[0;34m]\u001b[0m \u001b[0;34m=\u001b[0m \u001b[0msource_info\u001b[0m\u001b[0;34m\u001b[0m\u001b[0;34m\u001b[0m\u001b[0m\n",
      "\u001b[0;32m~/.local/lib/python3.8/site-packages/jax/_src/pretty_printer.py\u001b[0m in \u001b[0;36m__str__\u001b[0;34m(self)\u001b[0m\n\u001b[1;32m     46\u001b[0m \u001b[0;34m\u001b[0m\u001b[0m\n\u001b[1;32m     47\u001b[0m   \u001b[0;32mdef\u001b[0m \u001b[0m__str__\u001b[0m\u001b[0;34m(\u001b[0m\u001b[0mself\u001b[0m\u001b[0;34m)\u001b[0m\u001b[0;34m:\u001b[0m\u001b[0;34m\u001b[0m\u001b[0;34m\u001b[0m\u001b[0m\n\u001b[0;32m---> 48\u001b[0;31m     \u001b[0;32mreturn\u001b[0m \u001b[0mself\u001b[0m\u001b[0;34m.\u001b[0m\u001b[0mformat\u001b[0m\u001b[0;34m(\u001b[0m\u001b[0;34m)\u001b[0m\u001b[0;34m\u001b[0m\u001b[0;34m\u001b[0m\u001b[0m\n\u001b[0m\u001b[1;32m     49\u001b[0m \u001b[0;34m\u001b[0m\u001b[0m\n\u001b[1;32m     50\u001b[0m   \u001b[0;32mdef\u001b[0m \u001b[0m__add__\u001b[0m\u001b[0;34m(\u001b[0m\u001b[0mself\u001b[0m\u001b[0;34m,\u001b[0m \u001b[0mother\u001b[0m\u001b[0;34m:\u001b[0m \u001b[0;34m'Doc'\u001b[0m\u001b[0;34m)\u001b[0m \u001b[0;34m->\u001b[0m \u001b[0;34m'Doc'\u001b[0m\u001b[0;34m:\u001b[0m\u001b[0;34m\u001b[0m\u001b[0;34m\u001b[0m\u001b[0m\n",
      "\u001b[0;32m~/.local/lib/python3.8/site-packages/jax/_src/pretty_printer.py\u001b[0m in \u001b[0;36mformat\u001b[0;34m(self, width, use_color, annotation_prefix)\u001b[0m\n\u001b[1;32m     42\u001b[0m   def format(self, width: int = 80, use_color: bool = False,\n\u001b[1;32m     43\u001b[0m              annotation_prefix=\" # \") -> str:\n\u001b[0;32m---> 44\u001b[0;31m     return _format(self, width, use_color=use_color,\n\u001b[0m\u001b[1;32m     45\u001b[0m                    annotation_prefix=annotation_prefix)\n\u001b[1;32m     46\u001b[0m \u001b[0;34m\u001b[0m\u001b[0m\n",
      "\u001b[0;32m~/.local/lib/python3.8/site-packages/jax/_src/pretty_printer.py\u001b[0m in \u001b[0;36m_format\u001b[0;34m(doc, width, use_color, annotation_prefix)\u001b[0m\n\u001b[1;32m    296\u001b[0m       \u001b[0;31m# I'm pretty sure that's a bug and we care only if the current group fits!\u001b[0m\u001b[0;34m\u001b[0m\u001b[0;34m\u001b[0m\u001b[0;34m\u001b[0m\u001b[0m\n\u001b[1;32m    297\u001b[0m       if (_sparse(doc)\n\u001b[0;32m--> 298\u001b[0;31m           and _fits(doc, width - k, [(i, _BreakMode.FLAT, doc.child)])):\n\u001b[0m\u001b[1;32m    299\u001b[0m         \u001b[0magenda\u001b[0m\u001b[0;34m.\u001b[0m\u001b[0mappend\u001b[0m\u001b[0;34m(\u001b[0m\u001b[0m_State\u001b[0m\u001b[0;34m(\u001b[0m\u001b[0mi\u001b[0m\u001b[0;34m,\u001b[0m \u001b[0m_BreakMode\u001b[0m\u001b[0;34m.\u001b[0m\u001b[0mFLAT\u001b[0m\u001b[0;34m,\u001b[0m \u001b[0mdoc\u001b[0m\u001b[0;34m.\u001b[0m\u001b[0mchild\u001b[0m\u001b[0;34m,\u001b[0m \u001b[0mcolor\u001b[0m\u001b[0;34m)\u001b[0m\u001b[0;34m)\u001b[0m\u001b[0;34m\u001b[0m\u001b[0;34m\u001b[0m\u001b[0m\n\u001b[1;32m    300\u001b[0m       \u001b[0;32melse\u001b[0m\u001b[0;34m:\u001b[0m\u001b[0;34m\u001b[0m\u001b[0;34m\u001b[0m\u001b[0m\n",
      "\u001b[0;32m~/.local/lib/python3.8/site-packages/jax/_src/pretty_printer.py\u001b[0m in \u001b[0;36m_fits\u001b[0;34m(doc, width, agenda)\u001b[0m\n\u001b[1;32m    148\u001b[0m   \u001b[0;32mwhile\u001b[0m \u001b[0mwidth\u001b[0m \u001b[0;34m>=\u001b[0m \u001b[0;36m0\u001b[0m \u001b[0;32mand\u001b[0m \u001b[0mlen\u001b[0m\u001b[0;34m(\u001b[0m\u001b[0magenda\u001b[0m\u001b[0;34m)\u001b[0m \u001b[0;34m>\u001b[0m \u001b[0;36m0\u001b[0m\u001b[0;34m:\u001b[0m\u001b[0;34m\u001b[0m\u001b[0;34m\u001b[0m\u001b[0m\n\u001b[1;32m    149\u001b[0m     \u001b[0mi\u001b[0m\u001b[0;34m,\u001b[0m \u001b[0mm\u001b[0m\u001b[0;34m,\u001b[0m \u001b[0mdoc\u001b[0m \u001b[0;34m=\u001b[0m \u001b[0magenda\u001b[0m\u001b[0;34m.\u001b[0m\u001b[0mpop\u001b[0m\u001b[0;34m(\u001b[0m\u001b[0;34m)\u001b[0m\u001b[0;34m\u001b[0m\u001b[0;34m\u001b[0m\u001b[0m\n\u001b[0;32m--> 150\u001b[0;31m     \u001b[0;32mif\u001b[0m \u001b[0misinstance\u001b[0m\u001b[0;34m(\u001b[0m\u001b[0mdoc\u001b[0m\u001b[0;34m,\u001b[0m \u001b[0m_NilDoc\u001b[0m\u001b[0;34m)\u001b[0m\u001b[0;34m:\u001b[0m\u001b[0;34m\u001b[0m\u001b[0;34m\u001b[0m\u001b[0m\n\u001b[0m\u001b[1;32m    151\u001b[0m       \u001b[0;32mpass\u001b[0m\u001b[0;34m\u001b[0m\u001b[0;34m\u001b[0m\u001b[0m\n\u001b[1;32m    152\u001b[0m     \u001b[0;32melif\u001b[0m \u001b[0misinstance\u001b[0m\u001b[0;34m(\u001b[0m\u001b[0mdoc\u001b[0m\u001b[0;34m,\u001b[0m \u001b[0m_TextDoc\u001b[0m\u001b[0;34m)\u001b[0m\u001b[0;34m:\u001b[0m\u001b[0;34m\u001b[0m\u001b[0;34m\u001b[0m\u001b[0m\n",
      "\u001b[0;32m/usr/lib/python3.8/abc.py\u001b[0m in \u001b[0;36m__instancecheck__\u001b[0;34m(cls, instance)\u001b[0m\n\u001b[1;32m     94\u001b[0m             \u001b[0;32mreturn\u001b[0m \u001b[0m_abc_register\u001b[0m\u001b[0;34m(\u001b[0m\u001b[0mcls\u001b[0m\u001b[0;34m,\u001b[0m \u001b[0msubclass\u001b[0m\u001b[0;34m)\u001b[0m\u001b[0;34m\u001b[0m\u001b[0;34m\u001b[0m\u001b[0m\n\u001b[1;32m     95\u001b[0m \u001b[0;34m\u001b[0m\u001b[0m\n\u001b[0;32m---> 96\u001b[0;31m         \u001b[0;32mdef\u001b[0m \u001b[0m__instancecheck__\u001b[0m\u001b[0;34m(\u001b[0m\u001b[0mcls\u001b[0m\u001b[0;34m,\u001b[0m \u001b[0minstance\u001b[0m\u001b[0;34m)\u001b[0m\u001b[0;34m:\u001b[0m\u001b[0;34m\u001b[0m\u001b[0;34m\u001b[0m\u001b[0m\n\u001b[0m\u001b[1;32m     97\u001b[0m             \u001b[0;34m\"\"\"Override for isinstance(instance, cls).\"\"\"\u001b[0m\u001b[0;34m\u001b[0m\u001b[0;34m\u001b[0m\u001b[0m\n\u001b[1;32m     98\u001b[0m             \u001b[0;32mreturn\u001b[0m \u001b[0m_abc_instancecheck\u001b[0m\u001b[0;34m(\u001b[0m\u001b[0mcls\u001b[0m\u001b[0;34m,\u001b[0m \u001b[0minstance\u001b[0m\u001b[0;34m)\u001b[0m\u001b[0;34m\u001b[0m\u001b[0;34m\u001b[0m\u001b[0m\n",
      "\u001b[0;31mKeyboardInterrupt\u001b[0m: "
     ]
    }
   ],
   "source": [
    "no_of_runs = 2 #2 ... bude se pocitat i druhý způsob (za použití MSR)\n",
    "use_MSR = 0 # in case of one run\n",
    "NUM_ITER = 500\n",
    "print(\"J_1 =\", JEXCH1)\n",
    "if exact_ground_energy != 0:\n",
    "    print(\"Expected exact energy:\", exact_ground_energy)\n",
    "for i,gs in enumerate([gs_normal,gs_MSR][use_MSR:use_MSR+no_of_runs]):\n",
    "    start = time.time()\n",
    "    #gs.info()\n",
    "    gs.run(out=OUT_NAME+str(i), n_iter=int(NUM_ITER))#,obs={'DS_factor': m_dimer_op})#,'PS_factor':m_plaquette_op,'AF_factor':m_s2_op})\n",
    "    end = time.time()\n",
    "    print(\"The type {} of RBM calculation took {} min\".format(i, (end-start)/60))\n"
   ]
  },
  {
   "cell_type": "code",
   "execution_count": null,
   "metadata": {},
   "outputs": [
    {
     "name": "stdout",
     "output_type": "stream",
     "text": [
      "-23.91965981703219\n"
     ]
    }
   ],
   "source": [
    "print(gs_MSR.energy.mean.real)"
   ]
  },
  {
   "cell_type": "code",
   "execution_count": null,
   "metadata": {},
   "outputs": [
    {
     "name": "stdout",
     "output_type": "stream",
     "text": [
      "Trained RBM without MSR:\n",
      "m_d^2 = 1.00129+0.00019j ± 0.00044 [σ²=0.00016, R̂=1.1885]\n",
      "m_p = -0.132-0.000j ± 0.014 [σ²=0.117, R̂=1.3822]\n",
      "m_s^2 = -0.000249-0.000034j ± 0.000093 [σ²=0.000008, R̂=1.1367]\n",
      "m_s^2 = -0.000234-0.000038j ± 0.000092 [σ²=0.000008, R̂=1.1440] <--- no MSR!!\n",
      "Trained RBM with MSR:\n",
      "m_d^2 = 0.99647+0.00023j ± 0.00080 [σ²=0.00055, R̂=1.0218]\n",
      "m_p = -0.139-0.002j ± 0.020 [σ²=0.248, R̂=1.3330]\n",
      "m_s^2 = 0.00071-0.00000j ± 0.00019 [σ²=0.00003, R̂=1.0167]\n",
      "m_s^2 = 0.00063-0.00002j ± 0.00012 [σ²=0.00001, R̂=1.0266] <--- no MSR!!\n"
     ]
    }
   ],
   "source": [
    "for i,gs in enumerate([gs_normal,gs_MSR][use_MSR:use_MSR+no_of_runs]):\n",
    "    print(\"Trained RBM with MSR:\" if i else \"Trained RBM without MSR:\")\n",
    "    print(\"m_d^2 =\", gs.estimate(m_dimer_op))\n",
    "    print(\"m_p =\", gs.estimate(m_plaquette_op_MSR))\n",
    "    print(\"m_s^2 =\", gs.estimate(m_s2_op_MSR))\n",
    "    print(\"m_s^2 =\", gs.estimate(m_s2_op), \"<--- no MSR!!\")"
   ]
  },
  {
   "cell_type": "code",
   "execution_count": null,
   "metadata": {},
   "outputs": [
    {
     "name": "stdout",
     "output_type": "stream",
     "text": [
      "-24.028854544384536    -23.91965981703219    1.0012910615658372    -0.13450557815140385    -0.0002490271141954309    -0.00023356704752349654    0.9964682220508182    -0.14301455010663294    0.0007093100465992559    0.0006306773828934415\n"
     ]
    }
   ],
   "source": [
    "print(gs_normal.energy.mean.real, gs_MSR.energy.mean.real, gs_normal.estimate(m_dimer_op).mean.real, gs_normal.estimate(m_plaquette_op).mean.real, gs_normal.estimate(m_s2_op_MSR).mean.real, gs_normal.estimate(m_s2_op).mean.real, gs_MSR.estimate(m_dimer_op).mean.real, gs_MSR.estimate(m_plaquette_op).mean.real, gs_MSR.estimate(m_s2_op_MSR).mean.real, gs_MSR.estimate(m_s2_op).mean.real, sep='    ')"
   ]
  },
  {
   "cell_type": "code",
   "execution_count": null,
   "metadata": {},
   "outputs": [
    {
     "name": "stdout",
     "output_type": "stream",
     "text": [
      "-24.028855     -23.919660    1.001291    -0.134506    -0.000249    -0.000234    0.996468    -0.139025    0.000709    0.000631    samples:1200.000000  iters:500.000000\n"
     ]
    }
   ],
   "source": [
    "print(\"{:f}     {:f}    {:f}    {:f}    {:f}    {:f}    {:f}    {:f}    {:f}    {:f}    samples:{:f}  iters:{:f}\".format(gs_normal.energy.mean.real, gs_MSR.energy.mean.real, gs_normal.estimate(m_dimer_op).mean.real, gs_normal.estimate(m_plaquette_op).mean.real, gs_normal.estimate(m_s2_op_MSR).mean.real, gs_normal.estimate(m_s2_op).mean.real, gs_MSR.estimate(m_dimer_op).mean.real, gs_MSR.estimate(m_plaquette_op_MSR).mean.real, gs_MSR.estimate(m_s2_op_MSR).mean.real, gs_MSR.estimate(m_s2_op).mean.real, SAMPLES, NUM_ITER, sep='    '))"
   ]
  },
  {
   "cell_type": "markdown",
   "metadata": {},
   "source": [
    "## Energy"
   ]
  },
  {
   "cell_type": "code",
   "execution_count": null,
   "metadata": {},
   "outputs": [],
   "source": [
    "# exact energy line\n",
    "figure = go.Figure(\n",
    "    data=[go.Scatter(x=(0,NUM_ITER),y=(exact_ground_energy,exact_ground_energy),mode=\"lines\",line=go.scatter.Line(color=\"#000000\",width=1), name=\"exact energy\")], \n",
    "    layout=go.Layout(template=\"simple_white\",\n",
    "        xaxis=dict(title=\"Iteration\", mirror=True, showline=True),\n",
    "        yaxis=dict(title=\"Energy\", mirror=True, showline=True),\n",
    "        title=(\"<b>\"+\"S-S\"+\" model </b>, L=\"+str(SITES)+\", J2 =\"+str(JEXCH2)+ \" , η=\"+str(ETA)+\", α=\"+str(ALPHA)+\", samples=\"+str(SAMPLES))))"
   ]
  },
  {
   "cell_type": "code",
   "execution_count": null,
   "metadata": {},
   "outputs": [
    {
     "data": {
      "application/vnd.plotly.v1+json": {
       "config": {
        "plotlyServerURL": "https://plot.ly"
       },
       "data": [
        {
         "line": {
          "color": "#000000",
          "width": 1
         },
         "mode": "lines",
         "name": "exact energy",
         "type": "scatter",
         "x": [
          0,
          500
         ],
         "y": [
          -24.000000000000014,
          -24.000000000000014
         ]
        },
        {
         "name": "normal basis",
         "type": "scatter",
         "x": [
          0,
          1,
          2,
          3,
          4,
          5,
          6,
          7,
          8,
          9,
          10,
          11,
          12,
          13,
          14,
          15,
          16,
          17,
          18,
          19,
          20,
          21,
          22,
          23,
          24,
          25,
          26,
          27,
          28,
          29,
          30,
          31,
          32,
          33,
          34,
          35,
          36,
          37,
          38,
          39,
          40,
          41,
          42,
          43,
          44,
          45,
          46,
          47,
          48,
          49,
          50,
          51,
          52,
          53,
          54,
          55,
          56,
          57,
          58,
          59,
          60,
          61,
          62,
          63,
          64,
          65,
          66,
          67,
          68,
          69,
          70,
          71,
          72,
          73,
          74,
          75,
          76,
          77,
          78,
          79,
          80,
          81,
          82,
          83,
          84,
          85,
          86,
          87,
          88,
          89,
          90,
          91,
          92,
          93,
          94,
          95,
          96,
          97,
          98,
          99,
          100,
          101,
          102,
          103,
          104,
          105,
          106,
          107,
          108,
          109,
          110,
          111,
          112,
          113,
          114,
          115,
          116,
          117,
          118,
          119,
          120,
          121,
          122,
          123,
          124,
          125,
          126,
          127,
          128,
          129,
          130,
          131,
          132,
          133,
          134,
          135,
          136,
          137,
          138,
          139,
          140,
          141,
          142,
          143,
          144,
          145,
          146,
          147,
          148,
          149,
          150,
          151,
          152,
          153,
          154,
          155,
          156,
          157,
          158,
          159,
          160,
          161,
          162,
          163,
          164,
          165,
          166,
          167,
          168,
          169,
          170,
          171,
          172,
          173,
          174,
          175,
          176,
          177,
          178,
          179,
          180,
          181,
          182,
          183,
          184,
          185,
          186,
          187,
          188,
          189,
          190,
          191,
          192,
          193,
          194,
          195,
          196,
          197,
          198,
          199,
          200,
          201,
          202,
          203,
          204,
          205,
          206,
          207,
          208,
          209,
          210,
          211,
          212,
          213,
          214,
          215,
          216,
          217,
          218,
          219,
          220,
          221,
          222,
          223,
          224,
          225,
          226,
          227,
          228,
          229,
          230,
          231,
          232,
          233,
          234,
          235,
          236,
          237,
          238,
          239,
          240,
          241,
          242,
          243,
          244,
          245,
          246,
          247,
          248,
          249,
          250,
          251,
          252,
          253,
          254,
          255,
          256,
          257,
          258,
          259,
          260,
          261,
          262,
          263,
          264,
          265,
          266,
          267,
          268,
          269,
          270,
          271,
          272,
          273,
          274,
          275,
          276,
          277,
          278,
          279,
          280,
          281,
          282,
          283,
          284,
          285,
          286,
          287,
          288,
          289,
          290,
          291,
          292,
          293,
          294,
          295,
          296,
          297,
          298,
          299,
          300,
          301,
          302,
          303,
          304,
          305,
          306,
          307,
          308,
          309,
          310,
          311,
          312,
          313,
          314,
          315,
          316,
          317,
          318,
          319,
          320,
          321,
          322,
          323,
          324,
          325,
          326,
          327,
          328,
          329,
          330,
          331,
          332,
          333,
          334,
          335,
          336,
          337,
          338,
          339,
          340,
          341,
          342,
          343,
          344,
          345,
          346,
          347,
          348,
          349,
          350,
          351,
          352,
          353,
          354,
          355,
          356,
          357,
          358,
          359,
          360,
          361,
          362,
          363,
          364,
          365,
          366,
          367,
          368,
          369,
          370,
          371,
          372,
          373,
          374,
          375,
          376,
          377,
          378,
          379,
          380,
          381,
          382,
          383,
          384,
          385,
          386,
          387,
          388,
          389,
          390,
          391,
          392,
          393,
          394,
          395,
          396,
          397,
          398,
          399,
          400,
          401,
          402,
          403,
          404,
          405,
          406,
          407,
          408,
          409,
          410,
          411,
          412,
          413,
          414,
          415,
          416,
          417,
          418,
          419,
          420,
          421,
          422,
          423,
          424,
          425,
          426,
          427,
          428,
          429,
          430,
          431,
          432,
          433,
          434,
          435,
          436,
          437,
          438,
          439,
          440,
          441,
          442,
          443,
          444,
          445,
          446,
          447,
          448,
          449,
          450,
          451,
          452,
          453,
          454,
          455,
          456,
          457,
          458,
          459,
          460,
          461,
          462,
          463,
          464,
          465,
          466,
          467,
          468,
          469,
          470,
          471,
          472,
          473,
          474,
          475,
          476,
          477,
          478,
          479,
          480,
          481,
          482,
          483,
          484,
          485,
          486,
          487,
          488,
          489,
          490,
          491,
          492,
          493,
          494,
          495,
          496,
          497,
          498,
          499
         ],
         "y": [
          14.3973783047214,
          14.398921405671167,
          14.39901330963549,
          14.394296667517496,
          14.397476810163269,
          14.398166440393865,
          14.396458667401655,
          14.392987597911855,
          14.390176828973825,
          14.39199360492079,
          14.387506986143809,
          14.386815336488379,
          14.385475556039468,
          14.388266562959423,
          14.387581388408048,
          14.382080801699768,
          14.370205985762587,
          14.36686051639483,
          14.365338238669253,
          14.349177605440328,
          14.350392732758358,
          14.348042902956399,
          14.34887523503771,
          14.324254483016837,
          14.317633904837177,
          14.271020851571684,
          14.26884855833823,
          14.217260747119909,
          14.207497060031793,
          14.148178912192423,
          14.107594040079194,
          14.06671447295119,
          13.963114825177783,
          13.852309310797619,
          13.785198455672157,
          13.714923656131779,
          13.562971740472262,
          13.431944922363432,
          13.198185016536431,
          12.899596679145501,
          12.701271313846991,
          12.402295439895987,
          12.014231182616058,
          11.512427621766381,
          10.974262305591365,
          10.276010156091205,
          9.620177297028265,
          9.049186241909444,
          7.993898399982685,
          7.134144731674976,
          6.313975968495612,
          5.297713836770151,
          4.635724751991505,
          3.3718498288688044,
          2.2436060265893927,
          1.3634704000356364,
          0.3912085978898461,
          -0.2806081956124802,
          -0.9327517442031371,
          -1.5975863466269766,
          -2.994769826817358,
          -3.366763651060919,
          -3.8204613154572167,
          -4.287764646255646,
          -4.769580887655957,
          -5.180474013337022,
          -6.212217462219037,
          -6.425670393112801,
          -6.615104837446579,
          -6.912405450959574,
          -7.289566810149095,
          -7.326177685913314,
          -7.9136450099709545,
          -8.127562623456607,
          -8.837056729144805,
          -9.099662794623764,
          -9.456935957173076,
          -9.73479983838366,
          -9.804010566818143,
          -10.475861712852073,
          -10.400542846235368,
          -10.548219430818861,
          -11.014536993594295,
          -11.543828740860219,
          -11.487994720990308,
          -11.66902685597637,
          -12.22029411742858,
          -12.11673597187112,
          -12.612314618192396,
          -12.811157926327166,
          -12.951541129273917,
          -13.286811586086506,
          -13.3932599243875,
          -13.76227691786999,
          -13.862063293883894,
          -14.215979118479433,
          -14.067167417805571,
          -14.765756168254525,
          -14.736785718380059,
          -15.135635392443177,
          -15.051387218584203,
          -15.516195737504466,
          -15.306988812070584,
          -15.90356781478151,
          -16.16661397433895,
          -16.44189872969088,
          -16.979367213492257,
          -17.016106397397945,
          -17.012415939052964,
          -16.96291531818947,
          -16.91913526665,
          -17.288717915286487,
          -17.63602406505886,
          -17.337539298746353,
          -18.008681566112884,
          -17.401522948382336,
          -17.73760336460419,
          -17.908761666782162,
          -17.890543407517153,
          -17.954805773264994,
          -18.3946646956646,
          -18.336157976677356,
          -18.47664815642716,
          -18.319499349269023,
          -18.458976956682836,
          -18.310321459555965,
          -18.55915758177006,
          -18.909929877689212,
          -19.21822665174752,
          -18.943071673633,
          -18.99427864417177,
          -19.421792019930987,
          -18.891789459145894,
          -18.98902835677003,
          -19.16300977231645,
          -19.107959385425033,
          -18.9772767153348,
          -19.47191800077758,
          -19.355036804844364,
          -19.541187411135805,
          -19.69302390787803,
          -19.610868432924594,
          -19.335527602971226,
          -19.378903995351738,
          -19.541649608551033,
          -19.724509257765455,
          -19.587080434484786,
          -19.72734310384467,
          -19.45187875359004,
          -20.00059131648924,
          -19.510659026863255,
          -19.635741283636445,
          -19.78753858818279,
          -19.757925694862188,
          -19.90572978586817,
          -19.785999286886994,
          -20.07223884870011,
          -20.265263032877453,
          -20.147111349852363,
          -20.065703684414693,
          -20.334231000710535,
          -20.198802001495487,
          -20.378604197876612,
          -20.026499957096956,
          -20.31510469153215,
          -20.82894045252364,
          -20.26441491858023,
          -20.74957480216122,
          -20.456100559188915,
          -21.174122319864853,
          -21.197808871202337,
          -20.871179405201744,
          -21.569098226846638,
          -21.02344470822102,
          -21.490350357908845,
          -20.974601748405203,
          -20.80800678491428,
          -21.1678489537605,
          -21.69469095698286,
          -21.661239491648097,
          -21.131035645967334,
          -22.73129258329169,
          -21.1737168810009,
          -21.54962348562119,
          -22.608622332502158,
          -22.055706777043785,
          -22.224126843652446,
          -22.118433039113874,
          -22.164749334767745,
          -22.10632983014733,
          -22.06587060057326,
          -22.65154729745409,
          -22.684624026654877,
          -23.42360608845867,
          -23.982876520286865,
          -23.280089847734025,
          -23.01535957945654,
          -22.8783103636198,
          -23.316559504761724,
          -23.59539826839718,
          -23.68735155199472,
          -23.12089393457863,
          -23.69874947240565,
          -24.06489566549846,
          -23.327408124144895,
          -23.512677974895336,
          -23.135590860152924,
          -23.53740030092404,
          -23.52256068436657,
          -23.402195113432978,
          -23.305510206001557,
          -23.65707984903046,
          -23.828039896036238,
          -24.203331130806166,
          -23.75395814268777,
          -23.900494366665374,
          -24.05978275211423,
          -23.869513081038473,
          -23.750588215013394,
          -23.960168716426967,
          -23.85649695801145,
          -23.814089711900305,
          -23.89873602505556,
          -23.7710844737432,
          -23.785928159235496,
          -23.87678759219774,
          -23.816670213274904,
          -23.760009727721762,
          -23.773727945794295,
          -23.600001141184926,
          -23.92111347387914,
          -23.676531413737845,
          -23.977305701323424,
          -23.955446780503276,
          -23.964101297887357,
          -23.747363260927173,
          -23.802545180045936,
          -23.85754713290287,
          -23.876983452464753,
          -23.82055693304656,
          -23.927060578781948,
          -23.871185189167196,
          -23.943865190337846,
          -23.901306604725836,
          -23.952176618446746,
          -23.95172336764307,
          -24.01987592780014,
          -23.89507604031802,
          -23.962473568190592,
          -23.90222036664486,
          -23.89080740838881,
          -23.902325111432777,
          -23.909998939605135,
          -23.913922224902656,
          -23.84985832922997,
          -23.89902229499299,
          -23.91890485131146,
          -23.784445164770023,
          -23.796063736157674,
          -23.790291921166453,
          -23.94877674395446,
          -23.967894407176296,
          -23.877628265983503,
          -23.854211980224715,
          -23.827261915869098,
          -23.82673064680401,
          -23.781946659815713,
          -23.87731007143352,
          -23.99257618496519,
          -23.996973245085794,
          -23.96242322893711,
          -23.998482212134004,
          -23.985499628057134,
          -24.107555745926035,
          -24.084854564428376,
          -23.953234069354448,
          -23.891597972354493,
          -23.99003247622281,
          -23.91576837301509,
          -23.85852343143553,
          -23.90280378827627,
          -23.943388863938583,
          -23.934217637328146,
          -23.909174312255637,
          -23.932512111901442,
          -23.82662777336224,
          -23.849108579381213,
          -23.821439228888927,
          -23.851326928250135,
          -23.901010715387184,
          -23.843783926239396,
          -23.789856369074975,
          -23.886057831021805,
          -23.936091571189934,
          -24.00996639907856,
          -24.18436725619303,
          -24.038450083358033,
          -23.835667226874854,
          -23.788794686993928,
          -23.849177603298134,
          -23.885293058017353,
          -23.882106316026682,
          -23.876975431003842,
          -23.834460658125536,
          -23.870944843965194,
          -23.84619814298345,
          -23.849468130474616,
          -23.81947513384118,
          -23.938279649737257,
          -23.917425677660002,
          -23.93042037207759,
          -23.93875009305467,
          -23.958716159957508,
          -23.932974521315785,
          -23.968618487638064,
          -23.941692849578274,
          -23.946718376978502,
          -23.945649966608617,
          -23.944254015830243,
          -23.906363326221353,
          -23.85716674554145,
          -23.8643501164409,
          -24.01875156962567,
          -24.011598297367673,
          -23.926844820160174,
          -23.94556527810502,
          -23.98303570015714,
          -23.970326692648715,
          -23.925458932790594,
          -23.935233510318003,
          -23.903235569110635,
          -23.913908135045272,
          -23.89387737619927,
          -23.888916845367596,
          -23.870763266955173,
          -23.89250204892538,
          -23.88730905787354,
          -23.91477833459774,
          -23.906160410555838,
          -23.76992342881475,
          -23.812419877202945,
          -23.866014132576197,
          -24.00671566570691,
          -24.024567773560193,
          -23.96469142923336,
          -23.977968008534308,
          -23.91629754812123,
          -23.913633834755636,
          -23.92730918724164,
          -23.979777995964493,
          -23.958070146463495,
          -23.912936464250915,
          -23.906367957340162,
          -23.924510847737114,
          -23.9235934374763,
          -23.925405596558033,
          -23.95499288913262,
          -23.907828160246122,
          -23.884695041165433,
          -23.87722710558838,
          -23.867522454883286,
          -23.8769062339004,
          -23.933053933472948,
          -24.06507214123546,
          -23.96259703866054,
          -23.907384812381345,
          -23.97020704792202,
          -23.952734603452345,
          -23.870215955825664,
          -23.92453550996559,
          -23.887558391594748,
          -23.86677052793469,
          -23.82286860160532,
          -23.933552109957088,
          -23.910733705054536,
          -23.93048544893304,
          -23.943881456789065,
          -23.93162341291827,
          -23.97641758347078,
          -23.992711203950254,
          -23.996569588637957,
          -24.00384297561941,
          -23.91937705152681,
          -23.95055755784859,
          -23.939166861397613,
          -23.914521873237238,
          -23.897059371777225,
          -23.937190448173457,
          -23.943100982815334,
          -23.923828555436064,
          -23.9175240055098,
          -23.912107658755378,
          -23.935777522720336,
          -23.876682947742896,
          -23.899783482406452,
          -23.906408098939,
          -23.89389658305276,
          -23.962891083924813,
          -23.96272755519052,
          -24.04935274294679,
          -24.030173251060035,
          -23.94686460691299,
          -23.936264166557873,
          -23.97634012892205,
          -23.93967271701847,
          -23.872219757481243,
          -23.806041072432595,
          -23.878665950130504,
          -23.816443476115374,
          -23.78148376433333,
          -23.861176887993437,
          -23.95967070177016,
          -23.825592362656668,
          -23.846444812127995,
          -23.875020719786388,
          -23.89343657993497,
          -23.86542757469666,
          -23.923416298571485,
          -23.902926034019156,
          -23.939466271279187,
          -23.903032280825077,
          -23.974639018545087,
          -23.976178188086312,
          -23.934617734350553,
          -23.88420452540421,
          -23.82126167380823,
          -23.904673377175143,
          -23.902510578799426,
          -23.97078381642586,
          -24.02810950244273,
          -24.002395910962335,
          -23.92201813533453,
          -23.81905885105557,
          -23.90799961089012,
          -23.915457049821065,
          -23.8257715161063,
          -23.88958530335232,
          -23.938084982460303,
          -23.928192661621345,
          -23.93101553129278,
          -23.898588066547674,
          -24.02074635037169,
          -23.940090920903362,
          -23.92299460401063,
          -23.970202580161846,
          -23.89089900846698,
          -23.94763221512227,
          -23.95011271068806,
          -23.97921678704977,
          -23.947937795703268,
          -23.97073304685321,
          -23.970950039955504,
          -24.014855567453154,
          -24.009507508156773,
          -23.944088405344164,
          -23.99040902844002,
          -23.943719171713173,
          -23.895404002035445,
          -23.923708540676436,
          -23.92961691485473,
          -23.924621945291182,
          -23.951328901590664,
          -23.940065917653488,
          -23.91267039793865,
          -23.925970828930986,
          -23.941478910472366,
          -23.94539477814936,
          -23.98744887937776,
          -23.99682294288055,
          -23.959962622466463,
          -23.960409547371743,
          -23.91597243778293,
          -23.95866710957642,
          -23.913572124207867,
          -23.927824298884904,
          -23.935830870381967,
          -23.934090921542534,
          -23.951613087224537,
          -23.98599885150644,
          -24.05494351504386,
          -23.97723116478181,
          -23.995857810898478,
          -24.00319118561409,
          -23.939181529812974,
          -23.908254908194664,
          -23.968855704804724,
          -23.982676323017934,
          -24.043303276140524,
          -23.973171540413958,
          -23.939112906586963,
          -23.950098540572274,
          -23.956611664271243,
          -23.888640774732075,
          -23.99013322662419,
          -23.986123481896907,
          -23.981189598990554,
          -24.010327180874295,
          -24.020783920710876,
          -24.016051065010103,
          -24.028854544384536
         ]
        },
        {
         "name": "MSR basis",
         "type": "scatter",
         "x": [
          0,
          1,
          2,
          3,
          4,
          5,
          6,
          7,
          8,
          9,
          10,
          11,
          12,
          13,
          14,
          15,
          16,
          17,
          18,
          19,
          20,
          21,
          22,
          23,
          24,
          25,
          26,
          27,
          28,
          29,
          30,
          31,
          32,
          33,
          34,
          35,
          36,
          37,
          38,
          39,
          40,
          41,
          42,
          43,
          44,
          45,
          46,
          47,
          48,
          49,
          50,
          51,
          52,
          53,
          54,
          55,
          56,
          57,
          58,
          59,
          60,
          61,
          62,
          63,
          64,
          65,
          66,
          67,
          68,
          69,
          70,
          71,
          72,
          73,
          74,
          75,
          76,
          77,
          78,
          79,
          80,
          81,
          82,
          83,
          84,
          85,
          86,
          87,
          88,
          89,
          90,
          91,
          92,
          93,
          94,
          95,
          96,
          97,
          98,
          99,
          100,
          101,
          102,
          103,
          104,
          105,
          106,
          107,
          108,
          109,
          110,
          111,
          112,
          113,
          114,
          115,
          116,
          117,
          118,
          119,
          120,
          121,
          122,
          123,
          124,
          125,
          126,
          127,
          128,
          129,
          130,
          131,
          132,
          133,
          134,
          135,
          136,
          137,
          138,
          139,
          140,
          141,
          142,
          143,
          144,
          145,
          146,
          147,
          148,
          149,
          150,
          151,
          152,
          153,
          154,
          155,
          156,
          157,
          158,
          159,
          160,
          161,
          162,
          163,
          164,
          165,
          166,
          167,
          168,
          169,
          170,
          171,
          172,
          173,
          174,
          175,
          176,
          177,
          178,
          179,
          180,
          181,
          182,
          183,
          184,
          185,
          186,
          187,
          188,
          189,
          190,
          191,
          192,
          193,
          194,
          195,
          196,
          197,
          198,
          199,
          200,
          201,
          202,
          203,
          204,
          205,
          206,
          207,
          208,
          209,
          210,
          211,
          212,
          213,
          214,
          215,
          216,
          217,
          218,
          219,
          220,
          221,
          222,
          223,
          224,
          225,
          226,
          227,
          228,
          229,
          230,
          231,
          232,
          233,
          234,
          235,
          236,
          237,
          238,
          239,
          240,
          241,
          242,
          243,
          244,
          245,
          246,
          247,
          248,
          249,
          250,
          251,
          252,
          253,
          254,
          255,
          256,
          257,
          258,
          259,
          260,
          261,
          262,
          263,
          264,
          265,
          266,
          267,
          268,
          269,
          270,
          271,
          272,
          273,
          274,
          275,
          276,
          277,
          278,
          279,
          280,
          281,
          282,
          283,
          284,
          285,
          286,
          287,
          288,
          289,
          290,
          291,
          292,
          293,
          294,
          295,
          296,
          297,
          298,
          299,
          300,
          301,
          302,
          303,
          304,
          305,
          306,
          307,
          308,
          309,
          310,
          311,
          312,
          313,
          314,
          315,
          316,
          317,
          318,
          319,
          320,
          321,
          322,
          323,
          324,
          325,
          326,
          327,
          328,
          329,
          330,
          331,
          332,
          333,
          334,
          335,
          336,
          337,
          338,
          339,
          340,
          341,
          342,
          343,
          344,
          345,
          346,
          347,
          348,
          349,
          350,
          351,
          352,
          353,
          354,
          355,
          356,
          357,
          358,
          359,
          360,
          361,
          362,
          363,
          364,
          365,
          366,
          367,
          368,
          369,
          370,
          371,
          372,
          373,
          374,
          375,
          376,
          377,
          378,
          379,
          380,
          381,
          382,
          383,
          384,
          385,
          386,
          387,
          388,
          389,
          390,
          391,
          392,
          393,
          394,
          395,
          396,
          397,
          398,
          399,
          400,
          401,
          402,
          403,
          404,
          405,
          406,
          407,
          408,
          409,
          410,
          411,
          412,
          413,
          414,
          415,
          416,
          417,
          418,
          419,
          420,
          421,
          422,
          423,
          424,
          425,
          426,
          427,
          428,
          429,
          430,
          431,
          432,
          433,
          434,
          435,
          436,
          437,
          438,
          439,
          440,
          441,
          442,
          443,
          444,
          445,
          446,
          447,
          448,
          449,
          450,
          451,
          452,
          453,
          454,
          455,
          456,
          457,
          458,
          459,
          460,
          461,
          462,
          463,
          464,
          465,
          466,
          467,
          468,
          469,
          470,
          471,
          472,
          473,
          474,
          475,
          476,
          477,
          478,
          479,
          480,
          481,
          482,
          483,
          484,
          485,
          486,
          487,
          488,
          489,
          490,
          491,
          492,
          493,
          494,
          495,
          496,
          497,
          498,
          499
         ],
         "y": [
          1.4922712969167806,
          1.6020429960870033,
          1.4897848569926226,
          1.2374379342146777,
          1.2458425772332098,
          1.0247416060418304,
          1.006829557419314,
          0.889832302207621,
          0.8785350128113294,
          0.6715368294348054,
          0.77938348800503,
          0.5035786694656014,
          0.4734275343966628,
          0.4072559081191539,
          0.430212483636985,
          0.21763297409158863,
          0.17999300090009357,
          0.01139927888615336,
          0.06724150062001223,
          -0.10520979790397869,
          -0.15949871222620018,
          -0.25122494108787086,
          -0.3397430137837968,
          -0.36718587226385274,
          -0.6187728297762205,
          -0.7404755107278467,
          -0.7054604356832522,
          -0.775428781984369,
          -0.8872674932806589,
          -1.0709867793026646,
          -1.0874537233747288,
          -1.23750769888577,
          -1.2728151214824566,
          -1.2959672949731476,
          -1.417533016069888,
          -1.4216997994390579,
          -1.5169802908689975,
          -1.6535425585595458,
          -1.6470689356200088,
          -1.8044505279936804,
          -1.8506576851387113,
          -2.001974851122582,
          -1.9796084699686431,
          -1.988971511775598,
          -2.1829192202872734,
          -2.116861045615173,
          -2.240855442427162,
          -2.284680769010485,
          -2.464485241851412,
          -2.4781428844973803,
          -2.469725272164622,
          -2.501400330502468,
          -2.5104895319784837,
          -2.8097830671830453,
          -2.7173228241349063,
          -2.7590924565091073,
          -2.7472349929642337,
          -3.047129515719994,
          -2.8869843612245747,
          -3.037721003306779,
          -2.8879522828587465,
          -3.138363892103936,
          -2.8878490200289146,
          -3.1308035936133947,
          -3.2168560645136752,
          -3.104207056391217,
          -3.2057175738606074,
          -3.2404732460439525,
          -3.418832286634176,
          -3.3034903875591692,
          -3.325048722696022,
          -3.2720790946768363,
          -3.3108887320855778,
          -3.416439416461032,
          -3.4307215224294763,
          -3.4838020970893453,
          -3.5975355602018833,
          -3.4756767650180405,
          -3.5853315405517985,
          -3.6591317773919605,
          -3.5657806009969213,
          -3.716446894196741,
          -3.6116935340700063,
          -3.7914277039503657,
          -3.692626915798214,
          -3.6156878501454672,
          -3.8061378131014245,
          -3.6928724425827864,
          -3.9474575085843173,
          -3.7209219276662022,
          -3.7816987726935474,
          -3.919250161882968,
          -3.7692828098955355,
          -3.795352143037291,
          -3.965763333507392,
          -3.9172443362393525,
          -4.057054068314406,
          -4.028902124139551,
          -3.9974485681149994,
          -4.035340753100714,
          -3.9342382505166946,
          -4.132625920599561,
          -4.1388428538364375,
          -3.892994054840971,
          -3.959552567032341,
          -3.95816622302717,
          -4.006828252432445,
          -4.1190540781075695,
          -4.014167142337191,
          -4.211778437637454,
          -4.118284629532641,
          -4.08416704673913,
          -4.0713666057990485,
          -4.152782813981188,
          -4.064312270289504,
          -4.187363196814274,
          -4.174385163738718,
          -4.201691994673565,
          -4.29392423198807,
          -4.27772560041936,
          -4.330410889163776,
          -4.30742744361265,
          -4.148828462452777,
          -4.44419551645545,
          -4.278687095854895,
          -4.328426298168897,
          -4.350528521974556,
          -4.213513106749398,
          -4.382071359551643,
          -4.477118368695016,
          -4.398845443307572,
          -4.17605569401102,
          -4.4900945435024235,
          -4.439608880384297,
          -4.625815633903584,
          -4.173403967357641,
          -4.442577543757176,
          -4.5452092440245435,
          -4.4454180693396665,
          -4.557693080017713,
          -4.450879710193397,
          -4.49895427186629,
          -4.384690065253351,
          -4.433406341597285,
          -4.385480311913087,
          -4.731115096145577,
          -4.734797996983839,
          -4.703126703099128,
          -4.683458081142493,
          -4.718350611067548,
          -4.687239833861852,
          -4.885011711694789,
          -4.675386717428087,
          -4.6701727184103135,
          -4.759909954064694,
          -4.870103525166639,
          -4.7493729081095815,
          -4.859458190043013,
          -4.803629671488331,
          -4.951107896742632,
          -5.044349780734992,
          -4.708979295248919,
          -4.797323969250173,
          -4.84290620957091,
          -4.86883433604824,
          -4.957943010920929,
          -5.105264281313576,
          -4.941129375090591,
          -4.967602328446749,
          -4.995964667528817,
          -5.0239478172288194,
          -5.087704203229633,
          -5.049658262179313,
          -5.142243754036757,
          -5.200071118996297,
          -4.996250741984537,
          -5.250050938244992,
          -5.4266389257696215,
          -5.215174244587863,
          -5.394158007038132,
          -5.368053991979956,
          -5.358883225433047,
          -5.368334848813209,
          -5.471782912590401,
          -5.288620804971683,
          -5.438033825208401,
          -5.340084809032916,
          -5.478089727169271,
          -5.551311701684719,
          -5.6528025484969255,
          -5.656256407905849,
          -5.69094714014422,
          -5.726396739087689,
          -5.67612575264514,
          -5.839766861745831,
          -5.843601002763281,
          -5.864868054591487,
          -5.846471470753246,
          -6.078136014061962,
          -6.020193200969363,
          -6.146898630876314,
          -6.115258044448582,
          -6.214242304767439,
          -6.2633154017426635,
          -6.344384322934958,
          -6.318498655992988,
          -6.446431317950415,
          -6.414159709170649,
          -6.603320616133102,
          -6.7714012799396155,
          -6.785980802485451,
          -6.7736407154341265,
          -6.833805099672801,
          -6.910580284252509,
          -6.7251290976698,
          -7.022149802177673,
          -7.200461300137598,
          -7.152757708895819,
          -7.429642832432838,
          -7.517887139248951,
          -7.544083214206515,
          -7.841213946969978,
          -7.3519065917292155,
          -7.599048909604105,
          -7.687182268241232,
          -7.99043020537543,
          -8.048704977711532,
          -8.285776905101306,
          -8.18213369218562,
          -8.516262338673089,
          -8.437997416887779,
          -8.49022783255556,
          -8.772901039983699,
          -8.678762850306864,
          -8.780800054989404,
          -8.806097035542194,
          -9.101742450516463,
          -9.246409808476178,
          -9.467236540008544,
          -9.129161878484892,
          -9.280338718216393,
          -9.599893641569695,
          -10.027195082034588,
          -9.796654532577366,
          -10.075691956971836,
          -9.869529686495738,
          -10.377295362071877,
          -10.491854464385263,
          -10.531604165103314,
          -10.25491247289706,
          -11.004763304274967,
          -10.726059932984711,
          -10.736171810515685,
          -10.90112361392535,
          -11.220860218764,
          -11.31961507659105,
          -11.373485572416023,
          -11.638158311025752,
          -11.761801033492599,
          -11.479043643311238,
          -11.620418748308586,
          -11.837155848790939,
          -12.136715209580718,
          -11.96292918148343,
          -12.404105010014332,
          -12.101733515258976,
          -12.527563125678556,
          -12.479441181301297,
          -12.474647808489442,
          -12.635202382690814,
          -12.582193940192047,
          -12.684511684152747,
          -12.901131016374272,
          -12.752670541550861,
          -13.160686318353829,
          -13.2244564154106,
          -13.177454661387868,
          -13.432297555607336,
          -13.467052186465368,
          -13.503541942892012,
          -13.654467968504552,
          -13.7288404218764,
          -13.727206587010237,
          -13.859049866499257,
          -14.067039225799576,
          -14.180069526545344,
          -14.224257857314022,
          -14.243031889596937,
          -14.350138698923157,
          -14.443547036179753,
          -14.596054031328269,
          -14.76045876565464,
          -14.68765276176199,
          -14.884838771299924,
          -15.265361048491688,
          -15.0620613624951,
          -15.327271778483011,
          -15.290288373423659,
          -15.523830282968888,
          -15.713180698949055,
          -15.83188723795629,
          -15.875119466928773,
          -15.975470968982172,
          -16.167616488862734,
          -16.511761036671604,
          -16.3434750659725,
          -16.730719169159595,
          -16.710539098049516,
          -17.043771963827393,
          -17.27639129049283,
          -17.35860311307147,
          -17.60871514921357,
          -17.222531352700834,
          -18.19676071256608,
          -18.16394682522198,
          -18.532776683059335,
          -18.730034465265152,
          -19.1759339802627,
          -19.15927979918484,
          -19.717336426058694,
          -19.74423854211929,
          -20.60147147707709,
          -20.555147312759978,
          -20.702408220149515,
          -21.18745677081411,
          -21.108285846600715,
          -21.321165517801152,
          -21.399696830596376,
          -21.934732963043135,
          -21.917636606187013,
          -22.446022293444944,
          -22.254972220312105,
          -22.372491472286004,
          -22.432853608147443,
          -22.859937547842737,
          -22.810317961220317,
          -23.065746318614035,
          -22.85836358469911,
          -23.302520857562385,
          -23.35137168863988,
          -23.030104092419457,
          -23.623151769727368,
          -23.226924475802374,
          -23.455838264104965,
          -23.644159359608672,
          -23.235862623412324,
          -23.397449065449358,
          -23.519569012875614,
          -23.730919983656467,
          -23.395393546444854,
          -23.6473466610947,
          -23.568390381099224,
          -23.75401169855337,
          -23.71295920455467,
          -23.681360939020017,
          -23.679711329563258,
          -23.694109298131607,
          -23.779005337594338,
          -23.788778482903123,
          -23.743720372448788,
          -23.727803215214575,
          -23.770973230321452,
          -23.823817544146976,
          -23.80580499302747,
          -23.799491287483708,
          -23.793475028615667,
          -23.795170359947523,
          -23.715453303392316,
          -23.81059592590726,
          -23.777446108406878,
          -23.79137752703783,
          -23.809637125461723,
          -23.886607691130262,
          -23.807435129955774,
          -23.921382611050664,
          -23.809691068021877,
          -23.879312849396758,
          -23.84669378425796,
          -23.933552491296204,
          -23.9570015789844,
          -23.85605828399602,
          -23.83824412092901,
          -23.853548350179718,
          -23.90800706905889,
          -23.85744342368706,
          -23.816610055070402,
          -23.87724503225313,
          -23.870681939385573,
          -23.787145939969644,
          -23.87608794499771,
          -23.87184348805274,
          -23.843372618029477,
          -23.869374922087157,
          -23.854857594197018,
          -23.93135773241321,
          -23.804575961158413,
          -23.836893528922644,
          -23.931072662592605,
          -23.89585944112605,
          -23.875658597664795,
          -23.854754982105067,
          -23.878894325361486,
          -23.89921552468236,
          -23.926050415254213,
          -23.82068236259591,
          -23.957916907333892,
          -23.8481098371733,
          -23.839276572388084,
          -23.932328907124255,
          -23.89174305689354,
          -23.955639405408633,
          -23.844804163024207,
          -23.852363044104155,
          -23.84180273315414,
          -23.93637327786784,
          -23.872615200788097,
          -23.824621792302484,
          -23.898917955062725,
          -23.9335500191199,
          -23.981668705662354,
          -23.948538091404853,
          -23.93719731644623,
          -23.933911985555678,
          -23.87223787179204,
          -23.92676292457845,
          -23.89715743377773,
          -23.792564675806673,
          -23.913725678508875,
          -23.78450946458207,
          -23.83949698764625,
          -23.896395248095843,
          -24.030195829466003,
          -24.009499961895944,
          -23.883456379112165,
          -23.921143617763878,
          -23.924535751638857,
          -23.982191159175105,
          -23.989093626737585,
          -23.886626644584716,
          -23.854496207500866,
          -23.91438294800412,
          -23.907821104441794,
          -23.9376997876297,
          -23.936280470484,
          -23.91534864650821,
          -23.963450461545982,
          -23.89090034072278,
          -23.852902299312035,
          -23.853529228255116,
          -23.795203458015685,
          -23.90132287659249,
          -23.798448138643973,
          -23.92233725740478,
          -24.009646195285065,
          -23.969298763267155,
          -24.07479998407972,
          -24.092233043349925,
          -23.936713336892172,
          -23.88451609654456,
          -23.909256989970636,
          -23.91592451209465,
          -23.81748651284139,
          -23.88991840618771,
          -23.944870693344605,
          -24.001337395258442,
          -23.911666486704906,
          -23.90355847784221,
          -23.909012393353066,
          -23.93658414734667,
          -23.88957486353358,
          -23.98170137179983,
          -23.92989549372982,
          -23.907273821900784,
          -23.9883969755396,
          -23.92959028292856,
          -23.932931255232727,
          -23.886174833281853,
          -23.910658063038177,
          -23.93560253582513,
          -23.914011485613077,
          -23.883717480911457,
          -23.86732337181812,
          -23.85189075733221,
          -23.87189782370218,
          -23.907661397407107,
          -23.92912098519676,
          -23.96294594458607,
          -23.92119364604246,
          -23.9345212063203,
          -23.8760775816169,
          -23.956328847163714,
          -23.92402255592931,
          -23.930956499462113,
          -23.901755149873875,
          -23.881799205848605,
          -23.884363649559642,
          -23.87339113283373,
          -23.913916420133972,
          -23.98354551684654,
          -23.91965981703219
         ]
        }
       ],
       "layout": {
        "template": {
         "data": {
          "bar": [
           {
            "error_x": {
             "color": "rgb(36,36,36)"
            },
            "error_y": {
             "color": "rgb(36,36,36)"
            },
            "marker": {
             "line": {
              "color": "white",
              "width": 0.5
             },
             "pattern": {
              "fillmode": "overlay",
              "size": 10,
              "solidity": 0.2
             }
            },
            "type": "bar"
           }
          ],
          "barpolar": [
           {
            "marker": {
             "line": {
              "color": "white",
              "width": 0.5
             },
             "pattern": {
              "fillmode": "overlay",
              "size": 10,
              "solidity": 0.2
             }
            },
            "type": "barpolar"
           }
          ],
          "carpet": [
           {
            "aaxis": {
             "endlinecolor": "rgb(36,36,36)",
             "gridcolor": "white",
             "linecolor": "white",
             "minorgridcolor": "white",
             "startlinecolor": "rgb(36,36,36)"
            },
            "baxis": {
             "endlinecolor": "rgb(36,36,36)",
             "gridcolor": "white",
             "linecolor": "white",
             "minorgridcolor": "white",
             "startlinecolor": "rgb(36,36,36)"
            },
            "type": "carpet"
           }
          ],
          "choropleth": [
           {
            "colorbar": {
             "outlinewidth": 1,
             "tickcolor": "rgb(36,36,36)",
             "ticks": "outside"
            },
            "type": "choropleth"
           }
          ],
          "contour": [
           {
            "colorbar": {
             "outlinewidth": 1,
             "tickcolor": "rgb(36,36,36)",
             "ticks": "outside"
            },
            "colorscale": [
             [
              0,
              "#440154"
             ],
             [
              0.1111111111111111,
              "#482878"
             ],
             [
              0.2222222222222222,
              "#3e4989"
             ],
             [
              0.3333333333333333,
              "#31688e"
             ],
             [
              0.4444444444444444,
              "#26828e"
             ],
             [
              0.5555555555555556,
              "#1f9e89"
             ],
             [
              0.6666666666666666,
              "#35b779"
             ],
             [
              0.7777777777777778,
              "#6ece58"
             ],
             [
              0.8888888888888888,
              "#b5de2b"
             ],
             [
              1,
              "#fde725"
             ]
            ],
            "type": "contour"
           }
          ],
          "contourcarpet": [
           {
            "colorbar": {
             "outlinewidth": 1,
             "tickcolor": "rgb(36,36,36)",
             "ticks": "outside"
            },
            "type": "contourcarpet"
           }
          ],
          "heatmap": [
           {
            "colorbar": {
             "outlinewidth": 1,
             "tickcolor": "rgb(36,36,36)",
             "ticks": "outside"
            },
            "colorscale": [
             [
              0,
              "#440154"
             ],
             [
              0.1111111111111111,
              "#482878"
             ],
             [
              0.2222222222222222,
              "#3e4989"
             ],
             [
              0.3333333333333333,
              "#31688e"
             ],
             [
              0.4444444444444444,
              "#26828e"
             ],
             [
              0.5555555555555556,
              "#1f9e89"
             ],
             [
              0.6666666666666666,
              "#35b779"
             ],
             [
              0.7777777777777778,
              "#6ece58"
             ],
             [
              0.8888888888888888,
              "#b5de2b"
             ],
             [
              1,
              "#fde725"
             ]
            ],
            "type": "heatmap"
           }
          ],
          "heatmapgl": [
           {
            "colorbar": {
             "outlinewidth": 1,
             "tickcolor": "rgb(36,36,36)",
             "ticks": "outside"
            },
            "colorscale": [
             [
              0,
              "#440154"
             ],
             [
              0.1111111111111111,
              "#482878"
             ],
             [
              0.2222222222222222,
              "#3e4989"
             ],
             [
              0.3333333333333333,
              "#31688e"
             ],
             [
              0.4444444444444444,
              "#26828e"
             ],
             [
              0.5555555555555556,
              "#1f9e89"
             ],
             [
              0.6666666666666666,
              "#35b779"
             ],
             [
              0.7777777777777778,
              "#6ece58"
             ],
             [
              0.8888888888888888,
              "#b5de2b"
             ],
             [
              1,
              "#fde725"
             ]
            ],
            "type": "heatmapgl"
           }
          ],
          "histogram": [
           {
            "marker": {
             "line": {
              "color": "white",
              "width": 0.6
             }
            },
            "type": "histogram"
           }
          ],
          "histogram2d": [
           {
            "colorbar": {
             "outlinewidth": 1,
             "tickcolor": "rgb(36,36,36)",
             "ticks": "outside"
            },
            "colorscale": [
             [
              0,
              "#440154"
             ],
             [
              0.1111111111111111,
              "#482878"
             ],
             [
              0.2222222222222222,
              "#3e4989"
             ],
             [
              0.3333333333333333,
              "#31688e"
             ],
             [
              0.4444444444444444,
              "#26828e"
             ],
             [
              0.5555555555555556,
              "#1f9e89"
             ],
             [
              0.6666666666666666,
              "#35b779"
             ],
             [
              0.7777777777777778,
              "#6ece58"
             ],
             [
              0.8888888888888888,
              "#b5de2b"
             ],
             [
              1,
              "#fde725"
             ]
            ],
            "type": "histogram2d"
           }
          ],
          "histogram2dcontour": [
           {
            "colorbar": {
             "outlinewidth": 1,
             "tickcolor": "rgb(36,36,36)",
             "ticks": "outside"
            },
            "colorscale": [
             [
              0,
              "#440154"
             ],
             [
              0.1111111111111111,
              "#482878"
             ],
             [
              0.2222222222222222,
              "#3e4989"
             ],
             [
              0.3333333333333333,
              "#31688e"
             ],
             [
              0.4444444444444444,
              "#26828e"
             ],
             [
              0.5555555555555556,
              "#1f9e89"
             ],
             [
              0.6666666666666666,
              "#35b779"
             ],
             [
              0.7777777777777778,
              "#6ece58"
             ],
             [
              0.8888888888888888,
              "#b5de2b"
             ],
             [
              1,
              "#fde725"
             ]
            ],
            "type": "histogram2dcontour"
           }
          ],
          "mesh3d": [
           {
            "colorbar": {
             "outlinewidth": 1,
             "tickcolor": "rgb(36,36,36)",
             "ticks": "outside"
            },
            "type": "mesh3d"
           }
          ],
          "parcoords": [
           {
            "line": {
             "colorbar": {
              "outlinewidth": 1,
              "tickcolor": "rgb(36,36,36)",
              "ticks": "outside"
             }
            },
            "type": "parcoords"
           }
          ],
          "pie": [
           {
            "automargin": true,
            "type": "pie"
           }
          ],
          "scatter": [
           {
            "marker": {
             "colorbar": {
              "outlinewidth": 1,
              "tickcolor": "rgb(36,36,36)",
              "ticks": "outside"
             }
            },
            "type": "scatter"
           }
          ],
          "scatter3d": [
           {
            "line": {
             "colorbar": {
              "outlinewidth": 1,
              "tickcolor": "rgb(36,36,36)",
              "ticks": "outside"
             }
            },
            "marker": {
             "colorbar": {
              "outlinewidth": 1,
              "tickcolor": "rgb(36,36,36)",
              "ticks": "outside"
             }
            },
            "type": "scatter3d"
           }
          ],
          "scattercarpet": [
           {
            "marker": {
             "colorbar": {
              "outlinewidth": 1,
              "tickcolor": "rgb(36,36,36)",
              "ticks": "outside"
             }
            },
            "type": "scattercarpet"
           }
          ],
          "scattergeo": [
           {
            "marker": {
             "colorbar": {
              "outlinewidth": 1,
              "tickcolor": "rgb(36,36,36)",
              "ticks": "outside"
             }
            },
            "type": "scattergeo"
           }
          ],
          "scattergl": [
           {
            "marker": {
             "colorbar": {
              "outlinewidth": 1,
              "tickcolor": "rgb(36,36,36)",
              "ticks": "outside"
             }
            },
            "type": "scattergl"
           }
          ],
          "scattermapbox": [
           {
            "marker": {
             "colorbar": {
              "outlinewidth": 1,
              "tickcolor": "rgb(36,36,36)",
              "ticks": "outside"
             }
            },
            "type": "scattermapbox"
           }
          ],
          "scatterpolar": [
           {
            "marker": {
             "colorbar": {
              "outlinewidth": 1,
              "tickcolor": "rgb(36,36,36)",
              "ticks": "outside"
             }
            },
            "type": "scatterpolar"
           }
          ],
          "scatterpolargl": [
           {
            "marker": {
             "colorbar": {
              "outlinewidth": 1,
              "tickcolor": "rgb(36,36,36)",
              "ticks": "outside"
             }
            },
            "type": "scatterpolargl"
           }
          ],
          "scatterternary": [
           {
            "marker": {
             "colorbar": {
              "outlinewidth": 1,
              "tickcolor": "rgb(36,36,36)",
              "ticks": "outside"
             }
            },
            "type": "scatterternary"
           }
          ],
          "surface": [
           {
            "colorbar": {
             "outlinewidth": 1,
             "tickcolor": "rgb(36,36,36)",
             "ticks": "outside"
            },
            "colorscale": [
             [
              0,
              "#440154"
             ],
             [
              0.1111111111111111,
              "#482878"
             ],
             [
              0.2222222222222222,
              "#3e4989"
             ],
             [
              0.3333333333333333,
              "#31688e"
             ],
             [
              0.4444444444444444,
              "#26828e"
             ],
             [
              0.5555555555555556,
              "#1f9e89"
             ],
             [
              0.6666666666666666,
              "#35b779"
             ],
             [
              0.7777777777777778,
              "#6ece58"
             ],
             [
              0.8888888888888888,
              "#b5de2b"
             ],
             [
              1,
              "#fde725"
             ]
            ],
            "type": "surface"
           }
          ],
          "table": [
           {
            "cells": {
             "fill": {
              "color": "rgb(237,237,237)"
             },
             "line": {
              "color": "white"
             }
            },
            "header": {
             "fill": {
              "color": "rgb(217,217,217)"
             },
             "line": {
              "color": "white"
             }
            },
            "type": "table"
           }
          ]
         },
         "layout": {
          "annotationdefaults": {
           "arrowhead": 0,
           "arrowwidth": 1
          },
          "autotypenumbers": "strict",
          "coloraxis": {
           "colorbar": {
            "outlinewidth": 1,
            "tickcolor": "rgb(36,36,36)",
            "ticks": "outside"
           }
          },
          "colorscale": {
           "diverging": [
            [
             0,
             "rgb(103,0,31)"
            ],
            [
             0.1,
             "rgb(178,24,43)"
            ],
            [
             0.2,
             "rgb(214,96,77)"
            ],
            [
             0.3,
             "rgb(244,165,130)"
            ],
            [
             0.4,
             "rgb(253,219,199)"
            ],
            [
             0.5,
             "rgb(247,247,247)"
            ],
            [
             0.6,
             "rgb(209,229,240)"
            ],
            [
             0.7,
             "rgb(146,197,222)"
            ],
            [
             0.8,
             "rgb(67,147,195)"
            ],
            [
             0.9,
             "rgb(33,102,172)"
            ],
            [
             1,
             "rgb(5,48,97)"
            ]
           ],
           "sequential": [
            [
             0,
             "#440154"
            ],
            [
             0.1111111111111111,
             "#482878"
            ],
            [
             0.2222222222222222,
             "#3e4989"
            ],
            [
             0.3333333333333333,
             "#31688e"
            ],
            [
             0.4444444444444444,
             "#26828e"
            ],
            [
             0.5555555555555556,
             "#1f9e89"
            ],
            [
             0.6666666666666666,
             "#35b779"
            ],
            [
             0.7777777777777778,
             "#6ece58"
            ],
            [
             0.8888888888888888,
             "#b5de2b"
            ],
            [
             1,
             "#fde725"
            ]
           ],
           "sequentialminus": [
            [
             0,
             "#440154"
            ],
            [
             0.1111111111111111,
             "#482878"
            ],
            [
             0.2222222222222222,
             "#3e4989"
            ],
            [
             0.3333333333333333,
             "#31688e"
            ],
            [
             0.4444444444444444,
             "#26828e"
            ],
            [
             0.5555555555555556,
             "#1f9e89"
            ],
            [
             0.6666666666666666,
             "#35b779"
            ],
            [
             0.7777777777777778,
             "#6ece58"
            ],
            [
             0.8888888888888888,
             "#b5de2b"
            ],
            [
             1,
             "#fde725"
            ]
           ]
          },
          "colorway": [
           "#1F77B4",
           "#FF7F0E",
           "#2CA02C",
           "#D62728",
           "#9467BD",
           "#8C564B",
           "#E377C2",
           "#7F7F7F",
           "#BCBD22",
           "#17BECF"
          ],
          "font": {
           "color": "rgb(36,36,36)"
          },
          "geo": {
           "bgcolor": "white",
           "lakecolor": "white",
           "landcolor": "white",
           "showlakes": true,
           "showland": true,
           "subunitcolor": "white"
          },
          "hoverlabel": {
           "align": "left"
          },
          "hovermode": "closest",
          "mapbox": {
           "style": "light"
          },
          "paper_bgcolor": "white",
          "plot_bgcolor": "white",
          "polar": {
           "angularaxis": {
            "gridcolor": "rgb(232,232,232)",
            "linecolor": "rgb(36,36,36)",
            "showgrid": false,
            "showline": true,
            "ticks": "outside"
           },
           "bgcolor": "white",
           "radialaxis": {
            "gridcolor": "rgb(232,232,232)",
            "linecolor": "rgb(36,36,36)",
            "showgrid": false,
            "showline": true,
            "ticks": "outside"
           }
          },
          "scene": {
           "xaxis": {
            "backgroundcolor": "white",
            "gridcolor": "rgb(232,232,232)",
            "gridwidth": 2,
            "linecolor": "rgb(36,36,36)",
            "showbackground": true,
            "showgrid": false,
            "showline": true,
            "ticks": "outside",
            "zeroline": false,
            "zerolinecolor": "rgb(36,36,36)"
           },
           "yaxis": {
            "backgroundcolor": "white",
            "gridcolor": "rgb(232,232,232)",
            "gridwidth": 2,
            "linecolor": "rgb(36,36,36)",
            "showbackground": true,
            "showgrid": false,
            "showline": true,
            "ticks": "outside",
            "zeroline": false,
            "zerolinecolor": "rgb(36,36,36)"
           },
           "zaxis": {
            "backgroundcolor": "white",
            "gridcolor": "rgb(232,232,232)",
            "gridwidth": 2,
            "linecolor": "rgb(36,36,36)",
            "showbackground": true,
            "showgrid": false,
            "showline": true,
            "ticks": "outside",
            "zeroline": false,
            "zerolinecolor": "rgb(36,36,36)"
           }
          },
          "shapedefaults": {
           "fillcolor": "black",
           "line": {
            "width": 0
           },
           "opacity": 0.3
          },
          "ternary": {
           "aaxis": {
            "gridcolor": "rgb(232,232,232)",
            "linecolor": "rgb(36,36,36)",
            "showgrid": false,
            "showline": true,
            "ticks": "outside"
           },
           "baxis": {
            "gridcolor": "rgb(232,232,232)",
            "linecolor": "rgb(36,36,36)",
            "showgrid": false,
            "showline": true,
            "ticks": "outside"
           },
           "bgcolor": "white",
           "caxis": {
            "gridcolor": "rgb(232,232,232)",
            "linecolor": "rgb(36,36,36)",
            "showgrid": false,
            "showline": true,
            "ticks": "outside"
           }
          },
          "title": {
           "x": 0.05
          },
          "xaxis": {
           "automargin": true,
           "gridcolor": "rgb(232,232,232)",
           "linecolor": "rgb(36,36,36)",
           "showgrid": false,
           "showline": true,
           "ticks": "outside",
           "title": {
            "standoff": 15
           },
           "zeroline": false,
           "zerolinecolor": "rgb(36,36,36)"
          },
          "yaxis": {
           "automargin": true,
           "gridcolor": "rgb(232,232,232)",
           "linecolor": "rgb(36,36,36)",
           "showgrid": false,
           "showline": true,
           "ticks": "outside",
           "title": {
            "standoff": 15
           },
           "zeroline": false,
           "zerolinecolor": "rgb(36,36,36)"
          }
         }
        },
        "title": {
         "text": "<b>S-S model </b>, L=16, J2 =1 , η=0.01, α=16, samples=1200"
        },
        "xaxis": {
         "mirror": true,
         "showline": true,
         "title": {
          "text": "Iteration"
         }
        },
        "yaxis": {
         "mirror": true,
         "showline": true,
         "title": {
          "text": "Energy"
         }
        }
       }
      },
      "text/html": [
       "<div>                            <div id=\"d8acc1bb-aba4-4065-b4d5-84eaca8f0675\" class=\"plotly-graph-div\" style=\"height:525px; width:100%;\"></div>            <script type=\"text/javascript\">                require([\"plotly\"], function(Plotly) {                    window.PLOTLYENV=window.PLOTLYENV || {};                                    if (document.getElementById(\"d8acc1bb-aba4-4065-b4d5-84eaca8f0675\")) {                    Plotly.newPlot(                        \"d8acc1bb-aba4-4065-b4d5-84eaca8f0675\",                        [{\"line\":{\"color\":\"#000000\",\"width\":1},\"mode\":\"lines\",\"name\":\"exact energy\",\"type\":\"scatter\",\"x\":[0,500],\"y\":[-24.000000000000014,-24.000000000000014]},{\"name\":\"normal basis\",\"type\":\"scatter\",\"x\":[0,1,2,3,4,5,6,7,8,9,10,11,12,13,14,15,16,17,18,19,20,21,22,23,24,25,26,27,28,29,30,31,32,33,34,35,36,37,38,39,40,41,42,43,44,45,46,47,48,49,50,51,52,53,54,55,56,57,58,59,60,61,62,63,64,65,66,67,68,69,70,71,72,73,74,75,76,77,78,79,80,81,82,83,84,85,86,87,88,89,90,91,92,93,94,95,96,97,98,99,100,101,102,103,104,105,106,107,108,109,110,111,112,113,114,115,116,117,118,119,120,121,122,123,124,125,126,127,128,129,130,131,132,133,134,135,136,137,138,139,140,141,142,143,144,145,146,147,148,149,150,151,152,153,154,155,156,157,158,159,160,161,162,163,164,165,166,167,168,169,170,171,172,173,174,175,176,177,178,179,180,181,182,183,184,185,186,187,188,189,190,191,192,193,194,195,196,197,198,199,200,201,202,203,204,205,206,207,208,209,210,211,212,213,214,215,216,217,218,219,220,221,222,223,224,225,226,227,228,229,230,231,232,233,234,235,236,237,238,239,240,241,242,243,244,245,246,247,248,249,250,251,252,253,254,255,256,257,258,259,260,261,262,263,264,265,266,267,268,269,270,271,272,273,274,275,276,277,278,279,280,281,282,283,284,285,286,287,288,289,290,291,292,293,294,295,296,297,298,299,300,301,302,303,304,305,306,307,308,309,310,311,312,313,314,315,316,317,318,319,320,321,322,323,324,325,326,327,328,329,330,331,332,333,334,335,336,337,338,339,340,341,342,343,344,345,346,347,348,349,350,351,352,353,354,355,356,357,358,359,360,361,362,363,364,365,366,367,368,369,370,371,372,373,374,375,376,377,378,379,380,381,382,383,384,385,386,387,388,389,390,391,392,393,394,395,396,397,398,399,400,401,402,403,404,405,406,407,408,409,410,411,412,413,414,415,416,417,418,419,420,421,422,423,424,425,426,427,428,429,430,431,432,433,434,435,436,437,438,439,440,441,442,443,444,445,446,447,448,449,450,451,452,453,454,455,456,457,458,459,460,461,462,463,464,465,466,467,468,469,470,471,472,473,474,475,476,477,478,479,480,481,482,483,484,485,486,487,488,489,490,491,492,493,494,495,496,497,498,499],\"y\":[14.3973783047214,14.398921405671167,14.39901330963549,14.394296667517496,14.397476810163269,14.398166440393865,14.396458667401655,14.392987597911855,14.390176828973825,14.39199360492079,14.387506986143809,14.386815336488379,14.385475556039468,14.388266562959423,14.387581388408048,14.382080801699768,14.370205985762587,14.36686051639483,14.365338238669253,14.349177605440328,14.350392732758358,14.348042902956399,14.34887523503771,14.324254483016837,14.317633904837177,14.271020851571684,14.26884855833823,14.217260747119909,14.207497060031793,14.148178912192423,14.107594040079194,14.06671447295119,13.963114825177783,13.852309310797619,13.785198455672157,13.714923656131779,13.562971740472262,13.431944922363432,13.198185016536431,12.899596679145501,12.701271313846991,12.402295439895987,12.014231182616058,11.512427621766381,10.974262305591365,10.276010156091205,9.620177297028265,9.049186241909444,7.993898399982685,7.134144731674976,6.313975968495612,5.297713836770151,4.635724751991505,3.3718498288688044,2.2436060265893927,1.3634704000356364,0.3912085978898461,-0.2806081956124802,-0.9327517442031371,-1.5975863466269766,-2.994769826817358,-3.366763651060919,-3.8204613154572167,-4.287764646255646,-4.769580887655957,-5.180474013337022,-6.212217462219037,-6.425670393112801,-6.615104837446579,-6.912405450959574,-7.289566810149095,-7.326177685913314,-7.9136450099709545,-8.127562623456607,-8.837056729144805,-9.099662794623764,-9.456935957173076,-9.73479983838366,-9.804010566818143,-10.475861712852073,-10.400542846235368,-10.548219430818861,-11.014536993594295,-11.543828740860219,-11.487994720990308,-11.66902685597637,-12.22029411742858,-12.11673597187112,-12.612314618192396,-12.811157926327166,-12.951541129273917,-13.286811586086506,-13.3932599243875,-13.76227691786999,-13.862063293883894,-14.215979118479433,-14.067167417805571,-14.765756168254525,-14.736785718380059,-15.135635392443177,-15.051387218584203,-15.516195737504466,-15.306988812070584,-15.90356781478151,-16.16661397433895,-16.44189872969088,-16.979367213492257,-17.016106397397945,-17.012415939052964,-16.96291531818947,-16.91913526665,-17.288717915286487,-17.63602406505886,-17.337539298746353,-18.008681566112884,-17.401522948382336,-17.73760336460419,-17.908761666782162,-17.890543407517153,-17.954805773264994,-18.3946646956646,-18.336157976677356,-18.47664815642716,-18.319499349269023,-18.458976956682836,-18.310321459555965,-18.55915758177006,-18.909929877689212,-19.21822665174752,-18.943071673633,-18.99427864417177,-19.421792019930987,-18.891789459145894,-18.98902835677003,-19.16300977231645,-19.107959385425033,-18.9772767153348,-19.47191800077758,-19.355036804844364,-19.541187411135805,-19.69302390787803,-19.610868432924594,-19.335527602971226,-19.378903995351738,-19.541649608551033,-19.724509257765455,-19.587080434484786,-19.72734310384467,-19.45187875359004,-20.00059131648924,-19.510659026863255,-19.635741283636445,-19.78753858818279,-19.757925694862188,-19.90572978586817,-19.785999286886994,-20.07223884870011,-20.265263032877453,-20.147111349852363,-20.065703684414693,-20.334231000710535,-20.198802001495487,-20.378604197876612,-20.026499957096956,-20.31510469153215,-20.82894045252364,-20.26441491858023,-20.74957480216122,-20.456100559188915,-21.174122319864853,-21.197808871202337,-20.871179405201744,-21.569098226846638,-21.02344470822102,-21.490350357908845,-20.974601748405203,-20.80800678491428,-21.1678489537605,-21.69469095698286,-21.661239491648097,-21.131035645967334,-22.73129258329169,-21.1737168810009,-21.54962348562119,-22.608622332502158,-22.055706777043785,-22.224126843652446,-22.118433039113874,-22.164749334767745,-22.10632983014733,-22.06587060057326,-22.65154729745409,-22.684624026654877,-23.42360608845867,-23.982876520286865,-23.280089847734025,-23.01535957945654,-22.8783103636198,-23.316559504761724,-23.59539826839718,-23.68735155199472,-23.12089393457863,-23.69874947240565,-24.06489566549846,-23.327408124144895,-23.512677974895336,-23.135590860152924,-23.53740030092404,-23.52256068436657,-23.402195113432978,-23.305510206001557,-23.65707984903046,-23.828039896036238,-24.203331130806166,-23.75395814268777,-23.900494366665374,-24.05978275211423,-23.869513081038473,-23.750588215013394,-23.960168716426967,-23.85649695801145,-23.814089711900305,-23.89873602505556,-23.7710844737432,-23.785928159235496,-23.87678759219774,-23.816670213274904,-23.760009727721762,-23.773727945794295,-23.600001141184926,-23.92111347387914,-23.676531413737845,-23.977305701323424,-23.955446780503276,-23.964101297887357,-23.747363260927173,-23.802545180045936,-23.85754713290287,-23.876983452464753,-23.82055693304656,-23.927060578781948,-23.871185189167196,-23.943865190337846,-23.901306604725836,-23.952176618446746,-23.95172336764307,-24.01987592780014,-23.89507604031802,-23.962473568190592,-23.90222036664486,-23.89080740838881,-23.902325111432777,-23.909998939605135,-23.913922224902656,-23.84985832922997,-23.89902229499299,-23.91890485131146,-23.784445164770023,-23.796063736157674,-23.790291921166453,-23.94877674395446,-23.967894407176296,-23.877628265983503,-23.854211980224715,-23.827261915869098,-23.82673064680401,-23.781946659815713,-23.87731007143352,-23.99257618496519,-23.996973245085794,-23.96242322893711,-23.998482212134004,-23.985499628057134,-24.107555745926035,-24.084854564428376,-23.953234069354448,-23.891597972354493,-23.99003247622281,-23.91576837301509,-23.85852343143553,-23.90280378827627,-23.943388863938583,-23.934217637328146,-23.909174312255637,-23.932512111901442,-23.82662777336224,-23.849108579381213,-23.821439228888927,-23.851326928250135,-23.901010715387184,-23.843783926239396,-23.789856369074975,-23.886057831021805,-23.936091571189934,-24.00996639907856,-24.18436725619303,-24.038450083358033,-23.835667226874854,-23.788794686993928,-23.849177603298134,-23.885293058017353,-23.882106316026682,-23.876975431003842,-23.834460658125536,-23.870944843965194,-23.84619814298345,-23.849468130474616,-23.81947513384118,-23.938279649737257,-23.917425677660002,-23.93042037207759,-23.93875009305467,-23.958716159957508,-23.932974521315785,-23.968618487638064,-23.941692849578274,-23.946718376978502,-23.945649966608617,-23.944254015830243,-23.906363326221353,-23.85716674554145,-23.8643501164409,-24.01875156962567,-24.011598297367673,-23.926844820160174,-23.94556527810502,-23.98303570015714,-23.970326692648715,-23.925458932790594,-23.935233510318003,-23.903235569110635,-23.913908135045272,-23.89387737619927,-23.888916845367596,-23.870763266955173,-23.89250204892538,-23.88730905787354,-23.91477833459774,-23.906160410555838,-23.76992342881475,-23.812419877202945,-23.866014132576197,-24.00671566570691,-24.024567773560193,-23.96469142923336,-23.977968008534308,-23.91629754812123,-23.913633834755636,-23.92730918724164,-23.979777995964493,-23.958070146463495,-23.912936464250915,-23.906367957340162,-23.924510847737114,-23.9235934374763,-23.925405596558033,-23.95499288913262,-23.907828160246122,-23.884695041165433,-23.87722710558838,-23.867522454883286,-23.8769062339004,-23.933053933472948,-24.06507214123546,-23.96259703866054,-23.907384812381345,-23.97020704792202,-23.952734603452345,-23.870215955825664,-23.92453550996559,-23.887558391594748,-23.86677052793469,-23.82286860160532,-23.933552109957088,-23.910733705054536,-23.93048544893304,-23.943881456789065,-23.93162341291827,-23.97641758347078,-23.992711203950254,-23.996569588637957,-24.00384297561941,-23.91937705152681,-23.95055755784859,-23.939166861397613,-23.914521873237238,-23.897059371777225,-23.937190448173457,-23.943100982815334,-23.923828555436064,-23.9175240055098,-23.912107658755378,-23.935777522720336,-23.876682947742896,-23.899783482406452,-23.906408098939,-23.89389658305276,-23.962891083924813,-23.96272755519052,-24.04935274294679,-24.030173251060035,-23.94686460691299,-23.936264166557873,-23.97634012892205,-23.93967271701847,-23.872219757481243,-23.806041072432595,-23.878665950130504,-23.816443476115374,-23.78148376433333,-23.861176887993437,-23.95967070177016,-23.825592362656668,-23.846444812127995,-23.875020719786388,-23.89343657993497,-23.86542757469666,-23.923416298571485,-23.902926034019156,-23.939466271279187,-23.903032280825077,-23.974639018545087,-23.976178188086312,-23.934617734350553,-23.88420452540421,-23.82126167380823,-23.904673377175143,-23.902510578799426,-23.97078381642586,-24.02810950244273,-24.002395910962335,-23.92201813533453,-23.81905885105557,-23.90799961089012,-23.915457049821065,-23.8257715161063,-23.88958530335232,-23.938084982460303,-23.928192661621345,-23.93101553129278,-23.898588066547674,-24.02074635037169,-23.940090920903362,-23.92299460401063,-23.970202580161846,-23.89089900846698,-23.94763221512227,-23.95011271068806,-23.97921678704977,-23.947937795703268,-23.97073304685321,-23.970950039955504,-24.014855567453154,-24.009507508156773,-23.944088405344164,-23.99040902844002,-23.943719171713173,-23.895404002035445,-23.923708540676436,-23.92961691485473,-23.924621945291182,-23.951328901590664,-23.940065917653488,-23.91267039793865,-23.925970828930986,-23.941478910472366,-23.94539477814936,-23.98744887937776,-23.99682294288055,-23.959962622466463,-23.960409547371743,-23.91597243778293,-23.95866710957642,-23.913572124207867,-23.927824298884904,-23.935830870381967,-23.934090921542534,-23.951613087224537,-23.98599885150644,-24.05494351504386,-23.97723116478181,-23.995857810898478,-24.00319118561409,-23.939181529812974,-23.908254908194664,-23.968855704804724,-23.982676323017934,-24.043303276140524,-23.973171540413958,-23.939112906586963,-23.950098540572274,-23.956611664271243,-23.888640774732075,-23.99013322662419,-23.986123481896907,-23.981189598990554,-24.010327180874295,-24.020783920710876,-24.016051065010103,-24.028854544384536]},{\"name\":\"MSR basis\",\"type\":\"scatter\",\"x\":[0,1,2,3,4,5,6,7,8,9,10,11,12,13,14,15,16,17,18,19,20,21,22,23,24,25,26,27,28,29,30,31,32,33,34,35,36,37,38,39,40,41,42,43,44,45,46,47,48,49,50,51,52,53,54,55,56,57,58,59,60,61,62,63,64,65,66,67,68,69,70,71,72,73,74,75,76,77,78,79,80,81,82,83,84,85,86,87,88,89,90,91,92,93,94,95,96,97,98,99,100,101,102,103,104,105,106,107,108,109,110,111,112,113,114,115,116,117,118,119,120,121,122,123,124,125,126,127,128,129,130,131,132,133,134,135,136,137,138,139,140,141,142,143,144,145,146,147,148,149,150,151,152,153,154,155,156,157,158,159,160,161,162,163,164,165,166,167,168,169,170,171,172,173,174,175,176,177,178,179,180,181,182,183,184,185,186,187,188,189,190,191,192,193,194,195,196,197,198,199,200,201,202,203,204,205,206,207,208,209,210,211,212,213,214,215,216,217,218,219,220,221,222,223,224,225,226,227,228,229,230,231,232,233,234,235,236,237,238,239,240,241,242,243,244,245,246,247,248,249,250,251,252,253,254,255,256,257,258,259,260,261,262,263,264,265,266,267,268,269,270,271,272,273,274,275,276,277,278,279,280,281,282,283,284,285,286,287,288,289,290,291,292,293,294,295,296,297,298,299,300,301,302,303,304,305,306,307,308,309,310,311,312,313,314,315,316,317,318,319,320,321,322,323,324,325,326,327,328,329,330,331,332,333,334,335,336,337,338,339,340,341,342,343,344,345,346,347,348,349,350,351,352,353,354,355,356,357,358,359,360,361,362,363,364,365,366,367,368,369,370,371,372,373,374,375,376,377,378,379,380,381,382,383,384,385,386,387,388,389,390,391,392,393,394,395,396,397,398,399,400,401,402,403,404,405,406,407,408,409,410,411,412,413,414,415,416,417,418,419,420,421,422,423,424,425,426,427,428,429,430,431,432,433,434,435,436,437,438,439,440,441,442,443,444,445,446,447,448,449,450,451,452,453,454,455,456,457,458,459,460,461,462,463,464,465,466,467,468,469,470,471,472,473,474,475,476,477,478,479,480,481,482,483,484,485,486,487,488,489,490,491,492,493,494,495,496,497,498,499],\"y\":[1.4922712969167806,1.6020429960870033,1.4897848569926226,1.2374379342146777,1.2458425772332098,1.0247416060418304,1.006829557419314,0.889832302207621,0.8785350128113294,0.6715368294348054,0.77938348800503,0.5035786694656014,0.4734275343966628,0.4072559081191539,0.430212483636985,0.21763297409158863,0.17999300090009357,0.01139927888615336,0.06724150062001223,-0.10520979790397869,-0.15949871222620018,-0.25122494108787086,-0.3397430137837968,-0.36718587226385274,-0.6187728297762205,-0.7404755107278467,-0.7054604356832522,-0.775428781984369,-0.8872674932806589,-1.0709867793026646,-1.0874537233747288,-1.23750769888577,-1.2728151214824566,-1.2959672949731476,-1.417533016069888,-1.4216997994390579,-1.5169802908689975,-1.6535425585595458,-1.6470689356200088,-1.8044505279936804,-1.8506576851387113,-2.001974851122582,-1.9796084699686431,-1.988971511775598,-2.1829192202872734,-2.116861045615173,-2.240855442427162,-2.284680769010485,-2.464485241851412,-2.4781428844973803,-2.469725272164622,-2.501400330502468,-2.5104895319784837,-2.8097830671830453,-2.7173228241349063,-2.7590924565091073,-2.7472349929642337,-3.047129515719994,-2.8869843612245747,-3.037721003306779,-2.8879522828587465,-3.138363892103936,-2.8878490200289146,-3.1308035936133947,-3.2168560645136752,-3.104207056391217,-3.2057175738606074,-3.2404732460439525,-3.418832286634176,-3.3034903875591692,-3.325048722696022,-3.2720790946768363,-3.3108887320855778,-3.416439416461032,-3.4307215224294763,-3.4838020970893453,-3.5975355602018833,-3.4756767650180405,-3.5853315405517985,-3.6591317773919605,-3.5657806009969213,-3.716446894196741,-3.6116935340700063,-3.7914277039503657,-3.692626915798214,-3.6156878501454672,-3.8061378131014245,-3.6928724425827864,-3.9474575085843173,-3.7209219276662022,-3.7816987726935474,-3.919250161882968,-3.7692828098955355,-3.795352143037291,-3.965763333507392,-3.9172443362393525,-4.057054068314406,-4.028902124139551,-3.9974485681149994,-4.035340753100714,-3.9342382505166946,-4.132625920599561,-4.1388428538364375,-3.892994054840971,-3.959552567032341,-3.95816622302717,-4.006828252432445,-4.1190540781075695,-4.014167142337191,-4.211778437637454,-4.118284629532641,-4.08416704673913,-4.0713666057990485,-4.152782813981188,-4.064312270289504,-4.187363196814274,-4.174385163738718,-4.201691994673565,-4.29392423198807,-4.27772560041936,-4.330410889163776,-4.30742744361265,-4.148828462452777,-4.44419551645545,-4.278687095854895,-4.328426298168897,-4.350528521974556,-4.213513106749398,-4.382071359551643,-4.477118368695016,-4.398845443307572,-4.17605569401102,-4.4900945435024235,-4.439608880384297,-4.625815633903584,-4.173403967357641,-4.442577543757176,-4.5452092440245435,-4.4454180693396665,-4.557693080017713,-4.450879710193397,-4.49895427186629,-4.384690065253351,-4.433406341597285,-4.385480311913087,-4.731115096145577,-4.734797996983839,-4.703126703099128,-4.683458081142493,-4.718350611067548,-4.687239833861852,-4.885011711694789,-4.675386717428087,-4.6701727184103135,-4.759909954064694,-4.870103525166639,-4.7493729081095815,-4.859458190043013,-4.803629671488331,-4.951107896742632,-5.044349780734992,-4.708979295248919,-4.797323969250173,-4.84290620957091,-4.86883433604824,-4.957943010920929,-5.105264281313576,-4.941129375090591,-4.967602328446749,-4.995964667528817,-5.0239478172288194,-5.087704203229633,-5.049658262179313,-5.142243754036757,-5.200071118996297,-4.996250741984537,-5.250050938244992,-5.4266389257696215,-5.215174244587863,-5.394158007038132,-5.368053991979956,-5.358883225433047,-5.368334848813209,-5.471782912590401,-5.288620804971683,-5.438033825208401,-5.340084809032916,-5.478089727169271,-5.551311701684719,-5.6528025484969255,-5.656256407905849,-5.69094714014422,-5.726396739087689,-5.67612575264514,-5.839766861745831,-5.843601002763281,-5.864868054591487,-5.846471470753246,-6.078136014061962,-6.020193200969363,-6.146898630876314,-6.115258044448582,-6.214242304767439,-6.2633154017426635,-6.344384322934958,-6.318498655992988,-6.446431317950415,-6.414159709170649,-6.603320616133102,-6.7714012799396155,-6.785980802485451,-6.7736407154341265,-6.833805099672801,-6.910580284252509,-6.7251290976698,-7.022149802177673,-7.200461300137598,-7.152757708895819,-7.429642832432838,-7.517887139248951,-7.544083214206515,-7.841213946969978,-7.3519065917292155,-7.599048909604105,-7.687182268241232,-7.99043020537543,-8.048704977711532,-8.285776905101306,-8.18213369218562,-8.516262338673089,-8.437997416887779,-8.49022783255556,-8.772901039983699,-8.678762850306864,-8.780800054989404,-8.806097035542194,-9.101742450516463,-9.246409808476178,-9.467236540008544,-9.129161878484892,-9.280338718216393,-9.599893641569695,-10.027195082034588,-9.796654532577366,-10.075691956971836,-9.869529686495738,-10.377295362071877,-10.491854464385263,-10.531604165103314,-10.25491247289706,-11.004763304274967,-10.726059932984711,-10.736171810515685,-10.90112361392535,-11.220860218764,-11.31961507659105,-11.373485572416023,-11.638158311025752,-11.761801033492599,-11.479043643311238,-11.620418748308586,-11.837155848790939,-12.136715209580718,-11.96292918148343,-12.404105010014332,-12.101733515258976,-12.527563125678556,-12.479441181301297,-12.474647808489442,-12.635202382690814,-12.582193940192047,-12.684511684152747,-12.901131016374272,-12.752670541550861,-13.160686318353829,-13.2244564154106,-13.177454661387868,-13.432297555607336,-13.467052186465368,-13.503541942892012,-13.654467968504552,-13.7288404218764,-13.727206587010237,-13.859049866499257,-14.067039225799576,-14.180069526545344,-14.224257857314022,-14.243031889596937,-14.350138698923157,-14.443547036179753,-14.596054031328269,-14.76045876565464,-14.68765276176199,-14.884838771299924,-15.265361048491688,-15.0620613624951,-15.327271778483011,-15.290288373423659,-15.523830282968888,-15.713180698949055,-15.83188723795629,-15.875119466928773,-15.975470968982172,-16.167616488862734,-16.511761036671604,-16.3434750659725,-16.730719169159595,-16.710539098049516,-17.043771963827393,-17.27639129049283,-17.35860311307147,-17.60871514921357,-17.222531352700834,-18.19676071256608,-18.16394682522198,-18.532776683059335,-18.730034465265152,-19.1759339802627,-19.15927979918484,-19.717336426058694,-19.74423854211929,-20.60147147707709,-20.555147312759978,-20.702408220149515,-21.18745677081411,-21.108285846600715,-21.321165517801152,-21.399696830596376,-21.934732963043135,-21.917636606187013,-22.446022293444944,-22.254972220312105,-22.372491472286004,-22.432853608147443,-22.859937547842737,-22.810317961220317,-23.065746318614035,-22.85836358469911,-23.302520857562385,-23.35137168863988,-23.030104092419457,-23.623151769727368,-23.226924475802374,-23.455838264104965,-23.644159359608672,-23.235862623412324,-23.397449065449358,-23.519569012875614,-23.730919983656467,-23.395393546444854,-23.6473466610947,-23.568390381099224,-23.75401169855337,-23.71295920455467,-23.681360939020017,-23.679711329563258,-23.694109298131607,-23.779005337594338,-23.788778482903123,-23.743720372448788,-23.727803215214575,-23.770973230321452,-23.823817544146976,-23.80580499302747,-23.799491287483708,-23.793475028615667,-23.795170359947523,-23.715453303392316,-23.81059592590726,-23.777446108406878,-23.79137752703783,-23.809637125461723,-23.886607691130262,-23.807435129955774,-23.921382611050664,-23.809691068021877,-23.879312849396758,-23.84669378425796,-23.933552491296204,-23.9570015789844,-23.85605828399602,-23.83824412092901,-23.853548350179718,-23.90800706905889,-23.85744342368706,-23.816610055070402,-23.87724503225313,-23.870681939385573,-23.787145939969644,-23.87608794499771,-23.87184348805274,-23.843372618029477,-23.869374922087157,-23.854857594197018,-23.93135773241321,-23.804575961158413,-23.836893528922644,-23.931072662592605,-23.89585944112605,-23.875658597664795,-23.854754982105067,-23.878894325361486,-23.89921552468236,-23.926050415254213,-23.82068236259591,-23.957916907333892,-23.8481098371733,-23.839276572388084,-23.932328907124255,-23.89174305689354,-23.955639405408633,-23.844804163024207,-23.852363044104155,-23.84180273315414,-23.93637327786784,-23.872615200788097,-23.824621792302484,-23.898917955062725,-23.9335500191199,-23.981668705662354,-23.948538091404853,-23.93719731644623,-23.933911985555678,-23.87223787179204,-23.92676292457845,-23.89715743377773,-23.792564675806673,-23.913725678508875,-23.78450946458207,-23.83949698764625,-23.896395248095843,-24.030195829466003,-24.009499961895944,-23.883456379112165,-23.921143617763878,-23.924535751638857,-23.982191159175105,-23.989093626737585,-23.886626644584716,-23.854496207500866,-23.91438294800412,-23.907821104441794,-23.9376997876297,-23.936280470484,-23.91534864650821,-23.963450461545982,-23.89090034072278,-23.852902299312035,-23.853529228255116,-23.795203458015685,-23.90132287659249,-23.798448138643973,-23.92233725740478,-24.009646195285065,-23.969298763267155,-24.07479998407972,-24.092233043349925,-23.936713336892172,-23.88451609654456,-23.909256989970636,-23.91592451209465,-23.81748651284139,-23.88991840618771,-23.944870693344605,-24.001337395258442,-23.911666486704906,-23.90355847784221,-23.909012393353066,-23.93658414734667,-23.88957486353358,-23.98170137179983,-23.92989549372982,-23.907273821900784,-23.9883969755396,-23.92959028292856,-23.932931255232727,-23.886174833281853,-23.910658063038177,-23.93560253582513,-23.914011485613077,-23.883717480911457,-23.86732337181812,-23.85189075733221,-23.87189782370218,-23.907661397407107,-23.92912098519676,-23.96294594458607,-23.92119364604246,-23.9345212063203,-23.8760775816169,-23.956328847163714,-23.92402255592931,-23.930956499462113,-23.901755149873875,-23.881799205848605,-23.884363649559642,-23.87339113283373,-23.913916420133972,-23.98354551684654,-23.91965981703219]}],                        {\"template\":{\"data\":{\"bar\":[{\"error_x\":{\"color\":\"rgb(36,36,36)\"},\"error_y\":{\"color\":\"rgb(36,36,36)\"},\"marker\":{\"line\":{\"color\":\"white\",\"width\":0.5},\"pattern\":{\"fillmode\":\"overlay\",\"size\":10,\"solidity\":0.2}},\"type\":\"bar\"}],\"barpolar\":[{\"marker\":{\"line\":{\"color\":\"white\",\"width\":0.5},\"pattern\":{\"fillmode\":\"overlay\",\"size\":10,\"solidity\":0.2}},\"type\":\"barpolar\"}],\"carpet\":[{\"aaxis\":{\"endlinecolor\":\"rgb(36,36,36)\",\"gridcolor\":\"white\",\"linecolor\":\"white\",\"minorgridcolor\":\"white\",\"startlinecolor\":\"rgb(36,36,36)\"},\"baxis\":{\"endlinecolor\":\"rgb(36,36,36)\",\"gridcolor\":\"white\",\"linecolor\":\"white\",\"minorgridcolor\":\"white\",\"startlinecolor\":\"rgb(36,36,36)\"},\"type\":\"carpet\"}],\"choropleth\":[{\"colorbar\":{\"outlinewidth\":1,\"tickcolor\":\"rgb(36,36,36)\",\"ticks\":\"outside\"},\"type\":\"choropleth\"}],\"contour\":[{\"colorbar\":{\"outlinewidth\":1,\"tickcolor\":\"rgb(36,36,36)\",\"ticks\":\"outside\"},\"colorscale\":[[0.0,\"#440154\"],[0.1111111111111111,\"#482878\"],[0.2222222222222222,\"#3e4989\"],[0.3333333333333333,\"#31688e\"],[0.4444444444444444,\"#26828e\"],[0.5555555555555556,\"#1f9e89\"],[0.6666666666666666,\"#35b779\"],[0.7777777777777778,\"#6ece58\"],[0.8888888888888888,\"#b5de2b\"],[1.0,\"#fde725\"]],\"type\":\"contour\"}],\"contourcarpet\":[{\"colorbar\":{\"outlinewidth\":1,\"tickcolor\":\"rgb(36,36,36)\",\"ticks\":\"outside\"},\"type\":\"contourcarpet\"}],\"heatmap\":[{\"colorbar\":{\"outlinewidth\":1,\"tickcolor\":\"rgb(36,36,36)\",\"ticks\":\"outside\"},\"colorscale\":[[0.0,\"#440154\"],[0.1111111111111111,\"#482878\"],[0.2222222222222222,\"#3e4989\"],[0.3333333333333333,\"#31688e\"],[0.4444444444444444,\"#26828e\"],[0.5555555555555556,\"#1f9e89\"],[0.6666666666666666,\"#35b779\"],[0.7777777777777778,\"#6ece58\"],[0.8888888888888888,\"#b5de2b\"],[1.0,\"#fde725\"]],\"type\":\"heatmap\"}],\"heatmapgl\":[{\"colorbar\":{\"outlinewidth\":1,\"tickcolor\":\"rgb(36,36,36)\",\"ticks\":\"outside\"},\"colorscale\":[[0.0,\"#440154\"],[0.1111111111111111,\"#482878\"],[0.2222222222222222,\"#3e4989\"],[0.3333333333333333,\"#31688e\"],[0.4444444444444444,\"#26828e\"],[0.5555555555555556,\"#1f9e89\"],[0.6666666666666666,\"#35b779\"],[0.7777777777777778,\"#6ece58\"],[0.8888888888888888,\"#b5de2b\"],[1.0,\"#fde725\"]],\"type\":\"heatmapgl\"}],\"histogram\":[{\"marker\":{\"line\":{\"color\":\"white\",\"width\":0.6}},\"type\":\"histogram\"}],\"histogram2d\":[{\"colorbar\":{\"outlinewidth\":1,\"tickcolor\":\"rgb(36,36,36)\",\"ticks\":\"outside\"},\"colorscale\":[[0.0,\"#440154\"],[0.1111111111111111,\"#482878\"],[0.2222222222222222,\"#3e4989\"],[0.3333333333333333,\"#31688e\"],[0.4444444444444444,\"#26828e\"],[0.5555555555555556,\"#1f9e89\"],[0.6666666666666666,\"#35b779\"],[0.7777777777777778,\"#6ece58\"],[0.8888888888888888,\"#b5de2b\"],[1.0,\"#fde725\"]],\"type\":\"histogram2d\"}],\"histogram2dcontour\":[{\"colorbar\":{\"outlinewidth\":1,\"tickcolor\":\"rgb(36,36,36)\",\"ticks\":\"outside\"},\"colorscale\":[[0.0,\"#440154\"],[0.1111111111111111,\"#482878\"],[0.2222222222222222,\"#3e4989\"],[0.3333333333333333,\"#31688e\"],[0.4444444444444444,\"#26828e\"],[0.5555555555555556,\"#1f9e89\"],[0.6666666666666666,\"#35b779\"],[0.7777777777777778,\"#6ece58\"],[0.8888888888888888,\"#b5de2b\"],[1.0,\"#fde725\"]],\"type\":\"histogram2dcontour\"}],\"mesh3d\":[{\"colorbar\":{\"outlinewidth\":1,\"tickcolor\":\"rgb(36,36,36)\",\"ticks\":\"outside\"},\"type\":\"mesh3d\"}],\"parcoords\":[{\"line\":{\"colorbar\":{\"outlinewidth\":1,\"tickcolor\":\"rgb(36,36,36)\",\"ticks\":\"outside\"}},\"type\":\"parcoords\"}],\"pie\":[{\"automargin\":true,\"type\":\"pie\"}],\"scatter\":[{\"marker\":{\"colorbar\":{\"outlinewidth\":1,\"tickcolor\":\"rgb(36,36,36)\",\"ticks\":\"outside\"}},\"type\":\"scatter\"}],\"scatter3d\":[{\"line\":{\"colorbar\":{\"outlinewidth\":1,\"tickcolor\":\"rgb(36,36,36)\",\"ticks\":\"outside\"}},\"marker\":{\"colorbar\":{\"outlinewidth\":1,\"tickcolor\":\"rgb(36,36,36)\",\"ticks\":\"outside\"}},\"type\":\"scatter3d\"}],\"scattercarpet\":[{\"marker\":{\"colorbar\":{\"outlinewidth\":1,\"tickcolor\":\"rgb(36,36,36)\",\"ticks\":\"outside\"}},\"type\":\"scattercarpet\"}],\"scattergeo\":[{\"marker\":{\"colorbar\":{\"outlinewidth\":1,\"tickcolor\":\"rgb(36,36,36)\",\"ticks\":\"outside\"}},\"type\":\"scattergeo\"}],\"scattergl\":[{\"marker\":{\"colorbar\":{\"outlinewidth\":1,\"tickcolor\":\"rgb(36,36,36)\",\"ticks\":\"outside\"}},\"type\":\"scattergl\"}],\"scattermapbox\":[{\"marker\":{\"colorbar\":{\"outlinewidth\":1,\"tickcolor\":\"rgb(36,36,36)\",\"ticks\":\"outside\"}},\"type\":\"scattermapbox\"}],\"scatterpolar\":[{\"marker\":{\"colorbar\":{\"outlinewidth\":1,\"tickcolor\":\"rgb(36,36,36)\",\"ticks\":\"outside\"}},\"type\":\"scatterpolar\"}],\"scatterpolargl\":[{\"marker\":{\"colorbar\":{\"outlinewidth\":1,\"tickcolor\":\"rgb(36,36,36)\",\"ticks\":\"outside\"}},\"type\":\"scatterpolargl\"}],\"scatterternary\":[{\"marker\":{\"colorbar\":{\"outlinewidth\":1,\"tickcolor\":\"rgb(36,36,36)\",\"ticks\":\"outside\"}},\"type\":\"scatterternary\"}],\"surface\":[{\"colorbar\":{\"outlinewidth\":1,\"tickcolor\":\"rgb(36,36,36)\",\"ticks\":\"outside\"},\"colorscale\":[[0.0,\"#440154\"],[0.1111111111111111,\"#482878\"],[0.2222222222222222,\"#3e4989\"],[0.3333333333333333,\"#31688e\"],[0.4444444444444444,\"#26828e\"],[0.5555555555555556,\"#1f9e89\"],[0.6666666666666666,\"#35b779\"],[0.7777777777777778,\"#6ece58\"],[0.8888888888888888,\"#b5de2b\"],[1.0,\"#fde725\"]],\"type\":\"surface\"}],\"table\":[{\"cells\":{\"fill\":{\"color\":\"rgb(237,237,237)\"},\"line\":{\"color\":\"white\"}},\"header\":{\"fill\":{\"color\":\"rgb(217,217,217)\"},\"line\":{\"color\":\"white\"}},\"type\":\"table\"}]},\"layout\":{\"annotationdefaults\":{\"arrowhead\":0,\"arrowwidth\":1},\"autotypenumbers\":\"strict\",\"coloraxis\":{\"colorbar\":{\"outlinewidth\":1,\"tickcolor\":\"rgb(36,36,36)\",\"ticks\":\"outside\"}},\"colorscale\":{\"diverging\":[[0.0,\"rgb(103,0,31)\"],[0.1,\"rgb(178,24,43)\"],[0.2,\"rgb(214,96,77)\"],[0.3,\"rgb(244,165,130)\"],[0.4,\"rgb(253,219,199)\"],[0.5,\"rgb(247,247,247)\"],[0.6,\"rgb(209,229,240)\"],[0.7,\"rgb(146,197,222)\"],[0.8,\"rgb(67,147,195)\"],[0.9,\"rgb(33,102,172)\"],[1.0,\"rgb(5,48,97)\"]],\"sequential\":[[0.0,\"#440154\"],[0.1111111111111111,\"#482878\"],[0.2222222222222222,\"#3e4989\"],[0.3333333333333333,\"#31688e\"],[0.4444444444444444,\"#26828e\"],[0.5555555555555556,\"#1f9e89\"],[0.6666666666666666,\"#35b779\"],[0.7777777777777778,\"#6ece58\"],[0.8888888888888888,\"#b5de2b\"],[1.0,\"#fde725\"]],\"sequentialminus\":[[0.0,\"#440154\"],[0.1111111111111111,\"#482878\"],[0.2222222222222222,\"#3e4989\"],[0.3333333333333333,\"#31688e\"],[0.4444444444444444,\"#26828e\"],[0.5555555555555556,\"#1f9e89\"],[0.6666666666666666,\"#35b779\"],[0.7777777777777778,\"#6ece58\"],[0.8888888888888888,\"#b5de2b\"],[1.0,\"#fde725\"]]},\"colorway\":[\"#1F77B4\",\"#FF7F0E\",\"#2CA02C\",\"#D62728\",\"#9467BD\",\"#8C564B\",\"#E377C2\",\"#7F7F7F\",\"#BCBD22\",\"#17BECF\"],\"font\":{\"color\":\"rgb(36,36,36)\"},\"geo\":{\"bgcolor\":\"white\",\"lakecolor\":\"white\",\"landcolor\":\"white\",\"showlakes\":true,\"showland\":true,\"subunitcolor\":\"white\"},\"hoverlabel\":{\"align\":\"left\"},\"hovermode\":\"closest\",\"mapbox\":{\"style\":\"light\"},\"paper_bgcolor\":\"white\",\"plot_bgcolor\":\"white\",\"polar\":{\"angularaxis\":{\"gridcolor\":\"rgb(232,232,232)\",\"linecolor\":\"rgb(36,36,36)\",\"showgrid\":false,\"showline\":true,\"ticks\":\"outside\"},\"bgcolor\":\"white\",\"radialaxis\":{\"gridcolor\":\"rgb(232,232,232)\",\"linecolor\":\"rgb(36,36,36)\",\"showgrid\":false,\"showline\":true,\"ticks\":\"outside\"}},\"scene\":{\"xaxis\":{\"backgroundcolor\":\"white\",\"gridcolor\":\"rgb(232,232,232)\",\"gridwidth\":2,\"linecolor\":\"rgb(36,36,36)\",\"showbackground\":true,\"showgrid\":false,\"showline\":true,\"ticks\":\"outside\",\"zeroline\":false,\"zerolinecolor\":\"rgb(36,36,36)\"},\"yaxis\":{\"backgroundcolor\":\"white\",\"gridcolor\":\"rgb(232,232,232)\",\"gridwidth\":2,\"linecolor\":\"rgb(36,36,36)\",\"showbackground\":true,\"showgrid\":false,\"showline\":true,\"ticks\":\"outside\",\"zeroline\":false,\"zerolinecolor\":\"rgb(36,36,36)\"},\"zaxis\":{\"backgroundcolor\":\"white\",\"gridcolor\":\"rgb(232,232,232)\",\"gridwidth\":2,\"linecolor\":\"rgb(36,36,36)\",\"showbackground\":true,\"showgrid\":false,\"showline\":true,\"ticks\":\"outside\",\"zeroline\":false,\"zerolinecolor\":\"rgb(36,36,36)\"}},\"shapedefaults\":{\"fillcolor\":\"black\",\"line\":{\"width\":0},\"opacity\":0.3},\"ternary\":{\"aaxis\":{\"gridcolor\":\"rgb(232,232,232)\",\"linecolor\":\"rgb(36,36,36)\",\"showgrid\":false,\"showline\":true,\"ticks\":\"outside\"},\"baxis\":{\"gridcolor\":\"rgb(232,232,232)\",\"linecolor\":\"rgb(36,36,36)\",\"showgrid\":false,\"showline\":true,\"ticks\":\"outside\"},\"bgcolor\":\"white\",\"caxis\":{\"gridcolor\":\"rgb(232,232,232)\",\"linecolor\":\"rgb(36,36,36)\",\"showgrid\":false,\"showline\":true,\"ticks\":\"outside\"}},\"title\":{\"x\":0.05},\"xaxis\":{\"automargin\":true,\"gridcolor\":\"rgb(232,232,232)\",\"linecolor\":\"rgb(36,36,36)\",\"showgrid\":false,\"showline\":true,\"ticks\":\"outside\",\"title\":{\"standoff\":15},\"zeroline\":false,\"zerolinecolor\":\"rgb(36,36,36)\"},\"yaxis\":{\"automargin\":true,\"gridcolor\":\"rgb(232,232,232)\",\"linecolor\":\"rgb(36,36,36)\",\"showgrid\":false,\"showline\":true,\"ticks\":\"outside\",\"title\":{\"standoff\":15},\"zeroline\":false,\"zerolinecolor\":\"rgb(36,36,36)\"}}},\"title\":{\"text\":\"<b>S-S model </b>, L=16, J2 =1 , η=0.01, α=16, samples=1200\"},\"xaxis\":{\"mirror\":true,\"showline\":true,\"title\":{\"text\":\"Iteration\"}},\"yaxis\":{\"mirror\":true,\"showline\":true,\"title\":{\"text\":\"Energy\"}}},                        {\"responsive\": true}                    ).then(function(){\n",
       "                            \n",
       "var gd = document.getElementById('d8acc1bb-aba4-4065-b4d5-84eaca8f0675');\n",
       "var x = new MutationObserver(function (mutations, observer) {{\n",
       "        var display = window.getComputedStyle(gd).display;\n",
       "        if (!display || display === 'none') {{\n",
       "            console.log([gd, 'removed!']);\n",
       "            Plotly.purge(gd);\n",
       "            observer.disconnect();\n",
       "        }}\n",
       "}});\n",
       "\n",
       "// Listen for the removal of the full notebook cells\n",
       "var notebookContainer = gd.closest('#notebook-container');\n",
       "if (notebookContainer) {{\n",
       "    x.observe(notebookContainer, {childList: true});\n",
       "}}\n",
       "\n",
       "// Listen for the clearing of the current output cell\n",
       "var outputEl = gd.closest('.output');\n",
       "if (outputEl) {{\n",
       "    x.observe(outputEl, {childList: true});\n",
       "}}\n",
       "\n",
       "                        })                };                });            </script>        </div>"
      ]
     },
     "metadata": {},
     "output_type": "display_data"
    }
   ],
   "source": [
    "# import the data from log file\n",
    "OUT_NAME_suffixless=OUT_NAME\n",
    "data = []\n",
    "for i in range(no_of_runs):\n",
    "    data.append(json.load(open(OUT_NAME_suffixless+str(i)+\".log\")))\n",
    "names = [\"normal basis\",\"MSR basis\"]\n",
    "if DTYPE==np.complex128:\n",
    "    energy_convergence = [data[i][\"Energy\"][\"Mean\"][\"real\"] for i in range(no_of_runs)]\n",
    "    # DS_factor_convergence = [data[i][\"DS_factor\"][\"Mean\"][\"real\"] for i in range(no_of_runs)]\n",
    "else:\n",
    "    energy_convergence = [data[i][\"Energy\"][\"Mean\"] for i in range(no_of_runs)]\n",
    "    # DS_factor_convergence = [data[i][\"DS_factor\"][\"Mean\"] for i in range(no_of_runs)]\n",
    "for i in range(no_of_runs):\n",
    "    figure.add_trace(go.Scatter(\n",
    "        x=data[i][\"Energy\"][\"iters\"], y=energy_convergence[i],\n",
    "        name=names[i]\n",
    "    ))\n",
    "    # figure.add_trace(go.Scatter(\n",
    "    #     x=data[i][\"Energy\"][\"iters\"], y=DS_factor_convergence[i],\n",
    "    #     name=names[i]+\"_DS\"\n",
    "    # ))\n",
    "\n",
    "#figure.add_hline(y=exact_gs_energy)\n",
    "figure.update_layout(xaxis_title=\"Iteration\",yaxis_title=\"Energy\")\n",
    "figure.show()"
   ]
  },
  {
   "cell_type": "code",
   "execution_count": null,
   "metadata": {},
   "outputs": [
    {
     "name": "stdout",
     "output_type": "stream",
     "text": [
      "[14.3973783047214, 14.398921405671167, 14.39901330963549, 14.394296667517496, 14.397476810163269, 14.398166440393865, 14.396458667401655, 14.392987597911855, 14.390176828973825, 14.39199360492079, 14.387506986143809, 14.386815336488379, 14.385475556039468, 14.388266562959423, 14.387581388408048, 14.382080801699768, 14.370205985762587, 14.36686051639483, 14.365338238669253, 14.349177605440328, 14.350392732758358, 14.348042902956399, 14.34887523503771, 14.324254483016837, 14.317633904837177, 14.271020851571684, 14.26884855833823, 14.217260747119909, 14.207497060031793, 14.148178912192423, 14.107594040079194, 14.06671447295119, 13.963114825177783, 13.852309310797619, 13.785198455672157, 13.714923656131779, 13.562971740472262, 13.431944922363432, 13.198185016536431, 12.899596679145501, 12.701271313846991, 12.402295439895987, 12.014231182616058, 11.512427621766381, 10.974262305591365, 10.276010156091205, 9.620177297028265, 9.049186241909444, 7.993898399982685, 7.134144731674976, 6.313975968495612, 5.297713836770151, 4.635724751991505, 3.3718498288688044, 2.2436060265893927, 1.3634704000356364, 0.3912085978898461, -0.2806081956124802, -0.9327517442031371, -1.5975863466269766, -2.994769826817358, -3.366763651060919, -3.8204613154572167, -4.287764646255646, -4.769580887655957, -5.180474013337022, -6.212217462219037, -6.425670393112801, -6.615104837446579, -6.912405450959574, -7.289566810149095, -7.326177685913314, -7.9136450099709545, -8.127562623456607, -8.837056729144805, -9.099662794623764, -9.456935957173076, -9.73479983838366, -9.804010566818143, -10.475861712852073, -10.400542846235368, -10.548219430818861, -11.014536993594295, -11.543828740860219, -11.487994720990308, -11.66902685597637, -12.22029411742858, -12.11673597187112, -12.612314618192396, -12.811157926327166, -12.951541129273917, -13.286811586086506, -13.3932599243875, -13.76227691786999, -13.862063293883894, -14.215979118479433, -14.067167417805571, -14.765756168254525, -14.736785718380059, -15.135635392443177, -15.051387218584203, -15.516195737504466, -15.306988812070584, -15.90356781478151, -16.16661397433895, -16.44189872969088, -16.979367213492257, -17.016106397397945, -17.012415939052964, -16.96291531818947, -16.91913526665, -17.288717915286487, -17.63602406505886, -17.337539298746353, -18.008681566112884, -17.401522948382336, -17.73760336460419, -17.908761666782162, -17.890543407517153, -17.954805773264994, -18.3946646956646, -18.336157976677356, -18.47664815642716, -18.319499349269023, -18.458976956682836, -18.310321459555965, -18.55915758177006, -18.909929877689212, -19.21822665174752, -18.943071673633, -18.99427864417177, -19.421792019930987, -18.891789459145894, -18.98902835677003, -19.16300977231645, -19.107959385425033, -18.9772767153348, -19.47191800077758, -19.355036804844364, -19.541187411135805, -19.69302390787803, -19.610868432924594, -19.335527602971226, -19.378903995351738, -19.541649608551033, -19.724509257765455, -19.587080434484786, -19.72734310384467, -19.45187875359004, -20.00059131648924, -19.510659026863255, -19.635741283636445, -19.78753858818279, -19.757925694862188, -19.90572978586817, -19.785999286886994, -20.07223884870011, -20.265263032877453, -20.147111349852363, -20.065703684414693, -20.334231000710535, -20.198802001495487, -20.378604197876612, -20.026499957096956, -20.31510469153215, -20.82894045252364, -20.26441491858023, -20.74957480216122, -20.456100559188915, -21.174122319864853, -21.197808871202337, -20.871179405201744, -21.569098226846638, -21.02344470822102, -21.490350357908845, -20.974601748405203, -20.80800678491428, -21.1678489537605, -21.69469095698286, -21.661239491648097, -21.131035645967334, -22.73129258329169, -21.1737168810009, -21.54962348562119, -22.608622332502158, -22.055706777043785, -22.224126843652446, -22.118433039113874, -22.164749334767745, -22.10632983014733, -22.06587060057326, -22.65154729745409, -22.684624026654877, -23.42360608845867, -23.982876520286865, -23.280089847734025, -23.01535957945654, -22.8783103636198, -23.316559504761724, -23.59539826839718, -23.68735155199472, -23.12089393457863, -23.69874947240565, -24.06489566549846, -23.327408124144895, -23.512677974895336, -23.135590860152924, -23.53740030092404, -23.52256068436657, -23.402195113432978, -23.305510206001557, -23.65707984903046, -23.828039896036238, -24.203331130806166, -23.75395814268777, -23.900494366665374, -24.05978275211423, -23.869513081038473, -23.750588215013394, -23.960168716426967, -23.85649695801145, -23.814089711900305, -23.89873602505556, -23.7710844737432, -23.785928159235496, -23.87678759219774, -23.816670213274904, -23.760009727721762, -23.773727945794295, -23.600001141184926, -23.92111347387914, -23.676531413737845, -23.977305701323424, -23.955446780503276, -23.964101297887357, -23.747363260927173, -23.802545180045936, -23.85754713290287, -23.876983452464753, -23.82055693304656, -23.927060578781948, -23.871185189167196, -23.943865190337846, -23.901306604725836, -23.952176618446746, -23.95172336764307, -24.01987592780014, -23.89507604031802, -23.962473568190592, -23.90222036664486, -23.89080740838881, -23.902325111432777, -23.909998939605135, -23.913922224902656, -23.84985832922997, -23.89902229499299, -23.91890485131146, -23.784445164770023, -23.796063736157674, -23.790291921166453, -23.94877674395446, -23.967894407176296, -23.877628265983503, -23.854211980224715, -23.827261915869098, -23.82673064680401, -23.781946659815713, -23.87731007143352, -23.99257618496519, -23.996973245085794, -23.96242322893711, -23.998482212134004, -23.985499628057134, -24.107555745926035, -24.084854564428376, -23.953234069354448, -23.891597972354493, -23.99003247622281, -23.91576837301509, -23.85852343143553, -23.90280378827627, -23.943388863938583, -23.934217637328146, -23.909174312255637, -23.932512111901442, -23.82662777336224, -23.849108579381213, -23.821439228888927, -23.851326928250135, -23.901010715387184, -23.843783926239396, -23.789856369074975, -23.886057831021805, -23.936091571189934, -24.00996639907856, -24.18436725619303, -24.038450083358033, -23.835667226874854, -23.788794686993928, -23.849177603298134, -23.885293058017353, -23.882106316026682, -23.876975431003842, -23.834460658125536, -23.870944843965194, -23.84619814298345, -23.849468130474616, -23.81947513384118, -23.938279649737257, -23.917425677660002, -23.93042037207759, -23.93875009305467, -23.958716159957508, -23.932974521315785, -23.968618487638064, -23.941692849578274, -23.946718376978502, -23.945649966608617, -23.944254015830243, -23.906363326221353, -23.85716674554145, -23.8643501164409, -24.01875156962567, -24.011598297367673, -23.926844820160174, -23.94556527810502, -23.98303570015714, -23.970326692648715, -23.925458932790594, -23.935233510318003, -23.903235569110635, -23.913908135045272, -23.89387737619927, -23.888916845367596, -23.870763266955173, -23.89250204892538, -23.88730905787354, -23.91477833459774, -23.906160410555838, -23.76992342881475, -23.812419877202945, -23.866014132576197, -24.00671566570691, -24.024567773560193, -23.96469142923336, -23.977968008534308, -23.91629754812123, -23.913633834755636, -23.92730918724164, -23.979777995964493, -23.958070146463495, -23.912936464250915, -23.906367957340162, -23.924510847737114, -23.9235934374763, -23.925405596558033, -23.95499288913262, -23.907828160246122, -23.884695041165433, -23.87722710558838, -23.867522454883286, -23.8769062339004, -23.933053933472948, -24.06507214123546, -23.96259703866054, -23.907384812381345, -23.97020704792202, -23.952734603452345, -23.870215955825664, -23.92453550996559, -23.887558391594748, -23.86677052793469, -23.82286860160532, -23.933552109957088, -23.910733705054536, -23.93048544893304, -23.943881456789065, -23.93162341291827, -23.97641758347078, -23.992711203950254, -23.996569588637957, -24.00384297561941, -23.91937705152681, -23.95055755784859, -23.939166861397613, -23.914521873237238, -23.897059371777225, -23.937190448173457, -23.943100982815334, -23.923828555436064, -23.9175240055098, -23.912107658755378, -23.935777522720336, -23.876682947742896, -23.899783482406452, -23.906408098939, -23.89389658305276, -23.962891083924813, -23.96272755519052, -24.04935274294679, -24.030173251060035, -23.94686460691299, -23.936264166557873, -23.97634012892205, -23.93967271701847, -23.872219757481243, -23.806041072432595, -23.878665950130504, -23.816443476115374, -23.78148376433333, -23.861176887993437, -23.95967070177016, -23.825592362656668, -23.846444812127995, -23.875020719786388, -23.89343657993497, -23.86542757469666, -23.923416298571485, -23.902926034019156, -23.939466271279187, -23.903032280825077, -23.974639018545087, -23.976178188086312, -23.934617734350553, -23.88420452540421, -23.82126167380823, -23.904673377175143, -23.902510578799426, -23.97078381642586, -24.02810950244273, -24.002395910962335, -23.92201813533453, -23.81905885105557, -23.90799961089012, -23.915457049821065, -23.8257715161063, -23.88958530335232, -23.938084982460303, -23.928192661621345, -23.93101553129278, -23.898588066547674, -24.02074635037169, -23.940090920903362, -23.92299460401063, -23.970202580161846, -23.89089900846698, -23.94763221512227, -23.95011271068806, -23.97921678704977, -23.947937795703268, -23.97073304685321, -23.970950039955504, -24.014855567453154, -24.009507508156773, -23.944088405344164, -23.99040902844002, -23.943719171713173, -23.895404002035445, -23.923708540676436, -23.92961691485473, -23.924621945291182, -23.951328901590664, -23.940065917653488, -23.91267039793865, -23.925970828930986, -23.941478910472366, -23.94539477814936, -23.98744887937776, -23.99682294288055, -23.959962622466463, -23.960409547371743, -23.91597243778293, -23.95866710957642, -23.913572124207867, -23.927824298884904, -23.935830870381967, -23.934090921542534, -23.951613087224537, -23.98599885150644, -24.05494351504386, -23.97723116478181, -23.995857810898478, -24.00319118561409, -23.939181529812974, -23.908254908194664, -23.968855704804724, -23.982676323017934, -24.043303276140524, -23.973171540413958, -23.939112906586963, -23.950098540572274, -23.956611664271243, -23.888640774732075, -23.99013322662419, -23.986123481896907, -23.981189598990554, -24.010327180874295, -24.020783920710876, -24.016051065010103, -24.028854544384536]\n"
     ]
    }
   ],
   "source": [
    "print(energy_convergence[0])"
   ]
  },
  {
   "cell_type": "code",
   "execution_count": null,
   "metadata": {},
   "outputs": [
    {
     "name": "stdout",
     "output_type": "stream",
     "text": [
      "0.2   1   -24.000000000000014   -24.028854544384536   -23.91965981703219\n",
      "\n"
     ]
    }
   ],
   "source": [
    "sep=\"   \"\n",
    "print(str(JEXCH1)+sep+str(JEXCH2)+sep+str(exact_ground_energy)+sep+str(energy_convergence[0][NUM_ITER-1])+sep+str(energy_convergence[1][NUM_ITER-1])+\"\\n\")\n"
   ]
  },
  {
   "cell_type": "markdown",
   "metadata": {},
   "source": [
    "## Saving to file"
   ]
  },
  {
   "cell_type": "code",
   "execution_count": null,
   "metadata": {},
   "outputs": [],
   "source": [
    "outFile = open(\"energies_Jastrow_N=\"+str(N)+\".txt\",\"a\")\n",
    "sep=\"   \"\n",
    "outFile.write(str(JEXCH1)+sep+str(JEXCH2)+sep+str(exact_ground_energy)+sep+str(energy_convergence[0][NUM_ITER-1])+sep+str(energy_convergence[1][NUM_ITER-1])+\"\\n\")\n",
    "outFile.close()"
   ]
  },
  {
   "cell_type": "markdown",
   "metadata": {},
   "source": [
    "## Feature filters"
   ]
  },
  {
   "cell_type": "code",
   "execution_count": null,
   "metadata": {},
   "outputs": [
    {
     "ename": "KeyError",
     "evalue": "'Dense'",
     "output_type": "error",
     "traceback": [
      "\u001b[0;31m---------------------------------------------------------------------------\u001b[0m",
      "\u001b[0;31mKeyError\u001b[0m                                  Traceback (most recent call last)",
      "\u001b[0;32m/tmp/ipykernel_3452/2701876249.py\u001b[0m in \u001b[0;36m<module>\u001b[0;34m\u001b[0m\n\u001b[1;32m      1\u001b[0m \u001b[0;31m# get filters for Symmetric Hamiltonian\u001b[0m\u001b[0;34m\u001b[0m\u001b[0;34m\u001b[0m\u001b[0;34m\u001b[0m\u001b[0m\n\u001b[0;32m----> 2\u001b[0;31m \u001b[0mFilters\u001b[0m \u001b[0;34m=\u001b[0m \u001b[0mvs_MSR\u001b[0m\u001b[0;34m.\u001b[0m\u001b[0mparameters\u001b[0m\u001b[0;34m[\u001b[0m\u001b[0;34m\"Dense\"\u001b[0m\u001b[0;34m]\u001b[0m\u001b[0;34m[\u001b[0m\u001b[0;34m\"kernel\"\u001b[0m\u001b[0;34m]\u001b[0m\u001b[0;34m\u001b[0m\u001b[0;34m\u001b[0m\u001b[0m\n\u001b[0m",
      "\u001b[0;32m~/.local/lib/python3.8/site-packages/flax/core/frozen_dict.py\u001b[0m in \u001b[0;36m__getitem__\u001b[0;34m(self, key)\u001b[0m\n\u001b[1;32m     62\u001b[0m \u001b[0;34m\u001b[0m\u001b[0m\n\u001b[1;32m     63\u001b[0m   \u001b[0;32mdef\u001b[0m \u001b[0m__getitem__\u001b[0m\u001b[0;34m(\u001b[0m\u001b[0mself\u001b[0m\u001b[0;34m,\u001b[0m \u001b[0mkey\u001b[0m\u001b[0;34m)\u001b[0m\u001b[0;34m:\u001b[0m\u001b[0;34m\u001b[0m\u001b[0;34m\u001b[0m\u001b[0m\n\u001b[0;32m---> 64\u001b[0;31m     \u001b[0mv\u001b[0m \u001b[0;34m=\u001b[0m \u001b[0mself\u001b[0m\u001b[0;34m.\u001b[0m\u001b[0m_dict\u001b[0m\u001b[0;34m[\u001b[0m\u001b[0mkey\u001b[0m\u001b[0;34m]\u001b[0m\u001b[0;34m\u001b[0m\u001b[0;34m\u001b[0m\u001b[0m\n\u001b[0m\u001b[1;32m     65\u001b[0m     \u001b[0;32mif\u001b[0m \u001b[0misinstance\u001b[0m\u001b[0;34m(\u001b[0m\u001b[0mv\u001b[0m\u001b[0;34m,\u001b[0m \u001b[0mdict\u001b[0m\u001b[0;34m)\u001b[0m\u001b[0;34m:\u001b[0m\u001b[0;34m\u001b[0m\u001b[0;34m\u001b[0m\u001b[0m\n\u001b[1;32m     66\u001b[0m       \u001b[0;32mreturn\u001b[0m \u001b[0mFrozenDict\u001b[0m\u001b[0;34m(\u001b[0m\u001b[0mv\u001b[0m\u001b[0;34m)\u001b[0m\u001b[0;34m\u001b[0m\u001b[0;34m\u001b[0m\u001b[0m\n",
      "\u001b[0;31mKeyError\u001b[0m: 'Dense'"
     ]
    }
   ],
   "source": [
    "# get filters for Symmetric Hamiltonian\n",
    "Filters = vs_MSR.parameters[\"Dense\"][\"kernel\"]"
   ]
  },
  {
   "cell_type": "code",
   "execution_count": null,
   "metadata": {},
   "outputs": [
    {
     "name": "stdout",
     "output_type": "stream",
     "text": [
      "0.125\n",
      "(1, 8)\n"
     ]
    }
   ],
   "source": [
    "print(len(Filters)/g.n_nodes)\n",
    "print(Filters.shape)"
   ]
  },
  {
   "cell_type": "code",
   "execution_count": null,
   "metadata": {},
   "outputs": [
    {
     "name": "stdout",
     "output_type": "stream",
     "text": [
      "max: (0.023341917030256728-0.11639290253196823j)    min: (-0.02345835441531539-0.11639806738827682j)     number of filters: 1\n"
     ]
    }
   ],
   "source": [
    "#calculation of extreme points for normalization\n",
    "no_of_filters = Filters.shape[0]\n",
    "maximal = max([max(Filters[i]) for i in range(no_of_filters)])\n",
    "minimal = min([min(Filters[i]) for i in range(no_of_filters)])\n",
    "print(\"max:\",maximal,\"   min:\",minimal, \"    number of filters:\",no_of_filters)\n",
    "extreme = max(abs(maximal),abs(minimal))"
   ]
  },
  {
   "cell_type": "code",
   "execution_count": null,
   "metadata": {},
   "outputs": [
    {
     "ename": "TypeError",
     "evalue": "'AxesSubplot' object is not subscriptable",
     "output_type": "error",
     "traceback": [
      "\u001b[0;31m---------------------------------------------------------------------------\u001b[0m",
      "\u001b[0;31mTypeError\u001b[0m                                 Traceback (most recent call last)",
      "\u001b[0;32m/tmp/ipykernel_4774/3394658174.py\u001b[0m in \u001b[0;36m<module>\u001b[0;34m\u001b[0m\n\u001b[1;32m      5\u001b[0m \u001b[0mfig\u001b[0m\u001b[0;34m.\u001b[0m\u001b[0msuptitle\u001b[0m\u001b[0;34m(\u001b[0m\u001b[0;34m\"real value of filters of RBM with (all possible) symmetries without MSR\"\u001b[0m\u001b[0;34m,\u001b[0m \u001b[0mfontsize\u001b[0m\u001b[0;34m=\u001b[0m\u001b[0;36m20\u001b[0m\u001b[0;34m)\u001b[0m\u001b[0;34m\u001b[0m\u001b[0;34m\u001b[0m\u001b[0m\n\u001b[1;32m      6\u001b[0m \u001b[0;32mfor\u001b[0m \u001b[0ma\u001b[0m \u001b[0;32min\u001b[0m \u001b[0mrange\u001b[0m\u001b[0;34m(\u001b[0m\u001b[0mno_of_filters\u001b[0m\u001b[0;34m)\u001b[0m\u001b[0;34m:\u001b[0m\u001b[0;34m\u001b[0m\u001b[0;34m\u001b[0m\u001b[0m\n\u001b[0;32m----> 7\u001b[0;31m     \u001b[0mim\u001b[0m \u001b[0;34m=\u001b[0m \u001b[0maxs\u001b[0m\u001b[0;34m[\u001b[0m\u001b[0ma\u001b[0m\u001b[0;34m]\u001b[0m\u001b[0;34m.\u001b[0m\u001b[0mimshow\u001b[0m\u001b[0;34m(\u001b[0m\u001b[0mnp\u001b[0m\u001b[0;34m.\u001b[0m\u001b[0mreal\u001b[0m\u001b[0;34m(\u001b[0m\u001b[0mFilters\u001b[0m\u001b[0;34m[\u001b[0m\u001b[0ma\u001b[0m\u001b[0;34m]\u001b[0m\u001b[0;34m)\u001b[0m\u001b[0;34m.\u001b[0m\u001b[0mreshape\u001b[0m\u001b[0;34m(\u001b[0m\u001b[0mL_NUM\u001b[0m\u001b[0;34m,\u001b[0m\u001b[0mL_NUM\u001b[0m\u001b[0;34m)\u001b[0m\u001b[0;34m,\u001b[0m \u001b[0mcmap\u001b[0m\u001b[0;34m=\u001b[0m\u001b[0;34m\"RdYlBu\"\u001b[0m\u001b[0;34m,\u001b[0m \u001b[0mvmin\u001b[0m\u001b[0;34m=\u001b[0m\u001b[0;34m-\u001b[0m\u001b[0mextreme\u001b[0m\u001b[0;34m,\u001b[0m\u001b[0mvmax\u001b[0m\u001b[0;34m=\u001b[0m\u001b[0mextreme\u001b[0m\u001b[0;34m)\u001b[0m\u001b[0;31m#,interpolation=\"spline16\")\u001b[0m\u001b[0;34m\u001b[0m\u001b[0;34m\u001b[0m\u001b[0m\n\u001b[0m\u001b[1;32m      8\u001b[0m     \u001b[0maxs\u001b[0m\u001b[0;34m[\u001b[0m\u001b[0ma\u001b[0m\u001b[0;34m]\u001b[0m\u001b[0;34m.\u001b[0m\u001b[0mset_ylabel\u001b[0m\u001b[0;34m(\u001b[0m\u001b[0;34mr\"$W^{(\"\u001b[0m\u001b[0;34m+\u001b[0m\u001b[0mstr\u001b[0m\u001b[0;34m(\u001b[0m\u001b[0ma\u001b[0m\u001b[0;34m+\u001b[0m\u001b[0;36m1\u001b[0m\u001b[0;34m)\u001b[0m\u001b[0;34m+\u001b[0m\u001b[0;34mr\")}$\"\u001b[0m\u001b[0;34m,\u001b[0m \u001b[0mrotation\u001b[0m\u001b[0;34m=\u001b[0m\u001b[0;32mNone\u001b[0m\u001b[0;34m,\u001b[0m\u001b[0mfontsize\u001b[0m\u001b[0;34m=\u001b[0m\u001b[0;34m\"x-large\"\u001b[0m\u001b[0;34m,\u001b[0m\u001b[0mhorizontalalignment\u001b[0m\u001b[0;34m=\u001b[0m\u001b[0;34m\"right\"\u001b[0m\u001b[0;34m,\u001b[0m\u001b[0mverticalalignment\u001b[0m\u001b[0;34m=\u001b[0m\u001b[0;34m\"center\"\u001b[0m\u001b[0;34m)\u001b[0m\u001b[0;34m\u001b[0m\u001b[0;34m\u001b[0m\u001b[0m\n\u001b[1;32m      9\u001b[0m     \u001b[0maxs\u001b[0m\u001b[0;34m[\u001b[0m\u001b[0ma\u001b[0m\u001b[0;34m]\u001b[0m\u001b[0;34m.\u001b[0m\u001b[0mtick_params\u001b[0m\u001b[0;34m(\u001b[0m\u001b[0mleft\u001b[0m\u001b[0;34m=\u001b[0m\u001b[0;32mFalse\u001b[0m\u001b[0;34m,\u001b[0m \u001b[0mright\u001b[0m\u001b[0;34m=\u001b[0m\u001b[0;32mFalse\u001b[0m\u001b[0;34m,\u001b[0m \u001b[0mlabelleft\u001b[0m\u001b[0;34m=\u001b[0m\u001b[0;32mFalse\u001b[0m\u001b[0;34m,\u001b[0m \u001b[0mlabelbottom\u001b[0m\u001b[0;34m=\u001b[0m\u001b[0;32mFalse\u001b[0m\u001b[0;34m,\u001b[0m \u001b[0mbottom\u001b[0m\u001b[0;34m=\u001b[0m\u001b[0;32mFalse\u001b[0m\u001b[0;34m)\u001b[0m\u001b[0;34m\u001b[0m\u001b[0;34m\u001b[0m\u001b[0m\n",
      "\u001b[0;31mTypeError\u001b[0m: 'AxesSubplot' object is not subscriptable"
     ]
    },
    {
     "data": {
      "image/png": "[encoded data removed]",
      "text/plain": [
       "<Figure size 864x144 with 1 Axes>"
      ]
     },
     "metadata": {
      "needs_background": "light"
     },
     "output_type": "display_data"
    }
   ],
   "source": [
    "L_NUM = 4\n",
    "fig, axs = plt.subplots(1, no_of_filters, figsize=(12,2*no_of_filters))\n",
    "#fig.tight_layout(pad=.0)\n",
    "fig.subplots_adjust(top=1.9,bottom=0,wspace=.4)\n",
    "fig.suptitle(\"real value of filters of RBM with (all possible) symmetries without MSR\", fontsize=20)\n",
    "for a in range(no_of_filters):\n",
    "    im = axs[a].imshow(np.real(Filters[a]).reshape(L_NUM,L_NUM), cmap=\"RdYlBu\", vmin=-extreme,vmax=extreme)#,interpolation=\"spline16\")\n",
    "    axs[a].set_ylabel(r\"$W^{(\"+str(a+1)+r\")}$\", rotation=None,fontsize=\"x-large\",horizontalalignment=\"right\",verticalalignment=\"center\")\n",
    "    axs[a].tick_params(left=False, right=False, labelleft=False, labelbottom=False, bottom=False)\n",
    "\n",
    "# Now adding the colorbar\n",
    "cbar = fig.colorbar(im, ax=axs.ravel().tolist(), orientation=\"horizontal\", shrink=.4)\n",
    "\n",
    "plt.show()"
   ]
  }
 ],
 "metadata": {
  "interpreter": {
   "hash": "31f2aee4e71d21fbe5cf8b01ff0e069b9275f58929596ceb00d14d90e3e16cd6"
  },
  "kernelspec": {
   "display_name": "Python 3.8.10 64-bit",
   "name": "python3"
  },
  "language_info": {
   "codemirror_mode": {
    "name": "ipython",
    "version": 3
   },
   "file_extension": ".py",
   "mimetype": "text/x-python",
   "name": "python",
   "nbconvert_exporter": "python",
   "pygments_lexer": "ipython3",
   "version": "3.8.10"
  },
  "metadata": {
   "interpreter": {
    "hash": "916dbcbb3f70747c44a77c7bcd40155683ae19c65e1c03b4aa3499c5328201f1"
   }
  }
 },
 "nbformat": 4,
 "nbformat_minor": 4
}
