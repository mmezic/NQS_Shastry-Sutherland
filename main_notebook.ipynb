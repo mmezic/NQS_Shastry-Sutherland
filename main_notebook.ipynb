{
 "cells": [
  {
   "cell_type": "markdown",
   "metadata": {},
   "source": [
    "# Exploring Shastry-Sutterland model with neural network variational wave function"
   ]
  },
  {
   "cell_type": "code",
   "execution_count": 44,
   "metadata": {},
   "outputs": [
    {
     "name": "stdout",
     "output_type": "stream",
     "text": [
      "Python version: 3.8.10 (default, Nov 26 2021, 20:14:08) \n",
      "[GCC 9.3.0]\n",
      "NetKet version: 3.3.3\n",
      "NumPy version: 1.20.3\n"
     ]
    }
   ],
   "source": [
    "import netket as nk\n",
    "import numpy as np\n",
    "import time\n",
    "import json\n",
    "import plotly.graph_objects as go\n",
    "import matplotlib.pyplot as plt\n",
    "import jax, flax, optax\n",
    "from sys import version as pyvers\n",
    "\n",
    "print(\"Python version: {}\".format(pyvers))\n",
    "print(\"NetKet version: {}\".format(nk.__version__))\n",
    "print(\"NumPy version: {}\".format(np.__version__))"
   ]
  },
  {
   "cell_type": "markdown",
   "metadata": {},
   "source": [
    "### Setup relevant parameters of the simulation "
   ]
  },
  {
   "cell_type": "code",
   "execution_count": 45,
   "metadata": {},
   "outputs": [],
   "source": [
    "\"\"\"lattice\"\"\"\n",
    "SITES    = 8              # 4, 8, 16, 20, 36, 64, 100 ... number of particles\n",
    "JEXCH1   = .2             # nn interaction (denoted J)\n",
    "JEXCH2   = 1              # nnn interaction (denoted J')\n",
    "H_Z      = 0              # external magnetic field (denoted h)\n",
    "\n",
    "\"\"\"neural network\"\"\"\n",
    "MACHINE  = \"RBM\"          # RBM, RBM-b, sRBM, pRBM, GCNN, pmRBM, Jastrow, Jastrow+b\n",
    "DTYPE    = np.complex128  # data-type of weights in neural network (pmRBM uses always just floats)\n",
    "ALPHA    = 32             # size of the RBM, alpha = N_hidden / N_visible\n",
    "\n",
    "\"\"\"machine learning\"\"\"\n",
    "TOTAL_SZ = None           # 0, None ... restriction of Hilbert space's magnetization\n",
    "ETA      = .01            # learning rate (0.01 usually works)\n",
    "SIGMA    = .01            # initial variance of parameters (distributed according to a normal distribution)\n",
    "SAMPLER  = 'exact'        # 'local' = MetropolisLocal, 'exchange' = MetropolisExchange, 'exact' = ExactSampler\n",
    "SAMPLES  = 1000           # number of Monte Carlo samples\n",
    "NUM_ITER = 200            # number of convergence iterations\n",
    "\n",
    "\"\"\"in case of GCNN machine, shape specification is needed\"\"\"\n",
    "N_LAYERS = 2              # number of layers\n",
    "FEATURES = (8,4)          # dimensions of layers\n",
    "\n",
    "\"\"\"output file name\"\"\"\n",
    "OUT_NAME = \"SSM_\"+str(SITES)+\"j1=\"+str(JEXCH1)"
   ]
  },
  {
   "cell_type": "markdown",
   "metadata": {},
   "source": [
    "### Lattice definition\n",
    "Basic structure of tiled lattice tiles is implemented in `lattice_and_ops.py` file. Class `Lattice` implements relative positional functions, \n",
    "- e.g. *`rt(node)` returns the index of the right neighbour of a site with index `node`*\n",
    "\n",
    "The `for` loop constructs full Shastry-Sutherland lattice (with PBC) using these auxiliary positional functions."
   ]
  },
  {
   "cell_type": "code",
   "execution_count": 46,
   "metadata": {},
   "outputs": [],
   "source": [
    "from lattice_and_ops import Lattice\n",
    "lattice = Lattice(SITES)\n",
    "\n",
    "# Construction of custom graph according to tiled lattice structure defined in the Lattice class.\n",
    "edge_colors = []\n",
    "for node in range(SITES):\n",
    "    edge_colors.append([node,lattice.rt(node), 1])  # horizontal connections\n",
    "    edge_colors.append([node,lattice.bot(node), 1]) # vertical connections\n",
    "    row, column = lattice.position(node)\n",
    "    if column%2 == 0:\n",
    "        if row%2 == 0:\n",
    "            edge_colors.append([node,lattice.lrt(node),2]) # diagonal bond\n",
    "        else:\n",
    "            edge_colors.append([node,lattice.llft(node),2]) # diagonal bond\n",
    "\n",
    "g = nk.graph.Graph(edges=edge_colors)\n",
    "N = g.n_nodes\n",
    "\n",
    "hilbert = nk.hilbert.Spin(s=.5, N=g.n_nodes, total_sz=TOTAL_SZ)"
   ]
  },
  {
   "cell_type": "markdown",
   "metadata": {},
   "source": [
    "### Characters of the symmetries\n",
    "In case of GCNN or pRBM, we need to specify the characters of the symmetry transformations.\n",
    "- DS phase anti-symmetric w.r.t. permutations with negative sign and symmetric w.r.t. permutaions with postive sign\n",
    "- PS is more complicated due to double degeneracy and is not implemented here\n",
    "- AF phase is always symmetric for all permutations  "
   ]
  },
  {
   "cell_type": "code",
   "execution_count": 47,
   "metadata": {},
   "outputs": [],
   "source": [
    "if MACHINE in (\"GCNN\",\"pRBM\",\"pRBM_transl\"):\n",
    "    print(\"There are\", len(g.automorphisms()), \"in the full symmetry group.\")\n",
    "    if JEXCH1 < 0.6: # deciding point between DS and AF phase is set to 0.6\n",
    "        # DS phase is partly anti-symmetric, the (anti)symmetry is given by the permutation parity\n",
    "        characters = []\n",
    "        from lattice_and_ops import permutation_sign\n",
    "        for perm in g.automorphisms():\n",
    "            characters.append(permutation_sign(np.asarray(perm)))\n",
    "        characters_1 = np.asarray(characters,dtype=complex)\n",
    "    else:\n",
    "        # AF phase if fully symmetric, hence we set characters to ones\n",
    "        characters_1 = np.ones((len(g.automorphisms()),), dtype=complex)\n",
    "    characters_2 = np.ones((len(g.automorphisms()),), dtype=complex)"
   ]
  },
  {
   "cell_type": "markdown",
   "metadata": {},
   "source": [
    "### Translations\n",
    "\n",
    "If we want to include only translations, we have to exclude some symmetries from the set `g.automorphisms()` of all symmetry permutations.\n",
    "\n",
    "\n",
    "⚠️ WARNING ⚠️ This part is not fully automated for general lattice yet. Translations are currently being picked by hand from the group of all automorphisms."
   ]
  },
  {
   "cell_type": "code",
   "execution_count": 48,
   "metadata": {},
   "outputs": [],
   "source": [
    "if MACHINE in (\"sRBM_transl\",\"GCNN_transl\",\"pRBM_transl\"):\n",
    "    if not N in (4,16):\n",
    "        raise NotImplementedError(\"Extraction of translations from the group of automorphisms is not implemented yet.\")\n",
    "    translations = []\n",
    "    for perm in g.automorphisms():\n",
    "        aperm = np.asarray(perm)\n",
    "        if N == 4:\n",
    "            # there is no translation\n",
    "            if (aperm[0],aperm[1]) in ((0,1),(1,0),(2,3),(3,2)): \n",
    "              translations.append(nk.utils.group._permutation_group.Permutation(aperm))\n",
    "        elif N==16:\n",
    "            # there are 3 translations\n",
    "            if (aperm[0],aperm[1],aperm[3]) in ((0,1,3),(2,3,1),(8,9,11),(10,11,9)): \n",
    "                translations.append(nk.utils.group._permutation_group.Permutation(aperm))\n",
    "    translation_group = nk.utils.group._permutation_group.PermutationGroup(translations,degree=SITES)\n",
    "    print(\"Out of\", len(g.automorphisms()), \"permutations,\",len(translation_group), \"translations were picked.\")"
   ]
  },
  {
   "cell_type": "markdown",
   "metadata": {},
   "source": [
    "## Hamoltonian definition\n",
    "*Note.* Tha Hamiltonian used here differs by a factor of 4 from the Hamiltonian used in the thesis. Hence you need to devide all of the reuslts by 4 to get the same values as in the thesis. \n",
    "$$ H = J_{1} \\sum\\limits_{\\langle i,j \\rangle}^{L} \\vec{\\sigma}_{i} \\cdot \\vec{\\sigma}_{j} + J_{2} \\sum\\limits_{\\langle i,j \\rangle'}^{L}  \\vec{\\sigma}_{i} \\cdot \\vec{\\sigma}_{j} + 2h\\sum\\limits_{i} \\sigma^z_{i}\\,. $$\n",
    "\n",
    "\n",
    "\n",
    "Axiliary constant operators used to define hamiltonian are loaded from the external file. They are pre-defined in the `HamOps` class."
   ]
  },
  {
   "cell_type": "code",
   "execution_count": 49,
   "metadata": {},
   "outputs": [],
   "source": [
    "from lattice_and_ops import HamOps\n",
    "ho = HamOps()\n",
    "ha_1 = nk.operator.GraphOperator(hilbert, graph=g, bond_ops=ho.bond_operator(JEXCH1,JEXCH2, h_z=H_Z, use_MSR=False), bond_ops_colors=ho.bond_color)\n",
    "ha_2 = nk.operator.GraphOperator(hilbert, graph=g, bond_ops=ho.bond_operator(JEXCH1,JEXCH2, h_z=H_Z, use_MSR=True), bond_ops_colors=ho.bond_color)\n"
   ]
  },
  {
   "cell_type": "markdown",
   "metadata": {},
   "source": [
    "### Magnetization operator definition\n",
    "$$ \\hat{m}_z := \\sum\\limits_i \\sigma_i^z $$"
   ]
  },
  {
   "cell_type": "code",
   "execution_count": 50,
   "metadata": {},
   "outputs": [],
   "source": [
    "m_z = sum(nk.operator.spin.sigmaz(hilbert, i) for i in range(hilbert.size))\n",
    "from lattice_and_ops import Operators, Lattice\n",
    "ops = Operators(lattice,hilbert,ho.mszsz,ho.exchange)"
   ]
  },
  {
   "cell_type": "markdown",
   "metadata": {},
   "source": [
    "## Exact diagonalization in case of $N<20$"
   ]
  },
  {
   "cell_type": "code",
   "execution_count": 51,
   "metadata": {},
   "outputs": [
    {
     "name": "stdout",
     "output_type": "stream",
     "text": [
      "Ground state energy: -23.99999999999996 \n",
      "It took  1.15 s = 0.02 min\n"
     ]
    }
   ],
   "source": [
    "if g.n_nodes < 20:\n",
    "    start = time.time()\n",
    "    if g.n_nodes < 15:\n",
    "        evals, eigvects = nk.exact.full_ed(ha_1, compute_eigenvectors=True)\n",
    "    else:\n",
    "        evals, eigvects = nk.exact.lanczos_ed(ha_1, k=3, compute_eigenvectors=True)\n",
    "    end = time.time()\n",
    "    diag_time = end - start\n",
    "    print(\"Ground state energy:\",evals[0], \"\\nIt took \", round(diag_time,2), \"s =\", round((diag_time)/60,2),\"min\")\n",
    "else:\n",
    "    print(\"System is too large for exact diagonalization. Setting exact_ground_energy = 0 (which is wrong)\")\n",
    "    evals = [0,0,0]\n",
    "    eigvects = None \n",
    "exact_ground_energy = evals[0]"
   ]
  },
  {
   "cell_type": "markdown",
   "metadata": {},
   "source": [
    "# Machine learning"
   ]
  },
  {
   "cell_type": "markdown",
   "metadata": {},
   "source": [
    "## Machine definition and other auxiliary `netket` objects\n",
    "We define two sets of these objects, usually: \n",
    "- variables ending with ...`_1` are calculated in the normal basis,\n",
    "- variables ending with ...`_2` are calculated in the MSR basis.\n",
    "\n",
    "But they can be modified to be used in a different way when we need to compare two different models."
   ]
  },
  {
   "cell_type": "code",
   "execution_count": 52,
   "metadata": {},
   "outputs": [
    {
     "name": "stdout",
     "output_type": "stream",
     "text": [
      "The sRBM machine has 137 variational parameters.\n"
     ]
    }
   ],
   "source": [
    "# Selection of machine type\n",
    "if MACHINE == \"RBM\":\n",
    "    machine_1 = nk.models.RBM(dtype=DTYPE, alpha=ALPHA)\n",
    "    machine_2 = nk.models.RBM(dtype=DTYPE, alpha=ALPHA)\n",
    "elif MACHINE == \"RBM-b\":\n",
    "    machine_1 = nk.models.RBM(dtype=DTYPE, alpha=ALPHA, use_visible_bias=False) \n",
    "    machine_2 = nk.models.RBM(dtype=DTYPE, alpha=ALPHA, use_visible_bias=False)\n",
    "elif MACHINE == \"Jastrow\":\n",
    "    machine_1 = nk.models.Jastrow(dtype=DTYPE)\n",
    "    machine_2 = nk.models.Jastrow(dtype=DTYPE)\n",
    "elif MACHINE == \"Jastrow+b\":\n",
    "    from lattice_and_ops import Jastrow_b\n",
    "    machine_1 = Jastrow_b()\n",
    "    machine_2 = Jastrow_b()\n",
    "elif MACHINE == \"sRBM\":\n",
    "    machine_1 = nk.models.RBMSymm(g.automorphisms(), dtype=DTYPE, alpha=ALPHA)\n",
    "    machine_2 = nk.models.RBMSymm(g.automorphisms(), dtype=DTYPE, alpha=ALPHA)\n",
    "elif MACHINE == \"sRBM_transl\":\n",
    "    machine_1 = nk.models.RBMSymm(translation_group, dtype=DTYPE, alpha=ALPHA)\n",
    "    machine_2 = nk.models.RBMSymm(translation_group, dtype=DTYPE, alpha=ALPHA)\n",
    "elif MACHINE == \"pRBM\":\n",
    "    from pRBM import pRBM\n",
    "    machine_1 = pRBM(symmetries=g.automorphisms(), dtype=DTYPE, layers=1, features=ALPHA, characters=characters_1, output_activation=nk.nn.log_cosh, use_bias=True, use_visible_bias=True)\n",
    "    machine_2 = pRBM(symmetries=g.automorphisms(), dtype=DTYPE, layers=1, features=ALPHA, characters=characters_2, output_activation=nk.nn.log_cosh, use_bias=True, use_visible_bias=True)\n",
    "elif MACHINE == \"pRBM_transl\":\n",
    "    from pRBM import pRBM\n",
    "    machine_1 = pRBM(symmetries=translation_group, dtype=DTYPE, layers=1, features=ALPHA, characters=characters_1, output_activation=nk.nn.log_cosh, use_bias=True, use_visible_bias=True)\n",
    "    machine_2 = pRBM(symmetries=translation_group, dtype=DTYPE, layers=1, features=ALPHA, characters=characters_2, output_activation=nk.nn.log_cosh, use_bias=True, use_visible_bias=True)\n",
    "elif MACHINE == \"GCNN\":\n",
    "    machine_1 = nk.models.GCNN(symmetries=g.automorphisms(), dtype=DTYPE, layers=N_LAYERS, features=FEATURES, characters=characters_1)\n",
    "    machine_2 = nk.models.GCNN(symmetries=g.automorphisms(), dtype=DTYPE, layers=N_LAYERS, features=FEATURES, characters=characters_2)\n",
    "elif MACHINE == \"pmRBM\":\n",
    "    machine_1 = nk.models.RBMModPhase(alpha=ALPHA, use_hidden_bias=True, dtype=np.float64)\n",
    "    machine_2 = nk.models.RBMModPhase(alpha=ALPHA, use_hidden_bias=True, dtype=np.float64)\n",
    "    # A linear schedule varies the learning rate from 0 to 0.01 across 600 steps.\n",
    "    modulus_schedule_1=optax.linear_schedule(0,0.01,NUM_ITER)\n",
    "    modulus_schedule_2=optax.linear_schedule(0,0.01,NUM_ITER)\n",
    "    # The phase starts with a larger learning rate and then is decreased.\n",
    "    phase_schedule_1=optax.linear_schedule(0.05,0.01,NUM_ITER)\n",
    "    phase_schedule_2=optax.linear_schedule(0.05,0.01,NUM_ITER)\n",
    "    # Combine the linear schedule with SGD\n",
    "    optm_1=optax.sgd(modulus_schedule_1)\n",
    "    optp_1=optax.sgd(phase_schedule_1)\n",
    "    optm_2=optax.sgd(modulus_schedule_2)\n",
    "    optp_2=optax.sgd(phase_schedule_2)\n",
    "    # The multi-transform optimizer uses different optimisers for different parts of the parameters.\n",
    "    optimizer_1 = optax.multi_transform({'o1': optm_1, 'o2': optp_1}, flax.core.freeze({\"Dense_0\":\"o1\", \"Dense_1\":\"o2\"}))\n",
    "    optimizer_2 = optax.multi_transform({'o1': optm_2, 'o2': optp_2}, flax.core.freeze({\"Dense_0\":\"o1\", \"Dense_1\":\"o2\"}))\n",
    "else:\n",
    "    raise Exception(str(\"undefined MACHINE: \")+str(MACHINE))\n",
    "\n",
    "# Selection of sampler type\n",
    "if SAMPLER == 'local':\n",
    "    sampler_1 = nk.sampler.MetropolisLocal(hilbert=hilbert)\n",
    "    sampler_2 = nk.sampler.MetropolisLocal(hilbert=hilbert)\n",
    "elif SAMPLER == 'exact':\n",
    "    sampler_1 = nk.sampler.ExactSampler(hilbert=hilbert)\n",
    "    sampler_2 = nk.sampler.ExactSampler(hilbert=hilbert)\n",
    "else:\n",
    "    sampler_1 = nk.sampler.MetropolisExchange(hilbert=hilbert, graph=g)\n",
    "    sampler_2 = nk.sampler.MetropolisExchange(hilbert=hilbert, graph=g)\n",
    "    if SAMPLER != 'exchange':\n",
    "        print(\"Warning! Undefined cf.SAMPLER:\", SAMPLER, \", dafaulting to MetropolisExchange cf.SAMPLER\")\n",
    "\n",
    "if MACHINE != \"pmRBM\":\n",
    "    optimizer_1 = nk.optimizer.Sgd(learning_rate=ETA)\n",
    "    optimizer_2 = nk.optimizer.Sgd(learning_rate=ETA)\n",
    "\n",
    "# Stochastic Reconfiguration as a preconditioner\n",
    "sr_1  = nk.optimizer.SR(diag_shift=0.01)\n",
    "sr_2  = nk.optimizer.SR(diag_shift=0.01)\n",
    "\n",
    "# The variational state (former name: nk.variational.MCState)\n",
    "vs_1 = nk.vqs.MCState(sampler_1 , machine_1 , n_samples=SAMPLES)\n",
    "vs_2 = nk.vqs.MCState(sampler_2 , machine_2 , n_samples=SAMPLES)\n",
    "vs_1.init_parameters(jax.nn.initializers.normal(stddev=SIGMA))\n",
    "vs_2.init_parameters(jax.nn.initializers.normal(stddev=SIGMA))\n",
    "print(\"The\",MACHINE,\"machine has\",vs_1.n_parameters,\"variational parameters.\")\n",
    "\n",
    "gs_1 = nk.VMC(hamiltonian=ha_1 ,optimizer=optimizer_1 ,preconditioner=sr_1 ,variational_state=vs_1)\n",
    "gs_2 = nk.VMC(hamiltonian=ha_2 ,optimizer=optimizer_2 ,preconditioner=sr_2 ,variational_state=vs_2) "
   ]
  },
  {
   "cell_type": "markdown",
   "metadata": {},
   "source": [
    "# Calculation\n",
    "We let the calculation run for `NUM_ITERS` iterations for both cases _1 and _2 (without MSR and with MSR). If only one case is desired, set `runs` variable to `[1,0]` or `[0,1]`."
   ]
  },
  {
   "cell_type": "code",
   "execution_count": 53,
   "metadata": {},
   "outputs": [
    {
     "name": "stdout",
     "output_type": "stream",
     "text": [
      "J_1 = 0.2 ; H_Z = 0; Expected exact energy: -23.99999999999996\n"
     ]
    },
    {
     "name": "stderr",
     "output_type": "stream",
     "text": [
      "100%|██████████| 200/200 [04:43<00:00,  1.42s/it, Energy=-23.999976-0.000014j ± 0.000088 [σ²=0.000007]]\n"
     ]
    },
    {
     "name": "stdout",
     "output_type": "stream",
     "text": [
      "The calculation for sRBM in normal basis took 4.8384570201237995 min\n"
     ]
    },
    {
     "name": "stderr",
     "output_type": "stream",
     "text": [
      "100%|██████████| 200/200 [04:56<00:00,  1.48s/it, Energy=-8.000e+00+1.727e-21j ± 1.708e-36 [σ²=4.149e-31]]"
     ]
    },
    {
     "name": "stdout",
     "output_type": "stream",
     "text": [
      "The calculation for sRBM in MSR basis took 4.959580759207408 min\n"
     ]
    },
    {
     "name": "stderr",
     "output_type": "stream",
     "text": [
      "\n"
     ]
    }
   ],
   "source": [
    "runs = [1,1] # run_MSR, run_normal\n",
    "no_of_runs = np.sum(runs)\n",
    "run_only_2 = (runs[1]==1 and runs[0]==0) # useful only in case of no_of_runs=1\n",
    "print(\"J_1 =\", JEXCH1,\"; H_Z =\",H_Z, end=\"; \")\n",
    "if exact_ground_energy != 0:\n",
    "    print(\"Expected exact energy:\", exact_ground_energy)\n",
    "for i,gs in enumerate([gs_1,gs_2][run_only_2:run_only_2+no_of_runs]):\n",
    "    start = time.time()\n",
    "    gs.run(out=OUT_NAME+str(i), n_iter=int(NUM_ITER))\n",
    "    end = time.time()\n",
    "    print(\"The calculation for {} in {} basis took {} min\".format(MACHINE, \"MSR\" if i else \"normal\", (end-start)/60))\n"
   ]
  },
  {
   "cell_type": "markdown",
   "metadata": {},
   "source": [
    "## Energy Convergence Plotting\n",
    "In case that the machine did not converge, we can re-run the previous cell and than skip the next cell. This way, the replotting just appends the new results and does not erase the previoius results. "
   ]
  },
  {
   "cell_type": "code",
   "execution_count": 54,
   "metadata": {},
   "outputs": [],
   "source": [
    "# Exact Energy Line\n",
    "no_of_all_iters = NUM_ITER\n",
    "figure = go.Figure(\n",
    "    data=[\n",
    "        go.Scatter(\n",
    "            x=(0,no_of_all_iters),\n",
    "            y=(exact_ground_energy,exact_ground_energy),\n",
    "            mode=\"lines\",line=go.scatter.Line(color=\"#000000\",width=1), name=\"exact energy\")],\n",
    "    layout=go.Layout(\n",
    "        template=\"simple_white\",\n",
    "        xaxis=dict(title=\"Iteration\", mirror=True, showline=True),\n",
    "        yaxis=dict(title=\"Energy\", mirror=True, showline=True),\n",
    "        title=(\"<b>\"+\"S-S\"+\" model </b>, N=\"+str(SITES)+\", J2 =\"+str(JEXCH2)+ \", J1 =\"+str(JEXCH1)+\" , η=\"+str(ETA)+\", α=\"+str(ALPHA)+\", samples=\"+str(SAMPLES)))\n",
    "    ).add_hline(y=exact_ground_energy, opacity=1, line_width=1)\n"
   ]
  },
  {
   "cell_type": "code",
   "execution_count": 55,
   "metadata": {},
   "outputs": [
    {
     "data": {
      "application/vnd.plotly.v1+json": {
       "config": {
        "plotlyServerURL": "https://plot.ly"
       },
       "data": [
        {
         "line": {
          "color": "#000000",
          "width": 1
         },
         "mode": "lines",
         "name": "exact energy",
         "type": "scatter",
         "x": [
          0,
          200
         ],
         "y": [
          -23.99999999999996,
          -23.99999999999996
         ]
        },
        {
         "name": "normal",
         "type": "scatter",
         "x": [
          0,
          1,
          2,
          3,
          4,
          5,
          6,
          7,
          8,
          9,
          10,
          11,
          12,
          13,
          14,
          15,
          16,
          17,
          18,
          19,
          20,
          21,
          22,
          23,
          24,
          25,
          26,
          27,
          28,
          29,
          30,
          31,
          32,
          33,
          34,
          35,
          36,
          37,
          38,
          39,
          40,
          41,
          42,
          43,
          44,
          45,
          46,
          47,
          48,
          49,
          50,
          51,
          52,
          53,
          54,
          55,
          56,
          57,
          58,
          59,
          60,
          61,
          62,
          63,
          64,
          65,
          66,
          67,
          68,
          69,
          70,
          71,
          72,
          73,
          74,
          75,
          76,
          77,
          78,
          79,
          80,
          81,
          82,
          83,
          84,
          85,
          86,
          87,
          88,
          89,
          90,
          91,
          92,
          93,
          94,
          95,
          96,
          97,
          98,
          99,
          100,
          101,
          102,
          103,
          104,
          105,
          106,
          107,
          108,
          109,
          110,
          111,
          112,
          113,
          114,
          115,
          116,
          117,
          118,
          119,
          120,
          121,
          122,
          123,
          124,
          125,
          126,
          127,
          128,
          129,
          130,
          131,
          132,
          133,
          134,
          135,
          136,
          137,
          138,
          139,
          140,
          141,
          142,
          143,
          144,
          145,
          146,
          147,
          148,
          149,
          150,
          151,
          152,
          153,
          154,
          155,
          156,
          157,
          158,
          159,
          160,
          161,
          162,
          163,
          164,
          165,
          166,
          167,
          168,
          169,
          170,
          171,
          172,
          173,
          174,
          175,
          176,
          177,
          178,
          179,
          180,
          181,
          182,
          183,
          184,
          185,
          186,
          187,
          188,
          189,
          190,
          191,
          192,
          193,
          194,
          195,
          196,
          197,
          198,
          199
         ],
         "y": [
          14.398886776712402,
          14.403802169730968,
          14.393481613960981,
          14.392440514611842,
          14.393962950249998,
          14.380886450351493,
          14.38332944896509,
          14.372741022061797,
          14.381351593709034,
          14.37524656748084,
          14.382924135739355,
          14.35158943636436,
          14.371535614851403,
          14.361651267080243,
          14.342492070421741,
          14.359030873354806,
          14.35038978149923,
          14.326505154282229,
          14.313081720864485,
          14.312767846824926,
          14.244591896300271,
          14.251056231119028,
          14.165960508052597,
          14.188486100346728,
          14.117311213927524,
          14.046896578151395,
          14.014117496861731,
          13.92373622139532,
          13.714854451046945,
          13.637664870558622,
          13.483987898287545,
          13.386902580153848,
          13.041870169282944,
          12.669192311273413,
          12.162501160526787,
          11.944028434521686,
          11.53207826060246,
          10.86603239236999,
          10.006759242234503,
          9.653967181455169,
          8.41106078761843,
          6.817949807737413,
          4.6173575799438185,
          3.4547288794451827,
          2.8081377824164515,
          1.2422018533101273,
          -0.29048204010852224,
          -1.8648064045949155,
          -3.7297546173985534,
          -4.869972874513987,
          -6.263287664942581,
          -7.8709335596450325,
          -9.477313770702786,
          -10.425072521921987,
          -11.894135869252462,
          -12.880271195529662,
          -14.170510279752184,
          -15.076717465752196,
          -16.055395752064307,
          -16.85007215347106,
          -17.591382781960913,
          -18.56653741516019,
          -18.86719095733552,
          -19.472532400195966,
          -20.535125533550698,
          -20.71071262818638,
          -20.98756237593175,
          -21.207737685372006,
          -21.746562425696634,
          -21.990156255512545,
          -22.320562163407295,
          -22.807876918389425,
          -22.65663108868681,
          -23.009482624147314,
          -23.11731203963042,
          -23.189614111330457,
          -23.334962323714223,
          -23.379582371115642,
          -23.5218763012132,
          -23.59832700510681,
          -23.576713816761895,
          -23.770681582227194,
          -23.7528358206398,
          -23.792021275192887,
          -23.8234830496647,
          -23.80001924827243,
          -23.799662282868912,
          -23.920839613010948,
          -23.94813790004791,
          -23.9571263901737,
          -23.938525812924834,
          -23.945693025275002,
          -23.95914689506077,
          -23.9391197438839,
          -23.946916189555186,
          -23.963041264746465,
          -23.961954390688604,
          -23.99178072365837,
          -23.991240143347714,
          -23.980307358350625,
          -23.980909247900247,
          -23.981297204344383,
          -23.966650992469724,
          -23.99648936797515,
          -24.000855959502726,
          -23.989654523794233,
          -23.999725137133126,
          -23.999186039726766,
          -24.000227126681185,
          -23.99109963599083,
          -23.984318016084504,
          -23.99885172245627,
          -23.991001181285963,
          -23.999863534754958,
          -23.99261515279096,
          -24.000308273268846,
          -24.000621908895777,
          -24.000873122909965,
          -23.99931625105587,
          -23.991051447520825,
          -23.99269605005812,
          -23.999453814883008,
          -24.000330613456317,
          -23.991913324967012,
          -23.991867018694407,
          -23.99237186621182,
          -24.0002009379808,
          -23.999902652103508,
          -23.999621244240707,
          -24.00027546117455,
          -23.992666246487484,
          -23.992464926578865,
          -24.00021623681439,
          -23.991113908234826,
          -23.999813187347716,
          -23.999994622079896,
          -23.990585386168146,
          -24.00017803440745,
          -24.00005466930009,
          -24.00012207887767,
          -23.99987336182263,
          -23.99228059869967,
          -23.999875257702005,
          -24.000244980232907,
          -23.99970942836476,
          -24.00004842519977,
          -24.00006518321288,
          -23.99988574756801,
          -23.999919547336187,
          -23.99993542500971,
          -23.999929852984824,
          -23.992238137301538,
          -24.000075974257125,
          -23.99993789890921,
          -23.999995490833633,
          -23.999965888116023,
          -24.000040303519476,
          -23.99999407875247,
          -24.000132440562403,
          -24.00006831980646,
          -23.999890296550394,
          -24.000048177638412,
          -23.99984310285838,
          -24.00002251082262,
          -23.999972358501196,
          -24.000054401457668,
          -23.999968692979994,
          -24.000074032295416,
          -23.992093370049275,
          -23.99997555808052,
          -24.000084294870227,
          -23.992658550151774,
          -23.999947294106022,
          -23.999875039786957,
          -24.00003217704438,
          -23.99211587879919,
          -24.000022224168045,
          -24.000064230447514,
          -24.00001061880555,
          -23.999874417823182,
          -23.999986378470425,
          -24.000064165908338,
          -23.999984769171828,
          -24.00001190970594,
          -23.999933878432866,
          -24.000051739273456,
          -23.99216567226069,
          -23.992547780411428,
          -23.999964435904978,
          -23.99998347121673,
          -23.991881506864658,
          -24.000014414029785,
          -23.991982437340763,
          -24.000011178748217,
          -23.999973381055852,
          -24.0001051707842,
          -23.99992666998928,
          -23.999985336317817,
          -24.00015641263211,
          -23.999975677789298
         ]
        },
        {
         "name": "MSR",
         "type": "scatter",
         "x": [
          0,
          1,
          2,
          3,
          4,
          5,
          6,
          7,
          8,
          9,
          10,
          11,
          12,
          13,
          14,
          15,
          16,
          17,
          18,
          19,
          20,
          21,
          22,
          23,
          24,
          25,
          26,
          27,
          28,
          29,
          30,
          31,
          32,
          33,
          34,
          35,
          36,
          37,
          38,
          39,
          40,
          41,
          42,
          43,
          44,
          45,
          46,
          47,
          48,
          49,
          50,
          51,
          52,
          53,
          54,
          55,
          56,
          57,
          58,
          59,
          60,
          61,
          62,
          63,
          64,
          65,
          66,
          67,
          68,
          69,
          70,
          71,
          72,
          73,
          74,
          75,
          76,
          77,
          78,
          79,
          80,
          81,
          82,
          83,
          84,
          85,
          86,
          87,
          88,
          89,
          90,
          91,
          92,
          93,
          94,
          95,
          96,
          97,
          98,
          99,
          100,
          101,
          102,
          103,
          104,
          105,
          106,
          107,
          108,
          109,
          110,
          111,
          112,
          113,
          114,
          115,
          116,
          117,
          118,
          119,
          120,
          121,
          122,
          123,
          124,
          125,
          126,
          127,
          128,
          129,
          130,
          131,
          132,
          133,
          134,
          135,
          136,
          137,
          138,
          139,
          140,
          141,
          142,
          143,
          144,
          145,
          146,
          147,
          148,
          149,
          150,
          151,
          152,
          153,
          154,
          155,
          156,
          157,
          158,
          159,
          160,
          161,
          162,
          163,
          164,
          165,
          166,
          167,
          168,
          169,
          170,
          171,
          172,
          173,
          174,
          175,
          176,
          177,
          178,
          179,
          180,
          181,
          182,
          183,
          184,
          185,
          186,
          187,
          188,
          189,
          190,
          191,
          192,
          193,
          194,
          195,
          196,
          197,
          198,
          199
         ],
         "y": [
          1.682202260814517,
          1.5101643619276217,
          1.4305454854616089,
          1.1568692022954028,
          1.1575193419929688,
          1.2393071219906815,
          0.9946125596138313,
          0.9236115169969812,
          0.7337417758767669,
          0.7659644510606447,
          0.6091417623046973,
          0.5319578204873529,
          0.4482403189132831,
          0.231589911938135,
          0.22996594232819137,
          0.062180193940185285,
          -0.05194095026502838,
          -0.07994041754500009,
          -0.21936157291495098,
          -0.3064212939053698,
          -0.35665443940940383,
          -0.4781130485058709,
          -0.5891879039870183,
          -0.6303081227866981,
          -0.7513034892090981,
          -0.8214423108431339,
          -1.029608334822411,
          -1.1305579517451925,
          -1.0429594255730326,
          -1.2962905733616301,
          -1.2533594033811297,
          -1.4764161530465685,
          -1.437149096584185,
          -1.598490975726441,
          -1.7581720607501177,
          -1.8244341425402355,
          -1.8073861050400215,
          -1.9662227760560544,
          -2.0060204844682743,
          -1.944416105393645,
          -2.076099300491579,
          -2.149642562263757,
          -2.3240062517860305,
          -2.411881609916381,
          -2.3668237251081456,
          -2.619664351199372,
          -2.6670567600483333,
          -2.840425019438935,
          -2.7208317741458066,
          -2.861715485506492,
          -3.0236865619307887,
          -3.0121655445039752,
          -3.0586227510880653,
          -3.217217345923539,
          -3.3636318778649086,
          -3.4017475123666765,
          -3.518182803323125,
          -3.430826401750567,
          -3.63573168354259,
          -3.6452025061106714,
          -3.834495276720493,
          -3.9276180738377025,
          -3.9487084800817045,
          -4.06591637937589,
          -4.043004354891863,
          -4.2112030833231975,
          -4.31851472619256,
          -4.401590765373472,
          -4.53942712785901,
          -4.5259391253567465,
          -4.541456938618683,
          -4.679958771968652,
          -4.847645793037324,
          -4.80498774454138,
          1.2279357968602662,
          1.0699088636136134,
          0.6419971283849419,
          0.5651746123078738,
          0.15753697583501425,
          -0.05998388472181941,
          -0.607696352828579,
          -0.9939603221741101,
          -1.2022669493490792,
          -1.7508278031580824,
          -1.9103183146926188,
          -2.3733006252624227,
          -2.6365594165547526,
          -2.7961597294172744,
          -3.3716675687285447,
          -3.7381431614581317,
          -3.6883411779881765,
          0.43060179147292504,
          0.07315151763999624,
          0.0657447041544041,
          0.07368459820511566,
          0.08846051557099145,
          0.06883251463749543,
          0.07311689331852989,
          0.1557094109444676,
          -0.04042349711354724,
          -0.0024431861753562174,
          -0.10832294036541362,
          -0.261055455142714,
          -0.3905830663182217,
          -0.5977526678282417,
          -0.6225708337459975,
          -0.8505876242693399,
          -0.9284268186509576,
          -0.9734149980559882,
          -1.1833447993516912,
          -1.326339500165561,
          -1.3005954074094108,
          -1.4687033975083257,
          -1.5546199327665793,
          -1.5998617963235329,
          -1.5707890297212248,
          -1.672380812843603,
          -1.69164225270194,
          -1.8202202310372555,
          -1.826148771032561,
          -2.003246946458209,
          -1.9719786832430894,
          -1.987736621755285,
          -2.2290931112407453,
          -2.2311625596372116,
          -2.3280260284312577,
          -2.324622185734668,
          -2.306588014325721,
          -2.562769022661081,
          -2.577262309674538,
          -2.6435123776164984,
          -2.6992105740612673,
          -2.7704207847060096,
          -2.8250574468913383,
          -2.890412815351979,
          -2.9122143325021197,
          -2.8011203310137973,
          -3.037479746422698,
          -3.1020907865335885,
          -3.2348531420601363,
          -3.1904748205530953,
          -3.196532620491504,
          -3.247339648155288,
          -3.495927931688832,
          -3.2879430893670625,
          -3.4140921956624397,
          -3.413196519952564,
          -3.4839023748902496,
          -3.5133933543179627,
          -3.6853047560002787,
          -3.703180105514227,
          -3.7185036305218953,
          -3.824078891464047,
          -3.978853034460566,
          -3.976478415591242,
          -3.988599558735428,
          -4.1421975166184914,
          -4.353267050943453,
          -4.394950968073013,
          -4.446115045108839,
          -4.369426989939895,
          -4.6085177072953565,
          -4.803789717254733,
          -4.943639957382589,
          -4.9932011224387685,
          -5.087691452573614,
          -5.186090550309541,
          -5.446232362139393,
          -5.716236282603971,
          -5.755138985404722,
          -5.764942937068585,
          -6.027125373257269,
          -6.258228571916918,
          -6.312201786837457,
          -6.554094589779085,
          -6.645175160098355,
          -6.850221668108245,
          4.626821931081968,
          -8,
          -8,
          -8,
          -8,
          -8,
          -8,
          -8,
          -8,
          -8,
          -8,
          -8,
          -8,
          -8,
          -8,
          -8,
          -8,
          -8,
          -8,
          -8,
          -8,
          -8,
          -8
         ]
        }
       ],
       "layout": {
        "shapes": [
         {
          "line": {
           "width": 1
          },
          "opacity": 1,
          "type": "line",
          "x0": 0,
          "x1": 1,
          "xref": "x domain",
          "y0": -23.99999999999996,
          "y1": -23.99999999999996,
          "yref": "y"
         }
        ],
        "template": {
         "data": {
          "bar": [
           {
            "error_x": {
             "color": "rgb(36,36,36)"
            },
            "error_y": {
             "color": "rgb(36,36,36)"
            },
            "marker": {
             "line": {
              "color": "white",
              "width": 0.5
             },
             "pattern": {
              "fillmode": "overlay",
              "size": 10,
              "solidity": 0.2
             }
            },
            "type": "bar"
           }
          ],
          "barpolar": [
           {
            "marker": {
             "line": {
              "color": "white",
              "width": 0.5
             },
             "pattern": {
              "fillmode": "overlay",
              "size": 10,
              "solidity": 0.2
             }
            },
            "type": "barpolar"
           }
          ],
          "carpet": [
           {
            "aaxis": {
             "endlinecolor": "rgb(36,36,36)",
             "gridcolor": "white",
             "linecolor": "white",
             "minorgridcolor": "white",
             "startlinecolor": "rgb(36,36,36)"
            },
            "baxis": {
             "endlinecolor": "rgb(36,36,36)",
             "gridcolor": "white",
             "linecolor": "white",
             "minorgridcolor": "white",
             "startlinecolor": "rgb(36,36,36)"
            },
            "type": "carpet"
           }
          ],
          "choropleth": [
           {
            "colorbar": {
             "outlinewidth": 1,
             "tickcolor": "rgb(36,36,36)",
             "ticks": "outside"
            },
            "type": "choropleth"
           }
          ],
          "contour": [
           {
            "colorbar": {
             "outlinewidth": 1,
             "tickcolor": "rgb(36,36,36)",
             "ticks": "outside"
            },
            "colorscale": [
             [
              0,
              "#440154"
             ],
             [
              0.1111111111111111,
              "#482878"
             ],
             [
              0.2222222222222222,
              "#3e4989"
             ],
             [
              0.3333333333333333,
              "#31688e"
             ],
             [
              0.4444444444444444,
              "#26828e"
             ],
             [
              0.5555555555555556,
              "#1f9e89"
             ],
             [
              0.6666666666666666,
              "#35b779"
             ],
             [
              0.7777777777777778,
              "#6ece58"
             ],
             [
              0.8888888888888888,
              "#b5de2b"
             ],
             [
              1,
              "#fde725"
             ]
            ],
            "type": "contour"
           }
          ],
          "contourcarpet": [
           {
            "colorbar": {
             "outlinewidth": 1,
             "tickcolor": "rgb(36,36,36)",
             "ticks": "outside"
            },
            "type": "contourcarpet"
           }
          ],
          "heatmap": [
           {
            "colorbar": {
             "outlinewidth": 1,
             "tickcolor": "rgb(36,36,36)",
             "ticks": "outside"
            },
            "colorscale": [
             [
              0,
              "#440154"
             ],
             [
              0.1111111111111111,
              "#482878"
             ],
             [
              0.2222222222222222,
              "#3e4989"
             ],
             [
              0.3333333333333333,
              "#31688e"
             ],
             [
              0.4444444444444444,
              "#26828e"
             ],
             [
              0.5555555555555556,
              "#1f9e89"
             ],
             [
              0.6666666666666666,
              "#35b779"
             ],
             [
              0.7777777777777778,
              "#6ece58"
             ],
             [
              0.8888888888888888,
              "#b5de2b"
             ],
             [
              1,
              "#fde725"
             ]
            ],
            "type": "heatmap"
           }
          ],
          "heatmapgl": [
           {
            "colorbar": {
             "outlinewidth": 1,
             "tickcolor": "rgb(36,36,36)",
             "ticks": "outside"
            },
            "colorscale": [
             [
              0,
              "#440154"
             ],
             [
              0.1111111111111111,
              "#482878"
             ],
             [
              0.2222222222222222,
              "#3e4989"
             ],
             [
              0.3333333333333333,
              "#31688e"
             ],
             [
              0.4444444444444444,
              "#26828e"
             ],
             [
              0.5555555555555556,
              "#1f9e89"
             ],
             [
              0.6666666666666666,
              "#35b779"
             ],
             [
              0.7777777777777778,
              "#6ece58"
             ],
             [
              0.8888888888888888,
              "#b5de2b"
             ],
             [
              1,
              "#fde725"
             ]
            ],
            "type": "heatmapgl"
           }
          ],
          "histogram": [
           {
            "marker": {
             "line": {
              "color": "white",
              "width": 0.6
             }
            },
            "type": "histogram"
           }
          ],
          "histogram2d": [
           {
            "colorbar": {
             "outlinewidth": 1,
             "tickcolor": "rgb(36,36,36)",
             "ticks": "outside"
            },
            "colorscale": [
             [
              0,
              "#440154"
             ],
             [
              0.1111111111111111,
              "#482878"
             ],
             [
              0.2222222222222222,
              "#3e4989"
             ],
             [
              0.3333333333333333,
              "#31688e"
             ],
             [
              0.4444444444444444,
              "#26828e"
             ],
             [
              0.5555555555555556,
              "#1f9e89"
             ],
             [
              0.6666666666666666,
              "#35b779"
             ],
             [
              0.7777777777777778,
              "#6ece58"
             ],
             [
              0.8888888888888888,
              "#b5de2b"
             ],
             [
              1,
              "#fde725"
             ]
            ],
            "type": "histogram2d"
           }
          ],
          "histogram2dcontour": [
           {
            "colorbar": {
             "outlinewidth": 1,
             "tickcolor": "rgb(36,36,36)",
             "ticks": "outside"
            },
            "colorscale": [
             [
              0,
              "#440154"
             ],
             [
              0.1111111111111111,
              "#482878"
             ],
             [
              0.2222222222222222,
              "#3e4989"
             ],
             [
              0.3333333333333333,
              "#31688e"
             ],
             [
              0.4444444444444444,
              "#26828e"
             ],
             [
              0.5555555555555556,
              "#1f9e89"
             ],
             [
              0.6666666666666666,
              "#35b779"
             ],
             [
              0.7777777777777778,
              "#6ece58"
             ],
             [
              0.8888888888888888,
              "#b5de2b"
             ],
             [
              1,
              "#fde725"
             ]
            ],
            "type": "histogram2dcontour"
           }
          ],
          "mesh3d": [
           {
            "colorbar": {
             "outlinewidth": 1,
             "tickcolor": "rgb(36,36,36)",
             "ticks": "outside"
            },
            "type": "mesh3d"
           }
          ],
          "parcoords": [
           {
            "line": {
             "colorbar": {
              "outlinewidth": 1,
              "tickcolor": "rgb(36,36,36)",
              "ticks": "outside"
             }
            },
            "type": "parcoords"
           }
          ],
          "pie": [
           {
            "automargin": true,
            "type": "pie"
           }
          ],
          "scatter": [
           {
            "marker": {
             "colorbar": {
              "outlinewidth": 1,
              "tickcolor": "rgb(36,36,36)",
              "ticks": "outside"
             }
            },
            "type": "scatter"
           }
          ],
          "scatter3d": [
           {
            "line": {
             "colorbar": {
              "outlinewidth": 1,
              "tickcolor": "rgb(36,36,36)",
              "ticks": "outside"
             }
            },
            "marker": {
             "colorbar": {
              "outlinewidth": 1,
              "tickcolor": "rgb(36,36,36)",
              "ticks": "outside"
             }
            },
            "type": "scatter3d"
           }
          ],
          "scattercarpet": [
           {
            "marker": {
             "colorbar": {
              "outlinewidth": 1,
              "tickcolor": "rgb(36,36,36)",
              "ticks": "outside"
             }
            },
            "type": "scattercarpet"
           }
          ],
          "scattergeo": [
           {
            "marker": {
             "colorbar": {
              "outlinewidth": 1,
              "tickcolor": "rgb(36,36,36)",
              "ticks": "outside"
             }
            },
            "type": "scattergeo"
           }
          ],
          "scattergl": [
           {
            "marker": {
             "colorbar": {
              "outlinewidth": 1,
              "tickcolor": "rgb(36,36,36)",
              "ticks": "outside"
             }
            },
            "type": "scattergl"
           }
          ],
          "scattermapbox": [
           {
            "marker": {
             "colorbar": {
              "outlinewidth": 1,
              "tickcolor": "rgb(36,36,36)",
              "ticks": "outside"
             }
            },
            "type": "scattermapbox"
           }
          ],
          "scatterpolar": [
           {
            "marker": {
             "colorbar": {
              "outlinewidth": 1,
              "tickcolor": "rgb(36,36,36)",
              "ticks": "outside"
             }
            },
            "type": "scatterpolar"
           }
          ],
          "scatterpolargl": [
           {
            "marker": {
             "colorbar": {
              "outlinewidth": 1,
              "tickcolor": "rgb(36,36,36)",
              "ticks": "outside"
             }
            },
            "type": "scatterpolargl"
           }
          ],
          "scatterternary": [
           {
            "marker": {
             "colorbar": {
              "outlinewidth": 1,
              "tickcolor": "rgb(36,36,36)",
              "ticks": "outside"
             }
            },
            "type": "scatterternary"
           }
          ],
          "surface": [
           {
            "colorbar": {
             "outlinewidth": 1,
             "tickcolor": "rgb(36,36,36)",
             "ticks": "outside"
            },
            "colorscale": [
             [
              0,
              "#440154"
             ],
             [
              0.1111111111111111,
              "#482878"
             ],
             [
              0.2222222222222222,
              "#3e4989"
             ],
             [
              0.3333333333333333,
              "#31688e"
             ],
             [
              0.4444444444444444,
              "#26828e"
             ],
             [
              0.5555555555555556,
              "#1f9e89"
             ],
             [
              0.6666666666666666,
              "#35b779"
             ],
             [
              0.7777777777777778,
              "#6ece58"
             ],
             [
              0.8888888888888888,
              "#b5de2b"
             ],
             [
              1,
              "#fde725"
             ]
            ],
            "type": "surface"
           }
          ],
          "table": [
           {
            "cells": {
             "fill": {
              "color": "rgb(237,237,237)"
             },
             "line": {
              "color": "white"
             }
            },
            "header": {
             "fill": {
              "color": "rgb(217,217,217)"
             },
             "line": {
              "color": "white"
             }
            },
            "type": "table"
           }
          ]
         },
         "layout": {
          "annotationdefaults": {
           "arrowhead": 0,
           "arrowwidth": 1
          },
          "autotypenumbers": "strict",
          "coloraxis": {
           "colorbar": {
            "outlinewidth": 1,
            "tickcolor": "rgb(36,36,36)",
            "ticks": "outside"
           }
          },
          "colorscale": {
           "diverging": [
            [
             0,
             "rgb(103,0,31)"
            ],
            [
             0.1,
             "rgb(178,24,43)"
            ],
            [
             0.2,
             "rgb(214,96,77)"
            ],
            [
             0.3,
             "rgb(244,165,130)"
            ],
            [
             0.4,
             "rgb(253,219,199)"
            ],
            [
             0.5,
             "rgb(247,247,247)"
            ],
            [
             0.6,
             "rgb(209,229,240)"
            ],
            [
             0.7,
             "rgb(146,197,222)"
            ],
            [
             0.8,
             "rgb(67,147,195)"
            ],
            [
             0.9,
             "rgb(33,102,172)"
            ],
            [
             1,
             "rgb(5,48,97)"
            ]
           ],
           "sequential": [
            [
             0,
             "#440154"
            ],
            [
             0.1111111111111111,
             "#482878"
            ],
            [
             0.2222222222222222,
             "#3e4989"
            ],
            [
             0.3333333333333333,
             "#31688e"
            ],
            [
             0.4444444444444444,
             "#26828e"
            ],
            [
             0.5555555555555556,
             "#1f9e89"
            ],
            [
             0.6666666666666666,
             "#35b779"
            ],
            [
             0.7777777777777778,
             "#6ece58"
            ],
            [
             0.8888888888888888,
             "#b5de2b"
            ],
            [
             1,
             "#fde725"
            ]
           ],
           "sequentialminus": [
            [
             0,
             "#440154"
            ],
            [
             0.1111111111111111,
             "#482878"
            ],
            [
             0.2222222222222222,
             "#3e4989"
            ],
            [
             0.3333333333333333,
             "#31688e"
            ],
            [
             0.4444444444444444,
             "#26828e"
            ],
            [
             0.5555555555555556,
             "#1f9e89"
            ],
            [
             0.6666666666666666,
             "#35b779"
            ],
            [
             0.7777777777777778,
             "#6ece58"
            ],
            [
             0.8888888888888888,
             "#b5de2b"
            ],
            [
             1,
             "#fde725"
            ]
           ]
          },
          "colorway": [
           "#1F77B4",
           "#FF7F0E",
           "#2CA02C",
           "#D62728",
           "#9467BD",
           "#8C564B",
           "#E377C2",
           "#7F7F7F",
           "#BCBD22",
           "#17BECF"
          ],
          "font": {
           "color": "rgb(36,36,36)"
          },
          "geo": {
           "bgcolor": "white",
           "lakecolor": "white",
           "landcolor": "white",
           "showlakes": true,
           "showland": true,
           "subunitcolor": "white"
          },
          "hoverlabel": {
           "align": "left"
          },
          "hovermode": "closest",
          "mapbox": {
           "style": "light"
          },
          "paper_bgcolor": "white",
          "plot_bgcolor": "white",
          "polar": {
           "angularaxis": {
            "gridcolor": "rgb(232,232,232)",
            "linecolor": "rgb(36,36,36)",
            "showgrid": false,
            "showline": true,
            "ticks": "outside"
           },
           "bgcolor": "white",
           "radialaxis": {
            "gridcolor": "rgb(232,232,232)",
            "linecolor": "rgb(36,36,36)",
            "showgrid": false,
            "showline": true,
            "ticks": "outside"
           }
          },
          "scene": {
           "xaxis": {
            "backgroundcolor": "white",
            "gridcolor": "rgb(232,232,232)",
            "gridwidth": 2,
            "linecolor": "rgb(36,36,36)",
            "showbackground": true,
            "showgrid": false,
            "showline": true,
            "ticks": "outside",
            "zeroline": false,
            "zerolinecolor": "rgb(36,36,36)"
           },
           "yaxis": {
            "backgroundcolor": "white",
            "gridcolor": "rgb(232,232,232)",
            "gridwidth": 2,
            "linecolor": "rgb(36,36,36)",
            "showbackground": true,
            "showgrid": false,
            "showline": true,
            "ticks": "outside",
            "zeroline": false,
            "zerolinecolor": "rgb(36,36,36)"
           },
           "zaxis": {
            "backgroundcolor": "white",
            "gridcolor": "rgb(232,232,232)",
            "gridwidth": 2,
            "linecolor": "rgb(36,36,36)",
            "showbackground": true,
            "showgrid": false,
            "showline": true,
            "ticks": "outside",
            "zeroline": false,
            "zerolinecolor": "rgb(36,36,36)"
           }
          },
          "shapedefaults": {
           "fillcolor": "black",
           "line": {
            "width": 0
           },
           "opacity": 0.3
          },
          "ternary": {
           "aaxis": {
            "gridcolor": "rgb(232,232,232)",
            "linecolor": "rgb(36,36,36)",
            "showgrid": false,
            "showline": true,
            "ticks": "outside"
           },
           "baxis": {
            "gridcolor": "rgb(232,232,232)",
            "linecolor": "rgb(36,36,36)",
            "showgrid": false,
            "showline": true,
            "ticks": "outside"
           },
           "bgcolor": "white",
           "caxis": {
            "gridcolor": "rgb(232,232,232)",
            "linecolor": "rgb(36,36,36)",
            "showgrid": false,
            "showline": true,
            "ticks": "outside"
           }
          },
          "title": {
           "x": 0.05
          },
          "xaxis": {
           "automargin": true,
           "gridcolor": "rgb(232,232,232)",
           "linecolor": "rgb(36,36,36)",
           "showgrid": false,
           "showline": true,
           "ticks": "outside",
           "title": {
            "standoff": 15
           },
           "zeroline": false,
           "zerolinecolor": "rgb(36,36,36)"
          },
          "yaxis": {
           "automargin": true,
           "gridcolor": "rgb(232,232,232)",
           "linecolor": "rgb(36,36,36)",
           "showgrid": false,
           "showline": true,
           "ticks": "outside",
           "title": {
            "standoff": 15
           },
           "zeroline": false,
           "zerolinecolor": "rgb(36,36,36)"
          }
         }
        },
        "title": {
         "text": "<b>S-S model </b>, N=16, J2 =1, J1 =0.2 , η=0.01, α=32, samples=1000"
        },
        "xaxis": {
         "mirror": true,
         "showline": true,
         "title": {
          "text": "Iteration"
         }
        },
        "yaxis": {
         "mirror": true,
         "showline": true,
         "title": {
          "text": "Energy"
         }
        }
       }
      },
      "text/html": [
       "<div>                            <div id=\"6c118601-73d7-47dc-9b5b-5c9034ffaa1d\" class=\"plotly-graph-div\" style=\"height:525px; width:100%;\"></div>            <script type=\"text/javascript\">                require([\"plotly\"], function(Plotly) {                    window.PLOTLYENV=window.PLOTLYENV || {};                                    if (document.getElementById(\"6c118601-73d7-47dc-9b5b-5c9034ffaa1d\")) {                    Plotly.newPlot(                        \"6c118601-73d7-47dc-9b5b-5c9034ffaa1d\",                        [{\"line\":{\"color\":\"#000000\",\"width\":1},\"mode\":\"lines\",\"name\":\"exact energy\",\"type\":\"scatter\",\"x\":[0,200],\"y\":[-23.99999999999996,-23.99999999999996]},{\"name\":\"normal\",\"type\":\"scatter\",\"x\":[0,1,2,3,4,5,6,7,8,9,10,11,12,13,14,15,16,17,18,19,20,21,22,23,24,25,26,27,28,29,30,31,32,33,34,35,36,37,38,39,40,41,42,43,44,45,46,47,48,49,50,51,52,53,54,55,56,57,58,59,60,61,62,63,64,65,66,67,68,69,70,71,72,73,74,75,76,77,78,79,80,81,82,83,84,85,86,87,88,89,90,91,92,93,94,95,96,97,98,99,100,101,102,103,104,105,106,107,108,109,110,111,112,113,114,115,116,117,118,119,120,121,122,123,124,125,126,127,128,129,130,131,132,133,134,135,136,137,138,139,140,141,142,143,144,145,146,147,148,149,150,151,152,153,154,155,156,157,158,159,160,161,162,163,164,165,166,167,168,169,170,171,172,173,174,175,176,177,178,179,180,181,182,183,184,185,186,187,188,189,190,191,192,193,194,195,196,197,198,199],\"y\":[14.398886776712402,14.403802169730968,14.393481613960981,14.392440514611842,14.393962950249998,14.380886450351493,14.38332944896509,14.372741022061797,14.381351593709034,14.37524656748084,14.382924135739355,14.35158943636436,14.371535614851403,14.361651267080243,14.342492070421741,14.359030873354806,14.35038978149923,14.326505154282229,14.313081720864485,14.312767846824926,14.244591896300271,14.251056231119028,14.165960508052597,14.188486100346728,14.117311213927524,14.046896578151395,14.014117496861731,13.92373622139532,13.714854451046945,13.637664870558622,13.483987898287545,13.386902580153848,13.041870169282944,12.669192311273413,12.162501160526787,11.944028434521686,11.53207826060246,10.86603239236999,10.006759242234503,9.653967181455169,8.41106078761843,6.817949807737413,4.6173575799438185,3.4547288794451827,2.8081377824164515,1.2422018533101273,-0.29048204010852224,-1.8648064045949155,-3.7297546173985534,-4.869972874513987,-6.263287664942581,-7.8709335596450325,-9.477313770702786,-10.425072521921987,-11.894135869252462,-12.880271195529662,-14.170510279752184,-15.076717465752196,-16.055395752064307,-16.85007215347106,-17.591382781960913,-18.56653741516019,-18.86719095733552,-19.472532400195966,-20.535125533550698,-20.71071262818638,-20.98756237593175,-21.207737685372006,-21.746562425696634,-21.990156255512545,-22.320562163407295,-22.807876918389425,-22.65663108868681,-23.009482624147314,-23.11731203963042,-23.189614111330457,-23.334962323714223,-23.379582371115642,-23.5218763012132,-23.59832700510681,-23.576713816761895,-23.770681582227194,-23.7528358206398,-23.792021275192887,-23.8234830496647,-23.80001924827243,-23.799662282868912,-23.920839613010948,-23.94813790004791,-23.9571263901737,-23.938525812924834,-23.945693025275002,-23.95914689506077,-23.9391197438839,-23.946916189555186,-23.963041264746465,-23.961954390688604,-23.99178072365837,-23.991240143347714,-23.980307358350625,-23.980909247900247,-23.981297204344383,-23.966650992469724,-23.99648936797515,-24.000855959502726,-23.989654523794233,-23.999725137133126,-23.999186039726766,-24.000227126681185,-23.99109963599083,-23.984318016084504,-23.99885172245627,-23.991001181285963,-23.999863534754958,-23.99261515279096,-24.000308273268846,-24.000621908895777,-24.000873122909965,-23.99931625105587,-23.991051447520825,-23.99269605005812,-23.999453814883008,-24.000330613456317,-23.991913324967012,-23.991867018694407,-23.99237186621182,-24.0002009379808,-23.999902652103508,-23.999621244240707,-24.00027546117455,-23.992666246487484,-23.992464926578865,-24.00021623681439,-23.991113908234826,-23.999813187347716,-23.999994622079896,-23.990585386168146,-24.00017803440745,-24.00005466930009,-24.00012207887767,-23.99987336182263,-23.99228059869967,-23.999875257702005,-24.000244980232907,-23.99970942836476,-24.00004842519977,-24.00006518321288,-23.99988574756801,-23.999919547336187,-23.99993542500971,-23.999929852984824,-23.992238137301538,-24.000075974257125,-23.99993789890921,-23.999995490833633,-23.999965888116023,-24.000040303519476,-23.99999407875247,-24.000132440562403,-24.00006831980646,-23.999890296550394,-24.000048177638412,-23.99984310285838,-24.00002251082262,-23.999972358501196,-24.000054401457668,-23.999968692979994,-24.000074032295416,-23.992093370049275,-23.99997555808052,-24.000084294870227,-23.992658550151774,-23.999947294106022,-23.999875039786957,-24.00003217704438,-23.99211587879919,-24.000022224168045,-24.000064230447514,-24.00001061880555,-23.999874417823182,-23.999986378470425,-24.000064165908338,-23.999984769171828,-24.00001190970594,-23.999933878432866,-24.000051739273456,-23.99216567226069,-23.992547780411428,-23.999964435904978,-23.99998347121673,-23.991881506864658,-24.000014414029785,-23.991982437340763,-24.000011178748217,-23.999973381055852,-24.0001051707842,-23.99992666998928,-23.999985336317817,-24.00015641263211,-23.999975677789298]},{\"name\":\"MSR\",\"type\":\"scatter\",\"x\":[0,1,2,3,4,5,6,7,8,9,10,11,12,13,14,15,16,17,18,19,20,21,22,23,24,25,26,27,28,29,30,31,32,33,34,35,36,37,38,39,40,41,42,43,44,45,46,47,48,49,50,51,52,53,54,55,56,57,58,59,60,61,62,63,64,65,66,67,68,69,70,71,72,73,74,75,76,77,78,79,80,81,82,83,84,85,86,87,88,89,90,91,92,93,94,95,96,97,98,99,100,101,102,103,104,105,106,107,108,109,110,111,112,113,114,115,116,117,118,119,120,121,122,123,124,125,126,127,128,129,130,131,132,133,134,135,136,137,138,139,140,141,142,143,144,145,146,147,148,149,150,151,152,153,154,155,156,157,158,159,160,161,162,163,164,165,166,167,168,169,170,171,172,173,174,175,176,177,178,179,180,181,182,183,184,185,186,187,188,189,190,191,192,193,194,195,196,197,198,199],\"y\":[1.682202260814517,1.5101643619276217,1.4305454854616089,1.1568692022954028,1.1575193419929688,1.2393071219906815,0.9946125596138313,0.9236115169969812,0.7337417758767669,0.7659644510606447,0.6091417623046973,0.5319578204873529,0.4482403189132831,0.231589911938135,0.22996594232819137,0.062180193940185285,-0.05194095026502838,-0.07994041754500009,-0.21936157291495098,-0.3064212939053698,-0.35665443940940383,-0.4781130485058709,-0.5891879039870183,-0.6303081227866981,-0.7513034892090981,-0.8214423108431339,-1.029608334822411,-1.1305579517451925,-1.0429594255730326,-1.2962905733616301,-1.2533594033811297,-1.4764161530465685,-1.437149096584185,-1.598490975726441,-1.7581720607501177,-1.8244341425402355,-1.8073861050400215,-1.9662227760560544,-2.0060204844682743,-1.944416105393645,-2.076099300491579,-2.149642562263757,-2.3240062517860305,-2.411881609916381,-2.3668237251081456,-2.619664351199372,-2.6670567600483333,-2.840425019438935,-2.7208317741458066,-2.861715485506492,-3.0236865619307887,-3.0121655445039752,-3.0586227510880653,-3.217217345923539,-3.3636318778649086,-3.4017475123666765,-3.518182803323125,-3.430826401750567,-3.63573168354259,-3.6452025061106714,-3.834495276720493,-3.9276180738377025,-3.9487084800817045,-4.06591637937589,-4.043004354891863,-4.2112030833231975,-4.31851472619256,-4.401590765373472,-4.53942712785901,-4.5259391253567465,-4.541456938618683,-4.679958771968652,-4.847645793037324,-4.80498774454138,1.2279357968602662,1.0699088636136134,0.6419971283849419,0.5651746123078738,0.15753697583501425,-0.05998388472181941,-0.607696352828579,-0.9939603221741101,-1.2022669493490792,-1.7508278031580824,-1.9103183146926188,-2.3733006252624227,-2.6365594165547526,-2.7961597294172744,-3.3716675687285447,-3.7381431614581317,-3.6883411779881765,0.43060179147292504,0.07315151763999624,0.0657447041544041,0.07368459820511566,0.08846051557099145,0.06883251463749543,0.07311689331852989,0.1557094109444676,-0.04042349711354724,-0.0024431861753562174,-0.10832294036541362,-0.261055455142714,-0.3905830663182217,-0.5977526678282417,-0.6225708337459975,-0.8505876242693399,-0.9284268186509576,-0.9734149980559882,-1.1833447993516912,-1.326339500165561,-1.3005954074094108,-1.4687033975083257,-1.5546199327665793,-1.5998617963235329,-1.5707890297212248,-1.672380812843603,-1.69164225270194,-1.8202202310372555,-1.826148771032561,-2.003246946458209,-1.9719786832430894,-1.987736621755285,-2.2290931112407453,-2.2311625596372116,-2.3280260284312577,-2.324622185734668,-2.306588014325721,-2.562769022661081,-2.577262309674538,-2.6435123776164984,-2.6992105740612673,-2.7704207847060096,-2.8250574468913383,-2.890412815351979,-2.9122143325021197,-2.8011203310137973,-3.037479746422698,-3.1020907865335885,-3.2348531420601363,-3.1904748205530953,-3.196532620491504,-3.247339648155288,-3.495927931688832,-3.2879430893670625,-3.4140921956624397,-3.413196519952564,-3.4839023748902496,-3.5133933543179627,-3.6853047560002787,-3.703180105514227,-3.7185036305218953,-3.824078891464047,-3.978853034460566,-3.976478415591242,-3.988599558735428,-4.1421975166184914,-4.353267050943453,-4.394950968073013,-4.446115045108839,-4.369426989939895,-4.6085177072953565,-4.803789717254733,-4.943639957382589,-4.9932011224387685,-5.087691452573614,-5.186090550309541,-5.446232362139393,-5.716236282603971,-5.755138985404722,-5.764942937068585,-6.027125373257269,-6.258228571916918,-6.312201786837457,-6.554094589779085,-6.645175160098355,-6.850221668108245,4.626821931081968,-8.0,-8.0,-8.0,-8.0,-8.0,-8.0,-8.0,-8.0,-8.0,-8.0,-8.0,-8.0,-8.0,-8.0,-8.0,-8.0,-8.0,-8.0,-8.0,-8.0,-8.0,-8.0]}],                        {\"shapes\":[{\"line\":{\"width\":1},\"opacity\":1,\"type\":\"line\",\"x0\":0,\"x1\":1,\"xref\":\"x domain\",\"y0\":-23.99999999999996,\"y1\":-23.99999999999996,\"yref\":\"y\"}],\"template\":{\"data\":{\"bar\":[{\"error_x\":{\"color\":\"rgb(36,36,36)\"},\"error_y\":{\"color\":\"rgb(36,36,36)\"},\"marker\":{\"line\":{\"color\":\"white\",\"width\":0.5},\"pattern\":{\"fillmode\":\"overlay\",\"size\":10,\"solidity\":0.2}},\"type\":\"bar\"}],\"barpolar\":[{\"marker\":{\"line\":{\"color\":\"white\",\"width\":0.5},\"pattern\":{\"fillmode\":\"overlay\",\"size\":10,\"solidity\":0.2}},\"type\":\"barpolar\"}],\"carpet\":[{\"aaxis\":{\"endlinecolor\":\"rgb(36,36,36)\",\"gridcolor\":\"white\",\"linecolor\":\"white\",\"minorgridcolor\":\"white\",\"startlinecolor\":\"rgb(36,36,36)\"},\"baxis\":{\"endlinecolor\":\"rgb(36,36,36)\",\"gridcolor\":\"white\",\"linecolor\":\"white\",\"minorgridcolor\":\"white\",\"startlinecolor\":\"rgb(36,36,36)\"},\"type\":\"carpet\"}],\"choropleth\":[{\"colorbar\":{\"outlinewidth\":1,\"tickcolor\":\"rgb(36,36,36)\",\"ticks\":\"outside\"},\"type\":\"choropleth\"}],\"contour\":[{\"colorbar\":{\"outlinewidth\":1,\"tickcolor\":\"rgb(36,36,36)\",\"ticks\":\"outside\"},\"colorscale\":[[0.0,\"#440154\"],[0.1111111111111111,\"#482878\"],[0.2222222222222222,\"#3e4989\"],[0.3333333333333333,\"#31688e\"],[0.4444444444444444,\"#26828e\"],[0.5555555555555556,\"#1f9e89\"],[0.6666666666666666,\"#35b779\"],[0.7777777777777778,\"#6ece58\"],[0.8888888888888888,\"#b5de2b\"],[1.0,\"#fde725\"]],\"type\":\"contour\"}],\"contourcarpet\":[{\"colorbar\":{\"outlinewidth\":1,\"tickcolor\":\"rgb(36,36,36)\",\"ticks\":\"outside\"},\"type\":\"contourcarpet\"}],\"heatmap\":[{\"colorbar\":{\"outlinewidth\":1,\"tickcolor\":\"rgb(36,36,36)\",\"ticks\":\"outside\"},\"colorscale\":[[0.0,\"#440154\"],[0.1111111111111111,\"#482878\"],[0.2222222222222222,\"#3e4989\"],[0.3333333333333333,\"#31688e\"],[0.4444444444444444,\"#26828e\"],[0.5555555555555556,\"#1f9e89\"],[0.6666666666666666,\"#35b779\"],[0.7777777777777778,\"#6ece58\"],[0.8888888888888888,\"#b5de2b\"],[1.0,\"#fde725\"]],\"type\":\"heatmap\"}],\"heatmapgl\":[{\"colorbar\":{\"outlinewidth\":1,\"tickcolor\":\"rgb(36,36,36)\",\"ticks\":\"outside\"},\"colorscale\":[[0.0,\"#440154\"],[0.1111111111111111,\"#482878\"],[0.2222222222222222,\"#3e4989\"],[0.3333333333333333,\"#31688e\"],[0.4444444444444444,\"#26828e\"],[0.5555555555555556,\"#1f9e89\"],[0.6666666666666666,\"#35b779\"],[0.7777777777777778,\"#6ece58\"],[0.8888888888888888,\"#b5de2b\"],[1.0,\"#fde725\"]],\"type\":\"heatmapgl\"}],\"histogram\":[{\"marker\":{\"line\":{\"color\":\"white\",\"width\":0.6}},\"type\":\"histogram\"}],\"histogram2d\":[{\"colorbar\":{\"outlinewidth\":1,\"tickcolor\":\"rgb(36,36,36)\",\"ticks\":\"outside\"},\"colorscale\":[[0.0,\"#440154\"],[0.1111111111111111,\"#482878\"],[0.2222222222222222,\"#3e4989\"],[0.3333333333333333,\"#31688e\"],[0.4444444444444444,\"#26828e\"],[0.5555555555555556,\"#1f9e89\"],[0.6666666666666666,\"#35b779\"],[0.7777777777777778,\"#6ece58\"],[0.8888888888888888,\"#b5de2b\"],[1.0,\"#fde725\"]],\"type\":\"histogram2d\"}],\"histogram2dcontour\":[{\"colorbar\":{\"outlinewidth\":1,\"tickcolor\":\"rgb(36,36,36)\",\"ticks\":\"outside\"},\"colorscale\":[[0.0,\"#440154\"],[0.1111111111111111,\"#482878\"],[0.2222222222222222,\"#3e4989\"],[0.3333333333333333,\"#31688e\"],[0.4444444444444444,\"#26828e\"],[0.5555555555555556,\"#1f9e89\"],[0.6666666666666666,\"#35b779\"],[0.7777777777777778,\"#6ece58\"],[0.8888888888888888,\"#b5de2b\"],[1.0,\"#fde725\"]],\"type\":\"histogram2dcontour\"}],\"mesh3d\":[{\"colorbar\":{\"outlinewidth\":1,\"tickcolor\":\"rgb(36,36,36)\",\"ticks\":\"outside\"},\"type\":\"mesh3d\"}],\"parcoords\":[{\"line\":{\"colorbar\":{\"outlinewidth\":1,\"tickcolor\":\"rgb(36,36,36)\",\"ticks\":\"outside\"}},\"type\":\"parcoords\"}],\"pie\":[{\"automargin\":true,\"type\":\"pie\"}],\"scatter\":[{\"marker\":{\"colorbar\":{\"outlinewidth\":1,\"tickcolor\":\"rgb(36,36,36)\",\"ticks\":\"outside\"}},\"type\":\"scatter\"}],\"scatter3d\":[{\"line\":{\"colorbar\":{\"outlinewidth\":1,\"tickcolor\":\"rgb(36,36,36)\",\"ticks\":\"outside\"}},\"marker\":{\"colorbar\":{\"outlinewidth\":1,\"tickcolor\":\"rgb(36,36,36)\",\"ticks\":\"outside\"}},\"type\":\"scatter3d\"}],\"scattercarpet\":[{\"marker\":{\"colorbar\":{\"outlinewidth\":1,\"tickcolor\":\"rgb(36,36,36)\",\"ticks\":\"outside\"}},\"type\":\"scattercarpet\"}],\"scattergeo\":[{\"marker\":{\"colorbar\":{\"outlinewidth\":1,\"tickcolor\":\"rgb(36,36,36)\",\"ticks\":\"outside\"}},\"type\":\"scattergeo\"}],\"scattergl\":[{\"marker\":{\"colorbar\":{\"outlinewidth\":1,\"tickcolor\":\"rgb(36,36,36)\",\"ticks\":\"outside\"}},\"type\":\"scattergl\"}],\"scattermapbox\":[{\"marker\":{\"colorbar\":{\"outlinewidth\":1,\"tickcolor\":\"rgb(36,36,36)\",\"ticks\":\"outside\"}},\"type\":\"scattermapbox\"}],\"scatterpolar\":[{\"marker\":{\"colorbar\":{\"outlinewidth\":1,\"tickcolor\":\"rgb(36,36,36)\",\"ticks\":\"outside\"}},\"type\":\"scatterpolar\"}],\"scatterpolargl\":[{\"marker\":{\"colorbar\":{\"outlinewidth\":1,\"tickcolor\":\"rgb(36,36,36)\",\"ticks\":\"outside\"}},\"type\":\"scatterpolargl\"}],\"scatterternary\":[{\"marker\":{\"colorbar\":{\"outlinewidth\":1,\"tickcolor\":\"rgb(36,36,36)\",\"ticks\":\"outside\"}},\"type\":\"scatterternary\"}],\"surface\":[{\"colorbar\":{\"outlinewidth\":1,\"tickcolor\":\"rgb(36,36,36)\",\"ticks\":\"outside\"},\"colorscale\":[[0.0,\"#440154\"],[0.1111111111111111,\"#482878\"],[0.2222222222222222,\"#3e4989\"],[0.3333333333333333,\"#31688e\"],[0.4444444444444444,\"#26828e\"],[0.5555555555555556,\"#1f9e89\"],[0.6666666666666666,\"#35b779\"],[0.7777777777777778,\"#6ece58\"],[0.8888888888888888,\"#b5de2b\"],[1.0,\"#fde725\"]],\"type\":\"surface\"}],\"table\":[{\"cells\":{\"fill\":{\"color\":\"rgb(237,237,237)\"},\"line\":{\"color\":\"white\"}},\"header\":{\"fill\":{\"color\":\"rgb(217,217,217)\"},\"line\":{\"color\":\"white\"}},\"type\":\"table\"}]},\"layout\":{\"annotationdefaults\":{\"arrowhead\":0,\"arrowwidth\":1},\"autotypenumbers\":\"strict\",\"coloraxis\":{\"colorbar\":{\"outlinewidth\":1,\"tickcolor\":\"rgb(36,36,36)\",\"ticks\":\"outside\"}},\"colorscale\":{\"diverging\":[[0.0,\"rgb(103,0,31)\"],[0.1,\"rgb(178,24,43)\"],[0.2,\"rgb(214,96,77)\"],[0.3,\"rgb(244,165,130)\"],[0.4,\"rgb(253,219,199)\"],[0.5,\"rgb(247,247,247)\"],[0.6,\"rgb(209,229,240)\"],[0.7,\"rgb(146,197,222)\"],[0.8,\"rgb(67,147,195)\"],[0.9,\"rgb(33,102,172)\"],[1.0,\"rgb(5,48,97)\"]],\"sequential\":[[0.0,\"#440154\"],[0.1111111111111111,\"#482878\"],[0.2222222222222222,\"#3e4989\"],[0.3333333333333333,\"#31688e\"],[0.4444444444444444,\"#26828e\"],[0.5555555555555556,\"#1f9e89\"],[0.6666666666666666,\"#35b779\"],[0.7777777777777778,\"#6ece58\"],[0.8888888888888888,\"#b5de2b\"],[1.0,\"#fde725\"]],\"sequentialminus\":[[0.0,\"#440154\"],[0.1111111111111111,\"#482878\"],[0.2222222222222222,\"#3e4989\"],[0.3333333333333333,\"#31688e\"],[0.4444444444444444,\"#26828e\"],[0.5555555555555556,\"#1f9e89\"],[0.6666666666666666,\"#35b779\"],[0.7777777777777778,\"#6ece58\"],[0.8888888888888888,\"#b5de2b\"],[1.0,\"#fde725\"]]},\"colorway\":[\"#1F77B4\",\"#FF7F0E\",\"#2CA02C\",\"#D62728\",\"#9467BD\",\"#8C564B\",\"#E377C2\",\"#7F7F7F\",\"#BCBD22\",\"#17BECF\"],\"font\":{\"color\":\"rgb(36,36,36)\"},\"geo\":{\"bgcolor\":\"white\",\"lakecolor\":\"white\",\"landcolor\":\"white\",\"showlakes\":true,\"showland\":true,\"subunitcolor\":\"white\"},\"hoverlabel\":{\"align\":\"left\"},\"hovermode\":\"closest\",\"mapbox\":{\"style\":\"light\"},\"paper_bgcolor\":\"white\",\"plot_bgcolor\":\"white\",\"polar\":{\"angularaxis\":{\"gridcolor\":\"rgb(232,232,232)\",\"linecolor\":\"rgb(36,36,36)\",\"showgrid\":false,\"showline\":true,\"ticks\":\"outside\"},\"bgcolor\":\"white\",\"radialaxis\":{\"gridcolor\":\"rgb(232,232,232)\",\"linecolor\":\"rgb(36,36,36)\",\"showgrid\":false,\"showline\":true,\"ticks\":\"outside\"}},\"scene\":{\"xaxis\":{\"backgroundcolor\":\"white\",\"gridcolor\":\"rgb(232,232,232)\",\"gridwidth\":2,\"linecolor\":\"rgb(36,36,36)\",\"showbackground\":true,\"showgrid\":false,\"showline\":true,\"ticks\":\"outside\",\"zeroline\":false,\"zerolinecolor\":\"rgb(36,36,36)\"},\"yaxis\":{\"backgroundcolor\":\"white\",\"gridcolor\":\"rgb(232,232,232)\",\"gridwidth\":2,\"linecolor\":\"rgb(36,36,36)\",\"showbackground\":true,\"showgrid\":false,\"showline\":true,\"ticks\":\"outside\",\"zeroline\":false,\"zerolinecolor\":\"rgb(36,36,36)\"},\"zaxis\":{\"backgroundcolor\":\"white\",\"gridcolor\":\"rgb(232,232,232)\",\"gridwidth\":2,\"linecolor\":\"rgb(36,36,36)\",\"showbackground\":true,\"showgrid\":false,\"showline\":true,\"ticks\":\"outside\",\"zeroline\":false,\"zerolinecolor\":\"rgb(36,36,36)\"}},\"shapedefaults\":{\"fillcolor\":\"black\",\"line\":{\"width\":0},\"opacity\":0.3},\"ternary\":{\"aaxis\":{\"gridcolor\":\"rgb(232,232,232)\",\"linecolor\":\"rgb(36,36,36)\",\"showgrid\":false,\"showline\":true,\"ticks\":\"outside\"},\"baxis\":{\"gridcolor\":\"rgb(232,232,232)\",\"linecolor\":\"rgb(36,36,36)\",\"showgrid\":false,\"showline\":true,\"ticks\":\"outside\"},\"bgcolor\":\"white\",\"caxis\":{\"gridcolor\":\"rgb(232,232,232)\",\"linecolor\":\"rgb(36,36,36)\",\"showgrid\":false,\"showline\":true,\"ticks\":\"outside\"}},\"title\":{\"x\":0.05},\"xaxis\":{\"automargin\":true,\"gridcolor\":\"rgb(232,232,232)\",\"linecolor\":\"rgb(36,36,36)\",\"showgrid\":false,\"showline\":true,\"ticks\":\"outside\",\"title\":{\"standoff\":15},\"zeroline\":false,\"zerolinecolor\":\"rgb(36,36,36)\"},\"yaxis\":{\"automargin\":true,\"gridcolor\":\"rgb(232,232,232)\",\"linecolor\":\"rgb(36,36,36)\",\"showgrid\":false,\"showline\":true,\"ticks\":\"outside\",\"title\":{\"standoff\":15},\"zeroline\":false,\"zerolinecolor\":\"rgb(36,36,36)\"}}},\"title\":{\"text\":\"<b>S-S model </b>, N=16, J2 =1, J1 =0.2 , η=0.01, α=32, samples=1000\"},\"xaxis\":{\"mirror\":true,\"showline\":true,\"title\":{\"text\":\"Iteration\"}},\"yaxis\":{\"mirror\":true,\"showline\":true,\"title\":{\"text\":\"Energy\"}}},                        {\"responsive\": true}                    ).then(function(){\n",
       "                            \n",
       "var gd = document.getElementById('6c118601-73d7-47dc-9b5b-5c9034ffaa1d');\n",
       "var x = new MutationObserver(function (mutations, observer) {{\n",
       "        var display = window.getComputedStyle(gd).display;\n",
       "        if (!display || display === 'none') {{\n",
       "            console.log([gd, 'removed!']);\n",
       "            Plotly.purge(gd);\n",
       "            observer.disconnect();\n",
       "        }}\n",
       "}});\n",
       "\n",
       "// Listen for the removal of the full notebook cells\n",
       "var notebookContainer = gd.closest('#notebook-container');\n",
       "if (notebookContainer) {{\n",
       "    x.observe(notebookContainer, {childList: true});\n",
       "}}\n",
       "\n",
       "// Listen for the clearing of the current output cell\n",
       "var outputEl = gd.closest('.output');\n",
       "if (outputEl) {{\n",
       "    x.observe(outputEl, {childList: true});\n",
       "}}\n",
       "\n",
       "                        })                };                });            </script>        </div>"
      ]
     },
     "metadata": {},
     "output_type": "display_data"
    }
   ],
   "source": [
    "# import the data from log file\n",
    "OUT_NAME_suffixless=OUT_NAME\n",
    "data = []\n",
    "names = [\"normal\",\"MSR\"]\n",
    "for i in range(no_of_runs):\n",
    "    data.append(json.load(open(OUT_NAME_suffixless+str(i)+\".log\")))\n",
    "if type(data[0][\"Energy\"][\"Mean\"]) == dict:\n",
    "    energy_convergence = [data[i][\"Energy\"][\"Mean\"][\"real\"] for i in range(no_of_runs)]\n",
    "else:\n",
    "    energy_convergence = [data[i][\"Energy\"][\"Mean\"] for i in range(no_of_runs)]\n",
    "# plot the energy dependance on the iteration number\n",
    "for i in range(no_of_runs):\n",
    "    figure.add_trace(go.Scatter(\n",
    "        x=np.array(data[i][\"Energy\"][\"iters\"]), y=energy_convergence[i],\n",
    "        name=names[i],\n",
    "    ))\n",
    "\n",
    "figure.update_layout(xaxis_title=\"Iteration\",yaxis_title=\"Energy\")\n",
    "figure.show()"
   ]
  },
  {
   "cell_type": "markdown",
   "metadata": {},
   "source": [
    "## Assessment of the other simulation results\n",
    "\n",
    "Here, we calculate of how long it took to reach 99.5% of exact energy. The first value under 0.5% deviation counts as a converged state.\n",
    "\n",
    "We also print the values of the order parameters."
   ]
  },
  {
   "cell_type": "code",
   "execution_count": 56,
   "metadata": {},
   "outputs": [],
   "source": [
    "threshold_energy = 0.995*exact_ground_energy\n",
    "data = []\n",
    "for i in range(no_of_runs):\n",
    "    data.append(json.load(open(OUT_NAME+str(i)+\".log\")))\n",
    "if type(data[0][\"Energy\"][\"Mean\"]) == dict:\n",
    "    energy_convergence = [data[i][\"Energy\"][\"Mean\"][\"real\"] for i in range(no_of_runs)]\n",
    "else:\n",
    "    energy_convergence = [data[i][\"Energy\"][\"Mean\"] for i in range(no_of_runs)]\n",
    "steps_until_convergence = [next((i for i,v in enumerate(energy_convergence[j]) if v < threshold_energy), -1) for j in range(no_of_runs)]"
   ]
  },
  {
   "cell_type": "code",
   "execution_count": 57,
   "metadata": {},
   "outputs": [
    {
     "name": "stdout",
     "output_type": "stream",
     "text": [
      "Trained RBM without MSR:\n",
      "m_d^2 = 0.9999975+0.0000011j ± 0.0000027 [σ²=0.0000000]\n",
      "m_p(MSR) = -0.003+0.000j ± 0.018 [σ²=0.287]\n",
      "m_s^2 = 0.0000001-0.0000010j ± 0.0000023 [σ²=0.0000000]\n",
      "m_s^2(MSR) = 0.0000001-0.0000010j ± 0.0000023 [σ²=0.0000000]\n",
      "Trained RBM with MSR:\n",
      "m_d^2 = 3.333e-01-7.197e-23j ± 9.813e-18 [σ²=3.081e-33]\n",
      "m_p(MSR) = -1.763e-44-9.199e-45j ± 4.039e-45 [σ²=1.605e-86]\n",
      "m_s^2 = 1.250e-01+1.349e-23j ± 1.041e-38 [σ²=1.366e-73]\n",
      "m_s^2(MSR) = 1.250e-01+1.349e-23j ± 1.047e-38 [σ²=1.371e-73]\n"
     ]
    }
   ],
   "source": [
    "# Evaluation of order parameters.\n",
    "from lattice_and_ops import Operators, Lattice\n",
    "ops = Operators(lattice,hilbert,ho.mszsz,ho.exchange)\n",
    "for i,gs in enumerate([gs_1,gs_2][run_only_2:run_only_2+no_of_runs]):\n",
    "    print(\"Trained RBM with MSR:\" if (i+run_only_2) else \"Trained RBM without MSR:\")\n",
    "    print(\"m_d^2 =\", gs.estimate(ops.m_dimer_op))\n",
    "    print(\"m_p(MSR) =\", gs.estimate(ops.m_plaquette_op_MSR))\n",
    "    print(\"m_s^2 =\", gs.estimate(ops.m_s2_op_MSR))\n",
    "    print(\"m_s^2(MSR) =\", gs.estimate(ops.m_s2_op))"
   ]
  },
  {
   "cell_type": "markdown",
   "metadata": {},
   "source": [
    "### Standardised logging and printing of final results"
   ]
  },
  {
   "cell_type": "code",
   "execution_count": 58,
   "metadata": {},
   "outputs": [
    {
     "name": "stdout",
     "output_type": "stream",
     "text": [
      " 0.200  -23.99998  0.00009    -8.00000  0.00000   -0.0030  0.0183   1.0000  0.0000   0.0000  0.0000   -0.0000  0.0000   0.3333  0.0000   0.1250  0.0000   -24.00000  1000   200 87, -1\n"
     ]
    }
   ],
   "source": [
    "from lattice_and_ops import log_results\n",
    "log_results(JEXCH1,gs_1,gs_2,ops,SAMPLES,NUM_ITER,exact_ground_energy,steps_until_convergence,filename=\"out_\"+OUT_NAME+\".txt\")"
   ]
  },
  {
   "cell_type": "code",
   "execution_count": 59,
   "metadata": {},
   "outputs": [
    {
     "name": "stdout",
     "output_type": "stream",
     "text": [
      " 0.200  -23.99998  0.00009   1.0000  0.0000  -0.0030  0.0183   0.0000  0.0000   1000   200\n"
     ]
    }
   ],
   "source": [
    "print(\"{:6.3f} {:10.5f} {:8.5f}  {:7.4f} {:7.4f}  {:7.4f} {:7.4f}  {:7.4f} {:7.4f}  {:5.0f} {:5.0f}\".format(JEXCH1, \n",
    "    gs_1.energy.mean.real,                          gs_1.energy.error_of_mean,\n",
    "    gs_1.estimate(ops.m_dimer_op).mean.real,        gs_1.estimate(ops.m_dimer_op).error_of_mean,\n",
    "    gs_1.estimate(ops.m_plaquette_op).mean.real,    gs_1.estimate(ops.m_plaquette_op).error_of_mean,\n",
    "    gs_1.estimate(ops.m_s2_op).mean.real,           gs_1.estimate(ops.m_s2_op).error_of_mean, \n",
    "    SAMPLES, NUM_ITER, steps_until_convergence[0], sep='    '))"
   ]
  }
 ],
 "metadata": {
  "interpreter": {
   "hash": "31f2aee4e71d21fbe5cf8b01ff0e069b9275f58929596ceb00d14d90e3e16cd6"
  },
  "kernelspec": {
   "display_name": "Python 3.8.10 64-bit",
   "name": "python3"
  },
  "language_info": {
   "codemirror_mode": {
    "name": "ipython",
    "version": 3
   },
   "file_extension": ".py",
   "mimetype": "text/x-python",
   "name": "python",
   "nbconvert_exporter": "python",
   "pygments_lexer": "ipython3",
   "version": "3.8.10"
  },
  "metadata": {
   "interpreter": {
    "hash": "916dbcbb3f70747c44a77c7bcd40155683ae19c65e1c03b4aa3499c5328201f1"
   }
  }
 },
 "nbformat": 4,
 "nbformat_minor": 4
}
