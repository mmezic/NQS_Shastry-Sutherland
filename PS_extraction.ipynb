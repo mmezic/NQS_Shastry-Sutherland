{
 "cells": [
  {
   "cell_type": "markdown",
   "metadata": {},
   "source": [
    "# Extraction of PS order parameter from the `.mpack` files of the saved models"
   ]
  },
  {
   "cell_type": "code",
   "execution_count": 1,
   "metadata": {},
   "outputs": [
    {
     "name": "stdout",
     "output_type": "stream",
     "text": [
      "Python version: 3.8.10 (default, Nov 26 2021, 20:14:08) \n",
      "[GCC 9.3.0]\n",
      "NetKet version: 3.3.3\n",
      "NumPy version: 1.20.3\n"
     ]
    }
   ],
   "source": [
    "import netket as nk\n",
    "import numpy as np\n",
    "import time\n",
    "import json\n",
    "import plotly.graph_objects as go\n",
    "import matplotlib.pyplot as plt\n",
    "import jax\n",
    "import flax\n",
    "import optax\n",
    "from sys import version as pyvers\n",
    "\n",
    "print(\"Python version: {}\".format(pyvers))\n",
    "print(\"NetKet version: {}\".format(nk.__version__))\n",
    "print(\"NumPy version: {}\".format(np.__version__))"
   ]
  },
  {
   "cell_type": "code",
   "execution_count": 2,
   "metadata": {},
   "outputs": [],
   "source": [
    "\"\"\"lattice\"\"\"\t\n",
    "SITES    = 64            # 4, 8, 16, 20 ... number of vertices in a tile determines the tile shape \t\n",
    "JEXCH1   = .2            # nn interaction\t\n",
    "JEXCH2   = 1            # nnn interaction\t\n",
    "H_Z      = 0             # magnetic field\n",
    "USE_PBC = True\n",
    "TOTAL_SZ = None            # 0, None ... restriction of Hilbert space\t\n",
    "\"\"\"machine learning\"\"\"\t\n",
    "SAMPLER = 'local'       # 'local' = MetropolisLocal, 'exchange' = MetropolisExchange, 'exact' = ExactSampler\n",
    "MACHINE = 'RBM'         # 'RBM', 'sRBM'\n",
    "DTYPE = np.complex128   # type of weights in neural network\n",
    "ALPHA = 8              # N_hidden / N_visible\t\n",
    "ETA   = .01            # learning rate (0.01 usually works)\t\n",
    "SIGMA = .01             # variance of parameters during initialization\n",
    "SAMPLES = 1000\t#!!! zero added!!!\n",
    "NUM_ITER = 1000\n",
    "N_PRE_ITER = 100        # number of iteration before checking for convergence to speed up the process if the model is already pre-trained\n",
    "STEPS = np.arange(0.0,1.21,step=0.1)"
   ]
  },
  {
   "cell_type": "code",
   "execution_count": 3,
   "metadata": {},
   "outputs": [],
   "source": [
    "from lattice_and_ops import Lattice\n",
    "lattice = Lattice(SITES)\n",
    "\n",
    "if not USE_PBC and SITES != 16:\n",
    "    raise Exception(\"Non-PBC are implemented only for 4x4 lattice!!!\")\n",
    "\n",
    "# Construction of custom graph according to tiled lattice structure defined in the Lattice class.\n",
    "edge_colors = []\n",
    "for node in range(SITES):\n",
    "    if USE_PBC or not node in [3,7,11,15]:\n",
    "        edge_colors.append([node,lattice.rt(node), 1])  # horizontal connections\n",
    "    if USE_PBC or not node in [12,13,14,15]:\n",
    "        edge_colors.append([node,lattice.bot(node), 1]) # vertical connections\n",
    "    row, column = lattice.position(node)\n",
    "    \n",
    "    SS_color = 3 if not USE_PBC and node in [3,7,4,12,13,14,15] else 2\n",
    "    if column%2 == 0:\n",
    "        if row%2 == 0:\n",
    "            edge_colors.append([node,lattice.lrt(node),SS_color]) # diagonal bond\n",
    "        else:\n",
    "            edge_colors.append([node,lattice.llft(node),SS_color]) # diagonal bond\n",
    "\n",
    "g = nk.graph.Graph(edges=edge_colors) #,n_nodes=3)\n",
    "N = g.n_nodes\n",
    "\n",
    "hilbert = nk.hilbert.Spin(s=.5, N=g.n_nodes, total_sz=TOTAL_SZ)"
   ]
  },
  {
   "cell_type": "code",
   "execution_count": 4,
   "metadata": {},
   "outputs": [],
   "source": [
    "from lattice_and_ops import HamOps\n",
    "ho = HamOps()\n",
    "# H_Z = .5\n",
    "ha_1 = nk.operator.GraphOperator(hilbert, graph=g, bond_ops=ho.bond_operator(JEXCH1,JEXCH2, h_z=H_Z, use_MSR=False), bond_ops_colors=ho.bond_color)\n",
    "ha_2 = nk.operator.GraphOperator(hilbert, graph=g, bond_ops=ho.bond_operator(JEXCH1,JEXCH2, h_z=H_Z, use_MSR=True), bond_ops_colors=ho.bond_color)\n"
   ]
  },
  {
   "cell_type": "code",
   "execution_count": 5,
   "metadata": {},
   "outputs": [],
   "source": [
    "from lattice_and_ops import Operators\n",
    "ops = Operators(lattice,hilbert,ho.mszsz,ho.exchange)"
   ]
  },
  {
   "cell_type": "code",
   "execution_count": 6,
   "metadata": {},
   "outputs": [
    {
     "name": "stderr",
     "output_type": "stream",
     "text": [
      "/home/mezic/.local/lib/python3.8/site-packages/netket/graph/graph.py:160: FutureWarning: The color option has been split into return_color and filter_color.\n",
      "  warn_deprecation(\n"
     ]
    },
    {
     "data": {
      "text/plain": [
       "[(0, 1),\n",
       " (0, 8),\n",
       " (1, 2),\n",
       " (1, 9),\n",
       " (2, 3),\n",
       " (2, 10),\n",
       " (3, 4),\n",
       " (3, 11),\n",
       " (4, 5),\n",
       " (4, 12),\n",
       " (5, 6),\n",
       " (5, 13),\n",
       " (6, 7),\n",
       " (6, 14),\n",
       " (0, 7),\n",
       " (7, 15),\n",
       " (8, 9),\n",
       " (8, 16),\n",
       " (9, 10),\n",
       " (9, 17),\n",
       " (10, 11),\n",
       " (10, 18),\n",
       " (11, 12),\n",
       " (11, 19),\n",
       " (12, 13),\n",
       " (12, 20),\n",
       " (13, 14),\n",
       " (13, 21),\n",
       " (14, 15),\n",
       " (14, 22),\n",
       " (8, 15),\n",
       " (15, 23),\n",
       " (16, 17),\n",
       " (16, 24),\n",
       " (17, 18),\n",
       " (17, 25),\n",
       " (18, 19),\n",
       " (18, 26),\n",
       " (19, 20),\n",
       " (19, 27),\n",
       " (20, 21),\n",
       " (20, 28),\n",
       " (21, 22),\n",
       " (21, 29),\n",
       " (22, 23),\n",
       " (22, 30),\n",
       " (16, 23),\n",
       " (23, 31),\n",
       " (24, 25),\n",
       " (24, 32),\n",
       " (25, 26),\n",
       " (25, 33),\n",
       " (26, 27),\n",
       " (26, 34),\n",
       " (27, 28),\n",
       " (27, 35),\n",
       " (28, 29),\n",
       " (28, 36),\n",
       " (29, 30),\n",
       " (29, 37),\n",
       " (30, 31),\n",
       " (30, 38),\n",
       " (24, 31),\n",
       " (31, 39),\n",
       " (32, 33),\n",
       " (32, 40),\n",
       " (33, 34),\n",
       " (33, 41),\n",
       " (34, 35),\n",
       " (34, 42),\n",
       " (35, 36),\n",
       " (35, 43),\n",
       " (36, 37),\n",
       " (36, 44),\n",
       " (37, 38),\n",
       " (37, 45),\n",
       " (38, 39),\n",
       " (38, 46),\n",
       " (32, 39),\n",
       " (39, 47),\n",
       " (40, 41),\n",
       " (40, 48),\n",
       " (41, 42),\n",
       " (41, 49),\n",
       " (42, 43),\n",
       " (42, 50),\n",
       " (43, 44),\n",
       " (43, 51),\n",
       " (44, 45),\n",
       " (44, 52),\n",
       " (45, 46),\n",
       " (45, 53),\n",
       " (46, 47),\n",
       " (46, 54),\n",
       " (40, 47),\n",
       " (47, 55),\n",
       " (48, 49),\n",
       " (48, 56),\n",
       " (49, 50),\n",
       " (49, 57),\n",
       " (50, 51),\n",
       " (50, 58),\n",
       " (51, 52),\n",
       " (51, 59),\n",
       " (52, 53),\n",
       " (52, 60),\n",
       " (53, 54),\n",
       " (53, 61),\n",
       " (54, 55),\n",
       " (54, 62),\n",
       " (48, 55),\n",
       " (55, 63),\n",
       " (56, 57),\n",
       " (0, 56),\n",
       " (57, 58),\n",
       " (1, 57),\n",
       " (58, 59),\n",
       " (2, 58),\n",
       " (59, 60),\n",
       " (3, 59),\n",
       " (60, 61),\n",
       " (4, 60),\n",
       " (61, 62),\n",
       " (5, 61),\n",
       " (62, 63),\n",
       " (6, 62),\n",
       " (56, 63),\n",
       " (7, 63)]"
      ]
     },
     "execution_count": 6,
     "metadata": {},
     "output_type": "execute_result"
    }
   ],
   "source": [
    "g.edges(color=1)"
   ]
  },
  {
   "cell_type": "code",
   "execution_count": 7,
   "metadata": {},
   "outputs": [
    {
     "name": "stderr",
     "output_type": "stream",
     "text": [
      "WARNING:absl:No GPU/TPU found, falling back to CPU. (Set TF_CPP_MIN_LOG_LEVEL=0 and rerun for more info.)\n",
      "/home/mezic/.local/lib/python3.8/site-packages/netket/vqs/mc/mc_state/state.py:58: UserWarning: n_samples=1000 (1000 per MPI rank) does not divide n_chains=16, increased to 1008 (1008 per MPI rank)\n",
      "  warnings.warn(\n"
     ]
    }
   ],
   "source": [
    "machine_1 = nk.models.RBM(dtype=DTYPE, alpha=ALPHA)\n",
    "machine_2 = nk.models.RBM(dtype=DTYPE, alpha=ALPHA)\n",
    "sampler_1 = nk.sampler.MetropolisLocal(hilbert=hilbert)\n",
    "sampler_2 = nk.sampler.MetropolisLocal(hilbert=hilbert)\n",
    "vs_1 = nk.vqs.MCState(sampler_1 , machine_1 , n_samples=SAMPLES)\n",
    "vs_2 = nk.vqs.MCState(sampler_2 , machine_2 , n_samples=SAMPLES)"
   ]
  },
  {
   "cell_type": "code",
   "execution_count": 8,
   "metadata": {},
   "outputs": [],
   "source": [
    "import netket.experimental"
   ]
  },
  {
   "cell_type": "code",
   "execution_count": 9,
   "metadata": {},
   "outputs": [],
   "source": [
    "#ops.m_sSquared_slow_MSR(vs_2) "
   ]
  },
  {
   "cell_type": "markdown",
   "metadata": {},
   "source": [
    "## printed results\n",
    "```\n",
    "0.0 -0.144+0.000j ± 0.015 [σ²=0.133, R̂=1.2991] 0.085-0.000j ± 0.016 [σ²=0.158, R̂=1.3787] (DeviceArray(0.00172497+6.65161989e-05j, dtype=complex128), DeviceArray(3376.56646065, dtype=float64))\n",
    "0.1 -0.099-0.001j ± 0.019 [σ²=0.215, R̂=1.3848] -0.341-0.000j ± 0.019 [σ²=0.225, R̂=1.3732] (DeviceArray(0.00885071-0.00018805j, dtype=complex128), DeviceArray(3157.0675619, dtype=float64))\n",
    "0.2 0.000-0.000j ± 0.021 [σ²=0.251, R̂=1.4115] -0.166-0.001j ± 0.024 [σ²=0.852, R̂=1.0901] (DeviceArray(0.00541964-0.000387j, dtype=complex128), DeviceArray(6395.69501834, dtype=float64))\n",
    "0.30000000000000004 1.158e-12-2.723e-12j ± 8.025e-14 [σ²=4.067e-24, R̂=1.3838] -0.180+0.011j ± 0.029 [σ²=0.933, R̂=1.1286] (DeviceArray(0.00795699+0.00056182j, dtype=complex128), DeviceArray(17055.70577887, dtype=float64))\n",
    "0.4 -0.212+0.001j ± 0.017 [σ²=0.168, R̂=1.3601] -0.969+0.021j ± 0.023 [σ²=0.382, R̂=1.1419] (DeviceArray(0.10224766+0.00048891j, dtype=complex128), DeviceArray(10945.93731569, dtype=float64))\n",
    "0.5 -0.199+0.001j ± 0.016 [σ²=0.160, R̂=1.3908] -0.867+0.001j ± 0.021 [σ²=0.389, R̂=1.0784] (DeviceArray(0.14169473-0.00023402j, dtype=complex128), DeviceArray(20447.6639892, dtype=float64))\n",
    "0.6000000000000001 -0.034-0.000j ± 0.012 [σ²=0.090, R̂=1.3479] 0.001+0.001j ± 0.035 [σ²=1.667, R̂=1.0048] (DeviceArray(0.4918257+0.00027085j, dtype=complex128), DeviceArray(24846.6525526, dtype=float64))\n",
    "0.7000000000000001 -0.094+0.002j ± 0.015 [σ²=0.193, R̂=1.1125] 0.074+0.003j ± 0.038 [σ²=2.007, R̂=1.0015] (DeviceArray(0.53392735+8.26162773e-05j, dtype=complex128), DeviceArray(25209.21527894, dtype=float64))\n",
    "0.8 -0.005-0.012j ± 0.032 [σ²=1.658, R̂=1.0048] 0.099-0.001j ± 0.040 [σ²=1.837, R̂=1.0109] (DeviceArray(0.55290233-0.00017959j, dtype=complex128), DeviceArray(22041.68871786, dtype=float64))\n",
    "0.9 0.054+0.002j ± 0.039 [σ²=1.961, R̂=1.0038] 0.057-0.002j ± 0.045 [σ²=1.966, R̂=1.0088] (DeviceArray(0.58979722+0.00075758j, dtype=complex128), DeviceArray(23765.34066292, dtype=float64))\n",
    "1.0 0.016+0.020j ± 0.041 [σ²=1.332, R̂=1.0446] 0.047+0.001j ± 0.044 [σ²=1.836, R̂=1.0151] (DeviceArray(0.61449647+0.00161031j, dtype=complex128), DeviceArray(24261.84245778, dtype=float64))\n",
    "1.1 -0.011-0.014j ± 0.038 [σ²=1.654, R̂=1.0142] 0.011+0.001j ± 0.036 [σ²=1.362, R̂=1.0081] (DeviceArray(0.60124403-0.00031234j, dtype=complex128), DeviceArray(21915.27878002, dtype=float64))\n",
    "1.2000000000000002 0.055-0.001j ± 0.041 [σ²=1.880, R̂=1.0133] 0.089+0.001j ± 0.047 [σ²=1.957, R̂=1.0237] (DeviceArray(0.59136129+0.00115541j, dtype=complex128), DeviceArray(21983.83604879, dtype=float64))```"
   ]
  },
  {
   "cell_type": "code",
   "execution_count": 14,
   "metadata": {},
   "outputs": [],
   "source": [
    "STEPS = [.71] #np.arange(0.71,0.89,step=0.02) #[0,0.5,0.8] #[0.2,0.9]"
   ]
  },
  {
   "cell_type": "code",
   "execution_count": 15,
   "metadata": {},
   "outputs": [],
   "source": [
    "for i in STEPS:\n",
    "    # loaded_variables_1 = nk.experimental.vqs.variables_from_file(\"resurrection/RBM64_\"+\"{:4.2f}\".format(i)+\"_0.mpack\",vs_1.variables)\n",
    "    loaded_variables_1 = nk.experimental.vqs.variables_from_file(\"paper_data/RBM64None_\"+str(i)+\"_0.mpack\",vs_1.variables)\n",
    "    # loaded_variables_2 = nk.experimental.vqs.variables_from_file(\"resurrection/RBM64_\"+\"{:3.2f}\".format(i)+\"_1.mpack\",vs_2.variables)\n",
    "    vs_1.variables = loaded_variables_1\n",
    "    # vs_2.variables = loaded_variables_2\n",
    "    # the evaluation m_sSquared_slow_MSR for 8x8 lattice takes 6 min on my CPU\n",
    "    # print(i,vs_1.expect(ops.m_plaquette_op))#,vs_2.expect(ops.m_plaquette_op_MSR),ops.m_sSquared_slow_MSR(vs_2))\n",
    "    PS_landscape = np.zeros((8,8))\n",
    "    for j in range(8):\n",
    "        for k in range(8):\n",
    "            PS_landscape[j,k] = vs_1.expect(ops.Q_r(j*8+k,False)).mean.real"
   ]
  },
  {
   "cell_type": "code",
   "execution_count": 16,
   "metadata": {},
   "outputs": [
    {
     "data": {
      "image/png": "[encoded data removed]",
      "text/plain": [
       "<Figure size 432x288 with 1 Axes>"
      ]
     },
     "metadata": {
      "needs_background": "light"
     },
     "output_type": "display_data"
    }
   ],
   "source": [
    "fig, ax = plt.subplots()\n",
    "im = ax.imshow(PS_landscape)\n",
    "\n",
    "# Loop over data dimensions and create text annotations.\n",
    "for i in range(8):\n",
    "    for j in range(8):\n",
    "        text = ax.text(j, i, round(PS_landscape[i, j],2), ha=\"center\", va=\"center\", color=\"w\")\n",
    "\n",
    "ax.set_title(\"Landscape of plaquett-singlet values at each square\")\n",
    "fig.tight_layout()\n",
    "plt.show()"
   ]
  },
  {
   "cell_type": "markdown",
   "metadata": {},
   "source": [
    "0.78 -0.644+0.002j ± 0.021 [σ²=0.502, R̂=1.0347]\n",
    "0.76 0.332-0.017j ± 0.045 [σ²=1.367, R̂=1.1754]\n",
    "0.74 0.055-0.003j ± 0.042 [σ²=1.383, R̂=1.0896]"
   ]
  },
  {
   "cell_type": "code",
   "execution_count": null,
   "metadata": {},
   "outputs": [
    {
     "ename": "SyntaxError",
     "evalue": "invalid syntax (3005079556.py, line 1)",
     "output_type": "error",
     "traceback": [
      "\u001b[0;36m  File \u001b[0;32m\"/tmp/ipykernel_2729/3005079556.py\"\u001b[0;36m, line \u001b[0;32m1\u001b[0m\n\u001b[0;31m    [Đđ]{df}\u001b[0m\n\u001b[0m        ^\u001b[0m\n\u001b[0;31mSyntaxError\u001b[0m\u001b[0;31m:\u001b[0m invalid syntax\n"
     ]
    }
   ],
   "source": [
    "[Đđ]{df}"
   ]
  },
  {
   "cell_type": "code",
   "execution_count": null,
   "metadata": {},
   "outputs": [
    {
     "name": "stdout",
     "output_type": "stream",
     "text": [
      "0.2948925842124\n"
     ]
    }
   ],
   "source": [
    "sum_of_plaquettes = 0\n",
    "for i in [1,3,5,7,17,19,21,23,33,35,37,39,49,51,53,55]:\n",
    "    sum_of_plaquettes += PS_landscape[lattice.position(i)]\n",
    "for i in [8,10,12,14,24,26,28,30,40,42,44,46,56,58,60,62]:\n",
    "    sum_of_plaquettes -= PS_landscape[lattice.position(i)]\n",
    "print(sum_of_plaquettes/16)"
   ]
  },
  {
   "cell_type": "code",
   "execution_count": null,
   "metadata": {},
   "outputs": [
    {
     "data": {
      "text/plain": [
       "DeviceArray(0.29489258, dtype=float64)"
      ]
     },
     "execution_count": 15,
     "metadata": {},
     "output_type": "execute_result"
    }
   ],
   "source": [
    "ops.PS_order_full(vs_1)"
   ]
  },
  {
   "cell_type": "markdown",
   "metadata": {},
   "source": [
    "## Extraction of correct errorbars from KFES"
   ]
  },
  {
   "cell_type": "code",
   "execution_count": null,
   "metadata": {},
   "outputs": [
    {
     "name": "stdout",
     "output_type": "stream",
     "text": [
      "0.9 -126.40209783136396 0.13933272582813036 -128.98168843676436 0.17169911452398912\n"
     ]
    }
   ],
   "source": [
    "H_Z = 0\n",
    "for JEXCH1 in STEPS[1:]:\n",
    "    loaded_variables_1 = nk.experimental.vqs.variables_from_file(\"resurrection/RBM64_\"+str(round(JEXCH1,1))+\"_0.mpack\",vs_1.variables) #SS_16j1=\n",
    "    loaded_variables_2 = nk.experimental.vqs.variables_from_file(\"resurrection/RBM64_\"+str(round(JEXCH1,1))+\"_1.mpack\",vs_2.variables)\n",
    "    vs_1.variables = loaded_variables_1\n",
    "    vs_2.variables = loaded_variables_2\n",
    "    ha_1 = nk.operator.GraphOperator(hilbert, graph=g, bond_ops=ho.bond_operator(JEXCH1,JEXCH2, h_z=H_Z, use_MSR=False), bond_ops_colors=ho.bond_color)\n",
    "    ha_2 = nk.operator.GraphOperator(hilbert, graph=g, bond_ops=ho.bond_operator(JEXCH1,JEXCH2, h_z=H_Z, use_MSR=True), bond_ops_colors=ho.bond_color)\n",
    "    en_1 = vs_1.expect(ha_1)\n",
    "    en_2 = vs_2.expect(ha_2)\n",
    "    print(JEXCH1,en_1.mean.real, en_1.error_of_mean, en_2.mean.real, en_2.error_of_mean)\n",
    "    # the evaluation m_sSquared_slow_MSR for 8x8 lattice takes 6 min on my CPU\n",
    "    # print(i,vs_1.expect(ops.m_plaquette_op),vs_2.expect(ops.m_plaquette_op_MSR),ops.m_sSquared_slow_MSR(vs_2))"
   ]
  },
  {
   "cell_type": "code",
   "execution_count": null,
   "metadata": {},
   "outputs": [],
   "source": [
    "STEPS = np.array([0.62,0.64,0.66,0.68,0.72,0.74,0.76,0.78])"
   ]
  },
  {
   "cell_type": "code",
   "execution_count": null,
   "metadata": {},
   "outputs": [
    {
     "ename": "AttributeError",
     "evalue": "'MCState' object has no attribute 'estimate'",
     "output_type": "error",
     "traceback": [
      "\u001b[0;31m---------------------------------------------------------------------------\u001b[0m",
      "\u001b[0;31mAttributeError\u001b[0m                            Traceback (most recent call last)",
      "\u001b[0;32m/tmp/ipykernel_3967/2497967324.py\u001b[0m in \u001b[0;36m<module>\u001b[0;34m\u001b[0m\n\u001b[0;32m----> 1\u001b[0;31m \u001b[0mvs_1\u001b[0m\u001b[0;34m.\u001b[0m\u001b[0mestimate\u001b[0m\u001b[0;34m(\u001b[0m\u001b[0mops\u001b[0m\u001b[0;34m.\u001b[0m\u001b[0mm_plaquette_op\u001b[0m\u001b[0;34m)\u001b[0m\u001b[0;34m\u001b[0m\u001b[0;34m\u001b[0m\u001b[0m\n\u001b[0m",
      "\u001b[0;31mAttributeError\u001b[0m: 'MCState' object has no attribute 'estimate'"
     ]
    }
   ],
   "source": [
    "vs_1.estimate(ops.m_plaquette_op)"
   ]
  },
  {
   "cell_type": "code",
   "execution_count": null,
   "metadata": {},
   "outputs": [
    {
     "name": "stdout",
     "output_type": "stream",
     "text": [
      "-0.0201-0.0093j ± 0.0083 [σ²=0.1968, R̂=0.9997] -0.062+0.000j ± 0.026 [σ²=1.991, R̂=1.0008] (DeviceArray(1.0295763-2.37662473e-06j, dtype=complex128), DeviceArray(8182.94793354, dtype=float64))\n"
     ]
    }
   ],
   "source": [
    "print(vs_1.expect(ops.m_plaquette_op),vs_2.expect(ops.m_plaquette_op_MSR),ops.m_sSquared_slow_MSR(vs_2))"
   ]
  }
 ],
 "metadata": {
  "interpreter": {
   "hash": "916dbcbb3f70747c44a77c7bcd40155683ae19c65e1c03b4aa3499c5328201f1"
  },
  "kernelspec": {
   "display_name": "Python 3.8.10 64-bit",
   "language": "python",
   "name": "python3"
  },
  "language_info": {
   "codemirror_mode": {
    "name": "ipython",
    "version": 3
   },
   "file_extension": ".py",
   "mimetype": "text/x-python",
   "name": "python",
   "nbconvert_exporter": "python",
   "pygments_lexer": "ipython3",
   "version": "3.8.10"
  },
  "orig_nbformat": 4
 },
 "nbformat": 4,
 "nbformat_minor": 2
}
