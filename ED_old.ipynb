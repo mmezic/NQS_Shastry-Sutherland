{
 "cells": [
  {
   "cell_type": "code",
   "execution_count": 53,
   "metadata": {},
   "outputs": [],
   "source": [
    "import netket as nk\n",
    "import numpy as np\n",
    "import time\n",
    "import json\n",
    "import plotly.graph_objects as go\n",
    "import matplotlib.pyplot as plt\n",
    "import flax\n",
    "import pprint"
   ]
  },
  {
   "cell_type": "code",
   "execution_count": 54,
   "metadata": {},
   "outputs": [],
   "source": [
    "SITES    = 8    # 4, 8, 16, 20 ... number of vertices in a tile determines the tile shape \n",
    "JEXCH1   = .4     # nn interaction\n",
    "JEXCH2   = 1     # nnn interaction\n",
    "#USE_MSR  = True  # should we use a Marshall sign rule?\n",
    "TOTAL_SZ = None\n",
    "# output file name\n",
    "OUT_NAME = \"SS-tiles\"\n"
   ]
  },
  {
   "cell_type": "code",
   "execution_count": 55,
   "metadata": {},
   "outputs": [],
   "source": [
    "if SITES == 64:\n",
    "    indent = [0,0,0,0,0,0,0,0]\n",
    "    width = [8,8,8,8,8,8,8,8]\n",
    "    right_shift = 0\n",
    "    bottom_shift = 0\n",
    "elif SITES == 36:\n",
    "    indent = [0,0,0,0,0,0]\n",
    "    width = [6,6,6,6,6,6]\n",
    "    right_shift = 0\n",
    "    bottom_shift = 0\n",
    "elif SITES == 20: #tile shape definition\n",
    "    indent = [3,1,0,1,1,2]\n",
    "    width = [1,4,5,5,4,1]\n",
    "    right_shift = 2 #vertical shift of the center of (top) right tile (in the upward direction)\n",
    "    bottom_shift = 4 #horizontal shift of the center of bottom (left) tile (in the left direction)\n",
    "elif SITES == 16:\n",
    "    indent = [0,0,0,0]\n",
    "    width = [4,4,4,4]\n",
    "    right_shift = 0\n",
    "    bottom_shift = 0\n",
    "elif SITES == 8:\n",
    "    indent = [1,0,1]\n",
    "    width = [2,4,2]\n",
    "    right_shift = 2\n",
    "    bottom_shift = 2\n",
    "elif SITES == 4:\n",
    "    indent = [0,0]\n",
    "    width = [2,2]\n",
    "    right_shift = 0\n",
    "    bottom_shift = 0\n",
    "else:\n",
    "    raise Exception(\"Invalid number of sites given.\")\n",
    "N = sum(width) #number of nodes\n",
    "\n",
    "deg45 = True # special case when angle of tiling is 45 deg\n",
    "i = 0\n",
    "while deg45 and i < len(width)-1:\n",
    "    deg45 = (width[i] == width[i+1] + 2 or width[i] == width[i+1] - 2)\n",
    "    i += 1\n",
    "vertical_gap = False # is there a 1-site-sized gap between bottom (left) tile and left (top) tile ? \n",
    "horizontal_gap = False # is there a 1-site-sized gap between bottom (left) tile and bottom right tile ?\n",
    "if deg45:\n",
    "    if width[i]%2 == 0:\n",
    "        vertical_gap = True\n",
    "    else:\n",
    "        horizontal_gap = True\n",
    "        Exception(\"Not implemented ERROR during lattice definition. Please rotate given lattice by 90 degrees. This special case happens only when dealing with 45 deg tilings.\")\n",
    "\n",
    "left_shift = len(width) - right_shift + vertical_gap #vertical shift of the center of (top) left tile (in the upward direction)\n",
    "\n",
    "\n",
    "# i j-->\n",
    "# | .   .   .   0  \n",
    "# V .   1   2   3   4\n",
    "#   5   6   7   8   9\n",
    "#   .   10  11  12  13  14\n",
    "#   .   15  16  17  18\n",
    "#   .   .   19\n",
    "\n",
    "def getRandomNumber(): #returns a random integer\n",
    "    return 4\n",
    "def position(node): #returns positional indices i,j of the node\n",
    "    row, n = 0, 0\n",
    "    while n+width[row] <= node:\n",
    "        n += width[row]\n",
    "        row += 1\n",
    "    column = indent[row] + node - n \n",
    "    return row, column\n",
    "def index_n(row, column): #returns index n given positional indices\n",
    "    return sum(width[0:row]) + column - indent[row]\n",
    "def is_last(node):\n",
    "    row, column = position(node)\n",
    "    return (column == width[row] + indent[row] - 1)\n",
    "def is_first(node):\n",
    "    row, column = position(node)\n",
    "    return (column == indent[row])\n",
    "def is_lowest(node):\n",
    "    row, column = position(node)\n",
    "    if row == len(width) - 1:\n",
    "        return True\n",
    "    else:\n",
    "        row += 1\n",
    "        if column >= indent[row] and column < indent[row] + width[row]:\n",
    "            return False\n",
    "        else:\n",
    "            return True\n",
    "def rt(node): #returns index n of right neighbour\n",
    "    if is_last(node):\n",
    "        new_row = (position(node)[0] + right_shift)%(len(width)+vertical_gap)\n",
    "        if new_row == len(width): # special case of gap\n",
    "            new_row -= right_shift\n",
    "        return sum(width[0:new_row])\n",
    "    else:\n",
    "        return (node+1)%N\n",
    "def lft(node): #returns index n of left neighbour\n",
    "    if is_first(node):\n",
    "        new_row = (position(node)[0] + left_shift)%(len(width)+vertical_gap)\n",
    "        if new_row == len(width):\n",
    "            new_row -= left_shift\n",
    "        return sum(width[0:new_row])+width[new_row]-1\n",
    "    else:\n",
    "        return (node-1)%N\n",
    "def bot(node): #returns index n of bottom neighbour\n",
    "    row, column = position(node)\n",
    "    if is_lowest(node):\n",
    "        no_of_columns = np.array(width)+np.array(indent)\n",
    "        new_column = (column + bottom_shift)%max(no_of_columns)\n",
    "        new_row = 0\n",
    "        while new_column >= no_of_columns[new_row] or new_column < indent[new_row]:\n",
    "            new_row += 1\n",
    "        return index_n(new_row,new_column)\n",
    "    else:\n",
    "        return (node + width[row] + indent[row] - indent[row+1])\n",
    "def lrt(node):\n",
    "    return rt(bot(node))\n",
    "def llft(node):\n",
    "    return lft(bot(node))\n",
    "#def dimer_partner(node): #retunrs the index of the site which has J_2 bond with given node (partner in always unique in SS model)\n",
    "#    row, column = position(node)\n",
    "#    return TODO\n",
    "\n",
    "# Define custom graph\n",
    "edge_colors = []\n",
    "for node in range(N):\n",
    "    edge_colors.append([node,rt(node), 1]) #horizontal connections\n",
    "    edge_colors.append([node,bot(node), 1]) #vertical connections\n",
    "    row, column = position(node)\n",
    "    if column%2 == 0:\n",
    "        if row%2 == 0:\n",
    "            edge_colors.append([node,lrt(node),2])\n",
    "        else:\n",
    "            edge_colors.append([node,llft(node),2])\n",
    "\n",
    "\n",
    "# Define the netket graph object\n",
    "g = nk.graph.Graph(edges=edge_colors)\n",
    "\n",
    "hilbert = nk.hilbert.Spin(s=.5, N=g.n_nodes, total_sz=TOTAL_SZ)\n",
    "\n",
    "\n",
    "#Sigma^z*Sigma^z interactions\n",
    "sigmaz = [[1, 0], [0, -1]]\n",
    "mszsz = (np.kron(sigmaz, sigmaz)) #=sz*sz\n",
    "#Exchange interactions\n",
    "exchange = np.asarray([[0, 0, 0, 0], [0, 0, 2, 0], [0, 2, 0, 0], [0, 0, 0, 0]]) #=sx*sx+sy*sy = 1/2*(sp*sm+sm*sp)\n",
    "full_spin = mszsz+exchange # = S*S = sx*sx + sy*sy + sz*sz\n",
    "bond_color = [1, 2, 1, 2]"
   ]
  },
  {
   "cell_type": "markdown",
   "metadata": {},
   "source": [
    "## Magnetization order parameter (AF phase)\n",
    "We define magnetization order parameter <font color=#d0312d> POZOR! můj spin $\\hat{\\bm{S}}$ je definovaný jako dvojnásobek typické definice $\\hat{\\bm{S}} \\leftarrow 2\\hat{\\bm{S}}$ </font>\n",
    "$$m_s^2 := \\frac{1}{M^{2}} \\sum_{i,j} {\\rm e}^{i \\bm{q}\\cdot \\bm{r}} \\langle\\hat{\\bm{S}}_i \\cdot \\hat{\\bm{S}}_j\\rangle$$\n",
    "where $M = L\\cdot L$ (in case of Sandvik: $M = 2L\\cdot L$ and $\\hat{\\bm{S}} = \\frac{1}{2}\\hat{\\bm{S}}$). In our case $\\bm{q} = (\\pi,\\pi)$.\n",
    "\n",
    "Využíváme také identitu $\\sigma^x_i\\sigma^x_j+\\sigma^y_i\\sigma^y_j \\equiv {2}\\left(\\sigma^+_i\\sigma^-_j + \\sigma^-_i\\sigma^+_j\\right)$\n"
   ]
  },
  {
   "cell_type": "code",
   "execution_count": 56,
   "metadata": {},
   "outputs": [],
   "source": [
    "def SS_old(i,j): # S_i * S_j\n",
    "    return 2*nk.operator.spin.sigmap(hilbert,i,dtype=\"float64\")@nk.operator.spin.sigmam(hilbert,j,dtype=\"float64\")+2*nk.operator.spin.sigmam(hilbert,i,dtype=\"float64\")@nk.operator.spin.sigmap(hilbert,j,dtype=\"float64\")+nk.operator.spin.sigmaz(hilbert,i,dtype=\"float64\")@nk.operator.spin.sigmaz(hilbert,j,dtype=\"float64\")\n",
    "    #return nk.operator.spin.sigmax(hilbert, i)@nk.operator.spin.sigmax(hilbert, j) + nk.operator.spin.sigmay(hilbert, i)@nk.operator.spin.sigmay(hilbert, j) + nk.operator.spin.sigmaz(hilbert, i)@nk.operator.spin.sigmaz(hilbert, j)\n",
    "\n",
    "def SS(i,j): #different method of definition\n",
    "    if i==j:\n",
    "        return nk.operator.LocalOperator(hilbert,operators=[[3,0],[0,3]],acting_on=[i])\n",
    "    else:\n",
    "        return nk.operator.LocalOperator(hilbert,operators=(mszsz+exchange),acting_on=[i,j])\n",
    "\n",
    "def m_sSquared_slow(state):\n",
    "    ss_operator = 0\n",
    "    M = hilbert.size\n",
    "    m_s2 = 0\n",
    "    for i in range(M):\n",
    "        for j in range(M):\n",
    "            ss_operator += SS(i,j) * (-1)**np.sum(position(i)+position(j))\n",
    "        if i%3==2 or i==(M-1):\n",
    "            print(i)\n",
    "            m_s2 += (state.transpose()@(ss_operator@state))[0,0]\n",
    "            ss_operator = 0\n",
    "    m_s2 = m_s2/M**2\n",
    "    return m_s2\n",
    "\n",
    "def m_sSquared(state):\n",
    "    ss_operator = 0\n",
    "    M = hilbert.size\n",
    "    if M == 20: # we need to slower the calculation due to unkown reasons (prehaps numpy can't handle too non-sparse matrix) \n",
    "        return m_sSquared_slow(state)\n",
    "    for i in range(M):\n",
    "        for j in range(M):\n",
    "            ss_operator += SS(i,j) * (-1)**np.sum(position(i)+position(j)) #(i+j) #chyba?\n",
    "    m_s2 = (state.transpose()@(ss_operator@state))[0,0]/M**2\n",
    "    return m_s2\n"
   ]
  },
  {
   "cell_type": "markdown",
   "metadata": {},
   "source": [
    "## Dimer order parameter (DS phase)\n",
    "$$m_{\\rm dimer}^2 := -\\frac{1}{3} \\frac{2}{M} \\sum_{(ij)_{dimer}} \\langle\\hat{\\bm{S}}_i \\cdot \\hat{\\bm{S}}_j\\rangle$$\n",
    "plus normalizace na 3/4 (v mém případě 3)"
   ]
  },
  {
   "cell_type": "code",
   "execution_count": 57,
   "metadata": {},
   "outputs": [],
   "source": [
    "def m_dimer(state):\n",
    "    ss_operator = 0\n",
    "    M = hilbert.size\n",
    "    for node in range(M):\n",
    "        row, column = position(node)\n",
    "        if column%2 == 0:\n",
    "            if row%2 == 0:\n",
    "                ss_operator += SS(node,lrt(node))\n",
    "            else:\n",
    "                ss_operator += SS(node,llft(node))\n",
    "    m_d2 = -1/3 * (state.transpose()@(ss_operator@state))[0,0]/M*2\n",
    "    return m_d2"
   ]
  },
  {
   "cell_type": "markdown",
   "metadata": {},
   "source": [
    "## Plaquette order parameter (PS phase)\n",
    "We define another order parameter $m_p := \\langle \\hat{\\bm{Q}}_{\\bm{R}} - \\hat{\\bm{Q}}_{\\bm{R'}}\\rangle$, where $\\hat{\\bm{Q}}_{\\bm{r}} := \\frac{1}{2}\\left(\\hat{\\bm{P}}_{\\bm{r}} + \\hat{\\bm{P}}_{\\bm{r}}^{-1}\\right)$, where $\\hat{\\bm{P}}_{\\bm{r}} = \\hat{\\bm{P}}_{ijkl}^\\text{cykl}$ is cyclic permutation operator \n",
    "$$\\hat{\\bm{P}}_{ijkl}^\\text{cykl} | \\dots \\sigma_i \\sigma_j \\sigma_k \\sigma_l \\dots \\rangle = | \\dots \\sigma_l \\sigma_i \\sigma_j \\sigma_k \\dots \\rangle $$\n",
    "We can implement cyclic permutation using binary permutation operator\n",
    "$$ \\hat{\\bm{P}}^\\text{cykl}_{ijkl} = \\hat{\\bm{P}}_{ik}\\hat{\\bm{P}}_{kl}\\hat{\\bm{P}}_{ij} \\quad \\quad \\quad \\left(\\hat{\\bm{P}}^\\text{cykl}_{ijkl}\\right)^{-1} = \\hat{\\bm{P}}_{jl}\\hat{\\bm{P}}_{kl}\\hat{\\bm{P}}_{ij}$$\n",
    "And use a formula for permutation operator\n",
    "$$ \\hat{\\bm{P}}_{ij} \\equiv \\frac{1}{2} (\\hat{\\bm{S}}_i\\cdot \\hat{\\bm{S}}_j + \\hat{\\mathbb{1}})$$"
   ]
  },
  {
   "cell_type": "code",
   "execution_count": 58,
   "metadata": {},
   "outputs": [],
   "source": [
    "def P(i,j): # two particle permutation operator\n",
    "    return .5*(SS(i,j)+nk.operator.LocalOperator(hilbert,operators=[[1,0,0,0],[0,1,0,0],[0,0,1,0],[0,0,0,1]],acting_on=[i,j]))\n",
    "\n",
    "def P_cykl(i,j,k,l): # 4 particle cyclic permutation operator\n",
    "    return P(i,k)@P(k,l)@P(i,j)\n",
    "def P_cykl_inv(i,j,k,l): # inverse of 4 particle cyclic permutation operator\n",
    "    return P(j,l)@P(k,l)@P(i,j)\n",
    "\n",
    "def P_r(i): # cyclic permutation of 4 sites located at position i\n",
    "    return P_cykl(i,rt(i),lrt(i),bot(i))\n",
    "# i --> i j  .... we assigne a lrt cell to each index i\n",
    "#       l k\n",
    "def P_r_inv(i): # inverse of cyclic permutation of 4 sites located at position i\n",
    "    return P_cykl_inv(i,rt(i),lrt(i),bot(i))\n",
    "\n",
    "def Q_r(i):\n",
    "    return .5*(P_r(i) + P_r_inv(i))\n",
    "\n",
    "def m_p_nearest(state):\n",
    "    return state.transpose()@((Q_r(0)-Q_r(1))@state)\n",
    "\n",
    "def m_p_diag(state):\n",
    "    i = 0\n",
    "    while sum(position(i))%2 == 0: # ensure that the plaquette is 'empty' (without J_2 bond inside)\n",
    "        i += 1\n",
    "    return state.transpose()@((Q_r(i)-Q_r(lrt(i)))@state)"
   ]
  },
  {
   "cell_type": "markdown",
   "metadata": {},
   "source": [
    "## General structure factor\n",
    "\n",
    "$$s(\\bm{k}) := \\frac{1}{M} \\sum_{i,j} {\\rm e}^{-i \\bm{k}\\cdot (\\bm{r}_i - \\bm{r}_j)} \\langle\\hat{\\bm{S}}_i \\cdot \\hat{\\bm{S}}_j\\rangle$$\n"
   ]
  },
  {
   "cell_type": "markdown",
   "metadata": {},
   "source": [
    "## general spin structure factor\n",
    "$$ S(\\bm{q}) := \\frac{1}{M^{2}} \\sum_{ij} {\\rm e}^{i \\bm{q}\\cdot (\\bm{r}_i - \\bm{r}_j)} \\langle\\hat{\\bm{S}}_i \\cdot \\hat{\\bm{S}}_j\\rangle$$\n",
    "where $q_{x,y} = 2\\pi \\frac{n_{x,y}}{\\sqrt{M}}$ for $n_{x,y} = \\{0,\\dots,\\sqrt{M}-1\\}$"
   ]
  },
  {
   "cell_type": "code",
   "execution_count": 59,
   "metadata": {},
   "outputs": [],
   "source": [
    "def structure_factor(state,k):\n",
    "    s_op = 0\n",
    "    M = hilbert.size\n",
    "    L = np.sqrt(M)\n",
    "    k = 2*np.pi/L*np.array(k)\n",
    "    if M >= 20: # we need to slower the calculation due to unkown reasons (prehaps numpy can't handle too non-sparse matrix) \n",
    "        raise Exception(\"structure_factor in not optimised for large hilbert spaces\")\n",
    "    if L != int(L):\n",
    "        raise Exception(\"structure_factor not defined for non-square lattices\")\n",
    "    for i in range(M):\n",
    "        for j in range(M):\n",
    "            s_op += SS(i,j) * np.exp(-1j*np.sum(k*(np.array(position(i))-position(j)))) #(i+j) #chyba?\n",
    "    structure_factor = (state.transpose()@(s_op@state))/M**2\n",
    "    return structure_factor"
   ]
  },
  {
   "cell_type": "code",
   "execution_count": 1,
   "metadata": {},
   "outputs": [],
   "source": [
    "# TODO"
   ]
  },
  {
   "cell_type": "markdown",
   "metadata": {},
   "source": [
    "# Actual calculation"
   ]
  },
  {
   "cell_type": "code",
   "execution_count": 63,
   "metadata": {},
   "outputs": [
    {
     "name": "stdout",
     "output_type": "stream",
     "text": [
      "#N = 8\n",
      "# J1     J2      m_d2            m_p            m_s2             ground          1.excited          2.excited\n",
      "0.600   1.000  1.0000000000   -0.0000000000   0.0000000000   -12.0000000000   -10.4000000000    -8.8000000000\n",
      "0.610   1.000  1.0000000000   -0.0000000000   -0.0000000000   -12.0000000000   -10.6400000000    -8.8800000000\n",
      "0.620   1.000  1.0000000000   0.0000000000   -0.0000000000   -12.0000000000   -10.8800000000    -8.9600000000\n",
      "0.630   1.000  1.0000000000   0.0000000000   -0.0000000000   -12.0000000000   -11.1200000000    -9.0400000000\n",
      "0.640   1.000  1.0000000000   -0.0000000000   -0.0000000000   -12.0000000000   -11.3600000000    -9.1200000000\n",
      "0.650   1.000  1.0000000000   -0.0000000000   0.0000000000   -12.0000000000   -11.6000000000    -9.2000000000\n",
      "0.660   1.000  1.0000000000   -0.0000000000   0.0000000000   -12.0000000000   -11.8400000000    -9.2800000000\n",
      "0.670   1.000  -0.3333333333   -0.0000000000   1.5000000000   -12.0800000000   -12.0000000000    -9.4000000000\n",
      "0.680   1.000  -0.3333333333   0.0000000000   1.5000000000   -12.3200000000   -12.0000000000    -9.6000000000\n",
      "0.690   1.000  -0.3333333333   -0.0000000000   1.5000000000   -12.5600000000   -12.0000000000    -9.8000000000\n"
     ]
    }
   ],
   "source": [
    "print(\"#N =\", N)\n",
    "print(\"# J1     J2      m_d2            m_p            m_s2             ground          1.excited          2.excited\")\n",
    "for JEXCH1 in np.arange(0.6,0.7,step=0.01):    #default: 0,1.2,step=0.2\n",
    "    bond_operator = [\n",
    "        (JEXCH1 * mszsz).tolist(),\n",
    "        (JEXCH2 * mszsz).tolist(),\n",
    "        (JEXCH1 * exchange).tolist(), # minus in case of MSR\n",
    "        (JEXCH2 * exchange).tolist(),\n",
    "    ]\n",
    "    # Custom Hamiltonian operator\n",
    "    ha = nk.operator.GraphOperator(hilbert, graph=g, bond_ops=bond_operator, bond_ops_colors=bond_color)\n",
    "\n",
    "    if g.n_nodes < 25:\n",
    "        start = time.time()\n",
    "        evals, eigvects = nk.exact.lanczos_ed(ha, k=3, compute_eigenvectors=True) #.lanczos_ed\n",
    "        ground_state = eigvects.T[0]\n",
    "        # print(\"time:\", time.time() - start)\n",
    "        m_d2 = m_dimer(eigvects[:,:1])\n",
    "        # print(\"time:\", time.time() - start)\n",
    "        mp = m_p_diag(eigvects[:,:1])\n",
    "        # print(\"time:\", time.time() - start)\n",
    "        m_s2 = m_sSquared(eigvects[:,:1])\n",
    "        # print(structure_factor(ground_state,(2,2)))\n",
    "        # print(\"time:\", time.time() - start)\n",
    "        #diag_time = time.time() - start\n",
    "        #print(\"Ground state energy:\",exact_ground_energy, \"\\nIt took \", round(diag_time,2), \"s =\", round((diag_time)/60,2),\"min\")\n",
    "    else:\n",
    "        print(\"System is too large for exact diagonalization. Setting exact_ground_energy = 0 (which is wrong)\")\n",
    "        exact_ground_energy = 0\n",
    "    print(\"%.3f   %.3f  %2.10f   %2.10f   %.10f   %2.10f   %14.10f   %14.10f\" % (JEXCH1, JEXCH2, m_d2, mp[0,0], m_s2, evals[0], evals[1], evals[2]))\n",
    "    #print('{:>3}   {:>3}  {:>12}   {:>12}   {:>12}   {:>12}   {:>14}   {:>14}'.format(JEXCH1, JEXCH2, m_d2, mp[0,0], m_s2, evals[0], evals[1], evals[2]))"
   ]
  },
  {
   "cell_type": "markdown",
   "metadata": {},
   "source": [
    "## Spin structure factor visualization"
   ]
  },
  {
   "cell_type": "code",
   "execution_count": 62,
   "metadata": {},
   "outputs": [
    {
     "ename": "Exception",
     "evalue": "structure_factor not defined for non-square lattices",
     "output_type": "error",
     "traceback": [
      "\u001b[0;31m---------------------------------------------------------------------------\u001b[0m",
      "\u001b[0;31mException\u001b[0m                                 Traceback (most recent call last)",
      "\u001b[0;32m/tmp/ipykernel_5007/1156246492.py\u001b[0m in \u001b[0;36m<module>\u001b[0;34m\u001b[0m\n\u001b[1;32m      4\u001b[0m \u001b[0;32mfor\u001b[0m \u001b[0mky\u001b[0m \u001b[0;32min\u001b[0m \u001b[0mrange\u001b[0m\u001b[0;34m(\u001b[0m\u001b[0mLp\u001b[0m\u001b[0;34m)\u001b[0m\u001b[0;34m:\u001b[0m\u001b[0;34m\u001b[0m\u001b[0;34m\u001b[0m\u001b[0m\n\u001b[1;32m      5\u001b[0m     \u001b[0;32mfor\u001b[0m \u001b[0mkx\u001b[0m \u001b[0;32min\u001b[0m \u001b[0mrange\u001b[0m\u001b[0;34m(\u001b[0m\u001b[0mLp\u001b[0m\u001b[0;34m)\u001b[0m\u001b[0;34m:\u001b[0m\u001b[0;34m\u001b[0m\u001b[0;34m\u001b[0m\u001b[0m\n\u001b[0;32m----> 6\u001b[0;31m         \u001b[0ms\u001b[0m\u001b[0;34m[\u001b[0m\u001b[0mky\u001b[0m\u001b[0;34m,\u001b[0m\u001b[0mkx\u001b[0m\u001b[0;34m]\u001b[0m \u001b[0;34m=\u001b[0m \u001b[0mstructure_factor\u001b[0m\u001b[0;34m(\u001b[0m\u001b[0mground_state\u001b[0m\u001b[0;34m,\u001b[0m\u001b[0;34m(\u001b[0m\u001b[0mkx\u001b[0m\u001b[0;34m,\u001b[0m\u001b[0mky\u001b[0m\u001b[0;34m)\u001b[0m\u001b[0;34m)\u001b[0m\u001b[0;34m\u001b[0m\u001b[0;34m\u001b[0m\u001b[0m\n\u001b[0m\u001b[1;32m      7\u001b[0m         \u001b[0;32mif\u001b[0m \u001b[0mkx\u001b[0m \u001b[0;34m==\u001b[0m \u001b[0;36m0\u001b[0m\u001b[0;34m:\u001b[0m\u001b[0;34m\u001b[0m\u001b[0;34m\u001b[0m\u001b[0m\n\u001b[1;32m      8\u001b[0m             \u001b[0mprint\u001b[0m\u001b[0;34m(\u001b[0m\u001b[0mky\u001b[0m\u001b[0;34m)\u001b[0m\u001b[0;34m\u001b[0m\u001b[0;34m\u001b[0m\u001b[0m\n",
      "\u001b[0;32m/tmp/ipykernel_5007/4033628316.py\u001b[0m in \u001b[0;36mstructure_factor\u001b[0;34m(state, k)\u001b[0m\n\u001b[1;32m      7\u001b[0m         \u001b[0;32mraise\u001b[0m \u001b[0mException\u001b[0m\u001b[0;34m(\u001b[0m\u001b[0;34m\"structure_factor in not optimised for large hilbert spaces\"\u001b[0m\u001b[0;34m)\u001b[0m\u001b[0;34m\u001b[0m\u001b[0;34m\u001b[0m\u001b[0m\n\u001b[1;32m      8\u001b[0m     \u001b[0;32mif\u001b[0m \u001b[0mL\u001b[0m \u001b[0;34m!=\u001b[0m \u001b[0mint\u001b[0m\u001b[0;34m(\u001b[0m\u001b[0mL\u001b[0m\u001b[0;34m)\u001b[0m\u001b[0;34m:\u001b[0m\u001b[0;34m\u001b[0m\u001b[0;34m\u001b[0m\u001b[0m\n\u001b[0;32m----> 9\u001b[0;31m         \u001b[0;32mraise\u001b[0m \u001b[0mException\u001b[0m\u001b[0;34m(\u001b[0m\u001b[0;34m\"structure_factor not defined for non-square lattices\"\u001b[0m\u001b[0;34m)\u001b[0m\u001b[0;34m\u001b[0m\u001b[0;34m\u001b[0m\u001b[0m\n\u001b[0m\u001b[1;32m     10\u001b[0m     \u001b[0;32mfor\u001b[0m \u001b[0mi\u001b[0m \u001b[0;32min\u001b[0m \u001b[0mrange\u001b[0m\u001b[0;34m(\u001b[0m\u001b[0mM\u001b[0m\u001b[0;34m)\u001b[0m\u001b[0;34m:\u001b[0m\u001b[0;34m\u001b[0m\u001b[0;34m\u001b[0m\u001b[0m\n\u001b[1;32m     11\u001b[0m         \u001b[0;32mfor\u001b[0m \u001b[0mj\u001b[0m \u001b[0;32min\u001b[0m \u001b[0mrange\u001b[0m\u001b[0;34m(\u001b[0m\u001b[0mM\u001b[0m\u001b[0;34m)\u001b[0m\u001b[0;34m:\u001b[0m\u001b[0;34m\u001b[0m\u001b[0;34m\u001b[0m\u001b[0m\n",
      "\u001b[0;31mException\u001b[0m: structure_factor not defined for non-square lattices"
     ]
    }
   ],
   "source": [
    "L = 4\n",
    "Lp = L+1\n",
    "s = np.zeros((Lp,Lp))\n",
    "for ky in range(Lp):\n",
    "    for kx in range(Lp):\n",
    "        s[ky,kx] = structure_factor(ground_state,(kx,ky))\n",
    "        if kx == 0:\n",
    "            print(ky)\n"
   ]
  },
  {
   "cell_type": "code",
   "execution_count": null,
   "metadata": {},
   "outputs": [
    {
     "data": {
      "text/plain": [
       "<matplotlib.colorbar.Colorbar at 0x7fdbb8164e50>"
      ]
     },
     "execution_count": 90,
     "metadata": {},
     "output_type": "execute_result"
    },
    {
     "data": {
      "image/png": "[encoded data removed]",
      "text/plain": [
       "<Figure size 432x288 with 2 Axes>"
      ]
     },
     "metadata": {
      "needs_background": "light"
     },
     "output_type": "display_data"
    }
   ],
   "source": [
    "plt.imshow(s,vmin=0,vmax=1)#, interpolation='spline16')\n",
    "plt.title(\"4x4 lattice,  J1=\"+str(JEXCH1)+\",  J2=\"+str(JEXCH2))\n",
    "plt.colorbar()"
   ]
  },
  {
   "cell_type": "code",
   "execution_count": null,
   "metadata": {},
   "outputs": [
    {
     "ename": "ModuleNotFoundError",
     "evalue": "No module named 'seabasdforn'",
     "output_type": "error",
     "traceback": [
      "\u001b[0;31m---------------------------------------------------------------------------\u001b[0m",
      "\u001b[0;31mModuleNotFoundError\u001b[0m                       Traceback (most recent call last)",
      "\u001b[0;32m/tmp/ipykernel_26596/1385102902.py\u001b[0m in \u001b[0;36m<module>\u001b[0;34m\u001b[0m\n\u001b[0;32m----> 1\u001b[0;31m \u001b[0;32mimport\u001b[0m \u001b[0mseabasdforn\u001b[0m \u001b[0;32mas\u001b[0m \u001b[0msns\u001b[0m\u001b[0;34m\u001b[0m\u001b[0;34m\u001b[0m\u001b[0m\n\u001b[0m\u001b[1;32m      2\u001b[0m \u001b[0max\u001b[0m \u001b[0;34m=\u001b[0m \u001b[0msns\u001b[0m\u001b[0;34m.\u001b[0m\u001b[0mheatmap\u001b[0m\u001b[0;34m(\u001b[0m\u001b[0ms\u001b[0m\u001b[0;34m)\u001b[0m\u001b[0;34m\u001b[0m\u001b[0;34m\u001b[0m\u001b[0m\n\u001b[1;32m      3\u001b[0m \u001b[0mplt\u001b[0m\u001b[0;34m.\u001b[0m\u001b[0mshow\u001b[0m\u001b[0;34m(\u001b[0m\u001b[0;34m)\u001b[0m\u001b[0;34m\u001b[0m\u001b[0;34m\u001b[0m\u001b[0m\n",
      "\u001b[0;31mModuleNotFoundError\u001b[0m: No module named 'seabasdforn'"
     ]
    }
   ],
   "source": [
    "import seabasdforn as sns\n",
    "ax = sns.heatmap(s)\n",
    "plt.show()"
   ]
  },
  {
   "cell_type": "code",
   "execution_count": null,
   "metadata": {},
   "outputs": [
    {
     "data": {
      "text/plain": [
       "<matplotlib.colorbar.Colorbar at 0x7fdbb85c4e20>"
      ]
     },
     "execution_count": 73,
     "metadata": {},
     "output_type": "execute_result"
    },
    {
     "data": {
      "image/png": "[encoded data removed]",
      "text/plain": [
       "<Figure size 432x288 with 2 Axes>"
      ]
     },
     "metadata": {
      "needs_background": "light"
     },
     "output_type": "display_data"
    }
   ],
   "source": [
    "plt.imshow(s,vmin=0,vmax=1)#, interpolation='spline16')\n",
    "plt.title(\"4x4 lattice,  J1=\"+str(JEXCH1)+\",  J2=\"+str(JEXCH2))\n",
    "plt.colorbar()"
   ]
  },
  {
   "cell_type": "code",
   "execution_count": null,
   "metadata": {},
   "outputs": [
    {
     "data": {
      "text/plain": [
       "<matplotlib.colorbar.Colorbar at 0x7fdbb8857e20>"
      ]
     },
     "execution_count": 67,
     "metadata": {},
     "output_type": "execute_result"
    },
    {
     "data": {
      "image/png": "[encoded data removed]",
      "text/plain": [
       "<Figure size 432x288 with 2 Axes>"
      ]
     },
     "metadata": {
      "needs_background": "light"
     },
     "output_type": "display_data"
    }
   ],
   "source": [
    "plt.imshow(s,vmin=0,vmax=1)#, interpolation='spline16')\n",
    "plt.title(\"4x4 lattice,  J1=\"+str(JEXCH1)+\",  J2=\"+str(JEXCH2))\n",
    "plt.colorbar()"
   ]
  }
 ],
 "metadata": {
  "interpreter": {
   "hash": "31f2aee4e71d21fbe5cf8b01ff0e069b9275f58929596ceb00d14d90e3e16cd6"
  },
  "kernelspec": {
   "display_name": "Python 3.8.10 64-bit",
   "name": "python3"
  },
  "language_info": {
   "codemirror_mode": {
    "name": "ipython",
    "version": 3
   },
   "file_extension": ".py",
   "mimetype": "text/x-python",
   "name": "python",
   "nbconvert_exporter": "python",
   "pygments_lexer": "ipython3",
   "version": "3.8.10"
  },
  "orig_nbformat": 4
 },
 "nbformat": 4,
 "nbformat_minor": 2
}
