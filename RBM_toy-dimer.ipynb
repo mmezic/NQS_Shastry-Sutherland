{
 "cells": [
  {
   "cell_type": "markdown",
   "metadata": {},
   "source": [
    "# Exploring two dimer toy model with (symmetric) RBM"
   ]
  },
  {
   "cell_type": "code",
   "execution_count": 69,
   "metadata": {},
   "outputs": [
    {
     "name": "stdout",
     "output_type": "stream",
     "text": [
      "NetKet version: 3.3\n",
      "NumPy version: 1.20.3\n"
     ]
    }
   ],
   "source": [
    "import netket as nk\n",
    "import numpy as np\n",
    "import time\n",
    "import json\n",
    "import plotly.graph_objects as go\n",
    "import matplotlib.pyplot as plt\n",
    "import jax\n",
    "import flax\n",
    "import optax\n",
    "import pprint\n",
    "print(\"NetKet version: {}\".format(nk.__version__))\n",
    "print(\"NumPy version: {}\".format(np.__version__))"
   ]
  },
  {
   "cell_type": "markdown",
   "metadata": {},
   "source": [
    "Setup relevant parameters"
   ]
  },
  {
   "cell_type": "code",
   "execution_count": 70,
   "metadata": {},
   "outputs": [],
   "source": [
    "\"\"\"lattice\"\"\"\n",
    "SITES    = 4            # 4, 8, 16, 20 ... number of vertices in a tile determines the tile shape \n",
    "JEXCH1   = .9            # nn interaction\n",
    "JEXCH2   = 1            # nnn interaction\n",
    "#USE_MSR  = True        # should we use a Marshall sign rule?\n",
    "\"\"\"machine learning\"\"\"\n",
    "MACHINE = \"GCNN\"\n",
    "TOTAL_SZ = None            # 0, None ... restriction of Hilbert space\n",
    "DTYPE = np.complex128      #np.float64 #double #np.complex128   # type of weights in neural network\n",
    "SAMPLER = 'exact'       # 'local' = MetropolisLocal, 'exchange' = MetropolisExchange\n",
    "ALPHA = 16               # N_hidden / N_visible\n",
    "ETA   = .005             # learning rate (0.01 usually works)\n",
    "SAMPLES = 1000\n",
    "NUM_ITER = 4000\n",
    "num_layers = 2 #2          # number of layers in G-CNN\n",
    "feature_dims = (8,4) #(8,4) #(8,8,8,8) # dimensions of layers in G-CNN\n",
    "\n",
    "OUT_NAME = \"SS-RBM_ops\"+str(SITES)+\"j1=\"+str(JEXCH1) # output file name"
   ]
  },
  {
   "cell_type": "markdown",
   "metadata": {},
   "source": [
    "Lattice and hamiltonian definition: &nbsp; &nbsp; &nbsp; &nbsp; &nbsp; &nbsp; &nbsp; &nbsp; &nbsp; $ H = J_{1} \\sum\\limits_{\\langle i,j \\rangle}^{L} \\vec{\\sigma}_{i} \\cdot \\vec{\\sigma}_{j} + J_{2} \\sum\\limits_{\\langle\\langle i,j \\rangle\\rangle_{SS}}^{L}  \\vec{\\sigma}_{i} \\cdot \\vec{\\sigma}_{j}\\,, $"
   ]
  },
  {
   "cell_type": "code",
   "execution_count": 71,
   "metadata": {},
   "outputs": [],
   "source": [
    "# Define custom graph\n",
    "# edge_colors = []\n",
    "\n",
    "# edge_colors.append([0,1,1])\n",
    "# edge_colors.append([2,3,1])\n",
    "# # # SS 2x2 lattice:\n",
    "# edge_colors.append([1,2,1])\n",
    "# edge_colors.append([0,3,1])\n",
    "# edge_colors.append([0,2,2])\n",
    "# edge_colors.append([1,3,2])\n",
    "# # double bonds\n",
    "# edge_colors.append([0,1,1])\n",
    "# edge_colors.append([2,3,1])\n",
    "# edge_colors.append([1,2,1])\n",
    "# edge_colors.append([0,3,1])\n",
    "\n",
    "# 3-chain:\n",
    "# edge_colors.append([0,1,1])\n",
    "# edge_colors.append([1,2,1])\n",
    "# edge_colors.append([2,0,1])\n",
    "\n",
    "from lattice_and_ops import Lattice\n",
    "lattice = Lattice(SITES)\n",
    "\n",
    "# Define custom graph\n",
    "edge_colors = []\n",
    "for node in range(SITES):\n",
    "    edge_colors.append([node,lattice.rt(node), 1]) #horizontal connections\n",
    "    edge_colors.append([node,lattice.bot(node), 1]) #vertical connections\n",
    "    row, column = lattice.position(node)\n",
    "    if column%2 == 0:\n",
    "        if row%2 == 0:\n",
    "            edge_colors.append([node,lattice.lrt(node),2])\n",
    "        else:\n",
    "            edge_colors.append([node,lattice.llft(node),2])\n",
    "\n",
    "# Define the netket graph object\n",
    "g = nk.graph.Graph(edges=edge_colors) #,n_nodes=3)\n",
    "N = g.n_nodes\n",
    "\n",
    "hilbert = nk.hilbert.Spin(s=.5, N=g.n_nodes, total_sz=TOTAL_SZ)\n",
    "\n",
    "\n",
    "#Sigma^z*Sigma^z interactions\n",
    "sigmaz = [[1, 0], [0, -1]]\n",
    "mszsz = (np.kron(sigmaz, sigmaz)) #=sz*sz\n",
    "#Exchange interactions\n",
    "exchange = np.asarray([[0, 0, 0, 0], [0, 0, 2, 0], [0, 2, 0, 0], [0, 0, 0, 0]]) #=sx*sx+sy*sy = 1/2*(sp*sm+sm*sp)\n",
    "full_spin = mszsz+exchange # = S*S = sx*sx + sy*sy + sz*sz\n",
    "bond_color = [1, 2, 1, 2]"
   ]
  },
  {
   "cell_type": "code",
   "execution_count": 72,
   "metadata": {},
   "outputs": [],
   "source": [
    "# translations = []\n",
    "# for perm in g.automorphisms():\n",
    "#     aperm = np.asarray(perm)\n",
    "#     if True:\n",
    "#     # if (aperm[0],aperm[1]) in ((0,1),(1,0),(2,3),(3,2)): # translations for 2*2 SS model\n",
    "#     # if (aperm[2],aperm[0]) in ((2,0),(3,0),(0,1),(1,2)):#,(2,3,1)): # N = 16, two dimmers with just translation\n",
    "#     # if (aperm[0],aperm[1],aperm[3]) in ((0,1,3),(3,2,0),(2,3,1),(1,0,2)): # N = 16, two dimmers plus second translation option\n",
    "#         translations.append(nk.utils.group._permutation_group.Permutation(aperm))\n",
    "# # print(translations)\n",
    "# translation_group = nk.utils.group._permutation_group.PermutationGroup(translations,degree=N)\n",
    "# # characters = np.array([1,-1,-1,1,1,-1,-1,1],dtype=complex) # in case of just two dimers"
   ]
  },
  {
   "cell_type": "code",
   "execution_count": 73,
   "metadata": {},
   "outputs": [
    {
     "name": "stdout",
     "output_type": "stream",
     "text": [
      "There are 8 full symmetries:\n",
      "[1.+0.j 1.+0.j 1.+0.j 1.+0.j 1.+0.j 1.+0.j 1.+0.j 1.+0.j]\n",
      "[1.+0.j 1.+0.j 1.+0.j 1.+0.j 1.+0.j 1.+0.j 1.+0.j 1.+0.j]\n"
     ]
    }
   ],
   "source": [
    "\n",
    "print(\"There are\", len(g.automorphisms()), \"full symmetries:\")\n",
    "if JEXCH1 < 0.5:\n",
    "    characters = []\n",
    "    from lattice_and_ops import permutation_sign\n",
    "    for perm in g.automorphisms():\n",
    "        print(perm, permutation_sign(np.asarray(perm)))\n",
    "        characters.append(permutation_sign(np.asarray(perm)))\n",
    "    characters_dimer = np.asarray(characters,dtype=complex) #np.array([1,-1,1,-1,-1,1,-1,1], dtype=complex) # 2*2 SS model\n",
    "    characters_dimer_msr = characters_dimer\n",
    "else:\n",
    "    characters_dimer = np.ones((len(g.automorphisms()),), dtype=complex)\n",
    "    characters_dimer_msr = characters_dimer\n",
    "print(characters_dimer)\n",
    "print(characters_dimer_msr)\n",
    "# print(\"There are\", len(translation_group),\"restricted symmetries:\")\n",
    "# print(translation_group)"
   ]
  },
  {
   "cell_type": "code",
   "execution_count": 74,
   "metadata": {},
   "outputs": [
    {
     "name": "stdout",
     "output_type": "stream",
     "text": [
      "[[0, 1, 2, 3], [0, 1, 3, 2], [0, 2, 1, 3], [0, 2, 3, 1], [0, 3, 1, 2], [0, 3, 2, 1], [1, 0, 2, 3], [1, 0, 3, 2], [1, 2, 0, 3], [1, 2, 3, 0], [1, 3, 0, 2], [1, 3, 2, 0], [2, 0, 1, 3], [2, 0, 3, 1], [2, 1, 0, 3], [2, 1, 3, 0], [2, 3, 0, 1], [2, 3, 1, 0], [3, 0, 1, 2], [3, 0, 2, 1], [3, 1, 0, 2], [3, 1, 2, 0], [3, 2, 0, 1], [3, 2, 1, 0]]\n"
     ]
    }
   ],
   "source": [
    "print(g.to_igraph().get_automorphisms_vf2())"
   ]
  },
  {
   "cell_type": "markdown",
   "metadata": {},
   "source": [
    "## Hamoltonian"
   ]
  },
  {
   "cell_type": "code",
   "execution_count": 75,
   "metadata": {},
   "outputs": [],
   "source": [
    "from lattice_and_ops import HamOps\n",
    "ho = HamOps()\n",
    "ha = nk.operator.GraphOperator(hilbert, graph=g, bond_ops=ho.bond_operator(JEXCH1,JEXCH2, use_MSR=False), bond_ops_colors=ho.bond_color)\n",
    "ha_MSR = nk.operator.GraphOperator(hilbert, graph=g, bond_ops=ho.bond_operator(JEXCH1,JEXCH2, use_MSR=True), bond_ops_colors=ho.bond_color)\n"
   ]
  },
  {
   "cell_type": "code",
   "execution_count": 76,
   "metadata": {},
   "outputs": [],
   "source": [
    "# # Quick different definition using Hypercube & Heisenberg\n",
    "# L = 4\n",
    "# g = nk.graph.Hypercube(length=L, n_dim=2, pbc=True)\n",
    "# hilbert = nk.hilbert.Spin(s=0.5, total_sz=TOTAL_SZ, N=g.n_nodes)\n",
    "# ha = nk.operator.Heisenberg(hilbert=hilbert, graph=g, sign_rule=False)\n",
    "# ha_MSR = nk.operator.Heisenberg(hilbert=hilbert, graph=g, sign_rule=True) "
   ]
  },
  {
   "cell_type": "markdown",
   "metadata": {},
   "source": [
    "## Exact diagonalization"
   ]
  },
  {
   "cell_type": "code",
   "execution_count": 77,
   "metadata": {},
   "outputs": [
    {
     "name": "stdout",
     "output_type": "stream",
     "text": [
      "Ground state energy: -12.399999999999999 \n",
      "It took  0.0 s = 0.0 min\n"
     ]
    }
   ],
   "source": [
    "if g.n_nodes < 20:\n",
    "    start = time.time()\n",
    "    if g.n_nodes < 15:\n",
    "        evals, eigvects = nk.exact.full_ed(ha, compute_eigenvectors=True)\n",
    "    else:\n",
    "        evals, eigvects = nk.exact.lanczos_ed(ha, k=3, compute_eigenvectors=True)\n",
    "    end = time.time()\n",
    "    diag_time = end - start\n",
    "    print(\"Ground state energy:\",evals[0], \"\\nIt took \", round(diag_time,2), \"s =\", round((diag_time)/60,2),\"min\")\n",
    "else:\n",
    "    print(\"System is too large for exact diagonalization. Setting exact_ground_energy = 0 (which is wrong)\")\n",
    "    evals = [0,0,0]\n",
    "    eigvects = None \n",
    "exact_ground_energy = evals[0]\n",
    "# -36.2460684609957 "
   ]
  },
  {
   "cell_type": "code",
   "execution_count": 78,
   "metadata": {},
   "outputs": [
    {
     "name": "stdout",
     "output_type": "stream",
     "text": [
      "[-12.4  -6.   -5.2  -5.2  -5.2  -2.   -2.   -2.   -2.   -2.   -2.    9.2\n",
      "   9.2   9.2   9.2   9.2]\n"
     ]
    }
   ],
   "source": [
    "print(evals)\n",
    "# print(eigvects[:,0])"
   ]
  },
  {
   "cell_type": "markdown",
   "metadata": {},
   "source": [
    "## RBM\n",
    "```"
   ]
  },
  {
   "cell_type": "code",
   "execution_count": 79,
   "metadata": {},
   "outputs": [],
   "source": [
    "if MACHINE == \"ModPhase\":\n",
    "    # A linear schedule varies the learning rate from 0 to 0.01 across 600 steps.\n",
    "    modulus_schedule=optax.linear_schedule(0,0.01,NUM_ITER)\n",
    "    modulus_schedule_MSR=optax.linear_schedule(0,0.01,NUM_ITER)\n",
    "\n",
    "    # The phase starts with a larger learning rate and then is decreased.\n",
    "    phase_schedule=optax.linear_schedule(0.05,0.01,NUM_ITER)\n",
    "    phase_schedule_MSR=optax.linear_schedule(0.05,0.01,NUM_ITER)\n",
    "\n",
    "    # Combine the linear schedule with SGD\n",
    "    optm=optax.sgd(modulus_schedule)\n",
    "    optp=optax.sgd(phase_schedule)\n",
    "    optm_MSR=optax.sgd(modulus_schedule_MSR)\n",
    "    optp_MSR=optax.sgd(phase_schedule_MSR)\n",
    "\n",
    "    # The multi-transform optimizer uses different optimisers for different parts of the\n",
    "    # parameters.\n",
    "    optimizer = optax.multi_transform({'o1': optm, 'o2': optp}, flax.core.freeze({\"Dense_0\":\"o1\", \"Dense_1\":\"o2\"}))\n",
    "    optimizer_MSR = optax.multi_transform({'o1': optm_MSR, 'o2': optp_MSR}, flax.core.freeze({\"Dense_0\":\"o1\", \"Dense_1\":\"o2\"}))\n",
    "else:\n",
    "    optimizer = nk.optimizer.Sgd(learning_rate=ETA)\n",
    "    optimizer_MSR = nk.optimizer.Sgd(learning_rate=ETA)"
   ]
  },
  {
   "cell_type": "code",
   "execution_count": 80,
   "metadata": {},
   "outputs": [],
   "source": [
    "#GCNN\n",
    "#definice modelu, sampleru atd.\n",
    "\n",
    "#Feature dimensions of hidden layers, from first to last\n",
    "#feature_dims = (8,8,8,8)\n",
    "\n",
    "#Number of layers\n",
    "#num_layers = 4\n",
    "\n",
    "#Define the GCNN\n",
    "# machine = nk.models.GCNN(symmetries = g.automorphisms(), layers = num_layers, features = feature_dims)\n",
    "# machine_MSR = nk.models.GCNN(symmetries = g.automorphisms(), layers = num_layers, features = feature_dims)"
   ]
  },
  {
   "cell_type": "code",
   "execution_count": 81,
   "metadata": {},
   "outputs": [],
   "source": [
    "#definice modelu, sampleru atd.\n",
    "if MACHINE == \"RBM\":\n",
    "    machine =     nk.models.RBM(dtype=DTYPE, alpha=ALPHA)#, use_visible_bias=False) \n",
    "    machine_MSR = nk.models.RBM(dtype=DTYPE, alpha=ALPHA)#, use_visible_bias=False)\n",
    "elif MACHINE == \"RBMModPhase\":\n",
    "    machine = nk.models.RBMModPhase(alpha=ALPHA, use_hidden_bias=True, dtype=DTYPE)\n",
    "    machine_MSR = nk.models.RBMModPhase(alpha=ALPHA, use_hidden_bias=True, dtype=DTYPE)\n",
    "elif MACHINE == \"GCNN\":\n",
    "    machine     = nk.models.GCNN(symmetries=g.automorphisms(), dtype=DTYPE, layers=num_layers, features=feature_dims, characters=characters_dimer)\n",
    "    machine_MSR = nk.models.GCNN(symmetries=g.automorphisms(), dtype=DTYPE, layers=num_layers, features=feature_dims, characters=characters_dimer_msr)\n",
    "elif MACHINE == \"RBMSymm\":\n",
    "    machine =     nk.models.RBMSymm(g.automorphisms(), dtype=DTYPE, alpha=ALPHA)#, use_visible_bias=False) \n",
    "    machine_MSR = nk.models.RBMSymm(g.automorphisms(), dtype=DTYPE, alpha=ALPHA)#, use_visible_bias=False)\n",
    "elif MACHINE == \"RBMSymm_transl\":\n",
    "    machine =     nk.models.RBMSymm(translation_group, dtype=DTYPE, alpha=ALPHA)#, use_visible_bias=False) \n",
    "    machine_MSR = nk.models.RBMSymm(translation_group, dtype=DTYPE, alpha=ALPHA)#, use_visible_bias=False)\n",
    "else:\n",
    "    raise Exception(str(\"undefined MACHINE: \")+str(MACHINE))\n",
    "\n",
    "# Meropolis Exchange Sampling\n",
    "if SAMPLER == 'local':\n",
    "    sampler = nk.sampler.MetropolisLocal(hilbert=hilbert)\n",
    "    sampler_MSR = nk.sampler.MetropolisLocal(hilbert=hilbert)\n",
    "elif SAMPLER == 'exact':\n",
    "    sampler = nk.sampler.ExactSampler(hilbert=hilbert)\n",
    "    sampler_MSR = nk.sampler.ExactSampler(hilbert=hilbert)\n",
    "else:\n",
    "    sampler = nk.sampler.MetropolisExchange(hilbert=hilbert, graph=g)\n",
    "    sampler_MSR = nk.sampler.MetropolisExchange(hilbert=hilbert, graph=g)\n",
    "    if SAMPLER != 'exchange':\n",
    "        print(\"Warning! Undefined fq.SAMPLER:\", SAMPLER, \", dafaulting to MetropolisExchange fq.SAMPLER\")\n",
    "\n",
    "\n",
    "# Stochastic Reconfiguration\n",
    "sr  = nk.optimizer.SR(diag_shift=0.01)\n",
    "sr_MSR  = nk.optimizer.SR(diag_shift=0.01)\n",
    "\n",
    "# The variational state (drive to byla nk.variational.MCState)\n",
    "vss = nk.vqs.MCState(sampler, machine, n_samples=SAMPLES)\n",
    "vs_MSR  = nk.vqs.MCState(sampler_MSR, machine_MSR, n_samples=SAMPLES)\n",
    "vss.init_parameters(jax.nn.initializers.normal(stddev=0.001))\n",
    "vs_MSR.init_parameters(jax.nn.initializers.normal(stddev=0.001))\n",
    "\n",
    "\n",
    "gs_normal = nk.VMC(hamiltonian=ha ,optimizer=optimizer,preconditioner=sr,variational_state=vss)               # 0 ... symmetric\n",
    "gs_MSR = nk.VMC(hamiltonian=ha_MSR ,optimizer=optimizer_MSR,preconditioner=sr_MSR,variational_state=vs_MSR)   # 1 ... symmetric+MSR"
   ]
  },
  {
   "cell_type": "code",
   "execution_count": 82,
   "metadata": {},
   "outputs": [
    {
     "data": {
      "text/plain": [
       "300"
      ]
     },
     "execution_count": 82,
     "metadata": {},
     "output_type": "execute_result"
    }
   ],
   "source": [
    "vss.n_parameters"
   ]
  },
  {
   "cell_type": "markdown",
   "metadata": {},
   "source": [
    "# Operators"
   ]
  },
  {
   "cell_type": "code",
   "execution_count": 83,
   "metadata": {},
   "outputs": [],
   "source": [
    "def SS(i,j): #different method of definition\n",
    "    if i==j:\n",
    "        return nk.operator.LocalOperator(hilbert,operators=[[3,0],[0,3]],acting_on=[i])\n",
    "    else:\n",
    "        return nk.operator.LocalOperator(hilbert,operators=(mszsz+exchange),acting_on=[i,j])\n",
    "\n",
    "def P(i,j,msr=False): # two particle permutation operator\n",
    "    if msr == False:\n",
    "        return .5*(SS(i,j)+nk.operator.LocalOperator(hilbert,operators=[[1,0,0,0],[0,1,0,0],[0,0,1,0],[0,0,0,1]],acting_on=[i,j]))\n",
    "    else:\n",
    "        raise NotImplementedError()\n"
   ]
  },
  {
   "cell_type": "markdown",
   "metadata": {},
   "source": [
    "# Calculation"
   ]
  },
  {
   "cell_type": "code",
   "execution_count": 84,
   "metadata": {},
   "outputs": [
    {
     "name": "stdout",
     "output_type": "stream",
     "text": [
      "J_1 = 0.9\n",
      "Expected exact energy: -12.399999999999999\n"
     ]
    },
    {
     "name": "stderr",
     "output_type": "stream",
     "text": [
      "100%|██████████| 60/60 [00:02<00:00, 21.33it/s, Energy=-11.796-0.000j ± 0.065 [σ²=4.943]] \n"
     ]
    },
    {
     "name": "stdout",
     "output_type": "stream",
     "text": [
      "The type 0 of RBM calculation took 0.055713717142740884 min\n"
     ]
    },
    {
     "name": "stderr",
     "output_type": "stream",
     "text": [
      "100%|██████████| 60/60 [00:02<00:00, 22.60it/s, Energy=-11.824+0.000j ± 0.059 [σ²=3.820]]"
     ]
    },
    {
     "name": "stdout",
     "output_type": "stream",
     "text": [
      "The type 1 of RBM calculation took 0.05312680006027222 min\n"
     ]
    },
    {
     "name": "stderr",
     "output_type": "stream",
     "text": [
      "\n"
     ]
    }
   ],
   "source": [
    "no_of_runs = 2 #2 ... bude se pocitat i druhý způsob (za použití MSR)\n",
    "use_MSR = 0 # in case of one run\n",
    "NUM_ITER = 20*3\n",
    "print(\"J_1 =\", JEXCH1)\n",
    "if exact_ground_energy != 0:\n",
    "    print(\"Expected exact energy:\", exact_ground_energy)\n",
    "for i,gs in enumerate([gs_normal,gs_MSR][use_MSR:use_MSR+no_of_runs]):\n",
    "    start = time.time()\n",
    "    gs.run(out=OUT_NAME+str(i), n_iter=int(NUM_ITER))#, obs={'symmetry':P(0,1)})\n",
    "    end = time.time()\n",
    "    print(\"The type {} of RBM calculation took {} min\".format(i, (end-start)/60))\n"
   ]
  },
  {
   "cell_type": "code",
   "execution_count": 85,
   "metadata": {},
   "outputs": [
    {
     "name": "stdout",
     "output_type": "stream",
     "text": [
      "Trained RBM without MSR:\n",
      "m_d^2 = -3.333e-01+2.174e-19j ± 6.319e-18 [σ²=2.498e-32]\n",
      "m_p = 1.000e+00+0.000e+00j ± nan [σ²=0.000e+00]\n",
      "m_s^2 = 1.9478-0.0000j ± 0.0061 [σ²=0.0279]\n",
      "m_s^2 = 0.639+0.000j ± 0.015 [σ²=0.198] <--- no MSR!!\n",
      "Trained RBM with MSR:\n",
      "m_d^2 = -3.333e-01-2.961e-19j ± 1.113e-17 [σ²=2.083e-32]\n",
      "m_p = 1.000e+00+0.000e+00j ± nan [σ²=0.000e+00]\n",
      "m_s^2 = 1.9646-0.0000j ± 0.0037 [σ²=0.0180]\n",
      "m_s^2 = 0.663+0.000j ± 0.014 [σ²=0.202] <--- no MSR!!\n"
     ]
    }
   ],
   "source": [
    "from lattice_and_ops import Operators, Lattice\n",
    "ops = Operators(lattice,hilbert,mszsz,exchange)\n",
    "for i,gs in enumerate([gs_normal,gs_MSR][use_MSR:use_MSR+no_of_runs]):\n",
    "    print(\"Trained RBM with MSR:\" if i else \"Trained RBM without MSR:\")\n",
    "    print(\"m_d^2 =\", gs.estimate(ops.m_dimer_op))\n",
    "    print(\"m_p =\", gs.estimate(ops.m_plaquette_op_MSR))\n",
    "    print(\"m_s^2 =\", gs.estimate(ops.m_s2_op_MSR))\n",
    "    print(\"m_s^2 =\", gs.estimate(ops.m_s2_op), \"<--- no MSR!!\")"
   ]
  },
  {
   "cell_type": "code",
   "execution_count": 86,
   "metadata": {},
   "outputs": [
    {
     "name": "stdout",
     "output_type": "stream",
     "text": [
      "2.000e+00+0.000e+00j ± nan [σ²=0.000e+00]\n"
     ]
    }
   ],
   "source": [
    "print(gs_normal.estimate(2*nk.operator.LocalOperator(hilbert,operators=[[1,0],[0,1]],acting_on=[0])))"
   ]
  },
  {
   "cell_type": "markdown",
   "metadata": {},
   "source": [
    "## Energy"
   ]
  },
  {
   "cell_type": "code",
   "execution_count": 87,
   "metadata": {},
   "outputs": [],
   "source": [
    "# exact energy line\n",
    "figure = go.Figure(\n",
    "    data=[go.Scatter(x=(0,NUM_ITER),y=(exact_ground_energy,exact_ground_energy),mode=\"lines\",line=go.scatter.Line(color=\"#000000\",width=1), name=\"exact energy\"),go.Scatter(x=(0,NUM_ITER),y=(.995*exact_ground_energy,.995*exact_ground_energy),mode=\"lines\",line=go.scatter.Line(color=\"#000000\",width=1), name=\"99.5 % of exact energy\")], \n",
    "    layout=go.Layout(template=\"simple_white\",\n",
    "        xaxis=dict(title=\"Iteration\", mirror=True, showline=True),\n",
    "        yaxis=dict(title=\"Energy\", mirror=True, showline=True),\n",
    "        title=(\"<b>\"+\"S-S\"+\" model </b>, L=\"+str(SITES)+\", J2 =\"+str(JEXCH2)+ \", J1 =\"+str(JEXCH1)+\" , η=\"+str(ETA)+\", α=\"+str(ALPHA)+\", samples=\"+str(SAMPLES))))"
   ]
  },
  {
   "cell_type": "code",
   "execution_count": 88,
   "metadata": {},
   "outputs": [
    {
     "data": {
      "application/vnd.plotly.v1+json": {
       "config": {
        "plotlyServerURL": "https://plot.ly"
       },
       "data": [
        {
         "line": {
          "color": "#000000",
          "width": 1
         },
         "mode": "lines",
         "name": "exact energy",
         "type": "scatter",
         "x": [
          0,
          60
         ],
         "y": [
          -12.399999999999999,
          -12.399999999999999
         ]
        },
        {
         "line": {
          "color": "#000000",
          "width": 1
         },
         "mode": "lines",
         "name": "99.5 % of exact energy",
         "type": "scatter",
         "x": [
          0,
          60
         ],
         "y": [
          -12.338,
          -12.338
         ]
        },
        {
         "name": "normal basis",
         "type": "scatter",
         "x": [
          0,
          1,
          2,
          3,
          4,
          5,
          6,
          7,
          8,
          9,
          10,
          11,
          12,
          13,
          14,
          15,
          16,
          17,
          18,
          19,
          20,
          21,
          22,
          23,
          24,
          25,
          26,
          27,
          28,
          29,
          30,
          31,
          32,
          33,
          34,
          35,
          36,
          37,
          38,
          39,
          40,
          41,
          42,
          43,
          44,
          45,
          46,
          47,
          48,
          49,
          50,
          51,
          52,
          53,
          54,
          55,
          56,
          57,
          58,
          59
         ],
         "y": [
          -5.660800200957392,
          -5.675199416656596,
          -5.012800240990639,
          -4.854400428254223,
          -5.200009568862045,
          -6.04957162710406,
          -5.041509352025706,
          -5.11311059691551,
          -5.1705692110191,
          -5.5054878523731325,
          -5.671771081557303,
          -5.2588272859743395,
          -5.336999805178501,
          -5.500847442498891,
          -6.148899566625364,
          -5.974860861558828,
          -5.81171351640185,
          -6.2527765354629485,
          -6.177578263465946,
          -6.7086252369654975,
          -6.4297681799453175,
          -7.081294005802873,
          -6.830744185957878,
          -7.35346469173177,
          -8.04832039320544,
          -7.990592457498521,
          -8.594820244319896,
          -8.815854264661224,
          -8.937572343222012,
          -9.02463216442188,
          -9.234108149739882,
          -9.38321628501553,
          -9.518120863328237,
          -9.863117233860693,
          -10.032693694710291,
          -10.118012656764959,
          -10.091099509625007,
          -10.214966570284117,
          -10.372546967503583,
          -10.53501966514336,
          -10.8286684139319,
          -10.774767394574384,
          -10.816736148913353,
          -10.873516991801566,
          -11.243938117721315,
          -10.978634067487203,
          -11.031529267130558,
          -11.155577179581428,
          -11.151926825799265,
          -11.305954669811,
          -11.438199425562763,
          -11.40699303646032,
          -11.551845978363758,
          -11.496789496425787,
          -11.608992030603343,
          -11.713932899095203,
          -11.79332575694224,
          -11.69067242196365,
          -11.886862767176622,
          -11.795876880605698
         ]
        },
        {
         "name": "MSR basis",
         "type": "scatter",
         "x": [
          0,
          1,
          2,
          3,
          4,
          5,
          6,
          7,
          8,
          9,
          10,
          11,
          12,
          13,
          14,
          15,
          16,
          17,
          18,
          19,
          20,
          21,
          22,
          23,
          24,
          25,
          26,
          27,
          28,
          29,
          30,
          31,
          32,
          33,
          34,
          35,
          36,
          37,
          38,
          39,
          40,
          41,
          42,
          43,
          44,
          45,
          46,
          47,
          48,
          49,
          50,
          51,
          52,
          53,
          54,
          55,
          56,
          57,
          58,
          59
         ],
         "y": [
          -4.9983998263470175,
          -4.8688000456340825,
          -4.825601410638723,
          -4.897600001787881,
          -5.113610729925154,
          -5.185578560713269,
          -5.358546302878022,
          -4.955679959783957,
          -5.186584947768084,
          -5.51679417325161,
          -5.65595526998417,
          -5.633022009968927,
          -5.309976432464219,
          -5.496752300255932,
          -5.784018276894121,
          -6.124722667847004,
          -5.738186157183384,
          -6.659148779947046,
          -6.3011081972042415,
          -6.446233148675815,
          -7.091739965621987,
          -7.002620284207779,
          -7.5434569420867446,
          -7.881004580446013,
          -8.274906462866385,
          -8.691505543802188,
          -8.734749193831703,
          -8.795587422412455,
          -9.476530813003576,
          -9.488628081287803,
          -9.602146977911655,
          -9.785252436491552,
          -9.662885620851455,
          -10.161219192866646,
          -10.23369275233953,
          -10.34366376112011,
          -10.132692068209936,
          -10.590330855800985,
          -10.792431010248944,
          -10.741127106559857,
          -10.848468287804952,
          -11.064738758155052,
          -11.097065856998313,
          -11.047316231739975,
          -11.220087942749403,
          -11.269893349305907,
          -11.418894469800694,
          -11.409272670463539,
          -11.254889507121302,
          -11.465366512025088,
          -11.41315501222631,
          -11.583289581329263,
          -11.493471229692746,
          -11.801358605707499,
          -11.703165092540535,
          -11.698303251384093,
          -11.853840462095272,
          -11.680281277833284,
          -11.802505668695238,
          -11.824166190346734
         ]
        }
       ],
       "layout": {
        "template": {
         "data": {
          "bar": [
           {
            "error_x": {
             "color": "rgb(36,36,36)"
            },
            "error_y": {
             "color": "rgb(36,36,36)"
            },
            "marker": {
             "line": {
              "color": "white",
              "width": 0.5
             },
             "pattern": {
              "fillmode": "overlay",
              "size": 10,
              "solidity": 0.2
             }
            },
            "type": "bar"
           }
          ],
          "barpolar": [
           {
            "marker": {
             "line": {
              "color": "white",
              "width": 0.5
             },
             "pattern": {
              "fillmode": "overlay",
              "size": 10,
              "solidity": 0.2
             }
            },
            "type": "barpolar"
           }
          ],
          "carpet": [
           {
            "aaxis": {
             "endlinecolor": "rgb(36,36,36)",
             "gridcolor": "white",
             "linecolor": "white",
             "minorgridcolor": "white",
             "startlinecolor": "rgb(36,36,36)"
            },
            "baxis": {
             "endlinecolor": "rgb(36,36,36)",
             "gridcolor": "white",
             "linecolor": "white",
             "minorgridcolor": "white",
             "startlinecolor": "rgb(36,36,36)"
            },
            "type": "carpet"
           }
          ],
          "choropleth": [
           {
            "colorbar": {
             "outlinewidth": 1,
             "tickcolor": "rgb(36,36,36)",
             "ticks": "outside"
            },
            "type": "choropleth"
           }
          ],
          "contour": [
           {
            "colorbar": {
             "outlinewidth": 1,
             "tickcolor": "rgb(36,36,36)",
             "ticks": "outside"
            },
            "colorscale": [
             [
              0,
              "#440154"
             ],
             [
              0.1111111111111111,
              "#482878"
             ],
             [
              0.2222222222222222,
              "#3e4989"
             ],
             [
              0.3333333333333333,
              "#31688e"
             ],
             [
              0.4444444444444444,
              "#26828e"
             ],
             [
              0.5555555555555556,
              "#1f9e89"
             ],
             [
              0.6666666666666666,
              "#35b779"
             ],
             [
              0.7777777777777778,
              "#6ece58"
             ],
             [
              0.8888888888888888,
              "#b5de2b"
             ],
             [
              1,
              "#fde725"
             ]
            ],
            "type": "contour"
           }
          ],
          "contourcarpet": [
           {
            "colorbar": {
             "outlinewidth": 1,
             "tickcolor": "rgb(36,36,36)",
             "ticks": "outside"
            },
            "type": "contourcarpet"
           }
          ],
          "heatmap": [
           {
            "colorbar": {
             "outlinewidth": 1,
             "tickcolor": "rgb(36,36,36)",
             "ticks": "outside"
            },
            "colorscale": [
             [
              0,
              "#440154"
             ],
             [
              0.1111111111111111,
              "#482878"
             ],
             [
              0.2222222222222222,
              "#3e4989"
             ],
             [
              0.3333333333333333,
              "#31688e"
             ],
             [
              0.4444444444444444,
              "#26828e"
             ],
             [
              0.5555555555555556,
              "#1f9e89"
             ],
             [
              0.6666666666666666,
              "#35b779"
             ],
             [
              0.7777777777777778,
              "#6ece58"
             ],
             [
              0.8888888888888888,
              "#b5de2b"
             ],
             [
              1,
              "#fde725"
             ]
            ],
            "type": "heatmap"
           }
          ],
          "heatmapgl": [
           {
            "colorbar": {
             "outlinewidth": 1,
             "tickcolor": "rgb(36,36,36)",
             "ticks": "outside"
            },
            "colorscale": [
             [
              0,
              "#440154"
             ],
             [
              0.1111111111111111,
              "#482878"
             ],
             [
              0.2222222222222222,
              "#3e4989"
             ],
             [
              0.3333333333333333,
              "#31688e"
             ],
             [
              0.4444444444444444,
              "#26828e"
             ],
             [
              0.5555555555555556,
              "#1f9e89"
             ],
             [
              0.6666666666666666,
              "#35b779"
             ],
             [
              0.7777777777777778,
              "#6ece58"
             ],
             [
              0.8888888888888888,
              "#b5de2b"
             ],
             [
              1,
              "#fde725"
             ]
            ],
            "type": "heatmapgl"
           }
          ],
          "histogram": [
           {
            "marker": {
             "line": {
              "color": "white",
              "width": 0.6
             }
            },
            "type": "histogram"
           }
          ],
          "histogram2d": [
           {
            "colorbar": {
             "outlinewidth": 1,
             "tickcolor": "rgb(36,36,36)",
             "ticks": "outside"
            },
            "colorscale": [
             [
              0,
              "#440154"
             ],
             [
              0.1111111111111111,
              "#482878"
             ],
             [
              0.2222222222222222,
              "#3e4989"
             ],
             [
              0.3333333333333333,
              "#31688e"
             ],
             [
              0.4444444444444444,
              "#26828e"
             ],
             [
              0.5555555555555556,
              "#1f9e89"
             ],
             [
              0.6666666666666666,
              "#35b779"
             ],
             [
              0.7777777777777778,
              "#6ece58"
             ],
             [
              0.8888888888888888,
              "#b5de2b"
             ],
             [
              1,
              "#fde725"
             ]
            ],
            "type": "histogram2d"
           }
          ],
          "histogram2dcontour": [
           {
            "colorbar": {
             "outlinewidth": 1,
             "tickcolor": "rgb(36,36,36)",
             "ticks": "outside"
            },
            "colorscale": [
             [
              0,
              "#440154"
             ],
             [
              0.1111111111111111,
              "#482878"
             ],
             [
              0.2222222222222222,
              "#3e4989"
             ],
             [
              0.3333333333333333,
              "#31688e"
             ],
             [
              0.4444444444444444,
              "#26828e"
             ],
             [
              0.5555555555555556,
              "#1f9e89"
             ],
             [
              0.6666666666666666,
              "#35b779"
             ],
             [
              0.7777777777777778,
              "#6ece58"
             ],
             [
              0.8888888888888888,
              "#b5de2b"
             ],
             [
              1,
              "#fde725"
             ]
            ],
            "type": "histogram2dcontour"
           }
          ],
          "mesh3d": [
           {
            "colorbar": {
             "outlinewidth": 1,
             "tickcolor": "rgb(36,36,36)",
             "ticks": "outside"
            },
            "type": "mesh3d"
           }
          ],
          "parcoords": [
           {
            "line": {
             "colorbar": {
              "outlinewidth": 1,
              "tickcolor": "rgb(36,36,36)",
              "ticks": "outside"
             }
            },
            "type": "parcoords"
           }
          ],
          "pie": [
           {
            "automargin": true,
            "type": "pie"
           }
          ],
          "scatter": [
           {
            "marker": {
             "colorbar": {
              "outlinewidth": 1,
              "tickcolor": "rgb(36,36,36)",
              "ticks": "outside"
             }
            },
            "type": "scatter"
           }
          ],
          "scatter3d": [
           {
            "line": {
             "colorbar": {
              "outlinewidth": 1,
              "tickcolor": "rgb(36,36,36)",
              "ticks": "outside"
             }
            },
            "marker": {
             "colorbar": {
              "outlinewidth": 1,
              "tickcolor": "rgb(36,36,36)",
              "ticks": "outside"
             }
            },
            "type": "scatter3d"
           }
          ],
          "scattercarpet": [
           {
            "marker": {
             "colorbar": {
              "outlinewidth": 1,
              "tickcolor": "rgb(36,36,36)",
              "ticks": "outside"
             }
            },
            "type": "scattercarpet"
           }
          ],
          "scattergeo": [
           {
            "marker": {
             "colorbar": {
              "outlinewidth": 1,
              "tickcolor": "rgb(36,36,36)",
              "ticks": "outside"
             }
            },
            "type": "scattergeo"
           }
          ],
          "scattergl": [
           {
            "marker": {
             "colorbar": {
              "outlinewidth": 1,
              "tickcolor": "rgb(36,36,36)",
              "ticks": "outside"
             }
            },
            "type": "scattergl"
           }
          ],
          "scattermapbox": [
           {
            "marker": {
             "colorbar": {
              "outlinewidth": 1,
              "tickcolor": "rgb(36,36,36)",
              "ticks": "outside"
             }
            },
            "type": "scattermapbox"
           }
          ],
          "scatterpolar": [
           {
            "marker": {
             "colorbar": {
              "outlinewidth": 1,
              "tickcolor": "rgb(36,36,36)",
              "ticks": "outside"
             }
            },
            "type": "scatterpolar"
           }
          ],
          "scatterpolargl": [
           {
            "marker": {
             "colorbar": {
              "outlinewidth": 1,
              "tickcolor": "rgb(36,36,36)",
              "ticks": "outside"
             }
            },
            "type": "scatterpolargl"
           }
          ],
          "scatterternary": [
           {
            "marker": {
             "colorbar": {
              "outlinewidth": 1,
              "tickcolor": "rgb(36,36,36)",
              "ticks": "outside"
             }
            },
            "type": "scatterternary"
           }
          ],
          "surface": [
           {
            "colorbar": {
             "outlinewidth": 1,
             "tickcolor": "rgb(36,36,36)",
             "ticks": "outside"
            },
            "colorscale": [
             [
              0,
              "#440154"
             ],
             [
              0.1111111111111111,
              "#482878"
             ],
             [
              0.2222222222222222,
              "#3e4989"
             ],
             [
              0.3333333333333333,
              "#31688e"
             ],
             [
              0.4444444444444444,
              "#26828e"
             ],
             [
              0.5555555555555556,
              "#1f9e89"
             ],
             [
              0.6666666666666666,
              "#35b779"
             ],
             [
              0.7777777777777778,
              "#6ece58"
             ],
             [
              0.8888888888888888,
              "#b5de2b"
             ],
             [
              1,
              "#fde725"
             ]
            ],
            "type": "surface"
           }
          ],
          "table": [
           {
            "cells": {
             "fill": {
              "color": "rgb(237,237,237)"
             },
             "line": {
              "color": "white"
             }
            },
            "header": {
             "fill": {
              "color": "rgb(217,217,217)"
             },
             "line": {
              "color": "white"
             }
            },
            "type": "table"
           }
          ]
         },
         "layout": {
          "annotationdefaults": {
           "arrowhead": 0,
           "arrowwidth": 1
          },
          "autotypenumbers": "strict",
          "coloraxis": {
           "colorbar": {
            "outlinewidth": 1,
            "tickcolor": "rgb(36,36,36)",
            "ticks": "outside"
           }
          },
          "colorscale": {
           "diverging": [
            [
             0,
             "rgb(103,0,31)"
            ],
            [
             0.1,
             "rgb(178,24,43)"
            ],
            [
             0.2,
             "rgb(214,96,77)"
            ],
            [
             0.3,
             "rgb(244,165,130)"
            ],
            [
             0.4,
             "rgb(253,219,199)"
            ],
            [
             0.5,
             "rgb(247,247,247)"
            ],
            [
             0.6,
             "rgb(209,229,240)"
            ],
            [
             0.7,
             "rgb(146,197,222)"
            ],
            [
             0.8,
             "rgb(67,147,195)"
            ],
            [
             0.9,
             "rgb(33,102,172)"
            ],
            [
             1,
             "rgb(5,48,97)"
            ]
           ],
           "sequential": [
            [
             0,
             "#440154"
            ],
            [
             0.1111111111111111,
             "#482878"
            ],
            [
             0.2222222222222222,
             "#3e4989"
            ],
            [
             0.3333333333333333,
             "#31688e"
            ],
            [
             0.4444444444444444,
             "#26828e"
            ],
            [
             0.5555555555555556,
             "#1f9e89"
            ],
            [
             0.6666666666666666,
             "#35b779"
            ],
            [
             0.7777777777777778,
             "#6ece58"
            ],
            [
             0.8888888888888888,
             "#b5de2b"
            ],
            [
             1,
             "#fde725"
            ]
           ],
           "sequentialminus": [
            [
             0,
             "#440154"
            ],
            [
             0.1111111111111111,
             "#482878"
            ],
            [
             0.2222222222222222,
             "#3e4989"
            ],
            [
             0.3333333333333333,
             "#31688e"
            ],
            [
             0.4444444444444444,
             "#26828e"
            ],
            [
             0.5555555555555556,
             "#1f9e89"
            ],
            [
             0.6666666666666666,
             "#35b779"
            ],
            [
             0.7777777777777778,
             "#6ece58"
            ],
            [
             0.8888888888888888,
             "#b5de2b"
            ],
            [
             1,
             "#fde725"
            ]
           ]
          },
          "colorway": [
           "#1F77B4",
           "#FF7F0E",
           "#2CA02C",
           "#D62728",
           "#9467BD",
           "#8C564B",
           "#E377C2",
           "#7F7F7F",
           "#BCBD22",
           "#17BECF"
          ],
          "font": {
           "color": "rgb(36,36,36)"
          },
          "geo": {
           "bgcolor": "white",
           "lakecolor": "white",
           "landcolor": "white",
           "showlakes": true,
           "showland": true,
           "subunitcolor": "white"
          },
          "hoverlabel": {
           "align": "left"
          },
          "hovermode": "closest",
          "mapbox": {
           "style": "light"
          },
          "paper_bgcolor": "white",
          "plot_bgcolor": "white",
          "polar": {
           "angularaxis": {
            "gridcolor": "rgb(232,232,232)",
            "linecolor": "rgb(36,36,36)",
            "showgrid": false,
            "showline": true,
            "ticks": "outside"
           },
           "bgcolor": "white",
           "radialaxis": {
            "gridcolor": "rgb(232,232,232)",
            "linecolor": "rgb(36,36,36)",
            "showgrid": false,
            "showline": true,
            "ticks": "outside"
           }
          },
          "scene": {
           "xaxis": {
            "backgroundcolor": "white",
            "gridcolor": "rgb(232,232,232)",
            "gridwidth": 2,
            "linecolor": "rgb(36,36,36)",
            "showbackground": true,
            "showgrid": false,
            "showline": true,
            "ticks": "outside",
            "zeroline": false,
            "zerolinecolor": "rgb(36,36,36)"
           },
           "yaxis": {
            "backgroundcolor": "white",
            "gridcolor": "rgb(232,232,232)",
            "gridwidth": 2,
            "linecolor": "rgb(36,36,36)",
            "showbackground": true,
            "showgrid": false,
            "showline": true,
            "ticks": "outside",
            "zeroline": false,
            "zerolinecolor": "rgb(36,36,36)"
           },
           "zaxis": {
            "backgroundcolor": "white",
            "gridcolor": "rgb(232,232,232)",
            "gridwidth": 2,
            "linecolor": "rgb(36,36,36)",
            "showbackground": true,
            "showgrid": false,
            "showline": true,
            "ticks": "outside",
            "zeroline": false,
            "zerolinecolor": "rgb(36,36,36)"
           }
          },
          "shapedefaults": {
           "fillcolor": "black",
           "line": {
            "width": 0
           },
           "opacity": 0.3
          },
          "ternary": {
           "aaxis": {
            "gridcolor": "rgb(232,232,232)",
            "linecolor": "rgb(36,36,36)",
            "showgrid": false,
            "showline": true,
            "ticks": "outside"
           },
           "baxis": {
            "gridcolor": "rgb(232,232,232)",
            "linecolor": "rgb(36,36,36)",
            "showgrid": false,
            "showline": true,
            "ticks": "outside"
           },
           "bgcolor": "white",
           "caxis": {
            "gridcolor": "rgb(232,232,232)",
            "linecolor": "rgb(36,36,36)",
            "showgrid": false,
            "showline": true,
            "ticks": "outside"
           }
          },
          "title": {
           "x": 0.05
          },
          "xaxis": {
           "automargin": true,
           "gridcolor": "rgb(232,232,232)",
           "linecolor": "rgb(36,36,36)",
           "showgrid": false,
           "showline": true,
           "ticks": "outside",
           "title": {
            "standoff": 15
           },
           "zeroline": false,
           "zerolinecolor": "rgb(36,36,36)"
          },
          "yaxis": {
           "automargin": true,
           "gridcolor": "rgb(232,232,232)",
           "linecolor": "rgb(36,36,36)",
           "showgrid": false,
           "showline": true,
           "ticks": "outside",
           "title": {
            "standoff": 15
           },
           "zeroline": false,
           "zerolinecolor": "rgb(36,36,36)"
          }
         }
        },
        "title": {
         "text": "<b>S-S model </b>, L=4, J2 =1, J1 =0.9 , η=0.005, α=16, samples=1000"
        },
        "xaxis": {
         "mirror": true,
         "showline": true,
         "title": {
          "text": "Iteration"
         }
        },
        "yaxis": {
         "mirror": true,
         "showline": true,
         "title": {
          "text": "Energy"
         }
        }
       }
      },
      "text/html": [
       "<div>                            <div id=\"3c47308d-67ec-424b-a3a2-f12e0cb2bfd5\" class=\"plotly-graph-div\" style=\"height:525px; width:100%;\"></div>            <script type=\"text/javascript\">                require([\"plotly\"], function(Plotly) {                    window.PLOTLYENV=window.PLOTLYENV || {};                                    if (document.getElementById(\"3c47308d-67ec-424b-a3a2-f12e0cb2bfd5\")) {                    Plotly.newPlot(                        \"3c47308d-67ec-424b-a3a2-f12e0cb2bfd5\",                        [{\"line\":{\"color\":\"#000000\",\"width\":1},\"mode\":\"lines\",\"name\":\"exact energy\",\"type\":\"scatter\",\"x\":[0,60],\"y\":[-12.399999999999999,-12.399999999999999]},{\"line\":{\"color\":\"#000000\",\"width\":1},\"mode\":\"lines\",\"name\":\"99.5 % of exact energy\",\"type\":\"scatter\",\"x\":[0,60],\"y\":[-12.338,-12.338]},{\"name\":\"normal basis\",\"type\":\"scatter\",\"x\":[0,1,2,3,4,5,6,7,8,9,10,11,12,13,14,15,16,17,18,19,20,21,22,23,24,25,26,27,28,29,30,31,32,33,34,35,36,37,38,39,40,41,42,43,44,45,46,47,48,49,50,51,52,53,54,55,56,57,58,59],\"y\":[-5.660800200957392,-5.675199416656596,-5.012800240990639,-4.854400428254223,-5.200009568862045,-6.04957162710406,-5.041509352025706,-5.11311059691551,-5.1705692110191,-5.5054878523731325,-5.671771081557303,-5.2588272859743395,-5.336999805178501,-5.500847442498891,-6.148899566625364,-5.974860861558828,-5.81171351640185,-6.2527765354629485,-6.177578263465946,-6.7086252369654975,-6.4297681799453175,-7.081294005802873,-6.830744185957878,-7.35346469173177,-8.04832039320544,-7.990592457498521,-8.594820244319896,-8.815854264661224,-8.937572343222012,-9.02463216442188,-9.234108149739882,-9.38321628501553,-9.518120863328237,-9.863117233860693,-10.032693694710291,-10.118012656764959,-10.091099509625007,-10.214966570284117,-10.372546967503583,-10.53501966514336,-10.8286684139319,-10.774767394574384,-10.816736148913353,-10.873516991801566,-11.243938117721315,-10.978634067487203,-11.031529267130558,-11.155577179581428,-11.151926825799265,-11.305954669811,-11.438199425562763,-11.40699303646032,-11.551845978363758,-11.496789496425787,-11.608992030603343,-11.713932899095203,-11.79332575694224,-11.69067242196365,-11.886862767176622,-11.795876880605698]},{\"name\":\"MSR basis\",\"type\":\"scatter\",\"x\":[0,1,2,3,4,5,6,7,8,9,10,11,12,13,14,15,16,17,18,19,20,21,22,23,24,25,26,27,28,29,30,31,32,33,34,35,36,37,38,39,40,41,42,43,44,45,46,47,48,49,50,51,52,53,54,55,56,57,58,59],\"y\":[-4.9983998263470175,-4.8688000456340825,-4.825601410638723,-4.897600001787881,-5.113610729925154,-5.185578560713269,-5.358546302878022,-4.955679959783957,-5.186584947768084,-5.51679417325161,-5.65595526998417,-5.633022009968927,-5.309976432464219,-5.496752300255932,-5.784018276894121,-6.124722667847004,-5.738186157183384,-6.659148779947046,-6.3011081972042415,-6.446233148675815,-7.091739965621987,-7.002620284207779,-7.5434569420867446,-7.881004580446013,-8.274906462866385,-8.691505543802188,-8.734749193831703,-8.795587422412455,-9.476530813003576,-9.488628081287803,-9.602146977911655,-9.785252436491552,-9.662885620851455,-10.161219192866646,-10.23369275233953,-10.34366376112011,-10.132692068209936,-10.590330855800985,-10.792431010248944,-10.741127106559857,-10.848468287804952,-11.064738758155052,-11.097065856998313,-11.047316231739975,-11.220087942749403,-11.269893349305907,-11.418894469800694,-11.409272670463539,-11.254889507121302,-11.465366512025088,-11.41315501222631,-11.583289581329263,-11.493471229692746,-11.801358605707499,-11.703165092540535,-11.698303251384093,-11.853840462095272,-11.680281277833284,-11.802505668695238,-11.824166190346734]}],                        {\"template\":{\"data\":{\"bar\":[{\"error_x\":{\"color\":\"rgb(36,36,36)\"},\"error_y\":{\"color\":\"rgb(36,36,36)\"},\"marker\":{\"line\":{\"color\":\"white\",\"width\":0.5},\"pattern\":{\"fillmode\":\"overlay\",\"size\":10,\"solidity\":0.2}},\"type\":\"bar\"}],\"barpolar\":[{\"marker\":{\"line\":{\"color\":\"white\",\"width\":0.5},\"pattern\":{\"fillmode\":\"overlay\",\"size\":10,\"solidity\":0.2}},\"type\":\"barpolar\"}],\"carpet\":[{\"aaxis\":{\"endlinecolor\":\"rgb(36,36,36)\",\"gridcolor\":\"white\",\"linecolor\":\"white\",\"minorgridcolor\":\"white\",\"startlinecolor\":\"rgb(36,36,36)\"},\"baxis\":{\"endlinecolor\":\"rgb(36,36,36)\",\"gridcolor\":\"white\",\"linecolor\":\"white\",\"minorgridcolor\":\"white\",\"startlinecolor\":\"rgb(36,36,36)\"},\"type\":\"carpet\"}],\"choropleth\":[{\"colorbar\":{\"outlinewidth\":1,\"tickcolor\":\"rgb(36,36,36)\",\"ticks\":\"outside\"},\"type\":\"choropleth\"}],\"contour\":[{\"colorbar\":{\"outlinewidth\":1,\"tickcolor\":\"rgb(36,36,36)\",\"ticks\":\"outside\"},\"colorscale\":[[0.0,\"#440154\"],[0.1111111111111111,\"#482878\"],[0.2222222222222222,\"#3e4989\"],[0.3333333333333333,\"#31688e\"],[0.4444444444444444,\"#26828e\"],[0.5555555555555556,\"#1f9e89\"],[0.6666666666666666,\"#35b779\"],[0.7777777777777778,\"#6ece58\"],[0.8888888888888888,\"#b5de2b\"],[1.0,\"#fde725\"]],\"type\":\"contour\"}],\"contourcarpet\":[{\"colorbar\":{\"outlinewidth\":1,\"tickcolor\":\"rgb(36,36,36)\",\"ticks\":\"outside\"},\"type\":\"contourcarpet\"}],\"heatmap\":[{\"colorbar\":{\"outlinewidth\":1,\"tickcolor\":\"rgb(36,36,36)\",\"ticks\":\"outside\"},\"colorscale\":[[0.0,\"#440154\"],[0.1111111111111111,\"#482878\"],[0.2222222222222222,\"#3e4989\"],[0.3333333333333333,\"#31688e\"],[0.4444444444444444,\"#26828e\"],[0.5555555555555556,\"#1f9e89\"],[0.6666666666666666,\"#35b779\"],[0.7777777777777778,\"#6ece58\"],[0.8888888888888888,\"#b5de2b\"],[1.0,\"#fde725\"]],\"type\":\"heatmap\"}],\"heatmapgl\":[{\"colorbar\":{\"outlinewidth\":1,\"tickcolor\":\"rgb(36,36,36)\",\"ticks\":\"outside\"},\"colorscale\":[[0.0,\"#440154\"],[0.1111111111111111,\"#482878\"],[0.2222222222222222,\"#3e4989\"],[0.3333333333333333,\"#31688e\"],[0.4444444444444444,\"#26828e\"],[0.5555555555555556,\"#1f9e89\"],[0.6666666666666666,\"#35b779\"],[0.7777777777777778,\"#6ece58\"],[0.8888888888888888,\"#b5de2b\"],[1.0,\"#fde725\"]],\"type\":\"heatmapgl\"}],\"histogram\":[{\"marker\":{\"line\":{\"color\":\"white\",\"width\":0.6}},\"type\":\"histogram\"}],\"histogram2d\":[{\"colorbar\":{\"outlinewidth\":1,\"tickcolor\":\"rgb(36,36,36)\",\"ticks\":\"outside\"},\"colorscale\":[[0.0,\"#440154\"],[0.1111111111111111,\"#482878\"],[0.2222222222222222,\"#3e4989\"],[0.3333333333333333,\"#31688e\"],[0.4444444444444444,\"#26828e\"],[0.5555555555555556,\"#1f9e89\"],[0.6666666666666666,\"#35b779\"],[0.7777777777777778,\"#6ece58\"],[0.8888888888888888,\"#b5de2b\"],[1.0,\"#fde725\"]],\"type\":\"histogram2d\"}],\"histogram2dcontour\":[{\"colorbar\":{\"outlinewidth\":1,\"tickcolor\":\"rgb(36,36,36)\",\"ticks\":\"outside\"},\"colorscale\":[[0.0,\"#440154\"],[0.1111111111111111,\"#482878\"],[0.2222222222222222,\"#3e4989\"],[0.3333333333333333,\"#31688e\"],[0.4444444444444444,\"#26828e\"],[0.5555555555555556,\"#1f9e89\"],[0.6666666666666666,\"#35b779\"],[0.7777777777777778,\"#6ece58\"],[0.8888888888888888,\"#b5de2b\"],[1.0,\"#fde725\"]],\"type\":\"histogram2dcontour\"}],\"mesh3d\":[{\"colorbar\":{\"outlinewidth\":1,\"tickcolor\":\"rgb(36,36,36)\",\"ticks\":\"outside\"},\"type\":\"mesh3d\"}],\"parcoords\":[{\"line\":{\"colorbar\":{\"outlinewidth\":1,\"tickcolor\":\"rgb(36,36,36)\",\"ticks\":\"outside\"}},\"type\":\"parcoords\"}],\"pie\":[{\"automargin\":true,\"type\":\"pie\"}],\"scatter\":[{\"marker\":{\"colorbar\":{\"outlinewidth\":1,\"tickcolor\":\"rgb(36,36,36)\",\"ticks\":\"outside\"}},\"type\":\"scatter\"}],\"scatter3d\":[{\"line\":{\"colorbar\":{\"outlinewidth\":1,\"tickcolor\":\"rgb(36,36,36)\",\"ticks\":\"outside\"}},\"marker\":{\"colorbar\":{\"outlinewidth\":1,\"tickcolor\":\"rgb(36,36,36)\",\"ticks\":\"outside\"}},\"type\":\"scatter3d\"}],\"scattercarpet\":[{\"marker\":{\"colorbar\":{\"outlinewidth\":1,\"tickcolor\":\"rgb(36,36,36)\",\"ticks\":\"outside\"}},\"type\":\"scattercarpet\"}],\"scattergeo\":[{\"marker\":{\"colorbar\":{\"outlinewidth\":1,\"tickcolor\":\"rgb(36,36,36)\",\"ticks\":\"outside\"}},\"type\":\"scattergeo\"}],\"scattergl\":[{\"marker\":{\"colorbar\":{\"outlinewidth\":1,\"tickcolor\":\"rgb(36,36,36)\",\"ticks\":\"outside\"}},\"type\":\"scattergl\"}],\"scattermapbox\":[{\"marker\":{\"colorbar\":{\"outlinewidth\":1,\"tickcolor\":\"rgb(36,36,36)\",\"ticks\":\"outside\"}},\"type\":\"scattermapbox\"}],\"scatterpolar\":[{\"marker\":{\"colorbar\":{\"outlinewidth\":1,\"tickcolor\":\"rgb(36,36,36)\",\"ticks\":\"outside\"}},\"type\":\"scatterpolar\"}],\"scatterpolargl\":[{\"marker\":{\"colorbar\":{\"outlinewidth\":1,\"tickcolor\":\"rgb(36,36,36)\",\"ticks\":\"outside\"}},\"type\":\"scatterpolargl\"}],\"scatterternary\":[{\"marker\":{\"colorbar\":{\"outlinewidth\":1,\"tickcolor\":\"rgb(36,36,36)\",\"ticks\":\"outside\"}},\"type\":\"scatterternary\"}],\"surface\":[{\"colorbar\":{\"outlinewidth\":1,\"tickcolor\":\"rgb(36,36,36)\",\"ticks\":\"outside\"},\"colorscale\":[[0.0,\"#440154\"],[0.1111111111111111,\"#482878\"],[0.2222222222222222,\"#3e4989\"],[0.3333333333333333,\"#31688e\"],[0.4444444444444444,\"#26828e\"],[0.5555555555555556,\"#1f9e89\"],[0.6666666666666666,\"#35b779\"],[0.7777777777777778,\"#6ece58\"],[0.8888888888888888,\"#b5de2b\"],[1.0,\"#fde725\"]],\"type\":\"surface\"}],\"table\":[{\"cells\":{\"fill\":{\"color\":\"rgb(237,237,237)\"},\"line\":{\"color\":\"white\"}},\"header\":{\"fill\":{\"color\":\"rgb(217,217,217)\"},\"line\":{\"color\":\"white\"}},\"type\":\"table\"}]},\"layout\":{\"annotationdefaults\":{\"arrowhead\":0,\"arrowwidth\":1},\"autotypenumbers\":\"strict\",\"coloraxis\":{\"colorbar\":{\"outlinewidth\":1,\"tickcolor\":\"rgb(36,36,36)\",\"ticks\":\"outside\"}},\"colorscale\":{\"diverging\":[[0.0,\"rgb(103,0,31)\"],[0.1,\"rgb(178,24,43)\"],[0.2,\"rgb(214,96,77)\"],[0.3,\"rgb(244,165,130)\"],[0.4,\"rgb(253,219,199)\"],[0.5,\"rgb(247,247,247)\"],[0.6,\"rgb(209,229,240)\"],[0.7,\"rgb(146,197,222)\"],[0.8,\"rgb(67,147,195)\"],[0.9,\"rgb(33,102,172)\"],[1.0,\"rgb(5,48,97)\"]],\"sequential\":[[0.0,\"#440154\"],[0.1111111111111111,\"#482878\"],[0.2222222222222222,\"#3e4989\"],[0.3333333333333333,\"#31688e\"],[0.4444444444444444,\"#26828e\"],[0.5555555555555556,\"#1f9e89\"],[0.6666666666666666,\"#35b779\"],[0.7777777777777778,\"#6ece58\"],[0.8888888888888888,\"#b5de2b\"],[1.0,\"#fde725\"]],\"sequentialminus\":[[0.0,\"#440154\"],[0.1111111111111111,\"#482878\"],[0.2222222222222222,\"#3e4989\"],[0.3333333333333333,\"#31688e\"],[0.4444444444444444,\"#26828e\"],[0.5555555555555556,\"#1f9e89\"],[0.6666666666666666,\"#35b779\"],[0.7777777777777778,\"#6ece58\"],[0.8888888888888888,\"#b5de2b\"],[1.0,\"#fde725\"]]},\"colorway\":[\"#1F77B4\",\"#FF7F0E\",\"#2CA02C\",\"#D62728\",\"#9467BD\",\"#8C564B\",\"#E377C2\",\"#7F7F7F\",\"#BCBD22\",\"#17BECF\"],\"font\":{\"color\":\"rgb(36,36,36)\"},\"geo\":{\"bgcolor\":\"white\",\"lakecolor\":\"white\",\"landcolor\":\"white\",\"showlakes\":true,\"showland\":true,\"subunitcolor\":\"white\"},\"hoverlabel\":{\"align\":\"left\"},\"hovermode\":\"closest\",\"mapbox\":{\"style\":\"light\"},\"paper_bgcolor\":\"white\",\"plot_bgcolor\":\"white\",\"polar\":{\"angularaxis\":{\"gridcolor\":\"rgb(232,232,232)\",\"linecolor\":\"rgb(36,36,36)\",\"showgrid\":false,\"showline\":true,\"ticks\":\"outside\"},\"bgcolor\":\"white\",\"radialaxis\":{\"gridcolor\":\"rgb(232,232,232)\",\"linecolor\":\"rgb(36,36,36)\",\"showgrid\":false,\"showline\":true,\"ticks\":\"outside\"}},\"scene\":{\"xaxis\":{\"backgroundcolor\":\"white\",\"gridcolor\":\"rgb(232,232,232)\",\"gridwidth\":2,\"linecolor\":\"rgb(36,36,36)\",\"showbackground\":true,\"showgrid\":false,\"showline\":true,\"ticks\":\"outside\",\"zeroline\":false,\"zerolinecolor\":\"rgb(36,36,36)\"},\"yaxis\":{\"backgroundcolor\":\"white\",\"gridcolor\":\"rgb(232,232,232)\",\"gridwidth\":2,\"linecolor\":\"rgb(36,36,36)\",\"showbackground\":true,\"showgrid\":false,\"showline\":true,\"ticks\":\"outside\",\"zeroline\":false,\"zerolinecolor\":\"rgb(36,36,36)\"},\"zaxis\":{\"backgroundcolor\":\"white\",\"gridcolor\":\"rgb(232,232,232)\",\"gridwidth\":2,\"linecolor\":\"rgb(36,36,36)\",\"showbackground\":true,\"showgrid\":false,\"showline\":true,\"ticks\":\"outside\",\"zeroline\":false,\"zerolinecolor\":\"rgb(36,36,36)\"}},\"shapedefaults\":{\"fillcolor\":\"black\",\"line\":{\"width\":0},\"opacity\":0.3},\"ternary\":{\"aaxis\":{\"gridcolor\":\"rgb(232,232,232)\",\"linecolor\":\"rgb(36,36,36)\",\"showgrid\":false,\"showline\":true,\"ticks\":\"outside\"},\"baxis\":{\"gridcolor\":\"rgb(232,232,232)\",\"linecolor\":\"rgb(36,36,36)\",\"showgrid\":false,\"showline\":true,\"ticks\":\"outside\"},\"bgcolor\":\"white\",\"caxis\":{\"gridcolor\":\"rgb(232,232,232)\",\"linecolor\":\"rgb(36,36,36)\",\"showgrid\":false,\"showline\":true,\"ticks\":\"outside\"}},\"title\":{\"x\":0.05},\"xaxis\":{\"automargin\":true,\"gridcolor\":\"rgb(232,232,232)\",\"linecolor\":\"rgb(36,36,36)\",\"showgrid\":false,\"showline\":true,\"ticks\":\"outside\",\"title\":{\"standoff\":15},\"zeroline\":false,\"zerolinecolor\":\"rgb(36,36,36)\"},\"yaxis\":{\"automargin\":true,\"gridcolor\":\"rgb(232,232,232)\",\"linecolor\":\"rgb(36,36,36)\",\"showgrid\":false,\"showline\":true,\"ticks\":\"outside\",\"title\":{\"standoff\":15},\"zeroline\":false,\"zerolinecolor\":\"rgb(36,36,36)\"}}},\"title\":{\"text\":\"<b>S-S model </b>, L=4, J2 =1, J1 =0.9 , η=0.005, α=16, samples=1000\"},\"xaxis\":{\"mirror\":true,\"showline\":true,\"title\":{\"text\":\"Iteration\"}},\"yaxis\":{\"mirror\":true,\"showline\":true,\"title\":{\"text\":\"Energy\"}}},                        {\"responsive\": true}                    ).then(function(){\n",
       "                            \n",
       "var gd = document.getElementById('3c47308d-67ec-424b-a3a2-f12e0cb2bfd5');\n",
       "var x = new MutationObserver(function (mutations, observer) {{\n",
       "        var display = window.getComputedStyle(gd).display;\n",
       "        if (!display || display === 'none') {{\n",
       "            console.log([gd, 'removed!']);\n",
       "            Plotly.purge(gd);\n",
       "            observer.disconnect();\n",
       "        }}\n",
       "}});\n",
       "\n",
       "// Listen for the removal of the full notebook cells\n",
       "var notebookContainer = gd.closest('#notebook-container');\n",
       "if (notebookContainer) {{\n",
       "    x.observe(notebookContainer, {childList: true});\n",
       "}}\n",
       "\n",
       "// Listen for the clearing of the current output cell\n",
       "var outputEl = gd.closest('.output');\n",
       "if (outputEl) {{\n",
       "    x.observe(outputEl, {childList: true});\n",
       "}}\n",
       "\n",
       "                        })                };                });            </script>        </div>"
      ]
     },
     "metadata": {},
     "output_type": "display_data"
    }
   ],
   "source": [
    "# import the data from log file\n",
    "OUT_NAME_suffixless=OUT_NAME\n",
    "data = []\n",
    "for i in range(no_of_runs):\n",
    "    data.append(json.load(open(OUT_NAME_suffixless+str(i)+\".log\")))\n",
    "names = [\"normal basis\",\"MSR basis\"]\n",
    "if type(data[0][\"Energy\"][\"Mean\"]) == dict: #DTYPE in (np.complex128, np.complex64):#, np.float64):# and False:\n",
    "    energy_convergence = [data[i][\"Energy\"][\"Mean\"][\"real\"] for i in range(no_of_runs)]\n",
    "    # symmetry = [data[i][\"symmetry\"][\"Mean\"][\"real\"] for i in range(no_of_runs-use_MSR)]\n",
    "else:\n",
    "    energy_convergence = [data[i][\"Energy\"][\"Mean\"] for i in range(no_of_runs)]\n",
    "    # symmetry = [data[i][\"symmetry\"][\"Mean\"] for i in range(no_of_runs-use_MSR)]\n",
    "for i in range(no_of_runs):\n",
    "    figure.add_trace(go.Scatter(\n",
    "        x=data[i][\"Energy\"][\"iters\"], y=energy_convergence[i],\n",
    "        name=names[i]\n",
    "    ))\n",
    "    # figure.add_trace(go.Scatter(\n",
    "    #     x=data[i][\"Energy\"][\"iters\"], y=symmetry[i],\n",
    "    #     name=names[i]+\"_swap\"\n",
    "    # ))\n",
    "\n",
    "#figure.add_hline(y=exact_gs_energy)\n",
    "figure.update_layout(xaxis_title=\"Iteration\",yaxis_title=\"Energy\")\n",
    "figure.show()"
   ]
  },
  {
   "cell_type": "markdown",
   "metadata": {},
   "source": [
    "# Calculating symmetrizations"
   ]
  }
 ],
 "metadata": {
  "interpreter": {
   "hash": "31f2aee4e71d21fbe5cf8b01ff0e069b9275f58929596ceb00d14d90e3e16cd6"
  },
  "kernelspec": {
   "display_name": "Python 3.8.10 64-bit",
   "name": "python3"
  },
  "language_info": {
   "codemirror_mode": {
    "name": "ipython",
    "version": 3
   },
   "file_extension": ".py",
   "mimetype": "text/x-python",
   "name": "python",
   "nbconvert_exporter": "python",
   "pygments_lexer": "ipython3",
   "version": "3.8.10"
  },
  "metadata": {
   "interpreter": {
    "hash": "916dbcbb3f70747c44a77c7bcd40155683ae19c65e1c03b4aa3499c5328201f1"
   }
  }
 },
 "nbformat": 4,
 "nbformat_minor": 4
}
