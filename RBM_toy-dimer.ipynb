{
 "cells": [
  {
   "cell_type": "markdown",
   "metadata": {},
   "source": [
    "# Exploring two dimer toy model with (symmetric) RBM"
   ]
  },
  {
   "cell_type": "code",
   "execution_count": 30,
   "metadata": {},
   "outputs": [
    {
     "name": "stdout",
     "output_type": "stream",
     "text": [
      "NetKet version: 3.3\n",
      "NumPy version: 1.20.3\n"
     ]
    }
   ],
   "source": [
    "import netket as nk\n",
    "import numpy as np\n",
    "import time\n",
    "import json\n",
    "import plotly.graph_objects as go\n",
    "import matplotlib.pyplot as plt\n",
    "import jax\n",
    "import flax\n",
    "import optax\n",
    "import pprint\n",
    "print(\"NetKet version: {}\".format(nk.__version__))\n",
    "print(\"NumPy version: {}\".format(np.__version__))"
   ]
  },
  {
   "cell_type": "markdown",
   "metadata": {},
   "source": [
    "Setup relevant parameters"
   ]
  },
  {
   "cell_type": "code",
   "execution_count": 31,
   "metadata": {},
   "outputs": [],
   "source": [
    "\"\"\"lattice\"\"\"\n",
    "SITES    = 8            # 4, 8, 16, 20 ... number of vertices in a tile determines the tile shape \n",
    "JEXCH1   = .2            # nn interaction\n",
    "JEXCH2   = 1            # nnn interaction\n",
    "#USE_MSR  = True        # should we use a Marshall sign rule?\n",
    "\"\"\"machine learning\"\"\"\n",
    "MACHINE = \"GCNN\"\n",
    "TOTAL_SZ = None            # 0, None ... restriction of Hilbert space\n",
    "DTYPE = np.complex128      #np.float64 #double #np.complex128   # type of weights in neural network\n",
    "SAMPLER = 'local'       # 'local' = MetropolisLocal, 'exchange' = MetropolisExchange\n",
    "ALPHA = 16               # N_hidden / N_visible\n",
    "ETA   = .01             # learning rate (0.01 usually works)\n",
    "SAMPLES = 1000\n",
    "NUM_ITER = 4000\n",
    "num_layers = 2 #2          # number of layers in G-CNN\n",
    "feature_dims = (8,4) #(8,4) #(8,8,8,8) # dimensions of layers in G-CNN\n",
    "\n",
    "OUT_NAME = \"SS-RBM_ops\"+str(SITES)+\"j1=\"+str(JEXCH1) # output file name"
   ]
  },
  {
   "cell_type": "markdown",
   "metadata": {},
   "source": [
    "Lattice and hamiltonian definition: &nbsp; &nbsp; &nbsp; &nbsp; &nbsp; &nbsp; &nbsp; &nbsp; &nbsp; $ H = J_{1} \\sum\\limits_{\\langle i,j \\rangle}^{L} \\vec{\\sigma}_{i} \\cdot \\vec{\\sigma}_{j} + J_{2} \\sum\\limits_{\\langle\\langle i,j \\rangle\\rangle_{SS}}^{L}  \\vec{\\sigma}_{i} \\cdot \\vec{\\sigma}_{j}\\,, $"
   ]
  },
  {
   "cell_type": "code",
   "execution_count": 32,
   "metadata": {},
   "outputs": [],
   "source": [
    "# Define custom graph\n",
    "# edge_colors = []\n",
    "\n",
    "# edge_colors.append([0,1,1])\n",
    "# edge_colors.append([2,3,1])\n",
    "# # # SS 2x2 lattice:\n",
    "# edge_colors.append([1,2,1])\n",
    "# edge_colors.append([0,3,1])\n",
    "# edge_colors.append([0,2,2])\n",
    "# edge_colors.append([1,3,2])\n",
    "# # double bonds\n",
    "# edge_colors.append([0,1,1])\n",
    "# edge_colors.append([2,3,1])\n",
    "# edge_colors.append([1,2,1])\n",
    "# edge_colors.append([0,3,1])\n",
    "\n",
    "# 3-chain:\n",
    "# edge_colors.append([0,1,1])\n",
    "# edge_colors.append([1,2,1])\n",
    "# edge_colors.append([2,0,1])\n",
    "\n",
    "from lattice_and_ops import Lattice\n",
    "lattice = Lattice(SITES)\n",
    "\n",
    "# Define custom graph\n",
    "edge_colors = []\n",
    "for node in range(SITES):\n",
    "    edge_colors.append([node,lattice.rt(node), 1]) #horizontal connections\n",
    "    edge_colors.append([node,lattice.bot(node), 1]) #vertical connections\n",
    "    row, column = lattice.position(node)\n",
    "    if column%2 == 0:\n",
    "        if row%2 == 0:\n",
    "            edge_colors.append([node,lattice.lrt(node),2])\n",
    "        else:\n",
    "            edge_colors.append([node,lattice.llft(node),2])\n",
    "\n",
    "# Define the netket graph object\n",
    "g = nk.graph.Graph(edges=edge_colors) #,n_nodes=3)\n",
    "N = g.n_nodes\n",
    "\n",
    "hilbert = nk.hilbert.Spin(s=.5, N=g.n_nodes, total_sz=TOTAL_SZ)\n",
    "\n",
    "\n",
    "#Sigma^z*Sigma^z interactions\n",
    "sigmaz = [[1, 0], [0, -1]]\n",
    "mszsz = (np.kron(sigmaz, sigmaz)) #=sz*sz\n",
    "#Exchange interactions\n",
    "exchange = np.asarray([[0, 0, 0, 0], [0, 0, 2, 0], [0, 2, 0, 0], [0, 0, 0, 0]]) #=sx*sx+sy*sy = 1/2*(sp*sm+sm*sp)\n",
    "full_spin = mszsz+exchange # = S*S = sx*sx + sy*sy + sz*sz\n",
    "bond_color = [1, 2, 1, 2]"
   ]
  },
  {
   "cell_type": "code",
   "execution_count": 33,
   "metadata": {},
   "outputs": [
    {
     "name": "stdout",
     "output_type": "stream",
     "text": [
      "There are 128 full symmetries:\n",
      "Permutation([0, 1, 2, 3, 4, 5, 6, 7]) 1\n",
      "Permutation([0, 1, 2, 3, 6, 5, 4, 7]) -1\n",
      "Permutation([0, 1, 2, 7, 4, 5, 6, 3]) -1\n",
      "Permutation([0, 1, 2, 7, 6, 5, 4, 3]) 1\n",
      "Permutation([0, 3, 2, 1, 4, 7, 6, 5]) 1\n",
      "Permutation([0, 3, 2, 1, 6, 7, 4, 5]) -1\n",
      "Permutation([0, 3, 2, 5, 4, 7, 6, 1]) -1\n",
      "Permutation([0, 3, 2, 5, 6, 7, 4, 1]) 1\n",
      "Permutation([0, 5, 2, 3, 4, 1, 6, 7]) -1\n",
      "Permutation([0, 5, 2, 3, 6, 1, 4, 7]) 1\n",
      "Permutation([0, 5, 2, 7, 4, 1, 6, 3]) 1\n",
      "Permutation([0, 5, 2, 7, 6, 1, 4, 3]) -1\n",
      "Permutation([0, 7, 2, 1, 4, 3, 6, 5]) -1\n",
      "Permutation([0, 7, 2, 1, 6, 3, 4, 5]) 1\n",
      "Permutation([0, 7, 2, 5, 4, 3, 6, 1]) 1\n",
      "Permutation([0, 7, 2, 5, 6, 3, 4, 1]) -1\n",
      "Permutation([1, 0, 5, 4, 3, 2, 7, 6]) 1\n",
      "Permutation([1, 0, 5, 4, 7, 2, 3, 6]) -1\n",
      "Permutation([1, 0, 5, 6, 3, 2, 7, 4]) -1\n",
      "Permutation([1, 0, 5, 6, 7, 2, 3, 4]) 1\n",
      "Permutation([1, 2, 5, 4, 3, 0, 7, 6]) -1\n",
      "Permutation([1, 2, 5, 4, 7, 0, 3, 6]) 1\n",
      "Permutation([1, 2, 5, 6, 3, 0, 7, 4]) 1\n",
      "Permutation([1, 2, 5, 6, 7, 0, 3, 4]) -1\n",
      "Permutation([1, 4, 5, 0, 3, 6, 7, 2]) 1\n",
      "Permutation([1, 4, 5, 0, 7, 6, 3, 2]) -1\n",
      "Permutation([1, 4, 5, 2, 3, 6, 7, 0]) -1\n",
      "Permutation([1, 4, 5, 2, 7, 6, 3, 0]) 1\n",
      "Permutation([1, 6, 5, 0, 3, 4, 7, 2]) -1\n",
      "Permutation([1, 6, 5, 0, 7, 4, 3, 2]) 1\n",
      "Permutation([1, 6, 5, 2, 3, 4, 7, 0]) 1\n",
      "Permutation([1, 6, 5, 2, 7, 4, 3, 0]) -1\n",
      "Permutation([2, 1, 0, 3, 4, 5, 6, 7]) -1\n",
      "Permutation([2, 1, 0, 3, 6, 5, 4, 7]) 1\n",
      "Permutation([2, 1, 0, 7, 4, 5, 6, 3]) 1\n",
      "Permutation([2, 1, 0, 7, 6, 5, 4, 3]) -1\n",
      "Permutation([2, 3, 0, 1, 4, 7, 6, 5]) -1\n",
      "Permutation([2, 3, 0, 1, 6, 7, 4, 5]) 1\n",
      "Permutation([2, 3, 0, 5, 4, 7, 6, 1]) 1\n",
      "Permutation([2, 3, 0, 5, 6, 7, 4, 1]) -1\n",
      "Permutation([2, 5, 0, 3, 4, 1, 6, 7]) 1\n",
      "Permutation([2, 5, 0, 3, 6, 1, 4, 7]) -1\n",
      "Permutation([2, 5, 0, 7, 4, 1, 6, 3]) -1\n",
      "Permutation([2, 5, 0, 7, 6, 1, 4, 3]) 1\n",
      "Permutation([2, 7, 0, 1, 4, 3, 6, 5]) 1\n",
      "Permutation([2, 7, 0, 1, 6, 3, 4, 5]) -1\n",
      "Permutation([2, 7, 0, 5, 4, 3, 6, 1]) -1\n",
      "Permutation([2, 7, 0, 5, 6, 3, 4, 1]) 1\n",
      "Permutation([3, 0, 7, 4, 1, 2, 5, 6]) 1\n",
      "Permutation([3, 0, 7, 4, 5, 2, 1, 6]) -1\n",
      "Permutation([3, 0, 7, 6, 1, 2, 5, 4]) -1\n",
      "Permutation([3, 0, 7, 6, 5, 2, 1, 4]) 1\n",
      "Permutation([3, 2, 7, 4, 1, 0, 5, 6]) -1\n",
      "Permutation([3, 2, 7, 4, 5, 0, 1, 6]) 1\n",
      "Permutation([3, 2, 7, 6, 1, 0, 5, 4]) 1\n",
      "Permutation([3, 2, 7, 6, 5, 0, 1, 4]) -1\n",
      "Permutation([3, 4, 7, 0, 1, 6, 5, 2]) 1\n",
      "Permutation([3, 4, 7, 0, 5, 6, 1, 2]) -1\n",
      "Permutation([3, 4, 7, 2, 1, 6, 5, 0]) -1\n",
      "Permutation([3, 4, 7, 2, 5, 6, 1, 0]) 1\n",
      "Permutation([3, 6, 7, 0, 1, 4, 5, 2]) -1\n",
      "Permutation([3, 6, 7, 0, 5, 4, 1, 2]) 1\n",
      "Permutation([3, 6, 7, 2, 1, 4, 5, 0]) 1\n",
      "Permutation([3, 6, 7, 2, 5, 4, 1, 0]) -1\n",
      "Permutation([4, 1, 6, 3, 0, 5, 2, 7]) 1\n",
      "Permutation([4, 1, 6, 3, 2, 5, 0, 7]) -1\n",
      "Permutation([4, 1, 6, 7, 0, 5, 2, 3]) -1\n",
      "Permutation([4, 1, 6, 7, 2, 5, 0, 3]) 1\n",
      "Permutation([4, 3, 6, 1, 0, 7, 2, 5]) 1\n",
      "Permutation([4, 3, 6, 1, 2, 7, 0, 5]) -1\n",
      "Permutation([4, 3, 6, 5, 0, 7, 2, 1]) -1\n",
      "Permutation([4, 3, 6, 5, 2, 7, 0, 1]) 1\n",
      "Permutation([4, 5, 6, 3, 0, 1, 2, 7]) -1\n",
      "Permutation([4, 5, 6, 3, 2, 1, 0, 7]) 1\n",
      "Permutation([4, 5, 6, 7, 0, 1, 2, 3]) 1\n",
      "Permutation([4, 5, 6, 7, 2, 1, 0, 3]) -1\n",
      "Permutation([4, 7, 6, 1, 0, 3, 2, 5]) -1\n",
      "Permutation([4, 7, 6, 1, 2, 3, 0, 5]) 1\n",
      "Permutation([4, 7, 6, 5, 0, 3, 2, 1]) 1\n",
      "Permutation([4, 7, 6, 5, 2, 3, 0, 1]) -1\n",
      "Permutation([5, 0, 1, 4, 3, 2, 7, 6]) -1\n",
      "Permutation([5, 0, 1, 4, 7, 2, 3, 6]) 1\n",
      "Permutation([5, 0, 1, 6, 3, 2, 7, 4]) 1\n",
      "Permutation([5, 0, 1, 6, 7, 2, 3, 4]) -1\n",
      "Permutation([5, 2, 1, 4, 3, 0, 7, 6]) 1\n",
      "Permutation([5, 2, 1, 4, 7, 0, 3, 6]) -1\n",
      "Permutation([5, 2, 1, 6, 3, 0, 7, 4]) -1\n",
      "Permutation([5, 2, 1, 6, 7, 0, 3, 4]) 1\n",
      "Permutation([5, 4, 1, 0, 3, 6, 7, 2]) -1\n",
      "Permutation([5, 4, 1, 0, 7, 6, 3, 2]) 1\n",
      "Permutation([5, 4, 1, 2, 3, 6, 7, 0]) 1\n",
      "Permutation([5, 4, 1, 2, 7, 6, 3, 0]) -1\n",
      "Permutation([5, 6, 1, 0, 3, 4, 7, 2]) 1\n",
      "Permutation([5, 6, 1, 0, 7, 4, 3, 2]) -1\n",
      "Permutation([5, 6, 1, 2, 3, 4, 7, 0]) -1\n",
      "Permutation([5, 6, 1, 2, 7, 4, 3, 0]) 1\n",
      "Permutation([6, 1, 4, 3, 0, 5, 2, 7]) -1\n",
      "Permutation([6, 1, 4, 3, 2, 5, 0, 7]) 1\n",
      "Permutation([6, 1, 4, 7, 0, 5, 2, 3]) 1\n",
      "Permutation([6, 1, 4, 7, 2, 5, 0, 3]) -1\n",
      "Permutation([6, 3, 4, 1, 0, 7, 2, 5]) -1\n",
      "Permutation([6, 3, 4, 1, 2, 7, 0, 5]) 1\n",
      "Permutation([6, 3, 4, 5, 0, 7, 2, 1]) 1\n",
      "Permutation([6, 3, 4, 5, 2, 7, 0, 1]) -1\n",
      "Permutation([6, 5, 4, 3, 0, 1, 2, 7]) 1\n",
      "Permutation([6, 5, 4, 3, 2, 1, 0, 7]) -1\n",
      "Permutation([6, 5, 4, 7, 0, 1, 2, 3]) -1\n",
      "Permutation([6, 5, 4, 7, 2, 1, 0, 3]) 1\n",
      "Permutation([6, 7, 4, 1, 0, 3, 2, 5]) 1\n",
      "Permutation([6, 7, 4, 1, 2, 3, 0, 5]) -1\n",
      "Permutation([6, 7, 4, 5, 0, 3, 2, 1]) -1\n",
      "Permutation([6, 7, 4, 5, 2, 3, 0, 1]) 1\n",
      "Permutation([7, 0, 3, 4, 1, 2, 5, 6]) -1\n",
      "Permutation([7, 0, 3, 4, 5, 2, 1, 6]) 1\n",
      "Permutation([7, 0, 3, 6, 1, 2, 5, 4]) 1\n",
      "Permutation([7, 0, 3, 6, 5, 2, 1, 4]) -1\n",
      "Permutation([7, 2, 3, 4, 1, 0, 5, 6]) 1\n",
      "Permutation([7, 2, 3, 4, 5, 0, 1, 6]) -1\n",
      "Permutation([7, 2, 3, 6, 1, 0, 5, 4]) -1\n",
      "Permutation([7, 2, 3, 6, 5, 0, 1, 4]) 1\n",
      "Permutation([7, 4, 3, 0, 1, 6, 5, 2]) -1\n",
      "Permutation([7, 4, 3, 0, 5, 6, 1, 2]) 1\n",
      "Permutation([7, 4, 3, 2, 1, 6, 5, 0]) 1\n",
      "Permutation([7, 4, 3, 2, 5, 6, 1, 0]) -1\n",
      "Permutation([7, 6, 3, 0, 1, 4, 5, 2]) 1\n",
      "Permutation([7, 6, 3, 0, 5, 4, 1, 2]) -1\n",
      "Permutation([7, 6, 3, 2, 1, 4, 5, 0]) -1\n",
      "Permutation([7, 6, 3, 2, 5, 4, 1, 0]) 1\n",
      "[ 1.+0.j -1.+0.j -1.+0.j  1.+0.j  1.+0.j -1.+0.j -1.+0.j  1.+0.j -1.+0.j\n",
      "  1.+0.j  1.+0.j -1.+0.j -1.+0.j  1.+0.j  1.+0.j -1.+0.j  1.+0.j -1.+0.j\n",
      " -1.+0.j  1.+0.j -1.+0.j  1.+0.j  1.+0.j -1.+0.j  1.+0.j -1.+0.j -1.+0.j\n",
      "  1.+0.j -1.+0.j  1.+0.j  1.+0.j -1.+0.j -1.+0.j  1.+0.j  1.+0.j -1.+0.j\n",
      " -1.+0.j  1.+0.j  1.+0.j -1.+0.j  1.+0.j -1.+0.j -1.+0.j  1.+0.j  1.+0.j\n",
      " -1.+0.j -1.+0.j  1.+0.j  1.+0.j -1.+0.j -1.+0.j  1.+0.j -1.+0.j  1.+0.j\n",
      "  1.+0.j -1.+0.j  1.+0.j -1.+0.j -1.+0.j  1.+0.j -1.+0.j  1.+0.j  1.+0.j\n",
      " -1.+0.j  1.+0.j -1.+0.j -1.+0.j  1.+0.j  1.+0.j -1.+0.j -1.+0.j  1.+0.j\n",
      " -1.+0.j  1.+0.j  1.+0.j -1.+0.j -1.+0.j  1.+0.j  1.+0.j -1.+0.j -1.+0.j\n",
      "  1.+0.j  1.+0.j -1.+0.j  1.+0.j -1.+0.j -1.+0.j  1.+0.j -1.+0.j  1.+0.j\n",
      "  1.+0.j -1.+0.j  1.+0.j -1.+0.j -1.+0.j  1.+0.j -1.+0.j  1.+0.j  1.+0.j\n",
      " -1.+0.j -1.+0.j  1.+0.j  1.+0.j -1.+0.j  1.+0.j -1.+0.j -1.+0.j  1.+0.j\n",
      "  1.+0.j -1.+0.j -1.+0.j  1.+0.j -1.+0.j  1.+0.j  1.+0.j -1.+0.j  1.+0.j\n",
      " -1.+0.j -1.+0.j  1.+0.j -1.+0.j  1.+0.j  1.+0.j -1.+0.j  1.+0.j -1.+0.j\n",
      " -1.+0.j  1.+0.j]\n"
     ]
    }
   ],
   "source": [
    "translations = []\n",
    "for perm in g.automorphisms():\n",
    "    aperm = np.asarray(perm)\n",
    "    if True:\n",
    "    # if (aperm[0],aperm[1]) in ((0,1),(1,0),(2,3),(3,2)): # translations for 2*2 SS model\n",
    "    # if (aperm[2],aperm[0]) in ((2,0),(3,0),(0,1),(1,2)):#,(2,3,1)): # N = 16, two dimmers with just translation\n",
    "    # if (aperm[0],aperm[1],aperm[3]) in ((0,1,3),(3,2,0),(2,3,1),(1,0,2)): # N = 16, two dimmers plus second translation option\n",
    "        translations.append(nk.utils.group._permutation_group.Permutation(aperm))\n",
    "# print(translations)\n",
    "translation_group = nk.utils.group._permutation_group.PermutationGroup(translations,degree=N)\n",
    "# characters = np.array([1,-1,-1,1,1,-1,-1,1],dtype=complex) # in case of just two dimers\n",
    "print(\"There are\", len(g.automorphisms()), \"full symmetries:\")\n",
    "if JEXCH1 < 0.5:\n",
    "    characters = []\n",
    "    from lattice_and_ops import permutation_sign\n",
    "    for perm in g.automorphisms():\n",
    "        print(perm, permutation_sign(np.asarray(perm)))\n",
    "        characters.append(permutation_sign(np.asarray(perm)))\n",
    "    characters_dimer = np.asarray(characters,dtype=complex) #np.array([1,-1,1,-1,-1,1,-1,1], dtype=complex) # 2*2 SS model\n",
    "    characters_dimer_msr = characters_dimer\n",
    "else:\n",
    "    characters_dimer = np.ones((len(g.automorphisms()),), dtype=complex)\n",
    "    characters_dimer_msr = characters_dimer\n",
    "print(characters_dimer)\n",
    "# print(\"There are\", len(translation_group),\"restricted symmetries:\")\n",
    "# print(translation_group)"
   ]
  },
  {
   "cell_type": "code",
   "execution_count": 34,
   "metadata": {},
   "outputs": [
    {
     "name": "stdout",
     "output_type": "stream",
     "text": [
      "[[0, 1, 2, 3, 4, 5, 6, 7], [0, 1, 2, 3, 6, 5, 4, 7], [0, 1, 2, 7, 4, 5, 6, 3], [0, 1, 2, 7, 6, 5, 4, 3], [0, 3, 2, 1, 4, 7, 6, 5], [0, 3, 2, 1, 6, 7, 4, 5], [0, 3, 2, 5, 4, 7, 6, 1], [0, 3, 2, 5, 6, 7, 4, 1], [0, 5, 2, 3, 4, 1, 6, 7], [0, 5, 2, 3, 6, 1, 4, 7], [0, 5, 2, 7, 4, 1, 6, 3], [0, 5, 2, 7, 6, 1, 4, 3], [0, 7, 2, 1, 4, 3, 6, 5], [0, 7, 2, 1, 6, 3, 4, 5], [0, 7, 2, 5, 4, 3, 6, 1], [0, 7, 2, 5, 6, 3, 4, 1], [1, 0, 5, 4, 3, 2, 7, 6], [1, 0, 5, 4, 7, 2, 3, 6], [1, 0, 5, 6, 3, 2, 7, 4], [1, 0, 5, 6, 7, 2, 3, 4], [1, 2, 5, 4, 3, 0, 7, 6], [1, 2, 5, 4, 7, 0, 3, 6], [1, 2, 5, 6, 3, 0, 7, 4], [1, 2, 5, 6, 7, 0, 3, 4], [1, 4, 5, 0, 3, 6, 7, 2], [1, 4, 5, 0, 7, 6, 3, 2], [1, 4, 5, 2, 3, 6, 7, 0], [1, 4, 5, 2, 7, 6, 3, 0], [1, 6, 5, 0, 3, 4, 7, 2], [1, 6, 5, 0, 7, 4, 3, 2], [1, 6, 5, 2, 3, 4, 7, 0], [1, 6, 5, 2, 7, 4, 3, 0], [2, 1, 0, 3, 4, 5, 6, 7], [2, 1, 0, 3, 6, 5, 4, 7], [2, 1, 0, 7, 4, 5, 6, 3], [2, 1, 0, 7, 6, 5, 4, 3], [2, 3, 0, 1, 4, 7, 6, 5], [2, 3, 0, 1, 6, 7, 4, 5], [2, 3, 0, 5, 4, 7, 6, 1], [2, 3, 0, 5, 6, 7, 4, 1], [2, 5, 0, 3, 4, 1, 6, 7], [2, 5, 0, 3, 6, 1, 4, 7], [2, 5, 0, 7, 4, 1, 6, 3], [2, 5, 0, 7, 6, 1, 4, 3], [2, 7, 0, 1, 4, 3, 6, 5], [2, 7, 0, 1, 6, 3, 4, 5], [2, 7, 0, 5, 4, 3, 6, 1], [2, 7, 0, 5, 6, 3, 4, 1], [3, 0, 7, 4, 1, 2, 5, 6], [3, 0, 7, 4, 5, 2, 1, 6], [3, 0, 7, 6, 1, 2, 5, 4], [3, 0, 7, 6, 5, 2, 1, 4], [3, 2, 7, 4, 1, 0, 5, 6], [3, 2, 7, 4, 5, 0, 1, 6], [3, 2, 7, 6, 1, 0, 5, 4], [3, 2, 7, 6, 5, 0, 1, 4], [3, 4, 7, 0, 1, 6, 5, 2], [3, 4, 7, 0, 5, 6, 1, 2], [3, 4, 7, 2, 1, 6, 5, 0], [3, 4, 7, 2, 5, 6, 1, 0], [3, 6, 7, 0, 1, 4, 5, 2], [3, 6, 7, 0, 5, 4, 1, 2], [3, 6, 7, 2, 1, 4, 5, 0], [3, 6, 7, 2, 5, 4, 1, 0], [4, 1, 6, 3, 0, 5, 2, 7], [4, 1, 6, 3, 2, 5, 0, 7], [4, 1, 6, 7, 0, 5, 2, 3], [4, 1, 6, 7, 2, 5, 0, 3], [4, 3, 6, 1, 0, 7, 2, 5], [4, 3, 6, 1, 2, 7, 0, 5], [4, 3, 6, 5, 0, 7, 2, 1], [4, 3, 6, 5, 2, 7, 0, 1], [4, 5, 6, 3, 0, 1, 2, 7], [4, 5, 6, 3, 2, 1, 0, 7], [4, 5, 6, 7, 0, 1, 2, 3], [4, 5, 6, 7, 2, 1, 0, 3], [4, 7, 6, 1, 0, 3, 2, 5], [4, 7, 6, 1, 2, 3, 0, 5], [4, 7, 6, 5, 0, 3, 2, 1], [4, 7, 6, 5, 2, 3, 0, 1], [5, 0, 1, 4, 3, 2, 7, 6], [5, 0, 1, 4, 7, 2, 3, 6], [5, 0, 1, 6, 3, 2, 7, 4], [5, 0, 1, 6, 7, 2, 3, 4], [5, 2, 1, 4, 3, 0, 7, 6], [5, 2, 1, 4, 7, 0, 3, 6], [5, 2, 1, 6, 3, 0, 7, 4], [5, 2, 1, 6, 7, 0, 3, 4], [5, 4, 1, 0, 3, 6, 7, 2], [5, 4, 1, 0, 7, 6, 3, 2], [5, 4, 1, 2, 3, 6, 7, 0], [5, 4, 1, 2, 7, 6, 3, 0], [5, 6, 1, 0, 3, 4, 7, 2], [5, 6, 1, 0, 7, 4, 3, 2], [5, 6, 1, 2, 3, 4, 7, 0], [5, 6, 1, 2, 7, 4, 3, 0], [6, 1, 4, 3, 0, 5, 2, 7], [6, 1, 4, 3, 2, 5, 0, 7], [6, 1, 4, 7, 0, 5, 2, 3], [6, 1, 4, 7, 2, 5, 0, 3], [6, 3, 4, 1, 0, 7, 2, 5], [6, 3, 4, 1, 2, 7, 0, 5], [6, 3, 4, 5, 0, 7, 2, 1], [6, 3, 4, 5, 2, 7, 0, 1], [6, 5, 4, 3, 0, 1, 2, 7], [6, 5, 4, 3, 2, 1, 0, 7], [6, 5, 4, 7, 0, 1, 2, 3], [6, 5, 4, 7, 2, 1, 0, 3], [6, 7, 4, 1, 0, 3, 2, 5], [6, 7, 4, 1, 2, 3, 0, 5], [6, 7, 4, 5, 0, 3, 2, 1], [6, 7, 4, 5, 2, 3, 0, 1], [7, 0, 3, 4, 1, 2, 5, 6], [7, 0, 3, 4, 5, 2, 1, 6], [7, 0, 3, 6, 1, 2, 5, 4], [7, 0, 3, 6, 5, 2, 1, 4], [7, 2, 3, 4, 1, 0, 5, 6], [7, 2, 3, 4, 5, 0, 1, 6], [7, 2, 3, 6, 1, 0, 5, 4], [7, 2, 3, 6, 5, 0, 1, 4], [7, 4, 3, 0, 1, 6, 5, 2], [7, 4, 3, 0, 5, 6, 1, 2], [7, 4, 3, 2, 1, 6, 5, 0], [7, 4, 3, 2, 5, 6, 1, 0], [7, 6, 3, 0, 1, 4, 5, 2], [7, 6, 3, 0, 5, 4, 1, 2], [7, 6, 3, 2, 1, 4, 5, 0], [7, 6, 3, 2, 5, 4, 1, 0]]\n"
     ]
    }
   ],
   "source": [
    "print(g.to_igraph().get_automorphisms_vf2())"
   ]
  },
  {
   "cell_type": "code",
   "execution_count": 35,
   "metadata": {},
   "outputs": [],
   "source": [
    "# graph = nk.graph.Hypercube(length=N, n_dim=1, pbc=False)\n",
    "# translation_group = graph.translation_group()\n",
    "# print(translation_group)"
   ]
  },
  {
   "cell_type": "markdown",
   "metadata": {},
   "source": [
    "## Hamoltonian"
   ]
  },
  {
   "cell_type": "code",
   "execution_count": 36,
   "metadata": {},
   "outputs": [],
   "source": [
    "from lattice_and_ops import HamOps\n",
    "ho = HamOps()\n",
    "ha = nk.operator.GraphOperator(hilbert, graph=g, bond_ops=ho.bond_operator(JEXCH1,JEXCH2, use_MSR=False), bond_ops_colors=ho.bond_color)\n",
    "ha_MSR = nk.operator.GraphOperator(hilbert, graph=g, bond_ops=ho.bond_operator(JEXCH1,JEXCH2, use_MSR=True), bond_ops_colors=ho.bond_color)\n"
   ]
  },
  {
   "cell_type": "code",
   "execution_count": 37,
   "metadata": {},
   "outputs": [],
   "source": [
    "# # Quick different definition using Hypercube & Heisenberg\n",
    "# L = 4\n",
    "# g = nk.graph.Hypercube(length=L, n_dim=2, pbc=True)\n",
    "# hilbert = nk.hilbert.Spin(s=0.5, total_sz=TOTAL_SZ, N=g.n_nodes)\n",
    "# ha = nk.operator.Heisenberg(hilbert=hilbert, graph=g, sign_rule=False)\n",
    "# ha_MSR = nk.operator.Heisenberg(hilbert=hilbert, graph=g, sign_rule=True) "
   ]
  },
  {
   "cell_type": "markdown",
   "metadata": {},
   "source": [
    "## Exact diagonalization"
   ]
  },
  {
   "cell_type": "code",
   "execution_count": 38,
   "metadata": {},
   "outputs": [
    {
     "name": "stdout",
     "output_type": "stream",
     "text": [
      "Ground state energy: 0 \n",
      "It took  0.05 s = 0.0 min\n"
     ]
    }
   ],
   "source": [
    "if g.n_nodes < 20:\n",
    "    start = time.time()\n",
    "    if g.n_nodes < 15:\n",
    "        evals, eigvects = nk.exact.full_ed(ha, compute_eigenvectors=True)\n",
    "    else:\n",
    "        evals, eigvects = nk.exact.lanczos_ed(ha, k=3, compute_eigenvectors=True)\n",
    "    end = time.time()\n",
    "    diag_time = end - start\n",
    "    print(\"Ground state energy:\",exact_ground_energy, \"\\nIt took \", round(diag_time,2), \"s =\", round((diag_time)/60,2),\"min\")\n",
    "else:\n",
    "    print(\"System is too large for exact diagonalization. Setting exact_ground_energy = 0 (which is wrong)\")\n",
    "    evals = [0,0,0]\n",
    "    eigvects = None \n",
    "exact_ground_energy = evals[0]\n",
    "# -36.2460684609957 "
   ]
  },
  {
   "cell_type": "code",
   "execution_count": 39,
   "metadata": {},
   "outputs": [
    {
     "name": "stdout",
     "output_type": "stream",
     "text": [
      "[-1.20000000e+01 -8.00000000e+00 -8.00000000e+00 -8.00000000e+00\n",
      " -8.00000000e+00 -8.00000000e+00 -8.00000000e+00 -8.00000000e+00\n",
      " -8.00000000e+00 -8.00000000e+00 -8.00000000e+00 -8.00000000e+00\n",
      " -8.00000000e+00 -5.60000000e+00 -5.60000000e+00 -5.60000000e+00\n",
      " -5.60000000e+00 -4.80000000e+00 -4.80000000e+00 -4.80000000e+00\n",
      " -4.80000000e+00 -4.80000000e+00 -4.80000000e+00 -4.80000000e+00\n",
      " -4.80000000e+00 -4.80000000e+00 -4.80000000e+00 -4.80000000e+00\n",
      " -4.80000000e+00 -4.00000000e+00 -4.00000000e+00 -4.00000000e+00\n",
      " -4.00000000e+00 -4.00000000e+00 -4.00000000e+00 -4.00000000e+00\n",
      " -4.00000000e+00 -4.00000000e+00 -4.00000000e+00 -4.00000000e+00\n",
      " -4.00000000e+00 -4.00000000e+00 -4.00000000e+00 -4.00000000e+00\n",
      " -4.00000000e+00 -4.00000000e+00 -4.00000000e+00 -3.20000000e+00\n",
      " -3.20000000e+00 -3.20000000e+00 -3.20000000e+00 -3.20000000e+00\n",
      " -3.20000000e+00 -3.20000000e+00 -3.20000000e+00 -3.20000000e+00\n",
      " -3.20000000e+00 -3.20000000e+00 -3.20000000e+00 -3.20000000e+00\n",
      " -3.20000000e+00 -3.20000000e+00 -3.20000000e+00 -3.20000000e+00\n",
      " -3.20000000e+00 -3.20000000e+00 -3.20000000e+00 -2.40000000e+00\n",
      " -2.40000000e+00 -2.40000000e+00 -2.40000000e+00 -2.40000000e+00\n",
      " -2.40000000e+00 -2.40000000e+00 -2.40000000e+00 -2.40000000e+00\n",
      " -2.40000000e+00 -2.40000000e+00 -2.40000000e+00 -1.60000000e+00\n",
      " -1.60000000e+00 -1.60000000e+00 -1.60000000e+00 -8.00000000e-01\n",
      " -8.00000000e-01 -8.00000000e-01 -8.00000000e-01 -8.00000000e-01\n",
      " -8.00000000e-01 -8.00000000e-01 -8.00000000e-01 -8.00000000e-01\n",
      " -8.00000000e-01 -8.00000000e-01 -8.00000000e-01 -8.00000000e-01\n",
      " -8.00000000e-01 -8.00000000e-01 -8.00000000e-01 -8.00000000e-01\n",
      " -8.00000000e-01 -8.00000000e-01 -8.00000000e-01 -8.00000000e-01\n",
      " -8.00000000e-01 -8.00000000e-01 -8.00000000e-01 -8.00000000e-01\n",
      " -8.00000000e-01 -8.00000000e-01 -8.00000000e-01 -8.00000000e-01\n",
      " -8.00000000e-01 -8.00000000e-01 -8.00000000e-01 -8.00000000e-01\n",
      " -3.75342613e-15 -1.13017891e-15 -9.22041269e-16 -7.51732494e-16\n",
      " -5.54139096e-16 -5.33810104e-16 -3.96886848e-16 -1.32603378e-16\n",
      "  1.06507743e-17  1.52703184e-16  2.71233712e-16  4.83625420e-16\n",
      "  6.02267026e-16  8.44515598e-16  1.62569257e-15  8.00000000e-01\n",
      "  8.00000000e-01  8.00000000e-01  8.00000000e-01  8.00000000e-01\n",
      "  8.00000000e-01  8.00000000e-01  8.00000000e-01  8.00000000e-01\n",
      "  8.00000000e-01  8.00000000e-01  8.00000000e-01  8.00000000e-01\n",
      "  8.00000000e-01  8.00000000e-01  8.00000000e-01  8.00000000e-01\n",
      "  8.00000000e-01  8.00000000e-01  8.00000000e-01  1.60000000e+00\n",
      "  1.60000000e+00  1.60000000e+00  1.60000000e+00  1.60000000e+00\n",
      "  1.60000000e+00  1.60000000e+00  1.60000000e+00  1.60000000e+00\n",
      "  1.60000000e+00  1.60000000e+00  1.60000000e+00  1.60000000e+00\n",
      "  1.60000000e+00  1.60000000e+00  1.60000000e+00  1.60000000e+00\n",
      "  1.60000000e+00  1.60000000e+00  1.60000000e+00  1.60000000e+00\n",
      "  1.60000000e+00  1.60000000e+00  1.60000000e+00  1.60000000e+00\n",
      "  1.60000000e+00  1.60000000e+00  1.60000000e+00  1.60000000e+00\n",
      "  1.60000000e+00  1.60000000e+00  1.60000000e+00  1.60000000e+00\n",
      "  1.60000000e+00  1.60000000e+00  1.60000000e+00  1.60000000e+00\n",
      "  1.60000000e+00  1.60000000e+00  2.40000000e+00  3.20000000e+00\n",
      "  3.20000000e+00  3.20000000e+00  3.20000000e+00  3.20000000e+00\n",
      "  3.20000000e+00  3.20000000e+00  3.20000000e+00  3.20000000e+00\n",
      "  3.20000000e+00  3.20000000e+00  3.20000000e+00  3.20000000e+00\n",
      "  4.00000000e+00  4.00000000e+00  4.00000000e+00  4.00000000e+00\n",
      "  4.00000000e+00  4.00000000e+00  4.00000000e+00  4.00000000e+00\n",
      "  4.00000000e+00  4.00000000e+00  4.00000000e+00  4.00000000e+00\n",
      "  4.00000000e+00  4.00000000e+00  4.00000000e+00  4.00000000e+00\n",
      "  4.00000000e+00  4.00000000e+00  4.00000000e+00  4.00000000e+00\n",
      "  4.00000000e+00  4.00000000e+00  4.00000000e+00  4.00000000e+00\n",
      "  4.80000000e+00  4.80000000e+00  4.80000000e+00  4.80000000e+00\n",
      "  4.80000000e+00  5.60000000e+00  5.60000000e+00  5.60000000e+00\n",
      "  5.60000000e+00  5.60000000e+00  5.60000000e+00  5.60000000e+00\n",
      "  5.60000000e+00  5.60000000e+00  5.60000000e+00  5.60000000e+00\n",
      "  5.60000000e+00  5.60000000e+00  5.60000000e+00  7.20000000e+00\n",
      "  7.20000000e+00  7.20000000e+00  7.20000000e+00  7.20000000e+00\n",
      "  7.20000000e+00  7.20000000e+00  7.20000000e+00  7.20000000e+00]\n"
     ]
    }
   ],
   "source": [
    "print(evals)\n",
    "# print(eigvects[:,0])"
   ]
  },
  {
   "cell_type": "markdown",
   "metadata": {},
   "source": [
    "## RBM\n",
    "```"
   ]
  },
  {
   "cell_type": "code",
   "execution_count": 40,
   "metadata": {},
   "outputs": [],
   "source": [
    "if MACHINE == \"ModPhase\":\n",
    "    # A linear schedule varies the learning rate from 0 to 0.01 across 600 steps.\n",
    "    modulus_schedule=optax.linear_schedule(0,0.01,NUM_ITER)\n",
    "    modulus_schedule_MSR=optax.linear_schedule(0,0.01,NUM_ITER)\n",
    "\n",
    "    # The phase starts with a larger learning rate and then is decreased.\n",
    "    phase_schedule=optax.linear_schedule(0.05,0.01,NUM_ITER)\n",
    "    phase_schedule_MSR=optax.linear_schedule(0.05,0.01,NUM_ITER)\n",
    "\n",
    "    # Combine the linear schedule with SGD\n",
    "    optm=optax.sgd(modulus_schedule)\n",
    "    optp=optax.sgd(phase_schedule)\n",
    "    optm_MSR=optax.sgd(modulus_schedule_MSR)\n",
    "    optp_MSR=optax.sgd(phase_schedule_MSR)\n",
    "\n",
    "    # The multi-transform optimizer uses different optimisers for different parts of the\n",
    "    # parameters.\n",
    "    optimizer = optax.multi_transform({'o1': optm, 'o2': optp}, flax.core.freeze({\"Dense_0\":\"o1\", \"Dense_1\":\"o2\"}))\n",
    "    optimizer_MSR = optax.multi_transform({'o1': optm_MSR, 'o2': optp_MSR}, flax.core.freeze({\"Dense_0\":\"o1\", \"Dense_1\":\"o2\"}))\n",
    "else:\n",
    "    optimizer = nk.optimizer.Sgd(learning_rate=ETA)\n",
    "    optimizer_MSR = nk.optimizer.Sgd(learning_rate=ETA)"
   ]
  },
  {
   "cell_type": "code",
   "execution_count": 41,
   "metadata": {},
   "outputs": [],
   "source": [
    "#GCNN\n",
    "#definice modelu, sampleru atd.\n",
    "\n",
    "#Feature dimensions of hidden layers, from first to last\n",
    "#feature_dims = (8,8,8,8)\n",
    "\n",
    "#Number of layers\n",
    "#num_layers = 4\n",
    "\n",
    "#Define the GCNN\n",
    "# machine = nk.models.GCNN(symmetries = g.automorphisms(), layers = num_layers, features = feature_dims)\n",
    "# machine_MSR = nk.models.GCNN(symmetries = g.automorphisms(), layers = num_layers, features = feature_dims)"
   ]
  },
  {
   "cell_type": "code",
   "execution_count": 42,
   "metadata": {},
   "outputs": [
    {
     "name": "stderr",
     "output_type": "stream",
     "text": [
      "/home/mezic/.local/lib/python3.8/site-packages/netket/vqs/mc/mc_state/state.py:58: UserWarning:\n",
      "\n",
      "n_samples=1000 (1000 per MPI rank) does not divide n_chains=16, increased to 1008 (1008 per MPI rank)\n",
      "\n"
     ]
    }
   ],
   "source": [
    "#definice modelu, sampleru atd.\n",
    "if MACHINE == \"RBM\":\n",
    "    machine =     nk.models.RBM(dtype=DTYPE, alpha=ALPHA)#, use_visible_bias=False) \n",
    "    machine_MSR = nk.models.RBM(dtype=DTYPE, alpha=ALPHA)#, use_visible_bias=False)\n",
    "elif MACHINE == \"RBMModPhase\":\n",
    "    machine = nk.models.RBMModPhase(alpha=ALPHA, use_hidden_bias=True, dtype=DTYPE)\n",
    "    machine_MSR = nk.models.RBMModPhase(alpha=ALPHA, use_hidden_bias=True, dtype=DTYPE)\n",
    "elif MACHINE == \"GCNN\":\n",
    "    machine     = nk.models.GCNN(symmetries=g.automorphisms(), dtype=DTYPE, layers=num_layers, features=feature_dims, characters=characters_dimer)\n",
    "    machine_MSR = nk.models.GCNN(symmetries=g.automorphisms(), dtype=DTYPE, layers=num_layers, features=feature_dims, characters=characters_dimer_msr)\n",
    "elif MACHINE == \"RBMSymm\":\n",
    "    machine =     nk.models.RBMSymm(g.automorphisms(), dtype=DTYPE, alpha=ALPHA)#, use_visible_bias=False) \n",
    "    machine_MSR = nk.models.RBMSymm(g.automorphisms(), dtype=DTYPE, alpha=ALPHA)#, use_visible_bias=False)\n",
    "elif MACHINE == \"RBMSymm_transl\":\n",
    "    machine =     nk.models.RBMSymm(translation_group, dtype=DTYPE, alpha=ALPHA)#, use_visible_bias=False) \n",
    "    machine_MSR = nk.models.RBMSymm(translation_group, dtype=DTYPE, alpha=ALPHA)#, use_visible_bias=False)\n",
    "else:\n",
    "    raise Exception(str(\"undefined MACHINE: \")+str(MACHINE))\n",
    "\n",
    "# Meropolis Exchange Sampling\n",
    "if SAMPLER == 'local':\n",
    "    sampler = nk.sampler.MetropolisLocal(hilbert=hilbert)\n",
    "    sampler_MSR = nk.sampler.MetropolisLocal(hilbert=hilbert)\n",
    "elif SAMPLER == 'exact':\n",
    "    sampler = nk.sampler.ExactSampler(hilbert=hilbert)\n",
    "    sampler_MSR = nk.sampler.ExactSampler(hilbert=hilbert)\n",
    "else:\n",
    "    sampler = nk.sampler.MetropolisExchange(hilbert=hilbert, graph=g)\n",
    "    sampler_MSR = nk.sampler.MetropolisExchange(hilbert=hilbert, graph=g)\n",
    "    if SAMPLER != 'exchange':\n",
    "        print(\"Warning! Undefined fq.SAMPLER:\", SAMPLER, \", dafaulting to MetropolisExchange fq.SAMPLER\")\n",
    "\n",
    "\n",
    "# Stochastic Reconfiguration\n",
    "sr  = nk.optimizer.SR(diag_shift=0.01)\n",
    "sr_MSR  = nk.optimizer.SR(diag_shift=0.01)\n",
    "\n",
    "# The variational state (drive to byla nk.variational.MCState)\n",
    "vss = nk.vqs.MCState(sampler, machine, n_samples=SAMPLES)\n",
    "vs_MSR  = nk.vqs.MCState(sampler_MSR, machine_MSR, n_samples=SAMPLES)\n",
    "vss.init_parameters(jax.nn.initializers.normal(stddev=0.001))\n",
    "vs_MSR.init_parameters(jax.nn.initializers.normal(stddev=0.001))\n",
    "\n",
    "\n",
    "gs_normal = nk.VMC(hamiltonian=ha ,optimizer=optimizer,preconditioner=sr,variational_state=vss)               # 0 ... symmetric\n",
    "gs_MSR = nk.VMC(hamiltonian=ha_MSR ,optimizer=optimizer_MSR,preconditioner=sr_MSR,variational_state=vs_MSR)   # 1 ... symmetric+MSR"
   ]
  },
  {
   "cell_type": "code",
   "execution_count": 43,
   "metadata": {},
   "outputs": [
    {
     "data": {
      "text/plain": [
       "4172"
      ]
     },
     "execution_count": 43,
     "metadata": {},
     "output_type": "execute_result"
    }
   ],
   "source": [
    "vss.n_parameters"
   ]
  },
  {
   "cell_type": "markdown",
   "metadata": {},
   "source": [
    "# Operators"
   ]
  },
  {
   "cell_type": "code",
   "execution_count": 44,
   "metadata": {},
   "outputs": [],
   "source": [
    "def SS(i,j): #different method of definition\n",
    "    if i==j:\n",
    "        return nk.operator.LocalOperator(hilbert,operators=[[3,0],[0,3]],acting_on=[i])\n",
    "    else:\n",
    "        return nk.operator.LocalOperator(hilbert,operators=(mszsz+exchange),acting_on=[i,j])\n",
    "\n",
    "def P(i,j,msr=False): # two particle permutation operator\n",
    "    if msr == False:\n",
    "        return .5*(SS(i,j)+nk.operator.LocalOperator(hilbert,operators=[[1,0,0,0],[0,1,0,0],[0,0,1,0],[0,0,0,1]],acting_on=[i,j]))\n",
    "    else:\n",
    "        raise NotImplementedError()\n"
   ]
  },
  {
   "cell_type": "markdown",
   "metadata": {},
   "source": [
    "# Calculation"
   ]
  },
  {
   "cell_type": "code",
   "execution_count": 45,
   "metadata": {},
   "outputs": [
    {
     "name": "stdout",
     "output_type": "stream",
     "text": [
      "J_1 = 0.2\n",
      "Expected exact energy: -12.000000000000002\n"
     ]
    },
    {
     "name": "stderr",
     "output_type": "stream",
     "text": [
      "100%|██████████| 20/20 [00:48<00:00,  2.45s/it, Energy=-1.200e+01-1.723e-12j ± 4.073e-13 [σ²=1.673e-22, R̂=1.4086]]"
     ]
    },
    {
     "name": "stdout",
     "output_type": "stream",
     "text": [
      "The type 0 of RBM calculation took 1.350479209423065 min\n"
     ]
    },
    {
     "name": "stderr",
     "output_type": "stream",
     "text": [
      "\n"
     ]
    }
   ],
   "source": [
    "no_of_runs = 1 #2 ... bude se pocitat i druhý způsob (za použití MSR)\n",
    "use_MSR = 1 # in case of one run\n",
    "NUM_ITER = 20\n",
    "print(\"J_1 =\", JEXCH1)\n",
    "if exact_ground_energy != 0:\n",
    "    print(\"Expected exact energy:\", exact_ground_energy)\n",
    "for i,gs in enumerate([gs_normal,gs_MSR][use_MSR:use_MSR+no_of_runs]):\n",
    "    start = time.time()\n",
    "    gs.run(out=OUT_NAME+str(i), n_iter=int(NUM_ITER))#, obs={'symmetry':P(0,1)})\n",
    "    end = time.time()\n",
    "    print(\"The type {} of RBM calculation took {} min\".format(i, (end-start)/60))\n"
   ]
  },
  {
   "cell_type": "code",
   "execution_count": 46,
   "metadata": {},
   "outputs": [
    {
     "name": "stdout",
     "output_type": "stream",
     "text": [
      "Trained RBM without MSR:\n",
      "m_d^2 = 1.000e+00-2.879e-13j ± 5.339e-14 [σ²=2.874e-24, R̂=1.4085]\n",
      "m_p = 0.0625+0.0000j ± 0.0076 [σ²=0.0586, R̂=1.4086]\n",
      "m_s^2 = -1.647e-13+2.281e-14j ± 1.592e-14 [σ²=2.555e-25, R̂=1.4086]\n",
      "m_s^2 = -7.706e-14+1.079e-14j ± 1.011e-14 [σ²=1.030e-25, R̂=1.4086] <--- no MSR!!\n"
     ]
    }
   ],
   "source": [
    "from lattice_and_ops import Operators, Lattice\n",
    "ops = Operators(lattice,hilbert,mszsz,exchange)\n",
    "for i,gs in enumerate([gs_normal,gs_MSR][use_MSR:use_MSR+no_of_runs]):\n",
    "    print(\"Trained RBM with MSR:\" if i else \"Trained RBM without MSR:\")\n",
    "    print(\"m_d^2 =\", gs.estimate(ops.m_dimer_op))\n",
    "    print(\"m_p =\", gs.estimate(ops.m_plaquette_op_MSR))\n",
    "    print(\"m_s^2 =\", gs.estimate(ops.m_s2_op_MSR))\n",
    "    print(\"m_s^2 =\", gs.estimate(ops.m_s2_op), \"<--- no MSR!!\")"
   ]
  },
  {
   "cell_type": "code",
   "execution_count": 58,
   "metadata": {},
   "outputs": [
    {
     "name": "stdout",
     "output_type": "stream",
     "text": [
      "2.000e+00+0.000e+00j ± nan [σ²=0.000e+00]\n"
     ]
    }
   ],
   "source": [
    "print(gs_normal.estimate(2*nk.operator.LocalOperator(hilbert,operators=[[1,0],[0,1]],acting_on=[0])))"
   ]
  },
  {
   "cell_type": "markdown",
   "metadata": {},
   "source": [
    "## Energy"
   ]
  },
  {
   "cell_type": "code",
   "execution_count": 48,
   "metadata": {},
   "outputs": [],
   "source": [
    "# exact energy line\n",
    "figure = go.Figure(\n",
    "    data=[go.Scatter(x=(0,NUM_ITER),y=(exact_ground_energy,exact_ground_energy),mode=\"lines\",line=go.scatter.Line(color=\"#000000\",width=1), name=\"exact energy\"),go.Scatter(x=(0,NUM_ITER),y=(.995*exact_ground_energy,.995*exact_ground_energy),mode=\"lines\",line=go.scatter.Line(color=\"#000000\",width=1), name=\"99.5 % of exact energy\")], \n",
    "    layout=go.Layout(template=\"simple_white\",\n",
    "        xaxis=dict(title=\"Iteration\", mirror=True, showline=True),\n",
    "        yaxis=dict(title=\"Energy\", mirror=True, showline=True),\n",
    "        title=(\"<b>\"+\"S-S\"+\" model </b>, L=\"+str(SITES)+\", J2 =\"+str(JEXCH2)+ \", J1 =\"+str(JEXCH1)+\" , η=\"+str(ETA)+\", α=\"+str(ALPHA)+\", samples=\"+str(SAMPLES))))"
   ]
  },
  {
   "cell_type": "code",
   "execution_count": 49,
   "metadata": {},
   "outputs": [
    {
     "data": {
      "application/vnd.plotly.v1+json": {
       "config": {
        "plotlyServerURL": "https://plot.ly"
       },
       "data": [
        {
         "line": {
          "color": "#000000",
          "width": 1
         },
         "mode": "lines",
         "name": "exact energy",
         "type": "scatter",
         "x": [
          0,
          20
         ],
         "y": [
          -12.000000000000002,
          -12.000000000000002
         ]
        },
        {
         "line": {
          "color": "#000000",
          "width": 1
         },
         "mode": "lines",
         "name": "99.5 % of exact energy",
         "type": "scatter",
         "x": [
          0,
          20
         ],
         "y": [
          -11.940000000000001,
          -11.940000000000001
         ]
        },
        {
         "name": "normal basis",
         "type": "scatter",
         "x": [
          0,
          1,
          2,
          3,
          4,
          5,
          6,
          7,
          8,
          9,
          10,
          11,
          12,
          13,
          14,
          15,
          16,
          17,
          18,
          19
         ],
         "y": [
          -12.0000000000072,
          -12.000000000023512,
          -12.000000000023002,
          -11.999999999979439,
          -12.000000000031035,
          -12.000000000017465,
          -11.999999999979474,
          -12.000000000020751,
          -12.000000000020481,
          -11.999999999982661,
          -11.999999999960211,
          -11.999999999995527,
          -11.999999999978451,
          -11.999999999989198,
          -11.999999999995982,
          -11.999999999973438,
          -12.000000000014953,
          -11.999999999998934,
          -12.000000000011878,
          -11.999999999987322
         ]
        }
       ],
       "layout": {
        "template": {
         "data": {
          "bar": [
           {
            "error_x": {
             "color": "rgb(36,36,36)"
            },
            "error_y": {
             "color": "rgb(36,36,36)"
            },
            "marker": {
             "line": {
              "color": "white",
              "width": 0.5
             },
             "pattern": {
              "fillmode": "overlay",
              "size": 10,
              "solidity": 0.2
             }
            },
            "type": "bar"
           }
          ],
          "barpolar": [
           {
            "marker": {
             "line": {
              "color": "white",
              "width": 0.5
             },
             "pattern": {
              "fillmode": "overlay",
              "size": 10,
              "solidity": 0.2
             }
            },
            "type": "barpolar"
           }
          ],
          "carpet": [
           {
            "aaxis": {
             "endlinecolor": "rgb(36,36,36)",
             "gridcolor": "white",
             "linecolor": "white",
             "minorgridcolor": "white",
             "startlinecolor": "rgb(36,36,36)"
            },
            "baxis": {
             "endlinecolor": "rgb(36,36,36)",
             "gridcolor": "white",
             "linecolor": "white",
             "minorgridcolor": "white",
             "startlinecolor": "rgb(36,36,36)"
            },
            "type": "carpet"
           }
          ],
          "choropleth": [
           {
            "colorbar": {
             "outlinewidth": 1,
             "tickcolor": "rgb(36,36,36)",
             "ticks": "outside"
            },
            "type": "choropleth"
           }
          ],
          "contour": [
           {
            "colorbar": {
             "outlinewidth": 1,
             "tickcolor": "rgb(36,36,36)",
             "ticks": "outside"
            },
            "colorscale": [
             [
              0,
              "#440154"
             ],
             [
              0.1111111111111111,
              "#482878"
             ],
             [
              0.2222222222222222,
              "#3e4989"
             ],
             [
              0.3333333333333333,
              "#31688e"
             ],
             [
              0.4444444444444444,
              "#26828e"
             ],
             [
              0.5555555555555556,
              "#1f9e89"
             ],
             [
              0.6666666666666666,
              "#35b779"
             ],
             [
              0.7777777777777778,
              "#6ece58"
             ],
             [
              0.8888888888888888,
              "#b5de2b"
             ],
             [
              1,
              "#fde725"
             ]
            ],
            "type": "contour"
           }
          ],
          "contourcarpet": [
           {
            "colorbar": {
             "outlinewidth": 1,
             "tickcolor": "rgb(36,36,36)",
             "ticks": "outside"
            },
            "type": "contourcarpet"
           }
          ],
          "heatmap": [
           {
            "colorbar": {
             "outlinewidth": 1,
             "tickcolor": "rgb(36,36,36)",
             "ticks": "outside"
            },
            "colorscale": [
             [
              0,
              "#440154"
             ],
             [
              0.1111111111111111,
              "#482878"
             ],
             [
              0.2222222222222222,
              "#3e4989"
             ],
             [
              0.3333333333333333,
              "#31688e"
             ],
             [
              0.4444444444444444,
              "#26828e"
             ],
             [
              0.5555555555555556,
              "#1f9e89"
             ],
             [
              0.6666666666666666,
              "#35b779"
             ],
             [
              0.7777777777777778,
              "#6ece58"
             ],
             [
              0.8888888888888888,
              "#b5de2b"
             ],
             [
              1,
              "#fde725"
             ]
            ],
            "type": "heatmap"
           }
          ],
          "heatmapgl": [
           {
            "colorbar": {
             "outlinewidth": 1,
             "tickcolor": "rgb(36,36,36)",
             "ticks": "outside"
            },
            "colorscale": [
             [
              0,
              "#440154"
             ],
             [
              0.1111111111111111,
              "#482878"
             ],
             [
              0.2222222222222222,
              "#3e4989"
             ],
             [
              0.3333333333333333,
              "#31688e"
             ],
             [
              0.4444444444444444,
              "#26828e"
             ],
             [
              0.5555555555555556,
              "#1f9e89"
             ],
             [
              0.6666666666666666,
              "#35b779"
             ],
             [
              0.7777777777777778,
              "#6ece58"
             ],
             [
              0.8888888888888888,
              "#b5de2b"
             ],
             [
              1,
              "#fde725"
             ]
            ],
            "type": "heatmapgl"
           }
          ],
          "histogram": [
           {
            "marker": {
             "line": {
              "color": "white",
              "width": 0.6
             }
            },
            "type": "histogram"
           }
          ],
          "histogram2d": [
           {
            "colorbar": {
             "outlinewidth": 1,
             "tickcolor": "rgb(36,36,36)",
             "ticks": "outside"
            },
            "colorscale": [
             [
              0,
              "#440154"
             ],
             [
              0.1111111111111111,
              "#482878"
             ],
             [
              0.2222222222222222,
              "#3e4989"
             ],
             [
              0.3333333333333333,
              "#31688e"
             ],
             [
              0.4444444444444444,
              "#26828e"
             ],
             [
              0.5555555555555556,
              "#1f9e89"
             ],
             [
              0.6666666666666666,
              "#35b779"
             ],
             [
              0.7777777777777778,
              "#6ece58"
             ],
             [
              0.8888888888888888,
              "#b5de2b"
             ],
             [
              1,
              "#fde725"
             ]
            ],
            "type": "histogram2d"
           }
          ],
          "histogram2dcontour": [
           {
            "colorbar": {
             "outlinewidth": 1,
             "tickcolor": "rgb(36,36,36)",
             "ticks": "outside"
            },
            "colorscale": [
             [
              0,
              "#440154"
             ],
             [
              0.1111111111111111,
              "#482878"
             ],
             [
              0.2222222222222222,
              "#3e4989"
             ],
             [
              0.3333333333333333,
              "#31688e"
             ],
             [
              0.4444444444444444,
              "#26828e"
             ],
             [
              0.5555555555555556,
              "#1f9e89"
             ],
             [
              0.6666666666666666,
              "#35b779"
             ],
             [
              0.7777777777777778,
              "#6ece58"
             ],
             [
              0.8888888888888888,
              "#b5de2b"
             ],
             [
              1,
              "#fde725"
             ]
            ],
            "type": "histogram2dcontour"
           }
          ],
          "mesh3d": [
           {
            "colorbar": {
             "outlinewidth": 1,
             "tickcolor": "rgb(36,36,36)",
             "ticks": "outside"
            },
            "type": "mesh3d"
           }
          ],
          "parcoords": [
           {
            "line": {
             "colorbar": {
              "outlinewidth": 1,
              "tickcolor": "rgb(36,36,36)",
              "ticks": "outside"
             }
            },
            "type": "parcoords"
           }
          ],
          "pie": [
           {
            "automargin": true,
            "type": "pie"
           }
          ],
          "scatter": [
           {
            "marker": {
             "colorbar": {
              "outlinewidth": 1,
              "tickcolor": "rgb(36,36,36)",
              "ticks": "outside"
             }
            },
            "type": "scatter"
           }
          ],
          "scatter3d": [
           {
            "line": {
             "colorbar": {
              "outlinewidth": 1,
              "tickcolor": "rgb(36,36,36)",
              "ticks": "outside"
             }
            },
            "marker": {
             "colorbar": {
              "outlinewidth": 1,
              "tickcolor": "rgb(36,36,36)",
              "ticks": "outside"
             }
            },
            "type": "scatter3d"
           }
          ],
          "scattercarpet": [
           {
            "marker": {
             "colorbar": {
              "outlinewidth": 1,
              "tickcolor": "rgb(36,36,36)",
              "ticks": "outside"
             }
            },
            "type": "scattercarpet"
           }
          ],
          "scattergeo": [
           {
            "marker": {
             "colorbar": {
              "outlinewidth": 1,
              "tickcolor": "rgb(36,36,36)",
              "ticks": "outside"
             }
            },
            "type": "scattergeo"
           }
          ],
          "scattergl": [
           {
            "marker": {
             "colorbar": {
              "outlinewidth": 1,
              "tickcolor": "rgb(36,36,36)",
              "ticks": "outside"
             }
            },
            "type": "scattergl"
           }
          ],
          "scattermapbox": [
           {
            "marker": {
             "colorbar": {
              "outlinewidth": 1,
              "tickcolor": "rgb(36,36,36)",
              "ticks": "outside"
             }
            },
            "type": "scattermapbox"
           }
          ],
          "scatterpolar": [
           {
            "marker": {
             "colorbar": {
              "outlinewidth": 1,
              "tickcolor": "rgb(36,36,36)",
              "ticks": "outside"
             }
            },
            "type": "scatterpolar"
           }
          ],
          "scatterpolargl": [
           {
            "marker": {
             "colorbar": {
              "outlinewidth": 1,
              "tickcolor": "rgb(36,36,36)",
              "ticks": "outside"
             }
            },
            "type": "scatterpolargl"
           }
          ],
          "scatterternary": [
           {
            "marker": {
             "colorbar": {
              "outlinewidth": 1,
              "tickcolor": "rgb(36,36,36)",
              "ticks": "outside"
             }
            },
            "type": "scatterternary"
           }
          ],
          "surface": [
           {
            "colorbar": {
             "outlinewidth": 1,
             "tickcolor": "rgb(36,36,36)",
             "ticks": "outside"
            },
            "colorscale": [
             [
              0,
              "#440154"
             ],
             [
              0.1111111111111111,
              "#482878"
             ],
             [
              0.2222222222222222,
              "#3e4989"
             ],
             [
              0.3333333333333333,
              "#31688e"
             ],
             [
              0.4444444444444444,
              "#26828e"
             ],
             [
              0.5555555555555556,
              "#1f9e89"
             ],
             [
              0.6666666666666666,
              "#35b779"
             ],
             [
              0.7777777777777778,
              "#6ece58"
             ],
             [
              0.8888888888888888,
              "#b5de2b"
             ],
             [
              1,
              "#fde725"
             ]
            ],
            "type": "surface"
           }
          ],
          "table": [
           {
            "cells": {
             "fill": {
              "color": "rgb(237,237,237)"
             },
             "line": {
              "color": "white"
             }
            },
            "header": {
             "fill": {
              "color": "rgb(217,217,217)"
             },
             "line": {
              "color": "white"
             }
            },
            "type": "table"
           }
          ]
         },
         "layout": {
          "annotationdefaults": {
           "arrowhead": 0,
           "arrowwidth": 1
          },
          "autotypenumbers": "strict",
          "coloraxis": {
           "colorbar": {
            "outlinewidth": 1,
            "tickcolor": "rgb(36,36,36)",
            "ticks": "outside"
           }
          },
          "colorscale": {
           "diverging": [
            [
             0,
             "rgb(103,0,31)"
            ],
            [
             0.1,
             "rgb(178,24,43)"
            ],
            [
             0.2,
             "rgb(214,96,77)"
            ],
            [
             0.3,
             "rgb(244,165,130)"
            ],
            [
             0.4,
             "rgb(253,219,199)"
            ],
            [
             0.5,
             "rgb(247,247,247)"
            ],
            [
             0.6,
             "rgb(209,229,240)"
            ],
            [
             0.7,
             "rgb(146,197,222)"
            ],
            [
             0.8,
             "rgb(67,147,195)"
            ],
            [
             0.9,
             "rgb(33,102,172)"
            ],
            [
             1,
             "rgb(5,48,97)"
            ]
           ],
           "sequential": [
            [
             0,
             "#440154"
            ],
            [
             0.1111111111111111,
             "#482878"
            ],
            [
             0.2222222222222222,
             "#3e4989"
            ],
            [
             0.3333333333333333,
             "#31688e"
            ],
            [
             0.4444444444444444,
             "#26828e"
            ],
            [
             0.5555555555555556,
             "#1f9e89"
            ],
            [
             0.6666666666666666,
             "#35b779"
            ],
            [
             0.7777777777777778,
             "#6ece58"
            ],
            [
             0.8888888888888888,
             "#b5de2b"
            ],
            [
             1,
             "#fde725"
            ]
           ],
           "sequentialminus": [
            [
             0,
             "#440154"
            ],
            [
             0.1111111111111111,
             "#482878"
            ],
            [
             0.2222222222222222,
             "#3e4989"
            ],
            [
             0.3333333333333333,
             "#31688e"
            ],
            [
             0.4444444444444444,
             "#26828e"
            ],
            [
             0.5555555555555556,
             "#1f9e89"
            ],
            [
             0.6666666666666666,
             "#35b779"
            ],
            [
             0.7777777777777778,
             "#6ece58"
            ],
            [
             0.8888888888888888,
             "#b5de2b"
            ],
            [
             1,
             "#fde725"
            ]
           ]
          },
          "colorway": [
           "#1F77B4",
           "#FF7F0E",
           "#2CA02C",
           "#D62728",
           "#9467BD",
           "#8C564B",
           "#E377C2",
           "#7F7F7F",
           "#BCBD22",
           "#17BECF"
          ],
          "font": {
           "color": "rgb(36,36,36)"
          },
          "geo": {
           "bgcolor": "white",
           "lakecolor": "white",
           "landcolor": "white",
           "showlakes": true,
           "showland": true,
           "subunitcolor": "white"
          },
          "hoverlabel": {
           "align": "left"
          },
          "hovermode": "closest",
          "mapbox": {
           "style": "light"
          },
          "paper_bgcolor": "white",
          "plot_bgcolor": "white",
          "polar": {
           "angularaxis": {
            "gridcolor": "rgb(232,232,232)",
            "linecolor": "rgb(36,36,36)",
            "showgrid": false,
            "showline": true,
            "ticks": "outside"
           },
           "bgcolor": "white",
           "radialaxis": {
            "gridcolor": "rgb(232,232,232)",
            "linecolor": "rgb(36,36,36)",
            "showgrid": false,
            "showline": true,
            "ticks": "outside"
           }
          },
          "scene": {
           "xaxis": {
            "backgroundcolor": "white",
            "gridcolor": "rgb(232,232,232)",
            "gridwidth": 2,
            "linecolor": "rgb(36,36,36)",
            "showbackground": true,
            "showgrid": false,
            "showline": true,
            "ticks": "outside",
            "zeroline": false,
            "zerolinecolor": "rgb(36,36,36)"
           },
           "yaxis": {
            "backgroundcolor": "white",
            "gridcolor": "rgb(232,232,232)",
            "gridwidth": 2,
            "linecolor": "rgb(36,36,36)",
            "showbackground": true,
            "showgrid": false,
            "showline": true,
            "ticks": "outside",
            "zeroline": false,
            "zerolinecolor": "rgb(36,36,36)"
           },
           "zaxis": {
            "backgroundcolor": "white",
            "gridcolor": "rgb(232,232,232)",
            "gridwidth": 2,
            "linecolor": "rgb(36,36,36)",
            "showbackground": true,
            "showgrid": false,
            "showline": true,
            "ticks": "outside",
            "zeroline": false,
            "zerolinecolor": "rgb(36,36,36)"
           }
          },
          "shapedefaults": {
           "fillcolor": "black",
           "line": {
            "width": 0
           },
           "opacity": 0.3
          },
          "ternary": {
           "aaxis": {
            "gridcolor": "rgb(232,232,232)",
            "linecolor": "rgb(36,36,36)",
            "showgrid": false,
            "showline": true,
            "ticks": "outside"
           },
           "baxis": {
            "gridcolor": "rgb(232,232,232)",
            "linecolor": "rgb(36,36,36)",
            "showgrid": false,
            "showline": true,
            "ticks": "outside"
           },
           "bgcolor": "white",
           "caxis": {
            "gridcolor": "rgb(232,232,232)",
            "linecolor": "rgb(36,36,36)",
            "showgrid": false,
            "showline": true,
            "ticks": "outside"
           }
          },
          "title": {
           "x": 0.05
          },
          "xaxis": {
           "automargin": true,
           "gridcolor": "rgb(232,232,232)",
           "linecolor": "rgb(36,36,36)",
           "showgrid": false,
           "showline": true,
           "ticks": "outside",
           "title": {
            "standoff": 15
           },
           "zeroline": false,
           "zerolinecolor": "rgb(36,36,36)"
          },
          "yaxis": {
           "automargin": true,
           "gridcolor": "rgb(232,232,232)",
           "linecolor": "rgb(36,36,36)",
           "showgrid": false,
           "showline": true,
           "ticks": "outside",
           "title": {
            "standoff": 15
           },
           "zeroline": false,
           "zerolinecolor": "rgb(36,36,36)"
          }
         }
        },
        "title": {
         "text": "<b>S-S model </b>, L=8, J2 =1, J1 =0.2 , η=0.01, α=16, samples=1000"
        },
        "xaxis": {
         "mirror": true,
         "showline": true,
         "title": {
          "text": "Iteration"
         }
        },
        "yaxis": {
         "mirror": true,
         "showline": true,
         "title": {
          "text": "Energy"
         }
        }
       }
      },
      "text/html": [
       "<div>                            <div id=\"bf0ded6b-c078-4d8e-a682-284d651b7075\" class=\"plotly-graph-div\" style=\"height:525px; width:100%;\"></div>            <script type=\"text/javascript\">                require([\"plotly\"], function(Plotly) {                    window.PLOTLYENV=window.PLOTLYENV || {};                                    if (document.getElementById(\"bf0ded6b-c078-4d8e-a682-284d651b7075\")) {                    Plotly.newPlot(                        \"bf0ded6b-c078-4d8e-a682-284d651b7075\",                        [{\"line\":{\"color\":\"#000000\",\"width\":1},\"mode\":\"lines\",\"name\":\"exact energy\",\"type\":\"scatter\",\"x\":[0,20],\"y\":[-12.000000000000002,-12.000000000000002]},{\"line\":{\"color\":\"#000000\",\"width\":1},\"mode\":\"lines\",\"name\":\"99.5 % of exact energy\",\"type\":\"scatter\",\"x\":[0,20],\"y\":[-11.940000000000001,-11.940000000000001]},{\"name\":\"normal basis\",\"type\":\"scatter\",\"x\":[0,1,2,3,4,5,6,7,8,9,10,11,12,13,14,15,16,17,18,19],\"y\":[-12.0000000000072,-12.000000000023512,-12.000000000023002,-11.999999999979439,-12.000000000031035,-12.000000000017465,-11.999999999979474,-12.000000000020751,-12.000000000020481,-11.999999999982661,-11.999999999960211,-11.999999999995527,-11.999999999978451,-11.999999999989198,-11.999999999995982,-11.999999999973438,-12.000000000014953,-11.999999999998934,-12.000000000011878,-11.999999999987322]}],                        {\"template\":{\"data\":{\"bar\":[{\"error_x\":{\"color\":\"rgb(36,36,36)\"},\"error_y\":{\"color\":\"rgb(36,36,36)\"},\"marker\":{\"line\":{\"color\":\"white\",\"width\":0.5},\"pattern\":{\"fillmode\":\"overlay\",\"size\":10,\"solidity\":0.2}},\"type\":\"bar\"}],\"barpolar\":[{\"marker\":{\"line\":{\"color\":\"white\",\"width\":0.5},\"pattern\":{\"fillmode\":\"overlay\",\"size\":10,\"solidity\":0.2}},\"type\":\"barpolar\"}],\"carpet\":[{\"aaxis\":{\"endlinecolor\":\"rgb(36,36,36)\",\"gridcolor\":\"white\",\"linecolor\":\"white\",\"minorgridcolor\":\"white\",\"startlinecolor\":\"rgb(36,36,36)\"},\"baxis\":{\"endlinecolor\":\"rgb(36,36,36)\",\"gridcolor\":\"white\",\"linecolor\":\"white\",\"minorgridcolor\":\"white\",\"startlinecolor\":\"rgb(36,36,36)\"},\"type\":\"carpet\"}],\"choropleth\":[{\"colorbar\":{\"outlinewidth\":1,\"tickcolor\":\"rgb(36,36,36)\",\"ticks\":\"outside\"},\"type\":\"choropleth\"}],\"contour\":[{\"colorbar\":{\"outlinewidth\":1,\"tickcolor\":\"rgb(36,36,36)\",\"ticks\":\"outside\"},\"colorscale\":[[0.0,\"#440154\"],[0.1111111111111111,\"#482878\"],[0.2222222222222222,\"#3e4989\"],[0.3333333333333333,\"#31688e\"],[0.4444444444444444,\"#26828e\"],[0.5555555555555556,\"#1f9e89\"],[0.6666666666666666,\"#35b779\"],[0.7777777777777778,\"#6ece58\"],[0.8888888888888888,\"#b5de2b\"],[1.0,\"#fde725\"]],\"type\":\"contour\"}],\"contourcarpet\":[{\"colorbar\":{\"outlinewidth\":1,\"tickcolor\":\"rgb(36,36,36)\",\"ticks\":\"outside\"},\"type\":\"contourcarpet\"}],\"heatmap\":[{\"colorbar\":{\"outlinewidth\":1,\"tickcolor\":\"rgb(36,36,36)\",\"ticks\":\"outside\"},\"colorscale\":[[0.0,\"#440154\"],[0.1111111111111111,\"#482878\"],[0.2222222222222222,\"#3e4989\"],[0.3333333333333333,\"#31688e\"],[0.4444444444444444,\"#26828e\"],[0.5555555555555556,\"#1f9e89\"],[0.6666666666666666,\"#35b779\"],[0.7777777777777778,\"#6ece58\"],[0.8888888888888888,\"#b5de2b\"],[1.0,\"#fde725\"]],\"type\":\"heatmap\"}],\"heatmapgl\":[{\"colorbar\":{\"outlinewidth\":1,\"tickcolor\":\"rgb(36,36,36)\",\"ticks\":\"outside\"},\"colorscale\":[[0.0,\"#440154\"],[0.1111111111111111,\"#482878\"],[0.2222222222222222,\"#3e4989\"],[0.3333333333333333,\"#31688e\"],[0.4444444444444444,\"#26828e\"],[0.5555555555555556,\"#1f9e89\"],[0.6666666666666666,\"#35b779\"],[0.7777777777777778,\"#6ece58\"],[0.8888888888888888,\"#b5de2b\"],[1.0,\"#fde725\"]],\"type\":\"heatmapgl\"}],\"histogram\":[{\"marker\":{\"line\":{\"color\":\"white\",\"width\":0.6}},\"type\":\"histogram\"}],\"histogram2d\":[{\"colorbar\":{\"outlinewidth\":1,\"tickcolor\":\"rgb(36,36,36)\",\"ticks\":\"outside\"},\"colorscale\":[[0.0,\"#440154\"],[0.1111111111111111,\"#482878\"],[0.2222222222222222,\"#3e4989\"],[0.3333333333333333,\"#31688e\"],[0.4444444444444444,\"#26828e\"],[0.5555555555555556,\"#1f9e89\"],[0.6666666666666666,\"#35b779\"],[0.7777777777777778,\"#6ece58\"],[0.8888888888888888,\"#b5de2b\"],[1.0,\"#fde725\"]],\"type\":\"histogram2d\"}],\"histogram2dcontour\":[{\"colorbar\":{\"outlinewidth\":1,\"tickcolor\":\"rgb(36,36,36)\",\"ticks\":\"outside\"},\"colorscale\":[[0.0,\"#440154\"],[0.1111111111111111,\"#482878\"],[0.2222222222222222,\"#3e4989\"],[0.3333333333333333,\"#31688e\"],[0.4444444444444444,\"#26828e\"],[0.5555555555555556,\"#1f9e89\"],[0.6666666666666666,\"#35b779\"],[0.7777777777777778,\"#6ece58\"],[0.8888888888888888,\"#b5de2b\"],[1.0,\"#fde725\"]],\"type\":\"histogram2dcontour\"}],\"mesh3d\":[{\"colorbar\":{\"outlinewidth\":1,\"tickcolor\":\"rgb(36,36,36)\",\"ticks\":\"outside\"},\"type\":\"mesh3d\"}],\"parcoords\":[{\"line\":{\"colorbar\":{\"outlinewidth\":1,\"tickcolor\":\"rgb(36,36,36)\",\"ticks\":\"outside\"}},\"type\":\"parcoords\"}],\"pie\":[{\"automargin\":true,\"type\":\"pie\"}],\"scatter\":[{\"marker\":{\"colorbar\":{\"outlinewidth\":1,\"tickcolor\":\"rgb(36,36,36)\",\"ticks\":\"outside\"}},\"type\":\"scatter\"}],\"scatter3d\":[{\"line\":{\"colorbar\":{\"outlinewidth\":1,\"tickcolor\":\"rgb(36,36,36)\",\"ticks\":\"outside\"}},\"marker\":{\"colorbar\":{\"outlinewidth\":1,\"tickcolor\":\"rgb(36,36,36)\",\"ticks\":\"outside\"}},\"type\":\"scatter3d\"}],\"scattercarpet\":[{\"marker\":{\"colorbar\":{\"outlinewidth\":1,\"tickcolor\":\"rgb(36,36,36)\",\"ticks\":\"outside\"}},\"type\":\"scattercarpet\"}],\"scattergeo\":[{\"marker\":{\"colorbar\":{\"outlinewidth\":1,\"tickcolor\":\"rgb(36,36,36)\",\"ticks\":\"outside\"}},\"type\":\"scattergeo\"}],\"scattergl\":[{\"marker\":{\"colorbar\":{\"outlinewidth\":1,\"tickcolor\":\"rgb(36,36,36)\",\"ticks\":\"outside\"}},\"type\":\"scattergl\"}],\"scattermapbox\":[{\"marker\":{\"colorbar\":{\"outlinewidth\":1,\"tickcolor\":\"rgb(36,36,36)\",\"ticks\":\"outside\"}},\"type\":\"scattermapbox\"}],\"scatterpolar\":[{\"marker\":{\"colorbar\":{\"outlinewidth\":1,\"tickcolor\":\"rgb(36,36,36)\",\"ticks\":\"outside\"}},\"type\":\"scatterpolar\"}],\"scatterpolargl\":[{\"marker\":{\"colorbar\":{\"outlinewidth\":1,\"tickcolor\":\"rgb(36,36,36)\",\"ticks\":\"outside\"}},\"type\":\"scatterpolargl\"}],\"scatterternary\":[{\"marker\":{\"colorbar\":{\"outlinewidth\":1,\"tickcolor\":\"rgb(36,36,36)\",\"ticks\":\"outside\"}},\"type\":\"scatterternary\"}],\"surface\":[{\"colorbar\":{\"outlinewidth\":1,\"tickcolor\":\"rgb(36,36,36)\",\"ticks\":\"outside\"},\"colorscale\":[[0.0,\"#440154\"],[0.1111111111111111,\"#482878\"],[0.2222222222222222,\"#3e4989\"],[0.3333333333333333,\"#31688e\"],[0.4444444444444444,\"#26828e\"],[0.5555555555555556,\"#1f9e89\"],[0.6666666666666666,\"#35b779\"],[0.7777777777777778,\"#6ece58\"],[0.8888888888888888,\"#b5de2b\"],[1.0,\"#fde725\"]],\"type\":\"surface\"}],\"table\":[{\"cells\":{\"fill\":{\"color\":\"rgb(237,237,237)\"},\"line\":{\"color\":\"white\"}},\"header\":{\"fill\":{\"color\":\"rgb(217,217,217)\"},\"line\":{\"color\":\"white\"}},\"type\":\"table\"}]},\"layout\":{\"annotationdefaults\":{\"arrowhead\":0,\"arrowwidth\":1},\"autotypenumbers\":\"strict\",\"coloraxis\":{\"colorbar\":{\"outlinewidth\":1,\"tickcolor\":\"rgb(36,36,36)\",\"ticks\":\"outside\"}},\"colorscale\":{\"diverging\":[[0.0,\"rgb(103,0,31)\"],[0.1,\"rgb(178,24,43)\"],[0.2,\"rgb(214,96,77)\"],[0.3,\"rgb(244,165,130)\"],[0.4,\"rgb(253,219,199)\"],[0.5,\"rgb(247,247,247)\"],[0.6,\"rgb(209,229,240)\"],[0.7,\"rgb(146,197,222)\"],[0.8,\"rgb(67,147,195)\"],[0.9,\"rgb(33,102,172)\"],[1.0,\"rgb(5,48,97)\"]],\"sequential\":[[0.0,\"#440154\"],[0.1111111111111111,\"#482878\"],[0.2222222222222222,\"#3e4989\"],[0.3333333333333333,\"#31688e\"],[0.4444444444444444,\"#26828e\"],[0.5555555555555556,\"#1f9e89\"],[0.6666666666666666,\"#35b779\"],[0.7777777777777778,\"#6ece58\"],[0.8888888888888888,\"#b5de2b\"],[1.0,\"#fde725\"]],\"sequentialminus\":[[0.0,\"#440154\"],[0.1111111111111111,\"#482878\"],[0.2222222222222222,\"#3e4989\"],[0.3333333333333333,\"#31688e\"],[0.4444444444444444,\"#26828e\"],[0.5555555555555556,\"#1f9e89\"],[0.6666666666666666,\"#35b779\"],[0.7777777777777778,\"#6ece58\"],[0.8888888888888888,\"#b5de2b\"],[1.0,\"#fde725\"]]},\"colorway\":[\"#1F77B4\",\"#FF7F0E\",\"#2CA02C\",\"#D62728\",\"#9467BD\",\"#8C564B\",\"#E377C2\",\"#7F7F7F\",\"#BCBD22\",\"#17BECF\"],\"font\":{\"color\":\"rgb(36,36,36)\"},\"geo\":{\"bgcolor\":\"white\",\"lakecolor\":\"white\",\"landcolor\":\"white\",\"showlakes\":true,\"showland\":true,\"subunitcolor\":\"white\"},\"hoverlabel\":{\"align\":\"left\"},\"hovermode\":\"closest\",\"mapbox\":{\"style\":\"light\"},\"paper_bgcolor\":\"white\",\"plot_bgcolor\":\"white\",\"polar\":{\"angularaxis\":{\"gridcolor\":\"rgb(232,232,232)\",\"linecolor\":\"rgb(36,36,36)\",\"showgrid\":false,\"showline\":true,\"ticks\":\"outside\"},\"bgcolor\":\"white\",\"radialaxis\":{\"gridcolor\":\"rgb(232,232,232)\",\"linecolor\":\"rgb(36,36,36)\",\"showgrid\":false,\"showline\":true,\"ticks\":\"outside\"}},\"scene\":{\"xaxis\":{\"backgroundcolor\":\"white\",\"gridcolor\":\"rgb(232,232,232)\",\"gridwidth\":2,\"linecolor\":\"rgb(36,36,36)\",\"showbackground\":true,\"showgrid\":false,\"showline\":true,\"ticks\":\"outside\",\"zeroline\":false,\"zerolinecolor\":\"rgb(36,36,36)\"},\"yaxis\":{\"backgroundcolor\":\"white\",\"gridcolor\":\"rgb(232,232,232)\",\"gridwidth\":2,\"linecolor\":\"rgb(36,36,36)\",\"showbackground\":true,\"showgrid\":false,\"showline\":true,\"ticks\":\"outside\",\"zeroline\":false,\"zerolinecolor\":\"rgb(36,36,36)\"},\"zaxis\":{\"backgroundcolor\":\"white\",\"gridcolor\":\"rgb(232,232,232)\",\"gridwidth\":2,\"linecolor\":\"rgb(36,36,36)\",\"showbackground\":true,\"showgrid\":false,\"showline\":true,\"ticks\":\"outside\",\"zeroline\":false,\"zerolinecolor\":\"rgb(36,36,36)\"}},\"shapedefaults\":{\"fillcolor\":\"black\",\"line\":{\"width\":0},\"opacity\":0.3},\"ternary\":{\"aaxis\":{\"gridcolor\":\"rgb(232,232,232)\",\"linecolor\":\"rgb(36,36,36)\",\"showgrid\":false,\"showline\":true,\"ticks\":\"outside\"},\"baxis\":{\"gridcolor\":\"rgb(232,232,232)\",\"linecolor\":\"rgb(36,36,36)\",\"showgrid\":false,\"showline\":true,\"ticks\":\"outside\"},\"bgcolor\":\"white\",\"caxis\":{\"gridcolor\":\"rgb(232,232,232)\",\"linecolor\":\"rgb(36,36,36)\",\"showgrid\":false,\"showline\":true,\"ticks\":\"outside\"}},\"title\":{\"x\":0.05},\"xaxis\":{\"automargin\":true,\"gridcolor\":\"rgb(232,232,232)\",\"linecolor\":\"rgb(36,36,36)\",\"showgrid\":false,\"showline\":true,\"ticks\":\"outside\",\"title\":{\"standoff\":15},\"zeroline\":false,\"zerolinecolor\":\"rgb(36,36,36)\"},\"yaxis\":{\"automargin\":true,\"gridcolor\":\"rgb(232,232,232)\",\"linecolor\":\"rgb(36,36,36)\",\"showgrid\":false,\"showline\":true,\"ticks\":\"outside\",\"title\":{\"standoff\":15},\"zeroline\":false,\"zerolinecolor\":\"rgb(36,36,36)\"}}},\"title\":{\"text\":\"<b>S-S model </b>, L=8, J2 =1, J1 =0.2 , η=0.01, α=16, samples=1000\"},\"xaxis\":{\"mirror\":true,\"showline\":true,\"title\":{\"text\":\"Iteration\"}},\"yaxis\":{\"mirror\":true,\"showline\":true,\"title\":{\"text\":\"Energy\"}}},                        {\"responsive\": true}                    ).then(function(){\n",
       "                            \n",
       "var gd = document.getElementById('bf0ded6b-c078-4d8e-a682-284d651b7075');\n",
       "var x = new MutationObserver(function (mutations, observer) {{\n",
       "        var display = window.getComputedStyle(gd).display;\n",
       "        if (!display || display === 'none') {{\n",
       "            console.log([gd, 'removed!']);\n",
       "            Plotly.purge(gd);\n",
       "            observer.disconnect();\n",
       "        }}\n",
       "}});\n",
       "\n",
       "// Listen for the removal of the full notebook cells\n",
       "var notebookContainer = gd.closest('#notebook-container');\n",
       "if (notebookContainer) {{\n",
       "    x.observe(notebookContainer, {childList: true});\n",
       "}}\n",
       "\n",
       "// Listen for the clearing of the current output cell\n",
       "var outputEl = gd.closest('.output');\n",
       "if (outputEl) {{\n",
       "    x.observe(outputEl, {childList: true});\n",
       "}}\n",
       "\n",
       "                        })                };                });            </script>        </div>"
      ]
     },
     "metadata": {},
     "output_type": "display_data"
    }
   ],
   "source": [
    "# import the data from log file\n",
    "OUT_NAME_suffixless=OUT_NAME\n",
    "data = []\n",
    "for i in range(no_of_runs):\n",
    "    data.append(json.load(open(OUT_NAME_suffixless+str(i)+\".log\")))\n",
    "names = [\"normal basis\",\"MSR basis\"]\n",
    "if type(data[0][\"Energy\"][\"Mean\"]) == dict: #DTYPE in (np.complex128, np.complex64):#, np.float64):# and False:\n",
    "    energy_convergence = [data[i][\"Energy\"][\"Mean\"][\"real\"] for i in range(no_of_runs)]\n",
    "    # symmetry = [data[i][\"symmetry\"][\"Mean\"][\"real\"] for i in range(no_of_runs-use_MSR)]\n",
    "else:\n",
    "    energy_convergence = [data[i][\"Energy\"][\"Mean\"] for i in range(no_of_runs)]\n",
    "    # symmetry = [data[i][\"symmetry\"][\"Mean\"] for i in range(no_of_runs-use_MSR)]\n",
    "for i in range(no_of_runs):\n",
    "    figure.add_trace(go.Scatter(\n",
    "        x=data[i][\"Energy\"][\"iters\"], y=energy_convergence[i],\n",
    "        name=names[i]\n",
    "    ))\n",
    "    # figure.add_trace(go.Scatter(\n",
    "    #     x=data[i][\"Energy\"][\"iters\"], y=symmetry[i],\n",
    "    #     name=names[i]+\"_swap\"\n",
    "    # ))\n",
    "\n",
    "#figure.add_hline(y=exact_gs_energy)\n",
    "figure.update_layout(xaxis_title=\"Iteration\",yaxis_title=\"Energy\")\n",
    "figure.show()"
   ]
  },
  {
   "cell_type": "markdown",
   "metadata": {},
   "source": [
    "# Calculating symmetrizations"
   ]
  }
 ],
 "metadata": {
  "interpreter": {
   "hash": "31f2aee4e71d21fbe5cf8b01ff0e069b9275f58929596ceb00d14d90e3e16cd6"
  },
  "kernelspec": {
   "display_name": "Python 3.8.10 64-bit",
   "name": "python3"
  },
  "language_info": {
   "codemirror_mode": {
    "name": "ipython",
    "version": 3
   },
   "file_extension": ".py",
   "mimetype": "text/x-python",
   "name": "python",
   "nbconvert_exporter": "python",
   "pygments_lexer": "ipython3",
   "version": "3.8.10"
  },
  "metadata": {
   "interpreter": {
    "hash": "916dbcbb3f70747c44a77c7bcd40155683ae19c65e1c03b4aa3499c5328201f1"
   }
  }
 },
 "nbformat": 4,
 "nbformat_minor": 4
}
