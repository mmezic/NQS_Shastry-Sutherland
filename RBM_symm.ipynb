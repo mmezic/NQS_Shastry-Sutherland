{
 "cells": [
  {
   "cell_type": "markdown",
   "metadata": {},
   "source": [
    "# Exploring Shastry-Sutherland model with symmetric RBM (similar machine as in Science 2017)"
   ]
  },
  {
   "cell_type": "code",
   "execution_count": 1,
   "metadata": {},
   "outputs": [
    {
     "name": "stdout",
     "output_type": "stream",
     "text": [
      "NetKet version: 3.3\n",
      "NumPy version: 1.20.3\n"
     ]
    }
   ],
   "source": [
    "import netket as nk\n",
    "import numpy as np\n",
    "import time\n",
    "import json\n",
    "import plotly.graph_objects as go\n",
    "import matplotlib.pyplot as plt\n",
    "import jax\n",
    "import flax\n",
    "import pprint\n",
    "print(\"NetKet version: {}\".format(nk.__version__))\n",
    "print(\"NumPy version: {}\".format(np.__version__))"
   ]
  },
  {
   "cell_type": "markdown",
   "metadata": {},
   "source": [
    "Setup relevant parameters"
   ]
  },
  {
   "cell_type": "code",
   "execution_count": 2,
   "metadata": {},
   "outputs": [],
   "source": [
    "\"\"\"lattice\"\"\"\n",
    "SITES    = 100            # 4, 8, 16, 20 ... number of vertices in a tile determines the tile shape \n",
    "JEXCH1   = .9            # nn interaction\n",
    "JEXCH2   = 1            # nnn interaction\n",
    "#USE_MSR  = True        # should we use a Marshall sign rule?\n",
    "\"\"\"machine learning\"\"\"\n",
    "TOTAL_SZ = None         # 0, None ... restriction of Hilbert space\n",
    "DTYPE = np.complex128   # type of weights in neural network\n",
    "SAMPLER = 'local'       # 'local' = MetropolisLocal, 'exchange' = MetropolisExchange\n",
    "ALPHA = 16              # N_hidden / N_visible\n",
    "ETA   = .01             # learning rate (0.01 usually works)\n",
    "SAMPLES = 1200\n",
    "NUM_ITER = 500\n",
    "\n",
    "OUT_NAME = \"SS-RBM_ops\"+str(SITES)+\"j1=\"+str(JEXCH1) # output file name"
   ]
  },
  {
   "cell_type": "markdown",
   "metadata": {},
   "source": [
    "Lattice and hamiltonian definition: &nbsp; &nbsp; &nbsp; &nbsp; &nbsp; &nbsp; &nbsp; &nbsp; &nbsp; $ H = J_{1} \\sum\\limits_{\\langle i,j \\rangle}^{L} \\vec{\\sigma}_{i} \\cdot \\vec{\\sigma}_{j} + J_{2} \\sum\\limits_{\\langle\\langle i,j \\rangle\\rangle_{SS}}^{L}  \\vec{\\sigma}_{i} \\cdot \\vec{\\sigma}_{j}\\,, $"
   ]
  },
  {
   "cell_type": "code",
   "execution_count": 3,
   "metadata": {},
   "outputs": [],
   "source": [
    "from lattice_and_ops import Lattice\n",
    "lattice = Lattice(SITES)\n",
    "\n",
    "# Define custom graph\n",
    "edge_colors = []\n",
    "for node in range(SITES):\n",
    "    edge_colors.append([node,lattice.rt(node), 1]) #horizontal connections\n",
    "    edge_colors.append([node,lattice.bot(node), 1]) #vertical connections\n",
    "    row, column = lattice.position(node)\n",
    "    if column%2 == 0:\n",
    "        if row%2 == 0:\n",
    "            edge_colors.append([node,lattice.lrt(node),2])\n",
    "        else:\n",
    "            edge_colors.append([node,lattice.llft(node),2])\n",
    "\n",
    "# Define the netket graph object\n",
    "g = nk.graph.Graph(edges=edge_colors) #,n_nodes=3)\n",
    "\n",
    "hilbert = nk.hilbert.Spin(s=.5, N=g.n_nodes, total_sz=TOTAL_SZ)\n",
    "\n",
    "\n",
    "#Sigma^z*Sigma^z interactions\n",
    "sigmaz = [[1, 0], [0, -1]]\n",
    "mszsz = (np.kron(sigmaz, sigmaz)) #=sz*sz\n",
    "#Exchange interactions\n",
    "exchange = np.asarray([[0, 0, 0, 0], [0, 0, 2, 0], [0, 2, 0, 0], [0, 0, 0, 0]]) #=sx*sx+sy*sy = 1/2*(sp*sm+sm*sp)\n",
    "full_spin = mszsz+exchange # = S*S = sx*sx + sy*sy + sz*sz\n",
    "bond_color = [1, 2, 1, 2]"
   ]
  },
  {
   "cell_type": "code",
   "execution_count": 4,
   "metadata": {},
   "outputs": [
    {
     "data": {
      "text/plain": [
       "[(0, 11),\n",
       " (2, 13),\n",
       " (4, 15),\n",
       " (6, 17),\n",
       " (8, 19),\n",
       " (10, 29),\n",
       " (12, 21),\n",
       " (14, 23),\n",
       " (16, 25),\n",
       " (18, 27),\n",
       " (20, 31),\n",
       " (22, 33),\n",
       " (24, 35),\n",
       " (26, 37),\n",
       " (28, 39),\n",
       " (30, 49),\n",
       " (32, 41),\n",
       " (34, 43),\n",
       " (36, 45),\n",
       " (38, 47),\n",
       " (40, 51),\n",
       " (42, 53),\n",
       " (44, 55),\n",
       " (46, 57),\n",
       " (48, 59),\n",
       " (50, 69),\n",
       " (52, 61),\n",
       " (54, 63),\n",
       " (56, 65),\n",
       " (58, 67),\n",
       " (60, 71),\n",
       " (62, 73),\n",
       " (64, 75),\n",
       " (66, 77),\n",
       " (68, 79),\n",
       " (70, 89),\n",
       " (72, 81),\n",
       " (74, 83),\n",
       " (76, 85),\n",
       " (78, 87),\n",
       " (80, 91),\n",
       " (82, 93),\n",
       " (84, 95),\n",
       " (86, 97),\n",
       " (88, 99),\n",
       " (9, 90),\n",
       " (1, 92),\n",
       " (3, 94),\n",
       " (5, 96),\n",
       " (7, 98)]"
      ]
     },
     "execution_count": 4,
     "metadata": {},
     "output_type": "execute_result"
    }
   ],
   "source": [
    "g.edges(filter_color=2)"
   ]
  },
  {
   "cell_type": "code",
   "execution_count": 5,
   "metadata": {},
   "outputs": [
    {
     "data": {
      "text/plain": [
       "200"
      ]
     },
     "execution_count": 5,
     "metadata": {},
     "output_type": "execute_result"
    }
   ],
   "source": [
    "len(g.automorphisms())"
   ]
  },
  {
   "cell_type": "code",
   "execution_count": 6,
   "metadata": {},
   "outputs": [
    {
     "name": "stdout",
     "output_type": "stream",
     "text": [
      "There are 200 full symmetries:\n",
      "[ 1.+0.j -1.+0.j  1.+0.j -1.+0.j  1.+0.j -1.+0.j  1.+0.j -1.+0.j  1.+0.j\n",
      " -1.+0.j  1.+0.j -1.+0.j  1.+0.j -1.+0.j  1.+0.j -1.+0.j  1.+0.j -1.+0.j\n",
      "  1.+0.j -1.+0.j  1.+0.j -1.+0.j -1.+0.j  1.+0.j  1.+0.j -1.+0.j -1.+0.j\n",
      "  1.+0.j  1.+0.j -1.+0.j -1.+0.j  1.+0.j  1.+0.j -1.+0.j -1.+0.j  1.+0.j\n",
      "  1.+0.j -1.+0.j -1.+0.j  1.+0.j  1.+0.j -1.+0.j -1.+0.j  1.+0.j  1.+0.j\n",
      " -1.+0.j -1.+0.j  1.+0.j  1.+0.j -1.+0.j -1.+0.j  1.+0.j  1.+0.j -1.+0.j\n",
      " -1.+0.j  1.+0.j  1.+0.j -1.+0.j -1.+0.j  1.+0.j  1.+0.j -1.+0.j -1.+0.j\n",
      "  1.+0.j  1.+0.j -1.+0.j -1.+0.j  1.+0.j  1.+0.j -1.+0.j -1.+0.j  1.+0.j\n",
      "  1.+0.j -1.+0.j -1.+0.j  1.+0.j  1.+0.j -1.+0.j -1.+0.j  1.+0.j  1.+0.j\n",
      " -1.+0.j -1.+0.j  1.+0.j  1.+0.j -1.+0.j -1.+0.j  1.+0.j  1.+0.j -1.+0.j\n",
      " -1.+0.j  1.+0.j  1.+0.j -1.+0.j -1.+0.j  1.+0.j  1.+0.j -1.+0.j -1.+0.j\n",
      "  1.+0.j  1.+0.j -1.+0.j -1.+0.j  1.+0.j  1.+0.j -1.+0.j -1.+0.j  1.+0.j\n",
      "  1.+0.j -1.+0.j -1.+0.j  1.+0.j  1.+0.j -1.+0.j -1.+0.j  1.+0.j  1.+0.j\n",
      " -1.+0.j -1.+0.j  1.+0.j  1.+0.j -1.+0.j -1.+0.j  1.+0.j  1.+0.j -1.+0.j\n",
      " -1.+0.j  1.+0.j  1.+0.j -1.+0.j -1.+0.j  1.+0.j  1.+0.j -1.+0.j -1.+0.j\n",
      "  1.+0.j  1.+0.j -1.+0.j -1.+0.j  1.+0.j  1.+0.j -1.+0.j -1.+0.j  1.+0.j\n",
      "  1.+0.j -1.+0.j -1.+0.j  1.+0.j  1.+0.j -1.+0.j -1.+0.j  1.+0.j  1.+0.j\n",
      " -1.+0.j -1.+0.j  1.+0.j  1.+0.j -1.+0.j -1.+0.j  1.+0.j  1.+0.j -1.+0.j\n",
      " -1.+0.j  1.+0.j  1.+0.j -1.+0.j -1.+0.j  1.+0.j  1.+0.j -1.+0.j -1.+0.j\n",
      "  1.+0.j  1.+0.j -1.+0.j -1.+0.j  1.+0.j  1.+0.j -1.+0.j -1.+0.j  1.+0.j\n",
      " -1.+0.j  1.+0.j -1.+0.j  1.+0.j -1.+0.j  1.+0.j -1.+0.j  1.+0.j -1.+0.j\n",
      "  1.+0.j -1.+0.j  1.+0.j -1.+0.j  1.+0.j -1.+0.j  1.+0.j -1.+0.j  1.+0.j\n",
      " -1.+0.j  1.+0.j]\n",
      "[ 1.+0.j -1.+0.j  1.+0.j -1.+0.j  1.+0.j -1.+0.j  1.+0.j -1.+0.j  1.+0.j\n",
      " -1.+0.j  1.+0.j -1.+0.j  1.+0.j -1.+0.j  1.+0.j -1.+0.j  1.+0.j -1.+0.j\n",
      "  1.+0.j -1.+0.j  1.+0.j -1.+0.j -1.+0.j  1.+0.j  1.+0.j -1.+0.j -1.+0.j\n",
      "  1.+0.j  1.+0.j -1.+0.j -1.+0.j  1.+0.j  1.+0.j -1.+0.j -1.+0.j  1.+0.j\n",
      "  1.+0.j -1.+0.j -1.+0.j  1.+0.j  1.+0.j -1.+0.j -1.+0.j  1.+0.j  1.+0.j\n",
      " -1.+0.j -1.+0.j  1.+0.j  1.+0.j -1.+0.j -1.+0.j  1.+0.j  1.+0.j -1.+0.j\n",
      " -1.+0.j  1.+0.j  1.+0.j -1.+0.j -1.+0.j  1.+0.j  1.+0.j -1.+0.j -1.+0.j\n",
      "  1.+0.j  1.+0.j -1.+0.j -1.+0.j  1.+0.j  1.+0.j -1.+0.j -1.+0.j  1.+0.j\n",
      "  1.+0.j -1.+0.j -1.+0.j  1.+0.j  1.+0.j -1.+0.j -1.+0.j  1.+0.j  1.+0.j\n",
      " -1.+0.j -1.+0.j  1.+0.j  1.+0.j -1.+0.j -1.+0.j  1.+0.j  1.+0.j -1.+0.j\n",
      " -1.+0.j  1.+0.j  1.+0.j -1.+0.j -1.+0.j  1.+0.j  1.+0.j -1.+0.j -1.+0.j\n",
      "  1.+0.j  1.+0.j -1.+0.j -1.+0.j  1.+0.j  1.+0.j -1.+0.j -1.+0.j  1.+0.j\n",
      "  1.+0.j -1.+0.j -1.+0.j  1.+0.j  1.+0.j -1.+0.j -1.+0.j  1.+0.j  1.+0.j\n",
      " -1.+0.j -1.+0.j  1.+0.j  1.+0.j -1.+0.j -1.+0.j  1.+0.j  1.+0.j -1.+0.j\n",
      " -1.+0.j  1.+0.j  1.+0.j -1.+0.j -1.+0.j  1.+0.j  1.+0.j -1.+0.j -1.+0.j\n",
      "  1.+0.j  1.+0.j -1.+0.j -1.+0.j  1.+0.j  1.+0.j -1.+0.j -1.+0.j  1.+0.j\n",
      "  1.+0.j -1.+0.j -1.+0.j  1.+0.j  1.+0.j -1.+0.j -1.+0.j  1.+0.j  1.+0.j\n",
      " -1.+0.j -1.+0.j  1.+0.j  1.+0.j -1.+0.j -1.+0.j  1.+0.j  1.+0.j -1.+0.j\n",
      " -1.+0.j  1.+0.j  1.+0.j -1.+0.j -1.+0.j  1.+0.j  1.+0.j -1.+0.j -1.+0.j\n",
      "  1.+0.j  1.+0.j -1.+0.j -1.+0.j  1.+0.j  1.+0.j -1.+0.j -1.+0.j  1.+0.j\n",
      " -1.+0.j  1.+0.j -1.+0.j  1.+0.j -1.+0.j  1.+0.j -1.+0.j  1.+0.j -1.+0.j\n",
      "  1.+0.j -1.+0.j  1.+0.j -1.+0.j  1.+0.j -1.+0.j  1.+0.j -1.+0.j  1.+0.j\n",
      " -1.+0.j  1.+0.j]\n"
     ]
    }
   ],
   "source": [
    "print(\"There are\", len(g.automorphisms()), \"full symmetries:\")\n",
    "JEXCH1 = 0.1\n",
    "if JEXCH1 < 0.5:\n",
    "    characters = []\n",
    "    from lattice_and_ops import permutation_sign\n",
    "    for perm in g.automorphisms():\n",
    "        # print(perm, permutation_sign(np.asarray(perm)))\n",
    "        characters.append(permutation_sign(np.asarray(perm)))\n",
    "    characters_dimer = np.asarray(characters,dtype=complex) #np.array([1,-1,1,-1,-1,1,-1,1], dtype=complex) # 2*2 SS model\n",
    "    characters_dimer_msr = characters_dimer\n",
    "else:\n",
    "    characters_dimer = np.ones((len(g.automorphisms()),), dtype=complex)\n",
    "    characters_dimer_msr = characters_dimer\n",
    "print(characters_dimer)\n",
    "print(characters_dimer_msr)\n",
    "# print(\"There are\", len(translation_group),\"restricted symmetries:\")\n",
    "# print(translation_group)"
   ]
  },
  {
   "cell_type": "code",
   "execution_count": 100,
   "metadata": {},
   "outputs": [
    {
     "ename": "KeyboardInterrupt",
     "evalue": "",
     "output_type": "error",
     "traceback": [
      "\u001b[0;31m---------------------------------------------------------------------------\u001b[0m",
      "\u001b[0;31mKeyboardInterrupt\u001b[0m                         Traceback (most recent call last)",
      "\u001b[0;32m/tmp/ipykernel_14513/3868001934.py\u001b[0m in \u001b[0;36m<module>\u001b[0;34m\u001b[0m\n\u001b[1;32m      1\u001b[0m \u001b[0mtranslations\u001b[0m \u001b[0;34m=\u001b[0m \u001b[0;34m[\u001b[0m\u001b[0;34m]\u001b[0m\u001b[0;34m\u001b[0m\u001b[0;34m\u001b[0m\u001b[0m\n\u001b[0;32m----> 2\u001b[0;31m \u001b[0;32mfor\u001b[0m \u001b[0mperm\u001b[0m \u001b[0;32min\u001b[0m \u001b[0mg\u001b[0m\u001b[0;34m.\u001b[0m\u001b[0mautomorphisms\u001b[0m\u001b[0;34m(\u001b[0m\u001b[0;34m)\u001b[0m\u001b[0;34m:\u001b[0m\u001b[0;34m\u001b[0m\u001b[0;34m\u001b[0m\u001b[0m\n\u001b[0m\u001b[1;32m      3\u001b[0m     \u001b[0maperm\u001b[0m \u001b[0;34m=\u001b[0m \u001b[0mnp\u001b[0m\u001b[0;34m.\u001b[0m\u001b[0masarray\u001b[0m\u001b[0;34m(\u001b[0m\u001b[0mperm\u001b[0m\u001b[0;34m)\u001b[0m\u001b[0;34m\u001b[0m\u001b[0;34m\u001b[0m\u001b[0m\n\u001b[1;32m      4\u001b[0m     \u001b[0;31m# if (aperm[0],aperm[1]) in ((0,1),(1,0),(2,3),(3,2)):\u001b[0m\u001b[0;34m\u001b[0m\u001b[0;34m\u001b[0m\u001b[0;34m\u001b[0m\u001b[0m\n\u001b[1;32m      5\u001b[0m     \u001b[0;32mif\u001b[0m \u001b[0;34m(\u001b[0m\u001b[0maperm\u001b[0m\u001b[0;34m[\u001b[0m\u001b[0;36m0\u001b[0m\u001b[0;34m]\u001b[0m\u001b[0;34m,\u001b[0m\u001b[0maperm\u001b[0m\u001b[0;34m[\u001b[0m\u001b[0;36m1\u001b[0m\u001b[0;34m]\u001b[0m\u001b[0;34m,\u001b[0m\u001b[0maperm\u001b[0m\u001b[0;34m[\u001b[0m\u001b[0;36m3\u001b[0m\u001b[0;34m]\u001b[0m\u001b[0;34m)\u001b[0m \u001b[0;32min\u001b[0m \u001b[0;34m(\u001b[0m\u001b[0;34m(\u001b[0m\u001b[0;36m0\u001b[0m\u001b[0;34m,\u001b[0m\u001b[0;36m1\u001b[0m\u001b[0;34m,\u001b[0m\u001b[0;36m3\u001b[0m\u001b[0;34m)\u001b[0m\u001b[0;34m,\u001b[0m\u001b[0;34m)\u001b[0m\u001b[0;34m:\u001b[0m\u001b[0;31m#(2,3,1),(8,9,11),(10,11,9)): # N = 16\u001b[0m\u001b[0;34m\u001b[0m\u001b[0;34m\u001b[0m\u001b[0m\n",
      "\u001b[0;32m~/.local/lib/python3.8/site-packages/netket/graph/graph.py\u001b[0m in \u001b[0;36mautomorphisms\u001b[0;34m(self)\u001b[0m\n\u001b[1;32m    211\u001b[0m     \u001b[0;32mdef\u001b[0m \u001b[0mautomorphisms\u001b[0m\u001b[0;34m(\u001b[0m\u001b[0mself\u001b[0m\u001b[0;34m)\u001b[0m \u001b[0;34m->\u001b[0m \u001b[0mPermutationGroup\u001b[0m\u001b[0;34m:\u001b[0m\u001b[0;34m\u001b[0m\u001b[0;34m\u001b[0m\u001b[0m\n\u001b[1;32m    212\u001b[0m         \u001b[0;32mif\u001b[0m \u001b[0mself\u001b[0m\u001b[0;34m.\u001b[0m\u001b[0m_automorphisms\u001b[0m \u001b[0;32mis\u001b[0m \u001b[0;32mNone\u001b[0m\u001b[0;34m:\u001b[0m\u001b[0;34m\u001b[0m\u001b[0;34m\u001b[0m\u001b[0m\n\u001b[0;32m--> 213\u001b[0;31m             \u001b[0mself\u001b[0m\u001b[0;34m.\u001b[0m\u001b[0m_automorphisms\u001b[0m \u001b[0;34m=\u001b[0m \u001b[0mself\u001b[0m\u001b[0;34m.\u001b[0m\u001b[0m_compute_automorphisms\u001b[0m\u001b[0;34m(\u001b[0m\u001b[0;34m)\u001b[0m\u001b[0;34m\u001b[0m\u001b[0;34m\u001b[0m\u001b[0m\n\u001b[0m\u001b[1;32m    214\u001b[0m         \u001b[0;32mreturn\u001b[0m \u001b[0mself\u001b[0m\u001b[0;34m.\u001b[0m\u001b[0m_automorphisms\u001b[0m\u001b[0;34m\u001b[0m\u001b[0;34m\u001b[0m\u001b[0m\n\u001b[1;32m    215\u001b[0m \u001b[0;34m\u001b[0m\u001b[0m\n",
      "\u001b[0;32m~/.local/lib/python3.8/site-packages/netket/graph/graph.py\u001b[0m in \u001b[0;36m_compute_automorphisms\u001b[0;34m(self)\u001b[0m\n\u001b[1;32m    205\u001b[0m         \u001b[0;31m# sort them s.t. the identity comes first\u001b[0m\u001b[0;34m\u001b[0m\u001b[0;34m\u001b[0m\u001b[0;34m\u001b[0m\u001b[0m\n\u001b[1;32m    206\u001b[0m         \u001b[0mresult\u001b[0m \u001b[0;34m=\u001b[0m \u001b[0mnp\u001b[0m\u001b[0;34m.\u001b[0m\u001b[0munique\u001b[0m\u001b[0;34m(\u001b[0m\u001b[0mresult\u001b[0m\u001b[0;34m,\u001b[0m \u001b[0maxis\u001b[0m\u001b[0;34m=\u001b[0m\u001b[0;36m0\u001b[0m\u001b[0;34m)\u001b[0m\u001b[0;34m.\u001b[0m\u001b[0mtolist\u001b[0m\u001b[0;34m(\u001b[0m\u001b[0;34m)\u001b[0m\u001b[0;34m\u001b[0m\u001b[0;34m\u001b[0m\u001b[0m\n\u001b[0;32m--> 207\u001b[0;31m         \u001b[0mresult\u001b[0m \u001b[0;34m=\u001b[0m \u001b[0mPermutationGroup\u001b[0m\u001b[0;34m(\u001b[0m\u001b[0;34m[\u001b[0m\u001b[0mPermutation\u001b[0m\u001b[0;34m(\u001b[0m\u001b[0mi\u001b[0m\u001b[0;34m)\u001b[0m \u001b[0;32mfor\u001b[0m \u001b[0mi\u001b[0m \u001b[0;32min\u001b[0m \u001b[0mresult\u001b[0m\u001b[0;34m]\u001b[0m\u001b[0;34m,\u001b[0m \u001b[0mself\u001b[0m\u001b[0;34m.\u001b[0m\u001b[0mn_nodes\u001b[0m\u001b[0;34m)\u001b[0m\u001b[0;34m\u001b[0m\u001b[0;34m\u001b[0m\u001b[0m\n\u001b[0m\u001b[1;32m    208\u001b[0m         \u001b[0;32mreturn\u001b[0m \u001b[0mresult\u001b[0m\u001b[0;34m\u001b[0m\u001b[0;34m\u001b[0m\u001b[0m\n\u001b[1;32m    209\u001b[0m \u001b[0;34m\u001b[0m\u001b[0m\n",
      "\u001b[0;32m~/.local/lib/python3.8/site-packages/netket/graph/graph.py\u001b[0m in \u001b[0;36m<listcomp>\u001b[0;34m(.0)\u001b[0m\n\u001b[1;32m    205\u001b[0m         \u001b[0;31m# sort them s.t. the identity comes first\u001b[0m\u001b[0;34m\u001b[0m\u001b[0;34m\u001b[0m\u001b[0;34m\u001b[0m\u001b[0m\n\u001b[1;32m    206\u001b[0m         \u001b[0mresult\u001b[0m \u001b[0;34m=\u001b[0m \u001b[0mnp\u001b[0m\u001b[0;34m.\u001b[0m\u001b[0munique\u001b[0m\u001b[0;34m(\u001b[0m\u001b[0mresult\u001b[0m\u001b[0;34m,\u001b[0m \u001b[0maxis\u001b[0m\u001b[0;34m=\u001b[0m\u001b[0;36m0\u001b[0m\u001b[0;34m)\u001b[0m\u001b[0;34m.\u001b[0m\u001b[0mtolist\u001b[0m\u001b[0;34m(\u001b[0m\u001b[0;34m)\u001b[0m\u001b[0;34m\u001b[0m\u001b[0;34m\u001b[0m\u001b[0m\n\u001b[0;32m--> 207\u001b[0;31m         \u001b[0mresult\u001b[0m \u001b[0;34m=\u001b[0m \u001b[0mPermutationGroup\u001b[0m\u001b[0;34m(\u001b[0m\u001b[0;34m[\u001b[0m\u001b[0mPermutation\u001b[0m\u001b[0;34m(\u001b[0m\u001b[0mi\u001b[0m\u001b[0;34m)\u001b[0m \u001b[0;32mfor\u001b[0m \u001b[0mi\u001b[0m \u001b[0;32min\u001b[0m \u001b[0mresult\u001b[0m\u001b[0;34m]\u001b[0m\u001b[0;34m,\u001b[0m \u001b[0mself\u001b[0m\u001b[0;34m.\u001b[0m\u001b[0mn_nodes\u001b[0m\u001b[0;34m)\u001b[0m\u001b[0;34m\u001b[0m\u001b[0;34m\u001b[0m\u001b[0m\n\u001b[0m\u001b[1;32m    208\u001b[0m         \u001b[0;32mreturn\u001b[0m \u001b[0mresult\u001b[0m\u001b[0;34m\u001b[0m\u001b[0;34m\u001b[0m\u001b[0m\n\u001b[1;32m    209\u001b[0m \u001b[0;34m\u001b[0m\u001b[0m\n",
      "\u001b[0;32m~/.local/lib/python3.8/site-packages/netket/utils/group/_permutation_group.py\u001b[0m in \u001b[0;36m__init__\u001b[0;34m(self, permutation, name)\u001b[0m\n\u001b[1;32m     42\u001b[0m             \u001b[0ma\u001b[0m\u001b[0;31m \u001b[0m\u001b[0;31m`\u001b[0m\u001b[0mPermutation\u001b[0m\u001b[0;31m`\u001b[0m \u001b[0mobject\u001b[0m \u001b[0mencoding\u001b[0m \u001b[0mthe\u001b[0m \u001b[0msame\u001b[0m \u001b[0mpermutation\u001b[0m\u001b[0;34m\u001b[0m\u001b[0;34m\u001b[0m\u001b[0m\n\u001b[1;32m     43\u001b[0m         \"\"\"\n\u001b[0;32m---> 44\u001b[0;31m         \u001b[0mself\u001b[0m\u001b[0;34m.\u001b[0m\u001b[0mpermutation\u001b[0m \u001b[0;34m=\u001b[0m \u001b[0mHashableArray\u001b[0m\u001b[0;34m(\u001b[0m\u001b[0mnp\u001b[0m\u001b[0;34m.\u001b[0m\u001b[0masarray\u001b[0m\u001b[0;34m(\u001b[0m\u001b[0mpermutation\u001b[0m\u001b[0;34m)\u001b[0m\u001b[0;34m)\u001b[0m\u001b[0;34m\u001b[0m\u001b[0;34m\u001b[0m\u001b[0m\n\u001b[0m\u001b[1;32m     45\u001b[0m         \u001b[0mself\u001b[0m\u001b[0;34m.\u001b[0m\u001b[0m__name\u001b[0m \u001b[0;34m=\u001b[0m \u001b[0mname\u001b[0m\u001b[0;34m\u001b[0m\u001b[0;34m\u001b[0m\u001b[0m\n\u001b[1;32m     46\u001b[0m \u001b[0;34m\u001b[0m\u001b[0m\n",
      "\u001b[0;31mKeyboardInterrupt\u001b[0m: "
     ]
    }
   ],
   "source": [
    "translations = []\n",
    "for perm in g.automorphisms():\n",
    "    aperm = np.asarray(perm)\n",
    "    # if (aperm[0],aperm[1]) in ((0,1),(1,0),(2,3),(3,2)):\n",
    "    if (aperm[0],aperm[1],aperm[3]) in ((0,1,3),):#(2,3,1),(8,9,11),(10,11,9)): # N = 16\n",
    "    # if (aperm[0],aperm[1],aperm[2],aperm[3]) in ((4,7,6,5),): # N = 8\n",
    "        translations.append(nk.utils.group._permutation_group.Permutation(aperm))\n",
    "# print(translations)\n",
    "translation_group = nk.utils.group._permutation_group.PermutationGroup(translations,degree=SITES)\n",
    "print(translation_group)\n",
    "print(len(g.automorphisms()))\n",
    "for perm in g.automorphisms():\n",
    "    print(perm)"
   ]
  },
  {
   "cell_type": "markdown",
   "metadata": {},
   "source": [
    "## Hamoltonian"
   ]
  },
  {
   "cell_type": "code",
   "execution_count": 87,
   "metadata": {},
   "outputs": [],
   "source": [
    "from lattice_and_ops import HamOps\n",
    "ho = HamOps()\n",
    "ha = nk.operator.GraphOperator(hilbert, graph=g, bond_ops=ho.bond_operator(JEXCH1,JEXCH2, use_MSR=False), bond_ops_colors=ho.bond_color)\n",
    "ha_MSR = nk.operator.GraphOperator(hilbert, graph=g, bond_ops=ho.bond_operator(JEXCH1,JEXCH2, use_MSR=True), bond_ops_colors=ho.bond_color)\n"
   ]
  },
  {
   "cell_type": "markdown",
   "metadata": {},
   "source": [
    "## Exact diagonalization"
   ]
  },
  {
   "cell_type": "code",
   "execution_count": 88,
   "metadata": {},
   "outputs": [
    {
     "name": "stdout",
     "output_type": "stream",
     "text": [
      "Ground state energy: -12.399999999999995 \n",
      "It took  0.0 s = 0.0 min\n"
     ]
    }
   ],
   "source": [
    "if g.n_nodes < 21:\n",
    "    start = time.time()\n",
    "    evals, eigvects = nk.exact.lanczos_ed(ha, k=3, compute_eigenvectors=True)\n",
    "    #evals = nk.exact.lanczos_ed(ha, compute_eigenvectors=False) #.lanczos_ed\n",
    "    end = time.time()\n",
    "    diag_time = end - start\n",
    "    exact_ground_energy = evals[0]\n",
    "    print(\"Ground state energy:\",exact_ground_energy, \"\\nIt took \", round(diag_time,2), \"s =\", round((diag_time)/60,2),\"min\")\n",
    "else:\n",
    "    print(\"System is too large for exact diagonalization. Setting exact_ground_energy = 0 (which is wrong)\")\n",
    "    exact_ground_energy = [0,0,0]\n",
    "    eigvects = None \n",
    "# -36.2460684609957 "
   ]
  },
  {
   "cell_type": "markdown",
   "metadata": {},
   "source": [
    "## RBM\n",
    "\n",
    "!!POZOZ je použito `g.automorphisms()` namísto `g.translations()` - obsahuje to tedy symetrii zrcadlení řetízku navíc, a proto na konci dostaneme jen dvě sady filtrů namísto čtyřech.\n",
    "\n",
    "Vskutku, metoga g.automorphisms() najde veškeré symetrie. V tomto případě jsou všechny složeny z nezávislých symetrií:\n",
    "<!-- ### Heisenberg\n",
    " * zrcadlení okolo $x$, \n",
    " * zdcadlení okolo $y$, \n",
    " * jedna rotace o $90$ stupňů (ostatní se dají složit se zrcadleními),\n",
    " * ``L_NUM*L_NUM`` translací,\n",
    "\n",
    "tedy celkem $8L_{NUM}^2$ (pro $L_{NUM} > 2$, protože pro $L_{NUM}=2$ je zrcadlení a translace ekvivalentní) -->\n",
    "\n",
    "### Shastry-Sutherland \n",
    " * $\\frac{L_{NUM}}{2} \\cdot \\frac{L_{NUM}}{2}$ translací,\n",
    " * rotace o $90$ stupňů (4x),\n",
    "\n",
    "tedy celkem alespoň $L_{NUM}^2 = N$ (stejně je vždy $L_{NUM} \\geq 4$) symetrií\n",
    "\n",
    "```\n",
    "#comment from github: Have you tried using g.translation_group() (or g.translations() is some of the previous beta versions)\n",
    " instead of .automorphisms() to check whether that makes a difference? (Using the larger group of all 6x6 space group symmetries \n",
    " is probably also the reason why a large alpha is required in your version.) While symmetries should make a state easier to learn,\n",
    " I do recall that using the full space or automorphism group (instead of the usually easier-to-handle translation group) can \n",
    " sometimes introduce convergence issues (which at least need some more careful tuning of optimization settings and probably \n",
    " initial params to overcome).\n",
    "#https://github.com/netket/netket/discussions/838\n",
    "```"
   ]
  },
  {
   "cell_type": "code",
   "execution_count": 74,
   "metadata": {},
   "outputs": [
    {
     "name": "stdout",
     "output_type": "stream",
     "text": [
      "Number of automorphisms: 8\n"
     ]
    }
   ],
   "source": [
    "#definice modelu, sampleru atd.\n",
    "\n",
    "# Symmetric RBM Spin Machine\n",
    "machine = nk.models.RBMSymm(g.automorphisms(),dtype=DTYPE, alpha=ALPHA)#, use_visible_bias=False) \n",
    "# machine = nk.models.RBMSymm(translation_group, dtype=DTYPE, alpha=ALPHA, use_visible_bias=False)\n",
    "print(\"Number of automorphisms:\", len(g.automorphisms()))\n",
    "# Symmetric RBM Spin Machine with MSR\n",
    "# machine_MSR = nk.models.RBM(dtype=DTYPE, alpha=ALPHA)#, use_visible_bias=False)\n",
    "machine_MSR = nk.models.RBMSymm(g.automorphisms(), dtype=DTYPE, alpha=ALPHA)#, use_visible_bias=False)\n",
    "\n",
    "\n",
    "# Meropolis Exchange Sampling\n",
    "if SAMPLER == 'local':\n",
    "    sampler = nk.sampler.MetropolisLocal(hilbert=hilbert)\n",
    "    sampler_MSR = nk.sampler.MetropolisLocal(hilbert=hilbert)\n",
    "else:\n",
    "    sampler = nk.sampler.MetropolisExchange(hilbert=hilbert, graph=g)\n",
    "    sampler_MSR = nk.sampler.MetropolisExchange(hilbert=hilbert, graph=g)\n",
    "    if SAMPLER != 'exchange':\n",
    "        print(\"Warning! Undefined sampler:\", SAMPLER, \", dafaulting to MetropolisExchange sampler\")\n",
    "\n",
    "\n",
    "# Optimzer\n",
    "optimizer = nk.optimizer.Sgd(learning_rate=ETA)\n",
    "optimizer_MSR = nk.optimizer.Sgd(learning_rate=ETA)\n",
    "\n",
    "# Stochastic Reconfiguration\n",
    "sr  = nk.optimizer.SR(diag_shift=0.1)\n",
    "sr_MSR  = nk.optimizer.SR(diag_shift=0.1)\n",
    "\n",
    "# The variational state (drive to byla nk.variational.MCState)\n",
    "vss = nk.vqs.MCState(sampler, machine, n_samples=SAMPLES)\n",
    "vs_MSR  = nk.vqs.MCState(sampler_MSR, machine_MSR, n_samples=SAMPLES)\n",
    "vss.init_parameters(jax.nn.initializers.normal(stddev=0.001))\n",
    "vs_MSR.init_parameters(jax.nn.initializers.normal(stddev=0.001))\n",
    "\n",
    "\n",
    "gs_normal = nk.VMC(hamiltonian=ha ,optimizer=optimizer,preconditioner=sr,variational_state=vss)               # 0 ... symmetric\n",
    "gs_MSR = nk.VMC(hamiltonian=ha_MSR ,optimizer=optimizer_MSR,preconditioner=sr_MSR,variational_state=vs_MSR)   # 1 ... symmetric+MSR"
   ]
  },
  {
   "cell_type": "code",
   "execution_count": 75,
   "metadata": {},
   "outputs": [],
   "source": [
    "from lattice_and_ops import Operators\n",
    "ops = Operators(lattice,hilbert,mszsz,exchange)"
   ]
  },
  {
   "cell_type": "markdown",
   "metadata": {},
   "source": [
    "# Calculation"
   ]
  },
  {
   "cell_type": "code",
   "execution_count": 76,
   "metadata": {},
   "outputs": [
    {
     "name": "stdout",
     "output_type": "stream",
     "text": [
      "J_1 = 0.8\n",
      "Expected exact energy: -10.800000000000008\n"
     ]
    },
    {
     "name": "stderr",
     "output_type": "stream",
     "text": [
      "100%|██████████| 500/500 [00:34<00:00, 14.33it/s, Energy=8.400017-0.000010j ± 0.000042 [σ²=0.000002, R̂=1.0071]]  \n"
     ]
    },
    {
     "name": "stdout",
     "output_type": "stream",
     "text": [
      "The type 0 of RBM calculation took 0.5826473991076152 min\n"
     ]
    },
    {
     "name": "stderr",
     "output_type": "stream",
     "text": [
      "100%|██████████| 500/500 [00:37<00:00, 13.40it/s, Energy=-10.8000101+0.0000000j ± 0.0000020 [σ²=0.0000000, R̂=1.4095]]    "
     ]
    },
    {
     "name": "stdout",
     "output_type": "stream",
     "text": [
      "The type 1 of RBM calculation took 0.6231274207433065 min\n"
     ]
    },
    {
     "name": "stderr",
     "output_type": "stream",
     "text": [
      "\n"
     ]
    }
   ],
   "source": [
    "no_of_runs = 2 #2 ... bude se pocitat i druhý způsob (za použití MSR)\n",
    "use_MSR = 0 # in case of one run\n",
    "# NUM_ITER = 500\n",
    "print(\"J_1 =\", JEXCH1)\n",
    "if exact_ground_energy != 0:\n",
    "    print(\"Expected exact energy:\", exact_ground_energy)\n",
    "for i,gs in enumerate([gs_normal,gs_MSR][use_MSR:use_MSR+no_of_runs]):\n",
    "    start = time.time()\n",
    "    #gs.info()\n",
    "    gs.run(out=OUT_NAME+str(i), n_iter=int(NUM_ITER))#,obs={'DS_factor': m_dimer_op})#,'PS_factor':m_plaquette_op,'AF_factor':m_s2_op})\n",
    "    end = time.time()\n",
    "    print(\"The type {} of RBM calculation took {} min\".format(i, (end-start)/60))\n"
   ]
  },
  {
   "cell_type": "code",
   "execution_count": 77,
   "metadata": {},
   "outputs": [
    {
     "name": "stdout",
     "output_type": "stream",
     "text": [
      "Trained RBM without MSR:\n",
      "m_d^2 = -3.333e-01+1.581e-22j ± 8.543e-19 [σ²=2.337e-34, R̂=0.9933]\n",
      "m_p = 0.000e+00+0.000e+00j ± nan [σ²=0.000e+00]\n",
      "m_s^2 = 1.519-0.000j ± 0.013 [σ²=0.206, R̂=1.0048]\n",
      "m_s^2 = 0.4999976+0.0000014j ± 0.0000032 [σ²=0.0000000, R̂=1.0001] <--- no MSR!!\n",
      "Trained RBM with MSR:\n",
      "m_d^2 = -3.333e-01-1.434e-19j ± 3.018e-18 [σ²=5.393e-33, R̂=1.5074]\n",
      "m_p = 0.000e+00+0.000e+00j ± nan [σ²=0.000e+00]\n",
      "m_s^2 = 2.00000064-0.00000000j ± 0.00000012 [σ²=0.00000000, R̂=1.4095]\n",
      "m_s^2 = 0.562+0.000j ± 0.020 [σ²=0.246, R̂=1.4095] <--- no MSR!!\n"
     ]
    }
   ],
   "source": [
    "for i,gs in enumerate([gs_normal,gs_MSR][use_MSR:use_MSR+no_of_runs]):\n",
    "    print(\"Trained RBM with MSR:\" if i else \"Trained RBM without MSR:\")\n",
    "    print(\"m_d^2 =\", gs.estimate(ops.m_dimer_op))\n",
    "    print(\"m_p =\", gs.estimate(ops.m_plaquette_op_MSR))\n",
    "    print(\"m_s^2 =\", gs.estimate(ops.m_s2_op_MSR))\n",
    "    print(\"m_s^2 =\", gs.estimate(ops.m_s2_op), \"<--- no MSR!!\")"
   ]
  },
  {
   "cell_type": "code",
   "execution_count": 78,
   "metadata": {},
   "outputs": [
    {
     "name": "stdout",
     "output_type": "stream",
     "text": [
      "8.400017     -10.800010    -0.333333    0.000000    1.519169    0.499998    -0.333333    0.000000    2.000001    0.562499    samples:1200.000000  iters:500.000000\n"
     ]
    }
   ],
   "source": [
    "print(\"{:f}     {:f}    {:f}    {:f}    {:f}    {:f}    {:f}    {:f}    {:f}    {:f}    samples:{:f}  iters:{:f}\".format(gs_normal.energy.mean.real, gs_MSR.energy.mean.real, gs_normal.estimate(ops.m_dimer_op).mean.real, gs_normal.estimate(ops.m_plaquette_op).mean.real, gs_normal.estimate(ops.m_s2_op_MSR).mean.real, gs_normal.estimate(ops.m_s2_op).mean.real, gs_MSR.estimate(ops.m_dimer_op).mean.real, gs_MSR.estimate(ops.m_plaquette_op_MSR).mean.real, gs_MSR.estimate(ops.m_s2_op_MSR).mean.real, gs_MSR.estimate(ops.m_s2_op).mean.real, SAMPLES, NUM_ITER, sep='    '))"
   ]
  },
  {
   "cell_type": "markdown",
   "metadata": {},
   "source": [
    "## Energy"
   ]
  },
  {
   "cell_type": "code",
   "execution_count": 79,
   "metadata": {},
   "outputs": [],
   "source": [
    "# exact energy line\n",
    "figure = go.Figure(\n",
    "    data=[go.Scatter(x=(0,NUM_ITER),y=(exact_ground_energy,exact_ground_energy),mode=\"lines\",line=go.scatter.Line(color=\"#000000\",width=1), name=\"exact energy\")], \n",
    "    layout=go.Layout(template=\"simple_white\",\n",
    "        xaxis=dict(title=\"Iteration\", mirror=True, showline=True),\n",
    "        yaxis=dict(title=\"Energy\", mirror=True, showline=True),\n",
    "        title=(\"<b>\"+\"S-S\"+\" model </b>, L=\"+str(SITES)+\", J2 =\"+str(JEXCH2)+ \", J1 =\"+str(JEXCH1)+\" , η=\"+str(ETA)+\", α=\"+str(ALPHA)+\", samples=\"+str(SAMPLES))))"
   ]
  },
  {
   "cell_type": "code",
   "execution_count": 1,
   "metadata": {},
   "outputs": [
    {
     "ename": "NameError",
     "evalue": "name 'OUT_NAME' is not defined",
     "output_type": "error",
     "traceback": [
      "\u001b[0;31m---------------------------------------------------------------------------\u001b[0m",
      "\u001b[0;31mNameError\u001b[0m                                 Traceback (most recent call last)",
      "\u001b[0;32m/tmp/ipykernel_4119/3840905419.py\u001b[0m in \u001b[0;36m<module>\u001b[0;34m\u001b[0m\n\u001b[1;32m      1\u001b[0m \u001b[0;31m# import the data from log file\u001b[0m\u001b[0;34m\u001b[0m\u001b[0;34m\u001b[0m\u001b[0;34m\u001b[0m\u001b[0m\n\u001b[0;32m----> 2\u001b[0;31m \u001b[0mOUT_NAME_suffixless\u001b[0m\u001b[0;34m=\u001b[0m\u001b[0mOUT_NAME\u001b[0m\u001b[0;34m\u001b[0m\u001b[0;34m\u001b[0m\u001b[0m\n\u001b[0m\u001b[1;32m      3\u001b[0m \u001b[0mdata\u001b[0m \u001b[0;34m=\u001b[0m \u001b[0;34m[\u001b[0m\u001b[0;34m]\u001b[0m\u001b[0;34m\u001b[0m\u001b[0;34m\u001b[0m\u001b[0m\n\u001b[1;32m      4\u001b[0m \u001b[0;32mfor\u001b[0m \u001b[0mi\u001b[0m \u001b[0;32min\u001b[0m \u001b[0mrange\u001b[0m\u001b[0;34m(\u001b[0m\u001b[0mno_of_runs\u001b[0m\u001b[0;34m)\u001b[0m\u001b[0;34m:\u001b[0m\u001b[0;34m\u001b[0m\u001b[0;34m\u001b[0m\u001b[0m\n\u001b[1;32m      5\u001b[0m     \u001b[0mdata\u001b[0m\u001b[0;34m.\u001b[0m\u001b[0mappend\u001b[0m\u001b[0;34m(\u001b[0m\u001b[0mjson\u001b[0m\u001b[0;34m.\u001b[0m\u001b[0mload\u001b[0m\u001b[0;34m(\u001b[0m\u001b[0mopen\u001b[0m\u001b[0;34m(\u001b[0m\u001b[0mOUT_NAME_suffixless\u001b[0m\u001b[0;34m+\u001b[0m\u001b[0mstr\u001b[0m\u001b[0;34m(\u001b[0m\u001b[0mi\u001b[0m\u001b[0;34m)\u001b[0m\u001b[0;34m+\u001b[0m\u001b[0;34m\".log\"\u001b[0m\u001b[0;34m)\u001b[0m\u001b[0;34m)\u001b[0m\u001b[0;34m)\u001b[0m\u001b[0;34m\u001b[0m\u001b[0;34m\u001b[0m\u001b[0m\n",
      "\u001b[0;31mNameError\u001b[0m: name 'OUT_NAME' is not defined"
     ]
    }
   ],
   "source": [
    "# import the data from log file\n",
    "OUT_NAME_suffixless=OUT_NAME\n",
    "data = []\n",
    "for i in range(no_of_runs):\n",
    "    data.append(json.load(open(OUT_NAME_suffixless+str(i)+\".log\")))\n",
    "names = [\"normal basis\",\"MSR basis\"]\n",
    "if DTYPE==np.complex128:\n",
    "    energy_convergence = [data[i][\"Energy\"][\"Mean\"][\"real\"] for i in range(no_of_runs)]\n",
    "    # DS_factor_convergence = [data[i][\"DS_factor\"][\"Mean\"][\"real\"] for i in range(no_of_runs)]\n",
    "else:\n",
    "    energy_convergence = [data[i][\"Energy\"][\"Mean\"] for i in range(no_of_runs)]\n",
    "    # DS_factor_convergence = [data[i][\"DS_factor\"][\"Mean\"] for i in range(no_of_runs)]\n",
    "for i in range(no_of_runs):\n",
    "    figure.add_trace(go.Scatter(\n",
    "        x=data[i][\"Energy\"][\"iters\"], y=energy_convergence[i],\n",
    "        name=names[i]\n",
    "    ))\n",
    "    # figure.add_trace(go.Scatter(\n",
    "    #     x=data[i][\"Energy\"][\"iters\"], y=DS_factor_convergence[i],\n",
    "    #     name=names[i]+\"_DS\"\n",
    "    # ))\n",
    "\n",
    "#figure.add_hline(y=exact_gs_energy)\n",
    "figure.update_layout(xaxis_title=\"Iteration\",yaxis_title=\"Energy\")\n",
    "figure.show()"
   ]
  },
  {
   "cell_type": "code",
   "execution_count": 81,
   "metadata": {},
   "outputs": [
    {
     "data": {
      "application/vnd.plotly.v1+json": {
       "config": {
        "plotlyServerURL": "https://plot.ly"
       },
       "data": [
        {
         "line": {
          "color": "#000000",
          "width": 1
         },
         "mode": "lines",
         "name": "exact energy",
         "type": "scatter",
         "x": [
          0,
          500
         ],
         "y": [
          -10.800000000000008,
          -10.800000000000008
         ]
        },
        {
         "name": "normal basis",
         "type": "scatter",
         "x": [
          0,
          1,
          2,
          3,
          4,
          5,
          6,
          7,
          8,
          9,
          10,
          11,
          12,
          13,
          14,
          15,
          16,
          17,
          18,
          19,
          20,
          21,
          22,
          23,
          24,
          25,
          26,
          27,
          28,
          29,
          30,
          31,
          32,
          33,
          34,
          35,
          36,
          37,
          38,
          39,
          40,
          41,
          42,
          43,
          44,
          45,
          46,
          47,
          48,
          49,
          50,
          51,
          52,
          53,
          54,
          55,
          56,
          57,
          58,
          59,
          60,
          61,
          62,
          63,
          64,
          65,
          66,
          67,
          68,
          69,
          70,
          71,
          72,
          73,
          74,
          75,
          76,
          77,
          78,
          79,
          80,
          81,
          82,
          83,
          84,
          85,
          86,
          87,
          88,
          89,
          90,
          91,
          92,
          93,
          94,
          95,
          96,
          97,
          98,
          99,
          100,
          101,
          102,
          103,
          104,
          105,
          106,
          107,
          108,
          109,
          110,
          111,
          112,
          113,
          114,
          115,
          116,
          117,
          118,
          119,
          120,
          121,
          122,
          123,
          124,
          125,
          126,
          127,
          128,
          129,
          130,
          131,
          132,
          133,
          134,
          135,
          136,
          137,
          138,
          139,
          140,
          141,
          142,
          143,
          144,
          145,
          146,
          147,
          148,
          149,
          150,
          151,
          152,
          153,
          154,
          155,
          156,
          157,
          158,
          159,
          160,
          161,
          162,
          163,
          164,
          165,
          166,
          167,
          168,
          169,
          170,
          171,
          172,
          173,
          174,
          175,
          176,
          177,
          178,
          179,
          180,
          181,
          182,
          183,
          184,
          185,
          186,
          187,
          188,
          189,
          190,
          191,
          192,
          193,
          194,
          195,
          196,
          197,
          198,
          199,
          200,
          201,
          202,
          203,
          204,
          205,
          206,
          207,
          208,
          209,
          210,
          211,
          212,
          213,
          214,
          215,
          216,
          217,
          218,
          219,
          220,
          221,
          222,
          223,
          224,
          225,
          226,
          227,
          228,
          229,
          230,
          231,
          232,
          233,
          234,
          235,
          236,
          237,
          238,
          239,
          240,
          241,
          242,
          243,
          244,
          245,
          246,
          247,
          248,
          249,
          250,
          251,
          252,
          253,
          254,
          255,
          256,
          257,
          258,
          259,
          260,
          261,
          262,
          263,
          264,
          265,
          266,
          267,
          268,
          269,
          270,
          271,
          272,
          273,
          274,
          275,
          276,
          277,
          278,
          279,
          280,
          281,
          282,
          283,
          284,
          285,
          286,
          287,
          288,
          289,
          290,
          291,
          292,
          293,
          294,
          295,
          296,
          297,
          298,
          299,
          300,
          301,
          302,
          303,
          304,
          305,
          306,
          307,
          308,
          309,
          310,
          311,
          312,
          313,
          314,
          315,
          316,
          317,
          318,
          319,
          320,
          321,
          322,
          323,
          324,
          325,
          326,
          327,
          328,
          329,
          330,
          331,
          332,
          333,
          334,
          335,
          336,
          337,
          338,
          339,
          340,
          341,
          342,
          343,
          344,
          345,
          346,
          347,
          348,
          349,
          350,
          351,
          352,
          353,
          354,
          355,
          356,
          357,
          358,
          359,
          360,
          361,
          362,
          363,
          364,
          365,
          366,
          367,
          368,
          369,
          370,
          371,
          372,
          373,
          374,
          375,
          376,
          377,
          378,
          379,
          380,
          381,
          382,
          383,
          384,
          385,
          386,
          387,
          388,
          389,
          390,
          391,
          392,
          393,
          394,
          395,
          396,
          397,
          398,
          399,
          400,
          401,
          402,
          403,
          404,
          405,
          406,
          407,
          408,
          409,
          410,
          411,
          412,
          413,
          414,
          415,
          416,
          417,
          418,
          419,
          420,
          421,
          422,
          423,
          424,
          425,
          426,
          427,
          428,
          429,
          430,
          431,
          432,
          433,
          434,
          435,
          436,
          437,
          438,
          439,
          440,
          441,
          442,
          443,
          444,
          445,
          446,
          447,
          448,
          449,
          450,
          451,
          452,
          453,
          454,
          455,
          456,
          457,
          458,
          459,
          460,
          461,
          462,
          463,
          464,
          465,
          466,
          467,
          468,
          469,
          470,
          471,
          472,
          473,
          474,
          475,
          476,
          477,
          478,
          479,
          480,
          481,
          482,
          483,
          484,
          485,
          486,
          487,
          488,
          489,
          490,
          491,
          492,
          493,
          494,
          495,
          496,
          497,
          498,
          499
         ],
         "y": [
          8.40000273271383,
          8.399990243834855,
          8.40000469128954,
          8.39999022934531,
          8.399988640536913,
          8.399986651548799,
          8.399998825887112,
          8.39999921408351,
          8.400011075931644,
          8.399989313024374,
          8.399994058561134,
          8.400001198813642,
          8.39999482974516,
          8.399981240285827,
          8.40002282547476,
          8.39999839953951,
          8.399998799011097,
          8.400001617549124,
          8.40001453894396,
          8.400019823763332,
          8.399985417621593,
          8.400006900888897,
          8.400003661878785,
          8.400010995300521,
          8.399997965318105,
          8.399977135256698,
          8.40001146616326,
          8.400024206307952,
          8.399994660442209,
          8.400014416958424,
          8.400003715822507,
          8.399998352277777,
          8.40000745047504,
          8.400012440943248,
          8.400017866202477,
          8.400020824613362,
          8.399998752176984,
          8.399993320130708,
          8.40000042696902,
          8.39999371098998,
          8.399994115065695,
          8.399996207735498,
          8.399988164110423,
          8.400006355925807,
          8.399983896534744,
          8.399991931768243,
          8.39996889406527,
          8.400015802313916,
          8.399983326369545,
          8.400003005310873,
          8.399990130223342,
          8.400013327910981,
          8.399993118919797,
          8.399997417209146,
          8.400010390251582,
          8.400008241196602,
          8.399996532027815,
          8.40001522909938,
          8.400006539490933,
          8.400013092563308,
          8.400010057521364,
          8.399996502689989,
          8.399995181985775,
          8.399978470946445,
          8.399990321586197,
          8.400002217987991,
          8.399991592242236,
          8.400008887639409,
          8.400019150893637,
          8.400029464367567,
          8.400017452460387,
          8.399997765968537,
          8.400037303250084,
          8.400008112656158,
          8.399976538951266,
          8.399980561605119,
          8.400004080484965,
          8.400019957615545,
          8.399999098374842,
          8.400024574717413,
          8.400010039120675,
          8.400002291792653,
          8.400005955957793,
          8.400004587395355,
          8.399986242370288,
          8.400009657664997,
          8.400023023883866,
          8.400010625236355,
          8.400014814385898,
          8.400017166815296,
          8.400005589577178,
          8.399985559110377,
          8.399991603862695,
          8.400011246178689,
          8.400033325835002,
          8.399985904667183,
          8.400005188712564,
          8.400027853405591,
          8.400004734970738,
          8.400009952756765,
          8.39998862163189,
          8.399993826898552,
          8.399980956375165,
          8.399996188854946,
          8.400009566061263,
          8.399984205637624,
          8.400025916300205,
          8.400001930774744,
          8.39999277962409,
          8.400001940160001,
          8.399991301593907,
          8.399999523997321,
          8.400005355875427,
          8.400002445151335,
          8.400007335135392,
          8.399990220461124,
          8.39997399116415,
          8.400023141005292,
          8.400019735693192,
          8.400010379757008,
          8.400000004990195,
          8.40000149650986,
          8.400014410683502,
          8.399996523203706,
          8.39998055406212,
          8.399970519687129,
          8.400029034244335,
          8.399985971476742,
          8.400017080408453,
          8.39998693079025,
          8.400004045882099,
          8.400037930476579,
          8.399996464388233,
          8.400019322178787,
          8.400031608256093,
          8.399995412491782,
          8.400002058420812,
          8.4000051420247,
          8.400000007147632,
          8.399960862762223,
          8.39998606771724,
          8.39999328546189,
          8.400016060649786,
          8.400002080970259,
          8.400022342922197,
          8.400006257153903,
          8.399979141986673,
          8.399990075856934,
          8.400004725046362,
          8.400022585557164,
          8.400016323567248,
          8.39999473201929,
          8.399994198477785,
          8.400019059245015,
          8.400015390716815,
          8.399997883343952,
          8.399976567375955,
          8.400021358642054,
          8.400028888013763,
          8.399976427784617,
          8.399965063405874,
          8.400010250492702,
          8.400010811630413,
          8.400001633558016,
          8.39998591157583,
          8.399989687381055,
          8.39995965533926,
          8.400013669330477,
          8.40000055875955,
          8.40001481795247,
          8.400001112557087,
          8.400022606524574,
          8.400006647435127,
          8.400011655354222,
          8.400036147219472,
          8.399998337260808,
          8.40000113208315,
          8.399964725519133,
          8.40001966711566,
          8.39999044560674,
          8.399994374662684,
          8.400030545733017,
          8.399986401363368,
          8.39998467233348,
          8.40004270543037,
          8.400000011193374,
          8.400016017404191,
          8.400002305155526,
          8.39998450782188,
          8.400005192245871,
          8.399998856549074,
          8.399971696942094,
          8.400001168160292,
          8.399976805517689,
          8.39997735520093,
          8.399970340169414,
          8.40001576605128,
          8.400012290018859,
          8.399964275962924,
          8.399977118262845,
          8.399991188052109,
          8.399990583552803,
          8.400023059260118,
          8.400023703459777,
          8.40001543999725,
          8.400020231436603,
          8.400017904616423,
          8.399988652514772,
          8.400009606238859,
          8.400006022620826,
          8.400013265277613,
          8.399986122807737,
          8.400032068574497,
          8.40001092312341,
          8.399987862010796,
          8.399987236268487,
          8.399994519800956,
          8.399976776815977,
          8.400006131815053,
          8.400053974198162,
          8.399993865224273,
          8.400010477599192,
          8.400004948085344,
          8.399995686655705,
          8.399980195888807,
          8.400026725481847,
          8.399963262777277,
          8.40001435149951,
          8.40002500502754,
          8.399969336611402,
          8.400015701485062,
          8.399941503873805,
          8.400006951557438,
          8.400013916255391,
          8.399984180716016,
          8.400003811976907,
          8.399987317065388,
          8.400001290199153,
          8.3999923619772,
          8.399977004818593,
          8.399987839360712,
          8.399978208546758,
          8.399999373628173,
          8.400021250785867,
          8.399970337550798,
          8.399994846899691,
          8.40003949134118,
          8.399981200161644,
          8.400001314708998,
          8.400005227813008,
          8.400005889390414,
          8.399986927354789,
          8.400011153172494,
          8.400044667949306,
          8.40000791915312,
          8.39995908858353,
          8.400023170149968,
          8.399973499081305,
          8.400011301866758,
          8.400019315115,
          8.399993341372362,
          8.400004687130437,
          8.399972574860652,
          8.399998006869362,
          8.400025532582564,
          8.400035697095737,
          8.400012166482192,
          8.40003655002212,
          8.400037295555768,
          8.399984391214083,
          8.40000274263614,
          8.400000701937998,
          8.400007545146762,
          8.39999452522564,
          8.400035750598978,
          8.400015867289822,
          8.400042854805632,
          8.400042286947619,
          8.400024341502968,
          8.400009779464991,
          8.400025183545473,
          8.399995108013863,
          8.400002126917306,
          8.400024653147613,
          8.400030343546046,
          8.399984463294729,
          8.400011350079703,
          8.40000640956908,
          8.40001069552168,
          8.400029989169349,
          8.39998140815856,
          8.399964185200902,
          8.400022276978728,
          8.400002175285495,
          8.399999302556498,
          8.400041276649382,
          8.39999638849107,
          8.400026229512184,
          8.399983959206375,
          8.3999934316586,
          8.40000881507196,
          8.400002956617328,
          8.400005904359324,
          8.39993512111045,
          8.399988930957171,
          8.400003726658651,
          8.40000373296085,
          8.400015655293185,
          8.400006730793164,
          8.400008233299111,
          8.400031456654242,
          8.400024032314562,
          8.399984972873465,
          8.400027149702444,
          8.399985665344591,
          8.399958402493159,
          8.399999256795907,
          8.400017481289707,
          8.400006114782464,
          8.400012234151133,
          8.400014561215928,
          8.399983152036365,
          8.400021581838802,
          8.399998476645585,
          8.399995380058108,
          8.39999923822889,
          8.399997691970022,
          8.400027316323266,
          8.400026631748721,
          8.400007083507184,
          8.400012607513116,
          8.400001590513966,
          8.399976335300293,
          8.399978654953618,
          8.399993676863225,
          8.400031102185773,
          8.399985641509321,
          8.400020836402655,
          8.400001629783887,
          8.400019343358327,
          8.399996794003393,
          8.400022684253747,
          8.39996350283071,
          8.400019539790645,
          8.399985344964948,
          8.399950179023767,
          8.399992656206832,
          8.400002484618978,
          8.40000577182171,
          8.400007431505596,
          8.399991764131032,
          8.399965306963495,
          8.40001907362074,
          8.400005012785774,
          8.400032516759246,
          8.399998352707668,
          8.399989975445454,
          8.399927792195976,
          8.399932671819958,
          8.400005916087782,
          8.40000087319523,
          8.400001723033903,
          8.399994929068683,
          8.399980445863173,
          8.399920690746107,
          8.399954659772943,
          8.400004321922886,
          8.399985398504747,
          8.400047532450728,
          8.400019103755312,
          8.400020038683422,
          8.40000962925722,
          8.40002191165403,
          8.399965794205439,
          8.400001784626484,
          8.399975330970593,
          8.399953131779782,
          8.399971607454606,
          8.400040062889857,
          8.399985758470294,
          8.400042895143336,
          8.40004120779934,
          8.400049413385439,
          8.399989215437051,
          8.400014477516159,
          8.399975581730748,
          8.40001182226333,
          8.40001457862078,
          8.400036489384055,
          8.399969883838931,
          8.399993628767959,
          8.400014749050607,
          8.400041546832854,
          8.400032422418288,
          8.399995389471643,
          8.399950721218518,
          8.399944952427937,
          8.400054301639594,
          8.399962483743785,
          8.399975555878333,
          8.400044380497732,
          8.399998139604778,
          8.39996301929619,
          8.399986732475167,
          8.400012418390844,
          8.400013410637214,
          8.40005369434824,
          8.399975040240848,
          8.399984622700869,
          8.399994244783905,
          8.400047578906173,
          8.399954290364107,
          8.399980524996344,
          8.399973613738352,
          8.400002003264968,
          8.400012820804442,
          8.399999048956962,
          8.400035646532876,
          8.399979198168728,
          8.399982125145087,
          8.400020011361478,
          8.40000204891299,
          8.399985972752779,
          8.400007096870144,
          8.40003744808598,
          8.400001050579206,
          8.40001427162626,
          8.400041832497978,
          8.400007180663419,
          8.399975469418814,
          8.399975379806659,
          8.400027835260657,
          8.399994879272336,
          8.40000418794225,
          8.399979271304664,
          8.399960441566536,
          8.400004238181115,
          8.39999899822238,
          8.399998986086409,
          8.40000109777158,
          8.399988403295945,
          8.400002172589673,
          8.399914816933855,
          8.399956267417924,
          8.400015035701266,
          8.399991448070718,
          8.400032351701372,
          8.3999860183479,
          8.399981620724038,
          8.399980474254912,
          8.399983644893831,
          8.399997867957197,
          8.400050605994592,
          8.400052997852226,
          8.399977907645866,
          8.399960067268466,
          8.400012297103013,
          8.400000052734814,
          8.399991084768875,
          8.400005641202792,
          8.399969628171492,
          8.399930100379974,
          8.400047580080667,
          8.399976189568179,
          8.399998917791367,
          8.400004615956885,
          8.399990883607103,
          8.400002341610481,
          8.39995515301877,
          8.399996620052617,
          8.39995950808622,
          8.399970974723008,
          8.400003537875216,
          8.399991856325684,
          8.400008249049513,
          8.400041158813641,
          8.400004752817548,
          8.400020115761379,
          8.400023748217237,
          8.400001227670087,
          8.400000051273052,
          8.399951048805507,
          8.400008455933895,
          8.399915827281191,
          8.40009785551188,
          8.399969771047092,
          8.400015846494666,
          8.399993968931913,
          8.40000738929948,
          8.399998832656369,
          8.39997543175124,
          8.400008697600798,
          8.3999913964432,
          8.399997573818338,
          8.400041190220502,
          8.40002507818018,
          8.400051541560895,
          8.39998117158809,
          8.400001332153638,
          8.400016574589994
         ]
        },
        {
         "name": "MSR basis",
         "type": "scatter",
         "x": [
          0,
          1,
          2,
          3,
          4,
          5,
          6,
          7,
          8,
          9,
          10,
          11,
          12,
          13,
          14,
          15,
          16,
          17,
          18,
          19,
          20,
          21,
          22,
          23,
          24,
          25,
          26,
          27,
          28,
          29,
          30,
          31,
          32,
          33,
          34,
          35,
          36,
          37,
          38,
          39,
          40,
          41,
          42,
          43,
          44,
          45,
          46,
          47,
          48,
          49,
          50,
          51,
          52,
          53,
          54,
          55,
          56,
          57,
          58,
          59,
          60,
          61,
          62,
          63,
          64,
          65,
          66,
          67,
          68,
          69,
          70,
          71,
          72,
          73,
          74,
          75,
          76,
          77,
          78,
          79,
          80,
          81,
          82,
          83,
          84,
          85,
          86,
          87,
          88,
          89,
          90,
          91,
          92,
          93,
          94,
          95,
          96,
          97,
          98,
          99,
          100,
          101,
          102,
          103,
          104,
          105,
          106,
          107,
          108,
          109,
          110,
          111,
          112,
          113,
          114,
          115,
          116,
          117,
          118,
          119,
          120,
          121,
          122,
          123,
          124,
          125,
          126,
          127,
          128,
          129,
          130,
          131,
          132,
          133,
          134,
          135,
          136,
          137,
          138,
          139,
          140,
          141,
          142,
          143,
          144,
          145,
          146,
          147,
          148,
          149,
          150,
          151,
          152,
          153,
          154,
          155,
          156,
          157,
          158,
          159,
          160,
          161,
          162,
          163,
          164,
          165,
          166,
          167,
          168,
          169,
          170,
          171,
          172,
          173,
          174,
          175,
          176,
          177,
          178,
          179,
          180,
          181,
          182,
          183,
          184,
          185,
          186,
          187,
          188,
          189,
          190,
          191,
          192,
          193,
          194,
          195,
          196,
          197,
          198,
          199,
          200,
          201,
          202,
          203,
          204,
          205,
          206,
          207,
          208,
          209,
          210,
          211,
          212,
          213,
          214,
          215,
          216,
          217,
          218,
          219,
          220,
          221,
          222,
          223,
          224,
          225,
          226,
          227,
          228,
          229,
          230,
          231,
          232,
          233,
          234,
          235,
          236,
          237,
          238,
          239,
          240,
          241,
          242,
          243,
          244,
          245,
          246,
          247,
          248,
          249,
          250,
          251,
          252,
          253,
          254,
          255,
          256,
          257,
          258,
          259,
          260,
          261,
          262,
          263,
          264,
          265,
          266,
          267,
          268,
          269,
          270,
          271,
          272,
          273,
          274,
          275,
          276,
          277,
          278,
          279,
          280,
          281,
          282,
          283,
          284,
          285,
          286,
          287,
          288,
          289,
          290,
          291,
          292,
          293,
          294,
          295,
          296,
          297,
          298,
          299,
          300,
          301,
          302,
          303,
          304,
          305,
          306,
          307,
          308,
          309,
          310,
          311,
          312,
          313,
          314,
          315,
          316,
          317,
          318,
          319,
          320,
          321,
          322,
          323,
          324,
          325,
          326,
          327,
          328,
          329,
          330,
          331,
          332,
          333,
          334,
          335,
          336,
          337,
          338,
          339,
          340,
          341,
          342,
          343,
          344,
          345,
          346,
          347,
          348,
          349,
          350,
          351,
          352,
          353,
          354,
          355,
          356,
          357,
          358,
          359,
          360,
          361,
          362,
          363,
          364,
          365,
          366,
          367,
          368,
          369,
          370,
          371,
          372,
          373,
          374,
          375,
          376,
          377,
          378,
          379,
          380,
          381,
          382,
          383,
          384,
          385,
          386,
          387,
          388,
          389,
          390,
          391,
          392,
          393,
          394,
          395,
          396,
          397,
          398,
          399,
          400,
          401,
          402,
          403,
          404,
          405,
          406,
          407,
          408,
          409,
          410,
          411,
          412,
          413,
          414,
          415,
          416,
          417,
          418,
          419,
          420,
          421,
          422,
          423,
          424,
          425,
          426,
          427,
          428,
          429,
          430,
          431,
          432,
          433,
          434,
          435,
          436,
          437,
          438,
          439,
          440,
          441,
          442,
          443,
          444,
          445,
          446,
          447,
          448,
          449,
          450,
          451,
          452,
          453,
          454,
          455,
          456,
          457,
          458,
          459,
          460,
          461,
          462,
          463,
          464,
          465,
          466,
          467,
          468,
          469,
          470,
          471,
          472,
          473,
          474,
          475,
          476,
          477,
          478,
          479,
          480,
          481,
          482,
          483,
          484,
          485,
          486,
          487,
          488,
          489,
          490,
          491,
          492,
          493,
          494,
          495,
          496,
          497,
          498,
          499
         ],
         "y": [
          -4.143997725637719,
          -4.3894352855979735,
          -4.482281527546431,
          -5.071124386286437,
          -5.576669668856918,
          -6.3849441842582095,
          -7.018753197976976,
          -7.5305976947832765,
          -8.10646553034676,
          -8.043886321244486,
          -8.417967665697327,
          -8.822385728040375,
          -8.903488858936115,
          -9.026682084090018,
          -9.054146017083987,
          -9.341548570680944,
          -9.54307824319155,
          -9.521773991640252,
          -9.719178702043793,
          -9.818186455707595,
          -9.81831984805528,
          -10.109825181161163,
          -9.993821767255133,
          -10.176626431675347,
          -10.192534382368653,
          -10.28217875292033,
          -10.347569357757207,
          -10.29996355917268,
          -10.390995650881656,
          -10.495932790004394,
          -10.432719762522296,
          -10.59660341634066,
          -10.53496161508588,
          -10.604193049303857,
          -10.659671203624182,
          -10.692463732766152,
          -10.674947190058614,
          -10.686044704328689,
          -10.694803934245906,
          -10.68954159951363,
          -10.708957253466897,
          -10.681857319538809,
          -10.684279715277256,
          -10.733656153505473,
          -10.776222509585212,
          -10.761599535330271,
          -10.750042006222294,
          -10.74225973379915,
          -10.748795154282409,
          -10.77458490006895,
          -10.760153835982669,
          -10.765692350597037,
          -10.769148207608408,
          -10.769882478380223,
          -10.757525328440252,
          -10.744531905782997,
          -10.78565259408037,
          -10.781935035409612,
          -10.796323227099327,
          -10.768995974810363,
          -10.785507012767088,
          -10.78097954596579,
          -10.794267212468135,
          -10.77312779506487,
          -10.77164209060855,
          -10.794520357272033,
          -10.779533831789392,
          -10.781557590520409,
          -10.78461672296145,
          -10.794694874974311,
          -10.783687827809239,
          -10.793411862277484,
          -10.793285670202563,
          -10.78888086588122,
          -10.790195834902347,
          -10.794093560555734,
          -10.799906978158452,
          -10.794906512641811,
          -10.779782248433783,
          -10.795411017302504,
          -10.789115545495953,
          -10.789825965138775,
          -10.799713115752551,
          -10.794978508299979,
          -10.795291269747235,
          -10.795641909120405,
          -10.800288626754929,
          -10.794711922951887,
          -10.799559962912015,
          -10.788820845727153,
          -10.798572925462405,
          -10.79401285031638,
          -10.793738863524903,
          -10.793496036801338,
          -10.799146775645854,
          -10.794490828308632,
          -10.7995381227827,
          -10.79400893796943,
          -10.794075614486617,
          -10.800572373826757,
          -10.80048937166193,
          -10.79998814740149,
          -10.799939337688917,
          -10.800098499776912,
          -10.799964966278115,
          -10.794390751615497,
          -10.799364521204977,
          -10.8000130296729,
          -10.794709261914337,
          -10.794358380944066,
          -10.799555441858656,
          -10.794413564908856,
          -10.800573490290706,
          -10.79523419498756,
          -10.78974788630749,
          -10.794833252439215,
          -10.799945547302688,
          -10.789527153974552,
          -10.800350369580444,
          -10.795116906710215,
          -10.795233488956665,
          -10.789795211502291,
          -10.800244006235326,
          -10.800123492752844,
          -10.800103997939017,
          -10.79476016349878,
          -10.784030418722324,
          -10.794655561716622,
          -10.789396804320395,
          -10.789442257259514,
          -10.800117941678728,
          -10.799755498184677,
          -10.800118988064403,
          -10.800200685396526,
          -10.794773711150198,
          -10.800075212601664,
          -10.80010230482111,
          -10.800049318306787,
          -10.800039938406888,
          -10.794747082274526,
          -10.800165645728118,
          -10.800114231948482,
          -10.789350445404118,
          -10.799657055084785,
          -10.799873528770398,
          -10.799820636193205,
          -10.79991689673226,
          -10.794592814194548,
          -10.794307625382508,
          -10.799245218352562,
          -10.799571028752107,
          -10.799652156284061,
          -10.799717942753283,
          -10.79464229618463,
          -10.800210338443947,
          -10.80027249092017,
          -10.794768541032564,
          -10.800065838603038,
          -10.799973370648125,
          -10.799978426596029,
          -10.79998252303861,
          -10.7999858419185,
          -10.800013770846249,
          -10.794685004721952,
          -10.800039470558433,
          -10.800031964034181,
          -10.800025885363484,
          -10.800020962857644,
          -10.800032593218495,
          -10.794681330383423,
          -10.794701259955989,
          -10.800052503765992,
          -10.794655060450726,
          -10.800038853533255,
          -10.794694286374488,
          -10.800068378714455,
          -10.800055372284616,
          -10.800304838450455,
          -10.80022726591599,
          -10.794746832411347,
          -10.800103158762473,
          -10.800119616539806,
          -10.800069804072244,
          -10.800120494345606,
          -10.794764002744024,
          -10.800094740183537,
          -10.80007671488349,
          -10.794723298804367,
          -10.800068515809418,
          -10.800022194562446,
          -10.794657443265494,
          -10.799977179118024,
          -10.799870531517238,
          -10.799940013603585,
          -10.79995673829804,
          -10.799990155189223,
          -10.799992025021234,
          -10.800012923791535,
          -10.800010466312822,
          -10.794662316297943,
          -10.794561892042319,
          -10.799842797403214,
          -10.799872609601723,
          -10.799896769018611,
          -10.799916347199567,
          -10.799932212668695,
          -10.799945069359401,
          -10.799988874422619,
          -10.80001803159209,
          -10.800014602757622,
          -10.800011825994567,
          -10.800009577277885,
          -10.800019389845462,
          -10.800005652648734,
          -10.794664055854213,
          -10.799982683170303,
          -10.79994387085095,
          -10.799988631729718,
          -10.794656474957637,
          -10.79992446678755,
          -10.799926260743343,
          -10.799940246188983,
          -10.79991865062214,
          -10.799960740698204,
          -10.79996818695483,
          -10.79464277815513,
          -10.79997527955948,
          -10.799979973261792,
          -10.799886390831208,
          -10.799881557511256,
          -10.79989320677697,
          -10.799966010586168,
          -10.799992974879503,
          -10.794654221855524,
          -10.799914512430433,
          -10.799982687460489,
          -10.79998597512711,
          -10.794657729800853,
          -10.800047735823146,
          -10.794666161321821,
          -10.794642391383427,
          -10.800076982354197,
          -10.800062338698119,
          -10.80010498331178,
          -10.794705363986406,
          -10.799972008465014,
          -10.799977322887884,
          -10.794657363031552,
          -10.800098769659845,
          -10.799976495215217,
          -10.799980958212938,
          -10.799989512442883,
          -10.79465383731004,
          -10.79990062736021,
          -10.799919473873139,
          -10.799934746395278,
          -10.799947122568456,
          -10.799957151591686,
          -10.799965278552746,
          -10.799971864155275,
          -10.799975832701943,
          -10.799967667256654,
          -10.799985018964549,
          -10.799987860478279,
          -10.799990163038387,
          -10.799992028866237,
          -10.79999354079615,
          -10.799994765951984,
          -10.799998939704148,
          -10.794665784886744,
          -10.794638512662445,
          -10.799887180688907,
          -10.799908577084864,
          -10.799870346237206,
          -10.799894869058107,
          -10.799914753782835,
          -10.799930877574035,
          -10.799943951724279,
          -10.799954553014963,
          -10.79464799593277,
          -10.799977215844185,
          -10.799981542076837,
          -10.799985047167675,
          -10.794660046590668,
          -10.799976312532833,
          -10.799980810199802,
          -10.799984454215236,
          -10.799987406482533,
          -10.799992655509845,
          -10.800016533355489,
          -10.800013389449058,
          -10.800010843418999,
          -10.794672696826026,
          -10.79465159950069,
          -10.799973290019038,
          -10.80002945818195,
          -10.800035078355396,
          -10.80002840731219,
          -10.800023005143402,
          -10.80001863043041,
          -10.80000875151005,
          -10.799989493259059,
          -10.799980204918862,
          -10.79998395950989,
          -10.799987001970285,
          -10.79998946736465,
          -10.79999146514254,
          -10.79998270986968,
          -10.79998444513011,
          -10.799985168423738,
          -10.799987908708431,
          -10.799990142698078,
          -10.79999196393562,
          -10.79999344868105,
          -10.799994659104645,
          -10.799995645890107,
          -10.799996450356863,
          -10.799997106190101,
          -10.799997640851414,
          -10.799998076728523,
          -10.799998432072838,
          -10.799998721763615,
          -10.799998957931045,
          -10.799999150464085,
          -10.799999307424658,
          -10.799999435385136,
          -10.79999964592585,
          -10.799999712510377,
          -10.799999836601476,
          -10.799999867508198,
          -10.799999892568955,
          -10.799999912889461,
          -10.79999992936636,
          -10.799999942726684,
          -10.79999995382527,
          -10.799999976330799,
          -10.794666634640304,
          -10.799720791645484,
          -10.799773295274152,
          -10.799815926214555,
          -10.799850540794639,
          -10.799878646342362,
          -10.799901466786396,
          -10.799919995930425,
          -10.79993504071589,
          -10.799935652587791,
          -10.79994419586609,
          -10.799954506216098,
          -10.799962911636158,
          -10.799969764077106,
          -10.7999810388412,
          -10.799984604524639,
          -10.799987499675778,
          -10.799989850388757,
          -10.799991759045755,
          -10.799993308776008,
          -10.794662870866299,
          -10.79981122825825,
          -10.799846931955935,
          -10.799885103862731,
          -10.799942501408484,
          -10.79995340684337,
          -10.799958090601619,
          -10.799969402943276,
          -10.799975206301497,
          -10.799993169492685,
          -10.799995931586128,
          -10.79467317085249,
          -10.799986449961771,
          -10.799989023328639,
          -10.799991108085097,
          -10.799988474314866,
          -10.79995914804462,
          -10.799966875055683,
          -10.79997314054533,
          -10.799978220946457,
          -10.79998234040926,
          -10.79998568068905,
          -10.79999336526806,
          -10.79999462371677,
          -10.799995643469629,
          -10.799996469800668,
          -10.79999713939686,
          -10.799997681986762,
          -10.799998121660263,
          -10.799998477938052,
          -10.799998125288852,
          -10.799998250301647,
          -10.799999156861018,
          -10.799999835762037,
          -10.799999866962198,
          -10.799999892235295,
          -10.799999912707305,
          -10.799999717160624,
          -10.799999770808846,
          -10.800000070573219,
          -10.800000075205332,
          -10.800000060905974,
          -10.800000049325469,
          -10.800000039946848,
          -10.800000032351457,
          -10.800000026200227,
          -10.800000021218588,
          -10.80000001718414,
          -10.800000013916796,
          -10.80000001127069,
          -10.800000009127709,
          -10.800000007392189,
          -10.799999997006669,
          -10.799999997575318,
          -10.799999998035931,
          -10.799999998409051,
          -10.799999998711286,
          -10.799999998956093,
          -10.799999996617627,
          -10.794666663934986,
          -10.799925127064492,
          -10.79993932749892,
          -10.799950834867674,
          -10.799960159834807,
          -10.799967716254336,
          -10.79997383951524,
          -10.799978801412966,
          -10.799982822204035,
          -10.799986080376861,
          -10.799988720570868,
          -10.799990859994816,
          -10.799992593628295,
          -10.799998499654322,
          -10.80000048618882,
          -10.80000196878484,
          -10.79467037637685,
          -10.80004621501472,
          -10.800037423349636,
          -10.800030304219584,
          -10.800024539418567,
          -10.800019871287814,
          -10.800016091192445,
          -10.800013030192284,
          -10.800010551488477,
          -10.794675165405138,
          -10.800048358821593,
          -10.800062653918767,
          -10.794725855604227,
          -10.79478007559343,
          -10.80013732205446,
          -10.800111199089343,
          -10.800090045661848,
          -10.794733573028761,
          -10.800050159838605,
          -10.800040617698073,
          -10.794660966934316,
          -10.799981029740119,
          -10.799984632081696,
          -10.799987550580651,
          -10.799959651765981,
          -10.799988230776037,
          -10.799993379466239,
          -10.799994636993198,
          -10.799995655688063,
          -10.799996480901036,
          -10.799997149374322,
          -10.79999076307265,
          -10.799992515089222,
          -10.79999393479457,
          -10.799995085218335,
          -10.799996017435612,
          -10.799999193221588,
          -10.799999346482556,
          -10.799999470629446,
          -10.799999571192766,
          -10.799999652652476,
          -10.79999971863754,
          -10.799999772087606,
          -10.79999981538389,
          -10.794666513134029,
          -10.799986125434808,
          -10.799988760415916,
          -10.799990895094092,
          -10.799992624421018,
          -10.79999402534165,
          -10.79999516020419,
          -10.80000784217783,
          -10.800006351020008,
          -10.800005143409978,
          -10.80000416542681,
          -10.800003373404676,
          -10.800002731982035,
          -10.794664026461913,
          -10.799933629394673,
          -10.799946217397029,
          -10.79995641808304,
          -10.799991172597922,
          -10.800014305637745,
          -10.800011585379426,
          -10.800009382420278,
          -10.800007598376105,
          -10.800012799170153,
          -10.800012457456749,
          -10.800010087704923
         ]
        },
        {
         "line": {
          "color": "#000000",
          "width": 1
         },
         "mode": "lines",
         "name": "exact energy",
         "type": "scatter",
         "x": [
          0,
          1000
         ],
         "y": [
          -10.800000000000008,
          -10.800000000000008
         ]
        }
       ],
       "layout": {
        "template": {
         "data": {
          "bar": [
           {
            "error_x": {
             "color": "rgb(36,36,36)"
            },
            "error_y": {
             "color": "rgb(36,36,36)"
            },
            "marker": {
             "line": {
              "color": "white",
              "width": 0.5
             },
             "pattern": {
              "fillmode": "overlay",
              "size": 10,
              "solidity": 0.2
             }
            },
            "type": "bar"
           }
          ],
          "barpolar": [
           {
            "marker": {
             "line": {
              "color": "white",
              "width": 0.5
             },
             "pattern": {
              "fillmode": "overlay",
              "size": 10,
              "solidity": 0.2
             }
            },
            "type": "barpolar"
           }
          ],
          "carpet": [
           {
            "aaxis": {
             "endlinecolor": "rgb(36,36,36)",
             "gridcolor": "white",
             "linecolor": "white",
             "minorgridcolor": "white",
             "startlinecolor": "rgb(36,36,36)"
            },
            "baxis": {
             "endlinecolor": "rgb(36,36,36)",
             "gridcolor": "white",
             "linecolor": "white",
             "minorgridcolor": "white",
             "startlinecolor": "rgb(36,36,36)"
            },
            "type": "carpet"
           }
          ],
          "choropleth": [
           {
            "colorbar": {
             "outlinewidth": 1,
             "tickcolor": "rgb(36,36,36)",
             "ticks": "outside"
            },
            "type": "choropleth"
           }
          ],
          "contour": [
           {
            "colorbar": {
             "outlinewidth": 1,
             "tickcolor": "rgb(36,36,36)",
             "ticks": "outside"
            },
            "colorscale": [
             [
              0,
              "#440154"
             ],
             [
              0.1111111111111111,
              "#482878"
             ],
             [
              0.2222222222222222,
              "#3e4989"
             ],
             [
              0.3333333333333333,
              "#31688e"
             ],
             [
              0.4444444444444444,
              "#26828e"
             ],
             [
              0.5555555555555556,
              "#1f9e89"
             ],
             [
              0.6666666666666666,
              "#35b779"
             ],
             [
              0.7777777777777778,
              "#6ece58"
             ],
             [
              0.8888888888888888,
              "#b5de2b"
             ],
             [
              1,
              "#fde725"
             ]
            ],
            "type": "contour"
           }
          ],
          "contourcarpet": [
           {
            "colorbar": {
             "outlinewidth": 1,
             "tickcolor": "rgb(36,36,36)",
             "ticks": "outside"
            },
            "type": "contourcarpet"
           }
          ],
          "heatmap": [
           {
            "colorbar": {
             "outlinewidth": 1,
             "tickcolor": "rgb(36,36,36)",
             "ticks": "outside"
            },
            "colorscale": [
             [
              0,
              "#440154"
             ],
             [
              0.1111111111111111,
              "#482878"
             ],
             [
              0.2222222222222222,
              "#3e4989"
             ],
             [
              0.3333333333333333,
              "#31688e"
             ],
             [
              0.4444444444444444,
              "#26828e"
             ],
             [
              0.5555555555555556,
              "#1f9e89"
             ],
             [
              0.6666666666666666,
              "#35b779"
             ],
             [
              0.7777777777777778,
              "#6ece58"
             ],
             [
              0.8888888888888888,
              "#b5de2b"
             ],
             [
              1,
              "#fde725"
             ]
            ],
            "type": "heatmap"
           }
          ],
          "heatmapgl": [
           {
            "colorbar": {
             "outlinewidth": 1,
             "tickcolor": "rgb(36,36,36)",
             "ticks": "outside"
            },
            "colorscale": [
             [
              0,
              "#440154"
             ],
             [
              0.1111111111111111,
              "#482878"
             ],
             [
              0.2222222222222222,
              "#3e4989"
             ],
             [
              0.3333333333333333,
              "#31688e"
             ],
             [
              0.4444444444444444,
              "#26828e"
             ],
             [
              0.5555555555555556,
              "#1f9e89"
             ],
             [
              0.6666666666666666,
              "#35b779"
             ],
             [
              0.7777777777777778,
              "#6ece58"
             ],
             [
              0.8888888888888888,
              "#b5de2b"
             ],
             [
              1,
              "#fde725"
             ]
            ],
            "type": "heatmapgl"
           }
          ],
          "histogram": [
           {
            "marker": {
             "line": {
              "color": "white",
              "width": 0.6
             }
            },
            "type": "histogram"
           }
          ],
          "histogram2d": [
           {
            "colorbar": {
             "outlinewidth": 1,
             "tickcolor": "rgb(36,36,36)",
             "ticks": "outside"
            },
            "colorscale": [
             [
              0,
              "#440154"
             ],
             [
              0.1111111111111111,
              "#482878"
             ],
             [
              0.2222222222222222,
              "#3e4989"
             ],
             [
              0.3333333333333333,
              "#31688e"
             ],
             [
              0.4444444444444444,
              "#26828e"
             ],
             [
              0.5555555555555556,
              "#1f9e89"
             ],
             [
              0.6666666666666666,
              "#35b779"
             ],
             [
              0.7777777777777778,
              "#6ece58"
             ],
             [
              0.8888888888888888,
              "#b5de2b"
             ],
             [
              1,
              "#fde725"
             ]
            ],
            "type": "histogram2d"
           }
          ],
          "histogram2dcontour": [
           {
            "colorbar": {
             "outlinewidth": 1,
             "tickcolor": "rgb(36,36,36)",
             "ticks": "outside"
            },
            "colorscale": [
             [
              0,
              "#440154"
             ],
             [
              0.1111111111111111,
              "#482878"
             ],
             [
              0.2222222222222222,
              "#3e4989"
             ],
             [
              0.3333333333333333,
              "#31688e"
             ],
             [
              0.4444444444444444,
              "#26828e"
             ],
             [
              0.5555555555555556,
              "#1f9e89"
             ],
             [
              0.6666666666666666,
              "#35b779"
             ],
             [
              0.7777777777777778,
              "#6ece58"
             ],
             [
              0.8888888888888888,
              "#b5de2b"
             ],
             [
              1,
              "#fde725"
             ]
            ],
            "type": "histogram2dcontour"
           }
          ],
          "mesh3d": [
           {
            "colorbar": {
             "outlinewidth": 1,
             "tickcolor": "rgb(36,36,36)",
             "ticks": "outside"
            },
            "type": "mesh3d"
           }
          ],
          "parcoords": [
           {
            "line": {
             "colorbar": {
              "outlinewidth": 1,
              "tickcolor": "rgb(36,36,36)",
              "ticks": "outside"
             }
            },
            "type": "parcoords"
           }
          ],
          "pie": [
           {
            "automargin": true,
            "type": "pie"
           }
          ],
          "scatter": [
           {
            "marker": {
             "colorbar": {
              "outlinewidth": 1,
              "tickcolor": "rgb(36,36,36)",
              "ticks": "outside"
             }
            },
            "type": "scatter"
           }
          ],
          "scatter3d": [
           {
            "line": {
             "colorbar": {
              "outlinewidth": 1,
              "tickcolor": "rgb(36,36,36)",
              "ticks": "outside"
             }
            },
            "marker": {
             "colorbar": {
              "outlinewidth": 1,
              "tickcolor": "rgb(36,36,36)",
              "ticks": "outside"
             }
            },
            "type": "scatter3d"
           }
          ],
          "scattercarpet": [
           {
            "marker": {
             "colorbar": {
              "outlinewidth": 1,
              "tickcolor": "rgb(36,36,36)",
              "ticks": "outside"
             }
            },
            "type": "scattercarpet"
           }
          ],
          "scattergeo": [
           {
            "marker": {
             "colorbar": {
              "outlinewidth": 1,
              "tickcolor": "rgb(36,36,36)",
              "ticks": "outside"
             }
            },
            "type": "scattergeo"
           }
          ],
          "scattergl": [
           {
            "marker": {
             "colorbar": {
              "outlinewidth": 1,
              "tickcolor": "rgb(36,36,36)",
              "ticks": "outside"
             }
            },
            "type": "scattergl"
           }
          ],
          "scattermapbox": [
           {
            "marker": {
             "colorbar": {
              "outlinewidth": 1,
              "tickcolor": "rgb(36,36,36)",
              "ticks": "outside"
             }
            },
            "type": "scattermapbox"
           }
          ],
          "scatterpolar": [
           {
            "marker": {
             "colorbar": {
              "outlinewidth": 1,
              "tickcolor": "rgb(36,36,36)",
              "ticks": "outside"
             }
            },
            "type": "scatterpolar"
           }
          ],
          "scatterpolargl": [
           {
            "marker": {
             "colorbar": {
              "outlinewidth": 1,
              "tickcolor": "rgb(36,36,36)",
              "ticks": "outside"
             }
            },
            "type": "scatterpolargl"
           }
          ],
          "scatterternary": [
           {
            "marker": {
             "colorbar": {
              "outlinewidth": 1,
              "tickcolor": "rgb(36,36,36)",
              "ticks": "outside"
             }
            },
            "type": "scatterternary"
           }
          ],
          "surface": [
           {
            "colorbar": {
             "outlinewidth": 1,
             "tickcolor": "rgb(36,36,36)",
             "ticks": "outside"
            },
            "colorscale": [
             [
              0,
              "#440154"
             ],
             [
              0.1111111111111111,
              "#482878"
             ],
             [
              0.2222222222222222,
              "#3e4989"
             ],
             [
              0.3333333333333333,
              "#31688e"
             ],
             [
              0.4444444444444444,
              "#26828e"
             ],
             [
              0.5555555555555556,
              "#1f9e89"
             ],
             [
              0.6666666666666666,
              "#35b779"
             ],
             [
              0.7777777777777778,
              "#6ece58"
             ],
             [
              0.8888888888888888,
              "#b5de2b"
             ],
             [
              1,
              "#fde725"
             ]
            ],
            "type": "surface"
           }
          ],
          "table": [
           {
            "cells": {
             "fill": {
              "color": "rgb(237,237,237)"
             },
             "line": {
              "color": "white"
             }
            },
            "header": {
             "fill": {
              "color": "rgb(217,217,217)"
             },
             "line": {
              "color": "white"
             }
            },
            "type": "table"
           }
          ]
         },
         "layout": {
          "annotationdefaults": {
           "arrowhead": 0,
           "arrowwidth": 1
          },
          "autotypenumbers": "strict",
          "coloraxis": {
           "colorbar": {
            "outlinewidth": 1,
            "tickcolor": "rgb(36,36,36)",
            "ticks": "outside"
           }
          },
          "colorscale": {
           "diverging": [
            [
             0,
             "rgb(103,0,31)"
            ],
            [
             0.1,
             "rgb(178,24,43)"
            ],
            [
             0.2,
             "rgb(214,96,77)"
            ],
            [
             0.3,
             "rgb(244,165,130)"
            ],
            [
             0.4,
             "rgb(253,219,199)"
            ],
            [
             0.5,
             "rgb(247,247,247)"
            ],
            [
             0.6,
             "rgb(209,229,240)"
            ],
            [
             0.7,
             "rgb(146,197,222)"
            ],
            [
             0.8,
             "rgb(67,147,195)"
            ],
            [
             0.9,
             "rgb(33,102,172)"
            ],
            [
             1,
             "rgb(5,48,97)"
            ]
           ],
           "sequential": [
            [
             0,
             "#440154"
            ],
            [
             0.1111111111111111,
             "#482878"
            ],
            [
             0.2222222222222222,
             "#3e4989"
            ],
            [
             0.3333333333333333,
             "#31688e"
            ],
            [
             0.4444444444444444,
             "#26828e"
            ],
            [
             0.5555555555555556,
             "#1f9e89"
            ],
            [
             0.6666666666666666,
             "#35b779"
            ],
            [
             0.7777777777777778,
             "#6ece58"
            ],
            [
             0.8888888888888888,
             "#b5de2b"
            ],
            [
             1,
             "#fde725"
            ]
           ],
           "sequentialminus": [
            [
             0,
             "#440154"
            ],
            [
             0.1111111111111111,
             "#482878"
            ],
            [
             0.2222222222222222,
             "#3e4989"
            ],
            [
             0.3333333333333333,
             "#31688e"
            ],
            [
             0.4444444444444444,
             "#26828e"
            ],
            [
             0.5555555555555556,
             "#1f9e89"
            ],
            [
             0.6666666666666666,
             "#35b779"
            ],
            [
             0.7777777777777778,
             "#6ece58"
            ],
            [
             0.8888888888888888,
             "#b5de2b"
            ],
            [
             1,
             "#fde725"
            ]
           ]
          },
          "colorway": [
           "#1F77B4",
           "#FF7F0E",
           "#2CA02C",
           "#D62728",
           "#9467BD",
           "#8C564B",
           "#E377C2",
           "#7F7F7F",
           "#BCBD22",
           "#17BECF"
          ],
          "font": {
           "color": "rgb(36,36,36)"
          },
          "geo": {
           "bgcolor": "white",
           "lakecolor": "white",
           "landcolor": "white",
           "showlakes": true,
           "showland": true,
           "subunitcolor": "white"
          },
          "hoverlabel": {
           "align": "left"
          },
          "hovermode": "closest",
          "mapbox": {
           "style": "light"
          },
          "paper_bgcolor": "white",
          "plot_bgcolor": "white",
          "polar": {
           "angularaxis": {
            "gridcolor": "rgb(232,232,232)",
            "linecolor": "rgb(36,36,36)",
            "showgrid": false,
            "showline": true,
            "ticks": "outside"
           },
           "bgcolor": "white",
           "radialaxis": {
            "gridcolor": "rgb(232,232,232)",
            "linecolor": "rgb(36,36,36)",
            "showgrid": false,
            "showline": true,
            "ticks": "outside"
           }
          },
          "scene": {
           "xaxis": {
            "backgroundcolor": "white",
            "gridcolor": "rgb(232,232,232)",
            "gridwidth": 2,
            "linecolor": "rgb(36,36,36)",
            "showbackground": true,
            "showgrid": false,
            "showline": true,
            "ticks": "outside",
            "zeroline": false,
            "zerolinecolor": "rgb(36,36,36)"
           },
           "yaxis": {
            "backgroundcolor": "white",
            "gridcolor": "rgb(232,232,232)",
            "gridwidth": 2,
            "linecolor": "rgb(36,36,36)",
            "showbackground": true,
            "showgrid": false,
            "showline": true,
            "ticks": "outside",
            "zeroline": false,
            "zerolinecolor": "rgb(36,36,36)"
           },
           "zaxis": {
            "backgroundcolor": "white",
            "gridcolor": "rgb(232,232,232)",
            "gridwidth": 2,
            "linecolor": "rgb(36,36,36)",
            "showbackground": true,
            "showgrid": false,
            "showline": true,
            "ticks": "outside",
            "zeroline": false,
            "zerolinecolor": "rgb(36,36,36)"
           }
          },
          "shapedefaults": {
           "fillcolor": "black",
           "line": {
            "width": 0
           },
           "opacity": 0.3
          },
          "ternary": {
           "aaxis": {
            "gridcolor": "rgb(232,232,232)",
            "linecolor": "rgb(36,36,36)",
            "showgrid": false,
            "showline": true,
            "ticks": "outside"
           },
           "baxis": {
            "gridcolor": "rgb(232,232,232)",
            "linecolor": "rgb(36,36,36)",
            "showgrid": false,
            "showline": true,
            "ticks": "outside"
           },
           "bgcolor": "white",
           "caxis": {
            "gridcolor": "rgb(232,232,232)",
            "linecolor": "rgb(36,36,36)",
            "showgrid": false,
            "showline": true,
            "ticks": "outside"
           }
          },
          "title": {
           "x": 0.05
          },
          "xaxis": {
           "automargin": true,
           "gridcolor": "rgb(232,232,232)",
           "linecolor": "rgb(36,36,36)",
           "showgrid": false,
           "showline": true,
           "ticks": "outside",
           "title": {
            "standoff": 15
           },
           "zeroline": false,
           "zerolinecolor": "rgb(36,36,36)"
          },
          "yaxis": {
           "automargin": true,
           "gridcolor": "rgb(232,232,232)",
           "linecolor": "rgb(36,36,36)",
           "showgrid": false,
           "showline": true,
           "ticks": "outside",
           "title": {
            "standoff": 15
           },
           "zeroline": false,
           "zerolinecolor": "rgb(36,36,36)"
          }
         }
        },
        "title": {
         "text": "<b>S-S model </b>, L=4, J2 =1, J1 =0.8 , η=0.01, α=16, samples=1200"
        },
        "xaxis": {
         "mirror": true,
         "showline": true,
         "title": {
          "text": "Iteration"
         }
        },
        "yaxis": {
         "mirror": true,
         "showline": true,
         "title": {
          "text": "Energy"
         }
        }
       }
      },
      "text/html": [
       "<div>                            <div id=\"cb1a7b32-3724-4242-b255-1c2e82333f72\" class=\"plotly-graph-div\" style=\"height:525px; width:100%;\"></div>            <script type=\"text/javascript\">                require([\"plotly\"], function(Plotly) {                    window.PLOTLYENV=window.PLOTLYENV || {};                                    if (document.getElementById(\"cb1a7b32-3724-4242-b255-1c2e82333f72\")) {                    Plotly.newPlot(                        \"cb1a7b32-3724-4242-b255-1c2e82333f72\",                        [{\"line\":{\"color\":\"#000000\",\"width\":1},\"mode\":\"lines\",\"name\":\"exact energy\",\"type\":\"scatter\",\"x\":[0,500],\"y\":[-10.800000000000008,-10.800000000000008]},{\"name\":\"normal basis\",\"type\":\"scatter\",\"x\":[0,1,2,3,4,5,6,7,8,9,10,11,12,13,14,15,16,17,18,19,20,21,22,23,24,25,26,27,28,29,30,31,32,33,34,35,36,37,38,39,40,41,42,43,44,45,46,47,48,49,50,51,52,53,54,55,56,57,58,59,60,61,62,63,64,65,66,67,68,69,70,71,72,73,74,75,76,77,78,79,80,81,82,83,84,85,86,87,88,89,90,91,92,93,94,95,96,97,98,99,100,101,102,103,104,105,106,107,108,109,110,111,112,113,114,115,116,117,118,119,120,121,122,123,124,125,126,127,128,129,130,131,132,133,134,135,136,137,138,139,140,141,142,143,144,145,146,147,148,149,150,151,152,153,154,155,156,157,158,159,160,161,162,163,164,165,166,167,168,169,170,171,172,173,174,175,176,177,178,179,180,181,182,183,184,185,186,187,188,189,190,191,192,193,194,195,196,197,198,199,200,201,202,203,204,205,206,207,208,209,210,211,212,213,214,215,216,217,218,219,220,221,222,223,224,225,226,227,228,229,230,231,232,233,234,235,236,237,238,239,240,241,242,243,244,245,246,247,248,249,250,251,252,253,254,255,256,257,258,259,260,261,262,263,264,265,266,267,268,269,270,271,272,273,274,275,276,277,278,279,280,281,282,283,284,285,286,287,288,289,290,291,292,293,294,295,296,297,298,299,300,301,302,303,304,305,306,307,308,309,310,311,312,313,314,315,316,317,318,319,320,321,322,323,324,325,326,327,328,329,330,331,332,333,334,335,336,337,338,339,340,341,342,343,344,345,346,347,348,349,350,351,352,353,354,355,356,357,358,359,360,361,362,363,364,365,366,367,368,369,370,371,372,373,374,375,376,377,378,379,380,381,382,383,384,385,386,387,388,389,390,391,392,393,394,395,396,397,398,399,400,401,402,403,404,405,406,407,408,409,410,411,412,413,414,415,416,417,418,419,420,421,422,423,424,425,426,427,428,429,430,431,432,433,434,435,436,437,438,439,440,441,442,443,444,445,446,447,448,449,450,451,452,453,454,455,456,457,458,459,460,461,462,463,464,465,466,467,468,469,470,471,472,473,474,475,476,477,478,479,480,481,482,483,484,485,486,487,488,489,490,491,492,493,494,495,496,497,498,499],\"y\":[8.40000273271383,8.399990243834855,8.40000469128954,8.39999022934531,8.399988640536913,8.399986651548799,8.399998825887112,8.39999921408351,8.400011075931644,8.399989313024374,8.399994058561134,8.400001198813642,8.39999482974516,8.399981240285827,8.40002282547476,8.39999839953951,8.399998799011097,8.400001617549124,8.40001453894396,8.400019823763332,8.399985417621593,8.400006900888897,8.400003661878785,8.400010995300521,8.399997965318105,8.399977135256698,8.40001146616326,8.400024206307952,8.399994660442209,8.400014416958424,8.400003715822507,8.399998352277777,8.40000745047504,8.400012440943248,8.400017866202477,8.400020824613362,8.399998752176984,8.399993320130708,8.40000042696902,8.39999371098998,8.399994115065695,8.399996207735498,8.399988164110423,8.400006355925807,8.399983896534744,8.399991931768243,8.39996889406527,8.400015802313916,8.399983326369545,8.400003005310873,8.399990130223342,8.400013327910981,8.399993118919797,8.399997417209146,8.400010390251582,8.400008241196602,8.399996532027815,8.40001522909938,8.400006539490933,8.400013092563308,8.400010057521364,8.399996502689989,8.399995181985775,8.399978470946445,8.399990321586197,8.400002217987991,8.399991592242236,8.400008887639409,8.400019150893637,8.400029464367567,8.400017452460387,8.399997765968537,8.400037303250084,8.400008112656158,8.399976538951266,8.399980561605119,8.400004080484965,8.400019957615545,8.399999098374842,8.400024574717413,8.400010039120675,8.400002291792653,8.400005955957793,8.400004587395355,8.399986242370288,8.400009657664997,8.400023023883866,8.400010625236355,8.400014814385898,8.400017166815296,8.400005589577178,8.399985559110377,8.399991603862695,8.400011246178689,8.400033325835002,8.399985904667183,8.400005188712564,8.400027853405591,8.400004734970738,8.400009952756765,8.39998862163189,8.399993826898552,8.399980956375165,8.399996188854946,8.400009566061263,8.399984205637624,8.400025916300205,8.400001930774744,8.39999277962409,8.400001940160001,8.399991301593907,8.399999523997321,8.400005355875427,8.400002445151335,8.400007335135392,8.399990220461124,8.39997399116415,8.400023141005292,8.400019735693192,8.400010379757008,8.400000004990195,8.40000149650986,8.400014410683502,8.399996523203706,8.39998055406212,8.399970519687129,8.400029034244335,8.399985971476742,8.400017080408453,8.39998693079025,8.400004045882099,8.400037930476579,8.399996464388233,8.400019322178787,8.400031608256093,8.399995412491782,8.400002058420812,8.4000051420247,8.400000007147632,8.399960862762223,8.39998606771724,8.39999328546189,8.400016060649786,8.400002080970259,8.400022342922197,8.400006257153903,8.399979141986673,8.399990075856934,8.400004725046362,8.400022585557164,8.400016323567248,8.39999473201929,8.399994198477785,8.400019059245015,8.400015390716815,8.399997883343952,8.399976567375955,8.400021358642054,8.400028888013763,8.399976427784617,8.399965063405874,8.400010250492702,8.400010811630413,8.400001633558016,8.39998591157583,8.399989687381055,8.39995965533926,8.400013669330477,8.40000055875955,8.40001481795247,8.400001112557087,8.400022606524574,8.400006647435127,8.400011655354222,8.400036147219472,8.399998337260808,8.40000113208315,8.399964725519133,8.40001966711566,8.39999044560674,8.399994374662684,8.400030545733017,8.399986401363368,8.39998467233348,8.40004270543037,8.400000011193374,8.400016017404191,8.400002305155526,8.39998450782188,8.400005192245871,8.399998856549074,8.399971696942094,8.400001168160292,8.399976805517689,8.39997735520093,8.399970340169414,8.40001576605128,8.400012290018859,8.399964275962924,8.399977118262845,8.399991188052109,8.399990583552803,8.400023059260118,8.400023703459777,8.40001543999725,8.400020231436603,8.400017904616423,8.399988652514772,8.400009606238859,8.400006022620826,8.400013265277613,8.399986122807737,8.400032068574497,8.40001092312341,8.399987862010796,8.399987236268487,8.399994519800956,8.399976776815977,8.400006131815053,8.400053974198162,8.399993865224273,8.400010477599192,8.400004948085344,8.399995686655705,8.399980195888807,8.400026725481847,8.399963262777277,8.40001435149951,8.40002500502754,8.399969336611402,8.400015701485062,8.399941503873805,8.400006951557438,8.400013916255391,8.399984180716016,8.400003811976907,8.399987317065388,8.400001290199153,8.3999923619772,8.399977004818593,8.399987839360712,8.399978208546758,8.399999373628173,8.400021250785867,8.399970337550798,8.399994846899691,8.40003949134118,8.399981200161644,8.400001314708998,8.400005227813008,8.400005889390414,8.399986927354789,8.400011153172494,8.400044667949306,8.40000791915312,8.39995908858353,8.400023170149968,8.399973499081305,8.400011301866758,8.400019315115,8.399993341372362,8.400004687130437,8.399972574860652,8.399998006869362,8.400025532582564,8.400035697095737,8.400012166482192,8.40003655002212,8.400037295555768,8.399984391214083,8.40000274263614,8.400000701937998,8.400007545146762,8.39999452522564,8.400035750598978,8.400015867289822,8.400042854805632,8.400042286947619,8.400024341502968,8.400009779464991,8.400025183545473,8.399995108013863,8.400002126917306,8.400024653147613,8.400030343546046,8.399984463294729,8.400011350079703,8.40000640956908,8.40001069552168,8.400029989169349,8.39998140815856,8.399964185200902,8.400022276978728,8.400002175285495,8.399999302556498,8.400041276649382,8.39999638849107,8.400026229512184,8.399983959206375,8.3999934316586,8.40000881507196,8.400002956617328,8.400005904359324,8.39993512111045,8.399988930957171,8.400003726658651,8.40000373296085,8.400015655293185,8.400006730793164,8.400008233299111,8.400031456654242,8.400024032314562,8.399984972873465,8.400027149702444,8.399985665344591,8.399958402493159,8.399999256795907,8.400017481289707,8.400006114782464,8.400012234151133,8.400014561215928,8.399983152036365,8.400021581838802,8.399998476645585,8.399995380058108,8.39999923822889,8.399997691970022,8.400027316323266,8.400026631748721,8.400007083507184,8.400012607513116,8.400001590513966,8.399976335300293,8.399978654953618,8.399993676863225,8.400031102185773,8.399985641509321,8.400020836402655,8.400001629783887,8.400019343358327,8.399996794003393,8.400022684253747,8.39996350283071,8.400019539790645,8.399985344964948,8.399950179023767,8.399992656206832,8.400002484618978,8.40000577182171,8.400007431505596,8.399991764131032,8.399965306963495,8.40001907362074,8.400005012785774,8.400032516759246,8.399998352707668,8.399989975445454,8.399927792195976,8.399932671819958,8.400005916087782,8.40000087319523,8.400001723033903,8.399994929068683,8.399980445863173,8.399920690746107,8.399954659772943,8.400004321922886,8.399985398504747,8.400047532450728,8.400019103755312,8.400020038683422,8.40000962925722,8.40002191165403,8.399965794205439,8.400001784626484,8.399975330970593,8.399953131779782,8.399971607454606,8.400040062889857,8.399985758470294,8.400042895143336,8.40004120779934,8.400049413385439,8.399989215437051,8.400014477516159,8.399975581730748,8.40001182226333,8.40001457862078,8.400036489384055,8.399969883838931,8.399993628767959,8.400014749050607,8.400041546832854,8.400032422418288,8.399995389471643,8.399950721218518,8.399944952427937,8.400054301639594,8.399962483743785,8.399975555878333,8.400044380497732,8.399998139604778,8.39996301929619,8.399986732475167,8.400012418390844,8.400013410637214,8.40005369434824,8.399975040240848,8.399984622700869,8.399994244783905,8.400047578906173,8.399954290364107,8.399980524996344,8.399973613738352,8.400002003264968,8.400012820804442,8.399999048956962,8.400035646532876,8.399979198168728,8.399982125145087,8.400020011361478,8.40000204891299,8.399985972752779,8.400007096870144,8.40003744808598,8.400001050579206,8.40001427162626,8.400041832497978,8.400007180663419,8.399975469418814,8.399975379806659,8.400027835260657,8.399994879272336,8.40000418794225,8.399979271304664,8.399960441566536,8.400004238181115,8.39999899822238,8.399998986086409,8.40000109777158,8.399988403295945,8.400002172589673,8.399914816933855,8.399956267417924,8.400015035701266,8.399991448070718,8.400032351701372,8.3999860183479,8.399981620724038,8.399980474254912,8.399983644893831,8.399997867957197,8.400050605994592,8.400052997852226,8.399977907645866,8.399960067268466,8.400012297103013,8.400000052734814,8.399991084768875,8.400005641202792,8.399969628171492,8.399930100379974,8.400047580080667,8.399976189568179,8.399998917791367,8.400004615956885,8.399990883607103,8.400002341610481,8.39995515301877,8.399996620052617,8.39995950808622,8.399970974723008,8.400003537875216,8.399991856325684,8.400008249049513,8.400041158813641,8.400004752817548,8.400020115761379,8.400023748217237,8.400001227670087,8.400000051273052,8.399951048805507,8.400008455933895,8.399915827281191,8.40009785551188,8.399969771047092,8.400015846494666,8.399993968931913,8.40000738929948,8.399998832656369,8.39997543175124,8.400008697600798,8.3999913964432,8.399997573818338,8.400041190220502,8.40002507818018,8.400051541560895,8.39998117158809,8.400001332153638,8.400016574589994]},{\"name\":\"MSR basis\",\"type\":\"scatter\",\"x\":[0,1,2,3,4,5,6,7,8,9,10,11,12,13,14,15,16,17,18,19,20,21,22,23,24,25,26,27,28,29,30,31,32,33,34,35,36,37,38,39,40,41,42,43,44,45,46,47,48,49,50,51,52,53,54,55,56,57,58,59,60,61,62,63,64,65,66,67,68,69,70,71,72,73,74,75,76,77,78,79,80,81,82,83,84,85,86,87,88,89,90,91,92,93,94,95,96,97,98,99,100,101,102,103,104,105,106,107,108,109,110,111,112,113,114,115,116,117,118,119,120,121,122,123,124,125,126,127,128,129,130,131,132,133,134,135,136,137,138,139,140,141,142,143,144,145,146,147,148,149,150,151,152,153,154,155,156,157,158,159,160,161,162,163,164,165,166,167,168,169,170,171,172,173,174,175,176,177,178,179,180,181,182,183,184,185,186,187,188,189,190,191,192,193,194,195,196,197,198,199,200,201,202,203,204,205,206,207,208,209,210,211,212,213,214,215,216,217,218,219,220,221,222,223,224,225,226,227,228,229,230,231,232,233,234,235,236,237,238,239,240,241,242,243,244,245,246,247,248,249,250,251,252,253,254,255,256,257,258,259,260,261,262,263,264,265,266,267,268,269,270,271,272,273,274,275,276,277,278,279,280,281,282,283,284,285,286,287,288,289,290,291,292,293,294,295,296,297,298,299,300,301,302,303,304,305,306,307,308,309,310,311,312,313,314,315,316,317,318,319,320,321,322,323,324,325,326,327,328,329,330,331,332,333,334,335,336,337,338,339,340,341,342,343,344,345,346,347,348,349,350,351,352,353,354,355,356,357,358,359,360,361,362,363,364,365,366,367,368,369,370,371,372,373,374,375,376,377,378,379,380,381,382,383,384,385,386,387,388,389,390,391,392,393,394,395,396,397,398,399,400,401,402,403,404,405,406,407,408,409,410,411,412,413,414,415,416,417,418,419,420,421,422,423,424,425,426,427,428,429,430,431,432,433,434,435,436,437,438,439,440,441,442,443,444,445,446,447,448,449,450,451,452,453,454,455,456,457,458,459,460,461,462,463,464,465,466,467,468,469,470,471,472,473,474,475,476,477,478,479,480,481,482,483,484,485,486,487,488,489,490,491,492,493,494,495,496,497,498,499],\"y\":[-4.143997725637719,-4.3894352855979735,-4.482281527546431,-5.071124386286437,-5.576669668856918,-6.3849441842582095,-7.018753197976976,-7.5305976947832765,-8.10646553034676,-8.043886321244486,-8.417967665697327,-8.822385728040375,-8.903488858936115,-9.026682084090018,-9.054146017083987,-9.341548570680944,-9.54307824319155,-9.521773991640252,-9.719178702043793,-9.818186455707595,-9.81831984805528,-10.109825181161163,-9.993821767255133,-10.176626431675347,-10.192534382368653,-10.28217875292033,-10.347569357757207,-10.29996355917268,-10.390995650881656,-10.495932790004394,-10.432719762522296,-10.59660341634066,-10.53496161508588,-10.604193049303857,-10.659671203624182,-10.692463732766152,-10.674947190058614,-10.686044704328689,-10.694803934245906,-10.68954159951363,-10.708957253466897,-10.681857319538809,-10.684279715277256,-10.733656153505473,-10.776222509585212,-10.761599535330271,-10.750042006222294,-10.74225973379915,-10.748795154282409,-10.77458490006895,-10.760153835982669,-10.765692350597037,-10.769148207608408,-10.769882478380223,-10.757525328440252,-10.744531905782997,-10.78565259408037,-10.781935035409612,-10.796323227099327,-10.768995974810363,-10.785507012767088,-10.78097954596579,-10.794267212468135,-10.77312779506487,-10.77164209060855,-10.794520357272033,-10.779533831789392,-10.781557590520409,-10.78461672296145,-10.794694874974311,-10.783687827809239,-10.793411862277484,-10.793285670202563,-10.78888086588122,-10.790195834902347,-10.794093560555734,-10.799906978158452,-10.794906512641811,-10.779782248433783,-10.795411017302504,-10.789115545495953,-10.789825965138775,-10.799713115752551,-10.794978508299979,-10.795291269747235,-10.795641909120405,-10.800288626754929,-10.794711922951887,-10.799559962912015,-10.788820845727153,-10.798572925462405,-10.79401285031638,-10.793738863524903,-10.793496036801338,-10.799146775645854,-10.794490828308632,-10.7995381227827,-10.79400893796943,-10.794075614486617,-10.800572373826757,-10.80048937166193,-10.79998814740149,-10.799939337688917,-10.800098499776912,-10.799964966278115,-10.794390751615497,-10.799364521204977,-10.8000130296729,-10.794709261914337,-10.794358380944066,-10.799555441858656,-10.794413564908856,-10.800573490290706,-10.79523419498756,-10.78974788630749,-10.794833252439215,-10.799945547302688,-10.789527153974552,-10.800350369580444,-10.795116906710215,-10.795233488956665,-10.789795211502291,-10.800244006235326,-10.800123492752844,-10.800103997939017,-10.79476016349878,-10.784030418722324,-10.794655561716622,-10.789396804320395,-10.789442257259514,-10.800117941678728,-10.799755498184677,-10.800118988064403,-10.800200685396526,-10.794773711150198,-10.800075212601664,-10.80010230482111,-10.800049318306787,-10.800039938406888,-10.794747082274526,-10.800165645728118,-10.800114231948482,-10.789350445404118,-10.799657055084785,-10.799873528770398,-10.799820636193205,-10.79991689673226,-10.794592814194548,-10.794307625382508,-10.799245218352562,-10.799571028752107,-10.799652156284061,-10.799717942753283,-10.79464229618463,-10.800210338443947,-10.80027249092017,-10.794768541032564,-10.800065838603038,-10.799973370648125,-10.799978426596029,-10.79998252303861,-10.7999858419185,-10.800013770846249,-10.794685004721952,-10.800039470558433,-10.800031964034181,-10.800025885363484,-10.800020962857644,-10.800032593218495,-10.794681330383423,-10.794701259955989,-10.800052503765992,-10.794655060450726,-10.800038853533255,-10.794694286374488,-10.800068378714455,-10.800055372284616,-10.800304838450455,-10.80022726591599,-10.794746832411347,-10.800103158762473,-10.800119616539806,-10.800069804072244,-10.800120494345606,-10.794764002744024,-10.800094740183537,-10.80007671488349,-10.794723298804367,-10.800068515809418,-10.800022194562446,-10.794657443265494,-10.799977179118024,-10.799870531517238,-10.799940013603585,-10.79995673829804,-10.799990155189223,-10.799992025021234,-10.800012923791535,-10.800010466312822,-10.794662316297943,-10.794561892042319,-10.799842797403214,-10.799872609601723,-10.799896769018611,-10.799916347199567,-10.799932212668695,-10.799945069359401,-10.799988874422619,-10.80001803159209,-10.800014602757622,-10.800011825994567,-10.800009577277885,-10.800019389845462,-10.800005652648734,-10.794664055854213,-10.799982683170303,-10.79994387085095,-10.799988631729718,-10.794656474957637,-10.79992446678755,-10.799926260743343,-10.799940246188983,-10.79991865062214,-10.799960740698204,-10.79996818695483,-10.79464277815513,-10.79997527955948,-10.799979973261792,-10.799886390831208,-10.799881557511256,-10.79989320677697,-10.799966010586168,-10.799992974879503,-10.794654221855524,-10.799914512430433,-10.799982687460489,-10.79998597512711,-10.794657729800853,-10.800047735823146,-10.794666161321821,-10.794642391383427,-10.800076982354197,-10.800062338698119,-10.80010498331178,-10.794705363986406,-10.799972008465014,-10.799977322887884,-10.794657363031552,-10.800098769659845,-10.799976495215217,-10.799980958212938,-10.799989512442883,-10.79465383731004,-10.79990062736021,-10.799919473873139,-10.799934746395278,-10.799947122568456,-10.799957151591686,-10.799965278552746,-10.799971864155275,-10.799975832701943,-10.799967667256654,-10.799985018964549,-10.799987860478279,-10.799990163038387,-10.799992028866237,-10.79999354079615,-10.799994765951984,-10.799998939704148,-10.794665784886744,-10.794638512662445,-10.799887180688907,-10.799908577084864,-10.799870346237206,-10.799894869058107,-10.799914753782835,-10.799930877574035,-10.799943951724279,-10.799954553014963,-10.79464799593277,-10.799977215844185,-10.799981542076837,-10.799985047167675,-10.794660046590668,-10.799976312532833,-10.799980810199802,-10.799984454215236,-10.799987406482533,-10.799992655509845,-10.800016533355489,-10.800013389449058,-10.800010843418999,-10.794672696826026,-10.79465159950069,-10.799973290019038,-10.80002945818195,-10.800035078355396,-10.80002840731219,-10.800023005143402,-10.80001863043041,-10.80000875151005,-10.799989493259059,-10.799980204918862,-10.79998395950989,-10.799987001970285,-10.79998946736465,-10.79999146514254,-10.79998270986968,-10.79998444513011,-10.799985168423738,-10.799987908708431,-10.799990142698078,-10.79999196393562,-10.79999344868105,-10.799994659104645,-10.799995645890107,-10.799996450356863,-10.799997106190101,-10.799997640851414,-10.799998076728523,-10.799998432072838,-10.799998721763615,-10.799998957931045,-10.799999150464085,-10.799999307424658,-10.799999435385136,-10.79999964592585,-10.799999712510377,-10.799999836601476,-10.799999867508198,-10.799999892568955,-10.799999912889461,-10.79999992936636,-10.799999942726684,-10.79999995382527,-10.799999976330799,-10.794666634640304,-10.799720791645484,-10.799773295274152,-10.799815926214555,-10.799850540794639,-10.799878646342362,-10.799901466786396,-10.799919995930425,-10.79993504071589,-10.799935652587791,-10.79994419586609,-10.799954506216098,-10.799962911636158,-10.799969764077106,-10.7999810388412,-10.799984604524639,-10.799987499675778,-10.799989850388757,-10.799991759045755,-10.799993308776008,-10.794662870866299,-10.79981122825825,-10.799846931955935,-10.799885103862731,-10.799942501408484,-10.79995340684337,-10.799958090601619,-10.799969402943276,-10.799975206301497,-10.799993169492685,-10.799995931586128,-10.79467317085249,-10.799986449961771,-10.799989023328639,-10.799991108085097,-10.799988474314866,-10.79995914804462,-10.799966875055683,-10.79997314054533,-10.799978220946457,-10.79998234040926,-10.79998568068905,-10.79999336526806,-10.79999462371677,-10.799995643469629,-10.799996469800668,-10.79999713939686,-10.799997681986762,-10.799998121660263,-10.799998477938052,-10.799998125288852,-10.799998250301647,-10.799999156861018,-10.799999835762037,-10.799999866962198,-10.799999892235295,-10.799999912707305,-10.799999717160624,-10.799999770808846,-10.800000070573219,-10.800000075205332,-10.800000060905974,-10.800000049325469,-10.800000039946848,-10.800000032351457,-10.800000026200227,-10.800000021218588,-10.80000001718414,-10.800000013916796,-10.80000001127069,-10.800000009127709,-10.800000007392189,-10.799999997006669,-10.799999997575318,-10.799999998035931,-10.799999998409051,-10.799999998711286,-10.799999998956093,-10.799999996617627,-10.794666663934986,-10.799925127064492,-10.79993932749892,-10.799950834867674,-10.799960159834807,-10.799967716254336,-10.79997383951524,-10.799978801412966,-10.799982822204035,-10.799986080376861,-10.799988720570868,-10.799990859994816,-10.799992593628295,-10.799998499654322,-10.80000048618882,-10.80000196878484,-10.79467037637685,-10.80004621501472,-10.800037423349636,-10.800030304219584,-10.800024539418567,-10.800019871287814,-10.800016091192445,-10.800013030192284,-10.800010551488477,-10.794675165405138,-10.800048358821593,-10.800062653918767,-10.794725855604227,-10.79478007559343,-10.80013732205446,-10.800111199089343,-10.800090045661848,-10.794733573028761,-10.800050159838605,-10.800040617698073,-10.794660966934316,-10.799981029740119,-10.799984632081696,-10.799987550580651,-10.799959651765981,-10.799988230776037,-10.799993379466239,-10.799994636993198,-10.799995655688063,-10.799996480901036,-10.799997149374322,-10.79999076307265,-10.799992515089222,-10.79999393479457,-10.799995085218335,-10.799996017435612,-10.799999193221588,-10.799999346482556,-10.799999470629446,-10.799999571192766,-10.799999652652476,-10.79999971863754,-10.799999772087606,-10.79999981538389,-10.794666513134029,-10.799986125434808,-10.799988760415916,-10.799990895094092,-10.799992624421018,-10.79999402534165,-10.79999516020419,-10.80000784217783,-10.800006351020008,-10.800005143409978,-10.80000416542681,-10.800003373404676,-10.800002731982035,-10.794664026461913,-10.799933629394673,-10.799946217397029,-10.79995641808304,-10.799991172597922,-10.800014305637745,-10.800011585379426,-10.800009382420278,-10.800007598376105,-10.800012799170153,-10.800012457456749,-10.800010087704923]},{\"line\":{\"color\":\"#000000\",\"width\":1},\"mode\":\"lines\",\"name\":\"exact energy\",\"type\":\"scatter\",\"x\":[0,1000],\"y\":[-10.800000000000008,-10.800000000000008]}],                        {\"template\":{\"data\":{\"bar\":[{\"error_x\":{\"color\":\"rgb(36,36,36)\"},\"error_y\":{\"color\":\"rgb(36,36,36)\"},\"marker\":{\"line\":{\"color\":\"white\",\"width\":0.5},\"pattern\":{\"fillmode\":\"overlay\",\"size\":10,\"solidity\":0.2}},\"type\":\"bar\"}],\"barpolar\":[{\"marker\":{\"line\":{\"color\":\"white\",\"width\":0.5},\"pattern\":{\"fillmode\":\"overlay\",\"size\":10,\"solidity\":0.2}},\"type\":\"barpolar\"}],\"carpet\":[{\"aaxis\":{\"endlinecolor\":\"rgb(36,36,36)\",\"gridcolor\":\"white\",\"linecolor\":\"white\",\"minorgridcolor\":\"white\",\"startlinecolor\":\"rgb(36,36,36)\"},\"baxis\":{\"endlinecolor\":\"rgb(36,36,36)\",\"gridcolor\":\"white\",\"linecolor\":\"white\",\"minorgridcolor\":\"white\",\"startlinecolor\":\"rgb(36,36,36)\"},\"type\":\"carpet\"}],\"choropleth\":[{\"colorbar\":{\"outlinewidth\":1,\"tickcolor\":\"rgb(36,36,36)\",\"ticks\":\"outside\"},\"type\":\"choropleth\"}],\"contour\":[{\"colorbar\":{\"outlinewidth\":1,\"tickcolor\":\"rgb(36,36,36)\",\"ticks\":\"outside\"},\"colorscale\":[[0.0,\"#440154\"],[0.1111111111111111,\"#482878\"],[0.2222222222222222,\"#3e4989\"],[0.3333333333333333,\"#31688e\"],[0.4444444444444444,\"#26828e\"],[0.5555555555555556,\"#1f9e89\"],[0.6666666666666666,\"#35b779\"],[0.7777777777777778,\"#6ece58\"],[0.8888888888888888,\"#b5de2b\"],[1.0,\"#fde725\"]],\"type\":\"contour\"}],\"contourcarpet\":[{\"colorbar\":{\"outlinewidth\":1,\"tickcolor\":\"rgb(36,36,36)\",\"ticks\":\"outside\"},\"type\":\"contourcarpet\"}],\"heatmap\":[{\"colorbar\":{\"outlinewidth\":1,\"tickcolor\":\"rgb(36,36,36)\",\"ticks\":\"outside\"},\"colorscale\":[[0.0,\"#440154\"],[0.1111111111111111,\"#482878\"],[0.2222222222222222,\"#3e4989\"],[0.3333333333333333,\"#31688e\"],[0.4444444444444444,\"#26828e\"],[0.5555555555555556,\"#1f9e89\"],[0.6666666666666666,\"#35b779\"],[0.7777777777777778,\"#6ece58\"],[0.8888888888888888,\"#b5de2b\"],[1.0,\"#fde725\"]],\"type\":\"heatmap\"}],\"heatmapgl\":[{\"colorbar\":{\"outlinewidth\":1,\"tickcolor\":\"rgb(36,36,36)\",\"ticks\":\"outside\"},\"colorscale\":[[0.0,\"#440154\"],[0.1111111111111111,\"#482878\"],[0.2222222222222222,\"#3e4989\"],[0.3333333333333333,\"#31688e\"],[0.4444444444444444,\"#26828e\"],[0.5555555555555556,\"#1f9e89\"],[0.6666666666666666,\"#35b779\"],[0.7777777777777778,\"#6ece58\"],[0.8888888888888888,\"#b5de2b\"],[1.0,\"#fde725\"]],\"type\":\"heatmapgl\"}],\"histogram\":[{\"marker\":{\"line\":{\"color\":\"white\",\"width\":0.6}},\"type\":\"histogram\"}],\"histogram2d\":[{\"colorbar\":{\"outlinewidth\":1,\"tickcolor\":\"rgb(36,36,36)\",\"ticks\":\"outside\"},\"colorscale\":[[0.0,\"#440154\"],[0.1111111111111111,\"#482878\"],[0.2222222222222222,\"#3e4989\"],[0.3333333333333333,\"#31688e\"],[0.4444444444444444,\"#26828e\"],[0.5555555555555556,\"#1f9e89\"],[0.6666666666666666,\"#35b779\"],[0.7777777777777778,\"#6ece58\"],[0.8888888888888888,\"#b5de2b\"],[1.0,\"#fde725\"]],\"type\":\"histogram2d\"}],\"histogram2dcontour\":[{\"colorbar\":{\"outlinewidth\":1,\"tickcolor\":\"rgb(36,36,36)\",\"ticks\":\"outside\"},\"colorscale\":[[0.0,\"#440154\"],[0.1111111111111111,\"#482878\"],[0.2222222222222222,\"#3e4989\"],[0.3333333333333333,\"#31688e\"],[0.4444444444444444,\"#26828e\"],[0.5555555555555556,\"#1f9e89\"],[0.6666666666666666,\"#35b779\"],[0.7777777777777778,\"#6ece58\"],[0.8888888888888888,\"#b5de2b\"],[1.0,\"#fde725\"]],\"type\":\"histogram2dcontour\"}],\"mesh3d\":[{\"colorbar\":{\"outlinewidth\":1,\"tickcolor\":\"rgb(36,36,36)\",\"ticks\":\"outside\"},\"type\":\"mesh3d\"}],\"parcoords\":[{\"line\":{\"colorbar\":{\"outlinewidth\":1,\"tickcolor\":\"rgb(36,36,36)\",\"ticks\":\"outside\"}},\"type\":\"parcoords\"}],\"pie\":[{\"automargin\":true,\"type\":\"pie\"}],\"scatter\":[{\"marker\":{\"colorbar\":{\"outlinewidth\":1,\"tickcolor\":\"rgb(36,36,36)\",\"ticks\":\"outside\"}},\"type\":\"scatter\"}],\"scatter3d\":[{\"line\":{\"colorbar\":{\"outlinewidth\":1,\"tickcolor\":\"rgb(36,36,36)\",\"ticks\":\"outside\"}},\"marker\":{\"colorbar\":{\"outlinewidth\":1,\"tickcolor\":\"rgb(36,36,36)\",\"ticks\":\"outside\"}},\"type\":\"scatter3d\"}],\"scattercarpet\":[{\"marker\":{\"colorbar\":{\"outlinewidth\":1,\"tickcolor\":\"rgb(36,36,36)\",\"ticks\":\"outside\"}},\"type\":\"scattercarpet\"}],\"scattergeo\":[{\"marker\":{\"colorbar\":{\"outlinewidth\":1,\"tickcolor\":\"rgb(36,36,36)\",\"ticks\":\"outside\"}},\"type\":\"scattergeo\"}],\"scattergl\":[{\"marker\":{\"colorbar\":{\"outlinewidth\":1,\"tickcolor\":\"rgb(36,36,36)\",\"ticks\":\"outside\"}},\"type\":\"scattergl\"}],\"scattermapbox\":[{\"marker\":{\"colorbar\":{\"outlinewidth\":1,\"tickcolor\":\"rgb(36,36,36)\",\"ticks\":\"outside\"}},\"type\":\"scattermapbox\"}],\"scatterpolar\":[{\"marker\":{\"colorbar\":{\"outlinewidth\":1,\"tickcolor\":\"rgb(36,36,36)\",\"ticks\":\"outside\"}},\"type\":\"scatterpolar\"}],\"scatterpolargl\":[{\"marker\":{\"colorbar\":{\"outlinewidth\":1,\"tickcolor\":\"rgb(36,36,36)\",\"ticks\":\"outside\"}},\"type\":\"scatterpolargl\"}],\"scatterternary\":[{\"marker\":{\"colorbar\":{\"outlinewidth\":1,\"tickcolor\":\"rgb(36,36,36)\",\"ticks\":\"outside\"}},\"type\":\"scatterternary\"}],\"surface\":[{\"colorbar\":{\"outlinewidth\":1,\"tickcolor\":\"rgb(36,36,36)\",\"ticks\":\"outside\"},\"colorscale\":[[0.0,\"#440154\"],[0.1111111111111111,\"#482878\"],[0.2222222222222222,\"#3e4989\"],[0.3333333333333333,\"#31688e\"],[0.4444444444444444,\"#26828e\"],[0.5555555555555556,\"#1f9e89\"],[0.6666666666666666,\"#35b779\"],[0.7777777777777778,\"#6ece58\"],[0.8888888888888888,\"#b5de2b\"],[1.0,\"#fde725\"]],\"type\":\"surface\"}],\"table\":[{\"cells\":{\"fill\":{\"color\":\"rgb(237,237,237)\"},\"line\":{\"color\":\"white\"}},\"header\":{\"fill\":{\"color\":\"rgb(217,217,217)\"},\"line\":{\"color\":\"white\"}},\"type\":\"table\"}]},\"layout\":{\"annotationdefaults\":{\"arrowhead\":0,\"arrowwidth\":1},\"autotypenumbers\":\"strict\",\"coloraxis\":{\"colorbar\":{\"outlinewidth\":1,\"tickcolor\":\"rgb(36,36,36)\",\"ticks\":\"outside\"}},\"colorscale\":{\"diverging\":[[0.0,\"rgb(103,0,31)\"],[0.1,\"rgb(178,24,43)\"],[0.2,\"rgb(214,96,77)\"],[0.3,\"rgb(244,165,130)\"],[0.4,\"rgb(253,219,199)\"],[0.5,\"rgb(247,247,247)\"],[0.6,\"rgb(209,229,240)\"],[0.7,\"rgb(146,197,222)\"],[0.8,\"rgb(67,147,195)\"],[0.9,\"rgb(33,102,172)\"],[1.0,\"rgb(5,48,97)\"]],\"sequential\":[[0.0,\"#440154\"],[0.1111111111111111,\"#482878\"],[0.2222222222222222,\"#3e4989\"],[0.3333333333333333,\"#31688e\"],[0.4444444444444444,\"#26828e\"],[0.5555555555555556,\"#1f9e89\"],[0.6666666666666666,\"#35b779\"],[0.7777777777777778,\"#6ece58\"],[0.8888888888888888,\"#b5de2b\"],[1.0,\"#fde725\"]],\"sequentialminus\":[[0.0,\"#440154\"],[0.1111111111111111,\"#482878\"],[0.2222222222222222,\"#3e4989\"],[0.3333333333333333,\"#31688e\"],[0.4444444444444444,\"#26828e\"],[0.5555555555555556,\"#1f9e89\"],[0.6666666666666666,\"#35b779\"],[0.7777777777777778,\"#6ece58\"],[0.8888888888888888,\"#b5de2b\"],[1.0,\"#fde725\"]]},\"colorway\":[\"#1F77B4\",\"#FF7F0E\",\"#2CA02C\",\"#D62728\",\"#9467BD\",\"#8C564B\",\"#E377C2\",\"#7F7F7F\",\"#BCBD22\",\"#17BECF\"],\"font\":{\"color\":\"rgb(36,36,36)\"},\"geo\":{\"bgcolor\":\"white\",\"lakecolor\":\"white\",\"landcolor\":\"white\",\"showlakes\":true,\"showland\":true,\"subunitcolor\":\"white\"},\"hoverlabel\":{\"align\":\"left\"},\"hovermode\":\"closest\",\"mapbox\":{\"style\":\"light\"},\"paper_bgcolor\":\"white\",\"plot_bgcolor\":\"white\",\"polar\":{\"angularaxis\":{\"gridcolor\":\"rgb(232,232,232)\",\"linecolor\":\"rgb(36,36,36)\",\"showgrid\":false,\"showline\":true,\"ticks\":\"outside\"},\"bgcolor\":\"white\",\"radialaxis\":{\"gridcolor\":\"rgb(232,232,232)\",\"linecolor\":\"rgb(36,36,36)\",\"showgrid\":false,\"showline\":true,\"ticks\":\"outside\"}},\"scene\":{\"xaxis\":{\"backgroundcolor\":\"white\",\"gridcolor\":\"rgb(232,232,232)\",\"gridwidth\":2,\"linecolor\":\"rgb(36,36,36)\",\"showbackground\":true,\"showgrid\":false,\"showline\":true,\"ticks\":\"outside\",\"zeroline\":false,\"zerolinecolor\":\"rgb(36,36,36)\"},\"yaxis\":{\"backgroundcolor\":\"white\",\"gridcolor\":\"rgb(232,232,232)\",\"gridwidth\":2,\"linecolor\":\"rgb(36,36,36)\",\"showbackground\":true,\"showgrid\":false,\"showline\":true,\"ticks\":\"outside\",\"zeroline\":false,\"zerolinecolor\":\"rgb(36,36,36)\"},\"zaxis\":{\"backgroundcolor\":\"white\",\"gridcolor\":\"rgb(232,232,232)\",\"gridwidth\":2,\"linecolor\":\"rgb(36,36,36)\",\"showbackground\":true,\"showgrid\":false,\"showline\":true,\"ticks\":\"outside\",\"zeroline\":false,\"zerolinecolor\":\"rgb(36,36,36)\"}},\"shapedefaults\":{\"fillcolor\":\"black\",\"line\":{\"width\":0},\"opacity\":0.3},\"ternary\":{\"aaxis\":{\"gridcolor\":\"rgb(232,232,232)\",\"linecolor\":\"rgb(36,36,36)\",\"showgrid\":false,\"showline\":true,\"ticks\":\"outside\"},\"baxis\":{\"gridcolor\":\"rgb(232,232,232)\",\"linecolor\":\"rgb(36,36,36)\",\"showgrid\":false,\"showline\":true,\"ticks\":\"outside\"},\"bgcolor\":\"white\",\"caxis\":{\"gridcolor\":\"rgb(232,232,232)\",\"linecolor\":\"rgb(36,36,36)\",\"showgrid\":false,\"showline\":true,\"ticks\":\"outside\"}},\"title\":{\"x\":0.05},\"xaxis\":{\"automargin\":true,\"gridcolor\":\"rgb(232,232,232)\",\"linecolor\":\"rgb(36,36,36)\",\"showgrid\":false,\"showline\":true,\"ticks\":\"outside\",\"title\":{\"standoff\":15},\"zeroline\":false,\"zerolinecolor\":\"rgb(36,36,36)\"},\"yaxis\":{\"automargin\":true,\"gridcolor\":\"rgb(232,232,232)\",\"linecolor\":\"rgb(36,36,36)\",\"showgrid\":false,\"showline\":true,\"ticks\":\"outside\",\"title\":{\"standoff\":15},\"zeroline\":false,\"zerolinecolor\":\"rgb(36,36,36)\"}}},\"title\":{\"text\":\"<b>S-S model </b>, L=4, J2 =1, J1 =0.8 , η=0.01, α=16, samples=1200\"},\"xaxis\":{\"mirror\":true,\"showline\":true,\"title\":{\"text\":\"Iteration\"}},\"yaxis\":{\"mirror\":true,\"showline\":true,\"title\":{\"text\":\"Energy\"}}},                        {\"responsive\": true}                    ).then(function(){\n",
       "                            \n",
       "var gd = document.getElementById('cb1a7b32-3724-4242-b255-1c2e82333f72');\n",
       "var x = new MutationObserver(function (mutations, observer) {{\n",
       "        var display = window.getComputedStyle(gd).display;\n",
       "        if (!display || display === 'none') {{\n",
       "            console.log([gd, 'removed!']);\n",
       "            Plotly.purge(gd);\n",
       "            observer.disconnect();\n",
       "        }}\n",
       "}});\n",
       "\n",
       "// Listen for the removal of the full notebook cells\n",
       "var notebookContainer = gd.closest('#notebook-container');\n",
       "if (notebookContainer) {{\n",
       "    x.observe(notebookContainer, {childList: true});\n",
       "}}\n",
       "\n",
       "// Listen for the clearing of the current output cell\n",
       "var outputEl = gd.closest('.output');\n",
       "if (outputEl) {{\n",
       "    x.observe(outputEl, {childList: true});\n",
       "}}\n",
       "\n",
       "                        })                };                });            </script>        </div>"
      ]
     },
     "metadata": {},
     "output_type": "display_data"
    }
   ],
   "source": [
    "figure.add_trace(go.Scatter(x=(0,2*NUM_ITER),y=(exact_ground_energy,exact_ground_energy),mode=\"lines\",line=go.scatter.Line(color=\"#000000\",width=1), name=\"exact energy\"))\n",
    "figure.update_layout(xaxis_title=\"Iteration\",yaxis_title=\"Energy\")\n",
    "figure.show()"
   ]
  },
  {
   "cell_type": "code",
   "execution_count": 82,
   "metadata": {},
   "outputs": [
    {
     "name": "stdout",
     "output_type": "stream",
     "text": [
      "0.8   1   -10.800000000000008   8.400016574589994   -10.800010087704923\n",
      "\n"
     ]
    }
   ],
   "source": [
    "sep=\"   \"\n",
    "print(str(JEXCH1)+sep+str(JEXCH2)+sep+str(exact_ground_energy)+sep+str(energy_convergence[0][NUM_ITER-1])+sep+str(energy_convergence[1][NUM_ITER-1])+\"\\n\")\n"
   ]
  },
  {
   "cell_type": "markdown",
   "metadata": {},
   "source": [
    "## Saving to file"
   ]
  },
  {
   "cell_type": "code",
   "execution_count": 83,
   "metadata": {},
   "outputs": [
    {
     "ename": "NameError",
     "evalue": "name 'N' is not defined",
     "output_type": "error",
     "traceback": [
      "\u001b[0;31m---------------------------------------------------------------------------\u001b[0m",
      "\u001b[0;31mNameError\u001b[0m                                 Traceback (most recent call last)",
      "\u001b[0;32m/tmp/ipykernel_14513/3347116314.py\u001b[0m in \u001b[0;36m<module>\u001b[0;34m\u001b[0m\n\u001b[0;32m----> 1\u001b[0;31m \u001b[0moutFile\u001b[0m \u001b[0;34m=\u001b[0m \u001b[0mopen\u001b[0m\u001b[0;34m(\u001b[0m\u001b[0;34m\"energies_complexRBM_N=\"\u001b[0m\u001b[0;34m+\u001b[0m\u001b[0mstr\u001b[0m\u001b[0;34m(\u001b[0m\u001b[0mN\u001b[0m\u001b[0;34m)\u001b[0m\u001b[0;34m+\u001b[0m\u001b[0;34m\".txt\"\u001b[0m\u001b[0;34m,\u001b[0m\u001b[0;34m\"a\"\u001b[0m\u001b[0;34m)\u001b[0m\u001b[0;34m\u001b[0m\u001b[0;34m\u001b[0m\u001b[0m\n\u001b[0m\u001b[1;32m      2\u001b[0m \u001b[0msep\u001b[0m\u001b[0;34m=\u001b[0m\u001b[0;34m\"   \"\u001b[0m\u001b[0;34m\u001b[0m\u001b[0;34m\u001b[0m\u001b[0m\n\u001b[1;32m      3\u001b[0m \u001b[0moutFile\u001b[0m\u001b[0;34m.\u001b[0m\u001b[0mwrite\u001b[0m\u001b[0;34m(\u001b[0m\u001b[0mstr\u001b[0m\u001b[0;34m(\u001b[0m\u001b[0mJEXCH1\u001b[0m\u001b[0;34m)\u001b[0m\u001b[0;34m+\u001b[0m\u001b[0msep\u001b[0m\u001b[0;34m+\u001b[0m\u001b[0mstr\u001b[0m\u001b[0;34m(\u001b[0m\u001b[0mJEXCH2\u001b[0m\u001b[0;34m)\u001b[0m\u001b[0;34m+\u001b[0m\u001b[0msep\u001b[0m\u001b[0;34m+\u001b[0m\u001b[0mstr\u001b[0m\u001b[0;34m(\u001b[0m\u001b[0mexact_ground_energy\u001b[0m\u001b[0;34m)\u001b[0m\u001b[0;34m+\u001b[0m\u001b[0msep\u001b[0m\u001b[0;34m+\u001b[0m\u001b[0mstr\u001b[0m\u001b[0;34m(\u001b[0m\u001b[0menergy_convergence\u001b[0m\u001b[0;34m[\u001b[0m\u001b[0;36m0\u001b[0m\u001b[0;34m]\u001b[0m\u001b[0;34m[\u001b[0m\u001b[0mNUM_ITER\u001b[0m\u001b[0;34m-\u001b[0m\u001b[0;36m1\u001b[0m\u001b[0;34m]\u001b[0m\u001b[0;34m)\u001b[0m\u001b[0;34m+\u001b[0m\u001b[0msep\u001b[0m\u001b[0;34m+\u001b[0m\u001b[0mstr\u001b[0m\u001b[0;34m(\u001b[0m\u001b[0menergy_convergence\u001b[0m\u001b[0;34m[\u001b[0m\u001b[0;36m1\u001b[0m\u001b[0;34m]\u001b[0m\u001b[0;34m[\u001b[0m\u001b[0mNUM_ITER\u001b[0m\u001b[0;34m-\u001b[0m\u001b[0;36m1\u001b[0m\u001b[0;34m]\u001b[0m\u001b[0;34m)\u001b[0m\u001b[0;34m+\u001b[0m\u001b[0;34m\"\\n\"\u001b[0m\u001b[0;34m)\u001b[0m\u001b[0;34m\u001b[0m\u001b[0;34m\u001b[0m\u001b[0m\n\u001b[1;32m      4\u001b[0m \u001b[0moutFile\u001b[0m\u001b[0;34m.\u001b[0m\u001b[0mclose\u001b[0m\u001b[0;34m(\u001b[0m\u001b[0;34m)\u001b[0m\u001b[0;34m\u001b[0m\u001b[0;34m\u001b[0m\u001b[0m\n",
      "\u001b[0;31mNameError\u001b[0m: name 'N' is not defined"
     ]
    }
   ],
   "source": [
    "outFile = open(\"energies_complexRBM_N=\"+str(N)+\".txt\",\"a\")\n",
    "sep=\"   \"\n",
    "outFile.write(str(JEXCH1)+sep+str(JEXCH2)+sep+str(exact_ground_energy)+sep+str(energy_convergence[0][NUM_ITER-1])+sep+str(energy_convergence[1][NUM_ITER-1])+\"\\n\")\n",
    "outFile.close()"
   ]
  },
  {
   "cell_type": "markdown",
   "metadata": {},
   "source": [
    "## Feature filters"
   ]
  },
  {
   "cell_type": "code",
   "execution_count": null,
   "metadata": {},
   "outputs": [],
   "source": [
    "# get filters for Symmetric Hamiltonian\n",
    "Filters = vs_MSR.parameters[\"Dense\"][\"kernel\"]"
   ]
  },
  {
   "cell_type": "code",
   "execution_count": null,
   "metadata": {},
   "outputs": [
    {
     "name": "stdout",
     "output_type": "stream",
     "text": [
      "4.0\n",
      "(64, 16)\n"
     ]
    }
   ],
   "source": [
    "print(len(Filters)/g.n_nodes)\n",
    "print(Filters.shape)"
   ]
  },
  {
   "cell_type": "code",
   "execution_count": null,
   "metadata": {},
   "outputs": [
    {
     "name": "stdout",
     "output_type": "stream",
     "text": [
      "max: (0.2601292517068041+0.2999930545587486j)    min: (-0.19629811245239198-0.18025909310913765j)     number of filters: 64\n"
     ]
    }
   ],
   "source": [
    "#calculation of extreme points for normalization\n",
    "no_of_filters = Filters.shape[0]\n",
    "maximal = max([max(Filters[i]) for i in range(no_of_filters)])\n",
    "minimal = min([min(Filters[i]) for i in range(no_of_filters)])\n",
    "print(\"max:\",maximal,\"   min:\",minimal, \"    number of filters:\",no_of_filters)\n",
    "extreme = max(abs(maximal),abs(minimal))"
   ]
  },
  {
   "cell_type": "code",
   "execution_count": null,
   "metadata": {},
   "outputs": [
    {
     "name": "stdout",
     "output_type": "stream",
     "text": [
      "64\n"
     ]
    }
   ],
   "source": [
    "print(no_of_filters)"
   ]
  },
  {
   "cell_type": "code",
   "execution_count": null,
   "metadata": {},
   "outputs": [
    {
     "data": {
      "image/png": "[encoded data removed]",
      "text/plain": [
       "<Figure size 864x9216 with 65 Axes>"
      ]
     },
     "metadata": {
      "needs_background": "light"
     },
     "output_type": "display_data"
    }
   ],
   "source": [
    "L_NUM = 4\n",
    "fig, axs = plt.subplots(1, no_of_filters, figsize=(12,2*no_of_filters))\n",
    "#fig.tight_layout(pad=.0)\n",
    "fig.subplots_adjust(top=1.9,bottom=0,wspace=.4)\n",
    "fig.suptitle(\"real value of filters of RBM with (all possible) symmetries without MSR\", fontsize=20)\n",
    "for a in range(no_of_filters):\n",
    "    im = axs[a].imshow(np.real(Filters[a]).reshape(L_NUM,L_NUM), cmap=\"RdYlBu\", vmin=-extreme,vmax=extreme)#,interpolation=\"spline16\")\n",
    "    axs[a].set_ylabel(r\"$W^{(\"+str(a+1)+r\")}$\", rotation=None,fontsize=\"x-large\",horizontalalignment=\"right\",verticalalignment=\"center\")\n",
    "    axs[a].tick_params(left=False, right=False, labelleft=False, labelbottom=False, bottom=False)\n",
    "\n",
    "# Now adding the colorbar\n",
    "cbar = fig.colorbar(im, ax=axs.ravel().tolist(), orientation=\"horizontal\", shrink=.4)\n",
    "\n",
    "plt.show()"
   ]
  }
 ],
 "metadata": {
  "interpreter": {
   "hash": "31f2aee4e71d21fbe5cf8b01ff0e069b9275f58929596ceb00d14d90e3e16cd6"
  },
  "kernelspec": {
   "display_name": "Python 3.8.10 64-bit",
   "name": "python3"
  },
  "language_info": {
   "codemirror_mode": {
    "name": "ipython",
    "version": 3
   },
   "file_extension": ".py",
   "mimetype": "text/x-python",
   "name": "python",
   "nbconvert_exporter": "python",
   "pygments_lexer": "ipython3",
   "version": "3.8.10"
  },
  "metadata": {
   "interpreter": {
    "hash": "916dbcbb3f70747c44a77c7bcd40155683ae19c65e1c03b4aa3499c5328201f1"
   }
  }
 },
 "nbformat": 4,
 "nbformat_minor": 4
}
