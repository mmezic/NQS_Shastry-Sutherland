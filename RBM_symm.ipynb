{
 "cells": [
  {
   "cell_type": "markdown",
   "metadata": {},
   "source": [
    "# Exploring Shastry-Sutherland model with symmetric RBM (similar machine as in Science 2017)"
   ]
  },
  {
   "cell_type": "code",
   "execution_count": 220,
   "metadata": {},
   "outputs": [
    {
     "name": "stdout",
     "output_type": "stream",
     "text": [
      "NetKet version: 3.1.2\n",
      "NumPy version: 1.20.3\n"
     ]
    }
   ],
   "source": [
    "import netket as nk\n",
    "import numpy as np\n",
    "import time\n",
    "import json\n",
    "import plotly.graph_objects as go\n",
    "import matplotlib.pyplot as plt\n",
    "import jax\n",
    "import flax\n",
    "import pprint\n",
    "print(\"NetKet version: {}\".format(nk.__version__))\n",
    "print(\"NumPy version: {}\".format(np.__version__))"
   ]
  },
  {
   "cell_type": "markdown",
   "metadata": {},
   "source": [
    "Setup relevant parameters"
   ]
  },
  {
   "cell_type": "code",
   "execution_count": 221,
   "metadata": {},
   "outputs": [],
   "source": [
    "\"\"\"lattice\"\"\"\n",
    "SITES    = 20            # 4, 8, 16, 20 ... number of vertices in a tile determines the tile shape \n",
    "JEXCH1   = .2           # nn interaction\n",
    "JEXCH2   = 1            # nnn interaction\n",
    "#USE_MSR  = True        # should we use a Marshall sign rule?\n",
    "\"\"\"machine learning\"\"\"\n",
    "TOTAL_SZ = None         # 0, None ... restriction of Hilbert space\n",
    "DTYPE = np.complex128   # type of weights in neural network\n",
    "SAMPLER = 'local'       # 'local' = MetropolisLocal, 'exchange' = MetropolisExchange\n",
    "ALPHA = 16              # N_hidden / N_visible\n",
    "ETA   = .01             # learning rate (0.01 usually works)\n",
    "SAMPLES = 1200\n",
    "NUM_ITER = 500\n",
    "\n",
    "OUT_NAME = \"SS-RBM_ops\"+str(SITES)+\"j1=\"+str(JEXCH1) # output file name"
   ]
  },
  {
   "cell_type": "markdown",
   "metadata": {},
   "source": [
    "Lattice and hamiltonian definition: &nbsp; &nbsp; &nbsp; &nbsp; &nbsp; &nbsp; &nbsp; &nbsp; &nbsp; $ H = J_{1} \\sum_{\\langle i,j \\rangle}^{L} \\vec{\\sigma}_{i} \\cdot \\vec{\\sigma}_{j} + J_{2} \\sum_{\\langle\\langle i,j \\rangle\\rangle_{SS}}^{L}  \\vec{\\sigma}_{i} \\cdot \\vec{\\sigma}_{j}\\,, $"
   ]
  },
  {
   "cell_type": "code",
   "execution_count": 222,
   "metadata": {},
   "outputs": [],
   "source": [
    "if SITES == 64:\n",
    "    indent = [0,0,0,0,0,0,0,0]\n",
    "    width = [8,8,8,8,8,8,8,8]\n",
    "    right_shift = 0\n",
    "    bottom_shift = 0\n",
    "elif SITES == 36:\n",
    "    indent = [0,0,0,0,0,0]\n",
    "    width = [6,6,6,6,6,6]\n",
    "    right_shift = 0\n",
    "    bottom_shift = 0\n",
    "elif SITES == 20: #tile shape definition\n",
    "    indent = [3,1,0,1,1,2]\n",
    "    width = [1,4,5,5,4,1]\n",
    "    right_shift = 2 #vertical shift of the center of (top) right tile (in the upward direction)\n",
    "    bottom_shift = 4 #horizontal shift of the center of bottom (left) tile (in the left direction)\n",
    "elif SITES == 16:\n",
    "    indent = [0,0,0,0]\n",
    "    width = [4,4,4,4]\n",
    "    right_shift = 0\n",
    "    bottom_shift = 0\n",
    "elif SITES == 8:\n",
    "    indent = [1,0,1]\n",
    "    width = [2,4,2]\n",
    "    right_shift = 2\n",
    "    bottom_shift = 2\n",
    "elif SITES == 4:\n",
    "    indent = [0,0]\n",
    "    width = [2,2]\n",
    "    right_shift = 0\n",
    "    bottom_shift = 0\n",
    "else:\n",
    "    raise Exception(\"Invalid number of sites given.\")\n",
    "N = sum(width) #number of nodes\n",
    "\n",
    "deg45 = True # special case when angle of tiling is 45 deg\n",
    "i = 0\n",
    "while deg45 and i < len(width)-1:\n",
    "    deg45 = (width[i] == width[i+1] + 2 or width[i] == width[i+1] - 2)\n",
    "    i += 1\n",
    "vertical_gap = False # is there a 1-site-sized gap between bottom (left) tile and left (top) tile ? \n",
    "horizontal_gap = False # is there a 1-site-sized gap between bottom (left) tile and bottom right tile ?\n",
    "if deg45:\n",
    "    if width[i]%2 == 0:\n",
    "        vertical_gap = True\n",
    "    else:\n",
    "        horizontal_gap = True\n",
    "        Exception(\"Not implemented ERROR during lattice definition. Please rotate given lattice by 90 degrees. This special case happens only when dealing with 45 deg tilings.\")\n",
    "\n",
    "left_shift = len(width) - right_shift + vertical_gap #vertical shift of the center of (top) left tile (in the upward direction)\n",
    "\n",
    "\n",
    "# i j-->\n",
    "# | .   .   .   0  \n",
    "# V .   1   2   3   4\n",
    "#   5   6   7   8   9\n",
    "#   .   10  11  12  13  14\n",
    "#   .   15  16  17  18\n",
    "#   .   .   19\n",
    "\n",
    "def getRandomNumber(): #returns a random integer\n",
    "    return 4\n",
    "def position(node): #returns positional indices i,j of the node\n",
    "    row, n = 0, 0\n",
    "    while n+width[row] <= node:\n",
    "        n += width[row]\n",
    "        row += 1\n",
    "    column = indent[row] + node - n \n",
    "    return row, column\n",
    "def index_n(row, column): #returns index n given positional indices\n",
    "    return sum(width[0:row]) + column - indent[row]\n",
    "def is_last(node):\n",
    "    row, column = position(node)\n",
    "    return (column == width[row] + indent[row] - 1)\n",
    "def is_first(node):\n",
    "    row, column = position(node)\n",
    "    return (column == indent[row])\n",
    "def is_lowest(node):\n",
    "    row, column = position(node)\n",
    "    if row == len(width) - 1:\n",
    "        return True\n",
    "    else:\n",
    "        row += 1\n",
    "        if column >= indent[row] and column < indent[row] + width[row]:\n",
    "            return False\n",
    "        else:\n",
    "            return True\n",
    "def rt(node): #returns index n of right neighbour\n",
    "    if is_last(node):\n",
    "        new_row = (position(node)[0] + right_shift)%(len(width)+vertical_gap)\n",
    "        if new_row == len(width): # special case of gap\n",
    "            new_row -= right_shift\n",
    "        return sum(width[0:new_row])\n",
    "    else:\n",
    "        return (node+1)%N\n",
    "def lft(node): #returns index n of left neighbour\n",
    "    if is_first(node):\n",
    "        new_row = (position(node)[0] + left_shift)%(len(width)+vertical_gap)\n",
    "        if new_row == len(width):\n",
    "            new_row -= left_shift\n",
    "        return sum(width[0:new_row])+width[new_row]-1\n",
    "    else:\n",
    "        return (node-1)%N\n",
    "def bot(node): #returns index n of bottom neighbour\n",
    "    row, column = position(node)\n",
    "    if is_lowest(node):\n",
    "        no_of_columns = np.array(width)+np.array(indent)\n",
    "        new_column = (column + bottom_shift)%max(no_of_columns)\n",
    "        new_row = 0\n",
    "        while new_column >= no_of_columns[new_row] or new_column < indent[new_row]:\n",
    "            new_row += 1\n",
    "        return index_n(new_row,new_column)\n",
    "    else:\n",
    "        return (node + width[row] + indent[row] - indent[row+1])\n",
    "def lrt(node):\n",
    "    return rt(bot(node))\n",
    "def llft(node):\n",
    "    return lft(bot(node))\n",
    "#def dimer_partner(node): #retunrs the index of the site which has J_2 bond with given node (partner in always unique in SS model)\n",
    "#    row, column = position(node)\n",
    "#    return TODO\n",
    "\n",
    "# Define custom graph\n",
    "edge_colors = []\n",
    "for node in range(N):\n",
    "    edge_colors.append([node,rt(node), 1]) #horizontal connections\n",
    "    edge_colors.append([node,bot(node), 1]) #vertical connections\n",
    "    row, column = position(node)\n",
    "    if column%2 == 0:\n",
    "        if row%2 == 0:\n",
    "            edge_colors.append([node,lrt(node),2])\n",
    "        else:\n",
    "            edge_colors.append([node,llft(node),2])\n",
    "\n",
    "\n",
    "# Define the netket graph object\n",
    "g = nk.graph.Graph(edges=edge_colors)\n",
    "\n",
    "hilbert = nk.hilbert.Spin(s=.5, N=g.n_nodes, total_sz=TOTAL_SZ)\n",
    "\n",
    "\n",
    "#Sigma^z*Sigma^z interactions\n",
    "sigmaz = [[1, 0], [0, -1]]\n",
    "mszsz = (np.kron(sigmaz, sigmaz)) #=sz*sz\n",
    "#Exchange interactions\n",
    "exchange = np.asarray([[0, 0, 0, 0], [0, 0, 2, 0], [0, 2, 0, 0], [0, 0, 0, 0]]) #=sx*sx+sy*sy = 1/2*(sp*sm+sm*sp)\n",
    "full_spin = mszsz+exchange # = S*S = sx*sx + sy*sy + sz*sz\n",
    "bond_color = [1, 2, 1, 2]"
   ]
  },
  {
   "cell_type": "code",
   "execution_count": 223,
   "metadata": {},
   "outputs": [
    {
     "name": "stdout",
     "output_type": "stream",
     "text": [
      "1\n"
     ]
    }
   ],
   "source": [
    "print(len(g.automorphisms()))"
   ]
  },
  {
   "cell_type": "markdown",
   "metadata": {},
   "source": [
    "## Hamoltonian"
   ]
  },
  {
   "cell_type": "code",
   "execution_count": 176,
   "metadata": {},
   "outputs": [],
   "source": [
    "bond_operator = [\n",
    "    (JEXCH1 * mszsz).tolist(),\n",
    "    (JEXCH2 * mszsz).tolist(),\n",
    "    (JEXCH1 * exchange).tolist(), # minus in case of MSR\n",
    "    (JEXCH2 * exchange).tolist(),\n",
    "]\n",
    "bond_operatorMSR = [\n",
    "    (JEXCH1 * mszsz).tolist(),\n",
    "    (JEXCH2 * mszsz).tolist(),\n",
    "    (-JEXCH1 * exchange).tolist(), # minus in case of MSR\n",
    "    (JEXCH2 * exchange).tolist(),\n",
    "]\n",
    "ha = nk.operator.GraphOperator(hilbert, graph=g, bond_ops=bond_operator, bond_ops_colors=bond_color)\n",
    "ha_MSR = nk.operator.GraphOperator(hilbert, graph=g, bond_ops=bond_operatorMSR, bond_ops_colors=bond_color)\n"
   ]
  },
  {
   "cell_type": "markdown",
   "metadata": {},
   "source": [
    "## Exact diagonalization"
   ]
  },
  {
   "cell_type": "code",
   "execution_count": 177,
   "metadata": {},
   "outputs": [
    {
     "name": "stdout",
     "output_type": "stream",
     "text": [
      "Ground state energy: -12.00000000000001 \n",
      "It took  0.0 s = 0.0 min\n"
     ]
    }
   ],
   "source": [
    "if g.n_nodes < 21:\n",
    "    start = time.time()\n",
    "    evals, eigvects = nk.exact.lanczos_ed(ha, k=3, compute_eigenvectors=True)\n",
    "    #evals = nk.exact.lanczos_ed(ha, compute_eigenvectors=False) #.lanczos_ed\n",
    "    end = time.time()\n",
    "    diag_time = end - start\n",
    "    exact_ground_energy = evals[0]\n",
    "    print(\"Ground state energy:\",exact_ground_energy, \"\\nIt took \", round(diag_time,2), \"s =\", round((diag_time)/60,2),\"min\")\n",
    "else:\n",
    "    print(\"System is too large for exact diagonalization. Setting exact_ground_energy = 0 (which is wrong)\")\n",
    "    exact_ground_energy = [0,0,0]\n",
    "    eigvects = None \n",
    "# -36.2460684609957 "
   ]
  },
  {
   "cell_type": "markdown",
   "metadata": {},
   "source": [
    "## Zkouška implementace parametru uspořádání"
   ]
  },
  {
   "cell_type": "markdown",
   "metadata": {},
   "source": [
    "## RBM\n",
    "\n",
    "!!POZOZ je použito `g.automorphisms()` namísto `g.translations()` - obsahuje to tedy symetrii zrcadlení řetízku navíc, a proto na konci dostaneme jen dvě sady filtrů namísto čtyřech.\n",
    "\n",
    "Vskutku, metoga g.automorphisms() najde veškeré symetrie. V tomto případě jsou všechny složeny z nezávislých symetrií:\n",
    "<!-- ### Heisenberg\n",
    " * zrcadlení okolo $x$, \n",
    " * zdcadlení okolo $y$, \n",
    " * jedna rotace o $90$ stupňů (ostatní se dají složit se zrcadleními),\n",
    " * ``L_NUM*L_NUM`` translací,\n",
    "\n",
    "tedy celkem $8L_{NUM}^2$ (pro $L_{NUM} > 2$, protože pro $L_{NUM}=2$ je zrcadlení a translace ekvivalentní) -->\n",
    "\n",
    "### Shastry-Sutherland \n",
    " * ``L_NUM*L_NUM`` translací,\n",
    " * rotace o $90$ stupňů,\n",
    "\n",
    "tedy celkem $4L_{NUM}^2$ (stejně je vždy $L_{NUM} \\geq 4$)\n",
    "\n",
    "```\n",
    "#comment from github: Have you tried using g.translation_group() (or g.translations() is some of the previous beta versions)\n",
    " instead of .automorphisms() to check whether that makes a difference? (Using the larger group of all 6x6 space group symmetries \n",
    " is probably also the reason why a large alpha is required in your version.) While symmetries should make a state easier to learn,\n",
    " I do recall that using the full space or automorphism group (instead of the usually easier-to-handle translation group) can \n",
    " sometimes introduce convergence issues (which at least need some more careful tuning of optimization settings and probably \n",
    " initial params to overcome).\n",
    "#https://github.com/netket/netket/discussions/838\n",
    "```"
   ]
  },
  {
   "cell_type": "code",
   "execution_count": 178,
   "metadata": {},
   "outputs": [
    {
     "name": "stdout",
     "output_type": "stream",
     "text": [
      "Number of automorphisms: 128\n"
     ]
    }
   ],
   "source": [
    "#definice modelu, sampleru atd.\n",
    "\n",
    "# Symmetric RBM Spin Machine\n",
    "machine = nk.models.RBMSymm(g.automorphisms(),dtype=DTYPE, alpha=ALPHA)  #<--- zde je použita celá grupa symetrii (ne jen translace)\n",
    "print(\"Number of automorphisms:\", len(g.automorphisms()))\n",
    "# Symmetric RBM Spin Machine with MSR\n",
    "machine_MSR = nk.models.RBMSymm(g.automorphisms(),dtype=DTYPE, alpha=ALPHA)\n",
    "\n",
    "\n",
    "# Meropolis Exchange Sampling\n",
    "if SAMPLER == 'local':\n",
    "    sampler = nk.sampler.MetropolisLocal(hilbert=hilbert)\n",
    "    sampler_MSR = nk.sampler.MetropolisLocal(hilbert=hilbert)\n",
    "else:\n",
    "    sampler = nk.sampler.MetropolisExchange(hilbert=hilbert, graph=g)\n",
    "    sampler_MSR = nk.sampler.MetropolisExchange(hilbert=hilbert, graph=g)\n",
    "    if SAMPLER != 'exchange':\n",
    "        print(\"Warning! Undefined sampler:\", SAMPLER, \", dafaulting to MetropolisExchange sampler\")\n",
    "\n",
    "\n",
    "# Optimzer\n",
    "optimizer = nk.optimizer.Sgd(learning_rate=ETA)\n",
    "optimizer_MSR = nk.optimizer.Sgd(learning_rate=ETA)\n",
    "\n",
    "# Stochastic Reconfiguration\n",
    "sr  = nk.optimizer.SR(diag_shift=0.1)\n",
    "sr_MSR  = nk.optimizer.SR(diag_shift=0.1)\n",
    "\n",
    "# The variational state (drive to byla nk.variational.MCState)\n",
    "vss = nk.vqs.MCState(sampler, machine, n_samples=SAMPLES)\n",
    "vs_MSR  = nk.vqs.MCState(sampler_MSR, machine_MSR, n_samples=SAMPLES)\n",
    "vss.init_parameters(jax.nn.initializers.normal(stddev=0.001))\n",
    "vs_MSR.init_parameters(jax.nn.initializers.normal(stddev=0.001))\n",
    "\n",
    "\n",
    "gs_normal = nk.VMC(hamiltonian=ha ,optimizer=optimizer,preconditioner=sr,variational_state=vss)               # 0 ... symmetric\n",
    "gs_MSR = nk.VMC(hamiltonian=ha_MSR ,optimizer=optimizer_MSR,preconditioner=sr_MSR,variational_state=vs_MSR)   # 1 ... symmetric+MSR"
   ]
  },
  {
   "cell_type": "markdown",
   "metadata": {},
   "source": [
    "# Definitions of operators"
   ]
  },
  {
   "cell_type": "code",
   "execution_count": 179,
   "metadata": {},
   "outputs": [],
   "source": [
    "def SS_old(i,j): # S_i * S_j\n",
    "    return 2*nk.operator.spin.sigmap(hilbert,i,dtype=\"float64\")@nk.operator.spin.sigmam(hilbert,j,dtype=\"float64\")+2*nk.operator.spin.sigmam(hilbert,i,dtype=\"float64\")@nk.operator.spin.sigmap(hilbert,j,dtype=\"float64\")+nk.operator.spin.sigmaz(hilbert,i,dtype=\"float64\")@nk.operator.spin.sigmaz(hilbert,j,dtype=\"float64\")\n",
    "    #return nk.operator.spin.sigmax(hilbert, i)@nk.operator.spin.sigmax(hilbert, j) + nk.operator.spin.sigmay(hilbert, i)@nk.operator.spin.sigmay(hilbert, j) + nk.operator.spin.sigmaz(hilbert, i)@nk.operator.spin.sigmaz(hilbert, j)\n",
    "\n",
    "def SS(i,j): #different method of definition\n",
    "    if i==j:\n",
    "        return nk.operator.LocalOperator(hilbert,operators=[[3,0],[0,3]],acting_on=[i])\n",
    "    else:\n",
    "        return nk.operator.LocalOperator(hilbert,operators=(mszsz+exchange),acting_on=[i,j])\n",
    "\n",
    "def SS_MSR(i,j): #different method of definition\n",
    "    if i==j:\n",
    "        return nk.operator.LocalOperator(hilbert,operators=[[3,0],[0,3]],acting_on=[i])\n",
    "    elif (np.sum(position(i))+np.sum(position(j)))%2 == 0:                                      # same sublattice \n",
    "        return nk.operator.LocalOperator(hilbert,operators=(mszsz+exchange),acting_on=[i,j])\n",
    "    else:                                                                                       # different sublattice \n",
    "        return nk.operator.LocalOperator(hilbert,operators=(mszsz-exchange),acting_on=[i,j])"
   ]
  },
  {
   "cell_type": "markdown",
   "metadata": {},
   "source": [
    "## Dimer order parameter (DS phase)\n",
    "$$m_{\\rm dimer}^2 := -\\frac{1}{3} \\frac{2}{M} \\sum_{(ij)_{dimer}} \\langle\\hat{\\bm{S}}_i \\cdot \\hat{\\bm{S}}_j\\rangle$$\n",
    "plus normalizace na 3/4 (v mém případě 3)"
   ]
  },
  {
   "cell_type": "code",
   "execution_count": 180,
   "metadata": {},
   "outputs": [],
   "source": [
    "ss_operator = 0\n",
    "M = hilbert.size\n",
    "for node in range(M):\n",
    "    row, column = position(node)\n",
    "    if column%2 == 0:\n",
    "        if row%2 == 0:\n",
    "            ss_operator += SS(node,lrt(node))\n",
    "        else:\n",
    "            ss_operator += SS(node,llft(node))\n",
    "m_dimer_op = -1/3 * ss_operator/M*2"
   ]
  },
  {
   "cell_type": "markdown",
   "metadata": {},
   "source": [
    "## Plaquette order parameter (PS phase)\n",
    "We define another order parameter $m_p := \\langle \\hat{\\bm{Q}}_{\\bm{R}} - \\hat{\\bm{Q}}_{\\bm{R'}}\\rangle$, where $\\hat{\\bm{Q}}_{\\bm{r}} := \\frac{1}{2}\\left(\\hat{\\bm{P}}_{\\bm{r}} + \\hat{\\bm{P}}_{\\bm{r}}^{-1}\\right)$, where $\\hat{\\bm{P}}_{\\bm{r}} = \\hat{\\bm{P}}_{ijkl}^\\text{cykl}$ is cyclic permutation operator \n",
    "$$\\hat{\\bm{P}}_{ijkl}^\\text{cykl} | \\dots \\sigma_i \\sigma_j \\sigma_k \\sigma_l \\dots \\rangle = | \\dots \\sigma_l \\sigma_i \\sigma_j \\sigma_k \\dots \\rangle $$\n",
    "We can implement cyclic permutation using binary permutation operator\n",
    "$$ \\hat{\\bm{P}}^\\text{cykl}_{ijkl} = \\hat{\\bm{P}}_{ik}\\hat{\\bm{P}}_{kl}\\hat{\\bm{P}}_{ij} \\quad \\quad \\quad \\left(\\hat{\\bm{P}}^\\text{cykl}_{ijkl}\\right)^{-1} = \\hat{\\bm{P}}_{jl}\\hat{\\bm{P}}_{kl}\\hat{\\bm{P}}_{ij}$$\n",
    "And use a formula for permutation operator\n",
    "$$ \\hat{\\bm{P}}_{ij} \\equiv \\frac{1}{2} (\\hat{\\bm{S}}_i\\cdot \\hat{\\bm{S}}_j + \\hat{\\mathbb{1}})$$"
   ]
  },
  {
   "cell_type": "code",
   "execution_count": 181,
   "metadata": {},
   "outputs": [],
   "source": [
    "def P(i,j,msr): # two particle permutation operator\n",
    "    if msr == False:\n",
    "        return .5*(SS(i,j)+nk.operator.LocalOperator(hilbert,operators=[[1,0,0,0],[0,1,0,0],[0,0,1,0],[0,0,0,1]],acting_on=[i,j]))\n",
    "    else:\n",
    "        return .5*(SS_MSR(i,j)+nk.operator.LocalOperator(hilbert,operators=[[1,0,0,0],[0,1,0,0],[0,0,1,0],[0,0,0,1]],acting_on=[i,j]))\n",
    "\n",
    "\n",
    "def P_cykl(i,j,k,l,msr): # 4 particle cyclic permutation operator\n",
    "    return P(i,k,msr)@P(k,l,msr)@P(i,j,msr)\n",
    "def P_cykl_inv(i,j,k,l,msr): # inverse of 4 particle cyclic permutation operator\n",
    "    return P(j,l,msr)@P(k,l,msr)@P(i,j,msr)\n",
    "\n",
    "def P_r(i,msr): # cyclic permutation of 4 sites located at position i\n",
    "    return P_cykl(i,rt(i),lrt(i),bot(i),msr)\n",
    "# i --> i j  .... we assigne a lrt cell to each index i\n",
    "#       l k\n",
    "def P_r_inv(i,msr): # inverse of cyclic permutation of 4 sites located at position i\n",
    "    return P_cykl_inv(i,rt(i),lrt(i),bot(i),msr)\n",
    "\n",
    "def Q_r(i,msr):\n",
    "    return .5*(P_r(i,msr) + P_r_inv(i,msr))\n",
    "\n",
    "i = 0\n",
    "while sum(position(i))%2 == 0: # ensure that the plaquette is 'empty' (without J_2 bond inside)\n",
    "    i += 1\n",
    "m_plaquette_op = Q_r(i,False)-Q_r(lrt(i),False)\n",
    "m_plaquette_op_MSR = Q_r(i,True)-Q_r(lrt(i),True)"
   ]
  },
  {
   "cell_type": "markdown",
   "metadata": {},
   "source": [
    "## Magnetization order parameter (AF phase)\n",
    "We define magnetization order parameter <font color=#d0312d> POZOR! můj spin $\\hat{\\bm{S}}$ je definovaný jako dvojnásobek typické definice $\\hat{\\bm{S}} \\leftarrow 2\\hat{\\bm{S}}$ </font>\n",
    "$$m_s^2 := \\frac{1}{M^{2}} \\sum_{ij} {\\rm e}^{i \\bm{q}\\cdot \\bm{r}} \\langle\\hat{\\bm{S}}_i \\cdot \\hat{\\bm{S}}_j\\rangle$$\n",
    "where $M = L\\cdot L$ (in case of Sandvik: $M = 2L\\cdot L$ and $\\hat{\\bm{S}} = \\frac{1}{2}\\hat{\\bm{S}}$). In our case $\\bm{q} = (\\pi,\\pi)$.\n",
    "\n",
    "Využíváme také identitu $\\sigma^x_i\\sigma^x_j+\\sigma^y_i\\sigma^y_j \\equiv {2}\\left(\\sigma^+_i\\sigma^-_j + \\sigma^-_i\\sigma^+_j\\right)$\n"
   ]
  },
  {
   "cell_type": "code",
   "execution_count": 182,
   "metadata": {},
   "outputs": [],
   "source": [
    "def m_sSquared_slow(state):\n",
    "    ss_operator = 0\n",
    "    M = hilbert.size\n",
    "    m_s2 = 0\n",
    "    for i in range(M):\n",
    "        for j in range(M):\n",
    "            ss_operator += SS(i,j) * (-1)**np.sum(position(i)+position(j))\n",
    "        if i%3==2 or i==(M-1):\n",
    "            m_s2 += (state.transpose()@(ss_operator@state))[0,0]\n",
    "            ss_operator = 0\n",
    "    m_s2 = m_s2/M**2\n",
    "    return m_s2\n",
    "\n",
    "m_s2_op_MSR = 0\n",
    "M = hilbert.size\n",
    "for i in range(M):\n",
    "    for j in range(M):\n",
    "        m_s2_op_MSR += SS_MSR(i,j) * (-1)**np.sum(position(i)+position(j)) #(i+j) #chyba?\n",
    "m_s2_op_MSR = m_s2_op_MSR/(M**2)\n",
    "\n",
    "m_s2_op = 0\n",
    "for i in range(M):\n",
    "    for j in range(M):\n",
    "        m_s2_op += SS(i,j) * (-1)**np.sum(position(i)+position(j)) #(i+j) #chyba?\n",
    "m_s2_op = m_s2_op/(M**2)\n"
   ]
  },
  {
   "cell_type": "markdown",
   "metadata": {},
   "source": [
    "## calculation"
   ]
  },
  {
   "cell_type": "code",
   "execution_count": 183,
   "metadata": {},
   "outputs": [
    {
     "name": "stdout",
     "output_type": "stream",
     "text": [
      "J_1 = 0.2\n",
      "Expected exact energy: -12.00000000000001\n"
     ]
    },
    {
     "name": "stderr",
     "output_type": "stream",
     "text": [
      "100%|██████████| 500/500 [02:17<00:00,  3.63it/s, Energy=-0.7956+0.0042j ± 0.0019 [σ²=0.0022, R̂=1.4095]]\n"
     ]
    },
    {
     "name": "stdout",
     "output_type": "stream",
     "text": [
      "The type 0 of RBM calculation took 2.4027594486872355 min\n"
     ]
    },
    {
     "name": "stderr",
     "output_type": "stream",
     "text": [
      "100%|██████████| 500/500 [02:24<00:00,  3.46it/s, Energy=-0.8418+0.0000j ± 0.0052 [σ²=0.0163, R̂=1.3721]]"
     ]
    },
    {
     "name": "stdout",
     "output_type": "stream",
     "text": [
      "The type 1 of RBM calculation took 2.4136064370473225 min\n"
     ]
    },
    {
     "name": "stderr",
     "output_type": "stream",
     "text": [
      "\n"
     ]
    }
   ],
   "source": [
    "no_of_runs = 2 #2 ... bude se pocitat i druhý způsob (za použití MSR)\n",
    "use_MSR = 0 # in case of one run\n",
    "NUM_ITER = 500\n",
    "print(\"J_1 =\", JEXCH1)\n",
    "if exact_ground_energy != 0:\n",
    "    print(\"Expected exact energy:\", exact_ground_energy)\n",
    "for i,gs in enumerate([gs_normal,gs_MSR][use_MSR:use_MSR+no_of_runs]):\n",
    "    start = time.time()\n",
    "    #gs.info()\n",
    "    gs.run(out=OUT_NAME+str(i), n_iter=int(NUM_ITER))#,obs={'DS_factor': m_dimer_op})#,'PS_factor':m_plaquette_op,'AF_factor':m_s2_op})\n",
    "    end = time.time()\n",
    "    print(\"The type {} of RBM calculation took {} min\".format(i, (end-start)/60))\n"
   ]
  },
  {
   "cell_type": "code",
   "execution_count": 184,
   "metadata": {},
   "outputs": [
    {
     "name": "stdout",
     "output_type": "stream",
     "text": [
      "-0.841835478129867\n"
     ]
    }
   ],
   "source": [
    "print(gs_MSR.energy.mean.real)"
   ]
  },
  {
   "cell_type": "code",
   "execution_count": 185,
   "metadata": {},
   "outputs": [
    {
     "name": "stdout",
     "output_type": "stream",
     "text": [
      "Trained RBM without MSR:\n",
      "m_d^2 = -3.333e-01-2.191e-16j ± 2.080e-17 [σ²=2.952e-31, R̂=1.3348]\n",
      "m_p = -0.155-0.002j ± 0.035 [σ²=0.753, R̂=1.2293]\n",
      "m_s^2 = 0.605+0.000j ± 0.017 [σ²=0.166, R̂=1.4068]\n",
      "m_s^2 = 1.49914-0.00059j ± 0.00031 [σ²=0.00006, R̂=1.3835] <--- no MSR!!\n",
      "Trained RBM with MSR:\n",
      "m_d^2 = -3.333e-01-2.688e-18j ± 5.108e-18 [σ²=1.405e-32, R̂=1.4108]\n",
      "m_p = -0.143+0.000j ± 0.040 [σ²=0.935, R̂=1.3664]\n",
      "m_s^2 = 1.49880-0.00000j ± 0.00089 [σ²=0.00050, R̂=1.2824]\n",
      "m_s^2 = 0.617+0.000j ± 0.017 [σ²=0.165, R̂=1.3828] <--- no MSR!!\n"
     ]
    }
   ],
   "source": [
    "for i,gs in enumerate([gs_normal,gs_MSR][use_MSR:use_MSR+no_of_runs]):\n",
    "    print(\"Trained RBM with MSR:\" if i else \"Trained RBM without MSR:\")\n",
    "    print(\"m_d^2 =\", gs.estimate(m_dimer_op))\n",
    "    print(\"m_p =\", gs.estimate(m_plaquette_op_MSR))\n",
    "    print(\"m_s^2 =\", gs.estimate(m_s2_op_MSR))\n",
    "    print(\"m_s^2 =\", gs.estimate(m_s2_op), \"<--- no MSR!!\")"
   ]
  },
  {
   "cell_type": "code",
   "execution_count": 186,
   "metadata": {},
   "outputs": [
    {
     "name": "stdout",
     "output_type": "stream",
     "text": [
      "-0.7956492821794932    -0.841835478129867    -0.3333333333333337    -0.20967005255676013    0.6049722288191763    1.4991379362190331    -0.33333333333333326    -0.0319599045554229    1.4987986065807426    0.6173100090062216\n"
     ]
    }
   ],
   "source": [
    "print(gs_normal.energy.mean.real, gs_MSR.energy.mean.real, gs_normal.estimate(m_dimer_op).mean.real, gs_normal.estimate(m_plaquette_op).mean.real, gs_normal.estimate(m_s2_op_MSR).mean.real, gs_normal.estimate(m_s2_op).mean.real, gs_MSR.estimate(m_dimer_op).mean.real, gs_MSR.estimate(m_plaquette_op).mean.real, gs_MSR.estimate(m_s2_op_MSR).mean.real, gs_MSR.estimate(m_s2_op).mean.real, sep='    ')"
   ]
  },
  {
   "cell_type": "code",
   "execution_count": 187,
   "metadata": {},
   "outputs": [
    {
     "name": "stdout",
     "output_type": "stream",
     "text": [
      "-0.795649     -0.841835    -0.333333    -0.209670    0.604972    1.499138    -0.333333    -0.143040    1.498799    0.617310    samples:1200.000000  iters:500.000000\n"
     ]
    }
   ],
   "source": [
    "print(\"{:f}     {:f}    {:f}    {:f}    {:f}    {:f}    {:f}    {:f}    {:f}    {:f}    samples:{:f}  iters:{:f}\".format(gs_normal.energy.mean.real, gs_MSR.energy.mean.real, gs_normal.estimate(m_dimer_op).mean.real, gs_normal.estimate(m_plaquette_op).mean.real, gs_normal.estimate(m_s2_op_MSR).mean.real, gs_normal.estimate(m_s2_op).mean.real, gs_MSR.estimate(m_dimer_op).mean.real, gs_MSR.estimate(m_plaquette_op_MSR).mean.real, gs_MSR.estimate(m_s2_op_MSR).mean.real, gs_MSR.estimate(m_s2_op).mean.real, SAMPLES, NUM_ITER, sep='    '))"
   ]
  },
  {
   "cell_type": "markdown",
   "metadata": {},
   "source": [
    "## Energy"
   ]
  },
  {
   "cell_type": "code",
   "execution_count": 188,
   "metadata": {},
   "outputs": [],
   "source": [
    "# exact energy line\n",
    "figure = go.Figure(\n",
    "    data=[go.Scatter(x=(0,NUM_ITER),y=(exact_ground_energy,exact_ground_energy),mode=\"lines\",line=go.scatter.Line(color=\"#000000\",width=1), name=\"exact energy\")], \n",
    "    layout=go.Layout(template=\"simple_white\",\n",
    "        xaxis=dict(title=\"Iteration\", mirror=True, showline=True),\n",
    "        yaxis=dict(title=\"Energy\", mirror=True, showline=True),\n",
    "        title=(\"<b>\"+\"S-S\"+\" model </b>, L=\"+str(SITES)+\", J2 =\"+str(JEXCH2)+ \" , η=\"+str(ETA)+\", α=\"+str(ALPHA)+\", samples=\"+str(SAMPLES))))"
   ]
  },
  {
   "cell_type": "code",
   "execution_count": 189,
   "metadata": {},
   "outputs": [
    {
     "data": {
      "application/vnd.plotly.v1+json": {
       "config": {
        "plotlyServerURL": "https://plot.ly"
       },
       "data": [
        {
         "line": {
          "color": "#000000",
          "width": 1
         },
         "mode": "lines",
         "name": "exact energy",
         "type": "scatter",
         "x": [
          0,
          500
         ],
         "y": [
          -12.00000000000001,
          -12.00000000000001
         ]
        },
        {
         "name": "normal basis",
         "type": "scatter",
         "x": [
          0,
          1,
          2,
          3,
          4,
          5,
          6,
          7,
          8,
          9,
          10,
          11,
          12,
          13,
          14,
          15,
          16,
          17,
          18,
          19,
          20,
          21,
          22,
          23,
          24,
          25,
          26,
          27,
          28,
          29,
          30,
          31,
          32,
          33,
          34,
          35,
          36,
          37,
          38,
          39,
          40,
          41,
          42,
          43,
          44,
          45,
          46,
          47,
          48,
          49,
          50,
          51,
          52,
          53,
          54,
          55,
          56,
          57,
          58,
          59,
          60,
          61,
          62,
          63,
          64,
          65,
          66,
          67,
          68,
          69,
          70,
          71,
          72,
          73,
          74,
          75,
          76,
          77,
          78,
          79,
          80,
          81,
          82,
          83,
          84,
          85,
          86,
          87,
          88,
          89,
          90,
          91,
          92,
          93,
          94,
          95,
          96,
          97,
          98,
          99,
          100,
          101,
          102,
          103,
          104,
          105,
          106,
          107,
          108,
          109,
          110,
          111,
          112,
          113,
          114,
          115,
          116,
          117,
          118,
          119,
          120,
          121,
          122,
          123,
          124,
          125,
          126,
          127,
          128,
          129,
          130,
          131,
          132,
          133,
          134,
          135,
          136,
          137,
          138,
          139,
          140,
          141,
          142,
          143,
          144,
          145,
          146,
          147,
          148,
          149,
          150,
          151,
          152,
          153,
          154,
          155,
          156,
          157,
          158,
          159,
          160,
          161,
          162,
          163,
          164,
          165,
          166,
          167,
          168,
          169,
          170,
          171,
          172,
          173,
          174,
          175,
          176,
          177,
          178,
          179,
          180,
          181,
          182,
          183,
          184,
          185,
          186,
          187,
          188,
          189,
          190,
          191,
          192,
          193,
          194,
          195,
          196,
          197,
          198,
          199,
          200,
          201,
          202,
          203,
          204,
          205,
          206,
          207,
          208,
          209,
          210,
          211,
          212,
          213,
          214,
          215,
          216,
          217,
          218,
          219,
          220,
          221,
          222,
          223,
          224,
          225,
          226,
          227,
          228,
          229,
          230,
          231,
          232,
          233,
          234,
          235,
          236,
          237,
          238,
          239,
          240,
          241,
          242,
          243,
          244,
          245,
          246,
          247,
          248,
          249,
          250,
          251,
          252,
          253,
          254,
          255,
          256,
          257,
          258,
          259,
          260,
          261,
          262,
          263,
          264,
          265,
          266,
          267,
          268,
          269,
          270,
          271,
          272,
          273,
          274,
          275,
          276,
          277,
          278,
          279,
          280,
          281,
          282,
          283,
          284,
          285,
          286,
          287,
          288,
          289,
          290,
          291,
          292,
          293,
          294,
          295,
          296,
          297,
          298,
          299,
          300,
          301,
          302,
          303,
          304,
          305,
          306,
          307,
          308,
          309,
          310,
          311,
          312,
          313,
          314,
          315,
          316,
          317,
          318,
          319,
          320,
          321,
          322,
          323,
          324,
          325,
          326,
          327,
          328,
          329,
          330,
          331,
          332,
          333,
          334,
          335,
          336,
          337,
          338,
          339,
          340,
          341,
          342,
          343,
          344,
          345,
          346,
          347,
          348,
          349,
          350,
          351,
          352,
          353,
          354,
          355,
          356,
          357,
          358,
          359,
          360,
          361,
          362,
          363,
          364,
          365,
          366,
          367,
          368,
          369,
          370,
          371,
          372,
          373,
          374,
          375,
          376,
          377,
          378,
          379,
          380,
          381,
          382,
          383,
          384,
          385,
          386,
          387,
          388,
          389,
          390,
          391,
          392,
          393,
          394,
          395,
          396,
          397,
          398,
          399,
          400,
          401,
          402,
          403,
          404,
          405,
          406,
          407,
          408,
          409,
          410,
          411,
          412,
          413,
          414,
          415,
          416,
          417,
          418,
          419,
          420,
          421,
          422,
          423,
          424,
          425,
          426,
          427,
          428,
          429,
          430,
          431,
          432,
          433,
          434,
          435,
          436,
          437,
          438,
          439,
          440,
          441,
          442,
          443,
          444,
          445,
          446,
          447,
          448,
          449,
          450,
          451,
          452,
          453,
          454,
          455,
          456,
          457,
          458,
          459,
          460,
          461,
          462,
          463,
          464,
          465,
          466,
          467,
          468,
          469,
          470,
          471,
          472,
          473,
          474,
          475,
          476,
          477,
          478,
          479,
          480,
          481,
          482,
          483,
          484,
          485,
          486,
          487,
          488,
          489,
          490,
          491,
          492,
          493,
          494,
          495,
          496,
          497,
          498,
          499
         ],
         "y": [
          7.199984515122312,
          7.199988997946324,
          7.199998558750486,
          7.200015074748434,
          7.199990214682597,
          7.199985809160198,
          7.199987729092267,
          7.20000081745379,
          7.199991929938191,
          7.200012073989465,
          7.199986386378614,
          7.200007036431436,
          7.200013422578211,
          7.199977298473885,
          7.200006711683066,
          7.199987494976254,
          7.200019691430556,
          7.200002525301645,
          7.200005072263803,
          7.199981920596722,
          7.200004792166862,
          7.199981586286725,
          7.200001681998508,
          7.199999675027963,
          7.199977252075357,
          7.200007077405126,
          7.200013729461319,
          7.199997974695325,
          7.2000026806244755,
          7.19999936332293,
          7.200000684568738,
          7.199982674073105,
          7.199999733092458,
          7.199996528489292,
          7.199995903447771,
          7.199983792213311,
          7.199994285470262,
          7.200012126445561,
          7.200005054195408,
          7.19999486143065,
          7.199995720300134,
          7.200006517420161,
          7.200021842082118,
          7.200011259118134,
          7.199991643683692,
          7.19999632110726,
          7.199998741529938,
          7.199991971185467,
          7.200014697346471,
          7.200018167665826,
          7.199994788900016,
          7.199989819161839,
          7.199982693365343,
          7.199996797097047,
          7.200027181221916,
          7.200022659171514,
          7.199993939859451,
          7.199981588094155,
          7.199968001366462,
          7.200004451174605,
          7.199995016733449,
          7.199994900910458,
          7.199946184473547,
          7.199989192897947,
          7.200006510914579,
          7.199968742551502,
          7.1999908759364954,
          7.200015880358636,
          7.2000070826125215,
          7.199991695837072,
          7.199994796967112,
          7.200033408315761,
          7.199991412605599,
          7.200026569760414,
          7.199998482803164,
          7.199991127896226,
          7.199981160897686,
          7.199997325452395,
          7.199950380017324,
          7.199989769528605,
          7.199969804350867,
          7.200019393181562,
          7.199935194580719,
          7.199980055298229,
          7.1999882129513715,
          7.1999281874814205,
          7.200030691405737,
          7.200039778162482,
          7.1999763983590706,
          7.2000408155564495,
          7.200031254057028,
          7.199959409553896,
          7.199953301420046,
          7.200049424648122,
          7.1999545797079465,
          7.1999702463776964,
          7.1999777974966985,
          7.1999720568631975,
          7.199980842195331,
          7.2000284105639185,
          7.200027589069332,
          7.199870730111064,
          7.200011718522453,
          7.200049640424425,
          7.200007944249138,
          7.1999498668554684,
          7.199976220126258,
          7.200011407821749,
          7.199971886447523,
          7.200014563484661,
          7.199955549961703,
          7.199952331700308,
          7.200059041300621,
          7.200076684546188,
          7.200077420841445,
          7.199975228494026,
          7.199895659071686,
          7.199885534681182,
          7.200022056596742,
          7.20011471459412,
          7.200056614554439,
          7.200040070883093,
          7.199877281412149,
          7.200042554181406,
          7.199914699874796,
          7.199959720117398,
          7.200020721160958,
          7.20007074744139,
          7.200077576601101,
          7.20005400530046,
          7.199870848790304,
          7.199874327340756,
          7.199925004125459,
          7.19991123425264,
          7.200008585371293,
          7.200068927622182,
          7.199765790827575,
          7.200022440271437,
          7.200026488736612,
          7.199961817755206,
          7.20001515360804,
          7.200017232768903,
          7.2000066316204965,
          7.199942084339806,
          7.199952156994681,
          7.200031888173658,
          7.200059063262425,
          7.199832303820777,
          7.19991826238999,
          7.199831857002601,
          7.199704416805744,
          7.200103979730867,
          7.199650329251314,
          7.199441111424109,
          7.199767246904138,
          7.199981782892531,
          7.1998505931051735,
          7.199626956851293,
          7.200160738544225,
          7.199950620054175,
          7.1997093376203205,
          7.199704889276365,
          7.199819559850946,
          7.2000271333356105,
          7.199452523783888,
          7.19900437706778,
          7.1996794811383165,
          7.200134830234453,
          7.198983381920868,
          7.200507854984459,
          7.200053687909661,
          7.200969899312853,
          7.200228063507532,
          7.200033381762115,
          7.199476804671252,
          7.200793861977876,
          7.199397261240192,
          7.199905741716707,
          7.198837472786393,
          7.199010343857735,
          7.198662114260194,
          7.200270465406918,
          7.200395283602784,
          7.198729033980043,
          7.198551669880445,
          7.201602774185031,
          7.202066905186024,
          7.200150775344725,
          7.198978540520384,
          7.201057207658215,
          7.2025689139541775,
          7.197916947502903,
          7.199599118956499,
          7.197671495312648,
          7.202158989349995,
          7.196605838825554,
          7.191975889477038,
          7.195455137449317,
          7.200213460581169,
          7.197656972003822,
          7.197837880569554,
          7.197208355610511,
          7.200059017429997,
          7.1939073064737284,
          7.191610854030536,
          7.186759846065287,
          7.196283939540627,
          7.189678584613079,
          7.195670956942262,
          7.188508804486119,
          7.202934326773193,
          7.197083968575266,
          7.201753839148503,
          7.1822272222308285,
          7.189764677871335,
          7.1809582389331235,
          7.1910160921158575,
          7.17152909409822,
          7.179546342401897,
          7.193744994817735,
          7.179509173061098,
          7.157356444498956,
          7.169677007207811,
          7.167884119340892,
          7.139130864045021,
          7.141113914186153,
          7.152554629475193,
          7.121875186416498,
          7.11384541274579,
          7.113602698364424,
          7.141509793229359,
          7.11287006628208,
          7.1178111528281445,
          7.05940781572718,
          7.067942203792203,
          7.052046095472749,
          7.0398038283308555,
          7.025832156167074,
          7.017290465778164,
          6.993124122163755,
          6.887651640728136,
          6.885031296737383,
          6.930393096012367,
          6.926916566826668,
          6.900264077553888,
          6.81021809640777,
          6.773491481629677,
          6.700248673184904,
          6.612954929687244,
          6.614174391208927,
          6.534056570793148,
          6.377827588473347,
          6.313836583940462,
          6.22507100543857,
          6.335157476177611,
          6.175251224769788,
          6.048699368067299,
          5.733307147401791,
          5.704970642137684,
          5.713371720875477,
          5.626036965499526,
          5.203662440986176,
          5.30217080035749,
          4.885727130185878,
          4.977089803367683,
          4.775976852743466,
          4.632291653407411,
          4.384160742839011,
          4.1218221024449075,
          3.8696640960851756,
          3.6624202127237067,
          3.832116122120689,
          3.5045354802726556,
          3.678317579976871,
          3.0213102522481248,
          2.9588993783974837,
          2.8071032415508417,
          2.7283803397336763,
          2.599098841801413,
          2.390542919513064,
          2.4395287389057083,
          2.311840210843697,
          2.0980028843227663,
          1.9697187945176602,
          1.9888995158569955,
          1.8189269652619253,
          1.6817397829588472,
          1.5413913409004967,
          1.5465385706066084,
          1.4924076266642743,
          1.3077680120348014,
          1.1839030350429225,
          1.3123283562417831,
          1.291503290645362,
          1.142050900189775,
          1.1654080545727346,
          1.1037774368608273,
          1.132332217026282,
          1.012018690898689,
          0.9828826133569744,
          0.9338276149921877,
          0.8828539954857965,
          0.9135512167199574,
          0.8458939581116471,
          0.8666816834844463,
          0.8293392404708021,
          0.801657933103021,
          0.8065805408141058,
          0.7311151486674754,
          0.7561767214435691,
          0.6514392180986875,
          0.6785330890366366,
          0.6469067607754497,
          0.6271075877050019,
          0.574528441428771,
          0.5422744328339512,
          0.5292346221154736,
          0.5127353877619706,
          0.5163032386633923,
          0.5674752249897002,
          0.4411934422657878,
          0.4709051370437927,
          0.4125393673783798,
          0.4329292477132556,
          0.45685377046524417,
          0.4213733307301782,
          0.3964192272427168,
          0.3849713359171301,
          0.317049111340326,
          0.3067750626972365,
          0.33863429296446007,
          0.251031273408103,
          0.2507006028460877,
          0.18250138041004918,
          0.20298986016681508,
          0.2378160681804367,
          0.16492021755321687,
          0.20459115999558863,
          0.05992141845877375,
          0.0687932343680252,
          0.016228611175361285,
          0.10232567142539624,
          -0.052456145934928616,
          0.031650057872928856,
          0.08338853919582698,
          0.01903709459127498,
          -0.09040656491916131,
          -0.03921173472726956,
          -0.07768009682970312,
          -0.1346335753485952,
          -0.12038094230960836,
          -0.14605369769457707,
          -0.0832501060628618,
          -0.08982293772358674,
          -0.18163709188735938,
          -0.29471840120554127,
          -0.22787873949647033,
          -0.3011972046739223,
          -0.15454558841962374,
          -0.12285902932218976,
          -0.16680820871862487,
          -0.06160568949087375,
          -0.3168919849151195,
          -0.23861839893800854,
          -0.410372803952662,
          -0.1997675863976816,
          -0.2692441213353767,
          -0.1912745711851562,
          -0.5151689477320122,
          -0.40780411946095374,
          -0.5000448070583586,
          -0.5747228207236875,
          -0.2910626081999286,
          -0.49362657594623766,
          -0.45086016319779315,
          -0.42158312342454773,
          -0.4618407522826862,
          -0.6505709913743535,
          -0.38219570529268654,
          -0.7322672281030762,
          -0.6263826904018974,
          -0.6753266464887379,
          -0.7285354898473761,
          -0.6698274274895091,
          -0.5976576632567109,
          -0.6552377262481109,
          -0.5928123236032349,
          -0.5305462008376374,
          -0.36690625415274664,
          -0.5502193803215236,
          -0.707980735573846,
          -0.7577203806488092,
          -0.5622454369730666,
          -0.7061729998967242,
          -0.7479074803464352,
          -0.5426181094875657,
          -0.5008973092555213,
          -0.5233726971136702,
          -0.6051587256740711,
          -0.726661241140759,
          -0.8143190750322695,
          -0.8495100354840054,
          -0.8224135501608683,
          -0.7805473905294641,
          -0.8360141861061511,
          -0.7609923522875826,
          -0.6996351426627122,
          -0.8053324442400993,
          -0.8479051483181439,
          -0.7481890133205688,
          -0.7408199504461437,
          -0.7861669139831619,
          -0.7511963399394701,
          -0.8727590849500418,
          -0.8124804921794743,
          -0.856596068057924,
          -0.8171965594691349,
          -0.8449732130362172,
          -0.8592186538026116,
          -0.7985957925612703,
          -0.8471172334712068,
          -0.76934794635637,
          -0.7700146508784728,
          -0.8324748283789998,
          -0.8361964635024005,
          -0.8191040871731056,
          -0.8591270532113432,
          -0.8395882381122549,
          -0.8040315077943464,
          -0.8152999363989398,
          -0.8222219125816,
          -0.8226411404387917,
          -0.8284427676652332,
          -0.8375571150372773,
          -0.8216915860860754,
          -0.8435478750604897,
          -0.8083906951831507,
          -0.8107890228163499,
          -0.8407688291008716,
          -0.8332105560228509,
          -0.8013268540516938,
          -0.8131242719153001,
          -0.8145292811344856,
          -0.8305752773068,
          -0.8364218751431437,
          -0.8462387767180634,
          -0.8306840605492098,
          -0.8087729912354025,
          -0.8163387474313194,
          -0.842445839454293,
          -0.8206014945064154,
          -0.805073977088988,
          -0.7796611413702781,
          -0.7945717330797277,
          -0.7772134645236234,
          -0.7884385508447865,
          -0.7894110037154628,
          -0.7810526305262722,
          -0.7903589036589782,
          -0.7733559935073412,
          -0.771803894106295,
          -0.7802168814891379,
          -0.7743246918258755,
          -0.7884169011363944,
          -0.7991332544122937,
          -0.7983160165540887,
          -0.7894778198173286,
          -0.7804620954038692,
          -0.7981383371067082,
          -0.7985483466636942,
          -0.7996009197477818,
          -0.7867047271637886,
          -0.7832081761171439,
          -0.794993517839366,
          -0.7960607508941151,
          -0.7993044869719284,
          -0.7834520228008856,
          -0.7886927879645586,
          -0.7881925345378885,
          -0.7980296277802941,
          -0.7952861428843679,
          -0.7999897644209462,
          -0.7947931057922144,
          -0.7886427519909702,
          -0.7917843663012074,
          -0.7935216145882853,
          -0.7947335202888859,
          -0.7847446209398005,
          -0.7904987140805851,
          -0.7871209449915952,
          -0.8042322653483357,
          -0.7929181430378688,
          -0.7944591768780973,
          -0.7866782458163806,
          -0.7901601937788697,
          -0.7890286921106622,
          -0.7908997309083569,
          -0.7896650951540104,
          -0.79440742576246,
          -0.7956492821794932
         ]
        },
        {
         "name": "MSR basis",
         "type": "scatter",
         "x": [
          0,
          1,
          2,
          3,
          4,
          5,
          6,
          7,
          8,
          9,
          10,
          11,
          12,
          13,
          14,
          15,
          16,
          17,
          18,
          19,
          20,
          21,
          22,
          23,
          24,
          25,
          26,
          27,
          28,
          29,
          30,
          31,
          32,
          33,
          34,
          35,
          36,
          37,
          38,
          39,
          40,
          41,
          42,
          43,
          44,
          45,
          46,
          47,
          48,
          49,
          50,
          51,
          52,
          53,
          54,
          55,
          56,
          57,
          58,
          59,
          60,
          61,
          62,
          63,
          64,
          65,
          66,
          67,
          68,
          69,
          70,
          71,
          72,
          73,
          74,
          75,
          76,
          77,
          78,
          79,
          80,
          81,
          82,
          83,
          84,
          85,
          86,
          87,
          88,
          89,
          90,
          91,
          92,
          93,
          94,
          95,
          96,
          97,
          98,
          99,
          100,
          101,
          102,
          103,
          104,
          105,
          106,
          107,
          108,
          109,
          110,
          111,
          112,
          113,
          114,
          115,
          116,
          117,
          118,
          119,
          120,
          121,
          122,
          123,
          124,
          125,
          126,
          127,
          128,
          129,
          130,
          131,
          132,
          133,
          134,
          135,
          136,
          137,
          138,
          139,
          140,
          141,
          142,
          143,
          144,
          145,
          146,
          147,
          148,
          149,
          150,
          151,
          152,
          153,
          154,
          155,
          156,
          157,
          158,
          159,
          160,
          161,
          162,
          163,
          164,
          165,
          166,
          167,
          168,
          169,
          170,
          171,
          172,
          173,
          174,
          175,
          176,
          177,
          178,
          179,
          180,
          181,
          182,
          183,
          184,
          185,
          186,
          187,
          188,
          189,
          190,
          191,
          192,
          193,
          194,
          195,
          196,
          197,
          198,
          199,
          200,
          201,
          202,
          203,
          204,
          205,
          206,
          207,
          208,
          209,
          210,
          211,
          212,
          213,
          214,
          215,
          216,
          217,
          218,
          219,
          220,
          221,
          222,
          223,
          224,
          225,
          226,
          227,
          228,
          229,
          230,
          231,
          232,
          233,
          234,
          235,
          236,
          237,
          238,
          239,
          240,
          241,
          242,
          243,
          244,
          245,
          246,
          247,
          248,
          249,
          250,
          251,
          252,
          253,
          254,
          255,
          256,
          257,
          258,
          259,
          260,
          261,
          262,
          263,
          264,
          265,
          266,
          267,
          268,
          269,
          270,
          271,
          272,
          273,
          274,
          275,
          276,
          277,
          278,
          279,
          280,
          281,
          282,
          283,
          284,
          285,
          286,
          287,
          288,
          289,
          290,
          291,
          292,
          293,
          294,
          295,
          296,
          297,
          298,
          299,
          300,
          301,
          302,
          303,
          304,
          305,
          306,
          307,
          308,
          309,
          310,
          311,
          312,
          313,
          314,
          315,
          316,
          317,
          318,
          319,
          320,
          321,
          322,
          323,
          324,
          325,
          326,
          327,
          328,
          329,
          330,
          331,
          332,
          333,
          334,
          335,
          336,
          337,
          338,
          339,
          340,
          341,
          342,
          343,
          344,
          345,
          346,
          347,
          348,
          349,
          350,
          351,
          352,
          353,
          354,
          355,
          356,
          357,
          358,
          359,
          360,
          361,
          362,
          363,
          364,
          365,
          366,
          367,
          368,
          369,
          370,
          371,
          372,
          373,
          374,
          375,
          376,
          377,
          378,
          379,
          380,
          381,
          382,
          383,
          384,
          385,
          386,
          387,
          388,
          389,
          390,
          391,
          392,
          393,
          394,
          395,
          396,
          397,
          398,
          399,
          400,
          401,
          402,
          403,
          404,
          405,
          406,
          407,
          408,
          409,
          410,
          411,
          412,
          413,
          414,
          415,
          416,
          417,
          418,
          419,
          420,
          421,
          422,
          423,
          424,
          425,
          426,
          427,
          428,
          429,
          430,
          431,
          432,
          433,
          434,
          435,
          436,
          437,
          438,
          439,
          440,
          441,
          442,
          443,
          444,
          445,
          446,
          447,
          448,
          449,
          450,
          451,
          452,
          453,
          454,
          455,
          456,
          457,
          458,
          459,
          460,
          461,
          462,
          463,
          464,
          465,
          466,
          467,
          468,
          469,
          470,
          471,
          472,
          473,
          474,
          475,
          476,
          477,
          478,
          479,
          480,
          481,
          482,
          483,
          484,
          485,
          486,
          487,
          488,
          489,
          490,
          491,
          492,
          493,
          494,
          495,
          496,
          497,
          498,
          499
         ],
         "y": [
          0.759992225279029,
          0.7497048787162881,
          0.6997534483892167,
          0.6918834755929649,
          0.6927200780100837,
          0.7476481720392878,
          0.6020021535718856,
          0.48718487456453263,
          0.4716090661050514,
          0.5000803631279506,
          0.3591445281064802,
          0.41849001316733436,
          0.3792126875183225,
          0.30162351707559565,
          0.25553070905372166,
          0.2821609298226074,
          0.2925018011162991,
          0.20696869325095502,
          0.1872014210897659,
          0.1756918003175329,
          0.13331206864197387,
          0.12580029608878143,
          0.09656341444302621,
          0.10711955187400918,
          0.02675973054648844,
          0.022203852749719408,
          -0.012433858687308324,
          0.012197418899005018,
          -0.00801935200751376,
          -0.04225983310900072,
          -0.03225703563605857,
          -0.02820866364763554,
          -0.10991425734978014,
          -0.05284347257165102,
          -0.11517780701879335,
          -0.11695037105366388,
          -0.11504880282616697,
          -0.11980968934096999,
          -0.11145499646210276,
          -0.16183114217290273,
          -0.1627028042469786,
          -0.1952923422929178,
          -0.19210273946629255,
          -0.18973823266526832,
          -0.20648303931502815,
          -0.19878407753811364,
          -0.2209829500448649,
          -0.26639680503305285,
          -0.22518806303767658,
          -0.25172712716385626,
          -0.247439582574024,
          -0.283731080421434,
          -0.251363165049173,
          -0.2870604098750591,
          -0.2737103639522213,
          -0.29640987728625245,
          -0.3255883904073493,
          -0.31356111381716595,
          -0.34493445337539247,
          -0.33267866387791384,
          -0.3449149135361926,
          -0.34643797464073395,
          -0.35337361943992535,
          -0.34096671519536287,
          -0.3384667336134736,
          -0.35661600842762825,
          -0.38657611973957495,
          -0.3519348733029433,
          -0.4144750146446867,
          -0.3974963156952843,
          -0.3855010992143495,
          -0.3858271160173135,
          -0.359479746364117,
          -0.40813382623568023,
          -0.39926477717786424,
          -0.4399783862338448,
          -0.4231585081657525,
          -0.41425271100292194,
          -0.4338297771623218,
          -0.4657267214522947,
          -0.4506385604839538,
          -0.4378280703259511,
          -0.43264583017344205,
          -0.44789495489001335,
          -0.4446444121901924,
          -0.4451653633941205,
          -0.4669953391045608,
          -0.44213416649899084,
          -0.4720251456835568,
          -0.4590894619772144,
          -0.4707736721624167,
          -0.46230386126862794,
          -0.46908452077415447,
          -0.48873009389913746,
          -0.5364737477987532,
          -0.5050878232132616,
          -0.48765694460349723,
          -0.507940688675965,
          -0.49540395426142486,
          -0.5293024259791445,
          -0.5034094313239038,
          -0.5063013225651617,
          -0.5328339056308543,
          -0.5084580587132895,
          -0.5512412400099677,
          -0.5142132944741091,
          -0.5635948790273707,
          -0.5473511620182385,
          -0.5263655660081232,
          -0.5306110666633923,
          -0.5446616544478932,
          -0.5628774002908766,
          -0.5831100193595495,
          -0.550948005834802,
          -0.5374128424132733,
          -0.570887711630417,
          -0.5420354003333384,
          -0.5857173700936172,
          -0.5566872420160693,
          -0.5634055320927929,
          -0.5467833796138624,
          -0.5813954798822565,
          -0.5718146843701856,
          -0.5723936288218672,
          -0.6001292157488861,
          -0.5782490368026394,
          -0.5948164613335266,
          -0.5977564446333798,
          -0.5850758858298953,
          -0.6037876634319098,
          -0.5943708619072877,
          -0.6158573946558747,
          -0.5818102770108383,
          -0.6295245055039507,
          -0.6082493171841808,
          -0.616493873063969,
          -0.5947127744305342,
          -0.6064048855494442,
          -0.6017589003476113,
          -0.6128694713263179,
          -0.6449196462158209,
          -0.5972836253097361,
          -0.655467912668584,
          -0.6240111012570239,
          -0.6358087148233201,
          -0.6419796315105005,
          -0.6192274478181293,
          -0.6425636762736875,
          -0.6305995280170746,
          -0.6347495706762427,
          -0.6318283077033453,
          -0.6715232051362722,
          -0.6749709777380268,
          -0.6458197213795445,
          -0.6545381484419565,
          -0.6804338752498971,
          -0.6505509737903382,
          -0.663105587443011,
          -0.6685518196666841,
          -0.6700544431428487,
          -0.679454961482087,
          -0.6772794204391388,
          -0.6367402712919902,
          -0.6690570817533742,
          -0.6737407149656727,
          -0.6746466484929198,
          -0.6655782267658428,
          -0.6893536725115682,
          -0.6718272121945643,
          -0.6674655432825015,
          -0.6851970605803483,
          -0.6996834368981565,
          -0.6813451386937494,
          -0.6901046677544431,
          -0.6968503222890551,
          -0.678457887322295,
          -0.6912548378140624,
          -0.71475925046706,
          -0.7029642691812391,
          -0.6984573273103801,
          -0.7335941190363348,
          -0.7211983757534165,
          -0.7295571619544007,
          -0.7109291597550363,
          -0.7025559310134342,
          -0.7059474924211618,
          -0.7070208537782586,
          -0.7133196423548838,
          -0.7207109871558638,
          -0.715546053396513,
          -0.7154813281590204,
          -0.714606226128466,
          -0.7160525949651273,
          -0.6861503246068109,
          -0.68867336542171,
          -0.7226169290105643,
          -0.7256598669148635,
          -0.7287387182531081,
          -0.7421670486922312,
          -0.6924827238540036,
          -0.6984509429961772,
          -0.698371299226423,
          -0.7194720107677387,
          -0.7347052049787771,
          -0.7327388586413496,
          -0.696448682807713,
          -0.7527726115605794,
          -0.7492467767162783,
          -0.7572222099810912,
          -0.7070181542118067,
          -0.7538223701607577,
          -0.7512173157006359,
          -0.7135175832349081,
          -0.7206351577484761,
          -0.7075482728355611,
          -0.751579505720705,
          -0.7523209795039185,
          -0.7490333172227718,
          -0.7283701831673656,
          -0.755821656072154,
          -0.7567169779567124,
          -0.7616741609114086,
          -0.7249720424805826,
          -0.7273662564292092,
          -0.7469359293396082,
          -0.7460053286044546,
          -0.7559220335139788,
          -0.7200426207457694,
          -0.7322144396420986,
          -0.7541844705501601,
          -0.7352035449215004,
          -0.7747473867701816,
          -0.7394230594136632,
          -0.7476416941173011,
          -0.7650976759864266,
          -0.7472262817113612,
          -0.7714260983344498,
          -0.7557101616704252,
          -0.7713294697242062,
          -0.7787958269503732,
          -0.7768683787028208,
          -0.6970933158356375,
          -0.760325555400511,
          -0.7592490831938784,
          -0.7616660322659791,
          -0.7455833694672982,
          -0.7695770372430167,
          -0.7558788814799692,
          -0.7565809894245517,
          -0.7953468570343046,
          -0.7460814356866731,
          -0.7947811365233896,
          -0.7574636695133238,
          -0.7720508476520455,
          -0.7789470888679959,
          -0.768958787414595,
          -0.7645994009313403,
          -0.7600641515506058,
          -0.7839499205993394,
          -0.7841291849699853,
          -0.757477433849168,
          -0.7562489565758916,
          -0.7547976841727112,
          -0.7918003726469499,
          -0.7402136748441003,
          -0.762712884804973,
          -0.769507961706625,
          -0.7694367387315656,
          -0.8004195079296046,
          -0.7946034419657358,
          -0.7711262838556918,
          -0.7562902445904355,
          -0.7871881425373906,
          -0.7701913996136495,
          -0.7698295904928895,
          -0.7942156835527306,
          -0.7769033429065114,
          -0.7922851376997985,
          -0.797259126050492,
          -0.7558833689156013,
          -0.7936218262354684,
          -0.805387176936995,
          -0.7705769926832284,
          -0.7717891818400431,
          -0.7708145803736157,
          -0.7880655938552751,
          -0.7522205358477847,
          -0.7811754413236512,
          -0.8076011223642705,
          -0.8084604739561361,
          -0.8160817409235218,
          -0.80235593723275,
          -0.8326377566261274,
          -0.8043283031411788,
          -0.7845972152165753,
          -0.7821524972762475,
          -0.7957944766615146,
          -0.797253443142529,
          -0.7695342547909996,
          -0.7716593263223828,
          -0.7862899822988103,
          -0.7763558713150884,
          -0.7902232053015398,
          -0.7686802515168693,
          -0.785500546687732,
          -0.8091629901133017,
          -0.7532611038309835,
          -0.7921033951437335,
          -0.7893926561098538,
          -0.7958876747268595,
          -0.8389043821342552,
          -0.7963640935141131,
          -0.7999616255539125,
          -0.7636688801434695,
          -0.8186672860023442,
          -0.8003637294128801,
          -0.7765191590094499,
          -0.7637069495950346,
          -0.7590690381766191,
          -0.8137882765824621,
          -0.7916794138805321,
          -0.8253323508812188,
          -0.7982293810957256,
          -0.8299680962721797,
          -0.7713803130676025,
          -0.7676040471477539,
          -0.8240066005671175,
          -0.8152877757578855,
          -0.8071934878943287,
          -0.7934971089802711,
          -0.7834691525629538,
          -0.788913482190899,
          -0.8059327845259242,
          -0.7766526338515964,
          -0.8060349906876644,
          -0.7859227123778958,
          -0.7395612164245525,
          -0.8095329959360789,
          -0.8123874328705134,
          -0.7870672893784513,
          -0.7698978575833618,
          -0.7660774272583142,
          -0.8084998425422495,
          -0.7741478589419781,
          -0.7936883247929143,
          -0.7671845136725586,
          -0.8076399538407011,
          -0.7274067381076436,
          -0.8523210315081587,
          -0.7939642313790665,
          -0.7638220441244599,
          -0.7848275065665937,
          -0.750615368969249,
          -0.7725804086249255,
          -0.7861564805570288,
          -0.7966725195239234,
          -0.7586703546424189,
          -0.7667604087328616,
          -0.7979686666355276,
          -0.7632762646166729,
          -0.8035743770739346,
          -0.8005527999553619,
          -0.7826132685272833,
          -0.8208642853363285,
          -0.7937888897140616,
          -0.7927899765193387,
          -0.7774567317344058,
          -0.838114038610504,
          -0.8101565920109173,
          -0.8047037693890586,
          -0.7842704634581334,
          -0.7946532362537697,
          -0.7632318604435333,
          -0.7586779599860427,
          -0.7475552178336008,
          -0.7878518341459418,
          -0.7999871655471515,
          -0.794028003976492,
          -0.7485152310523895,
          -0.8295954110503435,
          -0.8334931317566028,
          -0.7328370573050844,
          -0.8267153182933042,
          -0.8153341113423904,
          -0.7738408523990439,
          -0.8285715617121306,
          -0.7984389338585256,
          -0.758471524776316,
          -0.8302189422912,
          -0.7466549765957502,
          -0.7733031746491478,
          -0.760501634526618,
          -0.8090831311269921,
          -0.7596168772146752,
          -0.7616827607549851,
          -0.7942525889003239,
          -0.7966829004052461,
          -0.7551678546814368,
          -0.7970340640698133,
          -0.8378445473303129,
          -0.827088820443835,
          -0.7874856070670684,
          -0.8401608735682685,
          -0.8557533080417733,
          -0.7973800086020217,
          -0.7807488849178685,
          -0.7932191847159539,
          -0.7607354976435045,
          -0.7930628643728181,
          -0.7777676615834402,
          -0.7354604597599984,
          -0.8263255974791848,
          -0.7214775512274505,
          -0.8107820294623607,
          -0.7828295591379597,
          -0.81417024927221,
          -0.7990096582563394,
          -0.8112453664972458,
          -0.7685854171850234,
          -0.7907799238008654,
          -0.747335978344247,
          -0.8248860967334609,
          -0.7619244070858141,
          -0.7904816027238686,
          -0.7379225017955168,
          -0.8218679112797492,
          -0.8861126311424481,
          -0.8149688194215663,
          -0.7969419746074783,
          -0.8805429990973551,
          -0.843260638656741,
          -0.7757096422363915,
          -0.8295235085601294,
          -0.7688783453470793,
          -0.7892232090832693,
          -0.734695549262524,
          -0.7615852810172565,
          -0.7643932730967952,
          -0.801005142109984,
          -0.7980510863075021,
          -0.8005025722555001,
          -0.7899152838878208,
          -0.7866829203836033,
          -0.7723953424999479,
          -0.8257116408619707,
          -0.826608883786055,
          -0.7660499418913456,
          -0.8158012920836066,
          -0.8519245367589695,
          -0.8273281015105753,
          -0.8667107184160115,
          -0.8443418452813107,
          -0.7171293749013574,
          -0.7651665097341799,
          -0.8164147114970313,
          -0.8110383766871384,
          -0.7773839200329853,
          -0.761800865108098,
          -0.7766714806238508,
          -0.7299780582624588,
          -0.7641387099826049,
          -0.7695133204007484,
          -0.8425704313294046,
          -0.7484632887565016,
          -0.72877025792062,
          -0.812868979932156,
          -0.8704446088448955,
          -0.8170748850865664,
          -0.8117725560347271,
          -0.8541676441026957,
          -0.8215487447698564,
          -0.8322810779895463,
          -0.7968434688831233,
          -0.8265907964540717,
          -0.7831710792871049,
          -0.8628516601249439,
          -0.7617046285742948,
          -0.7799842667964554,
          -0.7901507598516265,
          -0.8328772704734607,
          -0.8249997132222702,
          -0.8276441275509823,
          -0.8560134887755442,
          -0.8218168885387452,
          -0.7921362558528987,
          -0.7866379549456436,
          -0.8151862635457884,
          -0.794745123719949,
          -0.8098474318786417,
          -0.7630574966491181,
          -0.7192387628598212,
          -0.8281627238497086,
          -0.8198662360232317,
          -0.7970998268150931,
          -0.7972943819614704,
          -0.8145040774667003,
          -0.7939587922815099,
          -0.8241879635428244,
          -0.8086468104493268,
          -0.841835478129867
         ]
        }
       ],
       "layout": {
        "template": {
         "data": {
          "bar": [
           {
            "error_x": {
             "color": "rgb(36,36,36)"
            },
            "error_y": {
             "color": "rgb(36,36,36)"
            },
            "marker": {
             "line": {
              "color": "white",
              "width": 0.5
             },
             "pattern": {
              "fillmode": "overlay",
              "size": 10,
              "solidity": 0.2
             }
            },
            "type": "bar"
           }
          ],
          "barpolar": [
           {
            "marker": {
             "line": {
              "color": "white",
              "width": 0.5
             },
             "pattern": {
              "fillmode": "overlay",
              "size": 10,
              "solidity": 0.2
             }
            },
            "type": "barpolar"
           }
          ],
          "carpet": [
           {
            "aaxis": {
             "endlinecolor": "rgb(36,36,36)",
             "gridcolor": "white",
             "linecolor": "white",
             "minorgridcolor": "white",
             "startlinecolor": "rgb(36,36,36)"
            },
            "baxis": {
             "endlinecolor": "rgb(36,36,36)",
             "gridcolor": "white",
             "linecolor": "white",
             "minorgridcolor": "white",
             "startlinecolor": "rgb(36,36,36)"
            },
            "type": "carpet"
           }
          ],
          "choropleth": [
           {
            "colorbar": {
             "outlinewidth": 1,
             "tickcolor": "rgb(36,36,36)",
             "ticks": "outside"
            },
            "type": "choropleth"
           }
          ],
          "contour": [
           {
            "colorbar": {
             "outlinewidth": 1,
             "tickcolor": "rgb(36,36,36)",
             "ticks": "outside"
            },
            "colorscale": [
             [
              0,
              "#440154"
             ],
             [
              0.1111111111111111,
              "#482878"
             ],
             [
              0.2222222222222222,
              "#3e4989"
             ],
             [
              0.3333333333333333,
              "#31688e"
             ],
             [
              0.4444444444444444,
              "#26828e"
             ],
             [
              0.5555555555555556,
              "#1f9e89"
             ],
             [
              0.6666666666666666,
              "#35b779"
             ],
             [
              0.7777777777777778,
              "#6ece58"
             ],
             [
              0.8888888888888888,
              "#b5de2b"
             ],
             [
              1,
              "#fde725"
             ]
            ],
            "type": "contour"
           }
          ],
          "contourcarpet": [
           {
            "colorbar": {
             "outlinewidth": 1,
             "tickcolor": "rgb(36,36,36)",
             "ticks": "outside"
            },
            "type": "contourcarpet"
           }
          ],
          "heatmap": [
           {
            "colorbar": {
             "outlinewidth": 1,
             "tickcolor": "rgb(36,36,36)",
             "ticks": "outside"
            },
            "colorscale": [
             [
              0,
              "#440154"
             ],
             [
              0.1111111111111111,
              "#482878"
             ],
             [
              0.2222222222222222,
              "#3e4989"
             ],
             [
              0.3333333333333333,
              "#31688e"
             ],
             [
              0.4444444444444444,
              "#26828e"
             ],
             [
              0.5555555555555556,
              "#1f9e89"
             ],
             [
              0.6666666666666666,
              "#35b779"
             ],
             [
              0.7777777777777778,
              "#6ece58"
             ],
             [
              0.8888888888888888,
              "#b5de2b"
             ],
             [
              1,
              "#fde725"
             ]
            ],
            "type": "heatmap"
           }
          ],
          "heatmapgl": [
           {
            "colorbar": {
             "outlinewidth": 1,
             "tickcolor": "rgb(36,36,36)",
             "ticks": "outside"
            },
            "colorscale": [
             [
              0,
              "#440154"
             ],
             [
              0.1111111111111111,
              "#482878"
             ],
             [
              0.2222222222222222,
              "#3e4989"
             ],
             [
              0.3333333333333333,
              "#31688e"
             ],
             [
              0.4444444444444444,
              "#26828e"
             ],
             [
              0.5555555555555556,
              "#1f9e89"
             ],
             [
              0.6666666666666666,
              "#35b779"
             ],
             [
              0.7777777777777778,
              "#6ece58"
             ],
             [
              0.8888888888888888,
              "#b5de2b"
             ],
             [
              1,
              "#fde725"
             ]
            ],
            "type": "heatmapgl"
           }
          ],
          "histogram": [
           {
            "marker": {
             "line": {
              "color": "white",
              "width": 0.6
             }
            },
            "type": "histogram"
           }
          ],
          "histogram2d": [
           {
            "colorbar": {
             "outlinewidth": 1,
             "tickcolor": "rgb(36,36,36)",
             "ticks": "outside"
            },
            "colorscale": [
             [
              0,
              "#440154"
             ],
             [
              0.1111111111111111,
              "#482878"
             ],
             [
              0.2222222222222222,
              "#3e4989"
             ],
             [
              0.3333333333333333,
              "#31688e"
             ],
             [
              0.4444444444444444,
              "#26828e"
             ],
             [
              0.5555555555555556,
              "#1f9e89"
             ],
             [
              0.6666666666666666,
              "#35b779"
             ],
             [
              0.7777777777777778,
              "#6ece58"
             ],
             [
              0.8888888888888888,
              "#b5de2b"
             ],
             [
              1,
              "#fde725"
             ]
            ],
            "type": "histogram2d"
           }
          ],
          "histogram2dcontour": [
           {
            "colorbar": {
             "outlinewidth": 1,
             "tickcolor": "rgb(36,36,36)",
             "ticks": "outside"
            },
            "colorscale": [
             [
              0,
              "#440154"
             ],
             [
              0.1111111111111111,
              "#482878"
             ],
             [
              0.2222222222222222,
              "#3e4989"
             ],
             [
              0.3333333333333333,
              "#31688e"
             ],
             [
              0.4444444444444444,
              "#26828e"
             ],
             [
              0.5555555555555556,
              "#1f9e89"
             ],
             [
              0.6666666666666666,
              "#35b779"
             ],
             [
              0.7777777777777778,
              "#6ece58"
             ],
             [
              0.8888888888888888,
              "#b5de2b"
             ],
             [
              1,
              "#fde725"
             ]
            ],
            "type": "histogram2dcontour"
           }
          ],
          "mesh3d": [
           {
            "colorbar": {
             "outlinewidth": 1,
             "tickcolor": "rgb(36,36,36)",
             "ticks": "outside"
            },
            "type": "mesh3d"
           }
          ],
          "parcoords": [
           {
            "line": {
             "colorbar": {
              "outlinewidth": 1,
              "tickcolor": "rgb(36,36,36)",
              "ticks": "outside"
             }
            },
            "type": "parcoords"
           }
          ],
          "pie": [
           {
            "automargin": true,
            "type": "pie"
           }
          ],
          "scatter": [
           {
            "marker": {
             "colorbar": {
              "outlinewidth": 1,
              "tickcolor": "rgb(36,36,36)",
              "ticks": "outside"
             }
            },
            "type": "scatter"
           }
          ],
          "scatter3d": [
           {
            "line": {
             "colorbar": {
              "outlinewidth": 1,
              "tickcolor": "rgb(36,36,36)",
              "ticks": "outside"
             }
            },
            "marker": {
             "colorbar": {
              "outlinewidth": 1,
              "tickcolor": "rgb(36,36,36)",
              "ticks": "outside"
             }
            },
            "type": "scatter3d"
           }
          ],
          "scattercarpet": [
           {
            "marker": {
             "colorbar": {
              "outlinewidth": 1,
              "tickcolor": "rgb(36,36,36)",
              "ticks": "outside"
             }
            },
            "type": "scattercarpet"
           }
          ],
          "scattergeo": [
           {
            "marker": {
             "colorbar": {
              "outlinewidth": 1,
              "tickcolor": "rgb(36,36,36)",
              "ticks": "outside"
             }
            },
            "type": "scattergeo"
           }
          ],
          "scattergl": [
           {
            "marker": {
             "colorbar": {
              "outlinewidth": 1,
              "tickcolor": "rgb(36,36,36)",
              "ticks": "outside"
             }
            },
            "type": "scattergl"
           }
          ],
          "scattermapbox": [
           {
            "marker": {
             "colorbar": {
              "outlinewidth": 1,
              "tickcolor": "rgb(36,36,36)",
              "ticks": "outside"
             }
            },
            "type": "scattermapbox"
           }
          ],
          "scatterpolar": [
           {
            "marker": {
             "colorbar": {
              "outlinewidth": 1,
              "tickcolor": "rgb(36,36,36)",
              "ticks": "outside"
             }
            },
            "type": "scatterpolar"
           }
          ],
          "scatterpolargl": [
           {
            "marker": {
             "colorbar": {
              "outlinewidth": 1,
              "tickcolor": "rgb(36,36,36)",
              "ticks": "outside"
             }
            },
            "type": "scatterpolargl"
           }
          ],
          "scatterternary": [
           {
            "marker": {
             "colorbar": {
              "outlinewidth": 1,
              "tickcolor": "rgb(36,36,36)",
              "ticks": "outside"
             }
            },
            "type": "scatterternary"
           }
          ],
          "surface": [
           {
            "colorbar": {
             "outlinewidth": 1,
             "tickcolor": "rgb(36,36,36)",
             "ticks": "outside"
            },
            "colorscale": [
             [
              0,
              "#440154"
             ],
             [
              0.1111111111111111,
              "#482878"
             ],
             [
              0.2222222222222222,
              "#3e4989"
             ],
             [
              0.3333333333333333,
              "#31688e"
             ],
             [
              0.4444444444444444,
              "#26828e"
             ],
             [
              0.5555555555555556,
              "#1f9e89"
             ],
             [
              0.6666666666666666,
              "#35b779"
             ],
             [
              0.7777777777777778,
              "#6ece58"
             ],
             [
              0.8888888888888888,
              "#b5de2b"
             ],
             [
              1,
              "#fde725"
             ]
            ],
            "type": "surface"
           }
          ],
          "table": [
           {
            "cells": {
             "fill": {
              "color": "rgb(237,237,237)"
             },
             "line": {
              "color": "white"
             }
            },
            "header": {
             "fill": {
              "color": "rgb(217,217,217)"
             },
             "line": {
              "color": "white"
             }
            },
            "type": "table"
           }
          ]
         },
         "layout": {
          "annotationdefaults": {
           "arrowhead": 0,
           "arrowwidth": 1
          },
          "autotypenumbers": "strict",
          "coloraxis": {
           "colorbar": {
            "outlinewidth": 1,
            "tickcolor": "rgb(36,36,36)",
            "ticks": "outside"
           }
          },
          "colorscale": {
           "diverging": [
            [
             0,
             "rgb(103,0,31)"
            ],
            [
             0.1,
             "rgb(178,24,43)"
            ],
            [
             0.2,
             "rgb(214,96,77)"
            ],
            [
             0.3,
             "rgb(244,165,130)"
            ],
            [
             0.4,
             "rgb(253,219,199)"
            ],
            [
             0.5,
             "rgb(247,247,247)"
            ],
            [
             0.6,
             "rgb(209,229,240)"
            ],
            [
             0.7,
             "rgb(146,197,222)"
            ],
            [
             0.8,
             "rgb(67,147,195)"
            ],
            [
             0.9,
             "rgb(33,102,172)"
            ],
            [
             1,
             "rgb(5,48,97)"
            ]
           ],
           "sequential": [
            [
             0,
             "#440154"
            ],
            [
             0.1111111111111111,
             "#482878"
            ],
            [
             0.2222222222222222,
             "#3e4989"
            ],
            [
             0.3333333333333333,
             "#31688e"
            ],
            [
             0.4444444444444444,
             "#26828e"
            ],
            [
             0.5555555555555556,
             "#1f9e89"
            ],
            [
             0.6666666666666666,
             "#35b779"
            ],
            [
             0.7777777777777778,
             "#6ece58"
            ],
            [
             0.8888888888888888,
             "#b5de2b"
            ],
            [
             1,
             "#fde725"
            ]
           ],
           "sequentialminus": [
            [
             0,
             "#440154"
            ],
            [
             0.1111111111111111,
             "#482878"
            ],
            [
             0.2222222222222222,
             "#3e4989"
            ],
            [
             0.3333333333333333,
             "#31688e"
            ],
            [
             0.4444444444444444,
             "#26828e"
            ],
            [
             0.5555555555555556,
             "#1f9e89"
            ],
            [
             0.6666666666666666,
             "#35b779"
            ],
            [
             0.7777777777777778,
             "#6ece58"
            ],
            [
             0.8888888888888888,
             "#b5de2b"
            ],
            [
             1,
             "#fde725"
            ]
           ]
          },
          "colorway": [
           "#1F77B4",
           "#FF7F0E",
           "#2CA02C",
           "#D62728",
           "#9467BD",
           "#8C564B",
           "#E377C2",
           "#7F7F7F",
           "#BCBD22",
           "#17BECF"
          ],
          "font": {
           "color": "rgb(36,36,36)"
          },
          "geo": {
           "bgcolor": "white",
           "lakecolor": "white",
           "landcolor": "white",
           "showlakes": true,
           "showland": true,
           "subunitcolor": "white"
          },
          "hoverlabel": {
           "align": "left"
          },
          "hovermode": "closest",
          "mapbox": {
           "style": "light"
          },
          "paper_bgcolor": "white",
          "plot_bgcolor": "white",
          "polar": {
           "angularaxis": {
            "gridcolor": "rgb(232,232,232)",
            "linecolor": "rgb(36,36,36)",
            "showgrid": false,
            "showline": true,
            "ticks": "outside"
           },
           "bgcolor": "white",
           "radialaxis": {
            "gridcolor": "rgb(232,232,232)",
            "linecolor": "rgb(36,36,36)",
            "showgrid": false,
            "showline": true,
            "ticks": "outside"
           }
          },
          "scene": {
           "xaxis": {
            "backgroundcolor": "white",
            "gridcolor": "rgb(232,232,232)",
            "gridwidth": 2,
            "linecolor": "rgb(36,36,36)",
            "showbackground": true,
            "showgrid": false,
            "showline": true,
            "ticks": "outside",
            "zeroline": false,
            "zerolinecolor": "rgb(36,36,36)"
           },
           "yaxis": {
            "backgroundcolor": "white",
            "gridcolor": "rgb(232,232,232)",
            "gridwidth": 2,
            "linecolor": "rgb(36,36,36)",
            "showbackground": true,
            "showgrid": false,
            "showline": true,
            "ticks": "outside",
            "zeroline": false,
            "zerolinecolor": "rgb(36,36,36)"
           },
           "zaxis": {
            "backgroundcolor": "white",
            "gridcolor": "rgb(232,232,232)",
            "gridwidth": 2,
            "linecolor": "rgb(36,36,36)",
            "showbackground": true,
            "showgrid": false,
            "showline": true,
            "ticks": "outside",
            "zeroline": false,
            "zerolinecolor": "rgb(36,36,36)"
           }
          },
          "shapedefaults": {
           "fillcolor": "black",
           "line": {
            "width": 0
           },
           "opacity": 0.3
          },
          "ternary": {
           "aaxis": {
            "gridcolor": "rgb(232,232,232)",
            "linecolor": "rgb(36,36,36)",
            "showgrid": false,
            "showline": true,
            "ticks": "outside"
           },
           "baxis": {
            "gridcolor": "rgb(232,232,232)",
            "linecolor": "rgb(36,36,36)",
            "showgrid": false,
            "showline": true,
            "ticks": "outside"
           },
           "bgcolor": "white",
           "caxis": {
            "gridcolor": "rgb(232,232,232)",
            "linecolor": "rgb(36,36,36)",
            "showgrid": false,
            "showline": true,
            "ticks": "outside"
           }
          },
          "title": {
           "x": 0.05
          },
          "xaxis": {
           "automargin": true,
           "gridcolor": "rgb(232,232,232)",
           "linecolor": "rgb(36,36,36)",
           "showgrid": false,
           "showline": true,
           "ticks": "outside",
           "title": {
            "standoff": 15
           },
           "zeroline": false,
           "zerolinecolor": "rgb(36,36,36)"
          },
          "yaxis": {
           "automargin": true,
           "gridcolor": "rgb(232,232,232)",
           "linecolor": "rgb(36,36,36)",
           "showgrid": false,
           "showline": true,
           "ticks": "outside",
           "title": {
            "standoff": 15
           },
           "zeroline": false,
           "zerolinecolor": "rgb(36,36,36)"
          }
         }
        },
        "title": {
         "text": "<b>S-S model </b>, L=8, J2 =1 , η=0.01, α=16, samples=1200"
        },
        "xaxis": {
         "mirror": true,
         "showline": true,
         "title": {
          "text": "Iteration"
         }
        },
        "yaxis": {
         "mirror": true,
         "showline": true,
         "title": {
          "text": "Energy"
         }
        }
       }
      },
      "text/html": [
       "<div>                            <div id=\"f3b8426f-7016-479e-8402-386da7978be5\" class=\"plotly-graph-div\" style=\"height:525px; width:100%;\"></div>            <script type=\"text/javascript\">                require([\"plotly\"], function(Plotly) {                    window.PLOTLYENV=window.PLOTLYENV || {};                                    if (document.getElementById(\"f3b8426f-7016-479e-8402-386da7978be5\")) {                    Plotly.newPlot(                        \"f3b8426f-7016-479e-8402-386da7978be5\",                        [{\"line\":{\"color\":\"#000000\",\"width\":1},\"mode\":\"lines\",\"name\":\"exact energy\",\"type\":\"scatter\",\"x\":[0,500],\"y\":[-12.00000000000001,-12.00000000000001]},{\"name\":\"normal basis\",\"type\":\"scatter\",\"x\":[0,1,2,3,4,5,6,7,8,9,10,11,12,13,14,15,16,17,18,19,20,21,22,23,24,25,26,27,28,29,30,31,32,33,34,35,36,37,38,39,40,41,42,43,44,45,46,47,48,49,50,51,52,53,54,55,56,57,58,59,60,61,62,63,64,65,66,67,68,69,70,71,72,73,74,75,76,77,78,79,80,81,82,83,84,85,86,87,88,89,90,91,92,93,94,95,96,97,98,99,100,101,102,103,104,105,106,107,108,109,110,111,112,113,114,115,116,117,118,119,120,121,122,123,124,125,126,127,128,129,130,131,132,133,134,135,136,137,138,139,140,141,142,143,144,145,146,147,148,149,150,151,152,153,154,155,156,157,158,159,160,161,162,163,164,165,166,167,168,169,170,171,172,173,174,175,176,177,178,179,180,181,182,183,184,185,186,187,188,189,190,191,192,193,194,195,196,197,198,199,200,201,202,203,204,205,206,207,208,209,210,211,212,213,214,215,216,217,218,219,220,221,222,223,224,225,226,227,228,229,230,231,232,233,234,235,236,237,238,239,240,241,242,243,244,245,246,247,248,249,250,251,252,253,254,255,256,257,258,259,260,261,262,263,264,265,266,267,268,269,270,271,272,273,274,275,276,277,278,279,280,281,282,283,284,285,286,287,288,289,290,291,292,293,294,295,296,297,298,299,300,301,302,303,304,305,306,307,308,309,310,311,312,313,314,315,316,317,318,319,320,321,322,323,324,325,326,327,328,329,330,331,332,333,334,335,336,337,338,339,340,341,342,343,344,345,346,347,348,349,350,351,352,353,354,355,356,357,358,359,360,361,362,363,364,365,366,367,368,369,370,371,372,373,374,375,376,377,378,379,380,381,382,383,384,385,386,387,388,389,390,391,392,393,394,395,396,397,398,399,400,401,402,403,404,405,406,407,408,409,410,411,412,413,414,415,416,417,418,419,420,421,422,423,424,425,426,427,428,429,430,431,432,433,434,435,436,437,438,439,440,441,442,443,444,445,446,447,448,449,450,451,452,453,454,455,456,457,458,459,460,461,462,463,464,465,466,467,468,469,470,471,472,473,474,475,476,477,478,479,480,481,482,483,484,485,486,487,488,489,490,491,492,493,494,495,496,497,498,499],\"y\":[7.199984515122312,7.199988997946324,7.199998558750486,7.200015074748434,7.199990214682597,7.199985809160198,7.199987729092267,7.20000081745379,7.199991929938191,7.200012073989465,7.199986386378614,7.200007036431436,7.200013422578211,7.199977298473885,7.200006711683066,7.199987494976254,7.200019691430556,7.200002525301645,7.200005072263803,7.199981920596722,7.200004792166862,7.199981586286725,7.200001681998508,7.199999675027963,7.199977252075357,7.200007077405126,7.200013729461319,7.199997974695325,7.2000026806244755,7.19999936332293,7.200000684568738,7.199982674073105,7.199999733092458,7.199996528489292,7.199995903447771,7.199983792213311,7.199994285470262,7.200012126445561,7.200005054195408,7.19999486143065,7.199995720300134,7.200006517420161,7.200021842082118,7.200011259118134,7.199991643683692,7.19999632110726,7.199998741529938,7.199991971185467,7.200014697346471,7.200018167665826,7.199994788900016,7.199989819161839,7.199982693365343,7.199996797097047,7.200027181221916,7.200022659171514,7.199993939859451,7.199981588094155,7.199968001366462,7.200004451174605,7.199995016733449,7.199994900910458,7.199946184473547,7.199989192897947,7.200006510914579,7.199968742551502,7.1999908759364954,7.200015880358636,7.2000070826125215,7.199991695837072,7.199994796967112,7.200033408315761,7.199991412605599,7.200026569760414,7.199998482803164,7.199991127896226,7.199981160897686,7.199997325452395,7.199950380017324,7.199989769528605,7.199969804350867,7.200019393181562,7.199935194580719,7.199980055298229,7.1999882129513715,7.1999281874814205,7.200030691405737,7.200039778162482,7.1999763983590706,7.2000408155564495,7.200031254057028,7.199959409553896,7.199953301420046,7.200049424648122,7.1999545797079465,7.1999702463776964,7.1999777974966985,7.1999720568631975,7.199980842195331,7.2000284105639185,7.200027589069332,7.199870730111064,7.200011718522453,7.200049640424425,7.200007944249138,7.1999498668554684,7.199976220126258,7.200011407821749,7.199971886447523,7.200014563484661,7.199955549961703,7.199952331700308,7.200059041300621,7.200076684546188,7.200077420841445,7.199975228494026,7.199895659071686,7.199885534681182,7.200022056596742,7.20011471459412,7.200056614554439,7.200040070883093,7.199877281412149,7.200042554181406,7.199914699874796,7.199959720117398,7.200020721160958,7.20007074744139,7.200077576601101,7.20005400530046,7.199870848790304,7.199874327340756,7.199925004125459,7.19991123425264,7.200008585371293,7.200068927622182,7.199765790827575,7.200022440271437,7.200026488736612,7.199961817755206,7.20001515360804,7.200017232768903,7.2000066316204965,7.199942084339806,7.199952156994681,7.200031888173658,7.200059063262425,7.199832303820777,7.19991826238999,7.199831857002601,7.199704416805744,7.200103979730867,7.199650329251314,7.199441111424109,7.199767246904138,7.199981782892531,7.1998505931051735,7.199626956851293,7.200160738544225,7.199950620054175,7.1997093376203205,7.199704889276365,7.199819559850946,7.2000271333356105,7.199452523783888,7.19900437706778,7.1996794811383165,7.200134830234453,7.198983381920868,7.200507854984459,7.200053687909661,7.200969899312853,7.200228063507532,7.200033381762115,7.199476804671252,7.200793861977876,7.199397261240192,7.199905741716707,7.198837472786393,7.199010343857735,7.198662114260194,7.200270465406918,7.200395283602784,7.198729033980043,7.198551669880445,7.201602774185031,7.202066905186024,7.200150775344725,7.198978540520384,7.201057207658215,7.2025689139541775,7.197916947502903,7.199599118956499,7.197671495312648,7.202158989349995,7.196605838825554,7.191975889477038,7.195455137449317,7.200213460581169,7.197656972003822,7.197837880569554,7.197208355610511,7.200059017429997,7.1939073064737284,7.191610854030536,7.186759846065287,7.196283939540627,7.189678584613079,7.195670956942262,7.188508804486119,7.202934326773193,7.197083968575266,7.201753839148503,7.1822272222308285,7.189764677871335,7.1809582389331235,7.1910160921158575,7.17152909409822,7.179546342401897,7.193744994817735,7.179509173061098,7.157356444498956,7.169677007207811,7.167884119340892,7.139130864045021,7.141113914186153,7.152554629475193,7.121875186416498,7.11384541274579,7.113602698364424,7.141509793229359,7.11287006628208,7.1178111528281445,7.05940781572718,7.067942203792203,7.052046095472749,7.0398038283308555,7.025832156167074,7.017290465778164,6.993124122163755,6.887651640728136,6.885031296737383,6.930393096012367,6.926916566826668,6.900264077553888,6.81021809640777,6.773491481629677,6.700248673184904,6.612954929687244,6.614174391208927,6.534056570793148,6.377827588473347,6.313836583940462,6.22507100543857,6.335157476177611,6.175251224769788,6.048699368067299,5.733307147401791,5.704970642137684,5.713371720875477,5.626036965499526,5.203662440986176,5.30217080035749,4.885727130185878,4.977089803367683,4.775976852743466,4.632291653407411,4.384160742839011,4.1218221024449075,3.8696640960851756,3.6624202127237067,3.832116122120689,3.5045354802726556,3.678317579976871,3.0213102522481248,2.9588993783974837,2.8071032415508417,2.7283803397336763,2.599098841801413,2.390542919513064,2.4395287389057083,2.311840210843697,2.0980028843227663,1.9697187945176602,1.9888995158569955,1.8189269652619253,1.6817397829588472,1.5413913409004967,1.5465385706066084,1.4924076266642743,1.3077680120348014,1.1839030350429225,1.3123283562417831,1.291503290645362,1.142050900189775,1.1654080545727346,1.1037774368608273,1.132332217026282,1.012018690898689,0.9828826133569744,0.9338276149921877,0.8828539954857965,0.9135512167199574,0.8458939581116471,0.8666816834844463,0.8293392404708021,0.801657933103021,0.8065805408141058,0.7311151486674754,0.7561767214435691,0.6514392180986875,0.6785330890366366,0.6469067607754497,0.6271075877050019,0.574528441428771,0.5422744328339512,0.5292346221154736,0.5127353877619706,0.5163032386633923,0.5674752249897002,0.4411934422657878,0.4709051370437927,0.4125393673783798,0.4329292477132556,0.45685377046524417,0.4213733307301782,0.3964192272427168,0.3849713359171301,0.317049111340326,0.3067750626972365,0.33863429296446007,0.251031273408103,0.2507006028460877,0.18250138041004918,0.20298986016681508,0.2378160681804367,0.16492021755321687,0.20459115999558863,0.05992141845877375,0.0687932343680252,0.016228611175361285,0.10232567142539624,-0.052456145934928616,0.031650057872928856,0.08338853919582698,0.01903709459127498,-0.09040656491916131,-0.03921173472726956,-0.07768009682970312,-0.1346335753485952,-0.12038094230960836,-0.14605369769457707,-0.0832501060628618,-0.08982293772358674,-0.18163709188735938,-0.29471840120554127,-0.22787873949647033,-0.3011972046739223,-0.15454558841962374,-0.12285902932218976,-0.16680820871862487,-0.06160568949087375,-0.3168919849151195,-0.23861839893800854,-0.410372803952662,-0.1997675863976816,-0.2692441213353767,-0.1912745711851562,-0.5151689477320122,-0.40780411946095374,-0.5000448070583586,-0.5747228207236875,-0.2910626081999286,-0.49362657594623766,-0.45086016319779315,-0.42158312342454773,-0.4618407522826862,-0.6505709913743535,-0.38219570529268654,-0.7322672281030762,-0.6263826904018974,-0.6753266464887379,-0.7285354898473761,-0.6698274274895091,-0.5976576632567109,-0.6552377262481109,-0.5928123236032349,-0.5305462008376374,-0.36690625415274664,-0.5502193803215236,-0.707980735573846,-0.7577203806488092,-0.5622454369730666,-0.7061729998967242,-0.7479074803464352,-0.5426181094875657,-0.5008973092555213,-0.5233726971136702,-0.6051587256740711,-0.726661241140759,-0.8143190750322695,-0.8495100354840054,-0.8224135501608683,-0.7805473905294641,-0.8360141861061511,-0.7609923522875826,-0.6996351426627122,-0.8053324442400993,-0.8479051483181439,-0.7481890133205688,-0.7408199504461437,-0.7861669139831619,-0.7511963399394701,-0.8727590849500418,-0.8124804921794743,-0.856596068057924,-0.8171965594691349,-0.8449732130362172,-0.8592186538026116,-0.7985957925612703,-0.8471172334712068,-0.76934794635637,-0.7700146508784728,-0.8324748283789998,-0.8361964635024005,-0.8191040871731056,-0.8591270532113432,-0.8395882381122549,-0.8040315077943464,-0.8152999363989398,-0.8222219125816,-0.8226411404387917,-0.8284427676652332,-0.8375571150372773,-0.8216915860860754,-0.8435478750604897,-0.8083906951831507,-0.8107890228163499,-0.8407688291008716,-0.8332105560228509,-0.8013268540516938,-0.8131242719153001,-0.8145292811344856,-0.8305752773068,-0.8364218751431437,-0.8462387767180634,-0.8306840605492098,-0.8087729912354025,-0.8163387474313194,-0.842445839454293,-0.8206014945064154,-0.805073977088988,-0.7796611413702781,-0.7945717330797277,-0.7772134645236234,-0.7884385508447865,-0.7894110037154628,-0.7810526305262722,-0.7903589036589782,-0.7733559935073412,-0.771803894106295,-0.7802168814891379,-0.7743246918258755,-0.7884169011363944,-0.7991332544122937,-0.7983160165540887,-0.7894778198173286,-0.7804620954038692,-0.7981383371067082,-0.7985483466636942,-0.7996009197477818,-0.7867047271637886,-0.7832081761171439,-0.794993517839366,-0.7960607508941151,-0.7993044869719284,-0.7834520228008856,-0.7886927879645586,-0.7881925345378885,-0.7980296277802941,-0.7952861428843679,-0.7999897644209462,-0.7947931057922144,-0.7886427519909702,-0.7917843663012074,-0.7935216145882853,-0.7947335202888859,-0.7847446209398005,-0.7904987140805851,-0.7871209449915952,-0.8042322653483357,-0.7929181430378688,-0.7944591768780973,-0.7866782458163806,-0.7901601937788697,-0.7890286921106622,-0.7908997309083569,-0.7896650951540104,-0.79440742576246,-0.7956492821794932]},{\"name\":\"MSR basis\",\"type\":\"scatter\",\"x\":[0,1,2,3,4,5,6,7,8,9,10,11,12,13,14,15,16,17,18,19,20,21,22,23,24,25,26,27,28,29,30,31,32,33,34,35,36,37,38,39,40,41,42,43,44,45,46,47,48,49,50,51,52,53,54,55,56,57,58,59,60,61,62,63,64,65,66,67,68,69,70,71,72,73,74,75,76,77,78,79,80,81,82,83,84,85,86,87,88,89,90,91,92,93,94,95,96,97,98,99,100,101,102,103,104,105,106,107,108,109,110,111,112,113,114,115,116,117,118,119,120,121,122,123,124,125,126,127,128,129,130,131,132,133,134,135,136,137,138,139,140,141,142,143,144,145,146,147,148,149,150,151,152,153,154,155,156,157,158,159,160,161,162,163,164,165,166,167,168,169,170,171,172,173,174,175,176,177,178,179,180,181,182,183,184,185,186,187,188,189,190,191,192,193,194,195,196,197,198,199,200,201,202,203,204,205,206,207,208,209,210,211,212,213,214,215,216,217,218,219,220,221,222,223,224,225,226,227,228,229,230,231,232,233,234,235,236,237,238,239,240,241,242,243,244,245,246,247,248,249,250,251,252,253,254,255,256,257,258,259,260,261,262,263,264,265,266,267,268,269,270,271,272,273,274,275,276,277,278,279,280,281,282,283,284,285,286,287,288,289,290,291,292,293,294,295,296,297,298,299,300,301,302,303,304,305,306,307,308,309,310,311,312,313,314,315,316,317,318,319,320,321,322,323,324,325,326,327,328,329,330,331,332,333,334,335,336,337,338,339,340,341,342,343,344,345,346,347,348,349,350,351,352,353,354,355,356,357,358,359,360,361,362,363,364,365,366,367,368,369,370,371,372,373,374,375,376,377,378,379,380,381,382,383,384,385,386,387,388,389,390,391,392,393,394,395,396,397,398,399,400,401,402,403,404,405,406,407,408,409,410,411,412,413,414,415,416,417,418,419,420,421,422,423,424,425,426,427,428,429,430,431,432,433,434,435,436,437,438,439,440,441,442,443,444,445,446,447,448,449,450,451,452,453,454,455,456,457,458,459,460,461,462,463,464,465,466,467,468,469,470,471,472,473,474,475,476,477,478,479,480,481,482,483,484,485,486,487,488,489,490,491,492,493,494,495,496,497,498,499],\"y\":[0.759992225279029,0.7497048787162881,0.6997534483892167,0.6918834755929649,0.6927200780100837,0.7476481720392878,0.6020021535718856,0.48718487456453263,0.4716090661050514,0.5000803631279506,0.3591445281064802,0.41849001316733436,0.3792126875183225,0.30162351707559565,0.25553070905372166,0.2821609298226074,0.2925018011162991,0.20696869325095502,0.1872014210897659,0.1756918003175329,0.13331206864197387,0.12580029608878143,0.09656341444302621,0.10711955187400918,0.02675973054648844,0.022203852749719408,-0.012433858687308324,0.012197418899005018,-0.00801935200751376,-0.04225983310900072,-0.03225703563605857,-0.02820866364763554,-0.10991425734978014,-0.05284347257165102,-0.11517780701879335,-0.11695037105366388,-0.11504880282616697,-0.11980968934096999,-0.11145499646210276,-0.16183114217290273,-0.1627028042469786,-0.1952923422929178,-0.19210273946629255,-0.18973823266526832,-0.20648303931502815,-0.19878407753811364,-0.2209829500448649,-0.26639680503305285,-0.22518806303767658,-0.25172712716385626,-0.247439582574024,-0.283731080421434,-0.251363165049173,-0.2870604098750591,-0.2737103639522213,-0.29640987728625245,-0.3255883904073493,-0.31356111381716595,-0.34493445337539247,-0.33267866387791384,-0.3449149135361926,-0.34643797464073395,-0.35337361943992535,-0.34096671519536287,-0.3384667336134736,-0.35661600842762825,-0.38657611973957495,-0.3519348733029433,-0.4144750146446867,-0.3974963156952843,-0.3855010992143495,-0.3858271160173135,-0.359479746364117,-0.40813382623568023,-0.39926477717786424,-0.4399783862338448,-0.4231585081657525,-0.41425271100292194,-0.4338297771623218,-0.4657267214522947,-0.4506385604839538,-0.4378280703259511,-0.43264583017344205,-0.44789495489001335,-0.4446444121901924,-0.4451653633941205,-0.4669953391045608,-0.44213416649899084,-0.4720251456835568,-0.4590894619772144,-0.4707736721624167,-0.46230386126862794,-0.46908452077415447,-0.48873009389913746,-0.5364737477987532,-0.5050878232132616,-0.48765694460349723,-0.507940688675965,-0.49540395426142486,-0.5293024259791445,-0.5034094313239038,-0.5063013225651617,-0.5328339056308543,-0.5084580587132895,-0.5512412400099677,-0.5142132944741091,-0.5635948790273707,-0.5473511620182385,-0.5263655660081232,-0.5306110666633923,-0.5446616544478932,-0.5628774002908766,-0.5831100193595495,-0.550948005834802,-0.5374128424132733,-0.570887711630417,-0.5420354003333384,-0.5857173700936172,-0.5566872420160693,-0.5634055320927929,-0.5467833796138624,-0.5813954798822565,-0.5718146843701856,-0.5723936288218672,-0.6001292157488861,-0.5782490368026394,-0.5948164613335266,-0.5977564446333798,-0.5850758858298953,-0.6037876634319098,-0.5943708619072877,-0.6158573946558747,-0.5818102770108383,-0.6295245055039507,-0.6082493171841808,-0.616493873063969,-0.5947127744305342,-0.6064048855494442,-0.6017589003476113,-0.6128694713263179,-0.6449196462158209,-0.5972836253097361,-0.655467912668584,-0.6240111012570239,-0.6358087148233201,-0.6419796315105005,-0.6192274478181293,-0.6425636762736875,-0.6305995280170746,-0.6347495706762427,-0.6318283077033453,-0.6715232051362722,-0.6749709777380268,-0.6458197213795445,-0.6545381484419565,-0.6804338752498971,-0.6505509737903382,-0.663105587443011,-0.6685518196666841,-0.6700544431428487,-0.679454961482087,-0.6772794204391388,-0.6367402712919902,-0.6690570817533742,-0.6737407149656727,-0.6746466484929198,-0.6655782267658428,-0.6893536725115682,-0.6718272121945643,-0.6674655432825015,-0.6851970605803483,-0.6996834368981565,-0.6813451386937494,-0.6901046677544431,-0.6968503222890551,-0.678457887322295,-0.6912548378140624,-0.71475925046706,-0.7029642691812391,-0.6984573273103801,-0.7335941190363348,-0.7211983757534165,-0.7295571619544007,-0.7109291597550363,-0.7025559310134342,-0.7059474924211618,-0.7070208537782586,-0.7133196423548838,-0.7207109871558638,-0.715546053396513,-0.7154813281590204,-0.714606226128466,-0.7160525949651273,-0.6861503246068109,-0.68867336542171,-0.7226169290105643,-0.7256598669148635,-0.7287387182531081,-0.7421670486922312,-0.6924827238540036,-0.6984509429961772,-0.698371299226423,-0.7194720107677387,-0.7347052049787771,-0.7327388586413496,-0.696448682807713,-0.7527726115605794,-0.7492467767162783,-0.7572222099810912,-0.7070181542118067,-0.7538223701607577,-0.7512173157006359,-0.7135175832349081,-0.7206351577484761,-0.7075482728355611,-0.751579505720705,-0.7523209795039185,-0.7490333172227718,-0.7283701831673656,-0.755821656072154,-0.7567169779567124,-0.7616741609114086,-0.7249720424805826,-0.7273662564292092,-0.7469359293396082,-0.7460053286044546,-0.7559220335139788,-0.7200426207457694,-0.7322144396420986,-0.7541844705501601,-0.7352035449215004,-0.7747473867701816,-0.7394230594136632,-0.7476416941173011,-0.7650976759864266,-0.7472262817113612,-0.7714260983344498,-0.7557101616704252,-0.7713294697242062,-0.7787958269503732,-0.7768683787028208,-0.6970933158356375,-0.760325555400511,-0.7592490831938784,-0.7616660322659791,-0.7455833694672982,-0.7695770372430167,-0.7558788814799692,-0.7565809894245517,-0.7953468570343046,-0.7460814356866731,-0.7947811365233896,-0.7574636695133238,-0.7720508476520455,-0.7789470888679959,-0.768958787414595,-0.7645994009313403,-0.7600641515506058,-0.7839499205993394,-0.7841291849699853,-0.757477433849168,-0.7562489565758916,-0.7547976841727112,-0.7918003726469499,-0.7402136748441003,-0.762712884804973,-0.769507961706625,-0.7694367387315656,-0.8004195079296046,-0.7946034419657358,-0.7711262838556918,-0.7562902445904355,-0.7871881425373906,-0.7701913996136495,-0.7698295904928895,-0.7942156835527306,-0.7769033429065114,-0.7922851376997985,-0.797259126050492,-0.7558833689156013,-0.7936218262354684,-0.805387176936995,-0.7705769926832284,-0.7717891818400431,-0.7708145803736157,-0.7880655938552751,-0.7522205358477847,-0.7811754413236512,-0.8076011223642705,-0.8084604739561361,-0.8160817409235218,-0.80235593723275,-0.8326377566261274,-0.8043283031411788,-0.7845972152165753,-0.7821524972762475,-0.7957944766615146,-0.797253443142529,-0.7695342547909996,-0.7716593263223828,-0.7862899822988103,-0.7763558713150884,-0.7902232053015398,-0.7686802515168693,-0.785500546687732,-0.8091629901133017,-0.7532611038309835,-0.7921033951437335,-0.7893926561098538,-0.7958876747268595,-0.8389043821342552,-0.7963640935141131,-0.7999616255539125,-0.7636688801434695,-0.8186672860023442,-0.8003637294128801,-0.7765191590094499,-0.7637069495950346,-0.7590690381766191,-0.8137882765824621,-0.7916794138805321,-0.8253323508812188,-0.7982293810957256,-0.8299680962721797,-0.7713803130676025,-0.7676040471477539,-0.8240066005671175,-0.8152877757578855,-0.8071934878943287,-0.7934971089802711,-0.7834691525629538,-0.788913482190899,-0.8059327845259242,-0.7766526338515964,-0.8060349906876644,-0.7859227123778958,-0.7395612164245525,-0.8095329959360789,-0.8123874328705134,-0.7870672893784513,-0.7698978575833618,-0.7660774272583142,-0.8084998425422495,-0.7741478589419781,-0.7936883247929143,-0.7671845136725586,-0.8076399538407011,-0.7274067381076436,-0.8523210315081587,-0.7939642313790665,-0.7638220441244599,-0.7848275065665937,-0.750615368969249,-0.7725804086249255,-0.7861564805570288,-0.7966725195239234,-0.7586703546424189,-0.7667604087328616,-0.7979686666355276,-0.7632762646166729,-0.8035743770739346,-0.8005527999553619,-0.7826132685272833,-0.8208642853363285,-0.7937888897140616,-0.7927899765193387,-0.7774567317344058,-0.838114038610504,-0.8101565920109173,-0.8047037693890586,-0.7842704634581334,-0.7946532362537697,-0.7632318604435333,-0.7586779599860427,-0.7475552178336008,-0.7878518341459418,-0.7999871655471515,-0.794028003976492,-0.7485152310523895,-0.8295954110503435,-0.8334931317566028,-0.7328370573050844,-0.8267153182933042,-0.8153341113423904,-0.7738408523990439,-0.8285715617121306,-0.7984389338585256,-0.758471524776316,-0.8302189422912,-0.7466549765957502,-0.7733031746491478,-0.760501634526618,-0.8090831311269921,-0.7596168772146752,-0.7616827607549851,-0.7942525889003239,-0.7966829004052461,-0.7551678546814368,-0.7970340640698133,-0.8378445473303129,-0.827088820443835,-0.7874856070670684,-0.8401608735682685,-0.8557533080417733,-0.7973800086020217,-0.7807488849178685,-0.7932191847159539,-0.7607354976435045,-0.7930628643728181,-0.7777676615834402,-0.7354604597599984,-0.8263255974791848,-0.7214775512274505,-0.8107820294623607,-0.7828295591379597,-0.81417024927221,-0.7990096582563394,-0.8112453664972458,-0.7685854171850234,-0.7907799238008654,-0.747335978344247,-0.8248860967334609,-0.7619244070858141,-0.7904816027238686,-0.7379225017955168,-0.8218679112797492,-0.8861126311424481,-0.8149688194215663,-0.7969419746074783,-0.8805429990973551,-0.843260638656741,-0.7757096422363915,-0.8295235085601294,-0.7688783453470793,-0.7892232090832693,-0.734695549262524,-0.7615852810172565,-0.7643932730967952,-0.801005142109984,-0.7980510863075021,-0.8005025722555001,-0.7899152838878208,-0.7866829203836033,-0.7723953424999479,-0.8257116408619707,-0.826608883786055,-0.7660499418913456,-0.8158012920836066,-0.8519245367589695,-0.8273281015105753,-0.8667107184160115,-0.8443418452813107,-0.7171293749013574,-0.7651665097341799,-0.8164147114970313,-0.8110383766871384,-0.7773839200329853,-0.761800865108098,-0.7766714806238508,-0.7299780582624588,-0.7641387099826049,-0.7695133204007484,-0.8425704313294046,-0.7484632887565016,-0.72877025792062,-0.812868979932156,-0.8704446088448955,-0.8170748850865664,-0.8117725560347271,-0.8541676441026957,-0.8215487447698564,-0.8322810779895463,-0.7968434688831233,-0.8265907964540717,-0.7831710792871049,-0.8628516601249439,-0.7617046285742948,-0.7799842667964554,-0.7901507598516265,-0.8328772704734607,-0.8249997132222702,-0.8276441275509823,-0.8560134887755442,-0.8218168885387452,-0.7921362558528987,-0.7866379549456436,-0.8151862635457884,-0.794745123719949,-0.8098474318786417,-0.7630574966491181,-0.7192387628598212,-0.8281627238497086,-0.8198662360232317,-0.7970998268150931,-0.7972943819614704,-0.8145040774667003,-0.7939587922815099,-0.8241879635428244,-0.8086468104493268,-0.841835478129867]}],                        {\"template\":{\"data\":{\"bar\":[{\"error_x\":{\"color\":\"rgb(36,36,36)\"},\"error_y\":{\"color\":\"rgb(36,36,36)\"},\"marker\":{\"line\":{\"color\":\"white\",\"width\":0.5},\"pattern\":{\"fillmode\":\"overlay\",\"size\":10,\"solidity\":0.2}},\"type\":\"bar\"}],\"barpolar\":[{\"marker\":{\"line\":{\"color\":\"white\",\"width\":0.5},\"pattern\":{\"fillmode\":\"overlay\",\"size\":10,\"solidity\":0.2}},\"type\":\"barpolar\"}],\"carpet\":[{\"aaxis\":{\"endlinecolor\":\"rgb(36,36,36)\",\"gridcolor\":\"white\",\"linecolor\":\"white\",\"minorgridcolor\":\"white\",\"startlinecolor\":\"rgb(36,36,36)\"},\"baxis\":{\"endlinecolor\":\"rgb(36,36,36)\",\"gridcolor\":\"white\",\"linecolor\":\"white\",\"minorgridcolor\":\"white\",\"startlinecolor\":\"rgb(36,36,36)\"},\"type\":\"carpet\"}],\"choropleth\":[{\"colorbar\":{\"outlinewidth\":1,\"tickcolor\":\"rgb(36,36,36)\",\"ticks\":\"outside\"},\"type\":\"choropleth\"}],\"contour\":[{\"colorbar\":{\"outlinewidth\":1,\"tickcolor\":\"rgb(36,36,36)\",\"ticks\":\"outside\"},\"colorscale\":[[0.0,\"#440154\"],[0.1111111111111111,\"#482878\"],[0.2222222222222222,\"#3e4989\"],[0.3333333333333333,\"#31688e\"],[0.4444444444444444,\"#26828e\"],[0.5555555555555556,\"#1f9e89\"],[0.6666666666666666,\"#35b779\"],[0.7777777777777778,\"#6ece58\"],[0.8888888888888888,\"#b5de2b\"],[1.0,\"#fde725\"]],\"type\":\"contour\"}],\"contourcarpet\":[{\"colorbar\":{\"outlinewidth\":1,\"tickcolor\":\"rgb(36,36,36)\",\"ticks\":\"outside\"},\"type\":\"contourcarpet\"}],\"heatmap\":[{\"colorbar\":{\"outlinewidth\":1,\"tickcolor\":\"rgb(36,36,36)\",\"ticks\":\"outside\"},\"colorscale\":[[0.0,\"#440154\"],[0.1111111111111111,\"#482878\"],[0.2222222222222222,\"#3e4989\"],[0.3333333333333333,\"#31688e\"],[0.4444444444444444,\"#26828e\"],[0.5555555555555556,\"#1f9e89\"],[0.6666666666666666,\"#35b779\"],[0.7777777777777778,\"#6ece58\"],[0.8888888888888888,\"#b5de2b\"],[1.0,\"#fde725\"]],\"type\":\"heatmap\"}],\"heatmapgl\":[{\"colorbar\":{\"outlinewidth\":1,\"tickcolor\":\"rgb(36,36,36)\",\"ticks\":\"outside\"},\"colorscale\":[[0.0,\"#440154\"],[0.1111111111111111,\"#482878\"],[0.2222222222222222,\"#3e4989\"],[0.3333333333333333,\"#31688e\"],[0.4444444444444444,\"#26828e\"],[0.5555555555555556,\"#1f9e89\"],[0.6666666666666666,\"#35b779\"],[0.7777777777777778,\"#6ece58\"],[0.8888888888888888,\"#b5de2b\"],[1.0,\"#fde725\"]],\"type\":\"heatmapgl\"}],\"histogram\":[{\"marker\":{\"line\":{\"color\":\"white\",\"width\":0.6}},\"type\":\"histogram\"}],\"histogram2d\":[{\"colorbar\":{\"outlinewidth\":1,\"tickcolor\":\"rgb(36,36,36)\",\"ticks\":\"outside\"},\"colorscale\":[[0.0,\"#440154\"],[0.1111111111111111,\"#482878\"],[0.2222222222222222,\"#3e4989\"],[0.3333333333333333,\"#31688e\"],[0.4444444444444444,\"#26828e\"],[0.5555555555555556,\"#1f9e89\"],[0.6666666666666666,\"#35b779\"],[0.7777777777777778,\"#6ece58\"],[0.8888888888888888,\"#b5de2b\"],[1.0,\"#fde725\"]],\"type\":\"histogram2d\"}],\"histogram2dcontour\":[{\"colorbar\":{\"outlinewidth\":1,\"tickcolor\":\"rgb(36,36,36)\",\"ticks\":\"outside\"},\"colorscale\":[[0.0,\"#440154\"],[0.1111111111111111,\"#482878\"],[0.2222222222222222,\"#3e4989\"],[0.3333333333333333,\"#31688e\"],[0.4444444444444444,\"#26828e\"],[0.5555555555555556,\"#1f9e89\"],[0.6666666666666666,\"#35b779\"],[0.7777777777777778,\"#6ece58\"],[0.8888888888888888,\"#b5de2b\"],[1.0,\"#fde725\"]],\"type\":\"histogram2dcontour\"}],\"mesh3d\":[{\"colorbar\":{\"outlinewidth\":1,\"tickcolor\":\"rgb(36,36,36)\",\"ticks\":\"outside\"},\"type\":\"mesh3d\"}],\"parcoords\":[{\"line\":{\"colorbar\":{\"outlinewidth\":1,\"tickcolor\":\"rgb(36,36,36)\",\"ticks\":\"outside\"}},\"type\":\"parcoords\"}],\"pie\":[{\"automargin\":true,\"type\":\"pie\"}],\"scatter\":[{\"marker\":{\"colorbar\":{\"outlinewidth\":1,\"tickcolor\":\"rgb(36,36,36)\",\"ticks\":\"outside\"}},\"type\":\"scatter\"}],\"scatter3d\":[{\"line\":{\"colorbar\":{\"outlinewidth\":1,\"tickcolor\":\"rgb(36,36,36)\",\"ticks\":\"outside\"}},\"marker\":{\"colorbar\":{\"outlinewidth\":1,\"tickcolor\":\"rgb(36,36,36)\",\"ticks\":\"outside\"}},\"type\":\"scatter3d\"}],\"scattercarpet\":[{\"marker\":{\"colorbar\":{\"outlinewidth\":1,\"tickcolor\":\"rgb(36,36,36)\",\"ticks\":\"outside\"}},\"type\":\"scattercarpet\"}],\"scattergeo\":[{\"marker\":{\"colorbar\":{\"outlinewidth\":1,\"tickcolor\":\"rgb(36,36,36)\",\"ticks\":\"outside\"}},\"type\":\"scattergeo\"}],\"scattergl\":[{\"marker\":{\"colorbar\":{\"outlinewidth\":1,\"tickcolor\":\"rgb(36,36,36)\",\"ticks\":\"outside\"}},\"type\":\"scattergl\"}],\"scattermapbox\":[{\"marker\":{\"colorbar\":{\"outlinewidth\":1,\"tickcolor\":\"rgb(36,36,36)\",\"ticks\":\"outside\"}},\"type\":\"scattermapbox\"}],\"scatterpolar\":[{\"marker\":{\"colorbar\":{\"outlinewidth\":1,\"tickcolor\":\"rgb(36,36,36)\",\"ticks\":\"outside\"}},\"type\":\"scatterpolar\"}],\"scatterpolargl\":[{\"marker\":{\"colorbar\":{\"outlinewidth\":1,\"tickcolor\":\"rgb(36,36,36)\",\"ticks\":\"outside\"}},\"type\":\"scatterpolargl\"}],\"scatterternary\":[{\"marker\":{\"colorbar\":{\"outlinewidth\":1,\"tickcolor\":\"rgb(36,36,36)\",\"ticks\":\"outside\"}},\"type\":\"scatterternary\"}],\"surface\":[{\"colorbar\":{\"outlinewidth\":1,\"tickcolor\":\"rgb(36,36,36)\",\"ticks\":\"outside\"},\"colorscale\":[[0.0,\"#440154\"],[0.1111111111111111,\"#482878\"],[0.2222222222222222,\"#3e4989\"],[0.3333333333333333,\"#31688e\"],[0.4444444444444444,\"#26828e\"],[0.5555555555555556,\"#1f9e89\"],[0.6666666666666666,\"#35b779\"],[0.7777777777777778,\"#6ece58\"],[0.8888888888888888,\"#b5de2b\"],[1.0,\"#fde725\"]],\"type\":\"surface\"}],\"table\":[{\"cells\":{\"fill\":{\"color\":\"rgb(237,237,237)\"},\"line\":{\"color\":\"white\"}},\"header\":{\"fill\":{\"color\":\"rgb(217,217,217)\"},\"line\":{\"color\":\"white\"}},\"type\":\"table\"}]},\"layout\":{\"annotationdefaults\":{\"arrowhead\":0,\"arrowwidth\":1},\"autotypenumbers\":\"strict\",\"coloraxis\":{\"colorbar\":{\"outlinewidth\":1,\"tickcolor\":\"rgb(36,36,36)\",\"ticks\":\"outside\"}},\"colorscale\":{\"diverging\":[[0.0,\"rgb(103,0,31)\"],[0.1,\"rgb(178,24,43)\"],[0.2,\"rgb(214,96,77)\"],[0.3,\"rgb(244,165,130)\"],[0.4,\"rgb(253,219,199)\"],[0.5,\"rgb(247,247,247)\"],[0.6,\"rgb(209,229,240)\"],[0.7,\"rgb(146,197,222)\"],[0.8,\"rgb(67,147,195)\"],[0.9,\"rgb(33,102,172)\"],[1.0,\"rgb(5,48,97)\"]],\"sequential\":[[0.0,\"#440154\"],[0.1111111111111111,\"#482878\"],[0.2222222222222222,\"#3e4989\"],[0.3333333333333333,\"#31688e\"],[0.4444444444444444,\"#26828e\"],[0.5555555555555556,\"#1f9e89\"],[0.6666666666666666,\"#35b779\"],[0.7777777777777778,\"#6ece58\"],[0.8888888888888888,\"#b5de2b\"],[1.0,\"#fde725\"]],\"sequentialminus\":[[0.0,\"#440154\"],[0.1111111111111111,\"#482878\"],[0.2222222222222222,\"#3e4989\"],[0.3333333333333333,\"#31688e\"],[0.4444444444444444,\"#26828e\"],[0.5555555555555556,\"#1f9e89\"],[0.6666666666666666,\"#35b779\"],[0.7777777777777778,\"#6ece58\"],[0.8888888888888888,\"#b5de2b\"],[1.0,\"#fde725\"]]},\"colorway\":[\"#1F77B4\",\"#FF7F0E\",\"#2CA02C\",\"#D62728\",\"#9467BD\",\"#8C564B\",\"#E377C2\",\"#7F7F7F\",\"#BCBD22\",\"#17BECF\"],\"font\":{\"color\":\"rgb(36,36,36)\"},\"geo\":{\"bgcolor\":\"white\",\"lakecolor\":\"white\",\"landcolor\":\"white\",\"showlakes\":true,\"showland\":true,\"subunitcolor\":\"white\"},\"hoverlabel\":{\"align\":\"left\"},\"hovermode\":\"closest\",\"mapbox\":{\"style\":\"light\"},\"paper_bgcolor\":\"white\",\"plot_bgcolor\":\"white\",\"polar\":{\"angularaxis\":{\"gridcolor\":\"rgb(232,232,232)\",\"linecolor\":\"rgb(36,36,36)\",\"showgrid\":false,\"showline\":true,\"ticks\":\"outside\"},\"bgcolor\":\"white\",\"radialaxis\":{\"gridcolor\":\"rgb(232,232,232)\",\"linecolor\":\"rgb(36,36,36)\",\"showgrid\":false,\"showline\":true,\"ticks\":\"outside\"}},\"scene\":{\"xaxis\":{\"backgroundcolor\":\"white\",\"gridcolor\":\"rgb(232,232,232)\",\"gridwidth\":2,\"linecolor\":\"rgb(36,36,36)\",\"showbackground\":true,\"showgrid\":false,\"showline\":true,\"ticks\":\"outside\",\"zeroline\":false,\"zerolinecolor\":\"rgb(36,36,36)\"},\"yaxis\":{\"backgroundcolor\":\"white\",\"gridcolor\":\"rgb(232,232,232)\",\"gridwidth\":2,\"linecolor\":\"rgb(36,36,36)\",\"showbackground\":true,\"showgrid\":false,\"showline\":true,\"ticks\":\"outside\",\"zeroline\":false,\"zerolinecolor\":\"rgb(36,36,36)\"},\"zaxis\":{\"backgroundcolor\":\"white\",\"gridcolor\":\"rgb(232,232,232)\",\"gridwidth\":2,\"linecolor\":\"rgb(36,36,36)\",\"showbackground\":true,\"showgrid\":false,\"showline\":true,\"ticks\":\"outside\",\"zeroline\":false,\"zerolinecolor\":\"rgb(36,36,36)\"}},\"shapedefaults\":{\"fillcolor\":\"black\",\"line\":{\"width\":0},\"opacity\":0.3},\"ternary\":{\"aaxis\":{\"gridcolor\":\"rgb(232,232,232)\",\"linecolor\":\"rgb(36,36,36)\",\"showgrid\":false,\"showline\":true,\"ticks\":\"outside\"},\"baxis\":{\"gridcolor\":\"rgb(232,232,232)\",\"linecolor\":\"rgb(36,36,36)\",\"showgrid\":false,\"showline\":true,\"ticks\":\"outside\"},\"bgcolor\":\"white\",\"caxis\":{\"gridcolor\":\"rgb(232,232,232)\",\"linecolor\":\"rgb(36,36,36)\",\"showgrid\":false,\"showline\":true,\"ticks\":\"outside\"}},\"title\":{\"x\":0.05},\"xaxis\":{\"automargin\":true,\"gridcolor\":\"rgb(232,232,232)\",\"linecolor\":\"rgb(36,36,36)\",\"showgrid\":false,\"showline\":true,\"ticks\":\"outside\",\"title\":{\"standoff\":15},\"zeroline\":false,\"zerolinecolor\":\"rgb(36,36,36)\"},\"yaxis\":{\"automargin\":true,\"gridcolor\":\"rgb(232,232,232)\",\"linecolor\":\"rgb(36,36,36)\",\"showgrid\":false,\"showline\":true,\"ticks\":\"outside\",\"title\":{\"standoff\":15},\"zeroline\":false,\"zerolinecolor\":\"rgb(36,36,36)\"}}},\"title\":{\"text\":\"<b>S-S model </b>, L=8, J2 =1 , η=0.01, α=16, samples=1200\"},\"xaxis\":{\"mirror\":true,\"showline\":true,\"title\":{\"text\":\"Iteration\"}},\"yaxis\":{\"mirror\":true,\"showline\":true,\"title\":{\"text\":\"Energy\"}}},                        {\"responsive\": true}                    ).then(function(){\n",
       "                            \n",
       "var gd = document.getElementById('f3b8426f-7016-479e-8402-386da7978be5');\n",
       "var x = new MutationObserver(function (mutations, observer) {{\n",
       "        var display = window.getComputedStyle(gd).display;\n",
       "        if (!display || display === 'none') {{\n",
       "            console.log([gd, 'removed!']);\n",
       "            Plotly.purge(gd);\n",
       "            observer.disconnect();\n",
       "        }}\n",
       "}});\n",
       "\n",
       "// Listen for the removal of the full notebook cells\n",
       "var notebookContainer = gd.closest('#notebook-container');\n",
       "if (notebookContainer) {{\n",
       "    x.observe(notebookContainer, {childList: true});\n",
       "}}\n",
       "\n",
       "// Listen for the clearing of the current output cell\n",
       "var outputEl = gd.closest('.output');\n",
       "if (outputEl) {{\n",
       "    x.observe(outputEl, {childList: true});\n",
       "}}\n",
       "\n",
       "                        })                };                });            </script>        </div>"
      ]
     },
     "metadata": {},
     "output_type": "display_data"
    }
   ],
   "source": [
    "# import the data from log file\n",
    "OUT_NAME_suffixless=OUT_NAME\n",
    "data = []\n",
    "for i in range(no_of_runs):\n",
    "    data.append(json.load(open(OUT_NAME_suffixless+str(i)+\".log\")))\n",
    "names = [\"normal basis\",\"MSR basis\"]\n",
    "if DTYPE==np.complex128:\n",
    "    energy_convergence = [data[i][\"Energy\"][\"Mean\"][\"real\"] for i in range(no_of_runs)]\n",
    "    # DS_factor_convergence = [data[i][\"DS_factor\"][\"Mean\"][\"real\"] for i in range(no_of_runs)]\n",
    "else:\n",
    "    energy_convergence = [data[i][\"Energy\"][\"Mean\"] for i in range(no_of_runs)]\n",
    "    # DS_factor_convergence = [data[i][\"DS_factor\"][\"Mean\"] for i in range(no_of_runs)]\n",
    "for i in range(no_of_runs):\n",
    "    figure.add_trace(go.Scatter(\n",
    "        x=data[i][\"Energy\"][\"iters\"], y=energy_convergence[i],\n",
    "        name=names[i]\n",
    "    ))\n",
    "    # figure.add_trace(go.Scatter(\n",
    "    #     x=data[i][\"Energy\"][\"iters\"], y=DS_factor_convergence[i],\n",
    "    #     name=names[i]+\"_DS\"\n",
    "    # ))\n",
    "\n",
    "#figure.add_hline(y=exact_gs_energy)\n",
    "figure.update_layout(xaxis_title=\"Iteration\",yaxis_title=\"Energy\")\n",
    "figure.show()"
   ]
  },
  {
   "cell_type": "code",
   "execution_count": 190,
   "metadata": {},
   "outputs": [
    {
     "name": "stdout",
     "output_type": "stream",
     "text": [
      "0.2   1   -12.00000000000001   -0.7956492821794932   -0.841835478129867\n",
      "\n"
     ]
    }
   ],
   "source": [
    "sep=\"   \"\n",
    "print(str(JEXCH1)+sep+str(JEXCH2)+sep+str(exact_ground_energy)+sep+str(energy_convergence[0][NUM_ITER-1])+sep+str(energy_convergence[1][NUM_ITER-1])+\"\\n\")\n"
   ]
  },
  {
   "cell_type": "markdown",
   "metadata": {},
   "source": [
    "## Saving to file"
   ]
  },
  {
   "cell_type": "code",
   "execution_count": 191,
   "metadata": {},
   "outputs": [],
   "source": [
    "outFile = open(\"energies_complexRBM_N=\"+str(N)+\".txt\",\"a\")\n",
    "sep=\"   \"\n",
    "outFile.write(str(JEXCH1)+sep+str(JEXCH2)+sep+str(exact_ground_energy)+sep+str(energy_convergence[0][NUM_ITER-1])+sep+str(energy_convergence[1][NUM_ITER-1])+\"\\n\")\n",
    "outFile.close()"
   ]
  },
  {
   "cell_type": "markdown",
   "metadata": {},
   "source": [
    "## Feature filters"
   ]
  },
  {
   "cell_type": "code",
   "execution_count": 192,
   "metadata": {},
   "outputs": [],
   "source": [
    "# get filters for Symmetric Hamiltonian\n",
    "Filters = vs_MSR.parameters[\"Dense\"][\"kernel\"]"
   ]
  },
  {
   "cell_type": "code",
   "execution_count": 193,
   "metadata": {},
   "outputs": [
    {
     "name": "stdout",
     "output_type": "stream",
     "text": [
      "0.125\n",
      "(1, 8)\n"
     ]
    }
   ],
   "source": [
    "print(len(Filters)/g.n_nodes)\n",
    "print(Filters.shape)"
   ]
  },
  {
   "cell_type": "code",
   "execution_count": 194,
   "metadata": {},
   "outputs": [
    {
     "name": "stdout",
     "output_type": "stream",
     "text": [
      "max: (0.023341917030256728-0.11639290253196823j)    min: (-0.02345835441531539-0.11639806738827682j)     number of filters: 1\n"
     ]
    }
   ],
   "source": [
    "#calculation of extreme points for normalization\n",
    "no_of_filters = Filters.shape[0]\n",
    "maximal = max([max(Filters[i]) for i in range(no_of_filters)])\n",
    "minimal = min([min(Filters[i]) for i in range(no_of_filters)])\n",
    "print(\"max:\",maximal,\"   min:\",minimal, \"    number of filters:\",no_of_filters)\n",
    "extreme = max(abs(maximal),abs(minimal))"
   ]
  },
  {
   "cell_type": "code",
   "execution_count": 195,
   "metadata": {},
   "outputs": [
    {
     "ename": "TypeError",
     "evalue": "'AxesSubplot' object is not subscriptable",
     "output_type": "error",
     "traceback": [
      "\u001b[0;31m---------------------------------------------------------------------------\u001b[0m",
      "\u001b[0;31mTypeError\u001b[0m                                 Traceback (most recent call last)",
      "\u001b[0;32m/tmp/ipykernel_4774/3394658174.py\u001b[0m in \u001b[0;36m<module>\u001b[0;34m\u001b[0m\n\u001b[1;32m      5\u001b[0m \u001b[0mfig\u001b[0m\u001b[0;34m.\u001b[0m\u001b[0msuptitle\u001b[0m\u001b[0;34m(\u001b[0m\u001b[0;34m\"real value of filters of RBM with (all possible) symmetries without MSR\"\u001b[0m\u001b[0;34m,\u001b[0m \u001b[0mfontsize\u001b[0m\u001b[0;34m=\u001b[0m\u001b[0;36m20\u001b[0m\u001b[0;34m)\u001b[0m\u001b[0;34m\u001b[0m\u001b[0;34m\u001b[0m\u001b[0m\n\u001b[1;32m      6\u001b[0m \u001b[0;32mfor\u001b[0m \u001b[0ma\u001b[0m \u001b[0;32min\u001b[0m \u001b[0mrange\u001b[0m\u001b[0;34m(\u001b[0m\u001b[0mno_of_filters\u001b[0m\u001b[0;34m)\u001b[0m\u001b[0;34m:\u001b[0m\u001b[0;34m\u001b[0m\u001b[0;34m\u001b[0m\u001b[0m\n\u001b[0;32m----> 7\u001b[0;31m     \u001b[0mim\u001b[0m \u001b[0;34m=\u001b[0m \u001b[0maxs\u001b[0m\u001b[0;34m[\u001b[0m\u001b[0ma\u001b[0m\u001b[0;34m]\u001b[0m\u001b[0;34m.\u001b[0m\u001b[0mimshow\u001b[0m\u001b[0;34m(\u001b[0m\u001b[0mnp\u001b[0m\u001b[0;34m.\u001b[0m\u001b[0mreal\u001b[0m\u001b[0;34m(\u001b[0m\u001b[0mFilters\u001b[0m\u001b[0;34m[\u001b[0m\u001b[0ma\u001b[0m\u001b[0;34m]\u001b[0m\u001b[0;34m)\u001b[0m\u001b[0;34m.\u001b[0m\u001b[0mreshape\u001b[0m\u001b[0;34m(\u001b[0m\u001b[0mL_NUM\u001b[0m\u001b[0;34m,\u001b[0m\u001b[0mL_NUM\u001b[0m\u001b[0;34m)\u001b[0m\u001b[0;34m,\u001b[0m \u001b[0mcmap\u001b[0m\u001b[0;34m=\u001b[0m\u001b[0;34m\"RdYlBu\"\u001b[0m\u001b[0;34m,\u001b[0m \u001b[0mvmin\u001b[0m\u001b[0;34m=\u001b[0m\u001b[0;34m-\u001b[0m\u001b[0mextreme\u001b[0m\u001b[0;34m,\u001b[0m\u001b[0mvmax\u001b[0m\u001b[0;34m=\u001b[0m\u001b[0mextreme\u001b[0m\u001b[0;34m)\u001b[0m\u001b[0;31m#,interpolation=\"spline16\")\u001b[0m\u001b[0;34m\u001b[0m\u001b[0;34m\u001b[0m\u001b[0m\n\u001b[0m\u001b[1;32m      8\u001b[0m     \u001b[0maxs\u001b[0m\u001b[0;34m[\u001b[0m\u001b[0ma\u001b[0m\u001b[0;34m]\u001b[0m\u001b[0;34m.\u001b[0m\u001b[0mset_ylabel\u001b[0m\u001b[0;34m(\u001b[0m\u001b[0;34mr\"$W^{(\"\u001b[0m\u001b[0;34m+\u001b[0m\u001b[0mstr\u001b[0m\u001b[0;34m(\u001b[0m\u001b[0ma\u001b[0m\u001b[0;34m+\u001b[0m\u001b[0;36m1\u001b[0m\u001b[0;34m)\u001b[0m\u001b[0;34m+\u001b[0m\u001b[0;34mr\")}$\"\u001b[0m\u001b[0;34m,\u001b[0m \u001b[0mrotation\u001b[0m\u001b[0;34m=\u001b[0m\u001b[0;32mNone\u001b[0m\u001b[0;34m,\u001b[0m\u001b[0mfontsize\u001b[0m\u001b[0;34m=\u001b[0m\u001b[0;34m\"x-large\"\u001b[0m\u001b[0;34m,\u001b[0m\u001b[0mhorizontalalignment\u001b[0m\u001b[0;34m=\u001b[0m\u001b[0;34m\"right\"\u001b[0m\u001b[0;34m,\u001b[0m\u001b[0mverticalalignment\u001b[0m\u001b[0;34m=\u001b[0m\u001b[0;34m\"center\"\u001b[0m\u001b[0;34m)\u001b[0m\u001b[0;34m\u001b[0m\u001b[0;34m\u001b[0m\u001b[0m\n\u001b[1;32m      9\u001b[0m     \u001b[0maxs\u001b[0m\u001b[0;34m[\u001b[0m\u001b[0ma\u001b[0m\u001b[0;34m]\u001b[0m\u001b[0;34m.\u001b[0m\u001b[0mtick_params\u001b[0m\u001b[0;34m(\u001b[0m\u001b[0mleft\u001b[0m\u001b[0;34m=\u001b[0m\u001b[0;32mFalse\u001b[0m\u001b[0;34m,\u001b[0m \u001b[0mright\u001b[0m\u001b[0;34m=\u001b[0m\u001b[0;32mFalse\u001b[0m\u001b[0;34m,\u001b[0m \u001b[0mlabelleft\u001b[0m\u001b[0;34m=\u001b[0m\u001b[0;32mFalse\u001b[0m\u001b[0;34m,\u001b[0m \u001b[0mlabelbottom\u001b[0m\u001b[0;34m=\u001b[0m\u001b[0;32mFalse\u001b[0m\u001b[0;34m,\u001b[0m \u001b[0mbottom\u001b[0m\u001b[0;34m=\u001b[0m\u001b[0;32mFalse\u001b[0m\u001b[0;34m)\u001b[0m\u001b[0;34m\u001b[0m\u001b[0;34m\u001b[0m\u001b[0m\n",
      "\u001b[0;31mTypeError\u001b[0m: 'AxesSubplot' object is not subscriptable"
     ]
    },
    {
     "data": {
      "image/png": "[encoded data removed]",
      "text/plain": [
       "<Figure size 864x144 with 1 Axes>"
      ]
     },
     "metadata": {
      "needs_background": "light"
     },
     "output_type": "display_data"
    }
   ],
   "source": [
    "L_NUM = 4\n",
    "fig, axs = plt.subplots(1, no_of_filters, figsize=(12,2*no_of_filters))\n",
    "#fig.tight_layout(pad=.0)\n",
    "fig.subplots_adjust(top=1.9,bottom=0,wspace=.4)\n",
    "fig.suptitle(\"real value of filters of RBM with (all possible) symmetries without MSR\", fontsize=20)\n",
    "for a in range(no_of_filters):\n",
    "    im = axs[a].imshow(np.real(Filters[a]).reshape(L_NUM,L_NUM), cmap=\"RdYlBu\", vmin=-extreme,vmax=extreme)#,interpolation=\"spline16\")\n",
    "    axs[a].set_ylabel(r\"$W^{(\"+str(a+1)+r\")}$\", rotation=None,fontsize=\"x-large\",horizontalalignment=\"right\",verticalalignment=\"center\")\n",
    "    axs[a].tick_params(left=False, right=False, labelleft=False, labelbottom=False, bottom=False)\n",
    "\n",
    "# Now adding the colorbar\n",
    "cbar = fig.colorbar(im, ax=axs.ravel().tolist(), orientation=\"horizontal\", shrink=.4)\n",
    "\n",
    "plt.show()"
   ]
  }
 ],
 "metadata": {
  "interpreter": {
   "hash": "31f2aee4e71d21fbe5cf8b01ff0e069b9275f58929596ceb00d14d90e3e16cd6"
  },
  "kernelspec": {
   "display_name": "Python 3.8.10 64-bit",
   "name": "python3"
  },
  "language_info": {
   "codemirror_mode": {
    "name": "ipython",
    "version": 3
   },
   "file_extension": ".py",
   "mimetype": "text/x-python",
   "name": "python",
   "nbconvert_exporter": "python",
   "pygments_lexer": "ipython3",
   "version": "3.8.10"
  },
  "metadata": {
   "interpreter": {
    "hash": "916dbcbb3f70747c44a77c7bcd40155683ae19c65e1c03b4aa3499c5328201f1"
   }
  }
 },
 "nbformat": 4,
 "nbformat_minor": 4
}
